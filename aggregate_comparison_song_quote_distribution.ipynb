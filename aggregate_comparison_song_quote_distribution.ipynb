{
 "cells": [
  {
   "cell_type": "code",
   "execution_count": 1,
   "id": "8ffa426b",
   "metadata": {},
   "outputs": [],
   "source": [
    "import pandas as pd\n",
    "import db_connection\n",
    "import ast\n",
    "import re\n",
    "from collections import Counter\n",
    "\n",
    "import plotly.graph_objects as go\n",
    "#import matplotlib.pyplot as plt\n",
    "import networkx as nx\n",
    "\n",
    "from mysql.connector import Error\n",
    "import orgelpredigt_analysis as oa\n",
    "\n",
    "import json\n",
    "import os"
   ]
  },
  {
   "cell_type": "code",
   "execution_count": 11,
   "id": "eaf13451",
   "metadata": {},
   "outputs": [],
   "source": [
    "sermon = oa.Sermon(\"E000003\")"
   ]
  },
  {
   "cell_type": "code",
   "execution_count": 13,
   "id": "8d5c5684",
   "metadata": {},
   "outputs": [],
   "source": [
    "def create_song_dist_chart(ids):\n",
    "    chunked_text = [0]*102\n",
    "\n",
    "    for id in ids:\n",
    "        sermon = oa.Sermon(id)\n",
    "\n",
    "        dec = int(len(sermon.words) / 100)\n",
    "        overhang = len(sermon.words) % dec\n",
    "\n",
    "        for i, j in zip(range(0, len(sermon.words), dec), range(0, 101)):\n",
    "            types_unique = list(set(sermon.word_types[i:i+dec]))\n",
    "            types_str = \" \".join([x for x in types_unique if isinstance(x, str)])\n",
    "            if \"musikwerk\" in types_str:\n",
    "                musikwerk_test = 1\n",
    "            else:\n",
    "                musikwerk_test = 0\n",
    "            \n",
    "            chunked_text[j] = chunked_text[j] + musikwerk_test\n",
    "        \n",
    "        last_types_unique = list(set(sermon.word_types[-overhang:]))\n",
    "        last_types_str = \" \".join([x for x in last_types_unique if isinstance(x, str)])\n",
    "        if \"musikwerk\" in last_types_str:\n",
    "            last_musikwerk_test = 1\n",
    "        else:\n",
    "            last_musikwerk_test = 0\n",
    "        \n",
    "        chunked_text[-1] = chunked_text[-1] + last_musikwerk_test\n",
    "\n",
    "    song_occ_fig = go.Figure()\n",
    "\n",
    "    for i in range(0, len(chunked_text)):\n",
    "        gradient = chunked_text[i] * 15\n",
    "        color = f'rgb({max(250-gradient, 0)},{max(250-gradient, 0)},{max(250-gradient, 0)})'\n",
    "        song_occ_fig.add_trace(go.Bar(\n",
    "            x = [\"Liedzitate je Predigttextprozent\"],\n",
    "            y = [100],\n",
    "            marker_color = color,\n",
    "            hovertemplate=f'{chunked_text[i]} Lied(er) im {i+1}%'\n",
    "        ))\n",
    "\n",
    "    song_occ_fig.update_layout(width=1500,height=500, showlegend=False)\n",
    "        \n",
    "    return song_occ_fig"
   ]
  },
  {
   "cell_type": "code",
   "execution_count": 7,
   "id": "850ea01b",
   "metadata": {},
   "outputs": [],
   "source": [
    "# Get the list of all sermons\n",
    "with open(\"predigten_übersicht.json\", \"r\", encoding=\"utf-8\") as file: \n",
    "    data = json.load(file)\n",
    "ids = list(data.keys())"
   ]
  },
  {
   "cell_type": "code",
   "execution_count": 14,
   "id": "a6201b6a",
   "metadata": {},
   "outputs": [
    {
     "name": "stdout",
     "output_type": "stream",
     "text": [
      "Query executed for E100155, but no data found.\n",
      "Query executed for E100194, but no data found.\n",
      "Query executed for E030057 (Ortsteil Neustadt), but no data found.\n",
      "Query executed for E100170, but no data found.\n",
      "Query executed for E081115, but no data found.\n",
      "Query executed for E081114, but no data found.\n",
      "Query executed for E100191, but no data found.\n",
      "Query executed for E081113, but no data found.\n",
      "Query executed for E081111, but no data found.\n",
      "Query executed for E080914, but no data found.\n",
      "Query executed for E081088, but no data found.\n",
      "Query executed for E081093, but no data found.\n",
      "Query executed for E081104, but no data found.\n",
      "Query executed for E081108, but no data found.\n",
      "Query executed for E081092, but no data found.\n",
      "Query executed for E081098, but no data found.\n",
      "Query executed for E081100, but no data found.\n",
      "Query executed for E081062, but no data found.\n",
      "Query executed for E081083, but no data found.\n",
      "Query executed for E091110, but no data found.\n",
      "Query executed for E100186, but no data found.\n",
      "Query executed for E081101, but no data found.\n",
      "Query executed for E100149, but no data found.\n",
      "Query executed for E080922, but no data found.\n",
      "Query executed for E081103, but no data found.\n",
      "Query executed for E081096, but no data found.\n",
      "Query executed for E081084, but no data found.\n",
      "Query executed for E081089, but no data found.\n",
      "Query executed for E100190, but no data found.\n",
      "Query executed for E100187, but no data found.\n",
      "Query executed for E100189, but no data found.\n",
      "Query executed for E081107, but no data found.\n",
      "Query executed for E081091, but no data found.\n",
      "Query executed for E081086, but no data found.\n",
      "Query executed for E081090, but no data found.\n",
      "Query executed for E100188, but no data found.\n",
      "Query executed for E081099, but no data found.\n",
      "Query executed for E081097, but no data found.\n",
      "Query executed for E100180, but no data found.\n",
      "Query executed for E100173, but no data found.\n",
      "Query executed for E081059, but no data found.\n",
      "Query executed for E081067, but no data found.\n",
      "Query executed for E100174, but no data found.\n",
      "Query executed for E100176, but no data found.\n",
      "Query executed for E081065, but no data found.\n",
      "Query executed for E100178, but no data found.\n",
      "Query executed for E080981, but no data found.\n",
      "Query executed for E100182, but no data found.\n",
      "Query executed for E081061, but no data found.\n",
      "Query executed for E091098, but no data found.\n",
      "Query executed for E081062, but no data found.\n",
      "Query executed for E100158, but no data found.\n",
      "Query executed for E081073, but no data found.\n",
      "Query executed for E081064, but no data found.\n",
      "Query executed for E081072, but no data found.\n",
      "Query executed for E081071, but no data found.\n",
      "Query executed for E080951, but no data found.\n",
      "Query executed for E100177, but no data found.\n",
      "Query executed for E100185, but no data found.\n",
      "Query executed for E081066, but no data found.\n",
      "Query executed for E080921, but no data found.\n",
      "Query executed for E081060, but no data found.\n",
      "Query executed for E081058, but no data found.\n",
      "Query executed for E081063, but no data found.\n",
      "Query executed for E100184, but no data found.\n",
      "Query executed for E080938, but no data found.\n",
      "Query executed for E100183, but no data found.\n",
      "Query executed for E100179, but no data found.\n",
      "Query executed for E081068, but no data found.\n",
      "Query executed for E081074, but no data found.\n",
      "Query executed for E100175, but no data found.\n",
      "Query executed for E081069, but no data found.\n",
      "Query executed for E100181, but no data found.\n",
      "Query executed for E100148, but no data found.\n",
      "Query executed for E081055, but no data found.\n",
      "Query executed for E100171, but no data found.\n",
      "Query executed for E100149, but no data found.\n",
      "Query executed for E081056, but no data found.\n",
      "Query executed for E081053, but no data found.\n",
      "Query executed for E081054, but no data found.\n",
      "Query executed for E100172, but no data found.\n",
      "Query executed for E081052, but no data found.\n",
      "Query executed for E081038, but no data found.\n",
      "Query executed for E100163, but no data found.\n",
      "Query executed for E100169, but no data found.\n",
      "Query executed for E081042, but no data found.\n",
      "Query executed for E100166, but no data found.\n",
      "Query executed for E081045, but no data found.\n",
      "Query executed for E100164, but no data found.\n",
      "Query executed for E081043, but no data found.\n",
      "Query executed for E100170, but no data found.\n",
      "Query executed for E100161, but no data found.\n",
      "Query executed for E081044, but no data found.\n",
      "Query executed for E081048, but no data found.\n",
      "Query executed for E081047, but no data found.\n",
      "Query executed for E100162, but no data found.\n",
      "Query executed for E100167, but no data found.\n",
      "Query executed for E100165, but no data found.\n",
      "Query executed for E081039, but no data found.\n",
      "Query executed for E081049, but no data found.\n",
      "Query executed for E080987, but no data found.\n",
      "Query executed for E080931, but no data found.\n",
      "Query executed for E080914, but no data found.\n",
      "Query executed for E080967, but no data found.\n",
      "Query executed for E080976, but no data found.\n",
      "Query executed for E080972, but no data found.\n",
      "Query executed for E080960, but no data found.\n",
      "Query executed for E080959, but no data found.\n",
      "Query executed for E080934, but no data found.\n",
      "Query executed for E080933, but no data found.\n",
      "Query executed for E080909, but no data found.\n",
      "Query executed for E080981, but no data found.\n",
      "Query executed for E080957, but no data found.\n",
      "Query executed for E080963, but no data found.\n",
      "Query executed for E080907, but no data found.\n",
      "Query executed for E080924, but no data found.\n",
      "Query executed for E080954, but no data found.\n",
      "Query executed for E080910, but no data found.\n",
      "Query executed for E080930, but no data found.\n",
      "Query executed for E080979, but no data found.\n",
      "Query executed for E080956, but no data found.\n",
      "Query executed for E100151, but no data found.\n",
      "Query executed for E080988, but no data found.\n",
      "Query executed for E080953, but no data found.\n",
      "Query executed for E080958, but no data found.\n",
      "Query executed for E080905, but no data found.\n",
      "Query executed for E100152, but no data found.\n",
      "Query executed for E080965, but no data found.\n",
      "Query executed for E080936, but no data found.\n",
      "Query executed for E100156, but no data found.\n",
      "Query executed for E080916, but no data found.\n",
      "Query executed for E080944, but no data found.\n",
      "Query executed for E080982, but no data found.\n",
      "Query executed for E080911, but no data found.\n",
      "Query executed for E080926, but no data found.\n",
      "Query executed for E080945, but no data found.\n",
      "Query executed for E080899, but no data found.\n",
      "Query executed for E081011, but no data found.\n",
      "Query executed for E080952, but no data found.\n",
      "Query executed for E100153, but no data found.\n",
      "Query executed for E080977, but no data found.\n",
      "Query executed for E080949, but no data found.\n",
      "Query executed for E080948, but no data found.\n",
      "Query executed for E080947, but no data found.\n",
      "Query executed for E080900, but no data found.\n",
      "Query executed for E081000, but no data found.\n",
      "Query executed for E080912, but no data found.\n",
      "Query executed for E100154, but no data found.\n",
      "Query executed for E080985, but no data found.\n",
      "Query executed for E080932, but no data found.\n",
      "Query executed for E080898, but no data found.\n",
      "Query executed for E080928, but no data found.\n",
      "Query executed for E080950, but no data found.\n",
      "Query executed for E080962, but no data found.\n",
      "Query executed for E081005, but no data found.\n",
      "Query executed for E080990, but no data found.\n",
      "Query executed for E080941, but no data found.\n",
      "Query executed for E080929, but no data found.\n",
      "Query executed for E080922, but no data found.\n",
      "Query executed for E080991, but no data found.\n",
      "Query executed for E081006, but no data found.\n",
      "Query executed for E080951, but no data found.\n",
      "Query executed for E080993, but no data found.\n",
      "Query executed for E080984, but no data found.\n",
      "Query executed for E081003, but no data found.\n",
      "Query executed for E080896, but no data found.\n",
      "Query executed for E080943, but no data found.\n",
      "Query executed for E080978, but no data found.\n",
      "Query executed for E080992, but no data found.\n",
      "Query executed for E080969, but no data found.\n",
      "Query executed for E081004, but no data found.\n",
      "Query executed for E080935, but no data found.\n",
      "Query executed for E080997, but no data found.\n",
      "Query executed for E080964, but no data found.\n",
      "Query executed for E080902, but no data found.\n",
      "Query executed for E081014, but no data found.\n",
      "Query executed for E081010, but no data found.\n",
      "Query executed for E080921, but no data found.\n",
      "Query executed for E080920, but no data found.\n",
      "Query executed for E080946, but no data found.\n",
      "Query executed for E080940, but no data found.\n",
      "Query executed for E081013, but no data found.\n",
      "Query executed for E081008, but no data found.\n",
      "Query executed for E080918, but no data found.\n",
      "Query executed for E080995, but no data found.\n",
      "Query executed for E081007, but no data found.\n",
      "Query executed for E100155, but no data found.\n",
      "Query executed for E081001, but no data found.\n",
      "Query executed for E080983, but no data found.\n",
      "Query executed for E080989, but no data found.\n",
      "Query executed for E080999, but no data found.\n",
      "Query executed for E080966, but no data found.\n",
      "Query executed for E080998, but no data found.\n",
      "Query executed for E080927, but no data found.\n",
      "Query executed for E081002, but no data found.\n",
      "Query executed for E080903, but no data found.\n",
      "Query executed for E080906, but no data found.\n",
      "Query executed for E080996, but no data found.\n",
      "Query executed for E080968, but no data found.\n",
      "Query executed for E080913, but no data found.\n",
      "Query executed for E080904, but no data found.\n",
      "Query executed for E080971, but no data found.\n",
      "Query executed for E080970, but no data found.\n",
      "Query executed for E080915, but no data found.\n",
      "Query executed for E080994, but no data found.\n",
      "Query executed for E080937, but no data found.\n",
      "Query executed for E080908, but no data found.\n",
      "Query executed for E080925, but no data found.\n",
      "Query executed for E080975, but no data found.\n",
      "Query executed for E080919, but no data found.\n",
      "Query executed for E080973, but no data found.\n",
      "Query executed for E080923, but no data found.\n",
      "Query executed for E081012, but no data found.\n",
      "Query executed for E080955, but no data found.\n",
      "Query executed for E081009, but no data found.\n",
      "Query executed for E080942, but no data found.\n",
      "Query executed for E080961, but no data found.\n",
      "Query executed for E080986, but no data found.\n",
      "Query executed for E080980, but no data found.\n",
      "Query executed for E080974, but no data found.\n",
      "Query executed for E080901, but no data found.\n",
      "Query executed for E080917, but no data found.\n",
      "Query executed for E080894, but no data found.\n",
      "Query executed for E100149, but no data found.\n",
      "Query executed for E100148, but no data found.\n",
      "Query executed for E100145, but no data found.\n",
      "Query executed for E100146, but no data found.\n",
      "Query executed for E100147, but no data found.\n",
      "Query executed for E080887, but no data found.\n",
      "Query executed for E080888, but no data found.\n",
      "Query executed for E080889, but no data found.\n",
      "Query executed for E030069 ; E030304, but no data found.\n",
      "Query executed for E011607 ;  E011608, but no data found.\n",
      "Query executed for E100155, but no data found.\n",
      "Query executed for E081028, but no data found.\n",
      "Query executed for E100158, but no data found.\n",
      "Query executed for E100160, but no data found.\n",
      "Query executed for E081026, but no data found.\n",
      "Query executed for E081029, but no data found.\n",
      "Query executed for E100157, but no data found.\n",
      "Query executed for E100159, but no data found.\n",
      "Query executed for E030276?, but no data found.\n",
      "Query executed for E100155, but no data found.\n",
      "Query executed for E100155, but no data found.\n",
      "Query executed for E081020, but no data found.\n",
      "Query executed for E080937, but no data found.\n",
      "Query executed for E081024, but no data found.\n",
      "Query executed for E081019, but no data found.\n",
      "Query executed for E080956, but no data found.\n",
      "Query executed for E081021, but no data found.\n",
      "Query executed for E081023, but no data found.\n",
      "Query executed for E081018, but no data found.\n",
      "Query executed for E100155, but no data found.\n",
      "Query executed for E100155, but no data found.\n",
      "Query executed for E100151, but no data found.\n",
      "Query executed for E100155, but no data found.\n",
      "Query executed for E100155, but no data found.\n",
      "Query executed for E100155, but no data found.\n",
      "Query executed for E100155, but no data found.\n",
      "Query executed for E100151, but no data found.\n",
      "Query executed for E100155, but no data found.\n"
     ]
    },
    {
     "data": {
      "application/vnd.plotly.v1+json": {
       "config": {
        "plotlyServerURL": "https://plot.ly"
       },
       "data": [
        {
         "hovertemplate": "2 Lied(er) im 1%",
         "marker": {
          "color": "rgb(220,220,220)"
         },
         "type": "bar",
         "x": [
          "Liedzitate je Predigttextprozent"
         ],
         "y": [
          100
         ]
        },
        {
         "hovertemplate": "1 Lied(er) im 2%",
         "marker": {
          "color": "rgb(235,235,235)"
         },
         "type": "bar",
         "x": [
          "Liedzitate je Predigttextprozent"
         ],
         "y": [
          100
         ]
        },
        {
         "hovertemplate": "5 Lied(er) im 3%",
         "marker": {
          "color": "rgb(175,175,175)"
         },
         "type": "bar",
         "x": [
          "Liedzitate je Predigttextprozent"
         ],
         "y": [
          100
         ]
        },
        {
         "hovertemplate": "3 Lied(er) im 4%",
         "marker": {
          "color": "rgb(205,205,205)"
         },
         "type": "bar",
         "x": [
          "Liedzitate je Predigttextprozent"
         ],
         "y": [
          100
         ]
        },
        {
         "hovertemplate": "2 Lied(er) im 5%",
         "marker": {
          "color": "rgb(220,220,220)"
         },
         "type": "bar",
         "x": [
          "Liedzitate je Predigttextprozent"
         ],
         "y": [
          100
         ]
        },
        {
         "hovertemplate": "3 Lied(er) im 6%",
         "marker": {
          "color": "rgb(205,205,205)"
         },
         "type": "bar",
         "x": [
          "Liedzitate je Predigttextprozent"
         ],
         "y": [
          100
         ]
        },
        {
         "hovertemplate": "7 Lied(er) im 7%",
         "marker": {
          "color": "rgb(145,145,145)"
         },
         "type": "bar",
         "x": [
          "Liedzitate je Predigttextprozent"
         ],
         "y": [
          100
         ]
        },
        {
         "hovertemplate": "8 Lied(er) im 8%",
         "marker": {
          "color": "rgb(130,130,130)"
         },
         "type": "bar",
         "x": [
          "Liedzitate je Predigttextprozent"
         ],
         "y": [
          100
         ]
        },
        {
         "hovertemplate": "4 Lied(er) im 9%",
         "marker": {
          "color": "rgb(190,190,190)"
         },
         "type": "bar",
         "x": [
          "Liedzitate je Predigttextprozent"
         ],
         "y": [
          100
         ]
        },
        {
         "hovertemplate": "4 Lied(er) im 10%",
         "marker": {
          "color": "rgb(190,190,190)"
         },
         "type": "bar",
         "x": [
          "Liedzitate je Predigttextprozent"
         ],
         "y": [
          100
         ]
        },
        {
         "hovertemplate": "3 Lied(er) im 11%",
         "marker": {
          "color": "rgb(205,205,205)"
         },
         "type": "bar",
         "x": [
          "Liedzitate je Predigttextprozent"
         ],
         "y": [
          100
         ]
        },
        {
         "hovertemplate": "3 Lied(er) im 12%",
         "marker": {
          "color": "rgb(205,205,205)"
         },
         "type": "bar",
         "x": [
          "Liedzitate je Predigttextprozent"
         ],
         "y": [
          100
         ]
        },
        {
         "hovertemplate": "3 Lied(er) im 13%",
         "marker": {
          "color": "rgb(205,205,205)"
         },
         "type": "bar",
         "x": [
          "Liedzitate je Predigttextprozent"
         ],
         "y": [
          100
         ]
        },
        {
         "hovertemplate": "5 Lied(er) im 14%",
         "marker": {
          "color": "rgb(175,175,175)"
         },
         "type": "bar",
         "x": [
          "Liedzitate je Predigttextprozent"
         ],
         "y": [
          100
         ]
        },
        {
         "hovertemplate": "5 Lied(er) im 15%",
         "marker": {
          "color": "rgb(175,175,175)"
         },
         "type": "bar",
         "x": [
          "Liedzitate je Predigttextprozent"
         ],
         "y": [
          100
         ]
        },
        {
         "hovertemplate": "4 Lied(er) im 16%",
         "marker": {
          "color": "rgb(190,190,190)"
         },
         "type": "bar",
         "x": [
          "Liedzitate je Predigttextprozent"
         ],
         "y": [
          100
         ]
        },
        {
         "hovertemplate": "7 Lied(er) im 17%",
         "marker": {
          "color": "rgb(145,145,145)"
         },
         "type": "bar",
         "x": [
          "Liedzitate je Predigttextprozent"
         ],
         "y": [
          100
         ]
        },
        {
         "hovertemplate": "6 Lied(er) im 18%",
         "marker": {
          "color": "rgb(160,160,160)"
         },
         "type": "bar",
         "x": [
          "Liedzitate je Predigttextprozent"
         ],
         "y": [
          100
         ]
        },
        {
         "hovertemplate": "7 Lied(er) im 19%",
         "marker": {
          "color": "rgb(145,145,145)"
         },
         "type": "bar",
         "x": [
          "Liedzitate je Predigttextprozent"
         ],
         "y": [
          100
         ]
        },
        {
         "hovertemplate": "2 Lied(er) im 20%",
         "marker": {
          "color": "rgb(220,220,220)"
         },
         "type": "bar",
         "x": [
          "Liedzitate je Predigttextprozent"
         ],
         "y": [
          100
         ]
        },
        {
         "hovertemplate": "4 Lied(er) im 21%",
         "marker": {
          "color": "rgb(190,190,190)"
         },
         "type": "bar",
         "x": [
          "Liedzitate je Predigttextprozent"
         ],
         "y": [
          100
         ]
        },
        {
         "hovertemplate": "2 Lied(er) im 22%",
         "marker": {
          "color": "rgb(220,220,220)"
         },
         "type": "bar",
         "x": [
          "Liedzitate je Predigttextprozent"
         ],
         "y": [
          100
         ]
        },
        {
         "hovertemplate": "2 Lied(er) im 23%",
         "marker": {
          "color": "rgb(220,220,220)"
         },
         "type": "bar",
         "x": [
          "Liedzitate je Predigttextprozent"
         ],
         "y": [
          100
         ]
        },
        {
         "hovertemplate": "1 Lied(er) im 24%",
         "marker": {
          "color": "rgb(235,235,235)"
         },
         "type": "bar",
         "x": [
          "Liedzitate je Predigttextprozent"
         ],
         "y": [
          100
         ]
        },
        {
         "hovertemplate": "2 Lied(er) im 25%",
         "marker": {
          "color": "rgb(220,220,220)"
         },
         "type": "bar",
         "x": [
          "Liedzitate je Predigttextprozent"
         ],
         "y": [
          100
         ]
        },
        {
         "hovertemplate": "3 Lied(er) im 26%",
         "marker": {
          "color": "rgb(205,205,205)"
         },
         "type": "bar",
         "x": [
          "Liedzitate je Predigttextprozent"
         ],
         "y": [
          100
         ]
        },
        {
         "hovertemplate": "1 Lied(er) im 27%",
         "marker": {
          "color": "rgb(235,235,235)"
         },
         "type": "bar",
         "x": [
          "Liedzitate je Predigttextprozent"
         ],
         "y": [
          100
         ]
        },
        {
         "hovertemplate": "0 Lied(er) im 28%",
         "marker": {
          "color": "rgb(250,250,250)"
         },
         "type": "bar",
         "x": [
          "Liedzitate je Predigttextprozent"
         ],
         "y": [
          100
         ]
        },
        {
         "hovertemplate": "2 Lied(er) im 29%",
         "marker": {
          "color": "rgb(220,220,220)"
         },
         "type": "bar",
         "x": [
          "Liedzitate je Predigttextprozent"
         ],
         "y": [
          100
         ]
        },
        {
         "hovertemplate": "1 Lied(er) im 30%",
         "marker": {
          "color": "rgb(235,235,235)"
         },
         "type": "bar",
         "x": [
          "Liedzitate je Predigttextprozent"
         ],
         "y": [
          100
         ]
        },
        {
         "hovertemplate": "0 Lied(er) im 31%",
         "marker": {
          "color": "rgb(250,250,250)"
         },
         "type": "bar",
         "x": [
          "Liedzitate je Predigttextprozent"
         ],
         "y": [
          100
         ]
        },
        {
         "hovertemplate": "1 Lied(er) im 32%",
         "marker": {
          "color": "rgb(235,235,235)"
         },
         "type": "bar",
         "x": [
          "Liedzitate je Predigttextprozent"
         ],
         "y": [
          100
         ]
        },
        {
         "hovertemplate": "2 Lied(er) im 33%",
         "marker": {
          "color": "rgb(220,220,220)"
         },
         "type": "bar",
         "x": [
          "Liedzitate je Predigttextprozent"
         ],
         "y": [
          100
         ]
        },
        {
         "hovertemplate": "3 Lied(er) im 34%",
         "marker": {
          "color": "rgb(205,205,205)"
         },
         "type": "bar",
         "x": [
          "Liedzitate je Predigttextprozent"
         ],
         "y": [
          100
         ]
        },
        {
         "hovertemplate": "1 Lied(er) im 35%",
         "marker": {
          "color": "rgb(235,235,235)"
         },
         "type": "bar",
         "x": [
          "Liedzitate je Predigttextprozent"
         ],
         "y": [
          100
         ]
        },
        {
         "hovertemplate": "0 Lied(er) im 36%",
         "marker": {
          "color": "rgb(250,250,250)"
         },
         "type": "bar",
         "x": [
          "Liedzitate je Predigttextprozent"
         ],
         "y": [
          100
         ]
        },
        {
         "hovertemplate": "1 Lied(er) im 37%",
         "marker": {
          "color": "rgb(235,235,235)"
         },
         "type": "bar",
         "x": [
          "Liedzitate je Predigttextprozent"
         ],
         "y": [
          100
         ]
        },
        {
         "hovertemplate": "2 Lied(er) im 38%",
         "marker": {
          "color": "rgb(220,220,220)"
         },
         "type": "bar",
         "x": [
          "Liedzitate je Predigttextprozent"
         ],
         "y": [
          100
         ]
        },
        {
         "hovertemplate": "2 Lied(er) im 39%",
         "marker": {
          "color": "rgb(220,220,220)"
         },
         "type": "bar",
         "x": [
          "Liedzitate je Predigttextprozent"
         ],
         "y": [
          100
         ]
        },
        {
         "hovertemplate": "1 Lied(er) im 40%",
         "marker": {
          "color": "rgb(235,235,235)"
         },
         "type": "bar",
         "x": [
          "Liedzitate je Predigttextprozent"
         ],
         "y": [
          100
         ]
        },
        {
         "hovertemplate": "2 Lied(er) im 41%",
         "marker": {
          "color": "rgb(220,220,220)"
         },
         "type": "bar",
         "x": [
          "Liedzitate je Predigttextprozent"
         ],
         "y": [
          100
         ]
        },
        {
         "hovertemplate": "1 Lied(er) im 42%",
         "marker": {
          "color": "rgb(235,235,235)"
         },
         "type": "bar",
         "x": [
          "Liedzitate je Predigttextprozent"
         ],
         "y": [
          100
         ]
        },
        {
         "hovertemplate": "4 Lied(er) im 43%",
         "marker": {
          "color": "rgb(190,190,190)"
         },
         "type": "bar",
         "x": [
          "Liedzitate je Predigttextprozent"
         ],
         "y": [
          100
         ]
        },
        {
         "hovertemplate": "1 Lied(er) im 44%",
         "marker": {
          "color": "rgb(235,235,235)"
         },
         "type": "bar",
         "x": [
          "Liedzitate je Predigttextprozent"
         ],
         "y": [
          100
         ]
        },
        {
         "hovertemplate": "1 Lied(er) im 45%",
         "marker": {
          "color": "rgb(235,235,235)"
         },
         "type": "bar",
         "x": [
          "Liedzitate je Predigttextprozent"
         ],
         "y": [
          100
         ]
        },
        {
         "hovertemplate": "4 Lied(er) im 46%",
         "marker": {
          "color": "rgb(190,190,190)"
         },
         "type": "bar",
         "x": [
          "Liedzitate je Predigttextprozent"
         ],
         "y": [
          100
         ]
        },
        {
         "hovertemplate": "1 Lied(er) im 47%",
         "marker": {
          "color": "rgb(235,235,235)"
         },
         "type": "bar",
         "x": [
          "Liedzitate je Predigttextprozent"
         ],
         "y": [
          100
         ]
        },
        {
         "hovertemplate": "2 Lied(er) im 48%",
         "marker": {
          "color": "rgb(220,220,220)"
         },
         "type": "bar",
         "x": [
          "Liedzitate je Predigttextprozent"
         ],
         "y": [
          100
         ]
        },
        {
         "hovertemplate": "2 Lied(er) im 49%",
         "marker": {
          "color": "rgb(220,220,220)"
         },
         "type": "bar",
         "x": [
          "Liedzitate je Predigttextprozent"
         ],
         "y": [
          100
         ]
        },
        {
         "hovertemplate": "2 Lied(er) im 50%",
         "marker": {
          "color": "rgb(220,220,220)"
         },
         "type": "bar",
         "x": [
          "Liedzitate je Predigttextprozent"
         ],
         "y": [
          100
         ]
        },
        {
         "hovertemplate": "2 Lied(er) im 51%",
         "marker": {
          "color": "rgb(220,220,220)"
         },
         "type": "bar",
         "x": [
          "Liedzitate je Predigttextprozent"
         ],
         "y": [
          100
         ]
        },
        {
         "hovertemplate": "2 Lied(er) im 52%",
         "marker": {
          "color": "rgb(220,220,220)"
         },
         "type": "bar",
         "x": [
          "Liedzitate je Predigttextprozent"
         ],
         "y": [
          100
         ]
        },
        {
         "hovertemplate": "1 Lied(er) im 53%",
         "marker": {
          "color": "rgb(235,235,235)"
         },
         "type": "bar",
         "x": [
          "Liedzitate je Predigttextprozent"
         ],
         "y": [
          100
         ]
        },
        {
         "hovertemplate": "6 Lied(er) im 54%",
         "marker": {
          "color": "rgb(160,160,160)"
         },
         "type": "bar",
         "x": [
          "Liedzitate je Predigttextprozent"
         ],
         "y": [
          100
         ]
        },
        {
         "hovertemplate": "5 Lied(er) im 55%",
         "marker": {
          "color": "rgb(175,175,175)"
         },
         "type": "bar",
         "x": [
          "Liedzitate je Predigttextprozent"
         ],
         "y": [
          100
         ]
        },
        {
         "hovertemplate": "2 Lied(er) im 56%",
         "marker": {
          "color": "rgb(220,220,220)"
         },
         "type": "bar",
         "x": [
          "Liedzitate je Predigttextprozent"
         ],
         "y": [
          100
         ]
        },
        {
         "hovertemplate": "1 Lied(er) im 57%",
         "marker": {
          "color": "rgb(235,235,235)"
         },
         "type": "bar",
         "x": [
          "Liedzitate je Predigttextprozent"
         ],
         "y": [
          100
         ]
        },
        {
         "hovertemplate": "2 Lied(er) im 58%",
         "marker": {
          "color": "rgb(220,220,220)"
         },
         "type": "bar",
         "x": [
          "Liedzitate je Predigttextprozent"
         ],
         "y": [
          100
         ]
        },
        {
         "hovertemplate": "3 Lied(er) im 59%",
         "marker": {
          "color": "rgb(205,205,205)"
         },
         "type": "bar",
         "x": [
          "Liedzitate je Predigttextprozent"
         ],
         "y": [
          100
         ]
        },
        {
         "hovertemplate": "4 Lied(er) im 60%",
         "marker": {
          "color": "rgb(190,190,190)"
         },
         "type": "bar",
         "x": [
          "Liedzitate je Predigttextprozent"
         ],
         "y": [
          100
         ]
        },
        {
         "hovertemplate": "2 Lied(er) im 61%",
         "marker": {
          "color": "rgb(220,220,220)"
         },
         "type": "bar",
         "x": [
          "Liedzitate je Predigttextprozent"
         ],
         "y": [
          100
         ]
        },
        {
         "hovertemplate": "4 Lied(er) im 62%",
         "marker": {
          "color": "rgb(190,190,190)"
         },
         "type": "bar",
         "x": [
          "Liedzitate je Predigttextprozent"
         ],
         "y": [
          100
         ]
        },
        {
         "hovertemplate": "1 Lied(er) im 63%",
         "marker": {
          "color": "rgb(235,235,235)"
         },
         "type": "bar",
         "x": [
          "Liedzitate je Predigttextprozent"
         ],
         "y": [
          100
         ]
        },
        {
         "hovertemplate": "3 Lied(er) im 64%",
         "marker": {
          "color": "rgb(205,205,205)"
         },
         "type": "bar",
         "x": [
          "Liedzitate je Predigttextprozent"
         ],
         "y": [
          100
         ]
        },
        {
         "hovertemplate": "3 Lied(er) im 65%",
         "marker": {
          "color": "rgb(205,205,205)"
         },
         "type": "bar",
         "x": [
          "Liedzitate je Predigttextprozent"
         ],
         "y": [
          100
         ]
        },
        {
         "hovertemplate": "1 Lied(er) im 66%",
         "marker": {
          "color": "rgb(235,235,235)"
         },
         "type": "bar",
         "x": [
          "Liedzitate je Predigttextprozent"
         ],
         "y": [
          100
         ]
        },
        {
         "hovertemplate": "2 Lied(er) im 67%",
         "marker": {
          "color": "rgb(220,220,220)"
         },
         "type": "bar",
         "x": [
          "Liedzitate je Predigttextprozent"
         ],
         "y": [
          100
         ]
        },
        {
         "hovertemplate": "1 Lied(er) im 68%",
         "marker": {
          "color": "rgb(235,235,235)"
         },
         "type": "bar",
         "x": [
          "Liedzitate je Predigttextprozent"
         ],
         "y": [
          100
         ]
        },
        {
         "hovertemplate": "2 Lied(er) im 69%",
         "marker": {
          "color": "rgb(220,220,220)"
         },
         "type": "bar",
         "x": [
          "Liedzitate je Predigttextprozent"
         ],
         "y": [
          100
         ]
        },
        {
         "hovertemplate": "3 Lied(er) im 70%",
         "marker": {
          "color": "rgb(205,205,205)"
         },
         "type": "bar",
         "x": [
          "Liedzitate je Predigttextprozent"
         ],
         "y": [
          100
         ]
        },
        {
         "hovertemplate": "3 Lied(er) im 71%",
         "marker": {
          "color": "rgb(205,205,205)"
         },
         "type": "bar",
         "x": [
          "Liedzitate je Predigttextprozent"
         ],
         "y": [
          100
         ]
        },
        {
         "hovertemplate": "4 Lied(er) im 72%",
         "marker": {
          "color": "rgb(190,190,190)"
         },
         "type": "bar",
         "x": [
          "Liedzitate je Predigttextprozent"
         ],
         "y": [
          100
         ]
        },
        {
         "hovertemplate": "2 Lied(er) im 73%",
         "marker": {
          "color": "rgb(220,220,220)"
         },
         "type": "bar",
         "x": [
          "Liedzitate je Predigttextprozent"
         ],
         "y": [
          100
         ]
        },
        {
         "hovertemplate": "1 Lied(er) im 74%",
         "marker": {
          "color": "rgb(235,235,235)"
         },
         "type": "bar",
         "x": [
          "Liedzitate je Predigttextprozent"
         ],
         "y": [
          100
         ]
        },
        {
         "hovertemplate": "3 Lied(er) im 75%",
         "marker": {
          "color": "rgb(205,205,205)"
         },
         "type": "bar",
         "x": [
          "Liedzitate je Predigttextprozent"
         ],
         "y": [
          100
         ]
        },
        {
         "hovertemplate": "7 Lied(er) im 76%",
         "marker": {
          "color": "rgb(145,145,145)"
         },
         "type": "bar",
         "x": [
          "Liedzitate je Predigttextprozent"
         ],
         "y": [
          100
         ]
        },
        {
         "hovertemplate": "9 Lied(er) im 77%",
         "marker": {
          "color": "rgb(115,115,115)"
         },
         "type": "bar",
         "x": [
          "Liedzitate je Predigttextprozent"
         ],
         "y": [
          100
         ]
        },
        {
         "hovertemplate": "6 Lied(er) im 78%",
         "marker": {
          "color": "rgb(160,160,160)"
         },
         "type": "bar",
         "x": [
          "Liedzitate je Predigttextprozent"
         ],
         "y": [
          100
         ]
        },
        {
         "hovertemplate": "5 Lied(er) im 79%",
         "marker": {
          "color": "rgb(175,175,175)"
         },
         "type": "bar",
         "x": [
          "Liedzitate je Predigttextprozent"
         ],
         "y": [
          100
         ]
        },
        {
         "hovertemplate": "7 Lied(er) im 80%",
         "marker": {
          "color": "rgb(145,145,145)"
         },
         "type": "bar",
         "x": [
          "Liedzitate je Predigttextprozent"
         ],
         "y": [
          100
         ]
        },
        {
         "hovertemplate": "4 Lied(er) im 81%",
         "marker": {
          "color": "rgb(190,190,190)"
         },
         "type": "bar",
         "x": [
          "Liedzitate je Predigttextprozent"
         ],
         "y": [
          100
         ]
        },
        {
         "hovertemplate": "3 Lied(er) im 82%",
         "marker": {
          "color": "rgb(205,205,205)"
         },
         "type": "bar",
         "x": [
          "Liedzitate je Predigttextprozent"
         ],
         "y": [
          100
         ]
        },
        {
         "hovertemplate": "6 Lied(er) im 83%",
         "marker": {
          "color": "rgb(160,160,160)"
         },
         "type": "bar",
         "x": [
          "Liedzitate je Predigttextprozent"
         ],
         "y": [
          100
         ]
        },
        {
         "hovertemplate": "4 Lied(er) im 84%",
         "marker": {
          "color": "rgb(190,190,190)"
         },
         "type": "bar",
         "x": [
          "Liedzitate je Predigttextprozent"
         ],
         "y": [
          100
         ]
        },
        {
         "hovertemplate": "8 Lied(er) im 85%",
         "marker": {
          "color": "rgb(130,130,130)"
         },
         "type": "bar",
         "x": [
          "Liedzitate je Predigttextprozent"
         ],
         "y": [
          100
         ]
        },
        {
         "hovertemplate": "5 Lied(er) im 86%",
         "marker": {
          "color": "rgb(175,175,175)"
         },
         "type": "bar",
         "x": [
          "Liedzitate je Predigttextprozent"
         ],
         "y": [
          100
         ]
        },
        {
         "hovertemplate": "5 Lied(er) im 87%",
         "marker": {
          "color": "rgb(175,175,175)"
         },
         "type": "bar",
         "x": [
          "Liedzitate je Predigttextprozent"
         ],
         "y": [
          100
         ]
        },
        {
         "hovertemplate": "4 Lied(er) im 88%",
         "marker": {
          "color": "rgb(190,190,190)"
         },
         "type": "bar",
         "x": [
          "Liedzitate je Predigttextprozent"
         ],
         "y": [
          100
         ]
        },
        {
         "hovertemplate": "6 Lied(er) im 89%",
         "marker": {
          "color": "rgb(160,160,160)"
         },
         "type": "bar",
         "x": [
          "Liedzitate je Predigttextprozent"
         ],
         "y": [
          100
         ]
        },
        {
         "hovertemplate": "4 Lied(er) im 90%",
         "marker": {
          "color": "rgb(190,190,190)"
         },
         "type": "bar",
         "x": [
          "Liedzitate je Predigttextprozent"
         ],
         "y": [
          100
         ]
        },
        {
         "hovertemplate": "8 Lied(er) im 91%",
         "marker": {
          "color": "rgb(130,130,130)"
         },
         "type": "bar",
         "x": [
          "Liedzitate je Predigttextprozent"
         ],
         "y": [
          100
         ]
        },
        {
         "hovertemplate": "6 Lied(er) im 92%",
         "marker": {
          "color": "rgb(160,160,160)"
         },
         "type": "bar",
         "x": [
          "Liedzitate je Predigttextprozent"
         ],
         "y": [
          100
         ]
        },
        {
         "hovertemplate": "10 Lied(er) im 93%",
         "marker": {
          "color": "rgb(100,100,100)"
         },
         "type": "bar",
         "x": [
          "Liedzitate je Predigttextprozent"
         ],
         "y": [
          100
         ]
        },
        {
         "hovertemplate": "6 Lied(er) im 94%",
         "marker": {
          "color": "rgb(160,160,160)"
         },
         "type": "bar",
         "x": [
          "Liedzitate je Predigttextprozent"
         ],
         "y": [
          100
         ]
        },
        {
         "hovertemplate": "9 Lied(er) im 95%",
         "marker": {
          "color": "rgb(115,115,115)"
         },
         "type": "bar",
         "x": [
          "Liedzitate je Predigttextprozent"
         ],
         "y": [
          100
         ]
        },
        {
         "hovertemplate": "8 Lied(er) im 96%",
         "marker": {
          "color": "rgb(130,130,130)"
         },
         "type": "bar",
         "x": [
          "Liedzitate je Predigttextprozent"
         ],
         "y": [
          100
         ]
        },
        {
         "hovertemplate": "7 Lied(er) im 97%",
         "marker": {
          "color": "rgb(145,145,145)"
         },
         "type": "bar",
         "x": [
          "Liedzitate je Predigttextprozent"
         ],
         "y": [
          100
         ]
        },
        {
         "hovertemplate": "6 Lied(er) im 98%",
         "marker": {
          "color": "rgb(160,160,160)"
         },
         "type": "bar",
         "x": [
          "Liedzitate je Predigttextprozent"
         ],
         "y": [
          100
         ]
        },
        {
         "hovertemplate": "4 Lied(er) im 99%",
         "marker": {
          "color": "rgb(190,190,190)"
         },
         "type": "bar",
         "x": [
          "Liedzitate je Predigttextprozent"
         ],
         "y": [
          100
         ]
        },
        {
         "hovertemplate": "13 Lied(er) im 100%",
         "marker": {
          "color": "rgb(55,55,55)"
         },
         "type": "bar",
         "x": [
          "Liedzitate je Predigttextprozent"
         ],
         "y": [
          100
         ]
        },
        {
         "hovertemplate": "16 Lied(er) im 101%",
         "marker": {
          "color": "rgb(10,10,10)"
         },
         "type": "bar",
         "x": [
          "Liedzitate je Predigttextprozent"
         ],
         "y": [
          100
         ]
        },
        {
         "hovertemplate": "19 Lied(er) im 102%",
         "marker": {
          "color": "rgb(0,0,0)"
         },
         "type": "bar",
         "x": [
          "Liedzitate je Predigttextprozent"
         ],
         "y": [
          100
         ]
        }
       ],
       "layout": {
        "height": 500,
        "showlegend": false,
        "template": {
         "data": {
          "bar": [
           {
            "error_x": {
             "color": "#2a3f5f"
            },
            "error_y": {
             "color": "#2a3f5f"
            },
            "marker": {
             "line": {
              "color": "#E5ECF6",
              "width": 0.5
             },
             "pattern": {
              "fillmode": "overlay",
              "size": 10,
              "solidity": 0.2
             }
            },
            "type": "bar"
           }
          ],
          "barpolar": [
           {
            "marker": {
             "line": {
              "color": "#E5ECF6",
              "width": 0.5
             },
             "pattern": {
              "fillmode": "overlay",
              "size": 10,
              "solidity": 0.2
             }
            },
            "type": "barpolar"
           }
          ],
          "carpet": [
           {
            "aaxis": {
             "endlinecolor": "#2a3f5f",
             "gridcolor": "white",
             "linecolor": "white",
             "minorgridcolor": "white",
             "startlinecolor": "#2a3f5f"
            },
            "baxis": {
             "endlinecolor": "#2a3f5f",
             "gridcolor": "white",
             "linecolor": "white",
             "minorgridcolor": "white",
             "startlinecolor": "#2a3f5f"
            },
            "type": "carpet"
           }
          ],
          "choropleth": [
           {
            "colorbar": {
             "outlinewidth": 0,
             "ticks": ""
            },
            "type": "choropleth"
           }
          ],
          "contour": [
           {
            "colorbar": {
             "outlinewidth": 0,
             "ticks": ""
            },
            "colorscale": [
             [
              0,
              "#0d0887"
             ],
             [
              0.1111111111111111,
              "#46039f"
             ],
             [
              0.2222222222222222,
              "#7201a8"
             ],
             [
              0.3333333333333333,
              "#9c179e"
             ],
             [
              0.4444444444444444,
              "#bd3786"
             ],
             [
              0.5555555555555556,
              "#d8576b"
             ],
             [
              0.6666666666666666,
              "#ed7953"
             ],
             [
              0.7777777777777778,
              "#fb9f3a"
             ],
             [
              0.8888888888888888,
              "#fdca26"
             ],
             [
              1,
              "#f0f921"
             ]
            ],
            "type": "contour"
           }
          ],
          "contourcarpet": [
           {
            "colorbar": {
             "outlinewidth": 0,
             "ticks": ""
            },
            "type": "contourcarpet"
           }
          ],
          "heatmap": [
           {
            "colorbar": {
             "outlinewidth": 0,
             "ticks": ""
            },
            "colorscale": [
             [
              0,
              "#0d0887"
             ],
             [
              0.1111111111111111,
              "#46039f"
             ],
             [
              0.2222222222222222,
              "#7201a8"
             ],
             [
              0.3333333333333333,
              "#9c179e"
             ],
             [
              0.4444444444444444,
              "#bd3786"
             ],
             [
              0.5555555555555556,
              "#d8576b"
             ],
             [
              0.6666666666666666,
              "#ed7953"
             ],
             [
              0.7777777777777778,
              "#fb9f3a"
             ],
             [
              0.8888888888888888,
              "#fdca26"
             ],
             [
              1,
              "#f0f921"
             ]
            ],
            "type": "heatmap"
           }
          ],
          "histogram": [
           {
            "marker": {
             "pattern": {
              "fillmode": "overlay",
              "size": 10,
              "solidity": 0.2
             }
            },
            "type": "histogram"
           }
          ],
          "histogram2d": [
           {
            "colorbar": {
             "outlinewidth": 0,
             "ticks": ""
            },
            "colorscale": [
             [
              0,
              "#0d0887"
             ],
             [
              0.1111111111111111,
              "#46039f"
             ],
             [
              0.2222222222222222,
              "#7201a8"
             ],
             [
              0.3333333333333333,
              "#9c179e"
             ],
             [
              0.4444444444444444,
              "#bd3786"
             ],
             [
              0.5555555555555556,
              "#d8576b"
             ],
             [
              0.6666666666666666,
              "#ed7953"
             ],
             [
              0.7777777777777778,
              "#fb9f3a"
             ],
             [
              0.8888888888888888,
              "#fdca26"
             ],
             [
              1,
              "#f0f921"
             ]
            ],
            "type": "histogram2d"
           }
          ],
          "histogram2dcontour": [
           {
            "colorbar": {
             "outlinewidth": 0,
             "ticks": ""
            },
            "colorscale": [
             [
              0,
              "#0d0887"
             ],
             [
              0.1111111111111111,
              "#46039f"
             ],
             [
              0.2222222222222222,
              "#7201a8"
             ],
             [
              0.3333333333333333,
              "#9c179e"
             ],
             [
              0.4444444444444444,
              "#bd3786"
             ],
             [
              0.5555555555555556,
              "#d8576b"
             ],
             [
              0.6666666666666666,
              "#ed7953"
             ],
             [
              0.7777777777777778,
              "#fb9f3a"
             ],
             [
              0.8888888888888888,
              "#fdca26"
             ],
             [
              1,
              "#f0f921"
             ]
            ],
            "type": "histogram2dcontour"
           }
          ],
          "mesh3d": [
           {
            "colorbar": {
             "outlinewidth": 0,
             "ticks": ""
            },
            "type": "mesh3d"
           }
          ],
          "parcoords": [
           {
            "line": {
             "colorbar": {
              "outlinewidth": 0,
              "ticks": ""
             }
            },
            "type": "parcoords"
           }
          ],
          "pie": [
           {
            "automargin": true,
            "type": "pie"
           }
          ],
          "scatter": [
           {
            "fillpattern": {
             "fillmode": "overlay",
             "size": 10,
             "solidity": 0.2
            },
            "type": "scatter"
           }
          ],
          "scatter3d": [
           {
            "line": {
             "colorbar": {
              "outlinewidth": 0,
              "ticks": ""
             }
            },
            "marker": {
             "colorbar": {
              "outlinewidth": 0,
              "ticks": ""
             }
            },
            "type": "scatter3d"
           }
          ],
          "scattercarpet": [
           {
            "marker": {
             "colorbar": {
              "outlinewidth": 0,
              "ticks": ""
             }
            },
            "type": "scattercarpet"
           }
          ],
          "scattergeo": [
           {
            "marker": {
             "colorbar": {
              "outlinewidth": 0,
              "ticks": ""
             }
            },
            "type": "scattergeo"
           }
          ],
          "scattergl": [
           {
            "marker": {
             "colorbar": {
              "outlinewidth": 0,
              "ticks": ""
             }
            },
            "type": "scattergl"
           }
          ],
          "scattermap": [
           {
            "marker": {
             "colorbar": {
              "outlinewidth": 0,
              "ticks": ""
             }
            },
            "type": "scattermap"
           }
          ],
          "scattermapbox": [
           {
            "marker": {
             "colorbar": {
              "outlinewidth": 0,
              "ticks": ""
             }
            },
            "type": "scattermapbox"
           }
          ],
          "scatterpolar": [
           {
            "marker": {
             "colorbar": {
              "outlinewidth": 0,
              "ticks": ""
             }
            },
            "type": "scatterpolar"
           }
          ],
          "scatterpolargl": [
           {
            "marker": {
             "colorbar": {
              "outlinewidth": 0,
              "ticks": ""
             }
            },
            "type": "scatterpolargl"
           }
          ],
          "scatterternary": [
           {
            "marker": {
             "colorbar": {
              "outlinewidth": 0,
              "ticks": ""
             }
            },
            "type": "scatterternary"
           }
          ],
          "surface": [
           {
            "colorbar": {
             "outlinewidth": 0,
             "ticks": ""
            },
            "colorscale": [
             [
              0,
              "#0d0887"
             ],
             [
              0.1111111111111111,
              "#46039f"
             ],
             [
              0.2222222222222222,
              "#7201a8"
             ],
             [
              0.3333333333333333,
              "#9c179e"
             ],
             [
              0.4444444444444444,
              "#bd3786"
             ],
             [
              0.5555555555555556,
              "#d8576b"
             ],
             [
              0.6666666666666666,
              "#ed7953"
             ],
             [
              0.7777777777777778,
              "#fb9f3a"
             ],
             [
              0.8888888888888888,
              "#fdca26"
             ],
             [
              1,
              "#f0f921"
             ]
            ],
            "type": "surface"
           }
          ],
          "table": [
           {
            "cells": {
             "fill": {
              "color": "#EBF0F8"
             },
             "line": {
              "color": "white"
             }
            },
            "header": {
             "fill": {
              "color": "#C8D4E3"
             },
             "line": {
              "color": "white"
             }
            },
            "type": "table"
           }
          ]
         },
         "layout": {
          "annotationdefaults": {
           "arrowcolor": "#2a3f5f",
           "arrowhead": 0,
           "arrowwidth": 1
          },
          "autotypenumbers": "strict",
          "coloraxis": {
           "colorbar": {
            "outlinewidth": 0,
            "ticks": ""
           }
          },
          "colorscale": {
           "diverging": [
            [
             0,
             "#8e0152"
            ],
            [
             0.1,
             "#c51b7d"
            ],
            [
             0.2,
             "#de77ae"
            ],
            [
             0.3,
             "#f1b6da"
            ],
            [
             0.4,
             "#fde0ef"
            ],
            [
             0.5,
             "#f7f7f7"
            ],
            [
             0.6,
             "#e6f5d0"
            ],
            [
             0.7,
             "#b8e186"
            ],
            [
             0.8,
             "#7fbc41"
            ],
            [
             0.9,
             "#4d9221"
            ],
            [
             1,
             "#276419"
            ]
           ],
           "sequential": [
            [
             0,
             "#0d0887"
            ],
            [
             0.1111111111111111,
             "#46039f"
            ],
            [
             0.2222222222222222,
             "#7201a8"
            ],
            [
             0.3333333333333333,
             "#9c179e"
            ],
            [
             0.4444444444444444,
             "#bd3786"
            ],
            [
             0.5555555555555556,
             "#d8576b"
            ],
            [
             0.6666666666666666,
             "#ed7953"
            ],
            [
             0.7777777777777778,
             "#fb9f3a"
            ],
            [
             0.8888888888888888,
             "#fdca26"
            ],
            [
             1,
             "#f0f921"
            ]
           ],
           "sequentialminus": [
            [
             0,
             "#0d0887"
            ],
            [
             0.1111111111111111,
             "#46039f"
            ],
            [
             0.2222222222222222,
             "#7201a8"
            ],
            [
             0.3333333333333333,
             "#9c179e"
            ],
            [
             0.4444444444444444,
             "#bd3786"
            ],
            [
             0.5555555555555556,
             "#d8576b"
            ],
            [
             0.6666666666666666,
             "#ed7953"
            ],
            [
             0.7777777777777778,
             "#fb9f3a"
            ],
            [
             0.8888888888888888,
             "#fdca26"
            ],
            [
             1,
             "#f0f921"
            ]
           ]
          },
          "colorway": [
           "#636efa",
           "#EF553B",
           "#00cc96",
           "#ab63fa",
           "#FFA15A",
           "#19d3f3",
           "#FF6692",
           "#B6E880",
           "#FF97FF",
           "#FECB52"
          ],
          "font": {
           "color": "#2a3f5f"
          },
          "geo": {
           "bgcolor": "white",
           "lakecolor": "white",
           "landcolor": "#E5ECF6",
           "showlakes": true,
           "showland": true,
           "subunitcolor": "white"
          },
          "hoverlabel": {
           "align": "left"
          },
          "hovermode": "closest",
          "mapbox": {
           "style": "light"
          },
          "paper_bgcolor": "white",
          "plot_bgcolor": "#E5ECF6",
          "polar": {
           "angularaxis": {
            "gridcolor": "white",
            "linecolor": "white",
            "ticks": ""
           },
           "bgcolor": "#E5ECF6",
           "radialaxis": {
            "gridcolor": "white",
            "linecolor": "white",
            "ticks": ""
           }
          },
          "scene": {
           "xaxis": {
            "backgroundcolor": "#E5ECF6",
            "gridcolor": "white",
            "gridwidth": 2,
            "linecolor": "white",
            "showbackground": true,
            "ticks": "",
            "zerolinecolor": "white"
           },
           "yaxis": {
            "backgroundcolor": "#E5ECF6",
            "gridcolor": "white",
            "gridwidth": 2,
            "linecolor": "white",
            "showbackground": true,
            "ticks": "",
            "zerolinecolor": "white"
           },
           "zaxis": {
            "backgroundcolor": "#E5ECF6",
            "gridcolor": "white",
            "gridwidth": 2,
            "linecolor": "white",
            "showbackground": true,
            "ticks": "",
            "zerolinecolor": "white"
           }
          },
          "shapedefaults": {
           "line": {
            "color": "#2a3f5f"
           }
          },
          "ternary": {
           "aaxis": {
            "gridcolor": "white",
            "linecolor": "white",
            "ticks": ""
           },
           "baxis": {
            "gridcolor": "white",
            "linecolor": "white",
            "ticks": ""
           },
           "bgcolor": "#E5ECF6",
           "caxis": {
            "gridcolor": "white",
            "linecolor": "white",
            "ticks": ""
           }
          },
          "title": {
           "x": 0.05
          },
          "xaxis": {
           "automargin": true,
           "gridcolor": "white",
           "linecolor": "white",
           "ticks": "",
           "title": {
            "standoff": 15
           },
           "zerolinecolor": "white",
           "zerolinewidth": 2
          },
          "yaxis": {
           "automargin": true,
           "gridcolor": "white",
           "linecolor": "white",
           "ticks": "",
           "title": {
            "standoff": 15
           },
           "zerolinecolor": "white",
           "zerolinewidth": 2
          }
         }
        },
        "width": 1500
       }
      }
     },
     "metadata": {},
     "output_type": "display_data"
    }
   ],
   "source": [
    "create_song_dist_chart(ids)\n",
    "#create_song_dist_chart([\"E000052\", \"E000109\"])"
   ]
  }
 ],
 "metadata": {
  "kernelspec": {
   "display_name": "ma_orgelpredigt",
   "language": "python",
   "name": "python3"
  },
  "language_info": {
   "codemirror_mode": {
    "name": "ipython",
    "version": 3
   },
   "file_extension": ".py",
   "mimetype": "text/x-python",
   "name": "python",
   "nbconvert_exporter": "python",
   "pygments_lexer": "ipython3",
   "version": "3.12.11"
  }
 },
 "nbformat": 4,
 "nbformat_minor": 5
}
