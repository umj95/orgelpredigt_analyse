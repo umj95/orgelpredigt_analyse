{
 "cells": [
  {
   "cell_type": "code",
   "execution_count": 4,
   "id": "8ffa426b",
   "metadata": {},
   "outputs": [],
   "source": [
    "import pandas as pd\n",
    "import db_connection\n",
    "import ast\n",
    "import re\n",
    "from collections import Counter\n",
    "\n",
    "import plotly.graph_objects as go\n",
    "#import matplotlib.pyplot as plt\n",
    "import networkx as nx\n",
    "\n",
    "from mysql.connector import Error\n",
    "import orgelpredigt_analysis as oa\n",
    "\n",
    "import json\n",
    "import os"
   ]
  },
  {
   "cell_type": "code",
   "execution_count": 3,
   "id": "a3bae7f5",
   "metadata": {},
   "outputs": [],
   "source": [
    "# Get the list of all files in a directory\n",
    "with open(\"predigten_übersicht.json\", \"r\", encoding=\"utf-8\") as file: \n",
    "    data = json.load(file)\n",
    "\n",
    "# Ensure all entries have a 'year' key\n",
    "cleaned = {k: v for k, v in data.items() if 'year' in v}\n",
    "\n",
    "year_finder = re.compile(r'[0-9]{4}')\n",
    "\n",
    "for k, v in data.items():\n",
    "    year = re.findall(year_finder, v['year'])[0]\n",
    "    if year:\n",
    "        v['year'] = year\n",
    "    else:\n",
    "        v['year'] = '[s.a.]'\n",
    "\n",
    "# Convert to nested list and sort by year\n",
    "relevant_sermons = sorted(\n",
    "    [[key, value['title'], int(value['year'])] for key, value in cleaned.items()],\n",
    "    key=lambda x: x[2]\n",
    ")\n",
    "\n",
    "ids = [i[0] for i in relevant_sermons]"
   ]
  },
  {
   "cell_type": "code",
   "execution_count": 4,
   "id": "74c81f09",
   "metadata": {},
   "outputs": [],
   "source": [
    "sermons = []"
   ]
  },
  {
   "cell_type": "code",
   "execution_count": 5,
   "id": "13ba1963",
   "metadata": {},
   "outputs": [
    {
     "name": "stdout",
     "output_type": "stream",
     "text": [
      "Query executed for E100155, but no data found.\n",
      "Query executed for E100151, but no data found.\n",
      "Query executed for E100155, but no data found.\n",
      "Query executed for E100155, but no data found.\n",
      "Query executed for E100155, but no data found.\n",
      "Query executed for E100155, but no data found.\n",
      "Query executed for E100155, but no data found.\n",
      "Query executed for E100151, but no data found.\n",
      "Query executed for E100155, but no data found.\n",
      "Query executed for E100155, but no data found.\n",
      "Query executed for E100155, but no data found.\n",
      "Query executed for E100155, but no data found.\n",
      "Query executed for E030276?, but no data found.\n",
      "Query executed for E030069 ; E030304, but no data found.\n",
      "Query executed for E011607 ;  E011608, but no data found.\n",
      "Query executed for E100155, but no data found.\n",
      "Query executed for E081018, but no data found.\n",
      "Query executed for E081024, but no data found.\n",
      "Query executed for E080937, but no data found.\n",
      "Query executed for E081023, but no data found.\n",
      "Query executed for E081021, but no data found.\n",
      "Query executed for E081020, but no data found.\n",
      "Query executed for E080956, but no data found.\n",
      "Query executed for E081019, but no data found.\n",
      "Query executed for E080889, but no data found.\n",
      "Query executed for E100145, but no data found.\n",
      "Query executed for E100147, but no data found.\n",
      "Query executed for E100146, but no data found.\n",
      "Query executed for E080888, but no data found.\n",
      "Query executed for E080887, but no data found.\n",
      "Query executed for E080894, but no data found.\n",
      "Query executed for E100148, but no data found.\n",
      "Query executed for E100149, but no data found.\n",
      "Query executed for E080911, but no data found.\n",
      "Query executed for E100153, but no data found.\n",
      "Query executed for E080922, but no data found.\n",
      "Query executed for E081014, but no data found.\n",
      "Query executed for E080954, but no data found.\n",
      "Query executed for E080945, but no data found.\n",
      "Query executed for E080987, but no data found.\n",
      "Query executed for E081009, but no data found.\n",
      "Query executed for E080930, but no data found.\n",
      "Query executed for E081012, but no data found.\n",
      "Query executed for E080935, but no data found.\n",
      "Query executed for E080919, but no data found.\n",
      "Query executed for E080917, but no data found.\n",
      "Query executed for E080926, but no data found.\n",
      "Query executed for E080951, but no data found.\n",
      "Query executed for E080966, but no data found.\n",
      "Query executed for E080946, but no data found.\n",
      "Query executed for E080912, but no data found.\n",
      "Query executed for E080932, but no data found.\n",
      "Query executed for E080956, but no data found.\n",
      "Query executed for E080968, but no data found.\n",
      "Query executed for E080915, but no data found.\n",
      "Query executed for E080957, but no data found.\n",
      "Query executed for E080999, but no data found.\n",
      "Query executed for E080933, but no data found.\n",
      "Query executed for E081008, but no data found.\n",
      "Query executed for E081003, but no data found.\n",
      "Query executed for E080953, but no data found.\n",
      "Query executed for E080967, but no data found.\n",
      "Query executed for E080936, but no data found.\n",
      "Query executed for E080963, but no data found.\n",
      "Query executed for E080983, but no data found.\n",
      "Query executed for E080909, but no data found.\n",
      "Query executed for E080955, but no data found.\n",
      "Query executed for E080997, but no data found.\n",
      "Query executed for E080940, but no data found.\n",
      "Query executed for E080929, but no data found.\n",
      "Query executed for E080920, but no data found.\n",
      "Query executed for E081001, but no data found.\n",
      "Query executed for E080960, but no data found.\n",
      "Query executed for E080981, but no data found.\n",
      "Query executed for E080937, but no data found.\n",
      "Query executed for E080903, but no data found.\n",
      "Query executed for E080927, but no data found.\n",
      "Query executed for E080942, but no data found.\n",
      "Query executed for E080931, but no data found.\n",
      "Query executed for E080958, but no data found.\n",
      "Query executed for E080998, but no data found.\n",
      "Query executed for E080925, but no data found.\n",
      "Query executed for E080980, but no data found.\n",
      "Query executed for E080905, but no data found.\n",
      "Query executed for E080986, but no data found.\n",
      "Query executed for E080948, but no data found.\n",
      "Query executed for E080988, but no data found.\n",
      "Query executed for E080949, but no data found.\n",
      "Query executed for E080994, but no data found.\n",
      "Query executed for E080907, but no data found.\n",
      "Query executed for E081007, but no data found.\n",
      "Query executed for E080904, but no data found.\n",
      "Query executed for E080959, but no data found.\n",
      "Query executed for E080952, but no data found.\n",
      "Query executed for E081005, but no data found.\n",
      "Query executed for E080993, but no data found.\n",
      "Query executed for E080964, but no data found.\n",
      "Query executed for E080978, but no data found.\n",
      "Query executed for E081011, but no data found.\n",
      "Query executed for E080918, but no data found.\n",
      "Query executed for E080973, but no data found.\n",
      "Query executed for E100152, but no data found.\n",
      "Query executed for E080979, but no data found.\n",
      "Query executed for E080943, but no data found.\n",
      "Query executed for E080896, but no data found.\n",
      "Query executed for E100155, but no data found.\n",
      "Query executed for E080974, but no data found.\n",
      "Query executed for E081004, but no data found.\n",
      "Query executed for E080989, but no data found.\n",
      "Query executed for E080970, but no data found.\n",
      "Query executed for E080972, but no data found.\n",
      "Query executed for E080991, but no data found.\n",
      "Query executed for E080944, but no data found.\n",
      "Query executed for E080971, but no data found.\n",
      "Query executed for E080910, but no data found.\n",
      "Query executed for E080928, but no data found.\n",
      "Query executed for E080941, but no data found.\n",
      "Query executed for E080990, but no data found.\n",
      "Query executed for E080976, but no data found.\n",
      "Query executed for E080898, but no data found.\n",
      "Query executed for E080996, but no data found.\n",
      "Query executed for E100154, but no data found.\n",
      "Query executed for E080900, but no data found.\n",
      "Query executed for E100156, but no data found.\n",
      "Query executed for E080984, but no data found.\n",
      "Query executed for E080982, but no data found.\n",
      "Query executed for E080995, but no data found.\n",
      "Query executed for E080916, but no data found.\n",
      "Query executed for E080906, but no data found.\n",
      "Query executed for E080950, but no data found.\n",
      "Query executed for E080975, but no data found.\n",
      "Query executed for E100151, but no data found.\n",
      "Query executed for E080921, but no data found.\n",
      "Query executed for E081010, but no data found.\n",
      "Query executed for E080992, but no data found.\n",
      "Query executed for E080908, but no data found.\n",
      "Query executed for E080914, but no data found.\n",
      "Query executed for E080923, but no data found.\n",
      "Query executed for E080899, but no data found.\n",
      "Query executed for E080961, but no data found.\n",
      "Query executed for E080913, but no data found.\n",
      "Query executed for E080985, but no data found.\n",
      "Query executed for E080969, but no data found.\n",
      "Query executed for E080902, but no data found.\n",
      "Query executed for E081006, but no data found.\n",
      "Query executed for E080962, but no data found.\n",
      "Query executed for E081002, but no data found.\n",
      "Query executed for E081013, but no data found.\n",
      "Query executed for E081000, but no data found.\n",
      "Query executed for E080924, but no data found.\n",
      "Query executed for E080965, but no data found.\n",
      "Query executed for E080947, but no data found.\n",
      "Query executed for E080977, but no data found.\n",
      "Query executed for E080901, but no data found.\n",
      "Query executed for E080934, but no data found.\n",
      "Query executed for E081028, but no data found.\n",
      "Query executed for E100159, but no data found.\n",
      "Query executed for E081026, but no data found.\n",
      "Query executed for E100160, but no data found.\n",
      "Query executed for E100157, but no data found.\n",
      "Query executed for E081029, but no data found.\n",
      "Query executed for E100158, but no data found.\n",
      "Query executed for E081043, but no data found.\n",
      "Query executed for E081045, but no data found.\n",
      "Query executed for E100164, but no data found.\n",
      "Query executed for E081038, but no data found.\n",
      "Query executed for E081048, but no data found.\n",
      "Query executed for E081044, but no data found.\n",
      "Query executed for E100169, but no data found.\n",
      "Query executed for E081039, but no data found.\n",
      "Query executed for E081042, but no data found.\n",
      "Query executed for E100165, but no data found.\n",
      "Query executed for E081049, but no data found.\n",
      "Query executed for E100166, but no data found.\n",
      "Query executed for E100162, but no data found.\n",
      "Query executed for E100170, but no data found.\n",
      "Query executed for E100163, but no data found.\n",
      "Query executed for E081047, but no data found.\n",
      "Query executed for E100161, but no data found.\n",
      "Query executed for E100167, but no data found.\n",
      "Query executed for E081052, but no data found.\n",
      "Query executed for E100172, but no data found.\n",
      "Query executed for E081054, but no data found.\n",
      "Query executed for E081055, but no data found.\n",
      "Query executed for E081056, but no data found.\n",
      "Query executed for E100148, but no data found.\n",
      "Query executed for E081053, but no data found.\n",
      "Query executed for E100149, but no data found.\n",
      "Query executed for E100171, but no data found.\n",
      "Query executed for E091098, but no data found.\n",
      "Query executed for E100174, but no data found.\n",
      "Query executed for E081074, but no data found.\n",
      "Query executed for E080951, but no data found.\n",
      "Query executed for E081059, but no data found.\n",
      "Query executed for E100182, but no data found.\n",
      "Query executed for E081073, but no data found.\n",
      "Query executed for E081067, but no data found.\n",
      "Query executed for E080981, but no data found.\n",
      "Query executed for E081072, but no data found.\n",
      "Query executed for E100178, but no data found.\n",
      "Query executed for E100185, but no data found.\n",
      "Query executed for E081069, but no data found.\n",
      "Query executed for E080938, but no data found.\n",
      "Query executed for E081062, but no data found.\n",
      "Query executed for E100179, but no data found.\n",
      "Query executed for E100183, but no data found.\n",
      "Query executed for E100184, but no data found.\n",
      "Query executed for E100176, but no data found.\n",
      "Query executed for E100181, but no data found.\n",
      "Query executed for E081058, but no data found.\n",
      "Query executed for E081068, but no data found.\n",
      "Query executed for E100180, but no data found.\n",
      "Query executed for E100173, but no data found.\n",
      "Query executed for E080921, but no data found.\n",
      "Query executed for E081065, but no data found.\n",
      "Query executed for E081071, but no data found.\n",
      "Query executed for E081066, but no data found.\n",
      "Query executed for E100175, but no data found.\n",
      "Query executed for E100177, but no data found.\n",
      "Query executed for E081063, but no data found.\n",
      "Query executed for E081061, but no data found.\n",
      "Query executed for E081060, but no data found.\n",
      "Query executed for E081064, but no data found.\n",
      "Query executed for E100158, but no data found.\n",
      "Query executed for E081099, but no data found.\n",
      "Query executed for E080922, but no data found.\n",
      "Query executed for E081100, but no data found.\n",
      "Query executed for E081090, but no data found.\n",
      "Query executed for E081107, but no data found.\n",
      "Query executed for E091110, but no data found.\n",
      "Query executed for E081086, but no data found.\n",
      "Query executed for E081088, but no data found.\n",
      "Query executed for E100186, but no data found.\n",
      "Query executed for E081098, but no data found.\n",
      "Query executed for E081083, but no data found.\n",
      "Query executed for E081093, but no data found.\n",
      "Query executed for E081084, but no data found.\n",
      "Query executed for E081103, but no data found.\n",
      "Query executed for E081062, but no data found.\n",
      "Query executed for E081091, but no data found.\n",
      "Query executed for E081096, but no data found.\n",
      "Query executed for E081101, but no data found.\n",
      "Query executed for E081097, but no data found.\n",
      "Query executed for E081092, but no data found.\n",
      "Query executed for E100189, but no data found.\n",
      "Query executed for E100149, but no data found.\n",
      "Query executed for E100190, but no data found.\n",
      "Query executed for E081108, but no data found.\n",
      "Query executed for E080914, but no data found.\n",
      "Query executed for E100187, but no data found.\n",
      "Query executed for E081104, but no data found.\n",
      "Query executed for E081089, but no data found.\n",
      "Query executed for E100188, but no data found.\n",
      "Query executed for E081114, but no data found.\n",
      "Query executed for E081115, but no data found.\n",
      "Query executed for E100191, but no data found.\n",
      "Query executed for E081113, but no data found.\n",
      "Query executed for E081111, but no data found.\n",
      "Query executed for E100170, but no data found.\n",
      "Query executed for E030057 (Ortsteil Neustadt), but no data found.\n",
      "Query executed for E100194, but no data found.\n"
     ]
    }
   ],
   "source": [
    "for id in ids:\n",
    "    item = {}\n",
    "    current_sermon = oa.Sermon(id)\n",
    "    item[\"id\"] = current_sermon.id\n",
    "    item[\"links\"] = [item for item in current_sermon.all_references if oa.is_id(item)]\n",
    "    sermons.append(item)"
   ]
  },
  {
   "cell_type": "code",
   "execution_count": 6,
   "id": "a45f07ab",
   "metadata": {},
   "outputs": [],
   "source": [
    "color_map = {\n",
    "    'orgelpredigt': 'rgb(135, 44, 162)',\n",
    "    'musikwerk': 'rgb(192, 54, 157)',\n",
    "    'literatur': 'rgb(234, 79, 136)',\n",
    "    'quelle': 'rgb(250, 120, 118)',\n",
    "    'bibel': 'rgb(246, 169, 122)',\n",
    "    'nan': 'rgb(237, 217, 163)',\n",
    "    'text': 'rgb(237, 217, 163)',\n",
    "    'E00': 'rgb(135, 44, 162)',\n",
    "    'E10': 'rgb(192, 54, 157)',\n",
    "    'E09': 'rgb(234, 79, 136)',\n",
    "    'E08': 'rgb(250, 120, 118)'\n",
    "    }"
   ]
  },
  {
   "cell_type": "code",
   "execution_count": 29,
   "id": "fd0c56a6",
   "metadata": {},
   "outputs": [],
   "source": [
    "sermon = oa.Sermon(\"E000052\")"
   ]
  },
  {
   "cell_type": "code",
   "execution_count": 90,
   "id": "9cbe8398",
   "metadata": {},
   "outputs": [
    {
     "name": "stdout",
     "output_type": "stream",
     "text": [
      "[nan, nan, nan, nan, nan, nan, nan, nan, nan, nan, nan, nan, nan, nan, nan, nan, nan, nan, nan, nan, nan, nan, nan, nan, nan, nan, ' bibel', ' bibel', ' bibel', ' bibel', ' bibel', ' bibel', ' bibel', ' bibel', nan, nan, nan, nan, nan, nan, nan, nan, nan, nan, nan, nan, nan, nan, nan, nan, nan, nan, nan, nan, nan, nan, nan, nan, nan, nan, nan, nan, nan, nan, nan, nan, nan, nan, nan, nan, nan, nan, nan, nan, nan, nan, nan, nan, nan, nan, nan, nan, nan, nan, nan, nan, nan, nan, nan, nan, nan, nan, nan, nan, nan, nan, nan, nan, nan, nan, nan, nan, nan, nan, nan, nan, nan, nan, nan, nan, nan, nan, nan, nan, nan, nan, nan, nan, nan, nan, nan, nan, nan, nan, nan, nan, nan, nan, nan, nan, nan, nan, nan, nan, nan, nan, nan, nan, nan, nan, nan, nan, nan, nan, nan, nan, nan, nan, nan, nan, nan, nan, nan, nan, nan, nan, nan, nan, nan, nan, nan, nan, nan, nan, nan, nan, nan, nan, nan, nan, nan, nan, nan, nan, nan, nan, nan, nan, nan, nan, nan, nan, nan, nan, nan, nan, nan, nan, nan, nan, nan, nan, nan, nan, nan, nan, nan, nan, nan, nan, nan, nan, nan, nan, nan, nan, nan, nan, nan, nan, nan, nan, nan, nan, nan, nan, nan, nan, nan, nan, nan, nan, nan, nan, nan, nan, nan, nan, nan, nan, nan, nan, nan, nan, nan, nan, nan, nan, nan, nan, nan, nan, nan, nan, nan, nan, nan, nan, nan, nan, nan, nan, nan, nan, nan, nan, nan, nan, nan, nan, nan, nan, nan, nan, nan, nan, nan, nan, nan, nan, nan, nan, nan, nan, nan, ' bibel', ' bibel', ' bibel', ' bibel', ' bibel', ' bibel', ' bibel', ' bibel', ' bibel', ' bibel', ' bibel', ' bibel', ' bibel', ' bibel', ' bibel', ' bibel', ' bibel', ' bibel', ' bibel', ' bibel', ' bibel', ' bibel', ' bibel', ' bibel', ' bibel', ' bibel', ' bibel', ' bibel', ' bibel', ' bibel', ' bibel', ' bibel', ' bibel', ' bibel', ' bibel', ' bibel', ' bibel', ' bibel', ' bibel', ' bibel', ' bibel', ' bibel', ' bibel', ' bibel', ' bibel', ' bibel', ' bibel', ' bibel', ' bibel', ' bibel', ' bibel', ' bibel', ' bibel', ' bibel', ' bibel', ' bibel', ' bibel', ' bibel', ' bibel', ' bibel', ' bibel', ' bibel', ' bibel', ' bibel', ' bibel', ' bibel', ' bibel', ' bibel', ' bibel', ' bibel', ' bibel', ' bibel', ' bibel', ' bibel', ' bibel', ' bibel', nan, nan, nan, nan, nan, nan, nan, nan, nan, nan, nan, nan, nan, nan, nan, nan, nan, nan, nan, nan, nan, nan, nan, nan, nan, nan, nan, nan, nan, nan, nan, nan, nan, nan, ' bibel', ' bibel', ' bibel', ' bibel', nan, nan, nan, nan, nan, nan, nan, nan, nan, nan, nan, nan, nan, nan, nan, nan, nan, nan, nan, nan, nan, nan, nan, nan, nan, nan, nan, nan, nan, nan, nan, nan, nan, nan, nan, nan, nan, nan, nan, nan, nan, nan, nan, ' bibel', ' bibel', ' bibel', ' bibel', ' bibel', ' bibel', ' bibel', ' bibel', ' bibel', ' bibel', ' bibel', ' bibel', ' bibel', ' bibel', nan, nan, nan, nan, nan, nan, nan, nan, nan, nan, nan, nan, nan, nan, nan, nan, nan, nan, nan, nan, nan, nan, nan, nan, nan, nan, nan, nan, nan, nan, nan, nan, nan, nan, nan, nan, nan, nan, nan, ' bibel', ' bibel', ' bibel', ' bibel', ' bibel', ' bibel', nan, nan, nan, nan, nan, nan, nan, nan, nan, nan, nan, nan, nan, nan, nan, nan, ' bibel', ' bibel', ' bibel', ' bibel', ' bibel', ' bibel', ' bibel', ' bibel', ' bibel', ' bibel', ' bibel', ' bibel', ' bibel', nan, nan, nan, nan, nan, nan, nan, nan, nan, nan, nan, nan, nan, nan, nan, nan, nan, nan, nan, ' bibel', ' bibel', ' bibel', ' bibel', nan, nan, nan, nan, nan, nan, nan, nan, nan, nan, nan, nan, nan, nan, nan, ' bibel', ' bibel', ' bibel', ' bibel', nan, nan, nan, nan, nan, nan, nan, nan, nan, nan, nan, nan, nan, nan, nan, nan, nan, nan, nan, nan, nan, nan, nan, nan, nan, nan, nan, nan, nan, nan, nan, nan, nan, nan, nan, nan, nan, nan, nan, nan, nan, nan, nan, nan, nan, nan, nan, nan, nan, nan, nan, nan, nan, nan, nan, nan, nan, nan, nan, nan, nan, nan, nan, nan, nan, nan, nan, nan, nan, nan, nan, nan, nan, nan, nan, nan, nan, nan, nan, nan, nan, nan, nan, nan, nan, nan, nan, nan, ' bibel', ' bibel', ' bibel', ' bibel', nan, nan, nan, nan, nan, nan, nan, nan, nan, nan, nan, nan, nan, nan, nan, nan, nan, nan, nan, nan, nan, nan, nan, nan, nan, nan, nan, nan, nan, nan, nan, nan, nan, nan, ' bibel', ' bibel', ' bibel', ' bibel', ' bibel', nan, nan, nan, nan, nan, nan, nan, nan, nan, nan, nan, nan, nan, nan, nan, nan, nan, nan, nan, nan, ' quelle', nan, nan, nan, nan, nan, nan, nan, nan, nan, nan, nan, nan, nan, nan, nan, nan, nan, nan, nan, nan, nan, nan, nan, nan, nan, nan, nan, nan, nan, nan, nan, nan, nan, nan, nan, nan, nan, nan, nan, nan, nan, nan, nan, nan, nan, nan, nan, nan, nan, nan, nan, nan, nan, nan, nan, nan, nan, nan, ' bibel', ' bibel', ' bibel', ' bibel', ' bibel', nan, nan, nan, nan, nan, nan, nan, nan, nan, nan, nan, nan, nan, nan, nan, nan, nan, ' bibel', ' bibel', ' bibel', ' bibel', ' bibel', ' bibel', nan, nan, nan, nan, nan, nan, nan, nan, nan, nan, nan, nan, nan, nan, nan, nan, nan, nan, nan, nan, nan, nan, nan, nan, nan, nan, nan, nan, nan, nan, nan, nan, nan, nan, nan, nan, nan, nan, nan, nan, nan, nan, nan, nan, nan, nan, nan, nan, nan, nan, nan, nan, nan, nan, nan, nan, nan, nan, nan, nan, nan, nan, nan, nan, nan, nan, nan, nan, nan, nan, nan, nan, nan, nan, nan, nan, nan, nan, nan, nan, nan, ' bibel', ' bibel', ' bibel', ' bibel', ' bibel', ' bibel', ' bibel', ' bibel', ' bibel', ' bibel', ' bibel', ' bibel', ' bibel', ' bibel', nan, nan, nan, nan, nan, nan, nan, ' musikwerk', ' musikwerk', ' musikwerk', ' musikwerk', ' musikwerk', nan, nan, nan, nan, nan, nan, nan, nan, ' bibel', ' bibel', ' bibel', ' bibel', ' bibel', ' bibel', ' bibel', ' bibel', ' bibel', ' bibel', ' bibel', ' bibel', ' bibel', ' bibel', ' bibel', ' bibel', ' bibel', ' bibel', ' bibel', ' bibel', ' bibel', ' bibel', ' bibel', ' bibel', ' bibel', ' bibel', ' bibel', ' bibel', ' bibel', ' bibel', ' bibel', ' bibel', ' bibel', ' bibel', ' bibel', ' bibel', ' bibel', ' bibel', ' bibel', ' bibel', ' bibel', ' bibel', ' bibel', ' bibel', ' bibel', ' bibel', ' bibel', ' bibel', ' bibel', ' bibel', ' bibel', ' bibel', ' bibel', ' bibel', ' bibel', ' bibel', ' bibel', ' bibel', ' bibel', ' bibel', ' bibel', ' bibel', ' bibel', ' bibel', ' bibel', ' bibel', ' bibel', ' bibel', ' bibel', ' bibel', ' bibel', ' bibel', ' bibel', ' bibel', ' bibel', ' bibel', ' bibel', ' bibel', ' bibel', ' bibel', ' bibel', ' bibel', ' bibel', ' bibel', ' bibel', ' bibel', ' bibel', ' bibel', ' bibel', ' bibel', ' bibel', ' bibel', ' bibel', ' bibel', ' bibel', ' bibel', ' bibel', ' bibel', ' bibel', ' bibel', ' bibel', ' bibel', ' bibel', ' bibel', ' bibel', ' bibel', ' bibel', ' bibel', ' bibel', ' bibel', ' bibel', ' bibel', ' bibel', ' bibel', ' bibel', ' bibel', ' bibel', ' bibel', ' bibel', ' bibel', ' bibel', ' bibel', ' bibel', ' bibel', ' bibel', ' bibel', ' bibel', ' bibel', ' bibel', ' bibel', ' bibel', ' bibel', ' bibel', ' bibel', ' bibel', ' bibel', nan, nan, nan, nan, nan, nan, nan, nan, nan, nan, nan, nan, nan, nan, nan, nan, nan, nan, nan, nan, nan, nan, nan, nan, nan, nan, nan, nan, nan, nan, nan, nan, nan, nan, nan, nan, nan, nan, nan, nan, nan, nan, nan, nan, nan, nan, nan, nan, nan, nan, nan, nan, nan, nan, nan, nan, nan, nan, nan, nan, nan, nan, nan, nan, nan, nan, nan, nan, nan, nan, nan, nan, nan, nan, nan, nan, nan, nan, nan, nan, nan, nan, nan, nan, nan, nan, nan, nan, nan, nan, nan, nan, nan, nan, nan, nan, nan, nan, nan, nan, nan, nan, nan, nan, nan, nan, nan, nan, nan, nan, nan, nan, nan, nan, nan, nan, nan, nan, nan, nan, nan, nan, nan, nan, nan, nan, nan, nan, nan, nan, nan, nan, nan, nan, nan, nan, nan, nan, nan, nan, nan, nan, nan, nan, nan, nan, nan, nan, ' bibel', ' bibel', ' bibel', ' bibel', ' bibel', ' bibel', nan, nan, nan, nan, nan, nan, nan, nan, nan, nan, nan, nan, nan, nan, nan, nan, nan, nan, nan, nan, nan, nan, nan, nan, nan, nan, nan, nan, nan, nan, nan, nan, nan, nan, nan, nan, nan, nan, nan, nan, nan, nan, nan, nan, ' musikwerk', ' musikwerk', ' musikwerk', ' musikwerk', ' musikwerk', ' musikwerk', ' musikwerk', ' musikwerk', ' musikwerk', ' musikwerk', ' musikwerk', ' musikwerk', ' musikwerk', ' musikwerk', ' musikwerk', ' musikwerk', ' musikwerk', ' musikwerk', ' musikwerk', ' musikwerk', ' musikwerk', ' musikwerk', ' musikwerk', ' musikwerk', ' musikwerk', ' musikwerk', ' musikwerk', ' musikwerk', ' musikwerk', ' musikwerk', ' musikwerk', ' musikwerk', ' musikwerk', ' musikwerk', ' musikwerk', ' musikwerk', ' musikwerk', ' musikwerk', ' musikwerk', nan, nan, nan, nan, nan, nan, nan, nan, nan, ' bibel', ' bibel', ' bibel', ' bibel', ' bibel', ' bibel', ' bibel', ' bibel', nan, nan, nan, nan, nan, nan, nan, nan, nan, nan, nan, nan, nan, nan, nan, nan, nan, nan, nan, nan, nan, nan, nan, nan, nan, nan, nan, nan, nan, nan, nan, nan, nan, nan, nan, nan, nan, nan, nan, nan, nan, nan, nan, nan, nan, nan, nan, nan, nan, nan, nan, nan, nan, nan, nan, nan, nan, nan, nan, nan, nan, nan, nan, nan, nan, nan, nan, nan, nan, nan, nan, nan, nan, nan, nan, nan, nan, nan, nan, nan, nan, nan, nan, nan, nan, nan, nan, nan, ' bibel', ' bibel', ' bibel', ' bibel', ' bibel', nan, nan, nan, nan, nan, nan, nan, nan, ' bibel', ' bibel', ' bibel', ' bibel', ' bibel', ' bibel', ' bibel', nan, nan, nan, nan, nan, nan, nan, nan, nan, nan, nan, nan, nan, nan, nan, nan, nan, nan, nan, nan, nan, nan, nan, nan, nan, nan, nan, nan, nan, nan, nan, nan, nan, nan, nan, nan, nan, nan, nan, nan, nan, nan, nan, nan, nan, nan, nan, nan, nan, nan, nan, nan, nan, nan, nan, nan, nan, nan, nan, nan, nan, nan, nan, nan, nan, nan, nan, nan, nan, nan, nan, nan, nan, nan, nan, nan, nan, nan, nan, nan, nan, nan, nan, nan, nan, nan, nan, nan, nan, nan, nan, nan, nan, ' orgelpredigt', ' orgelpredigt', ' orgelpredigt', ' orgelpredigt', ' orgelpredigt', ' orgelpredigt', nan, nan, nan, nan, nan, nan, nan, nan, nan, nan, nan, nan, nan, nan, nan, nan, nan, nan, nan, nan, nan, nan, nan, nan, nan, nan, nan, nan, nan, nan, nan, nan, nan, ' bibel', ' bibel', ' bibel', ' bibel', nan, nan, nan, nan, nan, nan, nan, nan, nan, nan, nan, nan, nan, nan, nan, nan, nan, nan, nan, nan, nan, nan, nan, nan, nan, nan, nan, nan, nan, nan, nan, ' bibel', ' bibel', ' bibel', ' bibel', ' bibel', ' bibel', ' bibel', nan, nan, nan, nan, nan, nan, nan, nan, nan, nan, nan, nan, nan, nan, nan, nan, nan, nan, nan, nan, nan, nan, nan, nan, nan, nan, nan, nan, nan, nan, nan, nan, nan, nan, nan, nan, nan, nan, nan, nan, nan, nan, nan, nan, nan, nan, nan, nan, nan, nan, nan, nan, ' quelle', ' quelle', ' quelle', ' quelle', ' quelle', nan, nan, nan, nan, nan, nan, nan, nan, nan, nan, nan, nan, nan, nan, nan, nan, nan, nan, nan, nan, nan, nan, nan, nan, nan, nan, nan, nan, nan, nan, nan, nan, nan, nan, nan, nan, nan, nan, nan, nan, nan, nan, nan, nan, nan, nan, nan, nan, nan, nan, nan, nan, nan, nan, nan, nan, nan, nan, nan, nan, nan, nan, nan, nan, nan, nan, nan, nan, nan, nan, nan, nan, nan, nan, nan, nan, nan, nan, nan, nan, nan, nan, nan, nan, nan, nan, nan, nan, nan, nan, nan, nan, nan, nan, nan, nan, nan, nan, nan, nan, nan, nan, nan, nan, nan, nan, nan, nan, nan, nan, nan, nan, nan, nan, nan, nan, nan, nan, nan, nan, nan, nan, nan, nan, nan, nan, nan, ' quelle', ' quelle', ' quelle', ' quelle', ' quelle', ' quelle', ' quelle', ' quelle', ' quelle', ' quelle', ' quelle', ' quelle', ' quelle', ' quelle', ' quelle', ' quelle', ' quelle', ' quelle', ' quelle', ' quelle', ' quelle', ' quelle', ' quelle', ' quelle', ' quelle', ' quelle', ' quelle', ' quelle', ' quelle', ' quelle', ' quelle', ' quelle', ' quelle', ' quelle', ' quelle', ' quelle', ' quelle', ' quelle', ' quelle', ' quelle', ' quelle', ' quelle', ' quelle', ' quelle', ' quelle', ' quelle', ' quelle', ' quelle', ' quelle', ' quelle', ' quelle', ' quelle', ' quelle', ' quelle', ' quelle', ' quelle', ' quelle', ' quelle', ' quelle', ' quelle', ' quelle', ' quelle', ' quelle', ' quelle', ' quelle', nan, nan, nan, nan, nan, nan, nan, nan, nan, nan, nan, nan, nan, nan, nan, nan, nan, nan, nan, nan, nan, nan, nan, nan, nan, nan, nan, nan, nan, nan, ' musikwerk', ' musikwerk', ' musikwerk', ' musikwerk', ' musikwerk', ' musikwerk', ' musikwerk', ' musikwerk', ' musikwerk', ' musikwerk', ' musikwerk', ' musikwerk', ' musikwerk', ' musikwerk', ' musikwerk', ' musikwerk', ' musikwerk', ' musikwerk', ' musikwerk', ' musikwerk', ' musikwerk', ' musikwerk', ' musikwerk', ' musikwerk', ' musikwerk', ' musikwerk', ' musikwerk', ' musikwerk', ' musikwerk', ' musikwerk', ' musikwerk', ' musikwerk', ' musikwerk', ' musikwerk', ' musikwerk', ' musikwerk', ' musikwerk', ' musikwerk', ' musikwerk', ' musikwerk', ' musikwerk', ' musikwerk', ' musikwerk', ' musikwerk', ' musikwerk', ' musikwerk', ' musikwerk', ' musikwerk', ' musikwerk', ' musikwerk', ' musikwerk', nan, nan, nan, nan, nan, nan, nan, nan, nan, nan, nan, nan, nan, nan, nan, nan, nan, nan, nan, nan, nan, nan, nan, nan, nan, nan, nan, nan, nan, nan, nan, nan, nan, nan, nan, nan, nan, nan, nan, nan, nan, nan, nan, nan, nan, nan, nan, nan, nan, nan, nan, nan, nan, nan, nan, nan, nan, nan, nan, nan, nan, nan, ' bibel', ' bibel', ' bibel', ' bibel', ' bibel', ' bibel', ' bibel', ' bibel', ' bibel', nan, nan, nan, nan, nan, nan, nan, nan, nan, nan, nan, nan, nan, nan, nan, nan, nan, nan, nan, nan, nan, ' bibel', ' bibel', ' bibel', ' bibel', nan, nan, nan, nan, nan, nan, nan, nan, nan, nan, nan, nan, nan, nan, nan, nan, nan, nan, nan, nan, nan, nan, nan, nan, nan, nan, nan, nan, nan, nan, nan, nan, nan, nan, nan, nan, nan, nan, nan, nan, nan, nan, nan, nan, nan, nan, nan, nan, nan, nan, nan, nan, nan, nan, nan, nan, nan, nan, nan, nan, nan, nan, nan, nan, nan, nan, nan, nan, nan, nan, nan, nan, nan, nan, nan, nan, nan, nan, nan, nan, nan, nan, nan, nan, nan, nan, nan, nan, nan, nan, nan, nan, nan, nan, ' bibel', ' bibel', ' bibel', ' bibel', nan, nan, nan, nan, nan, nan, nan, nan, nan, nan, nan, nan, nan, nan, nan, nan, nan, nan, nan, nan, nan, nan, nan, nan, nan, nan, nan, nan, nan, nan, nan, nan, nan, nan, nan, nan, nan, nan, nan, nan, nan, nan, nan, nan, nan, nan, nan, nan, nan, ' quelle', ' quelle', ' quelle', nan, nan, nan, nan, nan, nan, nan, nan, nan, nan, nan, nan, nan, nan, nan, nan, nan, nan, nan, nan, ' musikwerk', ' musikwerk', ' musikwerk', ' musikwerk', ' musikwerk', ' musikwerk', ' musikwerk', ' musikwerk', ' musikwerk', ' musikwerk', ' musikwerk', ' musikwerk', ' musikwerk', ' musikwerk', ' musikwerk', ' musikwerk', ' musikwerk', ' musikwerk', ' musikwerk', ' musikwerk', ' musikwerk', ' musikwerk', ' musikwerk', ' musikwerk', ' musikwerk', ' musikwerk', nan, nan, nan, nan, nan, nan, nan, nan, nan, nan, nan, nan, nan, nan, nan, nan, nan, nan, nan, nan, nan, nan, ' bibel', ' bibel', ' bibel', ' bibel', nan, nan, nan, nan, nan, nan, nan, nan, nan, nan, nan, nan, nan, nan, nan, nan, nan, nan, nan, nan, nan, nan, nan, nan, nan, nan, nan, nan, nan, nan, nan, nan, nan, nan, nan, nan, nan, nan, nan, nan, nan, nan, nan, nan, nan, nan, nan, nan, nan, nan, nan, nan, nan, nan, nan, nan, nan, nan, nan, nan, nan, nan, nan, ' bibel', ' bibel', ' bibel', ' bibel', ' bibel', ' bibel', ' bibel', nan, nan, nan, nan, nan, nan, nan, nan, nan, nan, nan, nan, nan, nan, nan, nan, nan, nan, nan, nan, nan, nan, nan, nan, nan, nan, nan, nan, nan, nan, nan, nan, nan, nan, nan, ' quelle', nan, nan, nan, nan, nan, nan, nan, nan, nan, nan, nan, nan, nan, nan, nan, nan, nan, nan, nan, nan, nan, nan, nan, nan, nan, nan, nan, nan, nan, nan, nan, nan, nan, nan, nan, nan, nan, nan, nan, nan, nan, nan, nan, nan, nan, nan, nan, nan, nan, nan, nan, nan, nan, nan, nan, nan, nan, nan, nan, nan, nan, nan, nan, nan, nan, nan, nan, nan, nan, nan, nan, nan, nan, nan, nan, nan, ' quelle', ' quelle', nan, nan, nan, nan, nan, nan, nan, nan, nan, nan, nan, nan, nan, nan, nan, nan, nan, nan, nan, nan, nan, nan, nan, nan, nan, nan, nan, nan, nan, nan, nan, nan, nan, nan, nan, nan, nan, nan, nan, ' bibel', ' bibel', ' bibel', ' bibel', ' bibel', ' bibel', ' quelle', ' quelle', ' quelle', ' quelle', ' quelle', ' quelle', ' quelle', ' quelle', ' quelle', ' quelle', nan, nan, nan, nan, nan, nan, nan, nan, nan, nan, ' quelle', ' quelle', ' quelle', nan, nan, nan, nan, nan, nan, nan, nan, nan, nan, nan, nan, nan, nan, nan, nan, nan, nan, nan, nan, nan, nan, nan, nan, nan, nan, nan, nan, nan, nan, nan, nan, nan, nan, nan, nan, nan, nan, nan, nan, nan, nan, nan, nan, nan, nan, nan, nan, nan, nan, nan, nan, nan, nan, nan, nan, nan, nan, nan, nan, nan, nan, nan, nan, nan, nan, ' bibel', ' bibel', ' bibel', ' bibel', nan, nan, nan, nan, nan, nan, nan, nan, nan, nan, nan, nan, nan, nan, nan, nan, nan, nan, nan, nan, nan, nan, nan, nan, nan, nan, nan, nan, nan, nan, nan, nan, nan, nan, nan, nan, nan, nan, nan, nan, nan, nan, nan, nan, nan, nan, nan, nan, nan, nan, nan, nan, nan, nan, nan, nan, nan, nan, nan, nan, nan, nan, nan, nan, nan, nan, nan, nan, nan, nan, nan, nan, nan, nan, nan, nan, nan, ' bibel', ' bibel', ' bibel', ' bibel', ' bibel', ' bibel', ' bibel', ' bibel', ' bibel', ' bibel', ' bibel', ' bibel', ' bibel', ' bibel', ' bibel', ' bibel', ' bibel', ' bibel', ' bibel', ' bibel', ' bibel', ' bibel', ' bibel', ' bibel', ' bibel', nan, nan, nan, nan, nan, nan, nan, nan, nan, nan, nan, nan, nan, nan, nan, nan, nan, nan, nan, nan, nan, nan, nan, nan, nan, nan, nan, nan, nan, nan, nan, nan, nan, nan, nan, nan, nan, nan, nan, nan, ' bibel', ' bibel', ' bibel', ' bibel', nan, nan, nan, nan, nan, nan, nan, nan, nan, nan, nan, nan, nan, nan, nan, nan, nan, nan, nan, nan, nan, nan, nan, nan, nan, nan, nan, nan, nan, nan, nan, nan, nan, nan, nan, nan, nan, nan, nan, nan, nan, nan, nan, nan, nan, nan, nan, nan, nan, nan, nan, nan, nan, nan, nan, nan, nan, nan, nan, nan, nan, nan, nan, nan, nan, nan, nan, nan, nan, nan, nan, nan, nan, nan, nan, nan, nan, nan, nan, nan, nan, nan, nan, nan, nan, nan, nan, nan, nan, nan, nan, nan, nan, nan, nan, nan, nan, nan, nan, nan, nan, nan, nan, nan, nan, nan, nan, nan, nan, nan, nan, nan, nan, nan, nan, nan, nan, nan, nan, nan, nan, nan, nan, nan, nan, nan, nan, nan, nan, nan, nan, nan, nan, nan, nan, nan, nan, nan, nan, nan, nan, nan, nan, nan, ' quelle', ' quelle', ' quelle', ' quelle', ' quelle', ' quelle', ' quelle', ' quelle', ' quelle', ' quelle', ' quelle', nan, nan, nan, nan, nan, nan, nan, nan, nan, nan, nan, nan, nan, nan, nan, nan, nan, nan, nan, nan, nan, nan, nan, nan, nan, nan, nan, nan, nan, nan, nan, nan, nan, nan, nan, nan, nan, nan, nan, nan, nan, nan, nan, nan, nan, nan, nan, nan, nan, nan, nan, nan, nan, nan, nan, nan, nan, nan, nan, nan, nan, nan, nan, nan, nan, nan, nan, nan, nan, nan, nan, nan, nan, nan, nan, nan, nan, nan, nan, nan, nan, nan, nan, nan, nan, nan, nan, nan, nan, nan, nan, nan, nan, nan, nan, nan, nan, nan, nan, nan, nan, nan, nan, nan, nan, nan, nan, nan, nan, nan, nan, nan, nan, ' bibel', ' bibel', ' bibel', ' bibel', nan, nan, nan, nan, nan, nan, nan, nan, nan, nan, nan, nan, nan, nan, nan, nan, nan, nan, nan, nan, nan, nan, nan, nan, nan, nan, nan, nan, nan, nan, nan, nan, nan, nan, nan, nan, nan, nan, nan, nan, nan, nan, nan, nan, nan, nan, nan, nan, nan, nan, nan, nan, nan, nan, nan, nan, nan, ' bibel', ' bibel', ' bibel', ' bibel', ' bibel', ' bibel', ' bibel', ' bibel', ' bibel', ' bibel', ' bibel', ' bibel', nan, nan, nan, nan, nan, nan, nan, nan, nan, nan, nan, nan, nan, nan, nan, nan, nan, nan, nan, nan, nan, nan, nan, nan, nan, nan, nan, nan, nan, nan, nan, nan, nan, nan, nan, nan, nan, nan, nan, nan, nan, nan, nan, nan, nan, nan, nan, nan, nan, nan, nan, nan, nan, nan, nan, nan, nan, nan, nan, nan, nan, nan, nan, nan, nan, nan, nan, nan, nan, nan, nan, nan, nan, nan, nan, nan, nan, nan, nan, nan, nan, nan, nan, nan, nan, nan, nan, nan, nan, nan, nan, nan, nan, nan, nan, nan, nan, ' bibel', ' bibel', ' bibel', ' bibel', nan, nan, nan, nan, nan, nan, nan, nan, nan, nan, nan, nan, nan, nan, nan, nan, nan, nan, nan, nan, nan, nan, nan, nan, nan, nan, nan, nan, nan, nan, nan, nan, nan, nan, nan, nan, nan, nan, nan, nan, nan, nan, nan, nan, nan, nan, nan, nan, nan, nan, nan, nan, nan, nan, nan, nan, nan, nan, nan, nan, nan, nan, nan, nan, nan, nan, nan, nan, nan, nan, nan, nan, nan, nan, nan, nan, nan, nan, nan, nan, nan, nan, nan, nan, nan, nan, nan, nan, ' bibel', ' bibel', ' bibel', ' bibel', nan, nan, nan, nan, nan, nan, nan, nan, nan, nan, nan, nan, nan, nan, nan, nan, nan, nan, nan, nan, nan, nan, nan, nan, nan, nan, nan, nan, nan, nan, nan, nan, nan, nan, nan, nan, nan, ' quelle', ' quelle', ' quelle', nan, nan, nan, nan, nan, nan, nan, nan, nan, nan, nan, nan, nan, nan, nan, nan, ' bibel', ' bibel', ' bibel', nan, nan, nan, nan, nan, nan, nan, nan, nan, nan, nan, nan, nan, nan, nan, nan, nan, nan, nan, nan, nan, nan, nan, nan, nan, nan, nan, nan, nan, nan, nan, nan, nan, nan, nan, nan, nan, nan, nan, nan, nan, nan, nan, nan, nan, nan, nan, ' quelle', nan, nan, nan, nan, nan, nan, nan, nan, nan, nan, nan, nan, nan, nan, nan, nan, nan, nan, nan, nan, nan, nan, nan, nan, nan, nan, nan, nan, nan, nan, nan, nan, nan, nan, nan, nan, nan, nan, nan, nan, nan, nan, nan, nan, nan, nan, nan, nan, nan, nan, nan, nan, nan, nan, nan, nan, nan, nan, nan, nan, nan, nan, nan, nan, nan, nan, nan, nan, nan, nan, nan, nan, nan, nan, nan, nan, nan, nan, nan, nan, nan, nan, nan, nan, nan, nan, nan, nan, nan, nan, nan, nan, nan, nan, nan, nan, nan, nan, nan, nan, nan, nan, nan, nan, nan, nan, nan, nan, nan, nan, nan, nan, nan, nan, nan, nan, nan, nan, nan, nan, ' bibel', ' bibel', ' bibel', ' bibel', ' bibel', ' bibel', ' bibel', ' bibel', ' bibel', ' bibel', ' bibel', ' bibel', ' bibel', ' bibel', ' bibel', ' bibel', ' bibel', ' bibel', ' bibel', nan, nan, nan, nan, nan, nan, nan, nan, nan, nan, nan, nan, ' bibel', ' bibel', ' bibel', ' bibel', ' bibel', ' bibel', ' bibel', ' bibel', ' bibel', ' bibel', ' bibel', ' bibel', ' bibel', ' bibel', ' bibel', ' bibel', ' bibel', ' bibel', nan, nan, nan, nan, nan, nan, nan, nan, nan, nan, nan, nan, nan, nan, nan, nan, nan, nan, nan, nan, nan, nan, nan, nan, nan, nan, nan, ' bibel', ' bibel', ' bibel', ' bibel', ' bibel', ' bibel', ' bibel', ' bibel', ' bibel', ' bibel', ' bibel', ' bibel', ' bibel', ' bibel', ' bibel', ' bibel', ' bibel', ' bibel', ' bibel', ' bibel', ' bibel', ' bibel', ' bibel', ' bibel', nan, nan, nan, nan, nan, nan, nan, nan, nan, nan, nan, nan, nan, nan, nan, nan, nan, nan, nan, nan, nan, nan, nan, nan, nan, nan, nan, nan, nan, nan, nan, nan, nan, nan, nan, nan, nan, nan, nan, nan, nan, nan, nan, nan, nan, nan, nan, nan, nan, nan, nan, nan, nan, nan, nan, nan, nan, nan, nan, nan, nan, nan, nan, nan, nan, nan, nan, nan, nan, nan, nan, nan, nan, nan, nan, nan, nan, nan, nan, nan, nan, nan, nan, nan, ' bibel', ' bibel', ' bibel', ' bibel', nan, nan, nan, nan, nan, nan, nan, nan, nan, nan, nan, nan, nan, nan, nan, nan, nan, nan, nan, nan, nan, nan, nan, nan, nan, nan, nan, ' bibel', ' bibel', ' bibel', ' bibel', ' bibel', nan, nan, nan, nan, nan, nan, nan, nan, nan, nan, nan, nan, nan, nan, nan, nan, nan, nan, nan, nan, nan, nan, nan, nan, nan, nan, nan, nan, nan, nan, ' bibel', ' bibel', ' bibel', ' bibel', nan, nan, nan, nan, nan, nan, nan, nan, nan, nan, nan, nan, nan, nan, nan, nan, nan, nan, ' bibel', ' bibel', ' bibel', ' bibel', ' bibel', ' bibel', ' bibel', nan, nan, nan, nan, nan, nan, nan, nan, nan, nan, nan, nan, nan, nan, nan, nan, nan, nan, nan, nan, nan, nan, nan, nan, nan, nan, nan, nan, nan, nan, nan, nan, nan, nan, nan, nan, nan, nan, nan, nan, ' bibel', ' bibel', ' bibel', nan, nan, nan, nan, nan, nan, nan, nan, nan, nan, nan, ' bibel', ' bibel', ' bibel', ' bibel', nan, nan, nan, nan, nan, nan, nan, nan, nan, nan, nan, nan, nan, nan, nan, nan, nan, nan, nan, nan, nan, nan, nan, nan, nan, nan, nan, nan, nan, nan, nan, nan, nan, nan, nan, nan, nan, nan, nan, nan, nan, nan, nan, nan, nan, nan, nan, nan, nan, nan, nan, nan, nan, nan, nan, nan, nan, nan, nan, nan, nan, nan, nan, nan, nan, nan, nan, nan, nan, nan, nan, nan, nan, nan, nan, nan, nan, nan, nan, nan, nan, nan, nan, nan, nan, nan, nan, nan, nan, nan, nan, nan, nan, nan, nan, nan, nan, nan, nan, nan, nan, nan, nan, nan, nan, nan, nan, nan, nan, nan, nan, nan, nan, nan, nan, nan, nan, nan, nan, nan, nan, nan, nan, nan, nan, nan, nan, nan, nan, nan, nan, nan, nan, nan, nan, nan, nan, nan, nan, nan, nan, nan, nan, nan, nan, nan, nan, nan, nan, nan, nan, nan, nan, nan, nan, nan, nan, ' bibel', ' bibel', ' bibel', ' bibel', nan, nan, nan, nan, nan, nan, ' bibel', ' bibel', ' bibel', ' bibel', ' bibel', ' bibel', ' bibel', ' bibel', ' bibel', ' bibel', ' bibel', ' bibel', ' bibel', ' bibel', nan, nan, nan, nan, nan, nan, nan, nan, nan, nan, nan, nan, nan, nan, nan, nan, nan, nan, nan, nan, nan, nan, nan, nan, nan, nan, nan, nan, nan, nan, nan, nan, nan, nan, nan, nan, nan, nan, nan, nan, nan, nan, nan, nan, nan, nan, nan, nan, nan, nan, nan, nan, nan, nan, nan, nan, nan, nan, nan, nan, nan, nan, nan, nan, nan, nan, nan, nan, nan, nan, nan, nan, nan, ' bibel', ' bibel', ' bibel', ' bibel', ' bibel', ' bibel', ' bibel', nan, nan, nan, nan, nan, nan, nan, nan, nan, nan, nan, nan, nan, nan, nan, nan, nan, nan, nan, nan, nan, nan, nan, nan, nan, nan, nan, ' quelle', ' quelle', nan, nan, nan, nan, nan, nan, nan, nan, nan, nan, nan, nan, nan, nan, nan, nan, nan, nan, nan, nan, nan, nan, nan, nan, nan, nan, nan, nan, nan, nan, nan, nan, nan, nan, nan, nan, nan, nan, nan, nan, nan, nan, nan, ' orgelpredigt', ' orgelpredigt', ' orgelpredigt', ' orgelpredigt', ' orgelpredigt', nan, nan, nan, ' orgelpredigt', ' orgelpredigt', nan, nan, nan, ' orgelpredigt', ' orgelpredigt', ' orgelpredigt', ' orgelpredigt', ' orgelpredigt', ' orgelpredigt', ' orgelpredigt', ' orgelpredigt', ' orgelpredigt', ' orgelpredigt', ' orgelpredigt', ' orgelpredigt', ' orgelpredigt', ' orgelpredigt', ' orgelpredigt', ' orgelpredigt', ' orgelpredigt', ' orgelpredigt', nan, nan, nan, nan, nan, nan, nan, nan, nan, nan, nan, nan, nan, nan, nan, nan, nan, nan, nan, nan, nan, nan, nan, nan, nan, nan, nan, nan, nan, nan, nan, nan, nan, nan, nan, nan, nan, nan, nan, nan, nan, nan, nan, nan, nan, nan, nan, nan, nan, nan, nan, nan, nan, nan, nan, nan, nan, nan, nan, nan, nan, nan, nan, nan, nan, nan, nan, nan, nan, nan, nan, nan, nan, nan, nan, nan, nan, nan, nan, nan, nan, nan, nan, nan, nan, nan, nan, nan, nan, nan, nan, nan, nan, nan, nan, nan, nan, nan, nan, nan, nan, nan, nan, nan, nan, nan, nan, nan, nan, nan, nan, nan, nan, nan, nan, nan, nan, nan, nan, nan, nan, nan, nan, ' bibel', ' bibel', ' bibel', ' bibel', ' bibel', ' bibel', ' bibel', ' bibel', ' bibel', ' bibel', ' bibel', ' bibel', ' bibel', ' bibel', ' bibel', ' bibel', ' bibel', nan, nan, nan, nan, nan, nan, nan, nan, nan, nan, nan, nan, nan, nan, nan, nan, nan, nan, nan, nan, nan, nan, nan, nan, nan, nan, nan, nan, nan, nan, nan, nan, nan, nan, nan, nan, nan, nan, nan, nan, nan, nan, nan, nan, nan, nan, nan, nan, nan, nan, nan, nan, nan, nan, nan, nan, nan, nan, nan, nan, nan, nan, nan, nan, nan, nan, nan, nan, nan, nan, nan, nan, nan, nan, nan, nan, nan, nan, nan, nan, nan, nan, nan, nan, nan, nan, nan, nan, nan, nan, nan, nan, nan, nan, nan, nan, nan, nan, nan, nan, nan, nan, nan, nan, nan, nan, nan, nan, nan, nan, nan, nan, nan, nan, nan, nan, nan, nan, nan, nan, nan, nan, nan, nan, nan, nan, nan, nan, nan, nan, nan, nan, nan, nan, nan, nan, nan, nan, nan, nan, nan, nan, nan, nan, nan, nan, nan, nan, nan, ' bibel', ' bibel', ' bibel', ' bibel', ' bibel', ' bibel', ' bibel', nan, nan, nan, nan, nan, nan, nan, nan, nan, nan, nan, nan, nan, nan, ' bibel', ' bibel', ' bibel', ' bibel', ' bibel', ' bibel', ' bibel', ' bibel', ' bibel', ' bibel', nan, nan, nan, nan, nan, nan, nan, nan, nan, nan, nan, nan, nan, nan, nan, nan, nan, nan, nan, nan, nan, nan, nan, nan, nan, nan, nan, nan, nan, nan, nan, nan, nan, nan, nan, nan, nan, nan, nan, nan, nan, nan, nan, nan, nan, nan, nan, nan, nan, nan, nan, nan, nan, nan, nan, nan, nan, nan, nan, nan, nan, nan, nan, nan, nan, nan, nan, nan, nan, nan, nan, nan, nan, nan, nan, nan, nan, nan, nan, nan, nan, nan, nan, nan, nan, nan, nan, nan, nan, nan, nan, nan, nan, nan, nan, nan, nan, nan, nan, nan, nan, nan, nan, ' bibel', ' bibel', ' bibel', ' bibel', ' bibel', ' bibel', ' bibel', nan, nan, nan, nan, nan, nan, nan, nan, nan, nan, ' bibel', ' bibel', ' bibel', ' bibel', nan, nan, nan, nan, nan, nan, nan, nan, nan, ' bibel', ' bibel', ' bibel', ' bibel', ' bibel', nan, nan, nan, nan, nan, nan, nan, nan, nan, nan, nan, nan, nan, nan, nan, nan, nan, nan, nan, nan, nan, ' bibel', ' bibel', ' bibel', ' bibel', ' bibel', nan, nan, nan, nan, nan, nan, nan, nan, nan, nan, nan, nan, nan, nan, nan, nan, nan, nan, nan, nan, nan, nan, nan, nan, nan, nan, nan, nan, nan, nan, nan, nan, nan, nan, nan, nan, nan, nan, nan, nan, nan, nan, nan, nan, nan, nan, nan, nan, nan, nan, nan, nan, nan, nan, nan, nan, nan, nan, nan, nan, nan, nan, nan, nan, nan, nan, nan, nan, nan, nan, nan, nan, nan, nan, nan, nan, nan, nan, nan, nan, nan, nan, nan, nan, nan, nan, nan, nan, nan, nan, nan, nan, nan, nan, nan, nan, nan, nan, nan, nan, nan, nan, nan, nan, nan, nan, nan, nan, nan, nan, nan, nan, nan, nan, nan, nan, nan, nan, nan, nan, nan, nan, nan, nan, nan, nan, nan, nan, nan, nan, nan, nan, nan, nan, nan, nan, nan, nan, nan, nan, nan, nan, nan, nan, nan, nan, nan, nan, nan, nan, nan, nan, nan, nan, nan, nan, nan, nan, nan, nan, nan, nan, nan, nan, nan, nan, nan, nan, nan, nan, nan, nan, nan, nan, nan, nan, nan, nan, nan, nan, nan, nan, nan, nan, nan, nan, nan, nan, nan, nan, nan, nan, nan, nan, nan, nan, ' bibel', ' bibel', ' bibel', ' bibel', nan, nan, nan, nan, nan, nan, nan, nan, nan, nan, nan, nan, nan, nan, nan, nan, nan, nan, nan, nan, nan, nan, nan, nan, nan, nan, nan, nan, nan, nan, nan, nan, nan, nan, nan, nan, nan, nan, nan, nan, nan, nan, nan, nan, nan, nan, nan, nan, nan, nan, nan, nan, nan, nan, nan, nan, nan, nan, nan, nan, nan, nan, nan, nan, nan, nan, nan, nan, nan, nan, nan, nan, nan, nan, nan, nan, nan, nan, nan, nan, nan, nan, ' bibel', ' bibel', ' bibel', ' bibel', ' bibel', ' bibel', ' bibel', ' bibel', nan, nan, nan, nan, nan, nan, nan, nan, nan, nan, nan, nan, nan, nan, nan, nan, nan, nan, nan, nan, nan, nan, nan, nan, nan, nan, nan, nan, nan, nan, nan, nan, nan, nan, nan, nan, nan, nan, nan, nan, nan, nan, nan, nan, nan, nan, nan, nan, nan, nan, nan, nan, nan, nan, nan, nan, nan, nan, nan, nan, nan, nan, nan, nan, nan, nan, nan, nan, nan, nan, nan, nan, nan, nan, nan, nan, nan, nan, nan, nan, nan, nan, nan, nan, nan, nan, nan, nan, nan, nan, nan, nan, nan, nan, nan, nan, nan, nan, nan, nan, nan, nan, nan, nan, nan, nan, nan, nan, nan, nan, nan, nan, nan, nan, nan, nan, nan, nan, nan, nan, nan, nan, nan, nan, nan, nan, nan, nan, nan, nan, nan, nan, nan, nan, nan, nan, nan, nan, nan, nan, nan, nan, nan, nan, nan, nan, nan, nan, nan, nan, nan, nan, nan, nan, nan, nan, nan, nan, nan, nan, nan, nan, nan, nan, nan, nan, nan, nan, nan, nan, nan, nan, nan, nan, nan, nan, nan, nan, nan, nan, nan, nan, nan, nan, nan, ' literatur', ' literatur', ' literatur', ' literatur', ' literatur', ' literatur', ' literatur', ' literatur', ' literatur', ' literatur', ' literatur', ' literatur', ' literatur', ' literatur', nan, nan, nan, nan, nan, nan, nan, nan, nan, nan, nan, nan, nan, nan, nan, nan, nan, nan, nan, nan, nan, nan, nan, nan, nan, ' quelle', ' quelle', ' quelle', nan, nan, nan, nan, nan, nan, nan, nan, nan, nan, nan, nan, nan, nan, nan, nan, nan, nan, nan, nan, nan, nan, nan, nan, nan, nan, nan, nan, nan, nan, nan, nan, nan, nan, nan, nan, nan, nan, nan, nan, nan, nan, nan, nan, nan, nan, nan, nan, nan, nan, nan, nan, nan, nan, nan, nan, nan, nan, nan, nan, nan, nan, nan, nan, nan, nan, nan, nan, nan, nan, nan, ' orgelpredigt', ' orgelpredigt', ' orgelpredigt', nan, nan, nan, nan, nan, nan, nan, nan, nan, nan, nan, nan, nan, nan, nan, nan, nan, nan, nan, nan, nan, nan, nan, nan, nan, nan, nan, nan, nan, nan, nan, nan, nan, nan, nan, nan, nan, nan, nan, nan, nan, nan, ' bibel', ' bibel', ' bibel', ' bibel', ' bibel', ' bibel', ' bibel', ' bibel', ' bibel', ' bibel', ' bibel', ' bibel', ' bibel', nan, nan, nan, nan, nan, nan, nan, nan, nan, nan, nan, nan, nan, nan, nan, nan, nan, nan, nan, nan, nan, nan, nan, nan, nan, nan, nan, nan, nan, nan, nan, nan, nan, nan, nan, nan, nan, nan, nan, nan, ' bibel', ' bibel', ' bibel', ' bibel', ' bibel', ' bibel', ' bibel', ' bibel', ' bibel', ' bibel', ' bibel', ' bibel', ' bibel', ' bibel', ' bibel', ' bibel', ' bibel', nan, nan, nan, nan, nan, nan, nan, nan, nan, nan, nan, nan, nan, nan, nan, nan, nan, nan, nan, nan, nan, nan, nan, nan, nan, nan, nan, nan, nan, nan, nan, nan, nan, nan, nan, nan, nan, nan, nan, nan, nan, nan, nan, ' bibel', ' bibel', ' bibel', ' bibel', ' bibel', ' bibel', ' bibel', ' bibel', ' bibel', ' bibel', ' bibel', ' bibel', ' bibel', ' bibel', ' bibel', ' bibel', ' bibel', ' bibel', ' bibel', ' bibel', ' bibel', ' bibel', nan, nan, nan, nan, nan, nan, nan, nan, nan, nan, nan, nan, nan, nan, nan, nan, nan, nan, nan, nan, nan, nan, nan, nan, nan, nan, nan, nan, nan, nan, nan, nan, nan, nan, nan, nan, nan, nan, nan, nan, nan, nan, nan, nan, nan, nan, nan, nan, nan, nan, nan, nan, nan, nan, nan, nan, nan, nan, nan, nan, nan, nan, nan, nan, nan, nan, nan, nan, nan, nan, nan, nan, nan, nan, nan, nan, nan, nan, nan, nan, nan, nan, nan, nan, nan, nan, nan, nan, nan, nan, nan, nan, nan, nan, nan, nan, nan, nan, nan, nan, nan, nan, nan, nan, nan, nan, nan, nan, nan, nan, nan, nan, nan, nan, nan, nan, nan, nan, nan, nan, nan, nan, nan, nan, nan, nan, nan, nan, nan, nan, nan, nan, nan, nan, nan, nan, nan, nan, nan, nan, nan, nan, nan, nan, nan, nan, nan, nan, nan, nan, nan, nan, nan, nan, nan, nan, nan, nan, nan, nan, nan, nan, nan, nan, nan, nan, nan, nan, nan, nan, nan, nan, nan, nan, nan, nan, nan, nan, nan, nan, nan, nan, nan, nan, nan, nan, nan, nan, ' bibel', ' bibel', ' bibel', ' bibel', ' bibel', ' bibel', ' bibel', ' bibel', ' bibel', ' bibel', ' bibel', ' bibel', nan, nan, nan, nan, nan, nan, nan, nan, nan, nan, nan, nan, ' bibel', ' bibel', ' bibel', ' bibel', nan, nan, nan, nan, nan, nan, nan, nan, nan, nan, nan, nan, nan, nan, nan, nan, nan, nan, nan, nan, nan, nan, nan, nan, nan, nan, nan, nan, nan, nan, nan, nan, nan, nan, nan, nan, nan, nan, nan, nan, nan, nan, nan, nan, nan, nan, nan, nan, nan, nan, nan, nan, nan, nan, nan, nan, nan, nan, nan, nan, nan, nan, nan, nan, nan, nan, nan, nan, nan, nan, nan, nan, nan, nan, nan, nan, nan, nan, nan, nan, nan, nan, nan, nan, nan, nan, nan, nan, nan, nan, nan, nan, nan, nan, nan, nan, nan, nan, nan, nan, nan, nan, nan, nan, nan, nan, nan, nan, nan, nan, nan, ' bibel', ' bibel', ' bibel', ' bibel', nan, nan, nan, nan, nan, nan, nan, nan, nan, nan, nan, nan, nan, nan, nan, nan, nan, nan, ' bibel', ' bibel', ' bibel', ' bibel', ' bibel', nan, nan, nan, nan, nan, nan, nan, nan, nan, nan, nan, nan, nan, nan, nan, nan, nan, nan, nan, nan, nan, nan, nan, nan, nan, nan, nan, nan, nan, nan, nan, nan, ' bibel', ' bibel', ' bibel', ' bibel', nan, nan, nan, nan, nan, nan, nan, nan, nan, nan, nan, nan, nan, nan, nan, nan, nan, nan, nan, nan, nan, nan, nan, nan, nan, nan, nan, nan, nan, nan, nan, nan, nan, nan, nan, nan, nan, nan, nan, nan, nan, nan, nan, nan, nan, nan, nan, nan, nan, nan, nan, nan, nan, nan, nan, nan, nan, nan, nan, nan, nan, nan, nan, nan, nan, nan, nan, nan, nan, nan, nan, nan, nan, nan, nan, nan, nan, nan, nan, nan, nan, nan, nan, nan, nan, nan, nan, nan, nan, nan, nan, nan, nan, nan, nan, nan, nan, nan, nan, nan, nan, nan, nan, nan, nan, nan, ' bibel', ' bibel', ' bibel', ' bibel', nan, nan, nan, nan, nan, nan, nan, ' bibel', ' bibel', ' bibel', ' bibel', ' bibel', ' bibel', ' bibel', ' bibel', ' bibel', ' bibel', ' bibel', ' bibel', ' bibel', ' bibel', ' bibel', nan, nan, nan, nan, nan, nan, nan, nan, nan, nan, nan, nan, nan, nan, nan, nan, nan, nan, nan, nan, nan, nan, nan, nan, nan, nan, nan, nan, nan, nan, nan, nan, nan, ' bibel', ' bibel', ' bibel', ' bibel', ' bibel', nan, nan, nan, nan, nan, nan, nan, nan, nan, nan, nan, ' quelle', ' quelle', ' quelle', nan, nan, nan, nan, nan, nan, nan, ' quelle', ' quelle', ' quelle', ' quelle', ' quelle', ' quelle', ' quelle', ' quelle', ' quelle', ' quelle', ' quelle', nan, nan, nan, nan, nan, nan, nan, nan, nan, nan, nan, nan, nan, nan, nan, nan, nan, nan, nan, nan, nan, nan, nan, nan, nan, nan, nan, nan, nan, nan, nan, nan, nan, nan, nan, nan, nan, nan, nan, nan, nan, nan, nan, nan, nan, nan, nan, nan, nan, nan, nan, nan, nan, nan, nan, nan, nan, nan, nan, nan, nan, nan, nan, nan, nan, nan, nan, nan, nan, nan, nan, nan, nan, nan, nan, nan, nan, nan, nan, nan, nan, nan, nan, nan, nan, nan, nan, nan, nan, nan, nan, nan, nan, nan, nan, nan, nan, nan, nan, nan, nan, nan, nan, nan, nan, nan, nan, nan, nan, nan, nan, nan, nan, nan, nan, nan, nan, nan, nan, nan, nan, nan, nan, nan, nan, nan, nan, nan, nan, nan, nan, nan, nan, nan, nan, nan, nan, nan, nan, nan, nan, nan, nan, ' bibel', ' bibel', ' bibel', ' bibel', ' bibel', ' bibel', ' bibel', nan, nan, nan, nan, nan, nan, nan, nan, nan, ' bibel', ' bibel', ' bibel', ' bibel', ' bibel', ' bibel', ' bibel', ' bibel', nan, nan, nan, nan, nan, nan, nan, nan, nan, nan, nan, nan, nan, nan, nan, nan, nan, nan, nan, nan, nan, nan, nan, nan, nan, nan, nan, nan, nan, nan, nan, nan, nan, nan, nan, nan, nan, nan, nan, nan, nan, nan, nan, nan, nan, nan, nan, nan, nan, nan, nan, nan, nan, nan, nan, nan, nan, nan, nan, nan, nan, nan, nan, nan, nan, nan, nan, nan, nan, nan, nan, nan, nan, nan, nan, nan, nan, nan, nan, nan, nan, nan, nan, nan, nan, nan, nan, nan, nan, nan, nan, nan, nan, nan, nan, nan, nan, nan, nan, nan, nan, nan, nan, nan, nan, nan, nan, ' bibel', ' bibel', ' bibel', nan, nan, nan, nan, nan, nan, nan, nan, nan, nan, nan, nan, nan, nan, nan, nan, nan, nan, nan, nan, nan, nan, nan, nan, nan, nan, nan, nan, nan, nan, nan, nan, nan, nan, nan, nan, nan, nan, nan, nan, nan, nan, nan, nan, nan, nan, nan, nan, nan, nan, nan, nan, nan, nan, nan, nan, nan, nan, nan, nan, nan, nan, nan, nan, nan, nan, nan, nan, nan, nan, nan, nan, nan, nan, nan, nan, nan, nan, nan, nan, nan, nan, nan, nan, nan, nan, nan, nan, nan, nan, nan, nan, nan, nan, nan, nan, nan, nan, nan, nan, nan, nan, nan, nan, nan, nan, nan, nan, nan, nan, nan, nan, nan, nan, nan, nan, nan, nan, nan, nan, nan, nan, nan, nan, nan, nan, nan, nan, ' bibel', ' bibel', ' bibel', ' bibel', ' bibel', nan, nan, nan, nan, ' bibel', ' bibel', ' bibel', ' bibel', ' bibel', ' bibel', ' bibel', ' bibel', ' bibel', ' bibel', ' bibel', ' bibel', ' bibel', ' bibel', ' bibel', ' bibel', ' bibel', ' bibel', ' bibel', ' bibel', ' bibel', ' bibel', ' bibel', ' bibel', ' bibel', ' bibel', nan, nan, nan, nan, nan, ' musikwerk', ' musikwerk', ' musikwerk', ' musikwerk', ' musikwerk', ' musikwerk', ' musikwerk', ' musikwerk', ' musikwerk', ' musikwerk', ' musikwerk', ' musikwerk', ' musikwerk', ' musikwerk', ' musikwerk', ' musikwerk', ' musikwerk', ' musikwerk', ' musikwerk', ' musikwerk', ' musikwerk', ' musikwerk', ' musikwerk', ' musikwerk', ' musikwerk', ' musikwerk', ' musikwerk', ' musikwerk', ' musikwerk', ' musikwerk', ' musikwerk', ' musikwerk', ' musikwerk', ' musikwerk', ' musikwerk', ' musikwerk', ' musikwerk', ' musikwerk', ' musikwerk', ' musikwerk', ' musikwerk', ' musikwerk', ' musikwerk', ' musikwerk', ' musikwerk', ' musikwerk', ' musikwerk', nan, nan, nan, nan, nan, nan, nan, nan, nan, nan, nan, nan, nan, nan, nan, nan, nan, nan, nan, nan, nan, nan, nan, nan, nan, nan, nan, nan, nan, nan, nan, nan, nan, nan, nan, nan, nan, nan, nan, nan, nan, nan, nan, nan, nan, nan, nan, nan, nan, nan, nan, nan, nan, nan, ' bibel', ' bibel', ' bibel', ' bibel', ' bibel', ' bibel', ' bibel', ' bibel', ' bibel', ' bibel', nan, nan, nan, nan, ' bibel', ' bibel', ' bibel', ' bibel', ' bibel', ' bibel', ' bibel', ' bibel', ' bibel', ' bibel', ' bibel', ' bibel', ' bibel', ' bibel', ' bibel', ' bibel', ' bibel', ' bibel', ' bibel', ' bibel', ' bibel', ' bibel', ' bibel', ' bibel', ' bibel', ' bibel', ' bibel', ' bibel', ' bibel', ' bibel', ' bibel', nan, nan, nan, nan, nan, nan, nan, nan, nan, nan, nan, nan, nan, nan, nan, nan, nan, nan, nan, nan, nan, nan, nan, nan, nan, nan, nan, nan, nan, nan, nan, nan, nan, nan, nan, nan, nan, nan, nan, nan, nan, nan, nan, nan, nan, nan, nan, nan, nan, nan, nan, nan, nan, nan, nan, nan, nan, nan, nan, nan, nan, ' bibel', ' bibel', ' bibel', ' bibel', ' bibel', nan, ' musikwerk', ' musikwerk', ' musikwerk', ' musikwerk', ' musikwerk', ' musikwerk', ' musikwerk', ' musikwerk', ' musikwerk', ' musikwerk', ' musikwerk', ' musikwerk', ' musikwerk', ' musikwerk', ' musikwerk', ' musikwerk', ' musikwerk', ' musikwerk', ' musikwerk', ' musikwerk', ' musikwerk', ' musikwerk', ' musikwerk', ' musikwerk', ' musikwerk', nan, nan, nan, nan, nan, nan, nan, nan, nan, nan, nan, nan, nan, nan, nan, nan, nan, nan, nan, nan, nan, nan, nan, nan, nan, nan, nan, nan, nan, nan, nan, nan, nan, nan, nan, nan, nan, nan, nan, nan, nan, nan, nan, nan, nan, nan, nan, nan, nan, nan, nan, nan, nan, nan, nan, nan, nan, nan, nan, nan, nan, nan, nan, nan, nan, nan, nan, nan, nan, nan, nan, nan, nan, nan, nan, nan, nan, nan, nan, nan, nan, nan, nan, nan, nan, nan, nan, nan, ' bibel', ' bibel', ' bibel', ' bibel', ' bibel', ' bibel', ' bibel', ' bibel', ' bibel', ' bibel', ' bibel', nan, nan, nan, nan, ' bibel', ' bibel', ' bibel', ' bibel', ' bibel', ' bibel', ' bibel', ' bibel', ' bibel', ' bibel', ' bibel', ' bibel', ' bibel', ' bibel', nan, nan, nan, nan, nan, nan, nan, nan, nan, nan, nan, nan, nan, nan, nan, nan, nan, nan, nan, nan, nan, nan, nan, nan, nan, nan, nan, nan, nan, nan, nan, nan, nan, nan, nan, nan, nan, nan, nan, nan, nan, nan, nan, nan, nan, nan, nan, nan, nan, nan, nan, nan, nan, nan, nan, nan, nan, nan, nan, nan, nan, ' bibel', ' bibel', ' bibel', ' bibel', nan, nan, nan, nan, nan, nan, nan, nan, nan, nan, nan, nan, nan, nan, nan, nan, nan, nan, nan, nan, nan, nan, nan, nan, nan, nan, nan, nan, ' musikwerk', ' musikwerk', ' musikwerk', ' musikwerk', ' musikwerk', ' musikwerk', ' musikwerk', ' musikwerk', ' musikwerk', ' musikwerk', ' musikwerk', ' musikwerk', ' musikwerk', ' musikwerk', ' musikwerk', ' musikwerk', ' musikwerk', ' musikwerk', ' musikwerk', ' musikwerk', ' musikwerk', ' musikwerk', ' musikwerk', ' musikwerk', ' musikwerk', ' musikwerk', ' musikwerk', ' musikwerk', ' musikwerk', ' musikwerk', ' musikwerk', ' musikwerk', ' musikwerk', ' musikwerk', ' musikwerk', ' musikwerk', ' musikwerk', nan, nan, nan, nan, nan, nan, nan, nan, nan, nan, nan, nan, nan, nan, nan, nan, nan, nan, nan, nan, nan, nan, nan, nan, nan, nan, nan, nan, nan, nan, nan, nan, ' bibel', ' bibel', ' bibel', ' bibel', nan, nan, nan, nan, nan, nan, nan, nan, ' bibel', ' bibel', ' bibel', nan, nan, nan, nan, nan, nan, nan, nan, nan, nan, nan, nan, nan, nan, nan, nan, nan, nan, nan, nan, nan, nan, nan, nan, nan, nan, nan, nan, nan, nan, nan, ' bibel', ' bibel', ' bibel', ' bibel', ' bibel', nan, nan, ' musikwerk', ' musikwerk', ' musikwerk', ' musikwerk', ' musikwerk', ' musikwerk', ' musikwerk', ' musikwerk', ' musikwerk', ' musikwerk', ' musikwerk', ' musikwerk', ' musikwerk', ' musikwerk', ' musikwerk', ' musikwerk', ' musikwerk', ' musikwerk', ' musikwerk', ' musikwerk', ' musikwerk', ' musikwerk', ' musikwerk', ' musikwerk', ' musikwerk', ' musikwerk', ' musikwerk', ' musikwerk', ' musikwerk', ' musikwerk', ' musikwerk', ' musikwerk', ' musikwerk', ' musikwerk', ' musikwerk', ' musikwerk', ' musikwerk', nan, nan, nan, nan, nan, nan, nan, nan, nan, nan, nan, nan, nan, nan, nan, nan, nan, nan, nan, nan, nan, nan, nan, nan, nan, nan, nan, nan, nan, nan, nan, nan, nan, nan, nan, nan, nan, nan, nan, nan, nan, nan, nan, nan, nan, nan, nan, nan, nan, ' musikwerk', ' musikwerk', ' musikwerk', ' musikwerk', ' musikwerk', ' musikwerk', ' musikwerk', ' musikwerk', ' musikwerk', ' musikwerk', ' musikwerk', ' musikwerk', ' musikwerk', ' musikwerk', ' musikwerk', ' musikwerk', ' musikwerk', ' musikwerk', ' musikwerk', ' musikwerk', ' musikwerk', ' musikwerk', ' musikwerk', ' musikwerk', ' musikwerk', ' musikwerk', ' musikwerk', nan, nan, nan, nan, nan, nan, nan, nan, nan, nan, nan, nan, nan, nan, nan, ' bibel', ' bibel', ' bibel', ' bibel', nan, nan, nan, nan, nan, nan, nan, nan, nan, nan, nan, nan, nan, nan, nan, nan, nan, nan, nan, nan, nan, nan, nan, nan, nan, nan, nan, nan, nan, nan, nan, nan, nan, nan, nan, nan, nan, nan, nan, nan, nan, nan, nan, nan, nan, nan, nan, nan, nan, nan, nan, nan, nan, nan, nan, nan, nan, nan, nan, nan, nan, nan, nan, nan, nan, nan, nan, ' bibel', ' bibel', ' bibel', ' bibel', ' bibel', ' bibel', ' bibel', ' bibel', ' bibel', ' bibel', ' bibel', nan, nan, nan, nan, nan, nan, nan, nan, nan, nan, nan, nan, nan, nan, nan, nan, nan, nan, nan, nan, nan, nan, nan, nan, nan, nan, nan, nan, nan, nan, ' bibel', ' bibel', ' bibel', ' bibel', ' bibel', ' bibel', ' bibel', ' bibel', ' bibel', ' bibel', ' bibel', ' bibel', ' bibel', ' bibel', ' bibel', ' bibel', ' bibel', ' bibel', ' bibel', nan, nan, nan, nan, nan, nan, nan, nan, nan, nan, nan, nan, nan, nan, nan, nan, nan, nan, nan, nan, nan, nan, nan, nan, nan, nan, nan, nan, nan, nan, nan, nan, nan, nan, nan, nan, nan, nan, nan, nan, nan, nan, nan, nan, nan, ' bibel', ' bibel', ' bibel', ' bibel', nan, nan, nan, nan, nan, nan, nan, nan, nan, nan, nan, nan, nan, nan, nan, nan, nan, nan, nan, nan, nan, nan, nan, nan, nan, nan, nan, nan, nan, nan, nan, nan, nan, nan, nan, nan, nan, nan, nan, nan, nan, nan, nan, nan, nan, nan, nan, nan, nan, nan, nan, nan, nan, nan, nan, nan, nan, nan, nan, nan, nan, nan, nan, nan, nan, nan, nan, nan, nan, nan, nan, nan, nan, nan, nan, nan, nan, nan, nan, ' bibel', ' bibel', ' bibel', ' bibel', ' bibel', ' bibel', nan, nan, nan, nan, nan, nan, nan, nan, nan, nan, nan, nan, nan, nan, nan, nan, nan, nan, nan, nan, nan, nan, nan, nan, nan, nan, nan, nan, nan, nan, nan, nan, nan, nan, nan, nan, nan, nan, nan, nan, nan, nan, nan, nan, ' bibel', ' bibel', ' bibel', ' bibel', nan, nan, nan, nan, nan, nan, nan, nan, nan, nan, nan, nan, nan, nan, nan, nan, nan, nan, nan, nan, nan, nan, nan, nan, nan, nan, nan, nan, nan, nan, nan, nan, nan, nan, nan, nan, nan, nan, nan, nan, nan, nan, ' bibel', ' bibel', ' bibel', ' bibel', ' bibel', nan, nan, nan, nan, nan, nan, nan, nan, nan, nan, nan, nan, nan, nan, nan, nan, nan, nan, nan, nan, nan, nan, nan, nan, nan, nan, nan, nan, nan, nan, nan, nan, nan, nan, nan, nan, nan, nan, nan, nan, nan, nan, nan, nan, nan, nan, ' bibel', ' bibel', ' bibel', ' bibel', ' bibel', nan, nan, nan, nan, nan, nan, nan, nan, nan, nan, nan, nan, nan, nan, nan, nan, nan, nan, nan, nan, nan, nan, nan, nan, nan, nan, nan, nan, nan, nan, nan, nan, nan, nan, nan, nan, nan, nan, nan, nan, nan, nan, nan, nan, nan, nan, nan, ' bibel', ' bibel', ' bibel', ' bibel', ' bibel', ' bibel', ' bibel', ' bibel', ' bibel', ' bibel', nan, nan, nan, nan, nan, nan, nan, nan, nan, nan, nan, nan, nan, nan, nan, nan, nan, nan, nan, nan, nan, nan, nan, nan, nan, nan, nan, nan, nan, nan, nan, nan, nan, nan, nan, nan, nan, nan, nan, nan, nan, nan, nan, nan, nan, nan, nan, nan, nan, nan, nan, nan, nan, nan, nan, nan, nan, nan, nan, nan, nan, nan, nan, nan, nan, nan, nan, nan, nan, nan, nan, nan, nan, nan, nan, nan, nan, nan, nan, nan, nan, nan, nan, nan, nan, nan, nan, nan, nan, nan, nan, nan, nan, nan, nan, nan, nan, nan, nan, nan, nan, nan, nan, nan, nan, nan, nan, nan, nan, nan, nan, nan, nan, nan, nan, nan, ' orgelpredigt', ' orgelpredigt', ' orgelpredigt', nan, nan, nan, nan, nan, nan, nan, nan, nan, nan, nan, nan, nan, nan, nan, nan, nan, nan, nan, nan, nan, nan, nan, nan, nan, nan, nan, nan, nan, nan, nan, nan, nan, nan, nan, nan, nan, nan, nan, nan, nan, nan, nan, nan, nan, nan, nan, nan, nan, nan, nan, nan, nan, nan, nan, nan, nan, nan, nan, nan, nan, nan, nan, nan, nan, nan, nan, nan, nan, nan, nan, nan, nan, nan, nan, nan, nan, nan, nan, nan, nan, nan, nan, nan, nan, nan, nan, nan, nan, nan, nan, nan, nan, nan, nan, nan, nan, nan, nan, nan, nan, nan, nan, nan, nan, nan, nan, nan, nan, nan, nan, nan, nan, nan, nan, nan, nan, nan, nan, nan, nan, nan, nan, nan, nan, nan, nan, nan, nan, nan, nan, nan, nan, nan, nan, nan, nan, nan, nan, nan, nan, nan, nan, nan, nan, nan, nan, nan, nan, nan, nan, nan, nan, nan, nan, nan, nan, nan, nan, nan, nan, nan, nan, nan, nan, nan, nan, nan, nan, nan, nan, nan, nan, nan, nan, nan, nan, nan, nan, nan, nan, nan, nan, nan, nan, nan, nan, nan, nan, nan, nan, nan, nan, nan, nan, nan, nan, nan, nan, nan, nan, nan, nan, nan, nan, nan, nan, nan, nan, nan, nan, nan, nan, nan, nan, nan, nan, nan, nan, nan, nan, nan, nan, nan, nan, nan, nan, nan, nan, nan, nan, nan, nan, nan, nan, nan, nan, nan, nan, nan, nan, nan, nan, nan, nan, nan, nan, nan, nan, nan, nan, nan, nan, nan, nan, nan, nan, nan, nan, nan, nan, nan, nan, nan, nan, nan, nan, nan, nan, nan, nan, nan, nan, nan, nan, nan, nan, nan, nan, nan, nan, nan, nan, nan, nan, nan, nan, nan, nan, nan, nan, nan, nan, nan, nan, nan, nan, ' bibel', ' bibel', ' bibel', ' bibel', ' bibel', ' bibel', nan, nan, nan, nan, nan, nan, nan, nan, nan, nan, nan, nan, nan, nan, nan, nan, nan, nan, nan, nan, nan, nan, nan, nan, nan, nan, nan, nan, nan, nan, nan, nan, nan, nan, nan, nan, ' bibel', ' bibel', ' bibel', ' bibel', nan, nan, nan, nan, nan, nan, nan, nan, nan, nan, nan, nan, nan, nan, nan, nan, nan, nan, nan, nan, nan, nan, nan, nan, nan, nan, nan, nan, nan, nan, nan, nan, nan, nan, nan, nan, nan, nan, nan, nan, nan, nan, nan, nan, nan, nan, nan, nan, nan, nan, nan, nan, nan, nan, nan, nan, nan, nan, nan, nan, nan, nan, nan, nan, nan, nan, nan, nan, nan, nan, nan, nan, nan, nan, nan, nan, nan, nan, nan, nan, nan, nan, nan, nan, nan, nan, nan, nan, nan, nan, nan, nan, nan, nan, nan, nan, nan, nan, nan, nan, nan, nan, nan, nan, nan, nan, ' bibel', ' bibel', ' bibel', ' bibel', ' bibel', nan, nan, nan, nan, nan, nan, nan, nan, nan, nan, nan, nan, nan, nan, nan, nan, nan, nan, nan, nan, nan, nan, nan, nan, nan, nan, nan, nan, nan, nan, nan, nan, nan, nan, nan, nan, nan, nan, nan, nan, nan, nan, nan, nan, nan, nan, nan, nan, nan, nan, nan, nan, nan, nan, nan, nan, nan, nan, nan, nan, nan, nan, nan, nan, nan, nan, nan, nan, nan, nan, nan, nan, nan, nan, nan, nan, nan, nan, nan, nan, nan, ' bibel', ' bibel', ' bibel', ' bibel', ' bibel', nan, nan, nan, nan, nan, nan, nan, nan, nan, nan, nan, nan, nan, nan, nan, nan, nan, nan, nan, nan, nan, nan, nan, nan, nan, nan, nan, nan, nan, nan, nan, nan, nan, nan, nan, nan, nan, nan, nan, nan, nan, nan, nan, nan, nan, nan, nan, nan, nan, nan, nan, nan, nan, nan, nan, nan, nan, nan, ' bibel', ' bibel', ' bibel', nan, nan, nan, nan, nan, nan, nan, nan, nan, nan, nan, nan, nan, nan, nan, nan, nan, nan, nan, nan, nan, nan, nan, nan, nan, nan, nan, nan, nan, nan, nan, nan, nan, nan, nan, nan, nan, nan, ' bibel', ' bibel', ' bibel', ' bibel', ' bibel', nan, nan, nan, nan, nan, nan, nan, nan, nan, nan, nan, nan, nan, nan, nan, nan, nan, nan, nan, nan, nan, nan, nan, nan, nan, nan, nan, nan, nan, nan, nan, nan, nan, nan, nan, nan, nan, nan, nan, nan, nan, nan, nan, nan, nan, nan, nan, nan, nan, nan, nan, nan, nan, nan, nan, nan, nan, nan, nan, nan, nan, nan, nan, nan, nan, nan, nan, nan, nan, nan, nan, nan, nan, nan, ' bibel', ' bibel', ' bibel', ' bibel', ' bibel', nan, nan, nan, nan, nan, nan, nan, nan, nan, nan, nan, nan, nan, nan, nan, nan, nan, nan, nan, nan, nan, nan, nan, nan, nan, nan, nan, nan, nan, nan, nan, nan, nan, nan, nan, nan, nan, nan, nan, nan, nan, nan, nan, nan, nan, nan, nan, ' bibel', ' bibel', ' bibel', ' bibel', ' bibel', ' bibel', ' bibel', ' bibel', ' bibel', ' bibel', ' bibel', ' bibel', ' bibel', nan, nan, nan, nan, nan, nan, nan, nan, nan, nan, nan, nan, nan, nan, nan, nan, nan, nan, nan, nan, nan, nan, nan, nan, nan, nan, nan, nan, nan, nan, nan, nan, nan, nan, nan, nan, nan, nan, nan, nan, nan, nan, nan, nan, nan, nan, nan, nan, nan, nan, nan, nan, nan, nan, nan, nan, nan, nan, nan, nan, nan, nan, nan, nan, nan, nan, nan, nan, nan, nan, nan, nan, nan, nan, nan, nan, nan, nan, nan, nan, nan, nan, nan, nan, ' bibel', ' bibel', ' bibel', ' bibel', nan, nan, nan, nan, nan, nan, nan, nan, nan, nan, nan, nan, nan, nan, nan, nan, nan, nan, nan, nan, nan, nan, nan, nan, nan, nan, nan, nan, ' bibel', ' bibel', ' bibel', ' bibel', ' bibel', nan, nan, nan, nan, nan, nan, nan, nan, nan, nan, nan, nan, nan, nan, nan, nan, nan, nan, nan, nan, nan, nan, nan, nan, nan, nan, nan, nan, nan, nan, nan, nan, nan, nan, nan, nan, nan, nan, nan, nan, ' bibel', ' bibel', ' bibel', ' bibel', nan, nan, nan, nan, nan, nan, nan, nan, nan, nan, nan, nan, nan, nan, nan, nan, nan, nan, nan, nan, nan, nan, nan, nan, nan, nan, nan, nan, nan, nan, nan, nan, nan, nan, nan, nan, nan, nan, nan, nan, nan, nan, nan, nan, nan, nan, nan, nan, nan, nan, nan, nan, nan, nan, nan, nan, nan, ' bibel', ' bibel', ' bibel', nan, nan, nan, nan, nan, nan, nan, nan, nan, ' bibel', ' bibel', ' bibel', ' bibel', ' bibel', ' bibel', ' bibel', ' bibel', ' bibel', ' bibel', ' bibel', ' bibel', ' bibel', ' bibel', nan, nan, nan, nan, nan, nan, nan, nan, nan, nan, nan, nan, nan, nan, nan, nan, nan, nan, nan, nan, nan, nan, nan, nan, nan, ' bibel', ' bibel', ' bibel', nan, nan, nan, nan, nan, nan, nan, nan, nan, nan, nan, nan, nan, nan, nan, nan, nan, nan, nan, nan, nan, nan, ' bibel', ' bibel', ' bibel', ' bibel', nan, nan, nan, nan, nan, nan, nan, nan, nan, nan, nan, nan, nan, nan, ' bibel', ' bibel', ' bibel', ' bibel', nan, nan, nan, nan, nan, nan, nan, nan, nan, nan, nan, nan, ' bibel', ' bibel', ' bibel', nan, nan, nan, nan, nan, nan, nan, nan, nan, nan, nan, nan, nan, nan, nan, nan, nan, nan, nan, nan, nan, ' bibel', ' bibel', ' bibel', ' bibel', nan, nan, nan, nan, nan, nan, nan, nan, nan, nan, nan, nan, nan, nan, nan, nan, nan, nan, nan, nan, nan, nan, nan, nan, nan, nan, nan, nan, nan, nan, nan, nan, nan, nan, nan, nan, nan, nan, nan, nan, nan, nan, nan, nan, nan, nan, nan, nan, nan, nan, nan, nan, nan, nan, nan, nan, nan, nan, nan, ' bibel', ' bibel', ' bibel', ' bibel', ' bibel', nan, nan, nan, nan, nan, nan, nan, nan, nan, nan, nan, nan, nan, nan, nan, ' bibel', ' bibel', ' bibel', ' bibel', ' bibel', ' bibel', nan, nan, nan, nan, nan, nan, nan, nan, nan, nan, nan, nan, nan, nan, nan, nan, nan, nan, nan, nan, nan, nan, nan, nan, nan, nan, nan, nan, nan, nan, nan, nan, nan, nan, nan, nan, ' bibel', ' bibel', ' bibel', ' bibel', ' bibel', ' bibel', nan, nan, nan, nan, nan, nan, nan, nan, nan, nan, nan, nan, nan, nan, nan, nan, nan, nan, nan, nan, nan, nan, nan, nan, nan, nan, nan, nan, nan, nan, nan, nan, nan, nan, nan, nan, nan, nan, nan, nan, nan, nan, nan, nan, nan, nan, nan, nan, nan, nan, nan, nan, nan, nan, nan, nan, nan, nan, nan, nan, nan, nan, nan, nan, nan, nan, nan, nan, nan, nan, nan, nan, nan, nan, nan, nan, ' bibel', ' bibel', ' bibel', ' bibel', nan, nan, nan, nan, nan, nan, nan, nan, nan, nan, nan, nan, nan, nan, nan, nan, nan, nan, ' quelle', ' quelle', ' quelle', nan, nan, nan, nan, nan, nan, nan, nan, nan, nan, nan, nan, nan, nan, nan, nan, nan, nan, nan, nan, nan, nan, nan, nan, nan, nan, nan, nan, nan, nan, nan, nan, nan, nan, nan, nan, nan, nan, nan, nan, nan, nan, nan, nan, nan, nan, nan, nan, nan, nan, nan, nan, nan, nan, nan, nan, nan, nan, nan, nan, nan, nan, nan, nan, nan, nan, nan, nan, nan, nan, nan, nan, nan, nan, nan, nan, nan, nan, nan, nan, nan, nan, nan, nan, nan, nan, nan, nan, nan, nan, nan, nan, nan, nan, nan, nan, nan, nan, nan, nan, nan, nan, nan, nan, nan, nan, nan, nan, nan, nan, ' musikwerk', ' musikwerk', ' musikwerk', ' musikwerk', ' musikwerk', ' musikwerk', ' musikwerk', ' musikwerk', ' musikwerk', ' musikwerk', ' musikwerk', ' musikwerk', ' musikwerk', ' musikwerk', ' musikwerk', ' musikwerk', ' musikwerk', ' musikwerk', ' musikwerk', ' musikwerk', nan, nan, nan, nan, nan, nan, nan, nan, nan, nan, nan, ' musikwerk', ' musikwerk', ' musikwerk', ' musikwerk', ' musikwerk', ' musikwerk', ' musikwerk', ' musikwerk', ' musikwerk', ' musikwerk', ' musikwerk', ' musikwerk', ' musikwerk', ' musikwerk', ' musikwerk', ' musikwerk', ' musikwerk', ' bibel', ' bibel', ' bibel', ' bibel', ' bibel', ' bibel', ' bibel', ' bibel', ' bibel', ' bibel', ' bibel', ' bibel', ' bibel', ' bibel', ' bibel', ' bibel', ' bibel', ' bibel', ' bibel', ' bibel', ' bibel', ' bibel', ' bibel', ' bibel', ' bibel', ' bibel', ' bibel', ' bibel', ' bibel', ' bibel', ' bibel', ' bibel', ' bibel', ' bibel', ' bibel', ' bibel', ' bibel', ' bibel', ' bibel', ' bibel', ' bibel', ' bibel', ' bibel', ' bibel', ' bibel', ' bibel', ' bibel', ' bibel', ' bibel', ' bibel', ' bibel', ' bibel', ' bibel', ' bibel', ' bibel', ' bibel', ' bibel', ' bibel', ' bibel', ' bibel', ' bibel', ' bibel', ' bibel', ' bibel', ' bibel', ' bibel', nan, nan, nan]\n"
     ]
    }
   ],
   "source": [
    "print(sermon.word_types)"
   ]
  },
  {
   "cell_type": "code",
   "execution_count": 66,
   "id": "b0e10756",
   "metadata": {},
   "outputs": [
    {
     "name": "stdout",
     "output_type": "stream",
     "text": [
      "['Auff', 'den', '25.', 'Sonntag', 'nach', 'Trinitatis/', '|', 'Anno', '1599.', '|', 'Zu', 'Memmingen', 'in', 'der', 'Pfarrkirchen/', 'zu', '|', 'S.', 'Martin/', 'nach', 'dem', 'in', 'derselben', 'ein', '|', 'new', 'Orgel', 'zugerichtet', 'vnd', 'probiert', '|', 'worden/', '|', 'Gehalten', 'durch', '|', 'M.', 'Johannem', 'Langen/', 'Pfarrern', '|', 'daselbst.', 'Tübingen/', '|', 'Getruckt', 'bey', 'Georgen', 'Gruppenbach/', '|', 'Anno', 'M', 'D', 'CII.', '[vakat]', 'Christliche', 'Predig/', 'von', '|', 'den', 'Orgeln/', 'vnd', 'der', 'gantzen', 'Musica', 'Vo-|cali', '&amp;']\n",
      "['Instrumentali,', 'nach', 'vorlesung', 'des', '|', 'ltesten', 'Psalmen', 'Dauids/', 'gehalten', 'in', 'der', 'Pfarr-|kirchen', 'zu', 'Memmingen.', 'Lobet', 'den', 'Herrn', 'in', 'seinem', 'Heilgthumb:', 'Lobet', 'jhn', 'in', 'der', 'Veste', 'seiner', 'Macht.', 'Lobet', 'jhn', 'in', 'seinen', 'Thaten:', 'Lobet', 'jhn[', ']in', 'seiner', 'grossen', 'Herrligkeit.', 'Lobet', 'jhn', 'mit', 'Posaunen:', 'Lobet', 'jhn', 'mit', 'Psaltern', 'vnd', 'Harpffen.', 'Lobet', 'jhn', 'mit', 'Paucken', 'vnd', 'Reygen:', 'Lobet', 'jhn', 'mit', 'Seiten', 'vnd', 'Pfeiffen.', 'Lobet', 'jhn', 'mit', 'hellen', 'Cymbaln.', 'Lobet']\n",
      "['jhn', 'mit', 'wolklingenden', 'Cymbaln.', 'Alles', 'was', 'Othem', 'hat/', 'lobe', 'den', 'Herren.', 'Halleluia.', 'Daß/', 'geliebte', 'im', 'Herrn/', 'an', 'statt', 'des', 'heutigen', 'Sonntäglichen', 'Euangelij/', 'dieser', 'Psalm', 'vorgelesen', 'worden/', 'ist', 'nicht', 'ohn', 'sonderbare', 'Vrsach', 'geschehen/', 'aber', 'doch', 'gleichwol', 'nicht', 'der', 'Meinung/', 'daß', 'eben', 'dieser', 'Psalm', 'für', 'dißmal', 'von', 'Wort', 'zu', 'Wort', 'soll', 'erkläret', 'werden/', 'sondern', 'nach', 'dem', 'durch', 'gnädige', 'Schickung', 'Gottes/', 'vnd', 'durch', 'günstiges', 'Bewilligen', 'vnd', 'zuthun', 'vnserer', 'von']\n",
      "['Gott', 'für', 'gesetzten', 'Christlichen', 'Obrigkeit/', 'zu', 'Lob', 'vnd', 'Preiß', 'des', 'Allerheiligsten', 'Namens', 'Gottes/', 'vnd', 'zu', 'mehrer', 'Vbung', 'des', 'offentlichen', 'wahren', 'Gottesdiensts/', 'nach', 'dem', 'Exempel', 'vieler/', 'ja', 'fast', 'aller', 'anderer', 'namhafften', 'Euangelischen', 'Kirchen/', 'in', 'dieser', 'vnserer', 'schönen', 'Pfarrkirchen', 'ein', 'herrliches', 'wollauttendes', 'Orgelwerck', 'ist', 'zugerichtet/', 'vnd', 'nunmehr', 'vollendet/', 'darzu', 'auch', 'beschlagen/', 'probiert/', 'bewehrt/', 'vnd', 'herrlich', 'gut', 'erfunden', 'worden:', 'Vnd', 'aber', '(als', 'wie', 'es', 'mit', 'einem', 'jeden', 'newen', 'Werck/']\n",
      "['sonderlich', 'in', 'vnd', 'bey', 'der', 'Kirchen/', 'pfleget', 'zugeschehen)', 'viel', 'vnd', 'mancherley/', 'vnd', 'dieselbige', 'zwar', 'mehrer', 'theils', 'seltzame', 'verkehrte', 'Urtheil', 'von', 'solchem', 'Werck', 'fallen/', 'vnd', 'von', 'den', 'Leuten', 'gehört', 'werden:', 'Deßwegen', 'ich', 'dann', 'vor', 'dieser', 'zeit', 'mich', 'mit', 'wolbedachtem', 'Sinn', 'vnd', 'Mut', 'offentlich', 'auff', 'dieser', 'Cantzel', 'hab', 'vernemen', 'lassen/', 'daß', 'ich/', 'so', 'es', 'Gott', 'geliebe/', 'zu', 'seiner', 'zeit/', 'wann', 'solches', 'Werck', 'verfertiget', 'werde/', 'von', 'demselben/', 'notwendigen', 'gründtlichen']\n",
      "['vnd', 'Christlichen', 'Bericht', 'thun', 'wölle:', 'Vnd', 'ich', 'demnach', 'solchem', 'meinem', 'versprechen', 'statt', 'vnd', 'gnug', 'zuthun', 'schuldig', 'vnd', 'verbunden', 'bin:', 'So', 'soll', 'dasselbige/', 'vermittelst', 'Göttlicher', 'Gnaden/', 'für', 'diese', 'Predigt', 'also', 'vnd', 'der', 'gestalt', 'geschehen/', 'daß', 'ein', 'jeder', 'Christenmensch/', 'der', 'solchen', 'Bericht', 'ohne', 'Vorurtheil', 'mit', 'fleiß', 'höret/', 'auß', 'demselben', 'erkennen', 'soll/', 'was', 'er', 'von', 'solchem', 'Orgelwerck', 'halten/', 'mit', 'was', 'Augen', 'er', 'dasselbige', 'anschawen/', 'mit', 'was', 'Ohren', 'er', 'es']\n",
      "['hören/', 'vnd', 'was', 'er', 'auch', 'sonsten', 'sich', 'darbey', 'erinnern', 'solle.', 'Darzu', 'dann', 'fast', 'dienstlich', 'sein', 'würdt/', 'wann', 'wir', 'die', 'fürnemeste', 'Vrsachen/', 'vmb', 'welcher', 'wir', 'solches', 'Orgelwerck', 'vns', 'nicht', 'zuwider/', 'sondern', 'angenem', 'vnd', 'gefällig', 'sein', 'lassen/', 'vnd', 'desselbigen', 'recht', 'vnd', 'Christenlich', 'gebrauchen', 'sollen/', 'von', 'vnd', 'ab', 'dem', 'Werck', 'selber/', 'wie', 'es', 'da', 'für', 'Augen', 'stehet/', 'werden', 'vernemen/', 'In', 'massen', 'dieselbige', 'an', 'solchem', 'Werck', 'meisten', 'theils', 'nicht', 'allein']\n",
      "['durch', 'Gemählde', 'vorgebildet/', 'sondern', 'auch', 'mit', 'außtruckenlichen', 'auß', 'der', 'heiligen', 'Schrifft', 'hergenommen/', 'zum', 'theil', 'Lateinischen/', 'zum', 'theil', 'Teutschen', 'Worten', 'vnd', 'Sprüchen', 'begriffen', 'seind.', 'Vnd', 'ist', 'also', 'in', 'der', 'Warheit', 'nichts', 'vergebenlichs', 'daran', 'geschrieben', 'vnd', 'gemahlet/', 'sondern', 'es', 'hat', 'ein', 'jedes', 'seine', 'sonderbare', 'Vrsach', 'vnd', 'Bedeutung.', 'Vnd', 'ist', 'alles', 'zumal', 'dahin', 'gerichtet/', 'daß', 'die', 'Fürtreffligkeit', 'vnd', 'Nutzbarkeit/', 'wie', 'auch', 'der', 'rechte', 'Christliche', 'Gebrauch', 'solches', 'Wercks', '/', 'erkennet/']\n",
      "['betrachtet/', 'vnd', 'gerhümet', 'werde:', 'Daß', 'es', 'nämlich', 'zum', 'allerersten', 'vnd', 'am', 'allermeisten', 'solle', 'dienen', 'zum', 'Lob', 'vnd', 'Preiß', 'Gottes', 'des', 'Allerhöchsten', 'vnd', 'Hochgelobten/', 'als', 'zu', 'welchem', 'Lob', 'wir', 'Menschen', 'nicht', 'allein', 'anfänglich', 'erschaffen/', 'sondern', 'auch', 'durch', 'den', 'Sohn', 'Gottes', 'thewer', 'erkaufft', 'vnd', 'erworben', 'seind.', 'Vnd', 'werden', 'auch', 'von', 'Gott', 'dem', 'heiligen', 'Geist/', 'durch', 'sein', 'heiliges', 'Wort', 'vielfältig', 'vnd', 'ernstlich', 'darzu', 'vermahnet.', 'Sonderlich', 'aber', 'geschicht', 'dasselbige', 'durch']\n",
      "['den', 'König', 'vnd', 'Propheten', 'Dauid/', 'nicht', 'allein', 'in', 'dem', 'jetzt', 'verleßnen', 'letsten/', 'sondern', 'auch', 'in', 'andern', 'vielen', 'seiner', 'Psalmen.', 'Wie', 'dann', 'oben', 'an', 'den', 'zweyen', 'höheren', 'Kästen', 'vnserer', 'Orgel/', 'in', 'welchen', 'die', 'gröste', 'Pfeiffen', 'stehen/', 'auß', 'dem', '147.', 'Psalmen', 'geschrieben', 'stehet:', 'Lavda', 'Iervsalem', 'Dominvm:', 'Lavda', 'Devm', 'tvvm', 'Zion.', 'Das', 'ist:', 'Preise', 'Jerusalem', 'den', 'Herrn:', 'Lobe', 'Zion', 'deinen', 'Gott.', 'Da', 'dann', 'durch', 'Jerusalem', 'vnd', 'Zion/', 'nicht', 'nur']\n",
      "['die', 'eusserliche', 'Statt', 'Jerusalem', 'vnd', 'der', 'Berge', 'oder', 'die', 'Burge', 'Zion', 'zuuerstehen', 'ist/', 'sondern', 'nach', 'Prophetischer', 'Art', 'vnd', 'Weise/', 'die', 'gantze', 'wahre', 'Kirche', 'Gottes/', 'beedes', 'des', 'Alten', 'vnd', 'des', 'Newen', 'Testaments.', 'Dieselbige', 'würdt', 'mit', 'denen', 'worten', 'vermahnet/', 'daß', 'sie', 'den', 'Herrn/', 'den', 'einzigen', 'wahren', 'Gott/', 'als', 'jhren', 'gnädigen', 'Gott', 'vnd', 'trewen', 'Heyland/', 'loben', 'vnd', 'preisen', 'solle.', 'Von', 'welchem', 'Lobe', 'Gottes', 'auch', 'zu', 'anfang', 'des', 'gemeldten', 'Psalmens']\n",
      "['geschrieben', 'stehet:', 'Lobet', 'den', 'Herrn:', 'Denn', 'vnsern', 'Gott', 'loben/', 'das', 'ist', 'ein', 'köstlich', 'ding:', 'solches', 'Lob', 'ist', 'lieblich', 'vnd', 'schön.', 'Vnd', 'in', 'dem', 'nechstuolgenden', '148.', 'Psalmen', 'spricht', 'der', 'Königliche', 'Prophet:', 'Jhr', 'Könige', 'auff', 'Erden/', 'vnd', 'alle', 'Leute:', 'Jhr', 'Fürsten/', 'vnd', 'alle', 'Richter', 'auff', 'Erden:', 'Jhr', 'Jünglinge', 'vnd', 'Jungfrawen/', 'die', 'Alten', 'mit', 'den', 'Jungen/', 'sollen', 'loben', 'den', 'Namen', 'des', 'Herrn.', 'Denn', 'sein', 'Name', 'allein', 'ist', 'hoch:', 'Sein']\n",
      "['Lob', 'gehet/', 'so', 'weit', 'Himmel', 'vnd', 'Erden', 'ist.', 'Dadrumb', 'schreibet', 'auch', 'der', 'weise', 'Syrach', 'in', 'seinem', '40.', 'oder', '(wie', 'andere', 'setzen)', 'zu', 'ende', 'des', '39.', 'Capitels:', 'Singet', 'löblich/', 'vnd', 'lobet', 'den', 'Herrn', 'in', 'allen', 'seinen', 'Wercken/', 'preiset', 'seinen', 'Namen', 'herrlich.', 'Vnd', 'im', '43.', 'Capitel:', 'Lobet', 'vnd', 'preiset', 'den', 'Herrn/', 'so', 'hoch', 'jhr', 'vermöget.', 'Er', 'ist', 'noch', 'höher.', 'Preiset', 'jhn', 'auß', 'allen', 'kräfften/', 'vnd', 'lasset', 'nicht', 'ab:']\n",
      "['Noch', 'werdet', 'jhr', 'es', 'nicht', 'erreichen.', 'Mit', 'welchen', 'worten', 'wir', 'ermahnet', 'werden/', 'daß', 'wir', 'den', 'Herrn', 'vnsern', 'Gott', 'mit', 'allen', 'denen', 'kräfften/', 'die', 'er', 'vns', 'gegeben/', 'vnd', 'auff', 'alle', 'die', 'weise/', 'darzu', 'er', 'selber', 'vns', 'tüchtig', 'gemacht', 'hat/', 'loben', 'vnd', 'preisen', 'sollen.', 'Daß', 'aber', 'dasselbige', 'nicht', 'allein', 'mit', 'lebendiger', 'Stimme', 'vnd', 'mündtlichem', 'Gesang', '/', 'sondern', 'auch', 'mit', 'allerley', 'Musicalischen', 'Jnstrumenten', '(wo', 'man', 'dieselbige', 'haben', 'mag:', 'welches']\n",
      "['zwar', 'nicht', 'allenthalben', 'sein', 'kan)', 'geschehen', 'möge', 'vnd', 'solle/', 'das', 'bringen', 'mit', 'sich', 'die', 'außtruckenliche', 'wort', 'des', 'verleßnen', 'letsten', 'Psalmens', '/', 'deren', 'ettliche', 'vnter', 'dem', 'grossen', 'Orgelwerck', 'mit', 'grossen', 'Buchstaben', 'geschrieben', 'seind/', 'also', 'lauttend:', 'Lobet', 'den', 'Herrn', 'mit', 'Posaunen:', 'Lobet', 'jhn', 'mit', 'Psaltern', 'vnd', 'Harpffen:', 'Lobet', 'jhn', 'mit', 'Seiten', 'vnd', 'Pfeiffen:', 'Lobet', 'jhn', 'mit', 'wolklingenden', 'Cymbaln:', 'Alles', 'was', 'Othem', 'hat/', 'lobe', 'den', 'Herrn.', 'Hiemit', 'stimmet', 'auch']\n",
      "['vberein/', 'das', 'oben', 'an', 'dem', 'mitlen', 'Kasten', 'vnserer', 'Orgel/', 'vnter', 'des', 'Königs', 'Dauids', 'Bildnus/', 'auß', 'seinem', '98.', 'Psalmen', 'geschrieben', 'stehet:', 'Laudate', 'dominvm', 'in', 'cythara,', 'et', 'in', 'voce', 'tubae.', 'Das', 'ist:', 'Lobet', 'den', 'Herrn', 'mit', 'Harpffen', 'vnd', 'Posaunen.', 'Daß', 'aber', 'diß', 'nicht', 'allein', 'des', 'Königs', 'Dauids/', 'sondern', 'zuuorderst', 'Gottes', 'des', 'heiligen', 'Geistes/', 'vnd', 'volgends', 'auch', 'anderer', 'von', 'Gott', 'dem', 'heiligen', 'Geist/', 'erleuchteten', 'Menschen/', 'Sinn/', 'Will', 'vnd', 'Meinung']\n",
      "['gewesen/', 'vnd', 'noch', 'seye/', 'das', 'erscheinet', 'neben', 'vielem', 'anderm', '(welches', 'nicht', 'alles', 'an', 'diesem', 'Ort', 'vnd', 'zu', 'dieser', 'Zeit', 'kann', 'fürgebracht', 'werden)', 'auch', 'daher/', 'daß', 'der', 'Gottsgelehrte', 'Jesus', 'Syrach/', 'nach', 'dem', 'er', 'in', 'dem', '40.', 'Capitel', 'seines', 'Buchs/', 'in', 'gemein/', 'zum', 'Lobe', 'vnd', 'Preise', 'Gottes', 'vermahnet/', 'schreibet', 'vnd', 'vermahnet', 'er', 'gleich', 'darauff', 'in', 'sonderheit:', 'Lobet', 'den', 'Herrn', 'mit', 'singen', 'vnd', 'klingen.', 'Welche', 'Wort', 'nicht', 'vergebenlich', 'an']\n",
      "['vnserer', 'Orgel', '/', 'ob', 'dem', 'Clauier', '/', 'mit', 'verguldten', 'Buchstaben', 'geschrieben', 'seind.', 'Dann', 'mit', 'denselbigen', 'würdt', 'beede/', 'die', 'Vocal', 'vnd', 'Instrumental', 'Music', 'confirmiert', 'vnd', 'commendiert,', 'bestättiget', 'vnd', 'gerhümet.', 'Wie', 'dann', 'im', 'Original', 'Griechischen', 'Text/', 'die', 'Wort', 'also', 'lauten:', 'Εὐλογήσατε', 'τομ', 'κύριομ', 'ἐμ', 'ᾠδαῖς', 'χειλέωμ', 'καὶ', 'ἐμ', 'κινύραις.', 'Das', 'ist:', 'Preiset', 'den', 'Herrn', 'mit', 'dem', 'Gesang', 'ewerer', 'Lefftzen/', 'vnd', 'mit', 'den', 'Harpffen/', 'oder', 'andern', 'Musicalischen', 'Jnstrumenten', ':']\n",
      "['welche', 'in', 'vnserer', 'Teutschen', 'Bibel', 'durch', 'das', 'klingen', 'verstanden', 'werden/', 'dieweil', 'sie', 'einen', 'klang', 'oder', 'schall', 'von', 'sich', 'geben.', 'Daß', 'aber', 'solches', 'singen', 'vnd', 'klingen', '/', 'nicht', '(wie', 'ettliche', 'vermeinen)', 'nur', 'eine', 'Ceremonia', 'der', 'Kirchen', 'des', 'Alten', 'Testaments', 'gewesen/', 'vnd', 'jetzt', 'im', 'Newen', 'Testament', 'auffgehaben', 'seye:', 'sondern', 'daß', 'es/', 'nach', 'eines', 'jeden', 'Orts', 'gelegenheit/', 'auch', 'in', 'vnd', 'bey', 'der', 'Christlichen', 'Kirchen', 'des', 'Newen', 'Testaments', '/', 'möge']\n",
      "['vnd', 'solle', 'behalten', 'vnd', 'geübet', 'werden/', 'das', 'können', 'wir/', 'neben', 'andern', '(welches', 'hernach', 'zum', 'theil', 'solle', 'vermeldet', 'werden)', 'auch', 'dannenher', 'abnemen', 'vnd', 'erkennen/', 'daß', 'der', 'heilig', 'Apostel', 'Paulus', '1.', 'Corinth.', '14.', 'schreibet:', 'Wann', 'jhr', 'zusamen', 'kommet/', 'so', 'hat', 'ein', 'jeglicher', 'Psalmen', 'vnd', 'Lobgesang', ':', 'Vnd', 'daß', 'er', 'auch', 'Ephes.', '5.', 'vermahnet:', 'Werdet', 'vol', 'Geistes/', 'vnd', 'redet', 'vnter', 'einander', 'von', 'Psalmen', 'vnd', 'Lobgesängen', 'vnd', 'geistlichen', 'Liedern/', 'singet']\n",
      "['vnd', 'spielet', 'dem', 'Herrn', 'in', 'ewren', 'Hertzen.', 'Vnd', 'Colos.', '3.', 'Lehret', 'vnd', 'ermahnet', 'euch', 'selbst', 'mit', 'Psalmen/', 'mit', 'Lobgesängen', 'vnd', 'geistlichen', 'Liedern/', 'vnd', 'singet', 'dem', 'Herrn', 'in', 'eweren', 'Hertzen.', 'Mit', 'welchen', 'worten', 'der', 'heilige', 'Apostel', 'das', 'mündtliche', 'Gesang', '/', 'vnd', 'zugleich', 'die', 'Vocal', 'vnd', 'Instrumental', 'Music,', 'keines', 'wegs', 'auffhebt/', 'sondern', 'viel', 'mehr', 'dieselbige', 'approbiert', 'vnd', 'bestättiget/', 'ja', 'auch', 'darzu', 'vermahnet.', 'Er', 'lehret', 'aber', 'zugleich/', 'daß', 'man']\n",
      "['nicht', 'nur', 'mit', 'dem', 'Munde/', 'vnd', 'mit', 'eusserlichen', 'Jnstrumenten', '/', 'sondern', 'zuuorderst', 'im', 'Hertzen', 'Gott', 'loben', 'vnd', 'preisen', 'solle.', 'Darzu', 'vns', 'dann/', 'neben', 'vnd', 'nechst', 'denen', 'jetzt', 'angehörten', 'Vermahnungen/', 'für', 'das', 'Ander/', 'billich', 'auch', 'bewegen', 'vnd', 'treiben', 'solle/', 'das', 'fürtreffliche', 'Exempel', 'der', 'himmelischen', 'Heer=scharen', 'der', 'heiligen', 'Engeln', ':', 'Welche/', 'ob', 'sie', 'wol', 'in', 'jhrem', 'eigenen', 'Wesen', 'nicht', 'leibliche', 'vnd', 'sichtbare/', 'sondern', 'pur', 'lauter', 'geistliche', 'vnd', 'vnsichtbare']\n",
      "['Creaturen', 'seind/', 'vnd', 'auch', 'zum', 'Lob', 'vnd', 'Preiß', 'Gottes', 'keiner', 'eusserlichen', 'Musicalischen', 'Instrumenten', 'bedörffen/', 'Jedoch/', 'dieweil', 'sie', 'vns', 'in', 'der', 'heiligen', 'Göttlichen', 'Schrifft', 'an', 'ettlichen', 'orten/', 'vnd', 'sonderlich', 'im', 'Buch', 'der', 'Offenbarungen', 'Johannis', '/', 'in', 'leiblicher', 'sichtbarer', 'gestalt/', 'wie', 'schöne', 'Jünglinge/', 'mit', 'Posaunen', '/', 'Harffen', '/', 'vnd', 'andern', 'Musicalischen', 'Instrumenten', '/', 'vorgebildet', 'seind/', 'so', 'seind', 'sie', 'auch', 'in', 'solcher', 'gestalt', 'an', 'vnser', 'Orgel', 'gemahlet/', 'hiemit', 'anzuzeigen/']\n",
      "['daß', 'die', 'Musica', 'warhafftig', 'eine', 'Engelische', 'Kunst', 'seye/', 'zu', 'welcher', 'auch', 'die', 'heilige', 'Engel', 'lust', 'vnd', 'liebe', 'haben/', 'vnd', 'dieselbige', 'auff', 'ihre', 'sonderbare', 'Englische/', 'mit', 'menschlicher', 'Zungen', 'ohnaußsprechliche', 'weise/', 'zum', 'Lobe', 'Gottes/', 'ohne', 'vnterlaß', 'üben', 'vnd', 'treiben.', 'Wie', 'sie', 'dann', 'zur', 'zeit', 'der', 'Geburt', 'Christi/', 'mit', 'hertzlicher', 'Freude', 'gesungen', 'haben:', 'Ehre', 'sey', 'Gott', 'in', 'der', 'Höhe/', 'Fried', 'auff', 'Erden/', 'vnd', 'den', 'Menschen', 'ein', 'wolgefallen.', 'Wir', 'lesen']\n",
      "['auch', 'Esaiae', '6.', 'daß', 'die', 'Seraphim', '/', 'die', 'heilige', 'Engel', '/', 'stets', 'gegen', 'einander', 'rueffen', 'vnd', 'singen', ':', 'Heilig/', 'heilig/', 'heilig', 'ist', 'der', 'Herr', 'Zebaoth.', 'Alle', 'Lande', 'seind', 'seiner', 'Ehren', 'voll.', 'Welche', 'zwey', 'herrliche', 'Englische', 'Lobgesang', '/', 'wolbedächtlich', 'zu', 'oberst', 'an', 'die', 'zween', 'grosse', 'Flügel', 'vnserer', 'Orgel', '(nämlich/', 'das', 'ein', 'ob', 'der', 'histori', 'der', 'gnadenreichen', 'Geburt', 'Christi/', 'vnd', 'das', 'ander', 'ob', 'der', 'Histori', 'der', 'Offenbarung/', 'so']\n",
      "['den', 'Weisen', 'auß', 'morgenland', 'geschehen)', 'mit', 'grossen', 'vnd', 'Teutschen', 'Buchstaben', 'vnd', 'Worten', 'geschrieben', 'seind/', 'hiemit', 'neben', 'anderm', 'vns', 'auch', 'dessen', 'insonderheit', 'zuerinnern/', 'daß/', 'so', 'wir', 'den', 'heiligen', 'Engeln', 'gleich', 'werden/', 'vnd', 'denselbigen', 'in', 'der', 'himmelischen', 'Cantorey', '/', 'des', 'ewigen', 'seeligen', 'Lebens', 'beywohnen/', 'vnd', 'sampt', 'jhnen', 'Gott', 'den', 'Allerheiligsten', 'ewiglich', 'loben', 'vnd', 'preisen', 'wöllen/', 'so', 'sollen', 'wir', 'vns', 'nicht', 'verdriessen', 'lassen/', 'dasselbige/', 'so', 'viel', 'wir', 'immer', 'können']\n",
      "['vnd', 'vermögen/', 'auch', 'hie', 'zeitlich', 'anzufahen', 'vnd', 'zuüben/', 'sondern', 'wir', 'sollen', 'lust', 'vnd', 'freude', 'darzu', 'haben.', 'Vnd', 'hierinnen', 'sollen', 'wir/', 'für', 'das', 'Dritte/', 'auch', 'nachfolgen', 'dem', 'Exempel', 'deren', 'Leuten/', 'welche', 'die', 'Musicam', 'vocalem', 'vnd', 'Instrumentalem', '(als', 'gut', 'sie', 'dieselbige', 'zu', 'jhren', 'Zeitten', 'haben', 'können)', 'geliebet', 'vnd', 'geübet', 'haben.', 'Dann', 'das', 'ist', 'ein', 'vraltes', 'ding/', 'welches', 'in', 'der', 'ersten', 'Welt/', 'vor', 'dem', 'Sündfluß', 'angefangen.', 'Wie', 'wir', 'im']\n",
      "['4.', 'Capitel', 'des', 'ersten', 'Buchs', 'Mosis', 'lesen/', 'daß', 'einer', 'mit', 'Namen', 'Ivbal,', 'der', 'erste', 'Geiger', 'vnd', 'Pfeiffer/', 'oder', '(wie', 'man', 'es', 'auß', 'dem', 'Hebraischen', 'auch', 'verdolmetschen', 'möchte)', 'der', 'erste', 'Harffenschlager', 'vnd', 'Organist/', 'oder', 'Cytharist', 'vnd', 'Instrumentist/', 'vnd', 'also', 'gleichsam', 'der', 'Vatter', 'solcher', 'Leut', 'gewesen', 'seye/', 'vnnd', 'daß', 'dieselbige', 'von', 'jhme', 'herkommen.', 'Darmit', 'angezeigt', 'würdt/', 'daß', 'solche', 'Kunst', 'durch', 'jhn', 'anfänglich', 'seye', 'erfunden', 'worden.', 'Deßhalben', 'er', 'dann']\n",
      "['an', 'vnserer', 'Orgel', 'auch', 'seinen', 'Ort', 'hat/', 'daß', 'er', 'nämlich', 'an', 'der', 'Seitten', 'des', 'Ruck', 'positius,', 'oder', 'der', 'kleinern', 'Orgel/', 'gegen', 'dem', 'Chor', 'werdts/', 'mit', 'einer', 'Pfeiffen', 'gemahlet/', 'vnd', 'sein', 'Name', 'Ivbal', '(welcher', 'verteutsch', 'mag', 'werden/', 'ein', 'Posaunenblaser/', 'oder', 'Pfeiffer)', 'darzu', 'geschrieben', 'ist.', 'Daß', 'aber', 'der', 'gemeldte', 'Iubal', 'nicht', 'von', 'des', 'Gottseeligen', 'Seths/', 'sondern', 'von', 'des', 'Gottlosen', 'Cains', 'Geschlecht', 'vnd', 'Nachkommenschafft', 'gewesen/', 'das', 'solle', 'vns', 'so']\n",
      "['ferne', 'nicht', 'jrren/', 'daß', 'wir', 'darumb', 'solche', 'durch', 'jhn', 'erfundne', 'Kunst', 'verwerffen', 'sollten', 'oder', 'wollten/', 'sondern', 'wir', 'sollen', 'dieselbige', 'nichts', 'desto', 'weniger', 'für', 'Gottes', 'Gabe', 'erkennen', 'vnd', 'halten.', 'Wie', 'es', 'dann', 'mit', 'solcher/', 'vnd', 'andern', 'dergleichen', 'eusserlichen', 'Gaben', 'vnd', 'Künsten', 'also', 'geschaffen', 'ist/', 'daß', 'dieselbige', 'auch', 'den', 'Vngläubigen', 'vnd', 'Gottlosen', 'widerfahren', 'mögen/', 'vnd', 'offtermalen', 'reichlich', 'zu', 'theil', 'werden/', 'Vnd', 'sollen', 'demnach/', 'von', 'dessen', 'wegen/', 'die', 'wahrgläubige']\n",
      "['vnd', 'Gottseelige', 'sich', 'solcher', 'Gaben', 'vnd', 'Künsten', 'nicht', 'entschlagen', 'noch', 'enteussern/', 'sondern', 'viel', 'mehr', 'derselbigen/', 'zum', 'Lobe', 'Gottes/', 'vnd', 'jhrer', 'selbs', 'eignen/', 'wie', 'auch', 'anderer', 'Leuten/', 'besserung/', 'recht', 'vnd', 'ordenlich', 'gebrauchen/', 'vnd', 'hiemit', 'sich', 'von', 'den', 'vngläubigen', 'vnd', 'Gottlosen', '(welche', 'solche', 'Gaben', 'vnd', 'Künsten', 'mißbrauchen)', 'absöndern.', 'Inmassen', 'auch', 'die', 'heilige', 'Leut', 'vnd', 'das', 'Volck', 'Gottes', 'zur', 'zeit', 'des', 'Alten', 'Testaments', 'mit', 'den', 'Musicalischen', 'Jnstrumenten', 'gethan', 'haben.']\n",
      "['Als', 'wie', 'im', '15.', 'Capitel', 'des', 'andern', 'Buchs', 'Mosis', 'gelesen', 'würdt/', 'daß/', 'nach', 'dem', 'die', 'Kinder', 'Jsrael', 'durch', 'das', 'rote', 'Meer/', 'auß', 'der', 'Hand', 'Pharaonis', 'entrunnen/', 'da', 'haben', 'sie', 'nicht', 'allein', 'mit', 'mündlichem', 'Gesang', 'Gott', 'gelobet/', 'sondern', 'MirJam', 'Mosis', 'Schwester/', 'vnd', 'sampt', 'jhr', 'auch', 'andere', 'mehr', 'Jsraelitische', 'Weiber/', 'haben', 'auch', 'die', 'Paucken', '(oder', 'was', 'es', 'für', 'ein', 'Jnstrument', 'mag', 'gewesen', 'sein)', 'darzu', 'geschlagen.', 'Es', 'geschicht', 'auch']\n",
      "['im', 'vierdten', 'Buch', 'Mosis/', 'nicht', 'nur', 'ein/', 'sondern', 'mehrmalen', 'meldung', 'der', 'Drommeten', 'vnd', 'Posaunen.', 'Daher', 'man', 'darfür', 'hält/', 'daß', 'Moses', 'dieselbige', 'erfunden', 'habe.', 'Vmb', 'des', 'willen', 'er', 'an', 'der', 'andern', 'Seitten', 'des', 'Ruck', 'positius', 'mit', 'einer', 'Posaunen', 'gemahlet', 'ist.', 'Es', 'ist', 'aber', 'wol', 'zuerachten/', 'daß', 'er', 'solche', 'Drommeten', 'vnd', 'Posaunen', 'nicht', 'auß', 'sich', 'selbst', 'erfunden/', 'sondern', 'auß', 'Gottes', 'Beuelch', 'vnnd', 'angeben', 'gemachet', 'vnd', 'gebrauchet', 'habe.', 'Wie']\n",
      "['wir', 'dann', 'im', 'zehenden', 'Capitel', 'seines', 'vierdten', 'Buchs', 'lesen/', 'daß', 'Gott', 'der', 'Herr', 'jhme', 'beuohlen', 'habe/', 'zwo', 'Drommeten', 'oder', 'Posaunen', 'von', 'tichtem', 'Silber', 'zumachen/', 'vnd', 'mit', 'denselbigen', 'durch', 'die', 'Priester', 'die', 'Gemeine', 'zusamen', 'zuberuffen.', 'Es', 'würdt', 'auch', 'in', 'dem', '29.', 'Capitel', 'des', 'gemeldten', 'Buchs', 'gedacht/', 'des', 'Posaunen', 'oder', 'Drommeten', 'Fests/', 'welches', 'Järlich', 'am', 'ersten', 'Tag', 'des', 'siebenden', 'Monats', 'soll', 'gehalten', 'werden.', 'Es', 'haben', 'auch', 'sonderlich', 'im']\n",
      "['Hall', 'oder', 'Jubeljar/', 'die', 'Posaunen', 'müssen', 'geblasen', 'werden/', 'vnd', 'dieselbige', 'Posaunen', 'seind', 'auch', '(wie', 'im', '6.', 'Capitel', 'des', 'Buchs', 'Josuae', 'gelesen', 'würdt)', 'vor', 'der', 'Statt', 'Jericho/', 'nach', 'Gottes', 'beuelch', 'von', 'den', 'Priestern', 'gebraucht', 'worden.', 'Daß', 'aber', 'auch', 'andere', 'Instrumenta', 'vnd', 'Seitenspiel', 'gebräuchlich', 'seyen', 'gewesen/', 'das', 'können', 'wir', 'dannenher', 'abnemen/', 'daß', 'im', 'Buch', 'der', 'Richter', 'am', 'II.', 'Capitel', 'geschrieben', 'stehet/', 'daß', 'des', 'streitbarn', 'Heldens', 'Jephtah', 'Tochter/', 'demselben']\n",
      "['jhrem', 'Vatter/', 'nach', 'seinem', 'erlangten', 'herrlichen', 'Sieg/', 'mit', 'Paucken', '(oder/', 'was', 'es', 'für', 'ein', 'Seitenspiel', 'mag', 'gewesen', 'sein)', 'vnd', 'Reigen/', 'seye', 'entgegen', 'gegangen.', 'Es', 'geschicht', 'aber', 'der', 'herrlichen', 'Vocal', 'vnd', 'Instrumental', 'Music,', 'sonderlich', 'bey', 'verrichtung', 'des', 'wahren', 'Gottesdiensts/', 'allererst', 'recht', 'außtruckenliche', 'meldung/', 'in', 'der', 'Histori', 'vom', 'König', 'Dauid', 'welcher', 'für', 'andern', 'ein', 'sonderbarer', 'Liebhaber', 'vnd', 'Beförderer', 'der', 'Music', 'ist', 'gewesen/', 'hat', 'auch', 'selber', 'zum', 'Lobe', 'Gottes/']\n",
      "['die', 'Harffen', 'geschlagen.', 'Deßwegen', 'er', 'dann', 'an', 'vnserer', 'Orgel', 'mit', 'seiner', 'Harffen', 'abgebildet:', 'Vnd', 'seind', 'auch', 'außwendig', 'an', 'die', 'zween', 'grosse', 'Flügel', 'gemahlet/', 'zwo', 'merckliche', 'Geschichten/', 'nämlich', 'die', 'erste/', 'daß', 'da', 'die', 'Lade', 'des', 'Herrn/', 'erstlich', 'auß', 'dem', 'Hause', 'Abinadab/', 'in', 'das', 'Hause', 'ObedEdom/', 'vnd', 'darnach', 'auß', 'dem', 'Hause', 'ObedEdom', 'in', 'die', 'Statt', 'Dauids', 'herauff', 'gebracht', 'worden/', 'da', 'hat', 'Dauid', 'vnd', 'das', 'gantze', 'Hause', 'Israel', 'für']\n",
      "['dem', 'Herrn', 'her', 'gespielet', 'mit', 'Harffen/', 'Psaltern/', 'Posaunen/', 'Paucken/', 'Schellen/', 'Cymbaln/', 'vnd', 'andern', 'Musicalischen', 'Instrumenten.', 'Solche', 'denckwürdige', 'Histori/', 'ist', 'an', 'vnser', 'Orgel/', 'außmendig', '[recte:', 'außwendig]', 'an', 'dem', 'einen', 'Flügel/', 'reimweise', 'also', 'beschrieben.', 'Mit', 'Cymbaln', 'hell/', 'vnd', 'jauchtzen', 'viel/', 'Mit', 'Psalter/', 'Harffen/Seitenspiel/', 'Die', 'Lad', 'des', 'Bunds', 'getragen', 'würdt', 'In', 'Dauids', 'Statt/', 'als', 'sich', 'gebürt.', 'Den', 'Gottesdienst', 'die', 'Music', 'ziert.', 'Nach', 'dem', 'nun/', 'für', 'das', 'ander/', 'die', 'Lade']\n",
      "['des', 'Herrn/', 'in', 'die/', 'für', 'dieselbige/', 'in', 'der', 'Statt', 'Dauids', 'auffgeschlagne', 'Hütten/', 'hinein', 'gebracht/', 'da', 'hat', 'der', 'König', 'Dauid/', 'Gott', 'zu', 'Ehren/', 'bey', 'derselbigen', 'eine', 'Herrliche', 'Cantorey', 'vnd', 'Music,', 'nicht', 'allein', 'mit', 'lebendiger', 'Stimme', 'vnd', 'mündtlichem', 'Gesang/', 'sondern', 'auch', 'mit', 'Psaltern/', 'Harffen/', 'Posaunen/', 'hellen', 'Cymbaln/', 'vnd', 'andern', 'Seitenspiel/', 'angerichtet.', 'Von', 'welcher', 'Cantorey', 'an', 'dem', 'andern', 'Flügel', 'vnserer', 'Orgel', 'außwendig', 'also', 'geschrieben', 'stehet.', 'David', 'nach', 'der', 'Leuiten']\n",
      "['Wöhlung', 'Thet', 'auch', 'im', 'Tempel', 'ein', 'Bestellung', 'Der', 'Singern/', 'Dichtern', 'vnd', 'Spilleut', 'Von', 'vier', 'vnd', 'zweinzig', 'Gschlecht', 'allzeit.', 'All', 'Freud', 'zu', 'Gots', 'Lob', 'sey', 'bereit.', 'Solche', 'wolbestellte', 'Music', 'vnd', 'Cantorey', 'haben', 'hernach', 'ettliche', 'Gottseeselige', '[recte:', 'Gottseelige]', 'Könige/', 'sonderlich', 'Josaphat/', 'Hiskias', 'vnd', 'Josias/', 'auch', 'erhalten/', 'oder/', 'von', 'newem', 'wider', 'angeordnet/', 'vnd', 'Nehemias', 'hat', 'nach', 'der', 'Babylonischen', 'Gefängnus', 'dieselbige', 'ernewert.', 'Vnd', 'diß', 'ist', 'nicht', 'nur', 'ein', 'Schatten/', 'Figur/']\n",
      "['oder', 'Vorbild', 'gewesen/', 'als', 'wie', 'andere', 'Ceremonien', 'des', 'Alten', 'Testaments/', 'welche', 'durch', 'die', 'Zukunfft', 'Christi', 'auffgehaben', '[auffgehoben]', 'worden:', 'sondern', 'es', 'ist', 'gewesen', 'ein', 'Form', 'vnd', 'Weise/', 'Gott', 'zuloben', 'vnd', 'zupreisen/', 'vnd', 'sich', 'selbs', 'zu', 'solchem', 'Lob', 'vnd', 'Preiß', 'Gottes', 'auffzumunderen/', 'vnd', 'im', 'Herrn', 'zuerfrewen.', 'Daher', 'dann', 'solche', 'Weise/', 'im', 'Newen', 'Testament/', 'nicht', 'sampt', 'den', 'Leuitischen', 'Ceremonien/', 'Figuren', 'vnd', 'Vorbildungen', 'ist', 'abgeschaffet/', 'sondern', 'auch', 'in', 'vnd', 'bey']\n",
      "['der', 'Christlichen', 'Kirchen', 'des', 'Newen', 'Testaments/', 'wo', 'man', 'Lust', 'vnd', 'Gelegenheit', 'darzu', 'gehabt/', 'behalten', 'vnd', 'geübet', 'worden.', 'Wie', 'dann', 'Eusebius', 'vnd', 'Nicephorus', 'schreiben', 'vnd', 'bezeugen/', 'daß', 'sonderlich', 'die', 'Christen', 'in', 'Orient,', 'den', 'Herrn', 'Christum/', 'als', 'wahren', 'Gott/', 'mit', 'Psalmen', 'vnd', 'Lobgesängen', 'geehret', 'vnd', 'gepriesen', 'haben.', 'Eben', 'das', 'erscheinet', 'auch', 'auß', 'einer', 'Epistel', 'Plinij', 'Secundi,', 'Proconsulis', 'Bithyniae,', 'die', 'er', 'an', 'den', 'Keiser', 'Traianum', 'geschrieben/', 'darinnen', 'er/', 'als']\n",
      "['ein', 'Heid/', 'vnter', 'anderm', 'vermeldet/', 'daß', 'die', 'Leute/', 'welche', 'vmb', 'der', 'Verfolgung', 'willen', 'vom', 'Christlichen', 'Glauben', 'abgefallen/', 'haben', 'neben', 'anderm', 'in', 'sonderheit', 'bekennet/', 'daß/', 'weil', 'sie', 'Christen', 'gewesen/', 'haben', 'sie', 'gepfleget/', 'an', 'gewissen', 'Tagen/', 'des', 'Morgends', 'früe/', 'vor', 'Tag', 'zusamen', 'zukommen/', 'carmenque', 'Christo', 'quasi', 'Deo', 'dicere', 'inuicem,', 'das', 'ist/', 'den', 'Herrn', 'Christum/', 'als', 'wahren', 'Gott/', 'vnter', 'vnd', 'mit', 'einander', 'mit', 'Psalmen', 'vnd', 'Lobgesängen', 'zuehren', 'vnd', 'zupreisen.']\n",
      "['Darzu', 'sie', 'dann', 'zweiffels', 'ohne/', 'ob', 'wol', 'nicht', 'an', 'allen/', 'jedoch', 'an', 'ettlichen', 'Orten/', 'wo', 'es', 'mit', 'guter', 'Gelegenheit', 'geschehen', 'können/', 'neben', 'dem', 'mündtlichen', 'Gesang/', 'auch', 'der', 'Musicalischen', 'Jnstrumenten', 'Klang/', 'werden', 'gebraucht', 'haben.', 'Wie', 'dann', 'auß', 'den', 'Historien', 'gewiß', 'vnd', 'offenbar', 'ist/', 'daß', 'die', 'Orientalische', 'Völcker', 'je', 'vnd', 'allwegen', 'zu', 'der', 'Jnstrumental', 'Music', 'sondern', 'Lust', 'gehabt', 'haben.', 'Vnd', 'zwar/', 'daß', 'dieselbige', 'bey', 'der', 'ersten', 'Christlichen', 'Kirchen']\n",
      "['(wo', 'es', 'der', 'Verfolgung', 'vnd', 'anderer', 'Vngelegenheit', 'halben', 'geschehen', 'können)', 'gebräuchlich', 'seye', 'gewesen/', 'das', 'können', 'wir', 'auch', 'dannerher', 'abnemen/', 'daß', 'der', 'Author', 'Responsionum', 'ad', 'Orthodoxos,', 'quae', 'Iustino', 'adiectae', 'sunt', 'in', 'Responsione', 'ad', 'Quaestionem', 'centesimam', 'septimam', 'anzeiget/', 'daß', 'zu', 'seiner', 'zeit', 'der', 'Gebrauch', 'der', 'Musicalischen', 'Jnstrumenten', 'bey', 'der', 'kirchen', 'seye', 'abgeschafft/', 'vnd', 'allein', 'das', 'blosse', 'mündtliche', 'Gesang', 'behalten', 'worden.', 'Welches', 'aber', 'zweiffels', 'ohne', 'nicht', 'an', 'allen', 'Orten']\n",
      "['vnd', 'bey', 'allen', 'Kirchen', 'würdt', 'geschehen', 'sein/', 'sondern', 'allein', 'bey', 'denen/', 'bey', 'welchen', 'man', 'die', 'Jnstrumental', 'Music', 'nicht', 'zum', 'besten', 'haben', 'können.', 'An', 'andern', 'Orten', 'aber/', 'ist', 'dieselbige/', 'beyneben', 'dem', 'mündtlichen', 'Gesang/', 'nicht', 'allein', 'behalten/', 'sondern', 'auch', 'je', 'länger', 'je', 'mehr', 'verbessert', 'worden/', 'vnd', 'so', 'ferne', 'gebracht/', 'daß', 'man', 'nicht', 'nur', 'gemeine', 'einzelige', 'Instrumenta,', 'also', 'Pfeiffen/', 'Posaunen/', 'vnd', 'dergleichen/', 'sondern', 'gantze', 'Orglen', '(da', 'viel', 'Pfeiffen', 'bey']\n",
      "['einander', 'seind/', 'vnd', 'zum', 'theil', 'auch', 'zugleich', 'mit', 'einander', 'gehört', 'werden)', 'in', 'der', 'Kirchen', 'zugerichtet', 'vnd', 'gebraucht', 'hat.', 'Vnd', 'das', 'haben', 'die', 'Christen', 'in', 'Orient,', 'vnd', 'sonderlich', 'die', 'Griechen', '(welche', 'den', 'Papst', 'zu', 'Rom', 'niemalen', 'für', 'jhr', 'Haupt', 'erkennet)', 'als', 'sinnreiche', 'Leut/', 'vnd', 'besondere', 'Liebhaber', 'der', 'Music,', 'zum', 'allerersten', 'angefangen', 'vnd', 'erfunden.', 'Wie', 'dann', 'eben', 'das', 'Wort', 'vnd', 'der', 'Name', 'Orgel/', 'solches', 'mit', 'sich', 'bringet', 'von']\n",
      "['dem', 'Griechischen', 'Wort', 'οργανον,', 'welches', 'in', 'Latein', 'heißt', 'Instrumentum,', 'vnd', 'kan', 'nicht', 'wol', 'anderst', 'verteuschet', 'werden/', 'weder', 'das', 'es', 'heisse/', 'ein', 'Werckzeug/', 'vnd', 'ist', 'also', 'an', 'jhme', 'selber', 'ein', 'gemeiner', 'Name/', 'welcher', 'aber', 'der', 'Orgel', 'insonderheit', '[griechisch]', 'zugeschrieben', 'würdt/', 'dieweil', 'dieselbige', 'vnter', 'den', 'Musicalischen', 'Organis', 'oder', 'Jnstrumenten', 'das', 'allergröste', 'vnd', 'fürnemste', 'ist.', 'Daher', 'dann', 'auch', 'der', 'Constantinopolitanische', 'Keiser/', 'Constantinus', 'Copronymus,', 'als', 'er', 'im', 'Jar', 'nach', 'Christi']\n",
      "['Geburt', '757.', 'dem', 'König', 'der', 'Teutschen', 'vnd', 'Frantzosen', 'Pipino', 'eine', 'sonderbare', 'Verehrung', 'thun', 'wöllen/', 'hat', 'er', 'jhme', '(wie', 'Auentinus,', 'vnd', 'andere', 'ältere', 'Historici', 'schreiben)', 'zugeschickt', 'Instrumentum', 'Musicae', 'maximum,', 'Germanis', '&amp;', 'Gallis', 'antehac', 'incognitum:', 'lang=\"grc\"', 'οργανον', 'appellant.', 'Das', 'ist:', 'Das', 'allergröste', 'Mu[si]calische', 'Jnstrument/', 'welches', 'zuuor', 'den', 'Teutschen', 'vnd', 'Frantzosen', 'vnbekannt', 'gewesen/', 'vnd', 'würdt', 'ein', 'Orgel', 'genennet.', 'Was', 'es', 'aber', 'für', 'ein', 'Jnstrument', 'seye/', 'das', 'zeiget', 'Auentinus', 'gleich']\n",
      "['darauff', 'mit', 'den', 'Worten', 'an:', 'Cicutis', 'ex', 'albo', 'plumbo', 'compactum:', 'simul', '&amp;', 'follibus', 'inflatur:', '&amp;', 'manuum', 'pedumque', 'digitis', 'pulsatur.', 'Das', 'ist:', 'Es', 'ist', 'von', 'Bleyernen', 'oder', 'Zinernen', 'Pfeiffen', 'zusamen', 'gemacht/', 'vnd', 'würdt', 'zugleich', 'mit', 'Blasbälgen', 'auffgeblasen/', 'vnd', 'mit', 'den', 'Fingern', 'der', 'Händen/', 'vnd', 'Zehen', 'der', 'Füssen', 'geschlagen.', 'Es', 'ist', 'auch', 'von', 'dem', 'ersten', 'Teutschen', 'Keiser', 'Carolo', 'Magno', 'geschriben', 'worden/', 'daß', 'derselbe', 'durch', 'einen', 'von', 'Venedig', 'gebürtigen']\n",
      "['Priester/', 'mit', 'Namen', 'Georgius', '(welcher', 'zweifels', 'ohne', 'solche', 'Kunst', 'im', 'Griechenland', 'würdt', 'gelernet', 'haben)', 'organa,', 'more', 'Graecorum', '/', 'das', 'ist/', 'Orglen/', 'nach', 'der', 'Griechen', 'Gebrauch/', 'habe', 'lassen', 'zurichten.', 'Auß', 'solchem', 'allem', 'erscheinet', 'nun', 'klarlich/', 'daß', 'die', 'Orglen', 'anfänglich', 'von', 'den', 'Griechen', 'seyen', 'erfunden', 'vnd', 'gemacht', 'worden.', 'Daß', 'nun', 'von', 'dem', 'Römischen', 'Bischoff', 'oder', 'Papst', 'Vitaliano', '(welcher', 'umb', 'das', 'Jar', 'Christi', '650.', 'den', 'Römischen', 'Stul', 'besessen)', 'vermeldet']\n",
      "['würdt/', 'daß', 'derselb', 'die', 'Musicam', 'vnd', 'Orglen', 'in', 'die', 'Kirchen', 'habe', 'eingeführt/', 'vnd', 'das', 'auch', 'Mantuanus', 'libro', '4.', 'Fastorum', 'schreibt:', 'Signius', 'adiunxit', 'molli', 'conflata', 'metallo', 'Organa', '/', 'das', 'ist', 'allein', 'zuuerstehen', 'von', 'der', 'Kirchen', 'zu', 'Rom/', 'vnd', 'andern/', 'die', 'der', 'Römischen', 'Kirchen', 'hierinnen', 'haben', 'nachgefolget/', 'vnd', 'nicht', 'von', 'der', 'ersten', 'Erfündung', 'solches', 'Orgelwercks/', 'als', 'welches', 'zweiffels', 'ohne', 'die', 'Griechen', 'schon', 'allbereit', 'zuuor', 'erfunden/', 'gemacht', 'vnd', 'gebraucht']\n",
      "['haben.', 'Vnnd', 'wann', 'es', 'schon', '(welches', 'wir', 'doch', 'vmb', 'gehörter', 'Vrsachen', 'willen', 'nicht', 'zugeben', 'können)', 'von', 'dem', 'gemeldten', 'Vitaliano,', 'oder', 'einem', 'andern', 'Papst/', 'oder', 'auch', 'von', 'einem', 'bekandten', 'Heiden', 'vnnd', 'Vnchristen', 'anfänglich', 'erfunden', 'were', 'worden/', 'solten', 'vnnd', 'wolten', 'wir', 'es', 'doch', 'von', 'desselbigen', 'wegen', 'nicht', 'verwerffen/', 'sondern', 'eben', 'das', 'daruon', 'halten', 'vnnd', 'vrtheilen/', 'das', 'zuuor', 'von', 'der', 'durch', 'des', 'Cains', 'Nachkömling/', 'den', 'Jubal/', 'erfundnen', 'Pfeiffer', 'vnnd']\n",
      "['Geigerkunst', 'gesagt/', 'daß', 'namlich', 'dieselbige', 'dannoch', 'Gottes', 'Gab', 'seye/', 'vnd', 'daß', 'demnach', 'die', 'wahrglaubige', 'Kinder', 'Gottes', 'vnnd', 'rechtgeschaffne', 'Christen/', 'derselbigen', 'wol', 'mit', 'gutem', 'Gewissen', 'gebrauchen', 'können.', 'Welches', 'ebenmässig', 'auch', 'von', 'den', 'Orglen', 'unnd', 'andern', 'Musicalischen', 'Instrumenten', 'zu[u]uerstehen', 'ist/', 'daß', 'namlich', 'dieselbige', 'von', 'uns', 'Christen/', 'in', 'vnnd', 'ausserhalb', 'der', 'Kirchen/', 'wol', 'mögen', 'gebraucht', 'werden:', 'Aber', 'doch', 'gleichwol', 'nicht', 'als', 'ein', 'notwendigs', 'ding/', 'welches', 'man', 'des', 'Gewissens', 'halben']\n",
      "['haben', 'vnnd', 'gebrauchen', 'müsse/', 'unnd', 'ohne', 'welches', 'man', 'Gott', 'nicht', 'dienen/', 'noch', 'jhne', 'verehren', 'könne', '(welches', 'vnser', 'Sinn', 'vnnd', 'Meinung', 'gantz', 'vnnd', 'gar', 'nicht', 'ist)', 'sondern', 'als', 'ein', 'αδιαφορον,', 'das', 'ist/', 'ein', 'Mittel', 'und', 'frey', 'ding/', 'welches', 'wir', 'vns', 'weder', 'gebieten', 'noch', 'verbieten', 'sollen', 'lassen/', 'sondern', 'desselbigen/', 'so', 'wol', 'als', 'auch', 'anderer', 'vieler', 'Sachen', 'vnd', 'Ceremonien', '(welche', 'auch', 'zum', 'Theil', 'auß', 'dem', 'Papstthumb', 'herrhüren)', 'auß', 'Christlicher']\n",
      "['Freyheit', 'eintweders', 'gebrauchen', '/', 'oder', 'aber', 'dasselbige', 'unterlassen.', 'Daß', 'wir', 'aber', 'jetziger', 'zeit', 'viel', 'mehr', 'gesinnet', 'seind/', 'vnser', 'Christliche', 'Freyheit', '(die', 'wir', 'vns', 'ja', 'in', 'keinen', 'Weg', 'sollen', 'vnd', 'wöllen', 'nemen', 'vnnd', 'entziehen', 'lassen)', 'mit', 'dem', 'Gebrauch/', 'weder', 'mit', 'vnterlassung/', 'vnd', 'viel', 'mehr', 'mit', 'Anrichtung', 'weder', 'mit', 'Abschaffung', 'der', 'Vocal', 'vnnd', 'Jnstrumental', 'Music,', 'bey', 'vnserer', 'Kirchen', 'zuerzeigen/', 'dessen', 'haben', 'wir', 'erhebliche', 'Vrsachen/', 'welche', 'hernach', 'zum', 'theil']\n",
      "['sollen', 'beygebracht', 'werden.', 'Wir', 'lassen', 'vns', 'auch', 'billich', 'daran', 'nicht', 'verhindern/', 'noch', 'daruon', 'abschrecken', 'die', 'gegenwertige', 'schwere', 'vnnd', 'gefahrliche', 'Zeitten', 'vnnd', 'Läuffe:', 'sondern', 'halten', 'darfür/', 'daß', 'wir', 'nur', 'so', 'viel', 'desto', 'mehr', 'Vrsach', 'haben/', 'die', 'rechtgeschaffne', 'Geistliche', 'Freude/', 'auff', 'allerley', 'gebürliche', 'vnd', 'mögliche', 'Weise', 'vnd', 'Weg', 'in', 'vnsern', 'Hertzen', 'zuerwecken', 'vnnd', 'zustercken/', 'vnnd', 'vns', 'selber', 'zu', 'der', 'wahren', 'Anrüffung/', 'vnd', 'dem', 'Lob', 'vnd', 'Preise', 'Gottes', 'zuermundern.']\n",
      "['Als', 'wie', 'wir', 'auch', 'in', 'den', 'Historien', 'fünden', 'vnnd', 'lesen/', 'daß/', 'ob', 'wol', 'das', 'Gesang', 'vnd', 'die', 'Music', 'zuuor', 'bey', 'den', 'Kirchen', 'in', 'Occident', 'nicht', 'fast/', 'oder', 'wol', 'gar', 'nicht/', 'in', 'Vbung', 'gewesen/', 'so', 'seye', 'doch', 'dasselbige', 'eben', 'zur', 'zeit', 'der', 'Arianischen', 'Verfolgung/', 'durch', 'den', 'heiligen', 'Ambrosium', 'anfänglich', 'in', 'der', 'Kirchen', 'zu', 'Meyland', '(da', 'dieselbige', 'von', 'dem', 'Arianischen', 'Keiser', 'Valentiniano', 'hochbetrangt', 'war)', 'den', 'Orthodoxis', 'oder', 'Wahrgläubigen']\n",
      "['zum', 'Trost', 'vnd', 'Erquickung', 'angerichtet/', 'vnd', 'von', 'dannen', 'weitter', 'außgebreittet', 'worden.', 'Ob', 'dann', 'gleichwol', 'der', 'arglistige', 'böse', 'Feind/', 'seinem', 'Gebrauch', 'nach/', 'sein', 'Gifft', 'allgemach', 'darunter', 'hat', 'gemenget/', 'vnd', 'die', 'Sachen', 'dahin', 'gebracht/', 'daß', 'in', 'dem', 'finstern', 'Papstthumb', 'der', 'meiste', 'Theil', 'des', 'vermeindten', 'Gottesdiensts/', 'sonderlich', 'bey', 'der', 'Meß/', 'mit', 'vergebenlichem', 'Gesang', 'vnd', 'Klang/', 'ohne', 'Verstand/', 'Glauben', 'vnd', 'Andacht', 'ist', 'verrichtet/', 'vnd', 'darneben', 'die', 'reine', 'heilsame', 'Lehre', 'des']\n",
      "['Göttlichen', 'Worts/', 'die', 'rechte', 'Außspendung', 'der', 'heiligen', 'Sacramenten/', 'vnnd', 'die', 'wahre', 'Anrüffung', 'Gottes/', 'vnterlassen', 'vnd', 'versaumet', 'worden:', 'Jedoch/', 'wie', 'man', 'von', 'wegen', 'solches', 'Mißbrauchs/', 'die', 'Kirchen/', 'in', 'welchen', 'derselbige', 'getriben', 'worden/', 'nicht', 'hat', 'sollen', 'abbrechen', 'vnnd', 'darnider', 'reissen:', 'Also', 'hatte', 'man', 'auch', 'die', 'Musicam', 'vnd', 'die', 'Orglen', 'wol', 'können/', 'vnd', 'billich', 'sollen', 'stehen', 'vnnd', 'bleiben', 'lassen/', 'als', 'die', 'für', 'sich', 'selber', 'der', 'wahren', 'Religion', 'vnnd', 'dem']\n",
      "['reinen', 'Gottesdienst', 'nicht', 'entgegen', 'vnd', 'zuwider', 'gewesen.', 'In', 'massen', 'sie', 'dann', 'an', 'denen', 'Orten/', 'vnd', 'bey', 'denen', 'Kirchen/', 'da', 'nicht/', 'gleichsam', 'mit', 'der', 'Breitaxt/', 'reformiert/', 'vnd', 'das', 'Kind', 'sampt', 'dem', 'Bad', 'außgeschüttet/', 'sondern', 'recht', 'vnd', 'ordenlich', 'reformiert', 'worden/', 'auffrecht', 'geblieben/', 'vnd', 'zu', 'dem', 'wahren', 'Gottesdienst', 'verordnet', 'seind:', 'Zu', 'welchem', 'sie', 'auch', 'noch', 'heutigs', 'Tags', 'löblich', 'vnd', 'fruchtbarlich', 'gebraucht', 'werden.', 'An', 'andern', 'Euangelischen', 'Orten', 'aber/', 'vnd', 'fast']\n",
      "['bey', 'allen', 'der', 'reinen', 'Augspurgischen', 'Confession', 'zugethonen', 'namhafften', 'Stätten', 'vnd', 'Pfarrkirchen/', 'seind/', 'die', 'durch', 'die', 'erste', 'vnordenliche', 'vnnd', 'vngestümme', 'Reformation,', 'auß', 'vnwissendem', 'Eyffer', 'zerbrochne', 'vnd', 'darnider', 'gerißne', 'Orglen/', 'durch', 'Christliche', 'Obrigkeiten', '(nach', 'dem', 'dieselbige', 'bessern', 'Bericht', 'hieuon', 'empfangen)', 'der', 'Kirchen', 'restituiert/', 'vnd', 'von', 'newem', 'wider', 'auffgerichtet', 'worden.', 'Dessen', 'wir', 'auch', 'in', 'den', 'benachbarten', 'Euangelischen', 'Stätten', 'namhaffte', 'Exempla', 'haben.', 'Vnd', 'dasselbige', 'ist', 'fast', 'allenthalben', 'geschehen', 'mit', 'Bitte/']\n",
      "['Begeren/', 'Ermahnen/', 'Rhat', 'vnd', 'zuthun', 'der', 'Theologen/', 'vnd', 'Vorstehern', 'der', 'Christlichen', 'Kirchen/', 'welche', 'wol', 'auch', 'an', 'einem/', 'oder', 'mehr', 'Orten/', 'ihre', 'Pfarrkinder', 'vnd', 'Zuhörer/', 'ein', 'Steur', 'an', 'solchem', 'Orgelwerck', 'zugeben/', 'auff', 'ordentlicher', 'Cantzel', 'vermahnet', 'haben.', 'Dessen', 'es', 'aber/', 'Gott', 'seye', 'Lob/', 'bey', 'uns', 'nicht', 'bedarff/', 'sondern', 'es', 'kan', 'vnnd', 'soll', 'von', 'vnserer', 'Kirchen', 'Einkommen', 'alles', 'bezahlt', 'werden/', 'vnd', 'ist', 'schon', 'allbereit', 'bezahlt', 'worden/', 'also', 'daß', 'niemand']\n",
      "['sich', 'desselbigen', 'mit', 'Billigkeit', 'zubeschwehren', 'vnd', 'zubeklagen', 'hat.', 'Wie', 'es', 'auch', 'niemand', 'dahin', 'deuten', 'soll/', 'daß', 'wir', 'zu', 'ärgerlicher', 'Newerung', 'bey', 'der', 'Kirchen/', 'oder/', 'zu', 'vergebenlicher', 'Außgabe', 'vnnd', 'grossem', 'Vnkosten', 'lust', 'haben.', 'Viel', 'weniger', 'aber', 'soll', 'man', 'vns', 'verdencken/', 'daß', 'wir', 'mit', 'solchem', 'Werck', 'vns', 'zu', 'dem', 'Papstthumb', 'nahen', 'vnd', 'neigen', 'wöllen:', 'Sondern', 'es', 'soll', 'viel', 'mehr', 'jedermeniglich', 'wissen', 'vnnd', 'gedencken/', 'daß', 'wir', 'vns', 'mit', 'solchem']\n",
      "['fürgenomnen', 'Werck', 'andern', 'reinen', 'Euangelischen', 'Kirchen', 'gleich', 'erzeigen', 'vnnd', 'verhalten', 'wöllen/', 'vnnd', 'daß', 'wir', 'hierinnen', 'anders', 'nichts', 'thun/', 'weder', 'was', 'viel', 'andere', 'Gotteyfferige', 'Leut/', 'vnnd', 'sonderlich', 'Christliche', 'Vorsteher', 'in', 'den', 'beeden', 'Hauptregimenten/', 'an', 'andern', 'Orten/', 'vnd', 'bey', 'andern', 'namhafften', 'Euangelischen', 'Kirchen/', 'vor', 'vns', 'gethan', 'haben:', 'Deren', 'Christlichem', 'vnnd', 'löblichem', 'Exempel', 'nachzufolgen/', 'wir', 'billich', 'keine', 'Schew', 'tragen/', 'sintenmal', 'sie', 'hiemit', 'dem', 'heiligen', 'Wort', 'Gottes', 'nicht', 'zuwider/', 'sondern']\n",
      "['demselben', 'gemäß', 'gehandelt/', 'vnnd', 'solches', 'ihres', 'Fürnemens', 'vnd', 'Thuns', 'wichtige', 'Vrsachen', 'gehabt/', 'vnnd', 'noch', 'haben/', 'daß', 'sie', 'namlich', 'gesinnet', 'gewesen/', 'vnnd', 'noch', 'seind/', 'hiemit', 'sich', 'von', 'den', 'Schwermern', 'vnnd', 'Rottengeistern', '(welche', 'die', 'Orglen/', 'vnd', 'zumal', 'alle', 'Music,', 'ja', 'wol', 'auch', 'an', 'ettlichen', 'Orten', 'das', 'gemeine', 'Kirchengesang', 'in', 'der', 'Kirchen', 'nicht', 'leiden', 'wöllen)', 'abzusöndern/', 'vnd', 'darneben', 'der', 'Kirchen', 'Einkommen/', 'zu', 'seinem', 'rechten', 'eigentlichen', 'Nutz', 'anzulegen/', 'vnd', 'mit']\n",
      "['demselben/', 'so', 'viel', 'jmmer', 'möglich/', 'alles', 'das', 'fürzunehmen/', 'das', 'zum', 'Lob', 'vnd', 'Preise', 'Gottes/', 'zu', 'erbawung', 'der', 'Kirchen/', 'zu', 'mehrer', 'vbung', 'des', 'wahren', 'Gottesdiensts/', 'zu', 'erweckung', 'Christlicher', 'andacht/', 'vnd', 'zu', 'erquickung', 'vnd', 'ermunderung', 'Christlicher', 'Hertzen/', 'nutzen', 'vnd', 'dienen', 'mag.', 'So', 'ist', 'nun', 'diß', 'die', 'vierdte', 'Hauptursach/', 'vmb', 'welcher', 'willen', 'wir/', 'beyneben', 'der', 'reinen', 'heilsamen', 'Lehre', 'des', 'Göttlichen', 'Worts/', 'vnd', 'dem', 'rechten', 'Gebrauch', 'der', 'Heiligen', 'Sacramenten/', 'wie']\n",
      "['auch', 'dem', 'Christlichen', 'Gebet/', 'vnd', 'mündtlichem', 'Gesang', '(welche', 'Stuck', 'in', 'allweg', 'den', 'vorzug', 'haben', 'vnd', 'behalten', 'sollen)', 'auch', 'die', 'Orglen/', 'Posaunen/', 'Zincken/', 'vnd', 'dergleichen', 'Musicalische', 'Instrumenta,', 'sampt', 'der', 'Vocal', 'Music,', 'gern', 'in', 'der', 'Kirchen/', 'bey', 'verrichtung', 'des', 'wahren', 'Gottesdiensts/', 'haben', 'vnd', 'gebrauchen', 'sollen/', 'Dieweil', 'nämlich', 'dieselbige', '(wenn', 'man', 'sie', 'recht', 'vnd', 'ordenlich', 'gebraucht)', 'nicht', 'geringen', 'Nutz', 'haben/', 'vnd', 'mit', 'sich', 'bringen:', 'Sintemal', 'sie', 'nicht', 'allein', '(wie']\n",
      "['jemand', 'gedencken', 'möchte)', 'zu', 'eusserlicher', 'zierde', 'der', 'Kirchen', 'dienen', '(daran', 'zwar', 'wenig/', 'oder', 'gar', 'nichts', 'gelegen)', 'sondern', 'sie', 'reichen', '(wie', 'zuuor', 'gnugsam', 'dargethan', 'worden)', 'zuuorderst', 'zum', 'Lob', 'vnd', 'Preise', 'Gottes/', 'vnd', 'kommen', 'darneben', 'den', 'Christlichen', 'Hertzen/', 'welche', 'derselbigen', 'mit', 'rechtem', 'Verstand', 'gebrauchen/', 'zu', 'gutem/', 'daß', 'nämlich', 'dieselbige', 'dardurch', 'erwecket/', 'erquicket', 'vnd', 'ermundert', 'werden.', 'Wie', 'dann', 'in', 'der', 'vor', 'einem', 'Jahr/', 'allererst', 'in', 'offentlichem', 'Truck', 'außgegangnen', 'Straßburgischen']\n",
      "['Kirchenordnung', '/hievon', 'mit', 'denen', 'Worten', 'geschrieben', 'stehet:', 'Was', 'die', 'Musicam', 'figuratam/', 'vnd', 'die', 'Orglen', 'anbelanget/', 'bringet', 'es', 'die', 'erfahrung', 'selbst', 'mit/', 'daß', 'dardurch', 'der', 'zuhörenden', 'Hertzen', 'vnd', 'Gemüter', 'ermuntert', 'vnd', 'erfrischet', 'werden/', 'Gott', 'den', 'Herrn', 'auch', 'mit', 'jhrem', 'Munde', 'vnd', 'Gesang', 'desto', 'frölicher', 'zuloben', 'vnd', 'zupreisen.', 'Jedoch', 'soll', '(wie', 'der', 'Straßburgischen', 'Kirchenordnung', 'Wort', 'ferner', 'lautten)', 'in', 'allweg', 'dahin', 'gesehen', 'werden/', 'daß', 'solche', 'figurata', 'Musica,', 'vnd', 'das']\n",
      "['Orglen/', 'weder', 'das', 'gemeine', 'Gesang', 'der', 'Kirchen/', 'noch', 'dem', 'andern', 'Gottesdienst', 'mit', 'predigen', 'vnd', 'beten/', 'verhindere', 'vnd', 'auffhalte.', 'Welches', 'auch', 'bey', 'dieser', 'vnserer', 'Kirchen/', 'mit', 'allem', 'fleiß', 'soll', 'verhütet', 'werden/', 'vnd', 'in', 'allweg', 'dahin', 'getrachtet/', 'daß', 'es/', 'nach', 'der', 'vermahnung', 'des', 'heiligen', 'Apostels', 'Pauli/', 'I.', 'Cor.', '14.', 'in', 'der', 'Kirchen', 'recht', 'vnd', 'ordenlich', 'zugehe/', 'vnd', 'daß', 'zumal', 'alles', 'zum', 'Lob', 'vnd', 'Preiß', 'Gottes/', 'vnd', 'zu', 'der']\n",
      "['Christlichen', 'Zuhörern', 'erbawung', 'vnd', 'besserung', 'gerichtet', 'werde.', 'Daß', 'aber', 'die', 'Orglen', 'vnd', 'andere', 'Musicalische', 'Instrumenta,', 'ettwas', 'darzu', 'dienen', 'mögen/', 'das', 'gibt', 'die', 'heilige', 'Göttliche', 'Schrifft', 'sonderlich', 'zuerkennen/', 'mit', 'zweyen', 'mercklichen', 'Exempeln', 'vnd', 'Historien/', 'welche', 'auch', 'desßhalben', 'außwendig', 'an', 'den', 'zweyen', 'kleinern', 'Flügeln', 'vnserer', 'Orgel', 'gemahlet', 'seind/', 'daß', 'nämlich/', 'für', 'das', 'Erste/', 'im', 'sechszehenden', 'Capitel', 'des', 'ersten', 'Buchs', 'Samuelis', 'geschrieben', 'stehet:', 'Daß/', 'nach', 'dem', 'der', 'Geist', 'des']\n",
      "['Herrn', 'von', 'Saul', 'gewichen', 'war/', 'vnd', 'ein', 'böser', 'Geist', 'jhn', 'unrhüwig', 'machete/', 'da', 'seye', 'Dauid', '(als', 'er', 'noch', 'ein', 'Jüngling', 'war)', 'mit', 'seiner', 'Harffen', 'bestellet', 'worden/', 'vnd', 'wann', 'er', 'die', 'Harffen', 'geschlagen/', 'so', 'seye', 'Saul', 'erquicket', 'worden/', 'vnd', 'der', 'böse', 'Geist', 'seye', 'von', 'jhme', 'gewichen.', 'Für', 'das', 'Ander/', 'lesen', 'wir', 'im', 'andern', 'Buch', 'der', 'Königen', 'am', 'dritten', 'Capitel/', 'daß/', 'nach', 'dem', 'die', 'drey', 'König/', 'Joram', 'der']\n",
      "['König', 'Jsrael/', 'vnd', 'Josaphat', 'der', 'König', 'Juda/', 'vnd', 'sampt', 'jhnen', 'auch', 'der', 'König', 'Edom', 'vom', 'Propheten', 'Elisa', 'begeret', 'hatten/', 'daß', 'er', 'jhnen', 'sollte', 'weissagen/', 'da', 'habe', 'er', 'endtlich', '(nach', 'dem', 'er', 'solches', 'zuthun', 'bewilliget)', 'gesagt:', 'So', 'bringet', 'mir', 'nun', 'einen', 'Spielmann:', 'Das', 'ist/', 'einen/', 'der', 'auff', 'der', 'Harffen/', 'Psalter/', 'oder', 'anderm', 'Seittenspiel', 'ettwas', 'schlagen', 'vnd', 'spielen', 'könne.', 'Vnd', 'nach', 'dem', 'derselbig', 'herzu', 'kommen', 'seye/', 'vnd', 'auff']\n",
      "['seiner', 'Harffen/', 'oder', 'Psalter', '(oder', 'was', 'es', 'sonsten', 'für', 'ein', 'Jnstrument', 'mag', 'gewesen', 'sein/', 'welches', 'wir', 'nicht', 'gewiß', 'wissen', 'können)', 'die', 'Seitten', 'geschlagen', 'habe/', 'da', 'seye', 'die', 'Hand', 'des', 'Herrn', 'auff', 'Elisaeum', 'den', 'Propheten', 'kommen/', 'daß', 'er', 'auß', 'an', 'vnd', 'eingeben', 'des', 'heiligen', 'Geists/', 'von', 'dem', 'herrlichen', 'Siege', 'der', 'vorgemeldten', 'Königen', 'wider', 'die', 'Moabiter', 'geweissaget', 'hab.', 'Solche', 'jetztgemeldte', 'beede', 'Historien/', 'seind', 'vnter', 'dem', 'Gemäld', 'derselbigen/', 'mit']\n",
      "['denen', 'Worten', 'beschrieben.', 'Vom', 'Saul', 'des', 'bösen', 'Geist', 'Vnmuth/', 'Vertrieben', 'würdt', 'durch', 'Harffen', 'gut.', 'Elisam', 'zu', 'weissagen', 'viel/', 'Der', 'gut', 'Geist', 'treibt', 'durchs', 'Seittenspiel.', 'Nun', 'sollen', 'wir', 'aber', 'nicht', 'gedencken/', 'daß', 'der', 'Gebrauch', 'des', 'Seittenspiels', 'allein', 'bey', 'den', 'gemeldten', 'zweyen/', 'nämlich', 'dem', 'König', 'Saul/', 'vnd', 'dem', 'Propheten', 'Elisa/', 'solche', 'krafft', 'vnd', 'würckung', 'gehabt', 'vnd', 'erzeiget', 'habe:', 'sondern', 'wir', 'haben', 'auß', 'solchen', 'beeden', 'Historien', 'in', 'gemein', 'zuerkennen/']\n",
      "['was', 'der', 'rechte', 'Gebrauch', 'des', 'Seittenspiels/', 'vnd', 'der', 'gantzen', 'Musicalischen', 'Kunst', 'für', 'Nutzbarkeit/', 'Krafft', 'vnd', 'Würckung', 'habe/', 'daß', 'nämlich', 'vermittelst', 'desselbigen/', 'den', 'bösen/', 'vnrhüwigen/', 'melancholischen', 'vnd', 'schwehrmütigen', 'Gedancken/', 'oder', 'Eingebungen', 'vnd', 'Anfechtungen/', 'welche', 'von', 'dem', 'bösen', 'Trawr', 'vnnd', 'Schreckgeist', 'herrhüren/', 'gesteuret', 'vnd', 'gewöhret/', 'vnd', 'dargegen', 'gute/', 'Christliche/', 'Gottseelige/', 'tröstliche', 'vnd', 'fröliche', 'Gedancken', '(welche', 'vom', 'Tröster', 'dem', 'heiligen', 'Geist', 'herkommen)', 'in', 'der', 'Menschen', 'Hertzen', 'vnd', 'Gemütern', 'erwecket']\n",
      "['vnd', 'gestärcket/', 'vnd', 'also', 'dieselbige', 'Gott', 'zuloben', 'vnd', 'zupreisen', 'gereitzt', 'vnd', 'bewegt', 'werden.', 'Wie', 'dann', 'die', 'Leut/', 'die', 'vor', 'andern', 'Lust', 'vnd', 'Liebe', 'zu', 'der', 'Music', 'haben/', 'vnd', 'auff', 'dieselbige', 'sich', 'ettwas', 'verstehen/', 'solches', 'bey', 'sich', 'selbst', 'mercklich', 'befünden.', 'Vnd', 'haben', 'auch', 'fürtreffliche', 'eyfferige', 'Theologi,', 'vnd', 'Prediger', 'des', 'Göttlichen', 'Worts/', 'von', 'sich', 'selbst', 'gesagt', 'vnd', 'geschrieben/', 'daß', 'sie', 'manchmalen', 'durch', 'die', 'Musicam,', 'zu', 'desto', 'fleissigerem/', 'ernstlicherem']\n",
      "['vnd', 'eyfferigerm', 'predigen', 'seyen', 'erwecket', 'vnd', 'ermundert', 'worden.', 'Welches', 'ich', 'allein', 'darumb', 'vermelde/', 'daß', 'man', 'darauß', 'erkenne/', 'daß', 'die', 'vbung', 'der', 'Music,', 'vnd', 'Gebrauch', 'der', 'Orglen', 'in', 'der', 'Kirchen/', 'nicht', 'ein', 'vergebenlichs/', 'viel', 'weniger', 'aber', 'ein', 'ärgerlichs', 'Ding/', 'vnd', 'Päpstischs', 'Wesen', 'seye/', 'sondern', 'die', 'rechtsinnige', 'vnnd', 'verständige', 'Zuhörer', 'empfahen/', 'durch', 'Gottes', 'Gnad/', 'herrlichen', 'Nutz', 'vnd', 'Trost', 'daruon.', 'Welches', 'auch', 'wol', 'auff', 'andere', 'mehr', 'Weise', 'vnd', 'Wege']\n",
      "['köndte', 'dargethan', 'vnd', 'herauß', 'gestrichen/', 'vnd', 'daruon', 'sonderlich', 'geredt', 'werden:', 'Daß', 'der', 'Gottsgelehrte', 'Syrach', 'Cap.', '32.', 'die', 'liebliche', 'Musicam', 'bey', 'einer', 'Mahlzeit/', 'einem', 'in', 'Gold', 'eingefaßten', 'schönen', 'Rubin', 'vnd', 'Smaragd', 'vergleichet/', 'vnd', 'hiemit', 'dieselbige', 'herrlich', 'lobet', 'vnd', 'rhümet.', 'Es', 'were', 'ja', 'wol', 'gut/', 'vnd', 'zu', 'wünschen/', 'daß', 'nicht', 'allein', 'in', 'der', 'Kirchen/', 'bey', 'vnd', 'neben', 'verrichtung', 'des', 'offentlichen', 'wahren', 'Gottesdiensts/', 'sondern', 'auch', 'bey', 'den', 'Gastungen', 'vnd']\n",
      "['Mahlzeiten/', 'an', 'statt', 'des', 'vollsauffens/', 'wie', 'auch', 'des', 'vnnutzen', 'Geschwetzs/', 'grossen', 'geschreys/', 'vnd', 'verleumbdens', 'anderer', 'Leuten', '(welches', 'gar', 'gemein', 'ist)', 'ein', 'gute', 'Music', 'angestellet/', 'vnd', 'mit', 'fleissigem', 'auffmercken', 'gehöret', 'würde.', 'Das', 'were', 'warhafftig', '(wie', 'des', 'weisen', 'Manns', 'Wort', 'lauten)', 'gleich', 'wie', 'ein', 'Rubin', 'vnd', 'Smaragd/', 'der', 'in', 'schönem', 'Gold', 'stehet', 'vnd', 'leuchtet.', 'Wir', 'müssen', 'aber', 'in', 'vnserer', 'fürgenomnen', 'Matery', 'fortschreitten/', 'vnd', 'ferner', 'für', 'das', 'Fünffte/', 'kurtzen']\n",
      "['Bericht', 'vernemen/', 'von', 'dem/', 'das', 'einwerts', 'an', 'den', 'beeden/', 'obern', 'vnd', 'vntern/', 'grossen', 'vnd', 'kleinen', 'Flügeln', 'vnserer', 'Orgel', 'gemahlet', 'ist/', 'vnd', 'jetzt/', 'da', 'dieselbige', 'offen', 'stehet/', 'für', 'Augen', 'gesehen', 'würdt/', 'nämlich/', 'vier', 'Namhaffte', 'vnd', 'Hochtröstliche', 'Historien', 'des', 'Newen', 'Testaments.', 'Die', 'Erste/', 'von', 'der', 'Gnadenreichen', 'Geburt', 'Christi', 'in', 'die', 'Welt:', 'Die', 'Ander/', 'von', 'seiner', 'Offenbarung/', 'so', 'den', 'Weisen', 'auß', 'Morgenland', 'geschehen:', 'Die', 'Dritte/', 'von', 'der', 'Tauff', 'Christi']\n",
      "['im', 'Jordan:', 'Die', 'Vierdte/', 'von', 'der', 'Verklärung', 'Christi', 'auff', 'dem', 'Berge.', 'Solche', 'jetzt', 'gemeldte', 'Historien', 'sein', 'auch', 'nicht', 'vergebenlich', 'für', 'andern', 'daher', 'gemahlet/', 'sondern/', 'neben', 'mehr', 'Vrsachen/', 'allermeist', 'darumb/', 'daß', 'wir', 'bey', 'denselbigen', '(wie', 'auch', 'bey', 'den', 'Historien', 'des', 'Leidens', 'vnd', 'Sterbens/', 'der', 'Aufferstehung', 'vnd', 'Himmelfahrt', 'vnsers', 'Herrn', 'Christi/', 'welche', 'wir', 'sonsten', 'in', 'vnserer', 'Kirchen', 'gemahlet/', 'für', 'Augen', 'haben)', 'vns', 'erinnern/', 'daß', 'wir', 'ja', 'wol', 'Vrsach']\n",
      "['haben/', 'den', 'Herrn', 'vnsern', 'Gott', 'mit', 'danckbarem', 'vnd', 'frölichem', 'Hertzen', 'zuloben', 'vnd', 'zupreisen/', 'vnd', 'daß', 'wir', 'dasselbige', 'billich', 'mit', 'hertzlichen', 'freuden/', 'auff', 'allerley', 'gebürliche', 'vnd', 'mügliche', 'Weise', 'thun', 'sollen/', 'von', 'wegen', 'seiner', 'vielfältigen', 'grossen', 'Gnad/', 'die', 'er', 'an', 'vns', 'arme', 'Erdwürmlein', 'gewendet', 'hat/', 'vnd', 'sonderlich/', 'daß', 'er', '(nur', 'kurtzlich', 'zumelden)', 'da', 'die', 'Zeit', 'erfüllet', 'ward/', 'seinen', 'eingebornen', 'geliebten', 'Sohn/', 'als', 'einen', 'wahren', 'Menschen/', 'in', 'die', 'Welt']\n",
      "['hat', 'lassen', 'geboren/', 'vnd', 'nicht', 'allein', 'den', 'Juden/', 'sondern', 'auch', 'den', 'Heiden', '(vnter', 'deren', 'zahl', 'auch', 'die', 'Weisen', 'auß', 'Morgenland', 'gewesen)', 'geoffenbaret', 'werden:', 'Vnd', 'daß', 'auch', 'derselbige', 'vnser', 'trewer', 'Heyland/', 'vnsere', 'Sünden', 'zubüssen/', 'vnd', 'an', 'vnser', 'statt', 'volkomnen', 'Gehorsam', 'zuleisten/', 'vnd', '(wie', 'er', 'selber', 'zu', 'Johanne', 'gesagt', 'hat)', 'alle', 'Gerechtigkeit', 'zuerfüllen', '/', 'sich', 'im', 'Jordan', 'hat', 'lassen', 'tauffen/', 'vnd', 'hat', 'auch', 'sonsten', 'sich', 'gedemütiget', 'vnd', 'ernidriget/']\n",
      "['vnd', 'ist', 'Gott', 'seinem', 'Vatter', 'gehorsam', 'gewesen/', 'biß', 'zum', 'Tod/', 'ja', 'zum', 'Tod', 'des', 'Creutzes.', 'Aber', 'gleichwol', 'hat', 'er', 'darneben', '(als', 'wie', 'es', 'sonderlich', 'auff', 'dem', 'Berge', 'geschehen)', 'bißweilen', 'seine', 'Göttliche', 'Maiestet/', 'Klarheit', 'vnd', 'Herrligkeit', 'herfür', 'scheinen', 'vnd', 'leuchten', 'lassen/', 'vnd', 'ist', 'auch', 'mit', 'herrlichem', 'Siege', 'vnd', 'Triumph/', 'vom', 'Tod', 'aufferstanden/', 'vnd', 'gen', 'Himmel', 'gefahren.', 'Vnd', 'eben', 'darmit', 'hat', 'er', 'dargethan', 'vnd', 'erwiesen/', 'daß', 'er', 'nicht']\n",
      "['allein', 'mit', 'seinem', 'bittern', 'Leiden', 'vnd', 'Sterben', 'vnsere', 'Sünden', 'gebüsset/', 'vnd', 'vns', 'vom', 'ewigen', 'Tod', 'errettet/', 'sondern', 'herwiderumb', 'auch', 'mit', 'seinem', 'für', 'vns', 'geleisteten', 'volkomnen', 'Gehorsam', 'vns', 'die', 'wahre', 'für', 'Gott', 'geltende', 'Gerechtigkeit/', 'vnd', 'zugleich', 'den', 'Friede', 'mit', 'Gott', 'seinem', 'Vatter/', 'vnd', 'die', 'volkomne', 'ewige', 'himmelische', 'Klarheit', 'vnd', 'Herrligkeit/', 'Freud', 'vnd', 'Seeligkeit', 'erworben', 'habe.', 'Dessen', 'wir', 'vns', 'ja', 'billich/', 'auch', 'mitten', 'in', 'allen', 'vnsern', 'zeitlichen', 'Trübsalen']\n",
      "['vnd', 'nöten', 'von', 'Hertzen', 'frewen/', 'vnd', 'also', 'im', 'Herrn', 'frölich', 'sein/', 'vnd', 'zu', 'vorderst', 'in', 'vnsern', 'Hertzen/', 'vnd', 'volgends', 'auch', 'mit', 'dem', 'Munde/', 'vnd', 'auch', 'sonsten', 'nach', 'vnserm', 'besten', 'vnd', 'eusserstem', 'vermögen/', 'so', 'viel', 'der', 'heilige', 'Geist', 'vns', 'Gnade', 'vnd', 'Krafft', 'verleihet/', 'dem', 'Herrn', 'vnserm', 'trewen', 'Gott', 'vnd', 'Heyland/', 'Lob', 'vnd', 'danck', 'sagen/', 'vnd', 'singen', 'sollen.', 'Dann', '(wie', 'Doctor', 'Martin', 'Luther/', 'seeliger', 'gedächtnus/', 'in', 'einer', 'Vorrede']\n",
      "['vber', 'das', 'Psalmen', 'vnnd', 'Gesangbuch', 'fein', 'geschrieben', 'hat)', 'Gott', 'hat', 'vnser', 'Hertz', 'vnd', 'Muth', 'frölich', 'gemacht/', 'durch', 'seinen', 'lieben', 'Sohn/', 'welchen', 'er', 'für', 'vns', 'gegeben', 'hat/', 'zur', 'Erlösung', 'von', 'Sünden/', 'Tod', 'vnd', 'Teuffel.', 'Wer', 'solches', 'mit', 'ernst', 'glaubet/', 'der', 'kans', 'nicht', 'lassen/', 'er', 'muß', 'frölich/', 'vnd', 'mit', 'lust', 'dauon', 'singen', 'vnd', 'sagen/', 'daß', 'es', 'andere', 'auch', 'hören/', 'vnd', 'herzu', 'kommen.', 'Diß', 'seind', 'Doctor', 'Luthers', 'seeligen', 'eigne']\n",
      "['Wort/', 'welche', 'wol', 'sollen', 'gemerckt/', 'vnd', 'mit', 'fleiß', 'betrachtet', 'werden/', 'sintemal', 'sie', 'vns', 'die', 'rechte', 'geistliche', 'vnd', 'hertzliche', 'Freude', 'lehren/', 'vnd', 'vns', 'zu', 'der', 'schuldigen', 'Lob', 'vnd', 'Dancksagung', 'gegen', 'vnserm', 'trewen', 'Gott', 'vermahnen.', 'Wir', 'sollen', 'aber,', 'für', 'das', 'Sechste', 'vnd', 'letste/', 'hiebey', 'auch', 'erinnert', 'vnd', 'ermahnet', 'sein/', 'daß', 'gleich', 'wie', 'wir', 'sehen', 'vnd', 'hören/', 'daß', 'an', 'der', 'Orgel', 'viel', 'vnd', 'mancherley', 'grosse', 'vnd', 'kleine', 'Pfeiffen', 'seind/']\n",
      "['welche', 'doch', 'fein', 'zusamen', 'stimmen/', 'vnd', 'zugleich', 'mit', 'einander', 'eine', 'liebliche/', 'vnd', 'zum', 'theil', 'auch', 'grauitetische', 'harmoniam', 'vnd', 'resonantz', 'machen', 'vnd', 'geben:', 'Also', 'sollen', 'wir', 'auch', 'sehen/', 'vnd', 'vns', 'dessen', 'befleissigen/', 'daß', 'vnsere', 'Hertzen/', 'Mund', 'vnd', 'Zungen/', 'Leben', 'vnd', 'Werck/', 'mit', 'einander', 'fein', 'vberein', 'stimmen/', 'vnd', 'daß', 'wir', 'also', 'nicht', 'allein', 'mit', 'vnserm', 'Munde', 'zum', 'Herren', 'nahen/', 'vnnd', 'mit', 'vnsern', 'Lippen', 'oder', 'Leffzen/', 'viel', 'weniger', 'aber']\n",
      "['allein', 'mit', 'eusserlichen', 'Orglen/', 'vnnd', 'andern', 'Musicalischen', 'Jnstrumenten/', 'jhne', 'ehren/', 'vnnd', 'doch', 'darneben', 'vnsere', 'Hertzen', 'ferne', 'von', 'ihme', 'seyen:', 'sondern', 'daß', 'zuuorderst', 'vnsere', 'Hertzen', 'sich', 'der', 'Gnade', 'Gottes', 'in', 'Christo', 'frewen/', 'vnd', 'also', 'jhme', 'lobsingen/', 'Vnd', 'daß', 'wir', 'folgends', 'nicht', 'allein', 'mit', 'dem', 'Munde/', 'vnd', 'mit', 'eusserlichem', 'Gesang', 'vnd', 'Klang/', 'jhne', 'loben', 'vnd', 'preisen/', 'sondern', 'daß', 'wir', 'auch', 'vnser', 'Leben', 'vnd', 'Wandel/', 'thun', 'vnnd', 'lassen/', 'zu']\n",
      "['seinem', 'Lob/', 'nach', 'seinem', 'Göttlichen', 'Willen', 'vnd', 'wolgefallen', 'anstellen/', 'vnd', 'also/', 'nach', 'der', 'Vermahnung', 'Christi', 'Matthaei', 'am', 'fünfften', 'Capitel/', 'vnser', 'Liecht', 'leuchten', 'lassen', 'für', 'den', 'Leuten/', 'daß', 'sie', 'vnsere', 'gute', 'Werck', 'sehen/', 'vnd', 'sampt', 'uns/', 'vnsern', 'Vatter', 'im', 'Himmel', 'preisen', '/', 'vnd', 'insonderheit/', 'daß', 'wir', 'auch', 'in', 'Christlicher', 'einträchtigkeit', 'fein', 'mit', 'einander', 'concordieren', 'vnd', 'vberein', 'stimmen.', 'Dann/', 'wo', 'solches', 'nicht', 'geschicht/', 'sondern', 'man', 'im', 'Vnfriede', 'vnd']\n",
      "['Vneinigkeit/', 'Neid', 'vnd', 'Haß/', 'Zanck', 'vnd', 'Hader/', 'oder', 'aber', 'in', 'Fressen', 'vnd', 'Sauffen/', 'Vnzucht', 'vnd', 'Hurerey/', 'Geitz', 'vnd', 'Wucher/', 'Lugen', 'vnd', 'Lästerung/', 'oder', 'andern', 'groben', 'wüsten', 'Sünden/', 'sicher', 'dahin', 'lebet/', 'vnd', 'mit', 'denselbigen', 'Gott', 'vnd', 'seinem', 'heiligen', 'Wort', 'widerstrebet/', 'vnd', 'doch', 'darneben', 'sich', 'seiner', 'Gnad', 'in', 'Christo', 'trösten', 'vnd', 'frewen/', 'vnd', 'mit', 'mündtlichem', 'Gesang/', 'oder', 'mit', 'dem', 'klang', 'der', 'Orglen', 'vnd', 'anderer', 'Musicalischen', 'Jnstrumenten/', 'Gott', 'loben']\n",
      "['vnd', 'preisen', 'will/', 'O', 'da', 'gibt', 'es', 'warhafftig', 'eine', 'grausame', 'böse/', 'in', 'den', 'Ohren', 'des', 'Allwissenden', 'vnd', 'Allerhöchsten/', 'gar', 'vbel', 'lauttende/', 'vnd', 'jhme', 'zum', 'höchsten', 'mißfallende', 'discordantz', 'vnd', 'dissonantz:', 'Welche', 'wir', 'billich', 'mit', 'allem', 'fleiß', 'vnd', 'ernst', 'abstellen', 'vnd', 'verhüten/', 'oder', 'aber', 'corrigieren', 'vnd', 'verbessern/', 'vnd', 'in', 'wahrer', 'Gottseeligkeit', 'vnd', 'einigkeit/', 'mit', 'vnd', 'bey', 'einander', 'leben/', 'vnd', 'also', 'vnsere', 'Hertzen/', 'Mund', 'vnd', 'Zungen/', 'Leben', 'vnd', 'Werck/']\n",
      "['zu', 'Gottes', 'Lobe/', 'nach', 'anweisung', 'seines', 'heiligen', 'Worts/', 'recht', 'zusamen', 'richten', 'vnd', 'stimmen', 'sollen.', 'Vnd/', 'wie', 'weyland', 'bey', 'der', 'Ersten', 'Christlichen', 'Kirchen/', 'den', 'singenden', 'Leuten', 'allen', 'sampt', 'vnd', 'sonders', 'ist', 'zugeruffen', 'worden:', 'Sihe', 'zu/', 'daß', 'du', 'das/', 'so', 'du', 'mit', 'dem', 'Munde', 'singest/', 'auch', 'mit', 'dem', 'Hertzen', 'glaubest:', 'vnd', 'was', 'du', 'mit', 'dem', 'Hertzen', 'glaubest/', 'auch', 'mit', 'der', 'That', 'volbringest', ':', 'Also', 'sollen', 'wir/', 'vmb', 'angehörter']\n",
      "['wichtiger', 'Vrsachen', 'willen/', 'namlich', 'zum', 'Ersten/', 'in', 'betrachtung', 'der', 'ernstlichen', 'Vermahnungen/', 'die', 'wir', 'in', 'Gottes', 'Wort', 'haben.', 'Zum', 'andern/', 'nach', 'dem', 'Exempel', 'der', 'heiligen', 'Englen.', 'Zum', 'dritten/', 'zur', 'nachfolge', 'vieler', 'hochbegabter', 'vnd', 'Gottseeliger', 'Leut/', 'ja', 'der', 'gantzen', 'Kirchen', 'Gottes', 'im', 'Alten', 'vnnd', 'Newen', 'Testament.', 'Zum', 'vierdten/', 'vns', 'selbs', 'zur', 'Erquickung/', 'vnd', 'in', 'andere', 'mehr', 'Wege', 'zu', 'nutz', 'vnd', 'gutem/', 'vmb', 'solcher/', 'vnd', 'anderer', 'mehr', 'wichtiger', 'Vrsachen']\n",
      "['willen/', 'sollen', 'wir', 'ja', '(', 'wie', 'zuuor', 'vermeldet)', 'den', 'Herren', 'vnsern', 'Gott', 'von', 'Hertzen/', 'mit', 'dem', 'Munde/', 'mit', 'dem', 'Werck', 'selber/', 'vnd', 'auch', 'sonsten/', 'so', 'viel', 'wir', 'durch', 'des', 'heiligen', 'Geistes', 'Gnade', 'jmmer', 'können', 'vnnd', 'mögen/', 'loben', 'vnd', 'preisen/', 'von', 'wegen', 'seiner', 'ohnzählichen', 'Gutthaten/', 'die', 'er', 'vns', 'bewiesen/', 'vnnd', 'in', 'sonderheit', 'von', 'wegen', 'seiner', 'vberschwenglichen', 'Gnade/', 'die', 'er', '(wie', 'wir', 'für', 'das', 'Fünffte', 'kurtzlich', 'seind', 'erinnert']\n",
      "['worden)', 'in', 'seinem', 'eingebornen', 'geliebten', 'Sohn/', 'an', 'vnnd', 'gegen', 'vns', 'erzeiget', 'hat:', 'Deren', 'wir', 'vns', 'billich', 'von', 'Hertzen', 'frewen/', 'vnnd', '(wie', 'wir', 'zum', 'Sechsten', 'vnnd', 'letsten/', 'seind', 'ermahnet', 'worden)', 'nicht', 'allein', 'mit', 'dem', 'Munde/', 'vnd', 'mit', 'Orglen', 'oder', 'andern', 'Jnstrumenten/', 'für', 'dieselbige', 'Lob', 'vnnd', 'Danck', 'sagen', 'vnnd', 'singen/', 'sondern', 'vns', 'auch', 'mit', 'wahrer', 'Gottseeligkeit', 'danckbar', 'erzeigen/', 'vnd', 'mit', 'einhelligem', 'Hertzen', 'vnd', 'Gemüt', 'den', 'Herren', 'vnsern', 'Gott']\n",
      "['loben', 'sollen/', 'so', 'lang', 'wir', 'hie', 'auff', 'Erden', 'leben/', 'auff', 'daß', 'wir', 'jhne', 'auch', 'dort', 'in', 'der', 'himmelischen', 'Cantorey/', 'des', 'ewigen/', 'seeligen', 'Lebens/', 'mit', 'volkomner', 'hertzlicher', 'Freude', 'ewiglich', 'loben', 'vnd', 'preisen', 'mögen/', 'vnnd', 'sampt', 'den', 'heiligen', 'Englen', 'singen:', 'Heilig/', 'Heilig/', 'Heilig', 'ist', 'der', 'Herr', 'Zebaoth/', 'alle', 'Land', 'seind', 'seiner', 'Ehren', 'voll.', 'Jhm', 'seye', 'ja', 'Lob/', 'Ehre', 'vnd', 'Preiß', 'in', 'alle', 'Ewigkeit/', 'Amen/', 'Amen/', 'Amen.', 'Θεῷ', 'δόξα']\n",
      "[nan, nan]\n",
      "66\n"
     ]
    }
   ],
   "source": [
    "text_decimal = int(len(sermon.words) / 100)\n",
    "chunks=[]\n",
    "for i in range(0, len(sermon.words), text_decimal):\n",
    "    chunks.append(sermon.words[i:i+text_decimal])\n",
    "    print(sermon.words[i:i+text_decimal])\n",
    "len(chunks)\n",
    "print(len(chunks[2]))"
   ]
  },
  {
   "cell_type": "code",
   "execution_count": null,
   "id": "d0714ae6",
   "metadata": {},
   "outputs": [],
   "source": [
    "colors = [\"quelle\", \"musikwerk\"]\n"
   ]
  },
  {
   "cell_type": "code",
   "execution_count": 32,
   "id": "b7b693e7",
   "metadata": {},
   "outputs": [],
   "source": [
    "import math"
   ]
  },
  {
   "cell_type": "code",
   "execution_count": 53,
   "id": "fa3921ac",
   "metadata": {},
   "outputs": [
    {
     "data": {
      "text/plain": [
       "9337"
      ]
     },
     "execution_count": 53,
     "metadata": {},
     "output_type": "execute_result"
    }
   ],
   "source": [
    "len(sermon.words)"
   ]
  },
  {
   "cell_type": "code",
   "execution_count": 56,
   "id": "00821e22",
   "metadata": {},
   "outputs": [
    {
     "name": "stdout",
     "output_type": "stream",
     "text": [
      "0\n",
      "93\n",
      "186\n",
      "279\n",
      "372\n",
      "465\n",
      "558\n",
      "651\n",
      "744\n",
      "837\n",
      "930\n",
      "1023\n",
      "1116\n",
      "1209\n",
      "1302\n",
      "1395\n",
      "1488\n",
      "1581\n",
      "1674\n",
      "1767\n",
      "1860\n",
      "1953\n",
      "2046\n",
      "2139\n",
      "2232\n",
      "2325\n",
      "2418\n",
      "2511\n",
      "2604\n",
      "2697\n",
      "2790\n",
      "2883\n",
      "2976\n",
      "3069\n",
      "3162\n",
      "3255\n",
      "3348\n",
      "3441\n",
      "3534\n",
      "3627\n",
      "3720\n",
      "3813\n",
      "3906\n",
      "3999\n",
      "4092\n",
      "4185\n",
      "4278\n",
      "4371\n",
      "4464\n",
      "4557\n",
      "4650\n",
      "4743\n",
      "4836\n",
      "4929\n",
      "5022\n",
      "5115\n",
      "5208\n",
      "5301\n",
      "5394\n",
      "5487\n",
      "5580\n",
      "5673\n",
      "5766\n",
      "5859\n",
      "5952\n",
      "6045\n",
      "6138\n",
      "6231\n",
      "6324\n",
      "6417\n",
      "6510\n",
      "6603\n",
      "6696\n",
      "6789\n",
      "6882\n",
      "6975\n",
      "7068\n",
      "7161\n",
      "7254\n",
      "7347\n",
      "7440\n",
      "7533\n",
      "7626\n",
      "7719\n",
      "7812\n",
      "7905\n",
      "7998\n",
      "8091\n",
      "8184\n",
      "8277\n",
      "8370\n",
      "8463\n",
      "8556\n",
      "8649\n",
      "8742\n",
      "8835\n",
      "8928\n",
      "9021\n",
      "9114\n",
      "9207\n",
      "9300\n",
      "101\n"
     ]
    }
   ],
   "source": [
    "dec = int(len(sermon.words) / 100)\n",
    "overhang = len(sermon.words) % dec\n",
    "chunks = []\n",
    "for i in range(0, len(sermon.words), dec):\n",
    "    print(i)\n",
    "    chunks.append(i)\n",
    "print(len(chunks))"
   ]
  },
  {
   "cell_type": "code",
   "execution_count": 135,
   "id": "8d5c5684",
   "metadata": {},
   "outputs": [],
   "source": [
    "def create_song_dist_chart(ids):\n",
    "    chunked_text = [0]*102\n",
    "\n",
    "    for id in ids:\n",
    "        sermon = oa.Sermon(id)\n",
    "\n",
    "        dec = int(len(sermon.words) / 100)\n",
    "        overhang = len(sermon.words) % dec\n",
    "\n",
    "        for i, j in zip(range(0, len(sermon.words), dec), range(0, 101)):\n",
    "            types_unique = list(set(sermon.word_types[i:i+dec]))\n",
    "            types_str = \" \".join([x for x in types_unique if isinstance(x, str)])\n",
    "            if \"musikwerk\" in types_str:\n",
    "                musikwerk_test = 1\n",
    "            else:\n",
    "                musikwerk_test = 0\n",
    "            \n",
    "            chunked_text[j] = chunked_text[j] + musikwerk_test\n",
    "        \n",
    "        last_types_unique = list(set(sermon.word_types[-overhang:]))\n",
    "        last_types_str = \" \".join([x for x in last_types_unique if isinstance(x, str)])\n",
    "        if \"musikwerk\" in last_types_str:\n",
    "            last_musikwerk_test = 1\n",
    "        else:\n",
    "            last_musikwerk_test = 0\n",
    "        \n",
    "        chunked_text[-1] = chunked_text[-1] + last_musikwerk_test\n",
    "\n",
    "    song_occ_fig = go.Figure()\n",
    "\n",
    "    for i in range(0, len(chunked_text)):\n",
    "        gradient = chunked_text[i] * 10\n",
    "        color = f'rgb({230-gradient},{200-gradient},{210-gradient})'\n",
    "        #barlabel = f\"Wörter im {i}%\" if i % 10 == 0 else \" \"\n",
    "        song_occ_fig.add_trace(go.Bar(\n",
    "            x = [\"Liedzitate je Predigttextprozent\"],\n",
    "            y = [100],\n",
    "            marker_color = color,\n",
    "            hovertemplate=f'{chunked_text[i]} Lied(er) in diesem %'\n",
    "        ))\n",
    "\n",
    "    song_occ_fig.update_layout(width=1500,height=500)\n",
    "        \n",
    "    return song_occ_fig"
   ]
  },
  {
   "cell_type": "code",
   "execution_count": 118,
   "id": "850ea01b",
   "metadata": {},
   "outputs": [],
   "source": [
    "# Get the list of all sermons\n",
    "with open(\"predigten_übersicht.json\", \"r\", encoding=\"utf-8\") as file: \n",
    "    data = json.load(file)\n",
    "ids = list(data.keys())"
   ]
  },
  {
   "cell_type": "code",
   "execution_count": 136,
   "id": "a6201b6a",
   "metadata": {},
   "outputs": [
    {
     "name": "stdout",
     "output_type": "stream",
     "text": [
      "Query executed for E100155, but no data found.\n",
      "Query executed for E100194, but no data found.\n",
      "Query executed for E030057 (Ortsteil Neustadt), but no data found.\n",
      "Query executed for E100170, but no data found.\n",
      "Query executed for E100191, but no data found.\n",
      "Query executed for E081113, but no data found.\n",
      "Query executed for E081114, but no data found.\n",
      "Query executed for E081111, but no data found.\n",
      "Query executed for E081115, but no data found.\n",
      "Query executed for E081089, but no data found.\n",
      "Query executed for E080914, but no data found.\n",
      "Query executed for E081090, but no data found.\n",
      "Query executed for E100190, but no data found.\n",
      "Query executed for E081062, but no data found.\n",
      "Query executed for E081091, but no data found.\n",
      "Query executed for E081088, but no data found.\n",
      "Query executed for E081098, but no data found.\n",
      "Query executed for E100186, but no data found.\n",
      "Query executed for E081092, but no data found.\n",
      "Query executed for E081100, but no data found.\n",
      "Query executed for E081103, but no data found.\n",
      "Query executed for E081101, but no data found.\n",
      "Query executed for E100187, but no data found.\n",
      "Query executed for E100189, but no data found.\n",
      "Query executed for E100188, but no data found.\n",
      "Query executed for E081096, but no data found.\n",
      "Query executed for E081097, but no data found.\n",
      "Query executed for E081099, but no data found.\n",
      "Query executed for E081083, but no data found.\n",
      "Query executed for E081108, but no data found.\n",
      "Query executed for E081086, but no data found.\n",
      "Query executed for E100149, but no data found.\n",
      "Query executed for E081104, but no data found.\n",
      "Query executed for E081107, but no data found.\n",
      "Query executed for E080922, but no data found.\n",
      "Query executed for E081084, but no data found.\n",
      "Query executed for E091110, but no data found.\n",
      "Query executed for E081093, but no data found.\n",
      "Query executed for E100179, but no data found.\n",
      "Query executed for E081064, but no data found.\n",
      "Query executed for E100175, but no data found.\n",
      "Query executed for E080921, but no data found.\n",
      "Query executed for E100181, but no data found.\n",
      "Query executed for E100185, but no data found.\n",
      "Query executed for E080938, but no data found.\n",
      "Query executed for E100178, but no data found.\n",
      "Query executed for E100180, but no data found.\n",
      "Query executed for E081060, but no data found.\n",
      "Query executed for E081062, but no data found.\n",
      "Query executed for E081063, but no data found.\n",
      "Query executed for E081058, but no data found.\n",
      "Query executed for E081066, but no data found.\n",
      "Query executed for E100184, but no data found.\n",
      "Query executed for E081073, but no data found.\n",
      "Query executed for E081069, but no data found.\n",
      "Query executed for E081065, but no data found.\n",
      "Query executed for E100173, but no data found.\n",
      "Query executed for E081059, but no data found.\n",
      "Query executed for E081071, but no data found.\n",
      "Query executed for E091098, but no data found.\n",
      "Query executed for E100176, but no data found.\n",
      "Query executed for E081068, but no data found.\n",
      "Query executed for E100177, but no data found.\n",
      "Query executed for E081074, but no data found.\n",
      "Query executed for E100174, but no data found.\n",
      "Query executed for E100183, but no data found.\n",
      "Query executed for E100182, but no data found.\n",
      "Query executed for E081072, but no data found.\n",
      "Query executed for E100158, but no data found.\n",
      "Query executed for E080981, but no data found.\n",
      "Query executed for E080951, but no data found.\n",
      "Query executed for E081067, but no data found.\n",
      "Query executed for E081061, but no data found.\n",
      "Query executed for E081056, but no data found.\n",
      "Query executed for E100149, but no data found.\n",
      "Query executed for E100171, but no data found.\n",
      "Query executed for E081055, but no data found.\n",
      "Query executed for E100148, but no data found.\n",
      "Query executed for E081054, but no data found.\n",
      "Query executed for E100172, but no data found.\n",
      "Query executed for E081053, but no data found.\n",
      "Query executed for E081052, but no data found.\n",
      "Query executed for E100161, but no data found.\n",
      "Query executed for E100165, but no data found.\n",
      "Query executed for E100169, but no data found.\n",
      "Query executed for E081049, but no data found.\n",
      "Query executed for E081038, but no data found.\n",
      "Query executed for E100163, but no data found.\n",
      "Query executed for E081042, but no data found.\n",
      "Query executed for E100162, but no data found.\n",
      "Query executed for E100167, but no data found.\n",
      "Query executed for E081043, but no data found.\n",
      "Query executed for E081044, but no data found.\n",
      "Query executed for E081047, but no data found.\n",
      "Query executed for E081039, but no data found.\n",
      "Query executed for E100170, but no data found.\n",
      "Query executed for E081048, but no data found.\n",
      "Query executed for E081045, but no data found.\n",
      "Query executed for E100164, but no data found.\n",
      "Query executed for E100166, but no data found.\n",
      "Query executed for E080924, but no data found.\n",
      "Query executed for E080910, but no data found.\n",
      "Query executed for E080957, but no data found.\n",
      "Query executed for E080976, but no data found.\n",
      "Query executed for E080940, but no data found.\n",
      "Query executed for E100151, but no data found.\n",
      "Query executed for E080996, but no data found.\n",
      "Query executed for E080921, but no data found.\n",
      "Query executed for E080972, but no data found.\n",
      "Query executed for E080929, but no data found.\n",
      "Query executed for E080946, but no data found.\n",
      "Query executed for E080962, but no data found.\n",
      "Query executed for E080903, but no data found.\n",
      "Query executed for E080914, but no data found.\n",
      "Query executed for E081002, but no data found.\n",
      "Query executed for E080902, but no data found.\n",
      "Query executed for E081009, but no data found.\n",
      "Query executed for E100156, but no data found.\n",
      "Query executed for E080906, but no data found.\n",
      "Query executed for E081006, but no data found.\n",
      "Query executed for E100154, but no data found.\n",
      "Query executed for E080907, but no data found.\n",
      "Query executed for E080988, but no data found.\n",
      "Query executed for E080911, but no data found.\n",
      "Query executed for E080923, but no data found.\n",
      "Query executed for E080947, but no data found.\n",
      "Query executed for E081011, but no data found.\n",
      "Query executed for E080987, but no data found.\n",
      "Query executed for E080909, but no data found.\n",
      "Query executed for E080950, but no data found.\n",
      "Query executed for E080899, but no data found.\n",
      "Query executed for E080945, but no data found.\n",
      "Query executed for E080994, but no data found.\n",
      "Query executed for E080932, but no data found.\n",
      "Query executed for E081008, but no data found.\n",
      "Query executed for E080912, but no data found.\n",
      "Query executed for E081005, but no data found.\n",
      "Query executed for E080934, but no data found.\n",
      "Query executed for E080933, but no data found.\n",
      "Query executed for E080908, but no data found.\n",
      "Query executed for E080949, but no data found.\n",
      "Query executed for E080943, but no data found.\n",
      "Query executed for E081007, but no data found.\n",
      "Query executed for E080953, but no data found.\n",
      "Query executed for E080918, but no data found.\n",
      "Query executed for E080927, but no data found.\n",
      "Query executed for E080979, but no data found.\n",
      "Query executed for E080905, but no data found.\n",
      "Query executed for E080965, but no data found.\n",
      "Query executed for E080896, but no data found.\n",
      "Query executed for E080982, but no data found.\n",
      "Query executed for E080928, but no data found.\n",
      "Query executed for E080960, but no data found.\n",
      "Query executed for E080969, but no data found.\n",
      "Query executed for E080898, but no data found.\n",
      "Query executed for E081010, but no data found.\n",
      "Query executed for E081013, but no data found.\n",
      "Query executed for E080958, but no data found.\n",
      "Query executed for E081012, but no data found.\n",
      "Query executed for E080917, but no data found.\n",
      "Query executed for E080936, but no data found.\n",
      "Query executed for E080931, but no data found.\n",
      "Query executed for E080952, but no data found.\n",
      "Query executed for E080941, but no data found.\n",
      "Query executed for E080963, but no data found.\n",
      "Query executed for E080986, but no data found.\n",
      "Query executed for E081004, but no data found.\n",
      "Query executed for E080977, but no data found.\n",
      "Query executed for E080990, but no data found.\n",
      "Query executed for E080993, but no data found.\n",
      "Query executed for E080985, but no data found.\n",
      "Query executed for E080992, but no data found.\n",
      "Query executed for E080973, but no data found.\n",
      "Query executed for E080935, but no data found.\n",
      "Query executed for E080964, but no data found.\n",
      "Query executed for E081003, but no data found.\n",
      "Query executed for E100155, but no data found.\n",
      "Query executed for E080989, but no data found.\n",
      "Query executed for E080954, but no data found.\n",
      "Query executed for E080997, but no data found.\n",
      "Query executed for E080930, but no data found.\n",
      "Query executed for E080968, but no data found.\n",
      "Query executed for E100153, but no data found.\n",
      "Query executed for E080959, but no data found.\n",
      "Query executed for E080967, but no data found.\n",
      "Query executed for E081014, but no data found.\n",
      "Query executed for E080956, but no data found.\n",
      "Query executed for E080916, but no data found.\n",
      "Query executed for E080995, but no data found.\n",
      "Query executed for E080955, but no data found.\n",
      "Query executed for E080904, but no data found.\n",
      "Query executed for E080998, but no data found.\n",
      "Query executed for E080966, but no data found.\n",
      "Query executed for E080925, but no data found.\n",
      "Query executed for E080948, but no data found.\n",
      "Query executed for E080970, but no data found.\n",
      "Query executed for E080919, but no data found.\n",
      "Query executed for E080983, but no data found.\n",
      "Query executed for E080944, but no data found.\n",
      "Query executed for E080999, but no data found.\n",
      "Query executed for E080942, but no data found.\n",
      "Query executed for E080961, but no data found.\n",
      "Query executed for E080971, but no data found.\n",
      "Query executed for E080984, but no data found.\n",
      "Query executed for E080901, but no data found.\n",
      "Query executed for E080926, but no data found.\n",
      "Query executed for E080900, but no data found.\n",
      "Query executed for E080980, but no data found.\n",
      "Query executed for E080974, but no data found.\n",
      "Query executed for E100152, but no data found.\n",
      "Query executed for E081000, but no data found.\n",
      "Query executed for E080913, but no data found.\n",
      "Query executed for E081001, but no data found.\n",
      "Query executed for E080922, but no data found.\n",
      "Query executed for E080937, but no data found.\n",
      "Query executed for E080920, but no data found.\n",
      "Query executed for E080981, but no data found.\n",
      "Query executed for E080951, but no data found.\n",
      "Query executed for E080915, but no data found.\n",
      "Query executed for E080978, but no data found.\n",
      "Query executed for E080975, but no data found.\n",
      "Query executed for E080991, but no data found.\n",
      "Query executed for E100149, but no data found.\n",
      "Query executed for E100148, but no data found.\n",
      "Query executed for E080894, but no data found.\n",
      "Query executed for E080888, but no data found.\n",
      "Query executed for E080889, but no data found.\n",
      "Query executed for E100145, but no data found.\n",
      "Query executed for E100147, but no data found.\n",
      "Query executed for E100146, but no data found.\n",
      "Query executed for E080887, but no data found.\n",
      "Query executed for E030069 ; E030304, but no data found.\n",
      "Query executed for E011607 ;  E011608, but no data found.\n",
      "Query executed for E100155, but no data found.\n",
      "Query executed for E081026, but no data found.\n",
      "Query executed for E081028, but no data found.\n",
      "Query executed for E081029, but no data found.\n",
      "Query executed for E100157, but no data found.\n",
      "Query executed for E100159, but no data found.\n",
      "Query executed for E100160, but no data found.\n",
      "Query executed for E100158, but no data found.\n",
      "Query executed for E030276?, but no data found.\n",
      "Query executed for E100155, but no data found.\n",
      "Query executed for E100155, but no data found.\n",
      "Query executed for E081018, but no data found.\n",
      "Query executed for E081024, but no data found.\n",
      "Query executed for E081021, but no data found.\n",
      "Query executed for E081020, but no data found.\n",
      "Query executed for E081019, but no data found.\n",
      "Query executed for E081023, but no data found.\n",
      "Query executed for E080956, but no data found.\n",
      "Query executed for E080937, but no data found.\n",
      "Query executed for E100155, but no data found.\n",
      "Query executed for E100155, but no data found.\n",
      "Query executed for E100151, but no data found.\n",
      "Query executed for E100155, but no data found.\n",
      "Query executed for E100155, but no data found.\n",
      "Query executed for E100155, but no data found.\n",
      "Query executed for E100155, but no data found.\n",
      "Query executed for E100151, but no data found.\n",
      "Query executed for E100155, but no data found.\n"
     ]
    },
    {
     "name": "stderr",
     "output_type": "stream",
     "text": [
      "/home/janosch/anaconda3/envs/ma_orgelpredigt/lib/python3.12/site-packages/plotly/offline/offline.py:153: UserWarning:\n",
      "\n",
      "\n",
      "Unrecognized config options supplied: ['width']\n",
      "\n"
     ]
    },
    {
     "data": {
      "application/vnd.plotly.v1+json": {
       "config": {
        "plotlyServerURL": "https://plot.ly",
        "width": 800
       },
       "data": [
        {
         "hovertemplate": "2 Lied(er) in diesem %",
         "marker": {
          "color": "rgb(210,180,190)"
         },
         "type": "bar",
         "x": [
          "Liedzitate je Predigttextprozent"
         ],
         "y": [
          100
         ]
        },
        {
         "hovertemplate": "1 Lied(er) in diesem %",
         "marker": {
          "color": "rgb(220,190,200)"
         },
         "type": "bar",
         "x": [
          "Liedzitate je Predigttextprozent"
         ],
         "y": [
          100
         ]
        },
        {
         "hovertemplate": "5 Lied(er) in diesem %",
         "marker": {
          "color": "rgb(180,150,160)"
         },
         "type": "bar",
         "x": [
          "Liedzitate je Predigttextprozent"
         ],
         "y": [
          100
         ]
        },
        {
         "hovertemplate": "3 Lied(er) in diesem %",
         "marker": {
          "color": "rgb(200,170,180)"
         },
         "type": "bar",
         "x": [
          "Liedzitate je Predigttextprozent"
         ],
         "y": [
          100
         ]
        },
        {
         "hovertemplate": "2 Lied(er) in diesem %",
         "marker": {
          "color": "rgb(210,180,190)"
         },
         "type": "bar",
         "x": [
          "Liedzitate je Predigttextprozent"
         ],
         "y": [
          100
         ]
        },
        {
         "hovertemplate": "3 Lied(er) in diesem %",
         "marker": {
          "color": "rgb(200,170,180)"
         },
         "type": "bar",
         "x": [
          "Liedzitate je Predigttextprozent"
         ],
         "y": [
          100
         ]
        },
        {
         "hovertemplate": "7 Lied(er) in diesem %",
         "marker": {
          "color": "rgb(160,130,140)"
         },
         "type": "bar",
         "x": [
          "Liedzitate je Predigttextprozent"
         ],
         "y": [
          100
         ]
        },
        {
         "hovertemplate": "8 Lied(er) in diesem %",
         "marker": {
          "color": "rgb(150,120,130)"
         },
         "type": "bar",
         "x": [
          "Liedzitate je Predigttextprozent"
         ],
         "y": [
          100
         ]
        },
        {
         "hovertemplate": "4 Lied(er) in diesem %",
         "marker": {
          "color": "rgb(190,160,170)"
         },
         "type": "bar",
         "x": [
          "Liedzitate je Predigttextprozent"
         ],
         "y": [
          100
         ]
        },
        {
         "hovertemplate": "4 Lied(er) in diesem %",
         "marker": {
          "color": "rgb(190,160,170)"
         },
         "type": "bar",
         "x": [
          "Liedzitate je Predigttextprozent"
         ],
         "y": [
          100
         ]
        },
        {
         "hovertemplate": "3 Lied(er) in diesem %",
         "marker": {
          "color": "rgb(200,170,180)"
         },
         "type": "bar",
         "x": [
          "Liedzitate je Predigttextprozent"
         ],
         "y": [
          100
         ]
        },
        {
         "hovertemplate": "3 Lied(er) in diesem %",
         "marker": {
          "color": "rgb(200,170,180)"
         },
         "type": "bar",
         "x": [
          "Liedzitate je Predigttextprozent"
         ],
         "y": [
          100
         ]
        },
        {
         "hovertemplate": "3 Lied(er) in diesem %",
         "marker": {
          "color": "rgb(200,170,180)"
         },
         "type": "bar",
         "x": [
          "Liedzitate je Predigttextprozent"
         ],
         "y": [
          100
         ]
        },
        {
         "hovertemplate": "5 Lied(er) in diesem %",
         "marker": {
          "color": "rgb(180,150,160)"
         },
         "type": "bar",
         "x": [
          "Liedzitate je Predigttextprozent"
         ],
         "y": [
          100
         ]
        },
        {
         "hovertemplate": "5 Lied(er) in diesem %",
         "marker": {
          "color": "rgb(180,150,160)"
         },
         "type": "bar",
         "x": [
          "Liedzitate je Predigttextprozent"
         ],
         "y": [
          100
         ]
        },
        {
         "hovertemplate": "4 Lied(er) in diesem %",
         "marker": {
          "color": "rgb(190,160,170)"
         },
         "type": "bar",
         "x": [
          "Liedzitate je Predigttextprozent"
         ],
         "y": [
          100
         ]
        },
        {
         "hovertemplate": "7 Lied(er) in diesem %",
         "marker": {
          "color": "rgb(160,130,140)"
         },
         "type": "bar",
         "x": [
          "Liedzitate je Predigttextprozent"
         ],
         "y": [
          100
         ]
        },
        {
         "hovertemplate": "6 Lied(er) in diesem %",
         "marker": {
          "color": "rgb(170,140,150)"
         },
         "type": "bar",
         "x": [
          "Liedzitate je Predigttextprozent"
         ],
         "y": [
          100
         ]
        },
        {
         "hovertemplate": "7 Lied(er) in diesem %",
         "marker": {
          "color": "rgb(160,130,140)"
         },
         "type": "bar",
         "x": [
          "Liedzitate je Predigttextprozent"
         ],
         "y": [
          100
         ]
        },
        {
         "hovertemplate": "2 Lied(er) in diesem %",
         "marker": {
          "color": "rgb(210,180,190)"
         },
         "type": "bar",
         "x": [
          "Liedzitate je Predigttextprozent"
         ],
         "y": [
          100
         ]
        },
        {
         "hovertemplate": "4 Lied(er) in diesem %",
         "marker": {
          "color": "rgb(190,160,170)"
         },
         "type": "bar",
         "x": [
          "Liedzitate je Predigttextprozent"
         ],
         "y": [
          100
         ]
        },
        {
         "hovertemplate": "2 Lied(er) in diesem %",
         "marker": {
          "color": "rgb(210,180,190)"
         },
         "type": "bar",
         "x": [
          "Liedzitate je Predigttextprozent"
         ],
         "y": [
          100
         ]
        },
        {
         "hovertemplate": "2 Lied(er) in diesem %",
         "marker": {
          "color": "rgb(210,180,190)"
         },
         "type": "bar",
         "x": [
          "Liedzitate je Predigttextprozent"
         ],
         "y": [
          100
         ]
        },
        {
         "hovertemplate": "1 Lied(er) in diesem %",
         "marker": {
          "color": "rgb(220,190,200)"
         },
         "type": "bar",
         "x": [
          "Liedzitate je Predigttextprozent"
         ],
         "y": [
          100
         ]
        },
        {
         "hovertemplate": "2 Lied(er) in diesem %",
         "marker": {
          "color": "rgb(210,180,190)"
         },
         "type": "bar",
         "x": [
          "Liedzitate je Predigttextprozent"
         ],
         "y": [
          100
         ]
        },
        {
         "hovertemplate": "3 Lied(er) in diesem %",
         "marker": {
          "color": "rgb(200,170,180)"
         },
         "type": "bar",
         "x": [
          "Liedzitate je Predigttextprozent"
         ],
         "y": [
          100
         ]
        },
        {
         "hovertemplate": "1 Lied(er) in diesem %",
         "marker": {
          "color": "rgb(220,190,200)"
         },
         "type": "bar",
         "x": [
          "Liedzitate je Predigttextprozent"
         ],
         "y": [
          100
         ]
        },
        {
         "hovertemplate": "0 Lied(er) in diesem %",
         "marker": {
          "color": "rgb(230,200,210)"
         },
         "type": "bar",
         "x": [
          "Liedzitate je Predigttextprozent"
         ],
         "y": [
          100
         ]
        },
        {
         "hovertemplate": "2 Lied(er) in diesem %",
         "marker": {
          "color": "rgb(210,180,190)"
         },
         "type": "bar",
         "x": [
          "Liedzitate je Predigttextprozent"
         ],
         "y": [
          100
         ]
        },
        {
         "hovertemplate": "1 Lied(er) in diesem %",
         "marker": {
          "color": "rgb(220,190,200)"
         },
         "type": "bar",
         "x": [
          "Liedzitate je Predigttextprozent"
         ],
         "y": [
          100
         ]
        },
        {
         "hovertemplate": "0 Lied(er) in diesem %",
         "marker": {
          "color": "rgb(230,200,210)"
         },
         "type": "bar",
         "x": [
          "Liedzitate je Predigttextprozent"
         ],
         "y": [
          100
         ]
        },
        {
         "hovertemplate": "1 Lied(er) in diesem %",
         "marker": {
          "color": "rgb(220,190,200)"
         },
         "type": "bar",
         "x": [
          "Liedzitate je Predigttextprozent"
         ],
         "y": [
          100
         ]
        },
        {
         "hovertemplate": "2 Lied(er) in diesem %",
         "marker": {
          "color": "rgb(210,180,190)"
         },
         "type": "bar",
         "x": [
          "Liedzitate je Predigttextprozent"
         ],
         "y": [
          100
         ]
        },
        {
         "hovertemplate": "3 Lied(er) in diesem %",
         "marker": {
          "color": "rgb(200,170,180)"
         },
         "type": "bar",
         "x": [
          "Liedzitate je Predigttextprozent"
         ],
         "y": [
          100
         ]
        },
        {
         "hovertemplate": "1 Lied(er) in diesem %",
         "marker": {
          "color": "rgb(220,190,200)"
         },
         "type": "bar",
         "x": [
          "Liedzitate je Predigttextprozent"
         ],
         "y": [
          100
         ]
        },
        {
         "hovertemplate": "0 Lied(er) in diesem %",
         "marker": {
          "color": "rgb(230,200,210)"
         },
         "type": "bar",
         "x": [
          "Liedzitate je Predigttextprozent"
         ],
         "y": [
          100
         ]
        },
        {
         "hovertemplate": "1 Lied(er) in diesem %",
         "marker": {
          "color": "rgb(220,190,200)"
         },
         "type": "bar",
         "x": [
          "Liedzitate je Predigttextprozent"
         ],
         "y": [
          100
         ]
        },
        {
         "hovertemplate": "2 Lied(er) in diesem %",
         "marker": {
          "color": "rgb(210,180,190)"
         },
         "type": "bar",
         "x": [
          "Liedzitate je Predigttextprozent"
         ],
         "y": [
          100
         ]
        },
        {
         "hovertemplate": "2 Lied(er) in diesem %",
         "marker": {
          "color": "rgb(210,180,190)"
         },
         "type": "bar",
         "x": [
          "Liedzitate je Predigttextprozent"
         ],
         "y": [
          100
         ]
        },
        {
         "hovertemplate": "1 Lied(er) in diesem %",
         "marker": {
          "color": "rgb(220,190,200)"
         },
         "type": "bar",
         "x": [
          "Liedzitate je Predigttextprozent"
         ],
         "y": [
          100
         ]
        },
        {
         "hovertemplate": "2 Lied(er) in diesem %",
         "marker": {
          "color": "rgb(210,180,190)"
         },
         "type": "bar",
         "x": [
          "Liedzitate je Predigttextprozent"
         ],
         "y": [
          100
         ]
        },
        {
         "hovertemplate": "1 Lied(er) in diesem %",
         "marker": {
          "color": "rgb(220,190,200)"
         },
         "type": "bar",
         "x": [
          "Liedzitate je Predigttextprozent"
         ],
         "y": [
          100
         ]
        },
        {
         "hovertemplate": "4 Lied(er) in diesem %",
         "marker": {
          "color": "rgb(190,160,170)"
         },
         "type": "bar",
         "x": [
          "Liedzitate je Predigttextprozent"
         ],
         "y": [
          100
         ]
        },
        {
         "hovertemplate": "1 Lied(er) in diesem %",
         "marker": {
          "color": "rgb(220,190,200)"
         },
         "type": "bar",
         "x": [
          "Liedzitate je Predigttextprozent"
         ],
         "y": [
          100
         ]
        },
        {
         "hovertemplate": "1 Lied(er) in diesem %",
         "marker": {
          "color": "rgb(220,190,200)"
         },
         "type": "bar",
         "x": [
          "Liedzitate je Predigttextprozent"
         ],
         "y": [
          100
         ]
        },
        {
         "hovertemplate": "4 Lied(er) in diesem %",
         "marker": {
          "color": "rgb(190,160,170)"
         },
         "type": "bar",
         "x": [
          "Liedzitate je Predigttextprozent"
         ],
         "y": [
          100
         ]
        },
        {
         "hovertemplate": "1 Lied(er) in diesem %",
         "marker": {
          "color": "rgb(220,190,200)"
         },
         "type": "bar",
         "x": [
          "Liedzitate je Predigttextprozent"
         ],
         "y": [
          100
         ]
        },
        {
         "hovertemplate": "2 Lied(er) in diesem %",
         "marker": {
          "color": "rgb(210,180,190)"
         },
         "type": "bar",
         "x": [
          "Liedzitate je Predigttextprozent"
         ],
         "y": [
          100
         ]
        },
        {
         "hovertemplate": "2 Lied(er) in diesem %",
         "marker": {
          "color": "rgb(210,180,190)"
         },
         "type": "bar",
         "x": [
          "Liedzitate je Predigttextprozent"
         ],
         "y": [
          100
         ]
        },
        {
         "hovertemplate": "2 Lied(er) in diesem %",
         "marker": {
          "color": "rgb(210,180,190)"
         },
         "type": "bar",
         "x": [
          "Liedzitate je Predigttextprozent"
         ],
         "y": [
          100
         ]
        },
        {
         "hovertemplate": "2 Lied(er) in diesem %",
         "marker": {
          "color": "rgb(210,180,190)"
         },
         "type": "bar",
         "x": [
          "Liedzitate je Predigttextprozent"
         ],
         "y": [
          100
         ]
        },
        {
         "hovertemplate": "2 Lied(er) in diesem %",
         "marker": {
          "color": "rgb(210,180,190)"
         },
         "type": "bar",
         "x": [
          "Liedzitate je Predigttextprozent"
         ],
         "y": [
          100
         ]
        },
        {
         "hovertemplate": "1 Lied(er) in diesem %",
         "marker": {
          "color": "rgb(220,190,200)"
         },
         "type": "bar",
         "x": [
          "Liedzitate je Predigttextprozent"
         ],
         "y": [
          100
         ]
        },
        {
         "hovertemplate": "6 Lied(er) in diesem %",
         "marker": {
          "color": "rgb(170,140,150)"
         },
         "type": "bar",
         "x": [
          "Liedzitate je Predigttextprozent"
         ],
         "y": [
          100
         ]
        },
        {
         "hovertemplate": "5 Lied(er) in diesem %",
         "marker": {
          "color": "rgb(180,150,160)"
         },
         "type": "bar",
         "x": [
          "Liedzitate je Predigttextprozent"
         ],
         "y": [
          100
         ]
        },
        {
         "hovertemplate": "2 Lied(er) in diesem %",
         "marker": {
          "color": "rgb(210,180,190)"
         },
         "type": "bar",
         "x": [
          "Liedzitate je Predigttextprozent"
         ],
         "y": [
          100
         ]
        },
        {
         "hovertemplate": "1 Lied(er) in diesem %",
         "marker": {
          "color": "rgb(220,190,200)"
         },
         "type": "bar",
         "x": [
          "Liedzitate je Predigttextprozent"
         ],
         "y": [
          100
         ]
        },
        {
         "hovertemplate": "2 Lied(er) in diesem %",
         "marker": {
          "color": "rgb(210,180,190)"
         },
         "type": "bar",
         "x": [
          "Liedzitate je Predigttextprozent"
         ],
         "y": [
          100
         ]
        },
        {
         "hovertemplate": "3 Lied(er) in diesem %",
         "marker": {
          "color": "rgb(200,170,180)"
         },
         "type": "bar",
         "x": [
          "Liedzitate je Predigttextprozent"
         ],
         "y": [
          100
         ]
        },
        {
         "hovertemplate": "4 Lied(er) in diesem %",
         "marker": {
          "color": "rgb(190,160,170)"
         },
         "type": "bar",
         "x": [
          "Liedzitate je Predigttextprozent"
         ],
         "y": [
          100
         ]
        },
        {
         "hovertemplate": "2 Lied(er) in diesem %",
         "marker": {
          "color": "rgb(210,180,190)"
         },
         "type": "bar",
         "x": [
          "Liedzitate je Predigttextprozent"
         ],
         "y": [
          100
         ]
        },
        {
         "hovertemplate": "4 Lied(er) in diesem %",
         "marker": {
          "color": "rgb(190,160,170)"
         },
         "type": "bar",
         "x": [
          "Liedzitate je Predigttextprozent"
         ],
         "y": [
          100
         ]
        },
        {
         "hovertemplate": "1 Lied(er) in diesem %",
         "marker": {
          "color": "rgb(220,190,200)"
         },
         "type": "bar",
         "x": [
          "Liedzitate je Predigttextprozent"
         ],
         "y": [
          100
         ]
        },
        {
         "hovertemplate": "3 Lied(er) in diesem %",
         "marker": {
          "color": "rgb(200,170,180)"
         },
         "type": "bar",
         "x": [
          "Liedzitate je Predigttextprozent"
         ],
         "y": [
          100
         ]
        },
        {
         "hovertemplate": "3 Lied(er) in diesem %",
         "marker": {
          "color": "rgb(200,170,180)"
         },
         "type": "bar",
         "x": [
          "Liedzitate je Predigttextprozent"
         ],
         "y": [
          100
         ]
        },
        {
         "hovertemplate": "1 Lied(er) in diesem %",
         "marker": {
          "color": "rgb(220,190,200)"
         },
         "type": "bar",
         "x": [
          "Liedzitate je Predigttextprozent"
         ],
         "y": [
          100
         ]
        },
        {
         "hovertemplate": "2 Lied(er) in diesem %",
         "marker": {
          "color": "rgb(210,180,190)"
         },
         "type": "bar",
         "x": [
          "Liedzitate je Predigttextprozent"
         ],
         "y": [
          100
         ]
        },
        {
         "hovertemplate": "1 Lied(er) in diesem %",
         "marker": {
          "color": "rgb(220,190,200)"
         },
         "type": "bar",
         "x": [
          "Liedzitate je Predigttextprozent"
         ],
         "y": [
          100
         ]
        },
        {
         "hovertemplate": "2 Lied(er) in diesem %",
         "marker": {
          "color": "rgb(210,180,190)"
         },
         "type": "bar",
         "x": [
          "Liedzitate je Predigttextprozent"
         ],
         "y": [
          100
         ]
        },
        {
         "hovertemplate": "3 Lied(er) in diesem %",
         "marker": {
          "color": "rgb(200,170,180)"
         },
         "type": "bar",
         "x": [
          "Liedzitate je Predigttextprozent"
         ],
         "y": [
          100
         ]
        },
        {
         "hovertemplate": "3 Lied(er) in diesem %",
         "marker": {
          "color": "rgb(200,170,180)"
         },
         "type": "bar",
         "x": [
          "Liedzitate je Predigttextprozent"
         ],
         "y": [
          100
         ]
        },
        {
         "hovertemplate": "4 Lied(er) in diesem %",
         "marker": {
          "color": "rgb(190,160,170)"
         },
         "type": "bar",
         "x": [
          "Liedzitate je Predigttextprozent"
         ],
         "y": [
          100
         ]
        },
        {
         "hovertemplate": "2 Lied(er) in diesem %",
         "marker": {
          "color": "rgb(210,180,190)"
         },
         "type": "bar",
         "x": [
          "Liedzitate je Predigttextprozent"
         ],
         "y": [
          100
         ]
        },
        {
         "hovertemplate": "1 Lied(er) in diesem %",
         "marker": {
          "color": "rgb(220,190,200)"
         },
         "type": "bar",
         "x": [
          "Liedzitate je Predigttextprozent"
         ],
         "y": [
          100
         ]
        },
        {
         "hovertemplate": "3 Lied(er) in diesem %",
         "marker": {
          "color": "rgb(200,170,180)"
         },
         "type": "bar",
         "x": [
          "Liedzitate je Predigttextprozent"
         ],
         "y": [
          100
         ]
        },
        {
         "hovertemplate": "7 Lied(er) in diesem %",
         "marker": {
          "color": "rgb(160,130,140)"
         },
         "type": "bar",
         "x": [
          "Liedzitate je Predigttextprozent"
         ],
         "y": [
          100
         ]
        },
        {
         "hovertemplate": "9 Lied(er) in diesem %",
         "marker": {
          "color": "rgb(140,110,120)"
         },
         "type": "bar",
         "x": [
          "Liedzitate je Predigttextprozent"
         ],
         "y": [
          100
         ]
        },
        {
         "hovertemplate": "6 Lied(er) in diesem %",
         "marker": {
          "color": "rgb(170,140,150)"
         },
         "type": "bar",
         "x": [
          "Liedzitate je Predigttextprozent"
         ],
         "y": [
          100
         ]
        },
        {
         "hovertemplate": "5 Lied(er) in diesem %",
         "marker": {
          "color": "rgb(180,150,160)"
         },
         "type": "bar",
         "x": [
          "Liedzitate je Predigttextprozent"
         ],
         "y": [
          100
         ]
        },
        {
         "hovertemplate": "7 Lied(er) in diesem %",
         "marker": {
          "color": "rgb(160,130,140)"
         },
         "type": "bar",
         "x": [
          "Liedzitate je Predigttextprozent"
         ],
         "y": [
          100
         ]
        },
        {
         "hovertemplate": "4 Lied(er) in diesem %",
         "marker": {
          "color": "rgb(190,160,170)"
         },
         "type": "bar",
         "x": [
          "Liedzitate je Predigttextprozent"
         ],
         "y": [
          100
         ]
        },
        {
         "hovertemplate": "3 Lied(er) in diesem %",
         "marker": {
          "color": "rgb(200,170,180)"
         },
         "type": "bar",
         "x": [
          "Liedzitate je Predigttextprozent"
         ],
         "y": [
          100
         ]
        },
        {
         "hovertemplate": "6 Lied(er) in diesem %",
         "marker": {
          "color": "rgb(170,140,150)"
         },
         "type": "bar",
         "x": [
          "Liedzitate je Predigttextprozent"
         ],
         "y": [
          100
         ]
        },
        {
         "hovertemplate": "4 Lied(er) in diesem %",
         "marker": {
          "color": "rgb(190,160,170)"
         },
         "type": "bar",
         "x": [
          "Liedzitate je Predigttextprozent"
         ],
         "y": [
          100
         ]
        },
        {
         "hovertemplate": "8 Lied(er) in diesem %",
         "marker": {
          "color": "rgb(150,120,130)"
         },
         "type": "bar",
         "x": [
          "Liedzitate je Predigttextprozent"
         ],
         "y": [
          100
         ]
        },
        {
         "hovertemplate": "5 Lied(er) in diesem %",
         "marker": {
          "color": "rgb(180,150,160)"
         },
         "type": "bar",
         "x": [
          "Liedzitate je Predigttextprozent"
         ],
         "y": [
          100
         ]
        },
        {
         "hovertemplate": "5 Lied(er) in diesem %",
         "marker": {
          "color": "rgb(180,150,160)"
         },
         "type": "bar",
         "x": [
          "Liedzitate je Predigttextprozent"
         ],
         "y": [
          100
         ]
        },
        {
         "hovertemplate": "4 Lied(er) in diesem %",
         "marker": {
          "color": "rgb(190,160,170)"
         },
         "type": "bar",
         "x": [
          "Liedzitate je Predigttextprozent"
         ],
         "y": [
          100
         ]
        },
        {
         "hovertemplate": "6 Lied(er) in diesem %",
         "marker": {
          "color": "rgb(170,140,150)"
         },
         "type": "bar",
         "x": [
          "Liedzitate je Predigttextprozent"
         ],
         "y": [
          100
         ]
        },
        {
         "hovertemplate": "4 Lied(er) in diesem %",
         "marker": {
          "color": "rgb(190,160,170)"
         },
         "type": "bar",
         "x": [
          "Liedzitate je Predigttextprozent"
         ],
         "y": [
          100
         ]
        },
        {
         "hovertemplate": "8 Lied(er) in diesem %",
         "marker": {
          "color": "rgb(150,120,130)"
         },
         "type": "bar",
         "x": [
          "Liedzitate je Predigttextprozent"
         ],
         "y": [
          100
         ]
        },
        {
         "hovertemplate": "6 Lied(er) in diesem %",
         "marker": {
          "color": "rgb(170,140,150)"
         },
         "type": "bar",
         "x": [
          "Liedzitate je Predigttextprozent"
         ],
         "y": [
          100
         ]
        },
        {
         "hovertemplate": "10 Lied(er) in diesem %",
         "marker": {
          "color": "rgb(130,100,110)"
         },
         "type": "bar",
         "x": [
          "Liedzitate je Predigttextprozent"
         ],
         "y": [
          100
         ]
        },
        {
         "hovertemplate": "6 Lied(er) in diesem %",
         "marker": {
          "color": "rgb(170,140,150)"
         },
         "type": "bar",
         "x": [
          "Liedzitate je Predigttextprozent"
         ],
         "y": [
          100
         ]
        },
        {
         "hovertemplate": "9 Lied(er) in diesem %",
         "marker": {
          "color": "rgb(140,110,120)"
         },
         "type": "bar",
         "x": [
          "Liedzitate je Predigttextprozent"
         ],
         "y": [
          100
         ]
        },
        {
         "hovertemplate": "8 Lied(er) in diesem %",
         "marker": {
          "color": "rgb(150,120,130)"
         },
         "type": "bar",
         "x": [
          "Liedzitate je Predigttextprozent"
         ],
         "y": [
          100
         ]
        },
        {
         "hovertemplate": "7 Lied(er) in diesem %",
         "marker": {
          "color": "rgb(160,130,140)"
         },
         "type": "bar",
         "x": [
          "Liedzitate je Predigttextprozent"
         ],
         "y": [
          100
         ]
        },
        {
         "hovertemplate": "6 Lied(er) in diesem %",
         "marker": {
          "color": "rgb(170,140,150)"
         },
         "type": "bar",
         "x": [
          "Liedzitate je Predigttextprozent"
         ],
         "y": [
          100
         ]
        },
        {
         "hovertemplate": "4 Lied(er) in diesem %",
         "marker": {
          "color": "rgb(190,160,170)"
         },
         "type": "bar",
         "x": [
          "Liedzitate je Predigttextprozent"
         ],
         "y": [
          100
         ]
        },
        {
         "hovertemplate": "13 Lied(er) in diesem %",
         "marker": {
          "color": "rgb(100,70,80)"
         },
         "type": "bar",
         "x": [
          "Liedzitate je Predigttextprozent"
         ],
         "y": [
          100
         ]
        },
        {
         "hovertemplate": "16 Lied(er) in diesem %",
         "marker": {
          "color": "rgb(70,40,50)"
         },
         "type": "bar",
         "x": [
          "Liedzitate je Predigttextprozent"
         ],
         "y": [
          100
         ]
        },
        {
         "hovertemplate": "19 Lied(er) in diesem %",
         "marker": {
          "color": "rgb(40,10,20)"
         },
         "type": "bar",
         "x": [
          "Liedzitate je Predigttextprozent"
         ],
         "y": [
          100
         ]
        }
       ],
       "layout": {
        "height": 500,
        "template": {
         "data": {
          "bar": [
           {
            "error_x": {
             "color": "#2a3f5f"
            },
            "error_y": {
             "color": "#2a3f5f"
            },
            "marker": {
             "line": {
              "color": "#E5ECF6",
              "width": 0.5
             },
             "pattern": {
              "fillmode": "overlay",
              "size": 10,
              "solidity": 0.2
             }
            },
            "type": "bar"
           }
          ],
          "barpolar": [
           {
            "marker": {
             "line": {
              "color": "#E5ECF6",
              "width": 0.5
             },
             "pattern": {
              "fillmode": "overlay",
              "size": 10,
              "solidity": 0.2
             }
            },
            "type": "barpolar"
           }
          ],
          "carpet": [
           {
            "aaxis": {
             "endlinecolor": "#2a3f5f",
             "gridcolor": "white",
             "linecolor": "white",
             "minorgridcolor": "white",
             "startlinecolor": "#2a3f5f"
            },
            "baxis": {
             "endlinecolor": "#2a3f5f",
             "gridcolor": "white",
             "linecolor": "white",
             "minorgridcolor": "white",
             "startlinecolor": "#2a3f5f"
            },
            "type": "carpet"
           }
          ],
          "choropleth": [
           {
            "colorbar": {
             "outlinewidth": 0,
             "ticks": ""
            },
            "type": "choropleth"
           }
          ],
          "contour": [
           {
            "colorbar": {
             "outlinewidth": 0,
             "ticks": ""
            },
            "colorscale": [
             [
              0,
              "#0d0887"
             ],
             [
              0.1111111111111111,
              "#46039f"
             ],
             [
              0.2222222222222222,
              "#7201a8"
             ],
             [
              0.3333333333333333,
              "#9c179e"
             ],
             [
              0.4444444444444444,
              "#bd3786"
             ],
             [
              0.5555555555555556,
              "#d8576b"
             ],
             [
              0.6666666666666666,
              "#ed7953"
             ],
             [
              0.7777777777777778,
              "#fb9f3a"
             ],
             [
              0.8888888888888888,
              "#fdca26"
             ],
             [
              1,
              "#f0f921"
             ]
            ],
            "type": "contour"
           }
          ],
          "contourcarpet": [
           {
            "colorbar": {
             "outlinewidth": 0,
             "ticks": ""
            },
            "type": "contourcarpet"
           }
          ],
          "heatmap": [
           {
            "colorbar": {
             "outlinewidth": 0,
             "ticks": ""
            },
            "colorscale": [
             [
              0,
              "#0d0887"
             ],
             [
              0.1111111111111111,
              "#46039f"
             ],
             [
              0.2222222222222222,
              "#7201a8"
             ],
             [
              0.3333333333333333,
              "#9c179e"
             ],
             [
              0.4444444444444444,
              "#bd3786"
             ],
             [
              0.5555555555555556,
              "#d8576b"
             ],
             [
              0.6666666666666666,
              "#ed7953"
             ],
             [
              0.7777777777777778,
              "#fb9f3a"
             ],
             [
              0.8888888888888888,
              "#fdca26"
             ],
             [
              1,
              "#f0f921"
             ]
            ],
            "type": "heatmap"
           }
          ],
          "histogram": [
           {
            "marker": {
             "pattern": {
              "fillmode": "overlay",
              "size": 10,
              "solidity": 0.2
             }
            },
            "type": "histogram"
           }
          ],
          "histogram2d": [
           {
            "colorbar": {
             "outlinewidth": 0,
             "ticks": ""
            },
            "colorscale": [
             [
              0,
              "#0d0887"
             ],
             [
              0.1111111111111111,
              "#46039f"
             ],
             [
              0.2222222222222222,
              "#7201a8"
             ],
             [
              0.3333333333333333,
              "#9c179e"
             ],
             [
              0.4444444444444444,
              "#bd3786"
             ],
             [
              0.5555555555555556,
              "#d8576b"
             ],
             [
              0.6666666666666666,
              "#ed7953"
             ],
             [
              0.7777777777777778,
              "#fb9f3a"
             ],
             [
              0.8888888888888888,
              "#fdca26"
             ],
             [
              1,
              "#f0f921"
             ]
            ],
            "type": "histogram2d"
           }
          ],
          "histogram2dcontour": [
           {
            "colorbar": {
             "outlinewidth": 0,
             "ticks": ""
            },
            "colorscale": [
             [
              0,
              "#0d0887"
             ],
             [
              0.1111111111111111,
              "#46039f"
             ],
             [
              0.2222222222222222,
              "#7201a8"
             ],
             [
              0.3333333333333333,
              "#9c179e"
             ],
             [
              0.4444444444444444,
              "#bd3786"
             ],
             [
              0.5555555555555556,
              "#d8576b"
             ],
             [
              0.6666666666666666,
              "#ed7953"
             ],
             [
              0.7777777777777778,
              "#fb9f3a"
             ],
             [
              0.8888888888888888,
              "#fdca26"
             ],
             [
              1,
              "#f0f921"
             ]
            ],
            "type": "histogram2dcontour"
           }
          ],
          "mesh3d": [
           {
            "colorbar": {
             "outlinewidth": 0,
             "ticks": ""
            },
            "type": "mesh3d"
           }
          ],
          "parcoords": [
           {
            "line": {
             "colorbar": {
              "outlinewidth": 0,
              "ticks": ""
             }
            },
            "type": "parcoords"
           }
          ],
          "pie": [
           {
            "automargin": true,
            "type": "pie"
           }
          ],
          "scatter": [
           {
            "fillpattern": {
             "fillmode": "overlay",
             "size": 10,
             "solidity": 0.2
            },
            "type": "scatter"
           }
          ],
          "scatter3d": [
           {
            "line": {
             "colorbar": {
              "outlinewidth": 0,
              "ticks": ""
             }
            },
            "marker": {
             "colorbar": {
              "outlinewidth": 0,
              "ticks": ""
             }
            },
            "type": "scatter3d"
           }
          ],
          "scattercarpet": [
           {
            "marker": {
             "colorbar": {
              "outlinewidth": 0,
              "ticks": ""
             }
            },
            "type": "scattercarpet"
           }
          ],
          "scattergeo": [
           {
            "marker": {
             "colorbar": {
              "outlinewidth": 0,
              "ticks": ""
             }
            },
            "type": "scattergeo"
           }
          ],
          "scattergl": [
           {
            "marker": {
             "colorbar": {
              "outlinewidth": 0,
              "ticks": ""
             }
            },
            "type": "scattergl"
           }
          ],
          "scattermap": [
           {
            "marker": {
             "colorbar": {
              "outlinewidth": 0,
              "ticks": ""
             }
            },
            "type": "scattermap"
           }
          ],
          "scattermapbox": [
           {
            "marker": {
             "colorbar": {
              "outlinewidth": 0,
              "ticks": ""
             }
            },
            "type": "scattermapbox"
           }
          ],
          "scatterpolar": [
           {
            "marker": {
             "colorbar": {
              "outlinewidth": 0,
              "ticks": ""
             }
            },
            "type": "scatterpolar"
           }
          ],
          "scatterpolargl": [
           {
            "marker": {
             "colorbar": {
              "outlinewidth": 0,
              "ticks": ""
             }
            },
            "type": "scatterpolargl"
           }
          ],
          "scatterternary": [
           {
            "marker": {
             "colorbar": {
              "outlinewidth": 0,
              "ticks": ""
             }
            },
            "type": "scatterternary"
           }
          ],
          "surface": [
           {
            "colorbar": {
             "outlinewidth": 0,
             "ticks": ""
            },
            "colorscale": [
             [
              0,
              "#0d0887"
             ],
             [
              0.1111111111111111,
              "#46039f"
             ],
             [
              0.2222222222222222,
              "#7201a8"
             ],
             [
              0.3333333333333333,
              "#9c179e"
             ],
             [
              0.4444444444444444,
              "#bd3786"
             ],
             [
              0.5555555555555556,
              "#d8576b"
             ],
             [
              0.6666666666666666,
              "#ed7953"
             ],
             [
              0.7777777777777778,
              "#fb9f3a"
             ],
             [
              0.8888888888888888,
              "#fdca26"
             ],
             [
              1,
              "#f0f921"
             ]
            ],
            "type": "surface"
           }
          ],
          "table": [
           {
            "cells": {
             "fill": {
              "color": "#EBF0F8"
             },
             "line": {
              "color": "white"
             }
            },
            "header": {
             "fill": {
              "color": "#C8D4E3"
             },
             "line": {
              "color": "white"
             }
            },
            "type": "table"
           }
          ]
         },
         "layout": {
          "annotationdefaults": {
           "arrowcolor": "#2a3f5f",
           "arrowhead": 0,
           "arrowwidth": 1
          },
          "autotypenumbers": "strict",
          "coloraxis": {
           "colorbar": {
            "outlinewidth": 0,
            "ticks": ""
           }
          },
          "colorscale": {
           "diverging": [
            [
             0,
             "#8e0152"
            ],
            [
             0.1,
             "#c51b7d"
            ],
            [
             0.2,
             "#de77ae"
            ],
            [
             0.3,
             "#f1b6da"
            ],
            [
             0.4,
             "#fde0ef"
            ],
            [
             0.5,
             "#f7f7f7"
            ],
            [
             0.6,
             "#e6f5d0"
            ],
            [
             0.7,
             "#b8e186"
            ],
            [
             0.8,
             "#7fbc41"
            ],
            [
             0.9,
             "#4d9221"
            ],
            [
             1,
             "#276419"
            ]
           ],
           "sequential": [
            [
             0,
             "#0d0887"
            ],
            [
             0.1111111111111111,
             "#46039f"
            ],
            [
             0.2222222222222222,
             "#7201a8"
            ],
            [
             0.3333333333333333,
             "#9c179e"
            ],
            [
             0.4444444444444444,
             "#bd3786"
            ],
            [
             0.5555555555555556,
             "#d8576b"
            ],
            [
             0.6666666666666666,
             "#ed7953"
            ],
            [
             0.7777777777777778,
             "#fb9f3a"
            ],
            [
             0.8888888888888888,
             "#fdca26"
            ],
            [
             1,
             "#f0f921"
            ]
           ],
           "sequentialminus": [
            [
             0,
             "#0d0887"
            ],
            [
             0.1111111111111111,
             "#46039f"
            ],
            [
             0.2222222222222222,
             "#7201a8"
            ],
            [
             0.3333333333333333,
             "#9c179e"
            ],
            [
             0.4444444444444444,
             "#bd3786"
            ],
            [
             0.5555555555555556,
             "#d8576b"
            ],
            [
             0.6666666666666666,
             "#ed7953"
            ],
            [
             0.7777777777777778,
             "#fb9f3a"
            ],
            [
             0.8888888888888888,
             "#fdca26"
            ],
            [
             1,
             "#f0f921"
            ]
           ]
          },
          "colorway": [
           "#636efa",
           "#EF553B",
           "#00cc96",
           "#ab63fa",
           "#FFA15A",
           "#19d3f3",
           "#FF6692",
           "#B6E880",
           "#FF97FF",
           "#FECB52"
          ],
          "font": {
           "color": "#2a3f5f"
          },
          "geo": {
           "bgcolor": "white",
           "lakecolor": "white",
           "landcolor": "#E5ECF6",
           "showlakes": true,
           "showland": true,
           "subunitcolor": "white"
          },
          "hoverlabel": {
           "align": "left"
          },
          "hovermode": "closest",
          "mapbox": {
           "style": "light"
          },
          "paper_bgcolor": "white",
          "plot_bgcolor": "#E5ECF6",
          "polar": {
           "angularaxis": {
            "gridcolor": "white",
            "linecolor": "white",
            "ticks": ""
           },
           "bgcolor": "#E5ECF6",
           "radialaxis": {
            "gridcolor": "white",
            "linecolor": "white",
            "ticks": ""
           }
          },
          "scene": {
           "xaxis": {
            "backgroundcolor": "#E5ECF6",
            "gridcolor": "white",
            "gridwidth": 2,
            "linecolor": "white",
            "showbackground": true,
            "ticks": "",
            "zerolinecolor": "white"
           },
           "yaxis": {
            "backgroundcolor": "#E5ECF6",
            "gridcolor": "white",
            "gridwidth": 2,
            "linecolor": "white",
            "showbackground": true,
            "ticks": "",
            "zerolinecolor": "white"
           },
           "zaxis": {
            "backgroundcolor": "#E5ECF6",
            "gridcolor": "white",
            "gridwidth": 2,
            "linecolor": "white",
            "showbackground": true,
            "ticks": "",
            "zerolinecolor": "white"
           }
          },
          "shapedefaults": {
           "line": {
            "color": "#2a3f5f"
           }
          },
          "ternary": {
           "aaxis": {
            "gridcolor": "white",
            "linecolor": "white",
            "ticks": ""
           },
           "baxis": {
            "gridcolor": "white",
            "linecolor": "white",
            "ticks": ""
           },
           "bgcolor": "#E5ECF6",
           "caxis": {
            "gridcolor": "white",
            "linecolor": "white",
            "ticks": ""
           }
          },
          "title": {
           "x": 0.05
          },
          "xaxis": {
           "automargin": true,
           "gridcolor": "white",
           "linecolor": "white",
           "ticks": "",
           "title": {
            "standoff": 15
           },
           "zerolinecolor": "white",
           "zerolinewidth": 2
          },
          "yaxis": {
           "automargin": true,
           "gridcolor": "white",
           "linecolor": "white",
           "ticks": "",
           "title": {
            "standoff": 15
           },
           "zerolinecolor": "white",
           "zerolinewidth": 2
          }
         }
        },
        "width": 1500
       }
      }
     },
     "metadata": {},
     "output_type": "display_data"
    }
   ],
   "source": [
    "create_song_dist_chart(ids)\n",
    "#create_song_dist_chart([\"E000052\", \"E000109\"])"
   ]
  },
  {
   "cell_type": "code",
   "execution_count": 24,
   "id": "065915a1",
   "metadata": {},
   "outputs": [],
   "source": [
    "def create_stacked_chart(sermon):\n",
    "\n",
    "    text_decimal = int(len(sermon.words) / 100)\n",
    "\n",
    "    overhang = len(sermon.words) % text_decimal \n",
    "    chunked_types=[]\n",
    "    for i in range(0, len(sermon.words), text_decimal):\n",
    "        types = [\"text\" if isinstance(x, float) else x for x in sermon.word_types[i:i+text_decimal]]\n",
    "        reference = [\" \".join(ref) for ref in sermon.reference[i:i+text_decimal]]\n",
    "        concat = [\",\".join(zipped) for zipped in list(zip(types, reference))]\n",
    "        chunked_types.append(concat)\n",
    "\n",
    "    last_types = [\"\" if isinstance(x, float) else x for x in sermon.word_types[-overhang:]]\n",
    "    last_refs = [\" \".join(ref) for ref in sermon.reference[-overhang:]]\n",
    "    last_concat = [\",\".join(zipped) for zipped in list(zip(last_types, last_refs))]\n",
    "    chunked_types.append(last_concat)\n",
    "\n",
    "    quote_distribution_chunked = go.Figure(layout=dict(barmode='stack'))\n",
    "\n",
    "    for row, nr in zip(chunked_types, range(1, len(chunked_types))):\n",
    "        item = dict(Counter(row))\n",
    "        bar_title = f\"Wörter 1 bis {text_decimal}\" if nr == 1 else f\"Wörter {(nr-1) * text_decimal} bis {nr * text_decimal}\"\n",
    "        for key, val in item.items():\n",
    "\n",
    "            colors, ref = key.split(',')\n",
    "\n",
    "            #colors = colors.strip().split(\" \")\n",
    "            print(colors)\n",
    "            \n",
    "            key_cleaned = str(key).replace(',', '').strip().split('.')[0]\n",
    "            name = f'{\" \".join(oa.get_short_info(str(ref)).split()[:6])}' if oa.is_id(ref) else key_cleaned\n",
    "            url=f'https://orgelpredigt.ur.de/{str(ref).strip()}' if oa.is_id(ref) else \"\"\n",
    "            \n",
    "            quote_distribution_chunked.add_trace(go.Bar(\n",
    "                name=name, \n",
    "                x=[bar_title], \n",
    "                y=[val],\n",
    "                hovertemplate=f'<b>{name}</b><br>Value: {val} Words<br>Link: <a href=\"{url}\">{ref}</a><extra></extra>',\n",
    "                #marker_color=color_map.get(str(color).strip(), 'gray')\n",
    "                ))\n",
    "\n",
    "    quote_distribution_chunked.update_layout(barmode='stack',\n",
    "                                             width=1500,\n",
    "                                             height=500)\n",
    "    \n",
    "    return quote_distribution_chunked"
   ]
  },
  {
   "cell_type": "code",
   "execution_count": 25,
   "id": "acb01780",
   "metadata": {},
   "outputs": [
    {
     "name": "stdout",
     "output_type": "stream",
     "text": [
      "text\n",
      " bibel\n",
      "text\n",
      "text\n",
      " bibel\n",
      " bibel\n",
      " bibel\n",
      "text\n",
      "text\n",
      " bibel\n",
      " bibel\n",
      "text\n",
      " bibel\n",
      " bibel\n",
      " bibel\n",
      " bibel\n",
      "text\n",
      " bibel\n",
      " bibel\n",
      "text\n",
      " bibel\n",
      " quelle\n",
      "text\n",
      " bibel\n",
      " bibel\n",
      "text\n",
      " bibel\n",
      " musikwerk\n",
      " bibel\n",
      " bibel\n",
      " bibel\n",
      " bibel\n",
      "text\n",
      "text\n",
      " bibel\n",
      "text\n",
      " musikwerk\n",
      " bibel\n",
      " bibel\n",
      "text\n",
      " bibel\n",
      " bibel\n",
      "text\n",
      "text\n",
      " orgelpredigt\n",
      " bibel\n",
      " bibel\n",
      " bibel\n",
      "text\n",
      " quelle\n",
      "text\n",
      "text\n",
      " quelle\n",
      "text\n",
      " musikwerk\n",
      "text\n",
      " bibel\n",
      " bibel\n",
      "text\n",
      " bibel\n",
      "text\n",
      " quelle\n",
      " musikwerk\n",
      " bibel\n",
      " bibel\n",
      "text\n",
      " bibel\n",
      "text\n",
      " quelle\n",
      " quelle\n",
      " quelle\n",
      "text\n",
      " bibel\n",
      " quelle\n",
      " quelle\n",
      "text\n",
      " bibel\n",
      "text\n",
      " bibel\n",
      "text\n",
      " bibel\n",
      "text\n",
      " quelle\n",
      "text\n",
      " bibel\n",
      "text\n",
      " bibel\n",
      "text\n",
      " bibel\n",
      "text\n",
      " bibel\n",
      "text\n",
      " quelle\n",
      " bibel\n",
      " quelle\n",
      "text\n",
      "text\n",
      " bibel\n",
      " bibel\n",
      "text\n",
      " bibel\n",
      "text\n",
      " bibel\n",
      " bibel\n",
      " bibel\n",
      "text\n",
      " bibel\n",
      " bibel\n",
      " bibel\n",
      "text\n",
      "text\n",
      " bibel\n",
      " bibel\n",
      "text\n",
      " bibel\n",
      " quelle\n",
      "text\n",
      " orgelpredigt\n",
      "text\n",
      "text\n",
      " bibel\n",
      "text\n",
      " bibel\n",
      "text\n",
      " bibel\n",
      "text\n",
      " bibel\n",
      " bibel\n",
      " bibel\n",
      " bibel\n",
      "text\n",
      "text\n",
      "text\n",
      " bibel\n",
      "text\n",
      " bibel\n",
      "text\n",
      "text\n",
      " literatur\n",
      " quelle\n",
      "text\n",
      " orgelpredigt\n",
      " bibel\n",
      "text\n",
      " bibel\n",
      "text\n",
      " bibel\n",
      "text\n",
      "text\n",
      " bibel\n",
      " bibel\n",
      "text\n",
      " bibel\n",
      " bibel\n",
      "text\n",
      " bibel\n",
      "text\n",
      " bibel\n",
      " bibel\n",
      "text\n",
      " bibel\n",
      " quelle\n",
      "text\n",
      "text\n",
      " bibel\n",
      " bibel\n",
      "text\n",
      " bibel\n",
      "text\n",
      " bibel\n",
      " bibel\n",
      "text\n",
      " bibel\n",
      " musikwerk\n",
      "text\n",
      " bibel\n",
      " bibel\n",
      "text\n",
      " bibel\n",
      " musikwerk\n",
      "text\n",
      " bibel\n",
      " bibel\n",
      "text\n",
      " bibel\n",
      " bibel\n",
      "text\n",
      " musikwerk\n",
      " bibel\n",
      "text\n",
      " bibel\n",
      " bibel\n",
      " musikwerk\n",
      " musikwerk\n",
      "text\n",
      " musikwerk\n",
      " bibel\n",
      "text\n",
      " bibel\n",
      "text\n",
      " bibel\n",
      " bibel\n",
      "text\n",
      " bibel\n",
      "text\n",
      " bibel\n",
      " bibel\n",
      "text\n",
      " bibel\n",
      " bibel\n",
      "text\n",
      "text\n",
      " orgelpredigt\n",
      "text\n",
      "text\n",
      "text\n",
      " bibel\n",
      " bibel\n",
      "text\n",
      "text\n",
      " bibel\n",
      " bibel\n",
      " bibel\n",
      "text\n",
      " bibel\n",
      "text\n",
      " bibel\n",
      " bibel\n",
      "text\n",
      " bibel\n",
      " bibel\n",
      "text\n",
      " bibel\n",
      " bibel\n",
      "text\n",
      " bibel\n",
      "text\n",
      " bibel\n",
      " bibel\n",
      " bibel\n",
      " bibel\n",
      "text\n",
      " bibel\n",
      " bibel\n",
      " bibel\n",
      "text\n",
      " bibel\n",
      " bibel\n",
      " bibel\n",
      "text\n",
      " bibel\n",
      " quelle\n",
      "text\n",
      "text\n",
      " musikwerk\n",
      " musikwerk\n",
      " bibel\n",
      " bibel\n",
      " bibel\n",
      "text\n"
     ]
    },
    {
     "name": "stderr",
     "output_type": "stream",
     "text": [
      "/home/janosch/anaconda3/envs/ma_orgelpredigt/lib/python3.12/site-packages/plotly/offline/offline.py:153: UserWarning:\n",
      "\n",
      "\n",
      "Unrecognized config options supplied: ['width']\n",
      "\n"
     ]
    },
    {
     "data": {
      "application/vnd.plotly.v1+json": {
       "config": {
        "plotlyServerURL": "https://plot.ly",
        "width": 800
       },
       "data": [
        {
         "hovertemplate": "<b>text</b><br>Value: 85 Words<br>Link: <a href=\"\"></a><extra></extra>",
         "name": "text",
         "type": "bar",
         "x": [
          "Wörter 1 bis 93"
         ],
         "y": [
          85
         ]
        },
        {
         "hovertemplate": "<b>bibelGal_5-16</b><br>Value: 8 Words<br>Link: <a href=\"\">Gal_5-16.17.18.19.20.21.22.23.24</a><extra></extra>",
         "name": "bibelGal_5-16",
         "type": "bar",
         "x": [
          "Wörter 1 bis 93"
         ],
         "y": [
          8
         ]
        },
        {
         "hovertemplate": "<b>text</b><br>Value: 93 Words<br>Link: <a href=\"\"></a><extra></extra>",
         "name": "text",
         "type": "bar",
         "x": [
          "Wörter 93 bis 186"
         ],
         "y": [
          93
         ]
        },
        {
         "hovertemplate": "<b>text</b><br>Value: 89 Words<br>Link: <a href=\"\"></a><extra></extra>",
         "name": "text",
         "type": "bar",
         "x": [
          "Wörter 186 bis 279"
         ],
         "y": [
          89
         ]
        },
        {
         "hovertemplate": "<b>bibelPs_150-1</b><br>Value: 4 Words<br>Link: <a href=\"\">Ps_150-1.2.3.4.5.6</a><extra></extra>",
         "name": "bibelPs_150-1",
         "type": "bar",
         "x": [
          "Wörter 186 bis 279"
         ],
         "y": [
          4
         ]
        },
        {
         "hovertemplate": "<b>bibelPs_150-1</b><br>Value: 60 Words<br>Link: <a href=\"\">Ps_150-1.2.3.4.5.6</a><extra></extra>",
         "name": "bibelPs_150-1",
         "type": "bar",
         "x": [
          "Wörter 279 bis 372"
         ],
         "y": [
          60
         ]
        },
        {
         "hovertemplate": "<b>bibelPs_33-3</b><br>Value: 12 Words<br>Link: <a href=\"\">Ps_33-3</a><extra></extra>",
         "name": "bibelPs_33-3",
         "type": "bar",
         "x": [
          "Wörter 279 bis 372"
         ],
         "y": [
          12
         ]
        },
        {
         "hovertemplate": "<b>text</b><br>Value: 21 Words<br>Link: <a href=\"\"></a><extra></extra>",
         "name": "text",
         "type": "bar",
         "x": [
          "Wörter 279 bis 372"
         ],
         "y": [
          21
         ]
        },
        {
         "hovertemplate": "<b>text</b><br>Value: 75 Words<br>Link: <a href=\"\"></a><extra></extra>",
         "name": "text",
         "type": "bar",
         "x": [
          "Wörter 372 bis 465"
         ],
         "y": [
          75
         ]
        },
        {
         "hovertemplate": "<b>bibelPs_45-2</b><br>Value: 4 Words<br>Link: <a href=\"\">Ps_45-2</a><extra></extra>",
         "name": "bibelPs_45-2",
         "type": "bar",
         "x": [
          "Wörter 372 bis 465"
         ],
         "y": [
          4
         ]
        },
        {
         "hovertemplate": "<b>bibelPs_33-2</b><br>Value: 14 Words<br>Link: <a href=\"\">Ps_33-2</a><extra></extra>",
         "name": "bibelPs_33-2",
         "type": "bar",
         "x": [
          "Wörter 372 bis 465"
         ],
         "y": [
          14
         ]
        },
        {
         "hovertemplate": "<b>text</b><br>Value: 70 Words<br>Link: <a href=\"\"></a><extra></extra>",
         "name": "text",
         "type": "bar",
         "x": [
          "Wörter 465 bis 558"
         ],
         "y": [
          70
         ]
        },
        {
         "hovertemplate": "<b>bibelPs_96-1</b><br>Value: 6 Words<br>Link: <a href=\"\">Ps_96-1</a><extra></extra>",
         "name": "bibelPs_96-1",
         "type": "bar",
         "x": [
          "Wörter 465 bis 558"
         ],
         "y": [
          6
         ]
        },
        {
         "hovertemplate": "<b>bibelSir_32-6</b><br>Value: 13 Words<br>Link: <a href=\"\">Sir_32-6</a><extra></extra>",
         "name": "bibelSir_32-6",
         "type": "bar",
         "x": [
          "Wörter 465 bis 558"
         ],
         "y": [
          13
         ]
        },
        {
         "hovertemplate": "<b>bibelJes_5-1</b><br>Value: 4 Words<br>Link: <a href=\"\">Jes_5-1</a><extra></extra>",
         "name": "bibelJes_5-1",
         "type": "bar",
         "x": [
          "Wörter 465 bis 558"
         ],
         "y": [
          4
         ]
        },
        {
         "hovertemplate": "<b>bibelEx_15-1</b><br>Value: 4 Words<br>Link: <a href=\"\">Ex_15-1</a><extra></extra>",
         "name": "bibelEx_15-1",
         "type": "bar",
         "x": [
          "Wörter 558 bis 651"
         ],
         "y": [
          4
         ]
        },
        {
         "hovertemplate": "<b>text</b><br>Value: 88 Words<br>Link: <a href=\"\"></a><extra></extra>",
         "name": "text",
         "type": "bar",
         "x": [
          "Wörter 558 bis 651"
         ],
         "y": [
          88
         ]
        },
        {
         "hovertemplate": "<b>bibelKlgl_3-23</b><br>Value: 1 Words<br>Link: <a href=\"\">Klgl_3-23</a><extra></extra>",
         "name": "bibelKlgl_3-23",
         "type": "bar",
         "x": [
          "Wörter 558 bis 651"
         ],
         "y": [
          1
         ]
        },
        {
         "hovertemplate": "<b>bibelKlgl_3-23</b><br>Value: 3 Words<br>Link: <a href=\"\">Klgl_3-23</a><extra></extra>",
         "name": "bibelKlgl_3-23",
         "type": "bar",
         "x": [
          "Wörter 651 bis 744"
         ],
         "y": [
          3
         ]
        },
        {
         "hovertemplate": "<b>text</b><br>Value: 84 Words<br>Link: <a href=\"\"></a><extra></extra>",
         "name": "text",
         "type": "bar",
         "x": [
          "Wörter 651 bis 744"
         ],
         "y": [
          84
         ]
        },
        {
         "hovertemplate": "<b>bibelSir_47-9</b><br>Value: 5 Words<br>Link: <a href=\"\">Sir_47-9.10.11</a><extra></extra>",
         "name": "bibelSir_47-9",
         "type": "bar",
         "x": [
          "Wörter 651 bis 744"
         ],
         "y": [
          5
         ]
        },
        {
         "hovertemplate": "<b>Kircher, Athanasius: Musurgia universalis, sive ars</b><br>Value: 1 Words<br>Link: <a href=\"https://orgelpredigt.ur.de/E080258\">E080258</a><extra></extra>",
         "name": "Kircher, Athanasius: Musurgia universalis, sive ars",
         "type": "bar",
         "x": [
          "Wörter 651 bis 744"
         ],
         "y": [
          1
         ]
        },
        {
         "hovertemplate": "<b>text</b><br>Value: 82 Words<br>Link: <a href=\"\"></a><extra></extra>",
         "name": "text",
         "type": "bar",
         "x": [
          "Wörter 744 bis 837"
         ],
         "y": [
          82
         ]
        },
        {
         "hovertemplate": "<b>bibel2Chr_20-26</b><br>Value: 5 Words<br>Link: <a href=\"\">2Chr_20-26</a><extra></extra>",
         "name": "bibel2Chr_20-26",
         "type": "bar",
         "x": [
          "Wörter 744 bis 837"
         ],
         "y": [
          5
         ]
        },
        {
         "hovertemplate": "<b>bibelJes_44-28</b><br>Value: 6 Words<br>Link: <a href=\"\">Jes_44-28</a><extra></extra>",
         "name": "bibelJes_44-28",
         "type": "bar",
         "x": [
          "Wörter 744 bis 837"
         ],
         "y": [
          6
         ]
        },
        {
         "hovertemplate": "<b>text</b><br>Value: 59 Words<br>Link: <a href=\"\"></a><extra></extra>",
         "name": "text",
         "type": "bar",
         "x": [
          "Wörter 837 bis 930"
         ],
         "y": [
          59
         ]
        },
        {
         "hovertemplate": "<b>bibelPs_33-3</b><br>Value: 14 Words<br>Link: <a href=\"\">Ps_33-3</a><extra></extra>",
         "name": "bibelPs_33-3",
         "type": "bar",
         "x": [
          "Wörter 837 bis 930"
         ],
         "y": [
          14
         ]
        },
        {
         "hovertemplate": "<b>Nicolai, Philipp: Wie schön leuchtet der</b><br>Value: 5 Words<br>Link: <a href=\"https://orgelpredigt.ur.de/E100022\">E100022</a><extra></extra>",
         "name": "Nicolai, Philipp: Wie schön leuchtet der",
         "type": "bar",
         "x": [
          "Wörter 837 bis 930"
         ],
         "y": [
          5
         ]
        },
        {
         "hovertemplate": "<b>bibelMt_6-9</b><br>Value: 2 Words<br>Link: <a href=\"\">Mt_6-9</a><extra></extra>",
         "name": "bibelMt_6-9",
         "type": "bar",
         "x": [
          "Wörter 837 bis 930"
         ],
         "y": [
          2
         ]
        },
        {
         "hovertemplate": "<b>bibelGal_5-16</b><br>Value: 13 Words<br>Link: <a href=\"\">Gal_5-16.17.18.19.20.21.22.23.24</a><extra></extra>",
         "name": "bibelGal_5-16",
         "type": "bar",
         "x": [
          "Wörter 837 bis 930"
         ],
         "y": [
          13
         ]
        },
        {
         "hovertemplate": "<b>bibelGal_5-16</b><br>Value: 93 Words<br>Link: <a href=\"\">Gal_5-16.17.18.19.20.21.22.23.24</a><extra></extra>",
         "name": "bibelGal_5-16",
         "type": "bar",
         "x": [
          "Wörter 930 bis 1023"
         ],
         "y": [
          93
         ]
        },
        {
         "hovertemplate": "<b>bibelGal_5-16</b><br>Value: 28 Words<br>Link: <a href=\"\">Gal_5-16.17.18.19.20.21.22.23.24</a><extra></extra>",
         "name": "bibelGal_5-16",
         "type": "bar",
         "x": [
          "Wörter 1023 bis 1116"
         ],
         "y": [
          28
         ]
        },
        {
         "hovertemplate": "<b>text</b><br>Value: 65 Words<br>Link: <a href=\"\"></a><extra></extra>",
         "name": "text",
         "type": "bar",
         "x": [
          "Wörter 1023 bis 1116"
         ],
         "y": [
          65
         ]
        },
        {
         "hovertemplate": "<b>text</b><br>Value: 87 Words<br>Link: <a href=\"\"></a><extra></extra>",
         "name": "text",
         "type": "bar",
         "x": [
          "Wörter 1116 bis 1209"
         ],
         "y": [
          87
         ]
        },
        {
         "hovertemplate": "<b>bibel1Kor_14-5</b><br>Value: 6 Words<br>Link: <a href=\"\">1Kor_14-5</a><extra></extra>",
         "name": "bibel1Kor_14-5",
         "type": "bar",
         "x": [
          "Wörter 1116 bis 1209"
         ],
         "y": [
          6
         ]
        },
        {
         "hovertemplate": "<b>text</b><br>Value: 49 Words<br>Link: <a href=\"\"></a><extra></extra>",
         "name": "text",
         "type": "bar",
         "x": [
          "Wörter 1209 bis 1302"
         ],
         "y": [
          49
         ]
        },
        {
         "hovertemplate": "<b>N.N.: Herr, dir trau ich all</b><br>Value: 39 Words<br>Link: <a href=\"https://orgelpredigt.ur.de/E100141\">E100141</a><extra></extra>",
         "name": "N.N.: Herr, dir trau ich all",
         "type": "bar",
         "x": [
          "Wörter 1209 bis 1302"
         ],
         "y": [
          39
         ]
        },
        {
         "hovertemplate": "<b>bibel1Kor_14-40</b><br>Value: 5 Words<br>Link: <a href=\"\">1Kor_14-40</a><extra></extra>",
         "name": "bibel1Kor_14-40",
         "type": "bar",
         "x": [
          "Wörter 1209 bis 1302"
         ],
         "y": [
          5
         ]
        },
        {
         "hovertemplate": "<b>bibel1Kor_14-40</b><br>Value: 3 Words<br>Link: <a href=\"\">1Kor_14-40</a><extra></extra>",
         "name": "bibel1Kor_14-40",
         "type": "bar",
         "x": [
          "Wörter 1302 bis 1395"
         ],
         "y": [
          3
         ]
        },
        {
         "hovertemplate": "<b>text</b><br>Value: 88 Words<br>Link: <a href=\"\"></a><extra></extra>",
         "name": "text",
         "type": "bar",
         "x": [
          "Wörter 1302 bis 1395"
         ],
         "y": [
          88
         ]
        },
        {
         "hovertemplate": "<b>bibelGen_4-21</b><br>Value: 2 Words<br>Link: <a href=\"\">Gen_4-21</a><extra></extra>",
         "name": "bibelGen_4-21",
         "type": "bar",
         "x": [
          "Wörter 1302 bis 1395"
         ],
         "y": [
          2
         ]
        },
        {
         "hovertemplate": "<b>bibelGen_4-21</b><br>Value: 10 Words<br>Link: <a href=\"\">Gen_4-21</a><extra></extra>",
         "name": "bibelGen_4-21",
         "type": "bar",
         "x": [
          "Wörter 1395 bis 1488"
         ],
         "y": [
          10
         ]
        },
        {
         "hovertemplate": "<b>text</b><br>Value: 83 Words<br>Link: <a href=\"\"></a><extra></extra>",
         "name": "text",
         "type": "bar",
         "x": [
          "Wörter 1395 bis 1488"
         ],
         "y": [
          83
         ]
        },
        {
         "hovertemplate": "<b>text</b><br>Value: 82 Words<br>Link: <a href=\"\"></a><extra></extra>",
         "name": "text",
         "type": "bar",
         "x": [
          "Wörter 1488 bis 1581"
         ],
         "y": [
          82
         ]
        },
        {
         "hovertemplate": "<b>Gottfried Siegmund Peisker, 1617/12/27 (Merseburg)-1678/10/01 (Zwickau):</b><br>Value: 6 Words<br>Link: <a href=\"https://orgelpredigt.ur.de/E000091\">E000091</a><extra></extra>",
         "name": "Gottfried Siegmund Peisker, 1617/12/27 (Merseburg)-1678/10/01 (Zwickau):",
         "type": "bar",
         "x": [
          "Wörter 1488 bis 1581"
         ],
         "y": [
          6
         ]
        },
        {
         "hovertemplate": "<b>bibelJak_1-17</b><br>Value: 4 Words<br>Link: <a href=\"\">Jak_1-17</a><extra></extra>",
         "name": "bibelJak_1-17",
         "type": "bar",
         "x": [
          "Wörter 1488 bis 1581"
         ],
         "y": [
          4
         ]
        },
        {
         "hovertemplate": "<b>bibelEx_31-3</b><br>Value: 1 Words<br>Link: <a href=\"\">Ex_31-3</a><extra></extra>",
         "name": "bibelEx_31-3",
         "type": "bar",
         "x": [
          "Wörter 1488 bis 1581"
         ],
         "y": [
          1
         ]
        },
        {
         "hovertemplate": "<b>bibelEx_31-3</b><br>Value: 6 Words<br>Link: <a href=\"\">Ex_31-3</a><extra></extra>",
         "name": "bibelEx_31-3",
         "type": "bar",
         "x": [
          "Wörter 1581 bis 1674"
         ],
         "y": [
          6
         ]
        },
        {
         "hovertemplate": "<b>text</b><br>Value: 82 Words<br>Link: <a href=\"\"></a><extra></extra>",
         "name": "text",
         "type": "bar",
         "x": [
          "Wörter 1581 bis 1674"
         ],
         "y": [
          82
         ]
        },
        {
         "hovertemplate": "<b>Mithob, Hector: Psalmodia Christiana (1665)</b><br>Value: 5 Words<br>Link: <a href=\"https://orgelpredigt.ur.de/E080193\">E080193</a><extra></extra>",
         "name": "Mithob, Hector: Psalmodia Christiana (1665)",
         "type": "bar",
         "x": [
          "Wörter 1581 bis 1674"
         ],
         "y": [
          5
         ]
        },
        {
         "hovertemplate": "<b>text</b><br>Value: 93 Words<br>Link: <a href=\"\"></a><extra></extra>",
         "name": "text",
         "type": "bar",
         "x": [
          "Wörter 1674 bis 1767"
         ],
         "y": [
          93
         ]
        },
        {
         "hovertemplate": "<b>text</b><br>Value: 28 Words<br>Link: <a href=\"\"></a><extra></extra>",
         "name": "text",
         "type": "bar",
         "x": [
          "Wörter 1767 bis 1860"
         ],
         "y": [
          28
         ]
        },
        {
         "hovertemplate": "<b>Andreae, Jacob ; Bèze, Théodore de:</b><br>Value: 65 Words<br>Link: <a href=\"https://orgelpredigt.ur.de/E080821\">E080821</a><extra></extra>",
         "name": "Andreae, Jacob ; Bèze, Théodore de:",
         "type": "bar",
         "x": [
          "Wörter 1767 bis 1860"
         ],
         "y": [
          65
         ]
        },
        {
         "hovertemplate": "<b>text</b><br>Value: 42 Words<br>Link: <a href=\"\"></a><extra></extra>",
         "name": "text",
         "type": "bar",
         "x": [
          "Wörter 1860 bis 1953"
         ],
         "y": [
          42
         ]
        },
        {
         "hovertemplate": "<b>anonym: Herr Jesu Christ, dich zu</b><br>Value: 51 Words<br>Link: <a href=\"https://orgelpredigt.ur.de/E100057\">E100057</a><extra></extra>",
         "name": "anonym: Herr Jesu Christ, dich zu",
         "type": "bar",
         "x": [
          "Wörter 1860 bis 1953"
         ],
         "y": [
          51
         ]
        },
        {
         "hovertemplate": "<b>text</b><br>Value: 80 Words<br>Link: <a href=\"\"></a><extra></extra>",
         "name": "text",
         "type": "bar",
         "x": [
          "Wörter 1953 bis 2046"
         ],
         "y": [
          80
         ]
        },
        {
         "hovertemplate": "<b>bibel1Kor_12-4</b><br>Value: 9 Words<br>Link: <a href=\"\">1Kor_12-4</a><extra></extra>",
         "name": "bibel1Kor_12-4",
         "type": "bar",
         "x": [
          "Wörter 1953 bis 2046"
         ],
         "y": [
          9
         ]
        },
        {
         "hovertemplate": "<b>bibel1Tim_1-5</b><br>Value: 4 Words<br>Link: <a href=\"\">1Tim_1-5</a><extra></extra>",
         "name": "bibel1Tim_1-5",
         "type": "bar",
         "x": [
          "Wörter 1953 bis 2046"
         ],
         "y": [
          4
         ]
        },
        {
         "hovertemplate": "<b>text</b><br>Value: 89 Words<br>Link: <a href=\"\"></a><extra></extra>",
         "name": "text",
         "type": "bar",
         "x": [
          "Wörter 2046 bis 2139"
         ],
         "y": [
          89
         ]
        },
        {
         "hovertemplate": "<b>bibel1Kor_13-1</b><br>Value: 4 Words<br>Link: <a href=\"\">1Kor_13-1</a><extra></extra>",
         "name": "bibel1Kor_13-1",
         "type": "bar",
         "x": [
          "Wörter 2046 bis 2139"
         ],
         "y": [
          4
         ]
        },
        {
         "hovertemplate": "<b>text</b><br>Value: 63 Words<br>Link: <a href=\"\"></a><extra></extra>",
         "name": "text",
         "type": "bar",
         "x": [
          "Wörter 2139 bis 2232"
         ],
         "y": [
          63
         ]
        },
        {
         "hovertemplate": "<b>Augustinus, Aurelius ; Coqueau, Léonard (Hrsg.)</b><br>Value: 3 Words<br>Link: <a href=\"https://orgelpredigt.ur.de/E080365\">E080365</a><extra></extra>",
         "name": "Augustinus, Aurelius ; Coqueau, Léonard (Hrsg.)",
         "type": "bar",
         "x": [
          "Wörter 2139 bis 2232"
         ],
         "y": [
          3
         ]
        },
        {
         "hovertemplate": "<b>Nicolai, Philipp: Wie schön leuchtet der</b><br>Value: 26 Words<br>Link: <a href=\"https://orgelpredigt.ur.de/E100022\">E100022</a><extra></extra>",
         "name": "Nicolai, Philipp: Wie schön leuchtet der",
         "type": "bar",
         "x": [
          "Wörter 2139 bis 2232"
         ],
         "y": [
          26
         ]
        },
        {
         "hovertemplate": "<b>bibelJer_31-3</b><br>Value: 1 Words<br>Link: <a href=\"\">Jer_31-3</a><extra></extra>",
         "name": "bibelJer_31-3",
         "type": "bar",
         "x": [
          "Wörter 2139 bis 2232"
         ],
         "y": [
          1
         ]
        },
        {
         "hovertemplate": "<b>bibelJer_31-3</b><br>Value: 3 Words<br>Link: <a href=\"\">Jer_31-3</a><extra></extra>",
         "name": "bibelJer_31-3",
         "type": "bar",
         "x": [
          "Wörter 2232 bis 2325"
         ],
         "y": [
          3
         ]
        },
        {
         "hovertemplate": "<b>text</b><br>Value: 83 Words<br>Link: <a href=\"\"></a><extra></extra>",
         "name": "text",
         "type": "bar",
         "x": [
          "Wörter 2232 bis 2325"
         ],
         "y": [
          83
         ]
        },
        {
         "hovertemplate": "<b>bibelGen_15-11</b><br>Value: 7 Words<br>Link: <a href=\"\">Gen_15-11</a><extra></extra>",
         "name": "bibelGen_15-11",
         "type": "bar",
         "x": [
          "Wörter 2232 bis 2325"
         ],
         "y": [
          7
         ]
        },
        {
         "hovertemplate": "<b>text</b><br>Value: 91 Words<br>Link: <a href=\"\"></a><extra></extra>",
         "name": "text",
         "type": "bar",
         "x": [
          "Wörter 2325 bis 2418"
         ],
         "y": [
          91
         ]
        },
        {
         "hovertemplate": "<b>Augustinus, Aurelius: S. Avrelii Avgvstini Hipponensis</b><br>Value: 1 Words<br>Link: <a href=\"https://orgelpredigt.ur.de/E080366\">E080366</a><extra></extra>",
         "name": "Augustinus, Aurelius: S. Avrelii Avgvstini Hipponensis",
         "type": "bar",
         "x": [
          "Wörter 2325 bis 2418"
         ],
         "y": [
          1
         ]
        },
        {
         "hovertemplate": "<b>Picinelli, Filippo: Mundus Symbolicus (1681)</b><br>Value: 1 Words<br>Link: <a href=\"https://orgelpredigt.ur.de/E080320\">E080320</a><extra></extra>",
         "name": "Picinelli, Filippo: Mundus Symbolicus (1681)",
         "type": "bar",
         "x": [
          "Wörter 2325 bis 2418"
         ],
         "y": [
          1
         ]
        },
        {
         "hovertemplate": "<b>Picinelli, Filippo: Mundus Symbolicus (1681)</b><br>Value: 1 Words<br>Link: <a href=\"https://orgelpredigt.ur.de/E080320\">E080320</a><extra></extra>",
         "name": "Picinelli, Filippo: Mundus Symbolicus (1681)",
         "type": "bar",
         "x": [
          "Wörter 2418 bis 2511"
         ],
         "y": [
          1
         ]
        },
        {
         "hovertemplate": "<b>text</b><br>Value: 73 Words<br>Link: <a href=\"\"></a><extra></extra>",
         "name": "text",
         "type": "bar",
         "x": [
          "Wörter 2418 bis 2511"
         ],
         "y": [
          73
         ]
        },
        {
         "hovertemplate": "<b>bibelApg_4-32</b><br>Value: 6 Words<br>Link: <a href=\"\">Apg_4-32</a><extra></extra>",
         "name": "bibelApg_4-32",
         "type": "bar",
         "x": [
          "Wörter 2418 bis 2511"
         ],
         "y": [
          6
         ]
        },
        {
         "hovertemplate": "<b>Tilesius, Nathanael: Evangeliorum anniversariorum Analysis (1614)</b><br>Value: 10 Words<br>Link: <a href=\"https://orgelpredigt.ur.de/E080822\">E080822</a><extra></extra>",
         "name": "Tilesius, Nathanael: Evangeliorum anniversariorum Analysis (1614)",
         "type": "bar",
         "x": [
          "Wörter 2418 bis 2511"
         ],
         "y": [
          10
         ]
        },
        {
         "hovertemplate": "<b>Augustinus, Aurelius ; Coqueau, Léonard (Hrsg.)</b><br>Value: 3 Words<br>Link: <a href=\"https://orgelpredigt.ur.de/E080365\">E080365</a><extra></extra>",
         "name": "Augustinus, Aurelius ; Coqueau, Léonard (Hrsg.)",
         "type": "bar",
         "x": [
          "Wörter 2418 bis 2511"
         ],
         "y": [
          3
         ]
        },
        {
         "hovertemplate": "<b>text</b><br>Value: 89 Words<br>Link: <a href=\"\"></a><extra></extra>",
         "name": "text",
         "type": "bar",
         "x": [
          "Wörter 2511 bis 2604"
         ],
         "y": [
          89
         ]
        },
        {
         "hovertemplate": "<b>bibel1Petr_4-8</b><br>Value: 4 Words<br>Link: <a href=\"\">1Petr_4-8</a><extra></extra>",
         "name": "bibel1Petr_4-8",
         "type": "bar",
         "x": [
          "Wörter 2511 bis 2604"
         ],
         "y": [
          4
         ]
        },
        {
         "hovertemplate": "<b>text</b><br>Value: 68 Words<br>Link: <a href=\"\"></a><extra></extra>",
         "name": "text",
         "type": "bar",
         "x": [
          "Wörter 2604 bis 2697"
         ],
         "y": [
          68
         ]
        },
        {
         "hovertemplate": "<b>bibel1Sam_16-23</b><br>Value: 25 Words<br>Link: <a href=\"\">1Sam_16-23</a><extra></extra>",
         "name": "bibel1Sam_16-23",
         "type": "bar",
         "x": [
          "Wörter 2604 bis 2697"
         ],
         "y": [
          25
         ]
        },
        {
         "hovertemplate": "<b>text</b><br>Value: 89 Words<br>Link: <a href=\"\"></a><extra></extra>",
         "name": "text",
         "type": "bar",
         "x": [
          "Wörter 2697 bis 2790"
         ],
         "y": [
          89
         ]
        },
        {
         "hovertemplate": "<b>bibel2Sam_6-5</b><br>Value: 4 Words<br>Link: <a href=\"\">2Sam_6-5</a><extra></extra>",
         "name": "bibel2Sam_6-5",
         "type": "bar",
         "x": [
          "Wörter 2697 bis 2790"
         ],
         "y": [
          4
         ]
        },
        {
         "hovertemplate": "<b>text</b><br>Value: 82 Words<br>Link: <a href=\"\"></a><extra></extra>",
         "name": "text",
         "type": "bar",
         "x": [
          "Wörter 2790 bis 2883"
         ],
         "y": [
          82
         ]
        },
        {
         "hovertemplate": "<b>Mithob, Hector: Psalmodia Christiana (1665)</b><br>Value: 11 Words<br>Link: <a href=\"https://orgelpredigt.ur.de/E080193\">E080193</a><extra></extra>",
         "name": "Mithob, Hector: Psalmodia Christiana (1665)",
         "type": "bar",
         "x": [
          "Wörter 2790 bis 2883"
         ],
         "y": [
          11
         ]
        },
        {
         "hovertemplate": "<b>text</b><br>Value: 89 Words<br>Link: <a href=\"\"></a><extra></extra>",
         "name": "text",
         "type": "bar",
         "x": [
          "Wörter 2883 bis 2976"
         ],
         "y": [
          89
         ]
        },
        {
         "hovertemplate": "<b>bibelPs_30-12</b><br>Value: 4 Words<br>Link: <a href=\"\">Ps_30-12</a><extra></extra>",
         "name": "bibelPs_30-12",
         "type": "bar",
         "x": [
          "Wörter 2883 bis 2976"
         ],
         "y": [
          4
         ]
        },
        {
         "hovertemplate": "<b>text</b><br>Value: 81 Words<br>Link: <a href=\"\"></a><extra></extra>",
         "name": "text",
         "type": "bar",
         "x": [
          "Wörter 2976 bis 3069"
         ],
         "y": [
          81
         ]
        },
        {
         "hovertemplate": "<b>bibelJes_5-13</b><br>Value: 12 Words<br>Link: <a href=\"\">Jes_5-13</a><extra></extra>",
         "name": "bibelJes_5-13",
         "type": "bar",
         "x": [
          "Wörter 2976 bis 3069"
         ],
         "y": [
          12
         ]
        },
        {
         "hovertemplate": "<b>text</b><br>Value: 89 Words<br>Link: <a href=\"\"></a><extra></extra>",
         "name": "text",
         "type": "bar",
         "x": [
          "Wörter 3069 bis 3162"
         ],
         "y": [
          89
         ]
        },
        {
         "hovertemplate": "<b>bibelPhil_4-4</b><br>Value: 4 Words<br>Link: <a href=\"\">Phil_4-4</a><extra></extra>",
         "name": "bibelPhil_4-4",
         "type": "bar",
         "x": [
          "Wörter 3069 bis 3162"
         ],
         "y": [
          4
         ]
        },
        {
         "hovertemplate": "<b>text</b><br>Value: 89 Words<br>Link: <a href=\"\"></a><extra></extra>",
         "name": "text",
         "type": "bar",
         "x": [
          "Wörter 3162 bis 3255"
         ],
         "y": [
          89
         ]
        },
        {
         "hovertemplate": "<b>bibelJes_85-1</b><br>Value: 4 Words<br>Link: <a href=\"\">Jes_85-1</a><extra></extra>",
         "name": "bibelJes_85-1",
         "type": "bar",
         "x": [
          "Wörter 3162 bis 3255"
         ],
         "y": [
          4
         ]
        },
        {
         "hovertemplate": "<b>text</b><br>Value: 86 Words<br>Link: <a href=\"\"></a><extra></extra>",
         "name": "text",
         "type": "bar",
         "x": [
          "Wörter 3255 bis 3348"
         ],
         "y": [
          86
         ]
        },
        {
         "hovertemplate": "<b>Luther, Martin: Der Sechste Teil aller</b><br>Value: 3 Words<br>Link: <a href=\"https://orgelpredigt.ur.de/E080433\">E080433</a><extra></extra>",
         "name": "Luther, Martin: Der Sechste Teil aller",
         "type": "bar",
         "x": [
          "Wörter 3255 bis 3348"
         ],
         "y": [
          3
         ]
        },
        {
         "hovertemplate": "<b>bibelRöm_14-17</b><br>Value: 3 Words<br>Link: <a href=\"\">Röm_14-17</a><extra></extra>",
         "name": "bibelRöm_14-17",
         "type": "bar",
         "x": [
          "Wörter 3255 bis 3348"
         ],
         "y": [
          3
         ]
        },
        {
         "hovertemplate": "<b>Valerianus, Ioannes Pierius: Hieroglyphicorvm, ex sacris</b><br>Value: 1 Words<br>Link: <a href=\"https://orgelpredigt.ur.de/E080820\">E080820</a><extra></extra>",
         "name": "Valerianus, Ioannes Pierius: Hieroglyphicorvm, ex sacris",
         "type": "bar",
         "x": [
          "Wörter 3255 bis 3348"
         ],
         "y": [
          1
         ]
        },
        {
         "hovertemplate": "<b>text</b><br>Value: 93 Words<br>Link: <a href=\"\"></a><extra></extra>",
         "name": "text",
         "type": "bar",
         "x": [
          "Wörter 3348 bis 3441"
         ],
         "y": [
          93
         ]
        },
        {
         "hovertemplate": "<b>text</b><br>Value: 56 Words<br>Link: <a href=\"\"></a><extra></extra>",
         "name": "text",
         "type": "bar",
         "x": [
          "Wörter 3441 bis 3534"
         ],
         "y": [
          56
         ]
        },
        {
         "hovertemplate": "<b>bibelJes_24-8</b><br>Value: 19 Words<br>Link: <a href=\"\">Jes_24-8</a><extra></extra>",
         "name": "bibelJes_24-8",
         "type": "bar",
         "x": [
          "Wörter 3441 bis 3534"
         ],
         "y": [
          19
         ]
        },
        {
         "hovertemplate": "<b>bibelEz_26-13</b><br>Value: 18 Words<br>Link: <a href=\"\">Ez_26-13</a><extra></extra>",
         "name": "bibelEz_26-13",
         "type": "bar",
         "x": [
          "Wörter 3441 bis 3534"
         ],
         "y": [
          18
         ]
        },
        {
         "hovertemplate": "<b>text</b><br>Value: 69 Words<br>Link: <a href=\"\"></a><extra></extra>",
         "name": "text",
         "type": "bar",
         "x": [
          "Wörter 3534 bis 3627"
         ],
         "y": [
          69
         ]
        },
        {
         "hovertemplate": "<b>bibelKlgl_5-14</b><br>Value: 24 Words<br>Link: <a href=\"\">Klgl_5-14.15.16</a><extra></extra>",
         "name": "bibelKlgl_5-14",
         "type": "bar",
         "x": [
          "Wörter 3534 bis 3627"
         ],
         "y": [
          24
         ]
        },
        {
         "hovertemplate": "<b>text</b><br>Value: 80 Words<br>Link: <a href=\"\"></a><extra></extra>",
         "name": "text",
         "type": "bar",
         "x": [
          "Wörter 3627 bis 3720"
         ],
         "y": [
          80
         ]
        },
        {
         "hovertemplate": "<b>bibelHebr_6-12</b><br>Value: 4 Words<br>Link: <a href=\"\">Hebr_6-12</a><extra></extra>",
         "name": "bibelHebr_6-12",
         "type": "bar",
         "x": [
          "Wörter 3627 bis 3720"
         ],
         "y": [
          4
         ]
        },
        {
         "hovertemplate": "<b>bibelKoh_3-7</b><br>Value: 5 Words<br>Link: <a href=\"\">Koh_3-7</a><extra></extra>",
         "name": "bibelKoh_3-7",
         "type": "bar",
         "x": [
          "Wörter 3627 bis 3720"
         ],
         "y": [
          5
         ]
        },
        {
         "hovertemplate": "<b>bibelEz_24-16</b><br>Value: 4 Words<br>Link: <a href=\"\">Ez_24-16</a><extra></extra>",
         "name": "bibelEz_24-16",
         "type": "bar",
         "x": [
          "Wörter 3627 bis 3720"
         ],
         "y": [
          4
         ]
        },
        {
         "hovertemplate": "<b>text</b><br>Value: 79 Words<br>Link: <a href=\"\"></a><extra></extra>",
         "name": "text",
         "type": "bar",
         "x": [
          "Wörter 3720 bis 3813"
         ],
         "y": [
          79
         ]
        },
        {
         "hovertemplate": "<b>bibelLev_10-3</b><br>Value: 7 Words<br>Link: <a href=\"\">Lev_10-3</a><extra></extra>",
         "name": "bibelLev_10-3",
         "type": "bar",
         "x": [
          "Wörter 3720 bis 3813"
         ],
         "y": [
          7
         ]
        },
        {
         "hovertemplate": "<b>bibelSir_11-14</b><br>Value: 3 Words<br>Link: <a href=\"\">Sir_11-14</a><extra></extra>",
         "name": "bibelSir_11-14",
         "type": "bar",
         "x": [
          "Wörter 3720 bis 3813"
         ],
         "y": [
          3
         ]
        },
        {
         "hovertemplate": "<b>bibelRöm_8-28</b><br>Value: 4 Words<br>Link: <a href=\"\">Röm_8-28</a><extra></extra>",
         "name": "bibelRöm_8-28",
         "type": "bar",
         "x": [
          "Wörter 3720 bis 3813"
         ],
         "y": [
          4
         ]
        },
        {
         "hovertemplate": "<b>text</b><br>Value: 93 Words<br>Link: <a href=\"\"></a><extra></extra>",
         "name": "text",
         "type": "bar",
         "x": [
          "Wörter 3813 bis 3906"
         ],
         "y": [
          93
         ]
        },
        {
         "hovertemplate": "<b>text</b><br>Value: 75 Words<br>Link: <a href=\"\"></a><extra></extra>",
         "name": "text",
         "type": "bar",
         "x": [
          "Wörter 3906 bis 3999"
         ],
         "y": [
          75
         ]
        },
        {
         "hovertemplate": "<b>bibel2Kor_4-17</b><br>Value: 4 Words<br>Link: <a href=\"\">2Kor_4-17</a><extra></extra>",
         "name": "bibel2Kor_4-17",
         "type": "bar",
         "x": [
          "Wörter 3906 bis 3999"
         ],
         "y": [
          4
         ]
        },
        {
         "hovertemplate": "<b>bibelHebr_10-36</b><br>Value: 14 Words<br>Link: <a href=\"\">Hebr_10-36</a><extra></extra>",
         "name": "bibelHebr_10-36",
         "type": "bar",
         "x": [
          "Wörter 3906 bis 3999"
         ],
         "y": [
          14
         ]
        },
        {
         "hovertemplate": "<b>text</b><br>Value: 84 Words<br>Link: <a href=\"\"></a><extra></extra>",
         "name": "text",
         "type": "bar",
         "x": [
          "Wörter 3999 bis 4092"
         ],
         "y": [
          84
         ]
        },
        {
         "hovertemplate": "<b>bibel1Petr_3-8</b><br>Value: 7 Words<br>Link: <a href=\"\">1Petr_3-8</a><extra></extra>",
         "name": "bibel1Petr_3-8",
         "type": "bar",
         "x": [
          "Wörter 3999 bis 4092"
         ],
         "y": [
          7
         ]
        },
        {
         "hovertemplate": "<b>Bernhardus Clarævallensis: Sancti Patris Bernardi Abbatis</b><br>Value: 2 Words<br>Link: <a href=\"https://orgelpredigt.ur.de/E080823\">E080823</a><extra></extra>",
         "name": "Bernhardus Clarævallensis: Sancti Patris Bernardi Abbatis",
         "type": "bar",
         "x": [
          "Wörter 3999 bis 4092"
         ],
         "y": [
          2
         ]
        },
        {
         "hovertemplate": "<b>text</b><br>Value: 68 Words<br>Link: <a href=\"\"></a><extra></extra>",
         "name": "text",
         "type": "bar",
         "x": [
          "Wörter 4092 bis 4185"
         ],
         "y": [
          68
         ]
        },
        {
         "hovertemplate": "<b>Christoph Friedrich Bucher, 1651/12/30 (Zabeltitz)-1716/03/24 (Rengersdorf):</b><br>Value: 25 Words<br>Link: <a href=\"https://orgelpredigt.ur.de/E000072\">E000072</a><extra></extra>",
         "name": "Christoph Friedrich Bucher, 1651/12/30 (Zabeltitz)-1716/03/24 (Rengersdorf):",
         "type": "bar",
         "x": [
          "Wörter 4092 bis 4185"
         ],
         "y": [
          25
         ]
        },
        {
         "hovertemplate": "<b>text</b><br>Value: 93 Words<br>Link: <a href=\"\"></a><extra></extra>",
         "name": "text",
         "type": "bar",
         "x": [
          "Wörter 4185 bis 4278"
         ],
         "y": [
          93
         ]
        },
        {
         "hovertemplate": "<b>text</b><br>Value: 76 Words<br>Link: <a href=\"\"></a><extra></extra>",
         "name": "text",
         "type": "bar",
         "x": [
          "Wörter 4278 bis 4371"
         ],
         "y": [
          76
         ]
        },
        {
         "hovertemplate": "<b>bibelRöm_15-1</b><br>Value: 17 Words<br>Link: <a href=\"\">Röm_15-1</a><extra></extra>",
         "name": "bibelRöm_15-1",
         "type": "bar",
         "x": [
          "Wörter 4278 bis 4371"
         ],
         "y": [
          17
         ]
        },
        {
         "hovertemplate": "<b>text</b><br>Value: 86 Words<br>Link: <a href=\"\"></a><extra></extra>",
         "name": "text",
         "type": "bar",
         "x": [
          "Wörter 4371 bis 4464"
         ],
         "y": [
          86
         ]
        },
        {
         "hovertemplate": "<b>bibelJer_5-3</b><br>Value: 7 Words<br>Link: <a href=\"\">Jer_5-3</a><extra></extra>",
         "name": "bibelJer_5-3",
         "type": "bar",
         "x": [
          "Wörter 4371 bis 4464"
         ],
         "y": [
          7
         ]
        },
        {
         "hovertemplate": "<b>text</b><br>Value: 83 Words<br>Link: <a href=\"\"></a><extra></extra>",
         "name": "text",
         "type": "bar",
         "x": [
          "Wörter 4464 bis 4557"
         ],
         "y": [
          83
         ]
        },
        {
         "hovertemplate": "<b>bibel1Tim_6-12</b><br>Value: 10 Words<br>Link: <a href=\"\">1Tim_6-12</a><extra></extra>",
         "name": "bibel1Tim_6-12",
         "type": "bar",
         "x": [
          "Wörter 4464 bis 4557"
         ],
         "y": [
          10
         ]
        },
        {
         "hovertemplate": "<b>text</b><br>Value: 72 Words<br>Link: <a href=\"\"></a><extra></extra>",
         "name": "text",
         "type": "bar",
         "x": [
          "Wörter 4557 bis 4650"
         ],
         "y": [
          72
         ]
        },
        {
         "hovertemplate": "<b>bibelEx_25-1</b><br>Value: 7 Words<br>Link: <a href=\"\">Ex_25-1</a><extra></extra>",
         "name": "bibelEx_25-1",
         "type": "bar",
         "x": [
          "Wörter 4557 bis 4650"
         ],
         "y": [
          7
         ]
        },
        {
         "hovertemplate": "<b>bibel1Sam_18-6</b><br>Value: 4 Words<br>Link: <a href=\"\">1Sam_18-6</a><extra></extra>",
         "name": "bibel1Sam_18-6",
         "type": "bar",
         "x": [
          "Wörter 4557 bis 4650"
         ],
         "y": [
          4
         ]
        },
        {
         "hovertemplate": "<b>bibelOffb_14-2</b><br>Value: 5 Words<br>Link: <a href=\"\">Offb_14-2.3</a><extra></extra>",
         "name": "bibelOffb_14-2",
         "type": "bar",
         "x": [
          "Wörter 4557 bis 4650"
         ],
         "y": [
          5
         ]
        },
        {
         "hovertemplate": "<b>bibel1Joh_5-4</b><br>Value: 5 Words<br>Link: <a href=\"\">1Joh_5-4</a><extra></extra>",
         "name": "bibel1Joh_5-4",
         "type": "bar",
         "x": [
          "Wörter 4557 bis 4650"
         ],
         "y": [
          5
         ]
        },
        {
         "hovertemplate": "<b>text</b><br>Value: 93 Words<br>Link: <a href=\"\"></a><extra></extra>",
         "name": "text",
         "type": "bar",
         "x": [
          "Wörter 4650 bis 4743"
         ],
         "y": [
          93
         ]
        },
        {
         "hovertemplate": "<b>text</b><br>Value: 93 Words<br>Link: <a href=\"\"></a><extra></extra>",
         "name": "text",
         "type": "bar",
         "x": [
          "Wörter 4743 bis 4836"
         ],
         "y": [
          93
         ]
        },
        {
         "hovertemplate": "<b>text</b><br>Value: 89 Words<br>Link: <a href=\"\"></a><extra></extra>",
         "name": "text",
         "type": "bar",
         "x": [
          "Wörter 4836 bis 4929"
         ],
         "y": [
          89
         ]
        },
        {
         "hovertemplate": "<b>bibelPs_16-11</b><br>Value: 4 Words<br>Link: <a href=\"\">Ps_16-11</a><extra></extra>",
         "name": "bibelPs_16-11",
         "type": "bar",
         "x": [
          "Wörter 4836 bis 4929"
         ],
         "y": [
          4
         ]
        },
        {
         "hovertemplate": "<b>text</b><br>Value: 85 Words<br>Link: <a href=\"\"></a><extra></extra>",
         "name": "text",
         "type": "bar",
         "x": [
          "Wörter 4929 bis 5022"
         ],
         "y": [
          85
         ]
        },
        {
         "hovertemplate": "<b>bibel2Kön_3-15</b><br>Value: 8 Words<br>Link: <a href=\"\">2Kön_3-15</a><extra></extra>",
         "name": "bibel2Kön_3-15",
         "type": "bar",
         "x": [
          "Wörter 4929 bis 5022"
         ],
         "y": [
          8
         ]
        },
        {
         "hovertemplate": "<b>text</b><br>Value: 93 Words<br>Link: <a href=\"\"></a><extra></extra>",
         "name": "text",
         "type": "bar",
         "x": [
          "Wörter 5022 bis 5115"
         ],
         "y": [
          93
         ]
        },
        {
         "hovertemplate": "<b>text</b><br>Value: 76 Words<br>Link: <a href=\"\"></a><extra></extra>",
         "name": "text",
         "type": "bar",
         "x": [
          "Wörter 5115 bis 5208"
         ],
         "y": [
          76
         ]
        },
        {
         "hovertemplate": "<b>Beda Venerabilis ; Migne, Jacques Paul</b><br>Value: 14 Words<br>Link: <a href=\"https://orgelpredigt.ur.de/E090981\">E090981</a><extra></extra>",
         "name": "Beda Venerabilis ; Migne, Jacques Paul",
         "type": "bar",
         "x": [
          "Wörter 5115 bis 5208"
         ],
         "y": [
          14
         ]
        },
        {
         "hovertemplate": "<b>Picinelli, Filippo: Mundus Symbolicus (1681)</b><br>Value: 3 Words<br>Link: <a href=\"https://orgelpredigt.ur.de/E080320\">E080320</a><extra></extra>",
         "name": "Picinelli, Filippo: Mundus Symbolicus (1681)",
         "type": "bar",
         "x": [
          "Wörter 5115 bis 5208"
         ],
         "y": [
          3
         ]
        },
        {
         "hovertemplate": "<b>text</b><br>Value: 77 Words<br>Link: <a href=\"\"></a><extra></extra>",
         "name": "text",
         "type": "bar",
         "x": [
          "Wörter 5208 bis 5301"
         ],
         "y": [
          77
         ]
        },
        {
         "hovertemplate": "<b>Christian Masecovius, 1673/03/06 (Königsberg (Preußen))-1732/08/07 (Königsberg</b><br>Value: 3 Words<br>Link: <a href=\"https://orgelpredigt.ur.de/E000051\">E000051</a><extra></extra>",
         "name": "Christian Masecovius, 1673/03/06 (Königsberg (Preußen))-1732/08/07 (Königsberg",
         "type": "bar",
         "x": [
          "Wörter 5208 bis 5301"
         ],
         "y": [
          3
         ]
        },
        {
         "hovertemplate": "<b>bibelJes_57-16</b><br>Value: 13 Words<br>Link: <a href=\"\">Jes_57-16</a><extra></extra>",
         "name": "bibelJes_57-16",
         "type": "bar",
         "x": [
          "Wörter 5208 bis 5301"
         ],
         "y": [
          13
         ]
        },
        {
         "hovertemplate": "<b>text</b><br>Value: 76 Words<br>Link: <a href=\"\"></a><extra></extra>",
         "name": "text",
         "type": "bar",
         "x": [
          "Wörter 5301 bis 5394"
         ],
         "y": [
          76
         ]
        },
        {
         "hovertemplate": "<b>bibelLk_11-20</b><br>Value: 17 Words<br>Link: <a href=\"\">Lk_11-20</a><extra></extra>",
         "name": "bibelLk_11-20",
         "type": "bar",
         "x": [
          "Wörter 5301 bis 5394"
         ],
         "y": [
          17
         ]
        },
        {
         "hovertemplate": "<b>text</b><br>Value: 71 Words<br>Link: <a href=\"\"></a><extra></extra>",
         "name": "text",
         "type": "bar",
         "x": [
          "Wörter 5394 bis 5487"
         ],
         "y": [
          71
         ]
        },
        {
         "hovertemplate": "<b>bibelEph_5-18</b><br>Value: 22 Words<br>Link: <a href=\"\">Eph_5-18.19</a><extra></extra>",
         "name": "bibelEph_5-18",
         "type": "bar",
         "x": [
          "Wörter 5394 bis 5487"
         ],
         "y": [
          22
         ]
        },
        {
         "hovertemplate": "<b>text</b><br>Value: 93 Words<br>Link: <a href=\"\"></a><extra></extra>",
         "name": "text",
         "type": "bar",
         "x": [
          "Wörter 5487 bis 5580"
         ],
         "y": [
          93
         ]
        },
        {
         "hovertemplate": "<b>text</b><br>Value: 77 Words<br>Link: <a href=\"\"></a><extra></extra>",
         "name": "text",
         "type": "bar",
         "x": [
          "Wörter 5580 bis 5673"
         ],
         "y": [
          77
         ]
        },
        {
         "hovertemplate": "<b>bibelGal_5-24</b><br>Value: 12 Words<br>Link: <a href=\"\">Gal_5-24</a><extra></extra>",
         "name": "bibelGal_5-24",
         "type": "bar",
         "x": [
          "Wörter 5580 bis 5673"
         ],
         "y": [
          12
         ]
        },
        {
         "hovertemplate": "<b>bibelRöm_8-13</b><br>Value: 4 Words<br>Link: <a href=\"\">Röm_8-13</a><extra></extra>",
         "name": "bibelRöm_8-13",
         "type": "bar",
         "x": [
          "Wörter 5580 bis 5673"
         ],
         "y": [
          4
         ]
        },
        {
         "hovertemplate": "<b>text</b><br>Value: 89 Words<br>Link: <a href=\"\"></a><extra></extra>",
         "name": "text",
         "type": "bar",
         "x": [
          "Wörter 5673 bis 5766"
         ],
         "y": [
          89
         ]
        },
        {
         "hovertemplate": "<b>bibelPs_110-3</b><br>Value: 4 Words<br>Link: <a href=\"\">Ps_110-3</a><extra></extra>",
         "name": "bibelPs_110-3",
         "type": "bar",
         "x": [
          "Wörter 5673 bis 5766"
         ],
         "y": [
          4
         ]
        },
        {
         "hovertemplate": "<b>bibel1Tim_1-9</b><br>Value: 5 Words<br>Link: <a href=\"\">1Tim_1-9</a><extra></extra>",
         "name": "bibel1Tim_1-9",
         "type": "bar",
         "x": [
          "Wörter 5766 bis 5859"
         ],
         "y": [
          5
         ]
        },
        {
         "hovertemplate": "<b>text</b><br>Value: 84 Words<br>Link: <a href=\"\"></a><extra></extra>",
         "name": "text",
         "type": "bar",
         "x": [
          "Wörter 5766 bis 5859"
         ],
         "y": [
          84
         ]
        },
        {
         "hovertemplate": "<b>bibelRöm_8-4</b><br>Value: 4 Words<br>Link: <a href=\"\">Röm_8-4</a><extra></extra>",
         "name": "bibelRöm_8-4",
         "type": "bar",
         "x": [
          "Wörter 5766 bis 5859"
         ],
         "y": [
          4
         ]
        },
        {
         "hovertemplate": "<b>text</b><br>Value: 74 Words<br>Link: <a href=\"\"></a><extra></extra>",
         "name": "text",
         "type": "bar",
         "x": [
          "Wörter 5859 bis 5952"
         ],
         "y": [
          74
         ]
        },
        {
         "hovertemplate": "<b>bibelPs_22-4</b><br>Value: 4 Words<br>Link: <a href=\"\">Ps_22-4</a><extra></extra>",
         "name": "bibelPs_22-4",
         "type": "bar",
         "x": [
          "Wörter 5859 bis 5952"
         ],
         "y": [
          4
         ]
        },
        {
         "hovertemplate": "<b>bibelAm_5-23</b><br>Value: 15 Words<br>Link: <a href=\"\">Am_5-23</a><extra></extra>",
         "name": "bibelAm_5-23",
         "type": "bar",
         "x": [
          "Wörter 5859 bis 5952"
         ],
         "y": [
          15
         ]
        },
        {
         "hovertemplate": "<b>text</b><br>Value: 74 Words<br>Link: <a href=\"\"></a><extra></extra>",
         "name": "text",
         "type": "bar",
         "x": [
          "Wörter 5952 bis 6045"
         ],
         "y": [
          74
         ]
        },
        {
         "hovertemplate": "<b>bibel2Chr_29-25</b><br>Value: 5 Words<br>Link: <a href=\"\">2Chr_29-25</a><extra></extra>",
         "name": "bibel2Chr_29-25",
         "type": "bar",
         "x": [
          "Wörter 5952 bis 6045"
         ],
         "y": [
          5
         ]
        },
        {
         "hovertemplate": "<b>Hospinianus, Rodolphus: De templis: hoc est,</b><br>Value: 14 Words<br>Link: <a href=\"https://orgelpredigt.ur.de/E080767\">E080767</a><extra></extra>",
         "name": "Hospinianus, Rodolphus: De templis: hoc est,",
         "type": "bar",
         "x": [
          "Wörter 5952 bis 6045"
         ],
         "y": [
          14
         ]
        },
        {
         "hovertemplate": "<b>text</b><br>Value: 93 Words<br>Link: <a href=\"\"></a><extra></extra>",
         "name": "text",
         "type": "bar",
         "x": [
          "Wörter 6045 bis 6138"
         ],
         "y": [
          93
         ]
        },
        {
         "hovertemplate": "<b>text</b><br>Value: 78 Words<br>Link: <a href=\"\"></a><extra></extra>",
         "name": "text",
         "type": "bar",
         "x": [
          "Wörter 6138 bis 6231"
         ],
         "y": [
          78
         ]
        },
        {
         "hovertemplate": "<b>bibelEx_19-16</b><br>Value: 7 Words<br>Link: <a href=\"\">Ex_19-16</a><extra></extra>",
         "name": "bibelEx_19-16",
         "type": "bar",
         "x": [
          "Wörter 6138 bis 6231"
         ],
         "y": [
          7
         ]
        },
        {
         "hovertemplate": "<b>bibelPs_47-6</b><br>Value: 8 Words<br>Link: <a href=\"\">Ps_47-6</a><extra></extra>",
         "name": "bibelPs_47-6",
         "type": "bar",
         "x": [
          "Wörter 6138 bis 6231"
         ],
         "y": [
          8
         ]
        },
        {
         "hovertemplate": "<b>text</b><br>Value: 90 Words<br>Link: <a href=\"\"></a><extra></extra>",
         "name": "text",
         "type": "bar",
         "x": [
          "Wörter 6231 bis 6324"
         ],
         "y": [
          90
         ]
        },
        {
         "hovertemplate": "<b>bibelBar_4-4</b><br>Value: 3 Words<br>Link: <a href=\"\">Bar_4-4</a><extra></extra>",
         "name": "bibelBar_4-4",
         "type": "bar",
         "x": [
          "Wörter 6231 bis 6324"
         ],
         "y": [
          3
         ]
        },
        {
         "hovertemplate": "<b>text</b><br>Value: 90 Words<br>Link: <a href=\"\"></a><extra></extra>",
         "name": "text",
         "type": "bar",
         "x": [
          "Wörter 6324 bis 6417"
         ],
         "y": [
          90
         ]
        },
        {
         "hovertemplate": "<b>bibelPs_92-5</b><br>Value: 3 Words<br>Link: <a href=\"\">Ps_92-5</a><extra></extra>",
         "name": "bibelPs_92-5",
         "type": "bar",
         "x": [
          "Wörter 6324 bis 6417"
         ],
         "y": [
          3
         ]
        },
        {
         "hovertemplate": "<b>bibelPs_92-5</b><br>Value: 2 Words<br>Link: <a href=\"\">Ps_92-5</a><extra></extra>",
         "name": "bibelPs_92-5",
         "type": "bar",
         "x": [
          "Wörter 6417 bis 6510"
         ],
         "y": [
          2
         ]
        },
        {
         "hovertemplate": "<b>text</b><br>Value: 18 Words<br>Link: <a href=\"\"></a><extra></extra>",
         "name": "text",
         "type": "bar",
         "x": [
          "Wörter 6417 bis 6510"
         ],
         "y": [
          18
         ]
        },
        {
         "hovertemplate": "<b>bibelPs_29-1</b><br>Value: 26 Words<br>Link: <a href=\"\">Ps_29-1.2</a><extra></extra>",
         "name": "bibelPs_29-1",
         "type": "bar",
         "x": [
          "Wörter 6417 bis 6510"
         ],
         "y": [
          26
         ]
        },
        {
         "hovertemplate": "<b>N.N.: Lobe Gott, lobe Gott, mein</b><br>Value: 47 Words<br>Link: <a href=\"https://orgelpredigt.ur.de/E100140\">E100140</a><extra></extra>",
         "name": "N.N.: Lobe Gott, lobe Gott, mein",
         "type": "bar",
         "x": [
          "Wörter 6417 bis 6510"
         ],
         "y": [
          47
         ]
        },
        {
         "hovertemplate": "<b>text</b><br>Value: 52 Words<br>Link: <a href=\"\"></a><extra></extra>",
         "name": "text",
         "type": "bar",
         "x": [
          "Wörter 6510 bis 6603"
         ],
         "y": [
          52
         ]
        },
        {
         "hovertemplate": "<b>bibelLk_2-14</b><br>Value: 10 Words<br>Link: <a href=\"\">Lk_2-14</a><extra></extra>",
         "name": "bibelLk_2-14",
         "type": "bar",
         "x": [
          "Wörter 6510 bis 6603"
         ],
         "y": [
          10
         ]
        },
        {
         "hovertemplate": "<b>bibelKol_3-16</b><br>Value: 31 Words<br>Link: <a href=\"\">Kol_3-16</a><extra></extra>",
         "name": "bibelKol_3-16",
         "type": "bar",
         "x": [
          "Wörter 6510 bis 6603"
         ],
         "y": [
          31
         ]
        },
        {
         "hovertemplate": "<b>text</b><br>Value: 63 Words<br>Link: <a href=\"\"></a><extra></extra>",
         "name": "text",
         "type": "bar",
         "x": [
          "Wörter 6603 bis 6696"
         ],
         "y": [
          63
         ]
        },
        {
         "hovertemplate": "<b>bibelEx_28-35</b><br>Value: 5 Words<br>Link: <a href=\"\">Ex_28-35</a><extra></extra>",
         "name": "bibelEx_28-35",
         "type": "bar",
         "x": [
          "Wörter 6603 bis 6696"
         ],
         "y": [
          5
         ]
        },
        {
         "hovertemplate": "<b>anonym: In dulci jubilo</b><br>Value: 25 Words<br>Link: <a href=\"https://orgelpredigt.ur.de/E100017\">E100017</a><extra></extra>",
         "name": "anonym: In dulci jubilo",
         "type": "bar",
         "x": [
          "Wörter 6603 bis 6696"
         ],
         "y": [
          25
         ]
        },
        {
         "hovertemplate": "<b>text</b><br>Value: 84 Words<br>Link: <a href=\"\"></a><extra></extra>",
         "name": "text",
         "type": "bar",
         "x": [
          "Wörter 6696 bis 6789"
         ],
         "y": [
          84
         ]
        },
        {
         "hovertemplate": "<b>bibelIjob_30-31</b><br>Value: 9 Words<br>Link: <a href=\"\">Ijob_30-31</a><extra></extra>",
         "name": "bibelIjob_30-31",
         "type": "bar",
         "x": [
          "Wörter 6696 bis 6789"
         ],
         "y": [
          9
         ]
        },
        {
         "hovertemplate": "<b>bibelIjob_30-31</b><br>Value: 2 Words<br>Link: <a href=\"\">Ijob_30-31</a><extra></extra>",
         "name": "bibelIjob_30-31",
         "type": "bar",
         "x": [
          "Wörter 6789 bis 6882"
         ],
         "y": [
          2
         ]
        },
        {
         "hovertemplate": "<b>text</b><br>Value: 73 Words<br>Link: <a href=\"\"></a><extra></extra>",
         "name": "text",
         "type": "bar",
         "x": [
          "Wörter 6789 bis 6882"
         ],
         "y": [
          73
         ]
        },
        {
         "hovertemplate": "<b>bibelIjob_3-24</b><br>Value: 14 Words<br>Link: <a href=\"\">Ijob_3-24</a><extra></extra>",
         "name": "bibelIjob_3-24",
         "type": "bar",
         "x": [
          "Wörter 6789 bis 6882"
         ],
         "y": [
          14
         ]
        },
        {
         "hovertemplate": "<b>bibelJes_61-10</b><br>Value: 4 Words<br>Link: <a href=\"\">Jes_61-10</a><extra></extra>",
         "name": "bibelJes_61-10",
         "type": "bar",
         "x": [
          "Wörter 6789 bis 6882"
         ],
         "y": [
          4
         ]
        },
        {
         "hovertemplate": "<b>text</b><br>Value: 52 Words<br>Link: <a href=\"\"></a><extra></extra>",
         "name": "text",
         "type": "bar",
         "x": [
          "Wörter 6882 bis 6975"
         ],
         "y": [
          52
         ]
        },
        {
         "hovertemplate": "<b>Crüger, Johann: Jesu, meine Freude</b><br>Value: 37 Words<br>Link: <a href=\"https://orgelpredigt.ur.de/E100067\">E100067</a><extra></extra>",
         "name": "Crüger, Johann: Jesu, meine Freude",
         "type": "bar",
         "x": [
          "Wörter 6882 bis 6975"
         ],
         "y": [
          37
         ]
        },
        {
         "hovertemplate": "<b>bibelPs_2-11</b><br>Value: 4 Words<br>Link: <a href=\"\">Ps_2-11</a><extra></extra>",
         "name": "bibelPs_2-11",
         "type": "bar",
         "x": [
          "Wörter 6882 bis 6975"
         ],
         "y": [
          4
         ]
        },
        {
         "hovertemplate": "<b>text</b><br>Value: 48 Words<br>Link: <a href=\"\"></a><extra></extra>",
         "name": "text",
         "type": "bar",
         "x": [
          "Wörter 6975 bis 7068"
         ],
         "y": [
          48
         ]
        },
        {
         "hovertemplate": "<b>bibelPhil_2-12</b><br>Value: 3 Words<br>Link: <a href=\"\">Phil_2-12</a><extra></extra>",
         "name": "bibelPhil_2-12",
         "type": "bar",
         "x": [
          "Wörter 6975 bis 7068"
         ],
         "y": [
          3
         ]
        },
        {
         "hovertemplate": "<b>bibel1Kor_15-52</b><br>Value: 5 Words<br>Link: <a href=\"\">1Kor_15-52</a><extra></extra>",
         "name": "bibel1Kor_15-52",
         "type": "bar",
         "x": [
          "Wörter 6975 bis 7068"
         ],
         "y": [
          5
         ]
        },
        {
         "hovertemplate": "<b>N.N.: Ich bin ja, Herr, in</b><br>Value: 9 Words<br>Link: <a href=\"https://orgelpredigt.ur.de/E100138\">E100138</a><extra></extra>",
         "name": "N.N.: Ich bin ja, Herr, in",
         "type": "bar",
         "x": [
          "Wörter 6975 bis 7068"
         ],
         "y": [
          9
         ]
        },
        {
         "hovertemplate": "<b>N.N.: Ich steh‘ in Angst und</b><br>Value: 28 Words<br>Link: <a href=\"https://orgelpredigt.ur.de/E100139\">E100139</a><extra></extra>",
         "name": "N.N.: Ich steh‘ in Angst und",
         "type": "bar",
         "x": [
          "Wörter 6975 bis 7068"
         ],
         "y": [
          28
         ]
        },
        {
         "hovertemplate": "<b>text</b><br>Value: 62 Words<br>Link: <a href=\"\"></a><extra></extra>",
         "name": "text",
         "type": "bar",
         "x": [
          "Wörter 7068 bis 7161"
         ],
         "y": [
          62
         ]
        },
        {
         "hovertemplate": "<b>N.N.: Treuer Gott ich muß dir</b><br>Value: 27 Words<br>Link: <a href=\"https://orgelpredigt.ur.de/E100132\">E100132</a><extra></extra>",
         "name": "N.N.: Treuer Gott ich muß dir",
         "type": "bar",
         "x": [
          "Wörter 7068 bis 7161"
         ],
         "y": [
          27
         ]
        },
        {
         "hovertemplate": "<b>bibelPs_68-31</b><br>Value: 4 Words<br>Link: <a href=\"\">Ps_68-31</a><extra></extra>",
         "name": "bibelPs_68-31",
         "type": "bar",
         "x": [
          "Wörter 7068 bis 7161"
         ],
         "y": [
          4
         ]
        },
        {
         "hovertemplate": "<b>text</b><br>Value: 82 Words<br>Link: <a href=\"\"></a><extra></extra>",
         "name": "text",
         "type": "bar",
         "x": [
          "Wörter 7161 bis 7254"
         ],
         "y": [
          82
         ]
        },
        {
         "hovertemplate": "<b>bibelPs_69-2</b><br>Value: 11 Words<br>Link: <a href=\"\">Ps_69-2</a><extra></extra>",
         "name": "bibelPs_69-2",
         "type": "bar",
         "x": [
          "Wörter 7161 bis 7254"
         ],
         "y": [
          11
         ]
        },
        {
         "hovertemplate": "<b>text</b><br>Value: 70 Words<br>Link: <a href=\"\"></a><extra></extra>",
         "name": "text",
         "type": "bar",
         "x": [
          "Wörter 7254 bis 7347"
         ],
         "y": [
          70
         ]
        },
        {
         "hovertemplate": "<b>bibelHos_6-2</b><br>Value: 19 Words<br>Link: <a href=\"\">Hos_6-2</a><extra></extra>",
         "name": "bibelHos_6-2",
         "type": "bar",
         "x": [
          "Wörter 7254 bis 7347"
         ],
         "y": [
          19
         ]
        },
        {
         "hovertemplate": "<b>bibelMt_11-29</b><br>Value: 4 Words<br>Link: <a href=\"\">Mt_11-29</a><extra></extra>",
         "name": "bibelMt_11-29",
         "type": "bar",
         "x": [
          "Wörter 7254 bis 7347"
         ],
         "y": [
          4
         ]
        },
        {
         "hovertemplate": "<b>text</b><br>Value: 87 Words<br>Link: <a href=\"\"></a><extra></extra>",
         "name": "text",
         "type": "bar",
         "x": [
          "Wörter 7347 bis 7440"
         ],
         "y": [
          87
         ]
        },
        {
         "hovertemplate": "<b>bibelHebr_11-6</b><br>Value: 6 Words<br>Link: <a href=\"\">Hebr_11-6</a><extra></extra>",
         "name": "bibelHebr_11-6",
         "type": "bar",
         "x": [
          "Wörter 7347 bis 7440"
         ],
         "y": [
          6
         ]
        },
        {
         "hovertemplate": "<b>text</b><br>Value: 84 Words<br>Link: <a href=\"\"></a><extra></extra>",
         "name": "text",
         "type": "bar",
         "x": [
          "Wörter 7440 bis 7533"
         ],
         "y": [
          84
         ]
        },
        {
         "hovertemplate": "<b>bibel1Sam_16-7</b><br>Value: 4 Words<br>Link: <a href=\"\">1Sam_16-7</a><extra></extra>",
         "name": "bibel1Sam_16-7",
         "type": "bar",
         "x": [
          "Wörter 7440 bis 7533"
         ],
         "y": [
          4
         ]
        },
        {
         "hovertemplate": "<b>bibel2Kor_11-2</b><br>Value: 5 Words<br>Link: <a href=\"\">2Kor_11-2</a><extra></extra>",
         "name": "bibel2Kor_11-2",
         "type": "bar",
         "x": [
          "Wörter 7440 bis 7533"
         ],
         "y": [
          5
         ]
        },
        {
         "hovertemplate": "<b>text</b><br>Value: 78 Words<br>Link: <a href=\"\"></a><extra></extra>",
         "name": "text",
         "type": "bar",
         "x": [
          "Wörter 7533 bis 7626"
         ],
         "y": [
          78
         ]
        },
        {
         "hovertemplate": "<b>bibelRöm_13-12</b><br>Value: 5 Words<br>Link: <a href=\"\">Röm_13-12.13</a><extra></extra>",
         "name": "bibelRöm_13-12",
         "type": "bar",
         "x": [
          "Wörter 7533 bis 7626"
         ],
         "y": [
          5
         ]
        },
        {
         "hovertemplate": "<b>bibelRöm_8-14</b><br>Value: 10 Words<br>Link: <a href=\"\">Röm_8-14</a><extra></extra>",
         "name": "bibelRöm_8-14",
         "type": "bar",
         "x": [
          "Wörter 7533 bis 7626"
         ],
         "y": [
          10
         ]
        },
        {
         "hovertemplate": "<b>text</b><br>Value: 93 Words<br>Link: <a href=\"\"></a><extra></extra>",
         "name": "text",
         "type": "bar",
         "x": [
          "Wörter 7626 bis 7719"
         ],
         "y": [
          93
         ]
        },
        {
         "hovertemplate": "<b>text</b><br>Value: 90 Words<br>Link: <a href=\"\"></a><extra></extra>",
         "name": "text",
         "type": "bar",
         "x": [
          "Wörter 7719 bis 7812"
         ],
         "y": [
          90
         ]
        },
        {
         "hovertemplate": "<b>Christian Masecovius, 1673/03/06 (Königsberg (Preußen))-1732/08/07 (Königsberg</b><br>Value: 3 Words<br>Link: <a href=\"https://orgelpredigt.ur.de/E000051\">E000051</a><extra></extra>",
         "name": "Christian Masecovius, 1673/03/06 (Königsberg (Preußen))-1732/08/07 (Königsberg",
         "type": "bar",
         "x": [
          "Wörter 7719 bis 7812"
         ],
         "y": [
          3
         ]
        },
        {
         "hovertemplate": "<b>text</b><br>Value: 93 Words<br>Link: <a href=\"\"></a><extra></extra>",
         "name": "text",
         "type": "bar",
         "x": [
          "Wörter 7812 bis 7905"
         ],
         "y": [
          93
         ]
        },
        {
         "hovertemplate": "<b>text</b><br>Value: 93 Words<br>Link: <a href=\"\"></a><extra></extra>",
         "name": "text",
         "type": "bar",
         "x": [
          "Wörter 7905 bis 7998"
         ],
         "y": [
          93
         ]
        },
        {
         "hovertemplate": "<b>text</b><br>Value: 83 Words<br>Link: <a href=\"\"></a><extra></extra>",
         "name": "text",
         "type": "bar",
         "x": [
          "Wörter 7998 bis 8091"
         ],
         "y": [
          83
         ]
        },
        {
         "hovertemplate": "<b>bibelPs_115-12</b><br>Value: 6 Words<br>Link: <a href=\"\">Ps_115-12.14.15</a><extra></extra>",
         "name": "bibelPs_115-12",
         "type": "bar",
         "x": [
          "Wörter 7998 bis 8091"
         ],
         "y": [
          6
         ]
        },
        {
         "hovertemplate": "<b>bibelIjob_10-12</b><br>Value: 4 Words<br>Link: <a href=\"\">Ijob_10-12</a><extra></extra>",
         "name": "bibelIjob_10-12",
         "type": "bar",
         "x": [
          "Wörter 7998 bis 8091"
         ],
         "y": [
          4
         ]
        },
        {
         "hovertemplate": "<b>text</b><br>Value: 93 Words<br>Link: <a href=\"\"></a><extra></extra>",
         "name": "text",
         "type": "bar",
         "x": [
          "Wörter 8091 bis 8184"
         ],
         "y": [
          93
         ]
        },
        {
         "hovertemplate": "<b>text</b><br>Value: 85 Words<br>Link: <a href=\"\"></a><extra></extra>",
         "name": "text",
         "type": "bar",
         "x": [
          "Wörter 8184 bis 8277"
         ],
         "y": [
          85
         ]
        },
        {
         "hovertemplate": "<b>bibel1Kor_4-5</b><br>Value: 5 Words<br>Link: <a href=\"\">1Kor_4-5</a><extra></extra>",
         "name": "bibel1Kor_4-5",
         "type": "bar",
         "x": [
          "Wörter 8184 bis 8277"
         ],
         "y": [
          5
         ]
        },
        {
         "hovertemplate": "<b>bibelSpr_3-9</b><br>Value: 3 Words<br>Link: <a href=\"\">Spr_3-9</a><extra></extra>",
         "name": "bibelSpr_3-9",
         "type": "bar",
         "x": [
          "Wörter 8184 bis 8277"
         ],
         "y": [
          3
         ]
        },
        {
         "hovertemplate": "<b>bibelSpr_3-9</b><br>Value: 2 Words<br>Link: <a href=\"\">Spr_3-9</a><extra></extra>",
         "name": "bibelSpr_3-9",
         "type": "bar",
         "x": [
          "Wörter 8277 bis 8370"
         ],
         "y": [
          2
         ]
        },
        {
         "hovertemplate": "<b>text</b><br>Value: 88 Words<br>Link: <a href=\"\"></a><extra></extra>",
         "name": "text",
         "type": "bar",
         "x": [
          "Wörter 8277 bis 8370"
         ],
         "y": [
          88
         ]
        },
        {
         "hovertemplate": "<b>bibelRut_2-12</b><br>Value: 3 Words<br>Link: <a href=\"\">Rut_2-12</a><extra></extra>",
         "name": "bibelRut_2-12",
         "type": "bar",
         "x": [
          "Wörter 8277 bis 8370"
         ],
         "y": [
          3
         ]
        },
        {
         "hovertemplate": "<b>text</b><br>Value: 83 Words<br>Link: <a href=\"\"></a><extra></extra>",
         "name": "text",
         "type": "bar",
         "x": [
          "Wörter 8370 bis 8463"
         ],
         "y": [
          83
         ]
        },
        {
         "hovertemplate": "<b>bibelSir_50-25</b><br>Value: 5 Words<br>Link: <a href=\"\">Sir_50-25.26</a><extra></extra>",
         "name": "bibelSir_50-25",
         "type": "bar",
         "x": [
          "Wörter 8370 bis 8463"
         ],
         "y": [
          5
         ]
        },
        {
         "hovertemplate": "<b>bibelPs_133</b><br>Value: 5 Words<br>Link: <a href=\"\">Ps_133</a><extra></extra>",
         "name": "bibelPs_133",
         "type": "bar",
         "x": [
          "Wörter 8370 bis 8463"
         ],
         "y": [
          5
         ]
        },
        {
         "hovertemplate": "<b>text</b><br>Value: 80 Words<br>Link: <a href=\"\"></a><extra></extra>",
         "name": "text",
         "type": "bar",
         "x": [
          "Wörter 8463 bis 8556"
         ],
         "y": [
          80
         ]
        },
        {
         "hovertemplate": "<b>bibelPs_90-17</b><br>Value: 8 Words<br>Link: <a href=\"\">Ps_90-17</a><extra></extra>",
         "name": "bibelPs_90-17",
         "type": "bar",
         "x": [
          "Wörter 8463 bis 8556"
         ],
         "y": [
          8
         ]
        },
        {
         "hovertemplate": "<b>bibelPs_90-16</b><br>Value: 5 Words<br>Link: <a href=\"\">Ps_90-16.17</a><extra></extra>",
         "name": "bibelPs_90-16",
         "type": "bar",
         "x": [
          "Wörter 8463 bis 8556"
         ],
         "y": [
          5
         ]
        },
        {
         "hovertemplate": "<b>text</b><br>Value: 84 Words<br>Link: <a href=\"\"></a><extra></extra>",
         "name": "text",
         "type": "bar",
         "x": [
          "Wörter 8556 bis 8649"
         ],
         "y": [
          84
         ]
        },
        {
         "hovertemplate": "<b>bibelIjob_38-7</b><br>Value: 4 Words<br>Link: <a href=\"\">Ijob_38-7</a><extra></extra>",
         "name": "bibelIjob_38-7",
         "type": "bar",
         "x": [
          "Wörter 8556 bis 8649"
         ],
         "y": [
          4
         ]
        },
        {
         "hovertemplate": "<b>bibelJer_15-16</b><br>Value: 5 Words<br>Link: <a href=\"\">Jer_15-16</a><extra></extra>",
         "name": "bibelJer_15-16",
         "type": "bar",
         "x": [
          "Wörter 8556 bis 8649"
         ],
         "y": [
          5
         ]
        },
        {
         "hovertemplate": "<b>text</b><br>Value: 89 Words<br>Link: <a href=\"\"></a><extra></extra>",
         "name": "text",
         "type": "bar",
         "x": [
          "Wörter 8649 bis 8742"
         ],
         "y": [
          89
         ]
        },
        {
         "hovertemplate": "<b>bibelPs_19-2</b><br>Value: 4 Words<br>Link: <a href=\"\">Ps_19-2</a><extra></extra>",
         "name": "bibelPs_19-2",
         "type": "bar",
         "x": [
          "Wörter 8649 bis 8742"
         ],
         "y": [
          4
         ]
        },
        {
         "hovertemplate": "<b>text</b><br>Value: 69 Words<br>Link: <a href=\"\"></a><extra></extra>",
         "name": "text",
         "type": "bar",
         "x": [
          "Wörter 8742 bis 8835"
         ],
         "y": [
          69
         ]
        },
        {
         "hovertemplate": "<b>bibelZef_2-14</b><br>Value: 3 Words<br>Link: <a href=\"\">Zef_2-14</a><extra></extra>",
         "name": "bibelZef_2-14",
         "type": "bar",
         "x": [
          "Wörter 8742 bis 8835"
         ],
         "y": [
          3
         ]
        },
        {
         "hovertemplate": "<b>bibelPs_51-10</b><br>Value: 14 Words<br>Link: <a href=\"\">Ps_51-10</a><extra></extra>",
         "name": "bibelPs_51-10",
         "type": "bar",
         "x": [
          "Wörter 8742 bis 8835"
         ],
         "y": [
          14
         ]
        },
        {
         "hovertemplate": "<b>bibelMt_22-13</b><br>Value: 3 Words<br>Link: <a href=\"\">Mt_22-13</a><extra></extra>",
         "name": "bibelMt_22-13",
         "type": "bar",
         "x": [
          "Wörter 8742 bis 8835"
         ],
         "y": [
          3
         ]
        },
        {
         "hovertemplate": "<b>bibelJes_65-2</b><br>Value: 4 Words<br>Link: <a href=\"\">Jes_65-2</a><extra></extra>",
         "name": "bibelJes_65-2",
         "type": "bar",
         "x": [
          "Wörter 8742 bis 8835"
         ],
         "y": [
          4
         ]
        },
        {
         "hovertemplate": "<b>text</b><br>Value: 82 Words<br>Link: <a href=\"\"></a><extra></extra>",
         "name": "text",
         "type": "bar",
         "x": [
          "Wörter 8835 bis 8928"
         ],
         "y": [
          82
         ]
        },
        {
         "hovertemplate": "<b>bibelPs_145-16</b><br>Value: 4 Words<br>Link: <a href=\"\">Ps_145-16</a><extra></extra>",
         "name": "bibelPs_145-16",
         "type": "bar",
         "x": [
          "Wörter 8835 bis 8928"
         ],
         "y": [
          4
         ]
        },
        {
         "hovertemplate": "<b>bibelPs_104-33</b><br>Value: 3 Words<br>Link: <a href=\"\">Ps_104-33</a><extra></extra>",
         "name": "bibelPs_104-33",
         "type": "bar",
         "x": [
          "Wörter 8835 bis 8928"
         ],
         "y": [
          3
         ]
        },
        {
         "hovertemplate": "<b>bibelRöm_8-19</b><br>Value: 4 Words<br>Link: <a href=\"\">Röm_8-19.20</a><extra></extra>",
         "name": "bibelRöm_8-19",
         "type": "bar",
         "x": [
          "Wörter 8835 bis 8928"
         ],
         "y": [
          4
         ]
        },
        {
         "hovertemplate": "<b>text</b><br>Value: 76 Words<br>Link: <a href=\"\"></a><extra></extra>",
         "name": "text",
         "type": "bar",
         "x": [
          "Wörter 8928 bis 9021"
         ],
         "y": [
          76
         ]
        },
        {
         "hovertemplate": "<b>bibelSir_32-5</b><br>Value: 5 Words<br>Link: <a href=\"\">Sir_32-5.6</a><extra></extra>",
         "name": "bibelSir_32-5",
         "type": "bar",
         "x": [
          "Wörter 8928 bis 9021"
         ],
         "y": [
          5
         ]
        },
        {
         "hovertemplate": "<b>bibelDtn_32-11</b><br>Value: 6 Words<br>Link: <a href=\"\">Dtn_32-11</a><extra></extra>",
         "name": "bibelDtn_32-11",
         "type": "bar",
         "x": [
          "Wörter 8928 bis 9021"
         ],
         "y": [
          6
         ]
        },
        {
         "hovertemplate": "<b>bibelPs_36-11</b><br>Value: 6 Words<br>Link: <a href=\"\">Ps_36-11</a><extra></extra>",
         "name": "bibelPs_36-11",
         "type": "bar",
         "x": [
          "Wörter 8928 bis 9021"
         ],
         "y": [
          6
         ]
        },
        {
         "hovertemplate": "<b>text</b><br>Value: 86 Words<br>Link: <a href=\"\"></a><extra></extra>",
         "name": "text",
         "type": "bar",
         "x": [
          "Wörter 9021 bis 9114"
         ],
         "y": [
          86
         ]
        },
        {
         "hovertemplate": "<b>bibelRöm_15-6</b><br>Value: 4 Words<br>Link: <a href=\"\">Röm_15-6.7</a><extra></extra>",
         "name": "bibelRöm_15-6",
         "type": "bar",
         "x": [
          "Wörter 9021 bis 9114"
         ],
         "y": [
          4
         ]
        },
        {
         "hovertemplate": "<b>Picinelli, Filippo: Mundus Symbolicus (1681)</b><br>Value: 3 Words<br>Link: <a href=\"https://orgelpredigt.ur.de/E080320\">E080320</a><extra></extra>",
         "name": "Picinelli, Filippo: Mundus Symbolicus (1681)",
         "type": "bar",
         "x": [
          "Wörter 9021 bis 9114"
         ],
         "y": [
          3
         ]
        },
        {
         "hovertemplate": "<b>text</b><br>Value: 93 Words<br>Link: <a href=\"\"></a><extra></extra>",
         "name": "text",
         "type": "bar",
         "x": [
          "Wörter 9114 bis 9207"
         ],
         "y": [
          93
         ]
        },
        {
         "hovertemplate": "<b>text</b><br>Value: 24 Words<br>Link: <a href=\"\"></a><extra></extra>",
         "name": "text",
         "type": "bar",
         "x": [
          "Wörter 9207 bis 9300"
         ],
         "y": [
          24
         ]
        },
        {
         "hovertemplate": "<b>N.N.: Herr Gott, dich loben wir</b><br>Value: 20 Words<br>Link: <a href=\"https://orgelpredigt.ur.de/E100078\">E100078</a><extra></extra>",
         "name": "N.N.: Herr Gott, dich loben wir",
         "type": "bar",
         "x": [
          "Wörter 9207 bis 9300"
         ],
         "y": [
          20
         ]
        },
        {
         "hovertemplate": "<b>Anton, Christoph ; Hintze, Jacob: Alle</b><br>Value: 17 Words<br>Link: <a href=\"https://orgelpredigt.ur.de/E100134\">E100134</a><extra></extra>",
         "name": "Anton, Christoph ; Hintze, Jacob: Alle",
         "type": "bar",
         "x": [
          "Wörter 9207 bis 9300"
         ],
         "y": [
          17
         ]
        },
        {
         "hovertemplate": "<b>bibelPs_150-1</b><br>Value: 32 Words<br>Link: <a href=\"\">Ps_150-1.2.3.4.5.6</a><extra></extra>",
         "name": "bibelPs_150-1",
         "type": "bar",
         "x": [
          "Wörter 9207 bis 9300"
         ],
         "y": [
          32
         ]
        },
        {
         "hovertemplate": "<b>bibelPs_150-1</b><br>Value: 32 Words<br>Link: <a href=\"\">Ps_150-1.2.3.4.5.6</a><extra></extra>",
         "name": "bibelPs_150-1",
         "type": "bar",
         "x": [
          "Wörter 9300 bis 9393"
         ],
         "y": [
          32
         ]
        },
        {
         "hovertemplate": "<b>bibelMt_6-9</b><br>Value: 2 Words<br>Link: <a href=\"\">Mt_6-9</a><extra></extra>",
         "name": "bibelMt_6-9",
         "type": "bar",
         "x": [
          "Wörter 9300 bis 9393"
         ],
         "y": [
          2
         ]
        },
        {
         "hovertemplate": "<b>text</b><br>Value: 3 Words<br>Link: <a href=\"\"></a><extra></extra>",
         "name": "text",
         "type": "bar",
         "x": [
          "Wörter 9300 bis 9393"
         ],
         "y": [
          3
         ]
        }
       ],
       "layout": {
        "barmode": "stack",
        "height": 500,
        "template": {
         "data": {
          "bar": [
           {
            "error_x": {
             "color": "#2a3f5f"
            },
            "error_y": {
             "color": "#2a3f5f"
            },
            "marker": {
             "line": {
              "color": "#E5ECF6",
              "width": 0.5
             },
             "pattern": {
              "fillmode": "overlay",
              "size": 10,
              "solidity": 0.2
             }
            },
            "type": "bar"
           }
          ],
          "barpolar": [
           {
            "marker": {
             "line": {
              "color": "#E5ECF6",
              "width": 0.5
             },
             "pattern": {
              "fillmode": "overlay",
              "size": 10,
              "solidity": 0.2
             }
            },
            "type": "barpolar"
           }
          ],
          "carpet": [
           {
            "aaxis": {
             "endlinecolor": "#2a3f5f",
             "gridcolor": "white",
             "linecolor": "white",
             "minorgridcolor": "white",
             "startlinecolor": "#2a3f5f"
            },
            "baxis": {
             "endlinecolor": "#2a3f5f",
             "gridcolor": "white",
             "linecolor": "white",
             "minorgridcolor": "white",
             "startlinecolor": "#2a3f5f"
            },
            "type": "carpet"
           }
          ],
          "choropleth": [
           {
            "colorbar": {
             "outlinewidth": 0,
             "ticks": ""
            },
            "type": "choropleth"
           }
          ],
          "contour": [
           {
            "colorbar": {
             "outlinewidth": 0,
             "ticks": ""
            },
            "colorscale": [
             [
              0,
              "#0d0887"
             ],
             [
              0.1111111111111111,
              "#46039f"
             ],
             [
              0.2222222222222222,
              "#7201a8"
             ],
             [
              0.3333333333333333,
              "#9c179e"
             ],
             [
              0.4444444444444444,
              "#bd3786"
             ],
             [
              0.5555555555555556,
              "#d8576b"
             ],
             [
              0.6666666666666666,
              "#ed7953"
             ],
             [
              0.7777777777777778,
              "#fb9f3a"
             ],
             [
              0.8888888888888888,
              "#fdca26"
             ],
             [
              1,
              "#f0f921"
             ]
            ],
            "type": "contour"
           }
          ],
          "contourcarpet": [
           {
            "colorbar": {
             "outlinewidth": 0,
             "ticks": ""
            },
            "type": "contourcarpet"
           }
          ],
          "heatmap": [
           {
            "colorbar": {
             "outlinewidth": 0,
             "ticks": ""
            },
            "colorscale": [
             [
              0,
              "#0d0887"
             ],
             [
              0.1111111111111111,
              "#46039f"
             ],
             [
              0.2222222222222222,
              "#7201a8"
             ],
             [
              0.3333333333333333,
              "#9c179e"
             ],
             [
              0.4444444444444444,
              "#bd3786"
             ],
             [
              0.5555555555555556,
              "#d8576b"
             ],
             [
              0.6666666666666666,
              "#ed7953"
             ],
             [
              0.7777777777777778,
              "#fb9f3a"
             ],
             [
              0.8888888888888888,
              "#fdca26"
             ],
             [
              1,
              "#f0f921"
             ]
            ],
            "type": "heatmap"
           }
          ],
          "histogram": [
           {
            "marker": {
             "pattern": {
              "fillmode": "overlay",
              "size": 10,
              "solidity": 0.2
             }
            },
            "type": "histogram"
           }
          ],
          "histogram2d": [
           {
            "colorbar": {
             "outlinewidth": 0,
             "ticks": ""
            },
            "colorscale": [
             [
              0,
              "#0d0887"
             ],
             [
              0.1111111111111111,
              "#46039f"
             ],
             [
              0.2222222222222222,
              "#7201a8"
             ],
             [
              0.3333333333333333,
              "#9c179e"
             ],
             [
              0.4444444444444444,
              "#bd3786"
             ],
             [
              0.5555555555555556,
              "#d8576b"
             ],
             [
              0.6666666666666666,
              "#ed7953"
             ],
             [
              0.7777777777777778,
              "#fb9f3a"
             ],
             [
              0.8888888888888888,
              "#fdca26"
             ],
             [
              1,
              "#f0f921"
             ]
            ],
            "type": "histogram2d"
           }
          ],
          "histogram2dcontour": [
           {
            "colorbar": {
             "outlinewidth": 0,
             "ticks": ""
            },
            "colorscale": [
             [
              0,
              "#0d0887"
             ],
             [
              0.1111111111111111,
              "#46039f"
             ],
             [
              0.2222222222222222,
              "#7201a8"
             ],
             [
              0.3333333333333333,
              "#9c179e"
             ],
             [
              0.4444444444444444,
              "#bd3786"
             ],
             [
              0.5555555555555556,
              "#d8576b"
             ],
             [
              0.6666666666666666,
              "#ed7953"
             ],
             [
              0.7777777777777778,
              "#fb9f3a"
             ],
             [
              0.8888888888888888,
              "#fdca26"
             ],
             [
              1,
              "#f0f921"
             ]
            ],
            "type": "histogram2dcontour"
           }
          ],
          "mesh3d": [
           {
            "colorbar": {
             "outlinewidth": 0,
             "ticks": ""
            },
            "type": "mesh3d"
           }
          ],
          "parcoords": [
           {
            "line": {
             "colorbar": {
              "outlinewidth": 0,
              "ticks": ""
             }
            },
            "type": "parcoords"
           }
          ],
          "pie": [
           {
            "automargin": true,
            "type": "pie"
           }
          ],
          "scatter": [
           {
            "fillpattern": {
             "fillmode": "overlay",
             "size": 10,
             "solidity": 0.2
            },
            "type": "scatter"
           }
          ],
          "scatter3d": [
           {
            "line": {
             "colorbar": {
              "outlinewidth": 0,
              "ticks": ""
             }
            },
            "marker": {
             "colorbar": {
              "outlinewidth": 0,
              "ticks": ""
             }
            },
            "type": "scatter3d"
           }
          ],
          "scattercarpet": [
           {
            "marker": {
             "colorbar": {
              "outlinewidth": 0,
              "ticks": ""
             }
            },
            "type": "scattercarpet"
           }
          ],
          "scattergeo": [
           {
            "marker": {
             "colorbar": {
              "outlinewidth": 0,
              "ticks": ""
             }
            },
            "type": "scattergeo"
           }
          ],
          "scattergl": [
           {
            "marker": {
             "colorbar": {
              "outlinewidth": 0,
              "ticks": ""
             }
            },
            "type": "scattergl"
           }
          ],
          "scattermap": [
           {
            "marker": {
             "colorbar": {
              "outlinewidth": 0,
              "ticks": ""
             }
            },
            "type": "scattermap"
           }
          ],
          "scattermapbox": [
           {
            "marker": {
             "colorbar": {
              "outlinewidth": 0,
              "ticks": ""
             }
            },
            "type": "scattermapbox"
           }
          ],
          "scatterpolar": [
           {
            "marker": {
             "colorbar": {
              "outlinewidth": 0,
              "ticks": ""
             }
            },
            "type": "scatterpolar"
           }
          ],
          "scatterpolargl": [
           {
            "marker": {
             "colorbar": {
              "outlinewidth": 0,
              "ticks": ""
             }
            },
            "type": "scatterpolargl"
           }
          ],
          "scatterternary": [
           {
            "marker": {
             "colorbar": {
              "outlinewidth": 0,
              "ticks": ""
             }
            },
            "type": "scatterternary"
           }
          ],
          "surface": [
           {
            "colorbar": {
             "outlinewidth": 0,
             "ticks": ""
            },
            "colorscale": [
             [
              0,
              "#0d0887"
             ],
             [
              0.1111111111111111,
              "#46039f"
             ],
             [
              0.2222222222222222,
              "#7201a8"
             ],
             [
              0.3333333333333333,
              "#9c179e"
             ],
             [
              0.4444444444444444,
              "#bd3786"
             ],
             [
              0.5555555555555556,
              "#d8576b"
             ],
             [
              0.6666666666666666,
              "#ed7953"
             ],
             [
              0.7777777777777778,
              "#fb9f3a"
             ],
             [
              0.8888888888888888,
              "#fdca26"
             ],
             [
              1,
              "#f0f921"
             ]
            ],
            "type": "surface"
           }
          ],
          "table": [
           {
            "cells": {
             "fill": {
              "color": "#EBF0F8"
             },
             "line": {
              "color": "white"
             }
            },
            "header": {
             "fill": {
              "color": "#C8D4E3"
             },
             "line": {
              "color": "white"
             }
            },
            "type": "table"
           }
          ]
         },
         "layout": {
          "annotationdefaults": {
           "arrowcolor": "#2a3f5f",
           "arrowhead": 0,
           "arrowwidth": 1
          },
          "autotypenumbers": "strict",
          "coloraxis": {
           "colorbar": {
            "outlinewidth": 0,
            "ticks": ""
           }
          },
          "colorscale": {
           "diverging": [
            [
             0,
             "#8e0152"
            ],
            [
             0.1,
             "#c51b7d"
            ],
            [
             0.2,
             "#de77ae"
            ],
            [
             0.3,
             "#f1b6da"
            ],
            [
             0.4,
             "#fde0ef"
            ],
            [
             0.5,
             "#f7f7f7"
            ],
            [
             0.6,
             "#e6f5d0"
            ],
            [
             0.7,
             "#b8e186"
            ],
            [
             0.8,
             "#7fbc41"
            ],
            [
             0.9,
             "#4d9221"
            ],
            [
             1,
             "#276419"
            ]
           ],
           "sequential": [
            [
             0,
             "#0d0887"
            ],
            [
             0.1111111111111111,
             "#46039f"
            ],
            [
             0.2222222222222222,
             "#7201a8"
            ],
            [
             0.3333333333333333,
             "#9c179e"
            ],
            [
             0.4444444444444444,
             "#bd3786"
            ],
            [
             0.5555555555555556,
             "#d8576b"
            ],
            [
             0.6666666666666666,
             "#ed7953"
            ],
            [
             0.7777777777777778,
             "#fb9f3a"
            ],
            [
             0.8888888888888888,
             "#fdca26"
            ],
            [
             1,
             "#f0f921"
            ]
           ],
           "sequentialminus": [
            [
             0,
             "#0d0887"
            ],
            [
             0.1111111111111111,
             "#46039f"
            ],
            [
             0.2222222222222222,
             "#7201a8"
            ],
            [
             0.3333333333333333,
             "#9c179e"
            ],
            [
             0.4444444444444444,
             "#bd3786"
            ],
            [
             0.5555555555555556,
             "#d8576b"
            ],
            [
             0.6666666666666666,
             "#ed7953"
            ],
            [
             0.7777777777777778,
             "#fb9f3a"
            ],
            [
             0.8888888888888888,
             "#fdca26"
            ],
            [
             1,
             "#f0f921"
            ]
           ]
          },
          "colorway": [
           "#636efa",
           "#EF553B",
           "#00cc96",
           "#ab63fa",
           "#FFA15A",
           "#19d3f3",
           "#FF6692",
           "#B6E880",
           "#FF97FF",
           "#FECB52"
          ],
          "font": {
           "color": "#2a3f5f"
          },
          "geo": {
           "bgcolor": "white",
           "lakecolor": "white",
           "landcolor": "#E5ECF6",
           "showlakes": true,
           "showland": true,
           "subunitcolor": "white"
          },
          "hoverlabel": {
           "align": "left"
          },
          "hovermode": "closest",
          "mapbox": {
           "style": "light"
          },
          "paper_bgcolor": "white",
          "plot_bgcolor": "#E5ECF6",
          "polar": {
           "angularaxis": {
            "gridcolor": "white",
            "linecolor": "white",
            "ticks": ""
           },
           "bgcolor": "#E5ECF6",
           "radialaxis": {
            "gridcolor": "white",
            "linecolor": "white",
            "ticks": ""
           }
          },
          "scene": {
           "xaxis": {
            "backgroundcolor": "#E5ECF6",
            "gridcolor": "white",
            "gridwidth": 2,
            "linecolor": "white",
            "showbackground": true,
            "ticks": "",
            "zerolinecolor": "white"
           },
           "yaxis": {
            "backgroundcolor": "#E5ECF6",
            "gridcolor": "white",
            "gridwidth": 2,
            "linecolor": "white",
            "showbackground": true,
            "ticks": "",
            "zerolinecolor": "white"
           },
           "zaxis": {
            "backgroundcolor": "#E5ECF6",
            "gridcolor": "white",
            "gridwidth": 2,
            "linecolor": "white",
            "showbackground": true,
            "ticks": "",
            "zerolinecolor": "white"
           }
          },
          "shapedefaults": {
           "line": {
            "color": "#2a3f5f"
           }
          },
          "ternary": {
           "aaxis": {
            "gridcolor": "white",
            "linecolor": "white",
            "ticks": ""
           },
           "baxis": {
            "gridcolor": "white",
            "linecolor": "white",
            "ticks": ""
           },
           "bgcolor": "#E5ECF6",
           "caxis": {
            "gridcolor": "white",
            "linecolor": "white",
            "ticks": ""
           }
          },
          "title": {
           "x": 0.05
          },
          "xaxis": {
           "automargin": true,
           "gridcolor": "white",
           "linecolor": "white",
           "ticks": "",
           "title": {
            "standoff": 15
           },
           "zerolinecolor": "white",
           "zerolinewidth": 2
          },
          "yaxis": {
           "automargin": true,
           "gridcolor": "white",
           "linecolor": "white",
           "ticks": "",
           "title": {
            "standoff": 15
           },
           "zerolinecolor": "white",
           "zerolinewidth": 2
          }
         }
        },
        "width": 1500
       }
      }
     },
     "metadata": {},
     "output_type": "display_data"
    }
   ],
   "source": [
    "create_stacked_chart(oa.Sermon(\"E000052\"))"
   ]
  }
 ],
 "metadata": {
  "kernelspec": {
   "display_name": "ma_orgelpredigt",
   "language": "python",
   "name": "python3"
  },
  "language_info": {
   "codemirror_mode": {
    "name": "ipython",
    "version": 3
   },
   "file_extension": ".py",
   "mimetype": "text/x-python",
   "name": "python",
   "nbconvert_exporter": "python",
   "pygments_lexer": "ipython3",
   "version": "3.12.11"
  }
 },
 "nbformat": 4,
 "nbformat_minor": 5
}
