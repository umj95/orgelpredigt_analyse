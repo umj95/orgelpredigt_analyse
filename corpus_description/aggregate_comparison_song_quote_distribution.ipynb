{
 "cells": [
  {
   "cell_type": "code",
   "execution_count": null,
   "id": "8ffa426b",
   "metadata": {},
   "outputs": [],
   "source": [
    "import pandas as pd\n",
    "import ast\n",
    "import re\n",
    "from collections import Counter\n",
    "\n",
    "import plotly.graph_objects as go\n",
    "from plotly.subplots import make_subplots\n",
    "import networkx as nx\n",
    "\n",
    "from mysql.connector import Error\n",
    "import core.utils as oa\n",
    "\n",
    "import json\n",
    "import os\n",
    "\n",
    "from pathlib import Path\n",
    "\n",
    "# root directory path\n",
    "ROOT = Path(__file__).resolve().parents[2]"
   ]
  },
  {
   "cell_type": "code",
   "execution_count": 34,
   "id": "9e51e736",
   "metadata": {},
   "outputs": [],
   "source": [
    "def create_quote_dist_chart(ids: list, type: str) -> go.Figure:\n",
    "    type_dict = {\n",
    "        \"orgelpredigt\": \"Orgelpredigtzitate\",\n",
    "        \"musikwerk\": \"Liedzitate\",\n",
    "        \"quelle\": \"Literaturzitate\",\n",
    "    }\n",
    "    if type not in type_dict.keys():\n",
    "        occ_fig = go.Figure()\n",
    "        occ_fig.update_layout(title_text=\"Type not recognised!\")\n",
    "        return occ_fig\n",
    "    \n",
    "    else:\n",
    "        chunked_text = [0]*100\n",
    "        thumbnails = [\"\"]*100\n",
    "\n",
    "        for id in ids:\n",
    "            sermon = oa.Sermon(id)\n",
    "\n",
    "            dec = int(len(sermon.words) / 99)\n",
    "            overhang = len(sermon.words) % dec\n",
    "\n",
    "            for i, j in zip(range(0, len(sermon.words), dec), range(0, 100)):\n",
    "                types_unique = list(set(sermon.word_types[i:i+dec]))\n",
    "                types_str = \" \".join([x for x in types_unique if isinstance(x, str)])\n",
    "                if type in types_str:\n",
    "                    type_test = 1\n",
    "                    hit = f\"{sermon.kurztitel}<br>\"\n",
    "                else:\n",
    "                    type_test = 0\n",
    "                    hit = \"\"\n",
    "                \n",
    "                chunked_text[j] = chunked_text[j] + type_test\n",
    "                thumbnails[j] = thumbnails[j] + hit\n",
    "            \n",
    "            last_types_unique = list(set(sermon.word_types[-overhang:]))\n",
    "            last_types_str = \" \".join([x for x in last_types_unique if isinstance(x, str)])\n",
    "            if type in last_types_str:\n",
    "                last_type_test = 1\n",
    "                last_hit = f\"{sermon.kurztitel}<br>\"\n",
    "            else:\n",
    "                last_type_test = 0\n",
    "                last_hit = \"\"\n",
    "            \n",
    "            #chunked_text[-1] = chunked_text[-1] + last_orgelpredigt_test\n",
    "            #thumbnails[-1] = thumbnails[-1] + last_hit\n",
    "\n",
    "        occ_fig = go.Figure()\n",
    "\n",
    "        for i in range(0, len(chunked_text)):\n",
    "            hovertext = f'{chunked_text[i]} {type_dict[type]} im {i+1}%'\n",
    "            if thumbnails[i] != \"\":\n",
    "                    hovertext += f\"<br>{thumbnails[i]}\"\n",
    "\n",
    "            gradient = chunked_text[i] * 15\n",
    "            color = f'rgb({max(250-gradient, 0)},{max(250-gradient, 0)},{max(250-gradient, 0)})'\n",
    "            occ_fig.add_trace(go.Bar(\n",
    "                x = [f\"{type_dict[type]} je Predigtprozent\"],\n",
    "                y = [100],\n",
    "                marker_color = color,\n",
    "                hovertext = hovertext\n",
    "            ))\n",
    "\n",
    "        occ_fig.update_layout(width=1500,height=500, showlegend=False)\n",
    "            \n",
    "        return occ_fig"
   ]
  },
  {
   "cell_type": "code",
   "execution_count": null,
   "id": "850ea01b",
   "metadata": {},
   "outputs": [],
   "source": [
    "# Get the list of all sermons\n",
    "with open(ROOT / \"predigten_übersicht.json\", \"r\", encoding=\"utf-8\") as file: \n",
    "    data = json.load(file)\n",
    "ids = list(data.keys())"
   ]
  },
  {
   "cell_type": "markdown",
   "id": "e9c733d4",
   "metadata": {},
   "source": [
    "# Create Overall Song Distribution Chart"
   ]
  },
  {
   "cell_type": "code",
   "execution_count": 4,
   "id": "a6201b6a",
   "metadata": {},
   "outputs": [
    {
     "data": {
      "application/vnd.plotly.v1+json": {
       "config": {
        "plotlyServerURL": "https://plot.ly"
       },
       "data": [
        {
         "hovertext": "2 Liedzitate im 1%<br>Das Neue Lied (Freiberg 1735)<br>Die edle und wohlgeordnete Music der Gläubigen (Halle 1727)<br>",
         "marker": {
          "color": "rgb(220,220,220)"
         },
         "type": "bar",
         "x": [
          "Liedzitate je Predigtprozent"
         ],
         "y": [
          100
         ]
        },
        {
         "hovertext": "1 Liedzitate im 2%<br>Das Neue Lied (Freiberg 1735)<br>",
         "marker": {
          "color": "rgb(235,235,235)"
         },
         "type": "bar",
         "x": [
          "Liedzitate je Predigtprozent"
         ],
         "y": [
          100
         ]
        },
        {
         "hovertext": "5 Liedzitate im 3%<br>Die heilige Sabbaths-Lust an dem Herrn (Danzig 1749)<br>Die Billige Orgel-Freude (Danzig 1739)<br>Das Neue Lied (Freiberg 1735)<br>Die verstimmte Zwölff Grösseste Pfeiffen (Tübingen 1725)<br>Musica ecclesiastica (Stettin 1628)<br>",
         "marker": {
          "color": "rgb(175,175,175)"
         },
         "type": "bar",
         "x": [
          "Liedzitate je Predigtprozent"
         ],
         "y": [
          100
         ]
        },
        {
         "hovertext": "3 Liedzitate im 4%<br>Die heiligen Verrichtungen in dem Hause des Herrn (Eisenach 1765)<br>Die heilige Sabbaths-Lust an dem Herrn (Danzig 1749)<br>Musica ecclesiastica (Stettin 1628)<br>",
         "marker": {
          "color": "rgb(205,205,205)"
         },
         "type": "bar",
         "x": [
          "Liedzitate je Predigtprozent"
         ],
         "y": [
          100
         ]
        },
        {
         "hovertext": "2 Liedzitate im 5%<br>Die heiligen Verrichtungen in dem Hause des Herrn (Eisenach 1765)<br>Die Billige Orgel-Freude (Danzig 1739)<br>",
         "marker": {
          "color": "rgb(220,220,220)"
         },
         "type": "bar",
         "x": [
          "Liedzitate je Predigtprozent"
         ],
         "y": [
          100
         ]
        },
        {
         "hovertext": "3 Liedzitate im 6%<br>Predigt Bey der Einweihung einer Orgel (Leipzig 1797)<br>Die heiligen Verrichtungen in dem Hause des Herrn (Eisenach 1765)<br>Stimme des Predigers (1737)<br>",
         "marker": {
          "color": "rgb(205,205,205)"
         },
         "type": "bar",
         "x": [
          "Liedzitate je Predigtprozent"
         ],
         "y": [
          100
         ]
        },
        {
         "hovertext": "8 Liedzitate im 7%<br>Predigt bey der feyerlichen Einweihung der neuen Orgel (Magdeburg 1798)<br>Predigt Bey der Einweihung einer Orgel (Leipzig 1797)<br>Den rechtmäßigen Gebrauch der Music (Königsberg 1747)<br>Die Billige Orgel-Freude (Danzig 1739)<br>Die verstimmte Zwölff Grösseste Pfeiffen (Tübingen 1725)<br>Einweihungs-Predigt (Görlitz 1704)<br>Cithara Theologica (Schleusingen 1683)<br>Stimme des Predigers (1737)<br>",
         "marker": {
          "color": "rgb(130,130,130)"
         },
         "type": "bar",
         "x": [
          "Liedzitate je Predigtprozent"
         ],
         "y": [
          100
         ]
        },
        {
         "hovertext": "7 Liedzitate im 8%<br>Predigt Bey der Einweihung einer Orgel (Leipzig 1797)<br>Predigt am Feste der Heimsuchung Mariae (Rostock 1770)<br>Der Christen gerechte Freude (Breslau 1761)<br>Den rechtmäßigen Gebrauch der Music (Königsberg 1747)<br>Die Billige Orgel-Freude (Danzig 1739)<br>Die edle und wohlgeordnete Music der Gläubigen (Halle 1727)<br>Cithara Theologica (Schleusingen 1683)<br>",
         "marker": {
          "color": "rgb(145,145,145)"
         },
         "type": "bar",
         "x": [
          "Liedzitate je Predigtprozent"
         ],
         "y": [
          100
         ]
        },
        {
         "hovertext": "4 Liedzitate im 9%<br>Die heilige Sabbaths-Lust an dem Herrn (Danzig 1749)<br>Orgel Weih-Predigt (Ansbach 1709)<br>Organo-Praxis Mystica (Görlitz 1689)<br>Das Lieblich=klingende Orgeln und Saiten=Spiel (Coburg 1676)<br>",
         "marker": {
          "color": "rgb(190,190,190)"
         },
         "type": "bar",
         "x": [
          "Liedzitate je Predigtprozent"
         ],
         "y": [
          100
         ]
        },
        {
         "hovertext": "3 Liedzitate im 10%<br>Die heilige Sabbaths-Lust an dem Herrn (Danzig 1749)<br>Ein wolgerührtes Orgel=Werck (Königsberg 1721)<br>Gott und Gnug (Meißen 1681)<br>",
         "marker": {
          "color": "rgb(205,205,205)"
         },
         "type": "bar",
         "x": [
          "Liedzitate je Predigtprozent"
         ],
         "y": [
          100
         ]
        },
        {
         "hovertext": "2 Liedzitate im 11%<br>Die heilige Sabbaths-Lust an dem Herrn (Danzig 1749)<br>Christliche Orgel-Predigt (Danzig s.a.)<br>",
         "marker": {
          "color": "rgb(220,220,220)"
         },
         "type": "bar",
         "x": [
          "Liedzitate je Predigtprozent"
         ],
         "y": [
          100
         ]
        },
        {
         "hovertext": "1 Liedzitate im 12%<br>Vivum Dei Organum (Schneeberg s.a.)<br>",
         "marker": {
          "color": "rgb(235,235,235)"
         },
         "type": "bar",
         "x": [
          "Liedzitate je Predigtprozent"
         ],
         "y": [
          100
         ]
        },
        {
         "hovertext": "3 Liedzitate im 13%<br>Das heilige und fröliche Aufsehen (Tübingen 1767)<br>Lob= und Danck=Predigt (Berlin 1753)<br>Die heilige Sabbaths-Lust an dem Herrn (Danzig 1749)<br>",
         "marker": {
          "color": "rgb(205,205,205)"
         },
         "type": "bar",
         "x": [
          "Liedzitate je Predigtprozent"
         ],
         "y": [
          100
         ]
        },
        {
         "hovertext": "7 Liedzitate im 14%<br>Lob= und Danck=Predigt (Berlin 1753)<br>Die heilige Sabbaths-Lust an dem Herrn (Danzig 1749)<br>Ein wolgerührtes Orgel=Werck (Königsberg 1721)<br>Einweihungs-Predigt (Görlitz 1704)<br>Einweihungs-Predigt (Berlin 1730)<br>Denck- und Danck-Säule (Rothenburg ob der Tauber [1673])<br>Längst=gewüntzschte Mittweidische Orgel=Freude (Dresden 1648)<br>",
         "marker": {
          "color": "rgb(145,145,145)"
         },
         "type": "bar",
         "x": [
          "Liedzitate je Predigtprozent"
         ],
         "y": [
          100
         ]
        },
        {
         "hovertext": "5 Liedzitate im 15%<br>Die heilige Sabbaths-Lust an dem Herrn (Danzig 1749)<br>Einweihungs-Predigt (Berlin 1730)<br>Gott und Gnug (Meißen 1681)<br>Das Lieblich=klingende Orgeln und Saiten=Spiel (Coburg 1676)<br>Längst=gewüntzschte Mittweidische Orgel=Freude (Dresden 1648)<br>",
         "marker": {
          "color": "rgb(175,175,175)"
         },
         "type": "bar",
         "x": [
          "Liedzitate je Predigtprozent"
         ],
         "y": [
          100
         ]
        },
        {
         "hovertext": "4 Liedzitate im 16%<br>Die Billige Orgel-Freude (Danzig 1739)<br>Christliche Orgel-Predigt (Danzig s.a.)<br>Das Lieblich=klingende Orgeln und Saiten=Spiel (Coburg 1676)<br>Längst=gewüntzschte Mittweidische Orgel=Freude (Dresden 1648)<br>",
         "marker": {
          "color": "rgb(190,190,190)"
         },
         "type": "bar",
         "x": [
          "Liedzitate je Predigtprozent"
         ],
         "y": [
          100
         ]
        },
        {
         "hovertext": "9 Liedzitate im 17%<br>Rede und Predigt bei Einweihung der neuen Orgel (Stockholm 1781)<br>Der Christen gerechte Freude (Breslau 1761)<br>Die heilige Sabbaths-Lust an dem Herrn (Danzig 1749)<br>Den rechtmäßigen Gebrauch der Music (Königsberg 1747)<br>Das Neue Lied (Freiberg 1735)<br>Hymnosophia sacra (Billwerder 1728)<br>Die verstimmte Zwölff Grösseste Pfeiffen (Tübingen 1725)<br>Vivum Dei Organum (Schneeberg s.a.)<br>Christliche Orgel-Predigt (Danzig s.a.)<br>",
         "marker": {
          "color": "rgb(115,115,115)"
         },
         "type": "bar",
         "x": [
          "Liedzitate je Predigtprozent"
         ],
         "y": [
          100
         ]
        },
        {
         "hovertext": "7 Liedzitate im 18%<br>Predigt Bey der Einweihung einer Orgel (Leipzig 1797)<br>Rede und Predigt bei Einweihung der neuen Orgel (Stockholm 1781)<br>Der Christen gerechte Freude (Breslau 1761)<br>Den rechtmäßigen Gebrauch der Music (Königsberg 1747)<br>Vivum Dei Organum (Schneeberg s.a.)<br>Die Christliche Harmonie (Jena 1700)<br>Eine Christliche Orgel=Predigt (Danzig 1695)<br>",
         "marker": {
          "color": "rgb(145,145,145)"
         },
         "type": "bar",
         "x": [
          "Liedzitate je Predigtprozent"
         ],
         "y": [
          100
         ]
        },
        {
         "hovertext": "6 Liedzitate im 19%<br>Rede und Predigt bei Einweihung der neuen Orgel (Stockholm 1781)<br>Der Christen gerechte Freude (Breslau 1761)<br>Den rechtmäßigen Gebrauch der Music (Königsberg 1747)<br>Davids Vermahnung (Dresden 1711)<br>Christliche Orgel-Predigt (Danzig s.a.)<br>Die Christliche Harmonie (Jena 1700)<br>",
         "marker": {
          "color": "rgb(160,160,160)"
         },
         "type": "bar",
         "x": [
          "Liedzitate je Predigtprozent"
         ],
         "y": [
          100
         ]
        },
        {
         "hovertext": "3 Liedzitate im 20%<br>Ein wolgerührtes Orgel=Werck (Königsberg 1721)<br>Christliche Orgel-Predigt (Danzig s.a.)<br>Geistliches Orgelwerk (Erfurt 1672)<br>",
         "marker": {
          "color": "rgb(205,205,205)"
         },
         "type": "bar",
         "x": [
          "Liedzitate je Predigtprozent"
         ],
         "y": [
          100
         ]
        },
        {
         "hovertext": "4 Liedzitate im 21%<br>Rede und Predigt bei Einweihung der neuen Orgel (Stockholm 1781)<br>Ein wolgerührtes Orgel=Werck (Königsberg 1721)<br>Organum Mysticum (Dresden 1686)<br>Gott und Gnug (Meißen 1681)<br>",
         "marker": {
          "color": "rgb(190,190,190)"
         },
         "type": "bar",
         "x": [
          "Liedzitate je Predigtprozent"
         ],
         "y": [
          100
         ]
        },
        {
         "hovertext": "2 Liedzitate im 22%<br>Das Neue Lied (Freiberg 1735)<br>Gott und Gnug (Meißen 1681)<br>",
         "marker": {
          "color": "rgb(220,220,220)"
         },
         "type": "bar",
         "x": [
          "Liedzitate je Predigtprozent"
         ],
         "y": [
          100
         ]
        },
        {
         "hovertext": "2 Liedzitate im 23%<br>Das Neue Lied (Freiberg 1735)<br>Gott und Gnug (Meißen 1681)<br>",
         "marker": {
          "color": "rgb(220,220,220)"
         },
         "type": "bar",
         "x": [
          "Liedzitate je Predigtprozent"
         ],
         "y": [
          100
         ]
        },
        {
         "hovertext": "1 Liedzitate im 24%<br>Ein wolgerührtes Orgel=Werck (Königsberg 1721)<br>",
         "marker": {
          "color": "rgb(235,235,235)"
         },
         "type": "bar",
         "x": [
          "Liedzitate je Predigtprozent"
         ],
         "y": [
          100
         ]
        },
        {
         "hovertext": "3 Liedzitate im 25%<br>Der rechte Gebrauch der Orgeln (Altenburg 1766)<br>Winnedisches Reminiscere (Stuttgart 1740)<br>Organum Mysticum (Dresden 1686)<br>",
         "marker": {
          "color": "rgb(205,205,205)"
         },
         "type": "bar",
         "x": [
          "Liedzitate je Predigtprozent"
         ],
         "y": [
          100
         ]
        },
        {
         "hovertext": "3 Liedzitate im 26%<br>Winnedisches Reminiscere (Stuttgart 1740)<br>Vivum Dei Organum (Schneeberg s.a.)<br>Organum Mysticum (Dresden 1686)<br>",
         "marker": {
          "color": "rgb(205,205,205)"
         },
         "type": "bar",
         "x": [
          "Liedzitate je Predigtprozent"
         ],
         "y": [
          100
         ]
        },
        {
         "hovertext": "1 Liedzitate im 27%<br>Hymnosophia sacra (Billwerder 1728)<br>",
         "marker": {
          "color": "rgb(235,235,235)"
         },
         "type": "bar",
         "x": [
          "Liedzitate je Predigtprozent"
         ],
         "y": [
          100
         ]
        },
        {
         "hovertext": "0 Liedzitate im 28%",
         "marker": {
          "color": "rgb(250,250,250)"
         },
         "type": "bar",
         "x": [
          "Liedzitate je Predigtprozent"
         ],
         "y": [
          100
         ]
        },
        {
         "hovertext": "2 Liedzitate im 29%<br>Davids Vermahnung (Dresden 1711)<br>Gott und Gnug (Meißen 1681)<br>",
         "marker": {
          "color": "rgb(220,220,220)"
         },
         "type": "bar",
         "x": [
          "Liedzitate je Predigtprozent"
         ],
         "y": [
          100
         ]
        },
        {
         "hovertext": "1 Liedzitate im 30%<br>Das Gott=Lob=Schallende Hosianna (Leipzig 1671)<br>",
         "marker": {
          "color": "rgb(235,235,235)"
         },
         "type": "bar",
         "x": [
          "Liedzitate je Predigtprozent"
         ],
         "y": [
          100
         ]
        },
        {
         "hovertext": "0 Liedzitate im 31%",
         "marker": {
          "color": "rgb(250,250,250)"
         },
         "type": "bar",
         "x": [
          "Liedzitate je Predigtprozent"
         ],
         "y": [
          100
         ]
        },
        {
         "hovertext": "1 Liedzitate im 32%<br>Cithara Theologica (Schleusingen 1683)<br>",
         "marker": {
          "color": "rgb(235,235,235)"
         },
         "type": "bar",
         "x": [
          "Liedzitate je Predigtprozent"
         ],
         "y": [
          100
         ]
        },
        {
         "hovertext": "3 Liedzitate im 33%<br>Die verstimmte Zwölff Grösseste Pfeiffen (Tübingen 1725)<br>Cithara Theologica (Schleusingen 1683)<br>Das fröliche Hallelujah (Halle 1667)<br>",
         "marker": {
          "color": "rgb(205,205,205)"
         },
         "type": "bar",
         "x": [
          "Liedzitate je Predigtprozent"
         ],
         "y": [
          100
         ]
        },
        {
         "hovertext": "2 Liedzitate im 34%<br>Geistliches Orgelwerk (Erfurt 1672)<br>Organologismos (Dresden 1651)<br>",
         "marker": {
          "color": "rgb(220,220,220)"
         },
         "type": "bar",
         "x": [
          "Liedzitate je Predigtprozent"
         ],
         "y": [
          100
         ]
        },
        {
         "hovertext": "0 Liedzitate im 35%",
         "marker": {
          "color": "rgb(250,250,250)"
         },
         "type": "bar",
         "x": [
          "Liedzitate je Predigtprozent"
         ],
         "y": [
          100
         ]
        },
        {
         "hovertext": "1 Liedzitate im 36%<br>Geistliches Orgelwerk (Erfurt 1672)<br>",
         "marker": {
          "color": "rgb(235,235,235)"
         },
         "type": "bar",
         "x": [
          "Liedzitate je Predigtprozent"
         ],
         "y": [
          100
         ]
        },
        {
         "hovertext": "2 Liedzitate im 37%<br>Die Billige Orgel-Freude (Danzig 1739)<br>Geistliches Orgelwerk (Erfurt 1672)<br>",
         "marker": {
          "color": "rgb(220,220,220)"
         },
         "type": "bar",
         "x": [
          "Liedzitate je Predigtprozent"
         ],
         "y": [
          100
         ]
        },
        {
         "hovertext": "1 Liedzitate im 38%<br>Die Christliche Harmonie (Jena 1700)<br>",
         "marker": {
          "color": "rgb(235,235,235)"
         },
         "type": "bar",
         "x": [
          "Liedzitate je Predigtprozent"
         ],
         "y": [
          100
         ]
        },
        {
         "hovertext": "2 Liedzitate im 39%<br>Das Neue Lied (Freiberg 1735)<br>Gott und Gnug (Meißen 1681)<br>",
         "marker": {
          "color": "rgb(220,220,220)"
         },
         "type": "bar",
         "x": [
          "Liedzitate je Predigtprozent"
         ],
         "y": [
          100
         ]
        },
        {
         "hovertext": "2 Liedzitate im 40%<br>Cithara Theologica (Schleusingen 1683)<br>Gott und Gnug (Meißen 1681)<br>",
         "marker": {
          "color": "rgb(220,220,220)"
         },
         "type": "bar",
         "x": [
          "Liedzitate je Predigtprozent"
         ],
         "y": [
          100
         ]
        },
        {
         "hovertext": "2 Liedzitate im 41%<br>Cithara Theologica (Schleusingen 1683)<br>Gott und Gnug (Meißen 1681)<br>",
         "marker": {
          "color": "rgb(220,220,220)"
         },
         "type": "bar",
         "x": [
          "Liedzitate je Predigtprozent"
         ],
         "y": [
          100
         ]
        },
        {
         "hovertext": "4 Liedzitate im 42%<br>Die heilige Sabbaths-Lust an dem Herrn (Danzig 1749)<br>Cithara Theologica (Schleusingen 1683)<br>Das Gott=Lob=Schallende Hosianna (Leipzig 1671)<br>Organologismos (Dresden 1651)<br>",
         "marker": {
          "color": "rgb(190,190,190)"
         },
         "type": "bar",
         "x": [
          "Liedzitate je Predigtprozent"
         ],
         "y": [
          100
         ]
        },
        {
         "hovertext": "4 Liedzitate im 43%<br>Die heilige Sabbaths-Lust an dem Herrn (Danzig 1749)<br>Organum Mysticum (Dresden 1686)<br>Cithara Theologica (Schleusingen 1683)<br>Das Gott=Lob=Schallende Hosianna (Leipzig 1671)<br>",
         "marker": {
          "color": "rgb(190,190,190)"
         },
         "type": "bar",
         "x": [
          "Liedzitate je Predigtprozent"
         ],
         "y": [
          100
         ]
        },
        {
         "hovertext": "1 Liedzitate im 44%<br>Organum Mysticum (Dresden 1686)<br>",
         "marker": {
          "color": "rgb(235,235,235)"
         },
         "type": "bar",
         "x": [
          "Liedzitate je Predigtprozent"
         ],
         "y": [
          100
         ]
        },
        {
         "hovertext": "2 Liedzitate im 45%<br>Das rein-gestimmte Orgel-Werk unsers Herzens (Nürnberg s.a.)<br>Das Lieblich=klingende Orgeln und Saiten=Spiel (Coburg 1676)<br>",
         "marker": {
          "color": "rgb(220,220,220)"
         },
         "type": "bar",
         "x": [
          "Liedzitate je Predigtprozent"
         ],
         "y": [
          100
         ]
        },
        {
         "hovertext": "2 Liedzitate im 46%<br>Das Lieblich=klingende Orgeln und Saiten=Spiel (Coburg 1676)<br>Stimme des Predigers (1737)<br>",
         "marker": {
          "color": "rgb(220,220,220)"
         },
         "type": "bar",
         "x": [
          "Liedzitate je Predigtprozent"
         ],
         "y": [
          100
         ]
        },
        {
         "hovertext": "2 Liedzitate im 47%<br>Cithara Theologica (Schleusingen 1683)<br>Denck- und Danck-Säule (Rothenburg ob der Tauber [1673])<br>",
         "marker": {
          "color": "rgb(220,220,220)"
         },
         "type": "bar",
         "x": [
          "Liedzitate je Predigtprozent"
         ],
         "y": [
          100
         ]
        },
        {
         "hovertext": "3 Liedzitate im 48%<br>Winnedisches Reminiscere (Stuttgart 1740)<br>Cithara Theologica (Schleusingen 1683)<br>Encoenia HierOrganica (Halle 1664)<br>",
         "marker": {
          "color": "rgb(205,205,205)"
         },
         "type": "bar",
         "x": [
          "Liedzitate je Predigtprozent"
         ],
         "y": [
          100
         ]
        },
        {
         "hovertext": "2 Liedzitate im 49%<br>Winnedisches Reminiscere (Stuttgart 1740)<br>Encoenia HierOrganica (Halle 1664)<br>",
         "marker": {
          "color": "rgb(220,220,220)"
         },
         "type": "bar",
         "x": [
          "Liedzitate je Predigtprozent"
         ],
         "y": [
          100
         ]
        },
        {
         "hovertext": "2 Liedzitate im 50%<br>Predigt am Feste der Heimsuchung Mariae (Rostock 1770)<br>Cithara Theologica (Schleusingen 1683)<br>",
         "marker": {
          "color": "rgb(220,220,220)"
         },
         "type": "bar",
         "x": [
          "Liedzitate je Predigtprozent"
         ],
         "y": [
          100
         ]
        },
        {
         "hovertext": "3 Liedzitate im 51%<br>Den rechtmäßigen Gebrauch der Music (Königsberg 1747)<br>Hymnosophia sacra (Billwerder 1728)<br>Cithara Theologica (Schleusingen 1683)<br>",
         "marker": {
          "color": "rgb(205,205,205)"
         },
         "type": "bar",
         "x": [
          "Liedzitate je Predigtprozent"
         ],
         "y": [
          100
         ]
        },
        {
         "hovertext": "2 Liedzitate im 52%<br>Den rechtmäßigen Gebrauch der Music (Königsberg 1747)<br>Cithara Theologica (Schleusingen 1683)<br>",
         "marker": {
          "color": "rgb(220,220,220)"
         },
         "type": "bar",
         "x": [
          "Liedzitate je Predigtprozent"
         ],
         "y": [
          100
         ]
        },
        {
         "hovertext": "5 Liedzitate im 53%<br>Den rechtmäßigen Gebrauch der Music (Königsberg 1747)<br>Das rein-gestimmte Orgel-Werk unsers Herzens (Nürnberg s.a.)<br>Einweihungs-Predigt (Görlitz 1704)<br>Einweihungs-Predigt (Berlin 1730)<br>Cithara Theologica (Schleusingen 1683)<br>",
         "marker": {
          "color": "rgb(175,175,175)"
         },
         "type": "bar",
         "x": [
          "Liedzitate je Predigtprozent"
         ],
         "y": [
          100
         ]
        },
        {
         "hovertext": "6 Liedzitate im 54%<br>Winnedisches Reminiscere (Stuttgart 1740)<br>Das rein-gestimmte Orgel-Werk unsers Herzens (Nürnberg s.a.)<br>Einweihungs-Predigt (Görlitz 1704)<br>Einweihungs-Predigt (Berlin 1730)<br>Eine Christliche Orgel=Predigt (Danzig 1695)<br>Denck- und Danck-Säule (Rothenburg ob der Tauber [1673])<br>",
         "marker": {
          "color": "rgb(160,160,160)"
         },
         "type": "bar",
         "x": [
          "Liedzitate je Predigtprozent"
         ],
         "y": [
          100
         ]
        },
        {
         "hovertext": "2 Liedzitate im 55%<br>Das fröliche Halleluja (Wittenberg 1675)<br>Denck- und Danck-Säule (Rothenburg ob der Tauber [1673])<br>",
         "marker": {
          "color": "rgb(220,220,220)"
         },
         "type": "bar",
         "x": [
          "Liedzitate je Predigtprozent"
         ],
         "y": [
          100
         ]
        },
        {
         "hovertext": "1 Liedzitate im 56%<br>Kostbare Bosische Orgel (Zwickau 1647)<br>",
         "marker": {
          "color": "rgb(235,235,235)"
         },
         "type": "bar",
         "x": [
          "Liedzitate je Predigtprozent"
         ],
         "y": [
          100
         ]
        },
        {
         "hovertext": "1 Liedzitate im 57%<br>Christliche Predigt (Tübingen 1606)<br>",
         "marker": {
          "color": "rgb(235,235,235)"
         },
         "type": "bar",
         "x": [
          "Liedzitate je Predigtprozent"
         ],
         "y": [
          100
         ]
        },
        {
         "hovertext": "4 Liedzitate im 58%<br>Winnedisches Reminiscere (Stuttgart 1740)<br>Gott und Gnug (Meißen 1681)<br>Das fröliche Halleluja (Wittenberg 1675)<br>Organologismos (Dresden 1651)<br>",
         "marker": {
          "color": "rgb(190,190,190)"
         },
         "type": "bar",
         "x": [
          "Liedzitate je Predigtprozent"
         ],
         "y": [
          100
         ]
        },
        {
         "hovertext": "4 Liedzitate im 59%<br>Die Billige Orgel-Freude (Danzig 1739)<br>Gott und Gnug (Meißen 1681)<br>Geistlich= und Gott wohlgefälliges Lob- und Danck-Opffer (Bayreuth 1680)<br>Geistliches Orgelwerk (Erfurt 1672)<br>",
         "marker": {
          "color": "rgb(190,190,190)"
         },
         "type": "bar",
         "x": [
          "Liedzitate je Predigtprozent"
         ],
         "y": [
          100
         ]
        },
        {
         "hovertext": "1 Liedzitate im 60%<br>Organum Mysticum (Dresden 1686)<br>",
         "marker": {
          "color": "rgb(235,235,235)"
         },
         "type": "bar",
         "x": [
          "Liedzitate je Predigtprozent"
         ],
         "y": [
          100
         ]
        },
        {
         "hovertext": "4 Liedzitate im 61%<br>Das heilige und fröliche Aufsehen (Tübingen 1767)<br>Gott und Gnug (Meißen 1681)<br>Das Lieblich=klingende Orgeln und Saiten=Spiel (Coburg 1676)<br>Organologismos (Dresden 1651)<br>",
         "marker": {
          "color": "rgb(190,190,190)"
         },
         "type": "bar",
         "x": [
          "Liedzitate je Predigtprozent"
         ],
         "y": [
          100
         ]
        },
        {
         "hovertext": "2 Liedzitate im 62%<br>Predigt bey der feyerlichen Einweihung der neuen Orgel (Magdeburg 1798)<br>Das heilige und fröliche Aufsehen (Tübingen 1767)<br>",
         "marker": {
          "color": "rgb(220,220,220)"
         },
         "type": "bar",
         "x": [
          "Liedzitate je Predigtprozent"
         ],
         "y": [
          100
         ]
        },
        {
         "hovertext": "2 Liedzitate im 63%<br>Das rein-gestimmte Orgel-Werk unsers Herzens (Nürnberg s.a.)<br>Kostbare Bosische Orgel (Zwickau 1647)<br>",
         "marker": {
          "color": "rgb(220,220,220)"
         },
         "type": "bar",
         "x": [
          "Liedzitate je Predigtprozent"
         ],
         "y": [
          100
         ]
        },
        {
         "hovertext": "4 Liedzitate im 64%<br>Das rein-gestimmte Orgel-Werk unsers Herzens (Nürnberg s.a.)<br>Organum Mysticum (Dresden 1686)<br>Geistliches Orgelwerk (Erfurt 1672)<br>Längst=gewüntzschte Mittweidische Orgel=Freude (Dresden 1648)<br>",
         "marker": {
          "color": "rgb(190,190,190)"
         },
         "type": "bar",
         "x": [
          "Liedzitate je Predigtprozent"
         ],
         "y": [
          100
         ]
        },
        {
         "hovertext": "2 Liedzitate im 65%<br>Christliche Predigt (Tübingen 1606)<br>Kostbare Bosische Orgel (Zwickau 1647)<br>",
         "marker": {
          "color": "rgb(220,220,220)"
         },
         "type": "bar",
         "x": [
          "Liedzitate je Predigtprozent"
         ],
         "y": [
          100
         ]
        },
        {
         "hovertext": "2 Liedzitate im 66%<br>Orgel=Predigt (Arnstadt 1666)<br>Kostbare Bosische Orgel (Zwickau 1647)<br>",
         "marker": {
          "color": "rgb(220,220,220)"
         },
         "type": "bar",
         "x": [
          "Liedzitate je Predigtprozent"
         ],
         "y": [
          100
         ]
        },
        {
         "hovertext": "1 Liedzitate im 67%<br>Elogium Organi Musici (Altenburg 1610)<br>",
         "marker": {
          "color": "rgb(235,235,235)"
         },
         "type": "bar",
         "x": [
          "Liedzitate je Predigtprozent"
         ],
         "y": [
          100
         ]
        },
        {
         "hovertext": "1 Liedzitate im 68%<br>Die edle und wohlgeordnete Music der Gläubigen (Halle 1727)<br>",
         "marker": {
          "color": "rgb(235,235,235)"
         },
         "type": "bar",
         "x": [
          "Liedzitate je Predigtprozent"
         ],
         "y": [
          100
         ]
        },
        {
         "hovertext": "4 Liedzitate im 69%<br>Predigt bey der feyerlichen Einweihung der neuen Orgel (Magdeburg 1798)<br>Die heilige Sabbaths-Lust an dem Herrn (Danzig 1749)<br>Ein wolgerührtes Orgel=Werck (Königsberg 1721)<br>Einweihungs-Predigt (Berlin 1730)<br>",
         "marker": {
          "color": "rgb(190,190,190)"
         },
         "type": "bar",
         "x": [
          "Liedzitate je Predigtprozent"
         ],
         "y": [
          100
         ]
        },
        {
         "hovertext": "3 Liedzitate im 70%<br>Die heilige Sabbaths-Lust an dem Herrn (Danzig 1749)<br>Ein wolgerührtes Orgel=Werck (Königsberg 1721)<br>Geistliches Orgelwerk (Erfurt 1672)<br>",
         "marker": {
          "color": "rgb(205,205,205)"
         },
         "type": "bar",
         "x": [
          "Liedzitate je Predigtprozent"
         ],
         "y": [
          100
         ]
        },
        {
         "hovertext": "4 Liedzitate im 71%<br>Die heilige Sabbaths-Lust an dem Herrn (Danzig 1749)<br>Ein wolgerührtes Orgel=Werck (Königsberg 1721)<br>Cithara Theologica (Schleusingen 1683)<br>Organologismos (Dresden 1651)<br>",
         "marker": {
          "color": "rgb(190,190,190)"
         },
         "type": "bar",
         "x": [
          "Liedzitate je Predigtprozent"
         ],
         "y": [
          100
         ]
        },
        {
         "hovertext": "3 Liedzitate im 72%<br>Die heilige Sabbaths-Lust an dem Herrn (Danzig 1749)<br>Ein wolgerührtes Orgel=Werck (Königsberg 1721)<br>Gott und Gnug (Meißen 1681)<br>",
         "marker": {
          "color": "rgb(205,205,205)"
         },
         "type": "bar",
         "x": [
          "Liedzitate je Predigtprozent"
         ],
         "y": [
          100
         ]
        },
        {
         "hovertext": "2 Liedzitate im 73%<br>Das rein-gestimmte Orgel-Werk unsers Herzens (Nürnberg s.a.)<br>Gott und Gnug (Meißen 1681)<br>",
         "marker": {
          "color": "rgb(220,220,220)"
         },
         "type": "bar",
         "x": [
          "Liedzitate je Predigtprozent"
         ],
         "y": [
          100
         ]
        },
        {
         "hovertext": "2 Liedzitate im 74%<br>Die heilige Sabbaths-Lust an dem Herrn (Danzig 1749)<br>Ein wolgerührtes Orgel=Werck (Königsberg 1721)<br>",
         "marker": {
          "color": "rgb(220,220,220)"
         },
         "type": "bar",
         "x": [
          "Liedzitate je Predigtprozent"
         ],
         "y": [
          100
         ]
        },
        {
         "hovertext": "5 Liedzitate im 75%<br>Die heilige Sabbaths-Lust an dem Herrn (Danzig 1749)<br>Ein wolgerührtes Orgel=Werck (Königsberg 1721)<br>Eine Christliche Orgel=Predigt (Danzig 1695)<br>Geistlich= und Gott wohlgefälliges Lob- und Danck-Opffer (Bayreuth 1680)<br>Encoenia HierOrganica (Halle 1664)<br>",
         "marker": {
          "color": "rgb(175,175,175)"
         },
         "type": "bar",
         "x": [
          "Liedzitate je Predigtprozent"
         ],
         "y": [
          100
         ]
        },
        {
         "hovertext": "11 Liedzitate im 76%<br>Der Christen gerechte Freude (Breslau 1761)<br>Christliche Predigt (Tübingen 1606)<br>Die heilige Sabbaths-Lust an dem Herrn (Danzig 1749)<br>Ein wolgerührtes Orgel=Werck (Königsberg 1721)<br>Die Christliche Harmonie (Jena 1700)<br>Eine Christliche Orgel=Predigt (Danzig 1695)<br>Das Lieblich=klingende Orgeln und Saiten=Spiel (Coburg 1676)<br>Das fröliche Halleluja (Wittenberg 1675)<br>Geistliches Orgelwerk (Erfurt 1672)<br>Organologismos (Dresden 1651)<br>Stimme des Predigers (1737)<br>",
         "marker": {
          "color": "rgb(85,85,85)"
         },
         "type": "bar",
         "x": [
          "Liedzitate je Predigtprozent"
         ],
         "y": [
          100
         ]
        },
        {
         "hovertext": "7 Liedzitate im 77%<br>Die heilige Sabbaths-Lust an dem Herrn (Danzig 1749)<br>Cithara Theologica (Schleusingen 1683)<br>Gott und Gnug (Meißen 1681)<br>Das Lieblich=klingende Orgeln und Saiten=Spiel (Coburg 1676)<br>Das fröliche Halleluja (Wittenberg 1675)<br>Organologismos (Dresden 1651)<br>Die andere Predigt (Coburg 1676)<br>",
         "marker": {
          "color": "rgb(145,145,145)"
         },
         "type": "bar",
         "x": [
          "Liedzitate je Predigtprozent"
         ],
         "y": [
          100
         ]
        },
        {
         "hovertext": "4 Liedzitate im 78%<br>Glaubiger Kinder Gottes Gott=gefällige Music (Augsburg 1721)<br>Das Lieblich=klingende Orgeln und Saiten=Spiel (Coburg 1676)<br>Das fröliche Halleluja (Wittenberg 1675)<br>Die andere Predigt (Coburg 1676)<br>",
         "marker": {
          "color": "rgb(190,190,190)"
         },
         "type": "bar",
         "x": [
          "Liedzitate je Predigtprozent"
         ],
         "y": [
          100
         ]
        },
        {
         "hovertext": "4 Liedzitate im 79%<br>Einweihungs-Predigt (Berlin 1730)<br>Geistliches Orgelwerk (Erfurt 1672)<br>Das Gott=Lob=Schallende Hosianna (Leipzig 1671)<br>Die andere Predigt (Coburg 1676)<br>",
         "marker": {
          "color": "rgb(190,190,190)"
         },
         "type": "bar",
         "x": [
          "Liedzitate je Predigtprozent"
         ],
         "y": [
          100
         ]
        },
        {
         "hovertext": "7 Liedzitate im 80%<br>Die heilige Sabbaths-Lust an dem Herrn (Danzig 1749)<br>Christliche Predigt (Straßburg 1749)<br>Die Christliche Harmonie (Jena 1700)<br>Cithara Theologica (Schleusingen 1683)<br>Geistliches Orgelwerk (Erfurt 1672)<br>Das Gott=Lob=Schallende Hosianna (Leipzig 1671)<br>Stolpenische Ehren-Crone (Dresden 1652)<br>",
         "marker": {
          "color": "rgb(145,145,145)"
         },
         "type": "bar",
         "x": [
          "Liedzitate je Predigtprozent"
         ],
         "y": [
          100
         ]
        },
        {
         "hovertext": "4 Liedzitate im 81%<br>Die heilige Sabbaths-Lust an dem Herrn (Danzig 1749)<br>Die Christliche Harmonie (Jena 1700)<br>Geistliches Orgelwerk (Erfurt 1672)<br>Stolpenische Ehren-Crone (Dresden 1652)<br>",
         "marker": {
          "color": "rgb(190,190,190)"
         },
         "type": "bar",
         "x": [
          "Liedzitate je Predigtprozent"
         ],
         "y": [
          100
         ]
        },
        {
         "hovertext": "5 Liedzitate im 82%<br>Die heilige Sabbaths-Lust an dem Herrn (Danzig 1749)<br>Die Billige Orgel-Freude (Danzig 1739)<br>Geistlich= und Gott wohlgefälliges Lob- und Danck-Opffer (Bayreuth 1680)<br>Stolpenische Ehren-Crone (Dresden 1652)<br>Organologismos (Dresden 1651)<br>",
         "marker": {
          "color": "rgb(175,175,175)"
         },
         "type": "bar",
         "x": [
          "Liedzitate je Predigtprozent"
         ],
         "y": [
          100
         ]
        },
        {
         "hovertext": "6 Liedzitate im 83%<br>Die heilige Sabbaths-Lust an dem Herrn (Danzig 1749)<br>Die Christliche Harmonie (Jena 1700)<br>Organum Mysticum (Dresden 1686)<br>Geistlich= und Gott wohlgefälliges Lob- und Danck-Opffer (Bayreuth 1680)<br>Das Lieblich=klingende Orgeln und Saiten=Spiel (Coburg 1676)<br>Stolpenische Ehren-Crone (Dresden 1652)<br>",
         "marker": {
          "color": "rgb(160,160,160)"
         },
         "type": "bar",
         "x": [
          "Liedzitate je Predigtprozent"
         ],
         "y": [
          100
         ]
        },
        {
         "hovertext": "7 Liedzitate im 84%<br>Die heilige Sabbaths-Lust an dem Herrn (Danzig 1749)<br>Den rechtmäßigen Gebrauch der Music (Königsberg 1747)<br>Organum Mysticum (Dresden 1686)<br>Geistlich= und Gott wohlgefälliges Lob- und Danck-Opffer (Bayreuth 1680)<br>Das Lieblich=klingende Orgeln und Saiten=Spiel (Coburg 1676)<br>Stolpenische Ehren-Crone (Dresden 1652)<br>Längst=gewüntzschte Mittweidische Orgel=Freude (Dresden 1648)<br>",
         "marker": {
          "color": "rgb(145,145,145)"
         },
         "type": "bar",
         "x": [
          "Liedzitate je Predigtprozent"
         ],
         "y": [
          100
         ]
        },
        {
         "hovertext": "3 Liedzitate im 85%<br>Die heilige Sabbaths-Lust an dem Herrn (Danzig 1749)<br>Das rein-gestimmte Orgel-Werk unsers Herzens (Nürnberg s.a.)<br>Die andere Predigt (Coburg 1676)<br>",
         "marker": {
          "color": "rgb(205,205,205)"
         },
         "type": "bar",
         "x": [
          "Liedzitate je Predigtprozent"
         ],
         "y": [
          100
         ]
        },
        {
         "hovertext": "5 Liedzitate im 86%<br>Das heilige und fröliche Aufsehen (Tübingen 1767)<br>Die heilige Sabbaths-Lust an dem Herrn (Danzig 1749)<br>Die edle und wohlgeordnete Music der Gläubigen (Halle 1727)<br>Die Christliche Harmonie (Jena 1700)<br>Die andere Predigt (Coburg 1676)<br>",
         "marker": {
          "color": "rgb(175,175,175)"
         },
         "type": "bar",
         "x": [
          "Liedzitate je Predigtprozent"
         ],
         "y": [
          100
         ]
        },
        {
         "hovertext": "4 Liedzitate im 87%<br>Das heilige und fröliche Aufsehen (Tübingen 1767)<br>Die heilige Sabbaths-Lust an dem Herrn (Danzig 1749)<br>Die Christliche Harmonie (Jena 1700)<br>Geistlich= und Gott wohlgefälliges Lob- und Danck-Opffer (Bayreuth 1680)<br>",
         "marker": {
          "color": "rgb(190,190,190)"
         },
         "type": "bar",
         "x": [
          "Liedzitate je Predigtprozent"
         ],
         "y": [
          100
         ]
        },
        {
         "hovertext": "6 Liedzitate im 88%<br>Die heilige Sabbaths-Lust an dem Herrn (Danzig 1749)<br>Den rechtmäßigen Gebrauch der Music (Königsberg 1747)<br>Winnedisches Reminiscere (Stuttgart 1740)<br>Die verstimmte Zwölff Grösseste Pfeiffen (Tübingen 1725)<br>Geistlich= und Gott wohlgefälliges Lob- und Danck-Opffer (Bayreuth 1680)<br>Längst=gewüntzschte Mittweidische Orgel=Freude (Dresden 1648)<br>",
         "marker": {
          "color": "rgb(160,160,160)"
         },
         "type": "bar",
         "x": [
          "Liedzitate je Predigtprozent"
         ],
         "y": [
          100
         ]
        },
        {
         "hovertext": "7 Liedzitate im 89%<br>Winnedisches Reminiscere (Stuttgart 1740)<br>Die verstimmte Zwölff Grösseste Pfeiffen (Tübingen 1725)<br>Die Christliche Harmonie (Jena 1700)<br>Das fröliche Halleluja (Wittenberg 1675)<br>Das fröliche Hallelujah (Halle 1667)<br>Evangelischer Christen Gott-gefällige Kirch-Weyhung (Dresden 1711)<br>Die andere Predigt (Coburg 1676)<br>",
         "marker": {
          "color": "rgb(145,145,145)"
         },
         "type": "bar",
         "x": [
          "Liedzitate je Predigtprozent"
         ],
         "y": [
          100
         ]
        },
        {
         "hovertext": "7 Liedzitate im 90%<br>Der Christen gerechte Freude (Breslau 1761)<br>Organum Mysticum (Dresden 1686)<br>Geistlich= und Gott wohlgefälliges Lob- und Danck-Opffer (Bayreuth 1680)<br>Das fröliche Hallelujah (Halle 1667)<br>Kostbare Bosische Orgel (Zwickau 1647)<br>Evangelischer Christen Gott-gefällige Kirch-Weyhung (Dresden 1711)<br>Die andere Predigt (Coburg 1676)<br>",
         "marker": {
          "color": "rgb(145,145,145)"
         },
         "type": "bar",
         "x": [
          "Liedzitate je Predigtprozent"
         ],
         "y": [
          100
         ]
        },
        {
         "hovertext": "9 Liedzitate im 91%<br>Der Christen gerechte Freude (Breslau 1761)<br>Davids Vermahnung (Dresden 1711)<br>Gott und Gnug (Meißen 1681)<br>Geistlich= und Gott wohlgefälliges Lob- und Danck-Opffer (Bayreuth 1680)<br>Denck- und Danck-Säule (Rothenburg ob der Tauber [1673])<br>Das Gott=Lob=Schallende Hosianna (Leipzig 1671)<br>Das fröliche Hallelujah (Halle 1667)<br>Encoenia HierOrganica (Halle 1664)<br>Kostbare Bosische Orgel (Zwickau 1647)<br>",
         "marker": {
          "color": "rgb(115,115,115)"
         },
         "type": "bar",
         "x": [
          "Liedzitate je Predigtprozent"
         ],
         "y": [
          100
         ]
        },
        {
         "hovertext": "11 Liedzitate im 92%<br>Die heilige Sabbaths-Lust an dem Herrn (Danzig 1749)<br>Den rechtmäßigen Gebrauch der Music (Königsberg 1747)<br>Davids Vermahnung (Dresden 1711)<br>Einweihungs-Predigt (Berlin 1730)<br>Organum Mysticum (Dresden 1686)<br>Cithara Theologica (Schleusingen 1683)<br>Gott und Gnug (Meißen 1681)<br>Das fröliche Hallelujah (Halle 1667)<br>Kostbare Bosische Orgel (Zwickau 1647)<br>Die andere Predigt (Coburg 1676)<br>Stimme des Predigers (1737)<br>",
         "marker": {
          "color": "rgb(85,85,85)"
         },
         "type": "bar",
         "x": [
          "Liedzitate je Predigtprozent"
         ],
         "y": [
          100
         ]
        },
        {
         "hovertext": "6 Liedzitate im 93%<br>Das Neue Lied (Freiberg 1735)<br>Die edle und wohlgeordnete Music der Gläubigen (Halle 1727)<br>Organum Mysticum (Dresden 1686)<br>Geistliches Orgelwerk (Erfurt 1672)<br>Kostbare Bosische Orgel (Zwickau 1647)<br>Stimme des Predigers (1737)<br>",
         "marker": {
          "color": "rgb(160,160,160)"
         },
         "type": "bar",
         "x": [
          "Liedzitate je Predigtprozent"
         ],
         "y": [
          100
         ]
        },
        {
         "hovertext": "8 Liedzitate im 94%<br>Den rechtmäßigen Gebrauch der Music (Königsberg 1747)<br>Winnedisches Reminiscere (Stuttgart 1740)<br>Das Neue Lied (Freiberg 1735)<br>Davids Vermahnung (Dresden 1711)<br>Cithara Theologica (Schleusingen 1683)<br>Das Lieblich=klingende Orgeln und Saiten=Spiel (Coburg 1676)<br>Denck- und Danck-Säule (Rothenburg ob der Tauber [1673])<br>Kostbare Bosische Orgel (Zwickau 1647)<br>",
         "marker": {
          "color": "rgb(130,130,130)"
         },
         "type": "bar",
         "x": [
          "Liedzitate je Predigtprozent"
         ],
         "y": [
          100
         ]
        },
        {
         "hovertext": "5 Liedzitate im 95%<br>Den rechtmäßigen Gebrauch der Music (Königsberg 1747)<br>Vivum Dei Organum (Schneeberg s.a.)<br>Gott und Gnug (Meißen 1681)<br>Das Lieblich=klingende Orgeln und Saiten=Spiel (Coburg 1676)<br>Organologismos (Dresden 1651)<br>",
         "marker": {
          "color": "rgb(175,175,175)"
         },
         "type": "bar",
         "x": [
          "Liedzitate je Predigtprozent"
         ],
         "y": [
          100
         ]
        },
        {
         "hovertext": "7 Liedzitate im 96%<br>Vivum Dei Organum (Schneeberg s.a.)<br>Das rein-gestimmte Orgel-Werk unsers Herzens (Nürnberg s.a.)<br>Die Christliche Harmonie (Jena 1700)<br>Einweihungs-Predigt (Berlin 1730)<br>Das dem Allmächtigen abzustattende Lob (Altenburg s.a.)<br>Organum Mysticum (Dresden 1686)<br>Corona Templi (Nürnberg 1621)<br>",
         "marker": {
          "color": "rgb(145,145,145)"
         },
         "type": "bar",
         "x": [
          "Liedzitate je Predigtprozent"
         ],
         "y": [
          100
         ]
        },
        {
         "hovertext": "4 Liedzitate im 97%<br>Hymnosophia sacra (Billwerder 1728)<br>Das rein-gestimmte Orgel-Werk unsers Herzens (Nürnberg s.a.)<br>Einweihungs-Predigt (Berlin 1730)<br>Geistlich= und Gott wohlgefälliges Lob- und Danck-Opffer (Bayreuth 1680)<br>",
         "marker": {
          "color": "rgb(190,190,190)"
         },
         "type": "bar",
         "x": [
          "Liedzitate je Predigtprozent"
         ],
         "y": [
          100
         ]
        },
        {
         "hovertext": "6 Liedzitate im 98%<br>Der Christen gerechte Freude (Breslau 1761)<br>Die heilige Sabbaths-Lust an dem Herrn (Danzig 1749)<br>Ein wolgerührtes Orgel=Werck (Königsberg 1721)<br>Einweihungs-Predigt (Berlin 1730)<br>Cithara Theologica (Schleusingen 1683)<br>Encoenia HierOrganica (Halle 1664)<br>",
         "marker": {
          "color": "rgb(160,160,160)"
         },
         "type": "bar",
         "x": [
          "Liedzitate je Predigtprozent"
         ],
         "y": [
          100
         ]
        },
        {
         "hovertext": "10 Liedzitate im 99%<br>Predigt Bey der Einweihung einer Orgel (Leipzig 1797)<br>Die Billige Orgel-Freude (Danzig 1739)<br>Ein wolgerührtes Orgel=Werck (Königsberg 1721)<br>Davids Vermahnung (Dresden 1711)<br>Einweihungs-Predigt (Görlitz 1704)<br>Einweihungs-Predigt (Berlin 1730)<br>Cithara Theologica (Schleusingen 1683)<br>Das Lieblich=klingende Orgeln und Saiten=Spiel (Coburg 1676)<br>Geistliches Orgelwerk (Erfurt 1672)<br>Orgel=Predigt (Arnstadt 1666)<br>",
         "marker": {
          "color": "rgb(100,100,100)"
         },
         "type": "bar",
         "x": [
          "Liedzitate je Predigtprozent"
         ],
         "y": [
          100
         ]
        },
        {
         "hovertext": "16 Liedzitate im 100%<br>Predigt Bey der Einweihung einer Orgel (Leipzig 1797)<br>Predigt am Feste der Heimsuchung Mariae (Rostock 1770)<br>Christliche Predigt (Straßburg 1749)<br>Den rechtmäßigen Gebrauch der Music (Königsberg 1747)<br>Die Billige Orgel-Freude (Danzig 1739)<br>Hymnosophia sacra (Billwerder 1728)<br>Vivum Dei Organum (Schneeberg s.a.)<br>Davids Vermahnung (Dresden 1711)<br>Christliche Orgel-Predigt (Danzig s.a.)<br>Einweihungs-Predigt (Görlitz 1704)<br>Einweihungs-Predigt (Berlin 1730)<br>Das Lieblich=klingende Orgeln und Saiten=Spiel (Coburg 1676)<br>Geistliches Orgelwerk (Erfurt 1672)<br>Organolustria Evangelico-Stambachiana (Hof 1660)<br>Die andere Predigt (Coburg 1676)<br>Organi Laudes (Plauen 1685)<br>",
         "marker": {
          "color": "rgb(10,10,10)"
         },
         "type": "bar",
         "x": [
          "Liedzitate je Predigtprozent"
         ],
         "y": [
          100
         ]
        }
       ],
       "layout": {
        "height": 500,
        "showlegend": false,
        "template": {
         "data": {
          "bar": [
           {
            "error_x": {
             "color": "#2a3f5f"
            },
            "error_y": {
             "color": "#2a3f5f"
            },
            "marker": {
             "line": {
              "color": "#E5ECF6",
              "width": 0.5
             },
             "pattern": {
              "fillmode": "overlay",
              "size": 10,
              "solidity": 0.2
             }
            },
            "type": "bar"
           }
          ],
          "barpolar": [
           {
            "marker": {
             "line": {
              "color": "#E5ECF6",
              "width": 0.5
             },
             "pattern": {
              "fillmode": "overlay",
              "size": 10,
              "solidity": 0.2
             }
            },
            "type": "barpolar"
           }
          ],
          "carpet": [
           {
            "aaxis": {
             "endlinecolor": "#2a3f5f",
             "gridcolor": "white",
             "linecolor": "white",
             "minorgridcolor": "white",
             "startlinecolor": "#2a3f5f"
            },
            "baxis": {
             "endlinecolor": "#2a3f5f",
             "gridcolor": "white",
             "linecolor": "white",
             "minorgridcolor": "white",
             "startlinecolor": "#2a3f5f"
            },
            "type": "carpet"
           }
          ],
          "choropleth": [
           {
            "colorbar": {
             "outlinewidth": 0,
             "ticks": ""
            },
            "type": "choropleth"
           }
          ],
          "contour": [
           {
            "colorbar": {
             "outlinewidth": 0,
             "ticks": ""
            },
            "colorscale": [
             [
              0,
              "#0d0887"
             ],
             [
              0.1111111111111111,
              "#46039f"
             ],
             [
              0.2222222222222222,
              "#7201a8"
             ],
             [
              0.3333333333333333,
              "#9c179e"
             ],
             [
              0.4444444444444444,
              "#bd3786"
             ],
             [
              0.5555555555555556,
              "#d8576b"
             ],
             [
              0.6666666666666666,
              "#ed7953"
             ],
             [
              0.7777777777777778,
              "#fb9f3a"
             ],
             [
              0.8888888888888888,
              "#fdca26"
             ],
             [
              1,
              "#f0f921"
             ]
            ],
            "type": "contour"
           }
          ],
          "contourcarpet": [
           {
            "colorbar": {
             "outlinewidth": 0,
             "ticks": ""
            },
            "type": "contourcarpet"
           }
          ],
          "heatmap": [
           {
            "colorbar": {
             "outlinewidth": 0,
             "ticks": ""
            },
            "colorscale": [
             [
              0,
              "#0d0887"
             ],
             [
              0.1111111111111111,
              "#46039f"
             ],
             [
              0.2222222222222222,
              "#7201a8"
             ],
             [
              0.3333333333333333,
              "#9c179e"
             ],
             [
              0.4444444444444444,
              "#bd3786"
             ],
             [
              0.5555555555555556,
              "#d8576b"
             ],
             [
              0.6666666666666666,
              "#ed7953"
             ],
             [
              0.7777777777777778,
              "#fb9f3a"
             ],
             [
              0.8888888888888888,
              "#fdca26"
             ],
             [
              1,
              "#f0f921"
             ]
            ],
            "type": "heatmap"
           }
          ],
          "histogram": [
           {
            "marker": {
             "pattern": {
              "fillmode": "overlay",
              "size": 10,
              "solidity": 0.2
             }
            },
            "type": "histogram"
           }
          ],
          "histogram2d": [
           {
            "colorbar": {
             "outlinewidth": 0,
             "ticks": ""
            },
            "colorscale": [
             [
              0,
              "#0d0887"
             ],
             [
              0.1111111111111111,
              "#46039f"
             ],
             [
              0.2222222222222222,
              "#7201a8"
             ],
             [
              0.3333333333333333,
              "#9c179e"
             ],
             [
              0.4444444444444444,
              "#bd3786"
             ],
             [
              0.5555555555555556,
              "#d8576b"
             ],
             [
              0.6666666666666666,
              "#ed7953"
             ],
             [
              0.7777777777777778,
              "#fb9f3a"
             ],
             [
              0.8888888888888888,
              "#fdca26"
             ],
             [
              1,
              "#f0f921"
             ]
            ],
            "type": "histogram2d"
           }
          ],
          "histogram2dcontour": [
           {
            "colorbar": {
             "outlinewidth": 0,
             "ticks": ""
            },
            "colorscale": [
             [
              0,
              "#0d0887"
             ],
             [
              0.1111111111111111,
              "#46039f"
             ],
             [
              0.2222222222222222,
              "#7201a8"
             ],
             [
              0.3333333333333333,
              "#9c179e"
             ],
             [
              0.4444444444444444,
              "#bd3786"
             ],
             [
              0.5555555555555556,
              "#d8576b"
             ],
             [
              0.6666666666666666,
              "#ed7953"
             ],
             [
              0.7777777777777778,
              "#fb9f3a"
             ],
             [
              0.8888888888888888,
              "#fdca26"
             ],
             [
              1,
              "#f0f921"
             ]
            ],
            "type": "histogram2dcontour"
           }
          ],
          "mesh3d": [
           {
            "colorbar": {
             "outlinewidth": 0,
             "ticks": ""
            },
            "type": "mesh3d"
           }
          ],
          "parcoords": [
           {
            "line": {
             "colorbar": {
              "outlinewidth": 0,
              "ticks": ""
             }
            },
            "type": "parcoords"
           }
          ],
          "pie": [
           {
            "automargin": true,
            "type": "pie"
           }
          ],
          "scatter": [
           {
            "fillpattern": {
             "fillmode": "overlay",
             "size": 10,
             "solidity": 0.2
            },
            "type": "scatter"
           }
          ],
          "scatter3d": [
           {
            "line": {
             "colorbar": {
              "outlinewidth": 0,
              "ticks": ""
             }
            },
            "marker": {
             "colorbar": {
              "outlinewidth": 0,
              "ticks": ""
             }
            },
            "type": "scatter3d"
           }
          ],
          "scattercarpet": [
           {
            "marker": {
             "colorbar": {
              "outlinewidth": 0,
              "ticks": ""
             }
            },
            "type": "scattercarpet"
           }
          ],
          "scattergeo": [
           {
            "marker": {
             "colorbar": {
              "outlinewidth": 0,
              "ticks": ""
             }
            },
            "type": "scattergeo"
           }
          ],
          "scattergl": [
           {
            "marker": {
             "colorbar": {
              "outlinewidth": 0,
              "ticks": ""
             }
            },
            "type": "scattergl"
           }
          ],
          "scattermap": [
           {
            "marker": {
             "colorbar": {
              "outlinewidth": 0,
              "ticks": ""
             }
            },
            "type": "scattermap"
           }
          ],
          "scattermapbox": [
           {
            "marker": {
             "colorbar": {
              "outlinewidth": 0,
              "ticks": ""
             }
            },
            "type": "scattermapbox"
           }
          ],
          "scatterpolar": [
           {
            "marker": {
             "colorbar": {
              "outlinewidth": 0,
              "ticks": ""
             }
            },
            "type": "scatterpolar"
           }
          ],
          "scatterpolargl": [
           {
            "marker": {
             "colorbar": {
              "outlinewidth": 0,
              "ticks": ""
             }
            },
            "type": "scatterpolargl"
           }
          ],
          "scatterternary": [
           {
            "marker": {
             "colorbar": {
              "outlinewidth": 0,
              "ticks": ""
             }
            },
            "type": "scatterternary"
           }
          ],
          "surface": [
           {
            "colorbar": {
             "outlinewidth": 0,
             "ticks": ""
            },
            "colorscale": [
             [
              0,
              "#0d0887"
             ],
             [
              0.1111111111111111,
              "#46039f"
             ],
             [
              0.2222222222222222,
              "#7201a8"
             ],
             [
              0.3333333333333333,
              "#9c179e"
             ],
             [
              0.4444444444444444,
              "#bd3786"
             ],
             [
              0.5555555555555556,
              "#d8576b"
             ],
             [
              0.6666666666666666,
              "#ed7953"
             ],
             [
              0.7777777777777778,
              "#fb9f3a"
             ],
             [
              0.8888888888888888,
              "#fdca26"
             ],
             [
              1,
              "#f0f921"
             ]
            ],
            "type": "surface"
           }
          ],
          "table": [
           {
            "cells": {
             "fill": {
              "color": "#EBF0F8"
             },
             "line": {
              "color": "white"
             }
            },
            "header": {
             "fill": {
              "color": "#C8D4E3"
             },
             "line": {
              "color": "white"
             }
            },
            "type": "table"
           }
          ]
         },
         "layout": {
          "annotationdefaults": {
           "arrowcolor": "#2a3f5f",
           "arrowhead": 0,
           "arrowwidth": 1
          },
          "autotypenumbers": "strict",
          "coloraxis": {
           "colorbar": {
            "outlinewidth": 0,
            "ticks": ""
           }
          },
          "colorscale": {
           "diverging": [
            [
             0,
             "#8e0152"
            ],
            [
             0.1,
             "#c51b7d"
            ],
            [
             0.2,
             "#de77ae"
            ],
            [
             0.3,
             "#f1b6da"
            ],
            [
             0.4,
             "#fde0ef"
            ],
            [
             0.5,
             "#f7f7f7"
            ],
            [
             0.6,
             "#e6f5d0"
            ],
            [
             0.7,
             "#b8e186"
            ],
            [
             0.8,
             "#7fbc41"
            ],
            [
             0.9,
             "#4d9221"
            ],
            [
             1,
             "#276419"
            ]
           ],
           "sequential": [
            [
             0,
             "#0d0887"
            ],
            [
             0.1111111111111111,
             "#46039f"
            ],
            [
             0.2222222222222222,
             "#7201a8"
            ],
            [
             0.3333333333333333,
             "#9c179e"
            ],
            [
             0.4444444444444444,
             "#bd3786"
            ],
            [
             0.5555555555555556,
             "#d8576b"
            ],
            [
             0.6666666666666666,
             "#ed7953"
            ],
            [
             0.7777777777777778,
             "#fb9f3a"
            ],
            [
             0.8888888888888888,
             "#fdca26"
            ],
            [
             1,
             "#f0f921"
            ]
           ],
           "sequentialminus": [
            [
             0,
             "#0d0887"
            ],
            [
             0.1111111111111111,
             "#46039f"
            ],
            [
             0.2222222222222222,
             "#7201a8"
            ],
            [
             0.3333333333333333,
             "#9c179e"
            ],
            [
             0.4444444444444444,
             "#bd3786"
            ],
            [
             0.5555555555555556,
             "#d8576b"
            ],
            [
             0.6666666666666666,
             "#ed7953"
            ],
            [
             0.7777777777777778,
             "#fb9f3a"
            ],
            [
             0.8888888888888888,
             "#fdca26"
            ],
            [
             1,
             "#f0f921"
            ]
           ]
          },
          "colorway": [
           "#636efa",
           "#EF553B",
           "#00cc96",
           "#ab63fa",
           "#FFA15A",
           "#19d3f3",
           "#FF6692",
           "#B6E880",
           "#FF97FF",
           "#FECB52"
          ],
          "font": {
           "color": "#2a3f5f"
          },
          "geo": {
           "bgcolor": "white",
           "lakecolor": "white",
           "landcolor": "#E5ECF6",
           "showlakes": true,
           "showland": true,
           "subunitcolor": "white"
          },
          "hoverlabel": {
           "align": "left"
          },
          "hovermode": "closest",
          "mapbox": {
           "style": "light"
          },
          "paper_bgcolor": "white",
          "plot_bgcolor": "#E5ECF6",
          "polar": {
           "angularaxis": {
            "gridcolor": "white",
            "linecolor": "white",
            "ticks": ""
           },
           "bgcolor": "#E5ECF6",
           "radialaxis": {
            "gridcolor": "white",
            "linecolor": "white",
            "ticks": ""
           }
          },
          "scene": {
           "xaxis": {
            "backgroundcolor": "#E5ECF6",
            "gridcolor": "white",
            "gridwidth": 2,
            "linecolor": "white",
            "showbackground": true,
            "ticks": "",
            "zerolinecolor": "white"
           },
           "yaxis": {
            "backgroundcolor": "#E5ECF6",
            "gridcolor": "white",
            "gridwidth": 2,
            "linecolor": "white",
            "showbackground": true,
            "ticks": "",
            "zerolinecolor": "white"
           },
           "zaxis": {
            "backgroundcolor": "#E5ECF6",
            "gridcolor": "white",
            "gridwidth": 2,
            "linecolor": "white",
            "showbackground": true,
            "ticks": "",
            "zerolinecolor": "white"
           }
          },
          "shapedefaults": {
           "line": {
            "color": "#2a3f5f"
           }
          },
          "ternary": {
           "aaxis": {
            "gridcolor": "white",
            "linecolor": "white",
            "ticks": ""
           },
           "baxis": {
            "gridcolor": "white",
            "linecolor": "white",
            "ticks": ""
           },
           "bgcolor": "#E5ECF6",
           "caxis": {
            "gridcolor": "white",
            "linecolor": "white",
            "ticks": ""
           }
          },
          "title": {
           "x": 0.05
          },
          "xaxis": {
           "automargin": true,
           "gridcolor": "white",
           "linecolor": "white",
           "ticks": "",
           "title": {
            "standoff": 15
           },
           "zerolinecolor": "white",
           "zerolinewidth": 2
          },
          "yaxis": {
           "automargin": true,
           "gridcolor": "white",
           "linecolor": "white",
           "ticks": "",
           "title": {
            "standoff": 15
           },
           "zerolinecolor": "white",
           "zerolinewidth": 2
          }
         }
        },
        "width": 1500
       }
      }
     },
     "metadata": {},
     "output_type": "display_data"
    }
   ],
   "source": [
    "create_quote_dist_chart(ids, \"musikwerk\")"
   ]
  },
  {
   "cell_type": "markdown",
   "id": "21811e64",
   "metadata": {},
   "source": [
    "# Create Song Distribution Chart in 25 Year Increments"
   ]
  },
  {
   "cell_type": "code",
   "execution_count": 37,
   "id": "d7635a6b",
   "metadata": {},
   "outputs": [],
   "source": [
    "def group_sermons_in_years(data, interval: int) -> list:\n",
    "    chunked_sermons = []\n",
    "    start_year = 1600\n",
    "    end_year = 1800\n",
    "    yearfinder = re.compile(r'[0-9]{4}')\n",
    "    for i in range(start_year, end_year, interval):\n",
    "        sermons = []\n",
    "        for id, info in data.items():\n",
    "            year = int(re.findall(yearfinder, info['year'])[0])\n",
    "            if year > i and year < i + interval:\n",
    "                sermons.append(id)\n",
    "        chunked_sermons.append(sermons)\n",
    "\n",
    "    return chunked_sermons\n"
   ]
  },
  {
   "cell_type": "code",
   "execution_count": 38,
   "id": "58e51bb1",
   "metadata": {},
   "outputs": [],
   "source": [
    "sermons_grouped_25 = group_sermons_in_years(data, 25)\n",
    "sermons_grouped_50 = group_sermons_in_years(data, 50)"
   ]
  },
  {
   "cell_type": "code",
   "execution_count": 39,
   "id": "649576c3",
   "metadata": {},
   "outputs": [],
   "source": [
    "figs_25 = []\n",
    "for i in range(len(sermons_grouped_25)):\n",
    "    figs_25.append(create_quote_dist_chart(sermons_grouped_25[i], \"musikwerk\"))\n",
    "    "
   ]
  },
  {
   "cell_type": "code",
   "execution_count": 40,
   "id": "b69398f7",
   "metadata": {},
   "outputs": [
    {
     "data": {
      "application/vnd.plotly.v1+json": {
       "config": {
        "plotlyServerURL": "https://plot.ly"
       },
       "data": [
        {
         "hovertext": "0 Liedzitate im 1%",
         "marker": {
          "color": "rgb(250,250,250)"
         },
         "type": "bar",
         "x": [
          "Liedzitate je Predigtprozent"
         ],
         "xaxis": "x",
         "y": [
          100
         ],
         "yaxis": "y"
        },
        {
         "hovertext": "0 Liedzitate im 2%",
         "marker": {
          "color": "rgb(250,250,250)"
         },
         "type": "bar",
         "x": [
          "Liedzitate je Predigtprozent"
         ],
         "xaxis": "x",
         "y": [
          100
         ],
         "yaxis": "y"
        },
        {
         "hovertext": "0 Liedzitate im 3%",
         "marker": {
          "color": "rgb(250,250,250)"
         },
         "type": "bar",
         "x": [
          "Liedzitate je Predigtprozent"
         ],
         "xaxis": "x",
         "y": [
          100
         ],
         "yaxis": "y"
        },
        {
         "hovertext": "0 Liedzitate im 4%",
         "marker": {
          "color": "rgb(250,250,250)"
         },
         "type": "bar",
         "x": [
          "Liedzitate je Predigtprozent"
         ],
         "xaxis": "x",
         "y": [
          100
         ],
         "yaxis": "y"
        },
        {
         "hovertext": "0 Liedzitate im 5%",
         "marker": {
          "color": "rgb(250,250,250)"
         },
         "type": "bar",
         "x": [
          "Liedzitate je Predigtprozent"
         ],
         "xaxis": "x",
         "y": [
          100
         ],
         "yaxis": "y"
        },
        {
         "hovertext": "0 Liedzitate im 6%",
         "marker": {
          "color": "rgb(250,250,250)"
         },
         "type": "bar",
         "x": [
          "Liedzitate je Predigtprozent"
         ],
         "xaxis": "x",
         "y": [
          100
         ],
         "yaxis": "y"
        },
        {
         "hovertext": "0 Liedzitate im 7%",
         "marker": {
          "color": "rgb(250,250,250)"
         },
         "type": "bar",
         "x": [
          "Liedzitate je Predigtprozent"
         ],
         "xaxis": "x",
         "y": [
          100
         ],
         "yaxis": "y"
        },
        {
         "hovertext": "0 Liedzitate im 8%",
         "marker": {
          "color": "rgb(250,250,250)"
         },
         "type": "bar",
         "x": [
          "Liedzitate je Predigtprozent"
         ],
         "xaxis": "x",
         "y": [
          100
         ],
         "yaxis": "y"
        },
        {
         "hovertext": "0 Liedzitate im 9%",
         "marker": {
          "color": "rgb(250,250,250)"
         },
         "type": "bar",
         "x": [
          "Liedzitate je Predigtprozent"
         ],
         "xaxis": "x",
         "y": [
          100
         ],
         "yaxis": "y"
        },
        {
         "hovertext": "0 Liedzitate im 10%",
         "marker": {
          "color": "rgb(250,250,250)"
         },
         "type": "bar",
         "x": [
          "Liedzitate je Predigtprozent"
         ],
         "xaxis": "x",
         "y": [
          100
         ],
         "yaxis": "y"
        },
        {
         "hovertext": "0 Liedzitate im 11%",
         "marker": {
          "color": "rgb(250,250,250)"
         },
         "type": "bar",
         "x": [
          "Liedzitate je Predigtprozent"
         ],
         "xaxis": "x",
         "y": [
          100
         ],
         "yaxis": "y"
        },
        {
         "hovertext": "0 Liedzitate im 12%",
         "marker": {
          "color": "rgb(250,250,250)"
         },
         "type": "bar",
         "x": [
          "Liedzitate je Predigtprozent"
         ],
         "xaxis": "x",
         "y": [
          100
         ],
         "yaxis": "y"
        },
        {
         "hovertext": "0 Liedzitate im 13%",
         "marker": {
          "color": "rgb(250,250,250)"
         },
         "type": "bar",
         "x": [
          "Liedzitate je Predigtprozent"
         ],
         "xaxis": "x",
         "y": [
          100
         ],
         "yaxis": "y"
        },
        {
         "hovertext": "0 Liedzitate im 14%",
         "marker": {
          "color": "rgb(250,250,250)"
         },
         "type": "bar",
         "x": [
          "Liedzitate je Predigtprozent"
         ],
         "xaxis": "x",
         "y": [
          100
         ],
         "yaxis": "y"
        },
        {
         "hovertext": "0 Liedzitate im 15%",
         "marker": {
          "color": "rgb(250,250,250)"
         },
         "type": "bar",
         "x": [
          "Liedzitate je Predigtprozent"
         ],
         "xaxis": "x",
         "y": [
          100
         ],
         "yaxis": "y"
        },
        {
         "hovertext": "0 Liedzitate im 16%",
         "marker": {
          "color": "rgb(250,250,250)"
         },
         "type": "bar",
         "x": [
          "Liedzitate je Predigtprozent"
         ],
         "xaxis": "x",
         "y": [
          100
         ],
         "yaxis": "y"
        },
        {
         "hovertext": "0 Liedzitate im 17%",
         "marker": {
          "color": "rgb(250,250,250)"
         },
         "type": "bar",
         "x": [
          "Liedzitate je Predigtprozent"
         ],
         "xaxis": "x",
         "y": [
          100
         ],
         "yaxis": "y"
        },
        {
         "hovertext": "0 Liedzitate im 18%",
         "marker": {
          "color": "rgb(250,250,250)"
         },
         "type": "bar",
         "x": [
          "Liedzitate je Predigtprozent"
         ],
         "xaxis": "x",
         "y": [
          100
         ],
         "yaxis": "y"
        },
        {
         "hovertext": "0 Liedzitate im 19%",
         "marker": {
          "color": "rgb(250,250,250)"
         },
         "type": "bar",
         "x": [
          "Liedzitate je Predigtprozent"
         ],
         "xaxis": "x",
         "y": [
          100
         ],
         "yaxis": "y"
        },
        {
         "hovertext": "0 Liedzitate im 20%",
         "marker": {
          "color": "rgb(250,250,250)"
         },
         "type": "bar",
         "x": [
          "Liedzitate je Predigtprozent"
         ],
         "xaxis": "x",
         "y": [
          100
         ],
         "yaxis": "y"
        },
        {
         "hovertext": "0 Liedzitate im 21%",
         "marker": {
          "color": "rgb(250,250,250)"
         },
         "type": "bar",
         "x": [
          "Liedzitate je Predigtprozent"
         ],
         "xaxis": "x",
         "y": [
          100
         ],
         "yaxis": "y"
        },
        {
         "hovertext": "0 Liedzitate im 22%",
         "marker": {
          "color": "rgb(250,250,250)"
         },
         "type": "bar",
         "x": [
          "Liedzitate je Predigtprozent"
         ],
         "xaxis": "x",
         "y": [
          100
         ],
         "yaxis": "y"
        },
        {
         "hovertext": "0 Liedzitate im 23%",
         "marker": {
          "color": "rgb(250,250,250)"
         },
         "type": "bar",
         "x": [
          "Liedzitate je Predigtprozent"
         ],
         "xaxis": "x",
         "y": [
          100
         ],
         "yaxis": "y"
        },
        {
         "hovertext": "0 Liedzitate im 24%",
         "marker": {
          "color": "rgb(250,250,250)"
         },
         "type": "bar",
         "x": [
          "Liedzitate je Predigtprozent"
         ],
         "xaxis": "x",
         "y": [
          100
         ],
         "yaxis": "y"
        },
        {
         "hovertext": "0 Liedzitate im 25%",
         "marker": {
          "color": "rgb(250,250,250)"
         },
         "type": "bar",
         "x": [
          "Liedzitate je Predigtprozent"
         ],
         "xaxis": "x",
         "y": [
          100
         ],
         "yaxis": "y"
        },
        {
         "hovertext": "0 Liedzitate im 26%",
         "marker": {
          "color": "rgb(250,250,250)"
         },
         "type": "bar",
         "x": [
          "Liedzitate je Predigtprozent"
         ],
         "xaxis": "x",
         "y": [
          100
         ],
         "yaxis": "y"
        },
        {
         "hovertext": "0 Liedzitate im 27%",
         "marker": {
          "color": "rgb(250,250,250)"
         },
         "type": "bar",
         "x": [
          "Liedzitate je Predigtprozent"
         ],
         "xaxis": "x",
         "y": [
          100
         ],
         "yaxis": "y"
        },
        {
         "hovertext": "0 Liedzitate im 28%",
         "marker": {
          "color": "rgb(250,250,250)"
         },
         "type": "bar",
         "x": [
          "Liedzitate je Predigtprozent"
         ],
         "xaxis": "x",
         "y": [
          100
         ],
         "yaxis": "y"
        },
        {
         "hovertext": "0 Liedzitate im 29%",
         "marker": {
          "color": "rgb(250,250,250)"
         },
         "type": "bar",
         "x": [
          "Liedzitate je Predigtprozent"
         ],
         "xaxis": "x",
         "y": [
          100
         ],
         "yaxis": "y"
        },
        {
         "hovertext": "0 Liedzitate im 30%",
         "marker": {
          "color": "rgb(250,250,250)"
         },
         "type": "bar",
         "x": [
          "Liedzitate je Predigtprozent"
         ],
         "xaxis": "x",
         "y": [
          100
         ],
         "yaxis": "y"
        },
        {
         "hovertext": "0 Liedzitate im 31%",
         "marker": {
          "color": "rgb(250,250,250)"
         },
         "type": "bar",
         "x": [
          "Liedzitate je Predigtprozent"
         ],
         "xaxis": "x",
         "y": [
          100
         ],
         "yaxis": "y"
        },
        {
         "hovertext": "0 Liedzitate im 32%",
         "marker": {
          "color": "rgb(250,250,250)"
         },
         "type": "bar",
         "x": [
          "Liedzitate je Predigtprozent"
         ],
         "xaxis": "x",
         "y": [
          100
         ],
         "yaxis": "y"
        },
        {
         "hovertext": "0 Liedzitate im 33%",
         "marker": {
          "color": "rgb(250,250,250)"
         },
         "type": "bar",
         "x": [
          "Liedzitate je Predigtprozent"
         ],
         "xaxis": "x",
         "y": [
          100
         ],
         "yaxis": "y"
        },
        {
         "hovertext": "0 Liedzitate im 34%",
         "marker": {
          "color": "rgb(250,250,250)"
         },
         "type": "bar",
         "x": [
          "Liedzitate je Predigtprozent"
         ],
         "xaxis": "x",
         "y": [
          100
         ],
         "yaxis": "y"
        },
        {
         "hovertext": "0 Liedzitate im 35%",
         "marker": {
          "color": "rgb(250,250,250)"
         },
         "type": "bar",
         "x": [
          "Liedzitate je Predigtprozent"
         ],
         "xaxis": "x",
         "y": [
          100
         ],
         "yaxis": "y"
        },
        {
         "hovertext": "0 Liedzitate im 36%",
         "marker": {
          "color": "rgb(250,250,250)"
         },
         "type": "bar",
         "x": [
          "Liedzitate je Predigtprozent"
         ],
         "xaxis": "x",
         "y": [
          100
         ],
         "yaxis": "y"
        },
        {
         "hovertext": "0 Liedzitate im 37%",
         "marker": {
          "color": "rgb(250,250,250)"
         },
         "type": "bar",
         "x": [
          "Liedzitate je Predigtprozent"
         ],
         "xaxis": "x",
         "y": [
          100
         ],
         "yaxis": "y"
        },
        {
         "hovertext": "0 Liedzitate im 38%",
         "marker": {
          "color": "rgb(250,250,250)"
         },
         "type": "bar",
         "x": [
          "Liedzitate je Predigtprozent"
         ],
         "xaxis": "x",
         "y": [
          100
         ],
         "yaxis": "y"
        },
        {
         "hovertext": "0 Liedzitate im 39%",
         "marker": {
          "color": "rgb(250,250,250)"
         },
         "type": "bar",
         "x": [
          "Liedzitate je Predigtprozent"
         ],
         "xaxis": "x",
         "y": [
          100
         ],
         "yaxis": "y"
        },
        {
         "hovertext": "0 Liedzitate im 40%",
         "marker": {
          "color": "rgb(250,250,250)"
         },
         "type": "bar",
         "x": [
          "Liedzitate je Predigtprozent"
         ],
         "xaxis": "x",
         "y": [
          100
         ],
         "yaxis": "y"
        },
        {
         "hovertext": "0 Liedzitate im 41%",
         "marker": {
          "color": "rgb(250,250,250)"
         },
         "type": "bar",
         "x": [
          "Liedzitate je Predigtprozent"
         ],
         "xaxis": "x",
         "y": [
          100
         ],
         "yaxis": "y"
        },
        {
         "hovertext": "0 Liedzitate im 42%",
         "marker": {
          "color": "rgb(250,250,250)"
         },
         "type": "bar",
         "x": [
          "Liedzitate je Predigtprozent"
         ],
         "xaxis": "x",
         "y": [
          100
         ],
         "yaxis": "y"
        },
        {
         "hovertext": "0 Liedzitate im 43%",
         "marker": {
          "color": "rgb(250,250,250)"
         },
         "type": "bar",
         "x": [
          "Liedzitate je Predigtprozent"
         ],
         "xaxis": "x",
         "y": [
          100
         ],
         "yaxis": "y"
        },
        {
         "hovertext": "0 Liedzitate im 44%",
         "marker": {
          "color": "rgb(250,250,250)"
         },
         "type": "bar",
         "x": [
          "Liedzitate je Predigtprozent"
         ],
         "xaxis": "x",
         "y": [
          100
         ],
         "yaxis": "y"
        },
        {
         "hovertext": "0 Liedzitate im 45%",
         "marker": {
          "color": "rgb(250,250,250)"
         },
         "type": "bar",
         "x": [
          "Liedzitate je Predigtprozent"
         ],
         "xaxis": "x",
         "y": [
          100
         ],
         "yaxis": "y"
        },
        {
         "hovertext": "0 Liedzitate im 46%",
         "marker": {
          "color": "rgb(250,250,250)"
         },
         "type": "bar",
         "x": [
          "Liedzitate je Predigtprozent"
         ],
         "xaxis": "x",
         "y": [
          100
         ],
         "yaxis": "y"
        },
        {
         "hovertext": "0 Liedzitate im 47%",
         "marker": {
          "color": "rgb(250,250,250)"
         },
         "type": "bar",
         "x": [
          "Liedzitate je Predigtprozent"
         ],
         "xaxis": "x",
         "y": [
          100
         ],
         "yaxis": "y"
        },
        {
         "hovertext": "0 Liedzitate im 48%",
         "marker": {
          "color": "rgb(250,250,250)"
         },
         "type": "bar",
         "x": [
          "Liedzitate je Predigtprozent"
         ],
         "xaxis": "x",
         "y": [
          100
         ],
         "yaxis": "y"
        },
        {
         "hovertext": "0 Liedzitate im 49%",
         "marker": {
          "color": "rgb(250,250,250)"
         },
         "type": "bar",
         "x": [
          "Liedzitate je Predigtprozent"
         ],
         "xaxis": "x",
         "y": [
          100
         ],
         "yaxis": "y"
        },
        {
         "hovertext": "0 Liedzitate im 50%",
         "marker": {
          "color": "rgb(250,250,250)"
         },
         "type": "bar",
         "x": [
          "Liedzitate je Predigtprozent"
         ],
         "xaxis": "x",
         "y": [
          100
         ],
         "yaxis": "y"
        },
        {
         "hovertext": "0 Liedzitate im 51%",
         "marker": {
          "color": "rgb(250,250,250)"
         },
         "type": "bar",
         "x": [
          "Liedzitate je Predigtprozent"
         ],
         "xaxis": "x",
         "y": [
          100
         ],
         "yaxis": "y"
        },
        {
         "hovertext": "0 Liedzitate im 52%",
         "marker": {
          "color": "rgb(250,250,250)"
         },
         "type": "bar",
         "x": [
          "Liedzitate je Predigtprozent"
         ],
         "xaxis": "x",
         "y": [
          100
         ],
         "yaxis": "y"
        },
        {
         "hovertext": "0 Liedzitate im 53%",
         "marker": {
          "color": "rgb(250,250,250)"
         },
         "type": "bar",
         "x": [
          "Liedzitate je Predigtprozent"
         ],
         "xaxis": "x",
         "y": [
          100
         ],
         "yaxis": "y"
        },
        {
         "hovertext": "0 Liedzitate im 54%",
         "marker": {
          "color": "rgb(250,250,250)"
         },
         "type": "bar",
         "x": [
          "Liedzitate je Predigtprozent"
         ],
         "xaxis": "x",
         "y": [
          100
         ],
         "yaxis": "y"
        },
        {
         "hovertext": "0 Liedzitate im 55%",
         "marker": {
          "color": "rgb(250,250,250)"
         },
         "type": "bar",
         "x": [
          "Liedzitate je Predigtprozent"
         ],
         "xaxis": "x",
         "y": [
          100
         ],
         "yaxis": "y"
        },
        {
         "hovertext": "0 Liedzitate im 56%",
         "marker": {
          "color": "rgb(250,250,250)"
         },
         "type": "bar",
         "x": [
          "Liedzitate je Predigtprozent"
         ],
         "xaxis": "x",
         "y": [
          100
         ],
         "yaxis": "y"
        },
        {
         "hovertext": "1 Liedzitate im 57%<br>Christliche Predigt (Tübingen 1606)<br>",
         "marker": {
          "color": "rgb(235,235,235)"
         },
         "type": "bar",
         "x": [
          "Liedzitate je Predigtprozent"
         ],
         "xaxis": "x",
         "y": [
          100
         ],
         "yaxis": "y"
        },
        {
         "hovertext": "0 Liedzitate im 58%",
         "marker": {
          "color": "rgb(250,250,250)"
         },
         "type": "bar",
         "x": [
          "Liedzitate je Predigtprozent"
         ],
         "xaxis": "x",
         "y": [
          100
         ],
         "yaxis": "y"
        },
        {
         "hovertext": "0 Liedzitate im 59%",
         "marker": {
          "color": "rgb(250,250,250)"
         },
         "type": "bar",
         "x": [
          "Liedzitate je Predigtprozent"
         ],
         "xaxis": "x",
         "y": [
          100
         ],
         "yaxis": "y"
        },
        {
         "hovertext": "0 Liedzitate im 60%",
         "marker": {
          "color": "rgb(250,250,250)"
         },
         "type": "bar",
         "x": [
          "Liedzitate je Predigtprozent"
         ],
         "xaxis": "x",
         "y": [
          100
         ],
         "yaxis": "y"
        },
        {
         "hovertext": "0 Liedzitate im 61%",
         "marker": {
          "color": "rgb(250,250,250)"
         },
         "type": "bar",
         "x": [
          "Liedzitate je Predigtprozent"
         ],
         "xaxis": "x",
         "y": [
          100
         ],
         "yaxis": "y"
        },
        {
         "hovertext": "0 Liedzitate im 62%",
         "marker": {
          "color": "rgb(250,250,250)"
         },
         "type": "bar",
         "x": [
          "Liedzitate je Predigtprozent"
         ],
         "xaxis": "x",
         "y": [
          100
         ],
         "yaxis": "y"
        },
        {
         "hovertext": "0 Liedzitate im 63%",
         "marker": {
          "color": "rgb(250,250,250)"
         },
         "type": "bar",
         "x": [
          "Liedzitate je Predigtprozent"
         ],
         "xaxis": "x",
         "y": [
          100
         ],
         "yaxis": "y"
        },
        {
         "hovertext": "0 Liedzitate im 64%",
         "marker": {
          "color": "rgb(250,250,250)"
         },
         "type": "bar",
         "x": [
          "Liedzitate je Predigtprozent"
         ],
         "xaxis": "x",
         "y": [
          100
         ],
         "yaxis": "y"
        },
        {
         "hovertext": "1 Liedzitate im 65%<br>Christliche Predigt (Tübingen 1606)<br>",
         "marker": {
          "color": "rgb(235,235,235)"
         },
         "type": "bar",
         "x": [
          "Liedzitate je Predigtprozent"
         ],
         "xaxis": "x",
         "y": [
          100
         ],
         "yaxis": "y"
        },
        {
         "hovertext": "0 Liedzitate im 66%",
         "marker": {
          "color": "rgb(250,250,250)"
         },
         "type": "bar",
         "x": [
          "Liedzitate je Predigtprozent"
         ],
         "xaxis": "x",
         "y": [
          100
         ],
         "yaxis": "y"
        },
        {
         "hovertext": "1 Liedzitate im 67%<br>Elogium Organi Musici (Altenburg 1610)<br>",
         "marker": {
          "color": "rgb(235,235,235)"
         },
         "type": "bar",
         "x": [
          "Liedzitate je Predigtprozent"
         ],
         "xaxis": "x",
         "y": [
          100
         ],
         "yaxis": "y"
        },
        {
         "hovertext": "0 Liedzitate im 68%",
         "marker": {
          "color": "rgb(250,250,250)"
         },
         "type": "bar",
         "x": [
          "Liedzitate je Predigtprozent"
         ],
         "xaxis": "x",
         "y": [
          100
         ],
         "yaxis": "y"
        },
        {
         "hovertext": "0 Liedzitate im 69%",
         "marker": {
          "color": "rgb(250,250,250)"
         },
         "type": "bar",
         "x": [
          "Liedzitate je Predigtprozent"
         ],
         "xaxis": "x",
         "y": [
          100
         ],
         "yaxis": "y"
        },
        {
         "hovertext": "0 Liedzitate im 70%",
         "marker": {
          "color": "rgb(250,250,250)"
         },
         "type": "bar",
         "x": [
          "Liedzitate je Predigtprozent"
         ],
         "xaxis": "x",
         "y": [
          100
         ],
         "yaxis": "y"
        },
        {
         "hovertext": "0 Liedzitate im 71%",
         "marker": {
          "color": "rgb(250,250,250)"
         },
         "type": "bar",
         "x": [
          "Liedzitate je Predigtprozent"
         ],
         "xaxis": "x",
         "y": [
          100
         ],
         "yaxis": "y"
        },
        {
         "hovertext": "0 Liedzitate im 72%",
         "marker": {
          "color": "rgb(250,250,250)"
         },
         "type": "bar",
         "x": [
          "Liedzitate je Predigtprozent"
         ],
         "xaxis": "x",
         "y": [
          100
         ],
         "yaxis": "y"
        },
        {
         "hovertext": "0 Liedzitate im 73%",
         "marker": {
          "color": "rgb(250,250,250)"
         },
         "type": "bar",
         "x": [
          "Liedzitate je Predigtprozent"
         ],
         "xaxis": "x",
         "y": [
          100
         ],
         "yaxis": "y"
        },
        {
         "hovertext": "0 Liedzitate im 74%",
         "marker": {
          "color": "rgb(250,250,250)"
         },
         "type": "bar",
         "x": [
          "Liedzitate je Predigtprozent"
         ],
         "xaxis": "x",
         "y": [
          100
         ],
         "yaxis": "y"
        },
        {
         "hovertext": "0 Liedzitate im 75%",
         "marker": {
          "color": "rgb(250,250,250)"
         },
         "type": "bar",
         "x": [
          "Liedzitate je Predigtprozent"
         ],
         "xaxis": "x",
         "y": [
          100
         ],
         "yaxis": "y"
        },
        {
         "hovertext": "1 Liedzitate im 76%<br>Christliche Predigt (Tübingen 1606)<br>",
         "marker": {
          "color": "rgb(235,235,235)"
         },
         "type": "bar",
         "x": [
          "Liedzitate je Predigtprozent"
         ],
         "xaxis": "x",
         "y": [
          100
         ],
         "yaxis": "y"
        },
        {
         "hovertext": "0 Liedzitate im 77%",
         "marker": {
          "color": "rgb(250,250,250)"
         },
         "type": "bar",
         "x": [
          "Liedzitate je Predigtprozent"
         ],
         "xaxis": "x",
         "y": [
          100
         ],
         "yaxis": "y"
        },
        {
         "hovertext": "0 Liedzitate im 78%",
         "marker": {
          "color": "rgb(250,250,250)"
         },
         "type": "bar",
         "x": [
          "Liedzitate je Predigtprozent"
         ],
         "xaxis": "x",
         "y": [
          100
         ],
         "yaxis": "y"
        },
        {
         "hovertext": "0 Liedzitate im 79%",
         "marker": {
          "color": "rgb(250,250,250)"
         },
         "type": "bar",
         "x": [
          "Liedzitate je Predigtprozent"
         ],
         "xaxis": "x",
         "y": [
          100
         ],
         "yaxis": "y"
        },
        {
         "hovertext": "0 Liedzitate im 80%",
         "marker": {
          "color": "rgb(250,250,250)"
         },
         "type": "bar",
         "x": [
          "Liedzitate je Predigtprozent"
         ],
         "xaxis": "x",
         "y": [
          100
         ],
         "yaxis": "y"
        },
        {
         "hovertext": "0 Liedzitate im 81%",
         "marker": {
          "color": "rgb(250,250,250)"
         },
         "type": "bar",
         "x": [
          "Liedzitate je Predigtprozent"
         ],
         "xaxis": "x",
         "y": [
          100
         ],
         "yaxis": "y"
        },
        {
         "hovertext": "0 Liedzitate im 82%",
         "marker": {
          "color": "rgb(250,250,250)"
         },
         "type": "bar",
         "x": [
          "Liedzitate je Predigtprozent"
         ],
         "xaxis": "x",
         "y": [
          100
         ],
         "yaxis": "y"
        },
        {
         "hovertext": "0 Liedzitate im 83%",
         "marker": {
          "color": "rgb(250,250,250)"
         },
         "type": "bar",
         "x": [
          "Liedzitate je Predigtprozent"
         ],
         "xaxis": "x",
         "y": [
          100
         ],
         "yaxis": "y"
        },
        {
         "hovertext": "0 Liedzitate im 84%",
         "marker": {
          "color": "rgb(250,250,250)"
         },
         "type": "bar",
         "x": [
          "Liedzitate je Predigtprozent"
         ],
         "xaxis": "x",
         "y": [
          100
         ],
         "yaxis": "y"
        },
        {
         "hovertext": "0 Liedzitate im 85%",
         "marker": {
          "color": "rgb(250,250,250)"
         },
         "type": "bar",
         "x": [
          "Liedzitate je Predigtprozent"
         ],
         "xaxis": "x",
         "y": [
          100
         ],
         "yaxis": "y"
        },
        {
         "hovertext": "0 Liedzitate im 86%",
         "marker": {
          "color": "rgb(250,250,250)"
         },
         "type": "bar",
         "x": [
          "Liedzitate je Predigtprozent"
         ],
         "xaxis": "x",
         "y": [
          100
         ],
         "yaxis": "y"
        },
        {
         "hovertext": "0 Liedzitate im 87%",
         "marker": {
          "color": "rgb(250,250,250)"
         },
         "type": "bar",
         "x": [
          "Liedzitate je Predigtprozent"
         ],
         "xaxis": "x",
         "y": [
          100
         ],
         "yaxis": "y"
        },
        {
         "hovertext": "0 Liedzitate im 88%",
         "marker": {
          "color": "rgb(250,250,250)"
         },
         "type": "bar",
         "x": [
          "Liedzitate je Predigtprozent"
         ],
         "xaxis": "x",
         "y": [
          100
         ],
         "yaxis": "y"
        },
        {
         "hovertext": "0 Liedzitate im 89%",
         "marker": {
          "color": "rgb(250,250,250)"
         },
         "type": "bar",
         "x": [
          "Liedzitate je Predigtprozent"
         ],
         "xaxis": "x",
         "y": [
          100
         ],
         "yaxis": "y"
        },
        {
         "hovertext": "0 Liedzitate im 90%",
         "marker": {
          "color": "rgb(250,250,250)"
         },
         "type": "bar",
         "x": [
          "Liedzitate je Predigtprozent"
         ],
         "xaxis": "x",
         "y": [
          100
         ],
         "yaxis": "y"
        },
        {
         "hovertext": "0 Liedzitate im 91%",
         "marker": {
          "color": "rgb(250,250,250)"
         },
         "type": "bar",
         "x": [
          "Liedzitate je Predigtprozent"
         ],
         "xaxis": "x",
         "y": [
          100
         ],
         "yaxis": "y"
        },
        {
         "hovertext": "0 Liedzitate im 92%",
         "marker": {
          "color": "rgb(250,250,250)"
         },
         "type": "bar",
         "x": [
          "Liedzitate je Predigtprozent"
         ],
         "xaxis": "x",
         "y": [
          100
         ],
         "yaxis": "y"
        },
        {
         "hovertext": "0 Liedzitate im 93%",
         "marker": {
          "color": "rgb(250,250,250)"
         },
         "type": "bar",
         "x": [
          "Liedzitate je Predigtprozent"
         ],
         "xaxis": "x",
         "y": [
          100
         ],
         "yaxis": "y"
        },
        {
         "hovertext": "0 Liedzitate im 94%",
         "marker": {
          "color": "rgb(250,250,250)"
         },
         "type": "bar",
         "x": [
          "Liedzitate je Predigtprozent"
         ],
         "xaxis": "x",
         "y": [
          100
         ],
         "yaxis": "y"
        },
        {
         "hovertext": "0 Liedzitate im 95%",
         "marker": {
          "color": "rgb(250,250,250)"
         },
         "type": "bar",
         "x": [
          "Liedzitate je Predigtprozent"
         ],
         "xaxis": "x",
         "y": [
          100
         ],
         "yaxis": "y"
        },
        {
         "hovertext": "1 Liedzitate im 96%<br>Corona Templi (Nürnberg 1621)<br>",
         "marker": {
          "color": "rgb(235,235,235)"
         },
         "type": "bar",
         "x": [
          "Liedzitate je Predigtprozent"
         ],
         "xaxis": "x",
         "y": [
          100
         ],
         "yaxis": "y"
        },
        {
         "hovertext": "0 Liedzitate im 97%",
         "marker": {
          "color": "rgb(250,250,250)"
         },
         "type": "bar",
         "x": [
          "Liedzitate je Predigtprozent"
         ],
         "xaxis": "x",
         "y": [
          100
         ],
         "yaxis": "y"
        },
        {
         "hovertext": "0 Liedzitate im 98%",
         "marker": {
          "color": "rgb(250,250,250)"
         },
         "type": "bar",
         "x": [
          "Liedzitate je Predigtprozent"
         ],
         "xaxis": "x",
         "y": [
          100
         ],
         "yaxis": "y"
        },
        {
         "hovertext": "0 Liedzitate im 99%",
         "marker": {
          "color": "rgb(250,250,250)"
         },
         "type": "bar",
         "x": [
          "Liedzitate je Predigtprozent"
         ],
         "xaxis": "x",
         "y": [
          100
         ],
         "yaxis": "y"
        },
        {
         "hovertext": "0 Liedzitate im 100%",
         "marker": {
          "color": "rgb(250,250,250)"
         },
         "type": "bar",
         "x": [
          "Liedzitate je Predigtprozent"
         ],
         "xaxis": "x",
         "y": [
          100
         ],
         "yaxis": "y"
        },
        {
         "hovertext": "0 Liedzitate im 1%",
         "marker": {
          "color": "rgb(250,250,250)"
         },
         "type": "bar",
         "x": [
          "Liedzitate je Predigtprozent"
         ],
         "xaxis": "x2",
         "y": [
          100
         ],
         "yaxis": "y2"
        },
        {
         "hovertext": "0 Liedzitate im 2%",
         "marker": {
          "color": "rgb(250,250,250)"
         },
         "type": "bar",
         "x": [
          "Liedzitate je Predigtprozent"
         ],
         "xaxis": "x2",
         "y": [
          100
         ],
         "yaxis": "y2"
        },
        {
         "hovertext": "1 Liedzitate im 3%<br>Musica ecclesiastica (Stettin 1628)<br>",
         "marker": {
          "color": "rgb(235,235,235)"
         },
         "type": "bar",
         "x": [
          "Liedzitate je Predigtprozent"
         ],
         "xaxis": "x2",
         "y": [
          100
         ],
         "yaxis": "y2"
        },
        {
         "hovertext": "1 Liedzitate im 4%<br>Musica ecclesiastica (Stettin 1628)<br>",
         "marker": {
          "color": "rgb(235,235,235)"
         },
         "type": "bar",
         "x": [
          "Liedzitate je Predigtprozent"
         ],
         "xaxis": "x2",
         "y": [
          100
         ],
         "yaxis": "y2"
        },
        {
         "hovertext": "0 Liedzitate im 5%",
         "marker": {
          "color": "rgb(250,250,250)"
         },
         "type": "bar",
         "x": [
          "Liedzitate je Predigtprozent"
         ],
         "xaxis": "x2",
         "y": [
          100
         ],
         "yaxis": "y2"
        },
        {
         "hovertext": "0 Liedzitate im 6%",
         "marker": {
          "color": "rgb(250,250,250)"
         },
         "type": "bar",
         "x": [
          "Liedzitate je Predigtprozent"
         ],
         "xaxis": "x2",
         "y": [
          100
         ],
         "yaxis": "y2"
        },
        {
         "hovertext": "0 Liedzitate im 7%",
         "marker": {
          "color": "rgb(250,250,250)"
         },
         "type": "bar",
         "x": [
          "Liedzitate je Predigtprozent"
         ],
         "xaxis": "x2",
         "y": [
          100
         ],
         "yaxis": "y2"
        },
        {
         "hovertext": "0 Liedzitate im 8%",
         "marker": {
          "color": "rgb(250,250,250)"
         },
         "type": "bar",
         "x": [
          "Liedzitate je Predigtprozent"
         ],
         "xaxis": "x2",
         "y": [
          100
         ],
         "yaxis": "y2"
        },
        {
         "hovertext": "0 Liedzitate im 9%",
         "marker": {
          "color": "rgb(250,250,250)"
         },
         "type": "bar",
         "x": [
          "Liedzitate je Predigtprozent"
         ],
         "xaxis": "x2",
         "y": [
          100
         ],
         "yaxis": "y2"
        },
        {
         "hovertext": "0 Liedzitate im 10%",
         "marker": {
          "color": "rgb(250,250,250)"
         },
         "type": "bar",
         "x": [
          "Liedzitate je Predigtprozent"
         ],
         "xaxis": "x2",
         "y": [
          100
         ],
         "yaxis": "y2"
        },
        {
         "hovertext": "0 Liedzitate im 11%",
         "marker": {
          "color": "rgb(250,250,250)"
         },
         "type": "bar",
         "x": [
          "Liedzitate je Predigtprozent"
         ],
         "xaxis": "x2",
         "y": [
          100
         ],
         "yaxis": "y2"
        },
        {
         "hovertext": "0 Liedzitate im 12%",
         "marker": {
          "color": "rgb(250,250,250)"
         },
         "type": "bar",
         "x": [
          "Liedzitate je Predigtprozent"
         ],
         "xaxis": "x2",
         "y": [
          100
         ],
         "yaxis": "y2"
        },
        {
         "hovertext": "0 Liedzitate im 13%",
         "marker": {
          "color": "rgb(250,250,250)"
         },
         "type": "bar",
         "x": [
          "Liedzitate je Predigtprozent"
         ],
         "xaxis": "x2",
         "y": [
          100
         ],
         "yaxis": "y2"
        },
        {
         "hovertext": "1 Liedzitate im 14%<br>Längst=gewüntzschte Mittweidische Orgel=Freude (Dresden 1648)<br>",
         "marker": {
          "color": "rgb(235,235,235)"
         },
         "type": "bar",
         "x": [
          "Liedzitate je Predigtprozent"
         ],
         "xaxis": "x2",
         "y": [
          100
         ],
         "yaxis": "y2"
        },
        {
         "hovertext": "1 Liedzitate im 15%<br>Längst=gewüntzschte Mittweidische Orgel=Freude (Dresden 1648)<br>",
         "marker": {
          "color": "rgb(235,235,235)"
         },
         "type": "bar",
         "x": [
          "Liedzitate je Predigtprozent"
         ],
         "xaxis": "x2",
         "y": [
          100
         ],
         "yaxis": "y2"
        },
        {
         "hovertext": "1 Liedzitate im 16%<br>Längst=gewüntzschte Mittweidische Orgel=Freude (Dresden 1648)<br>",
         "marker": {
          "color": "rgb(235,235,235)"
         },
         "type": "bar",
         "x": [
          "Liedzitate je Predigtprozent"
         ],
         "xaxis": "x2",
         "y": [
          100
         ],
         "yaxis": "y2"
        },
        {
         "hovertext": "0 Liedzitate im 17%",
         "marker": {
          "color": "rgb(250,250,250)"
         },
         "type": "bar",
         "x": [
          "Liedzitate je Predigtprozent"
         ],
         "xaxis": "x2",
         "y": [
          100
         ],
         "yaxis": "y2"
        },
        {
         "hovertext": "0 Liedzitate im 18%",
         "marker": {
          "color": "rgb(250,250,250)"
         },
         "type": "bar",
         "x": [
          "Liedzitate je Predigtprozent"
         ],
         "xaxis": "x2",
         "y": [
          100
         ],
         "yaxis": "y2"
        },
        {
         "hovertext": "0 Liedzitate im 19%",
         "marker": {
          "color": "rgb(250,250,250)"
         },
         "type": "bar",
         "x": [
          "Liedzitate je Predigtprozent"
         ],
         "xaxis": "x2",
         "y": [
          100
         ],
         "yaxis": "y2"
        },
        {
         "hovertext": "0 Liedzitate im 20%",
         "marker": {
          "color": "rgb(250,250,250)"
         },
         "type": "bar",
         "x": [
          "Liedzitate je Predigtprozent"
         ],
         "xaxis": "x2",
         "y": [
          100
         ],
         "yaxis": "y2"
        },
        {
         "hovertext": "0 Liedzitate im 21%",
         "marker": {
          "color": "rgb(250,250,250)"
         },
         "type": "bar",
         "x": [
          "Liedzitate je Predigtprozent"
         ],
         "xaxis": "x2",
         "y": [
          100
         ],
         "yaxis": "y2"
        },
        {
         "hovertext": "0 Liedzitate im 22%",
         "marker": {
          "color": "rgb(250,250,250)"
         },
         "type": "bar",
         "x": [
          "Liedzitate je Predigtprozent"
         ],
         "xaxis": "x2",
         "y": [
          100
         ],
         "yaxis": "y2"
        },
        {
         "hovertext": "0 Liedzitate im 23%",
         "marker": {
          "color": "rgb(250,250,250)"
         },
         "type": "bar",
         "x": [
          "Liedzitate je Predigtprozent"
         ],
         "xaxis": "x2",
         "y": [
          100
         ],
         "yaxis": "y2"
        },
        {
         "hovertext": "0 Liedzitate im 24%",
         "marker": {
          "color": "rgb(250,250,250)"
         },
         "type": "bar",
         "x": [
          "Liedzitate je Predigtprozent"
         ],
         "xaxis": "x2",
         "y": [
          100
         ],
         "yaxis": "y2"
        },
        {
         "hovertext": "0 Liedzitate im 25%",
         "marker": {
          "color": "rgb(250,250,250)"
         },
         "type": "bar",
         "x": [
          "Liedzitate je Predigtprozent"
         ],
         "xaxis": "x2",
         "y": [
          100
         ],
         "yaxis": "y2"
        },
        {
         "hovertext": "0 Liedzitate im 26%",
         "marker": {
          "color": "rgb(250,250,250)"
         },
         "type": "bar",
         "x": [
          "Liedzitate je Predigtprozent"
         ],
         "xaxis": "x2",
         "y": [
          100
         ],
         "yaxis": "y2"
        },
        {
         "hovertext": "0 Liedzitate im 27%",
         "marker": {
          "color": "rgb(250,250,250)"
         },
         "type": "bar",
         "x": [
          "Liedzitate je Predigtprozent"
         ],
         "xaxis": "x2",
         "y": [
          100
         ],
         "yaxis": "y2"
        },
        {
         "hovertext": "0 Liedzitate im 28%",
         "marker": {
          "color": "rgb(250,250,250)"
         },
         "type": "bar",
         "x": [
          "Liedzitate je Predigtprozent"
         ],
         "xaxis": "x2",
         "y": [
          100
         ],
         "yaxis": "y2"
        },
        {
         "hovertext": "0 Liedzitate im 29%",
         "marker": {
          "color": "rgb(250,250,250)"
         },
         "type": "bar",
         "x": [
          "Liedzitate je Predigtprozent"
         ],
         "xaxis": "x2",
         "y": [
          100
         ],
         "yaxis": "y2"
        },
        {
         "hovertext": "0 Liedzitate im 30%",
         "marker": {
          "color": "rgb(250,250,250)"
         },
         "type": "bar",
         "x": [
          "Liedzitate je Predigtprozent"
         ],
         "xaxis": "x2",
         "y": [
          100
         ],
         "yaxis": "y2"
        },
        {
         "hovertext": "0 Liedzitate im 31%",
         "marker": {
          "color": "rgb(250,250,250)"
         },
         "type": "bar",
         "x": [
          "Liedzitate je Predigtprozent"
         ],
         "xaxis": "x2",
         "y": [
          100
         ],
         "yaxis": "y2"
        },
        {
         "hovertext": "0 Liedzitate im 32%",
         "marker": {
          "color": "rgb(250,250,250)"
         },
         "type": "bar",
         "x": [
          "Liedzitate je Predigtprozent"
         ],
         "xaxis": "x2",
         "y": [
          100
         ],
         "yaxis": "y2"
        },
        {
         "hovertext": "0 Liedzitate im 33%",
         "marker": {
          "color": "rgb(250,250,250)"
         },
         "type": "bar",
         "x": [
          "Liedzitate je Predigtprozent"
         ],
         "xaxis": "x2",
         "y": [
          100
         ],
         "yaxis": "y2"
        },
        {
         "hovertext": "0 Liedzitate im 34%",
         "marker": {
          "color": "rgb(250,250,250)"
         },
         "type": "bar",
         "x": [
          "Liedzitate je Predigtprozent"
         ],
         "xaxis": "x2",
         "y": [
          100
         ],
         "yaxis": "y2"
        },
        {
         "hovertext": "0 Liedzitate im 35%",
         "marker": {
          "color": "rgb(250,250,250)"
         },
         "type": "bar",
         "x": [
          "Liedzitate je Predigtprozent"
         ],
         "xaxis": "x2",
         "y": [
          100
         ],
         "yaxis": "y2"
        },
        {
         "hovertext": "0 Liedzitate im 36%",
         "marker": {
          "color": "rgb(250,250,250)"
         },
         "type": "bar",
         "x": [
          "Liedzitate je Predigtprozent"
         ],
         "xaxis": "x2",
         "y": [
          100
         ],
         "yaxis": "y2"
        },
        {
         "hovertext": "0 Liedzitate im 37%",
         "marker": {
          "color": "rgb(250,250,250)"
         },
         "type": "bar",
         "x": [
          "Liedzitate je Predigtprozent"
         ],
         "xaxis": "x2",
         "y": [
          100
         ],
         "yaxis": "y2"
        },
        {
         "hovertext": "0 Liedzitate im 38%",
         "marker": {
          "color": "rgb(250,250,250)"
         },
         "type": "bar",
         "x": [
          "Liedzitate je Predigtprozent"
         ],
         "xaxis": "x2",
         "y": [
          100
         ],
         "yaxis": "y2"
        },
        {
         "hovertext": "0 Liedzitate im 39%",
         "marker": {
          "color": "rgb(250,250,250)"
         },
         "type": "bar",
         "x": [
          "Liedzitate je Predigtprozent"
         ],
         "xaxis": "x2",
         "y": [
          100
         ],
         "yaxis": "y2"
        },
        {
         "hovertext": "0 Liedzitate im 40%",
         "marker": {
          "color": "rgb(250,250,250)"
         },
         "type": "bar",
         "x": [
          "Liedzitate je Predigtprozent"
         ],
         "xaxis": "x2",
         "y": [
          100
         ],
         "yaxis": "y2"
        },
        {
         "hovertext": "0 Liedzitate im 41%",
         "marker": {
          "color": "rgb(250,250,250)"
         },
         "type": "bar",
         "x": [
          "Liedzitate je Predigtprozent"
         ],
         "xaxis": "x2",
         "y": [
          100
         ],
         "yaxis": "y2"
        },
        {
         "hovertext": "0 Liedzitate im 42%",
         "marker": {
          "color": "rgb(250,250,250)"
         },
         "type": "bar",
         "x": [
          "Liedzitate je Predigtprozent"
         ],
         "xaxis": "x2",
         "y": [
          100
         ],
         "yaxis": "y2"
        },
        {
         "hovertext": "0 Liedzitate im 43%",
         "marker": {
          "color": "rgb(250,250,250)"
         },
         "type": "bar",
         "x": [
          "Liedzitate je Predigtprozent"
         ],
         "xaxis": "x2",
         "y": [
          100
         ],
         "yaxis": "y2"
        },
        {
         "hovertext": "0 Liedzitate im 44%",
         "marker": {
          "color": "rgb(250,250,250)"
         },
         "type": "bar",
         "x": [
          "Liedzitate je Predigtprozent"
         ],
         "xaxis": "x2",
         "y": [
          100
         ],
         "yaxis": "y2"
        },
        {
         "hovertext": "0 Liedzitate im 45%",
         "marker": {
          "color": "rgb(250,250,250)"
         },
         "type": "bar",
         "x": [
          "Liedzitate je Predigtprozent"
         ],
         "xaxis": "x2",
         "y": [
          100
         ],
         "yaxis": "y2"
        },
        {
         "hovertext": "0 Liedzitate im 46%",
         "marker": {
          "color": "rgb(250,250,250)"
         },
         "type": "bar",
         "x": [
          "Liedzitate je Predigtprozent"
         ],
         "xaxis": "x2",
         "y": [
          100
         ],
         "yaxis": "y2"
        },
        {
         "hovertext": "0 Liedzitate im 47%",
         "marker": {
          "color": "rgb(250,250,250)"
         },
         "type": "bar",
         "x": [
          "Liedzitate je Predigtprozent"
         ],
         "xaxis": "x2",
         "y": [
          100
         ],
         "yaxis": "y2"
        },
        {
         "hovertext": "0 Liedzitate im 48%",
         "marker": {
          "color": "rgb(250,250,250)"
         },
         "type": "bar",
         "x": [
          "Liedzitate je Predigtprozent"
         ],
         "xaxis": "x2",
         "y": [
          100
         ],
         "yaxis": "y2"
        },
        {
         "hovertext": "0 Liedzitate im 49%",
         "marker": {
          "color": "rgb(250,250,250)"
         },
         "type": "bar",
         "x": [
          "Liedzitate je Predigtprozent"
         ],
         "xaxis": "x2",
         "y": [
          100
         ],
         "yaxis": "y2"
        },
        {
         "hovertext": "0 Liedzitate im 50%",
         "marker": {
          "color": "rgb(250,250,250)"
         },
         "type": "bar",
         "x": [
          "Liedzitate je Predigtprozent"
         ],
         "xaxis": "x2",
         "y": [
          100
         ],
         "yaxis": "y2"
        },
        {
         "hovertext": "0 Liedzitate im 51%",
         "marker": {
          "color": "rgb(250,250,250)"
         },
         "type": "bar",
         "x": [
          "Liedzitate je Predigtprozent"
         ],
         "xaxis": "x2",
         "y": [
          100
         ],
         "yaxis": "y2"
        },
        {
         "hovertext": "0 Liedzitate im 52%",
         "marker": {
          "color": "rgb(250,250,250)"
         },
         "type": "bar",
         "x": [
          "Liedzitate je Predigtprozent"
         ],
         "xaxis": "x2",
         "y": [
          100
         ],
         "yaxis": "y2"
        },
        {
         "hovertext": "0 Liedzitate im 53%",
         "marker": {
          "color": "rgb(250,250,250)"
         },
         "type": "bar",
         "x": [
          "Liedzitate je Predigtprozent"
         ],
         "xaxis": "x2",
         "y": [
          100
         ],
         "yaxis": "y2"
        },
        {
         "hovertext": "0 Liedzitate im 54%",
         "marker": {
          "color": "rgb(250,250,250)"
         },
         "type": "bar",
         "x": [
          "Liedzitate je Predigtprozent"
         ],
         "xaxis": "x2",
         "y": [
          100
         ],
         "yaxis": "y2"
        },
        {
         "hovertext": "0 Liedzitate im 55%",
         "marker": {
          "color": "rgb(250,250,250)"
         },
         "type": "bar",
         "x": [
          "Liedzitate je Predigtprozent"
         ],
         "xaxis": "x2",
         "y": [
          100
         ],
         "yaxis": "y2"
        },
        {
         "hovertext": "1 Liedzitate im 56%<br>Kostbare Bosische Orgel (Zwickau 1647)<br>",
         "marker": {
          "color": "rgb(235,235,235)"
         },
         "type": "bar",
         "x": [
          "Liedzitate je Predigtprozent"
         ],
         "xaxis": "x2",
         "y": [
          100
         ],
         "yaxis": "y2"
        },
        {
         "hovertext": "0 Liedzitate im 57%",
         "marker": {
          "color": "rgb(250,250,250)"
         },
         "type": "bar",
         "x": [
          "Liedzitate je Predigtprozent"
         ],
         "xaxis": "x2",
         "y": [
          100
         ],
         "yaxis": "y2"
        },
        {
         "hovertext": "0 Liedzitate im 58%",
         "marker": {
          "color": "rgb(250,250,250)"
         },
         "type": "bar",
         "x": [
          "Liedzitate je Predigtprozent"
         ],
         "xaxis": "x2",
         "y": [
          100
         ],
         "yaxis": "y2"
        },
        {
         "hovertext": "0 Liedzitate im 59%",
         "marker": {
          "color": "rgb(250,250,250)"
         },
         "type": "bar",
         "x": [
          "Liedzitate je Predigtprozent"
         ],
         "xaxis": "x2",
         "y": [
          100
         ],
         "yaxis": "y2"
        },
        {
         "hovertext": "0 Liedzitate im 60%",
         "marker": {
          "color": "rgb(250,250,250)"
         },
         "type": "bar",
         "x": [
          "Liedzitate je Predigtprozent"
         ],
         "xaxis": "x2",
         "y": [
          100
         ],
         "yaxis": "y2"
        },
        {
         "hovertext": "0 Liedzitate im 61%",
         "marker": {
          "color": "rgb(250,250,250)"
         },
         "type": "bar",
         "x": [
          "Liedzitate je Predigtprozent"
         ],
         "xaxis": "x2",
         "y": [
          100
         ],
         "yaxis": "y2"
        },
        {
         "hovertext": "0 Liedzitate im 62%",
         "marker": {
          "color": "rgb(250,250,250)"
         },
         "type": "bar",
         "x": [
          "Liedzitate je Predigtprozent"
         ],
         "xaxis": "x2",
         "y": [
          100
         ],
         "yaxis": "y2"
        },
        {
         "hovertext": "1 Liedzitate im 63%<br>Kostbare Bosische Orgel (Zwickau 1647)<br>",
         "marker": {
          "color": "rgb(235,235,235)"
         },
         "type": "bar",
         "x": [
          "Liedzitate je Predigtprozent"
         ],
         "xaxis": "x2",
         "y": [
          100
         ],
         "yaxis": "y2"
        },
        {
         "hovertext": "1 Liedzitate im 64%<br>Längst=gewüntzschte Mittweidische Orgel=Freude (Dresden 1648)<br>",
         "marker": {
          "color": "rgb(235,235,235)"
         },
         "type": "bar",
         "x": [
          "Liedzitate je Predigtprozent"
         ],
         "xaxis": "x2",
         "y": [
          100
         ],
         "yaxis": "y2"
        },
        {
         "hovertext": "1 Liedzitate im 65%<br>Kostbare Bosische Orgel (Zwickau 1647)<br>",
         "marker": {
          "color": "rgb(235,235,235)"
         },
         "type": "bar",
         "x": [
          "Liedzitate je Predigtprozent"
         ],
         "xaxis": "x2",
         "y": [
          100
         ],
         "yaxis": "y2"
        },
        {
         "hovertext": "1 Liedzitate im 66%<br>Kostbare Bosische Orgel (Zwickau 1647)<br>",
         "marker": {
          "color": "rgb(235,235,235)"
         },
         "type": "bar",
         "x": [
          "Liedzitate je Predigtprozent"
         ],
         "xaxis": "x2",
         "y": [
          100
         ],
         "yaxis": "y2"
        },
        {
         "hovertext": "0 Liedzitate im 67%",
         "marker": {
          "color": "rgb(250,250,250)"
         },
         "type": "bar",
         "x": [
          "Liedzitate je Predigtprozent"
         ],
         "xaxis": "x2",
         "y": [
          100
         ],
         "yaxis": "y2"
        },
        {
         "hovertext": "0 Liedzitate im 68%",
         "marker": {
          "color": "rgb(250,250,250)"
         },
         "type": "bar",
         "x": [
          "Liedzitate je Predigtprozent"
         ],
         "xaxis": "x2",
         "y": [
          100
         ],
         "yaxis": "y2"
        },
        {
         "hovertext": "0 Liedzitate im 69%",
         "marker": {
          "color": "rgb(250,250,250)"
         },
         "type": "bar",
         "x": [
          "Liedzitate je Predigtprozent"
         ],
         "xaxis": "x2",
         "y": [
          100
         ],
         "yaxis": "y2"
        },
        {
         "hovertext": "0 Liedzitate im 70%",
         "marker": {
          "color": "rgb(250,250,250)"
         },
         "type": "bar",
         "x": [
          "Liedzitate je Predigtprozent"
         ],
         "xaxis": "x2",
         "y": [
          100
         ],
         "yaxis": "y2"
        },
        {
         "hovertext": "0 Liedzitate im 71%",
         "marker": {
          "color": "rgb(250,250,250)"
         },
         "type": "bar",
         "x": [
          "Liedzitate je Predigtprozent"
         ],
         "xaxis": "x2",
         "y": [
          100
         ],
         "yaxis": "y2"
        },
        {
         "hovertext": "0 Liedzitate im 72%",
         "marker": {
          "color": "rgb(250,250,250)"
         },
         "type": "bar",
         "x": [
          "Liedzitate je Predigtprozent"
         ],
         "xaxis": "x2",
         "y": [
          100
         ],
         "yaxis": "y2"
        },
        {
         "hovertext": "0 Liedzitate im 73%",
         "marker": {
          "color": "rgb(250,250,250)"
         },
         "type": "bar",
         "x": [
          "Liedzitate je Predigtprozent"
         ],
         "xaxis": "x2",
         "y": [
          100
         ],
         "yaxis": "y2"
        },
        {
         "hovertext": "0 Liedzitate im 74%",
         "marker": {
          "color": "rgb(250,250,250)"
         },
         "type": "bar",
         "x": [
          "Liedzitate je Predigtprozent"
         ],
         "xaxis": "x2",
         "y": [
          100
         ],
         "yaxis": "y2"
        },
        {
         "hovertext": "0 Liedzitate im 75%",
         "marker": {
          "color": "rgb(250,250,250)"
         },
         "type": "bar",
         "x": [
          "Liedzitate je Predigtprozent"
         ],
         "xaxis": "x2",
         "y": [
          100
         ],
         "yaxis": "y2"
        },
        {
         "hovertext": "0 Liedzitate im 76%",
         "marker": {
          "color": "rgb(250,250,250)"
         },
         "type": "bar",
         "x": [
          "Liedzitate je Predigtprozent"
         ],
         "xaxis": "x2",
         "y": [
          100
         ],
         "yaxis": "y2"
        },
        {
         "hovertext": "0 Liedzitate im 77%",
         "marker": {
          "color": "rgb(250,250,250)"
         },
         "type": "bar",
         "x": [
          "Liedzitate je Predigtprozent"
         ],
         "xaxis": "x2",
         "y": [
          100
         ],
         "yaxis": "y2"
        },
        {
         "hovertext": "0 Liedzitate im 78%",
         "marker": {
          "color": "rgb(250,250,250)"
         },
         "type": "bar",
         "x": [
          "Liedzitate je Predigtprozent"
         ],
         "xaxis": "x2",
         "y": [
          100
         ],
         "yaxis": "y2"
        },
        {
         "hovertext": "0 Liedzitate im 79%",
         "marker": {
          "color": "rgb(250,250,250)"
         },
         "type": "bar",
         "x": [
          "Liedzitate je Predigtprozent"
         ],
         "xaxis": "x2",
         "y": [
          100
         ],
         "yaxis": "y2"
        },
        {
         "hovertext": "0 Liedzitate im 80%",
         "marker": {
          "color": "rgb(250,250,250)"
         },
         "type": "bar",
         "x": [
          "Liedzitate je Predigtprozent"
         ],
         "xaxis": "x2",
         "y": [
          100
         ],
         "yaxis": "y2"
        },
        {
         "hovertext": "0 Liedzitate im 81%",
         "marker": {
          "color": "rgb(250,250,250)"
         },
         "type": "bar",
         "x": [
          "Liedzitate je Predigtprozent"
         ],
         "xaxis": "x2",
         "y": [
          100
         ],
         "yaxis": "y2"
        },
        {
         "hovertext": "0 Liedzitate im 82%",
         "marker": {
          "color": "rgb(250,250,250)"
         },
         "type": "bar",
         "x": [
          "Liedzitate je Predigtprozent"
         ],
         "xaxis": "x2",
         "y": [
          100
         ],
         "yaxis": "y2"
        },
        {
         "hovertext": "0 Liedzitate im 83%",
         "marker": {
          "color": "rgb(250,250,250)"
         },
         "type": "bar",
         "x": [
          "Liedzitate je Predigtprozent"
         ],
         "xaxis": "x2",
         "y": [
          100
         ],
         "yaxis": "y2"
        },
        {
         "hovertext": "1 Liedzitate im 84%<br>Längst=gewüntzschte Mittweidische Orgel=Freude (Dresden 1648)<br>",
         "marker": {
          "color": "rgb(235,235,235)"
         },
         "type": "bar",
         "x": [
          "Liedzitate je Predigtprozent"
         ],
         "xaxis": "x2",
         "y": [
          100
         ],
         "yaxis": "y2"
        },
        {
         "hovertext": "0 Liedzitate im 85%",
         "marker": {
          "color": "rgb(250,250,250)"
         },
         "type": "bar",
         "x": [
          "Liedzitate je Predigtprozent"
         ],
         "xaxis": "x2",
         "y": [
          100
         ],
         "yaxis": "y2"
        },
        {
         "hovertext": "0 Liedzitate im 86%",
         "marker": {
          "color": "rgb(250,250,250)"
         },
         "type": "bar",
         "x": [
          "Liedzitate je Predigtprozent"
         ],
         "xaxis": "x2",
         "y": [
          100
         ],
         "yaxis": "y2"
        },
        {
         "hovertext": "0 Liedzitate im 87%",
         "marker": {
          "color": "rgb(250,250,250)"
         },
         "type": "bar",
         "x": [
          "Liedzitate je Predigtprozent"
         ],
         "xaxis": "x2",
         "y": [
          100
         ],
         "yaxis": "y2"
        },
        {
         "hovertext": "1 Liedzitate im 88%<br>Längst=gewüntzschte Mittweidische Orgel=Freude (Dresden 1648)<br>",
         "marker": {
          "color": "rgb(235,235,235)"
         },
         "type": "bar",
         "x": [
          "Liedzitate je Predigtprozent"
         ],
         "xaxis": "x2",
         "y": [
          100
         ],
         "yaxis": "y2"
        },
        {
         "hovertext": "0 Liedzitate im 89%",
         "marker": {
          "color": "rgb(250,250,250)"
         },
         "type": "bar",
         "x": [
          "Liedzitate je Predigtprozent"
         ],
         "xaxis": "x2",
         "y": [
          100
         ],
         "yaxis": "y2"
        },
        {
         "hovertext": "1 Liedzitate im 90%<br>Kostbare Bosische Orgel (Zwickau 1647)<br>",
         "marker": {
          "color": "rgb(235,235,235)"
         },
         "type": "bar",
         "x": [
          "Liedzitate je Predigtprozent"
         ],
         "xaxis": "x2",
         "y": [
          100
         ],
         "yaxis": "y2"
        },
        {
         "hovertext": "1 Liedzitate im 91%<br>Kostbare Bosische Orgel (Zwickau 1647)<br>",
         "marker": {
          "color": "rgb(235,235,235)"
         },
         "type": "bar",
         "x": [
          "Liedzitate je Predigtprozent"
         ],
         "xaxis": "x2",
         "y": [
          100
         ],
         "yaxis": "y2"
        },
        {
         "hovertext": "1 Liedzitate im 92%<br>Kostbare Bosische Orgel (Zwickau 1647)<br>",
         "marker": {
          "color": "rgb(235,235,235)"
         },
         "type": "bar",
         "x": [
          "Liedzitate je Predigtprozent"
         ],
         "xaxis": "x2",
         "y": [
          100
         ],
         "yaxis": "y2"
        },
        {
         "hovertext": "1 Liedzitate im 93%<br>Kostbare Bosische Orgel (Zwickau 1647)<br>",
         "marker": {
          "color": "rgb(235,235,235)"
         },
         "type": "bar",
         "x": [
          "Liedzitate je Predigtprozent"
         ],
         "xaxis": "x2",
         "y": [
          100
         ],
         "yaxis": "y2"
        },
        {
         "hovertext": "1 Liedzitate im 94%<br>Kostbare Bosische Orgel (Zwickau 1647)<br>",
         "marker": {
          "color": "rgb(235,235,235)"
         },
         "type": "bar",
         "x": [
          "Liedzitate je Predigtprozent"
         ],
         "xaxis": "x2",
         "y": [
          100
         ],
         "yaxis": "y2"
        },
        {
         "hovertext": "0 Liedzitate im 95%",
         "marker": {
          "color": "rgb(250,250,250)"
         },
         "type": "bar",
         "x": [
          "Liedzitate je Predigtprozent"
         ],
         "xaxis": "x2",
         "y": [
          100
         ],
         "yaxis": "y2"
        },
        {
         "hovertext": "0 Liedzitate im 96%",
         "marker": {
          "color": "rgb(250,250,250)"
         },
         "type": "bar",
         "x": [
          "Liedzitate je Predigtprozent"
         ],
         "xaxis": "x2",
         "y": [
          100
         ],
         "yaxis": "y2"
        },
        {
         "hovertext": "0 Liedzitate im 97%",
         "marker": {
          "color": "rgb(250,250,250)"
         },
         "type": "bar",
         "x": [
          "Liedzitate je Predigtprozent"
         ],
         "xaxis": "x2",
         "y": [
          100
         ],
         "yaxis": "y2"
        },
        {
         "hovertext": "0 Liedzitate im 98%",
         "marker": {
          "color": "rgb(250,250,250)"
         },
         "type": "bar",
         "x": [
          "Liedzitate je Predigtprozent"
         ],
         "xaxis": "x2",
         "y": [
          100
         ],
         "yaxis": "y2"
        },
        {
         "hovertext": "0 Liedzitate im 99%",
         "marker": {
          "color": "rgb(250,250,250)"
         },
         "type": "bar",
         "x": [
          "Liedzitate je Predigtprozent"
         ],
         "xaxis": "x2",
         "y": [
          100
         ],
         "yaxis": "y2"
        },
        {
         "hovertext": "0 Liedzitate im 100%",
         "marker": {
          "color": "rgb(250,250,250)"
         },
         "type": "bar",
         "x": [
          "Liedzitate je Predigtprozent"
         ],
         "xaxis": "x2",
         "y": [
          100
         ],
         "yaxis": "y2"
        },
        {
         "hovertext": "0 Liedzitate im 1%",
         "marker": {
          "color": "rgb(250,250,250)"
         },
         "type": "bar",
         "x": [
          "Liedzitate je Predigtprozent"
         ],
         "xaxis": "x3",
         "y": [
          100
         ],
         "yaxis": "y3"
        },
        {
         "hovertext": "0 Liedzitate im 2%",
         "marker": {
          "color": "rgb(250,250,250)"
         },
         "type": "bar",
         "x": [
          "Liedzitate je Predigtprozent"
         ],
         "xaxis": "x3",
         "y": [
          100
         ],
         "yaxis": "y3"
        },
        {
         "hovertext": "0 Liedzitate im 3%",
         "marker": {
          "color": "rgb(250,250,250)"
         },
         "type": "bar",
         "x": [
          "Liedzitate je Predigtprozent"
         ],
         "xaxis": "x3",
         "y": [
          100
         ],
         "yaxis": "y3"
        },
        {
         "hovertext": "0 Liedzitate im 4%",
         "marker": {
          "color": "rgb(250,250,250)"
         },
         "type": "bar",
         "x": [
          "Liedzitate je Predigtprozent"
         ],
         "xaxis": "x3",
         "y": [
          100
         ],
         "yaxis": "y3"
        },
        {
         "hovertext": "0 Liedzitate im 5%",
         "marker": {
          "color": "rgb(250,250,250)"
         },
         "type": "bar",
         "x": [
          "Liedzitate je Predigtprozent"
         ],
         "xaxis": "x3",
         "y": [
          100
         ],
         "yaxis": "y3"
        },
        {
         "hovertext": "0 Liedzitate im 6%",
         "marker": {
          "color": "rgb(250,250,250)"
         },
         "type": "bar",
         "x": [
          "Liedzitate je Predigtprozent"
         ],
         "xaxis": "x3",
         "y": [
          100
         ],
         "yaxis": "y3"
        },
        {
         "hovertext": "0 Liedzitate im 7%",
         "marker": {
          "color": "rgb(250,250,250)"
         },
         "type": "bar",
         "x": [
          "Liedzitate je Predigtprozent"
         ],
         "xaxis": "x3",
         "y": [
          100
         ],
         "yaxis": "y3"
        },
        {
         "hovertext": "0 Liedzitate im 8%",
         "marker": {
          "color": "rgb(250,250,250)"
         },
         "type": "bar",
         "x": [
          "Liedzitate je Predigtprozent"
         ],
         "xaxis": "x3",
         "y": [
          100
         ],
         "yaxis": "y3"
        },
        {
         "hovertext": "0 Liedzitate im 9%",
         "marker": {
          "color": "rgb(250,250,250)"
         },
         "type": "bar",
         "x": [
          "Liedzitate je Predigtprozent"
         ],
         "xaxis": "x3",
         "y": [
          100
         ],
         "yaxis": "y3"
        },
        {
         "hovertext": "0 Liedzitate im 10%",
         "marker": {
          "color": "rgb(250,250,250)"
         },
         "type": "bar",
         "x": [
          "Liedzitate je Predigtprozent"
         ],
         "xaxis": "x3",
         "y": [
          100
         ],
         "yaxis": "y3"
        },
        {
         "hovertext": "0 Liedzitate im 11%",
         "marker": {
          "color": "rgb(250,250,250)"
         },
         "type": "bar",
         "x": [
          "Liedzitate je Predigtprozent"
         ],
         "xaxis": "x3",
         "y": [
          100
         ],
         "yaxis": "y3"
        },
        {
         "hovertext": "0 Liedzitate im 12%",
         "marker": {
          "color": "rgb(250,250,250)"
         },
         "type": "bar",
         "x": [
          "Liedzitate je Predigtprozent"
         ],
         "xaxis": "x3",
         "y": [
          100
         ],
         "yaxis": "y3"
        },
        {
         "hovertext": "0 Liedzitate im 13%",
         "marker": {
          "color": "rgb(250,250,250)"
         },
         "type": "bar",
         "x": [
          "Liedzitate je Predigtprozent"
         ],
         "xaxis": "x3",
         "y": [
          100
         ],
         "yaxis": "y3"
        },
        {
         "hovertext": "1 Liedzitate im 14%<br>Denck- und Danck-Säule (Rothenburg ob der Tauber [1673])<br>",
         "marker": {
          "color": "rgb(235,235,235)"
         },
         "type": "bar",
         "x": [
          "Liedzitate je Predigtprozent"
         ],
         "xaxis": "x3",
         "y": [
          100
         ],
         "yaxis": "y3"
        },
        {
         "hovertext": "0 Liedzitate im 15%",
         "marker": {
          "color": "rgb(250,250,250)"
         },
         "type": "bar",
         "x": [
          "Liedzitate je Predigtprozent"
         ],
         "xaxis": "x3",
         "y": [
          100
         ],
         "yaxis": "y3"
        },
        {
         "hovertext": "0 Liedzitate im 16%",
         "marker": {
          "color": "rgb(250,250,250)"
         },
         "type": "bar",
         "x": [
          "Liedzitate je Predigtprozent"
         ],
         "xaxis": "x3",
         "y": [
          100
         ],
         "yaxis": "y3"
        },
        {
         "hovertext": "0 Liedzitate im 17%",
         "marker": {
          "color": "rgb(250,250,250)"
         },
         "type": "bar",
         "x": [
          "Liedzitate je Predigtprozent"
         ],
         "xaxis": "x3",
         "y": [
          100
         ],
         "yaxis": "y3"
        },
        {
         "hovertext": "0 Liedzitate im 18%",
         "marker": {
          "color": "rgb(250,250,250)"
         },
         "type": "bar",
         "x": [
          "Liedzitate je Predigtprozent"
         ],
         "xaxis": "x3",
         "y": [
          100
         ],
         "yaxis": "y3"
        },
        {
         "hovertext": "0 Liedzitate im 19%",
         "marker": {
          "color": "rgb(250,250,250)"
         },
         "type": "bar",
         "x": [
          "Liedzitate je Predigtprozent"
         ],
         "xaxis": "x3",
         "y": [
          100
         ],
         "yaxis": "y3"
        },
        {
         "hovertext": "1 Liedzitate im 20%<br>Geistliches Orgelwerk (Erfurt 1672)<br>",
         "marker": {
          "color": "rgb(235,235,235)"
         },
         "type": "bar",
         "x": [
          "Liedzitate je Predigtprozent"
         ],
         "xaxis": "x3",
         "y": [
          100
         ],
         "yaxis": "y3"
        },
        {
         "hovertext": "0 Liedzitate im 21%",
         "marker": {
          "color": "rgb(250,250,250)"
         },
         "type": "bar",
         "x": [
          "Liedzitate je Predigtprozent"
         ],
         "xaxis": "x3",
         "y": [
          100
         ],
         "yaxis": "y3"
        },
        {
         "hovertext": "0 Liedzitate im 22%",
         "marker": {
          "color": "rgb(250,250,250)"
         },
         "type": "bar",
         "x": [
          "Liedzitate je Predigtprozent"
         ],
         "xaxis": "x3",
         "y": [
          100
         ],
         "yaxis": "y3"
        },
        {
         "hovertext": "0 Liedzitate im 23%",
         "marker": {
          "color": "rgb(250,250,250)"
         },
         "type": "bar",
         "x": [
          "Liedzitate je Predigtprozent"
         ],
         "xaxis": "x3",
         "y": [
          100
         ],
         "yaxis": "y3"
        },
        {
         "hovertext": "0 Liedzitate im 24%",
         "marker": {
          "color": "rgb(250,250,250)"
         },
         "type": "bar",
         "x": [
          "Liedzitate je Predigtprozent"
         ],
         "xaxis": "x3",
         "y": [
          100
         ],
         "yaxis": "y3"
        },
        {
         "hovertext": "0 Liedzitate im 25%",
         "marker": {
          "color": "rgb(250,250,250)"
         },
         "type": "bar",
         "x": [
          "Liedzitate je Predigtprozent"
         ],
         "xaxis": "x3",
         "y": [
          100
         ],
         "yaxis": "y3"
        },
        {
         "hovertext": "0 Liedzitate im 26%",
         "marker": {
          "color": "rgb(250,250,250)"
         },
         "type": "bar",
         "x": [
          "Liedzitate je Predigtprozent"
         ],
         "xaxis": "x3",
         "y": [
          100
         ],
         "yaxis": "y3"
        },
        {
         "hovertext": "0 Liedzitate im 27%",
         "marker": {
          "color": "rgb(250,250,250)"
         },
         "type": "bar",
         "x": [
          "Liedzitate je Predigtprozent"
         ],
         "xaxis": "x3",
         "y": [
          100
         ],
         "yaxis": "y3"
        },
        {
         "hovertext": "0 Liedzitate im 28%",
         "marker": {
          "color": "rgb(250,250,250)"
         },
         "type": "bar",
         "x": [
          "Liedzitate je Predigtprozent"
         ],
         "xaxis": "x3",
         "y": [
          100
         ],
         "yaxis": "y3"
        },
        {
         "hovertext": "0 Liedzitate im 29%",
         "marker": {
          "color": "rgb(250,250,250)"
         },
         "type": "bar",
         "x": [
          "Liedzitate je Predigtprozent"
         ],
         "xaxis": "x3",
         "y": [
          100
         ],
         "yaxis": "y3"
        },
        {
         "hovertext": "1 Liedzitate im 30%<br>Das Gott=Lob=Schallende Hosianna (Leipzig 1671)<br>",
         "marker": {
          "color": "rgb(235,235,235)"
         },
         "type": "bar",
         "x": [
          "Liedzitate je Predigtprozent"
         ],
         "xaxis": "x3",
         "y": [
          100
         ],
         "yaxis": "y3"
        },
        {
         "hovertext": "0 Liedzitate im 31%",
         "marker": {
          "color": "rgb(250,250,250)"
         },
         "type": "bar",
         "x": [
          "Liedzitate je Predigtprozent"
         ],
         "xaxis": "x3",
         "y": [
          100
         ],
         "yaxis": "y3"
        },
        {
         "hovertext": "0 Liedzitate im 32%",
         "marker": {
          "color": "rgb(250,250,250)"
         },
         "type": "bar",
         "x": [
          "Liedzitate je Predigtprozent"
         ],
         "xaxis": "x3",
         "y": [
          100
         ],
         "yaxis": "y3"
        },
        {
         "hovertext": "1 Liedzitate im 33%<br>Das fröliche Hallelujah (Halle 1667)<br>",
         "marker": {
          "color": "rgb(235,235,235)"
         },
         "type": "bar",
         "x": [
          "Liedzitate je Predigtprozent"
         ],
         "xaxis": "x3",
         "y": [
          100
         ],
         "yaxis": "y3"
        },
        {
         "hovertext": "2 Liedzitate im 34%<br>Geistliches Orgelwerk (Erfurt 1672)<br>Organologismos (Dresden 1651)<br>",
         "marker": {
          "color": "rgb(220,220,220)"
         },
         "type": "bar",
         "x": [
          "Liedzitate je Predigtprozent"
         ],
         "xaxis": "x3",
         "y": [
          100
         ],
         "yaxis": "y3"
        },
        {
         "hovertext": "0 Liedzitate im 35%",
         "marker": {
          "color": "rgb(250,250,250)"
         },
         "type": "bar",
         "x": [
          "Liedzitate je Predigtprozent"
         ],
         "xaxis": "x3",
         "y": [
          100
         ],
         "yaxis": "y3"
        },
        {
         "hovertext": "1 Liedzitate im 36%<br>Geistliches Orgelwerk (Erfurt 1672)<br>",
         "marker": {
          "color": "rgb(235,235,235)"
         },
         "type": "bar",
         "x": [
          "Liedzitate je Predigtprozent"
         ],
         "xaxis": "x3",
         "y": [
          100
         ],
         "yaxis": "y3"
        },
        {
         "hovertext": "1 Liedzitate im 37%<br>Geistliches Orgelwerk (Erfurt 1672)<br>",
         "marker": {
          "color": "rgb(235,235,235)"
         },
         "type": "bar",
         "x": [
          "Liedzitate je Predigtprozent"
         ],
         "xaxis": "x3",
         "y": [
          100
         ],
         "yaxis": "y3"
        },
        {
         "hovertext": "0 Liedzitate im 38%",
         "marker": {
          "color": "rgb(250,250,250)"
         },
         "type": "bar",
         "x": [
          "Liedzitate je Predigtprozent"
         ],
         "xaxis": "x3",
         "y": [
          100
         ],
         "yaxis": "y3"
        },
        {
         "hovertext": "0 Liedzitate im 39%",
         "marker": {
          "color": "rgb(250,250,250)"
         },
         "type": "bar",
         "x": [
          "Liedzitate je Predigtprozent"
         ],
         "xaxis": "x3",
         "y": [
          100
         ],
         "yaxis": "y3"
        },
        {
         "hovertext": "0 Liedzitate im 40%",
         "marker": {
          "color": "rgb(250,250,250)"
         },
         "type": "bar",
         "x": [
          "Liedzitate je Predigtprozent"
         ],
         "xaxis": "x3",
         "y": [
          100
         ],
         "yaxis": "y3"
        },
        {
         "hovertext": "0 Liedzitate im 41%",
         "marker": {
          "color": "rgb(250,250,250)"
         },
         "type": "bar",
         "x": [
          "Liedzitate je Predigtprozent"
         ],
         "xaxis": "x3",
         "y": [
          100
         ],
         "yaxis": "y3"
        },
        {
         "hovertext": "2 Liedzitate im 42%<br>Das Gott=Lob=Schallende Hosianna (Leipzig 1671)<br>Organologismos (Dresden 1651)<br>",
         "marker": {
          "color": "rgb(220,220,220)"
         },
         "type": "bar",
         "x": [
          "Liedzitate je Predigtprozent"
         ],
         "xaxis": "x3",
         "y": [
          100
         ],
         "yaxis": "y3"
        },
        {
         "hovertext": "1 Liedzitate im 43%<br>Das Gott=Lob=Schallende Hosianna (Leipzig 1671)<br>",
         "marker": {
          "color": "rgb(235,235,235)"
         },
         "type": "bar",
         "x": [
          "Liedzitate je Predigtprozent"
         ],
         "xaxis": "x3",
         "y": [
          100
         ],
         "yaxis": "y3"
        },
        {
         "hovertext": "0 Liedzitate im 44%",
         "marker": {
          "color": "rgb(250,250,250)"
         },
         "type": "bar",
         "x": [
          "Liedzitate je Predigtprozent"
         ],
         "xaxis": "x3",
         "y": [
          100
         ],
         "yaxis": "y3"
        },
        {
         "hovertext": "0 Liedzitate im 45%",
         "marker": {
          "color": "rgb(250,250,250)"
         },
         "type": "bar",
         "x": [
          "Liedzitate je Predigtprozent"
         ],
         "xaxis": "x3",
         "y": [
          100
         ],
         "yaxis": "y3"
        },
        {
         "hovertext": "0 Liedzitate im 46%",
         "marker": {
          "color": "rgb(250,250,250)"
         },
         "type": "bar",
         "x": [
          "Liedzitate je Predigtprozent"
         ],
         "xaxis": "x3",
         "y": [
          100
         ],
         "yaxis": "y3"
        },
        {
         "hovertext": "1 Liedzitate im 47%<br>Denck- und Danck-Säule (Rothenburg ob der Tauber [1673])<br>",
         "marker": {
          "color": "rgb(235,235,235)"
         },
         "type": "bar",
         "x": [
          "Liedzitate je Predigtprozent"
         ],
         "xaxis": "x3",
         "y": [
          100
         ],
         "yaxis": "y3"
        },
        {
         "hovertext": "1 Liedzitate im 48%<br>Encoenia HierOrganica (Halle 1664)<br>",
         "marker": {
          "color": "rgb(235,235,235)"
         },
         "type": "bar",
         "x": [
          "Liedzitate je Predigtprozent"
         ],
         "xaxis": "x3",
         "y": [
          100
         ],
         "yaxis": "y3"
        },
        {
         "hovertext": "1 Liedzitate im 49%<br>Encoenia HierOrganica (Halle 1664)<br>",
         "marker": {
          "color": "rgb(235,235,235)"
         },
         "type": "bar",
         "x": [
          "Liedzitate je Predigtprozent"
         ],
         "xaxis": "x3",
         "y": [
          100
         ],
         "yaxis": "y3"
        },
        {
         "hovertext": "0 Liedzitate im 50%",
         "marker": {
          "color": "rgb(250,250,250)"
         },
         "type": "bar",
         "x": [
          "Liedzitate je Predigtprozent"
         ],
         "xaxis": "x3",
         "y": [
          100
         ],
         "yaxis": "y3"
        },
        {
         "hovertext": "0 Liedzitate im 51%",
         "marker": {
          "color": "rgb(250,250,250)"
         },
         "type": "bar",
         "x": [
          "Liedzitate je Predigtprozent"
         ],
         "xaxis": "x3",
         "y": [
          100
         ],
         "yaxis": "y3"
        },
        {
         "hovertext": "0 Liedzitate im 52%",
         "marker": {
          "color": "rgb(250,250,250)"
         },
         "type": "bar",
         "x": [
          "Liedzitate je Predigtprozent"
         ],
         "xaxis": "x3",
         "y": [
          100
         ],
         "yaxis": "y3"
        },
        {
         "hovertext": "0 Liedzitate im 53%",
         "marker": {
          "color": "rgb(250,250,250)"
         },
         "type": "bar",
         "x": [
          "Liedzitate je Predigtprozent"
         ],
         "xaxis": "x3",
         "y": [
          100
         ],
         "yaxis": "y3"
        },
        {
         "hovertext": "1 Liedzitate im 54%<br>Denck- und Danck-Säule (Rothenburg ob der Tauber [1673])<br>",
         "marker": {
          "color": "rgb(235,235,235)"
         },
         "type": "bar",
         "x": [
          "Liedzitate je Predigtprozent"
         ],
         "xaxis": "x3",
         "y": [
          100
         ],
         "yaxis": "y3"
        },
        {
         "hovertext": "1 Liedzitate im 55%<br>Denck- und Danck-Säule (Rothenburg ob der Tauber [1673])<br>",
         "marker": {
          "color": "rgb(235,235,235)"
         },
         "type": "bar",
         "x": [
          "Liedzitate je Predigtprozent"
         ],
         "xaxis": "x3",
         "y": [
          100
         ],
         "yaxis": "y3"
        },
        {
         "hovertext": "0 Liedzitate im 56%",
         "marker": {
          "color": "rgb(250,250,250)"
         },
         "type": "bar",
         "x": [
          "Liedzitate je Predigtprozent"
         ],
         "xaxis": "x3",
         "y": [
          100
         ],
         "yaxis": "y3"
        },
        {
         "hovertext": "0 Liedzitate im 57%",
         "marker": {
          "color": "rgb(250,250,250)"
         },
         "type": "bar",
         "x": [
          "Liedzitate je Predigtprozent"
         ],
         "xaxis": "x3",
         "y": [
          100
         ],
         "yaxis": "y3"
        },
        {
         "hovertext": "1 Liedzitate im 58%<br>Organologismos (Dresden 1651)<br>",
         "marker": {
          "color": "rgb(235,235,235)"
         },
         "type": "bar",
         "x": [
          "Liedzitate je Predigtprozent"
         ],
         "xaxis": "x3",
         "y": [
          100
         ],
         "yaxis": "y3"
        },
        {
         "hovertext": "1 Liedzitate im 59%<br>Geistliches Orgelwerk (Erfurt 1672)<br>",
         "marker": {
          "color": "rgb(235,235,235)"
         },
         "type": "bar",
         "x": [
          "Liedzitate je Predigtprozent"
         ],
         "xaxis": "x3",
         "y": [
          100
         ],
         "yaxis": "y3"
        },
        {
         "hovertext": "0 Liedzitate im 60%",
         "marker": {
          "color": "rgb(250,250,250)"
         },
         "type": "bar",
         "x": [
          "Liedzitate je Predigtprozent"
         ],
         "xaxis": "x3",
         "y": [
          100
         ],
         "yaxis": "y3"
        },
        {
         "hovertext": "1 Liedzitate im 61%<br>Organologismos (Dresden 1651)<br>",
         "marker": {
          "color": "rgb(235,235,235)"
         },
         "type": "bar",
         "x": [
          "Liedzitate je Predigtprozent"
         ],
         "xaxis": "x3",
         "y": [
          100
         ],
         "yaxis": "y3"
        },
        {
         "hovertext": "0 Liedzitate im 62%",
         "marker": {
          "color": "rgb(250,250,250)"
         },
         "type": "bar",
         "x": [
          "Liedzitate je Predigtprozent"
         ],
         "xaxis": "x3",
         "y": [
          100
         ],
         "yaxis": "y3"
        },
        {
         "hovertext": "0 Liedzitate im 63%",
         "marker": {
          "color": "rgb(250,250,250)"
         },
         "type": "bar",
         "x": [
          "Liedzitate je Predigtprozent"
         ],
         "xaxis": "x3",
         "y": [
          100
         ],
         "yaxis": "y3"
        },
        {
         "hovertext": "1 Liedzitate im 64%<br>Geistliches Orgelwerk (Erfurt 1672)<br>",
         "marker": {
          "color": "rgb(235,235,235)"
         },
         "type": "bar",
         "x": [
          "Liedzitate je Predigtprozent"
         ],
         "xaxis": "x3",
         "y": [
          100
         ],
         "yaxis": "y3"
        },
        {
         "hovertext": "0 Liedzitate im 65%",
         "marker": {
          "color": "rgb(250,250,250)"
         },
         "type": "bar",
         "x": [
          "Liedzitate je Predigtprozent"
         ],
         "xaxis": "x3",
         "y": [
          100
         ],
         "yaxis": "y3"
        },
        {
         "hovertext": "1 Liedzitate im 66%<br>Orgel=Predigt (Arnstadt 1666)<br>",
         "marker": {
          "color": "rgb(235,235,235)"
         },
         "type": "bar",
         "x": [
          "Liedzitate je Predigtprozent"
         ],
         "xaxis": "x3",
         "y": [
          100
         ],
         "yaxis": "y3"
        },
        {
         "hovertext": "0 Liedzitate im 67%",
         "marker": {
          "color": "rgb(250,250,250)"
         },
         "type": "bar",
         "x": [
          "Liedzitate je Predigtprozent"
         ],
         "xaxis": "x3",
         "y": [
          100
         ],
         "yaxis": "y3"
        },
        {
         "hovertext": "0 Liedzitate im 68%",
         "marker": {
          "color": "rgb(250,250,250)"
         },
         "type": "bar",
         "x": [
          "Liedzitate je Predigtprozent"
         ],
         "xaxis": "x3",
         "y": [
          100
         ],
         "yaxis": "y3"
        },
        {
         "hovertext": "0 Liedzitate im 69%",
         "marker": {
          "color": "rgb(250,250,250)"
         },
         "type": "bar",
         "x": [
          "Liedzitate je Predigtprozent"
         ],
         "xaxis": "x3",
         "y": [
          100
         ],
         "yaxis": "y3"
        },
        {
         "hovertext": "1 Liedzitate im 70%<br>Geistliches Orgelwerk (Erfurt 1672)<br>",
         "marker": {
          "color": "rgb(235,235,235)"
         },
         "type": "bar",
         "x": [
          "Liedzitate je Predigtprozent"
         ],
         "xaxis": "x3",
         "y": [
          100
         ],
         "yaxis": "y3"
        },
        {
         "hovertext": "1 Liedzitate im 71%<br>Organologismos (Dresden 1651)<br>",
         "marker": {
          "color": "rgb(235,235,235)"
         },
         "type": "bar",
         "x": [
          "Liedzitate je Predigtprozent"
         ],
         "xaxis": "x3",
         "y": [
          100
         ],
         "yaxis": "y3"
        },
        {
         "hovertext": "0 Liedzitate im 72%",
         "marker": {
          "color": "rgb(250,250,250)"
         },
         "type": "bar",
         "x": [
          "Liedzitate je Predigtprozent"
         ],
         "xaxis": "x3",
         "y": [
          100
         ],
         "yaxis": "y3"
        },
        {
         "hovertext": "0 Liedzitate im 73%",
         "marker": {
          "color": "rgb(250,250,250)"
         },
         "type": "bar",
         "x": [
          "Liedzitate je Predigtprozent"
         ],
         "xaxis": "x3",
         "y": [
          100
         ],
         "yaxis": "y3"
        },
        {
         "hovertext": "0 Liedzitate im 74%",
         "marker": {
          "color": "rgb(250,250,250)"
         },
         "type": "bar",
         "x": [
          "Liedzitate je Predigtprozent"
         ],
         "xaxis": "x3",
         "y": [
          100
         ],
         "yaxis": "y3"
        },
        {
         "hovertext": "1 Liedzitate im 75%<br>Encoenia HierOrganica (Halle 1664)<br>",
         "marker": {
          "color": "rgb(235,235,235)"
         },
         "type": "bar",
         "x": [
          "Liedzitate je Predigtprozent"
         ],
         "xaxis": "x3",
         "y": [
          100
         ],
         "yaxis": "y3"
        },
        {
         "hovertext": "2 Liedzitate im 76%<br>Geistliches Orgelwerk (Erfurt 1672)<br>Organologismos (Dresden 1651)<br>",
         "marker": {
          "color": "rgb(220,220,220)"
         },
         "type": "bar",
         "x": [
          "Liedzitate je Predigtprozent"
         ],
         "xaxis": "x3",
         "y": [
          100
         ],
         "yaxis": "y3"
        },
        {
         "hovertext": "1 Liedzitate im 77%<br>Organologismos (Dresden 1651)<br>",
         "marker": {
          "color": "rgb(235,235,235)"
         },
         "type": "bar",
         "x": [
          "Liedzitate je Predigtprozent"
         ],
         "xaxis": "x3",
         "y": [
          100
         ],
         "yaxis": "y3"
        },
        {
         "hovertext": "0 Liedzitate im 78%",
         "marker": {
          "color": "rgb(250,250,250)"
         },
         "type": "bar",
         "x": [
          "Liedzitate je Predigtprozent"
         ],
         "xaxis": "x3",
         "y": [
          100
         ],
         "yaxis": "y3"
        },
        {
         "hovertext": "2 Liedzitate im 79%<br>Geistliches Orgelwerk (Erfurt 1672)<br>Das Gott=Lob=Schallende Hosianna (Leipzig 1671)<br>",
         "marker": {
          "color": "rgb(220,220,220)"
         },
         "type": "bar",
         "x": [
          "Liedzitate je Predigtprozent"
         ],
         "xaxis": "x3",
         "y": [
          100
         ],
         "yaxis": "y3"
        },
        {
         "hovertext": "3 Liedzitate im 80%<br>Geistliches Orgelwerk (Erfurt 1672)<br>Das Gott=Lob=Schallende Hosianna (Leipzig 1671)<br>Stolpenische Ehren-Crone (Dresden 1652)<br>",
         "marker": {
          "color": "rgb(205,205,205)"
         },
         "type": "bar",
         "x": [
          "Liedzitate je Predigtprozent"
         ],
         "xaxis": "x3",
         "y": [
          100
         ],
         "yaxis": "y3"
        },
        {
         "hovertext": "2 Liedzitate im 81%<br>Geistliches Orgelwerk (Erfurt 1672)<br>Stolpenische Ehren-Crone (Dresden 1652)<br>",
         "marker": {
          "color": "rgb(220,220,220)"
         },
         "type": "bar",
         "x": [
          "Liedzitate je Predigtprozent"
         ],
         "xaxis": "x3",
         "y": [
          100
         ],
         "yaxis": "y3"
        },
        {
         "hovertext": "2 Liedzitate im 82%<br>Stolpenische Ehren-Crone (Dresden 1652)<br>Organologismos (Dresden 1651)<br>",
         "marker": {
          "color": "rgb(220,220,220)"
         },
         "type": "bar",
         "x": [
          "Liedzitate je Predigtprozent"
         ],
         "xaxis": "x3",
         "y": [
          100
         ],
         "yaxis": "y3"
        },
        {
         "hovertext": "1 Liedzitate im 83%<br>Stolpenische Ehren-Crone (Dresden 1652)<br>",
         "marker": {
          "color": "rgb(235,235,235)"
         },
         "type": "bar",
         "x": [
          "Liedzitate je Predigtprozent"
         ],
         "xaxis": "x3",
         "y": [
          100
         ],
         "yaxis": "y3"
        },
        {
         "hovertext": "1 Liedzitate im 84%<br>Stolpenische Ehren-Crone (Dresden 1652)<br>",
         "marker": {
          "color": "rgb(235,235,235)"
         },
         "type": "bar",
         "x": [
          "Liedzitate je Predigtprozent"
         ],
         "xaxis": "x3",
         "y": [
          100
         ],
         "yaxis": "y3"
        },
        {
         "hovertext": "0 Liedzitate im 85%",
         "marker": {
          "color": "rgb(250,250,250)"
         },
         "type": "bar",
         "x": [
          "Liedzitate je Predigtprozent"
         ],
         "xaxis": "x3",
         "y": [
          100
         ],
         "yaxis": "y3"
        },
        {
         "hovertext": "0 Liedzitate im 86%",
         "marker": {
          "color": "rgb(250,250,250)"
         },
         "type": "bar",
         "x": [
          "Liedzitate je Predigtprozent"
         ],
         "xaxis": "x3",
         "y": [
          100
         ],
         "yaxis": "y3"
        },
        {
         "hovertext": "0 Liedzitate im 87%",
         "marker": {
          "color": "rgb(250,250,250)"
         },
         "type": "bar",
         "x": [
          "Liedzitate je Predigtprozent"
         ],
         "xaxis": "x3",
         "y": [
          100
         ],
         "yaxis": "y3"
        },
        {
         "hovertext": "0 Liedzitate im 88%",
         "marker": {
          "color": "rgb(250,250,250)"
         },
         "type": "bar",
         "x": [
          "Liedzitate je Predigtprozent"
         ],
         "xaxis": "x3",
         "y": [
          100
         ],
         "yaxis": "y3"
        },
        {
         "hovertext": "1 Liedzitate im 89%<br>Das fröliche Hallelujah (Halle 1667)<br>",
         "marker": {
          "color": "rgb(235,235,235)"
         },
         "type": "bar",
         "x": [
          "Liedzitate je Predigtprozent"
         ],
         "xaxis": "x3",
         "y": [
          100
         ],
         "yaxis": "y3"
        },
        {
         "hovertext": "1 Liedzitate im 90%<br>Das fröliche Hallelujah (Halle 1667)<br>",
         "marker": {
          "color": "rgb(235,235,235)"
         },
         "type": "bar",
         "x": [
          "Liedzitate je Predigtprozent"
         ],
         "xaxis": "x3",
         "y": [
          100
         ],
         "yaxis": "y3"
        },
        {
         "hovertext": "4 Liedzitate im 91%<br>Denck- und Danck-Säule (Rothenburg ob der Tauber [1673])<br>Das Gott=Lob=Schallende Hosianna (Leipzig 1671)<br>Das fröliche Hallelujah (Halle 1667)<br>Encoenia HierOrganica (Halle 1664)<br>",
         "marker": {
          "color": "rgb(190,190,190)"
         },
         "type": "bar",
         "x": [
          "Liedzitate je Predigtprozent"
         ],
         "xaxis": "x3",
         "y": [
          100
         ],
         "yaxis": "y3"
        },
        {
         "hovertext": "1 Liedzitate im 92%<br>Das fröliche Hallelujah (Halle 1667)<br>",
         "marker": {
          "color": "rgb(235,235,235)"
         },
         "type": "bar",
         "x": [
          "Liedzitate je Predigtprozent"
         ],
         "xaxis": "x3",
         "y": [
          100
         ],
         "yaxis": "y3"
        },
        {
         "hovertext": "1 Liedzitate im 93%<br>Geistliches Orgelwerk (Erfurt 1672)<br>",
         "marker": {
          "color": "rgb(235,235,235)"
         },
         "type": "bar",
         "x": [
          "Liedzitate je Predigtprozent"
         ],
         "xaxis": "x3",
         "y": [
          100
         ],
         "yaxis": "y3"
        },
        {
         "hovertext": "1 Liedzitate im 94%<br>Denck- und Danck-Säule (Rothenburg ob der Tauber [1673])<br>",
         "marker": {
          "color": "rgb(235,235,235)"
         },
         "type": "bar",
         "x": [
          "Liedzitate je Predigtprozent"
         ],
         "xaxis": "x3",
         "y": [
          100
         ],
         "yaxis": "y3"
        },
        {
         "hovertext": "1 Liedzitate im 95%<br>Organologismos (Dresden 1651)<br>",
         "marker": {
          "color": "rgb(235,235,235)"
         },
         "type": "bar",
         "x": [
          "Liedzitate je Predigtprozent"
         ],
         "xaxis": "x3",
         "y": [
          100
         ],
         "yaxis": "y3"
        },
        {
         "hovertext": "0 Liedzitate im 96%",
         "marker": {
          "color": "rgb(250,250,250)"
         },
         "type": "bar",
         "x": [
          "Liedzitate je Predigtprozent"
         ],
         "xaxis": "x3",
         "y": [
          100
         ],
         "yaxis": "y3"
        },
        {
         "hovertext": "0 Liedzitate im 97%",
         "marker": {
          "color": "rgb(250,250,250)"
         },
         "type": "bar",
         "x": [
          "Liedzitate je Predigtprozent"
         ],
         "xaxis": "x3",
         "y": [
          100
         ],
         "yaxis": "y3"
        },
        {
         "hovertext": "1 Liedzitate im 98%<br>Encoenia HierOrganica (Halle 1664)<br>",
         "marker": {
          "color": "rgb(235,235,235)"
         },
         "type": "bar",
         "x": [
          "Liedzitate je Predigtprozent"
         ],
         "xaxis": "x3",
         "y": [
          100
         ],
         "yaxis": "y3"
        },
        {
         "hovertext": "2 Liedzitate im 99%<br>Geistliches Orgelwerk (Erfurt 1672)<br>Orgel=Predigt (Arnstadt 1666)<br>",
         "marker": {
          "color": "rgb(220,220,220)"
         },
         "type": "bar",
         "x": [
          "Liedzitate je Predigtprozent"
         ],
         "xaxis": "x3",
         "y": [
          100
         ],
         "yaxis": "y3"
        },
        {
         "hovertext": "2 Liedzitate im 100%<br>Geistliches Orgelwerk (Erfurt 1672)<br>Organolustria Evangelico-Stambachiana (Hof 1660)<br>",
         "marker": {
          "color": "rgb(220,220,220)"
         },
         "type": "bar",
         "x": [
          "Liedzitate je Predigtprozent"
         ],
         "xaxis": "x3",
         "y": [
          100
         ],
         "yaxis": "y3"
        },
        {
         "hovertext": "0 Liedzitate im 1%",
         "marker": {
          "color": "rgb(250,250,250)"
         },
         "type": "bar",
         "x": [
          "Liedzitate je Predigtprozent"
         ],
         "xaxis": "x4",
         "y": [
          100
         ],
         "yaxis": "y4"
        },
        {
         "hovertext": "0 Liedzitate im 2%",
         "marker": {
          "color": "rgb(250,250,250)"
         },
         "type": "bar",
         "x": [
          "Liedzitate je Predigtprozent"
         ],
         "xaxis": "x4",
         "y": [
          100
         ],
         "yaxis": "y4"
        },
        {
         "hovertext": "0 Liedzitate im 3%",
         "marker": {
          "color": "rgb(250,250,250)"
         },
         "type": "bar",
         "x": [
          "Liedzitate je Predigtprozent"
         ],
         "xaxis": "x4",
         "y": [
          100
         ],
         "yaxis": "y4"
        },
        {
         "hovertext": "0 Liedzitate im 4%",
         "marker": {
          "color": "rgb(250,250,250)"
         },
         "type": "bar",
         "x": [
          "Liedzitate je Predigtprozent"
         ],
         "xaxis": "x4",
         "y": [
          100
         ],
         "yaxis": "y4"
        },
        {
         "hovertext": "0 Liedzitate im 5%",
         "marker": {
          "color": "rgb(250,250,250)"
         },
         "type": "bar",
         "x": [
          "Liedzitate je Predigtprozent"
         ],
         "xaxis": "x4",
         "y": [
          100
         ],
         "yaxis": "y4"
        },
        {
         "hovertext": "0 Liedzitate im 6%",
         "marker": {
          "color": "rgb(250,250,250)"
         },
         "type": "bar",
         "x": [
          "Liedzitate je Predigtprozent"
         ],
         "xaxis": "x4",
         "y": [
          100
         ],
         "yaxis": "y4"
        },
        {
         "hovertext": "1 Liedzitate im 7%<br>Cithara Theologica (Schleusingen 1683)<br>",
         "marker": {
          "color": "rgb(235,235,235)"
         },
         "type": "bar",
         "x": [
          "Liedzitate je Predigtprozent"
         ],
         "xaxis": "x4",
         "y": [
          100
         ],
         "yaxis": "y4"
        },
        {
         "hovertext": "1 Liedzitate im 8%<br>Cithara Theologica (Schleusingen 1683)<br>",
         "marker": {
          "color": "rgb(235,235,235)"
         },
         "type": "bar",
         "x": [
          "Liedzitate je Predigtprozent"
         ],
         "xaxis": "x4",
         "y": [
          100
         ],
         "yaxis": "y4"
        },
        {
         "hovertext": "2 Liedzitate im 9%<br>Organo-Praxis Mystica (Görlitz 1689)<br>Das Lieblich=klingende Orgeln und Saiten=Spiel (Coburg 1676)<br>",
         "marker": {
          "color": "rgb(220,220,220)"
         },
         "type": "bar",
         "x": [
          "Liedzitate je Predigtprozent"
         ],
         "xaxis": "x4",
         "y": [
          100
         ],
         "yaxis": "y4"
        },
        {
         "hovertext": "1 Liedzitate im 10%<br>Gott und Gnug (Meißen 1681)<br>",
         "marker": {
          "color": "rgb(235,235,235)"
         },
         "type": "bar",
         "x": [
          "Liedzitate je Predigtprozent"
         ],
         "xaxis": "x4",
         "y": [
          100
         ],
         "yaxis": "y4"
        },
        {
         "hovertext": "0 Liedzitate im 11%",
         "marker": {
          "color": "rgb(250,250,250)"
         },
         "type": "bar",
         "x": [
          "Liedzitate je Predigtprozent"
         ],
         "xaxis": "x4",
         "y": [
          100
         ],
         "yaxis": "y4"
        },
        {
         "hovertext": "0 Liedzitate im 12%",
         "marker": {
          "color": "rgb(250,250,250)"
         },
         "type": "bar",
         "x": [
          "Liedzitate je Predigtprozent"
         ],
         "xaxis": "x4",
         "y": [
          100
         ],
         "yaxis": "y4"
        },
        {
         "hovertext": "0 Liedzitate im 13%",
         "marker": {
          "color": "rgb(250,250,250)"
         },
         "type": "bar",
         "x": [
          "Liedzitate je Predigtprozent"
         ],
         "xaxis": "x4",
         "y": [
          100
         ],
         "yaxis": "y4"
        },
        {
         "hovertext": "0 Liedzitate im 14%",
         "marker": {
          "color": "rgb(250,250,250)"
         },
         "type": "bar",
         "x": [
          "Liedzitate je Predigtprozent"
         ],
         "xaxis": "x4",
         "y": [
          100
         ],
         "yaxis": "y4"
        },
        {
         "hovertext": "2 Liedzitate im 15%<br>Gott und Gnug (Meißen 1681)<br>Das Lieblich=klingende Orgeln und Saiten=Spiel (Coburg 1676)<br>",
         "marker": {
          "color": "rgb(220,220,220)"
         },
         "type": "bar",
         "x": [
          "Liedzitate je Predigtprozent"
         ],
         "xaxis": "x4",
         "y": [
          100
         ],
         "yaxis": "y4"
        },
        {
         "hovertext": "1 Liedzitate im 16%<br>Das Lieblich=klingende Orgeln und Saiten=Spiel (Coburg 1676)<br>",
         "marker": {
          "color": "rgb(235,235,235)"
         },
         "type": "bar",
         "x": [
          "Liedzitate je Predigtprozent"
         ],
         "xaxis": "x4",
         "y": [
          100
         ],
         "yaxis": "y4"
        },
        {
         "hovertext": "0 Liedzitate im 17%",
         "marker": {
          "color": "rgb(250,250,250)"
         },
         "type": "bar",
         "x": [
          "Liedzitate je Predigtprozent"
         ],
         "xaxis": "x4",
         "y": [
          100
         ],
         "yaxis": "y4"
        },
        {
         "hovertext": "1 Liedzitate im 18%<br>Eine Christliche Orgel=Predigt (Danzig 1695)<br>",
         "marker": {
          "color": "rgb(235,235,235)"
         },
         "type": "bar",
         "x": [
          "Liedzitate je Predigtprozent"
         ],
         "xaxis": "x4",
         "y": [
          100
         ],
         "yaxis": "y4"
        },
        {
         "hovertext": "0 Liedzitate im 19%",
         "marker": {
          "color": "rgb(250,250,250)"
         },
         "type": "bar",
         "x": [
          "Liedzitate je Predigtprozent"
         ],
         "xaxis": "x4",
         "y": [
          100
         ],
         "yaxis": "y4"
        },
        {
         "hovertext": "0 Liedzitate im 20%",
         "marker": {
          "color": "rgb(250,250,250)"
         },
         "type": "bar",
         "x": [
          "Liedzitate je Predigtprozent"
         ],
         "xaxis": "x4",
         "y": [
          100
         ],
         "yaxis": "y4"
        },
        {
         "hovertext": "2 Liedzitate im 21%<br>Organum Mysticum (Dresden 1686)<br>Gott und Gnug (Meißen 1681)<br>",
         "marker": {
          "color": "rgb(220,220,220)"
         },
         "type": "bar",
         "x": [
          "Liedzitate je Predigtprozent"
         ],
         "xaxis": "x4",
         "y": [
          100
         ],
         "yaxis": "y4"
        },
        {
         "hovertext": "1 Liedzitate im 22%<br>Gott und Gnug (Meißen 1681)<br>",
         "marker": {
          "color": "rgb(235,235,235)"
         },
         "type": "bar",
         "x": [
          "Liedzitate je Predigtprozent"
         ],
         "xaxis": "x4",
         "y": [
          100
         ],
         "yaxis": "y4"
        },
        {
         "hovertext": "1 Liedzitate im 23%<br>Gott und Gnug (Meißen 1681)<br>",
         "marker": {
          "color": "rgb(235,235,235)"
         },
         "type": "bar",
         "x": [
          "Liedzitate je Predigtprozent"
         ],
         "xaxis": "x4",
         "y": [
          100
         ],
         "yaxis": "y4"
        },
        {
         "hovertext": "0 Liedzitate im 24%",
         "marker": {
          "color": "rgb(250,250,250)"
         },
         "type": "bar",
         "x": [
          "Liedzitate je Predigtprozent"
         ],
         "xaxis": "x4",
         "y": [
          100
         ],
         "yaxis": "y4"
        },
        {
         "hovertext": "1 Liedzitate im 25%<br>Organum Mysticum (Dresden 1686)<br>",
         "marker": {
          "color": "rgb(235,235,235)"
         },
         "type": "bar",
         "x": [
          "Liedzitate je Predigtprozent"
         ],
         "xaxis": "x4",
         "y": [
          100
         ],
         "yaxis": "y4"
        },
        {
         "hovertext": "1 Liedzitate im 26%<br>Organum Mysticum (Dresden 1686)<br>",
         "marker": {
          "color": "rgb(235,235,235)"
         },
         "type": "bar",
         "x": [
          "Liedzitate je Predigtprozent"
         ],
         "xaxis": "x4",
         "y": [
          100
         ],
         "yaxis": "y4"
        },
        {
         "hovertext": "0 Liedzitate im 27%",
         "marker": {
          "color": "rgb(250,250,250)"
         },
         "type": "bar",
         "x": [
          "Liedzitate je Predigtprozent"
         ],
         "xaxis": "x4",
         "y": [
          100
         ],
         "yaxis": "y4"
        },
        {
         "hovertext": "0 Liedzitate im 28%",
         "marker": {
          "color": "rgb(250,250,250)"
         },
         "type": "bar",
         "x": [
          "Liedzitate je Predigtprozent"
         ],
         "xaxis": "x4",
         "y": [
          100
         ],
         "yaxis": "y4"
        },
        {
         "hovertext": "1 Liedzitate im 29%<br>Gott und Gnug (Meißen 1681)<br>",
         "marker": {
          "color": "rgb(235,235,235)"
         },
         "type": "bar",
         "x": [
          "Liedzitate je Predigtprozent"
         ],
         "xaxis": "x4",
         "y": [
          100
         ],
         "yaxis": "y4"
        },
        {
         "hovertext": "0 Liedzitate im 30%",
         "marker": {
          "color": "rgb(250,250,250)"
         },
         "type": "bar",
         "x": [
          "Liedzitate je Predigtprozent"
         ],
         "xaxis": "x4",
         "y": [
          100
         ],
         "yaxis": "y4"
        },
        {
         "hovertext": "0 Liedzitate im 31%",
         "marker": {
          "color": "rgb(250,250,250)"
         },
         "type": "bar",
         "x": [
          "Liedzitate je Predigtprozent"
         ],
         "xaxis": "x4",
         "y": [
          100
         ],
         "yaxis": "y4"
        },
        {
         "hovertext": "1 Liedzitate im 32%<br>Cithara Theologica (Schleusingen 1683)<br>",
         "marker": {
          "color": "rgb(235,235,235)"
         },
         "type": "bar",
         "x": [
          "Liedzitate je Predigtprozent"
         ],
         "xaxis": "x4",
         "y": [
          100
         ],
         "yaxis": "y4"
        },
        {
         "hovertext": "1 Liedzitate im 33%<br>Cithara Theologica (Schleusingen 1683)<br>",
         "marker": {
          "color": "rgb(235,235,235)"
         },
         "type": "bar",
         "x": [
          "Liedzitate je Predigtprozent"
         ],
         "xaxis": "x4",
         "y": [
          100
         ],
         "yaxis": "y4"
        },
        {
         "hovertext": "0 Liedzitate im 34%",
         "marker": {
          "color": "rgb(250,250,250)"
         },
         "type": "bar",
         "x": [
          "Liedzitate je Predigtprozent"
         ],
         "xaxis": "x4",
         "y": [
          100
         ],
         "yaxis": "y4"
        },
        {
         "hovertext": "0 Liedzitate im 35%",
         "marker": {
          "color": "rgb(250,250,250)"
         },
         "type": "bar",
         "x": [
          "Liedzitate je Predigtprozent"
         ],
         "xaxis": "x4",
         "y": [
          100
         ],
         "yaxis": "y4"
        },
        {
         "hovertext": "0 Liedzitate im 36%",
         "marker": {
          "color": "rgb(250,250,250)"
         },
         "type": "bar",
         "x": [
          "Liedzitate je Predigtprozent"
         ],
         "xaxis": "x4",
         "y": [
          100
         ],
         "yaxis": "y4"
        },
        {
         "hovertext": "0 Liedzitate im 37%",
         "marker": {
          "color": "rgb(250,250,250)"
         },
         "type": "bar",
         "x": [
          "Liedzitate je Predigtprozent"
         ],
         "xaxis": "x4",
         "y": [
          100
         ],
         "yaxis": "y4"
        },
        {
         "hovertext": "0 Liedzitate im 38%",
         "marker": {
          "color": "rgb(250,250,250)"
         },
         "type": "bar",
         "x": [
          "Liedzitate je Predigtprozent"
         ],
         "xaxis": "x4",
         "y": [
          100
         ],
         "yaxis": "y4"
        },
        {
         "hovertext": "1 Liedzitate im 39%<br>Gott und Gnug (Meißen 1681)<br>",
         "marker": {
          "color": "rgb(235,235,235)"
         },
         "type": "bar",
         "x": [
          "Liedzitate je Predigtprozent"
         ],
         "xaxis": "x4",
         "y": [
          100
         ],
         "yaxis": "y4"
        },
        {
         "hovertext": "2 Liedzitate im 40%<br>Cithara Theologica (Schleusingen 1683)<br>Gott und Gnug (Meißen 1681)<br>",
         "marker": {
          "color": "rgb(220,220,220)"
         },
         "type": "bar",
         "x": [
          "Liedzitate je Predigtprozent"
         ],
         "xaxis": "x4",
         "y": [
          100
         ],
         "yaxis": "y4"
        },
        {
         "hovertext": "2 Liedzitate im 41%<br>Cithara Theologica (Schleusingen 1683)<br>Gott und Gnug (Meißen 1681)<br>",
         "marker": {
          "color": "rgb(220,220,220)"
         },
         "type": "bar",
         "x": [
          "Liedzitate je Predigtprozent"
         ],
         "xaxis": "x4",
         "y": [
          100
         ],
         "yaxis": "y4"
        },
        {
         "hovertext": "1 Liedzitate im 42%<br>Cithara Theologica (Schleusingen 1683)<br>",
         "marker": {
          "color": "rgb(235,235,235)"
         },
         "type": "bar",
         "x": [
          "Liedzitate je Predigtprozent"
         ],
         "xaxis": "x4",
         "y": [
          100
         ],
         "yaxis": "y4"
        },
        {
         "hovertext": "2 Liedzitate im 43%<br>Organum Mysticum (Dresden 1686)<br>Cithara Theologica (Schleusingen 1683)<br>",
         "marker": {
          "color": "rgb(220,220,220)"
         },
         "type": "bar",
         "x": [
          "Liedzitate je Predigtprozent"
         ],
         "xaxis": "x4",
         "y": [
          100
         ],
         "yaxis": "y4"
        },
        {
         "hovertext": "1 Liedzitate im 44%<br>Organum Mysticum (Dresden 1686)<br>",
         "marker": {
          "color": "rgb(235,235,235)"
         },
         "type": "bar",
         "x": [
          "Liedzitate je Predigtprozent"
         ],
         "xaxis": "x4",
         "y": [
          100
         ],
         "yaxis": "y4"
        },
        {
         "hovertext": "1 Liedzitate im 45%<br>Das Lieblich=klingende Orgeln und Saiten=Spiel (Coburg 1676)<br>",
         "marker": {
          "color": "rgb(235,235,235)"
         },
         "type": "bar",
         "x": [
          "Liedzitate je Predigtprozent"
         ],
         "xaxis": "x4",
         "y": [
          100
         ],
         "yaxis": "y4"
        },
        {
         "hovertext": "1 Liedzitate im 46%<br>Das Lieblich=klingende Orgeln und Saiten=Spiel (Coburg 1676)<br>",
         "marker": {
          "color": "rgb(235,235,235)"
         },
         "type": "bar",
         "x": [
          "Liedzitate je Predigtprozent"
         ],
         "xaxis": "x4",
         "y": [
          100
         ],
         "yaxis": "y4"
        },
        {
         "hovertext": "1 Liedzitate im 47%<br>Cithara Theologica (Schleusingen 1683)<br>",
         "marker": {
          "color": "rgb(235,235,235)"
         },
         "type": "bar",
         "x": [
          "Liedzitate je Predigtprozent"
         ],
         "xaxis": "x4",
         "y": [
          100
         ],
         "yaxis": "y4"
        },
        {
         "hovertext": "1 Liedzitate im 48%<br>Cithara Theologica (Schleusingen 1683)<br>",
         "marker": {
          "color": "rgb(235,235,235)"
         },
         "type": "bar",
         "x": [
          "Liedzitate je Predigtprozent"
         ],
         "xaxis": "x4",
         "y": [
          100
         ],
         "yaxis": "y4"
        },
        {
         "hovertext": "0 Liedzitate im 49%",
         "marker": {
          "color": "rgb(250,250,250)"
         },
         "type": "bar",
         "x": [
          "Liedzitate je Predigtprozent"
         ],
         "xaxis": "x4",
         "y": [
          100
         ],
         "yaxis": "y4"
        },
        {
         "hovertext": "1 Liedzitate im 50%<br>Cithara Theologica (Schleusingen 1683)<br>",
         "marker": {
          "color": "rgb(235,235,235)"
         },
         "type": "bar",
         "x": [
          "Liedzitate je Predigtprozent"
         ],
         "xaxis": "x4",
         "y": [
          100
         ],
         "yaxis": "y4"
        },
        {
         "hovertext": "1 Liedzitate im 51%<br>Cithara Theologica (Schleusingen 1683)<br>",
         "marker": {
          "color": "rgb(235,235,235)"
         },
         "type": "bar",
         "x": [
          "Liedzitate je Predigtprozent"
         ],
         "xaxis": "x4",
         "y": [
          100
         ],
         "yaxis": "y4"
        },
        {
         "hovertext": "1 Liedzitate im 52%<br>Cithara Theologica (Schleusingen 1683)<br>",
         "marker": {
          "color": "rgb(235,235,235)"
         },
         "type": "bar",
         "x": [
          "Liedzitate je Predigtprozent"
         ],
         "xaxis": "x4",
         "y": [
          100
         ],
         "yaxis": "y4"
        },
        {
         "hovertext": "1 Liedzitate im 53%<br>Cithara Theologica (Schleusingen 1683)<br>",
         "marker": {
          "color": "rgb(235,235,235)"
         },
         "type": "bar",
         "x": [
          "Liedzitate je Predigtprozent"
         ],
         "xaxis": "x4",
         "y": [
          100
         ],
         "yaxis": "y4"
        },
        {
         "hovertext": "1 Liedzitate im 54%<br>Eine Christliche Orgel=Predigt (Danzig 1695)<br>",
         "marker": {
          "color": "rgb(235,235,235)"
         },
         "type": "bar",
         "x": [
          "Liedzitate je Predigtprozent"
         ],
         "xaxis": "x4",
         "y": [
          100
         ],
         "yaxis": "y4"
        },
        {
         "hovertext": "0 Liedzitate im 55%",
         "marker": {
          "color": "rgb(250,250,250)"
         },
         "type": "bar",
         "x": [
          "Liedzitate je Predigtprozent"
         ],
         "xaxis": "x4",
         "y": [
          100
         ],
         "yaxis": "y4"
        },
        {
         "hovertext": "0 Liedzitate im 56%",
         "marker": {
          "color": "rgb(250,250,250)"
         },
         "type": "bar",
         "x": [
          "Liedzitate je Predigtprozent"
         ],
         "xaxis": "x4",
         "y": [
          100
         ],
         "yaxis": "y4"
        },
        {
         "hovertext": "0 Liedzitate im 57%",
         "marker": {
          "color": "rgb(250,250,250)"
         },
         "type": "bar",
         "x": [
          "Liedzitate je Predigtprozent"
         ],
         "xaxis": "x4",
         "y": [
          100
         ],
         "yaxis": "y4"
        },
        {
         "hovertext": "1 Liedzitate im 58%<br>Gott und Gnug (Meißen 1681)<br>",
         "marker": {
          "color": "rgb(235,235,235)"
         },
         "type": "bar",
         "x": [
          "Liedzitate je Predigtprozent"
         ],
         "xaxis": "x4",
         "y": [
          100
         ],
         "yaxis": "y4"
        },
        {
         "hovertext": "2 Liedzitate im 59%<br>Gott und Gnug (Meißen 1681)<br>Geistlich= und Gott wohlgefälliges Lob- und Danck-Opffer (Bayreuth 1680)<br>",
         "marker": {
          "color": "rgb(220,220,220)"
         },
         "type": "bar",
         "x": [
          "Liedzitate je Predigtprozent"
         ],
         "xaxis": "x4",
         "y": [
          100
         ],
         "yaxis": "y4"
        },
        {
         "hovertext": "1 Liedzitate im 60%<br>Organum Mysticum (Dresden 1686)<br>",
         "marker": {
          "color": "rgb(235,235,235)"
         },
         "type": "bar",
         "x": [
          "Liedzitate je Predigtprozent"
         ],
         "xaxis": "x4",
         "y": [
          100
         ],
         "yaxis": "y4"
        },
        {
         "hovertext": "2 Liedzitate im 61%<br>Gott und Gnug (Meißen 1681)<br>Das Lieblich=klingende Orgeln und Saiten=Spiel (Coburg 1676)<br>",
         "marker": {
          "color": "rgb(220,220,220)"
         },
         "type": "bar",
         "x": [
          "Liedzitate je Predigtprozent"
         ],
         "xaxis": "x4",
         "y": [
          100
         ],
         "yaxis": "y4"
        },
        {
         "hovertext": "0 Liedzitate im 62%",
         "marker": {
          "color": "rgb(250,250,250)"
         },
         "type": "bar",
         "x": [
          "Liedzitate je Predigtprozent"
         ],
         "xaxis": "x4",
         "y": [
          100
         ],
         "yaxis": "y4"
        },
        {
         "hovertext": "0 Liedzitate im 63%",
         "marker": {
          "color": "rgb(250,250,250)"
         },
         "type": "bar",
         "x": [
          "Liedzitate je Predigtprozent"
         ],
         "xaxis": "x4",
         "y": [
          100
         ],
         "yaxis": "y4"
        },
        {
         "hovertext": "1 Liedzitate im 64%<br>Organum Mysticum (Dresden 1686)<br>",
         "marker": {
          "color": "rgb(235,235,235)"
         },
         "type": "bar",
         "x": [
          "Liedzitate je Predigtprozent"
         ],
         "xaxis": "x4",
         "y": [
          100
         ],
         "yaxis": "y4"
        },
        {
         "hovertext": "0 Liedzitate im 65%",
         "marker": {
          "color": "rgb(250,250,250)"
         },
         "type": "bar",
         "x": [
          "Liedzitate je Predigtprozent"
         ],
         "xaxis": "x4",
         "y": [
          100
         ],
         "yaxis": "y4"
        },
        {
         "hovertext": "0 Liedzitate im 66%",
         "marker": {
          "color": "rgb(250,250,250)"
         },
         "type": "bar",
         "x": [
          "Liedzitate je Predigtprozent"
         ],
         "xaxis": "x4",
         "y": [
          100
         ],
         "yaxis": "y4"
        },
        {
         "hovertext": "0 Liedzitate im 67%",
         "marker": {
          "color": "rgb(250,250,250)"
         },
         "type": "bar",
         "x": [
          "Liedzitate je Predigtprozent"
         ],
         "xaxis": "x4",
         "y": [
          100
         ],
         "yaxis": "y4"
        },
        {
         "hovertext": "0 Liedzitate im 68%",
         "marker": {
          "color": "rgb(250,250,250)"
         },
         "type": "bar",
         "x": [
          "Liedzitate je Predigtprozent"
         ],
         "xaxis": "x4",
         "y": [
          100
         ],
         "yaxis": "y4"
        },
        {
         "hovertext": "0 Liedzitate im 69%",
         "marker": {
          "color": "rgb(250,250,250)"
         },
         "type": "bar",
         "x": [
          "Liedzitate je Predigtprozent"
         ],
         "xaxis": "x4",
         "y": [
          100
         ],
         "yaxis": "y4"
        },
        {
         "hovertext": "0 Liedzitate im 70%",
         "marker": {
          "color": "rgb(250,250,250)"
         },
         "type": "bar",
         "x": [
          "Liedzitate je Predigtprozent"
         ],
         "xaxis": "x4",
         "y": [
          100
         ],
         "yaxis": "y4"
        },
        {
         "hovertext": "1 Liedzitate im 71%<br>Cithara Theologica (Schleusingen 1683)<br>",
         "marker": {
          "color": "rgb(235,235,235)"
         },
         "type": "bar",
         "x": [
          "Liedzitate je Predigtprozent"
         ],
         "xaxis": "x4",
         "y": [
          100
         ],
         "yaxis": "y4"
        },
        {
         "hovertext": "1 Liedzitate im 72%<br>Gott und Gnug (Meißen 1681)<br>",
         "marker": {
          "color": "rgb(235,235,235)"
         },
         "type": "bar",
         "x": [
          "Liedzitate je Predigtprozent"
         ],
         "xaxis": "x4",
         "y": [
          100
         ],
         "yaxis": "y4"
        },
        {
         "hovertext": "1 Liedzitate im 73%<br>Gott und Gnug (Meißen 1681)<br>",
         "marker": {
          "color": "rgb(235,235,235)"
         },
         "type": "bar",
         "x": [
          "Liedzitate je Predigtprozent"
         ],
         "xaxis": "x4",
         "y": [
          100
         ],
         "yaxis": "y4"
        },
        {
         "hovertext": "0 Liedzitate im 74%",
         "marker": {
          "color": "rgb(250,250,250)"
         },
         "type": "bar",
         "x": [
          "Liedzitate je Predigtprozent"
         ],
         "xaxis": "x4",
         "y": [
          100
         ],
         "yaxis": "y4"
        },
        {
         "hovertext": "2 Liedzitate im 75%<br>Eine Christliche Orgel=Predigt (Danzig 1695)<br>Geistlich= und Gott wohlgefälliges Lob- und Danck-Opffer (Bayreuth 1680)<br>",
         "marker": {
          "color": "rgb(220,220,220)"
         },
         "type": "bar",
         "x": [
          "Liedzitate je Predigtprozent"
         ],
         "xaxis": "x4",
         "y": [
          100
         ],
         "yaxis": "y4"
        },
        {
         "hovertext": "2 Liedzitate im 76%<br>Eine Christliche Orgel=Predigt (Danzig 1695)<br>Das Lieblich=klingende Orgeln und Saiten=Spiel (Coburg 1676)<br>",
         "marker": {
          "color": "rgb(220,220,220)"
         },
         "type": "bar",
         "x": [
          "Liedzitate je Predigtprozent"
         ],
         "xaxis": "x4",
         "y": [
          100
         ],
         "yaxis": "y4"
        },
        {
         "hovertext": "4 Liedzitate im 77%<br>Cithara Theologica (Schleusingen 1683)<br>Gott und Gnug (Meißen 1681)<br>Das Lieblich=klingende Orgeln und Saiten=Spiel (Coburg 1676)<br>Die andere Predigt (Coburg 1676)<br>",
         "marker": {
          "color": "rgb(190,190,190)"
         },
         "type": "bar",
         "x": [
          "Liedzitate je Predigtprozent"
         ],
         "xaxis": "x4",
         "y": [
          100
         ],
         "yaxis": "y4"
        },
        {
         "hovertext": "2 Liedzitate im 78%<br>Das Lieblich=klingende Orgeln und Saiten=Spiel (Coburg 1676)<br>Die andere Predigt (Coburg 1676)<br>",
         "marker": {
          "color": "rgb(220,220,220)"
         },
         "type": "bar",
         "x": [
          "Liedzitate je Predigtprozent"
         ],
         "xaxis": "x4",
         "y": [
          100
         ],
         "yaxis": "y4"
        },
        {
         "hovertext": "1 Liedzitate im 79%<br>Die andere Predigt (Coburg 1676)<br>",
         "marker": {
          "color": "rgb(235,235,235)"
         },
         "type": "bar",
         "x": [
          "Liedzitate je Predigtprozent"
         ],
         "xaxis": "x4",
         "y": [
          100
         ],
         "yaxis": "y4"
        },
        {
         "hovertext": "1 Liedzitate im 80%<br>Cithara Theologica (Schleusingen 1683)<br>",
         "marker": {
          "color": "rgb(235,235,235)"
         },
         "type": "bar",
         "x": [
          "Liedzitate je Predigtprozent"
         ],
         "xaxis": "x4",
         "y": [
          100
         ],
         "yaxis": "y4"
        },
        {
         "hovertext": "0 Liedzitate im 81%",
         "marker": {
          "color": "rgb(250,250,250)"
         },
         "type": "bar",
         "x": [
          "Liedzitate je Predigtprozent"
         ],
         "xaxis": "x4",
         "y": [
          100
         ],
         "yaxis": "y4"
        },
        {
         "hovertext": "1 Liedzitate im 82%<br>Geistlich= und Gott wohlgefälliges Lob- und Danck-Opffer (Bayreuth 1680)<br>",
         "marker": {
          "color": "rgb(235,235,235)"
         },
         "type": "bar",
         "x": [
          "Liedzitate je Predigtprozent"
         ],
         "xaxis": "x4",
         "y": [
          100
         ],
         "yaxis": "y4"
        },
        {
         "hovertext": "3 Liedzitate im 83%<br>Organum Mysticum (Dresden 1686)<br>Geistlich= und Gott wohlgefälliges Lob- und Danck-Opffer (Bayreuth 1680)<br>Das Lieblich=klingende Orgeln und Saiten=Spiel (Coburg 1676)<br>",
         "marker": {
          "color": "rgb(205,205,205)"
         },
         "type": "bar",
         "x": [
          "Liedzitate je Predigtprozent"
         ],
         "xaxis": "x4",
         "y": [
          100
         ],
         "yaxis": "y4"
        },
        {
         "hovertext": "3 Liedzitate im 84%<br>Organum Mysticum (Dresden 1686)<br>Geistlich= und Gott wohlgefälliges Lob- und Danck-Opffer (Bayreuth 1680)<br>Das Lieblich=klingende Orgeln und Saiten=Spiel (Coburg 1676)<br>",
         "marker": {
          "color": "rgb(205,205,205)"
         },
         "type": "bar",
         "x": [
          "Liedzitate je Predigtprozent"
         ],
         "xaxis": "x4",
         "y": [
          100
         ],
         "yaxis": "y4"
        },
        {
         "hovertext": "1 Liedzitate im 85%<br>Die andere Predigt (Coburg 1676)<br>",
         "marker": {
          "color": "rgb(235,235,235)"
         },
         "type": "bar",
         "x": [
          "Liedzitate je Predigtprozent"
         ],
         "xaxis": "x4",
         "y": [
          100
         ],
         "yaxis": "y4"
        },
        {
         "hovertext": "1 Liedzitate im 86%<br>Die andere Predigt (Coburg 1676)<br>",
         "marker": {
          "color": "rgb(235,235,235)"
         },
         "type": "bar",
         "x": [
          "Liedzitate je Predigtprozent"
         ],
         "xaxis": "x4",
         "y": [
          100
         ],
         "yaxis": "y4"
        },
        {
         "hovertext": "1 Liedzitate im 87%<br>Geistlich= und Gott wohlgefälliges Lob- und Danck-Opffer (Bayreuth 1680)<br>",
         "marker": {
          "color": "rgb(235,235,235)"
         },
         "type": "bar",
         "x": [
          "Liedzitate je Predigtprozent"
         ],
         "xaxis": "x4",
         "y": [
          100
         ],
         "yaxis": "y4"
        },
        {
         "hovertext": "1 Liedzitate im 88%<br>Geistlich= und Gott wohlgefälliges Lob- und Danck-Opffer (Bayreuth 1680)<br>",
         "marker": {
          "color": "rgb(235,235,235)"
         },
         "type": "bar",
         "x": [
          "Liedzitate je Predigtprozent"
         ],
         "xaxis": "x4",
         "y": [
          100
         ],
         "yaxis": "y4"
        },
        {
         "hovertext": "1 Liedzitate im 89%<br>Die andere Predigt (Coburg 1676)<br>",
         "marker": {
          "color": "rgb(235,235,235)"
         },
         "type": "bar",
         "x": [
          "Liedzitate je Predigtprozent"
         ],
         "xaxis": "x4",
         "y": [
          100
         ],
         "yaxis": "y4"
        },
        {
         "hovertext": "3 Liedzitate im 90%<br>Organum Mysticum (Dresden 1686)<br>Geistlich= und Gott wohlgefälliges Lob- und Danck-Opffer (Bayreuth 1680)<br>Die andere Predigt (Coburg 1676)<br>",
         "marker": {
          "color": "rgb(205,205,205)"
         },
         "type": "bar",
         "x": [
          "Liedzitate je Predigtprozent"
         ],
         "xaxis": "x4",
         "y": [
          100
         ],
         "yaxis": "y4"
        },
        {
         "hovertext": "2 Liedzitate im 91%<br>Gott und Gnug (Meißen 1681)<br>Geistlich= und Gott wohlgefälliges Lob- und Danck-Opffer (Bayreuth 1680)<br>",
         "marker": {
          "color": "rgb(220,220,220)"
         },
         "type": "bar",
         "x": [
          "Liedzitate je Predigtprozent"
         ],
         "xaxis": "x4",
         "y": [
          100
         ],
         "yaxis": "y4"
        },
        {
         "hovertext": "4 Liedzitate im 92%<br>Organum Mysticum (Dresden 1686)<br>Cithara Theologica (Schleusingen 1683)<br>Gott und Gnug (Meißen 1681)<br>Die andere Predigt (Coburg 1676)<br>",
         "marker": {
          "color": "rgb(190,190,190)"
         },
         "type": "bar",
         "x": [
          "Liedzitate je Predigtprozent"
         ],
         "xaxis": "x4",
         "y": [
          100
         ],
         "yaxis": "y4"
        },
        {
         "hovertext": "1 Liedzitate im 93%<br>Organum Mysticum (Dresden 1686)<br>",
         "marker": {
          "color": "rgb(235,235,235)"
         },
         "type": "bar",
         "x": [
          "Liedzitate je Predigtprozent"
         ],
         "xaxis": "x4",
         "y": [
          100
         ],
         "yaxis": "y4"
        },
        {
         "hovertext": "2 Liedzitate im 94%<br>Cithara Theologica (Schleusingen 1683)<br>Das Lieblich=klingende Orgeln und Saiten=Spiel (Coburg 1676)<br>",
         "marker": {
          "color": "rgb(220,220,220)"
         },
         "type": "bar",
         "x": [
          "Liedzitate je Predigtprozent"
         ],
         "xaxis": "x4",
         "y": [
          100
         ],
         "yaxis": "y4"
        },
        {
         "hovertext": "2 Liedzitate im 95%<br>Gott und Gnug (Meißen 1681)<br>Das Lieblich=klingende Orgeln und Saiten=Spiel (Coburg 1676)<br>",
         "marker": {
          "color": "rgb(220,220,220)"
         },
         "type": "bar",
         "x": [
          "Liedzitate je Predigtprozent"
         ],
         "xaxis": "x4",
         "y": [
          100
         ],
         "yaxis": "y4"
        },
        {
         "hovertext": "2 Liedzitate im 96%<br>Das dem Allmächtigen abzustattende Lob (Altenburg s.a.)<br>Organum Mysticum (Dresden 1686)<br>",
         "marker": {
          "color": "rgb(220,220,220)"
         },
         "type": "bar",
         "x": [
          "Liedzitate je Predigtprozent"
         ],
         "xaxis": "x4",
         "y": [
          100
         ],
         "yaxis": "y4"
        },
        {
         "hovertext": "1 Liedzitate im 97%<br>Geistlich= und Gott wohlgefälliges Lob- und Danck-Opffer (Bayreuth 1680)<br>",
         "marker": {
          "color": "rgb(235,235,235)"
         },
         "type": "bar",
         "x": [
          "Liedzitate je Predigtprozent"
         ],
         "xaxis": "x4",
         "y": [
          100
         ],
         "yaxis": "y4"
        },
        {
         "hovertext": "1 Liedzitate im 98%<br>Cithara Theologica (Schleusingen 1683)<br>",
         "marker": {
          "color": "rgb(235,235,235)"
         },
         "type": "bar",
         "x": [
          "Liedzitate je Predigtprozent"
         ],
         "xaxis": "x4",
         "y": [
          100
         ],
         "yaxis": "y4"
        },
        {
         "hovertext": "2 Liedzitate im 99%<br>Cithara Theologica (Schleusingen 1683)<br>Das Lieblich=klingende Orgeln und Saiten=Spiel (Coburg 1676)<br>",
         "marker": {
          "color": "rgb(220,220,220)"
         },
         "type": "bar",
         "x": [
          "Liedzitate je Predigtprozent"
         ],
         "xaxis": "x4",
         "y": [
          100
         ],
         "yaxis": "y4"
        },
        {
         "hovertext": "3 Liedzitate im 100%<br>Das Lieblich=klingende Orgeln und Saiten=Spiel (Coburg 1676)<br>Die andere Predigt (Coburg 1676)<br>Organi Laudes (Plauen 1685)<br>",
         "marker": {
          "color": "rgb(205,205,205)"
         },
         "type": "bar",
         "x": [
          "Liedzitate je Predigtprozent"
         ],
         "xaxis": "x4",
         "y": [
          100
         ],
         "yaxis": "y4"
        },
        {
         "hovertext": "0 Liedzitate im 1%",
         "marker": {
          "color": "rgb(250,250,250)"
         },
         "type": "bar",
         "x": [
          "Liedzitate je Predigtprozent"
         ],
         "xaxis": "x5",
         "y": [
          100
         ],
         "yaxis": "y5"
        },
        {
         "hovertext": "0 Liedzitate im 2%",
         "marker": {
          "color": "rgb(250,250,250)"
         },
         "type": "bar",
         "x": [
          "Liedzitate je Predigtprozent"
         ],
         "xaxis": "x5",
         "y": [
          100
         ],
         "yaxis": "y5"
        },
        {
         "hovertext": "0 Liedzitate im 3%",
         "marker": {
          "color": "rgb(250,250,250)"
         },
         "type": "bar",
         "x": [
          "Liedzitate je Predigtprozent"
         ],
         "xaxis": "x5",
         "y": [
          100
         ],
         "yaxis": "y5"
        },
        {
         "hovertext": "0 Liedzitate im 4%",
         "marker": {
          "color": "rgb(250,250,250)"
         },
         "type": "bar",
         "x": [
          "Liedzitate je Predigtprozent"
         ],
         "xaxis": "x5",
         "y": [
          100
         ],
         "yaxis": "y5"
        },
        {
         "hovertext": "0 Liedzitate im 5%",
         "marker": {
          "color": "rgb(250,250,250)"
         },
         "type": "bar",
         "x": [
          "Liedzitate je Predigtprozent"
         ],
         "xaxis": "x5",
         "y": [
          100
         ],
         "yaxis": "y5"
        },
        {
         "hovertext": "0 Liedzitate im 6%",
         "marker": {
          "color": "rgb(250,250,250)"
         },
         "type": "bar",
         "x": [
          "Liedzitate je Predigtprozent"
         ],
         "xaxis": "x5",
         "y": [
          100
         ],
         "yaxis": "y5"
        },
        {
         "hovertext": "1 Liedzitate im 7%<br>Einweihungs-Predigt (Görlitz 1704)<br>",
         "marker": {
          "color": "rgb(235,235,235)"
         },
         "type": "bar",
         "x": [
          "Liedzitate je Predigtprozent"
         ],
         "xaxis": "x5",
         "y": [
          100
         ],
         "yaxis": "y5"
        },
        {
         "hovertext": "0 Liedzitate im 8%",
         "marker": {
          "color": "rgb(250,250,250)"
         },
         "type": "bar",
         "x": [
          "Liedzitate je Predigtprozent"
         ],
         "xaxis": "x5",
         "y": [
          100
         ],
         "yaxis": "y5"
        },
        {
         "hovertext": "1 Liedzitate im 9%<br>Orgel Weih-Predigt (Ansbach 1709)<br>",
         "marker": {
          "color": "rgb(235,235,235)"
         },
         "type": "bar",
         "x": [
          "Liedzitate je Predigtprozent"
         ],
         "xaxis": "x5",
         "y": [
          100
         ],
         "yaxis": "y5"
        },
        {
         "hovertext": "1 Liedzitate im 10%<br>Ein wolgerührtes Orgel=Werck (Königsberg 1721)<br>",
         "marker": {
          "color": "rgb(235,235,235)"
         },
         "type": "bar",
         "x": [
          "Liedzitate je Predigtprozent"
         ],
         "xaxis": "x5",
         "y": [
          100
         ],
         "yaxis": "y5"
        },
        {
         "hovertext": "1 Liedzitate im 11%<br>Christliche Orgel-Predigt (Danzig s.a.)<br>",
         "marker": {
          "color": "rgb(235,235,235)"
         },
         "type": "bar",
         "x": [
          "Liedzitate je Predigtprozent"
         ],
         "xaxis": "x5",
         "y": [
          100
         ],
         "yaxis": "y5"
        },
        {
         "hovertext": "1 Liedzitate im 12%<br>Vivum Dei Organum (Schneeberg s.a.)<br>",
         "marker": {
          "color": "rgb(235,235,235)"
         },
         "type": "bar",
         "x": [
          "Liedzitate je Predigtprozent"
         ],
         "xaxis": "x5",
         "y": [
          100
         ],
         "yaxis": "y5"
        },
        {
         "hovertext": "0 Liedzitate im 13%",
         "marker": {
          "color": "rgb(250,250,250)"
         },
         "type": "bar",
         "x": [
          "Liedzitate je Predigtprozent"
         ],
         "xaxis": "x5",
         "y": [
          100
         ],
         "yaxis": "y5"
        },
        {
         "hovertext": "2 Liedzitate im 14%<br>Ein wolgerührtes Orgel=Werck (Königsberg 1721)<br>Einweihungs-Predigt (Görlitz 1704)<br>",
         "marker": {
          "color": "rgb(220,220,220)"
         },
         "type": "bar",
         "x": [
          "Liedzitate je Predigtprozent"
         ],
         "xaxis": "x5",
         "y": [
          100
         ],
         "yaxis": "y5"
        },
        {
         "hovertext": "0 Liedzitate im 15%",
         "marker": {
          "color": "rgb(250,250,250)"
         },
         "type": "bar",
         "x": [
          "Liedzitate je Predigtprozent"
         ],
         "xaxis": "x5",
         "y": [
          100
         ],
         "yaxis": "y5"
        },
        {
         "hovertext": "1 Liedzitate im 16%<br>Christliche Orgel-Predigt (Danzig s.a.)<br>",
         "marker": {
          "color": "rgb(235,235,235)"
         },
         "type": "bar",
         "x": [
          "Liedzitate je Predigtprozent"
         ],
         "xaxis": "x5",
         "y": [
          100
         ],
         "yaxis": "y5"
        },
        {
         "hovertext": "2 Liedzitate im 17%<br>Vivum Dei Organum (Schneeberg s.a.)<br>Christliche Orgel-Predigt (Danzig s.a.)<br>",
         "marker": {
          "color": "rgb(220,220,220)"
         },
         "type": "bar",
         "x": [
          "Liedzitate je Predigtprozent"
         ],
         "xaxis": "x5",
         "y": [
          100
         ],
         "yaxis": "y5"
        },
        {
         "hovertext": "1 Liedzitate im 18%<br>Vivum Dei Organum (Schneeberg s.a.)<br>",
         "marker": {
          "color": "rgb(235,235,235)"
         },
         "type": "bar",
         "x": [
          "Liedzitate je Predigtprozent"
         ],
         "xaxis": "x5",
         "y": [
          100
         ],
         "yaxis": "y5"
        },
        {
         "hovertext": "2 Liedzitate im 19%<br>Davids Vermahnung (Dresden 1711)<br>Christliche Orgel-Predigt (Danzig s.a.)<br>",
         "marker": {
          "color": "rgb(220,220,220)"
         },
         "type": "bar",
         "x": [
          "Liedzitate je Predigtprozent"
         ],
         "xaxis": "x5",
         "y": [
          100
         ],
         "yaxis": "y5"
        },
        {
         "hovertext": "2 Liedzitate im 20%<br>Ein wolgerührtes Orgel=Werck (Königsberg 1721)<br>Christliche Orgel-Predigt (Danzig s.a.)<br>",
         "marker": {
          "color": "rgb(220,220,220)"
         },
         "type": "bar",
         "x": [
          "Liedzitate je Predigtprozent"
         ],
         "xaxis": "x5",
         "y": [
          100
         ],
         "yaxis": "y5"
        },
        {
         "hovertext": "1 Liedzitate im 21%<br>Ein wolgerührtes Orgel=Werck (Königsberg 1721)<br>",
         "marker": {
          "color": "rgb(235,235,235)"
         },
         "type": "bar",
         "x": [
          "Liedzitate je Predigtprozent"
         ],
         "xaxis": "x5",
         "y": [
          100
         ],
         "yaxis": "y5"
        },
        {
         "hovertext": "0 Liedzitate im 22%",
         "marker": {
          "color": "rgb(250,250,250)"
         },
         "type": "bar",
         "x": [
          "Liedzitate je Predigtprozent"
         ],
         "xaxis": "x5",
         "y": [
          100
         ],
         "yaxis": "y5"
        },
        {
         "hovertext": "0 Liedzitate im 23%",
         "marker": {
          "color": "rgb(250,250,250)"
         },
         "type": "bar",
         "x": [
          "Liedzitate je Predigtprozent"
         ],
         "xaxis": "x5",
         "y": [
          100
         ],
         "yaxis": "y5"
        },
        {
         "hovertext": "1 Liedzitate im 24%<br>Ein wolgerührtes Orgel=Werck (Königsberg 1721)<br>",
         "marker": {
          "color": "rgb(235,235,235)"
         },
         "type": "bar",
         "x": [
          "Liedzitate je Predigtprozent"
         ],
         "xaxis": "x5",
         "y": [
          100
         ],
         "yaxis": "y5"
        },
        {
         "hovertext": "0 Liedzitate im 25%",
         "marker": {
          "color": "rgb(250,250,250)"
         },
         "type": "bar",
         "x": [
          "Liedzitate je Predigtprozent"
         ],
         "xaxis": "x5",
         "y": [
          100
         ],
         "yaxis": "y5"
        },
        {
         "hovertext": "1 Liedzitate im 26%<br>Vivum Dei Organum (Schneeberg s.a.)<br>",
         "marker": {
          "color": "rgb(235,235,235)"
         },
         "type": "bar",
         "x": [
          "Liedzitate je Predigtprozent"
         ],
         "xaxis": "x5",
         "y": [
          100
         ],
         "yaxis": "y5"
        },
        {
         "hovertext": "0 Liedzitate im 27%",
         "marker": {
          "color": "rgb(250,250,250)"
         },
         "type": "bar",
         "x": [
          "Liedzitate je Predigtprozent"
         ],
         "xaxis": "x5",
         "y": [
          100
         ],
         "yaxis": "y5"
        },
        {
         "hovertext": "0 Liedzitate im 28%",
         "marker": {
          "color": "rgb(250,250,250)"
         },
         "type": "bar",
         "x": [
          "Liedzitate je Predigtprozent"
         ],
         "xaxis": "x5",
         "y": [
          100
         ],
         "yaxis": "y5"
        },
        {
         "hovertext": "1 Liedzitate im 29%<br>Davids Vermahnung (Dresden 1711)<br>",
         "marker": {
          "color": "rgb(235,235,235)"
         },
         "type": "bar",
         "x": [
          "Liedzitate je Predigtprozent"
         ],
         "xaxis": "x5",
         "y": [
          100
         ],
         "yaxis": "y5"
        },
        {
         "hovertext": "0 Liedzitate im 30%",
         "marker": {
          "color": "rgb(250,250,250)"
         },
         "type": "bar",
         "x": [
          "Liedzitate je Predigtprozent"
         ],
         "xaxis": "x5",
         "y": [
          100
         ],
         "yaxis": "y5"
        },
        {
         "hovertext": "0 Liedzitate im 31%",
         "marker": {
          "color": "rgb(250,250,250)"
         },
         "type": "bar",
         "x": [
          "Liedzitate je Predigtprozent"
         ],
         "xaxis": "x5",
         "y": [
          100
         ],
         "yaxis": "y5"
        },
        {
         "hovertext": "0 Liedzitate im 32%",
         "marker": {
          "color": "rgb(250,250,250)"
         },
         "type": "bar",
         "x": [
          "Liedzitate je Predigtprozent"
         ],
         "xaxis": "x5",
         "y": [
          100
         ],
         "yaxis": "y5"
        },
        {
         "hovertext": "0 Liedzitate im 33%",
         "marker": {
          "color": "rgb(250,250,250)"
         },
         "type": "bar",
         "x": [
          "Liedzitate je Predigtprozent"
         ],
         "xaxis": "x5",
         "y": [
          100
         ],
         "yaxis": "y5"
        },
        {
         "hovertext": "0 Liedzitate im 34%",
         "marker": {
          "color": "rgb(250,250,250)"
         },
         "type": "bar",
         "x": [
          "Liedzitate je Predigtprozent"
         ],
         "xaxis": "x5",
         "y": [
          100
         ],
         "yaxis": "y5"
        },
        {
         "hovertext": "0 Liedzitate im 35%",
         "marker": {
          "color": "rgb(250,250,250)"
         },
         "type": "bar",
         "x": [
          "Liedzitate je Predigtprozent"
         ],
         "xaxis": "x5",
         "y": [
          100
         ],
         "yaxis": "y5"
        },
        {
         "hovertext": "0 Liedzitate im 36%",
         "marker": {
          "color": "rgb(250,250,250)"
         },
         "type": "bar",
         "x": [
          "Liedzitate je Predigtprozent"
         ],
         "xaxis": "x5",
         "y": [
          100
         ],
         "yaxis": "y5"
        },
        {
         "hovertext": "0 Liedzitate im 37%",
         "marker": {
          "color": "rgb(250,250,250)"
         },
         "type": "bar",
         "x": [
          "Liedzitate je Predigtprozent"
         ],
         "xaxis": "x5",
         "y": [
          100
         ],
         "yaxis": "y5"
        },
        {
         "hovertext": "0 Liedzitate im 38%",
         "marker": {
          "color": "rgb(250,250,250)"
         },
         "type": "bar",
         "x": [
          "Liedzitate je Predigtprozent"
         ],
         "xaxis": "x5",
         "y": [
          100
         ],
         "yaxis": "y5"
        },
        {
         "hovertext": "0 Liedzitate im 39%",
         "marker": {
          "color": "rgb(250,250,250)"
         },
         "type": "bar",
         "x": [
          "Liedzitate je Predigtprozent"
         ],
         "xaxis": "x5",
         "y": [
          100
         ],
         "yaxis": "y5"
        },
        {
         "hovertext": "0 Liedzitate im 40%",
         "marker": {
          "color": "rgb(250,250,250)"
         },
         "type": "bar",
         "x": [
          "Liedzitate je Predigtprozent"
         ],
         "xaxis": "x5",
         "y": [
          100
         ],
         "yaxis": "y5"
        },
        {
         "hovertext": "0 Liedzitate im 41%",
         "marker": {
          "color": "rgb(250,250,250)"
         },
         "type": "bar",
         "x": [
          "Liedzitate je Predigtprozent"
         ],
         "xaxis": "x5",
         "y": [
          100
         ],
         "yaxis": "y5"
        },
        {
         "hovertext": "0 Liedzitate im 42%",
         "marker": {
          "color": "rgb(250,250,250)"
         },
         "type": "bar",
         "x": [
          "Liedzitate je Predigtprozent"
         ],
         "xaxis": "x5",
         "y": [
          100
         ],
         "yaxis": "y5"
        },
        {
         "hovertext": "0 Liedzitate im 43%",
         "marker": {
          "color": "rgb(250,250,250)"
         },
         "type": "bar",
         "x": [
          "Liedzitate je Predigtprozent"
         ],
         "xaxis": "x5",
         "y": [
          100
         ],
         "yaxis": "y5"
        },
        {
         "hovertext": "0 Liedzitate im 44%",
         "marker": {
          "color": "rgb(250,250,250)"
         },
         "type": "bar",
         "x": [
          "Liedzitate je Predigtprozent"
         ],
         "xaxis": "x5",
         "y": [
          100
         ],
         "yaxis": "y5"
        },
        {
         "hovertext": "1 Liedzitate im 45%<br>Das rein-gestimmte Orgel-Werk unsers Herzens (Nürnberg s.a.)<br>",
         "marker": {
          "color": "rgb(235,235,235)"
         },
         "type": "bar",
         "x": [
          "Liedzitate je Predigtprozent"
         ],
         "xaxis": "x5",
         "y": [
          100
         ],
         "yaxis": "y5"
        },
        {
         "hovertext": "0 Liedzitate im 46%",
         "marker": {
          "color": "rgb(250,250,250)"
         },
         "type": "bar",
         "x": [
          "Liedzitate je Predigtprozent"
         ],
         "xaxis": "x5",
         "y": [
          100
         ],
         "yaxis": "y5"
        },
        {
         "hovertext": "0 Liedzitate im 47%",
         "marker": {
          "color": "rgb(250,250,250)"
         },
         "type": "bar",
         "x": [
          "Liedzitate je Predigtprozent"
         ],
         "xaxis": "x5",
         "y": [
          100
         ],
         "yaxis": "y5"
        },
        {
         "hovertext": "0 Liedzitate im 48%",
         "marker": {
          "color": "rgb(250,250,250)"
         },
         "type": "bar",
         "x": [
          "Liedzitate je Predigtprozent"
         ],
         "xaxis": "x5",
         "y": [
          100
         ],
         "yaxis": "y5"
        },
        {
         "hovertext": "0 Liedzitate im 49%",
         "marker": {
          "color": "rgb(250,250,250)"
         },
         "type": "bar",
         "x": [
          "Liedzitate je Predigtprozent"
         ],
         "xaxis": "x5",
         "y": [
          100
         ],
         "yaxis": "y5"
        },
        {
         "hovertext": "0 Liedzitate im 50%",
         "marker": {
          "color": "rgb(250,250,250)"
         },
         "type": "bar",
         "x": [
          "Liedzitate je Predigtprozent"
         ],
         "xaxis": "x5",
         "y": [
          100
         ],
         "yaxis": "y5"
        },
        {
         "hovertext": "0 Liedzitate im 51%",
         "marker": {
          "color": "rgb(250,250,250)"
         },
         "type": "bar",
         "x": [
          "Liedzitate je Predigtprozent"
         ],
         "xaxis": "x5",
         "y": [
          100
         ],
         "yaxis": "y5"
        },
        {
         "hovertext": "0 Liedzitate im 52%",
         "marker": {
          "color": "rgb(250,250,250)"
         },
         "type": "bar",
         "x": [
          "Liedzitate je Predigtprozent"
         ],
         "xaxis": "x5",
         "y": [
          100
         ],
         "yaxis": "y5"
        },
        {
         "hovertext": "2 Liedzitate im 53%<br>Das rein-gestimmte Orgel-Werk unsers Herzens (Nürnberg s.a.)<br>Einweihungs-Predigt (Görlitz 1704)<br>",
         "marker": {
          "color": "rgb(220,220,220)"
         },
         "type": "bar",
         "x": [
          "Liedzitate je Predigtprozent"
         ],
         "xaxis": "x5",
         "y": [
          100
         ],
         "yaxis": "y5"
        },
        {
         "hovertext": "2 Liedzitate im 54%<br>Das rein-gestimmte Orgel-Werk unsers Herzens (Nürnberg s.a.)<br>Einweihungs-Predigt (Görlitz 1704)<br>",
         "marker": {
          "color": "rgb(220,220,220)"
         },
         "type": "bar",
         "x": [
          "Liedzitate je Predigtprozent"
         ],
         "xaxis": "x5",
         "y": [
          100
         ],
         "yaxis": "y5"
        },
        {
         "hovertext": "0 Liedzitate im 55%",
         "marker": {
          "color": "rgb(250,250,250)"
         },
         "type": "bar",
         "x": [
          "Liedzitate je Predigtprozent"
         ],
         "xaxis": "x5",
         "y": [
          100
         ],
         "yaxis": "y5"
        },
        {
         "hovertext": "0 Liedzitate im 56%",
         "marker": {
          "color": "rgb(250,250,250)"
         },
         "type": "bar",
         "x": [
          "Liedzitate je Predigtprozent"
         ],
         "xaxis": "x5",
         "y": [
          100
         ],
         "yaxis": "y5"
        },
        {
         "hovertext": "0 Liedzitate im 57%",
         "marker": {
          "color": "rgb(250,250,250)"
         },
         "type": "bar",
         "x": [
          "Liedzitate je Predigtprozent"
         ],
         "xaxis": "x5",
         "y": [
          100
         ],
         "yaxis": "y5"
        },
        {
         "hovertext": "0 Liedzitate im 58%",
         "marker": {
          "color": "rgb(250,250,250)"
         },
         "type": "bar",
         "x": [
          "Liedzitate je Predigtprozent"
         ],
         "xaxis": "x5",
         "y": [
          100
         ],
         "yaxis": "y5"
        },
        {
         "hovertext": "0 Liedzitate im 59%",
         "marker": {
          "color": "rgb(250,250,250)"
         },
         "type": "bar",
         "x": [
          "Liedzitate je Predigtprozent"
         ],
         "xaxis": "x5",
         "y": [
          100
         ],
         "yaxis": "y5"
        },
        {
         "hovertext": "0 Liedzitate im 60%",
         "marker": {
          "color": "rgb(250,250,250)"
         },
         "type": "bar",
         "x": [
          "Liedzitate je Predigtprozent"
         ],
         "xaxis": "x5",
         "y": [
          100
         ],
         "yaxis": "y5"
        },
        {
         "hovertext": "0 Liedzitate im 61%",
         "marker": {
          "color": "rgb(250,250,250)"
         },
         "type": "bar",
         "x": [
          "Liedzitate je Predigtprozent"
         ],
         "xaxis": "x5",
         "y": [
          100
         ],
         "yaxis": "y5"
        },
        {
         "hovertext": "0 Liedzitate im 62%",
         "marker": {
          "color": "rgb(250,250,250)"
         },
         "type": "bar",
         "x": [
          "Liedzitate je Predigtprozent"
         ],
         "xaxis": "x5",
         "y": [
          100
         ],
         "yaxis": "y5"
        },
        {
         "hovertext": "1 Liedzitate im 63%<br>Das rein-gestimmte Orgel-Werk unsers Herzens (Nürnberg s.a.)<br>",
         "marker": {
          "color": "rgb(235,235,235)"
         },
         "type": "bar",
         "x": [
          "Liedzitate je Predigtprozent"
         ],
         "xaxis": "x5",
         "y": [
          100
         ],
         "yaxis": "y5"
        },
        {
         "hovertext": "1 Liedzitate im 64%<br>Das rein-gestimmte Orgel-Werk unsers Herzens (Nürnberg s.a.)<br>",
         "marker": {
          "color": "rgb(235,235,235)"
         },
         "type": "bar",
         "x": [
          "Liedzitate je Predigtprozent"
         ],
         "xaxis": "x5",
         "y": [
          100
         ],
         "yaxis": "y5"
        },
        {
         "hovertext": "0 Liedzitate im 65%",
         "marker": {
          "color": "rgb(250,250,250)"
         },
         "type": "bar",
         "x": [
          "Liedzitate je Predigtprozent"
         ],
         "xaxis": "x5",
         "y": [
          100
         ],
         "yaxis": "y5"
        },
        {
         "hovertext": "0 Liedzitate im 66%",
         "marker": {
          "color": "rgb(250,250,250)"
         },
         "type": "bar",
         "x": [
          "Liedzitate je Predigtprozent"
         ],
         "xaxis": "x5",
         "y": [
          100
         ],
         "yaxis": "y5"
        },
        {
         "hovertext": "0 Liedzitate im 67%",
         "marker": {
          "color": "rgb(250,250,250)"
         },
         "type": "bar",
         "x": [
          "Liedzitate je Predigtprozent"
         ],
         "xaxis": "x5",
         "y": [
          100
         ],
         "yaxis": "y5"
        },
        {
         "hovertext": "0 Liedzitate im 68%",
         "marker": {
          "color": "rgb(250,250,250)"
         },
         "type": "bar",
         "x": [
          "Liedzitate je Predigtprozent"
         ],
         "xaxis": "x5",
         "y": [
          100
         ],
         "yaxis": "y5"
        },
        {
         "hovertext": "1 Liedzitate im 69%<br>Ein wolgerührtes Orgel=Werck (Königsberg 1721)<br>",
         "marker": {
          "color": "rgb(235,235,235)"
         },
         "type": "bar",
         "x": [
          "Liedzitate je Predigtprozent"
         ],
         "xaxis": "x5",
         "y": [
          100
         ],
         "yaxis": "y5"
        },
        {
         "hovertext": "1 Liedzitate im 70%<br>Ein wolgerührtes Orgel=Werck (Königsberg 1721)<br>",
         "marker": {
          "color": "rgb(235,235,235)"
         },
         "type": "bar",
         "x": [
          "Liedzitate je Predigtprozent"
         ],
         "xaxis": "x5",
         "y": [
          100
         ],
         "yaxis": "y5"
        },
        {
         "hovertext": "1 Liedzitate im 71%<br>Ein wolgerührtes Orgel=Werck (Königsberg 1721)<br>",
         "marker": {
          "color": "rgb(235,235,235)"
         },
         "type": "bar",
         "x": [
          "Liedzitate je Predigtprozent"
         ],
         "xaxis": "x5",
         "y": [
          100
         ],
         "yaxis": "y5"
        },
        {
         "hovertext": "1 Liedzitate im 72%<br>Ein wolgerührtes Orgel=Werck (Königsberg 1721)<br>",
         "marker": {
          "color": "rgb(235,235,235)"
         },
         "type": "bar",
         "x": [
          "Liedzitate je Predigtprozent"
         ],
         "xaxis": "x5",
         "y": [
          100
         ],
         "yaxis": "y5"
        },
        {
         "hovertext": "1 Liedzitate im 73%<br>Das rein-gestimmte Orgel-Werk unsers Herzens (Nürnberg s.a.)<br>",
         "marker": {
          "color": "rgb(235,235,235)"
         },
         "type": "bar",
         "x": [
          "Liedzitate je Predigtprozent"
         ],
         "xaxis": "x5",
         "y": [
          100
         ],
         "yaxis": "y5"
        },
        {
         "hovertext": "1 Liedzitate im 74%<br>Ein wolgerührtes Orgel=Werck (Königsberg 1721)<br>",
         "marker": {
          "color": "rgb(235,235,235)"
         },
         "type": "bar",
         "x": [
          "Liedzitate je Predigtprozent"
         ],
         "xaxis": "x5",
         "y": [
          100
         ],
         "yaxis": "y5"
        },
        {
         "hovertext": "1 Liedzitate im 75%<br>Ein wolgerührtes Orgel=Werck (Königsberg 1721)<br>",
         "marker": {
          "color": "rgb(235,235,235)"
         },
         "type": "bar",
         "x": [
          "Liedzitate je Predigtprozent"
         ],
         "xaxis": "x5",
         "y": [
          100
         ],
         "yaxis": "y5"
        },
        {
         "hovertext": "1 Liedzitate im 76%<br>Ein wolgerührtes Orgel=Werck (Königsberg 1721)<br>",
         "marker": {
          "color": "rgb(235,235,235)"
         },
         "type": "bar",
         "x": [
          "Liedzitate je Predigtprozent"
         ],
         "xaxis": "x5",
         "y": [
          100
         ],
         "yaxis": "y5"
        },
        {
         "hovertext": "0 Liedzitate im 77%",
         "marker": {
          "color": "rgb(250,250,250)"
         },
         "type": "bar",
         "x": [
          "Liedzitate je Predigtprozent"
         ],
         "xaxis": "x5",
         "y": [
          100
         ],
         "yaxis": "y5"
        },
        {
         "hovertext": "1 Liedzitate im 78%<br>Glaubiger Kinder Gottes Gott=gefällige Music (Augsburg 1721)<br>",
         "marker": {
          "color": "rgb(235,235,235)"
         },
         "type": "bar",
         "x": [
          "Liedzitate je Predigtprozent"
         ],
         "xaxis": "x5",
         "y": [
          100
         ],
         "yaxis": "y5"
        },
        {
         "hovertext": "0 Liedzitate im 79%",
         "marker": {
          "color": "rgb(250,250,250)"
         },
         "type": "bar",
         "x": [
          "Liedzitate je Predigtprozent"
         ],
         "xaxis": "x5",
         "y": [
          100
         ],
         "yaxis": "y5"
        },
        {
         "hovertext": "0 Liedzitate im 80%",
         "marker": {
          "color": "rgb(250,250,250)"
         },
         "type": "bar",
         "x": [
          "Liedzitate je Predigtprozent"
         ],
         "xaxis": "x5",
         "y": [
          100
         ],
         "yaxis": "y5"
        },
        {
         "hovertext": "0 Liedzitate im 81%",
         "marker": {
          "color": "rgb(250,250,250)"
         },
         "type": "bar",
         "x": [
          "Liedzitate je Predigtprozent"
         ],
         "xaxis": "x5",
         "y": [
          100
         ],
         "yaxis": "y5"
        },
        {
         "hovertext": "0 Liedzitate im 82%",
         "marker": {
          "color": "rgb(250,250,250)"
         },
         "type": "bar",
         "x": [
          "Liedzitate je Predigtprozent"
         ],
         "xaxis": "x5",
         "y": [
          100
         ],
         "yaxis": "y5"
        },
        {
         "hovertext": "0 Liedzitate im 83%",
         "marker": {
          "color": "rgb(250,250,250)"
         },
         "type": "bar",
         "x": [
          "Liedzitate je Predigtprozent"
         ],
         "xaxis": "x5",
         "y": [
          100
         ],
         "yaxis": "y5"
        },
        {
         "hovertext": "0 Liedzitate im 84%",
         "marker": {
          "color": "rgb(250,250,250)"
         },
         "type": "bar",
         "x": [
          "Liedzitate je Predigtprozent"
         ],
         "xaxis": "x5",
         "y": [
          100
         ],
         "yaxis": "y5"
        },
        {
         "hovertext": "1 Liedzitate im 85%<br>Das rein-gestimmte Orgel-Werk unsers Herzens (Nürnberg s.a.)<br>",
         "marker": {
          "color": "rgb(235,235,235)"
         },
         "type": "bar",
         "x": [
          "Liedzitate je Predigtprozent"
         ],
         "xaxis": "x5",
         "y": [
          100
         ],
         "yaxis": "y5"
        },
        {
         "hovertext": "0 Liedzitate im 86%",
         "marker": {
          "color": "rgb(250,250,250)"
         },
         "type": "bar",
         "x": [
          "Liedzitate je Predigtprozent"
         ],
         "xaxis": "x5",
         "y": [
          100
         ],
         "yaxis": "y5"
        },
        {
         "hovertext": "0 Liedzitate im 87%",
         "marker": {
          "color": "rgb(250,250,250)"
         },
         "type": "bar",
         "x": [
          "Liedzitate je Predigtprozent"
         ],
         "xaxis": "x5",
         "y": [
          100
         ],
         "yaxis": "y5"
        },
        {
         "hovertext": "0 Liedzitate im 88%",
         "marker": {
          "color": "rgb(250,250,250)"
         },
         "type": "bar",
         "x": [
          "Liedzitate je Predigtprozent"
         ],
         "xaxis": "x5",
         "y": [
          100
         ],
         "yaxis": "y5"
        },
        {
         "hovertext": "1 Liedzitate im 89%<br>Evangelischer Christen Gott-gefällige Kirch-Weyhung (Dresden 1711)<br>",
         "marker": {
          "color": "rgb(235,235,235)"
         },
         "type": "bar",
         "x": [
          "Liedzitate je Predigtprozent"
         ],
         "xaxis": "x5",
         "y": [
          100
         ],
         "yaxis": "y5"
        },
        {
         "hovertext": "1 Liedzitate im 90%<br>Evangelischer Christen Gott-gefällige Kirch-Weyhung (Dresden 1711)<br>",
         "marker": {
          "color": "rgb(235,235,235)"
         },
         "type": "bar",
         "x": [
          "Liedzitate je Predigtprozent"
         ],
         "xaxis": "x5",
         "y": [
          100
         ],
         "yaxis": "y5"
        },
        {
         "hovertext": "1 Liedzitate im 91%<br>Davids Vermahnung (Dresden 1711)<br>",
         "marker": {
          "color": "rgb(235,235,235)"
         },
         "type": "bar",
         "x": [
          "Liedzitate je Predigtprozent"
         ],
         "xaxis": "x5",
         "y": [
          100
         ],
         "yaxis": "y5"
        },
        {
         "hovertext": "1 Liedzitate im 92%<br>Davids Vermahnung (Dresden 1711)<br>",
         "marker": {
          "color": "rgb(235,235,235)"
         },
         "type": "bar",
         "x": [
          "Liedzitate je Predigtprozent"
         ],
         "xaxis": "x5",
         "y": [
          100
         ],
         "yaxis": "y5"
        },
        {
         "hovertext": "0 Liedzitate im 93%",
         "marker": {
          "color": "rgb(250,250,250)"
         },
         "type": "bar",
         "x": [
          "Liedzitate je Predigtprozent"
         ],
         "xaxis": "x5",
         "y": [
          100
         ],
         "yaxis": "y5"
        },
        {
         "hovertext": "1 Liedzitate im 94%<br>Davids Vermahnung (Dresden 1711)<br>",
         "marker": {
          "color": "rgb(235,235,235)"
         },
         "type": "bar",
         "x": [
          "Liedzitate je Predigtprozent"
         ],
         "xaxis": "x5",
         "y": [
          100
         ],
         "yaxis": "y5"
        },
        {
         "hovertext": "1 Liedzitate im 95%<br>Vivum Dei Organum (Schneeberg s.a.)<br>",
         "marker": {
          "color": "rgb(235,235,235)"
         },
         "type": "bar",
         "x": [
          "Liedzitate je Predigtprozent"
         ],
         "xaxis": "x5",
         "y": [
          100
         ],
         "yaxis": "y5"
        },
        {
         "hovertext": "2 Liedzitate im 96%<br>Vivum Dei Organum (Schneeberg s.a.)<br>Das rein-gestimmte Orgel-Werk unsers Herzens (Nürnberg s.a.)<br>",
         "marker": {
          "color": "rgb(220,220,220)"
         },
         "type": "bar",
         "x": [
          "Liedzitate je Predigtprozent"
         ],
         "xaxis": "x5",
         "y": [
          100
         ],
         "yaxis": "y5"
        },
        {
         "hovertext": "1 Liedzitate im 97%<br>Das rein-gestimmte Orgel-Werk unsers Herzens (Nürnberg s.a.)<br>",
         "marker": {
          "color": "rgb(235,235,235)"
         },
         "type": "bar",
         "x": [
          "Liedzitate je Predigtprozent"
         ],
         "xaxis": "x5",
         "y": [
          100
         ],
         "yaxis": "y5"
        },
        {
         "hovertext": "1 Liedzitate im 98%<br>Ein wolgerührtes Orgel=Werck (Königsberg 1721)<br>",
         "marker": {
          "color": "rgb(235,235,235)"
         },
         "type": "bar",
         "x": [
          "Liedzitate je Predigtprozent"
         ],
         "xaxis": "x5",
         "y": [
          100
         ],
         "yaxis": "y5"
        },
        {
         "hovertext": "3 Liedzitate im 99%<br>Ein wolgerührtes Orgel=Werck (Königsberg 1721)<br>Davids Vermahnung (Dresden 1711)<br>Einweihungs-Predigt (Görlitz 1704)<br>",
         "marker": {
          "color": "rgb(205,205,205)"
         },
         "type": "bar",
         "x": [
          "Liedzitate je Predigtprozent"
         ],
         "xaxis": "x5",
         "y": [
          100
         ],
         "yaxis": "y5"
        },
        {
         "hovertext": "4 Liedzitate im 100%<br>Vivum Dei Organum (Schneeberg s.a.)<br>Davids Vermahnung (Dresden 1711)<br>Christliche Orgel-Predigt (Danzig s.a.)<br>Einweihungs-Predigt (Görlitz 1704)<br>",
         "marker": {
          "color": "rgb(190,190,190)"
         },
         "type": "bar",
         "x": [
          "Liedzitate je Predigtprozent"
         ],
         "xaxis": "x5",
         "y": [
          100
         ],
         "yaxis": "y5"
        },
        {
         "hovertext": "2 Liedzitate im 1%<br>Das Neue Lied (Freiberg 1735)<br>Die edle und wohlgeordnete Music der Gläubigen (Halle 1727)<br>",
         "marker": {
          "color": "rgb(220,220,220)"
         },
         "type": "bar",
         "x": [
          "Liedzitate je Predigtprozent"
         ],
         "xaxis": "x6",
         "y": [
          100
         ],
         "yaxis": "y6"
        },
        {
         "hovertext": "1 Liedzitate im 2%<br>Das Neue Lied (Freiberg 1735)<br>",
         "marker": {
          "color": "rgb(235,235,235)"
         },
         "type": "bar",
         "x": [
          "Liedzitate je Predigtprozent"
         ],
         "xaxis": "x6",
         "y": [
          100
         ],
         "yaxis": "y6"
        },
        {
         "hovertext": "4 Liedzitate im 3%<br>Die heilige Sabbaths-Lust an dem Herrn (Danzig 1749)<br>Die Billige Orgel-Freude (Danzig 1739)<br>Das Neue Lied (Freiberg 1735)<br>Die verstimmte Zwölff Grösseste Pfeiffen (Tübingen 1725)<br>",
         "marker": {
          "color": "rgb(190,190,190)"
         },
         "type": "bar",
         "x": [
          "Liedzitate je Predigtprozent"
         ],
         "xaxis": "x6",
         "y": [
          100
         ],
         "yaxis": "y6"
        },
        {
         "hovertext": "1 Liedzitate im 4%<br>Die heilige Sabbaths-Lust an dem Herrn (Danzig 1749)<br>",
         "marker": {
          "color": "rgb(235,235,235)"
         },
         "type": "bar",
         "x": [
          "Liedzitate je Predigtprozent"
         ],
         "xaxis": "x6",
         "y": [
          100
         ],
         "yaxis": "y6"
        },
        {
         "hovertext": "1 Liedzitate im 5%<br>Die Billige Orgel-Freude (Danzig 1739)<br>",
         "marker": {
          "color": "rgb(235,235,235)"
         },
         "type": "bar",
         "x": [
          "Liedzitate je Predigtprozent"
         ],
         "xaxis": "x6",
         "y": [
          100
         ],
         "yaxis": "y6"
        },
        {
         "hovertext": "1 Liedzitate im 6%<br>Stimme des Predigers (1737)<br>",
         "marker": {
          "color": "rgb(235,235,235)"
         },
         "type": "bar",
         "x": [
          "Liedzitate je Predigtprozent"
         ],
         "xaxis": "x6",
         "y": [
          100
         ],
         "yaxis": "y6"
        },
        {
         "hovertext": "4 Liedzitate im 7%<br>Den rechtmäßigen Gebrauch der Music (Königsberg 1747)<br>Die Billige Orgel-Freude (Danzig 1739)<br>Die verstimmte Zwölff Grösseste Pfeiffen (Tübingen 1725)<br>Stimme des Predigers (1737)<br>",
         "marker": {
          "color": "rgb(190,190,190)"
         },
         "type": "bar",
         "x": [
          "Liedzitate je Predigtprozent"
         ],
         "xaxis": "x6",
         "y": [
          100
         ],
         "yaxis": "y6"
        },
        {
         "hovertext": "3 Liedzitate im 8%<br>Den rechtmäßigen Gebrauch der Music (Königsberg 1747)<br>Die Billige Orgel-Freude (Danzig 1739)<br>Die edle und wohlgeordnete Music der Gläubigen (Halle 1727)<br>",
         "marker": {
          "color": "rgb(205,205,205)"
         },
         "type": "bar",
         "x": [
          "Liedzitate je Predigtprozent"
         ],
         "xaxis": "x6",
         "y": [
          100
         ],
         "yaxis": "y6"
        },
        {
         "hovertext": "1 Liedzitate im 9%<br>Die heilige Sabbaths-Lust an dem Herrn (Danzig 1749)<br>",
         "marker": {
          "color": "rgb(235,235,235)"
         },
         "type": "bar",
         "x": [
          "Liedzitate je Predigtprozent"
         ],
         "xaxis": "x6",
         "y": [
          100
         ],
         "yaxis": "y6"
        },
        {
         "hovertext": "1 Liedzitate im 10%<br>Die heilige Sabbaths-Lust an dem Herrn (Danzig 1749)<br>",
         "marker": {
          "color": "rgb(235,235,235)"
         },
         "type": "bar",
         "x": [
          "Liedzitate je Predigtprozent"
         ],
         "xaxis": "x6",
         "y": [
          100
         ],
         "yaxis": "y6"
        },
        {
         "hovertext": "1 Liedzitate im 11%<br>Die heilige Sabbaths-Lust an dem Herrn (Danzig 1749)<br>",
         "marker": {
          "color": "rgb(235,235,235)"
         },
         "type": "bar",
         "x": [
          "Liedzitate je Predigtprozent"
         ],
         "xaxis": "x6",
         "y": [
          100
         ],
         "yaxis": "y6"
        },
        {
         "hovertext": "0 Liedzitate im 12%",
         "marker": {
          "color": "rgb(250,250,250)"
         },
         "type": "bar",
         "x": [
          "Liedzitate je Predigtprozent"
         ],
         "xaxis": "x6",
         "y": [
          100
         ],
         "yaxis": "y6"
        },
        {
         "hovertext": "1 Liedzitate im 13%<br>Die heilige Sabbaths-Lust an dem Herrn (Danzig 1749)<br>",
         "marker": {
          "color": "rgb(235,235,235)"
         },
         "type": "bar",
         "x": [
          "Liedzitate je Predigtprozent"
         ],
         "xaxis": "x6",
         "y": [
          100
         ],
         "yaxis": "y6"
        },
        {
         "hovertext": "2 Liedzitate im 14%<br>Die heilige Sabbaths-Lust an dem Herrn (Danzig 1749)<br>Einweihungs-Predigt (Berlin 1730)<br>",
         "marker": {
          "color": "rgb(220,220,220)"
         },
         "type": "bar",
         "x": [
          "Liedzitate je Predigtprozent"
         ],
         "xaxis": "x6",
         "y": [
          100
         ],
         "yaxis": "y6"
        },
        {
         "hovertext": "2 Liedzitate im 15%<br>Die heilige Sabbaths-Lust an dem Herrn (Danzig 1749)<br>Einweihungs-Predigt (Berlin 1730)<br>",
         "marker": {
          "color": "rgb(220,220,220)"
         },
         "type": "bar",
         "x": [
          "Liedzitate je Predigtprozent"
         ],
         "xaxis": "x6",
         "y": [
          100
         ],
         "yaxis": "y6"
        },
        {
         "hovertext": "1 Liedzitate im 16%<br>Die Billige Orgel-Freude (Danzig 1739)<br>",
         "marker": {
          "color": "rgb(235,235,235)"
         },
         "type": "bar",
         "x": [
          "Liedzitate je Predigtprozent"
         ],
         "xaxis": "x6",
         "y": [
          100
         ],
         "yaxis": "y6"
        },
        {
         "hovertext": "5 Liedzitate im 17%<br>Die heilige Sabbaths-Lust an dem Herrn (Danzig 1749)<br>Den rechtmäßigen Gebrauch der Music (Königsberg 1747)<br>Das Neue Lied (Freiberg 1735)<br>Hymnosophia sacra (Billwerder 1728)<br>Die verstimmte Zwölff Grösseste Pfeiffen (Tübingen 1725)<br>",
         "marker": {
          "color": "rgb(175,175,175)"
         },
         "type": "bar",
         "x": [
          "Liedzitate je Predigtprozent"
         ],
         "xaxis": "x6",
         "y": [
          100
         ],
         "yaxis": "y6"
        },
        {
         "hovertext": "1 Liedzitate im 18%<br>Den rechtmäßigen Gebrauch der Music (Königsberg 1747)<br>",
         "marker": {
          "color": "rgb(235,235,235)"
         },
         "type": "bar",
         "x": [
          "Liedzitate je Predigtprozent"
         ],
         "xaxis": "x6",
         "y": [
          100
         ],
         "yaxis": "y6"
        },
        {
         "hovertext": "1 Liedzitate im 19%<br>Den rechtmäßigen Gebrauch der Music (Königsberg 1747)<br>",
         "marker": {
          "color": "rgb(235,235,235)"
         },
         "type": "bar",
         "x": [
          "Liedzitate je Predigtprozent"
         ],
         "xaxis": "x6",
         "y": [
          100
         ],
         "yaxis": "y6"
        },
        {
         "hovertext": "0 Liedzitate im 20%",
         "marker": {
          "color": "rgb(250,250,250)"
         },
         "type": "bar",
         "x": [
          "Liedzitate je Predigtprozent"
         ],
         "xaxis": "x6",
         "y": [
          100
         ],
         "yaxis": "y6"
        },
        {
         "hovertext": "0 Liedzitate im 21%",
         "marker": {
          "color": "rgb(250,250,250)"
         },
         "type": "bar",
         "x": [
          "Liedzitate je Predigtprozent"
         ],
         "xaxis": "x6",
         "y": [
          100
         ],
         "yaxis": "y6"
        },
        {
         "hovertext": "1 Liedzitate im 22%<br>Das Neue Lied (Freiberg 1735)<br>",
         "marker": {
          "color": "rgb(235,235,235)"
         },
         "type": "bar",
         "x": [
          "Liedzitate je Predigtprozent"
         ],
         "xaxis": "x6",
         "y": [
          100
         ],
         "yaxis": "y6"
        },
        {
         "hovertext": "1 Liedzitate im 23%<br>Das Neue Lied (Freiberg 1735)<br>",
         "marker": {
          "color": "rgb(235,235,235)"
         },
         "type": "bar",
         "x": [
          "Liedzitate je Predigtprozent"
         ],
         "xaxis": "x6",
         "y": [
          100
         ],
         "yaxis": "y6"
        },
        {
         "hovertext": "0 Liedzitate im 24%",
         "marker": {
          "color": "rgb(250,250,250)"
         },
         "type": "bar",
         "x": [
          "Liedzitate je Predigtprozent"
         ],
         "xaxis": "x6",
         "y": [
          100
         ],
         "yaxis": "y6"
        },
        {
         "hovertext": "1 Liedzitate im 25%<br>Winnedisches Reminiscere (Stuttgart 1740)<br>",
         "marker": {
          "color": "rgb(235,235,235)"
         },
         "type": "bar",
         "x": [
          "Liedzitate je Predigtprozent"
         ],
         "xaxis": "x6",
         "y": [
          100
         ],
         "yaxis": "y6"
        },
        {
         "hovertext": "1 Liedzitate im 26%<br>Winnedisches Reminiscere (Stuttgart 1740)<br>",
         "marker": {
          "color": "rgb(235,235,235)"
         },
         "type": "bar",
         "x": [
          "Liedzitate je Predigtprozent"
         ],
         "xaxis": "x6",
         "y": [
          100
         ],
         "yaxis": "y6"
        },
        {
         "hovertext": "1 Liedzitate im 27%<br>Hymnosophia sacra (Billwerder 1728)<br>",
         "marker": {
          "color": "rgb(235,235,235)"
         },
         "type": "bar",
         "x": [
          "Liedzitate je Predigtprozent"
         ],
         "xaxis": "x6",
         "y": [
          100
         ],
         "yaxis": "y6"
        },
        {
         "hovertext": "0 Liedzitate im 28%",
         "marker": {
          "color": "rgb(250,250,250)"
         },
         "type": "bar",
         "x": [
          "Liedzitate je Predigtprozent"
         ],
         "xaxis": "x6",
         "y": [
          100
         ],
         "yaxis": "y6"
        },
        {
         "hovertext": "0 Liedzitate im 29%",
         "marker": {
          "color": "rgb(250,250,250)"
         },
         "type": "bar",
         "x": [
          "Liedzitate je Predigtprozent"
         ],
         "xaxis": "x6",
         "y": [
          100
         ],
         "yaxis": "y6"
        },
        {
         "hovertext": "0 Liedzitate im 30%",
         "marker": {
          "color": "rgb(250,250,250)"
         },
         "type": "bar",
         "x": [
          "Liedzitate je Predigtprozent"
         ],
         "xaxis": "x6",
         "y": [
          100
         ],
         "yaxis": "y6"
        },
        {
         "hovertext": "0 Liedzitate im 31%",
         "marker": {
          "color": "rgb(250,250,250)"
         },
         "type": "bar",
         "x": [
          "Liedzitate je Predigtprozent"
         ],
         "xaxis": "x6",
         "y": [
          100
         ],
         "yaxis": "y6"
        },
        {
         "hovertext": "0 Liedzitate im 32%",
         "marker": {
          "color": "rgb(250,250,250)"
         },
         "type": "bar",
         "x": [
          "Liedzitate je Predigtprozent"
         ],
         "xaxis": "x6",
         "y": [
          100
         ],
         "yaxis": "y6"
        },
        {
         "hovertext": "1 Liedzitate im 33%<br>Die verstimmte Zwölff Grösseste Pfeiffen (Tübingen 1725)<br>",
         "marker": {
          "color": "rgb(235,235,235)"
         },
         "type": "bar",
         "x": [
          "Liedzitate je Predigtprozent"
         ],
         "xaxis": "x6",
         "y": [
          100
         ],
         "yaxis": "y6"
        },
        {
         "hovertext": "0 Liedzitate im 34%",
         "marker": {
          "color": "rgb(250,250,250)"
         },
         "type": "bar",
         "x": [
          "Liedzitate je Predigtprozent"
         ],
         "xaxis": "x6",
         "y": [
          100
         ],
         "yaxis": "y6"
        },
        {
         "hovertext": "0 Liedzitate im 35%",
         "marker": {
          "color": "rgb(250,250,250)"
         },
         "type": "bar",
         "x": [
          "Liedzitate je Predigtprozent"
         ],
         "xaxis": "x6",
         "y": [
          100
         ],
         "yaxis": "y6"
        },
        {
         "hovertext": "0 Liedzitate im 36%",
         "marker": {
          "color": "rgb(250,250,250)"
         },
         "type": "bar",
         "x": [
          "Liedzitate je Predigtprozent"
         ],
         "xaxis": "x6",
         "y": [
          100
         ],
         "yaxis": "y6"
        },
        {
         "hovertext": "1 Liedzitate im 37%<br>Die Billige Orgel-Freude (Danzig 1739)<br>",
         "marker": {
          "color": "rgb(235,235,235)"
         },
         "type": "bar",
         "x": [
          "Liedzitate je Predigtprozent"
         ],
         "xaxis": "x6",
         "y": [
          100
         ],
         "yaxis": "y6"
        },
        {
         "hovertext": "0 Liedzitate im 38%",
         "marker": {
          "color": "rgb(250,250,250)"
         },
         "type": "bar",
         "x": [
          "Liedzitate je Predigtprozent"
         ],
         "xaxis": "x6",
         "y": [
          100
         ],
         "yaxis": "y6"
        },
        {
         "hovertext": "1 Liedzitate im 39%<br>Das Neue Lied (Freiberg 1735)<br>",
         "marker": {
          "color": "rgb(235,235,235)"
         },
         "type": "bar",
         "x": [
          "Liedzitate je Predigtprozent"
         ],
         "xaxis": "x6",
         "y": [
          100
         ],
         "yaxis": "y6"
        },
        {
         "hovertext": "0 Liedzitate im 40%",
         "marker": {
          "color": "rgb(250,250,250)"
         },
         "type": "bar",
         "x": [
          "Liedzitate je Predigtprozent"
         ],
         "xaxis": "x6",
         "y": [
          100
         ],
         "yaxis": "y6"
        },
        {
         "hovertext": "0 Liedzitate im 41%",
         "marker": {
          "color": "rgb(250,250,250)"
         },
         "type": "bar",
         "x": [
          "Liedzitate je Predigtprozent"
         ],
         "xaxis": "x6",
         "y": [
          100
         ],
         "yaxis": "y6"
        },
        {
         "hovertext": "1 Liedzitate im 42%<br>Die heilige Sabbaths-Lust an dem Herrn (Danzig 1749)<br>",
         "marker": {
          "color": "rgb(235,235,235)"
         },
         "type": "bar",
         "x": [
          "Liedzitate je Predigtprozent"
         ],
         "xaxis": "x6",
         "y": [
          100
         ],
         "yaxis": "y6"
        },
        {
         "hovertext": "1 Liedzitate im 43%<br>Die heilige Sabbaths-Lust an dem Herrn (Danzig 1749)<br>",
         "marker": {
          "color": "rgb(235,235,235)"
         },
         "type": "bar",
         "x": [
          "Liedzitate je Predigtprozent"
         ],
         "xaxis": "x6",
         "y": [
          100
         ],
         "yaxis": "y6"
        },
        {
         "hovertext": "0 Liedzitate im 44%",
         "marker": {
          "color": "rgb(250,250,250)"
         },
         "type": "bar",
         "x": [
          "Liedzitate je Predigtprozent"
         ],
         "xaxis": "x6",
         "y": [
          100
         ],
         "yaxis": "y6"
        },
        {
         "hovertext": "0 Liedzitate im 45%",
         "marker": {
          "color": "rgb(250,250,250)"
         },
         "type": "bar",
         "x": [
          "Liedzitate je Predigtprozent"
         ],
         "xaxis": "x6",
         "y": [
          100
         ],
         "yaxis": "y6"
        },
        {
         "hovertext": "1 Liedzitate im 46%<br>Stimme des Predigers (1737)<br>",
         "marker": {
          "color": "rgb(235,235,235)"
         },
         "type": "bar",
         "x": [
          "Liedzitate je Predigtprozent"
         ],
         "xaxis": "x6",
         "y": [
          100
         ],
         "yaxis": "y6"
        },
        {
         "hovertext": "0 Liedzitate im 47%",
         "marker": {
          "color": "rgb(250,250,250)"
         },
         "type": "bar",
         "x": [
          "Liedzitate je Predigtprozent"
         ],
         "xaxis": "x6",
         "y": [
          100
         ],
         "yaxis": "y6"
        },
        {
         "hovertext": "1 Liedzitate im 48%<br>Winnedisches Reminiscere (Stuttgart 1740)<br>",
         "marker": {
          "color": "rgb(235,235,235)"
         },
         "type": "bar",
         "x": [
          "Liedzitate je Predigtprozent"
         ],
         "xaxis": "x6",
         "y": [
          100
         ],
         "yaxis": "y6"
        },
        {
         "hovertext": "1 Liedzitate im 49%<br>Winnedisches Reminiscere (Stuttgart 1740)<br>",
         "marker": {
          "color": "rgb(235,235,235)"
         },
         "type": "bar",
         "x": [
          "Liedzitate je Predigtprozent"
         ],
         "xaxis": "x6",
         "y": [
          100
         ],
         "yaxis": "y6"
        },
        {
         "hovertext": "0 Liedzitate im 50%",
         "marker": {
          "color": "rgb(250,250,250)"
         },
         "type": "bar",
         "x": [
          "Liedzitate je Predigtprozent"
         ],
         "xaxis": "x6",
         "y": [
          100
         ],
         "yaxis": "y6"
        },
        {
         "hovertext": "2 Liedzitate im 51%<br>Den rechtmäßigen Gebrauch der Music (Königsberg 1747)<br>Hymnosophia sacra (Billwerder 1728)<br>",
         "marker": {
          "color": "rgb(220,220,220)"
         },
         "type": "bar",
         "x": [
          "Liedzitate je Predigtprozent"
         ],
         "xaxis": "x6",
         "y": [
          100
         ],
         "yaxis": "y6"
        },
        {
         "hovertext": "1 Liedzitate im 52%<br>Den rechtmäßigen Gebrauch der Music (Königsberg 1747)<br>",
         "marker": {
          "color": "rgb(235,235,235)"
         },
         "type": "bar",
         "x": [
          "Liedzitate je Predigtprozent"
         ],
         "xaxis": "x6",
         "y": [
          100
         ],
         "yaxis": "y6"
        },
        {
         "hovertext": "2 Liedzitate im 53%<br>Den rechtmäßigen Gebrauch der Music (Königsberg 1747)<br>Einweihungs-Predigt (Berlin 1730)<br>",
         "marker": {
          "color": "rgb(220,220,220)"
         },
         "type": "bar",
         "x": [
          "Liedzitate je Predigtprozent"
         ],
         "xaxis": "x6",
         "y": [
          100
         ],
         "yaxis": "y6"
        },
        {
         "hovertext": "2 Liedzitate im 54%<br>Winnedisches Reminiscere (Stuttgart 1740)<br>Einweihungs-Predigt (Berlin 1730)<br>",
         "marker": {
          "color": "rgb(220,220,220)"
         },
         "type": "bar",
         "x": [
          "Liedzitate je Predigtprozent"
         ],
         "xaxis": "x6",
         "y": [
          100
         ],
         "yaxis": "y6"
        },
        {
         "hovertext": "0 Liedzitate im 55%",
         "marker": {
          "color": "rgb(250,250,250)"
         },
         "type": "bar",
         "x": [
          "Liedzitate je Predigtprozent"
         ],
         "xaxis": "x6",
         "y": [
          100
         ],
         "yaxis": "y6"
        },
        {
         "hovertext": "0 Liedzitate im 56%",
         "marker": {
          "color": "rgb(250,250,250)"
         },
         "type": "bar",
         "x": [
          "Liedzitate je Predigtprozent"
         ],
         "xaxis": "x6",
         "y": [
          100
         ],
         "yaxis": "y6"
        },
        {
         "hovertext": "0 Liedzitate im 57%",
         "marker": {
          "color": "rgb(250,250,250)"
         },
         "type": "bar",
         "x": [
          "Liedzitate je Predigtprozent"
         ],
         "xaxis": "x6",
         "y": [
          100
         ],
         "yaxis": "y6"
        },
        {
         "hovertext": "1 Liedzitate im 58%<br>Winnedisches Reminiscere (Stuttgart 1740)<br>",
         "marker": {
          "color": "rgb(235,235,235)"
         },
         "type": "bar",
         "x": [
          "Liedzitate je Predigtprozent"
         ],
         "xaxis": "x6",
         "y": [
          100
         ],
         "yaxis": "y6"
        },
        {
         "hovertext": "1 Liedzitate im 59%<br>Die Billige Orgel-Freude (Danzig 1739)<br>",
         "marker": {
          "color": "rgb(235,235,235)"
         },
         "type": "bar",
         "x": [
          "Liedzitate je Predigtprozent"
         ],
         "xaxis": "x6",
         "y": [
          100
         ],
         "yaxis": "y6"
        },
        {
         "hovertext": "0 Liedzitate im 60%",
         "marker": {
          "color": "rgb(250,250,250)"
         },
         "type": "bar",
         "x": [
          "Liedzitate je Predigtprozent"
         ],
         "xaxis": "x6",
         "y": [
          100
         ],
         "yaxis": "y6"
        },
        {
         "hovertext": "0 Liedzitate im 61%",
         "marker": {
          "color": "rgb(250,250,250)"
         },
         "type": "bar",
         "x": [
          "Liedzitate je Predigtprozent"
         ],
         "xaxis": "x6",
         "y": [
          100
         ],
         "yaxis": "y6"
        },
        {
         "hovertext": "0 Liedzitate im 62%",
         "marker": {
          "color": "rgb(250,250,250)"
         },
         "type": "bar",
         "x": [
          "Liedzitate je Predigtprozent"
         ],
         "xaxis": "x6",
         "y": [
          100
         ],
         "yaxis": "y6"
        },
        {
         "hovertext": "0 Liedzitate im 63%",
         "marker": {
          "color": "rgb(250,250,250)"
         },
         "type": "bar",
         "x": [
          "Liedzitate je Predigtprozent"
         ],
         "xaxis": "x6",
         "y": [
          100
         ],
         "yaxis": "y6"
        },
        {
         "hovertext": "0 Liedzitate im 64%",
         "marker": {
          "color": "rgb(250,250,250)"
         },
         "type": "bar",
         "x": [
          "Liedzitate je Predigtprozent"
         ],
         "xaxis": "x6",
         "y": [
          100
         ],
         "yaxis": "y6"
        },
        {
         "hovertext": "0 Liedzitate im 65%",
         "marker": {
          "color": "rgb(250,250,250)"
         },
         "type": "bar",
         "x": [
          "Liedzitate je Predigtprozent"
         ],
         "xaxis": "x6",
         "y": [
          100
         ],
         "yaxis": "y6"
        },
        {
         "hovertext": "0 Liedzitate im 66%",
         "marker": {
          "color": "rgb(250,250,250)"
         },
         "type": "bar",
         "x": [
          "Liedzitate je Predigtprozent"
         ],
         "xaxis": "x6",
         "y": [
          100
         ],
         "yaxis": "y6"
        },
        {
         "hovertext": "0 Liedzitate im 67%",
         "marker": {
          "color": "rgb(250,250,250)"
         },
         "type": "bar",
         "x": [
          "Liedzitate je Predigtprozent"
         ],
         "xaxis": "x6",
         "y": [
          100
         ],
         "yaxis": "y6"
        },
        {
         "hovertext": "1 Liedzitate im 68%<br>Die edle und wohlgeordnete Music der Gläubigen (Halle 1727)<br>",
         "marker": {
          "color": "rgb(235,235,235)"
         },
         "type": "bar",
         "x": [
          "Liedzitate je Predigtprozent"
         ],
         "xaxis": "x6",
         "y": [
          100
         ],
         "yaxis": "y6"
        },
        {
         "hovertext": "2 Liedzitate im 69%<br>Die heilige Sabbaths-Lust an dem Herrn (Danzig 1749)<br>Einweihungs-Predigt (Berlin 1730)<br>",
         "marker": {
          "color": "rgb(220,220,220)"
         },
         "type": "bar",
         "x": [
          "Liedzitate je Predigtprozent"
         ],
         "xaxis": "x6",
         "y": [
          100
         ],
         "yaxis": "y6"
        },
        {
         "hovertext": "1 Liedzitate im 70%<br>Die heilige Sabbaths-Lust an dem Herrn (Danzig 1749)<br>",
         "marker": {
          "color": "rgb(235,235,235)"
         },
         "type": "bar",
         "x": [
          "Liedzitate je Predigtprozent"
         ],
         "xaxis": "x6",
         "y": [
          100
         ],
         "yaxis": "y6"
        },
        {
         "hovertext": "1 Liedzitate im 71%<br>Die heilige Sabbaths-Lust an dem Herrn (Danzig 1749)<br>",
         "marker": {
          "color": "rgb(235,235,235)"
         },
         "type": "bar",
         "x": [
          "Liedzitate je Predigtprozent"
         ],
         "xaxis": "x6",
         "y": [
          100
         ],
         "yaxis": "y6"
        },
        {
         "hovertext": "1 Liedzitate im 72%<br>Die heilige Sabbaths-Lust an dem Herrn (Danzig 1749)<br>",
         "marker": {
          "color": "rgb(235,235,235)"
         },
         "type": "bar",
         "x": [
          "Liedzitate je Predigtprozent"
         ],
         "xaxis": "x6",
         "y": [
          100
         ],
         "yaxis": "y6"
        },
        {
         "hovertext": "0 Liedzitate im 73%",
         "marker": {
          "color": "rgb(250,250,250)"
         },
         "type": "bar",
         "x": [
          "Liedzitate je Predigtprozent"
         ],
         "xaxis": "x6",
         "y": [
          100
         ],
         "yaxis": "y6"
        },
        {
         "hovertext": "1 Liedzitate im 74%<br>Die heilige Sabbaths-Lust an dem Herrn (Danzig 1749)<br>",
         "marker": {
          "color": "rgb(235,235,235)"
         },
         "type": "bar",
         "x": [
          "Liedzitate je Predigtprozent"
         ],
         "xaxis": "x6",
         "y": [
          100
         ],
         "yaxis": "y6"
        },
        {
         "hovertext": "1 Liedzitate im 75%<br>Die heilige Sabbaths-Lust an dem Herrn (Danzig 1749)<br>",
         "marker": {
          "color": "rgb(235,235,235)"
         },
         "type": "bar",
         "x": [
          "Liedzitate je Predigtprozent"
         ],
         "xaxis": "x6",
         "y": [
          100
         ],
         "yaxis": "y6"
        },
        {
         "hovertext": "2 Liedzitate im 76%<br>Die heilige Sabbaths-Lust an dem Herrn (Danzig 1749)<br>Stimme des Predigers (1737)<br>",
         "marker": {
          "color": "rgb(220,220,220)"
         },
         "type": "bar",
         "x": [
          "Liedzitate je Predigtprozent"
         ],
         "xaxis": "x6",
         "y": [
          100
         ],
         "yaxis": "y6"
        },
        {
         "hovertext": "1 Liedzitate im 77%<br>Die heilige Sabbaths-Lust an dem Herrn (Danzig 1749)<br>",
         "marker": {
          "color": "rgb(235,235,235)"
         },
         "type": "bar",
         "x": [
          "Liedzitate je Predigtprozent"
         ],
         "xaxis": "x6",
         "y": [
          100
         ],
         "yaxis": "y6"
        },
        {
         "hovertext": "0 Liedzitate im 78%",
         "marker": {
          "color": "rgb(250,250,250)"
         },
         "type": "bar",
         "x": [
          "Liedzitate je Predigtprozent"
         ],
         "xaxis": "x6",
         "y": [
          100
         ],
         "yaxis": "y6"
        },
        {
         "hovertext": "1 Liedzitate im 79%<br>Einweihungs-Predigt (Berlin 1730)<br>",
         "marker": {
          "color": "rgb(235,235,235)"
         },
         "type": "bar",
         "x": [
          "Liedzitate je Predigtprozent"
         ],
         "xaxis": "x6",
         "y": [
          100
         ],
         "yaxis": "y6"
        },
        {
         "hovertext": "2 Liedzitate im 80%<br>Die heilige Sabbaths-Lust an dem Herrn (Danzig 1749)<br>Christliche Predigt (Straßburg 1749)<br>",
         "marker": {
          "color": "rgb(220,220,220)"
         },
         "type": "bar",
         "x": [
          "Liedzitate je Predigtprozent"
         ],
         "xaxis": "x6",
         "y": [
          100
         ],
         "yaxis": "y6"
        },
        {
         "hovertext": "1 Liedzitate im 81%<br>Die heilige Sabbaths-Lust an dem Herrn (Danzig 1749)<br>",
         "marker": {
          "color": "rgb(235,235,235)"
         },
         "type": "bar",
         "x": [
          "Liedzitate je Predigtprozent"
         ],
         "xaxis": "x6",
         "y": [
          100
         ],
         "yaxis": "y6"
        },
        {
         "hovertext": "2 Liedzitate im 82%<br>Die heilige Sabbaths-Lust an dem Herrn (Danzig 1749)<br>Die Billige Orgel-Freude (Danzig 1739)<br>",
         "marker": {
          "color": "rgb(220,220,220)"
         },
         "type": "bar",
         "x": [
          "Liedzitate je Predigtprozent"
         ],
         "xaxis": "x6",
         "y": [
          100
         ],
         "yaxis": "y6"
        },
        {
         "hovertext": "1 Liedzitate im 83%<br>Die heilige Sabbaths-Lust an dem Herrn (Danzig 1749)<br>",
         "marker": {
          "color": "rgb(235,235,235)"
         },
         "type": "bar",
         "x": [
          "Liedzitate je Predigtprozent"
         ],
         "xaxis": "x6",
         "y": [
          100
         ],
         "yaxis": "y6"
        },
        {
         "hovertext": "2 Liedzitate im 84%<br>Die heilige Sabbaths-Lust an dem Herrn (Danzig 1749)<br>Den rechtmäßigen Gebrauch der Music (Königsberg 1747)<br>",
         "marker": {
          "color": "rgb(220,220,220)"
         },
         "type": "bar",
         "x": [
          "Liedzitate je Predigtprozent"
         ],
         "xaxis": "x6",
         "y": [
          100
         ],
         "yaxis": "y6"
        },
        {
         "hovertext": "1 Liedzitate im 85%<br>Die heilige Sabbaths-Lust an dem Herrn (Danzig 1749)<br>",
         "marker": {
          "color": "rgb(235,235,235)"
         },
         "type": "bar",
         "x": [
          "Liedzitate je Predigtprozent"
         ],
         "xaxis": "x6",
         "y": [
          100
         ],
         "yaxis": "y6"
        },
        {
         "hovertext": "2 Liedzitate im 86%<br>Die heilige Sabbaths-Lust an dem Herrn (Danzig 1749)<br>Die edle und wohlgeordnete Music der Gläubigen (Halle 1727)<br>",
         "marker": {
          "color": "rgb(220,220,220)"
         },
         "type": "bar",
         "x": [
          "Liedzitate je Predigtprozent"
         ],
         "xaxis": "x6",
         "y": [
          100
         ],
         "yaxis": "y6"
        },
        {
         "hovertext": "1 Liedzitate im 87%<br>Die heilige Sabbaths-Lust an dem Herrn (Danzig 1749)<br>",
         "marker": {
          "color": "rgb(235,235,235)"
         },
         "type": "bar",
         "x": [
          "Liedzitate je Predigtprozent"
         ],
         "xaxis": "x6",
         "y": [
          100
         ],
         "yaxis": "y6"
        },
        {
         "hovertext": "4 Liedzitate im 88%<br>Die heilige Sabbaths-Lust an dem Herrn (Danzig 1749)<br>Den rechtmäßigen Gebrauch der Music (Königsberg 1747)<br>Winnedisches Reminiscere (Stuttgart 1740)<br>Die verstimmte Zwölff Grösseste Pfeiffen (Tübingen 1725)<br>",
         "marker": {
          "color": "rgb(190,190,190)"
         },
         "type": "bar",
         "x": [
          "Liedzitate je Predigtprozent"
         ],
         "xaxis": "x6",
         "y": [
          100
         ],
         "yaxis": "y6"
        },
        {
         "hovertext": "2 Liedzitate im 89%<br>Winnedisches Reminiscere (Stuttgart 1740)<br>Die verstimmte Zwölff Grösseste Pfeiffen (Tübingen 1725)<br>",
         "marker": {
          "color": "rgb(220,220,220)"
         },
         "type": "bar",
         "x": [
          "Liedzitate je Predigtprozent"
         ],
         "xaxis": "x6",
         "y": [
          100
         ],
         "yaxis": "y6"
        },
        {
         "hovertext": "0 Liedzitate im 90%",
         "marker": {
          "color": "rgb(250,250,250)"
         },
         "type": "bar",
         "x": [
          "Liedzitate je Predigtprozent"
         ],
         "xaxis": "x6",
         "y": [
          100
         ],
         "yaxis": "y6"
        },
        {
         "hovertext": "0 Liedzitate im 91%",
         "marker": {
          "color": "rgb(250,250,250)"
         },
         "type": "bar",
         "x": [
          "Liedzitate je Predigtprozent"
         ],
         "xaxis": "x6",
         "y": [
          100
         ],
         "yaxis": "y6"
        },
        {
         "hovertext": "4 Liedzitate im 92%<br>Die heilige Sabbaths-Lust an dem Herrn (Danzig 1749)<br>Den rechtmäßigen Gebrauch der Music (Königsberg 1747)<br>Einweihungs-Predigt (Berlin 1730)<br>Stimme des Predigers (1737)<br>",
         "marker": {
          "color": "rgb(190,190,190)"
         },
         "type": "bar",
         "x": [
          "Liedzitate je Predigtprozent"
         ],
         "xaxis": "x6",
         "y": [
          100
         ],
         "yaxis": "y6"
        },
        {
         "hovertext": "3 Liedzitate im 93%<br>Das Neue Lied (Freiberg 1735)<br>Die edle und wohlgeordnete Music der Gläubigen (Halle 1727)<br>Stimme des Predigers (1737)<br>",
         "marker": {
          "color": "rgb(205,205,205)"
         },
         "type": "bar",
         "x": [
          "Liedzitate je Predigtprozent"
         ],
         "xaxis": "x6",
         "y": [
          100
         ],
         "yaxis": "y6"
        },
        {
         "hovertext": "3 Liedzitate im 94%<br>Den rechtmäßigen Gebrauch der Music (Königsberg 1747)<br>Winnedisches Reminiscere (Stuttgart 1740)<br>Das Neue Lied (Freiberg 1735)<br>",
         "marker": {
          "color": "rgb(205,205,205)"
         },
         "type": "bar",
         "x": [
          "Liedzitate je Predigtprozent"
         ],
         "xaxis": "x6",
         "y": [
          100
         ],
         "yaxis": "y6"
        },
        {
         "hovertext": "1 Liedzitate im 95%<br>Den rechtmäßigen Gebrauch der Music (Königsberg 1747)<br>",
         "marker": {
          "color": "rgb(235,235,235)"
         },
         "type": "bar",
         "x": [
          "Liedzitate je Predigtprozent"
         ],
         "xaxis": "x6",
         "y": [
          100
         ],
         "yaxis": "y6"
        },
        {
         "hovertext": "1 Liedzitate im 96%<br>Einweihungs-Predigt (Berlin 1730)<br>",
         "marker": {
          "color": "rgb(235,235,235)"
         },
         "type": "bar",
         "x": [
          "Liedzitate je Predigtprozent"
         ],
         "xaxis": "x6",
         "y": [
          100
         ],
         "yaxis": "y6"
        },
        {
         "hovertext": "2 Liedzitate im 97%<br>Hymnosophia sacra (Billwerder 1728)<br>Einweihungs-Predigt (Berlin 1730)<br>",
         "marker": {
          "color": "rgb(220,220,220)"
         },
         "type": "bar",
         "x": [
          "Liedzitate je Predigtprozent"
         ],
         "xaxis": "x6",
         "y": [
          100
         ],
         "yaxis": "y6"
        },
        {
         "hovertext": "2 Liedzitate im 98%<br>Die heilige Sabbaths-Lust an dem Herrn (Danzig 1749)<br>Einweihungs-Predigt (Berlin 1730)<br>",
         "marker": {
          "color": "rgb(220,220,220)"
         },
         "type": "bar",
         "x": [
          "Liedzitate je Predigtprozent"
         ],
         "xaxis": "x6",
         "y": [
          100
         ],
         "yaxis": "y6"
        },
        {
         "hovertext": "2 Liedzitate im 99%<br>Die Billige Orgel-Freude (Danzig 1739)<br>Einweihungs-Predigt (Berlin 1730)<br>",
         "marker": {
          "color": "rgb(220,220,220)"
         },
         "type": "bar",
         "x": [
          "Liedzitate je Predigtprozent"
         ],
         "xaxis": "x6",
         "y": [
          100
         ],
         "yaxis": "y6"
        },
        {
         "hovertext": "5 Liedzitate im 100%<br>Christliche Predigt (Straßburg 1749)<br>Den rechtmäßigen Gebrauch der Music (Königsberg 1747)<br>Die Billige Orgel-Freude (Danzig 1739)<br>Hymnosophia sacra (Billwerder 1728)<br>Einweihungs-Predigt (Berlin 1730)<br>",
         "marker": {
          "color": "rgb(175,175,175)"
         },
         "type": "bar",
         "x": [
          "Liedzitate je Predigtprozent"
         ],
         "xaxis": "x6",
         "y": [
          100
         ],
         "yaxis": "y6"
        },
        {
         "hovertext": "0 Liedzitate im 1%",
         "marker": {
          "color": "rgb(250,250,250)"
         },
         "type": "bar",
         "x": [
          "Liedzitate je Predigtprozent"
         ],
         "xaxis": "x7",
         "y": [
          100
         ],
         "yaxis": "y7"
        },
        {
         "hovertext": "0 Liedzitate im 2%",
         "marker": {
          "color": "rgb(250,250,250)"
         },
         "type": "bar",
         "x": [
          "Liedzitate je Predigtprozent"
         ],
         "xaxis": "x7",
         "y": [
          100
         ],
         "yaxis": "y7"
        },
        {
         "hovertext": "0 Liedzitate im 3%",
         "marker": {
          "color": "rgb(250,250,250)"
         },
         "type": "bar",
         "x": [
          "Liedzitate je Predigtprozent"
         ],
         "xaxis": "x7",
         "y": [
          100
         ],
         "yaxis": "y7"
        },
        {
         "hovertext": "1 Liedzitate im 4%<br>Die heiligen Verrichtungen in dem Hause des Herrn (Eisenach 1765)<br>",
         "marker": {
          "color": "rgb(235,235,235)"
         },
         "type": "bar",
         "x": [
          "Liedzitate je Predigtprozent"
         ],
         "xaxis": "x7",
         "y": [
          100
         ],
         "yaxis": "y7"
        },
        {
         "hovertext": "1 Liedzitate im 5%<br>Die heiligen Verrichtungen in dem Hause des Herrn (Eisenach 1765)<br>",
         "marker": {
          "color": "rgb(235,235,235)"
         },
         "type": "bar",
         "x": [
          "Liedzitate je Predigtprozent"
         ],
         "xaxis": "x7",
         "y": [
          100
         ],
         "yaxis": "y7"
        },
        {
         "hovertext": "1 Liedzitate im 6%<br>Die heiligen Verrichtungen in dem Hause des Herrn (Eisenach 1765)<br>",
         "marker": {
          "color": "rgb(235,235,235)"
         },
         "type": "bar",
         "x": [
          "Liedzitate je Predigtprozent"
         ],
         "xaxis": "x7",
         "y": [
          100
         ],
         "yaxis": "y7"
        },
        {
         "hovertext": "0 Liedzitate im 7%",
         "marker": {
          "color": "rgb(250,250,250)"
         },
         "type": "bar",
         "x": [
          "Liedzitate je Predigtprozent"
         ],
         "xaxis": "x7",
         "y": [
          100
         ],
         "yaxis": "y7"
        },
        {
         "hovertext": "2 Liedzitate im 8%<br>Predigt am Feste der Heimsuchung Mariae (Rostock 1770)<br>Der Christen gerechte Freude (Breslau 1761)<br>",
         "marker": {
          "color": "rgb(220,220,220)"
         },
         "type": "bar",
         "x": [
          "Liedzitate je Predigtprozent"
         ],
         "xaxis": "x7",
         "y": [
          100
         ],
         "yaxis": "y7"
        },
        {
         "hovertext": "0 Liedzitate im 9%",
         "marker": {
          "color": "rgb(250,250,250)"
         },
         "type": "bar",
         "x": [
          "Liedzitate je Predigtprozent"
         ],
         "xaxis": "x7",
         "y": [
          100
         ],
         "yaxis": "y7"
        },
        {
         "hovertext": "0 Liedzitate im 10%",
         "marker": {
          "color": "rgb(250,250,250)"
         },
         "type": "bar",
         "x": [
          "Liedzitate je Predigtprozent"
         ],
         "xaxis": "x7",
         "y": [
          100
         ],
         "yaxis": "y7"
        },
        {
         "hovertext": "0 Liedzitate im 11%",
         "marker": {
          "color": "rgb(250,250,250)"
         },
         "type": "bar",
         "x": [
          "Liedzitate je Predigtprozent"
         ],
         "xaxis": "x7",
         "y": [
          100
         ],
         "yaxis": "y7"
        },
        {
         "hovertext": "0 Liedzitate im 12%",
         "marker": {
          "color": "rgb(250,250,250)"
         },
         "type": "bar",
         "x": [
          "Liedzitate je Predigtprozent"
         ],
         "xaxis": "x7",
         "y": [
          100
         ],
         "yaxis": "y7"
        },
        {
         "hovertext": "2 Liedzitate im 13%<br>Das heilige und fröliche Aufsehen (Tübingen 1767)<br>Lob= und Danck=Predigt (Berlin 1753)<br>",
         "marker": {
          "color": "rgb(220,220,220)"
         },
         "type": "bar",
         "x": [
          "Liedzitate je Predigtprozent"
         ],
         "xaxis": "x7",
         "y": [
          100
         ],
         "yaxis": "y7"
        },
        {
         "hovertext": "1 Liedzitate im 14%<br>Lob= und Danck=Predigt (Berlin 1753)<br>",
         "marker": {
          "color": "rgb(235,235,235)"
         },
         "type": "bar",
         "x": [
          "Liedzitate je Predigtprozent"
         ],
         "xaxis": "x7",
         "y": [
          100
         ],
         "yaxis": "y7"
        },
        {
         "hovertext": "0 Liedzitate im 15%",
         "marker": {
          "color": "rgb(250,250,250)"
         },
         "type": "bar",
         "x": [
          "Liedzitate je Predigtprozent"
         ],
         "xaxis": "x7",
         "y": [
          100
         ],
         "yaxis": "y7"
        },
        {
         "hovertext": "0 Liedzitate im 16%",
         "marker": {
          "color": "rgb(250,250,250)"
         },
         "type": "bar",
         "x": [
          "Liedzitate je Predigtprozent"
         ],
         "xaxis": "x7",
         "y": [
          100
         ],
         "yaxis": "y7"
        },
        {
         "hovertext": "1 Liedzitate im 17%<br>Der Christen gerechte Freude (Breslau 1761)<br>",
         "marker": {
          "color": "rgb(235,235,235)"
         },
         "type": "bar",
         "x": [
          "Liedzitate je Predigtprozent"
         ],
         "xaxis": "x7",
         "y": [
          100
         ],
         "yaxis": "y7"
        },
        {
         "hovertext": "1 Liedzitate im 18%<br>Der Christen gerechte Freude (Breslau 1761)<br>",
         "marker": {
          "color": "rgb(235,235,235)"
         },
         "type": "bar",
         "x": [
          "Liedzitate je Predigtprozent"
         ],
         "xaxis": "x7",
         "y": [
          100
         ],
         "yaxis": "y7"
        },
        {
         "hovertext": "1 Liedzitate im 19%<br>Der Christen gerechte Freude (Breslau 1761)<br>",
         "marker": {
          "color": "rgb(235,235,235)"
         },
         "type": "bar",
         "x": [
          "Liedzitate je Predigtprozent"
         ],
         "xaxis": "x7",
         "y": [
          100
         ],
         "yaxis": "y7"
        },
        {
         "hovertext": "0 Liedzitate im 20%",
         "marker": {
          "color": "rgb(250,250,250)"
         },
         "type": "bar",
         "x": [
          "Liedzitate je Predigtprozent"
         ],
         "xaxis": "x7",
         "y": [
          100
         ],
         "yaxis": "y7"
        },
        {
         "hovertext": "0 Liedzitate im 21%",
         "marker": {
          "color": "rgb(250,250,250)"
         },
         "type": "bar",
         "x": [
          "Liedzitate je Predigtprozent"
         ],
         "xaxis": "x7",
         "y": [
          100
         ],
         "yaxis": "y7"
        },
        {
         "hovertext": "0 Liedzitate im 22%",
         "marker": {
          "color": "rgb(250,250,250)"
         },
         "type": "bar",
         "x": [
          "Liedzitate je Predigtprozent"
         ],
         "xaxis": "x7",
         "y": [
          100
         ],
         "yaxis": "y7"
        },
        {
         "hovertext": "0 Liedzitate im 23%",
         "marker": {
          "color": "rgb(250,250,250)"
         },
         "type": "bar",
         "x": [
          "Liedzitate je Predigtprozent"
         ],
         "xaxis": "x7",
         "y": [
          100
         ],
         "yaxis": "y7"
        },
        {
         "hovertext": "0 Liedzitate im 24%",
         "marker": {
          "color": "rgb(250,250,250)"
         },
         "type": "bar",
         "x": [
          "Liedzitate je Predigtprozent"
         ],
         "xaxis": "x7",
         "y": [
          100
         ],
         "yaxis": "y7"
        },
        {
         "hovertext": "1 Liedzitate im 25%<br>Der rechte Gebrauch der Orgeln (Altenburg 1766)<br>",
         "marker": {
          "color": "rgb(235,235,235)"
         },
         "type": "bar",
         "x": [
          "Liedzitate je Predigtprozent"
         ],
         "xaxis": "x7",
         "y": [
          100
         ],
         "yaxis": "y7"
        },
        {
         "hovertext": "0 Liedzitate im 26%",
         "marker": {
          "color": "rgb(250,250,250)"
         },
         "type": "bar",
         "x": [
          "Liedzitate je Predigtprozent"
         ],
         "xaxis": "x7",
         "y": [
          100
         ],
         "yaxis": "y7"
        },
        {
         "hovertext": "0 Liedzitate im 27%",
         "marker": {
          "color": "rgb(250,250,250)"
         },
         "type": "bar",
         "x": [
          "Liedzitate je Predigtprozent"
         ],
         "xaxis": "x7",
         "y": [
          100
         ],
         "yaxis": "y7"
        },
        {
         "hovertext": "0 Liedzitate im 28%",
         "marker": {
          "color": "rgb(250,250,250)"
         },
         "type": "bar",
         "x": [
          "Liedzitate je Predigtprozent"
         ],
         "xaxis": "x7",
         "y": [
          100
         ],
         "yaxis": "y7"
        },
        {
         "hovertext": "0 Liedzitate im 29%",
         "marker": {
          "color": "rgb(250,250,250)"
         },
         "type": "bar",
         "x": [
          "Liedzitate je Predigtprozent"
         ],
         "xaxis": "x7",
         "y": [
          100
         ],
         "yaxis": "y7"
        },
        {
         "hovertext": "0 Liedzitate im 30%",
         "marker": {
          "color": "rgb(250,250,250)"
         },
         "type": "bar",
         "x": [
          "Liedzitate je Predigtprozent"
         ],
         "xaxis": "x7",
         "y": [
          100
         ],
         "yaxis": "y7"
        },
        {
         "hovertext": "0 Liedzitate im 31%",
         "marker": {
          "color": "rgb(250,250,250)"
         },
         "type": "bar",
         "x": [
          "Liedzitate je Predigtprozent"
         ],
         "xaxis": "x7",
         "y": [
          100
         ],
         "yaxis": "y7"
        },
        {
         "hovertext": "0 Liedzitate im 32%",
         "marker": {
          "color": "rgb(250,250,250)"
         },
         "type": "bar",
         "x": [
          "Liedzitate je Predigtprozent"
         ],
         "xaxis": "x7",
         "y": [
          100
         ],
         "yaxis": "y7"
        },
        {
         "hovertext": "0 Liedzitate im 33%",
         "marker": {
          "color": "rgb(250,250,250)"
         },
         "type": "bar",
         "x": [
          "Liedzitate je Predigtprozent"
         ],
         "xaxis": "x7",
         "y": [
          100
         ],
         "yaxis": "y7"
        },
        {
         "hovertext": "0 Liedzitate im 34%",
         "marker": {
          "color": "rgb(250,250,250)"
         },
         "type": "bar",
         "x": [
          "Liedzitate je Predigtprozent"
         ],
         "xaxis": "x7",
         "y": [
          100
         ],
         "yaxis": "y7"
        },
        {
         "hovertext": "0 Liedzitate im 35%",
         "marker": {
          "color": "rgb(250,250,250)"
         },
         "type": "bar",
         "x": [
          "Liedzitate je Predigtprozent"
         ],
         "xaxis": "x7",
         "y": [
          100
         ],
         "yaxis": "y7"
        },
        {
         "hovertext": "0 Liedzitate im 36%",
         "marker": {
          "color": "rgb(250,250,250)"
         },
         "type": "bar",
         "x": [
          "Liedzitate je Predigtprozent"
         ],
         "xaxis": "x7",
         "y": [
          100
         ],
         "yaxis": "y7"
        },
        {
         "hovertext": "0 Liedzitate im 37%",
         "marker": {
          "color": "rgb(250,250,250)"
         },
         "type": "bar",
         "x": [
          "Liedzitate je Predigtprozent"
         ],
         "xaxis": "x7",
         "y": [
          100
         ],
         "yaxis": "y7"
        },
        {
         "hovertext": "0 Liedzitate im 38%",
         "marker": {
          "color": "rgb(250,250,250)"
         },
         "type": "bar",
         "x": [
          "Liedzitate je Predigtprozent"
         ],
         "xaxis": "x7",
         "y": [
          100
         ],
         "yaxis": "y7"
        },
        {
         "hovertext": "0 Liedzitate im 39%",
         "marker": {
          "color": "rgb(250,250,250)"
         },
         "type": "bar",
         "x": [
          "Liedzitate je Predigtprozent"
         ],
         "xaxis": "x7",
         "y": [
          100
         ],
         "yaxis": "y7"
        },
        {
         "hovertext": "0 Liedzitate im 40%",
         "marker": {
          "color": "rgb(250,250,250)"
         },
         "type": "bar",
         "x": [
          "Liedzitate je Predigtprozent"
         ],
         "xaxis": "x7",
         "y": [
          100
         ],
         "yaxis": "y7"
        },
        {
         "hovertext": "0 Liedzitate im 41%",
         "marker": {
          "color": "rgb(250,250,250)"
         },
         "type": "bar",
         "x": [
          "Liedzitate je Predigtprozent"
         ],
         "xaxis": "x7",
         "y": [
          100
         ],
         "yaxis": "y7"
        },
        {
         "hovertext": "0 Liedzitate im 42%",
         "marker": {
          "color": "rgb(250,250,250)"
         },
         "type": "bar",
         "x": [
          "Liedzitate je Predigtprozent"
         ],
         "xaxis": "x7",
         "y": [
          100
         ],
         "yaxis": "y7"
        },
        {
         "hovertext": "0 Liedzitate im 43%",
         "marker": {
          "color": "rgb(250,250,250)"
         },
         "type": "bar",
         "x": [
          "Liedzitate je Predigtprozent"
         ],
         "xaxis": "x7",
         "y": [
          100
         ],
         "yaxis": "y7"
        },
        {
         "hovertext": "0 Liedzitate im 44%",
         "marker": {
          "color": "rgb(250,250,250)"
         },
         "type": "bar",
         "x": [
          "Liedzitate je Predigtprozent"
         ],
         "xaxis": "x7",
         "y": [
          100
         ],
         "yaxis": "y7"
        },
        {
         "hovertext": "0 Liedzitate im 45%",
         "marker": {
          "color": "rgb(250,250,250)"
         },
         "type": "bar",
         "x": [
          "Liedzitate je Predigtprozent"
         ],
         "xaxis": "x7",
         "y": [
          100
         ],
         "yaxis": "y7"
        },
        {
         "hovertext": "0 Liedzitate im 46%",
         "marker": {
          "color": "rgb(250,250,250)"
         },
         "type": "bar",
         "x": [
          "Liedzitate je Predigtprozent"
         ],
         "xaxis": "x7",
         "y": [
          100
         ],
         "yaxis": "y7"
        },
        {
         "hovertext": "0 Liedzitate im 47%",
         "marker": {
          "color": "rgb(250,250,250)"
         },
         "type": "bar",
         "x": [
          "Liedzitate je Predigtprozent"
         ],
         "xaxis": "x7",
         "y": [
          100
         ],
         "yaxis": "y7"
        },
        {
         "hovertext": "0 Liedzitate im 48%",
         "marker": {
          "color": "rgb(250,250,250)"
         },
         "type": "bar",
         "x": [
          "Liedzitate je Predigtprozent"
         ],
         "xaxis": "x7",
         "y": [
          100
         ],
         "yaxis": "y7"
        },
        {
         "hovertext": "0 Liedzitate im 49%",
         "marker": {
          "color": "rgb(250,250,250)"
         },
         "type": "bar",
         "x": [
          "Liedzitate je Predigtprozent"
         ],
         "xaxis": "x7",
         "y": [
          100
         ],
         "yaxis": "y7"
        },
        {
         "hovertext": "1 Liedzitate im 50%<br>Predigt am Feste der Heimsuchung Mariae (Rostock 1770)<br>",
         "marker": {
          "color": "rgb(235,235,235)"
         },
         "type": "bar",
         "x": [
          "Liedzitate je Predigtprozent"
         ],
         "xaxis": "x7",
         "y": [
          100
         ],
         "yaxis": "y7"
        },
        {
         "hovertext": "0 Liedzitate im 51%",
         "marker": {
          "color": "rgb(250,250,250)"
         },
         "type": "bar",
         "x": [
          "Liedzitate je Predigtprozent"
         ],
         "xaxis": "x7",
         "y": [
          100
         ],
         "yaxis": "y7"
        },
        {
         "hovertext": "0 Liedzitate im 52%",
         "marker": {
          "color": "rgb(250,250,250)"
         },
         "type": "bar",
         "x": [
          "Liedzitate je Predigtprozent"
         ],
         "xaxis": "x7",
         "y": [
          100
         ],
         "yaxis": "y7"
        },
        {
         "hovertext": "0 Liedzitate im 53%",
         "marker": {
          "color": "rgb(250,250,250)"
         },
         "type": "bar",
         "x": [
          "Liedzitate je Predigtprozent"
         ],
         "xaxis": "x7",
         "y": [
          100
         ],
         "yaxis": "y7"
        },
        {
         "hovertext": "0 Liedzitate im 54%",
         "marker": {
          "color": "rgb(250,250,250)"
         },
         "type": "bar",
         "x": [
          "Liedzitate je Predigtprozent"
         ],
         "xaxis": "x7",
         "y": [
          100
         ],
         "yaxis": "y7"
        },
        {
         "hovertext": "0 Liedzitate im 55%",
         "marker": {
          "color": "rgb(250,250,250)"
         },
         "type": "bar",
         "x": [
          "Liedzitate je Predigtprozent"
         ],
         "xaxis": "x7",
         "y": [
          100
         ],
         "yaxis": "y7"
        },
        {
         "hovertext": "0 Liedzitate im 56%",
         "marker": {
          "color": "rgb(250,250,250)"
         },
         "type": "bar",
         "x": [
          "Liedzitate je Predigtprozent"
         ],
         "xaxis": "x7",
         "y": [
          100
         ],
         "yaxis": "y7"
        },
        {
         "hovertext": "0 Liedzitate im 57%",
         "marker": {
          "color": "rgb(250,250,250)"
         },
         "type": "bar",
         "x": [
          "Liedzitate je Predigtprozent"
         ],
         "xaxis": "x7",
         "y": [
          100
         ],
         "yaxis": "y7"
        },
        {
         "hovertext": "0 Liedzitate im 58%",
         "marker": {
          "color": "rgb(250,250,250)"
         },
         "type": "bar",
         "x": [
          "Liedzitate je Predigtprozent"
         ],
         "xaxis": "x7",
         "y": [
          100
         ],
         "yaxis": "y7"
        },
        {
         "hovertext": "0 Liedzitate im 59%",
         "marker": {
          "color": "rgb(250,250,250)"
         },
         "type": "bar",
         "x": [
          "Liedzitate je Predigtprozent"
         ],
         "xaxis": "x7",
         "y": [
          100
         ],
         "yaxis": "y7"
        },
        {
         "hovertext": "0 Liedzitate im 60%",
         "marker": {
          "color": "rgb(250,250,250)"
         },
         "type": "bar",
         "x": [
          "Liedzitate je Predigtprozent"
         ],
         "xaxis": "x7",
         "y": [
          100
         ],
         "yaxis": "y7"
        },
        {
         "hovertext": "1 Liedzitate im 61%<br>Das heilige und fröliche Aufsehen (Tübingen 1767)<br>",
         "marker": {
          "color": "rgb(235,235,235)"
         },
         "type": "bar",
         "x": [
          "Liedzitate je Predigtprozent"
         ],
         "xaxis": "x7",
         "y": [
          100
         ],
         "yaxis": "y7"
        },
        {
         "hovertext": "1 Liedzitate im 62%<br>Das heilige und fröliche Aufsehen (Tübingen 1767)<br>",
         "marker": {
          "color": "rgb(235,235,235)"
         },
         "type": "bar",
         "x": [
          "Liedzitate je Predigtprozent"
         ],
         "xaxis": "x7",
         "y": [
          100
         ],
         "yaxis": "y7"
        },
        {
         "hovertext": "0 Liedzitate im 63%",
         "marker": {
          "color": "rgb(250,250,250)"
         },
         "type": "bar",
         "x": [
          "Liedzitate je Predigtprozent"
         ],
         "xaxis": "x7",
         "y": [
          100
         ],
         "yaxis": "y7"
        },
        {
         "hovertext": "0 Liedzitate im 64%",
         "marker": {
          "color": "rgb(250,250,250)"
         },
         "type": "bar",
         "x": [
          "Liedzitate je Predigtprozent"
         ],
         "xaxis": "x7",
         "y": [
          100
         ],
         "yaxis": "y7"
        },
        {
         "hovertext": "0 Liedzitate im 65%",
         "marker": {
          "color": "rgb(250,250,250)"
         },
         "type": "bar",
         "x": [
          "Liedzitate je Predigtprozent"
         ],
         "xaxis": "x7",
         "y": [
          100
         ],
         "yaxis": "y7"
        },
        {
         "hovertext": "0 Liedzitate im 66%",
         "marker": {
          "color": "rgb(250,250,250)"
         },
         "type": "bar",
         "x": [
          "Liedzitate je Predigtprozent"
         ],
         "xaxis": "x7",
         "y": [
          100
         ],
         "yaxis": "y7"
        },
        {
         "hovertext": "0 Liedzitate im 67%",
         "marker": {
          "color": "rgb(250,250,250)"
         },
         "type": "bar",
         "x": [
          "Liedzitate je Predigtprozent"
         ],
         "xaxis": "x7",
         "y": [
          100
         ],
         "yaxis": "y7"
        },
        {
         "hovertext": "0 Liedzitate im 68%",
         "marker": {
          "color": "rgb(250,250,250)"
         },
         "type": "bar",
         "x": [
          "Liedzitate je Predigtprozent"
         ],
         "xaxis": "x7",
         "y": [
          100
         ],
         "yaxis": "y7"
        },
        {
         "hovertext": "0 Liedzitate im 69%",
         "marker": {
          "color": "rgb(250,250,250)"
         },
         "type": "bar",
         "x": [
          "Liedzitate je Predigtprozent"
         ],
         "xaxis": "x7",
         "y": [
          100
         ],
         "yaxis": "y7"
        },
        {
         "hovertext": "0 Liedzitate im 70%",
         "marker": {
          "color": "rgb(250,250,250)"
         },
         "type": "bar",
         "x": [
          "Liedzitate je Predigtprozent"
         ],
         "xaxis": "x7",
         "y": [
          100
         ],
         "yaxis": "y7"
        },
        {
         "hovertext": "0 Liedzitate im 71%",
         "marker": {
          "color": "rgb(250,250,250)"
         },
         "type": "bar",
         "x": [
          "Liedzitate je Predigtprozent"
         ],
         "xaxis": "x7",
         "y": [
          100
         ],
         "yaxis": "y7"
        },
        {
         "hovertext": "0 Liedzitate im 72%",
         "marker": {
          "color": "rgb(250,250,250)"
         },
         "type": "bar",
         "x": [
          "Liedzitate je Predigtprozent"
         ],
         "xaxis": "x7",
         "y": [
          100
         ],
         "yaxis": "y7"
        },
        {
         "hovertext": "0 Liedzitate im 73%",
         "marker": {
          "color": "rgb(250,250,250)"
         },
         "type": "bar",
         "x": [
          "Liedzitate je Predigtprozent"
         ],
         "xaxis": "x7",
         "y": [
          100
         ],
         "yaxis": "y7"
        },
        {
         "hovertext": "0 Liedzitate im 74%",
         "marker": {
          "color": "rgb(250,250,250)"
         },
         "type": "bar",
         "x": [
          "Liedzitate je Predigtprozent"
         ],
         "xaxis": "x7",
         "y": [
          100
         ],
         "yaxis": "y7"
        },
        {
         "hovertext": "0 Liedzitate im 75%",
         "marker": {
          "color": "rgb(250,250,250)"
         },
         "type": "bar",
         "x": [
          "Liedzitate je Predigtprozent"
         ],
         "xaxis": "x7",
         "y": [
          100
         ],
         "yaxis": "y7"
        },
        {
         "hovertext": "1 Liedzitate im 76%<br>Der Christen gerechte Freude (Breslau 1761)<br>",
         "marker": {
          "color": "rgb(235,235,235)"
         },
         "type": "bar",
         "x": [
          "Liedzitate je Predigtprozent"
         ],
         "xaxis": "x7",
         "y": [
          100
         ],
         "yaxis": "y7"
        },
        {
         "hovertext": "0 Liedzitate im 77%",
         "marker": {
          "color": "rgb(250,250,250)"
         },
         "type": "bar",
         "x": [
          "Liedzitate je Predigtprozent"
         ],
         "xaxis": "x7",
         "y": [
          100
         ],
         "yaxis": "y7"
        },
        {
         "hovertext": "0 Liedzitate im 78%",
         "marker": {
          "color": "rgb(250,250,250)"
         },
         "type": "bar",
         "x": [
          "Liedzitate je Predigtprozent"
         ],
         "xaxis": "x7",
         "y": [
          100
         ],
         "yaxis": "y7"
        },
        {
         "hovertext": "0 Liedzitate im 79%",
         "marker": {
          "color": "rgb(250,250,250)"
         },
         "type": "bar",
         "x": [
          "Liedzitate je Predigtprozent"
         ],
         "xaxis": "x7",
         "y": [
          100
         ],
         "yaxis": "y7"
        },
        {
         "hovertext": "0 Liedzitate im 80%",
         "marker": {
          "color": "rgb(250,250,250)"
         },
         "type": "bar",
         "x": [
          "Liedzitate je Predigtprozent"
         ],
         "xaxis": "x7",
         "y": [
          100
         ],
         "yaxis": "y7"
        },
        {
         "hovertext": "0 Liedzitate im 81%",
         "marker": {
          "color": "rgb(250,250,250)"
         },
         "type": "bar",
         "x": [
          "Liedzitate je Predigtprozent"
         ],
         "xaxis": "x7",
         "y": [
          100
         ],
         "yaxis": "y7"
        },
        {
         "hovertext": "0 Liedzitate im 82%",
         "marker": {
          "color": "rgb(250,250,250)"
         },
         "type": "bar",
         "x": [
          "Liedzitate je Predigtprozent"
         ],
         "xaxis": "x7",
         "y": [
          100
         ],
         "yaxis": "y7"
        },
        {
         "hovertext": "0 Liedzitate im 83%",
         "marker": {
          "color": "rgb(250,250,250)"
         },
         "type": "bar",
         "x": [
          "Liedzitate je Predigtprozent"
         ],
         "xaxis": "x7",
         "y": [
          100
         ],
         "yaxis": "y7"
        },
        {
         "hovertext": "0 Liedzitate im 84%",
         "marker": {
          "color": "rgb(250,250,250)"
         },
         "type": "bar",
         "x": [
          "Liedzitate je Predigtprozent"
         ],
         "xaxis": "x7",
         "y": [
          100
         ],
         "yaxis": "y7"
        },
        {
         "hovertext": "0 Liedzitate im 85%",
         "marker": {
          "color": "rgb(250,250,250)"
         },
         "type": "bar",
         "x": [
          "Liedzitate je Predigtprozent"
         ],
         "xaxis": "x7",
         "y": [
          100
         ],
         "yaxis": "y7"
        },
        {
         "hovertext": "1 Liedzitate im 86%<br>Das heilige und fröliche Aufsehen (Tübingen 1767)<br>",
         "marker": {
          "color": "rgb(235,235,235)"
         },
         "type": "bar",
         "x": [
          "Liedzitate je Predigtprozent"
         ],
         "xaxis": "x7",
         "y": [
          100
         ],
         "yaxis": "y7"
        },
        {
         "hovertext": "1 Liedzitate im 87%<br>Das heilige und fröliche Aufsehen (Tübingen 1767)<br>",
         "marker": {
          "color": "rgb(235,235,235)"
         },
         "type": "bar",
         "x": [
          "Liedzitate je Predigtprozent"
         ],
         "xaxis": "x7",
         "y": [
          100
         ],
         "yaxis": "y7"
        },
        {
         "hovertext": "0 Liedzitate im 88%",
         "marker": {
          "color": "rgb(250,250,250)"
         },
         "type": "bar",
         "x": [
          "Liedzitate je Predigtprozent"
         ],
         "xaxis": "x7",
         "y": [
          100
         ],
         "yaxis": "y7"
        },
        {
         "hovertext": "0 Liedzitate im 89%",
         "marker": {
          "color": "rgb(250,250,250)"
         },
         "type": "bar",
         "x": [
          "Liedzitate je Predigtprozent"
         ],
         "xaxis": "x7",
         "y": [
          100
         ],
         "yaxis": "y7"
        },
        {
         "hovertext": "1 Liedzitate im 90%<br>Der Christen gerechte Freude (Breslau 1761)<br>",
         "marker": {
          "color": "rgb(235,235,235)"
         },
         "type": "bar",
         "x": [
          "Liedzitate je Predigtprozent"
         ],
         "xaxis": "x7",
         "y": [
          100
         ],
         "yaxis": "y7"
        },
        {
         "hovertext": "1 Liedzitate im 91%<br>Der Christen gerechte Freude (Breslau 1761)<br>",
         "marker": {
          "color": "rgb(235,235,235)"
         },
         "type": "bar",
         "x": [
          "Liedzitate je Predigtprozent"
         ],
         "xaxis": "x7",
         "y": [
          100
         ],
         "yaxis": "y7"
        },
        {
         "hovertext": "0 Liedzitate im 92%",
         "marker": {
          "color": "rgb(250,250,250)"
         },
         "type": "bar",
         "x": [
          "Liedzitate je Predigtprozent"
         ],
         "xaxis": "x7",
         "y": [
          100
         ],
         "yaxis": "y7"
        },
        {
         "hovertext": "0 Liedzitate im 93%",
         "marker": {
          "color": "rgb(250,250,250)"
         },
         "type": "bar",
         "x": [
          "Liedzitate je Predigtprozent"
         ],
         "xaxis": "x7",
         "y": [
          100
         ],
         "yaxis": "y7"
        },
        {
         "hovertext": "0 Liedzitate im 94%",
         "marker": {
          "color": "rgb(250,250,250)"
         },
         "type": "bar",
         "x": [
          "Liedzitate je Predigtprozent"
         ],
         "xaxis": "x7",
         "y": [
          100
         ],
         "yaxis": "y7"
        },
        {
         "hovertext": "0 Liedzitate im 95%",
         "marker": {
          "color": "rgb(250,250,250)"
         },
         "type": "bar",
         "x": [
          "Liedzitate je Predigtprozent"
         ],
         "xaxis": "x7",
         "y": [
          100
         ],
         "yaxis": "y7"
        },
        {
         "hovertext": "0 Liedzitate im 96%",
         "marker": {
          "color": "rgb(250,250,250)"
         },
         "type": "bar",
         "x": [
          "Liedzitate je Predigtprozent"
         ],
         "xaxis": "x7",
         "y": [
          100
         ],
         "yaxis": "y7"
        },
        {
         "hovertext": "0 Liedzitate im 97%",
         "marker": {
          "color": "rgb(250,250,250)"
         },
         "type": "bar",
         "x": [
          "Liedzitate je Predigtprozent"
         ],
         "xaxis": "x7",
         "y": [
          100
         ],
         "yaxis": "y7"
        },
        {
         "hovertext": "1 Liedzitate im 98%<br>Der Christen gerechte Freude (Breslau 1761)<br>",
         "marker": {
          "color": "rgb(235,235,235)"
         },
         "type": "bar",
         "x": [
          "Liedzitate je Predigtprozent"
         ],
         "xaxis": "x7",
         "y": [
          100
         ],
         "yaxis": "y7"
        },
        {
         "hovertext": "0 Liedzitate im 99%",
         "marker": {
          "color": "rgb(250,250,250)"
         },
         "type": "bar",
         "x": [
          "Liedzitate je Predigtprozent"
         ],
         "xaxis": "x7",
         "y": [
          100
         ],
         "yaxis": "y7"
        },
        {
         "hovertext": "1 Liedzitate im 100%<br>Predigt am Feste der Heimsuchung Mariae (Rostock 1770)<br>",
         "marker": {
          "color": "rgb(235,235,235)"
         },
         "type": "bar",
         "x": [
          "Liedzitate je Predigtprozent"
         ],
         "xaxis": "x7",
         "y": [
          100
         ],
         "yaxis": "y7"
        },
        {
         "hovertext": "0 Liedzitate im 1%",
         "marker": {
          "color": "rgb(250,250,250)"
         },
         "type": "bar",
         "x": [
          "Liedzitate je Predigtprozent"
         ],
         "xaxis": "x8",
         "y": [
          100
         ],
         "yaxis": "y8"
        },
        {
         "hovertext": "0 Liedzitate im 2%",
         "marker": {
          "color": "rgb(250,250,250)"
         },
         "type": "bar",
         "x": [
          "Liedzitate je Predigtprozent"
         ],
         "xaxis": "x8",
         "y": [
          100
         ],
         "yaxis": "y8"
        },
        {
         "hovertext": "0 Liedzitate im 3%",
         "marker": {
          "color": "rgb(250,250,250)"
         },
         "type": "bar",
         "x": [
          "Liedzitate je Predigtprozent"
         ],
         "xaxis": "x8",
         "y": [
          100
         ],
         "yaxis": "y8"
        },
        {
         "hovertext": "0 Liedzitate im 4%",
         "marker": {
          "color": "rgb(250,250,250)"
         },
         "type": "bar",
         "x": [
          "Liedzitate je Predigtprozent"
         ],
         "xaxis": "x8",
         "y": [
          100
         ],
         "yaxis": "y8"
        },
        {
         "hovertext": "0 Liedzitate im 5%",
         "marker": {
          "color": "rgb(250,250,250)"
         },
         "type": "bar",
         "x": [
          "Liedzitate je Predigtprozent"
         ],
         "xaxis": "x8",
         "y": [
          100
         ],
         "yaxis": "y8"
        },
        {
         "hovertext": "1 Liedzitate im 6%<br>Predigt Bey der Einweihung einer Orgel (Leipzig 1797)<br>",
         "marker": {
          "color": "rgb(235,235,235)"
         },
         "type": "bar",
         "x": [
          "Liedzitate je Predigtprozent"
         ],
         "xaxis": "x8",
         "y": [
          100
         ],
         "yaxis": "y8"
        },
        {
         "hovertext": "2 Liedzitate im 7%<br>Predigt bey der feyerlichen Einweihung der neuen Orgel (Magdeburg 1798)<br>Predigt Bey der Einweihung einer Orgel (Leipzig 1797)<br>",
         "marker": {
          "color": "rgb(220,220,220)"
         },
         "type": "bar",
         "x": [
          "Liedzitate je Predigtprozent"
         ],
         "xaxis": "x8",
         "y": [
          100
         ],
         "yaxis": "y8"
        },
        {
         "hovertext": "1 Liedzitate im 8%<br>Predigt Bey der Einweihung einer Orgel (Leipzig 1797)<br>",
         "marker": {
          "color": "rgb(235,235,235)"
         },
         "type": "bar",
         "x": [
          "Liedzitate je Predigtprozent"
         ],
         "xaxis": "x8",
         "y": [
          100
         ],
         "yaxis": "y8"
        },
        {
         "hovertext": "0 Liedzitate im 9%",
         "marker": {
          "color": "rgb(250,250,250)"
         },
         "type": "bar",
         "x": [
          "Liedzitate je Predigtprozent"
         ],
         "xaxis": "x8",
         "y": [
          100
         ],
         "yaxis": "y8"
        },
        {
         "hovertext": "0 Liedzitate im 10%",
         "marker": {
          "color": "rgb(250,250,250)"
         },
         "type": "bar",
         "x": [
          "Liedzitate je Predigtprozent"
         ],
         "xaxis": "x8",
         "y": [
          100
         ],
         "yaxis": "y8"
        },
        {
         "hovertext": "0 Liedzitate im 11%",
         "marker": {
          "color": "rgb(250,250,250)"
         },
         "type": "bar",
         "x": [
          "Liedzitate je Predigtprozent"
         ],
         "xaxis": "x8",
         "y": [
          100
         ],
         "yaxis": "y8"
        },
        {
         "hovertext": "0 Liedzitate im 12%",
         "marker": {
          "color": "rgb(250,250,250)"
         },
         "type": "bar",
         "x": [
          "Liedzitate je Predigtprozent"
         ],
         "xaxis": "x8",
         "y": [
          100
         ],
         "yaxis": "y8"
        },
        {
         "hovertext": "0 Liedzitate im 13%",
         "marker": {
          "color": "rgb(250,250,250)"
         },
         "type": "bar",
         "x": [
          "Liedzitate je Predigtprozent"
         ],
         "xaxis": "x8",
         "y": [
          100
         ],
         "yaxis": "y8"
        },
        {
         "hovertext": "0 Liedzitate im 14%",
         "marker": {
          "color": "rgb(250,250,250)"
         },
         "type": "bar",
         "x": [
          "Liedzitate je Predigtprozent"
         ],
         "xaxis": "x8",
         "y": [
          100
         ],
         "yaxis": "y8"
        },
        {
         "hovertext": "0 Liedzitate im 15%",
         "marker": {
          "color": "rgb(250,250,250)"
         },
         "type": "bar",
         "x": [
          "Liedzitate je Predigtprozent"
         ],
         "xaxis": "x8",
         "y": [
          100
         ],
         "yaxis": "y8"
        },
        {
         "hovertext": "0 Liedzitate im 16%",
         "marker": {
          "color": "rgb(250,250,250)"
         },
         "type": "bar",
         "x": [
          "Liedzitate je Predigtprozent"
         ],
         "xaxis": "x8",
         "y": [
          100
         ],
         "yaxis": "y8"
        },
        {
         "hovertext": "1 Liedzitate im 17%<br>Rede und Predigt bei Einweihung der neuen Orgel (Stockholm 1781)<br>",
         "marker": {
          "color": "rgb(235,235,235)"
         },
         "type": "bar",
         "x": [
          "Liedzitate je Predigtprozent"
         ],
         "xaxis": "x8",
         "y": [
          100
         ],
         "yaxis": "y8"
        },
        {
         "hovertext": "2 Liedzitate im 18%<br>Predigt Bey der Einweihung einer Orgel (Leipzig 1797)<br>Rede und Predigt bei Einweihung der neuen Orgel (Stockholm 1781)<br>",
         "marker": {
          "color": "rgb(220,220,220)"
         },
         "type": "bar",
         "x": [
          "Liedzitate je Predigtprozent"
         ],
         "xaxis": "x8",
         "y": [
          100
         ],
         "yaxis": "y8"
        },
        {
         "hovertext": "1 Liedzitate im 19%<br>Rede und Predigt bei Einweihung der neuen Orgel (Stockholm 1781)<br>",
         "marker": {
          "color": "rgb(235,235,235)"
         },
         "type": "bar",
         "x": [
          "Liedzitate je Predigtprozent"
         ],
         "xaxis": "x8",
         "y": [
          100
         ],
         "yaxis": "y8"
        },
        {
         "hovertext": "0 Liedzitate im 20%",
         "marker": {
          "color": "rgb(250,250,250)"
         },
         "type": "bar",
         "x": [
          "Liedzitate je Predigtprozent"
         ],
         "xaxis": "x8",
         "y": [
          100
         ],
         "yaxis": "y8"
        },
        {
         "hovertext": "1 Liedzitate im 21%<br>Rede und Predigt bei Einweihung der neuen Orgel (Stockholm 1781)<br>",
         "marker": {
          "color": "rgb(235,235,235)"
         },
         "type": "bar",
         "x": [
          "Liedzitate je Predigtprozent"
         ],
         "xaxis": "x8",
         "y": [
          100
         ],
         "yaxis": "y8"
        },
        {
         "hovertext": "0 Liedzitate im 22%",
         "marker": {
          "color": "rgb(250,250,250)"
         },
         "type": "bar",
         "x": [
          "Liedzitate je Predigtprozent"
         ],
         "xaxis": "x8",
         "y": [
          100
         ],
         "yaxis": "y8"
        },
        {
         "hovertext": "0 Liedzitate im 23%",
         "marker": {
          "color": "rgb(250,250,250)"
         },
         "type": "bar",
         "x": [
          "Liedzitate je Predigtprozent"
         ],
         "xaxis": "x8",
         "y": [
          100
         ],
         "yaxis": "y8"
        },
        {
         "hovertext": "0 Liedzitate im 24%",
         "marker": {
          "color": "rgb(250,250,250)"
         },
         "type": "bar",
         "x": [
          "Liedzitate je Predigtprozent"
         ],
         "xaxis": "x8",
         "y": [
          100
         ],
         "yaxis": "y8"
        },
        {
         "hovertext": "0 Liedzitate im 25%",
         "marker": {
          "color": "rgb(250,250,250)"
         },
         "type": "bar",
         "x": [
          "Liedzitate je Predigtprozent"
         ],
         "xaxis": "x8",
         "y": [
          100
         ],
         "yaxis": "y8"
        },
        {
         "hovertext": "0 Liedzitate im 26%",
         "marker": {
          "color": "rgb(250,250,250)"
         },
         "type": "bar",
         "x": [
          "Liedzitate je Predigtprozent"
         ],
         "xaxis": "x8",
         "y": [
          100
         ],
         "yaxis": "y8"
        },
        {
         "hovertext": "0 Liedzitate im 27%",
         "marker": {
          "color": "rgb(250,250,250)"
         },
         "type": "bar",
         "x": [
          "Liedzitate je Predigtprozent"
         ],
         "xaxis": "x8",
         "y": [
          100
         ],
         "yaxis": "y8"
        },
        {
         "hovertext": "0 Liedzitate im 28%",
         "marker": {
          "color": "rgb(250,250,250)"
         },
         "type": "bar",
         "x": [
          "Liedzitate je Predigtprozent"
         ],
         "xaxis": "x8",
         "y": [
          100
         ],
         "yaxis": "y8"
        },
        {
         "hovertext": "0 Liedzitate im 29%",
         "marker": {
          "color": "rgb(250,250,250)"
         },
         "type": "bar",
         "x": [
          "Liedzitate je Predigtprozent"
         ],
         "xaxis": "x8",
         "y": [
          100
         ],
         "yaxis": "y8"
        },
        {
         "hovertext": "0 Liedzitate im 30%",
         "marker": {
          "color": "rgb(250,250,250)"
         },
         "type": "bar",
         "x": [
          "Liedzitate je Predigtprozent"
         ],
         "xaxis": "x8",
         "y": [
          100
         ],
         "yaxis": "y8"
        },
        {
         "hovertext": "0 Liedzitate im 31%",
         "marker": {
          "color": "rgb(250,250,250)"
         },
         "type": "bar",
         "x": [
          "Liedzitate je Predigtprozent"
         ],
         "xaxis": "x8",
         "y": [
          100
         ],
         "yaxis": "y8"
        },
        {
         "hovertext": "0 Liedzitate im 32%",
         "marker": {
          "color": "rgb(250,250,250)"
         },
         "type": "bar",
         "x": [
          "Liedzitate je Predigtprozent"
         ],
         "xaxis": "x8",
         "y": [
          100
         ],
         "yaxis": "y8"
        },
        {
         "hovertext": "0 Liedzitate im 33%",
         "marker": {
          "color": "rgb(250,250,250)"
         },
         "type": "bar",
         "x": [
          "Liedzitate je Predigtprozent"
         ],
         "xaxis": "x8",
         "y": [
          100
         ],
         "yaxis": "y8"
        },
        {
         "hovertext": "0 Liedzitate im 34%",
         "marker": {
          "color": "rgb(250,250,250)"
         },
         "type": "bar",
         "x": [
          "Liedzitate je Predigtprozent"
         ],
         "xaxis": "x8",
         "y": [
          100
         ],
         "yaxis": "y8"
        },
        {
         "hovertext": "0 Liedzitate im 35%",
         "marker": {
          "color": "rgb(250,250,250)"
         },
         "type": "bar",
         "x": [
          "Liedzitate je Predigtprozent"
         ],
         "xaxis": "x8",
         "y": [
          100
         ],
         "yaxis": "y8"
        },
        {
         "hovertext": "0 Liedzitate im 36%",
         "marker": {
          "color": "rgb(250,250,250)"
         },
         "type": "bar",
         "x": [
          "Liedzitate je Predigtprozent"
         ],
         "xaxis": "x8",
         "y": [
          100
         ],
         "yaxis": "y8"
        },
        {
         "hovertext": "0 Liedzitate im 37%",
         "marker": {
          "color": "rgb(250,250,250)"
         },
         "type": "bar",
         "x": [
          "Liedzitate je Predigtprozent"
         ],
         "xaxis": "x8",
         "y": [
          100
         ],
         "yaxis": "y8"
        },
        {
         "hovertext": "0 Liedzitate im 38%",
         "marker": {
          "color": "rgb(250,250,250)"
         },
         "type": "bar",
         "x": [
          "Liedzitate je Predigtprozent"
         ],
         "xaxis": "x8",
         "y": [
          100
         ],
         "yaxis": "y8"
        },
        {
         "hovertext": "0 Liedzitate im 39%",
         "marker": {
          "color": "rgb(250,250,250)"
         },
         "type": "bar",
         "x": [
          "Liedzitate je Predigtprozent"
         ],
         "xaxis": "x8",
         "y": [
          100
         ],
         "yaxis": "y8"
        },
        {
         "hovertext": "0 Liedzitate im 40%",
         "marker": {
          "color": "rgb(250,250,250)"
         },
         "type": "bar",
         "x": [
          "Liedzitate je Predigtprozent"
         ],
         "xaxis": "x8",
         "y": [
          100
         ],
         "yaxis": "y8"
        },
        {
         "hovertext": "0 Liedzitate im 41%",
         "marker": {
          "color": "rgb(250,250,250)"
         },
         "type": "bar",
         "x": [
          "Liedzitate je Predigtprozent"
         ],
         "xaxis": "x8",
         "y": [
          100
         ],
         "yaxis": "y8"
        },
        {
         "hovertext": "0 Liedzitate im 42%",
         "marker": {
          "color": "rgb(250,250,250)"
         },
         "type": "bar",
         "x": [
          "Liedzitate je Predigtprozent"
         ],
         "xaxis": "x8",
         "y": [
          100
         ],
         "yaxis": "y8"
        },
        {
         "hovertext": "0 Liedzitate im 43%",
         "marker": {
          "color": "rgb(250,250,250)"
         },
         "type": "bar",
         "x": [
          "Liedzitate je Predigtprozent"
         ],
         "xaxis": "x8",
         "y": [
          100
         ],
         "yaxis": "y8"
        },
        {
         "hovertext": "0 Liedzitate im 44%",
         "marker": {
          "color": "rgb(250,250,250)"
         },
         "type": "bar",
         "x": [
          "Liedzitate je Predigtprozent"
         ],
         "xaxis": "x8",
         "y": [
          100
         ],
         "yaxis": "y8"
        },
        {
         "hovertext": "0 Liedzitate im 45%",
         "marker": {
          "color": "rgb(250,250,250)"
         },
         "type": "bar",
         "x": [
          "Liedzitate je Predigtprozent"
         ],
         "xaxis": "x8",
         "y": [
          100
         ],
         "yaxis": "y8"
        },
        {
         "hovertext": "0 Liedzitate im 46%",
         "marker": {
          "color": "rgb(250,250,250)"
         },
         "type": "bar",
         "x": [
          "Liedzitate je Predigtprozent"
         ],
         "xaxis": "x8",
         "y": [
          100
         ],
         "yaxis": "y8"
        },
        {
         "hovertext": "0 Liedzitate im 47%",
         "marker": {
          "color": "rgb(250,250,250)"
         },
         "type": "bar",
         "x": [
          "Liedzitate je Predigtprozent"
         ],
         "xaxis": "x8",
         "y": [
          100
         ],
         "yaxis": "y8"
        },
        {
         "hovertext": "0 Liedzitate im 48%",
         "marker": {
          "color": "rgb(250,250,250)"
         },
         "type": "bar",
         "x": [
          "Liedzitate je Predigtprozent"
         ],
         "xaxis": "x8",
         "y": [
          100
         ],
         "yaxis": "y8"
        },
        {
         "hovertext": "0 Liedzitate im 49%",
         "marker": {
          "color": "rgb(250,250,250)"
         },
         "type": "bar",
         "x": [
          "Liedzitate je Predigtprozent"
         ],
         "xaxis": "x8",
         "y": [
          100
         ],
         "yaxis": "y8"
        },
        {
         "hovertext": "0 Liedzitate im 50%",
         "marker": {
          "color": "rgb(250,250,250)"
         },
         "type": "bar",
         "x": [
          "Liedzitate je Predigtprozent"
         ],
         "xaxis": "x8",
         "y": [
          100
         ],
         "yaxis": "y8"
        },
        {
         "hovertext": "0 Liedzitate im 51%",
         "marker": {
          "color": "rgb(250,250,250)"
         },
         "type": "bar",
         "x": [
          "Liedzitate je Predigtprozent"
         ],
         "xaxis": "x8",
         "y": [
          100
         ],
         "yaxis": "y8"
        },
        {
         "hovertext": "0 Liedzitate im 52%",
         "marker": {
          "color": "rgb(250,250,250)"
         },
         "type": "bar",
         "x": [
          "Liedzitate je Predigtprozent"
         ],
         "xaxis": "x8",
         "y": [
          100
         ],
         "yaxis": "y8"
        },
        {
         "hovertext": "0 Liedzitate im 53%",
         "marker": {
          "color": "rgb(250,250,250)"
         },
         "type": "bar",
         "x": [
          "Liedzitate je Predigtprozent"
         ],
         "xaxis": "x8",
         "y": [
          100
         ],
         "yaxis": "y8"
        },
        {
         "hovertext": "0 Liedzitate im 54%",
         "marker": {
          "color": "rgb(250,250,250)"
         },
         "type": "bar",
         "x": [
          "Liedzitate je Predigtprozent"
         ],
         "xaxis": "x8",
         "y": [
          100
         ],
         "yaxis": "y8"
        },
        {
         "hovertext": "0 Liedzitate im 55%",
         "marker": {
          "color": "rgb(250,250,250)"
         },
         "type": "bar",
         "x": [
          "Liedzitate je Predigtprozent"
         ],
         "xaxis": "x8",
         "y": [
          100
         ],
         "yaxis": "y8"
        },
        {
         "hovertext": "0 Liedzitate im 56%",
         "marker": {
          "color": "rgb(250,250,250)"
         },
         "type": "bar",
         "x": [
          "Liedzitate je Predigtprozent"
         ],
         "xaxis": "x8",
         "y": [
          100
         ],
         "yaxis": "y8"
        },
        {
         "hovertext": "0 Liedzitate im 57%",
         "marker": {
          "color": "rgb(250,250,250)"
         },
         "type": "bar",
         "x": [
          "Liedzitate je Predigtprozent"
         ],
         "xaxis": "x8",
         "y": [
          100
         ],
         "yaxis": "y8"
        },
        {
         "hovertext": "0 Liedzitate im 58%",
         "marker": {
          "color": "rgb(250,250,250)"
         },
         "type": "bar",
         "x": [
          "Liedzitate je Predigtprozent"
         ],
         "xaxis": "x8",
         "y": [
          100
         ],
         "yaxis": "y8"
        },
        {
         "hovertext": "0 Liedzitate im 59%",
         "marker": {
          "color": "rgb(250,250,250)"
         },
         "type": "bar",
         "x": [
          "Liedzitate je Predigtprozent"
         ],
         "xaxis": "x8",
         "y": [
          100
         ],
         "yaxis": "y8"
        },
        {
         "hovertext": "0 Liedzitate im 60%",
         "marker": {
          "color": "rgb(250,250,250)"
         },
         "type": "bar",
         "x": [
          "Liedzitate je Predigtprozent"
         ],
         "xaxis": "x8",
         "y": [
          100
         ],
         "yaxis": "y8"
        },
        {
         "hovertext": "0 Liedzitate im 61%",
         "marker": {
          "color": "rgb(250,250,250)"
         },
         "type": "bar",
         "x": [
          "Liedzitate je Predigtprozent"
         ],
         "xaxis": "x8",
         "y": [
          100
         ],
         "yaxis": "y8"
        },
        {
         "hovertext": "1 Liedzitate im 62%<br>Predigt bey der feyerlichen Einweihung der neuen Orgel (Magdeburg 1798)<br>",
         "marker": {
          "color": "rgb(235,235,235)"
         },
         "type": "bar",
         "x": [
          "Liedzitate je Predigtprozent"
         ],
         "xaxis": "x8",
         "y": [
          100
         ],
         "yaxis": "y8"
        },
        {
         "hovertext": "0 Liedzitate im 63%",
         "marker": {
          "color": "rgb(250,250,250)"
         },
         "type": "bar",
         "x": [
          "Liedzitate je Predigtprozent"
         ],
         "xaxis": "x8",
         "y": [
          100
         ],
         "yaxis": "y8"
        },
        {
         "hovertext": "0 Liedzitate im 64%",
         "marker": {
          "color": "rgb(250,250,250)"
         },
         "type": "bar",
         "x": [
          "Liedzitate je Predigtprozent"
         ],
         "xaxis": "x8",
         "y": [
          100
         ],
         "yaxis": "y8"
        },
        {
         "hovertext": "0 Liedzitate im 65%",
         "marker": {
          "color": "rgb(250,250,250)"
         },
         "type": "bar",
         "x": [
          "Liedzitate je Predigtprozent"
         ],
         "xaxis": "x8",
         "y": [
          100
         ],
         "yaxis": "y8"
        },
        {
         "hovertext": "0 Liedzitate im 66%",
         "marker": {
          "color": "rgb(250,250,250)"
         },
         "type": "bar",
         "x": [
          "Liedzitate je Predigtprozent"
         ],
         "xaxis": "x8",
         "y": [
          100
         ],
         "yaxis": "y8"
        },
        {
         "hovertext": "0 Liedzitate im 67%",
         "marker": {
          "color": "rgb(250,250,250)"
         },
         "type": "bar",
         "x": [
          "Liedzitate je Predigtprozent"
         ],
         "xaxis": "x8",
         "y": [
          100
         ],
         "yaxis": "y8"
        },
        {
         "hovertext": "0 Liedzitate im 68%",
         "marker": {
          "color": "rgb(250,250,250)"
         },
         "type": "bar",
         "x": [
          "Liedzitate je Predigtprozent"
         ],
         "xaxis": "x8",
         "y": [
          100
         ],
         "yaxis": "y8"
        },
        {
         "hovertext": "1 Liedzitate im 69%<br>Predigt bey der feyerlichen Einweihung der neuen Orgel (Magdeburg 1798)<br>",
         "marker": {
          "color": "rgb(235,235,235)"
         },
         "type": "bar",
         "x": [
          "Liedzitate je Predigtprozent"
         ],
         "xaxis": "x8",
         "y": [
          100
         ],
         "yaxis": "y8"
        },
        {
         "hovertext": "0 Liedzitate im 70%",
         "marker": {
          "color": "rgb(250,250,250)"
         },
         "type": "bar",
         "x": [
          "Liedzitate je Predigtprozent"
         ],
         "xaxis": "x8",
         "y": [
          100
         ],
         "yaxis": "y8"
        },
        {
         "hovertext": "0 Liedzitate im 71%",
         "marker": {
          "color": "rgb(250,250,250)"
         },
         "type": "bar",
         "x": [
          "Liedzitate je Predigtprozent"
         ],
         "xaxis": "x8",
         "y": [
          100
         ],
         "yaxis": "y8"
        },
        {
         "hovertext": "0 Liedzitate im 72%",
         "marker": {
          "color": "rgb(250,250,250)"
         },
         "type": "bar",
         "x": [
          "Liedzitate je Predigtprozent"
         ],
         "xaxis": "x8",
         "y": [
          100
         ],
         "yaxis": "y8"
        },
        {
         "hovertext": "0 Liedzitate im 73%",
         "marker": {
          "color": "rgb(250,250,250)"
         },
         "type": "bar",
         "x": [
          "Liedzitate je Predigtprozent"
         ],
         "xaxis": "x8",
         "y": [
          100
         ],
         "yaxis": "y8"
        },
        {
         "hovertext": "0 Liedzitate im 74%",
         "marker": {
          "color": "rgb(250,250,250)"
         },
         "type": "bar",
         "x": [
          "Liedzitate je Predigtprozent"
         ],
         "xaxis": "x8",
         "y": [
          100
         ],
         "yaxis": "y8"
        },
        {
         "hovertext": "0 Liedzitate im 75%",
         "marker": {
          "color": "rgb(250,250,250)"
         },
         "type": "bar",
         "x": [
          "Liedzitate je Predigtprozent"
         ],
         "xaxis": "x8",
         "y": [
          100
         ],
         "yaxis": "y8"
        },
        {
         "hovertext": "0 Liedzitate im 76%",
         "marker": {
          "color": "rgb(250,250,250)"
         },
         "type": "bar",
         "x": [
          "Liedzitate je Predigtprozent"
         ],
         "xaxis": "x8",
         "y": [
          100
         ],
         "yaxis": "y8"
        },
        {
         "hovertext": "0 Liedzitate im 77%",
         "marker": {
          "color": "rgb(250,250,250)"
         },
         "type": "bar",
         "x": [
          "Liedzitate je Predigtprozent"
         ],
         "xaxis": "x8",
         "y": [
          100
         ],
         "yaxis": "y8"
        },
        {
         "hovertext": "0 Liedzitate im 78%",
         "marker": {
          "color": "rgb(250,250,250)"
         },
         "type": "bar",
         "x": [
          "Liedzitate je Predigtprozent"
         ],
         "xaxis": "x8",
         "y": [
          100
         ],
         "yaxis": "y8"
        },
        {
         "hovertext": "0 Liedzitate im 79%",
         "marker": {
          "color": "rgb(250,250,250)"
         },
         "type": "bar",
         "x": [
          "Liedzitate je Predigtprozent"
         ],
         "xaxis": "x8",
         "y": [
          100
         ],
         "yaxis": "y8"
        },
        {
         "hovertext": "0 Liedzitate im 80%",
         "marker": {
          "color": "rgb(250,250,250)"
         },
         "type": "bar",
         "x": [
          "Liedzitate je Predigtprozent"
         ],
         "xaxis": "x8",
         "y": [
          100
         ],
         "yaxis": "y8"
        },
        {
         "hovertext": "0 Liedzitate im 81%",
         "marker": {
          "color": "rgb(250,250,250)"
         },
         "type": "bar",
         "x": [
          "Liedzitate je Predigtprozent"
         ],
         "xaxis": "x8",
         "y": [
          100
         ],
         "yaxis": "y8"
        },
        {
         "hovertext": "0 Liedzitate im 82%",
         "marker": {
          "color": "rgb(250,250,250)"
         },
         "type": "bar",
         "x": [
          "Liedzitate je Predigtprozent"
         ],
         "xaxis": "x8",
         "y": [
          100
         ],
         "yaxis": "y8"
        },
        {
         "hovertext": "0 Liedzitate im 83%",
         "marker": {
          "color": "rgb(250,250,250)"
         },
         "type": "bar",
         "x": [
          "Liedzitate je Predigtprozent"
         ],
         "xaxis": "x8",
         "y": [
          100
         ],
         "yaxis": "y8"
        },
        {
         "hovertext": "0 Liedzitate im 84%",
         "marker": {
          "color": "rgb(250,250,250)"
         },
         "type": "bar",
         "x": [
          "Liedzitate je Predigtprozent"
         ],
         "xaxis": "x8",
         "y": [
          100
         ],
         "yaxis": "y8"
        },
        {
         "hovertext": "0 Liedzitate im 85%",
         "marker": {
          "color": "rgb(250,250,250)"
         },
         "type": "bar",
         "x": [
          "Liedzitate je Predigtprozent"
         ],
         "xaxis": "x8",
         "y": [
          100
         ],
         "yaxis": "y8"
        },
        {
         "hovertext": "0 Liedzitate im 86%",
         "marker": {
          "color": "rgb(250,250,250)"
         },
         "type": "bar",
         "x": [
          "Liedzitate je Predigtprozent"
         ],
         "xaxis": "x8",
         "y": [
          100
         ],
         "yaxis": "y8"
        },
        {
         "hovertext": "0 Liedzitate im 87%",
         "marker": {
          "color": "rgb(250,250,250)"
         },
         "type": "bar",
         "x": [
          "Liedzitate je Predigtprozent"
         ],
         "xaxis": "x8",
         "y": [
          100
         ],
         "yaxis": "y8"
        },
        {
         "hovertext": "0 Liedzitate im 88%",
         "marker": {
          "color": "rgb(250,250,250)"
         },
         "type": "bar",
         "x": [
          "Liedzitate je Predigtprozent"
         ],
         "xaxis": "x8",
         "y": [
          100
         ],
         "yaxis": "y8"
        },
        {
         "hovertext": "0 Liedzitate im 89%",
         "marker": {
          "color": "rgb(250,250,250)"
         },
         "type": "bar",
         "x": [
          "Liedzitate je Predigtprozent"
         ],
         "xaxis": "x8",
         "y": [
          100
         ],
         "yaxis": "y8"
        },
        {
         "hovertext": "0 Liedzitate im 90%",
         "marker": {
          "color": "rgb(250,250,250)"
         },
         "type": "bar",
         "x": [
          "Liedzitate je Predigtprozent"
         ],
         "xaxis": "x8",
         "y": [
          100
         ],
         "yaxis": "y8"
        },
        {
         "hovertext": "0 Liedzitate im 91%",
         "marker": {
          "color": "rgb(250,250,250)"
         },
         "type": "bar",
         "x": [
          "Liedzitate je Predigtprozent"
         ],
         "xaxis": "x8",
         "y": [
          100
         ],
         "yaxis": "y8"
        },
        {
         "hovertext": "0 Liedzitate im 92%",
         "marker": {
          "color": "rgb(250,250,250)"
         },
         "type": "bar",
         "x": [
          "Liedzitate je Predigtprozent"
         ],
         "xaxis": "x8",
         "y": [
          100
         ],
         "yaxis": "y8"
        },
        {
         "hovertext": "0 Liedzitate im 93%",
         "marker": {
          "color": "rgb(250,250,250)"
         },
         "type": "bar",
         "x": [
          "Liedzitate je Predigtprozent"
         ],
         "xaxis": "x8",
         "y": [
          100
         ],
         "yaxis": "y8"
        },
        {
         "hovertext": "0 Liedzitate im 94%",
         "marker": {
          "color": "rgb(250,250,250)"
         },
         "type": "bar",
         "x": [
          "Liedzitate je Predigtprozent"
         ],
         "xaxis": "x8",
         "y": [
          100
         ],
         "yaxis": "y8"
        },
        {
         "hovertext": "0 Liedzitate im 95%",
         "marker": {
          "color": "rgb(250,250,250)"
         },
         "type": "bar",
         "x": [
          "Liedzitate je Predigtprozent"
         ],
         "xaxis": "x8",
         "y": [
          100
         ],
         "yaxis": "y8"
        },
        {
         "hovertext": "0 Liedzitate im 96%",
         "marker": {
          "color": "rgb(250,250,250)"
         },
         "type": "bar",
         "x": [
          "Liedzitate je Predigtprozent"
         ],
         "xaxis": "x8",
         "y": [
          100
         ],
         "yaxis": "y8"
        },
        {
         "hovertext": "0 Liedzitate im 97%",
         "marker": {
          "color": "rgb(250,250,250)"
         },
         "type": "bar",
         "x": [
          "Liedzitate je Predigtprozent"
         ],
         "xaxis": "x8",
         "y": [
          100
         ],
         "yaxis": "y8"
        },
        {
         "hovertext": "0 Liedzitate im 98%",
         "marker": {
          "color": "rgb(250,250,250)"
         },
         "type": "bar",
         "x": [
          "Liedzitate je Predigtprozent"
         ],
         "xaxis": "x8",
         "y": [
          100
         ],
         "yaxis": "y8"
        },
        {
         "hovertext": "1 Liedzitate im 99%<br>Predigt Bey der Einweihung einer Orgel (Leipzig 1797)<br>",
         "marker": {
          "color": "rgb(235,235,235)"
         },
         "type": "bar",
         "x": [
          "Liedzitate je Predigtprozent"
         ],
         "xaxis": "x8",
         "y": [
          100
         ],
         "yaxis": "y8"
        },
        {
         "hovertext": "1 Liedzitate im 100%<br>Predigt Bey der Einweihung einer Orgel (Leipzig 1797)<br>",
         "marker": {
          "color": "rgb(235,235,235)"
         },
         "type": "bar",
         "x": [
          "Liedzitate je Predigtprozent"
         ],
         "xaxis": "x8",
         "y": [
          100
         ],
         "yaxis": "y8"
        }
       ],
       "layout": {
        "annotations": [
         {
          "font": {
           "size": 16
          },
          "showarrow": false,
          "text": "Liedverteilung in Predigten zwischen 1600 und 1625 (6 Predigten)",
          "x": 0.5,
          "xanchor": "center",
          "xref": "paper",
          "y": 1,
          "yanchor": "bottom",
          "yref": "paper"
         },
         {
          "font": {
           "size": 16
          },
          "showarrow": false,
          "text": "Liedverteilung in Predigten zwischen 1625 und 1650 (3 Predigten)",
          "x": 0.5,
          "xanchor": "center",
          "xref": "paper",
          "y": 0.8671875,
          "yanchor": "bottom",
          "yref": "paper"
         },
         {
          "font": {
           "size": 16
          },
          "showarrow": false,
          "text": "Liedverteilung in Predigten zwischen 1650 und 1675 (9 Predigten)",
          "x": 0.5,
          "xanchor": "center",
          "xref": "paper",
          "y": 0.734375,
          "yanchor": "bottom",
          "yref": "paper"
         },
         {
          "font": {
           "size": 16
          },
          "showarrow": false,
          "text": "Liedverteilung in Predigten zwischen 1675 und 1700 (11 Predigten)",
          "x": 0.5,
          "xanchor": "center",
          "xref": "paper",
          "y": 0.6015625,
          "yanchor": "bottom",
          "yref": "paper"
         },
         {
          "font": {
           "size": 16
          },
          "showarrow": false,
          "text": "Liedverteilung in Predigten zwischen 1700 und 1725 (10 Predigten)",
          "x": 0.5,
          "xanchor": "center",
          "xref": "paper",
          "y": 0.46875,
          "yanchor": "bottom",
          "yref": "paper"
         },
         {
          "font": {
           "size": 16
          },
          "showarrow": false,
          "text": "Liedverteilung in Predigten zwischen 1725 und 1750 (11 Predigten)",
          "x": 0.5,
          "xanchor": "center",
          "xref": "paper",
          "y": 0.3359375,
          "yanchor": "bottom",
          "yref": "paper"
         },
         {
          "font": {
           "size": 16
          },
          "showarrow": false,
          "text": "Liedverteilung in Predigten zwischen 1750 und 1775 (7 Predigten)",
          "x": 0.5,
          "xanchor": "center",
          "xref": "paper",
          "y": 0.203125,
          "yanchor": "bottom",
          "yref": "paper"
         },
         {
          "font": {
           "size": 16
          },
          "showarrow": false,
          "text": "Liedverteilung in Predigten zwischen 1775 und 1800 (6 Predigten)",
          "x": 0.5,
          "xanchor": "center",
          "xref": "paper",
          "y": 0.0703125,
          "yanchor": "bottom",
          "yref": "paper"
         }
        ],
        "height": 1200,
        "showlegend": false,
        "template": {
         "data": {
          "bar": [
           {
            "error_x": {
             "color": "#2a3f5f"
            },
            "error_y": {
             "color": "#2a3f5f"
            },
            "marker": {
             "line": {
              "color": "#E5ECF6",
              "width": 0.5
             },
             "pattern": {
              "fillmode": "overlay",
              "size": 10,
              "solidity": 0.2
             }
            },
            "type": "bar"
           }
          ],
          "barpolar": [
           {
            "marker": {
             "line": {
              "color": "#E5ECF6",
              "width": 0.5
             },
             "pattern": {
              "fillmode": "overlay",
              "size": 10,
              "solidity": 0.2
             }
            },
            "type": "barpolar"
           }
          ],
          "carpet": [
           {
            "aaxis": {
             "endlinecolor": "#2a3f5f",
             "gridcolor": "white",
             "linecolor": "white",
             "minorgridcolor": "white",
             "startlinecolor": "#2a3f5f"
            },
            "baxis": {
             "endlinecolor": "#2a3f5f",
             "gridcolor": "white",
             "linecolor": "white",
             "minorgridcolor": "white",
             "startlinecolor": "#2a3f5f"
            },
            "type": "carpet"
           }
          ],
          "choropleth": [
           {
            "colorbar": {
             "outlinewidth": 0,
             "ticks": ""
            },
            "type": "choropleth"
           }
          ],
          "contour": [
           {
            "colorbar": {
             "outlinewidth": 0,
             "ticks": ""
            },
            "colorscale": [
             [
              0,
              "#0d0887"
             ],
             [
              0.1111111111111111,
              "#46039f"
             ],
             [
              0.2222222222222222,
              "#7201a8"
             ],
             [
              0.3333333333333333,
              "#9c179e"
             ],
             [
              0.4444444444444444,
              "#bd3786"
             ],
             [
              0.5555555555555556,
              "#d8576b"
             ],
             [
              0.6666666666666666,
              "#ed7953"
             ],
             [
              0.7777777777777778,
              "#fb9f3a"
             ],
             [
              0.8888888888888888,
              "#fdca26"
             ],
             [
              1,
              "#f0f921"
             ]
            ],
            "type": "contour"
           }
          ],
          "contourcarpet": [
           {
            "colorbar": {
             "outlinewidth": 0,
             "ticks": ""
            },
            "type": "contourcarpet"
           }
          ],
          "heatmap": [
           {
            "colorbar": {
             "outlinewidth": 0,
             "ticks": ""
            },
            "colorscale": [
             [
              0,
              "#0d0887"
             ],
             [
              0.1111111111111111,
              "#46039f"
             ],
             [
              0.2222222222222222,
              "#7201a8"
             ],
             [
              0.3333333333333333,
              "#9c179e"
             ],
             [
              0.4444444444444444,
              "#bd3786"
             ],
             [
              0.5555555555555556,
              "#d8576b"
             ],
             [
              0.6666666666666666,
              "#ed7953"
             ],
             [
              0.7777777777777778,
              "#fb9f3a"
             ],
             [
              0.8888888888888888,
              "#fdca26"
             ],
             [
              1,
              "#f0f921"
             ]
            ],
            "type": "heatmap"
           }
          ],
          "histogram": [
           {
            "marker": {
             "pattern": {
              "fillmode": "overlay",
              "size": 10,
              "solidity": 0.2
             }
            },
            "type": "histogram"
           }
          ],
          "histogram2d": [
           {
            "colorbar": {
             "outlinewidth": 0,
             "ticks": ""
            },
            "colorscale": [
             [
              0,
              "#0d0887"
             ],
             [
              0.1111111111111111,
              "#46039f"
             ],
             [
              0.2222222222222222,
              "#7201a8"
             ],
             [
              0.3333333333333333,
              "#9c179e"
             ],
             [
              0.4444444444444444,
              "#bd3786"
             ],
             [
              0.5555555555555556,
              "#d8576b"
             ],
             [
              0.6666666666666666,
              "#ed7953"
             ],
             [
              0.7777777777777778,
              "#fb9f3a"
             ],
             [
              0.8888888888888888,
              "#fdca26"
             ],
             [
              1,
              "#f0f921"
             ]
            ],
            "type": "histogram2d"
           }
          ],
          "histogram2dcontour": [
           {
            "colorbar": {
             "outlinewidth": 0,
             "ticks": ""
            },
            "colorscale": [
             [
              0,
              "#0d0887"
             ],
             [
              0.1111111111111111,
              "#46039f"
             ],
             [
              0.2222222222222222,
              "#7201a8"
             ],
             [
              0.3333333333333333,
              "#9c179e"
             ],
             [
              0.4444444444444444,
              "#bd3786"
             ],
             [
              0.5555555555555556,
              "#d8576b"
             ],
             [
              0.6666666666666666,
              "#ed7953"
             ],
             [
              0.7777777777777778,
              "#fb9f3a"
             ],
             [
              0.8888888888888888,
              "#fdca26"
             ],
             [
              1,
              "#f0f921"
             ]
            ],
            "type": "histogram2dcontour"
           }
          ],
          "mesh3d": [
           {
            "colorbar": {
             "outlinewidth": 0,
             "ticks": ""
            },
            "type": "mesh3d"
           }
          ],
          "parcoords": [
           {
            "line": {
             "colorbar": {
              "outlinewidth": 0,
              "ticks": ""
             }
            },
            "type": "parcoords"
           }
          ],
          "pie": [
           {
            "automargin": true,
            "type": "pie"
           }
          ],
          "scatter": [
           {
            "fillpattern": {
             "fillmode": "overlay",
             "size": 10,
             "solidity": 0.2
            },
            "type": "scatter"
           }
          ],
          "scatter3d": [
           {
            "line": {
             "colorbar": {
              "outlinewidth": 0,
              "ticks": ""
             }
            },
            "marker": {
             "colorbar": {
              "outlinewidth": 0,
              "ticks": ""
             }
            },
            "type": "scatter3d"
           }
          ],
          "scattercarpet": [
           {
            "marker": {
             "colorbar": {
              "outlinewidth": 0,
              "ticks": ""
             }
            },
            "type": "scattercarpet"
           }
          ],
          "scattergeo": [
           {
            "marker": {
             "colorbar": {
              "outlinewidth": 0,
              "ticks": ""
             }
            },
            "type": "scattergeo"
           }
          ],
          "scattergl": [
           {
            "marker": {
             "colorbar": {
              "outlinewidth": 0,
              "ticks": ""
             }
            },
            "type": "scattergl"
           }
          ],
          "scattermap": [
           {
            "marker": {
             "colorbar": {
              "outlinewidth": 0,
              "ticks": ""
             }
            },
            "type": "scattermap"
           }
          ],
          "scattermapbox": [
           {
            "marker": {
             "colorbar": {
              "outlinewidth": 0,
              "ticks": ""
             }
            },
            "type": "scattermapbox"
           }
          ],
          "scatterpolar": [
           {
            "marker": {
             "colorbar": {
              "outlinewidth": 0,
              "ticks": ""
             }
            },
            "type": "scatterpolar"
           }
          ],
          "scatterpolargl": [
           {
            "marker": {
             "colorbar": {
              "outlinewidth": 0,
              "ticks": ""
             }
            },
            "type": "scatterpolargl"
           }
          ],
          "scatterternary": [
           {
            "marker": {
             "colorbar": {
              "outlinewidth": 0,
              "ticks": ""
             }
            },
            "type": "scatterternary"
           }
          ],
          "surface": [
           {
            "colorbar": {
             "outlinewidth": 0,
             "ticks": ""
            },
            "colorscale": [
             [
              0,
              "#0d0887"
             ],
             [
              0.1111111111111111,
              "#46039f"
             ],
             [
              0.2222222222222222,
              "#7201a8"
             ],
             [
              0.3333333333333333,
              "#9c179e"
             ],
             [
              0.4444444444444444,
              "#bd3786"
             ],
             [
              0.5555555555555556,
              "#d8576b"
             ],
             [
              0.6666666666666666,
              "#ed7953"
             ],
             [
              0.7777777777777778,
              "#fb9f3a"
             ],
             [
              0.8888888888888888,
              "#fdca26"
             ],
             [
              1,
              "#f0f921"
             ]
            ],
            "type": "surface"
           }
          ],
          "table": [
           {
            "cells": {
             "fill": {
              "color": "#EBF0F8"
             },
             "line": {
              "color": "white"
             }
            },
            "header": {
             "fill": {
              "color": "#C8D4E3"
             },
             "line": {
              "color": "white"
             }
            },
            "type": "table"
           }
          ]
         },
         "layout": {
          "annotationdefaults": {
           "arrowcolor": "#2a3f5f",
           "arrowhead": 0,
           "arrowwidth": 1
          },
          "autotypenumbers": "strict",
          "coloraxis": {
           "colorbar": {
            "outlinewidth": 0,
            "ticks": ""
           }
          },
          "colorscale": {
           "diverging": [
            [
             0,
             "#8e0152"
            ],
            [
             0.1,
             "#c51b7d"
            ],
            [
             0.2,
             "#de77ae"
            ],
            [
             0.3,
             "#f1b6da"
            ],
            [
             0.4,
             "#fde0ef"
            ],
            [
             0.5,
             "#f7f7f7"
            ],
            [
             0.6,
             "#e6f5d0"
            ],
            [
             0.7,
             "#b8e186"
            ],
            [
             0.8,
             "#7fbc41"
            ],
            [
             0.9,
             "#4d9221"
            ],
            [
             1,
             "#276419"
            ]
           ],
           "sequential": [
            [
             0,
             "#0d0887"
            ],
            [
             0.1111111111111111,
             "#46039f"
            ],
            [
             0.2222222222222222,
             "#7201a8"
            ],
            [
             0.3333333333333333,
             "#9c179e"
            ],
            [
             0.4444444444444444,
             "#bd3786"
            ],
            [
             0.5555555555555556,
             "#d8576b"
            ],
            [
             0.6666666666666666,
             "#ed7953"
            ],
            [
             0.7777777777777778,
             "#fb9f3a"
            ],
            [
             0.8888888888888888,
             "#fdca26"
            ],
            [
             1,
             "#f0f921"
            ]
           ],
           "sequentialminus": [
            [
             0,
             "#0d0887"
            ],
            [
             0.1111111111111111,
             "#46039f"
            ],
            [
             0.2222222222222222,
             "#7201a8"
            ],
            [
             0.3333333333333333,
             "#9c179e"
            ],
            [
             0.4444444444444444,
             "#bd3786"
            ],
            [
             0.5555555555555556,
             "#d8576b"
            ],
            [
             0.6666666666666666,
             "#ed7953"
            ],
            [
             0.7777777777777778,
             "#fb9f3a"
            ],
            [
             0.8888888888888888,
             "#fdca26"
            ],
            [
             1,
             "#f0f921"
            ]
           ]
          },
          "colorway": [
           "#636efa",
           "#EF553B",
           "#00cc96",
           "#ab63fa",
           "#FFA15A",
           "#19d3f3",
           "#FF6692",
           "#B6E880",
           "#FF97FF",
           "#FECB52"
          ],
          "font": {
           "color": "#2a3f5f"
          },
          "geo": {
           "bgcolor": "white",
           "lakecolor": "white",
           "landcolor": "#E5ECF6",
           "showlakes": true,
           "showland": true,
           "subunitcolor": "white"
          },
          "hoverlabel": {
           "align": "left"
          },
          "hovermode": "closest",
          "mapbox": {
           "style": "light"
          },
          "paper_bgcolor": "white",
          "plot_bgcolor": "#E5ECF6",
          "polar": {
           "angularaxis": {
            "gridcolor": "white",
            "linecolor": "white",
            "ticks": ""
           },
           "bgcolor": "#E5ECF6",
           "radialaxis": {
            "gridcolor": "white",
            "linecolor": "white",
            "ticks": ""
           }
          },
          "scene": {
           "xaxis": {
            "backgroundcolor": "#E5ECF6",
            "gridcolor": "white",
            "gridwidth": 2,
            "linecolor": "white",
            "showbackground": true,
            "ticks": "",
            "zerolinecolor": "white"
           },
           "yaxis": {
            "backgroundcolor": "#E5ECF6",
            "gridcolor": "white",
            "gridwidth": 2,
            "linecolor": "white",
            "showbackground": true,
            "ticks": "",
            "zerolinecolor": "white"
           },
           "zaxis": {
            "backgroundcolor": "#E5ECF6",
            "gridcolor": "white",
            "gridwidth": 2,
            "linecolor": "white",
            "showbackground": true,
            "ticks": "",
            "zerolinecolor": "white"
           }
          },
          "shapedefaults": {
           "line": {
            "color": "#2a3f5f"
           }
          },
          "ternary": {
           "aaxis": {
            "gridcolor": "white",
            "linecolor": "white",
            "ticks": ""
           },
           "baxis": {
            "gridcolor": "white",
            "linecolor": "white",
            "ticks": ""
           },
           "bgcolor": "#E5ECF6",
           "caxis": {
            "gridcolor": "white",
            "linecolor": "white",
            "ticks": ""
           }
          },
          "title": {
           "x": 0.05
          },
          "xaxis": {
           "automargin": true,
           "gridcolor": "white",
           "linecolor": "white",
           "ticks": "",
           "title": {
            "standoff": 15
           },
           "zerolinecolor": "white",
           "zerolinewidth": 2
          },
          "yaxis": {
           "automargin": true,
           "gridcolor": "white",
           "linecolor": "white",
           "ticks": "",
           "title": {
            "standoff": 15
           },
           "zerolinecolor": "white",
           "zerolinewidth": 2
          }
         }
        },
        "title": {
         "text": "Accumulierte Verteilung von Liedzitaten in 25-Jahr Intervallen"
        },
        "width": 1000,
        "xaxis": {
         "anchor": "y",
         "domain": [
          0,
          1
         ]
        },
        "xaxis2": {
         "anchor": "y2",
         "domain": [
          0,
          1
         ]
        },
        "xaxis3": {
         "anchor": "y3",
         "domain": [
          0,
          1
         ]
        },
        "xaxis4": {
         "anchor": "y4",
         "domain": [
          0,
          1
         ]
        },
        "xaxis5": {
         "anchor": "y5",
         "domain": [
          0,
          1
         ]
        },
        "xaxis6": {
         "anchor": "y6",
         "domain": [
          0,
          1
         ]
        },
        "xaxis7": {
         "anchor": "y7",
         "domain": [
          0,
          1
         ]
        },
        "xaxis8": {
         "anchor": "y8",
         "domain": [
          0,
          1
         ]
        },
        "yaxis": {
         "anchor": "x",
         "domain": [
          0.9296875,
          1
         ]
        },
        "yaxis2": {
         "anchor": "x2",
         "domain": [
          0.796875,
          0.8671875
         ]
        },
        "yaxis3": {
         "anchor": "x3",
         "domain": [
          0.6640625,
          0.734375
         ]
        },
        "yaxis4": {
         "anchor": "x4",
         "domain": [
          0.53125,
          0.6015625
         ]
        },
        "yaxis5": {
         "anchor": "x5",
         "domain": [
          0.3984375,
          0.46875
         ]
        },
        "yaxis6": {
         "anchor": "x6",
         "domain": [
          0.265625,
          0.3359375
         ]
        },
        "yaxis7": {
         "anchor": "x7",
         "domain": [
          0.1328125,
          0.203125
         ]
        },
        "yaxis8": {
         "anchor": "x8",
         "domain": [
          0,
          0.0703125
         ]
        }
       }
      }
     },
     "metadata": {},
     "output_type": "display_data"
    }
   ],
   "source": [
    "# Create subplots\n",
    "fig = make_subplots(rows=len(figs_25), \n",
    "                    cols=1, \n",
    "                    subplot_titles=[f\"Liedverteilung in Predigten zwischen {1600 + (i*25)} und {1600+(i*25)+25} ({len(sermons_grouped_25[i])} Predigten)\" for i in range(len(figs_25))])\n",
    "\n",
    "# Add traces from each figure to the subplots\n",
    "for i, fig_item in enumerate(figs_25):\n",
    "    for trace in fig_item.data:\n",
    "        fig.add_trace(trace, row=i+1, col=1)\n",
    "\n",
    "# Update layout\n",
    "fig.update_layout(height=1200, width=1000, showlegend = False)\n",
    "fig.update_layout(title_text=\"Accumulierte Verteilung von Liedzitaten in 25-Jahr Intervallen\")\n",
    "\n",
    "# Show the figure\n",
    "fig.show()"
   ]
  },
  {
   "cell_type": "code",
   "execution_count": 9,
   "id": "09645996",
   "metadata": {},
   "outputs": [],
   "source": [
    "figs_50 = []\n",
    "for i in range(len(sermons_grouped_50)):\n",
    "    figs_50.append(create_quote_dist_chart(sermons_grouped_50[i], \"musikwerk\"))"
   ]
  },
  {
   "cell_type": "code",
   "execution_count": 41,
   "id": "55cbb05f",
   "metadata": {},
   "outputs": [
    {
     "data": {
      "application/vnd.plotly.v1+json": {
       "config": {
        "plotlyServerURL": "https://plot.ly"
       },
       "data": [
        {
         "hovertext": "0 Liedzitate im 1%",
         "marker": {
          "color": "rgb(250,250,250)"
         },
         "type": "bar",
         "x": [
          "Liedzitate je Predigtprozent"
         ],
         "xaxis": "x",
         "y": [
          100
         ],
         "yaxis": "y"
        },
        {
         "hovertext": "0 Liedzitate im 2%",
         "marker": {
          "color": "rgb(250,250,250)"
         },
         "type": "bar",
         "x": [
          "Liedzitate je Predigtprozent"
         ],
         "xaxis": "x",
         "y": [
          100
         ],
         "yaxis": "y"
        },
        {
         "hovertext": "1 Liedzitate im 3%<br>Musica ecclesiastica (Stettin 1628)<br>",
         "marker": {
          "color": "rgb(235,235,235)"
         },
         "type": "bar",
         "x": [
          "Liedzitate je Predigtprozent"
         ],
         "xaxis": "x",
         "y": [
          100
         ],
         "yaxis": "y"
        },
        {
         "hovertext": "1 Liedzitate im 4%<br>Musica ecclesiastica (Stettin 1628)<br>",
         "marker": {
          "color": "rgb(235,235,235)"
         },
         "type": "bar",
         "x": [
          "Liedzitate je Predigtprozent"
         ],
         "xaxis": "x",
         "y": [
          100
         ],
         "yaxis": "y"
        },
        {
         "hovertext": "0 Liedzitate im 5%",
         "marker": {
          "color": "rgb(250,250,250)"
         },
         "type": "bar",
         "x": [
          "Liedzitate je Predigtprozent"
         ],
         "xaxis": "x",
         "y": [
          100
         ],
         "yaxis": "y"
        },
        {
         "hovertext": "0 Liedzitate im 6%",
         "marker": {
          "color": "rgb(250,250,250)"
         },
         "type": "bar",
         "x": [
          "Liedzitate je Predigtprozent"
         ],
         "xaxis": "x",
         "y": [
          100
         ],
         "yaxis": "y"
        },
        {
         "hovertext": "0 Liedzitate im 7%",
         "marker": {
          "color": "rgb(250,250,250)"
         },
         "type": "bar",
         "x": [
          "Liedzitate je Predigtprozent"
         ],
         "xaxis": "x",
         "y": [
          100
         ],
         "yaxis": "y"
        },
        {
         "hovertext": "0 Liedzitate im 8%",
         "marker": {
          "color": "rgb(250,250,250)"
         },
         "type": "bar",
         "x": [
          "Liedzitate je Predigtprozent"
         ],
         "xaxis": "x",
         "y": [
          100
         ],
         "yaxis": "y"
        },
        {
         "hovertext": "0 Liedzitate im 9%",
         "marker": {
          "color": "rgb(250,250,250)"
         },
         "type": "bar",
         "x": [
          "Liedzitate je Predigtprozent"
         ],
         "xaxis": "x",
         "y": [
          100
         ],
         "yaxis": "y"
        },
        {
         "hovertext": "0 Liedzitate im 10%",
         "marker": {
          "color": "rgb(250,250,250)"
         },
         "type": "bar",
         "x": [
          "Liedzitate je Predigtprozent"
         ],
         "xaxis": "x",
         "y": [
          100
         ],
         "yaxis": "y"
        },
        {
         "hovertext": "0 Liedzitate im 11%",
         "marker": {
          "color": "rgb(250,250,250)"
         },
         "type": "bar",
         "x": [
          "Liedzitate je Predigtprozent"
         ],
         "xaxis": "x",
         "y": [
          100
         ],
         "yaxis": "y"
        },
        {
         "hovertext": "0 Liedzitate im 12%",
         "marker": {
          "color": "rgb(250,250,250)"
         },
         "type": "bar",
         "x": [
          "Liedzitate je Predigtprozent"
         ],
         "xaxis": "x",
         "y": [
          100
         ],
         "yaxis": "y"
        },
        {
         "hovertext": "0 Liedzitate im 13%",
         "marker": {
          "color": "rgb(250,250,250)"
         },
         "type": "bar",
         "x": [
          "Liedzitate je Predigtprozent"
         ],
         "xaxis": "x",
         "y": [
          100
         ],
         "yaxis": "y"
        },
        {
         "hovertext": "1 Liedzitate im 14%<br>Längst=gewüntzschte Mittweidische Orgel=Freude (Dresden 1648)<br>",
         "marker": {
          "color": "rgb(235,235,235)"
         },
         "type": "bar",
         "x": [
          "Liedzitate je Predigtprozent"
         ],
         "xaxis": "x",
         "y": [
          100
         ],
         "yaxis": "y"
        },
        {
         "hovertext": "1 Liedzitate im 15%<br>Längst=gewüntzschte Mittweidische Orgel=Freude (Dresden 1648)<br>",
         "marker": {
          "color": "rgb(235,235,235)"
         },
         "type": "bar",
         "x": [
          "Liedzitate je Predigtprozent"
         ],
         "xaxis": "x",
         "y": [
          100
         ],
         "yaxis": "y"
        },
        {
         "hovertext": "1 Liedzitate im 16%<br>Längst=gewüntzschte Mittweidische Orgel=Freude (Dresden 1648)<br>",
         "marker": {
          "color": "rgb(235,235,235)"
         },
         "type": "bar",
         "x": [
          "Liedzitate je Predigtprozent"
         ],
         "xaxis": "x",
         "y": [
          100
         ],
         "yaxis": "y"
        },
        {
         "hovertext": "0 Liedzitate im 17%",
         "marker": {
          "color": "rgb(250,250,250)"
         },
         "type": "bar",
         "x": [
          "Liedzitate je Predigtprozent"
         ],
         "xaxis": "x",
         "y": [
          100
         ],
         "yaxis": "y"
        },
        {
         "hovertext": "0 Liedzitate im 18%",
         "marker": {
          "color": "rgb(250,250,250)"
         },
         "type": "bar",
         "x": [
          "Liedzitate je Predigtprozent"
         ],
         "xaxis": "x",
         "y": [
          100
         ],
         "yaxis": "y"
        },
        {
         "hovertext": "0 Liedzitate im 19%",
         "marker": {
          "color": "rgb(250,250,250)"
         },
         "type": "bar",
         "x": [
          "Liedzitate je Predigtprozent"
         ],
         "xaxis": "x",
         "y": [
          100
         ],
         "yaxis": "y"
        },
        {
         "hovertext": "0 Liedzitate im 20%",
         "marker": {
          "color": "rgb(250,250,250)"
         },
         "type": "bar",
         "x": [
          "Liedzitate je Predigtprozent"
         ],
         "xaxis": "x",
         "y": [
          100
         ],
         "yaxis": "y"
        },
        {
         "hovertext": "0 Liedzitate im 21%",
         "marker": {
          "color": "rgb(250,250,250)"
         },
         "type": "bar",
         "x": [
          "Liedzitate je Predigtprozent"
         ],
         "xaxis": "x",
         "y": [
          100
         ],
         "yaxis": "y"
        },
        {
         "hovertext": "0 Liedzitate im 22%",
         "marker": {
          "color": "rgb(250,250,250)"
         },
         "type": "bar",
         "x": [
          "Liedzitate je Predigtprozent"
         ],
         "xaxis": "x",
         "y": [
          100
         ],
         "yaxis": "y"
        },
        {
         "hovertext": "0 Liedzitate im 23%",
         "marker": {
          "color": "rgb(250,250,250)"
         },
         "type": "bar",
         "x": [
          "Liedzitate je Predigtprozent"
         ],
         "xaxis": "x",
         "y": [
          100
         ],
         "yaxis": "y"
        },
        {
         "hovertext": "0 Liedzitate im 24%",
         "marker": {
          "color": "rgb(250,250,250)"
         },
         "type": "bar",
         "x": [
          "Liedzitate je Predigtprozent"
         ],
         "xaxis": "x",
         "y": [
          100
         ],
         "yaxis": "y"
        },
        {
         "hovertext": "0 Liedzitate im 25%",
         "marker": {
          "color": "rgb(250,250,250)"
         },
         "type": "bar",
         "x": [
          "Liedzitate je Predigtprozent"
         ],
         "xaxis": "x",
         "y": [
          100
         ],
         "yaxis": "y"
        },
        {
         "hovertext": "0 Liedzitate im 26%",
         "marker": {
          "color": "rgb(250,250,250)"
         },
         "type": "bar",
         "x": [
          "Liedzitate je Predigtprozent"
         ],
         "xaxis": "x",
         "y": [
          100
         ],
         "yaxis": "y"
        },
        {
         "hovertext": "0 Liedzitate im 27%",
         "marker": {
          "color": "rgb(250,250,250)"
         },
         "type": "bar",
         "x": [
          "Liedzitate je Predigtprozent"
         ],
         "xaxis": "x",
         "y": [
          100
         ],
         "yaxis": "y"
        },
        {
         "hovertext": "0 Liedzitate im 28%",
         "marker": {
          "color": "rgb(250,250,250)"
         },
         "type": "bar",
         "x": [
          "Liedzitate je Predigtprozent"
         ],
         "xaxis": "x",
         "y": [
          100
         ],
         "yaxis": "y"
        },
        {
         "hovertext": "0 Liedzitate im 29%",
         "marker": {
          "color": "rgb(250,250,250)"
         },
         "type": "bar",
         "x": [
          "Liedzitate je Predigtprozent"
         ],
         "xaxis": "x",
         "y": [
          100
         ],
         "yaxis": "y"
        },
        {
         "hovertext": "0 Liedzitate im 30%",
         "marker": {
          "color": "rgb(250,250,250)"
         },
         "type": "bar",
         "x": [
          "Liedzitate je Predigtprozent"
         ],
         "xaxis": "x",
         "y": [
          100
         ],
         "yaxis": "y"
        },
        {
         "hovertext": "0 Liedzitate im 31%",
         "marker": {
          "color": "rgb(250,250,250)"
         },
         "type": "bar",
         "x": [
          "Liedzitate je Predigtprozent"
         ],
         "xaxis": "x",
         "y": [
          100
         ],
         "yaxis": "y"
        },
        {
         "hovertext": "0 Liedzitate im 32%",
         "marker": {
          "color": "rgb(250,250,250)"
         },
         "type": "bar",
         "x": [
          "Liedzitate je Predigtprozent"
         ],
         "xaxis": "x",
         "y": [
          100
         ],
         "yaxis": "y"
        },
        {
         "hovertext": "0 Liedzitate im 33%",
         "marker": {
          "color": "rgb(250,250,250)"
         },
         "type": "bar",
         "x": [
          "Liedzitate je Predigtprozent"
         ],
         "xaxis": "x",
         "y": [
          100
         ],
         "yaxis": "y"
        },
        {
         "hovertext": "0 Liedzitate im 34%",
         "marker": {
          "color": "rgb(250,250,250)"
         },
         "type": "bar",
         "x": [
          "Liedzitate je Predigtprozent"
         ],
         "xaxis": "x",
         "y": [
          100
         ],
         "yaxis": "y"
        },
        {
         "hovertext": "0 Liedzitate im 35%",
         "marker": {
          "color": "rgb(250,250,250)"
         },
         "type": "bar",
         "x": [
          "Liedzitate je Predigtprozent"
         ],
         "xaxis": "x",
         "y": [
          100
         ],
         "yaxis": "y"
        },
        {
         "hovertext": "0 Liedzitate im 36%",
         "marker": {
          "color": "rgb(250,250,250)"
         },
         "type": "bar",
         "x": [
          "Liedzitate je Predigtprozent"
         ],
         "xaxis": "x",
         "y": [
          100
         ],
         "yaxis": "y"
        },
        {
         "hovertext": "0 Liedzitate im 37%",
         "marker": {
          "color": "rgb(250,250,250)"
         },
         "type": "bar",
         "x": [
          "Liedzitate je Predigtprozent"
         ],
         "xaxis": "x",
         "y": [
          100
         ],
         "yaxis": "y"
        },
        {
         "hovertext": "0 Liedzitate im 38%",
         "marker": {
          "color": "rgb(250,250,250)"
         },
         "type": "bar",
         "x": [
          "Liedzitate je Predigtprozent"
         ],
         "xaxis": "x",
         "y": [
          100
         ],
         "yaxis": "y"
        },
        {
         "hovertext": "0 Liedzitate im 39%",
         "marker": {
          "color": "rgb(250,250,250)"
         },
         "type": "bar",
         "x": [
          "Liedzitate je Predigtprozent"
         ],
         "xaxis": "x",
         "y": [
          100
         ],
         "yaxis": "y"
        },
        {
         "hovertext": "0 Liedzitate im 40%",
         "marker": {
          "color": "rgb(250,250,250)"
         },
         "type": "bar",
         "x": [
          "Liedzitate je Predigtprozent"
         ],
         "xaxis": "x",
         "y": [
          100
         ],
         "yaxis": "y"
        },
        {
         "hovertext": "0 Liedzitate im 41%",
         "marker": {
          "color": "rgb(250,250,250)"
         },
         "type": "bar",
         "x": [
          "Liedzitate je Predigtprozent"
         ],
         "xaxis": "x",
         "y": [
          100
         ],
         "yaxis": "y"
        },
        {
         "hovertext": "0 Liedzitate im 42%",
         "marker": {
          "color": "rgb(250,250,250)"
         },
         "type": "bar",
         "x": [
          "Liedzitate je Predigtprozent"
         ],
         "xaxis": "x",
         "y": [
          100
         ],
         "yaxis": "y"
        },
        {
         "hovertext": "0 Liedzitate im 43%",
         "marker": {
          "color": "rgb(250,250,250)"
         },
         "type": "bar",
         "x": [
          "Liedzitate je Predigtprozent"
         ],
         "xaxis": "x",
         "y": [
          100
         ],
         "yaxis": "y"
        },
        {
         "hovertext": "0 Liedzitate im 44%",
         "marker": {
          "color": "rgb(250,250,250)"
         },
         "type": "bar",
         "x": [
          "Liedzitate je Predigtprozent"
         ],
         "xaxis": "x",
         "y": [
          100
         ],
         "yaxis": "y"
        },
        {
         "hovertext": "0 Liedzitate im 45%",
         "marker": {
          "color": "rgb(250,250,250)"
         },
         "type": "bar",
         "x": [
          "Liedzitate je Predigtprozent"
         ],
         "xaxis": "x",
         "y": [
          100
         ],
         "yaxis": "y"
        },
        {
         "hovertext": "0 Liedzitate im 46%",
         "marker": {
          "color": "rgb(250,250,250)"
         },
         "type": "bar",
         "x": [
          "Liedzitate je Predigtprozent"
         ],
         "xaxis": "x",
         "y": [
          100
         ],
         "yaxis": "y"
        },
        {
         "hovertext": "0 Liedzitate im 47%",
         "marker": {
          "color": "rgb(250,250,250)"
         },
         "type": "bar",
         "x": [
          "Liedzitate je Predigtprozent"
         ],
         "xaxis": "x",
         "y": [
          100
         ],
         "yaxis": "y"
        },
        {
         "hovertext": "0 Liedzitate im 48%",
         "marker": {
          "color": "rgb(250,250,250)"
         },
         "type": "bar",
         "x": [
          "Liedzitate je Predigtprozent"
         ],
         "xaxis": "x",
         "y": [
          100
         ],
         "yaxis": "y"
        },
        {
         "hovertext": "0 Liedzitate im 49%",
         "marker": {
          "color": "rgb(250,250,250)"
         },
         "type": "bar",
         "x": [
          "Liedzitate je Predigtprozent"
         ],
         "xaxis": "x",
         "y": [
          100
         ],
         "yaxis": "y"
        },
        {
         "hovertext": "0 Liedzitate im 50%",
         "marker": {
          "color": "rgb(250,250,250)"
         },
         "type": "bar",
         "x": [
          "Liedzitate je Predigtprozent"
         ],
         "xaxis": "x",
         "y": [
          100
         ],
         "yaxis": "y"
        },
        {
         "hovertext": "0 Liedzitate im 51%",
         "marker": {
          "color": "rgb(250,250,250)"
         },
         "type": "bar",
         "x": [
          "Liedzitate je Predigtprozent"
         ],
         "xaxis": "x",
         "y": [
          100
         ],
         "yaxis": "y"
        },
        {
         "hovertext": "0 Liedzitate im 52%",
         "marker": {
          "color": "rgb(250,250,250)"
         },
         "type": "bar",
         "x": [
          "Liedzitate je Predigtprozent"
         ],
         "xaxis": "x",
         "y": [
          100
         ],
         "yaxis": "y"
        },
        {
         "hovertext": "0 Liedzitate im 53%",
         "marker": {
          "color": "rgb(250,250,250)"
         },
         "type": "bar",
         "x": [
          "Liedzitate je Predigtprozent"
         ],
         "xaxis": "x",
         "y": [
          100
         ],
         "yaxis": "y"
        },
        {
         "hovertext": "0 Liedzitate im 54%",
         "marker": {
          "color": "rgb(250,250,250)"
         },
         "type": "bar",
         "x": [
          "Liedzitate je Predigtprozent"
         ],
         "xaxis": "x",
         "y": [
          100
         ],
         "yaxis": "y"
        },
        {
         "hovertext": "0 Liedzitate im 55%",
         "marker": {
          "color": "rgb(250,250,250)"
         },
         "type": "bar",
         "x": [
          "Liedzitate je Predigtprozent"
         ],
         "xaxis": "x",
         "y": [
          100
         ],
         "yaxis": "y"
        },
        {
         "hovertext": "1 Liedzitate im 56%<br>Kostbare Bosische Orgel (Zwickau 1647)<br>",
         "marker": {
          "color": "rgb(235,235,235)"
         },
         "type": "bar",
         "x": [
          "Liedzitate je Predigtprozent"
         ],
         "xaxis": "x",
         "y": [
          100
         ],
         "yaxis": "y"
        },
        {
         "hovertext": "1 Liedzitate im 57%<br>Christliche Predigt (Tübingen 1606)<br>",
         "marker": {
          "color": "rgb(235,235,235)"
         },
         "type": "bar",
         "x": [
          "Liedzitate je Predigtprozent"
         ],
         "xaxis": "x",
         "y": [
          100
         ],
         "yaxis": "y"
        },
        {
         "hovertext": "0 Liedzitate im 58%",
         "marker": {
          "color": "rgb(250,250,250)"
         },
         "type": "bar",
         "x": [
          "Liedzitate je Predigtprozent"
         ],
         "xaxis": "x",
         "y": [
          100
         ],
         "yaxis": "y"
        },
        {
         "hovertext": "0 Liedzitate im 59%",
         "marker": {
          "color": "rgb(250,250,250)"
         },
         "type": "bar",
         "x": [
          "Liedzitate je Predigtprozent"
         ],
         "xaxis": "x",
         "y": [
          100
         ],
         "yaxis": "y"
        },
        {
         "hovertext": "0 Liedzitate im 60%",
         "marker": {
          "color": "rgb(250,250,250)"
         },
         "type": "bar",
         "x": [
          "Liedzitate je Predigtprozent"
         ],
         "xaxis": "x",
         "y": [
          100
         ],
         "yaxis": "y"
        },
        {
         "hovertext": "0 Liedzitate im 61%",
         "marker": {
          "color": "rgb(250,250,250)"
         },
         "type": "bar",
         "x": [
          "Liedzitate je Predigtprozent"
         ],
         "xaxis": "x",
         "y": [
          100
         ],
         "yaxis": "y"
        },
        {
         "hovertext": "0 Liedzitate im 62%",
         "marker": {
          "color": "rgb(250,250,250)"
         },
         "type": "bar",
         "x": [
          "Liedzitate je Predigtprozent"
         ],
         "xaxis": "x",
         "y": [
          100
         ],
         "yaxis": "y"
        },
        {
         "hovertext": "1 Liedzitate im 63%<br>Kostbare Bosische Orgel (Zwickau 1647)<br>",
         "marker": {
          "color": "rgb(235,235,235)"
         },
         "type": "bar",
         "x": [
          "Liedzitate je Predigtprozent"
         ],
         "xaxis": "x",
         "y": [
          100
         ],
         "yaxis": "y"
        },
        {
         "hovertext": "1 Liedzitate im 64%<br>Längst=gewüntzschte Mittweidische Orgel=Freude (Dresden 1648)<br>",
         "marker": {
          "color": "rgb(235,235,235)"
         },
         "type": "bar",
         "x": [
          "Liedzitate je Predigtprozent"
         ],
         "xaxis": "x",
         "y": [
          100
         ],
         "yaxis": "y"
        },
        {
         "hovertext": "2 Liedzitate im 65%<br>Christliche Predigt (Tübingen 1606)<br>Kostbare Bosische Orgel (Zwickau 1647)<br>",
         "marker": {
          "color": "rgb(220,220,220)"
         },
         "type": "bar",
         "x": [
          "Liedzitate je Predigtprozent"
         ],
         "xaxis": "x",
         "y": [
          100
         ],
         "yaxis": "y"
        },
        {
         "hovertext": "1 Liedzitate im 66%<br>Kostbare Bosische Orgel (Zwickau 1647)<br>",
         "marker": {
          "color": "rgb(235,235,235)"
         },
         "type": "bar",
         "x": [
          "Liedzitate je Predigtprozent"
         ],
         "xaxis": "x",
         "y": [
          100
         ],
         "yaxis": "y"
        },
        {
         "hovertext": "1 Liedzitate im 67%<br>Elogium Organi Musici (Altenburg 1610)<br>",
         "marker": {
          "color": "rgb(235,235,235)"
         },
         "type": "bar",
         "x": [
          "Liedzitate je Predigtprozent"
         ],
         "xaxis": "x",
         "y": [
          100
         ],
         "yaxis": "y"
        },
        {
         "hovertext": "0 Liedzitate im 68%",
         "marker": {
          "color": "rgb(250,250,250)"
         },
         "type": "bar",
         "x": [
          "Liedzitate je Predigtprozent"
         ],
         "xaxis": "x",
         "y": [
          100
         ],
         "yaxis": "y"
        },
        {
         "hovertext": "0 Liedzitate im 69%",
         "marker": {
          "color": "rgb(250,250,250)"
         },
         "type": "bar",
         "x": [
          "Liedzitate je Predigtprozent"
         ],
         "xaxis": "x",
         "y": [
          100
         ],
         "yaxis": "y"
        },
        {
         "hovertext": "0 Liedzitate im 70%",
         "marker": {
          "color": "rgb(250,250,250)"
         },
         "type": "bar",
         "x": [
          "Liedzitate je Predigtprozent"
         ],
         "xaxis": "x",
         "y": [
          100
         ],
         "yaxis": "y"
        },
        {
         "hovertext": "0 Liedzitate im 71%",
         "marker": {
          "color": "rgb(250,250,250)"
         },
         "type": "bar",
         "x": [
          "Liedzitate je Predigtprozent"
         ],
         "xaxis": "x",
         "y": [
          100
         ],
         "yaxis": "y"
        },
        {
         "hovertext": "0 Liedzitate im 72%",
         "marker": {
          "color": "rgb(250,250,250)"
         },
         "type": "bar",
         "x": [
          "Liedzitate je Predigtprozent"
         ],
         "xaxis": "x",
         "y": [
          100
         ],
         "yaxis": "y"
        },
        {
         "hovertext": "0 Liedzitate im 73%",
         "marker": {
          "color": "rgb(250,250,250)"
         },
         "type": "bar",
         "x": [
          "Liedzitate je Predigtprozent"
         ],
         "xaxis": "x",
         "y": [
          100
         ],
         "yaxis": "y"
        },
        {
         "hovertext": "0 Liedzitate im 74%",
         "marker": {
          "color": "rgb(250,250,250)"
         },
         "type": "bar",
         "x": [
          "Liedzitate je Predigtprozent"
         ],
         "xaxis": "x",
         "y": [
          100
         ],
         "yaxis": "y"
        },
        {
         "hovertext": "0 Liedzitate im 75%",
         "marker": {
          "color": "rgb(250,250,250)"
         },
         "type": "bar",
         "x": [
          "Liedzitate je Predigtprozent"
         ],
         "xaxis": "x",
         "y": [
          100
         ],
         "yaxis": "y"
        },
        {
         "hovertext": "1 Liedzitate im 76%<br>Christliche Predigt (Tübingen 1606)<br>",
         "marker": {
          "color": "rgb(235,235,235)"
         },
         "type": "bar",
         "x": [
          "Liedzitate je Predigtprozent"
         ],
         "xaxis": "x",
         "y": [
          100
         ],
         "yaxis": "y"
        },
        {
         "hovertext": "0 Liedzitate im 77%",
         "marker": {
          "color": "rgb(250,250,250)"
         },
         "type": "bar",
         "x": [
          "Liedzitate je Predigtprozent"
         ],
         "xaxis": "x",
         "y": [
          100
         ],
         "yaxis": "y"
        },
        {
         "hovertext": "0 Liedzitate im 78%",
         "marker": {
          "color": "rgb(250,250,250)"
         },
         "type": "bar",
         "x": [
          "Liedzitate je Predigtprozent"
         ],
         "xaxis": "x",
         "y": [
          100
         ],
         "yaxis": "y"
        },
        {
         "hovertext": "0 Liedzitate im 79%",
         "marker": {
          "color": "rgb(250,250,250)"
         },
         "type": "bar",
         "x": [
          "Liedzitate je Predigtprozent"
         ],
         "xaxis": "x",
         "y": [
          100
         ],
         "yaxis": "y"
        },
        {
         "hovertext": "0 Liedzitate im 80%",
         "marker": {
          "color": "rgb(250,250,250)"
         },
         "type": "bar",
         "x": [
          "Liedzitate je Predigtprozent"
         ],
         "xaxis": "x",
         "y": [
          100
         ],
         "yaxis": "y"
        },
        {
         "hovertext": "0 Liedzitate im 81%",
         "marker": {
          "color": "rgb(250,250,250)"
         },
         "type": "bar",
         "x": [
          "Liedzitate je Predigtprozent"
         ],
         "xaxis": "x",
         "y": [
          100
         ],
         "yaxis": "y"
        },
        {
         "hovertext": "0 Liedzitate im 82%",
         "marker": {
          "color": "rgb(250,250,250)"
         },
         "type": "bar",
         "x": [
          "Liedzitate je Predigtprozent"
         ],
         "xaxis": "x",
         "y": [
          100
         ],
         "yaxis": "y"
        },
        {
         "hovertext": "0 Liedzitate im 83%",
         "marker": {
          "color": "rgb(250,250,250)"
         },
         "type": "bar",
         "x": [
          "Liedzitate je Predigtprozent"
         ],
         "xaxis": "x",
         "y": [
          100
         ],
         "yaxis": "y"
        },
        {
         "hovertext": "1 Liedzitate im 84%<br>Längst=gewüntzschte Mittweidische Orgel=Freude (Dresden 1648)<br>",
         "marker": {
          "color": "rgb(235,235,235)"
         },
         "type": "bar",
         "x": [
          "Liedzitate je Predigtprozent"
         ],
         "xaxis": "x",
         "y": [
          100
         ],
         "yaxis": "y"
        },
        {
         "hovertext": "0 Liedzitate im 85%",
         "marker": {
          "color": "rgb(250,250,250)"
         },
         "type": "bar",
         "x": [
          "Liedzitate je Predigtprozent"
         ],
         "xaxis": "x",
         "y": [
          100
         ],
         "yaxis": "y"
        },
        {
         "hovertext": "0 Liedzitate im 86%",
         "marker": {
          "color": "rgb(250,250,250)"
         },
         "type": "bar",
         "x": [
          "Liedzitate je Predigtprozent"
         ],
         "xaxis": "x",
         "y": [
          100
         ],
         "yaxis": "y"
        },
        {
         "hovertext": "0 Liedzitate im 87%",
         "marker": {
          "color": "rgb(250,250,250)"
         },
         "type": "bar",
         "x": [
          "Liedzitate je Predigtprozent"
         ],
         "xaxis": "x",
         "y": [
          100
         ],
         "yaxis": "y"
        },
        {
         "hovertext": "1 Liedzitate im 88%<br>Längst=gewüntzschte Mittweidische Orgel=Freude (Dresden 1648)<br>",
         "marker": {
          "color": "rgb(235,235,235)"
         },
         "type": "bar",
         "x": [
          "Liedzitate je Predigtprozent"
         ],
         "xaxis": "x",
         "y": [
          100
         ],
         "yaxis": "y"
        },
        {
         "hovertext": "0 Liedzitate im 89%",
         "marker": {
          "color": "rgb(250,250,250)"
         },
         "type": "bar",
         "x": [
          "Liedzitate je Predigtprozent"
         ],
         "xaxis": "x",
         "y": [
          100
         ],
         "yaxis": "y"
        },
        {
         "hovertext": "1 Liedzitate im 90%<br>Kostbare Bosische Orgel (Zwickau 1647)<br>",
         "marker": {
          "color": "rgb(235,235,235)"
         },
         "type": "bar",
         "x": [
          "Liedzitate je Predigtprozent"
         ],
         "xaxis": "x",
         "y": [
          100
         ],
         "yaxis": "y"
        },
        {
         "hovertext": "1 Liedzitate im 91%<br>Kostbare Bosische Orgel (Zwickau 1647)<br>",
         "marker": {
          "color": "rgb(235,235,235)"
         },
         "type": "bar",
         "x": [
          "Liedzitate je Predigtprozent"
         ],
         "xaxis": "x",
         "y": [
          100
         ],
         "yaxis": "y"
        },
        {
         "hovertext": "1 Liedzitate im 92%<br>Kostbare Bosische Orgel (Zwickau 1647)<br>",
         "marker": {
          "color": "rgb(235,235,235)"
         },
         "type": "bar",
         "x": [
          "Liedzitate je Predigtprozent"
         ],
         "xaxis": "x",
         "y": [
          100
         ],
         "yaxis": "y"
        },
        {
         "hovertext": "1 Liedzitate im 93%<br>Kostbare Bosische Orgel (Zwickau 1647)<br>",
         "marker": {
          "color": "rgb(235,235,235)"
         },
         "type": "bar",
         "x": [
          "Liedzitate je Predigtprozent"
         ],
         "xaxis": "x",
         "y": [
          100
         ],
         "yaxis": "y"
        },
        {
         "hovertext": "1 Liedzitate im 94%<br>Kostbare Bosische Orgel (Zwickau 1647)<br>",
         "marker": {
          "color": "rgb(235,235,235)"
         },
         "type": "bar",
         "x": [
          "Liedzitate je Predigtprozent"
         ],
         "xaxis": "x",
         "y": [
          100
         ],
         "yaxis": "y"
        },
        {
         "hovertext": "0 Liedzitate im 95%",
         "marker": {
          "color": "rgb(250,250,250)"
         },
         "type": "bar",
         "x": [
          "Liedzitate je Predigtprozent"
         ],
         "xaxis": "x",
         "y": [
          100
         ],
         "yaxis": "y"
        },
        {
         "hovertext": "1 Liedzitate im 96%<br>Corona Templi (Nürnberg 1621)<br>",
         "marker": {
          "color": "rgb(235,235,235)"
         },
         "type": "bar",
         "x": [
          "Liedzitate je Predigtprozent"
         ],
         "xaxis": "x",
         "y": [
          100
         ],
         "yaxis": "y"
        },
        {
         "hovertext": "0 Liedzitate im 97%",
         "marker": {
          "color": "rgb(250,250,250)"
         },
         "type": "bar",
         "x": [
          "Liedzitate je Predigtprozent"
         ],
         "xaxis": "x",
         "y": [
          100
         ],
         "yaxis": "y"
        },
        {
         "hovertext": "0 Liedzitate im 98%",
         "marker": {
          "color": "rgb(250,250,250)"
         },
         "type": "bar",
         "x": [
          "Liedzitate je Predigtprozent"
         ],
         "xaxis": "x",
         "y": [
          100
         ],
         "yaxis": "y"
        },
        {
         "hovertext": "0 Liedzitate im 99%",
         "marker": {
          "color": "rgb(250,250,250)"
         },
         "type": "bar",
         "x": [
          "Liedzitate je Predigtprozent"
         ],
         "xaxis": "x",
         "y": [
          100
         ],
         "yaxis": "y"
        },
        {
         "hovertext": "0 Liedzitate im 100%",
         "marker": {
          "color": "rgb(250,250,250)"
         },
         "type": "bar",
         "x": [
          "Liedzitate je Predigtprozent"
         ],
         "xaxis": "x",
         "y": [
          100
         ],
         "yaxis": "y"
        },
        {
         "hovertext": "0 Liedzitate im 1%",
         "marker": {
          "color": "rgb(250,250,250)"
         },
         "type": "bar",
         "x": [
          "Liedzitate je Predigtprozent"
         ],
         "xaxis": "x2",
         "y": [
          100
         ],
         "yaxis": "y2"
        },
        {
         "hovertext": "0 Liedzitate im 2%",
         "marker": {
          "color": "rgb(250,250,250)"
         },
         "type": "bar",
         "x": [
          "Liedzitate je Predigtprozent"
         ],
         "xaxis": "x2",
         "y": [
          100
         ],
         "yaxis": "y2"
        },
        {
         "hovertext": "0 Liedzitate im 3%",
         "marker": {
          "color": "rgb(250,250,250)"
         },
         "type": "bar",
         "x": [
          "Liedzitate je Predigtprozent"
         ],
         "xaxis": "x2",
         "y": [
          100
         ],
         "yaxis": "y2"
        },
        {
         "hovertext": "0 Liedzitate im 4%",
         "marker": {
          "color": "rgb(250,250,250)"
         },
         "type": "bar",
         "x": [
          "Liedzitate je Predigtprozent"
         ],
         "xaxis": "x2",
         "y": [
          100
         ],
         "yaxis": "y2"
        },
        {
         "hovertext": "0 Liedzitate im 5%",
         "marker": {
          "color": "rgb(250,250,250)"
         },
         "type": "bar",
         "x": [
          "Liedzitate je Predigtprozent"
         ],
         "xaxis": "x2",
         "y": [
          100
         ],
         "yaxis": "y2"
        },
        {
         "hovertext": "0 Liedzitate im 6%",
         "marker": {
          "color": "rgb(250,250,250)"
         },
         "type": "bar",
         "x": [
          "Liedzitate je Predigtprozent"
         ],
         "xaxis": "x2",
         "y": [
          100
         ],
         "yaxis": "y2"
        },
        {
         "hovertext": "1 Liedzitate im 7%<br>Cithara Theologica (Schleusingen 1683)<br>",
         "marker": {
          "color": "rgb(235,235,235)"
         },
         "type": "bar",
         "x": [
          "Liedzitate je Predigtprozent"
         ],
         "xaxis": "x2",
         "y": [
          100
         ],
         "yaxis": "y2"
        },
        {
         "hovertext": "1 Liedzitate im 8%<br>Cithara Theologica (Schleusingen 1683)<br>",
         "marker": {
          "color": "rgb(235,235,235)"
         },
         "type": "bar",
         "x": [
          "Liedzitate je Predigtprozent"
         ],
         "xaxis": "x2",
         "y": [
          100
         ],
         "yaxis": "y2"
        },
        {
         "hovertext": "2 Liedzitate im 9%<br>Organo-Praxis Mystica (Görlitz 1689)<br>Das Lieblich=klingende Orgeln und Saiten=Spiel (Coburg 1676)<br>",
         "marker": {
          "color": "rgb(220,220,220)"
         },
         "type": "bar",
         "x": [
          "Liedzitate je Predigtprozent"
         ],
         "xaxis": "x2",
         "y": [
          100
         ],
         "yaxis": "y2"
        },
        {
         "hovertext": "1 Liedzitate im 10%<br>Gott und Gnug (Meißen 1681)<br>",
         "marker": {
          "color": "rgb(235,235,235)"
         },
         "type": "bar",
         "x": [
          "Liedzitate je Predigtprozent"
         ],
         "xaxis": "x2",
         "y": [
          100
         ],
         "yaxis": "y2"
        },
        {
         "hovertext": "0 Liedzitate im 11%",
         "marker": {
          "color": "rgb(250,250,250)"
         },
         "type": "bar",
         "x": [
          "Liedzitate je Predigtprozent"
         ],
         "xaxis": "x2",
         "y": [
          100
         ],
         "yaxis": "y2"
        },
        {
         "hovertext": "0 Liedzitate im 12%",
         "marker": {
          "color": "rgb(250,250,250)"
         },
         "type": "bar",
         "x": [
          "Liedzitate je Predigtprozent"
         ],
         "xaxis": "x2",
         "y": [
          100
         ],
         "yaxis": "y2"
        },
        {
         "hovertext": "0 Liedzitate im 13%",
         "marker": {
          "color": "rgb(250,250,250)"
         },
         "type": "bar",
         "x": [
          "Liedzitate je Predigtprozent"
         ],
         "xaxis": "x2",
         "y": [
          100
         ],
         "yaxis": "y2"
        },
        {
         "hovertext": "1 Liedzitate im 14%<br>Denck- und Danck-Säule (Rothenburg ob der Tauber [1673])<br>",
         "marker": {
          "color": "rgb(235,235,235)"
         },
         "type": "bar",
         "x": [
          "Liedzitate je Predigtprozent"
         ],
         "xaxis": "x2",
         "y": [
          100
         ],
         "yaxis": "y2"
        },
        {
         "hovertext": "2 Liedzitate im 15%<br>Gott und Gnug (Meißen 1681)<br>Das Lieblich=klingende Orgeln und Saiten=Spiel (Coburg 1676)<br>",
         "marker": {
          "color": "rgb(220,220,220)"
         },
         "type": "bar",
         "x": [
          "Liedzitate je Predigtprozent"
         ],
         "xaxis": "x2",
         "y": [
          100
         ],
         "yaxis": "y2"
        },
        {
         "hovertext": "1 Liedzitate im 16%<br>Das Lieblich=klingende Orgeln und Saiten=Spiel (Coburg 1676)<br>",
         "marker": {
          "color": "rgb(235,235,235)"
         },
         "type": "bar",
         "x": [
          "Liedzitate je Predigtprozent"
         ],
         "xaxis": "x2",
         "y": [
          100
         ],
         "yaxis": "y2"
        },
        {
         "hovertext": "0 Liedzitate im 17%",
         "marker": {
          "color": "rgb(250,250,250)"
         },
         "type": "bar",
         "x": [
          "Liedzitate je Predigtprozent"
         ],
         "xaxis": "x2",
         "y": [
          100
         ],
         "yaxis": "y2"
        },
        {
         "hovertext": "1 Liedzitate im 18%<br>Eine Christliche Orgel=Predigt (Danzig 1695)<br>",
         "marker": {
          "color": "rgb(235,235,235)"
         },
         "type": "bar",
         "x": [
          "Liedzitate je Predigtprozent"
         ],
         "xaxis": "x2",
         "y": [
          100
         ],
         "yaxis": "y2"
        },
        {
         "hovertext": "0 Liedzitate im 19%",
         "marker": {
          "color": "rgb(250,250,250)"
         },
         "type": "bar",
         "x": [
          "Liedzitate je Predigtprozent"
         ],
         "xaxis": "x2",
         "y": [
          100
         ],
         "yaxis": "y2"
        },
        {
         "hovertext": "1 Liedzitate im 20%<br>Geistliches Orgelwerk (Erfurt 1672)<br>",
         "marker": {
          "color": "rgb(235,235,235)"
         },
         "type": "bar",
         "x": [
          "Liedzitate je Predigtprozent"
         ],
         "xaxis": "x2",
         "y": [
          100
         ],
         "yaxis": "y2"
        },
        {
         "hovertext": "2 Liedzitate im 21%<br>Organum Mysticum (Dresden 1686)<br>Gott und Gnug (Meißen 1681)<br>",
         "marker": {
          "color": "rgb(220,220,220)"
         },
         "type": "bar",
         "x": [
          "Liedzitate je Predigtprozent"
         ],
         "xaxis": "x2",
         "y": [
          100
         ],
         "yaxis": "y2"
        },
        {
         "hovertext": "1 Liedzitate im 22%<br>Gott und Gnug (Meißen 1681)<br>",
         "marker": {
          "color": "rgb(235,235,235)"
         },
         "type": "bar",
         "x": [
          "Liedzitate je Predigtprozent"
         ],
         "xaxis": "x2",
         "y": [
          100
         ],
         "yaxis": "y2"
        },
        {
         "hovertext": "1 Liedzitate im 23%<br>Gott und Gnug (Meißen 1681)<br>",
         "marker": {
          "color": "rgb(235,235,235)"
         },
         "type": "bar",
         "x": [
          "Liedzitate je Predigtprozent"
         ],
         "xaxis": "x2",
         "y": [
          100
         ],
         "yaxis": "y2"
        },
        {
         "hovertext": "0 Liedzitate im 24%",
         "marker": {
          "color": "rgb(250,250,250)"
         },
         "type": "bar",
         "x": [
          "Liedzitate je Predigtprozent"
         ],
         "xaxis": "x2",
         "y": [
          100
         ],
         "yaxis": "y2"
        },
        {
         "hovertext": "1 Liedzitate im 25%<br>Organum Mysticum (Dresden 1686)<br>",
         "marker": {
          "color": "rgb(235,235,235)"
         },
         "type": "bar",
         "x": [
          "Liedzitate je Predigtprozent"
         ],
         "xaxis": "x2",
         "y": [
          100
         ],
         "yaxis": "y2"
        },
        {
         "hovertext": "1 Liedzitate im 26%<br>Organum Mysticum (Dresden 1686)<br>",
         "marker": {
          "color": "rgb(235,235,235)"
         },
         "type": "bar",
         "x": [
          "Liedzitate je Predigtprozent"
         ],
         "xaxis": "x2",
         "y": [
          100
         ],
         "yaxis": "y2"
        },
        {
         "hovertext": "0 Liedzitate im 27%",
         "marker": {
          "color": "rgb(250,250,250)"
         },
         "type": "bar",
         "x": [
          "Liedzitate je Predigtprozent"
         ],
         "xaxis": "x2",
         "y": [
          100
         ],
         "yaxis": "y2"
        },
        {
         "hovertext": "0 Liedzitate im 28%",
         "marker": {
          "color": "rgb(250,250,250)"
         },
         "type": "bar",
         "x": [
          "Liedzitate je Predigtprozent"
         ],
         "xaxis": "x2",
         "y": [
          100
         ],
         "yaxis": "y2"
        },
        {
         "hovertext": "1 Liedzitate im 29%<br>Gott und Gnug (Meißen 1681)<br>",
         "marker": {
          "color": "rgb(235,235,235)"
         },
         "type": "bar",
         "x": [
          "Liedzitate je Predigtprozent"
         ],
         "xaxis": "x2",
         "y": [
          100
         ],
         "yaxis": "y2"
        },
        {
         "hovertext": "1 Liedzitate im 30%<br>Das Gott=Lob=Schallende Hosianna (Leipzig 1671)<br>",
         "marker": {
          "color": "rgb(235,235,235)"
         },
         "type": "bar",
         "x": [
          "Liedzitate je Predigtprozent"
         ],
         "xaxis": "x2",
         "y": [
          100
         ],
         "yaxis": "y2"
        },
        {
         "hovertext": "0 Liedzitate im 31%",
         "marker": {
          "color": "rgb(250,250,250)"
         },
         "type": "bar",
         "x": [
          "Liedzitate je Predigtprozent"
         ],
         "xaxis": "x2",
         "y": [
          100
         ],
         "yaxis": "y2"
        },
        {
         "hovertext": "1 Liedzitate im 32%<br>Cithara Theologica (Schleusingen 1683)<br>",
         "marker": {
          "color": "rgb(235,235,235)"
         },
         "type": "bar",
         "x": [
          "Liedzitate je Predigtprozent"
         ],
         "xaxis": "x2",
         "y": [
          100
         ],
         "yaxis": "y2"
        },
        {
         "hovertext": "2 Liedzitate im 33%<br>Cithara Theologica (Schleusingen 1683)<br>Das fröliche Hallelujah (Halle 1667)<br>",
         "marker": {
          "color": "rgb(220,220,220)"
         },
         "type": "bar",
         "x": [
          "Liedzitate je Predigtprozent"
         ],
         "xaxis": "x2",
         "y": [
          100
         ],
         "yaxis": "y2"
        },
        {
         "hovertext": "2 Liedzitate im 34%<br>Geistliches Orgelwerk (Erfurt 1672)<br>Organologismos (Dresden 1651)<br>",
         "marker": {
          "color": "rgb(220,220,220)"
         },
         "type": "bar",
         "x": [
          "Liedzitate je Predigtprozent"
         ],
         "xaxis": "x2",
         "y": [
          100
         ],
         "yaxis": "y2"
        },
        {
         "hovertext": "0 Liedzitate im 35%",
         "marker": {
          "color": "rgb(250,250,250)"
         },
         "type": "bar",
         "x": [
          "Liedzitate je Predigtprozent"
         ],
         "xaxis": "x2",
         "y": [
          100
         ],
         "yaxis": "y2"
        },
        {
         "hovertext": "1 Liedzitate im 36%<br>Geistliches Orgelwerk (Erfurt 1672)<br>",
         "marker": {
          "color": "rgb(235,235,235)"
         },
         "type": "bar",
         "x": [
          "Liedzitate je Predigtprozent"
         ],
         "xaxis": "x2",
         "y": [
          100
         ],
         "yaxis": "y2"
        },
        {
         "hovertext": "1 Liedzitate im 37%<br>Geistliches Orgelwerk (Erfurt 1672)<br>",
         "marker": {
          "color": "rgb(235,235,235)"
         },
         "type": "bar",
         "x": [
          "Liedzitate je Predigtprozent"
         ],
         "xaxis": "x2",
         "y": [
          100
         ],
         "yaxis": "y2"
        },
        {
         "hovertext": "0 Liedzitate im 38%",
         "marker": {
          "color": "rgb(250,250,250)"
         },
         "type": "bar",
         "x": [
          "Liedzitate je Predigtprozent"
         ],
         "xaxis": "x2",
         "y": [
          100
         ],
         "yaxis": "y2"
        },
        {
         "hovertext": "1 Liedzitate im 39%<br>Gott und Gnug (Meißen 1681)<br>",
         "marker": {
          "color": "rgb(235,235,235)"
         },
         "type": "bar",
         "x": [
          "Liedzitate je Predigtprozent"
         ],
         "xaxis": "x2",
         "y": [
          100
         ],
         "yaxis": "y2"
        },
        {
         "hovertext": "2 Liedzitate im 40%<br>Cithara Theologica (Schleusingen 1683)<br>Gott und Gnug (Meißen 1681)<br>",
         "marker": {
          "color": "rgb(220,220,220)"
         },
         "type": "bar",
         "x": [
          "Liedzitate je Predigtprozent"
         ],
         "xaxis": "x2",
         "y": [
          100
         ],
         "yaxis": "y2"
        },
        {
         "hovertext": "2 Liedzitate im 41%<br>Cithara Theologica (Schleusingen 1683)<br>Gott und Gnug (Meißen 1681)<br>",
         "marker": {
          "color": "rgb(220,220,220)"
         },
         "type": "bar",
         "x": [
          "Liedzitate je Predigtprozent"
         ],
         "xaxis": "x2",
         "y": [
          100
         ],
         "yaxis": "y2"
        },
        {
         "hovertext": "3 Liedzitate im 42%<br>Cithara Theologica (Schleusingen 1683)<br>Das Gott=Lob=Schallende Hosianna (Leipzig 1671)<br>Organologismos (Dresden 1651)<br>",
         "marker": {
          "color": "rgb(205,205,205)"
         },
         "type": "bar",
         "x": [
          "Liedzitate je Predigtprozent"
         ],
         "xaxis": "x2",
         "y": [
          100
         ],
         "yaxis": "y2"
        },
        {
         "hovertext": "3 Liedzitate im 43%<br>Organum Mysticum (Dresden 1686)<br>Cithara Theologica (Schleusingen 1683)<br>Das Gott=Lob=Schallende Hosianna (Leipzig 1671)<br>",
         "marker": {
          "color": "rgb(205,205,205)"
         },
         "type": "bar",
         "x": [
          "Liedzitate je Predigtprozent"
         ],
         "xaxis": "x2",
         "y": [
          100
         ],
         "yaxis": "y2"
        },
        {
         "hovertext": "1 Liedzitate im 44%<br>Organum Mysticum (Dresden 1686)<br>",
         "marker": {
          "color": "rgb(235,235,235)"
         },
         "type": "bar",
         "x": [
          "Liedzitate je Predigtprozent"
         ],
         "xaxis": "x2",
         "y": [
          100
         ],
         "yaxis": "y2"
        },
        {
         "hovertext": "1 Liedzitate im 45%<br>Das Lieblich=klingende Orgeln und Saiten=Spiel (Coburg 1676)<br>",
         "marker": {
          "color": "rgb(235,235,235)"
         },
         "type": "bar",
         "x": [
          "Liedzitate je Predigtprozent"
         ],
         "xaxis": "x2",
         "y": [
          100
         ],
         "yaxis": "y2"
        },
        {
         "hovertext": "1 Liedzitate im 46%<br>Das Lieblich=klingende Orgeln und Saiten=Spiel (Coburg 1676)<br>",
         "marker": {
          "color": "rgb(235,235,235)"
         },
         "type": "bar",
         "x": [
          "Liedzitate je Predigtprozent"
         ],
         "xaxis": "x2",
         "y": [
          100
         ],
         "yaxis": "y2"
        },
        {
         "hovertext": "2 Liedzitate im 47%<br>Cithara Theologica (Schleusingen 1683)<br>Denck- und Danck-Säule (Rothenburg ob der Tauber [1673])<br>",
         "marker": {
          "color": "rgb(220,220,220)"
         },
         "type": "bar",
         "x": [
          "Liedzitate je Predigtprozent"
         ],
         "xaxis": "x2",
         "y": [
          100
         ],
         "yaxis": "y2"
        },
        {
         "hovertext": "2 Liedzitate im 48%<br>Cithara Theologica (Schleusingen 1683)<br>Encoenia HierOrganica (Halle 1664)<br>",
         "marker": {
          "color": "rgb(220,220,220)"
         },
         "type": "bar",
         "x": [
          "Liedzitate je Predigtprozent"
         ],
         "xaxis": "x2",
         "y": [
          100
         ],
         "yaxis": "y2"
        },
        {
         "hovertext": "1 Liedzitate im 49%<br>Encoenia HierOrganica (Halle 1664)<br>",
         "marker": {
          "color": "rgb(235,235,235)"
         },
         "type": "bar",
         "x": [
          "Liedzitate je Predigtprozent"
         ],
         "xaxis": "x2",
         "y": [
          100
         ],
         "yaxis": "y2"
        },
        {
         "hovertext": "1 Liedzitate im 50%<br>Cithara Theologica (Schleusingen 1683)<br>",
         "marker": {
          "color": "rgb(235,235,235)"
         },
         "type": "bar",
         "x": [
          "Liedzitate je Predigtprozent"
         ],
         "xaxis": "x2",
         "y": [
          100
         ],
         "yaxis": "y2"
        },
        {
         "hovertext": "1 Liedzitate im 51%<br>Cithara Theologica (Schleusingen 1683)<br>",
         "marker": {
          "color": "rgb(235,235,235)"
         },
         "type": "bar",
         "x": [
          "Liedzitate je Predigtprozent"
         ],
         "xaxis": "x2",
         "y": [
          100
         ],
         "yaxis": "y2"
        },
        {
         "hovertext": "1 Liedzitate im 52%<br>Cithara Theologica (Schleusingen 1683)<br>",
         "marker": {
          "color": "rgb(235,235,235)"
         },
         "type": "bar",
         "x": [
          "Liedzitate je Predigtprozent"
         ],
         "xaxis": "x2",
         "y": [
          100
         ],
         "yaxis": "y2"
        },
        {
         "hovertext": "1 Liedzitate im 53%<br>Cithara Theologica (Schleusingen 1683)<br>",
         "marker": {
          "color": "rgb(235,235,235)"
         },
         "type": "bar",
         "x": [
          "Liedzitate je Predigtprozent"
         ],
         "xaxis": "x2",
         "y": [
          100
         ],
         "yaxis": "y2"
        },
        {
         "hovertext": "2 Liedzitate im 54%<br>Eine Christliche Orgel=Predigt (Danzig 1695)<br>Denck- und Danck-Säule (Rothenburg ob der Tauber [1673])<br>",
         "marker": {
          "color": "rgb(220,220,220)"
         },
         "type": "bar",
         "x": [
          "Liedzitate je Predigtprozent"
         ],
         "xaxis": "x2",
         "y": [
          100
         ],
         "yaxis": "y2"
        },
        {
         "hovertext": "2 Liedzitate im 55%<br>Das fröliche Halleluja (Wittenberg 1675)<br>Denck- und Danck-Säule (Rothenburg ob der Tauber [1673])<br>",
         "marker": {
          "color": "rgb(220,220,220)"
         },
         "type": "bar",
         "x": [
          "Liedzitate je Predigtprozent"
         ],
         "xaxis": "x2",
         "y": [
          100
         ],
         "yaxis": "y2"
        },
        {
         "hovertext": "0 Liedzitate im 56%",
         "marker": {
          "color": "rgb(250,250,250)"
         },
         "type": "bar",
         "x": [
          "Liedzitate je Predigtprozent"
         ],
         "xaxis": "x2",
         "y": [
          100
         ],
         "yaxis": "y2"
        },
        {
         "hovertext": "0 Liedzitate im 57%",
         "marker": {
          "color": "rgb(250,250,250)"
         },
         "type": "bar",
         "x": [
          "Liedzitate je Predigtprozent"
         ],
         "xaxis": "x2",
         "y": [
          100
         ],
         "yaxis": "y2"
        },
        {
         "hovertext": "3 Liedzitate im 58%<br>Gott und Gnug (Meißen 1681)<br>Das fröliche Halleluja (Wittenberg 1675)<br>Organologismos (Dresden 1651)<br>",
         "marker": {
          "color": "rgb(205,205,205)"
         },
         "type": "bar",
         "x": [
          "Liedzitate je Predigtprozent"
         ],
         "xaxis": "x2",
         "y": [
          100
         ],
         "yaxis": "y2"
        },
        {
         "hovertext": "3 Liedzitate im 59%<br>Gott und Gnug (Meißen 1681)<br>Geistlich= und Gott wohlgefälliges Lob- und Danck-Opffer (Bayreuth 1680)<br>Geistliches Orgelwerk (Erfurt 1672)<br>",
         "marker": {
          "color": "rgb(205,205,205)"
         },
         "type": "bar",
         "x": [
          "Liedzitate je Predigtprozent"
         ],
         "xaxis": "x2",
         "y": [
          100
         ],
         "yaxis": "y2"
        },
        {
         "hovertext": "1 Liedzitate im 60%<br>Organum Mysticum (Dresden 1686)<br>",
         "marker": {
          "color": "rgb(235,235,235)"
         },
         "type": "bar",
         "x": [
          "Liedzitate je Predigtprozent"
         ],
         "xaxis": "x2",
         "y": [
          100
         ],
         "yaxis": "y2"
        },
        {
         "hovertext": "3 Liedzitate im 61%<br>Gott und Gnug (Meißen 1681)<br>Das Lieblich=klingende Orgeln und Saiten=Spiel (Coburg 1676)<br>Organologismos (Dresden 1651)<br>",
         "marker": {
          "color": "rgb(205,205,205)"
         },
         "type": "bar",
         "x": [
          "Liedzitate je Predigtprozent"
         ],
         "xaxis": "x2",
         "y": [
          100
         ],
         "yaxis": "y2"
        },
        {
         "hovertext": "0 Liedzitate im 62%",
         "marker": {
          "color": "rgb(250,250,250)"
         },
         "type": "bar",
         "x": [
          "Liedzitate je Predigtprozent"
         ],
         "xaxis": "x2",
         "y": [
          100
         ],
         "yaxis": "y2"
        },
        {
         "hovertext": "0 Liedzitate im 63%",
         "marker": {
          "color": "rgb(250,250,250)"
         },
         "type": "bar",
         "x": [
          "Liedzitate je Predigtprozent"
         ],
         "xaxis": "x2",
         "y": [
          100
         ],
         "yaxis": "y2"
        },
        {
         "hovertext": "2 Liedzitate im 64%<br>Organum Mysticum (Dresden 1686)<br>Geistliches Orgelwerk (Erfurt 1672)<br>",
         "marker": {
          "color": "rgb(220,220,220)"
         },
         "type": "bar",
         "x": [
          "Liedzitate je Predigtprozent"
         ],
         "xaxis": "x2",
         "y": [
          100
         ],
         "yaxis": "y2"
        },
        {
         "hovertext": "0 Liedzitate im 65%",
         "marker": {
          "color": "rgb(250,250,250)"
         },
         "type": "bar",
         "x": [
          "Liedzitate je Predigtprozent"
         ],
         "xaxis": "x2",
         "y": [
          100
         ],
         "yaxis": "y2"
        },
        {
         "hovertext": "1 Liedzitate im 66%<br>Orgel=Predigt (Arnstadt 1666)<br>",
         "marker": {
          "color": "rgb(235,235,235)"
         },
         "type": "bar",
         "x": [
          "Liedzitate je Predigtprozent"
         ],
         "xaxis": "x2",
         "y": [
          100
         ],
         "yaxis": "y2"
        },
        {
         "hovertext": "0 Liedzitate im 67%",
         "marker": {
          "color": "rgb(250,250,250)"
         },
         "type": "bar",
         "x": [
          "Liedzitate je Predigtprozent"
         ],
         "xaxis": "x2",
         "y": [
          100
         ],
         "yaxis": "y2"
        },
        {
         "hovertext": "0 Liedzitate im 68%",
         "marker": {
          "color": "rgb(250,250,250)"
         },
         "type": "bar",
         "x": [
          "Liedzitate je Predigtprozent"
         ],
         "xaxis": "x2",
         "y": [
          100
         ],
         "yaxis": "y2"
        },
        {
         "hovertext": "0 Liedzitate im 69%",
         "marker": {
          "color": "rgb(250,250,250)"
         },
         "type": "bar",
         "x": [
          "Liedzitate je Predigtprozent"
         ],
         "xaxis": "x2",
         "y": [
          100
         ],
         "yaxis": "y2"
        },
        {
         "hovertext": "1 Liedzitate im 70%<br>Geistliches Orgelwerk (Erfurt 1672)<br>",
         "marker": {
          "color": "rgb(235,235,235)"
         },
         "type": "bar",
         "x": [
          "Liedzitate je Predigtprozent"
         ],
         "xaxis": "x2",
         "y": [
          100
         ],
         "yaxis": "y2"
        },
        {
         "hovertext": "2 Liedzitate im 71%<br>Cithara Theologica (Schleusingen 1683)<br>Organologismos (Dresden 1651)<br>",
         "marker": {
          "color": "rgb(220,220,220)"
         },
         "type": "bar",
         "x": [
          "Liedzitate je Predigtprozent"
         ],
         "xaxis": "x2",
         "y": [
          100
         ],
         "yaxis": "y2"
        },
        {
         "hovertext": "1 Liedzitate im 72%<br>Gott und Gnug (Meißen 1681)<br>",
         "marker": {
          "color": "rgb(235,235,235)"
         },
         "type": "bar",
         "x": [
          "Liedzitate je Predigtprozent"
         ],
         "xaxis": "x2",
         "y": [
          100
         ],
         "yaxis": "y2"
        },
        {
         "hovertext": "1 Liedzitate im 73%<br>Gott und Gnug (Meißen 1681)<br>",
         "marker": {
          "color": "rgb(235,235,235)"
         },
         "type": "bar",
         "x": [
          "Liedzitate je Predigtprozent"
         ],
         "xaxis": "x2",
         "y": [
          100
         ],
         "yaxis": "y2"
        },
        {
         "hovertext": "0 Liedzitate im 74%",
         "marker": {
          "color": "rgb(250,250,250)"
         },
         "type": "bar",
         "x": [
          "Liedzitate je Predigtprozent"
         ],
         "xaxis": "x2",
         "y": [
          100
         ],
         "yaxis": "y2"
        },
        {
         "hovertext": "3 Liedzitate im 75%<br>Eine Christliche Orgel=Predigt (Danzig 1695)<br>Geistlich= und Gott wohlgefälliges Lob- und Danck-Opffer (Bayreuth 1680)<br>Encoenia HierOrganica (Halle 1664)<br>",
         "marker": {
          "color": "rgb(205,205,205)"
         },
         "type": "bar",
         "x": [
          "Liedzitate je Predigtprozent"
         ],
         "xaxis": "x2",
         "y": [
          100
         ],
         "yaxis": "y2"
        },
        {
         "hovertext": "5 Liedzitate im 76%<br>Eine Christliche Orgel=Predigt (Danzig 1695)<br>Das Lieblich=klingende Orgeln und Saiten=Spiel (Coburg 1676)<br>Das fröliche Halleluja (Wittenberg 1675)<br>Geistliches Orgelwerk (Erfurt 1672)<br>Organologismos (Dresden 1651)<br>",
         "marker": {
          "color": "rgb(175,175,175)"
         },
         "type": "bar",
         "x": [
          "Liedzitate je Predigtprozent"
         ],
         "xaxis": "x2",
         "y": [
          100
         ],
         "yaxis": "y2"
        },
        {
         "hovertext": "6 Liedzitate im 77%<br>Cithara Theologica (Schleusingen 1683)<br>Gott und Gnug (Meißen 1681)<br>Das Lieblich=klingende Orgeln und Saiten=Spiel (Coburg 1676)<br>Das fröliche Halleluja (Wittenberg 1675)<br>Organologismos (Dresden 1651)<br>Die andere Predigt (Coburg 1676)<br>",
         "marker": {
          "color": "rgb(160,160,160)"
         },
         "type": "bar",
         "x": [
          "Liedzitate je Predigtprozent"
         ],
         "xaxis": "x2",
         "y": [
          100
         ],
         "yaxis": "y2"
        },
        {
         "hovertext": "3 Liedzitate im 78%<br>Das Lieblich=klingende Orgeln und Saiten=Spiel (Coburg 1676)<br>Das fröliche Halleluja (Wittenberg 1675)<br>Die andere Predigt (Coburg 1676)<br>",
         "marker": {
          "color": "rgb(205,205,205)"
         },
         "type": "bar",
         "x": [
          "Liedzitate je Predigtprozent"
         ],
         "xaxis": "x2",
         "y": [
          100
         ],
         "yaxis": "y2"
        },
        {
         "hovertext": "3 Liedzitate im 79%<br>Geistliches Orgelwerk (Erfurt 1672)<br>Das Gott=Lob=Schallende Hosianna (Leipzig 1671)<br>Die andere Predigt (Coburg 1676)<br>",
         "marker": {
          "color": "rgb(205,205,205)"
         },
         "type": "bar",
         "x": [
          "Liedzitate je Predigtprozent"
         ],
         "xaxis": "x2",
         "y": [
          100
         ],
         "yaxis": "y2"
        },
        {
         "hovertext": "4 Liedzitate im 80%<br>Cithara Theologica (Schleusingen 1683)<br>Geistliches Orgelwerk (Erfurt 1672)<br>Das Gott=Lob=Schallende Hosianna (Leipzig 1671)<br>Stolpenische Ehren-Crone (Dresden 1652)<br>",
         "marker": {
          "color": "rgb(190,190,190)"
         },
         "type": "bar",
         "x": [
          "Liedzitate je Predigtprozent"
         ],
         "xaxis": "x2",
         "y": [
          100
         ],
         "yaxis": "y2"
        },
        {
         "hovertext": "2 Liedzitate im 81%<br>Geistliches Orgelwerk (Erfurt 1672)<br>Stolpenische Ehren-Crone (Dresden 1652)<br>",
         "marker": {
          "color": "rgb(220,220,220)"
         },
         "type": "bar",
         "x": [
          "Liedzitate je Predigtprozent"
         ],
         "xaxis": "x2",
         "y": [
          100
         ],
         "yaxis": "y2"
        },
        {
         "hovertext": "3 Liedzitate im 82%<br>Geistlich= und Gott wohlgefälliges Lob- und Danck-Opffer (Bayreuth 1680)<br>Stolpenische Ehren-Crone (Dresden 1652)<br>Organologismos (Dresden 1651)<br>",
         "marker": {
          "color": "rgb(205,205,205)"
         },
         "type": "bar",
         "x": [
          "Liedzitate je Predigtprozent"
         ],
         "xaxis": "x2",
         "y": [
          100
         ],
         "yaxis": "y2"
        },
        {
         "hovertext": "4 Liedzitate im 83%<br>Organum Mysticum (Dresden 1686)<br>Geistlich= und Gott wohlgefälliges Lob- und Danck-Opffer (Bayreuth 1680)<br>Das Lieblich=klingende Orgeln und Saiten=Spiel (Coburg 1676)<br>Stolpenische Ehren-Crone (Dresden 1652)<br>",
         "marker": {
          "color": "rgb(190,190,190)"
         },
         "type": "bar",
         "x": [
          "Liedzitate je Predigtprozent"
         ],
         "xaxis": "x2",
         "y": [
          100
         ],
         "yaxis": "y2"
        },
        {
         "hovertext": "4 Liedzitate im 84%<br>Organum Mysticum (Dresden 1686)<br>Geistlich= und Gott wohlgefälliges Lob- und Danck-Opffer (Bayreuth 1680)<br>Das Lieblich=klingende Orgeln und Saiten=Spiel (Coburg 1676)<br>Stolpenische Ehren-Crone (Dresden 1652)<br>",
         "marker": {
          "color": "rgb(190,190,190)"
         },
         "type": "bar",
         "x": [
          "Liedzitate je Predigtprozent"
         ],
         "xaxis": "x2",
         "y": [
          100
         ],
         "yaxis": "y2"
        },
        {
         "hovertext": "1 Liedzitate im 85%<br>Die andere Predigt (Coburg 1676)<br>",
         "marker": {
          "color": "rgb(235,235,235)"
         },
         "type": "bar",
         "x": [
          "Liedzitate je Predigtprozent"
         ],
         "xaxis": "x2",
         "y": [
          100
         ],
         "yaxis": "y2"
        },
        {
         "hovertext": "1 Liedzitate im 86%<br>Die andere Predigt (Coburg 1676)<br>",
         "marker": {
          "color": "rgb(235,235,235)"
         },
         "type": "bar",
         "x": [
          "Liedzitate je Predigtprozent"
         ],
         "xaxis": "x2",
         "y": [
          100
         ],
         "yaxis": "y2"
        },
        {
         "hovertext": "1 Liedzitate im 87%<br>Geistlich= und Gott wohlgefälliges Lob- und Danck-Opffer (Bayreuth 1680)<br>",
         "marker": {
          "color": "rgb(235,235,235)"
         },
         "type": "bar",
         "x": [
          "Liedzitate je Predigtprozent"
         ],
         "xaxis": "x2",
         "y": [
          100
         ],
         "yaxis": "y2"
        },
        {
         "hovertext": "1 Liedzitate im 88%<br>Geistlich= und Gott wohlgefälliges Lob- und Danck-Opffer (Bayreuth 1680)<br>",
         "marker": {
          "color": "rgb(235,235,235)"
         },
         "type": "bar",
         "x": [
          "Liedzitate je Predigtprozent"
         ],
         "xaxis": "x2",
         "y": [
          100
         ],
         "yaxis": "y2"
        },
        {
         "hovertext": "3 Liedzitate im 89%<br>Das fröliche Halleluja (Wittenberg 1675)<br>Das fröliche Hallelujah (Halle 1667)<br>Die andere Predigt (Coburg 1676)<br>",
         "marker": {
          "color": "rgb(205,205,205)"
         },
         "type": "bar",
         "x": [
          "Liedzitate je Predigtprozent"
         ],
         "xaxis": "x2",
         "y": [
          100
         ],
         "yaxis": "y2"
        },
        {
         "hovertext": "4 Liedzitate im 90%<br>Organum Mysticum (Dresden 1686)<br>Geistlich= und Gott wohlgefälliges Lob- und Danck-Opffer (Bayreuth 1680)<br>Das fröliche Hallelujah (Halle 1667)<br>Die andere Predigt (Coburg 1676)<br>",
         "marker": {
          "color": "rgb(190,190,190)"
         },
         "type": "bar",
         "x": [
          "Liedzitate je Predigtprozent"
         ],
         "xaxis": "x2",
         "y": [
          100
         ],
         "yaxis": "y2"
        },
        {
         "hovertext": "6 Liedzitate im 91%<br>Gott und Gnug (Meißen 1681)<br>Geistlich= und Gott wohlgefälliges Lob- und Danck-Opffer (Bayreuth 1680)<br>Denck- und Danck-Säule (Rothenburg ob der Tauber [1673])<br>Das Gott=Lob=Schallende Hosianna (Leipzig 1671)<br>Das fröliche Hallelujah (Halle 1667)<br>Encoenia HierOrganica (Halle 1664)<br>",
         "marker": {
          "color": "rgb(160,160,160)"
         },
         "type": "bar",
         "x": [
          "Liedzitate je Predigtprozent"
         ],
         "xaxis": "x2",
         "y": [
          100
         ],
         "yaxis": "y2"
        },
        {
         "hovertext": "5 Liedzitate im 92%<br>Organum Mysticum (Dresden 1686)<br>Cithara Theologica (Schleusingen 1683)<br>Gott und Gnug (Meißen 1681)<br>Das fröliche Hallelujah (Halle 1667)<br>Die andere Predigt (Coburg 1676)<br>",
         "marker": {
          "color": "rgb(175,175,175)"
         },
         "type": "bar",
         "x": [
          "Liedzitate je Predigtprozent"
         ],
         "xaxis": "x2",
         "y": [
          100
         ],
         "yaxis": "y2"
        },
        {
         "hovertext": "2 Liedzitate im 93%<br>Organum Mysticum (Dresden 1686)<br>Geistliches Orgelwerk (Erfurt 1672)<br>",
         "marker": {
          "color": "rgb(220,220,220)"
         },
         "type": "bar",
         "x": [
          "Liedzitate je Predigtprozent"
         ],
         "xaxis": "x2",
         "y": [
          100
         ],
         "yaxis": "y2"
        },
        {
         "hovertext": "3 Liedzitate im 94%<br>Cithara Theologica (Schleusingen 1683)<br>Das Lieblich=klingende Orgeln und Saiten=Spiel (Coburg 1676)<br>Denck- und Danck-Säule (Rothenburg ob der Tauber [1673])<br>",
         "marker": {
          "color": "rgb(205,205,205)"
         },
         "type": "bar",
         "x": [
          "Liedzitate je Predigtprozent"
         ],
         "xaxis": "x2",
         "y": [
          100
         ],
         "yaxis": "y2"
        },
        {
         "hovertext": "3 Liedzitate im 95%<br>Gott und Gnug (Meißen 1681)<br>Das Lieblich=klingende Orgeln und Saiten=Spiel (Coburg 1676)<br>Organologismos (Dresden 1651)<br>",
         "marker": {
          "color": "rgb(205,205,205)"
         },
         "type": "bar",
         "x": [
          "Liedzitate je Predigtprozent"
         ],
         "xaxis": "x2",
         "y": [
          100
         ],
         "yaxis": "y2"
        },
        {
         "hovertext": "2 Liedzitate im 96%<br>Das dem Allmächtigen abzustattende Lob (Altenburg s.a.)<br>Organum Mysticum (Dresden 1686)<br>",
         "marker": {
          "color": "rgb(220,220,220)"
         },
         "type": "bar",
         "x": [
          "Liedzitate je Predigtprozent"
         ],
         "xaxis": "x2",
         "y": [
          100
         ],
         "yaxis": "y2"
        },
        {
         "hovertext": "1 Liedzitate im 97%<br>Geistlich= und Gott wohlgefälliges Lob- und Danck-Opffer (Bayreuth 1680)<br>",
         "marker": {
          "color": "rgb(235,235,235)"
         },
         "type": "bar",
         "x": [
          "Liedzitate je Predigtprozent"
         ],
         "xaxis": "x2",
         "y": [
          100
         ],
         "yaxis": "y2"
        },
        {
         "hovertext": "2 Liedzitate im 98%<br>Cithara Theologica (Schleusingen 1683)<br>Encoenia HierOrganica (Halle 1664)<br>",
         "marker": {
          "color": "rgb(220,220,220)"
         },
         "type": "bar",
         "x": [
          "Liedzitate je Predigtprozent"
         ],
         "xaxis": "x2",
         "y": [
          100
         ],
         "yaxis": "y2"
        },
        {
         "hovertext": "4 Liedzitate im 99%<br>Cithara Theologica (Schleusingen 1683)<br>Das Lieblich=klingende Orgeln und Saiten=Spiel (Coburg 1676)<br>Geistliches Orgelwerk (Erfurt 1672)<br>Orgel=Predigt (Arnstadt 1666)<br>",
         "marker": {
          "color": "rgb(190,190,190)"
         },
         "type": "bar",
         "x": [
          "Liedzitate je Predigtprozent"
         ],
         "xaxis": "x2",
         "y": [
          100
         ],
         "yaxis": "y2"
        },
        {
         "hovertext": "5 Liedzitate im 100%<br>Das Lieblich=klingende Orgeln und Saiten=Spiel (Coburg 1676)<br>Geistliches Orgelwerk (Erfurt 1672)<br>Organolustria Evangelico-Stambachiana (Hof 1660)<br>Die andere Predigt (Coburg 1676)<br>Organi Laudes (Plauen 1685)<br>",
         "marker": {
          "color": "rgb(175,175,175)"
         },
         "type": "bar",
         "x": [
          "Liedzitate je Predigtprozent"
         ],
         "xaxis": "x2",
         "y": [
          100
         ],
         "yaxis": "y2"
        },
        {
         "hovertext": "2 Liedzitate im 1%<br>Das Neue Lied (Freiberg 1735)<br>Die edle und wohlgeordnete Music der Gläubigen (Halle 1727)<br>",
         "marker": {
          "color": "rgb(220,220,220)"
         },
         "type": "bar",
         "x": [
          "Liedzitate je Predigtprozent"
         ],
         "xaxis": "x3",
         "y": [
          100
         ],
         "yaxis": "y3"
        },
        {
         "hovertext": "1 Liedzitate im 2%<br>Das Neue Lied (Freiberg 1735)<br>",
         "marker": {
          "color": "rgb(235,235,235)"
         },
         "type": "bar",
         "x": [
          "Liedzitate je Predigtprozent"
         ],
         "xaxis": "x3",
         "y": [
          100
         ],
         "yaxis": "y3"
        },
        {
         "hovertext": "4 Liedzitate im 3%<br>Die heilige Sabbaths-Lust an dem Herrn (Danzig 1749)<br>Die Billige Orgel-Freude (Danzig 1739)<br>Das Neue Lied (Freiberg 1735)<br>Die verstimmte Zwölff Grösseste Pfeiffen (Tübingen 1725)<br>",
         "marker": {
          "color": "rgb(190,190,190)"
         },
         "type": "bar",
         "x": [
          "Liedzitate je Predigtprozent"
         ],
         "xaxis": "x3",
         "y": [
          100
         ],
         "yaxis": "y3"
        },
        {
         "hovertext": "1 Liedzitate im 4%<br>Die heilige Sabbaths-Lust an dem Herrn (Danzig 1749)<br>",
         "marker": {
          "color": "rgb(235,235,235)"
         },
         "type": "bar",
         "x": [
          "Liedzitate je Predigtprozent"
         ],
         "xaxis": "x3",
         "y": [
          100
         ],
         "yaxis": "y3"
        },
        {
         "hovertext": "1 Liedzitate im 5%<br>Die Billige Orgel-Freude (Danzig 1739)<br>",
         "marker": {
          "color": "rgb(235,235,235)"
         },
         "type": "bar",
         "x": [
          "Liedzitate je Predigtprozent"
         ],
         "xaxis": "x3",
         "y": [
          100
         ],
         "yaxis": "y3"
        },
        {
         "hovertext": "1 Liedzitate im 6%<br>Stimme des Predigers (1737)<br>",
         "marker": {
          "color": "rgb(235,235,235)"
         },
         "type": "bar",
         "x": [
          "Liedzitate je Predigtprozent"
         ],
         "xaxis": "x3",
         "y": [
          100
         ],
         "yaxis": "y3"
        },
        {
         "hovertext": "5 Liedzitate im 7%<br>Den rechtmäßigen Gebrauch der Music (Königsberg 1747)<br>Die Billige Orgel-Freude (Danzig 1739)<br>Die verstimmte Zwölff Grösseste Pfeiffen (Tübingen 1725)<br>Einweihungs-Predigt (Görlitz 1704)<br>Stimme des Predigers (1737)<br>",
         "marker": {
          "color": "rgb(175,175,175)"
         },
         "type": "bar",
         "x": [
          "Liedzitate je Predigtprozent"
         ],
         "xaxis": "x3",
         "y": [
          100
         ],
         "yaxis": "y3"
        },
        {
         "hovertext": "3 Liedzitate im 8%<br>Den rechtmäßigen Gebrauch der Music (Königsberg 1747)<br>Die Billige Orgel-Freude (Danzig 1739)<br>Die edle und wohlgeordnete Music der Gläubigen (Halle 1727)<br>",
         "marker": {
          "color": "rgb(205,205,205)"
         },
         "type": "bar",
         "x": [
          "Liedzitate je Predigtprozent"
         ],
         "xaxis": "x3",
         "y": [
          100
         ],
         "yaxis": "y3"
        },
        {
         "hovertext": "2 Liedzitate im 9%<br>Die heilige Sabbaths-Lust an dem Herrn (Danzig 1749)<br>Orgel Weih-Predigt (Ansbach 1709)<br>",
         "marker": {
          "color": "rgb(220,220,220)"
         },
         "type": "bar",
         "x": [
          "Liedzitate je Predigtprozent"
         ],
         "xaxis": "x3",
         "y": [
          100
         ],
         "yaxis": "y3"
        },
        {
         "hovertext": "2 Liedzitate im 10%<br>Die heilige Sabbaths-Lust an dem Herrn (Danzig 1749)<br>Ein wolgerührtes Orgel=Werck (Königsberg 1721)<br>",
         "marker": {
          "color": "rgb(220,220,220)"
         },
         "type": "bar",
         "x": [
          "Liedzitate je Predigtprozent"
         ],
         "xaxis": "x3",
         "y": [
          100
         ],
         "yaxis": "y3"
        },
        {
         "hovertext": "2 Liedzitate im 11%<br>Die heilige Sabbaths-Lust an dem Herrn (Danzig 1749)<br>Christliche Orgel-Predigt (Danzig s.a.)<br>",
         "marker": {
          "color": "rgb(220,220,220)"
         },
         "type": "bar",
         "x": [
          "Liedzitate je Predigtprozent"
         ],
         "xaxis": "x3",
         "y": [
          100
         ],
         "yaxis": "y3"
        },
        {
         "hovertext": "1 Liedzitate im 12%<br>Vivum Dei Organum (Schneeberg s.a.)<br>",
         "marker": {
          "color": "rgb(235,235,235)"
         },
         "type": "bar",
         "x": [
          "Liedzitate je Predigtprozent"
         ],
         "xaxis": "x3",
         "y": [
          100
         ],
         "yaxis": "y3"
        },
        {
         "hovertext": "1 Liedzitate im 13%<br>Die heilige Sabbaths-Lust an dem Herrn (Danzig 1749)<br>",
         "marker": {
          "color": "rgb(235,235,235)"
         },
         "type": "bar",
         "x": [
          "Liedzitate je Predigtprozent"
         ],
         "xaxis": "x3",
         "y": [
          100
         ],
         "yaxis": "y3"
        },
        {
         "hovertext": "4 Liedzitate im 14%<br>Die heilige Sabbaths-Lust an dem Herrn (Danzig 1749)<br>Ein wolgerührtes Orgel=Werck (Königsberg 1721)<br>Einweihungs-Predigt (Görlitz 1704)<br>Einweihungs-Predigt (Berlin 1730)<br>",
         "marker": {
          "color": "rgb(190,190,190)"
         },
         "type": "bar",
         "x": [
          "Liedzitate je Predigtprozent"
         ],
         "xaxis": "x3",
         "y": [
          100
         ],
         "yaxis": "y3"
        },
        {
         "hovertext": "2 Liedzitate im 15%<br>Die heilige Sabbaths-Lust an dem Herrn (Danzig 1749)<br>Einweihungs-Predigt (Berlin 1730)<br>",
         "marker": {
          "color": "rgb(220,220,220)"
         },
         "type": "bar",
         "x": [
          "Liedzitate je Predigtprozent"
         ],
         "xaxis": "x3",
         "y": [
          100
         ],
         "yaxis": "y3"
        },
        {
         "hovertext": "2 Liedzitate im 16%<br>Die Billige Orgel-Freude (Danzig 1739)<br>Christliche Orgel-Predigt (Danzig s.a.)<br>",
         "marker": {
          "color": "rgb(220,220,220)"
         },
         "type": "bar",
         "x": [
          "Liedzitate je Predigtprozent"
         ],
         "xaxis": "x3",
         "y": [
          100
         ],
         "yaxis": "y3"
        },
        {
         "hovertext": "7 Liedzitate im 17%<br>Die heilige Sabbaths-Lust an dem Herrn (Danzig 1749)<br>Den rechtmäßigen Gebrauch der Music (Königsberg 1747)<br>Das Neue Lied (Freiberg 1735)<br>Hymnosophia sacra (Billwerder 1728)<br>Die verstimmte Zwölff Grösseste Pfeiffen (Tübingen 1725)<br>Vivum Dei Organum (Schneeberg s.a.)<br>Christliche Orgel-Predigt (Danzig s.a.)<br>",
         "marker": {
          "color": "rgb(145,145,145)"
         },
         "type": "bar",
         "x": [
          "Liedzitate je Predigtprozent"
         ],
         "xaxis": "x3",
         "y": [
          100
         ],
         "yaxis": "y3"
        },
        {
         "hovertext": "2 Liedzitate im 18%<br>Den rechtmäßigen Gebrauch der Music (Königsberg 1747)<br>Vivum Dei Organum (Schneeberg s.a.)<br>",
         "marker": {
          "color": "rgb(220,220,220)"
         },
         "type": "bar",
         "x": [
          "Liedzitate je Predigtprozent"
         ],
         "xaxis": "x3",
         "y": [
          100
         ],
         "yaxis": "y3"
        },
        {
         "hovertext": "3 Liedzitate im 19%<br>Den rechtmäßigen Gebrauch der Music (Königsberg 1747)<br>Davids Vermahnung (Dresden 1711)<br>Christliche Orgel-Predigt (Danzig s.a.)<br>",
         "marker": {
          "color": "rgb(205,205,205)"
         },
         "type": "bar",
         "x": [
          "Liedzitate je Predigtprozent"
         ],
         "xaxis": "x3",
         "y": [
          100
         ],
         "yaxis": "y3"
        },
        {
         "hovertext": "2 Liedzitate im 20%<br>Ein wolgerührtes Orgel=Werck (Königsberg 1721)<br>Christliche Orgel-Predigt (Danzig s.a.)<br>",
         "marker": {
          "color": "rgb(220,220,220)"
         },
         "type": "bar",
         "x": [
          "Liedzitate je Predigtprozent"
         ],
         "xaxis": "x3",
         "y": [
          100
         ],
         "yaxis": "y3"
        },
        {
         "hovertext": "1 Liedzitate im 21%<br>Ein wolgerührtes Orgel=Werck (Königsberg 1721)<br>",
         "marker": {
          "color": "rgb(235,235,235)"
         },
         "type": "bar",
         "x": [
          "Liedzitate je Predigtprozent"
         ],
         "xaxis": "x3",
         "y": [
          100
         ],
         "yaxis": "y3"
        },
        {
         "hovertext": "1 Liedzitate im 22%<br>Das Neue Lied (Freiberg 1735)<br>",
         "marker": {
          "color": "rgb(235,235,235)"
         },
         "type": "bar",
         "x": [
          "Liedzitate je Predigtprozent"
         ],
         "xaxis": "x3",
         "y": [
          100
         ],
         "yaxis": "y3"
        },
        {
         "hovertext": "1 Liedzitate im 23%<br>Das Neue Lied (Freiberg 1735)<br>",
         "marker": {
          "color": "rgb(235,235,235)"
         },
         "type": "bar",
         "x": [
          "Liedzitate je Predigtprozent"
         ],
         "xaxis": "x3",
         "y": [
          100
         ],
         "yaxis": "y3"
        },
        {
         "hovertext": "1 Liedzitate im 24%<br>Ein wolgerührtes Orgel=Werck (Königsberg 1721)<br>",
         "marker": {
          "color": "rgb(235,235,235)"
         },
         "type": "bar",
         "x": [
          "Liedzitate je Predigtprozent"
         ],
         "xaxis": "x3",
         "y": [
          100
         ],
         "yaxis": "y3"
        },
        {
         "hovertext": "1 Liedzitate im 25%<br>Winnedisches Reminiscere (Stuttgart 1740)<br>",
         "marker": {
          "color": "rgb(235,235,235)"
         },
         "type": "bar",
         "x": [
          "Liedzitate je Predigtprozent"
         ],
         "xaxis": "x3",
         "y": [
          100
         ],
         "yaxis": "y3"
        },
        {
         "hovertext": "2 Liedzitate im 26%<br>Winnedisches Reminiscere (Stuttgart 1740)<br>Vivum Dei Organum (Schneeberg s.a.)<br>",
         "marker": {
          "color": "rgb(220,220,220)"
         },
         "type": "bar",
         "x": [
          "Liedzitate je Predigtprozent"
         ],
         "xaxis": "x3",
         "y": [
          100
         ],
         "yaxis": "y3"
        },
        {
         "hovertext": "1 Liedzitate im 27%<br>Hymnosophia sacra (Billwerder 1728)<br>",
         "marker": {
          "color": "rgb(235,235,235)"
         },
         "type": "bar",
         "x": [
          "Liedzitate je Predigtprozent"
         ],
         "xaxis": "x3",
         "y": [
          100
         ],
         "yaxis": "y3"
        },
        {
         "hovertext": "0 Liedzitate im 28%",
         "marker": {
          "color": "rgb(250,250,250)"
         },
         "type": "bar",
         "x": [
          "Liedzitate je Predigtprozent"
         ],
         "xaxis": "x3",
         "y": [
          100
         ],
         "yaxis": "y3"
        },
        {
         "hovertext": "1 Liedzitate im 29%<br>Davids Vermahnung (Dresden 1711)<br>",
         "marker": {
          "color": "rgb(235,235,235)"
         },
         "type": "bar",
         "x": [
          "Liedzitate je Predigtprozent"
         ],
         "xaxis": "x3",
         "y": [
          100
         ],
         "yaxis": "y3"
        },
        {
         "hovertext": "0 Liedzitate im 30%",
         "marker": {
          "color": "rgb(250,250,250)"
         },
         "type": "bar",
         "x": [
          "Liedzitate je Predigtprozent"
         ],
         "xaxis": "x3",
         "y": [
          100
         ],
         "yaxis": "y3"
        },
        {
         "hovertext": "0 Liedzitate im 31%",
         "marker": {
          "color": "rgb(250,250,250)"
         },
         "type": "bar",
         "x": [
          "Liedzitate je Predigtprozent"
         ],
         "xaxis": "x3",
         "y": [
          100
         ],
         "yaxis": "y3"
        },
        {
         "hovertext": "0 Liedzitate im 32%",
         "marker": {
          "color": "rgb(250,250,250)"
         },
         "type": "bar",
         "x": [
          "Liedzitate je Predigtprozent"
         ],
         "xaxis": "x3",
         "y": [
          100
         ],
         "yaxis": "y3"
        },
        {
         "hovertext": "1 Liedzitate im 33%<br>Die verstimmte Zwölff Grösseste Pfeiffen (Tübingen 1725)<br>",
         "marker": {
          "color": "rgb(235,235,235)"
         },
         "type": "bar",
         "x": [
          "Liedzitate je Predigtprozent"
         ],
         "xaxis": "x3",
         "y": [
          100
         ],
         "yaxis": "y3"
        },
        {
         "hovertext": "0 Liedzitate im 34%",
         "marker": {
          "color": "rgb(250,250,250)"
         },
         "type": "bar",
         "x": [
          "Liedzitate je Predigtprozent"
         ],
         "xaxis": "x3",
         "y": [
          100
         ],
         "yaxis": "y3"
        },
        {
         "hovertext": "0 Liedzitate im 35%",
         "marker": {
          "color": "rgb(250,250,250)"
         },
         "type": "bar",
         "x": [
          "Liedzitate je Predigtprozent"
         ],
         "xaxis": "x3",
         "y": [
          100
         ],
         "yaxis": "y3"
        },
        {
         "hovertext": "0 Liedzitate im 36%",
         "marker": {
          "color": "rgb(250,250,250)"
         },
         "type": "bar",
         "x": [
          "Liedzitate je Predigtprozent"
         ],
         "xaxis": "x3",
         "y": [
          100
         ],
         "yaxis": "y3"
        },
        {
         "hovertext": "1 Liedzitate im 37%<br>Die Billige Orgel-Freude (Danzig 1739)<br>",
         "marker": {
          "color": "rgb(235,235,235)"
         },
         "type": "bar",
         "x": [
          "Liedzitate je Predigtprozent"
         ],
         "xaxis": "x3",
         "y": [
          100
         ],
         "yaxis": "y3"
        },
        {
         "hovertext": "0 Liedzitate im 38%",
         "marker": {
          "color": "rgb(250,250,250)"
         },
         "type": "bar",
         "x": [
          "Liedzitate je Predigtprozent"
         ],
         "xaxis": "x3",
         "y": [
          100
         ],
         "yaxis": "y3"
        },
        {
         "hovertext": "1 Liedzitate im 39%<br>Das Neue Lied (Freiberg 1735)<br>",
         "marker": {
          "color": "rgb(235,235,235)"
         },
         "type": "bar",
         "x": [
          "Liedzitate je Predigtprozent"
         ],
         "xaxis": "x3",
         "y": [
          100
         ],
         "yaxis": "y3"
        },
        {
         "hovertext": "0 Liedzitate im 40%",
         "marker": {
          "color": "rgb(250,250,250)"
         },
         "type": "bar",
         "x": [
          "Liedzitate je Predigtprozent"
         ],
         "xaxis": "x3",
         "y": [
          100
         ],
         "yaxis": "y3"
        },
        {
         "hovertext": "0 Liedzitate im 41%",
         "marker": {
          "color": "rgb(250,250,250)"
         },
         "type": "bar",
         "x": [
          "Liedzitate je Predigtprozent"
         ],
         "xaxis": "x3",
         "y": [
          100
         ],
         "yaxis": "y3"
        },
        {
         "hovertext": "1 Liedzitate im 42%<br>Die heilige Sabbaths-Lust an dem Herrn (Danzig 1749)<br>",
         "marker": {
          "color": "rgb(235,235,235)"
         },
         "type": "bar",
         "x": [
          "Liedzitate je Predigtprozent"
         ],
         "xaxis": "x3",
         "y": [
          100
         ],
         "yaxis": "y3"
        },
        {
         "hovertext": "1 Liedzitate im 43%<br>Die heilige Sabbaths-Lust an dem Herrn (Danzig 1749)<br>",
         "marker": {
          "color": "rgb(235,235,235)"
         },
         "type": "bar",
         "x": [
          "Liedzitate je Predigtprozent"
         ],
         "xaxis": "x3",
         "y": [
          100
         ],
         "yaxis": "y3"
        },
        {
         "hovertext": "0 Liedzitate im 44%",
         "marker": {
          "color": "rgb(250,250,250)"
         },
         "type": "bar",
         "x": [
          "Liedzitate je Predigtprozent"
         ],
         "xaxis": "x3",
         "y": [
          100
         ],
         "yaxis": "y3"
        },
        {
         "hovertext": "1 Liedzitate im 45%<br>Das rein-gestimmte Orgel-Werk unsers Herzens (Nürnberg s.a.)<br>",
         "marker": {
          "color": "rgb(235,235,235)"
         },
         "type": "bar",
         "x": [
          "Liedzitate je Predigtprozent"
         ],
         "xaxis": "x3",
         "y": [
          100
         ],
         "yaxis": "y3"
        },
        {
         "hovertext": "1 Liedzitate im 46%<br>Stimme des Predigers (1737)<br>",
         "marker": {
          "color": "rgb(235,235,235)"
         },
         "type": "bar",
         "x": [
          "Liedzitate je Predigtprozent"
         ],
         "xaxis": "x3",
         "y": [
          100
         ],
         "yaxis": "y3"
        },
        {
         "hovertext": "0 Liedzitate im 47%",
         "marker": {
          "color": "rgb(250,250,250)"
         },
         "type": "bar",
         "x": [
          "Liedzitate je Predigtprozent"
         ],
         "xaxis": "x3",
         "y": [
          100
         ],
         "yaxis": "y3"
        },
        {
         "hovertext": "1 Liedzitate im 48%<br>Winnedisches Reminiscere (Stuttgart 1740)<br>",
         "marker": {
          "color": "rgb(235,235,235)"
         },
         "type": "bar",
         "x": [
          "Liedzitate je Predigtprozent"
         ],
         "xaxis": "x3",
         "y": [
          100
         ],
         "yaxis": "y3"
        },
        {
         "hovertext": "1 Liedzitate im 49%<br>Winnedisches Reminiscere (Stuttgart 1740)<br>",
         "marker": {
          "color": "rgb(235,235,235)"
         },
         "type": "bar",
         "x": [
          "Liedzitate je Predigtprozent"
         ],
         "xaxis": "x3",
         "y": [
          100
         ],
         "yaxis": "y3"
        },
        {
         "hovertext": "0 Liedzitate im 50%",
         "marker": {
          "color": "rgb(250,250,250)"
         },
         "type": "bar",
         "x": [
          "Liedzitate je Predigtprozent"
         ],
         "xaxis": "x3",
         "y": [
          100
         ],
         "yaxis": "y3"
        },
        {
         "hovertext": "2 Liedzitate im 51%<br>Den rechtmäßigen Gebrauch der Music (Königsberg 1747)<br>Hymnosophia sacra (Billwerder 1728)<br>",
         "marker": {
          "color": "rgb(220,220,220)"
         },
         "type": "bar",
         "x": [
          "Liedzitate je Predigtprozent"
         ],
         "xaxis": "x3",
         "y": [
          100
         ],
         "yaxis": "y3"
        },
        {
         "hovertext": "1 Liedzitate im 52%<br>Den rechtmäßigen Gebrauch der Music (Königsberg 1747)<br>",
         "marker": {
          "color": "rgb(235,235,235)"
         },
         "type": "bar",
         "x": [
          "Liedzitate je Predigtprozent"
         ],
         "xaxis": "x3",
         "y": [
          100
         ],
         "yaxis": "y3"
        },
        {
         "hovertext": "4 Liedzitate im 53%<br>Den rechtmäßigen Gebrauch der Music (Königsberg 1747)<br>Das rein-gestimmte Orgel-Werk unsers Herzens (Nürnberg s.a.)<br>Einweihungs-Predigt (Görlitz 1704)<br>Einweihungs-Predigt (Berlin 1730)<br>",
         "marker": {
          "color": "rgb(190,190,190)"
         },
         "type": "bar",
         "x": [
          "Liedzitate je Predigtprozent"
         ],
         "xaxis": "x3",
         "y": [
          100
         ],
         "yaxis": "y3"
        },
        {
         "hovertext": "4 Liedzitate im 54%<br>Winnedisches Reminiscere (Stuttgart 1740)<br>Das rein-gestimmte Orgel-Werk unsers Herzens (Nürnberg s.a.)<br>Einweihungs-Predigt (Görlitz 1704)<br>Einweihungs-Predigt (Berlin 1730)<br>",
         "marker": {
          "color": "rgb(190,190,190)"
         },
         "type": "bar",
         "x": [
          "Liedzitate je Predigtprozent"
         ],
         "xaxis": "x3",
         "y": [
          100
         ],
         "yaxis": "y3"
        },
        {
         "hovertext": "0 Liedzitate im 55%",
         "marker": {
          "color": "rgb(250,250,250)"
         },
         "type": "bar",
         "x": [
          "Liedzitate je Predigtprozent"
         ],
         "xaxis": "x3",
         "y": [
          100
         ],
         "yaxis": "y3"
        },
        {
         "hovertext": "0 Liedzitate im 56%",
         "marker": {
          "color": "rgb(250,250,250)"
         },
         "type": "bar",
         "x": [
          "Liedzitate je Predigtprozent"
         ],
         "xaxis": "x3",
         "y": [
          100
         ],
         "yaxis": "y3"
        },
        {
         "hovertext": "0 Liedzitate im 57%",
         "marker": {
          "color": "rgb(250,250,250)"
         },
         "type": "bar",
         "x": [
          "Liedzitate je Predigtprozent"
         ],
         "xaxis": "x3",
         "y": [
          100
         ],
         "yaxis": "y3"
        },
        {
         "hovertext": "1 Liedzitate im 58%<br>Winnedisches Reminiscere (Stuttgart 1740)<br>",
         "marker": {
          "color": "rgb(235,235,235)"
         },
         "type": "bar",
         "x": [
          "Liedzitate je Predigtprozent"
         ],
         "xaxis": "x3",
         "y": [
          100
         ],
         "yaxis": "y3"
        },
        {
         "hovertext": "1 Liedzitate im 59%<br>Die Billige Orgel-Freude (Danzig 1739)<br>",
         "marker": {
          "color": "rgb(235,235,235)"
         },
         "type": "bar",
         "x": [
          "Liedzitate je Predigtprozent"
         ],
         "xaxis": "x3",
         "y": [
          100
         ],
         "yaxis": "y3"
        },
        {
         "hovertext": "0 Liedzitate im 60%",
         "marker": {
          "color": "rgb(250,250,250)"
         },
         "type": "bar",
         "x": [
          "Liedzitate je Predigtprozent"
         ],
         "xaxis": "x3",
         "y": [
          100
         ],
         "yaxis": "y3"
        },
        {
         "hovertext": "0 Liedzitate im 61%",
         "marker": {
          "color": "rgb(250,250,250)"
         },
         "type": "bar",
         "x": [
          "Liedzitate je Predigtprozent"
         ],
         "xaxis": "x3",
         "y": [
          100
         ],
         "yaxis": "y3"
        },
        {
         "hovertext": "0 Liedzitate im 62%",
         "marker": {
          "color": "rgb(250,250,250)"
         },
         "type": "bar",
         "x": [
          "Liedzitate je Predigtprozent"
         ],
         "xaxis": "x3",
         "y": [
          100
         ],
         "yaxis": "y3"
        },
        {
         "hovertext": "1 Liedzitate im 63%<br>Das rein-gestimmte Orgel-Werk unsers Herzens (Nürnberg s.a.)<br>",
         "marker": {
          "color": "rgb(235,235,235)"
         },
         "type": "bar",
         "x": [
          "Liedzitate je Predigtprozent"
         ],
         "xaxis": "x3",
         "y": [
          100
         ],
         "yaxis": "y3"
        },
        {
         "hovertext": "1 Liedzitate im 64%<br>Das rein-gestimmte Orgel-Werk unsers Herzens (Nürnberg s.a.)<br>",
         "marker": {
          "color": "rgb(235,235,235)"
         },
         "type": "bar",
         "x": [
          "Liedzitate je Predigtprozent"
         ],
         "xaxis": "x3",
         "y": [
          100
         ],
         "yaxis": "y3"
        },
        {
         "hovertext": "0 Liedzitate im 65%",
         "marker": {
          "color": "rgb(250,250,250)"
         },
         "type": "bar",
         "x": [
          "Liedzitate je Predigtprozent"
         ],
         "xaxis": "x3",
         "y": [
          100
         ],
         "yaxis": "y3"
        },
        {
         "hovertext": "0 Liedzitate im 66%",
         "marker": {
          "color": "rgb(250,250,250)"
         },
         "type": "bar",
         "x": [
          "Liedzitate je Predigtprozent"
         ],
         "xaxis": "x3",
         "y": [
          100
         ],
         "yaxis": "y3"
        },
        {
         "hovertext": "0 Liedzitate im 67%",
         "marker": {
          "color": "rgb(250,250,250)"
         },
         "type": "bar",
         "x": [
          "Liedzitate je Predigtprozent"
         ],
         "xaxis": "x3",
         "y": [
          100
         ],
         "yaxis": "y3"
        },
        {
         "hovertext": "1 Liedzitate im 68%<br>Die edle und wohlgeordnete Music der Gläubigen (Halle 1727)<br>",
         "marker": {
          "color": "rgb(235,235,235)"
         },
         "type": "bar",
         "x": [
          "Liedzitate je Predigtprozent"
         ],
         "xaxis": "x3",
         "y": [
          100
         ],
         "yaxis": "y3"
        },
        {
         "hovertext": "3 Liedzitate im 69%<br>Die heilige Sabbaths-Lust an dem Herrn (Danzig 1749)<br>Ein wolgerührtes Orgel=Werck (Königsberg 1721)<br>Einweihungs-Predigt (Berlin 1730)<br>",
         "marker": {
          "color": "rgb(205,205,205)"
         },
         "type": "bar",
         "x": [
          "Liedzitate je Predigtprozent"
         ],
         "xaxis": "x3",
         "y": [
          100
         ],
         "yaxis": "y3"
        },
        {
         "hovertext": "2 Liedzitate im 70%<br>Die heilige Sabbaths-Lust an dem Herrn (Danzig 1749)<br>Ein wolgerührtes Orgel=Werck (Königsberg 1721)<br>",
         "marker": {
          "color": "rgb(220,220,220)"
         },
         "type": "bar",
         "x": [
          "Liedzitate je Predigtprozent"
         ],
         "xaxis": "x3",
         "y": [
          100
         ],
         "yaxis": "y3"
        },
        {
         "hovertext": "2 Liedzitate im 71%<br>Die heilige Sabbaths-Lust an dem Herrn (Danzig 1749)<br>Ein wolgerührtes Orgel=Werck (Königsberg 1721)<br>",
         "marker": {
          "color": "rgb(220,220,220)"
         },
         "type": "bar",
         "x": [
          "Liedzitate je Predigtprozent"
         ],
         "xaxis": "x3",
         "y": [
          100
         ],
         "yaxis": "y3"
        },
        {
         "hovertext": "2 Liedzitate im 72%<br>Die heilige Sabbaths-Lust an dem Herrn (Danzig 1749)<br>Ein wolgerührtes Orgel=Werck (Königsberg 1721)<br>",
         "marker": {
          "color": "rgb(220,220,220)"
         },
         "type": "bar",
         "x": [
          "Liedzitate je Predigtprozent"
         ],
         "xaxis": "x3",
         "y": [
          100
         ],
         "yaxis": "y3"
        },
        {
         "hovertext": "1 Liedzitate im 73%<br>Das rein-gestimmte Orgel-Werk unsers Herzens (Nürnberg s.a.)<br>",
         "marker": {
          "color": "rgb(235,235,235)"
         },
         "type": "bar",
         "x": [
          "Liedzitate je Predigtprozent"
         ],
         "xaxis": "x3",
         "y": [
          100
         ],
         "yaxis": "y3"
        },
        {
         "hovertext": "2 Liedzitate im 74%<br>Die heilige Sabbaths-Lust an dem Herrn (Danzig 1749)<br>Ein wolgerührtes Orgel=Werck (Königsberg 1721)<br>",
         "marker": {
          "color": "rgb(220,220,220)"
         },
         "type": "bar",
         "x": [
          "Liedzitate je Predigtprozent"
         ],
         "xaxis": "x3",
         "y": [
          100
         ],
         "yaxis": "y3"
        },
        {
         "hovertext": "2 Liedzitate im 75%<br>Die heilige Sabbaths-Lust an dem Herrn (Danzig 1749)<br>Ein wolgerührtes Orgel=Werck (Königsberg 1721)<br>",
         "marker": {
          "color": "rgb(220,220,220)"
         },
         "type": "bar",
         "x": [
          "Liedzitate je Predigtprozent"
         ],
         "xaxis": "x3",
         "y": [
          100
         ],
         "yaxis": "y3"
        },
        {
         "hovertext": "3 Liedzitate im 76%<br>Die heilige Sabbaths-Lust an dem Herrn (Danzig 1749)<br>Ein wolgerührtes Orgel=Werck (Königsberg 1721)<br>Stimme des Predigers (1737)<br>",
         "marker": {
          "color": "rgb(205,205,205)"
         },
         "type": "bar",
         "x": [
          "Liedzitate je Predigtprozent"
         ],
         "xaxis": "x3",
         "y": [
          100
         ],
         "yaxis": "y3"
        },
        {
         "hovertext": "1 Liedzitate im 77%<br>Die heilige Sabbaths-Lust an dem Herrn (Danzig 1749)<br>",
         "marker": {
          "color": "rgb(235,235,235)"
         },
         "type": "bar",
         "x": [
          "Liedzitate je Predigtprozent"
         ],
         "xaxis": "x3",
         "y": [
          100
         ],
         "yaxis": "y3"
        },
        {
         "hovertext": "1 Liedzitate im 78%<br>Glaubiger Kinder Gottes Gott=gefällige Music (Augsburg 1721)<br>",
         "marker": {
          "color": "rgb(235,235,235)"
         },
         "type": "bar",
         "x": [
          "Liedzitate je Predigtprozent"
         ],
         "xaxis": "x3",
         "y": [
          100
         ],
         "yaxis": "y3"
        },
        {
         "hovertext": "1 Liedzitate im 79%<br>Einweihungs-Predigt (Berlin 1730)<br>",
         "marker": {
          "color": "rgb(235,235,235)"
         },
         "type": "bar",
         "x": [
          "Liedzitate je Predigtprozent"
         ],
         "xaxis": "x3",
         "y": [
          100
         ],
         "yaxis": "y3"
        },
        {
         "hovertext": "2 Liedzitate im 80%<br>Die heilige Sabbaths-Lust an dem Herrn (Danzig 1749)<br>Christliche Predigt (Straßburg 1749)<br>",
         "marker": {
          "color": "rgb(220,220,220)"
         },
         "type": "bar",
         "x": [
          "Liedzitate je Predigtprozent"
         ],
         "xaxis": "x3",
         "y": [
          100
         ],
         "yaxis": "y3"
        },
        {
         "hovertext": "1 Liedzitate im 81%<br>Die heilige Sabbaths-Lust an dem Herrn (Danzig 1749)<br>",
         "marker": {
          "color": "rgb(235,235,235)"
         },
         "type": "bar",
         "x": [
          "Liedzitate je Predigtprozent"
         ],
         "xaxis": "x3",
         "y": [
          100
         ],
         "yaxis": "y3"
        },
        {
         "hovertext": "2 Liedzitate im 82%<br>Die heilige Sabbaths-Lust an dem Herrn (Danzig 1749)<br>Die Billige Orgel-Freude (Danzig 1739)<br>",
         "marker": {
          "color": "rgb(220,220,220)"
         },
         "type": "bar",
         "x": [
          "Liedzitate je Predigtprozent"
         ],
         "xaxis": "x3",
         "y": [
          100
         ],
         "yaxis": "y3"
        },
        {
         "hovertext": "1 Liedzitate im 83%<br>Die heilige Sabbaths-Lust an dem Herrn (Danzig 1749)<br>",
         "marker": {
          "color": "rgb(235,235,235)"
         },
         "type": "bar",
         "x": [
          "Liedzitate je Predigtprozent"
         ],
         "xaxis": "x3",
         "y": [
          100
         ],
         "yaxis": "y3"
        },
        {
         "hovertext": "2 Liedzitate im 84%<br>Die heilige Sabbaths-Lust an dem Herrn (Danzig 1749)<br>Den rechtmäßigen Gebrauch der Music (Königsberg 1747)<br>",
         "marker": {
          "color": "rgb(220,220,220)"
         },
         "type": "bar",
         "x": [
          "Liedzitate je Predigtprozent"
         ],
         "xaxis": "x3",
         "y": [
          100
         ],
         "yaxis": "y3"
        },
        {
         "hovertext": "2 Liedzitate im 85%<br>Die heilige Sabbaths-Lust an dem Herrn (Danzig 1749)<br>Das rein-gestimmte Orgel-Werk unsers Herzens (Nürnberg s.a.)<br>",
         "marker": {
          "color": "rgb(220,220,220)"
         },
         "type": "bar",
         "x": [
          "Liedzitate je Predigtprozent"
         ],
         "xaxis": "x3",
         "y": [
          100
         ],
         "yaxis": "y3"
        },
        {
         "hovertext": "2 Liedzitate im 86%<br>Die heilige Sabbaths-Lust an dem Herrn (Danzig 1749)<br>Die edle und wohlgeordnete Music der Gläubigen (Halle 1727)<br>",
         "marker": {
          "color": "rgb(220,220,220)"
         },
         "type": "bar",
         "x": [
          "Liedzitate je Predigtprozent"
         ],
         "xaxis": "x3",
         "y": [
          100
         ],
         "yaxis": "y3"
        },
        {
         "hovertext": "1 Liedzitate im 87%<br>Die heilige Sabbaths-Lust an dem Herrn (Danzig 1749)<br>",
         "marker": {
          "color": "rgb(235,235,235)"
         },
         "type": "bar",
         "x": [
          "Liedzitate je Predigtprozent"
         ],
         "xaxis": "x3",
         "y": [
          100
         ],
         "yaxis": "y3"
        },
        {
         "hovertext": "4 Liedzitate im 88%<br>Die heilige Sabbaths-Lust an dem Herrn (Danzig 1749)<br>Den rechtmäßigen Gebrauch der Music (Königsberg 1747)<br>Winnedisches Reminiscere (Stuttgart 1740)<br>Die verstimmte Zwölff Grösseste Pfeiffen (Tübingen 1725)<br>",
         "marker": {
          "color": "rgb(190,190,190)"
         },
         "type": "bar",
         "x": [
          "Liedzitate je Predigtprozent"
         ],
         "xaxis": "x3",
         "y": [
          100
         ],
         "yaxis": "y3"
        },
        {
         "hovertext": "3 Liedzitate im 89%<br>Winnedisches Reminiscere (Stuttgart 1740)<br>Die verstimmte Zwölff Grösseste Pfeiffen (Tübingen 1725)<br>Evangelischer Christen Gott-gefällige Kirch-Weyhung (Dresden 1711)<br>",
         "marker": {
          "color": "rgb(205,205,205)"
         },
         "type": "bar",
         "x": [
          "Liedzitate je Predigtprozent"
         ],
         "xaxis": "x3",
         "y": [
          100
         ],
         "yaxis": "y3"
        },
        {
         "hovertext": "1 Liedzitate im 90%<br>Evangelischer Christen Gott-gefällige Kirch-Weyhung (Dresden 1711)<br>",
         "marker": {
          "color": "rgb(235,235,235)"
         },
         "type": "bar",
         "x": [
          "Liedzitate je Predigtprozent"
         ],
         "xaxis": "x3",
         "y": [
          100
         ],
         "yaxis": "y3"
        },
        {
         "hovertext": "1 Liedzitate im 91%<br>Davids Vermahnung (Dresden 1711)<br>",
         "marker": {
          "color": "rgb(235,235,235)"
         },
         "type": "bar",
         "x": [
          "Liedzitate je Predigtprozent"
         ],
         "xaxis": "x3",
         "y": [
          100
         ],
         "yaxis": "y3"
        },
        {
         "hovertext": "5 Liedzitate im 92%<br>Die heilige Sabbaths-Lust an dem Herrn (Danzig 1749)<br>Den rechtmäßigen Gebrauch der Music (Königsberg 1747)<br>Davids Vermahnung (Dresden 1711)<br>Einweihungs-Predigt (Berlin 1730)<br>Stimme des Predigers (1737)<br>",
         "marker": {
          "color": "rgb(175,175,175)"
         },
         "type": "bar",
         "x": [
          "Liedzitate je Predigtprozent"
         ],
         "xaxis": "x3",
         "y": [
          100
         ],
         "yaxis": "y3"
        },
        {
         "hovertext": "3 Liedzitate im 93%<br>Das Neue Lied (Freiberg 1735)<br>Die edle und wohlgeordnete Music der Gläubigen (Halle 1727)<br>Stimme des Predigers (1737)<br>",
         "marker": {
          "color": "rgb(205,205,205)"
         },
         "type": "bar",
         "x": [
          "Liedzitate je Predigtprozent"
         ],
         "xaxis": "x3",
         "y": [
          100
         ],
         "yaxis": "y3"
        },
        {
         "hovertext": "4 Liedzitate im 94%<br>Den rechtmäßigen Gebrauch der Music (Königsberg 1747)<br>Winnedisches Reminiscere (Stuttgart 1740)<br>Das Neue Lied (Freiberg 1735)<br>Davids Vermahnung (Dresden 1711)<br>",
         "marker": {
          "color": "rgb(190,190,190)"
         },
         "type": "bar",
         "x": [
          "Liedzitate je Predigtprozent"
         ],
         "xaxis": "x3",
         "y": [
          100
         ],
         "yaxis": "y3"
        },
        {
         "hovertext": "2 Liedzitate im 95%<br>Den rechtmäßigen Gebrauch der Music (Königsberg 1747)<br>Vivum Dei Organum (Schneeberg s.a.)<br>",
         "marker": {
          "color": "rgb(220,220,220)"
         },
         "type": "bar",
         "x": [
          "Liedzitate je Predigtprozent"
         ],
         "xaxis": "x3",
         "y": [
          100
         ],
         "yaxis": "y3"
        },
        {
         "hovertext": "3 Liedzitate im 96%<br>Vivum Dei Organum (Schneeberg s.a.)<br>Das rein-gestimmte Orgel-Werk unsers Herzens (Nürnberg s.a.)<br>Einweihungs-Predigt (Berlin 1730)<br>",
         "marker": {
          "color": "rgb(205,205,205)"
         },
         "type": "bar",
         "x": [
          "Liedzitate je Predigtprozent"
         ],
         "xaxis": "x3",
         "y": [
          100
         ],
         "yaxis": "y3"
        },
        {
         "hovertext": "3 Liedzitate im 97%<br>Hymnosophia sacra (Billwerder 1728)<br>Das rein-gestimmte Orgel-Werk unsers Herzens (Nürnberg s.a.)<br>Einweihungs-Predigt (Berlin 1730)<br>",
         "marker": {
          "color": "rgb(205,205,205)"
         },
         "type": "bar",
         "x": [
          "Liedzitate je Predigtprozent"
         ],
         "xaxis": "x3",
         "y": [
          100
         ],
         "yaxis": "y3"
        },
        {
         "hovertext": "3 Liedzitate im 98%<br>Die heilige Sabbaths-Lust an dem Herrn (Danzig 1749)<br>Ein wolgerührtes Orgel=Werck (Königsberg 1721)<br>Einweihungs-Predigt (Berlin 1730)<br>",
         "marker": {
          "color": "rgb(205,205,205)"
         },
         "type": "bar",
         "x": [
          "Liedzitate je Predigtprozent"
         ],
         "xaxis": "x3",
         "y": [
          100
         ],
         "yaxis": "y3"
        },
        {
         "hovertext": "5 Liedzitate im 99%<br>Die Billige Orgel-Freude (Danzig 1739)<br>Ein wolgerührtes Orgel=Werck (Königsberg 1721)<br>Davids Vermahnung (Dresden 1711)<br>Einweihungs-Predigt (Görlitz 1704)<br>Einweihungs-Predigt (Berlin 1730)<br>",
         "marker": {
          "color": "rgb(175,175,175)"
         },
         "type": "bar",
         "x": [
          "Liedzitate je Predigtprozent"
         ],
         "xaxis": "x3",
         "y": [
          100
         ],
         "yaxis": "y3"
        },
        {
         "hovertext": "9 Liedzitate im 100%<br>Christliche Predigt (Straßburg 1749)<br>Den rechtmäßigen Gebrauch der Music (Königsberg 1747)<br>Die Billige Orgel-Freude (Danzig 1739)<br>Hymnosophia sacra (Billwerder 1728)<br>Vivum Dei Organum (Schneeberg s.a.)<br>Davids Vermahnung (Dresden 1711)<br>Christliche Orgel-Predigt (Danzig s.a.)<br>Einweihungs-Predigt (Görlitz 1704)<br>Einweihungs-Predigt (Berlin 1730)<br>",
         "marker": {
          "color": "rgb(115,115,115)"
         },
         "type": "bar",
         "x": [
          "Liedzitate je Predigtprozent"
         ],
         "xaxis": "x3",
         "y": [
          100
         ],
         "yaxis": "y3"
        },
        {
         "hovertext": "0 Liedzitate im 1%",
         "marker": {
          "color": "rgb(250,250,250)"
         },
         "type": "bar",
         "x": [
          "Liedzitate je Predigtprozent"
         ],
         "xaxis": "x4",
         "y": [
          100
         ],
         "yaxis": "y4"
        },
        {
         "hovertext": "0 Liedzitate im 2%",
         "marker": {
          "color": "rgb(250,250,250)"
         },
         "type": "bar",
         "x": [
          "Liedzitate je Predigtprozent"
         ],
         "xaxis": "x4",
         "y": [
          100
         ],
         "yaxis": "y4"
        },
        {
         "hovertext": "0 Liedzitate im 3%",
         "marker": {
          "color": "rgb(250,250,250)"
         },
         "type": "bar",
         "x": [
          "Liedzitate je Predigtprozent"
         ],
         "xaxis": "x4",
         "y": [
          100
         ],
         "yaxis": "y4"
        },
        {
         "hovertext": "1 Liedzitate im 4%<br>Die heiligen Verrichtungen in dem Hause des Herrn (Eisenach 1765)<br>",
         "marker": {
          "color": "rgb(235,235,235)"
         },
         "type": "bar",
         "x": [
          "Liedzitate je Predigtprozent"
         ],
         "xaxis": "x4",
         "y": [
          100
         ],
         "yaxis": "y4"
        },
        {
         "hovertext": "1 Liedzitate im 5%<br>Die heiligen Verrichtungen in dem Hause des Herrn (Eisenach 1765)<br>",
         "marker": {
          "color": "rgb(235,235,235)"
         },
         "type": "bar",
         "x": [
          "Liedzitate je Predigtprozent"
         ],
         "xaxis": "x4",
         "y": [
          100
         ],
         "yaxis": "y4"
        },
        {
         "hovertext": "2 Liedzitate im 6%<br>Predigt Bey der Einweihung einer Orgel (Leipzig 1797)<br>Die heiligen Verrichtungen in dem Hause des Herrn (Eisenach 1765)<br>",
         "marker": {
          "color": "rgb(220,220,220)"
         },
         "type": "bar",
         "x": [
          "Liedzitate je Predigtprozent"
         ],
         "xaxis": "x4",
         "y": [
          100
         ],
         "yaxis": "y4"
        },
        {
         "hovertext": "2 Liedzitate im 7%<br>Predigt bey der feyerlichen Einweihung der neuen Orgel (Magdeburg 1798)<br>Predigt Bey der Einweihung einer Orgel (Leipzig 1797)<br>",
         "marker": {
          "color": "rgb(220,220,220)"
         },
         "type": "bar",
         "x": [
          "Liedzitate je Predigtprozent"
         ],
         "xaxis": "x4",
         "y": [
          100
         ],
         "yaxis": "y4"
        },
        {
         "hovertext": "3 Liedzitate im 8%<br>Predigt Bey der Einweihung einer Orgel (Leipzig 1797)<br>Predigt am Feste der Heimsuchung Mariae (Rostock 1770)<br>Der Christen gerechte Freude (Breslau 1761)<br>",
         "marker": {
          "color": "rgb(205,205,205)"
         },
         "type": "bar",
         "x": [
          "Liedzitate je Predigtprozent"
         ],
         "xaxis": "x4",
         "y": [
          100
         ],
         "yaxis": "y4"
        },
        {
         "hovertext": "0 Liedzitate im 9%",
         "marker": {
          "color": "rgb(250,250,250)"
         },
         "type": "bar",
         "x": [
          "Liedzitate je Predigtprozent"
         ],
         "xaxis": "x4",
         "y": [
          100
         ],
         "yaxis": "y4"
        },
        {
         "hovertext": "0 Liedzitate im 10%",
         "marker": {
          "color": "rgb(250,250,250)"
         },
         "type": "bar",
         "x": [
          "Liedzitate je Predigtprozent"
         ],
         "xaxis": "x4",
         "y": [
          100
         ],
         "yaxis": "y4"
        },
        {
         "hovertext": "0 Liedzitate im 11%",
         "marker": {
          "color": "rgb(250,250,250)"
         },
         "type": "bar",
         "x": [
          "Liedzitate je Predigtprozent"
         ],
         "xaxis": "x4",
         "y": [
          100
         ],
         "yaxis": "y4"
        },
        {
         "hovertext": "0 Liedzitate im 12%",
         "marker": {
          "color": "rgb(250,250,250)"
         },
         "type": "bar",
         "x": [
          "Liedzitate je Predigtprozent"
         ],
         "xaxis": "x4",
         "y": [
          100
         ],
         "yaxis": "y4"
        },
        {
         "hovertext": "2 Liedzitate im 13%<br>Das heilige und fröliche Aufsehen (Tübingen 1767)<br>Lob= und Danck=Predigt (Berlin 1753)<br>",
         "marker": {
          "color": "rgb(220,220,220)"
         },
         "type": "bar",
         "x": [
          "Liedzitate je Predigtprozent"
         ],
         "xaxis": "x4",
         "y": [
          100
         ],
         "yaxis": "y4"
        },
        {
         "hovertext": "1 Liedzitate im 14%<br>Lob= und Danck=Predigt (Berlin 1753)<br>",
         "marker": {
          "color": "rgb(235,235,235)"
         },
         "type": "bar",
         "x": [
          "Liedzitate je Predigtprozent"
         ],
         "xaxis": "x4",
         "y": [
          100
         ],
         "yaxis": "y4"
        },
        {
         "hovertext": "0 Liedzitate im 15%",
         "marker": {
          "color": "rgb(250,250,250)"
         },
         "type": "bar",
         "x": [
          "Liedzitate je Predigtprozent"
         ],
         "xaxis": "x4",
         "y": [
          100
         ],
         "yaxis": "y4"
        },
        {
         "hovertext": "0 Liedzitate im 16%",
         "marker": {
          "color": "rgb(250,250,250)"
         },
         "type": "bar",
         "x": [
          "Liedzitate je Predigtprozent"
         ],
         "xaxis": "x4",
         "y": [
          100
         ],
         "yaxis": "y4"
        },
        {
         "hovertext": "2 Liedzitate im 17%<br>Rede und Predigt bei Einweihung der neuen Orgel (Stockholm 1781)<br>Der Christen gerechte Freude (Breslau 1761)<br>",
         "marker": {
          "color": "rgb(220,220,220)"
         },
         "type": "bar",
         "x": [
          "Liedzitate je Predigtprozent"
         ],
         "xaxis": "x4",
         "y": [
          100
         ],
         "yaxis": "y4"
        },
        {
         "hovertext": "3 Liedzitate im 18%<br>Predigt Bey der Einweihung einer Orgel (Leipzig 1797)<br>Rede und Predigt bei Einweihung der neuen Orgel (Stockholm 1781)<br>Der Christen gerechte Freude (Breslau 1761)<br>",
         "marker": {
          "color": "rgb(205,205,205)"
         },
         "type": "bar",
         "x": [
          "Liedzitate je Predigtprozent"
         ],
         "xaxis": "x4",
         "y": [
          100
         ],
         "yaxis": "y4"
        },
        {
         "hovertext": "2 Liedzitate im 19%<br>Rede und Predigt bei Einweihung der neuen Orgel (Stockholm 1781)<br>Der Christen gerechte Freude (Breslau 1761)<br>",
         "marker": {
          "color": "rgb(220,220,220)"
         },
         "type": "bar",
         "x": [
          "Liedzitate je Predigtprozent"
         ],
         "xaxis": "x4",
         "y": [
          100
         ],
         "yaxis": "y4"
        },
        {
         "hovertext": "0 Liedzitate im 20%",
         "marker": {
          "color": "rgb(250,250,250)"
         },
         "type": "bar",
         "x": [
          "Liedzitate je Predigtprozent"
         ],
         "xaxis": "x4",
         "y": [
          100
         ],
         "yaxis": "y4"
        },
        {
         "hovertext": "1 Liedzitate im 21%<br>Rede und Predigt bei Einweihung der neuen Orgel (Stockholm 1781)<br>",
         "marker": {
          "color": "rgb(235,235,235)"
         },
         "type": "bar",
         "x": [
          "Liedzitate je Predigtprozent"
         ],
         "xaxis": "x4",
         "y": [
          100
         ],
         "yaxis": "y4"
        },
        {
         "hovertext": "0 Liedzitate im 22%",
         "marker": {
          "color": "rgb(250,250,250)"
         },
         "type": "bar",
         "x": [
          "Liedzitate je Predigtprozent"
         ],
         "xaxis": "x4",
         "y": [
          100
         ],
         "yaxis": "y4"
        },
        {
         "hovertext": "0 Liedzitate im 23%",
         "marker": {
          "color": "rgb(250,250,250)"
         },
         "type": "bar",
         "x": [
          "Liedzitate je Predigtprozent"
         ],
         "xaxis": "x4",
         "y": [
          100
         ],
         "yaxis": "y4"
        },
        {
         "hovertext": "0 Liedzitate im 24%",
         "marker": {
          "color": "rgb(250,250,250)"
         },
         "type": "bar",
         "x": [
          "Liedzitate je Predigtprozent"
         ],
         "xaxis": "x4",
         "y": [
          100
         ],
         "yaxis": "y4"
        },
        {
         "hovertext": "1 Liedzitate im 25%<br>Der rechte Gebrauch der Orgeln (Altenburg 1766)<br>",
         "marker": {
          "color": "rgb(235,235,235)"
         },
         "type": "bar",
         "x": [
          "Liedzitate je Predigtprozent"
         ],
         "xaxis": "x4",
         "y": [
          100
         ],
         "yaxis": "y4"
        },
        {
         "hovertext": "0 Liedzitate im 26%",
         "marker": {
          "color": "rgb(250,250,250)"
         },
         "type": "bar",
         "x": [
          "Liedzitate je Predigtprozent"
         ],
         "xaxis": "x4",
         "y": [
          100
         ],
         "yaxis": "y4"
        },
        {
         "hovertext": "0 Liedzitate im 27%",
         "marker": {
          "color": "rgb(250,250,250)"
         },
         "type": "bar",
         "x": [
          "Liedzitate je Predigtprozent"
         ],
         "xaxis": "x4",
         "y": [
          100
         ],
         "yaxis": "y4"
        },
        {
         "hovertext": "0 Liedzitate im 28%",
         "marker": {
          "color": "rgb(250,250,250)"
         },
         "type": "bar",
         "x": [
          "Liedzitate je Predigtprozent"
         ],
         "xaxis": "x4",
         "y": [
          100
         ],
         "yaxis": "y4"
        },
        {
         "hovertext": "0 Liedzitate im 29%",
         "marker": {
          "color": "rgb(250,250,250)"
         },
         "type": "bar",
         "x": [
          "Liedzitate je Predigtprozent"
         ],
         "xaxis": "x4",
         "y": [
          100
         ],
         "yaxis": "y4"
        },
        {
         "hovertext": "0 Liedzitate im 30%",
         "marker": {
          "color": "rgb(250,250,250)"
         },
         "type": "bar",
         "x": [
          "Liedzitate je Predigtprozent"
         ],
         "xaxis": "x4",
         "y": [
          100
         ],
         "yaxis": "y4"
        },
        {
         "hovertext": "0 Liedzitate im 31%",
         "marker": {
          "color": "rgb(250,250,250)"
         },
         "type": "bar",
         "x": [
          "Liedzitate je Predigtprozent"
         ],
         "xaxis": "x4",
         "y": [
          100
         ],
         "yaxis": "y4"
        },
        {
         "hovertext": "0 Liedzitate im 32%",
         "marker": {
          "color": "rgb(250,250,250)"
         },
         "type": "bar",
         "x": [
          "Liedzitate je Predigtprozent"
         ],
         "xaxis": "x4",
         "y": [
          100
         ],
         "yaxis": "y4"
        },
        {
         "hovertext": "0 Liedzitate im 33%",
         "marker": {
          "color": "rgb(250,250,250)"
         },
         "type": "bar",
         "x": [
          "Liedzitate je Predigtprozent"
         ],
         "xaxis": "x4",
         "y": [
          100
         ],
         "yaxis": "y4"
        },
        {
         "hovertext": "0 Liedzitate im 34%",
         "marker": {
          "color": "rgb(250,250,250)"
         },
         "type": "bar",
         "x": [
          "Liedzitate je Predigtprozent"
         ],
         "xaxis": "x4",
         "y": [
          100
         ],
         "yaxis": "y4"
        },
        {
         "hovertext": "0 Liedzitate im 35%",
         "marker": {
          "color": "rgb(250,250,250)"
         },
         "type": "bar",
         "x": [
          "Liedzitate je Predigtprozent"
         ],
         "xaxis": "x4",
         "y": [
          100
         ],
         "yaxis": "y4"
        },
        {
         "hovertext": "0 Liedzitate im 36%",
         "marker": {
          "color": "rgb(250,250,250)"
         },
         "type": "bar",
         "x": [
          "Liedzitate je Predigtprozent"
         ],
         "xaxis": "x4",
         "y": [
          100
         ],
         "yaxis": "y4"
        },
        {
         "hovertext": "0 Liedzitate im 37%",
         "marker": {
          "color": "rgb(250,250,250)"
         },
         "type": "bar",
         "x": [
          "Liedzitate je Predigtprozent"
         ],
         "xaxis": "x4",
         "y": [
          100
         ],
         "yaxis": "y4"
        },
        {
         "hovertext": "0 Liedzitate im 38%",
         "marker": {
          "color": "rgb(250,250,250)"
         },
         "type": "bar",
         "x": [
          "Liedzitate je Predigtprozent"
         ],
         "xaxis": "x4",
         "y": [
          100
         ],
         "yaxis": "y4"
        },
        {
         "hovertext": "0 Liedzitate im 39%",
         "marker": {
          "color": "rgb(250,250,250)"
         },
         "type": "bar",
         "x": [
          "Liedzitate je Predigtprozent"
         ],
         "xaxis": "x4",
         "y": [
          100
         ],
         "yaxis": "y4"
        },
        {
         "hovertext": "0 Liedzitate im 40%",
         "marker": {
          "color": "rgb(250,250,250)"
         },
         "type": "bar",
         "x": [
          "Liedzitate je Predigtprozent"
         ],
         "xaxis": "x4",
         "y": [
          100
         ],
         "yaxis": "y4"
        },
        {
         "hovertext": "0 Liedzitate im 41%",
         "marker": {
          "color": "rgb(250,250,250)"
         },
         "type": "bar",
         "x": [
          "Liedzitate je Predigtprozent"
         ],
         "xaxis": "x4",
         "y": [
          100
         ],
         "yaxis": "y4"
        },
        {
         "hovertext": "0 Liedzitate im 42%",
         "marker": {
          "color": "rgb(250,250,250)"
         },
         "type": "bar",
         "x": [
          "Liedzitate je Predigtprozent"
         ],
         "xaxis": "x4",
         "y": [
          100
         ],
         "yaxis": "y4"
        },
        {
         "hovertext": "0 Liedzitate im 43%",
         "marker": {
          "color": "rgb(250,250,250)"
         },
         "type": "bar",
         "x": [
          "Liedzitate je Predigtprozent"
         ],
         "xaxis": "x4",
         "y": [
          100
         ],
         "yaxis": "y4"
        },
        {
         "hovertext": "0 Liedzitate im 44%",
         "marker": {
          "color": "rgb(250,250,250)"
         },
         "type": "bar",
         "x": [
          "Liedzitate je Predigtprozent"
         ],
         "xaxis": "x4",
         "y": [
          100
         ],
         "yaxis": "y4"
        },
        {
         "hovertext": "0 Liedzitate im 45%",
         "marker": {
          "color": "rgb(250,250,250)"
         },
         "type": "bar",
         "x": [
          "Liedzitate je Predigtprozent"
         ],
         "xaxis": "x4",
         "y": [
          100
         ],
         "yaxis": "y4"
        },
        {
         "hovertext": "0 Liedzitate im 46%",
         "marker": {
          "color": "rgb(250,250,250)"
         },
         "type": "bar",
         "x": [
          "Liedzitate je Predigtprozent"
         ],
         "xaxis": "x4",
         "y": [
          100
         ],
         "yaxis": "y4"
        },
        {
         "hovertext": "0 Liedzitate im 47%",
         "marker": {
          "color": "rgb(250,250,250)"
         },
         "type": "bar",
         "x": [
          "Liedzitate je Predigtprozent"
         ],
         "xaxis": "x4",
         "y": [
          100
         ],
         "yaxis": "y4"
        },
        {
         "hovertext": "0 Liedzitate im 48%",
         "marker": {
          "color": "rgb(250,250,250)"
         },
         "type": "bar",
         "x": [
          "Liedzitate je Predigtprozent"
         ],
         "xaxis": "x4",
         "y": [
          100
         ],
         "yaxis": "y4"
        },
        {
         "hovertext": "0 Liedzitate im 49%",
         "marker": {
          "color": "rgb(250,250,250)"
         },
         "type": "bar",
         "x": [
          "Liedzitate je Predigtprozent"
         ],
         "xaxis": "x4",
         "y": [
          100
         ],
         "yaxis": "y4"
        },
        {
         "hovertext": "1 Liedzitate im 50%<br>Predigt am Feste der Heimsuchung Mariae (Rostock 1770)<br>",
         "marker": {
          "color": "rgb(235,235,235)"
         },
         "type": "bar",
         "x": [
          "Liedzitate je Predigtprozent"
         ],
         "xaxis": "x4",
         "y": [
          100
         ],
         "yaxis": "y4"
        },
        {
         "hovertext": "0 Liedzitate im 51%",
         "marker": {
          "color": "rgb(250,250,250)"
         },
         "type": "bar",
         "x": [
          "Liedzitate je Predigtprozent"
         ],
         "xaxis": "x4",
         "y": [
          100
         ],
         "yaxis": "y4"
        },
        {
         "hovertext": "0 Liedzitate im 52%",
         "marker": {
          "color": "rgb(250,250,250)"
         },
         "type": "bar",
         "x": [
          "Liedzitate je Predigtprozent"
         ],
         "xaxis": "x4",
         "y": [
          100
         ],
         "yaxis": "y4"
        },
        {
         "hovertext": "0 Liedzitate im 53%",
         "marker": {
          "color": "rgb(250,250,250)"
         },
         "type": "bar",
         "x": [
          "Liedzitate je Predigtprozent"
         ],
         "xaxis": "x4",
         "y": [
          100
         ],
         "yaxis": "y4"
        },
        {
         "hovertext": "0 Liedzitate im 54%",
         "marker": {
          "color": "rgb(250,250,250)"
         },
         "type": "bar",
         "x": [
          "Liedzitate je Predigtprozent"
         ],
         "xaxis": "x4",
         "y": [
          100
         ],
         "yaxis": "y4"
        },
        {
         "hovertext": "0 Liedzitate im 55%",
         "marker": {
          "color": "rgb(250,250,250)"
         },
         "type": "bar",
         "x": [
          "Liedzitate je Predigtprozent"
         ],
         "xaxis": "x4",
         "y": [
          100
         ],
         "yaxis": "y4"
        },
        {
         "hovertext": "0 Liedzitate im 56%",
         "marker": {
          "color": "rgb(250,250,250)"
         },
         "type": "bar",
         "x": [
          "Liedzitate je Predigtprozent"
         ],
         "xaxis": "x4",
         "y": [
          100
         ],
         "yaxis": "y4"
        },
        {
         "hovertext": "0 Liedzitate im 57%",
         "marker": {
          "color": "rgb(250,250,250)"
         },
         "type": "bar",
         "x": [
          "Liedzitate je Predigtprozent"
         ],
         "xaxis": "x4",
         "y": [
          100
         ],
         "yaxis": "y4"
        },
        {
         "hovertext": "0 Liedzitate im 58%",
         "marker": {
          "color": "rgb(250,250,250)"
         },
         "type": "bar",
         "x": [
          "Liedzitate je Predigtprozent"
         ],
         "xaxis": "x4",
         "y": [
          100
         ],
         "yaxis": "y4"
        },
        {
         "hovertext": "0 Liedzitate im 59%",
         "marker": {
          "color": "rgb(250,250,250)"
         },
         "type": "bar",
         "x": [
          "Liedzitate je Predigtprozent"
         ],
         "xaxis": "x4",
         "y": [
          100
         ],
         "yaxis": "y4"
        },
        {
         "hovertext": "0 Liedzitate im 60%",
         "marker": {
          "color": "rgb(250,250,250)"
         },
         "type": "bar",
         "x": [
          "Liedzitate je Predigtprozent"
         ],
         "xaxis": "x4",
         "y": [
          100
         ],
         "yaxis": "y4"
        },
        {
         "hovertext": "1 Liedzitate im 61%<br>Das heilige und fröliche Aufsehen (Tübingen 1767)<br>",
         "marker": {
          "color": "rgb(235,235,235)"
         },
         "type": "bar",
         "x": [
          "Liedzitate je Predigtprozent"
         ],
         "xaxis": "x4",
         "y": [
          100
         ],
         "yaxis": "y4"
        },
        {
         "hovertext": "2 Liedzitate im 62%<br>Predigt bey der feyerlichen Einweihung der neuen Orgel (Magdeburg 1798)<br>Das heilige und fröliche Aufsehen (Tübingen 1767)<br>",
         "marker": {
          "color": "rgb(220,220,220)"
         },
         "type": "bar",
         "x": [
          "Liedzitate je Predigtprozent"
         ],
         "xaxis": "x4",
         "y": [
          100
         ],
         "yaxis": "y4"
        },
        {
         "hovertext": "0 Liedzitate im 63%",
         "marker": {
          "color": "rgb(250,250,250)"
         },
         "type": "bar",
         "x": [
          "Liedzitate je Predigtprozent"
         ],
         "xaxis": "x4",
         "y": [
          100
         ],
         "yaxis": "y4"
        },
        {
         "hovertext": "0 Liedzitate im 64%",
         "marker": {
          "color": "rgb(250,250,250)"
         },
         "type": "bar",
         "x": [
          "Liedzitate je Predigtprozent"
         ],
         "xaxis": "x4",
         "y": [
          100
         ],
         "yaxis": "y4"
        },
        {
         "hovertext": "0 Liedzitate im 65%",
         "marker": {
          "color": "rgb(250,250,250)"
         },
         "type": "bar",
         "x": [
          "Liedzitate je Predigtprozent"
         ],
         "xaxis": "x4",
         "y": [
          100
         ],
         "yaxis": "y4"
        },
        {
         "hovertext": "0 Liedzitate im 66%",
         "marker": {
          "color": "rgb(250,250,250)"
         },
         "type": "bar",
         "x": [
          "Liedzitate je Predigtprozent"
         ],
         "xaxis": "x4",
         "y": [
          100
         ],
         "yaxis": "y4"
        },
        {
         "hovertext": "0 Liedzitate im 67%",
         "marker": {
          "color": "rgb(250,250,250)"
         },
         "type": "bar",
         "x": [
          "Liedzitate je Predigtprozent"
         ],
         "xaxis": "x4",
         "y": [
          100
         ],
         "yaxis": "y4"
        },
        {
         "hovertext": "0 Liedzitate im 68%",
         "marker": {
          "color": "rgb(250,250,250)"
         },
         "type": "bar",
         "x": [
          "Liedzitate je Predigtprozent"
         ],
         "xaxis": "x4",
         "y": [
          100
         ],
         "yaxis": "y4"
        },
        {
         "hovertext": "1 Liedzitate im 69%<br>Predigt bey der feyerlichen Einweihung der neuen Orgel (Magdeburg 1798)<br>",
         "marker": {
          "color": "rgb(235,235,235)"
         },
         "type": "bar",
         "x": [
          "Liedzitate je Predigtprozent"
         ],
         "xaxis": "x4",
         "y": [
          100
         ],
         "yaxis": "y4"
        },
        {
         "hovertext": "0 Liedzitate im 70%",
         "marker": {
          "color": "rgb(250,250,250)"
         },
         "type": "bar",
         "x": [
          "Liedzitate je Predigtprozent"
         ],
         "xaxis": "x4",
         "y": [
          100
         ],
         "yaxis": "y4"
        },
        {
         "hovertext": "0 Liedzitate im 71%",
         "marker": {
          "color": "rgb(250,250,250)"
         },
         "type": "bar",
         "x": [
          "Liedzitate je Predigtprozent"
         ],
         "xaxis": "x4",
         "y": [
          100
         ],
         "yaxis": "y4"
        },
        {
         "hovertext": "0 Liedzitate im 72%",
         "marker": {
          "color": "rgb(250,250,250)"
         },
         "type": "bar",
         "x": [
          "Liedzitate je Predigtprozent"
         ],
         "xaxis": "x4",
         "y": [
          100
         ],
         "yaxis": "y4"
        },
        {
         "hovertext": "0 Liedzitate im 73%",
         "marker": {
          "color": "rgb(250,250,250)"
         },
         "type": "bar",
         "x": [
          "Liedzitate je Predigtprozent"
         ],
         "xaxis": "x4",
         "y": [
          100
         ],
         "yaxis": "y4"
        },
        {
         "hovertext": "0 Liedzitate im 74%",
         "marker": {
          "color": "rgb(250,250,250)"
         },
         "type": "bar",
         "x": [
          "Liedzitate je Predigtprozent"
         ],
         "xaxis": "x4",
         "y": [
          100
         ],
         "yaxis": "y4"
        },
        {
         "hovertext": "0 Liedzitate im 75%",
         "marker": {
          "color": "rgb(250,250,250)"
         },
         "type": "bar",
         "x": [
          "Liedzitate je Predigtprozent"
         ],
         "xaxis": "x4",
         "y": [
          100
         ],
         "yaxis": "y4"
        },
        {
         "hovertext": "1 Liedzitate im 76%<br>Der Christen gerechte Freude (Breslau 1761)<br>",
         "marker": {
          "color": "rgb(235,235,235)"
         },
         "type": "bar",
         "x": [
          "Liedzitate je Predigtprozent"
         ],
         "xaxis": "x4",
         "y": [
          100
         ],
         "yaxis": "y4"
        },
        {
         "hovertext": "0 Liedzitate im 77%",
         "marker": {
          "color": "rgb(250,250,250)"
         },
         "type": "bar",
         "x": [
          "Liedzitate je Predigtprozent"
         ],
         "xaxis": "x4",
         "y": [
          100
         ],
         "yaxis": "y4"
        },
        {
         "hovertext": "0 Liedzitate im 78%",
         "marker": {
          "color": "rgb(250,250,250)"
         },
         "type": "bar",
         "x": [
          "Liedzitate je Predigtprozent"
         ],
         "xaxis": "x4",
         "y": [
          100
         ],
         "yaxis": "y4"
        },
        {
         "hovertext": "0 Liedzitate im 79%",
         "marker": {
          "color": "rgb(250,250,250)"
         },
         "type": "bar",
         "x": [
          "Liedzitate je Predigtprozent"
         ],
         "xaxis": "x4",
         "y": [
          100
         ],
         "yaxis": "y4"
        },
        {
         "hovertext": "0 Liedzitate im 80%",
         "marker": {
          "color": "rgb(250,250,250)"
         },
         "type": "bar",
         "x": [
          "Liedzitate je Predigtprozent"
         ],
         "xaxis": "x4",
         "y": [
          100
         ],
         "yaxis": "y4"
        },
        {
         "hovertext": "0 Liedzitate im 81%",
         "marker": {
          "color": "rgb(250,250,250)"
         },
         "type": "bar",
         "x": [
          "Liedzitate je Predigtprozent"
         ],
         "xaxis": "x4",
         "y": [
          100
         ],
         "yaxis": "y4"
        },
        {
         "hovertext": "0 Liedzitate im 82%",
         "marker": {
          "color": "rgb(250,250,250)"
         },
         "type": "bar",
         "x": [
          "Liedzitate je Predigtprozent"
         ],
         "xaxis": "x4",
         "y": [
          100
         ],
         "yaxis": "y4"
        },
        {
         "hovertext": "0 Liedzitate im 83%",
         "marker": {
          "color": "rgb(250,250,250)"
         },
         "type": "bar",
         "x": [
          "Liedzitate je Predigtprozent"
         ],
         "xaxis": "x4",
         "y": [
          100
         ],
         "yaxis": "y4"
        },
        {
         "hovertext": "0 Liedzitate im 84%",
         "marker": {
          "color": "rgb(250,250,250)"
         },
         "type": "bar",
         "x": [
          "Liedzitate je Predigtprozent"
         ],
         "xaxis": "x4",
         "y": [
          100
         ],
         "yaxis": "y4"
        },
        {
         "hovertext": "0 Liedzitate im 85%",
         "marker": {
          "color": "rgb(250,250,250)"
         },
         "type": "bar",
         "x": [
          "Liedzitate je Predigtprozent"
         ],
         "xaxis": "x4",
         "y": [
          100
         ],
         "yaxis": "y4"
        },
        {
         "hovertext": "1 Liedzitate im 86%<br>Das heilige und fröliche Aufsehen (Tübingen 1767)<br>",
         "marker": {
          "color": "rgb(235,235,235)"
         },
         "type": "bar",
         "x": [
          "Liedzitate je Predigtprozent"
         ],
         "xaxis": "x4",
         "y": [
          100
         ],
         "yaxis": "y4"
        },
        {
         "hovertext": "1 Liedzitate im 87%<br>Das heilige und fröliche Aufsehen (Tübingen 1767)<br>",
         "marker": {
          "color": "rgb(235,235,235)"
         },
         "type": "bar",
         "x": [
          "Liedzitate je Predigtprozent"
         ],
         "xaxis": "x4",
         "y": [
          100
         ],
         "yaxis": "y4"
        },
        {
         "hovertext": "0 Liedzitate im 88%",
         "marker": {
          "color": "rgb(250,250,250)"
         },
         "type": "bar",
         "x": [
          "Liedzitate je Predigtprozent"
         ],
         "xaxis": "x4",
         "y": [
          100
         ],
         "yaxis": "y4"
        },
        {
         "hovertext": "0 Liedzitate im 89%",
         "marker": {
          "color": "rgb(250,250,250)"
         },
         "type": "bar",
         "x": [
          "Liedzitate je Predigtprozent"
         ],
         "xaxis": "x4",
         "y": [
          100
         ],
         "yaxis": "y4"
        },
        {
         "hovertext": "1 Liedzitate im 90%<br>Der Christen gerechte Freude (Breslau 1761)<br>",
         "marker": {
          "color": "rgb(235,235,235)"
         },
         "type": "bar",
         "x": [
          "Liedzitate je Predigtprozent"
         ],
         "xaxis": "x4",
         "y": [
          100
         ],
         "yaxis": "y4"
        },
        {
         "hovertext": "1 Liedzitate im 91%<br>Der Christen gerechte Freude (Breslau 1761)<br>",
         "marker": {
          "color": "rgb(235,235,235)"
         },
         "type": "bar",
         "x": [
          "Liedzitate je Predigtprozent"
         ],
         "xaxis": "x4",
         "y": [
          100
         ],
         "yaxis": "y4"
        },
        {
         "hovertext": "0 Liedzitate im 92%",
         "marker": {
          "color": "rgb(250,250,250)"
         },
         "type": "bar",
         "x": [
          "Liedzitate je Predigtprozent"
         ],
         "xaxis": "x4",
         "y": [
          100
         ],
         "yaxis": "y4"
        },
        {
         "hovertext": "0 Liedzitate im 93%",
         "marker": {
          "color": "rgb(250,250,250)"
         },
         "type": "bar",
         "x": [
          "Liedzitate je Predigtprozent"
         ],
         "xaxis": "x4",
         "y": [
          100
         ],
         "yaxis": "y4"
        },
        {
         "hovertext": "0 Liedzitate im 94%",
         "marker": {
          "color": "rgb(250,250,250)"
         },
         "type": "bar",
         "x": [
          "Liedzitate je Predigtprozent"
         ],
         "xaxis": "x4",
         "y": [
          100
         ],
         "yaxis": "y4"
        },
        {
         "hovertext": "0 Liedzitate im 95%",
         "marker": {
          "color": "rgb(250,250,250)"
         },
         "type": "bar",
         "x": [
          "Liedzitate je Predigtprozent"
         ],
         "xaxis": "x4",
         "y": [
          100
         ],
         "yaxis": "y4"
        },
        {
         "hovertext": "0 Liedzitate im 96%",
         "marker": {
          "color": "rgb(250,250,250)"
         },
         "type": "bar",
         "x": [
          "Liedzitate je Predigtprozent"
         ],
         "xaxis": "x4",
         "y": [
          100
         ],
         "yaxis": "y4"
        },
        {
         "hovertext": "0 Liedzitate im 97%",
         "marker": {
          "color": "rgb(250,250,250)"
         },
         "type": "bar",
         "x": [
          "Liedzitate je Predigtprozent"
         ],
         "xaxis": "x4",
         "y": [
          100
         ],
         "yaxis": "y4"
        },
        {
         "hovertext": "1 Liedzitate im 98%<br>Der Christen gerechte Freude (Breslau 1761)<br>",
         "marker": {
          "color": "rgb(235,235,235)"
         },
         "type": "bar",
         "x": [
          "Liedzitate je Predigtprozent"
         ],
         "xaxis": "x4",
         "y": [
          100
         ],
         "yaxis": "y4"
        },
        {
         "hovertext": "1 Liedzitate im 99%<br>Predigt Bey der Einweihung einer Orgel (Leipzig 1797)<br>",
         "marker": {
          "color": "rgb(235,235,235)"
         },
         "type": "bar",
         "x": [
          "Liedzitate je Predigtprozent"
         ],
         "xaxis": "x4",
         "y": [
          100
         ],
         "yaxis": "y4"
        },
        {
         "hovertext": "2 Liedzitate im 100%<br>Predigt Bey der Einweihung einer Orgel (Leipzig 1797)<br>Predigt am Feste der Heimsuchung Mariae (Rostock 1770)<br>",
         "marker": {
          "color": "rgb(220,220,220)"
         },
         "type": "bar",
         "x": [
          "Liedzitate je Predigtprozent"
         ],
         "xaxis": "x4",
         "y": [
          100
         ],
         "yaxis": "y4"
        }
       ],
       "layout": {
        "annotations": [
         {
          "font": {
           "size": 16
          },
          "showarrow": false,
          "text": "Liedverteilung in Predigten zwischen 1600 und 1650 (9 Predigten)",
          "x": 0.5,
          "xanchor": "center",
          "xref": "paper",
          "y": 1,
          "yanchor": "bottom",
          "yref": "paper"
         },
         {
          "font": {
           "size": 16
          },
          "showarrow": false,
          "text": "Liedverteilung in Predigten zwischen 1650 und 1700 (21 Predigten)",
          "x": 0.5,
          "xanchor": "center",
          "xref": "paper",
          "y": 0.71875,
          "yanchor": "bottom",
          "yref": "paper"
         },
         {
          "font": {
           "size": 16
          },
          "showarrow": false,
          "text": "Liedverteilung in Predigten zwischen 1700 und 1750 (21 Predigten)",
          "x": 0.5,
          "xanchor": "center",
          "xref": "paper",
          "y": 0.4375,
          "yanchor": "bottom",
          "yref": "paper"
         },
         {
          "font": {
           "size": 16
          },
          "showarrow": false,
          "text": "Liedverteilung in Predigten zwischen 1750 und 1800 (13 Predigten)",
          "x": 0.5,
          "xanchor": "center",
          "xref": "paper",
          "y": 0.15625,
          "yanchor": "bottom",
          "yref": "paper"
         }
        ],
        "height": 1200,
        "showlegend": false,
        "template": {
         "data": {
          "bar": [
           {
            "error_x": {
             "color": "#2a3f5f"
            },
            "error_y": {
             "color": "#2a3f5f"
            },
            "marker": {
             "line": {
              "color": "#E5ECF6",
              "width": 0.5
             },
             "pattern": {
              "fillmode": "overlay",
              "size": 10,
              "solidity": 0.2
             }
            },
            "type": "bar"
           }
          ],
          "barpolar": [
           {
            "marker": {
             "line": {
              "color": "#E5ECF6",
              "width": 0.5
             },
             "pattern": {
              "fillmode": "overlay",
              "size": 10,
              "solidity": 0.2
             }
            },
            "type": "barpolar"
           }
          ],
          "carpet": [
           {
            "aaxis": {
             "endlinecolor": "#2a3f5f",
             "gridcolor": "white",
             "linecolor": "white",
             "minorgridcolor": "white",
             "startlinecolor": "#2a3f5f"
            },
            "baxis": {
             "endlinecolor": "#2a3f5f",
             "gridcolor": "white",
             "linecolor": "white",
             "minorgridcolor": "white",
             "startlinecolor": "#2a3f5f"
            },
            "type": "carpet"
           }
          ],
          "choropleth": [
           {
            "colorbar": {
             "outlinewidth": 0,
             "ticks": ""
            },
            "type": "choropleth"
           }
          ],
          "contour": [
           {
            "colorbar": {
             "outlinewidth": 0,
             "ticks": ""
            },
            "colorscale": [
             [
              0,
              "#0d0887"
             ],
             [
              0.1111111111111111,
              "#46039f"
             ],
             [
              0.2222222222222222,
              "#7201a8"
             ],
             [
              0.3333333333333333,
              "#9c179e"
             ],
             [
              0.4444444444444444,
              "#bd3786"
             ],
             [
              0.5555555555555556,
              "#d8576b"
             ],
             [
              0.6666666666666666,
              "#ed7953"
             ],
             [
              0.7777777777777778,
              "#fb9f3a"
             ],
             [
              0.8888888888888888,
              "#fdca26"
             ],
             [
              1,
              "#f0f921"
             ]
            ],
            "type": "contour"
           }
          ],
          "contourcarpet": [
           {
            "colorbar": {
             "outlinewidth": 0,
             "ticks": ""
            },
            "type": "contourcarpet"
           }
          ],
          "heatmap": [
           {
            "colorbar": {
             "outlinewidth": 0,
             "ticks": ""
            },
            "colorscale": [
             [
              0,
              "#0d0887"
             ],
             [
              0.1111111111111111,
              "#46039f"
             ],
             [
              0.2222222222222222,
              "#7201a8"
             ],
             [
              0.3333333333333333,
              "#9c179e"
             ],
             [
              0.4444444444444444,
              "#bd3786"
             ],
             [
              0.5555555555555556,
              "#d8576b"
             ],
             [
              0.6666666666666666,
              "#ed7953"
             ],
             [
              0.7777777777777778,
              "#fb9f3a"
             ],
             [
              0.8888888888888888,
              "#fdca26"
             ],
             [
              1,
              "#f0f921"
             ]
            ],
            "type": "heatmap"
           }
          ],
          "histogram": [
           {
            "marker": {
             "pattern": {
              "fillmode": "overlay",
              "size": 10,
              "solidity": 0.2
             }
            },
            "type": "histogram"
           }
          ],
          "histogram2d": [
           {
            "colorbar": {
             "outlinewidth": 0,
             "ticks": ""
            },
            "colorscale": [
             [
              0,
              "#0d0887"
             ],
             [
              0.1111111111111111,
              "#46039f"
             ],
             [
              0.2222222222222222,
              "#7201a8"
             ],
             [
              0.3333333333333333,
              "#9c179e"
             ],
             [
              0.4444444444444444,
              "#bd3786"
             ],
             [
              0.5555555555555556,
              "#d8576b"
             ],
             [
              0.6666666666666666,
              "#ed7953"
             ],
             [
              0.7777777777777778,
              "#fb9f3a"
             ],
             [
              0.8888888888888888,
              "#fdca26"
             ],
             [
              1,
              "#f0f921"
             ]
            ],
            "type": "histogram2d"
           }
          ],
          "histogram2dcontour": [
           {
            "colorbar": {
             "outlinewidth": 0,
             "ticks": ""
            },
            "colorscale": [
             [
              0,
              "#0d0887"
             ],
             [
              0.1111111111111111,
              "#46039f"
             ],
             [
              0.2222222222222222,
              "#7201a8"
             ],
             [
              0.3333333333333333,
              "#9c179e"
             ],
             [
              0.4444444444444444,
              "#bd3786"
             ],
             [
              0.5555555555555556,
              "#d8576b"
             ],
             [
              0.6666666666666666,
              "#ed7953"
             ],
             [
              0.7777777777777778,
              "#fb9f3a"
             ],
             [
              0.8888888888888888,
              "#fdca26"
             ],
             [
              1,
              "#f0f921"
             ]
            ],
            "type": "histogram2dcontour"
           }
          ],
          "mesh3d": [
           {
            "colorbar": {
             "outlinewidth": 0,
             "ticks": ""
            },
            "type": "mesh3d"
           }
          ],
          "parcoords": [
           {
            "line": {
             "colorbar": {
              "outlinewidth": 0,
              "ticks": ""
             }
            },
            "type": "parcoords"
           }
          ],
          "pie": [
           {
            "automargin": true,
            "type": "pie"
           }
          ],
          "scatter": [
           {
            "fillpattern": {
             "fillmode": "overlay",
             "size": 10,
             "solidity": 0.2
            },
            "type": "scatter"
           }
          ],
          "scatter3d": [
           {
            "line": {
             "colorbar": {
              "outlinewidth": 0,
              "ticks": ""
             }
            },
            "marker": {
             "colorbar": {
              "outlinewidth": 0,
              "ticks": ""
             }
            },
            "type": "scatter3d"
           }
          ],
          "scattercarpet": [
           {
            "marker": {
             "colorbar": {
              "outlinewidth": 0,
              "ticks": ""
             }
            },
            "type": "scattercarpet"
           }
          ],
          "scattergeo": [
           {
            "marker": {
             "colorbar": {
              "outlinewidth": 0,
              "ticks": ""
             }
            },
            "type": "scattergeo"
           }
          ],
          "scattergl": [
           {
            "marker": {
             "colorbar": {
              "outlinewidth": 0,
              "ticks": ""
             }
            },
            "type": "scattergl"
           }
          ],
          "scattermap": [
           {
            "marker": {
             "colorbar": {
              "outlinewidth": 0,
              "ticks": ""
             }
            },
            "type": "scattermap"
           }
          ],
          "scattermapbox": [
           {
            "marker": {
             "colorbar": {
              "outlinewidth": 0,
              "ticks": ""
             }
            },
            "type": "scattermapbox"
           }
          ],
          "scatterpolar": [
           {
            "marker": {
             "colorbar": {
              "outlinewidth": 0,
              "ticks": ""
             }
            },
            "type": "scatterpolar"
           }
          ],
          "scatterpolargl": [
           {
            "marker": {
             "colorbar": {
              "outlinewidth": 0,
              "ticks": ""
             }
            },
            "type": "scatterpolargl"
           }
          ],
          "scatterternary": [
           {
            "marker": {
             "colorbar": {
              "outlinewidth": 0,
              "ticks": ""
             }
            },
            "type": "scatterternary"
           }
          ],
          "surface": [
           {
            "colorbar": {
             "outlinewidth": 0,
             "ticks": ""
            },
            "colorscale": [
             [
              0,
              "#0d0887"
             ],
             [
              0.1111111111111111,
              "#46039f"
             ],
             [
              0.2222222222222222,
              "#7201a8"
             ],
             [
              0.3333333333333333,
              "#9c179e"
             ],
             [
              0.4444444444444444,
              "#bd3786"
             ],
             [
              0.5555555555555556,
              "#d8576b"
             ],
             [
              0.6666666666666666,
              "#ed7953"
             ],
             [
              0.7777777777777778,
              "#fb9f3a"
             ],
             [
              0.8888888888888888,
              "#fdca26"
             ],
             [
              1,
              "#f0f921"
             ]
            ],
            "type": "surface"
           }
          ],
          "table": [
           {
            "cells": {
             "fill": {
              "color": "#EBF0F8"
             },
             "line": {
              "color": "white"
             }
            },
            "header": {
             "fill": {
              "color": "#C8D4E3"
             },
             "line": {
              "color": "white"
             }
            },
            "type": "table"
           }
          ]
         },
         "layout": {
          "annotationdefaults": {
           "arrowcolor": "#2a3f5f",
           "arrowhead": 0,
           "arrowwidth": 1
          },
          "autotypenumbers": "strict",
          "coloraxis": {
           "colorbar": {
            "outlinewidth": 0,
            "ticks": ""
           }
          },
          "colorscale": {
           "diverging": [
            [
             0,
             "#8e0152"
            ],
            [
             0.1,
             "#c51b7d"
            ],
            [
             0.2,
             "#de77ae"
            ],
            [
             0.3,
             "#f1b6da"
            ],
            [
             0.4,
             "#fde0ef"
            ],
            [
             0.5,
             "#f7f7f7"
            ],
            [
             0.6,
             "#e6f5d0"
            ],
            [
             0.7,
             "#b8e186"
            ],
            [
             0.8,
             "#7fbc41"
            ],
            [
             0.9,
             "#4d9221"
            ],
            [
             1,
             "#276419"
            ]
           ],
           "sequential": [
            [
             0,
             "#0d0887"
            ],
            [
             0.1111111111111111,
             "#46039f"
            ],
            [
             0.2222222222222222,
             "#7201a8"
            ],
            [
             0.3333333333333333,
             "#9c179e"
            ],
            [
             0.4444444444444444,
             "#bd3786"
            ],
            [
             0.5555555555555556,
             "#d8576b"
            ],
            [
             0.6666666666666666,
             "#ed7953"
            ],
            [
             0.7777777777777778,
             "#fb9f3a"
            ],
            [
             0.8888888888888888,
             "#fdca26"
            ],
            [
             1,
             "#f0f921"
            ]
           ],
           "sequentialminus": [
            [
             0,
             "#0d0887"
            ],
            [
             0.1111111111111111,
             "#46039f"
            ],
            [
             0.2222222222222222,
             "#7201a8"
            ],
            [
             0.3333333333333333,
             "#9c179e"
            ],
            [
             0.4444444444444444,
             "#bd3786"
            ],
            [
             0.5555555555555556,
             "#d8576b"
            ],
            [
             0.6666666666666666,
             "#ed7953"
            ],
            [
             0.7777777777777778,
             "#fb9f3a"
            ],
            [
             0.8888888888888888,
             "#fdca26"
            ],
            [
             1,
             "#f0f921"
            ]
           ]
          },
          "colorway": [
           "#636efa",
           "#EF553B",
           "#00cc96",
           "#ab63fa",
           "#FFA15A",
           "#19d3f3",
           "#FF6692",
           "#B6E880",
           "#FF97FF",
           "#FECB52"
          ],
          "font": {
           "color": "#2a3f5f"
          },
          "geo": {
           "bgcolor": "white",
           "lakecolor": "white",
           "landcolor": "#E5ECF6",
           "showlakes": true,
           "showland": true,
           "subunitcolor": "white"
          },
          "hoverlabel": {
           "align": "left"
          },
          "hovermode": "closest",
          "mapbox": {
           "style": "light"
          },
          "paper_bgcolor": "white",
          "plot_bgcolor": "#E5ECF6",
          "polar": {
           "angularaxis": {
            "gridcolor": "white",
            "linecolor": "white",
            "ticks": ""
           },
           "bgcolor": "#E5ECF6",
           "radialaxis": {
            "gridcolor": "white",
            "linecolor": "white",
            "ticks": ""
           }
          },
          "scene": {
           "xaxis": {
            "backgroundcolor": "#E5ECF6",
            "gridcolor": "white",
            "gridwidth": 2,
            "linecolor": "white",
            "showbackground": true,
            "ticks": "",
            "zerolinecolor": "white"
           },
           "yaxis": {
            "backgroundcolor": "#E5ECF6",
            "gridcolor": "white",
            "gridwidth": 2,
            "linecolor": "white",
            "showbackground": true,
            "ticks": "",
            "zerolinecolor": "white"
           },
           "zaxis": {
            "backgroundcolor": "#E5ECF6",
            "gridcolor": "white",
            "gridwidth": 2,
            "linecolor": "white",
            "showbackground": true,
            "ticks": "",
            "zerolinecolor": "white"
           }
          },
          "shapedefaults": {
           "line": {
            "color": "#2a3f5f"
           }
          },
          "ternary": {
           "aaxis": {
            "gridcolor": "white",
            "linecolor": "white",
            "ticks": ""
           },
           "baxis": {
            "gridcolor": "white",
            "linecolor": "white",
            "ticks": ""
           },
           "bgcolor": "#E5ECF6",
           "caxis": {
            "gridcolor": "white",
            "linecolor": "white",
            "ticks": ""
           }
          },
          "title": {
           "x": 0.05
          },
          "xaxis": {
           "automargin": true,
           "gridcolor": "white",
           "linecolor": "white",
           "ticks": "",
           "title": {
            "standoff": 15
           },
           "zerolinecolor": "white",
           "zerolinewidth": 2
          },
          "yaxis": {
           "automargin": true,
           "gridcolor": "white",
           "linecolor": "white",
           "ticks": "",
           "title": {
            "standoff": 15
           },
           "zerolinecolor": "white",
           "zerolinewidth": 2
          }
         }
        },
        "title": {
         "text": "Accumulierte Verteilung von Liedzitaten in 50-Jahr Intervallen"
        },
        "width": 1000,
        "xaxis": {
         "anchor": "y",
         "domain": [
          0,
          1
         ]
        },
        "xaxis2": {
         "anchor": "y2",
         "domain": [
          0,
          1
         ]
        },
        "xaxis3": {
         "anchor": "y3",
         "domain": [
          0,
          1
         ]
        },
        "xaxis4": {
         "anchor": "y4",
         "domain": [
          0,
          1
         ]
        },
        "yaxis": {
         "anchor": "x",
         "domain": [
          0.84375,
          1
         ]
        },
        "yaxis2": {
         "anchor": "x2",
         "domain": [
          0.5625,
          0.71875
         ]
        },
        "yaxis3": {
         "anchor": "x3",
         "domain": [
          0.28125,
          0.4375
         ]
        },
        "yaxis4": {
         "anchor": "x4",
         "domain": [
          0,
          0.15625
         ]
        }
       }
      }
     },
     "metadata": {},
     "output_type": "display_data"
    }
   ],
   "source": [
    "# Create subplots\n",
    "fig = make_subplots(rows=len(figs_50), \n",
    "                    cols=1, \n",
    "                    subplot_titles=[f\"Liedverteilung in Predigten zwischen {1600 + (i*50)} und {1600+(i*50)+50} ({len(sermons_grouped_50[i])} Predigten)\" for i in range(len(figs_50))])\n",
    "\n",
    "# Add traces from each figure to the subplots\n",
    "for i, fig_item in enumerate(figs_50):\n",
    "    for trace in fig_item.data:\n",
    "        fig.add_trace(trace, row=i+1, col=1)\n",
    "\n",
    "# Update layout\n",
    "fig.update_layout(height=1200, width=1000, showlegend = False)\n",
    "fig.update_layout(title_text=\"Accumulierte Verteilung von Liedzitaten in 50-Jahr Intervallen\")\n",
    "\n",
    "# Show the figure\n",
    "fig.show()"
   ]
  },
  {
   "cell_type": "code",
   "execution_count": 64,
   "id": "dfea249f",
   "metadata": {},
   "outputs": [
    {
     "data": {
      "text/plain": [
       "[]"
      ]
     },
     "execution_count": 64,
     "metadata": {},
     "output_type": "execute_result"
    }
   ],
   "source": [
    "x = \"\"\n",
    "x.split()"
   ]
  },
  {
   "cell_type": "markdown",
   "id": "2d29fbfd",
   "metadata": {},
   "source": [
    "# Orgelpredigtzitate"
   ]
  },
  {
   "cell_type": "code",
   "execution_count": 11,
   "id": "149d1dae",
   "metadata": {},
   "outputs": [],
   "source": [
    "figs_25_orgel = []\n",
    "for i in range(len(sermons_grouped_25)):\n",
    "    figs_25_orgel.append(create_quote_dist_chart(sermons_grouped_25[i], \"orgelpredigt\"))\n",
    "figs_50_orgel = []\n",
    "for i in range(len(sermons_grouped_50)):\n",
    "    figs_50_orgel.append(create_quote_dist_chart(sermons_grouped_50[i], \"orgelpredigt\"))"
   ]
  },
  {
   "cell_type": "code",
   "execution_count": 12,
   "id": "2b3dcaa6",
   "metadata": {},
   "outputs": [
    {
     "data": {
      "application/vnd.plotly.v1+json": {
       "config": {
        "plotlyServerURL": "https://plot.ly"
       },
       "data": [
        {
         "hovertext": "0 Orgelpredigtzitate im 1%",
         "marker": {
          "color": "rgb(250,250,250)"
         },
         "type": "bar",
         "x": [
          "Orgelpredigtzitate je Predigtprozent"
         ],
         "xaxis": "x",
         "y": [
          100
         ],
         "yaxis": "y"
        },
        {
         "hovertext": "0 Orgelpredigtzitate im 2%",
         "marker": {
          "color": "rgb(250,250,250)"
         },
         "type": "bar",
         "x": [
          "Orgelpredigtzitate je Predigtprozent"
         ],
         "xaxis": "x",
         "y": [
          100
         ],
         "yaxis": "y"
        },
        {
         "hovertext": "0 Orgelpredigtzitate im 3%",
         "marker": {
          "color": "rgb(250,250,250)"
         },
         "type": "bar",
         "x": [
          "Orgelpredigtzitate je Predigtprozent"
         ],
         "xaxis": "x",
         "y": [
          100
         ],
         "yaxis": "y"
        },
        {
         "hovertext": "0 Orgelpredigtzitate im 4%",
         "marker": {
          "color": "rgb(250,250,250)"
         },
         "type": "bar",
         "x": [
          "Orgelpredigtzitate je Predigtprozent"
         ],
         "xaxis": "x",
         "y": [
          100
         ],
         "yaxis": "y"
        },
        {
         "hovertext": "0 Orgelpredigtzitate im 5%",
         "marker": {
          "color": "rgb(250,250,250)"
         },
         "type": "bar",
         "x": [
          "Orgelpredigtzitate je Predigtprozent"
         ],
         "xaxis": "x",
         "y": [
          100
         ],
         "yaxis": "y"
        },
        {
         "hovertext": "0 Orgelpredigtzitate im 6%",
         "marker": {
          "color": "rgb(250,250,250)"
         },
         "type": "bar",
         "x": [
          "Orgelpredigtzitate je Predigtprozent"
         ],
         "xaxis": "x",
         "y": [
          100
         ],
         "yaxis": "y"
        },
        {
         "hovertext": "0 Orgelpredigtzitate im 7%",
         "marker": {
          "color": "rgb(250,250,250)"
         },
         "type": "bar",
         "x": [
          "Orgelpredigtzitate je Predigtprozent"
         ],
         "xaxis": "x",
         "y": [
          100
         ],
         "yaxis": "y"
        },
        {
         "hovertext": "0 Orgelpredigtzitate im 8%",
         "marker": {
          "color": "rgb(250,250,250)"
         },
         "type": "bar",
         "x": [
          "Orgelpredigtzitate je Predigtprozent"
         ],
         "xaxis": "x",
         "y": [
          100
         ],
         "yaxis": "y"
        },
        {
         "hovertext": "0 Orgelpredigtzitate im 9%",
         "marker": {
          "color": "rgb(250,250,250)"
         },
         "type": "bar",
         "x": [
          "Orgelpredigtzitate je Predigtprozent"
         ],
         "xaxis": "x",
         "y": [
          100
         ],
         "yaxis": "y"
        },
        {
         "hovertext": "0 Orgelpredigtzitate im 10%",
         "marker": {
          "color": "rgb(250,250,250)"
         },
         "type": "bar",
         "x": [
          "Orgelpredigtzitate je Predigtprozent"
         ],
         "xaxis": "x",
         "y": [
          100
         ],
         "yaxis": "y"
        },
        {
         "hovertext": "0 Orgelpredigtzitate im 11%",
         "marker": {
          "color": "rgb(250,250,250)"
         },
         "type": "bar",
         "x": [
          "Orgelpredigtzitate je Predigtprozent"
         ],
         "xaxis": "x",
         "y": [
          100
         ],
         "yaxis": "y"
        },
        {
         "hovertext": "0 Orgelpredigtzitate im 12%",
         "marker": {
          "color": "rgb(250,250,250)"
         },
         "type": "bar",
         "x": [
          "Orgelpredigtzitate je Predigtprozent"
         ],
         "xaxis": "x",
         "y": [
          100
         ],
         "yaxis": "y"
        },
        {
         "hovertext": "0 Orgelpredigtzitate im 13%",
         "marker": {
          "color": "rgb(250,250,250)"
         },
         "type": "bar",
         "x": [
          "Orgelpredigtzitate je Predigtprozent"
         ],
         "xaxis": "x",
         "y": [
          100
         ],
         "yaxis": "y"
        },
        {
         "hovertext": "0 Orgelpredigtzitate im 14%",
         "marker": {
          "color": "rgb(250,250,250)"
         },
         "type": "bar",
         "x": [
          "Orgelpredigtzitate je Predigtprozent"
         ],
         "xaxis": "x",
         "y": [
          100
         ],
         "yaxis": "y"
        },
        {
         "hovertext": "0 Orgelpredigtzitate im 15%",
         "marker": {
          "color": "rgb(250,250,250)"
         },
         "type": "bar",
         "x": [
          "Orgelpredigtzitate je Predigtprozent"
         ],
         "xaxis": "x",
         "y": [
          100
         ],
         "yaxis": "y"
        },
        {
         "hovertext": "0 Orgelpredigtzitate im 16%",
         "marker": {
          "color": "rgb(250,250,250)"
         },
         "type": "bar",
         "x": [
          "Orgelpredigtzitate je Predigtprozent"
         ],
         "xaxis": "x",
         "y": [
          100
         ],
         "yaxis": "y"
        },
        {
         "hovertext": "0 Orgelpredigtzitate im 17%",
         "marker": {
          "color": "rgb(250,250,250)"
         },
         "type": "bar",
         "x": [
          "Orgelpredigtzitate je Predigtprozent"
         ],
         "xaxis": "x",
         "y": [
          100
         ],
         "yaxis": "y"
        },
        {
         "hovertext": "0 Orgelpredigtzitate im 18%",
         "marker": {
          "color": "rgb(250,250,250)"
         },
         "type": "bar",
         "x": [
          "Orgelpredigtzitate je Predigtprozent"
         ],
         "xaxis": "x",
         "y": [
          100
         ],
         "yaxis": "y"
        },
        {
         "hovertext": "0 Orgelpredigtzitate im 19%",
         "marker": {
          "color": "rgb(250,250,250)"
         },
         "type": "bar",
         "x": [
          "Orgelpredigtzitate je Predigtprozent"
         ],
         "xaxis": "x",
         "y": [
          100
         ],
         "yaxis": "y"
        },
        {
         "hovertext": "0 Orgelpredigtzitate im 20%",
         "marker": {
          "color": "rgb(250,250,250)"
         },
         "type": "bar",
         "x": [
          "Orgelpredigtzitate je Predigtprozent"
         ],
         "xaxis": "x",
         "y": [
          100
         ],
         "yaxis": "y"
        },
        {
         "hovertext": "0 Orgelpredigtzitate im 21%",
         "marker": {
          "color": "rgb(250,250,250)"
         },
         "type": "bar",
         "x": [
          "Orgelpredigtzitate je Predigtprozent"
         ],
         "xaxis": "x",
         "y": [
          100
         ],
         "yaxis": "y"
        },
        {
         "hovertext": "0 Orgelpredigtzitate im 22%",
         "marker": {
          "color": "rgb(250,250,250)"
         },
         "type": "bar",
         "x": [
          "Orgelpredigtzitate je Predigtprozent"
         ],
         "xaxis": "x",
         "y": [
          100
         ],
         "yaxis": "y"
        },
        {
         "hovertext": "0 Orgelpredigtzitate im 23%",
         "marker": {
          "color": "rgb(250,250,250)"
         },
         "type": "bar",
         "x": [
          "Orgelpredigtzitate je Predigtprozent"
         ],
         "xaxis": "x",
         "y": [
          100
         ],
         "yaxis": "y"
        },
        {
         "hovertext": "0 Orgelpredigtzitate im 24%",
         "marker": {
          "color": "rgb(250,250,250)"
         },
         "type": "bar",
         "x": [
          "Orgelpredigtzitate je Predigtprozent"
         ],
         "xaxis": "x",
         "y": [
          100
         ],
         "yaxis": "y"
        },
        {
         "hovertext": "0 Orgelpredigtzitate im 25%",
         "marker": {
          "color": "rgb(250,250,250)"
         },
         "type": "bar",
         "x": [
          "Orgelpredigtzitate je Predigtprozent"
         ],
         "xaxis": "x",
         "y": [
          100
         ],
         "yaxis": "y"
        },
        {
         "hovertext": "0 Orgelpredigtzitate im 26%",
         "marker": {
          "color": "rgb(250,250,250)"
         },
         "type": "bar",
         "x": [
          "Orgelpredigtzitate je Predigtprozent"
         ],
         "xaxis": "x",
         "y": [
          100
         ],
         "yaxis": "y"
        },
        {
         "hovertext": "0 Orgelpredigtzitate im 27%",
         "marker": {
          "color": "rgb(250,250,250)"
         },
         "type": "bar",
         "x": [
          "Orgelpredigtzitate je Predigtprozent"
         ],
         "xaxis": "x",
         "y": [
          100
         ],
         "yaxis": "y"
        },
        {
         "hovertext": "0 Orgelpredigtzitate im 28%",
         "marker": {
          "color": "rgb(250,250,250)"
         },
         "type": "bar",
         "x": [
          "Orgelpredigtzitate je Predigtprozent"
         ],
         "xaxis": "x",
         "y": [
          100
         ],
         "yaxis": "y"
        },
        {
         "hovertext": "0 Orgelpredigtzitate im 29%",
         "marker": {
          "color": "rgb(250,250,250)"
         },
         "type": "bar",
         "x": [
          "Orgelpredigtzitate je Predigtprozent"
         ],
         "xaxis": "x",
         "y": [
          100
         ],
         "yaxis": "y"
        },
        {
         "hovertext": "0 Orgelpredigtzitate im 30%",
         "marker": {
          "color": "rgb(250,250,250)"
         },
         "type": "bar",
         "x": [
          "Orgelpredigtzitate je Predigtprozent"
         ],
         "xaxis": "x",
         "y": [
          100
         ],
         "yaxis": "y"
        },
        {
         "hovertext": "0 Orgelpredigtzitate im 31%",
         "marker": {
          "color": "rgb(250,250,250)"
         },
         "type": "bar",
         "x": [
          "Orgelpredigtzitate je Predigtprozent"
         ],
         "xaxis": "x",
         "y": [
          100
         ],
         "yaxis": "y"
        },
        {
         "hovertext": "0 Orgelpredigtzitate im 32%",
         "marker": {
          "color": "rgb(250,250,250)"
         },
         "type": "bar",
         "x": [
          "Orgelpredigtzitate je Predigtprozent"
         ],
         "xaxis": "x",
         "y": [
          100
         ],
         "yaxis": "y"
        },
        {
         "hovertext": "0 Orgelpredigtzitate im 33%",
         "marker": {
          "color": "rgb(250,250,250)"
         },
         "type": "bar",
         "x": [
          "Orgelpredigtzitate je Predigtprozent"
         ],
         "xaxis": "x",
         "y": [
          100
         ],
         "yaxis": "y"
        },
        {
         "hovertext": "0 Orgelpredigtzitate im 34%",
         "marker": {
          "color": "rgb(250,250,250)"
         },
         "type": "bar",
         "x": [
          "Orgelpredigtzitate je Predigtprozent"
         ],
         "xaxis": "x",
         "y": [
          100
         ],
         "yaxis": "y"
        },
        {
         "hovertext": "0 Orgelpredigtzitate im 35%",
         "marker": {
          "color": "rgb(250,250,250)"
         },
         "type": "bar",
         "x": [
          "Orgelpredigtzitate je Predigtprozent"
         ],
         "xaxis": "x",
         "y": [
          100
         ],
         "yaxis": "y"
        },
        {
         "hovertext": "0 Orgelpredigtzitate im 36%",
         "marker": {
          "color": "rgb(250,250,250)"
         },
         "type": "bar",
         "x": [
          "Orgelpredigtzitate je Predigtprozent"
         ],
         "xaxis": "x",
         "y": [
          100
         ],
         "yaxis": "y"
        },
        {
         "hovertext": "0 Orgelpredigtzitate im 37%",
         "marker": {
          "color": "rgb(250,250,250)"
         },
         "type": "bar",
         "x": [
          "Orgelpredigtzitate je Predigtprozent"
         ],
         "xaxis": "x",
         "y": [
          100
         ],
         "yaxis": "y"
        },
        {
         "hovertext": "0 Orgelpredigtzitate im 38%",
         "marker": {
          "color": "rgb(250,250,250)"
         },
         "type": "bar",
         "x": [
          "Orgelpredigtzitate je Predigtprozent"
         ],
         "xaxis": "x",
         "y": [
          100
         ],
         "yaxis": "y"
        },
        {
         "hovertext": "0 Orgelpredigtzitate im 39%",
         "marker": {
          "color": "rgb(250,250,250)"
         },
         "type": "bar",
         "x": [
          "Orgelpredigtzitate je Predigtprozent"
         ],
         "xaxis": "x",
         "y": [
          100
         ],
         "yaxis": "y"
        },
        {
         "hovertext": "0 Orgelpredigtzitate im 40%",
         "marker": {
          "color": "rgb(250,250,250)"
         },
         "type": "bar",
         "x": [
          "Orgelpredigtzitate je Predigtprozent"
         ],
         "xaxis": "x",
         "y": [
          100
         ],
         "yaxis": "y"
        },
        {
         "hovertext": "0 Orgelpredigtzitate im 41%",
         "marker": {
          "color": "rgb(250,250,250)"
         },
         "type": "bar",
         "x": [
          "Orgelpredigtzitate je Predigtprozent"
         ],
         "xaxis": "x",
         "y": [
          100
         ],
         "yaxis": "y"
        },
        {
         "hovertext": "0 Orgelpredigtzitate im 42%",
         "marker": {
          "color": "rgb(250,250,250)"
         },
         "type": "bar",
         "x": [
          "Orgelpredigtzitate je Predigtprozent"
         ],
         "xaxis": "x",
         "y": [
          100
         ],
         "yaxis": "y"
        },
        {
         "hovertext": "0 Orgelpredigtzitate im 43%",
         "marker": {
          "color": "rgb(250,250,250)"
         },
         "type": "bar",
         "x": [
          "Orgelpredigtzitate je Predigtprozent"
         ],
         "xaxis": "x",
         "y": [
          100
         ],
         "yaxis": "y"
        },
        {
         "hovertext": "0 Orgelpredigtzitate im 44%",
         "marker": {
          "color": "rgb(250,250,250)"
         },
         "type": "bar",
         "x": [
          "Orgelpredigtzitate je Predigtprozent"
         ],
         "xaxis": "x",
         "y": [
          100
         ],
         "yaxis": "y"
        },
        {
         "hovertext": "0 Orgelpredigtzitate im 45%",
         "marker": {
          "color": "rgb(250,250,250)"
         },
         "type": "bar",
         "x": [
          "Orgelpredigtzitate je Predigtprozent"
         ],
         "xaxis": "x",
         "y": [
          100
         ],
         "yaxis": "y"
        },
        {
         "hovertext": "0 Orgelpredigtzitate im 46%",
         "marker": {
          "color": "rgb(250,250,250)"
         },
         "type": "bar",
         "x": [
          "Orgelpredigtzitate je Predigtprozent"
         ],
         "xaxis": "x",
         "y": [
          100
         ],
         "yaxis": "y"
        },
        {
         "hovertext": "0 Orgelpredigtzitate im 47%",
         "marker": {
          "color": "rgb(250,250,250)"
         },
         "type": "bar",
         "x": [
          "Orgelpredigtzitate je Predigtprozent"
         ],
         "xaxis": "x",
         "y": [
          100
         ],
         "yaxis": "y"
        },
        {
         "hovertext": "0 Orgelpredigtzitate im 48%",
         "marker": {
          "color": "rgb(250,250,250)"
         },
         "type": "bar",
         "x": [
          "Orgelpredigtzitate je Predigtprozent"
         ],
         "xaxis": "x",
         "y": [
          100
         ],
         "yaxis": "y"
        },
        {
         "hovertext": "0 Orgelpredigtzitate im 49%",
         "marker": {
          "color": "rgb(250,250,250)"
         },
         "type": "bar",
         "x": [
          "Orgelpredigtzitate je Predigtprozent"
         ],
         "xaxis": "x",
         "y": [
          100
         ],
         "yaxis": "y"
        },
        {
         "hovertext": "0 Orgelpredigtzitate im 50%",
         "marker": {
          "color": "rgb(250,250,250)"
         },
         "type": "bar",
         "x": [
          "Orgelpredigtzitate je Predigtprozent"
         ],
         "xaxis": "x",
         "y": [
          100
         ],
         "yaxis": "y"
        },
        {
         "hovertext": "0 Orgelpredigtzitate im 51%",
         "marker": {
          "color": "rgb(250,250,250)"
         },
         "type": "bar",
         "x": [
          "Orgelpredigtzitate je Predigtprozent"
         ],
         "xaxis": "x",
         "y": [
          100
         ],
         "yaxis": "y"
        },
        {
         "hovertext": "0 Orgelpredigtzitate im 52%",
         "marker": {
          "color": "rgb(250,250,250)"
         },
         "type": "bar",
         "x": [
          "Orgelpredigtzitate je Predigtprozent"
         ],
         "xaxis": "x",
         "y": [
          100
         ],
         "yaxis": "y"
        },
        {
         "hovertext": "0 Orgelpredigtzitate im 53%",
         "marker": {
          "color": "rgb(250,250,250)"
         },
         "type": "bar",
         "x": [
          "Orgelpredigtzitate je Predigtprozent"
         ],
         "xaxis": "x",
         "y": [
          100
         ],
         "yaxis": "y"
        },
        {
         "hovertext": "0 Orgelpredigtzitate im 54%",
         "marker": {
          "color": "rgb(250,250,250)"
         },
         "type": "bar",
         "x": [
          "Orgelpredigtzitate je Predigtprozent"
         ],
         "xaxis": "x",
         "y": [
          100
         ],
         "yaxis": "y"
        },
        {
         "hovertext": "0 Orgelpredigtzitate im 55%",
         "marker": {
          "color": "rgb(250,250,250)"
         },
         "type": "bar",
         "x": [
          "Orgelpredigtzitate je Predigtprozent"
         ],
         "xaxis": "x",
         "y": [
          100
         ],
         "yaxis": "y"
        },
        {
         "hovertext": "0 Orgelpredigtzitate im 56%",
         "marker": {
          "color": "rgb(250,250,250)"
         },
         "type": "bar",
         "x": [
          "Orgelpredigtzitate je Predigtprozent"
         ],
         "xaxis": "x",
         "y": [
          100
         ],
         "yaxis": "y"
        },
        {
         "hovertext": "0 Orgelpredigtzitate im 57%",
         "marker": {
          "color": "rgb(250,250,250)"
         },
         "type": "bar",
         "x": [
          "Orgelpredigtzitate je Predigtprozent"
         ],
         "xaxis": "x",
         "y": [
          100
         ],
         "yaxis": "y"
        },
        {
         "hovertext": "0 Orgelpredigtzitate im 58%",
         "marker": {
          "color": "rgb(250,250,250)"
         },
         "type": "bar",
         "x": [
          "Orgelpredigtzitate je Predigtprozent"
         ],
         "xaxis": "x",
         "y": [
          100
         ],
         "yaxis": "y"
        },
        {
         "hovertext": "0 Orgelpredigtzitate im 59%",
         "marker": {
          "color": "rgb(250,250,250)"
         },
         "type": "bar",
         "x": [
          "Orgelpredigtzitate je Predigtprozent"
         ],
         "xaxis": "x",
         "y": [
          100
         ],
         "yaxis": "y"
        },
        {
         "hovertext": "0 Orgelpredigtzitate im 60%",
         "marker": {
          "color": "rgb(250,250,250)"
         },
         "type": "bar",
         "x": [
          "Orgelpredigtzitate je Predigtprozent"
         ],
         "xaxis": "x",
         "y": [
          100
         ],
         "yaxis": "y"
        },
        {
         "hovertext": "0 Orgelpredigtzitate im 61%",
         "marker": {
          "color": "rgb(250,250,250)"
         },
         "type": "bar",
         "x": [
          "Orgelpredigtzitate je Predigtprozent"
         ],
         "xaxis": "x",
         "y": [
          100
         ],
         "yaxis": "y"
        },
        {
         "hovertext": "0 Orgelpredigtzitate im 62%",
         "marker": {
          "color": "rgb(250,250,250)"
         },
         "type": "bar",
         "x": [
          "Orgelpredigtzitate je Predigtprozent"
         ],
         "xaxis": "x",
         "y": [
          100
         ],
         "yaxis": "y"
        },
        {
         "hovertext": "0 Orgelpredigtzitate im 63%",
         "marker": {
          "color": "rgb(250,250,250)"
         },
         "type": "bar",
         "x": [
          "Orgelpredigtzitate je Predigtprozent"
         ],
         "xaxis": "x",
         "y": [
          100
         ],
         "yaxis": "y"
        },
        {
         "hovertext": "0 Orgelpredigtzitate im 64%",
         "marker": {
          "color": "rgb(250,250,250)"
         },
         "type": "bar",
         "x": [
          "Orgelpredigtzitate je Predigtprozent"
         ],
         "xaxis": "x",
         "y": [
          100
         ],
         "yaxis": "y"
        },
        {
         "hovertext": "0 Orgelpredigtzitate im 65%",
         "marker": {
          "color": "rgb(250,250,250)"
         },
         "type": "bar",
         "x": [
          "Orgelpredigtzitate je Predigtprozent"
         ],
         "xaxis": "x",
         "y": [
          100
         ],
         "yaxis": "y"
        },
        {
         "hovertext": "0 Orgelpredigtzitate im 66%",
         "marker": {
          "color": "rgb(250,250,250)"
         },
         "type": "bar",
         "x": [
          "Orgelpredigtzitate je Predigtprozent"
         ],
         "xaxis": "x",
         "y": [
          100
         ],
         "yaxis": "y"
        },
        {
         "hovertext": "0 Orgelpredigtzitate im 67%",
         "marker": {
          "color": "rgb(250,250,250)"
         },
         "type": "bar",
         "x": [
          "Orgelpredigtzitate je Predigtprozent"
         ],
         "xaxis": "x",
         "y": [
          100
         ],
         "yaxis": "y"
        },
        {
         "hovertext": "0 Orgelpredigtzitate im 68%",
         "marker": {
          "color": "rgb(250,250,250)"
         },
         "type": "bar",
         "x": [
          "Orgelpredigtzitate je Predigtprozent"
         ],
         "xaxis": "x",
         "y": [
          100
         ],
         "yaxis": "y"
        },
        {
         "hovertext": "0 Orgelpredigtzitate im 69%",
         "marker": {
          "color": "rgb(250,250,250)"
         },
         "type": "bar",
         "x": [
          "Orgelpredigtzitate je Predigtprozent"
         ],
         "xaxis": "x",
         "y": [
          100
         ],
         "yaxis": "y"
        },
        {
         "hovertext": "0 Orgelpredigtzitate im 70%",
         "marker": {
          "color": "rgb(250,250,250)"
         },
         "type": "bar",
         "x": [
          "Orgelpredigtzitate je Predigtprozent"
         ],
         "xaxis": "x",
         "y": [
          100
         ],
         "yaxis": "y"
        },
        {
         "hovertext": "0 Orgelpredigtzitate im 71%",
         "marker": {
          "color": "rgb(250,250,250)"
         },
         "type": "bar",
         "x": [
          "Orgelpredigtzitate je Predigtprozent"
         ],
         "xaxis": "x",
         "y": [
          100
         ],
         "yaxis": "y"
        },
        {
         "hovertext": "0 Orgelpredigtzitate im 72%",
         "marker": {
          "color": "rgb(250,250,250)"
         },
         "type": "bar",
         "x": [
          "Orgelpredigtzitate je Predigtprozent"
         ],
         "xaxis": "x",
         "y": [
          100
         ],
         "yaxis": "y"
        },
        {
         "hovertext": "0 Orgelpredigtzitate im 73%",
         "marker": {
          "color": "rgb(250,250,250)"
         },
         "type": "bar",
         "x": [
          "Orgelpredigtzitate je Predigtprozent"
         ],
         "xaxis": "x",
         "y": [
          100
         ],
         "yaxis": "y"
        },
        {
         "hovertext": "0 Orgelpredigtzitate im 74%",
         "marker": {
          "color": "rgb(250,250,250)"
         },
         "type": "bar",
         "x": [
          "Orgelpredigtzitate je Predigtprozent"
         ],
         "xaxis": "x",
         "y": [
          100
         ],
         "yaxis": "y"
        },
        {
         "hovertext": "0 Orgelpredigtzitate im 75%",
         "marker": {
          "color": "rgb(250,250,250)"
         },
         "type": "bar",
         "x": [
          "Orgelpredigtzitate je Predigtprozent"
         ],
         "xaxis": "x",
         "y": [
          100
         ],
         "yaxis": "y"
        },
        {
         "hovertext": "0 Orgelpredigtzitate im 76%",
         "marker": {
          "color": "rgb(250,250,250)"
         },
         "type": "bar",
         "x": [
          "Orgelpredigtzitate je Predigtprozent"
         ],
         "xaxis": "x",
         "y": [
          100
         ],
         "yaxis": "y"
        },
        {
         "hovertext": "0 Orgelpredigtzitate im 77%",
         "marker": {
          "color": "rgb(250,250,250)"
         },
         "type": "bar",
         "x": [
          "Orgelpredigtzitate je Predigtprozent"
         ],
         "xaxis": "x",
         "y": [
          100
         ],
         "yaxis": "y"
        },
        {
         "hovertext": "0 Orgelpredigtzitate im 78%",
         "marker": {
          "color": "rgb(250,250,250)"
         },
         "type": "bar",
         "x": [
          "Orgelpredigtzitate je Predigtprozent"
         ],
         "xaxis": "x",
         "y": [
          100
         ],
         "yaxis": "y"
        },
        {
         "hovertext": "0 Orgelpredigtzitate im 79%",
         "marker": {
          "color": "rgb(250,250,250)"
         },
         "type": "bar",
         "x": [
          "Orgelpredigtzitate je Predigtprozent"
         ],
         "xaxis": "x",
         "y": [
          100
         ],
         "yaxis": "y"
        },
        {
         "hovertext": "0 Orgelpredigtzitate im 80%",
         "marker": {
          "color": "rgb(250,250,250)"
         },
         "type": "bar",
         "x": [
          "Orgelpredigtzitate je Predigtprozent"
         ],
         "xaxis": "x",
         "y": [
          100
         ],
         "yaxis": "y"
        },
        {
         "hovertext": "0 Orgelpredigtzitate im 81%",
         "marker": {
          "color": "rgb(250,250,250)"
         },
         "type": "bar",
         "x": [
          "Orgelpredigtzitate je Predigtprozent"
         ],
         "xaxis": "x",
         "y": [
          100
         ],
         "yaxis": "y"
        },
        {
         "hovertext": "0 Orgelpredigtzitate im 82%",
         "marker": {
          "color": "rgb(250,250,250)"
         },
         "type": "bar",
         "x": [
          "Orgelpredigtzitate je Predigtprozent"
         ],
         "xaxis": "x",
         "y": [
          100
         ],
         "yaxis": "y"
        },
        {
         "hovertext": "0 Orgelpredigtzitate im 83%",
         "marker": {
          "color": "rgb(250,250,250)"
         },
         "type": "bar",
         "x": [
          "Orgelpredigtzitate je Predigtprozent"
         ],
         "xaxis": "x",
         "y": [
          100
         ],
         "yaxis": "y"
        },
        {
         "hovertext": "0 Orgelpredigtzitate im 84%",
         "marker": {
          "color": "rgb(250,250,250)"
         },
         "type": "bar",
         "x": [
          "Orgelpredigtzitate je Predigtprozent"
         ],
         "xaxis": "x",
         "y": [
          100
         ],
         "yaxis": "y"
        },
        {
         "hovertext": "0 Orgelpredigtzitate im 85%",
         "marker": {
          "color": "rgb(250,250,250)"
         },
         "type": "bar",
         "x": [
          "Orgelpredigtzitate je Predigtprozent"
         ],
         "xaxis": "x",
         "y": [
          100
         ],
         "yaxis": "y"
        },
        {
         "hovertext": "0 Orgelpredigtzitate im 86%",
         "marker": {
          "color": "rgb(250,250,250)"
         },
         "type": "bar",
         "x": [
          "Orgelpredigtzitate je Predigtprozent"
         ],
         "xaxis": "x",
         "y": [
          100
         ],
         "yaxis": "y"
        },
        {
         "hovertext": "0 Orgelpredigtzitate im 87%",
         "marker": {
          "color": "rgb(250,250,250)"
         },
         "type": "bar",
         "x": [
          "Orgelpredigtzitate je Predigtprozent"
         ],
         "xaxis": "x",
         "y": [
          100
         ],
         "yaxis": "y"
        },
        {
         "hovertext": "0 Orgelpredigtzitate im 88%",
         "marker": {
          "color": "rgb(250,250,250)"
         },
         "type": "bar",
         "x": [
          "Orgelpredigtzitate je Predigtprozent"
         ],
         "xaxis": "x",
         "y": [
          100
         ],
         "yaxis": "y"
        },
        {
         "hovertext": "0 Orgelpredigtzitate im 89%",
         "marker": {
          "color": "rgb(250,250,250)"
         },
         "type": "bar",
         "x": [
          "Orgelpredigtzitate je Predigtprozent"
         ],
         "xaxis": "x",
         "y": [
          100
         ],
         "yaxis": "y"
        },
        {
         "hovertext": "0 Orgelpredigtzitate im 90%",
         "marker": {
          "color": "rgb(250,250,250)"
         },
         "type": "bar",
         "x": [
          "Orgelpredigtzitate je Predigtprozent"
         ],
         "xaxis": "x",
         "y": [
          100
         ],
         "yaxis": "y"
        },
        {
         "hovertext": "0 Orgelpredigtzitate im 91%",
         "marker": {
          "color": "rgb(250,250,250)"
         },
         "type": "bar",
         "x": [
          "Orgelpredigtzitate je Predigtprozent"
         ],
         "xaxis": "x",
         "y": [
          100
         ],
         "yaxis": "y"
        },
        {
         "hovertext": "0 Orgelpredigtzitate im 92%",
         "marker": {
          "color": "rgb(250,250,250)"
         },
         "type": "bar",
         "x": [
          "Orgelpredigtzitate je Predigtprozent"
         ],
         "xaxis": "x",
         "y": [
          100
         ],
         "yaxis": "y"
        },
        {
         "hovertext": "0 Orgelpredigtzitate im 93%",
         "marker": {
          "color": "rgb(250,250,250)"
         },
         "type": "bar",
         "x": [
          "Orgelpredigtzitate je Predigtprozent"
         ],
         "xaxis": "x",
         "y": [
          100
         ],
         "yaxis": "y"
        },
        {
         "hovertext": "0 Orgelpredigtzitate im 94%",
         "marker": {
          "color": "rgb(250,250,250)"
         },
         "type": "bar",
         "x": [
          "Orgelpredigtzitate je Predigtprozent"
         ],
         "xaxis": "x",
         "y": [
          100
         ],
         "yaxis": "y"
        },
        {
         "hovertext": "0 Orgelpredigtzitate im 95%",
         "marker": {
          "color": "rgb(250,250,250)"
         },
         "type": "bar",
         "x": [
          "Orgelpredigtzitate je Predigtprozent"
         ],
         "xaxis": "x",
         "y": [
          100
         ],
         "yaxis": "y"
        },
        {
         "hovertext": "0 Orgelpredigtzitate im 96%",
         "marker": {
          "color": "rgb(250,250,250)"
         },
         "type": "bar",
         "x": [
          "Orgelpredigtzitate je Predigtprozent"
         ],
         "xaxis": "x",
         "y": [
          100
         ],
         "yaxis": "y"
        },
        {
         "hovertext": "0 Orgelpredigtzitate im 97%",
         "marker": {
          "color": "rgb(250,250,250)"
         },
         "type": "bar",
         "x": [
          "Orgelpredigtzitate je Predigtprozent"
         ],
         "xaxis": "x",
         "y": [
          100
         ],
         "yaxis": "y"
        },
        {
         "hovertext": "0 Orgelpredigtzitate im 98%",
         "marker": {
          "color": "rgb(250,250,250)"
         },
         "type": "bar",
         "x": [
          "Orgelpredigtzitate je Predigtprozent"
         ],
         "xaxis": "x",
         "y": [
          100
         ],
         "yaxis": "y"
        },
        {
         "hovertext": "0 Orgelpredigtzitate im 99%",
         "marker": {
          "color": "rgb(250,250,250)"
         },
         "type": "bar",
         "x": [
          "Orgelpredigtzitate je Predigtprozent"
         ],
         "xaxis": "x",
         "y": [
          100
         ],
         "yaxis": "y"
        },
        {
         "hovertext": "0 Orgelpredigtzitate im 100%",
         "marker": {
          "color": "rgb(250,250,250)"
         },
         "type": "bar",
         "x": [
          "Orgelpredigtzitate je Predigtprozent"
         ],
         "xaxis": "x",
         "y": [
          100
         ],
         "yaxis": "y"
        },
        {
         "hovertext": "0 Orgelpredigtzitate im 1%",
         "marker": {
          "color": "rgb(250,250,250)"
         },
         "type": "bar",
         "x": [
          "Orgelpredigtzitate je Predigtprozent"
         ],
         "xaxis": "x2",
         "y": [
          100
         ],
         "yaxis": "y2"
        },
        {
         "hovertext": "0 Orgelpredigtzitate im 2%",
         "marker": {
          "color": "rgb(250,250,250)"
         },
         "type": "bar",
         "x": [
          "Orgelpredigtzitate je Predigtprozent"
         ],
         "xaxis": "x2",
         "y": [
          100
         ],
         "yaxis": "y2"
        },
        {
         "hovertext": "0 Orgelpredigtzitate im 3%",
         "marker": {
          "color": "rgb(250,250,250)"
         },
         "type": "bar",
         "x": [
          "Orgelpredigtzitate je Predigtprozent"
         ],
         "xaxis": "x2",
         "y": [
          100
         ],
         "yaxis": "y2"
        },
        {
         "hovertext": "0 Orgelpredigtzitate im 4%",
         "marker": {
          "color": "rgb(250,250,250)"
         },
         "type": "bar",
         "x": [
          "Orgelpredigtzitate je Predigtprozent"
         ],
         "xaxis": "x2",
         "y": [
          100
         ],
         "yaxis": "y2"
        },
        {
         "hovertext": "0 Orgelpredigtzitate im 5%",
         "marker": {
          "color": "rgb(250,250,250)"
         },
         "type": "bar",
         "x": [
          "Orgelpredigtzitate je Predigtprozent"
         ],
         "xaxis": "x2",
         "y": [
          100
         ],
         "yaxis": "y2"
        },
        {
         "hovertext": "0 Orgelpredigtzitate im 6%",
         "marker": {
          "color": "rgb(250,250,250)"
         },
         "type": "bar",
         "x": [
          "Orgelpredigtzitate je Predigtprozent"
         ],
         "xaxis": "x2",
         "y": [
          100
         ],
         "yaxis": "y2"
        },
        {
         "hovertext": "0 Orgelpredigtzitate im 7%",
         "marker": {
          "color": "rgb(250,250,250)"
         },
         "type": "bar",
         "x": [
          "Orgelpredigtzitate je Predigtprozent"
         ],
         "xaxis": "x2",
         "y": [
          100
         ],
         "yaxis": "y2"
        },
        {
         "hovertext": "0 Orgelpredigtzitate im 8%",
         "marker": {
          "color": "rgb(250,250,250)"
         },
         "type": "bar",
         "x": [
          "Orgelpredigtzitate je Predigtprozent"
         ],
         "xaxis": "x2",
         "y": [
          100
         ],
         "yaxis": "y2"
        },
        {
         "hovertext": "0 Orgelpredigtzitate im 9%",
         "marker": {
          "color": "rgb(250,250,250)"
         },
         "type": "bar",
         "x": [
          "Orgelpredigtzitate je Predigtprozent"
         ],
         "xaxis": "x2",
         "y": [
          100
         ],
         "yaxis": "y2"
        },
        {
         "hovertext": "0 Orgelpredigtzitate im 10%",
         "marker": {
          "color": "rgb(250,250,250)"
         },
         "type": "bar",
         "x": [
          "Orgelpredigtzitate je Predigtprozent"
         ],
         "xaxis": "x2",
         "y": [
          100
         ],
         "yaxis": "y2"
        },
        {
         "hovertext": "0 Orgelpredigtzitate im 11%",
         "marker": {
          "color": "rgb(250,250,250)"
         },
         "type": "bar",
         "x": [
          "Orgelpredigtzitate je Predigtprozent"
         ],
         "xaxis": "x2",
         "y": [
          100
         ],
         "yaxis": "y2"
        },
        {
         "hovertext": "0 Orgelpredigtzitate im 12%",
         "marker": {
          "color": "rgb(250,250,250)"
         },
         "type": "bar",
         "x": [
          "Orgelpredigtzitate je Predigtprozent"
         ],
         "xaxis": "x2",
         "y": [
          100
         ],
         "yaxis": "y2"
        },
        {
         "hovertext": "0 Orgelpredigtzitate im 13%",
         "marker": {
          "color": "rgb(250,250,250)"
         },
         "type": "bar",
         "x": [
          "Orgelpredigtzitate je Predigtprozent"
         ],
         "xaxis": "x2",
         "y": [
          100
         ],
         "yaxis": "y2"
        },
        {
         "hovertext": "0 Orgelpredigtzitate im 14%",
         "marker": {
          "color": "rgb(250,250,250)"
         },
         "type": "bar",
         "x": [
          "Orgelpredigtzitate je Predigtprozent"
         ],
         "xaxis": "x2",
         "y": [
          100
         ],
         "yaxis": "y2"
        },
        {
         "hovertext": "0 Orgelpredigtzitate im 15%",
         "marker": {
          "color": "rgb(250,250,250)"
         },
         "type": "bar",
         "x": [
          "Orgelpredigtzitate je Predigtprozent"
         ],
         "xaxis": "x2",
         "y": [
          100
         ],
         "yaxis": "y2"
        },
        {
         "hovertext": "0 Orgelpredigtzitate im 16%",
         "marker": {
          "color": "rgb(250,250,250)"
         },
         "type": "bar",
         "x": [
          "Orgelpredigtzitate je Predigtprozent"
         ],
         "xaxis": "x2",
         "y": [
          100
         ],
         "yaxis": "y2"
        },
        {
         "hovertext": "0 Orgelpredigtzitate im 17%",
         "marker": {
          "color": "rgb(250,250,250)"
         },
         "type": "bar",
         "x": [
          "Orgelpredigtzitate je Predigtprozent"
         ],
         "xaxis": "x2",
         "y": [
          100
         ],
         "yaxis": "y2"
        },
        {
         "hovertext": "0 Orgelpredigtzitate im 18%",
         "marker": {
          "color": "rgb(250,250,250)"
         },
         "type": "bar",
         "x": [
          "Orgelpredigtzitate je Predigtprozent"
         ],
         "xaxis": "x2",
         "y": [
          100
         ],
         "yaxis": "y2"
        },
        {
         "hovertext": "0 Orgelpredigtzitate im 19%",
         "marker": {
          "color": "rgb(250,250,250)"
         },
         "type": "bar",
         "x": [
          "Orgelpredigtzitate je Predigtprozent"
         ],
         "xaxis": "x2",
         "y": [
          100
         ],
         "yaxis": "y2"
        },
        {
         "hovertext": "0 Orgelpredigtzitate im 20%",
         "marker": {
          "color": "rgb(250,250,250)"
         },
         "type": "bar",
         "x": [
          "Orgelpredigtzitate je Predigtprozent"
         ],
         "xaxis": "x2",
         "y": [
          100
         ],
         "yaxis": "y2"
        },
        {
         "hovertext": "0 Orgelpredigtzitate im 21%",
         "marker": {
          "color": "rgb(250,250,250)"
         },
         "type": "bar",
         "x": [
          "Orgelpredigtzitate je Predigtprozent"
         ],
         "xaxis": "x2",
         "y": [
          100
         ],
         "yaxis": "y2"
        },
        {
         "hovertext": "0 Orgelpredigtzitate im 22%",
         "marker": {
          "color": "rgb(250,250,250)"
         },
         "type": "bar",
         "x": [
          "Orgelpredigtzitate je Predigtprozent"
         ],
         "xaxis": "x2",
         "y": [
          100
         ],
         "yaxis": "y2"
        },
        {
         "hovertext": "0 Orgelpredigtzitate im 23%",
         "marker": {
          "color": "rgb(250,250,250)"
         },
         "type": "bar",
         "x": [
          "Orgelpredigtzitate je Predigtprozent"
         ],
         "xaxis": "x2",
         "y": [
          100
         ],
         "yaxis": "y2"
        },
        {
         "hovertext": "0 Orgelpredigtzitate im 24%",
         "marker": {
          "color": "rgb(250,250,250)"
         },
         "type": "bar",
         "x": [
          "Orgelpredigtzitate je Predigtprozent"
         ],
         "xaxis": "x2",
         "y": [
          100
         ],
         "yaxis": "y2"
        },
        {
         "hovertext": "0 Orgelpredigtzitate im 25%",
         "marker": {
          "color": "rgb(250,250,250)"
         },
         "type": "bar",
         "x": [
          "Orgelpredigtzitate je Predigtprozent"
         ],
         "xaxis": "x2",
         "y": [
          100
         ],
         "yaxis": "y2"
        },
        {
         "hovertext": "0 Orgelpredigtzitate im 26%",
         "marker": {
          "color": "rgb(250,250,250)"
         },
         "type": "bar",
         "x": [
          "Orgelpredigtzitate je Predigtprozent"
         ],
         "xaxis": "x2",
         "y": [
          100
         ],
         "yaxis": "y2"
        },
        {
         "hovertext": "0 Orgelpredigtzitate im 27%",
         "marker": {
          "color": "rgb(250,250,250)"
         },
         "type": "bar",
         "x": [
          "Orgelpredigtzitate je Predigtprozent"
         ],
         "xaxis": "x2",
         "y": [
          100
         ],
         "yaxis": "y2"
        },
        {
         "hovertext": "0 Orgelpredigtzitate im 28%",
         "marker": {
          "color": "rgb(250,250,250)"
         },
         "type": "bar",
         "x": [
          "Orgelpredigtzitate je Predigtprozent"
         ],
         "xaxis": "x2",
         "y": [
          100
         ],
         "yaxis": "y2"
        },
        {
         "hovertext": "0 Orgelpredigtzitate im 29%",
         "marker": {
          "color": "rgb(250,250,250)"
         },
         "type": "bar",
         "x": [
          "Orgelpredigtzitate je Predigtprozent"
         ],
         "xaxis": "x2",
         "y": [
          100
         ],
         "yaxis": "y2"
        },
        {
         "hovertext": "0 Orgelpredigtzitate im 30%",
         "marker": {
          "color": "rgb(250,250,250)"
         },
         "type": "bar",
         "x": [
          "Orgelpredigtzitate je Predigtprozent"
         ],
         "xaxis": "x2",
         "y": [
          100
         ],
         "yaxis": "y2"
        },
        {
         "hovertext": "0 Orgelpredigtzitate im 31%",
         "marker": {
          "color": "rgb(250,250,250)"
         },
         "type": "bar",
         "x": [
          "Orgelpredigtzitate je Predigtprozent"
         ],
         "xaxis": "x2",
         "y": [
          100
         ],
         "yaxis": "y2"
        },
        {
         "hovertext": "0 Orgelpredigtzitate im 32%",
         "marker": {
          "color": "rgb(250,250,250)"
         },
         "type": "bar",
         "x": [
          "Orgelpredigtzitate je Predigtprozent"
         ],
         "xaxis": "x2",
         "y": [
          100
         ],
         "yaxis": "y2"
        },
        {
         "hovertext": "0 Orgelpredigtzitate im 33%",
         "marker": {
          "color": "rgb(250,250,250)"
         },
         "type": "bar",
         "x": [
          "Orgelpredigtzitate je Predigtprozent"
         ],
         "xaxis": "x2",
         "y": [
          100
         ],
         "yaxis": "y2"
        },
        {
         "hovertext": "0 Orgelpredigtzitate im 34%",
         "marker": {
          "color": "rgb(250,250,250)"
         },
         "type": "bar",
         "x": [
          "Orgelpredigtzitate je Predigtprozent"
         ],
         "xaxis": "x2",
         "y": [
          100
         ],
         "yaxis": "y2"
        },
        {
         "hovertext": "0 Orgelpredigtzitate im 35%",
         "marker": {
          "color": "rgb(250,250,250)"
         },
         "type": "bar",
         "x": [
          "Orgelpredigtzitate je Predigtprozent"
         ],
         "xaxis": "x2",
         "y": [
          100
         ],
         "yaxis": "y2"
        },
        {
         "hovertext": "0 Orgelpredigtzitate im 36%",
         "marker": {
          "color": "rgb(250,250,250)"
         },
         "type": "bar",
         "x": [
          "Orgelpredigtzitate je Predigtprozent"
         ],
         "xaxis": "x2",
         "y": [
          100
         ],
         "yaxis": "y2"
        },
        {
         "hovertext": "0 Orgelpredigtzitate im 37%",
         "marker": {
          "color": "rgb(250,250,250)"
         },
         "type": "bar",
         "x": [
          "Orgelpredigtzitate je Predigtprozent"
         ],
         "xaxis": "x2",
         "y": [
          100
         ],
         "yaxis": "y2"
        },
        {
         "hovertext": "0 Orgelpredigtzitate im 38%",
         "marker": {
          "color": "rgb(250,250,250)"
         },
         "type": "bar",
         "x": [
          "Orgelpredigtzitate je Predigtprozent"
         ],
         "xaxis": "x2",
         "y": [
          100
         ],
         "yaxis": "y2"
        },
        {
         "hovertext": "0 Orgelpredigtzitate im 39%",
         "marker": {
          "color": "rgb(250,250,250)"
         },
         "type": "bar",
         "x": [
          "Orgelpredigtzitate je Predigtprozent"
         ],
         "xaxis": "x2",
         "y": [
          100
         ],
         "yaxis": "y2"
        },
        {
         "hovertext": "0 Orgelpredigtzitate im 40%",
         "marker": {
          "color": "rgb(250,250,250)"
         },
         "type": "bar",
         "x": [
          "Orgelpredigtzitate je Predigtprozent"
         ],
         "xaxis": "x2",
         "y": [
          100
         ],
         "yaxis": "y2"
        },
        {
         "hovertext": "0 Orgelpredigtzitate im 41%",
         "marker": {
          "color": "rgb(250,250,250)"
         },
         "type": "bar",
         "x": [
          "Orgelpredigtzitate je Predigtprozent"
         ],
         "xaxis": "x2",
         "y": [
          100
         ],
         "yaxis": "y2"
        },
        {
         "hovertext": "0 Orgelpredigtzitate im 42%",
         "marker": {
          "color": "rgb(250,250,250)"
         },
         "type": "bar",
         "x": [
          "Orgelpredigtzitate je Predigtprozent"
         ],
         "xaxis": "x2",
         "y": [
          100
         ],
         "yaxis": "y2"
        },
        {
         "hovertext": "0 Orgelpredigtzitate im 43%",
         "marker": {
          "color": "rgb(250,250,250)"
         },
         "type": "bar",
         "x": [
          "Orgelpredigtzitate je Predigtprozent"
         ],
         "xaxis": "x2",
         "y": [
          100
         ],
         "yaxis": "y2"
        },
        {
         "hovertext": "0 Orgelpredigtzitate im 44%",
         "marker": {
          "color": "rgb(250,250,250)"
         },
         "type": "bar",
         "x": [
          "Orgelpredigtzitate je Predigtprozent"
         ],
         "xaxis": "x2",
         "y": [
          100
         ],
         "yaxis": "y2"
        },
        {
         "hovertext": "0 Orgelpredigtzitate im 45%",
         "marker": {
          "color": "rgb(250,250,250)"
         },
         "type": "bar",
         "x": [
          "Orgelpredigtzitate je Predigtprozent"
         ],
         "xaxis": "x2",
         "y": [
          100
         ],
         "yaxis": "y2"
        },
        {
         "hovertext": "0 Orgelpredigtzitate im 46%",
         "marker": {
          "color": "rgb(250,250,250)"
         },
         "type": "bar",
         "x": [
          "Orgelpredigtzitate je Predigtprozent"
         ],
         "xaxis": "x2",
         "y": [
          100
         ],
         "yaxis": "y2"
        },
        {
         "hovertext": "0 Orgelpredigtzitate im 47%",
         "marker": {
          "color": "rgb(250,250,250)"
         },
         "type": "bar",
         "x": [
          "Orgelpredigtzitate je Predigtprozent"
         ],
         "xaxis": "x2",
         "y": [
          100
         ],
         "yaxis": "y2"
        },
        {
         "hovertext": "0 Orgelpredigtzitate im 48%",
         "marker": {
          "color": "rgb(250,250,250)"
         },
         "type": "bar",
         "x": [
          "Orgelpredigtzitate je Predigtprozent"
         ],
         "xaxis": "x2",
         "y": [
          100
         ],
         "yaxis": "y2"
        },
        {
         "hovertext": "0 Orgelpredigtzitate im 49%",
         "marker": {
          "color": "rgb(250,250,250)"
         },
         "type": "bar",
         "x": [
          "Orgelpredigtzitate je Predigtprozent"
         ],
         "xaxis": "x2",
         "y": [
          100
         ],
         "yaxis": "y2"
        },
        {
         "hovertext": "1 Orgelpredigtzitate im 50%<br>Längst=gewüntzschte Mittweidische Orgel=Freude (Dresden 1648)<br>",
         "marker": {
          "color": "rgb(235,235,235)"
         },
         "type": "bar",
         "x": [
          "Orgelpredigtzitate je Predigtprozent"
         ],
         "xaxis": "x2",
         "y": [
          100
         ],
         "yaxis": "y2"
        },
        {
         "hovertext": "1 Orgelpredigtzitate im 51%<br>Längst=gewüntzschte Mittweidische Orgel=Freude (Dresden 1648)<br>",
         "marker": {
          "color": "rgb(235,235,235)"
         },
         "type": "bar",
         "x": [
          "Orgelpredigtzitate je Predigtprozent"
         ],
         "xaxis": "x2",
         "y": [
          100
         ],
         "yaxis": "y2"
        },
        {
         "hovertext": "0 Orgelpredigtzitate im 52%",
         "marker": {
          "color": "rgb(250,250,250)"
         },
         "type": "bar",
         "x": [
          "Orgelpredigtzitate je Predigtprozent"
         ],
         "xaxis": "x2",
         "y": [
          100
         ],
         "yaxis": "y2"
        },
        {
         "hovertext": "0 Orgelpredigtzitate im 53%",
         "marker": {
          "color": "rgb(250,250,250)"
         },
         "type": "bar",
         "x": [
          "Orgelpredigtzitate je Predigtprozent"
         ],
         "xaxis": "x2",
         "y": [
          100
         ],
         "yaxis": "y2"
        },
        {
         "hovertext": "0 Orgelpredigtzitate im 54%",
         "marker": {
          "color": "rgb(250,250,250)"
         },
         "type": "bar",
         "x": [
          "Orgelpredigtzitate je Predigtprozent"
         ],
         "xaxis": "x2",
         "y": [
          100
         ],
         "yaxis": "y2"
        },
        {
         "hovertext": "0 Orgelpredigtzitate im 55%",
         "marker": {
          "color": "rgb(250,250,250)"
         },
         "type": "bar",
         "x": [
          "Orgelpredigtzitate je Predigtprozent"
         ],
         "xaxis": "x2",
         "y": [
          100
         ],
         "yaxis": "y2"
        },
        {
         "hovertext": "0 Orgelpredigtzitate im 56%",
         "marker": {
          "color": "rgb(250,250,250)"
         },
         "type": "bar",
         "x": [
          "Orgelpredigtzitate je Predigtprozent"
         ],
         "xaxis": "x2",
         "y": [
          100
         ],
         "yaxis": "y2"
        },
        {
         "hovertext": "0 Orgelpredigtzitate im 57%",
         "marker": {
          "color": "rgb(250,250,250)"
         },
         "type": "bar",
         "x": [
          "Orgelpredigtzitate je Predigtprozent"
         ],
         "xaxis": "x2",
         "y": [
          100
         ],
         "yaxis": "y2"
        },
        {
         "hovertext": "0 Orgelpredigtzitate im 58%",
         "marker": {
          "color": "rgb(250,250,250)"
         },
         "type": "bar",
         "x": [
          "Orgelpredigtzitate je Predigtprozent"
         ],
         "xaxis": "x2",
         "y": [
          100
         ],
         "yaxis": "y2"
        },
        {
         "hovertext": "0 Orgelpredigtzitate im 59%",
         "marker": {
          "color": "rgb(250,250,250)"
         },
         "type": "bar",
         "x": [
          "Orgelpredigtzitate je Predigtprozent"
         ],
         "xaxis": "x2",
         "y": [
          100
         ],
         "yaxis": "y2"
        },
        {
         "hovertext": "0 Orgelpredigtzitate im 60%",
         "marker": {
          "color": "rgb(250,250,250)"
         },
         "type": "bar",
         "x": [
          "Orgelpredigtzitate je Predigtprozent"
         ],
         "xaxis": "x2",
         "y": [
          100
         ],
         "yaxis": "y2"
        },
        {
         "hovertext": "0 Orgelpredigtzitate im 61%",
         "marker": {
          "color": "rgb(250,250,250)"
         },
         "type": "bar",
         "x": [
          "Orgelpredigtzitate je Predigtprozent"
         ],
         "xaxis": "x2",
         "y": [
          100
         ],
         "yaxis": "y2"
        },
        {
         "hovertext": "0 Orgelpredigtzitate im 62%",
         "marker": {
          "color": "rgb(250,250,250)"
         },
         "type": "bar",
         "x": [
          "Orgelpredigtzitate je Predigtprozent"
         ],
         "xaxis": "x2",
         "y": [
          100
         ],
         "yaxis": "y2"
        },
        {
         "hovertext": "0 Orgelpredigtzitate im 63%",
         "marker": {
          "color": "rgb(250,250,250)"
         },
         "type": "bar",
         "x": [
          "Orgelpredigtzitate je Predigtprozent"
         ],
         "xaxis": "x2",
         "y": [
          100
         ],
         "yaxis": "y2"
        },
        {
         "hovertext": "0 Orgelpredigtzitate im 64%",
         "marker": {
          "color": "rgb(250,250,250)"
         },
         "type": "bar",
         "x": [
          "Orgelpredigtzitate je Predigtprozent"
         ],
         "xaxis": "x2",
         "y": [
          100
         ],
         "yaxis": "y2"
        },
        {
         "hovertext": "1 Orgelpredigtzitate im 65%<br>Kostbare Bosische Orgel (Zwickau 1647)<br>",
         "marker": {
          "color": "rgb(235,235,235)"
         },
         "type": "bar",
         "x": [
          "Orgelpredigtzitate je Predigtprozent"
         ],
         "xaxis": "x2",
         "y": [
          100
         ],
         "yaxis": "y2"
        },
        {
         "hovertext": "1 Orgelpredigtzitate im 66%<br>Kostbare Bosische Orgel (Zwickau 1647)<br>",
         "marker": {
          "color": "rgb(235,235,235)"
         },
         "type": "bar",
         "x": [
          "Orgelpredigtzitate je Predigtprozent"
         ],
         "xaxis": "x2",
         "y": [
          100
         ],
         "yaxis": "y2"
        },
        {
         "hovertext": "0 Orgelpredigtzitate im 67%",
         "marker": {
          "color": "rgb(250,250,250)"
         },
         "type": "bar",
         "x": [
          "Orgelpredigtzitate je Predigtprozent"
         ],
         "xaxis": "x2",
         "y": [
          100
         ],
         "yaxis": "y2"
        },
        {
         "hovertext": "0 Orgelpredigtzitate im 68%",
         "marker": {
          "color": "rgb(250,250,250)"
         },
         "type": "bar",
         "x": [
          "Orgelpredigtzitate je Predigtprozent"
         ],
         "xaxis": "x2",
         "y": [
          100
         ],
         "yaxis": "y2"
        },
        {
         "hovertext": "0 Orgelpredigtzitate im 69%",
         "marker": {
          "color": "rgb(250,250,250)"
         },
         "type": "bar",
         "x": [
          "Orgelpredigtzitate je Predigtprozent"
         ],
         "xaxis": "x2",
         "y": [
          100
         ],
         "yaxis": "y2"
        },
        {
         "hovertext": "0 Orgelpredigtzitate im 70%",
         "marker": {
          "color": "rgb(250,250,250)"
         },
         "type": "bar",
         "x": [
          "Orgelpredigtzitate je Predigtprozent"
         ],
         "xaxis": "x2",
         "y": [
          100
         ],
         "yaxis": "y2"
        },
        {
         "hovertext": "0 Orgelpredigtzitate im 71%",
         "marker": {
          "color": "rgb(250,250,250)"
         },
         "type": "bar",
         "x": [
          "Orgelpredigtzitate je Predigtprozent"
         ],
         "xaxis": "x2",
         "y": [
          100
         ],
         "yaxis": "y2"
        },
        {
         "hovertext": "0 Orgelpredigtzitate im 72%",
         "marker": {
          "color": "rgb(250,250,250)"
         },
         "type": "bar",
         "x": [
          "Orgelpredigtzitate je Predigtprozent"
         ],
         "xaxis": "x2",
         "y": [
          100
         ],
         "yaxis": "y2"
        },
        {
         "hovertext": "0 Orgelpredigtzitate im 73%",
         "marker": {
          "color": "rgb(250,250,250)"
         },
         "type": "bar",
         "x": [
          "Orgelpredigtzitate je Predigtprozent"
         ],
         "xaxis": "x2",
         "y": [
          100
         ],
         "yaxis": "y2"
        },
        {
         "hovertext": "0 Orgelpredigtzitate im 74%",
         "marker": {
          "color": "rgb(250,250,250)"
         },
         "type": "bar",
         "x": [
          "Orgelpredigtzitate je Predigtprozent"
         ],
         "xaxis": "x2",
         "y": [
          100
         ],
         "yaxis": "y2"
        },
        {
         "hovertext": "0 Orgelpredigtzitate im 75%",
         "marker": {
          "color": "rgb(250,250,250)"
         },
         "type": "bar",
         "x": [
          "Orgelpredigtzitate je Predigtprozent"
         ],
         "xaxis": "x2",
         "y": [
          100
         ],
         "yaxis": "y2"
        },
        {
         "hovertext": "0 Orgelpredigtzitate im 76%",
         "marker": {
          "color": "rgb(250,250,250)"
         },
         "type": "bar",
         "x": [
          "Orgelpredigtzitate je Predigtprozent"
         ],
         "xaxis": "x2",
         "y": [
          100
         ],
         "yaxis": "y2"
        },
        {
         "hovertext": "0 Orgelpredigtzitate im 77%",
         "marker": {
          "color": "rgb(250,250,250)"
         },
         "type": "bar",
         "x": [
          "Orgelpredigtzitate je Predigtprozent"
         ],
         "xaxis": "x2",
         "y": [
          100
         ],
         "yaxis": "y2"
        },
        {
         "hovertext": "0 Orgelpredigtzitate im 78%",
         "marker": {
          "color": "rgb(250,250,250)"
         },
         "type": "bar",
         "x": [
          "Orgelpredigtzitate je Predigtprozent"
         ],
         "xaxis": "x2",
         "y": [
          100
         ],
         "yaxis": "y2"
        },
        {
         "hovertext": "0 Orgelpredigtzitate im 79%",
         "marker": {
          "color": "rgb(250,250,250)"
         },
         "type": "bar",
         "x": [
          "Orgelpredigtzitate je Predigtprozent"
         ],
         "xaxis": "x2",
         "y": [
          100
         ],
         "yaxis": "y2"
        },
        {
         "hovertext": "0 Orgelpredigtzitate im 80%",
         "marker": {
          "color": "rgb(250,250,250)"
         },
         "type": "bar",
         "x": [
          "Orgelpredigtzitate je Predigtprozent"
         ],
         "xaxis": "x2",
         "y": [
          100
         ],
         "yaxis": "y2"
        },
        {
         "hovertext": "1 Orgelpredigtzitate im 81%<br>Längst=gewüntzschte Mittweidische Orgel=Freude (Dresden 1648)<br>",
         "marker": {
          "color": "rgb(235,235,235)"
         },
         "type": "bar",
         "x": [
          "Orgelpredigtzitate je Predigtprozent"
         ],
         "xaxis": "x2",
         "y": [
          100
         ],
         "yaxis": "y2"
        },
        {
         "hovertext": "1 Orgelpredigtzitate im 82%<br>Längst=gewüntzschte Mittweidische Orgel=Freude (Dresden 1648)<br>",
         "marker": {
          "color": "rgb(235,235,235)"
         },
         "type": "bar",
         "x": [
          "Orgelpredigtzitate je Predigtprozent"
         ],
         "xaxis": "x2",
         "y": [
          100
         ],
         "yaxis": "y2"
        },
        {
         "hovertext": "1 Orgelpredigtzitate im 83%<br>Längst=gewüntzschte Mittweidische Orgel=Freude (Dresden 1648)<br>",
         "marker": {
          "color": "rgb(235,235,235)"
         },
         "type": "bar",
         "x": [
          "Orgelpredigtzitate je Predigtprozent"
         ],
         "xaxis": "x2",
         "y": [
          100
         ],
         "yaxis": "y2"
        },
        {
         "hovertext": "1 Orgelpredigtzitate im 84%<br>Längst=gewüntzschte Mittweidische Orgel=Freude (Dresden 1648)<br>",
         "marker": {
          "color": "rgb(235,235,235)"
         },
         "type": "bar",
         "x": [
          "Orgelpredigtzitate je Predigtprozent"
         ],
         "xaxis": "x2",
         "y": [
          100
         ],
         "yaxis": "y2"
        },
        {
         "hovertext": "1 Orgelpredigtzitate im 85%<br>Längst=gewüntzschte Mittweidische Orgel=Freude (Dresden 1648)<br>",
         "marker": {
          "color": "rgb(235,235,235)"
         },
         "type": "bar",
         "x": [
          "Orgelpredigtzitate je Predigtprozent"
         ],
         "xaxis": "x2",
         "y": [
          100
         ],
         "yaxis": "y2"
        },
        {
         "hovertext": "1 Orgelpredigtzitate im 86%<br>Längst=gewüntzschte Mittweidische Orgel=Freude (Dresden 1648)<br>",
         "marker": {
          "color": "rgb(235,235,235)"
         },
         "type": "bar",
         "x": [
          "Orgelpredigtzitate je Predigtprozent"
         ],
         "xaxis": "x2",
         "y": [
          100
         ],
         "yaxis": "y2"
        },
        {
         "hovertext": "1 Orgelpredigtzitate im 87%<br>Längst=gewüntzschte Mittweidische Orgel=Freude (Dresden 1648)<br>",
         "marker": {
          "color": "rgb(235,235,235)"
         },
         "type": "bar",
         "x": [
          "Orgelpredigtzitate je Predigtprozent"
         ],
         "xaxis": "x2",
         "y": [
          100
         ],
         "yaxis": "y2"
        },
        {
         "hovertext": "1 Orgelpredigtzitate im 88%<br>Längst=gewüntzschte Mittweidische Orgel=Freude (Dresden 1648)<br>",
         "marker": {
          "color": "rgb(235,235,235)"
         },
         "type": "bar",
         "x": [
          "Orgelpredigtzitate je Predigtprozent"
         ],
         "xaxis": "x2",
         "y": [
          100
         ],
         "yaxis": "y2"
        },
        {
         "hovertext": "1 Orgelpredigtzitate im 89%<br>Längst=gewüntzschte Mittweidische Orgel=Freude (Dresden 1648)<br>",
         "marker": {
          "color": "rgb(235,235,235)"
         },
         "type": "bar",
         "x": [
          "Orgelpredigtzitate je Predigtprozent"
         ],
         "xaxis": "x2",
         "y": [
          100
         ],
         "yaxis": "y2"
        },
        {
         "hovertext": "0 Orgelpredigtzitate im 90%",
         "marker": {
          "color": "rgb(250,250,250)"
         },
         "type": "bar",
         "x": [
          "Orgelpredigtzitate je Predigtprozent"
         ],
         "xaxis": "x2",
         "y": [
          100
         ],
         "yaxis": "y2"
        },
        {
         "hovertext": "0 Orgelpredigtzitate im 91%",
         "marker": {
          "color": "rgb(250,250,250)"
         },
         "type": "bar",
         "x": [
          "Orgelpredigtzitate je Predigtprozent"
         ],
         "xaxis": "x2",
         "y": [
          100
         ],
         "yaxis": "y2"
        },
        {
         "hovertext": "0 Orgelpredigtzitate im 92%",
         "marker": {
          "color": "rgb(250,250,250)"
         },
         "type": "bar",
         "x": [
          "Orgelpredigtzitate je Predigtprozent"
         ],
         "xaxis": "x2",
         "y": [
          100
         ],
         "yaxis": "y2"
        },
        {
         "hovertext": "0 Orgelpredigtzitate im 93%",
         "marker": {
          "color": "rgb(250,250,250)"
         },
         "type": "bar",
         "x": [
          "Orgelpredigtzitate je Predigtprozent"
         ],
         "xaxis": "x2",
         "y": [
          100
         ],
         "yaxis": "y2"
        },
        {
         "hovertext": "0 Orgelpredigtzitate im 94%",
         "marker": {
          "color": "rgb(250,250,250)"
         },
         "type": "bar",
         "x": [
          "Orgelpredigtzitate je Predigtprozent"
         ],
         "xaxis": "x2",
         "y": [
          100
         ],
         "yaxis": "y2"
        },
        {
         "hovertext": "0 Orgelpredigtzitate im 95%",
         "marker": {
          "color": "rgb(250,250,250)"
         },
         "type": "bar",
         "x": [
          "Orgelpredigtzitate je Predigtprozent"
         ],
         "xaxis": "x2",
         "y": [
          100
         ],
         "yaxis": "y2"
        },
        {
         "hovertext": "0 Orgelpredigtzitate im 96%",
         "marker": {
          "color": "rgb(250,250,250)"
         },
         "type": "bar",
         "x": [
          "Orgelpredigtzitate je Predigtprozent"
         ],
         "xaxis": "x2",
         "y": [
          100
         ],
         "yaxis": "y2"
        },
        {
         "hovertext": "0 Orgelpredigtzitate im 97%",
         "marker": {
          "color": "rgb(250,250,250)"
         },
         "type": "bar",
         "x": [
          "Orgelpredigtzitate je Predigtprozent"
         ],
         "xaxis": "x2",
         "y": [
          100
         ],
         "yaxis": "y2"
        },
        {
         "hovertext": "0 Orgelpredigtzitate im 98%",
         "marker": {
          "color": "rgb(250,250,250)"
         },
         "type": "bar",
         "x": [
          "Orgelpredigtzitate je Predigtprozent"
         ],
         "xaxis": "x2",
         "y": [
          100
         ],
         "yaxis": "y2"
        },
        {
         "hovertext": "0 Orgelpredigtzitate im 99%",
         "marker": {
          "color": "rgb(250,250,250)"
         },
         "type": "bar",
         "x": [
          "Orgelpredigtzitate je Predigtprozent"
         ],
         "xaxis": "x2",
         "y": [
          100
         ],
         "yaxis": "y2"
        },
        {
         "hovertext": "0 Orgelpredigtzitate im 100%",
         "marker": {
          "color": "rgb(250,250,250)"
         },
         "type": "bar",
         "x": [
          "Orgelpredigtzitate je Predigtprozent"
         ],
         "xaxis": "x2",
         "y": [
          100
         ],
         "yaxis": "y2"
        },
        {
         "hovertext": "0 Orgelpredigtzitate im 1%",
         "marker": {
          "color": "rgb(250,250,250)"
         },
         "type": "bar",
         "x": [
          "Orgelpredigtzitate je Predigtprozent"
         ],
         "xaxis": "x3",
         "y": [
          100
         ],
         "yaxis": "y3"
        },
        {
         "hovertext": "0 Orgelpredigtzitate im 2%",
         "marker": {
          "color": "rgb(250,250,250)"
         },
         "type": "bar",
         "x": [
          "Orgelpredigtzitate je Predigtprozent"
         ],
         "xaxis": "x3",
         "y": [
          100
         ],
         "yaxis": "y3"
        },
        {
         "hovertext": "0 Orgelpredigtzitate im 3%",
         "marker": {
          "color": "rgb(250,250,250)"
         },
         "type": "bar",
         "x": [
          "Orgelpredigtzitate je Predigtprozent"
         ],
         "xaxis": "x3",
         "y": [
          100
         ],
         "yaxis": "y3"
        },
        {
         "hovertext": "0 Orgelpredigtzitate im 4%",
         "marker": {
          "color": "rgb(250,250,250)"
         },
         "type": "bar",
         "x": [
          "Orgelpredigtzitate je Predigtprozent"
         ],
         "xaxis": "x3",
         "y": [
          100
         ],
         "yaxis": "y3"
        },
        {
         "hovertext": "0 Orgelpredigtzitate im 5%",
         "marker": {
          "color": "rgb(250,250,250)"
         },
         "type": "bar",
         "x": [
          "Orgelpredigtzitate je Predigtprozent"
         ],
         "xaxis": "x3",
         "y": [
          100
         ],
         "yaxis": "y3"
        },
        {
         "hovertext": "0 Orgelpredigtzitate im 6%",
         "marker": {
          "color": "rgb(250,250,250)"
         },
         "type": "bar",
         "x": [
          "Orgelpredigtzitate je Predigtprozent"
         ],
         "xaxis": "x3",
         "y": [
          100
         ],
         "yaxis": "y3"
        },
        {
         "hovertext": "0 Orgelpredigtzitate im 7%",
         "marker": {
          "color": "rgb(250,250,250)"
         },
         "type": "bar",
         "x": [
          "Orgelpredigtzitate je Predigtprozent"
         ],
         "xaxis": "x3",
         "y": [
          100
         ],
         "yaxis": "y3"
        },
        {
         "hovertext": "0 Orgelpredigtzitate im 8%",
         "marker": {
          "color": "rgb(250,250,250)"
         },
         "type": "bar",
         "x": [
          "Orgelpredigtzitate je Predigtprozent"
         ],
         "xaxis": "x3",
         "y": [
          100
         ],
         "yaxis": "y3"
        },
        {
         "hovertext": "0 Orgelpredigtzitate im 9%",
         "marker": {
          "color": "rgb(250,250,250)"
         },
         "type": "bar",
         "x": [
          "Orgelpredigtzitate je Predigtprozent"
         ],
         "xaxis": "x3",
         "y": [
          100
         ],
         "yaxis": "y3"
        },
        {
         "hovertext": "0 Orgelpredigtzitate im 10%",
         "marker": {
          "color": "rgb(250,250,250)"
         },
         "type": "bar",
         "x": [
          "Orgelpredigtzitate je Predigtprozent"
         ],
         "xaxis": "x3",
         "y": [
          100
         ],
         "yaxis": "y3"
        },
        {
         "hovertext": "0 Orgelpredigtzitate im 11%",
         "marker": {
          "color": "rgb(250,250,250)"
         },
         "type": "bar",
         "x": [
          "Orgelpredigtzitate je Predigtprozent"
         ],
         "xaxis": "x3",
         "y": [
          100
         ],
         "yaxis": "y3"
        },
        {
         "hovertext": "0 Orgelpredigtzitate im 12%",
         "marker": {
          "color": "rgb(250,250,250)"
         },
         "type": "bar",
         "x": [
          "Orgelpredigtzitate je Predigtprozent"
         ],
         "xaxis": "x3",
         "y": [
          100
         ],
         "yaxis": "y3"
        },
        {
         "hovertext": "0 Orgelpredigtzitate im 13%",
         "marker": {
          "color": "rgb(250,250,250)"
         },
         "type": "bar",
         "x": [
          "Orgelpredigtzitate je Predigtprozent"
         ],
         "xaxis": "x3",
         "y": [
          100
         ],
         "yaxis": "y3"
        },
        {
         "hovertext": "0 Orgelpredigtzitate im 14%",
         "marker": {
          "color": "rgb(250,250,250)"
         },
         "type": "bar",
         "x": [
          "Orgelpredigtzitate je Predigtprozent"
         ],
         "xaxis": "x3",
         "y": [
          100
         ],
         "yaxis": "y3"
        },
        {
         "hovertext": "0 Orgelpredigtzitate im 15%",
         "marker": {
          "color": "rgb(250,250,250)"
         },
         "type": "bar",
         "x": [
          "Orgelpredigtzitate je Predigtprozent"
         ],
         "xaxis": "x3",
         "y": [
          100
         ],
         "yaxis": "y3"
        },
        {
         "hovertext": "1 Orgelpredigtzitate im 16%<br>Denck- und Danck-Säule (Rothenburg ob der Tauber [1673])<br>",
         "marker": {
          "color": "rgb(235,235,235)"
         },
         "type": "bar",
         "x": [
          "Orgelpredigtzitate je Predigtprozent"
         ],
         "xaxis": "x3",
         "y": [
          100
         ],
         "yaxis": "y3"
        },
        {
         "hovertext": "0 Orgelpredigtzitate im 17%",
         "marker": {
          "color": "rgb(250,250,250)"
         },
         "type": "bar",
         "x": [
          "Orgelpredigtzitate je Predigtprozent"
         ],
         "xaxis": "x3",
         "y": [
          100
         ],
         "yaxis": "y3"
        },
        {
         "hovertext": "0 Orgelpredigtzitate im 18%",
         "marker": {
          "color": "rgb(250,250,250)"
         },
         "type": "bar",
         "x": [
          "Orgelpredigtzitate je Predigtprozent"
         ],
         "xaxis": "x3",
         "y": [
          100
         ],
         "yaxis": "y3"
        },
        {
         "hovertext": "0 Orgelpredigtzitate im 19%",
         "marker": {
          "color": "rgb(250,250,250)"
         },
         "type": "bar",
         "x": [
          "Orgelpredigtzitate je Predigtprozent"
         ],
         "xaxis": "x3",
         "y": [
          100
         ],
         "yaxis": "y3"
        },
        {
         "hovertext": "0 Orgelpredigtzitate im 20%",
         "marker": {
          "color": "rgb(250,250,250)"
         },
         "type": "bar",
         "x": [
          "Orgelpredigtzitate je Predigtprozent"
         ],
         "xaxis": "x3",
         "y": [
          100
         ],
         "yaxis": "y3"
        },
        {
         "hovertext": "0 Orgelpredigtzitate im 21%",
         "marker": {
          "color": "rgb(250,250,250)"
         },
         "type": "bar",
         "x": [
          "Orgelpredigtzitate je Predigtprozent"
         ],
         "xaxis": "x3",
         "y": [
          100
         ],
         "yaxis": "y3"
        },
        {
         "hovertext": "0 Orgelpredigtzitate im 22%",
         "marker": {
          "color": "rgb(250,250,250)"
         },
         "type": "bar",
         "x": [
          "Orgelpredigtzitate je Predigtprozent"
         ],
         "xaxis": "x3",
         "y": [
          100
         ],
         "yaxis": "y3"
        },
        {
         "hovertext": "0 Orgelpredigtzitate im 23%",
         "marker": {
          "color": "rgb(250,250,250)"
         },
         "type": "bar",
         "x": [
          "Orgelpredigtzitate je Predigtprozent"
         ],
         "xaxis": "x3",
         "y": [
          100
         ],
         "yaxis": "y3"
        },
        {
         "hovertext": "0 Orgelpredigtzitate im 24%",
         "marker": {
          "color": "rgb(250,250,250)"
         },
         "type": "bar",
         "x": [
          "Orgelpredigtzitate je Predigtprozent"
         ],
         "xaxis": "x3",
         "y": [
          100
         ],
         "yaxis": "y3"
        },
        {
         "hovertext": "0 Orgelpredigtzitate im 25%",
         "marker": {
          "color": "rgb(250,250,250)"
         },
         "type": "bar",
         "x": [
          "Orgelpredigtzitate je Predigtprozent"
         ],
         "xaxis": "x3",
         "y": [
          100
         ],
         "yaxis": "y3"
        },
        {
         "hovertext": "1 Orgelpredigtzitate im 26%<br>Organolustria Evangelico-Stambachiana (Hof 1660)<br>",
         "marker": {
          "color": "rgb(235,235,235)"
         },
         "type": "bar",
         "x": [
          "Orgelpredigtzitate je Predigtprozent"
         ],
         "xaxis": "x3",
         "y": [
          100
         ],
         "yaxis": "y3"
        },
        {
         "hovertext": "1 Orgelpredigtzitate im 27%<br>Organolustria Evangelico-Stambachiana (Hof 1660)<br>",
         "marker": {
          "color": "rgb(235,235,235)"
         },
         "type": "bar",
         "x": [
          "Orgelpredigtzitate je Predigtprozent"
         ],
         "xaxis": "x3",
         "y": [
          100
         ],
         "yaxis": "y3"
        },
        {
         "hovertext": "0 Orgelpredigtzitate im 28%",
         "marker": {
          "color": "rgb(250,250,250)"
         },
         "type": "bar",
         "x": [
          "Orgelpredigtzitate je Predigtprozent"
         ],
         "xaxis": "x3",
         "y": [
          100
         ],
         "yaxis": "y3"
        },
        {
         "hovertext": "1 Orgelpredigtzitate im 29%<br>Organolustria Evangelico-Stambachiana (Hof 1660)<br>",
         "marker": {
          "color": "rgb(235,235,235)"
         },
         "type": "bar",
         "x": [
          "Orgelpredigtzitate je Predigtprozent"
         ],
         "xaxis": "x3",
         "y": [
          100
         ],
         "yaxis": "y3"
        },
        {
         "hovertext": "2 Orgelpredigtzitate im 30%<br>Organolustria Evangelico-Stambachiana (Hof 1660)<br>Stolpenische Ehren-Crone (Dresden 1652)<br>",
         "marker": {
          "color": "rgb(220,220,220)"
         },
         "type": "bar",
         "x": [
          "Orgelpredigtzitate je Predigtprozent"
         ],
         "xaxis": "x3",
         "y": [
          100
         ],
         "yaxis": "y3"
        },
        {
         "hovertext": "2 Orgelpredigtzitate im 31%<br>Organolustria Evangelico-Stambachiana (Hof 1660)<br>Stolpenische Ehren-Crone (Dresden 1652)<br>",
         "marker": {
          "color": "rgb(220,220,220)"
         },
         "type": "bar",
         "x": [
          "Orgelpredigtzitate je Predigtprozent"
         ],
         "xaxis": "x3",
         "y": [
          100
         ],
         "yaxis": "y3"
        },
        {
         "hovertext": "3 Orgelpredigtzitate im 32%<br>Denck- und Danck-Säule (Rothenburg ob der Tauber [1673])<br>Organolustria Evangelico-Stambachiana (Hof 1660)<br>Stolpenische Ehren-Crone (Dresden 1652)<br>",
         "marker": {
          "color": "rgb(205,205,205)"
         },
         "type": "bar",
         "x": [
          "Orgelpredigtzitate je Predigtprozent"
         ],
         "xaxis": "x3",
         "y": [
          100
         ],
         "yaxis": "y3"
        },
        {
         "hovertext": "1 Orgelpredigtzitate im 33%<br>Stolpenische Ehren-Crone (Dresden 1652)<br>",
         "marker": {
          "color": "rgb(235,235,235)"
         },
         "type": "bar",
         "x": [
          "Orgelpredigtzitate je Predigtprozent"
         ],
         "xaxis": "x3",
         "y": [
          100
         ],
         "yaxis": "y3"
        },
        {
         "hovertext": "1 Orgelpredigtzitate im 34%<br>Stolpenische Ehren-Crone (Dresden 1652)<br>",
         "marker": {
          "color": "rgb(235,235,235)"
         },
         "type": "bar",
         "x": [
          "Orgelpredigtzitate je Predigtprozent"
         ],
         "xaxis": "x3",
         "y": [
          100
         ],
         "yaxis": "y3"
        },
        {
         "hovertext": "1 Orgelpredigtzitate im 35%<br>Stolpenische Ehren-Crone (Dresden 1652)<br>",
         "marker": {
          "color": "rgb(235,235,235)"
         },
         "type": "bar",
         "x": [
          "Orgelpredigtzitate je Predigtprozent"
         ],
         "xaxis": "x3",
         "y": [
          100
         ],
         "yaxis": "y3"
        },
        {
         "hovertext": "1 Orgelpredigtzitate im 36%<br>Stolpenische Ehren-Crone (Dresden 1652)<br>",
         "marker": {
          "color": "rgb(235,235,235)"
         },
         "type": "bar",
         "x": [
          "Orgelpredigtzitate je Predigtprozent"
         ],
         "xaxis": "x3",
         "y": [
          100
         ],
         "yaxis": "y3"
        },
        {
         "hovertext": "0 Orgelpredigtzitate im 37%",
         "marker": {
          "color": "rgb(250,250,250)"
         },
         "type": "bar",
         "x": [
          "Orgelpredigtzitate je Predigtprozent"
         ],
         "xaxis": "x3",
         "y": [
          100
         ],
         "yaxis": "y3"
        },
        {
         "hovertext": "0 Orgelpredigtzitate im 38%",
         "marker": {
          "color": "rgb(250,250,250)"
         },
         "type": "bar",
         "x": [
          "Orgelpredigtzitate je Predigtprozent"
         ],
         "xaxis": "x3",
         "y": [
          100
         ],
         "yaxis": "y3"
        },
        {
         "hovertext": "0 Orgelpredigtzitate im 39%",
         "marker": {
          "color": "rgb(250,250,250)"
         },
         "type": "bar",
         "x": [
          "Orgelpredigtzitate je Predigtprozent"
         ],
         "xaxis": "x3",
         "y": [
          100
         ],
         "yaxis": "y3"
        },
        {
         "hovertext": "0 Orgelpredigtzitate im 40%",
         "marker": {
          "color": "rgb(250,250,250)"
         },
         "type": "bar",
         "x": [
          "Orgelpredigtzitate je Predigtprozent"
         ],
         "xaxis": "x3",
         "y": [
          100
         ],
         "yaxis": "y3"
        },
        {
         "hovertext": "0 Orgelpredigtzitate im 41%",
         "marker": {
          "color": "rgb(250,250,250)"
         },
         "type": "bar",
         "x": [
          "Orgelpredigtzitate je Predigtprozent"
         ],
         "xaxis": "x3",
         "y": [
          100
         ],
         "yaxis": "y3"
        },
        {
         "hovertext": "1 Orgelpredigtzitate im 42%<br>Denck- und Danck-Säule (Rothenburg ob der Tauber [1673])<br>",
         "marker": {
          "color": "rgb(235,235,235)"
         },
         "type": "bar",
         "x": [
          "Orgelpredigtzitate je Predigtprozent"
         ],
         "xaxis": "x3",
         "y": [
          100
         ],
         "yaxis": "y3"
        },
        {
         "hovertext": "1 Orgelpredigtzitate im 43%<br>Denck- und Danck-Säule (Rothenburg ob der Tauber [1673])<br>",
         "marker": {
          "color": "rgb(235,235,235)"
         },
         "type": "bar",
         "x": [
          "Orgelpredigtzitate je Predigtprozent"
         ],
         "xaxis": "x3",
         "y": [
          100
         ],
         "yaxis": "y3"
        },
        {
         "hovertext": "1 Orgelpredigtzitate im 44%<br>Denck- und Danck-Säule (Rothenburg ob der Tauber [1673])<br>",
         "marker": {
          "color": "rgb(235,235,235)"
         },
         "type": "bar",
         "x": [
          "Orgelpredigtzitate je Predigtprozent"
         ],
         "xaxis": "x3",
         "y": [
          100
         ],
         "yaxis": "y3"
        },
        {
         "hovertext": "1 Orgelpredigtzitate im 45%<br>Denck- und Danck-Säule (Rothenburg ob der Tauber [1673])<br>",
         "marker": {
          "color": "rgb(235,235,235)"
         },
         "type": "bar",
         "x": [
          "Orgelpredigtzitate je Predigtprozent"
         ],
         "xaxis": "x3",
         "y": [
          100
         ],
         "yaxis": "y3"
        },
        {
         "hovertext": "0 Orgelpredigtzitate im 46%",
         "marker": {
          "color": "rgb(250,250,250)"
         },
         "type": "bar",
         "x": [
          "Orgelpredigtzitate je Predigtprozent"
         ],
         "xaxis": "x3",
         "y": [
          100
         ],
         "yaxis": "y3"
        },
        {
         "hovertext": "0 Orgelpredigtzitate im 47%",
         "marker": {
          "color": "rgb(250,250,250)"
         },
         "type": "bar",
         "x": [
          "Orgelpredigtzitate je Predigtprozent"
         ],
         "xaxis": "x3",
         "y": [
          100
         ],
         "yaxis": "y3"
        },
        {
         "hovertext": "0 Orgelpredigtzitate im 48%",
         "marker": {
          "color": "rgb(250,250,250)"
         },
         "type": "bar",
         "x": [
          "Orgelpredigtzitate je Predigtprozent"
         ],
         "xaxis": "x3",
         "y": [
          100
         ],
         "yaxis": "y3"
        },
        {
         "hovertext": "0 Orgelpredigtzitate im 49%",
         "marker": {
          "color": "rgb(250,250,250)"
         },
         "type": "bar",
         "x": [
          "Orgelpredigtzitate je Predigtprozent"
         ],
         "xaxis": "x3",
         "y": [
          100
         ],
         "yaxis": "y3"
        },
        {
         "hovertext": "0 Orgelpredigtzitate im 50%",
         "marker": {
          "color": "rgb(250,250,250)"
         },
         "type": "bar",
         "x": [
          "Orgelpredigtzitate je Predigtprozent"
         ],
         "xaxis": "x3",
         "y": [
          100
         ],
         "yaxis": "y3"
        },
        {
         "hovertext": "0 Orgelpredigtzitate im 51%",
         "marker": {
          "color": "rgb(250,250,250)"
         },
         "type": "bar",
         "x": [
          "Orgelpredigtzitate je Predigtprozent"
         ],
         "xaxis": "x3",
         "y": [
          100
         ],
         "yaxis": "y3"
        },
        {
         "hovertext": "0 Orgelpredigtzitate im 52%",
         "marker": {
          "color": "rgb(250,250,250)"
         },
         "type": "bar",
         "x": [
          "Orgelpredigtzitate je Predigtprozent"
         ],
         "xaxis": "x3",
         "y": [
          100
         ],
         "yaxis": "y3"
        },
        {
         "hovertext": "0 Orgelpredigtzitate im 53%",
         "marker": {
          "color": "rgb(250,250,250)"
         },
         "type": "bar",
         "x": [
          "Orgelpredigtzitate je Predigtprozent"
         ],
         "xaxis": "x3",
         "y": [
          100
         ],
         "yaxis": "y3"
        },
        {
         "hovertext": "0 Orgelpredigtzitate im 54%",
         "marker": {
          "color": "rgb(250,250,250)"
         },
         "type": "bar",
         "x": [
          "Orgelpredigtzitate je Predigtprozent"
         ],
         "xaxis": "x3",
         "y": [
          100
         ],
         "yaxis": "y3"
        },
        {
         "hovertext": "0 Orgelpredigtzitate im 55%",
         "marker": {
          "color": "rgb(250,250,250)"
         },
         "type": "bar",
         "x": [
          "Orgelpredigtzitate je Predigtprozent"
         ],
         "xaxis": "x3",
         "y": [
          100
         ],
         "yaxis": "y3"
        },
        {
         "hovertext": "0 Orgelpredigtzitate im 56%",
         "marker": {
          "color": "rgb(250,250,250)"
         },
         "type": "bar",
         "x": [
          "Orgelpredigtzitate je Predigtprozent"
         ],
         "xaxis": "x3",
         "y": [
          100
         ],
         "yaxis": "y3"
        },
        {
         "hovertext": "0 Orgelpredigtzitate im 57%",
         "marker": {
          "color": "rgb(250,250,250)"
         },
         "type": "bar",
         "x": [
          "Orgelpredigtzitate je Predigtprozent"
         ],
         "xaxis": "x3",
         "y": [
          100
         ],
         "yaxis": "y3"
        },
        {
         "hovertext": "1 Orgelpredigtzitate im 58%<br>Denck- und Danck-Säule (Rothenburg ob der Tauber [1673])<br>",
         "marker": {
          "color": "rgb(235,235,235)"
         },
         "type": "bar",
         "x": [
          "Orgelpredigtzitate je Predigtprozent"
         ],
         "xaxis": "x3",
         "y": [
          100
         ],
         "yaxis": "y3"
        },
        {
         "hovertext": "1 Orgelpredigtzitate im 59%<br>Denck- und Danck-Säule (Rothenburg ob der Tauber [1673])<br>",
         "marker": {
          "color": "rgb(235,235,235)"
         },
         "type": "bar",
         "x": [
          "Orgelpredigtzitate je Predigtprozent"
         ],
         "xaxis": "x3",
         "y": [
          100
         ],
         "yaxis": "y3"
        },
        {
         "hovertext": "1 Orgelpredigtzitate im 60%<br>Denck- und Danck-Säule (Rothenburg ob der Tauber [1673])<br>",
         "marker": {
          "color": "rgb(235,235,235)"
         },
         "type": "bar",
         "x": [
          "Orgelpredigtzitate je Predigtprozent"
         ],
         "xaxis": "x3",
         "y": [
          100
         ],
         "yaxis": "y3"
        },
        {
         "hovertext": "1 Orgelpredigtzitate im 61%<br>Denck- und Danck-Säule (Rothenburg ob der Tauber [1673])<br>",
         "marker": {
          "color": "rgb(235,235,235)"
         },
         "type": "bar",
         "x": [
          "Orgelpredigtzitate je Predigtprozent"
         ],
         "xaxis": "x3",
         "y": [
          100
         ],
         "yaxis": "y3"
        },
        {
         "hovertext": "1 Orgelpredigtzitate im 62%<br>Denck- und Danck-Säule (Rothenburg ob der Tauber [1673])<br>",
         "marker": {
          "color": "rgb(235,235,235)"
         },
         "type": "bar",
         "x": [
          "Orgelpredigtzitate je Predigtprozent"
         ],
         "xaxis": "x3",
         "y": [
          100
         ],
         "yaxis": "y3"
        },
        {
         "hovertext": "0 Orgelpredigtzitate im 63%",
         "marker": {
          "color": "rgb(250,250,250)"
         },
         "type": "bar",
         "x": [
          "Orgelpredigtzitate je Predigtprozent"
         ],
         "xaxis": "x3",
         "y": [
          100
         ],
         "yaxis": "y3"
        },
        {
         "hovertext": "0 Orgelpredigtzitate im 64%",
         "marker": {
          "color": "rgb(250,250,250)"
         },
         "type": "bar",
         "x": [
          "Orgelpredigtzitate je Predigtprozent"
         ],
         "xaxis": "x3",
         "y": [
          100
         ],
         "yaxis": "y3"
        },
        {
         "hovertext": "0 Orgelpredigtzitate im 65%",
         "marker": {
          "color": "rgb(250,250,250)"
         },
         "type": "bar",
         "x": [
          "Orgelpredigtzitate je Predigtprozent"
         ],
         "xaxis": "x3",
         "y": [
          100
         ],
         "yaxis": "y3"
        },
        {
         "hovertext": "0 Orgelpredigtzitate im 66%",
         "marker": {
          "color": "rgb(250,250,250)"
         },
         "type": "bar",
         "x": [
          "Orgelpredigtzitate je Predigtprozent"
         ],
         "xaxis": "x3",
         "y": [
          100
         ],
         "yaxis": "y3"
        },
        {
         "hovertext": "0 Orgelpredigtzitate im 67%",
         "marker": {
          "color": "rgb(250,250,250)"
         },
         "type": "bar",
         "x": [
          "Orgelpredigtzitate je Predigtprozent"
         ],
         "xaxis": "x3",
         "y": [
          100
         ],
         "yaxis": "y3"
        },
        {
         "hovertext": "0 Orgelpredigtzitate im 68%",
         "marker": {
          "color": "rgb(250,250,250)"
         },
         "type": "bar",
         "x": [
          "Orgelpredigtzitate je Predigtprozent"
         ],
         "xaxis": "x3",
         "y": [
          100
         ],
         "yaxis": "y3"
        },
        {
         "hovertext": "0 Orgelpredigtzitate im 69%",
         "marker": {
          "color": "rgb(250,250,250)"
         },
         "type": "bar",
         "x": [
          "Orgelpredigtzitate je Predigtprozent"
         ],
         "xaxis": "x3",
         "y": [
          100
         ],
         "yaxis": "y3"
        },
        {
         "hovertext": "0 Orgelpredigtzitate im 70%",
         "marker": {
          "color": "rgb(250,250,250)"
         },
         "type": "bar",
         "x": [
          "Orgelpredigtzitate je Predigtprozent"
         ],
         "xaxis": "x3",
         "y": [
          100
         ],
         "yaxis": "y3"
        },
        {
         "hovertext": "0 Orgelpredigtzitate im 71%",
         "marker": {
          "color": "rgb(250,250,250)"
         },
         "type": "bar",
         "x": [
          "Orgelpredigtzitate je Predigtprozent"
         ],
         "xaxis": "x3",
         "y": [
          100
         ],
         "yaxis": "y3"
        },
        {
         "hovertext": "0 Orgelpredigtzitate im 72%",
         "marker": {
          "color": "rgb(250,250,250)"
         },
         "type": "bar",
         "x": [
          "Orgelpredigtzitate je Predigtprozent"
         ],
         "xaxis": "x3",
         "y": [
          100
         ],
         "yaxis": "y3"
        },
        {
         "hovertext": "0 Orgelpredigtzitate im 73%",
         "marker": {
          "color": "rgb(250,250,250)"
         },
         "type": "bar",
         "x": [
          "Orgelpredigtzitate je Predigtprozent"
         ],
         "xaxis": "x3",
         "y": [
          100
         ],
         "yaxis": "y3"
        },
        {
         "hovertext": "0 Orgelpredigtzitate im 74%",
         "marker": {
          "color": "rgb(250,250,250)"
         },
         "type": "bar",
         "x": [
          "Orgelpredigtzitate je Predigtprozent"
         ],
         "xaxis": "x3",
         "y": [
          100
         ],
         "yaxis": "y3"
        },
        {
         "hovertext": "0 Orgelpredigtzitate im 75%",
         "marker": {
          "color": "rgb(250,250,250)"
         },
         "type": "bar",
         "x": [
          "Orgelpredigtzitate je Predigtprozent"
         ],
         "xaxis": "x3",
         "y": [
          100
         ],
         "yaxis": "y3"
        },
        {
         "hovertext": "1 Orgelpredigtzitate im 76%<br>Organologismos (Dresden 1651)<br>",
         "marker": {
          "color": "rgb(235,235,235)"
         },
         "type": "bar",
         "x": [
          "Orgelpredigtzitate je Predigtprozent"
         ],
         "xaxis": "x3",
         "y": [
          100
         ],
         "yaxis": "y3"
        },
        {
         "hovertext": "1 Orgelpredigtzitate im 77%<br>Organologismos (Dresden 1651)<br>",
         "marker": {
          "color": "rgb(235,235,235)"
         },
         "type": "bar",
         "x": [
          "Orgelpredigtzitate je Predigtprozent"
         ],
         "xaxis": "x3",
         "y": [
          100
         ],
         "yaxis": "y3"
        },
        {
         "hovertext": "1 Orgelpredigtzitate im 78%<br>Organologismos (Dresden 1651)<br>",
         "marker": {
          "color": "rgb(235,235,235)"
         },
         "type": "bar",
         "x": [
          "Orgelpredigtzitate je Predigtprozent"
         ],
         "xaxis": "x3",
         "y": [
          100
         ],
         "yaxis": "y3"
        },
        {
         "hovertext": "1 Orgelpredigtzitate im 79%<br>Organologismos (Dresden 1651)<br>",
         "marker": {
          "color": "rgb(235,235,235)"
         },
         "type": "bar",
         "x": [
          "Orgelpredigtzitate je Predigtprozent"
         ],
         "xaxis": "x3",
         "y": [
          100
         ],
         "yaxis": "y3"
        },
        {
         "hovertext": "0 Orgelpredigtzitate im 80%",
         "marker": {
          "color": "rgb(250,250,250)"
         },
         "type": "bar",
         "x": [
          "Orgelpredigtzitate je Predigtprozent"
         ],
         "xaxis": "x3",
         "y": [
          100
         ],
         "yaxis": "y3"
        },
        {
         "hovertext": "0 Orgelpredigtzitate im 81%",
         "marker": {
          "color": "rgb(250,250,250)"
         },
         "type": "bar",
         "x": [
          "Orgelpredigtzitate je Predigtprozent"
         ],
         "xaxis": "x3",
         "y": [
          100
         ],
         "yaxis": "y3"
        },
        {
         "hovertext": "0 Orgelpredigtzitate im 82%",
         "marker": {
          "color": "rgb(250,250,250)"
         },
         "type": "bar",
         "x": [
          "Orgelpredigtzitate je Predigtprozent"
         ],
         "xaxis": "x3",
         "y": [
          100
         ],
         "yaxis": "y3"
        },
        {
         "hovertext": "0 Orgelpredigtzitate im 83%",
         "marker": {
          "color": "rgb(250,250,250)"
         },
         "type": "bar",
         "x": [
          "Orgelpredigtzitate je Predigtprozent"
         ],
         "xaxis": "x3",
         "y": [
          100
         ],
         "yaxis": "y3"
        },
        {
         "hovertext": "0 Orgelpredigtzitate im 84%",
         "marker": {
          "color": "rgb(250,250,250)"
         },
         "type": "bar",
         "x": [
          "Orgelpredigtzitate je Predigtprozent"
         ],
         "xaxis": "x3",
         "y": [
          100
         ],
         "yaxis": "y3"
        },
        {
         "hovertext": "1 Orgelpredigtzitate im 85%<br>Stolpenische Ehren-Crone (Dresden 1652)<br>",
         "marker": {
          "color": "rgb(235,235,235)"
         },
         "type": "bar",
         "x": [
          "Orgelpredigtzitate je Predigtprozent"
         ],
         "xaxis": "x3",
         "y": [
          100
         ],
         "yaxis": "y3"
        },
        {
         "hovertext": "1 Orgelpredigtzitate im 86%<br>Stolpenische Ehren-Crone (Dresden 1652)<br>",
         "marker": {
          "color": "rgb(235,235,235)"
         },
         "type": "bar",
         "x": [
          "Orgelpredigtzitate je Predigtprozent"
         ],
         "xaxis": "x3",
         "y": [
          100
         ],
         "yaxis": "y3"
        },
        {
         "hovertext": "0 Orgelpredigtzitate im 87%",
         "marker": {
          "color": "rgb(250,250,250)"
         },
         "type": "bar",
         "x": [
          "Orgelpredigtzitate je Predigtprozent"
         ],
         "xaxis": "x3",
         "y": [
          100
         ],
         "yaxis": "y3"
        },
        {
         "hovertext": "0 Orgelpredigtzitate im 88%",
         "marker": {
          "color": "rgb(250,250,250)"
         },
         "type": "bar",
         "x": [
          "Orgelpredigtzitate je Predigtprozent"
         ],
         "xaxis": "x3",
         "y": [
          100
         ],
         "yaxis": "y3"
        },
        {
         "hovertext": "0 Orgelpredigtzitate im 89%",
         "marker": {
          "color": "rgb(250,250,250)"
         },
         "type": "bar",
         "x": [
          "Orgelpredigtzitate je Predigtprozent"
         ],
         "xaxis": "x3",
         "y": [
          100
         ],
         "yaxis": "y3"
        },
        {
         "hovertext": "0 Orgelpredigtzitate im 90%",
         "marker": {
          "color": "rgb(250,250,250)"
         },
         "type": "bar",
         "x": [
          "Orgelpredigtzitate je Predigtprozent"
         ],
         "xaxis": "x3",
         "y": [
          100
         ],
         "yaxis": "y3"
        },
        {
         "hovertext": "0 Orgelpredigtzitate im 91%",
         "marker": {
          "color": "rgb(250,250,250)"
         },
         "type": "bar",
         "x": [
          "Orgelpredigtzitate je Predigtprozent"
         ],
         "xaxis": "x3",
         "y": [
          100
         ],
         "yaxis": "y3"
        },
        {
         "hovertext": "0 Orgelpredigtzitate im 92%",
         "marker": {
          "color": "rgb(250,250,250)"
         },
         "type": "bar",
         "x": [
          "Orgelpredigtzitate je Predigtprozent"
         ],
         "xaxis": "x3",
         "y": [
          100
         ],
         "yaxis": "y3"
        },
        {
         "hovertext": "0 Orgelpredigtzitate im 93%",
         "marker": {
          "color": "rgb(250,250,250)"
         },
         "type": "bar",
         "x": [
          "Orgelpredigtzitate je Predigtprozent"
         ],
         "xaxis": "x3",
         "y": [
          100
         ],
         "yaxis": "y3"
        },
        {
         "hovertext": "0 Orgelpredigtzitate im 94%",
         "marker": {
          "color": "rgb(250,250,250)"
         },
         "type": "bar",
         "x": [
          "Orgelpredigtzitate je Predigtprozent"
         ],
         "xaxis": "x3",
         "y": [
          100
         ],
         "yaxis": "y3"
        },
        {
         "hovertext": "0 Orgelpredigtzitate im 95%",
         "marker": {
          "color": "rgb(250,250,250)"
         },
         "type": "bar",
         "x": [
          "Orgelpredigtzitate je Predigtprozent"
         ],
         "xaxis": "x3",
         "y": [
          100
         ],
         "yaxis": "y3"
        },
        {
         "hovertext": "1 Orgelpredigtzitate im 96%<br>Organolustria Evangelico-Stambachiana (Hof 1660)<br>",
         "marker": {
          "color": "rgb(235,235,235)"
         },
         "type": "bar",
         "x": [
          "Orgelpredigtzitate je Predigtprozent"
         ],
         "xaxis": "x3",
         "y": [
          100
         ],
         "yaxis": "y3"
        },
        {
         "hovertext": "1 Orgelpredigtzitate im 97%<br>Organolustria Evangelico-Stambachiana (Hof 1660)<br>",
         "marker": {
          "color": "rgb(235,235,235)"
         },
         "type": "bar",
         "x": [
          "Orgelpredigtzitate je Predigtprozent"
         ],
         "xaxis": "x3",
         "y": [
          100
         ],
         "yaxis": "y3"
        },
        {
         "hovertext": "1 Orgelpredigtzitate im 98%<br>Organolustria Evangelico-Stambachiana (Hof 1660)<br>",
         "marker": {
          "color": "rgb(235,235,235)"
         },
         "type": "bar",
         "x": [
          "Orgelpredigtzitate je Predigtprozent"
         ],
         "xaxis": "x3",
         "y": [
          100
         ],
         "yaxis": "y3"
        },
        {
         "hovertext": "0 Orgelpredigtzitate im 99%",
         "marker": {
          "color": "rgb(250,250,250)"
         },
         "type": "bar",
         "x": [
          "Orgelpredigtzitate je Predigtprozent"
         ],
         "xaxis": "x3",
         "y": [
          100
         ],
         "yaxis": "y3"
        },
        {
         "hovertext": "0 Orgelpredigtzitate im 100%",
         "marker": {
          "color": "rgb(250,250,250)"
         },
         "type": "bar",
         "x": [
          "Orgelpredigtzitate je Predigtprozent"
         ],
         "xaxis": "x3",
         "y": [
          100
         ],
         "yaxis": "y3"
        },
        {
         "hovertext": "0 Orgelpredigtzitate im 1%",
         "marker": {
          "color": "rgb(250,250,250)"
         },
         "type": "bar",
         "x": [
          "Orgelpredigtzitate je Predigtprozent"
         ],
         "xaxis": "x4",
         "y": [
          100
         ],
         "yaxis": "y4"
        },
        {
         "hovertext": "0 Orgelpredigtzitate im 2%",
         "marker": {
          "color": "rgb(250,250,250)"
         },
         "type": "bar",
         "x": [
          "Orgelpredigtzitate je Predigtprozent"
         ],
         "xaxis": "x4",
         "y": [
          100
         ],
         "yaxis": "y4"
        },
        {
         "hovertext": "0 Orgelpredigtzitate im 3%",
         "marker": {
          "color": "rgb(250,250,250)"
         },
         "type": "bar",
         "x": [
          "Orgelpredigtzitate je Predigtprozent"
         ],
         "xaxis": "x4",
         "y": [
          100
         ],
         "yaxis": "y4"
        },
        {
         "hovertext": "0 Orgelpredigtzitate im 4%",
         "marker": {
          "color": "rgb(250,250,250)"
         },
         "type": "bar",
         "x": [
          "Orgelpredigtzitate je Predigtprozent"
         ],
         "xaxis": "x4",
         "y": [
          100
         ],
         "yaxis": "y4"
        },
        {
         "hovertext": "0 Orgelpredigtzitate im 5%",
         "marker": {
          "color": "rgb(250,250,250)"
         },
         "type": "bar",
         "x": [
          "Orgelpredigtzitate je Predigtprozent"
         ],
         "xaxis": "x4",
         "y": [
          100
         ],
         "yaxis": "y4"
        },
        {
         "hovertext": "0 Orgelpredigtzitate im 6%",
         "marker": {
          "color": "rgb(250,250,250)"
         },
         "type": "bar",
         "x": [
          "Orgelpredigtzitate je Predigtprozent"
         ],
         "xaxis": "x4",
         "y": [
          100
         ],
         "yaxis": "y4"
        },
        {
         "hovertext": "0 Orgelpredigtzitate im 7%",
         "marker": {
          "color": "rgb(250,250,250)"
         },
         "type": "bar",
         "x": [
          "Orgelpredigtzitate je Predigtprozent"
         ],
         "xaxis": "x4",
         "y": [
          100
         ],
         "yaxis": "y4"
        },
        {
         "hovertext": "0 Orgelpredigtzitate im 8%",
         "marker": {
          "color": "rgb(250,250,250)"
         },
         "type": "bar",
         "x": [
          "Orgelpredigtzitate je Predigtprozent"
         ],
         "xaxis": "x4",
         "y": [
          100
         ],
         "yaxis": "y4"
        },
        {
         "hovertext": "0 Orgelpredigtzitate im 9%",
         "marker": {
          "color": "rgb(250,250,250)"
         },
         "type": "bar",
         "x": [
          "Orgelpredigtzitate je Predigtprozent"
         ],
         "xaxis": "x4",
         "y": [
          100
         ],
         "yaxis": "y4"
        },
        {
         "hovertext": "0 Orgelpredigtzitate im 10%",
         "marker": {
          "color": "rgb(250,250,250)"
         },
         "type": "bar",
         "x": [
          "Orgelpredigtzitate je Predigtprozent"
         ],
         "xaxis": "x4",
         "y": [
          100
         ],
         "yaxis": "y4"
        },
        {
         "hovertext": "1 Orgelpredigtzitate im 11%<br>Cithara Theologica (Schleusingen 1683)<br>",
         "marker": {
          "color": "rgb(235,235,235)"
         },
         "type": "bar",
         "x": [
          "Orgelpredigtzitate je Predigtprozent"
         ],
         "xaxis": "x4",
         "y": [
          100
         ],
         "yaxis": "y4"
        },
        {
         "hovertext": "1 Orgelpredigtzitate im 12%<br>Cithara Theologica (Schleusingen 1683)<br>",
         "marker": {
          "color": "rgb(235,235,235)"
         },
         "type": "bar",
         "x": [
          "Orgelpredigtzitate je Predigtprozent"
         ],
         "xaxis": "x4",
         "y": [
          100
         ],
         "yaxis": "y4"
        },
        {
         "hovertext": "2 Orgelpredigtzitate im 13%<br>Cithara Theologica (Schleusingen 1683)<br>Geistlich= und Gott wohlgefälliges Lob- und Danck-Opffer (Bayreuth 1680)<br>",
         "marker": {
          "color": "rgb(220,220,220)"
         },
         "type": "bar",
         "x": [
          "Orgelpredigtzitate je Predigtprozent"
         ],
         "xaxis": "x4",
         "y": [
          100
         ],
         "yaxis": "y4"
        },
        {
         "hovertext": "2 Orgelpredigtzitate im 14%<br>Cithara Theologica (Schleusingen 1683)<br>Organi Laudes (Plauen 1685)<br>",
         "marker": {
          "color": "rgb(220,220,220)"
         },
         "type": "bar",
         "x": [
          "Orgelpredigtzitate je Predigtprozent"
         ],
         "xaxis": "x4",
         "y": [
          100
         ],
         "yaxis": "y4"
        },
        {
         "hovertext": "0 Orgelpredigtzitate im 15%",
         "marker": {
          "color": "rgb(250,250,250)"
         },
         "type": "bar",
         "x": [
          "Orgelpredigtzitate je Predigtprozent"
         ],
         "xaxis": "x4",
         "y": [
          100
         ],
         "yaxis": "y4"
        },
        {
         "hovertext": "1 Orgelpredigtzitate im 16%<br>Organi Laudes (Plauen 1685)<br>",
         "marker": {
          "color": "rgb(235,235,235)"
         },
         "type": "bar",
         "x": [
          "Orgelpredigtzitate je Predigtprozent"
         ],
         "xaxis": "x4",
         "y": [
          100
         ],
         "yaxis": "y4"
        },
        {
         "hovertext": "2 Orgelpredigtzitate im 17%<br>Cithara Theologica (Schleusingen 1683)<br>Organi Laudes (Plauen 1685)<br>",
         "marker": {
          "color": "rgb(220,220,220)"
         },
         "type": "bar",
         "x": [
          "Orgelpredigtzitate je Predigtprozent"
         ],
         "xaxis": "x4",
         "y": [
          100
         ],
         "yaxis": "y4"
        },
        {
         "hovertext": "2 Orgelpredigtzitate im 18%<br>Cithara Theologica (Schleusingen 1683)<br>Organi Laudes (Plauen 1685)<br>",
         "marker": {
          "color": "rgb(220,220,220)"
         },
         "type": "bar",
         "x": [
          "Orgelpredigtzitate je Predigtprozent"
         ],
         "xaxis": "x4",
         "y": [
          100
         ],
         "yaxis": "y4"
        },
        {
         "hovertext": "1 Orgelpredigtzitate im 19%<br>Organi Laudes (Plauen 1685)<br>",
         "marker": {
          "color": "rgb(235,235,235)"
         },
         "type": "bar",
         "x": [
          "Orgelpredigtzitate je Predigtprozent"
         ],
         "xaxis": "x4",
         "y": [
          100
         ],
         "yaxis": "y4"
        },
        {
         "hovertext": "1 Orgelpredigtzitate im 20%<br>Organi Laudes (Plauen 1685)<br>",
         "marker": {
          "color": "rgb(235,235,235)"
         },
         "type": "bar",
         "x": [
          "Orgelpredigtzitate je Predigtprozent"
         ],
         "xaxis": "x4",
         "y": [
          100
         ],
         "yaxis": "y4"
        },
        {
         "hovertext": "1 Orgelpredigtzitate im 21%<br>Organi Laudes (Plauen 1685)<br>",
         "marker": {
          "color": "rgb(235,235,235)"
         },
         "type": "bar",
         "x": [
          "Orgelpredigtzitate je Predigtprozent"
         ],
         "xaxis": "x4",
         "y": [
          100
         ],
         "yaxis": "y4"
        },
        {
         "hovertext": "0 Orgelpredigtzitate im 22%",
         "marker": {
          "color": "rgb(250,250,250)"
         },
         "type": "bar",
         "x": [
          "Orgelpredigtzitate je Predigtprozent"
         ],
         "xaxis": "x4",
         "y": [
          100
         ],
         "yaxis": "y4"
        },
        {
         "hovertext": "1 Orgelpredigtzitate im 23%<br>Organi Laudes (Plauen 1685)<br>",
         "marker": {
          "color": "rgb(235,235,235)"
         },
         "type": "bar",
         "x": [
          "Orgelpredigtzitate je Predigtprozent"
         ],
         "xaxis": "x4",
         "y": [
          100
         ],
         "yaxis": "y4"
        },
        {
         "hovertext": "1 Orgelpredigtzitate im 24%<br>Organi Laudes (Plauen 1685)<br>",
         "marker": {
          "color": "rgb(235,235,235)"
         },
         "type": "bar",
         "x": [
          "Orgelpredigtzitate je Predigtprozent"
         ],
         "xaxis": "x4",
         "y": [
          100
         ],
         "yaxis": "y4"
        },
        {
         "hovertext": "0 Orgelpredigtzitate im 25%",
         "marker": {
          "color": "rgb(250,250,250)"
         },
         "type": "bar",
         "x": [
          "Orgelpredigtzitate je Predigtprozent"
         ],
         "xaxis": "x4",
         "y": [
          100
         ],
         "yaxis": "y4"
        },
        {
         "hovertext": "0 Orgelpredigtzitate im 26%",
         "marker": {
          "color": "rgb(250,250,250)"
         },
         "type": "bar",
         "x": [
          "Orgelpredigtzitate je Predigtprozent"
         ],
         "xaxis": "x4",
         "y": [
          100
         ],
         "yaxis": "y4"
        },
        {
         "hovertext": "0 Orgelpredigtzitate im 27%",
         "marker": {
          "color": "rgb(250,250,250)"
         },
         "type": "bar",
         "x": [
          "Orgelpredigtzitate je Predigtprozent"
         ],
         "xaxis": "x4",
         "y": [
          100
         ],
         "yaxis": "y4"
        },
        {
         "hovertext": "0 Orgelpredigtzitate im 28%",
         "marker": {
          "color": "rgb(250,250,250)"
         },
         "type": "bar",
         "x": [
          "Orgelpredigtzitate je Predigtprozent"
         ],
         "xaxis": "x4",
         "y": [
          100
         ],
         "yaxis": "y4"
        },
        {
         "hovertext": "0 Orgelpredigtzitate im 29%",
         "marker": {
          "color": "rgb(250,250,250)"
         },
         "type": "bar",
         "x": [
          "Orgelpredigtzitate je Predigtprozent"
         ],
         "xaxis": "x4",
         "y": [
          100
         ],
         "yaxis": "y4"
        },
        {
         "hovertext": "0 Orgelpredigtzitate im 30%",
         "marker": {
          "color": "rgb(250,250,250)"
         },
         "type": "bar",
         "x": [
          "Orgelpredigtzitate je Predigtprozent"
         ],
         "xaxis": "x4",
         "y": [
          100
         ],
         "yaxis": "y4"
        },
        {
         "hovertext": "1 Orgelpredigtzitate im 31%<br>Geistlich= und Gott wohlgefälliges Lob- und Danck-Opffer (Bayreuth 1680)<br>",
         "marker": {
          "color": "rgb(235,235,235)"
         },
         "type": "bar",
         "x": [
          "Orgelpredigtzitate je Predigtprozent"
         ],
         "xaxis": "x4",
         "y": [
          100
         ],
         "yaxis": "y4"
        },
        {
         "hovertext": "1 Orgelpredigtzitate im 32%<br>Geistlich= und Gott wohlgefälliges Lob- und Danck-Opffer (Bayreuth 1680)<br>",
         "marker": {
          "color": "rgb(235,235,235)"
         },
         "type": "bar",
         "x": [
          "Orgelpredigtzitate je Predigtprozent"
         ],
         "xaxis": "x4",
         "y": [
          100
         ],
         "yaxis": "y4"
        },
        {
         "hovertext": "1 Orgelpredigtzitate im 33%<br>Geistlich= und Gott wohlgefälliges Lob- und Danck-Opffer (Bayreuth 1680)<br>",
         "marker": {
          "color": "rgb(235,235,235)"
         },
         "type": "bar",
         "x": [
          "Orgelpredigtzitate je Predigtprozent"
         ],
         "xaxis": "x4",
         "y": [
          100
         ],
         "yaxis": "y4"
        },
        {
         "hovertext": "1 Orgelpredigtzitate im 34%<br>Geistlich= und Gott wohlgefälliges Lob- und Danck-Opffer (Bayreuth 1680)<br>",
         "marker": {
          "color": "rgb(235,235,235)"
         },
         "type": "bar",
         "x": [
          "Orgelpredigtzitate je Predigtprozent"
         ],
         "xaxis": "x4",
         "y": [
          100
         ],
         "yaxis": "y4"
        },
        {
         "hovertext": "1 Orgelpredigtzitate im 35%<br>Geistlich= und Gott wohlgefälliges Lob- und Danck-Opffer (Bayreuth 1680)<br>",
         "marker": {
          "color": "rgb(235,235,235)"
         },
         "type": "bar",
         "x": [
          "Orgelpredigtzitate je Predigtprozent"
         ],
         "xaxis": "x4",
         "y": [
          100
         ],
         "yaxis": "y4"
        },
        {
         "hovertext": "1 Orgelpredigtzitate im 36%<br>Geistlich= und Gott wohlgefälliges Lob- und Danck-Opffer (Bayreuth 1680)<br>",
         "marker": {
          "color": "rgb(235,235,235)"
         },
         "type": "bar",
         "x": [
          "Orgelpredigtzitate je Predigtprozent"
         ],
         "xaxis": "x4",
         "y": [
          100
         ],
         "yaxis": "y4"
        },
        {
         "hovertext": "1 Orgelpredigtzitate im 37%<br>Geistlich= und Gott wohlgefälliges Lob- und Danck-Opffer (Bayreuth 1680)<br>",
         "marker": {
          "color": "rgb(235,235,235)"
         },
         "type": "bar",
         "x": [
          "Orgelpredigtzitate je Predigtprozent"
         ],
         "xaxis": "x4",
         "y": [
          100
         ],
         "yaxis": "y4"
        },
        {
         "hovertext": "1 Orgelpredigtzitate im 38%<br>Geistlich= und Gott wohlgefälliges Lob- und Danck-Opffer (Bayreuth 1680)<br>",
         "marker": {
          "color": "rgb(235,235,235)"
         },
         "type": "bar",
         "x": [
          "Orgelpredigtzitate je Predigtprozent"
         ],
         "xaxis": "x4",
         "y": [
          100
         ],
         "yaxis": "y4"
        },
        {
         "hovertext": "1 Orgelpredigtzitate im 39%<br>Geistlich= und Gott wohlgefälliges Lob- und Danck-Opffer (Bayreuth 1680)<br>",
         "marker": {
          "color": "rgb(235,235,235)"
         },
         "type": "bar",
         "x": [
          "Orgelpredigtzitate je Predigtprozent"
         ],
         "xaxis": "x4",
         "y": [
          100
         ],
         "yaxis": "y4"
        },
        {
         "hovertext": "1 Orgelpredigtzitate im 40%<br>Geistlich= und Gott wohlgefälliges Lob- und Danck-Opffer (Bayreuth 1680)<br>",
         "marker": {
          "color": "rgb(235,235,235)"
         },
         "type": "bar",
         "x": [
          "Orgelpredigtzitate je Predigtprozent"
         ],
         "xaxis": "x4",
         "y": [
          100
         ],
         "yaxis": "y4"
        },
        {
         "hovertext": "1 Orgelpredigtzitate im 41%<br>Geistlich= und Gott wohlgefälliges Lob- und Danck-Opffer (Bayreuth 1680)<br>",
         "marker": {
          "color": "rgb(235,235,235)"
         },
         "type": "bar",
         "x": [
          "Orgelpredigtzitate je Predigtprozent"
         ],
         "xaxis": "x4",
         "y": [
          100
         ],
         "yaxis": "y4"
        },
        {
         "hovertext": "1 Orgelpredigtzitate im 42%<br>Geistlich= und Gott wohlgefälliges Lob- und Danck-Opffer (Bayreuth 1680)<br>",
         "marker": {
          "color": "rgb(235,235,235)"
         },
         "type": "bar",
         "x": [
          "Orgelpredigtzitate je Predigtprozent"
         ],
         "xaxis": "x4",
         "y": [
          100
         ],
         "yaxis": "y4"
        },
        {
         "hovertext": "0 Orgelpredigtzitate im 43%",
         "marker": {
          "color": "rgb(250,250,250)"
         },
         "type": "bar",
         "x": [
          "Orgelpredigtzitate je Predigtprozent"
         ],
         "xaxis": "x4",
         "y": [
          100
         ],
         "yaxis": "y4"
        },
        {
         "hovertext": "0 Orgelpredigtzitate im 44%",
         "marker": {
          "color": "rgb(250,250,250)"
         },
         "type": "bar",
         "x": [
          "Orgelpredigtzitate je Predigtprozent"
         ],
         "xaxis": "x4",
         "y": [
          100
         ],
         "yaxis": "y4"
        },
        {
         "hovertext": "0 Orgelpredigtzitate im 45%",
         "marker": {
          "color": "rgb(250,250,250)"
         },
         "type": "bar",
         "x": [
          "Orgelpredigtzitate je Predigtprozent"
         ],
         "xaxis": "x4",
         "y": [
          100
         ],
         "yaxis": "y4"
        },
        {
         "hovertext": "0 Orgelpredigtzitate im 46%",
         "marker": {
          "color": "rgb(250,250,250)"
         },
         "type": "bar",
         "x": [
          "Orgelpredigtzitate je Predigtprozent"
         ],
         "xaxis": "x4",
         "y": [
          100
         ],
         "yaxis": "y4"
        },
        {
         "hovertext": "1 Orgelpredigtzitate im 47%<br>Geistlich= und Gott wohlgefälliges Lob- und Danck-Opffer (Bayreuth 1680)<br>",
         "marker": {
          "color": "rgb(235,235,235)"
         },
         "type": "bar",
         "x": [
          "Orgelpredigtzitate je Predigtprozent"
         ],
         "xaxis": "x4",
         "y": [
          100
         ],
         "yaxis": "y4"
        },
        {
         "hovertext": "1 Orgelpredigtzitate im 48%<br>Geistlich= und Gott wohlgefälliges Lob- und Danck-Opffer (Bayreuth 1680)<br>",
         "marker": {
          "color": "rgb(235,235,235)"
         },
         "type": "bar",
         "x": [
          "Orgelpredigtzitate je Predigtprozent"
         ],
         "xaxis": "x4",
         "y": [
          100
         ],
         "yaxis": "y4"
        },
        {
         "hovertext": "1 Orgelpredigtzitate im 49%<br>Geistlich= und Gott wohlgefälliges Lob- und Danck-Opffer (Bayreuth 1680)<br>",
         "marker": {
          "color": "rgb(235,235,235)"
         },
         "type": "bar",
         "x": [
          "Orgelpredigtzitate je Predigtprozent"
         ],
         "xaxis": "x4",
         "y": [
          100
         ],
         "yaxis": "y4"
        },
        {
         "hovertext": "0 Orgelpredigtzitate im 50%",
         "marker": {
          "color": "rgb(250,250,250)"
         },
         "type": "bar",
         "x": [
          "Orgelpredigtzitate je Predigtprozent"
         ],
         "xaxis": "x4",
         "y": [
          100
         ],
         "yaxis": "y4"
        },
        {
         "hovertext": "0 Orgelpredigtzitate im 51%",
         "marker": {
          "color": "rgb(250,250,250)"
         },
         "type": "bar",
         "x": [
          "Orgelpredigtzitate je Predigtprozent"
         ],
         "xaxis": "x4",
         "y": [
          100
         ],
         "yaxis": "y4"
        },
        {
         "hovertext": "0 Orgelpredigtzitate im 52%",
         "marker": {
          "color": "rgb(250,250,250)"
         },
         "type": "bar",
         "x": [
          "Orgelpredigtzitate je Predigtprozent"
         ],
         "xaxis": "x4",
         "y": [
          100
         ],
         "yaxis": "y4"
        },
        {
         "hovertext": "0 Orgelpredigtzitate im 53%",
         "marker": {
          "color": "rgb(250,250,250)"
         },
         "type": "bar",
         "x": [
          "Orgelpredigtzitate je Predigtprozent"
         ],
         "xaxis": "x4",
         "y": [
          100
         ],
         "yaxis": "y4"
        },
        {
         "hovertext": "1 Orgelpredigtzitate im 54%<br>Geistlich= und Gott wohlgefälliges Lob- und Danck-Opffer (Bayreuth 1680)<br>",
         "marker": {
          "color": "rgb(235,235,235)"
         },
         "type": "bar",
         "x": [
          "Orgelpredigtzitate je Predigtprozent"
         ],
         "xaxis": "x4",
         "y": [
          100
         ],
         "yaxis": "y4"
        },
        {
         "hovertext": "2 Orgelpredigtzitate im 55%<br>Das dem Allmächtigen abzustattende Lob (Altenburg s.a.)<br>Geistlich= und Gott wohlgefälliges Lob- und Danck-Opffer (Bayreuth 1680)<br>",
         "marker": {
          "color": "rgb(220,220,220)"
         },
         "type": "bar",
         "x": [
          "Orgelpredigtzitate je Predigtprozent"
         ],
         "xaxis": "x4",
         "y": [
          100
         ],
         "yaxis": "y4"
        },
        {
         "hovertext": "2 Orgelpredigtzitate im 56%<br>Geistlich= und Gott wohlgefälliges Lob- und Danck-Opffer (Bayreuth 1680)<br>Das Lieblich=klingende Orgeln und Saiten=Spiel (Coburg 1676)<br>",
         "marker": {
          "color": "rgb(220,220,220)"
         },
         "type": "bar",
         "x": [
          "Orgelpredigtzitate je Predigtprozent"
         ],
         "xaxis": "x4",
         "y": [
          100
         ],
         "yaxis": "y4"
        },
        {
         "hovertext": "1 Orgelpredigtzitate im 57%<br>Geistlich= und Gott wohlgefälliges Lob- und Danck-Opffer (Bayreuth 1680)<br>",
         "marker": {
          "color": "rgb(235,235,235)"
         },
         "type": "bar",
         "x": [
          "Orgelpredigtzitate je Predigtprozent"
         ],
         "xaxis": "x4",
         "y": [
          100
         ],
         "yaxis": "y4"
        },
        {
         "hovertext": "1 Orgelpredigtzitate im 58%<br>Geistlich= und Gott wohlgefälliges Lob- und Danck-Opffer (Bayreuth 1680)<br>",
         "marker": {
          "color": "rgb(235,235,235)"
         },
         "type": "bar",
         "x": [
          "Orgelpredigtzitate je Predigtprozent"
         ],
         "xaxis": "x4",
         "y": [
          100
         ],
         "yaxis": "y4"
        },
        {
         "hovertext": "1 Orgelpredigtzitate im 59%<br>Geistlich= und Gott wohlgefälliges Lob- und Danck-Opffer (Bayreuth 1680)<br>",
         "marker": {
          "color": "rgb(235,235,235)"
         },
         "type": "bar",
         "x": [
          "Orgelpredigtzitate je Predigtprozent"
         ],
         "xaxis": "x4",
         "y": [
          100
         ],
         "yaxis": "y4"
        },
        {
         "hovertext": "0 Orgelpredigtzitate im 60%",
         "marker": {
          "color": "rgb(250,250,250)"
         },
         "type": "bar",
         "x": [
          "Orgelpredigtzitate je Predigtprozent"
         ],
         "xaxis": "x4",
         "y": [
          100
         ],
         "yaxis": "y4"
        },
        {
         "hovertext": "0 Orgelpredigtzitate im 61%",
         "marker": {
          "color": "rgb(250,250,250)"
         },
         "type": "bar",
         "x": [
          "Orgelpredigtzitate je Predigtprozent"
         ],
         "xaxis": "x4",
         "y": [
          100
         ],
         "yaxis": "y4"
        },
        {
         "hovertext": "1 Orgelpredigtzitate im 62%<br>Geistlich= und Gott wohlgefälliges Lob- und Danck-Opffer (Bayreuth 1680)<br>",
         "marker": {
          "color": "rgb(235,235,235)"
         },
         "type": "bar",
         "x": [
          "Orgelpredigtzitate je Predigtprozent"
         ],
         "xaxis": "x4",
         "y": [
          100
         ],
         "yaxis": "y4"
        },
        {
         "hovertext": "1 Orgelpredigtzitate im 63%<br>Geistlich= und Gott wohlgefälliges Lob- und Danck-Opffer (Bayreuth 1680)<br>",
         "marker": {
          "color": "rgb(235,235,235)"
         },
         "type": "bar",
         "x": [
          "Orgelpredigtzitate je Predigtprozent"
         ],
         "xaxis": "x4",
         "y": [
          100
         ],
         "yaxis": "y4"
        },
        {
         "hovertext": "0 Orgelpredigtzitate im 64%",
         "marker": {
          "color": "rgb(250,250,250)"
         },
         "type": "bar",
         "x": [
          "Orgelpredigtzitate je Predigtprozent"
         ],
         "xaxis": "x4",
         "y": [
          100
         ],
         "yaxis": "y4"
        },
        {
         "hovertext": "0 Orgelpredigtzitate im 65%",
         "marker": {
          "color": "rgb(250,250,250)"
         },
         "type": "bar",
         "x": [
          "Orgelpredigtzitate je Predigtprozent"
         ],
         "xaxis": "x4",
         "y": [
          100
         ],
         "yaxis": "y4"
        },
        {
         "hovertext": "0 Orgelpredigtzitate im 66%",
         "marker": {
          "color": "rgb(250,250,250)"
         },
         "type": "bar",
         "x": [
          "Orgelpredigtzitate je Predigtprozent"
         ],
         "xaxis": "x4",
         "y": [
          100
         ],
         "yaxis": "y4"
        },
        {
         "hovertext": "0 Orgelpredigtzitate im 67%",
         "marker": {
          "color": "rgb(250,250,250)"
         },
         "type": "bar",
         "x": [
          "Orgelpredigtzitate je Predigtprozent"
         ],
         "xaxis": "x4",
         "y": [
          100
         ],
         "yaxis": "y4"
        },
        {
         "hovertext": "0 Orgelpredigtzitate im 68%",
         "marker": {
          "color": "rgb(250,250,250)"
         },
         "type": "bar",
         "x": [
          "Orgelpredigtzitate je Predigtprozent"
         ],
         "xaxis": "x4",
         "y": [
          100
         ],
         "yaxis": "y4"
        },
        {
         "hovertext": "0 Orgelpredigtzitate im 69%",
         "marker": {
          "color": "rgb(250,250,250)"
         },
         "type": "bar",
         "x": [
          "Orgelpredigtzitate je Predigtprozent"
         ],
         "xaxis": "x4",
         "y": [
          100
         ],
         "yaxis": "y4"
        },
        {
         "hovertext": "2 Orgelpredigtzitate im 70%<br>Schuldiges Lob Gottes (Nürnberg 1696)<br>Geistlich= und Gott wohlgefälliges Lob- und Danck-Opffer (Bayreuth 1680)<br>",
         "marker": {
          "color": "rgb(220,220,220)"
         },
         "type": "bar",
         "x": [
          "Orgelpredigtzitate je Predigtprozent"
         ],
         "xaxis": "x4",
         "y": [
          100
         ],
         "yaxis": "y4"
        },
        {
         "hovertext": "2 Orgelpredigtzitate im 71%<br>Schuldiges Lob Gottes (Nürnberg 1696)<br>Geistlich= und Gott wohlgefälliges Lob- und Danck-Opffer (Bayreuth 1680)<br>",
         "marker": {
          "color": "rgb(220,220,220)"
         },
         "type": "bar",
         "x": [
          "Orgelpredigtzitate je Predigtprozent"
         ],
         "xaxis": "x4",
         "y": [
          100
         ],
         "yaxis": "y4"
        },
        {
         "hovertext": "1 Orgelpredigtzitate im 72%<br>Schuldiges Lob Gottes (Nürnberg 1696)<br>",
         "marker": {
          "color": "rgb(235,235,235)"
         },
         "type": "bar",
         "x": [
          "Orgelpredigtzitate je Predigtprozent"
         ],
         "xaxis": "x4",
         "y": [
          100
         ],
         "yaxis": "y4"
        },
        {
         "hovertext": "0 Orgelpredigtzitate im 73%",
         "marker": {
          "color": "rgb(250,250,250)"
         },
         "type": "bar",
         "x": [
          "Orgelpredigtzitate je Predigtprozent"
         ],
         "xaxis": "x4",
         "y": [
          100
         ],
         "yaxis": "y4"
        },
        {
         "hovertext": "0 Orgelpredigtzitate im 74%",
         "marker": {
          "color": "rgb(250,250,250)"
         },
         "type": "bar",
         "x": [
          "Orgelpredigtzitate je Predigtprozent"
         ],
         "xaxis": "x4",
         "y": [
          100
         ],
         "yaxis": "y4"
        },
        {
         "hovertext": "0 Orgelpredigtzitate im 75%",
         "marker": {
          "color": "rgb(250,250,250)"
         },
         "type": "bar",
         "x": [
          "Orgelpredigtzitate je Predigtprozent"
         ],
         "xaxis": "x4",
         "y": [
          100
         ],
         "yaxis": "y4"
        },
        {
         "hovertext": "1 Orgelpredigtzitate im 76%<br>Das dem Allmächtigen abzustattende Lob (Altenburg s.a.)<br>",
         "marker": {
          "color": "rgb(235,235,235)"
         },
         "type": "bar",
         "x": [
          "Orgelpredigtzitate je Predigtprozent"
         ],
         "xaxis": "x4",
         "y": [
          100
         ],
         "yaxis": "y4"
        },
        {
         "hovertext": "1 Orgelpredigtzitate im 77%<br>Das dem Allmächtigen abzustattende Lob (Altenburg s.a.)<br>",
         "marker": {
          "color": "rgb(235,235,235)"
         },
         "type": "bar",
         "x": [
          "Orgelpredigtzitate je Predigtprozent"
         ],
         "xaxis": "x4",
         "y": [
          100
         ],
         "yaxis": "y4"
        },
        {
         "hovertext": "1 Orgelpredigtzitate im 78%<br>Das dem Allmächtigen abzustattende Lob (Altenburg s.a.)<br>",
         "marker": {
          "color": "rgb(235,235,235)"
         },
         "type": "bar",
         "x": [
          "Orgelpredigtzitate je Predigtprozent"
         ],
         "xaxis": "x4",
         "y": [
          100
         ],
         "yaxis": "y4"
        },
        {
         "hovertext": "0 Orgelpredigtzitate im 79%",
         "marker": {
          "color": "rgb(250,250,250)"
         },
         "type": "bar",
         "x": [
          "Orgelpredigtzitate je Predigtprozent"
         ],
         "xaxis": "x4",
         "y": [
          100
         ],
         "yaxis": "y4"
        },
        {
         "hovertext": "0 Orgelpredigtzitate im 80%",
         "marker": {
          "color": "rgb(250,250,250)"
         },
         "type": "bar",
         "x": [
          "Orgelpredigtzitate je Predigtprozent"
         ],
         "xaxis": "x4",
         "y": [
          100
         ],
         "yaxis": "y4"
        },
        {
         "hovertext": "0 Orgelpredigtzitate im 81%",
         "marker": {
          "color": "rgb(250,250,250)"
         },
         "type": "bar",
         "x": [
          "Orgelpredigtzitate je Predigtprozent"
         ],
         "xaxis": "x4",
         "y": [
          100
         ],
         "yaxis": "y4"
        },
        {
         "hovertext": "0 Orgelpredigtzitate im 82%",
         "marker": {
          "color": "rgb(250,250,250)"
         },
         "type": "bar",
         "x": [
          "Orgelpredigtzitate je Predigtprozent"
         ],
         "xaxis": "x4",
         "y": [
          100
         ],
         "yaxis": "y4"
        },
        {
         "hovertext": "1 Orgelpredigtzitate im 83%<br>Organi Laudes (Plauen 1685)<br>",
         "marker": {
          "color": "rgb(235,235,235)"
         },
         "type": "bar",
         "x": [
          "Orgelpredigtzitate je Predigtprozent"
         ],
         "xaxis": "x4",
         "y": [
          100
         ],
         "yaxis": "y4"
        },
        {
         "hovertext": "1 Orgelpredigtzitate im 84%<br>Organi Laudes (Plauen 1685)<br>",
         "marker": {
          "color": "rgb(235,235,235)"
         },
         "type": "bar",
         "x": [
          "Orgelpredigtzitate je Predigtprozent"
         ],
         "xaxis": "x4",
         "y": [
          100
         ],
         "yaxis": "y4"
        },
        {
         "hovertext": "0 Orgelpredigtzitate im 85%",
         "marker": {
          "color": "rgb(250,250,250)"
         },
         "type": "bar",
         "x": [
          "Orgelpredigtzitate je Predigtprozent"
         ],
         "xaxis": "x4",
         "y": [
          100
         ],
         "yaxis": "y4"
        },
        {
         "hovertext": "2 Orgelpredigtzitate im 86%<br>Eine Christliche Orgel=Predigt (Danzig 1695)<br>Organi Laudes (Plauen 1685)<br>",
         "marker": {
          "color": "rgb(220,220,220)"
         },
         "type": "bar",
         "x": [
          "Orgelpredigtzitate je Predigtprozent"
         ],
         "xaxis": "x4",
         "y": [
          100
         ],
         "yaxis": "y4"
        },
        {
         "hovertext": "1 Orgelpredigtzitate im 87%<br>Organi Laudes (Plauen 1685)<br>",
         "marker": {
          "color": "rgb(235,235,235)"
         },
         "type": "bar",
         "x": [
          "Orgelpredigtzitate je Predigtprozent"
         ],
         "xaxis": "x4",
         "y": [
          100
         ],
         "yaxis": "y4"
        },
        {
         "hovertext": "2 Orgelpredigtzitate im 88%<br>Das Lieblich=klingende Orgeln und Saiten=Spiel (Coburg 1676)<br>Organi Laudes (Plauen 1685)<br>",
         "marker": {
          "color": "rgb(220,220,220)"
         },
         "type": "bar",
         "x": [
          "Orgelpredigtzitate je Predigtprozent"
         ],
         "xaxis": "x4",
         "y": [
          100
         ],
         "yaxis": "y4"
        },
        {
         "hovertext": "2 Orgelpredigtzitate im 89%<br>Das dem Allmächtigen abzustattende Lob (Altenburg s.a.)<br>Organi Laudes (Plauen 1685)<br>",
         "marker": {
          "color": "rgb(220,220,220)"
         },
         "type": "bar",
         "x": [
          "Orgelpredigtzitate je Predigtprozent"
         ],
         "xaxis": "x4",
         "y": [
          100
         ],
         "yaxis": "y4"
        },
        {
         "hovertext": "1 Orgelpredigtzitate im 90%<br>Organi Laudes (Plauen 1685)<br>",
         "marker": {
          "color": "rgb(235,235,235)"
         },
         "type": "bar",
         "x": [
          "Orgelpredigtzitate je Predigtprozent"
         ],
         "xaxis": "x4",
         "y": [
          100
         ],
         "yaxis": "y4"
        },
        {
         "hovertext": "1 Orgelpredigtzitate im 91%<br>Organi Laudes (Plauen 1685)<br>",
         "marker": {
          "color": "rgb(235,235,235)"
         },
         "type": "bar",
         "x": [
          "Orgelpredigtzitate je Predigtprozent"
         ],
         "xaxis": "x4",
         "y": [
          100
         ],
         "yaxis": "y4"
        },
        {
         "hovertext": "1 Orgelpredigtzitate im 92%<br>Organi Laudes (Plauen 1685)<br>",
         "marker": {
          "color": "rgb(235,235,235)"
         },
         "type": "bar",
         "x": [
          "Orgelpredigtzitate je Predigtprozent"
         ],
         "xaxis": "x4",
         "y": [
          100
         ],
         "yaxis": "y4"
        },
        {
         "hovertext": "0 Orgelpredigtzitate im 93%",
         "marker": {
          "color": "rgb(250,250,250)"
         },
         "type": "bar",
         "x": [
          "Orgelpredigtzitate je Predigtprozent"
         ],
         "xaxis": "x4",
         "y": [
          100
         ],
         "yaxis": "y4"
        },
        {
         "hovertext": "0 Orgelpredigtzitate im 94%",
         "marker": {
          "color": "rgb(250,250,250)"
         },
         "type": "bar",
         "x": [
          "Orgelpredigtzitate je Predigtprozent"
         ],
         "xaxis": "x4",
         "y": [
          100
         ],
         "yaxis": "y4"
        },
        {
         "hovertext": "0 Orgelpredigtzitate im 95%",
         "marker": {
          "color": "rgb(250,250,250)"
         },
         "type": "bar",
         "x": [
          "Orgelpredigtzitate je Predigtprozent"
         ],
         "xaxis": "x4",
         "y": [
          100
         ],
         "yaxis": "y4"
        },
        {
         "hovertext": "0 Orgelpredigtzitate im 96%",
         "marker": {
          "color": "rgb(250,250,250)"
         },
         "type": "bar",
         "x": [
          "Orgelpredigtzitate je Predigtprozent"
         ],
         "xaxis": "x4",
         "y": [
          100
         ],
         "yaxis": "y4"
        },
        {
         "hovertext": "0 Orgelpredigtzitate im 97%",
         "marker": {
          "color": "rgb(250,250,250)"
         },
         "type": "bar",
         "x": [
          "Orgelpredigtzitate je Predigtprozent"
         ],
         "xaxis": "x4",
         "y": [
          100
         ],
         "yaxis": "y4"
        },
        {
         "hovertext": "0 Orgelpredigtzitate im 98%",
         "marker": {
          "color": "rgb(250,250,250)"
         },
         "type": "bar",
         "x": [
          "Orgelpredigtzitate je Predigtprozent"
         ],
         "xaxis": "x4",
         "y": [
          100
         ],
         "yaxis": "y4"
        },
        {
         "hovertext": "0 Orgelpredigtzitate im 99%",
         "marker": {
          "color": "rgb(250,250,250)"
         },
         "type": "bar",
         "x": [
          "Orgelpredigtzitate je Predigtprozent"
         ],
         "xaxis": "x4",
         "y": [
          100
         ],
         "yaxis": "y4"
        },
        {
         "hovertext": "0 Orgelpredigtzitate im 100%",
         "marker": {
          "color": "rgb(250,250,250)"
         },
         "type": "bar",
         "x": [
          "Orgelpredigtzitate je Predigtprozent"
         ],
         "xaxis": "x4",
         "y": [
          100
         ],
         "yaxis": "y4"
        },
        {
         "hovertext": "0 Orgelpredigtzitate im 1%",
         "marker": {
          "color": "rgb(250,250,250)"
         },
         "type": "bar",
         "x": [
          "Orgelpredigtzitate je Predigtprozent"
         ],
         "xaxis": "x5",
         "y": [
          100
         ],
         "yaxis": "y5"
        },
        {
         "hovertext": "0 Orgelpredigtzitate im 2%",
         "marker": {
          "color": "rgb(250,250,250)"
         },
         "type": "bar",
         "x": [
          "Orgelpredigtzitate je Predigtprozent"
         ],
         "xaxis": "x5",
         "y": [
          100
         ],
         "yaxis": "y5"
        },
        {
         "hovertext": "0 Orgelpredigtzitate im 3%",
         "marker": {
          "color": "rgb(250,250,250)"
         },
         "type": "bar",
         "x": [
          "Orgelpredigtzitate je Predigtprozent"
         ],
         "xaxis": "x5",
         "y": [
          100
         ],
         "yaxis": "y5"
        },
        {
         "hovertext": "0 Orgelpredigtzitate im 4%",
         "marker": {
          "color": "rgb(250,250,250)"
         },
         "type": "bar",
         "x": [
          "Orgelpredigtzitate je Predigtprozent"
         ],
         "xaxis": "x5",
         "y": [
          100
         ],
         "yaxis": "y5"
        },
        {
         "hovertext": "0 Orgelpredigtzitate im 5%",
         "marker": {
          "color": "rgb(250,250,250)"
         },
         "type": "bar",
         "x": [
          "Orgelpredigtzitate je Predigtprozent"
         ],
         "xaxis": "x5",
         "y": [
          100
         ],
         "yaxis": "y5"
        },
        {
         "hovertext": "0 Orgelpredigtzitate im 6%",
         "marker": {
          "color": "rgb(250,250,250)"
         },
         "type": "bar",
         "x": [
          "Orgelpredigtzitate je Predigtprozent"
         ],
         "xaxis": "x5",
         "y": [
          100
         ],
         "yaxis": "y5"
        },
        {
         "hovertext": "0 Orgelpredigtzitate im 7%",
         "marker": {
          "color": "rgb(250,250,250)"
         },
         "type": "bar",
         "x": [
          "Orgelpredigtzitate je Predigtprozent"
         ],
         "xaxis": "x5",
         "y": [
          100
         ],
         "yaxis": "y5"
        },
        {
         "hovertext": "0 Orgelpredigtzitate im 8%",
         "marker": {
          "color": "rgb(250,250,250)"
         },
         "type": "bar",
         "x": [
          "Orgelpredigtzitate je Predigtprozent"
         ],
         "xaxis": "x5",
         "y": [
          100
         ],
         "yaxis": "y5"
        },
        {
         "hovertext": "0 Orgelpredigtzitate im 9%",
         "marker": {
          "color": "rgb(250,250,250)"
         },
         "type": "bar",
         "x": [
          "Orgelpredigtzitate je Predigtprozent"
         ],
         "xaxis": "x5",
         "y": [
          100
         ],
         "yaxis": "y5"
        },
        {
         "hovertext": "1 Orgelpredigtzitate im 10%<br>Davids Vermahnung (Dresden 1711)<br>",
         "marker": {
          "color": "rgb(235,235,235)"
         },
         "type": "bar",
         "x": [
          "Orgelpredigtzitate je Predigtprozent"
         ],
         "xaxis": "x5",
         "y": [
          100
         ],
         "yaxis": "y5"
        },
        {
         "hovertext": "0 Orgelpredigtzitate im 11%",
         "marker": {
          "color": "rgb(250,250,250)"
         },
         "type": "bar",
         "x": [
          "Orgelpredigtzitate je Predigtprozent"
         ],
         "xaxis": "x5",
         "y": [
          100
         ],
         "yaxis": "y5"
        },
        {
         "hovertext": "1 Orgelpredigtzitate im 12%<br>Davids Vermahnung (Dresden 1711)<br>",
         "marker": {
          "color": "rgb(235,235,235)"
         },
         "type": "bar",
         "x": [
          "Orgelpredigtzitate je Predigtprozent"
         ],
         "xaxis": "x5",
         "y": [
          100
         ],
         "yaxis": "y5"
        },
        {
         "hovertext": "0 Orgelpredigtzitate im 13%",
         "marker": {
          "color": "rgb(250,250,250)"
         },
         "type": "bar",
         "x": [
          "Orgelpredigtzitate je Predigtprozent"
         ],
         "xaxis": "x5",
         "y": [
          100
         ],
         "yaxis": "y5"
        },
        {
         "hovertext": "0 Orgelpredigtzitate im 14%",
         "marker": {
          "color": "rgb(250,250,250)"
         },
         "type": "bar",
         "x": [
          "Orgelpredigtzitate je Predigtprozent"
         ],
         "xaxis": "x5",
         "y": [
          100
         ],
         "yaxis": "y5"
        },
        {
         "hovertext": "1 Orgelpredigtzitate im 15%<br>Einweihungs-Predigt (Görlitz 1704)<br>",
         "marker": {
          "color": "rgb(235,235,235)"
         },
         "type": "bar",
         "x": [
          "Orgelpredigtzitate je Predigtprozent"
         ],
         "xaxis": "x5",
         "y": [
          100
         ],
         "yaxis": "y5"
        },
        {
         "hovertext": "0 Orgelpredigtzitate im 16%",
         "marker": {
          "color": "rgb(250,250,250)"
         },
         "type": "bar",
         "x": [
          "Orgelpredigtzitate je Predigtprozent"
         ],
         "xaxis": "x5",
         "y": [
          100
         ],
         "yaxis": "y5"
        },
        {
         "hovertext": "1 Orgelpredigtzitate im 17%<br>Ein wolgerührtes Orgel=Werck (Königsberg 1721)<br>",
         "marker": {
          "color": "rgb(235,235,235)"
         },
         "type": "bar",
         "x": [
          "Orgelpredigtzitate je Predigtprozent"
         ],
         "xaxis": "x5",
         "y": [
          100
         ],
         "yaxis": "y5"
        },
        {
         "hovertext": "0 Orgelpredigtzitate im 18%",
         "marker": {
          "color": "rgb(250,250,250)"
         },
         "type": "bar",
         "x": [
          "Orgelpredigtzitate je Predigtprozent"
         ],
         "xaxis": "x5",
         "y": [
          100
         ],
         "yaxis": "y5"
        },
        {
         "hovertext": "0 Orgelpredigtzitate im 19%",
         "marker": {
          "color": "rgb(250,250,250)"
         },
         "type": "bar",
         "x": [
          "Orgelpredigtzitate je Predigtprozent"
         ],
         "xaxis": "x5",
         "y": [
          100
         ],
         "yaxis": "y5"
        },
        {
         "hovertext": "0 Orgelpredigtzitate im 20%",
         "marker": {
          "color": "rgb(250,250,250)"
         },
         "type": "bar",
         "x": [
          "Orgelpredigtzitate je Predigtprozent"
         ],
         "xaxis": "x5",
         "y": [
          100
         ],
         "yaxis": "y5"
        },
        {
         "hovertext": "0 Orgelpredigtzitate im 21%",
         "marker": {
          "color": "rgb(250,250,250)"
         },
         "type": "bar",
         "x": [
          "Orgelpredigtzitate je Predigtprozent"
         ],
         "xaxis": "x5",
         "y": [
          100
         ],
         "yaxis": "y5"
        },
        {
         "hovertext": "1 Orgelpredigtzitate im 22%<br>Glaubiger Kinder Gottes Gott=gefällige Music (Augsburg 1721)<br>",
         "marker": {
          "color": "rgb(235,235,235)"
         },
         "type": "bar",
         "x": [
          "Orgelpredigtzitate je Predigtprozent"
         ],
         "xaxis": "x5",
         "y": [
          100
         ],
         "yaxis": "y5"
        },
        {
         "hovertext": "1 Orgelpredigtzitate im 23%<br>Glaubiger Kinder Gottes Gott=gefällige Music (Augsburg 1721)<br>",
         "marker": {
          "color": "rgb(235,235,235)"
         },
         "type": "bar",
         "x": [
          "Orgelpredigtzitate je Predigtprozent"
         ],
         "xaxis": "x5",
         "y": [
          100
         ],
         "yaxis": "y5"
        },
        {
         "hovertext": "0 Orgelpredigtzitate im 24%",
         "marker": {
          "color": "rgb(250,250,250)"
         },
         "type": "bar",
         "x": [
          "Orgelpredigtzitate je Predigtprozent"
         ],
         "xaxis": "x5",
         "y": [
          100
         ],
         "yaxis": "y5"
        },
        {
         "hovertext": "0 Orgelpredigtzitate im 25%",
         "marker": {
          "color": "rgb(250,250,250)"
         },
         "type": "bar",
         "x": [
          "Orgelpredigtzitate je Predigtprozent"
         ],
         "xaxis": "x5",
         "y": [
          100
         ],
         "yaxis": "y5"
        },
        {
         "hovertext": "0 Orgelpredigtzitate im 26%",
         "marker": {
          "color": "rgb(250,250,250)"
         },
         "type": "bar",
         "x": [
          "Orgelpredigtzitate je Predigtprozent"
         ],
         "xaxis": "x5",
         "y": [
          100
         ],
         "yaxis": "y5"
        },
        {
         "hovertext": "1 Orgelpredigtzitate im 27%<br>Einweihungs-Predigt (Görlitz 1704)<br>",
         "marker": {
          "color": "rgb(235,235,235)"
         },
         "type": "bar",
         "x": [
          "Orgelpredigtzitate je Predigtprozent"
         ],
         "xaxis": "x5",
         "y": [
          100
         ],
         "yaxis": "y5"
        },
        {
         "hovertext": "0 Orgelpredigtzitate im 28%",
         "marker": {
          "color": "rgb(250,250,250)"
         },
         "type": "bar",
         "x": [
          "Orgelpredigtzitate je Predigtprozent"
         ],
         "xaxis": "x5",
         "y": [
          100
         ],
         "yaxis": "y5"
        },
        {
         "hovertext": "0 Orgelpredigtzitate im 29%",
         "marker": {
          "color": "rgb(250,250,250)"
         },
         "type": "bar",
         "x": [
          "Orgelpredigtzitate je Predigtprozent"
         ],
         "xaxis": "x5",
         "y": [
          100
         ],
         "yaxis": "y5"
        },
        {
         "hovertext": "0 Orgelpredigtzitate im 30%",
         "marker": {
          "color": "rgb(250,250,250)"
         },
         "type": "bar",
         "x": [
          "Orgelpredigtzitate je Predigtprozent"
         ],
         "xaxis": "x5",
         "y": [
          100
         ],
         "yaxis": "y5"
        },
        {
         "hovertext": "0 Orgelpredigtzitate im 31%",
         "marker": {
          "color": "rgb(250,250,250)"
         },
         "type": "bar",
         "x": [
          "Orgelpredigtzitate je Predigtprozent"
         ],
         "xaxis": "x5",
         "y": [
          100
         ],
         "yaxis": "y5"
        },
        {
         "hovertext": "0 Orgelpredigtzitate im 32%",
         "marker": {
          "color": "rgb(250,250,250)"
         },
         "type": "bar",
         "x": [
          "Orgelpredigtzitate je Predigtprozent"
         ],
         "xaxis": "x5",
         "y": [
          100
         ],
         "yaxis": "y5"
        },
        {
         "hovertext": "0 Orgelpredigtzitate im 33%",
         "marker": {
          "color": "rgb(250,250,250)"
         },
         "type": "bar",
         "x": [
          "Orgelpredigtzitate je Predigtprozent"
         ],
         "xaxis": "x5",
         "y": [
          100
         ],
         "yaxis": "y5"
        },
        {
         "hovertext": "0 Orgelpredigtzitate im 34%",
         "marker": {
          "color": "rgb(250,250,250)"
         },
         "type": "bar",
         "x": [
          "Orgelpredigtzitate je Predigtprozent"
         ],
         "xaxis": "x5",
         "y": [
          100
         ],
         "yaxis": "y5"
        },
        {
         "hovertext": "1 Orgelpredigtzitate im 35%<br>Vivum Dei Organum (Schneeberg s.a.)<br>",
         "marker": {
          "color": "rgb(235,235,235)"
         },
         "type": "bar",
         "x": [
          "Orgelpredigtzitate je Predigtprozent"
         ],
         "xaxis": "x5",
         "y": [
          100
         ],
         "yaxis": "y5"
        },
        {
         "hovertext": "1 Orgelpredigtzitate im 36%<br>Vivum Dei Organum (Schneeberg s.a.)<br>",
         "marker": {
          "color": "rgb(235,235,235)"
         },
         "type": "bar",
         "x": [
          "Orgelpredigtzitate je Predigtprozent"
         ],
         "xaxis": "x5",
         "y": [
          100
         ],
         "yaxis": "y5"
        },
        {
         "hovertext": "1 Orgelpredigtzitate im 37%<br>Vivum Dei Organum (Schneeberg s.a.)<br>",
         "marker": {
          "color": "rgb(235,235,235)"
         },
         "type": "bar",
         "x": [
          "Orgelpredigtzitate je Predigtprozent"
         ],
         "xaxis": "x5",
         "y": [
          100
         ],
         "yaxis": "y5"
        },
        {
         "hovertext": "1 Orgelpredigtzitate im 38%<br>Glaubiger Kinder Gottes Gott=gefällige Music (Augsburg 1721)<br>",
         "marker": {
          "color": "rgb(235,235,235)"
         },
         "type": "bar",
         "x": [
          "Orgelpredigtzitate je Predigtprozent"
         ],
         "xaxis": "x5",
         "y": [
          100
         ],
         "yaxis": "y5"
        },
        {
         "hovertext": "1 Orgelpredigtzitate im 39%<br>Glaubiger Kinder Gottes Gott=gefällige Music (Augsburg 1721)<br>",
         "marker": {
          "color": "rgb(235,235,235)"
         },
         "type": "bar",
         "x": [
          "Orgelpredigtzitate je Predigtprozent"
         ],
         "xaxis": "x5",
         "y": [
          100
         ],
         "yaxis": "y5"
        },
        {
         "hovertext": "0 Orgelpredigtzitate im 40%",
         "marker": {
          "color": "rgb(250,250,250)"
         },
         "type": "bar",
         "x": [
          "Orgelpredigtzitate je Predigtprozent"
         ],
         "xaxis": "x5",
         "y": [
          100
         ],
         "yaxis": "y5"
        },
        {
         "hovertext": "1 Orgelpredigtzitate im 41%<br>Glaubiger Kinder Gottes Gott=gefällige Music (Augsburg 1721)<br>",
         "marker": {
          "color": "rgb(235,235,235)"
         },
         "type": "bar",
         "x": [
          "Orgelpredigtzitate je Predigtprozent"
         ],
         "xaxis": "x5",
         "y": [
          100
         ],
         "yaxis": "y5"
        },
        {
         "hovertext": "1 Orgelpredigtzitate im 42%<br>Glaubiger Kinder Gottes Gott=gefällige Music (Augsburg 1721)<br>",
         "marker": {
          "color": "rgb(235,235,235)"
         },
         "type": "bar",
         "x": [
          "Orgelpredigtzitate je Predigtprozent"
         ],
         "xaxis": "x5",
         "y": [
          100
         ],
         "yaxis": "y5"
        },
        {
         "hovertext": "0 Orgelpredigtzitate im 43%",
         "marker": {
          "color": "rgb(250,250,250)"
         },
         "type": "bar",
         "x": [
          "Orgelpredigtzitate je Predigtprozent"
         ],
         "xaxis": "x5",
         "y": [
          100
         ],
         "yaxis": "y5"
        },
        {
         "hovertext": "2 Orgelpredigtzitate im 44%<br>Ein wolgerührtes Orgel=Werck (Königsberg 1721)<br>Glaubiger Kinder Gottes Gott=gefällige Music (Augsburg 1721)<br>",
         "marker": {
          "color": "rgb(220,220,220)"
         },
         "type": "bar",
         "x": [
          "Orgelpredigtzitate je Predigtprozent"
         ],
         "xaxis": "x5",
         "y": [
          100
         ],
         "yaxis": "y5"
        },
        {
         "hovertext": "1 Orgelpredigtzitate im 45%<br>Ein wolgerührtes Orgel=Werck (Königsberg 1721)<br>",
         "marker": {
          "color": "rgb(235,235,235)"
         },
         "type": "bar",
         "x": [
          "Orgelpredigtzitate je Predigtprozent"
         ],
         "xaxis": "x5",
         "y": [
          100
         ],
         "yaxis": "y5"
        },
        {
         "hovertext": "0 Orgelpredigtzitate im 46%",
         "marker": {
          "color": "rgb(250,250,250)"
         },
         "type": "bar",
         "x": [
          "Orgelpredigtzitate je Predigtprozent"
         ],
         "xaxis": "x5",
         "y": [
          100
         ],
         "yaxis": "y5"
        },
        {
         "hovertext": "0 Orgelpredigtzitate im 47%",
         "marker": {
          "color": "rgb(250,250,250)"
         },
         "type": "bar",
         "x": [
          "Orgelpredigtzitate je Predigtprozent"
         ],
         "xaxis": "x5",
         "y": [
          100
         ],
         "yaxis": "y5"
        },
        {
         "hovertext": "1 Orgelpredigtzitate im 48%<br>Glaubiger Kinder Gottes Gott=gefällige Music (Augsburg 1721)<br>",
         "marker": {
          "color": "rgb(235,235,235)"
         },
         "type": "bar",
         "x": [
          "Orgelpredigtzitate je Predigtprozent"
         ],
         "xaxis": "x5",
         "y": [
          100
         ],
         "yaxis": "y5"
        },
        {
         "hovertext": "2 Orgelpredigtzitate im 49%<br>Vivum Dei Organum (Schneeberg s.a.)<br>Glaubiger Kinder Gottes Gott=gefällige Music (Augsburg 1721)<br>",
         "marker": {
          "color": "rgb(220,220,220)"
         },
         "type": "bar",
         "x": [
          "Orgelpredigtzitate je Predigtprozent"
         ],
         "xaxis": "x5",
         "y": [
          100
         ],
         "yaxis": "y5"
        },
        {
         "hovertext": "2 Orgelpredigtzitate im 50%<br>Vivum Dei Organum (Schneeberg s.a.)<br>Glaubiger Kinder Gottes Gott=gefällige Music (Augsburg 1721)<br>",
         "marker": {
          "color": "rgb(220,220,220)"
         },
         "type": "bar",
         "x": [
          "Orgelpredigtzitate je Predigtprozent"
         ],
         "xaxis": "x5",
         "y": [
          100
         ],
         "yaxis": "y5"
        },
        {
         "hovertext": "0 Orgelpredigtzitate im 51%",
         "marker": {
          "color": "rgb(250,250,250)"
         },
         "type": "bar",
         "x": [
          "Orgelpredigtzitate je Predigtprozent"
         ],
         "xaxis": "x5",
         "y": [
          100
         ],
         "yaxis": "y5"
        },
        {
         "hovertext": "0 Orgelpredigtzitate im 52%",
         "marker": {
          "color": "rgb(250,250,250)"
         },
         "type": "bar",
         "x": [
          "Orgelpredigtzitate je Predigtprozent"
         ],
         "xaxis": "x5",
         "y": [
          100
         ],
         "yaxis": "y5"
        },
        {
         "hovertext": "0 Orgelpredigtzitate im 53%",
         "marker": {
          "color": "rgb(250,250,250)"
         },
         "type": "bar",
         "x": [
          "Orgelpredigtzitate je Predigtprozent"
         ],
         "xaxis": "x5",
         "y": [
          100
         ],
         "yaxis": "y5"
        },
        {
         "hovertext": "1 Orgelpredigtzitate im 54%<br>Davids Vermahnung (Dresden 1711)<br>",
         "marker": {
          "color": "rgb(235,235,235)"
         },
         "type": "bar",
         "x": [
          "Orgelpredigtzitate je Predigtprozent"
         ],
         "xaxis": "x5",
         "y": [
          100
         ],
         "yaxis": "y5"
        },
        {
         "hovertext": "0 Orgelpredigtzitate im 55%",
         "marker": {
          "color": "rgb(250,250,250)"
         },
         "type": "bar",
         "x": [
          "Orgelpredigtzitate je Predigtprozent"
         ],
         "xaxis": "x5",
         "y": [
          100
         ],
         "yaxis": "y5"
        },
        {
         "hovertext": "1 Orgelpredigtzitate im 56%<br>Ein wolgerührtes Orgel=Werck (Königsberg 1721)<br>",
         "marker": {
          "color": "rgb(235,235,235)"
         },
         "type": "bar",
         "x": [
          "Orgelpredigtzitate je Predigtprozent"
         ],
         "xaxis": "x5",
         "y": [
          100
         ],
         "yaxis": "y5"
        },
        {
         "hovertext": "0 Orgelpredigtzitate im 57%",
         "marker": {
          "color": "rgb(250,250,250)"
         },
         "type": "bar",
         "x": [
          "Orgelpredigtzitate je Predigtprozent"
         ],
         "xaxis": "x5",
         "y": [
          100
         ],
         "yaxis": "y5"
        },
        {
         "hovertext": "0 Orgelpredigtzitate im 58%",
         "marker": {
          "color": "rgb(250,250,250)"
         },
         "type": "bar",
         "x": [
          "Orgelpredigtzitate je Predigtprozent"
         ],
         "xaxis": "x5",
         "y": [
          100
         ],
         "yaxis": "y5"
        },
        {
         "hovertext": "0 Orgelpredigtzitate im 59%",
         "marker": {
          "color": "rgb(250,250,250)"
         },
         "type": "bar",
         "x": [
          "Orgelpredigtzitate je Predigtprozent"
         ],
         "xaxis": "x5",
         "y": [
          100
         ],
         "yaxis": "y5"
        },
        {
         "hovertext": "0 Orgelpredigtzitate im 60%",
         "marker": {
          "color": "rgb(250,250,250)"
         },
         "type": "bar",
         "x": [
          "Orgelpredigtzitate je Predigtprozent"
         ],
         "xaxis": "x5",
         "y": [
          100
         ],
         "yaxis": "y5"
        },
        {
         "hovertext": "0 Orgelpredigtzitate im 61%",
         "marker": {
          "color": "rgb(250,250,250)"
         },
         "type": "bar",
         "x": [
          "Orgelpredigtzitate je Predigtprozent"
         ],
         "xaxis": "x5",
         "y": [
          100
         ],
         "yaxis": "y5"
        },
        {
         "hovertext": "0 Orgelpredigtzitate im 62%",
         "marker": {
          "color": "rgb(250,250,250)"
         },
         "type": "bar",
         "x": [
          "Orgelpredigtzitate je Predigtprozent"
         ],
         "xaxis": "x5",
         "y": [
          100
         ],
         "yaxis": "y5"
        },
        {
         "hovertext": "0 Orgelpredigtzitate im 63%",
         "marker": {
          "color": "rgb(250,250,250)"
         },
         "type": "bar",
         "x": [
          "Orgelpredigtzitate je Predigtprozent"
         ],
         "xaxis": "x5",
         "y": [
          100
         ],
         "yaxis": "y5"
        },
        {
         "hovertext": "0 Orgelpredigtzitate im 64%",
         "marker": {
          "color": "rgb(250,250,250)"
         },
         "type": "bar",
         "x": [
          "Orgelpredigtzitate je Predigtprozent"
         ],
         "xaxis": "x5",
         "y": [
          100
         ],
         "yaxis": "y5"
        },
        {
         "hovertext": "0 Orgelpredigtzitate im 65%",
         "marker": {
          "color": "rgb(250,250,250)"
         },
         "type": "bar",
         "x": [
          "Orgelpredigtzitate je Predigtprozent"
         ],
         "xaxis": "x5",
         "y": [
          100
         ],
         "yaxis": "y5"
        },
        {
         "hovertext": "1 Orgelpredigtzitate im 66%<br>Davids Vermahnung (Dresden 1711)<br>",
         "marker": {
          "color": "rgb(235,235,235)"
         },
         "type": "bar",
         "x": [
          "Orgelpredigtzitate je Predigtprozent"
         ],
         "xaxis": "x5",
         "y": [
          100
         ],
         "yaxis": "y5"
        },
        {
         "hovertext": "0 Orgelpredigtzitate im 67%",
         "marker": {
          "color": "rgb(250,250,250)"
         },
         "type": "bar",
         "x": [
          "Orgelpredigtzitate je Predigtprozent"
         ],
         "xaxis": "x5",
         "y": [
          100
         ],
         "yaxis": "y5"
        },
        {
         "hovertext": "0 Orgelpredigtzitate im 68%",
         "marker": {
          "color": "rgb(250,250,250)"
         },
         "type": "bar",
         "x": [
          "Orgelpredigtzitate je Predigtprozent"
         ],
         "xaxis": "x5",
         "y": [
          100
         ],
         "yaxis": "y5"
        },
        {
         "hovertext": "0 Orgelpredigtzitate im 69%",
         "marker": {
          "color": "rgb(250,250,250)"
         },
         "type": "bar",
         "x": [
          "Orgelpredigtzitate je Predigtprozent"
         ],
         "xaxis": "x5",
         "y": [
          100
         ],
         "yaxis": "y5"
        },
        {
         "hovertext": "0 Orgelpredigtzitate im 70%",
         "marker": {
          "color": "rgb(250,250,250)"
         },
         "type": "bar",
         "x": [
          "Orgelpredigtzitate je Predigtprozent"
         ],
         "xaxis": "x5",
         "y": [
          100
         ],
         "yaxis": "y5"
        },
        {
         "hovertext": "1 Orgelpredigtzitate im 71%<br>Orgel Weih-Predigt (Ansbach 1709)<br>",
         "marker": {
          "color": "rgb(235,235,235)"
         },
         "type": "bar",
         "x": [
          "Orgelpredigtzitate je Predigtprozent"
         ],
         "xaxis": "x5",
         "y": [
          100
         ],
         "yaxis": "y5"
        },
        {
         "hovertext": "1 Orgelpredigtzitate im 72%<br>Orgel Weih-Predigt (Ansbach 1709)<br>",
         "marker": {
          "color": "rgb(235,235,235)"
         },
         "type": "bar",
         "x": [
          "Orgelpredigtzitate je Predigtprozent"
         ],
         "xaxis": "x5",
         "y": [
          100
         ],
         "yaxis": "y5"
        },
        {
         "hovertext": "0 Orgelpredigtzitate im 73%",
         "marker": {
          "color": "rgb(250,250,250)"
         },
         "type": "bar",
         "x": [
          "Orgelpredigtzitate je Predigtprozent"
         ],
         "xaxis": "x5",
         "y": [
          100
         ],
         "yaxis": "y5"
        },
        {
         "hovertext": "0 Orgelpredigtzitate im 74%",
         "marker": {
          "color": "rgb(250,250,250)"
         },
         "type": "bar",
         "x": [
          "Orgelpredigtzitate je Predigtprozent"
         ],
         "xaxis": "x5",
         "y": [
          100
         ],
         "yaxis": "y5"
        },
        {
         "hovertext": "0 Orgelpredigtzitate im 75%",
         "marker": {
          "color": "rgb(250,250,250)"
         },
         "type": "bar",
         "x": [
          "Orgelpredigtzitate je Predigtprozent"
         ],
         "xaxis": "x5",
         "y": [
          100
         ],
         "yaxis": "y5"
        },
        {
         "hovertext": "0 Orgelpredigtzitate im 76%",
         "marker": {
          "color": "rgb(250,250,250)"
         },
         "type": "bar",
         "x": [
          "Orgelpredigtzitate je Predigtprozent"
         ],
         "xaxis": "x5",
         "y": [
          100
         ],
         "yaxis": "y5"
        },
        {
         "hovertext": "0 Orgelpredigtzitate im 77%",
         "marker": {
          "color": "rgb(250,250,250)"
         },
         "type": "bar",
         "x": [
          "Orgelpredigtzitate je Predigtprozent"
         ],
         "xaxis": "x5",
         "y": [
          100
         ],
         "yaxis": "y5"
        },
        {
         "hovertext": "0 Orgelpredigtzitate im 78%",
         "marker": {
          "color": "rgb(250,250,250)"
         },
         "type": "bar",
         "x": [
          "Orgelpredigtzitate je Predigtprozent"
         ],
         "xaxis": "x5",
         "y": [
          100
         ],
         "yaxis": "y5"
        },
        {
         "hovertext": "0 Orgelpredigtzitate im 79%",
         "marker": {
          "color": "rgb(250,250,250)"
         },
         "type": "bar",
         "x": [
          "Orgelpredigtzitate je Predigtprozent"
         ],
         "xaxis": "x5",
         "y": [
          100
         ],
         "yaxis": "y5"
        },
        {
         "hovertext": "0 Orgelpredigtzitate im 80%",
         "marker": {
          "color": "rgb(250,250,250)"
         },
         "type": "bar",
         "x": [
          "Orgelpredigtzitate je Predigtprozent"
         ],
         "xaxis": "x5",
         "y": [
          100
         ],
         "yaxis": "y5"
        },
        {
         "hovertext": "0 Orgelpredigtzitate im 81%",
         "marker": {
          "color": "rgb(250,250,250)"
         },
         "type": "bar",
         "x": [
          "Orgelpredigtzitate je Predigtprozent"
         ],
         "xaxis": "x5",
         "y": [
          100
         ],
         "yaxis": "y5"
        },
        {
         "hovertext": "0 Orgelpredigtzitate im 82%",
         "marker": {
          "color": "rgb(250,250,250)"
         },
         "type": "bar",
         "x": [
          "Orgelpredigtzitate je Predigtprozent"
         ],
         "xaxis": "x5",
         "y": [
          100
         ],
         "yaxis": "y5"
        },
        {
         "hovertext": "1 Orgelpredigtzitate im 83%<br>Ein wolgerührtes Orgel=Werck (Königsberg 1721)<br>",
         "marker": {
          "color": "rgb(235,235,235)"
         },
         "type": "bar",
         "x": [
          "Orgelpredigtzitate je Predigtprozent"
         ],
         "xaxis": "x5",
         "y": [
          100
         ],
         "yaxis": "y5"
        },
        {
         "hovertext": "0 Orgelpredigtzitate im 84%",
         "marker": {
          "color": "rgb(250,250,250)"
         },
         "type": "bar",
         "x": [
          "Orgelpredigtzitate je Predigtprozent"
         ],
         "xaxis": "x5",
         "y": [
          100
         ],
         "yaxis": "y5"
        },
        {
         "hovertext": "0 Orgelpredigtzitate im 85%",
         "marker": {
          "color": "rgb(250,250,250)"
         },
         "type": "bar",
         "x": [
          "Orgelpredigtzitate je Predigtprozent"
         ],
         "xaxis": "x5",
         "y": [
          100
         ],
         "yaxis": "y5"
        },
        {
         "hovertext": "0 Orgelpredigtzitate im 86%",
         "marker": {
          "color": "rgb(250,250,250)"
         },
         "type": "bar",
         "x": [
          "Orgelpredigtzitate je Predigtprozent"
         ],
         "xaxis": "x5",
         "y": [
          100
         ],
         "yaxis": "y5"
        },
        {
         "hovertext": "0 Orgelpredigtzitate im 87%",
         "marker": {
          "color": "rgb(250,250,250)"
         },
         "type": "bar",
         "x": [
          "Orgelpredigtzitate je Predigtprozent"
         ],
         "xaxis": "x5",
         "y": [
          100
         ],
         "yaxis": "y5"
        },
        {
         "hovertext": "0 Orgelpredigtzitate im 88%",
         "marker": {
          "color": "rgb(250,250,250)"
         },
         "type": "bar",
         "x": [
          "Orgelpredigtzitate je Predigtprozent"
         ],
         "xaxis": "x5",
         "y": [
          100
         ],
         "yaxis": "y5"
        },
        {
         "hovertext": "0 Orgelpredigtzitate im 89%",
         "marker": {
          "color": "rgb(250,250,250)"
         },
         "type": "bar",
         "x": [
          "Orgelpredigtzitate je Predigtprozent"
         ],
         "xaxis": "x5",
         "y": [
          100
         ],
         "yaxis": "y5"
        },
        {
         "hovertext": "0 Orgelpredigtzitate im 90%",
         "marker": {
          "color": "rgb(250,250,250)"
         },
         "type": "bar",
         "x": [
          "Orgelpredigtzitate je Predigtprozent"
         ],
         "xaxis": "x5",
         "y": [
          100
         ],
         "yaxis": "y5"
        },
        {
         "hovertext": "0 Orgelpredigtzitate im 91%",
         "marker": {
          "color": "rgb(250,250,250)"
         },
         "type": "bar",
         "x": [
          "Orgelpredigtzitate je Predigtprozent"
         ],
         "xaxis": "x5",
         "y": [
          100
         ],
         "yaxis": "y5"
        },
        {
         "hovertext": "1 Orgelpredigtzitate im 92%<br>Orgel Weih-Predigt (Ansbach 1709)<br>",
         "marker": {
          "color": "rgb(235,235,235)"
         },
         "type": "bar",
         "x": [
          "Orgelpredigtzitate je Predigtprozent"
         ],
         "xaxis": "x5",
         "y": [
          100
         ],
         "yaxis": "y5"
        },
        {
         "hovertext": "1 Orgelpredigtzitate im 93%<br>Orgel Weih-Predigt (Ansbach 1709)<br>",
         "marker": {
          "color": "rgb(235,235,235)"
         },
         "type": "bar",
         "x": [
          "Orgelpredigtzitate je Predigtprozent"
         ],
         "xaxis": "x5",
         "y": [
          100
         ],
         "yaxis": "y5"
        },
        {
         "hovertext": "1 Orgelpredigtzitate im 94%<br>Vivum Dei Organum (Schneeberg s.a.)<br>",
         "marker": {
          "color": "rgb(235,235,235)"
         },
         "type": "bar",
         "x": [
          "Orgelpredigtzitate je Predigtprozent"
         ],
         "xaxis": "x5",
         "y": [
          100
         ],
         "yaxis": "y5"
        },
        {
         "hovertext": "2 Orgelpredigtzitate im 95%<br>Vivum Dei Organum (Schneeberg s.a.)<br>Orgel Weih-Predigt (Ansbach 1709)<br>",
         "marker": {
          "color": "rgb(220,220,220)"
         },
         "type": "bar",
         "x": [
          "Orgelpredigtzitate je Predigtprozent"
         ],
         "xaxis": "x5",
         "y": [
          100
         ],
         "yaxis": "y5"
        },
        {
         "hovertext": "1 Orgelpredigtzitate im 96%<br>Orgel Weih-Predigt (Ansbach 1709)<br>",
         "marker": {
          "color": "rgb(235,235,235)"
         },
         "type": "bar",
         "x": [
          "Orgelpredigtzitate je Predigtprozent"
         ],
         "xaxis": "x5",
         "y": [
          100
         ],
         "yaxis": "y5"
        },
        {
         "hovertext": "1 Orgelpredigtzitate im 97%<br>Orgel Weih-Predigt (Ansbach 1709)<br>",
         "marker": {
          "color": "rgb(235,235,235)"
         },
         "type": "bar",
         "x": [
          "Orgelpredigtzitate je Predigtprozent"
         ],
         "xaxis": "x5",
         "y": [
          100
         ],
         "yaxis": "y5"
        },
        {
         "hovertext": "0 Orgelpredigtzitate im 98%",
         "marker": {
          "color": "rgb(250,250,250)"
         },
         "type": "bar",
         "x": [
          "Orgelpredigtzitate je Predigtprozent"
         ],
         "xaxis": "x5",
         "y": [
          100
         ],
         "yaxis": "y5"
        },
        {
         "hovertext": "0 Orgelpredigtzitate im 99%",
         "marker": {
          "color": "rgb(250,250,250)"
         },
         "type": "bar",
         "x": [
          "Orgelpredigtzitate je Predigtprozent"
         ],
         "xaxis": "x5",
         "y": [
          100
         ],
         "yaxis": "y5"
        },
        {
         "hovertext": "0 Orgelpredigtzitate im 100%",
         "marker": {
          "color": "rgb(250,250,250)"
         },
         "type": "bar",
         "x": [
          "Orgelpredigtzitate je Predigtprozent"
         ],
         "xaxis": "x5",
         "y": [
          100
         ],
         "yaxis": "y5"
        },
        {
         "hovertext": "0 Orgelpredigtzitate im 1%",
         "marker": {
          "color": "rgb(250,250,250)"
         },
         "type": "bar",
         "x": [
          "Orgelpredigtzitate je Predigtprozent"
         ],
         "xaxis": "x6",
         "y": [
          100
         ],
         "yaxis": "y6"
        },
        {
         "hovertext": "0 Orgelpredigtzitate im 2%",
         "marker": {
          "color": "rgb(250,250,250)"
         },
         "type": "bar",
         "x": [
          "Orgelpredigtzitate je Predigtprozent"
         ],
         "xaxis": "x6",
         "y": [
          100
         ],
         "yaxis": "y6"
        },
        {
         "hovertext": "0 Orgelpredigtzitate im 3%",
         "marker": {
          "color": "rgb(250,250,250)"
         },
         "type": "bar",
         "x": [
          "Orgelpredigtzitate je Predigtprozent"
         ],
         "xaxis": "x6",
         "y": [
          100
         ],
         "yaxis": "y6"
        },
        {
         "hovertext": "0 Orgelpredigtzitate im 4%",
         "marker": {
          "color": "rgb(250,250,250)"
         },
         "type": "bar",
         "x": [
          "Orgelpredigtzitate je Predigtprozent"
         ],
         "xaxis": "x6",
         "y": [
          100
         ],
         "yaxis": "y6"
        },
        {
         "hovertext": "0 Orgelpredigtzitate im 5%",
         "marker": {
          "color": "rgb(250,250,250)"
         },
         "type": "bar",
         "x": [
          "Orgelpredigtzitate je Predigtprozent"
         ],
         "xaxis": "x6",
         "y": [
          100
         ],
         "yaxis": "y6"
        },
        {
         "hovertext": "0 Orgelpredigtzitate im 6%",
         "marker": {
          "color": "rgb(250,250,250)"
         },
         "type": "bar",
         "x": [
          "Orgelpredigtzitate je Predigtprozent"
         ],
         "xaxis": "x6",
         "y": [
          100
         ],
         "yaxis": "y6"
        },
        {
         "hovertext": "0 Orgelpredigtzitate im 7%",
         "marker": {
          "color": "rgb(250,250,250)"
         },
         "type": "bar",
         "x": [
          "Orgelpredigtzitate je Predigtprozent"
         ],
         "xaxis": "x6",
         "y": [
          100
         ],
         "yaxis": "y6"
        },
        {
         "hovertext": "0 Orgelpredigtzitate im 8%",
         "marker": {
          "color": "rgb(250,250,250)"
         },
         "type": "bar",
         "x": [
          "Orgelpredigtzitate je Predigtprozent"
         ],
         "xaxis": "x6",
         "y": [
          100
         ],
         "yaxis": "y6"
        },
        {
         "hovertext": "0 Orgelpredigtzitate im 9%",
         "marker": {
          "color": "rgb(250,250,250)"
         },
         "type": "bar",
         "x": [
          "Orgelpredigtzitate je Predigtprozent"
         ],
         "xaxis": "x6",
         "y": [
          100
         ],
         "yaxis": "y6"
        },
        {
         "hovertext": "0 Orgelpredigtzitate im 10%",
         "marker": {
          "color": "rgb(250,250,250)"
         },
         "type": "bar",
         "x": [
          "Orgelpredigtzitate je Predigtprozent"
         ],
         "xaxis": "x6",
         "y": [
          100
         ],
         "yaxis": "y6"
        },
        {
         "hovertext": "0 Orgelpredigtzitate im 11%",
         "marker": {
          "color": "rgb(250,250,250)"
         },
         "type": "bar",
         "x": [
          "Orgelpredigtzitate je Predigtprozent"
         ],
         "xaxis": "x6",
         "y": [
          100
         ],
         "yaxis": "y6"
        },
        {
         "hovertext": "0 Orgelpredigtzitate im 12%",
         "marker": {
          "color": "rgb(250,250,250)"
         },
         "type": "bar",
         "x": [
          "Orgelpredigtzitate je Predigtprozent"
         ],
         "xaxis": "x6",
         "y": [
          100
         ],
         "yaxis": "y6"
        },
        {
         "hovertext": "0 Orgelpredigtzitate im 13%",
         "marker": {
          "color": "rgb(250,250,250)"
         },
         "type": "bar",
         "x": [
          "Orgelpredigtzitate je Predigtprozent"
         ],
         "xaxis": "x6",
         "y": [
          100
         ],
         "yaxis": "y6"
        },
        {
         "hovertext": "0 Orgelpredigtzitate im 14%",
         "marker": {
          "color": "rgb(250,250,250)"
         },
         "type": "bar",
         "x": [
          "Orgelpredigtzitate je Predigtprozent"
         ],
         "xaxis": "x6",
         "y": [
          100
         ],
         "yaxis": "y6"
        },
        {
         "hovertext": "0 Orgelpredigtzitate im 15%",
         "marker": {
          "color": "rgb(250,250,250)"
         },
         "type": "bar",
         "x": [
          "Orgelpredigtzitate je Predigtprozent"
         ],
         "xaxis": "x6",
         "y": [
          100
         ],
         "yaxis": "y6"
        },
        {
         "hovertext": "0 Orgelpredigtzitate im 16%",
         "marker": {
          "color": "rgb(250,250,250)"
         },
         "type": "bar",
         "x": [
          "Orgelpredigtzitate je Predigtprozent"
         ],
         "xaxis": "x6",
         "y": [
          100
         ],
         "yaxis": "y6"
        },
        {
         "hovertext": "0 Orgelpredigtzitate im 17%",
         "marker": {
          "color": "rgb(250,250,250)"
         },
         "type": "bar",
         "x": [
          "Orgelpredigtzitate je Predigtprozent"
         ],
         "xaxis": "x6",
         "y": [
          100
         ],
         "yaxis": "y6"
        },
        {
         "hovertext": "0 Orgelpredigtzitate im 18%",
         "marker": {
          "color": "rgb(250,250,250)"
         },
         "type": "bar",
         "x": [
          "Orgelpredigtzitate je Predigtprozent"
         ],
         "xaxis": "x6",
         "y": [
          100
         ],
         "yaxis": "y6"
        },
        {
         "hovertext": "0 Orgelpredigtzitate im 19%",
         "marker": {
          "color": "rgb(250,250,250)"
         },
         "type": "bar",
         "x": [
          "Orgelpredigtzitate je Predigtprozent"
         ],
         "xaxis": "x6",
         "y": [
          100
         ],
         "yaxis": "y6"
        },
        {
         "hovertext": "0 Orgelpredigtzitate im 20%",
         "marker": {
          "color": "rgb(250,250,250)"
         },
         "type": "bar",
         "x": [
          "Orgelpredigtzitate je Predigtprozent"
         ],
         "xaxis": "x6",
         "y": [
          100
         ],
         "yaxis": "y6"
        },
        {
         "hovertext": "0 Orgelpredigtzitate im 21%",
         "marker": {
          "color": "rgb(250,250,250)"
         },
         "type": "bar",
         "x": [
          "Orgelpredigtzitate je Predigtprozent"
         ],
         "xaxis": "x6",
         "y": [
          100
         ],
         "yaxis": "y6"
        },
        {
         "hovertext": "0 Orgelpredigtzitate im 22%",
         "marker": {
          "color": "rgb(250,250,250)"
         },
         "type": "bar",
         "x": [
          "Orgelpredigtzitate je Predigtprozent"
         ],
         "xaxis": "x6",
         "y": [
          100
         ],
         "yaxis": "y6"
        },
        {
         "hovertext": "0 Orgelpredigtzitate im 23%",
         "marker": {
          "color": "rgb(250,250,250)"
         },
         "type": "bar",
         "x": [
          "Orgelpredigtzitate je Predigtprozent"
         ],
         "xaxis": "x6",
         "y": [
          100
         ],
         "yaxis": "y6"
        },
        {
         "hovertext": "0 Orgelpredigtzitate im 24%",
         "marker": {
          "color": "rgb(250,250,250)"
         },
         "type": "bar",
         "x": [
          "Orgelpredigtzitate je Predigtprozent"
         ],
         "xaxis": "x6",
         "y": [
          100
         ],
         "yaxis": "y6"
        },
        {
         "hovertext": "0 Orgelpredigtzitate im 25%",
         "marker": {
          "color": "rgb(250,250,250)"
         },
         "type": "bar",
         "x": [
          "Orgelpredigtzitate je Predigtprozent"
         ],
         "xaxis": "x6",
         "y": [
          100
         ],
         "yaxis": "y6"
        },
        {
         "hovertext": "0 Orgelpredigtzitate im 26%",
         "marker": {
          "color": "rgb(250,250,250)"
         },
         "type": "bar",
         "x": [
          "Orgelpredigtzitate je Predigtprozent"
         ],
         "xaxis": "x6",
         "y": [
          100
         ],
         "yaxis": "y6"
        },
        {
         "hovertext": "0 Orgelpredigtzitate im 27%",
         "marker": {
          "color": "rgb(250,250,250)"
         },
         "type": "bar",
         "x": [
          "Orgelpredigtzitate je Predigtprozent"
         ],
         "xaxis": "x6",
         "y": [
          100
         ],
         "yaxis": "y6"
        },
        {
         "hovertext": "0 Orgelpredigtzitate im 28%",
         "marker": {
          "color": "rgb(250,250,250)"
         },
         "type": "bar",
         "x": [
          "Orgelpredigtzitate je Predigtprozent"
         ],
         "xaxis": "x6",
         "y": [
          100
         ],
         "yaxis": "y6"
        },
        {
         "hovertext": "1 Orgelpredigtzitate im 29%<br>Die Billige Orgel-Freude (Danzig 1739)<br>",
         "marker": {
          "color": "rgb(235,235,235)"
         },
         "type": "bar",
         "x": [
          "Orgelpredigtzitate je Predigtprozent"
         ],
         "xaxis": "x6",
         "y": [
          100
         ],
         "yaxis": "y6"
        },
        {
         "hovertext": "0 Orgelpredigtzitate im 30%",
         "marker": {
          "color": "rgb(250,250,250)"
         },
         "type": "bar",
         "x": [
          "Orgelpredigtzitate je Predigtprozent"
         ],
         "xaxis": "x6",
         "y": [
          100
         ],
         "yaxis": "y6"
        },
        {
         "hovertext": "0 Orgelpredigtzitate im 31%",
         "marker": {
          "color": "rgb(250,250,250)"
         },
         "type": "bar",
         "x": [
          "Orgelpredigtzitate je Predigtprozent"
         ],
         "xaxis": "x6",
         "y": [
          100
         ],
         "yaxis": "y6"
        },
        {
         "hovertext": "0 Orgelpredigtzitate im 32%",
         "marker": {
          "color": "rgb(250,250,250)"
         },
         "type": "bar",
         "x": [
          "Orgelpredigtzitate je Predigtprozent"
         ],
         "xaxis": "x6",
         "y": [
          100
         ],
         "yaxis": "y6"
        },
        {
         "hovertext": "0 Orgelpredigtzitate im 33%",
         "marker": {
          "color": "rgb(250,250,250)"
         },
         "type": "bar",
         "x": [
          "Orgelpredigtzitate je Predigtprozent"
         ],
         "xaxis": "x6",
         "y": [
          100
         ],
         "yaxis": "y6"
        },
        {
         "hovertext": "0 Orgelpredigtzitate im 34%",
         "marker": {
          "color": "rgb(250,250,250)"
         },
         "type": "bar",
         "x": [
          "Orgelpredigtzitate je Predigtprozent"
         ],
         "xaxis": "x6",
         "y": [
          100
         ],
         "yaxis": "y6"
        },
        {
         "hovertext": "0 Orgelpredigtzitate im 35%",
         "marker": {
          "color": "rgb(250,250,250)"
         },
         "type": "bar",
         "x": [
          "Orgelpredigtzitate je Predigtprozent"
         ],
         "xaxis": "x6",
         "y": [
          100
         ],
         "yaxis": "y6"
        },
        {
         "hovertext": "0 Orgelpredigtzitate im 36%",
         "marker": {
          "color": "rgb(250,250,250)"
         },
         "type": "bar",
         "x": [
          "Orgelpredigtzitate je Predigtprozent"
         ],
         "xaxis": "x6",
         "y": [
          100
         ],
         "yaxis": "y6"
        },
        {
         "hovertext": "0 Orgelpredigtzitate im 37%",
         "marker": {
          "color": "rgb(250,250,250)"
         },
         "type": "bar",
         "x": [
          "Orgelpredigtzitate je Predigtprozent"
         ],
         "xaxis": "x6",
         "y": [
          100
         ],
         "yaxis": "y6"
        },
        {
         "hovertext": "0 Orgelpredigtzitate im 38%",
         "marker": {
          "color": "rgb(250,250,250)"
         },
         "type": "bar",
         "x": [
          "Orgelpredigtzitate je Predigtprozent"
         ],
         "xaxis": "x6",
         "y": [
          100
         ],
         "yaxis": "y6"
        },
        {
         "hovertext": "0 Orgelpredigtzitate im 39%",
         "marker": {
          "color": "rgb(250,250,250)"
         },
         "type": "bar",
         "x": [
          "Orgelpredigtzitate je Predigtprozent"
         ],
         "xaxis": "x6",
         "y": [
          100
         ],
         "yaxis": "y6"
        },
        {
         "hovertext": "0 Orgelpredigtzitate im 40%",
         "marker": {
          "color": "rgb(250,250,250)"
         },
         "type": "bar",
         "x": [
          "Orgelpredigtzitate je Predigtprozent"
         ],
         "xaxis": "x6",
         "y": [
          100
         ],
         "yaxis": "y6"
        },
        {
         "hovertext": "0 Orgelpredigtzitate im 41%",
         "marker": {
          "color": "rgb(250,250,250)"
         },
         "type": "bar",
         "x": [
          "Orgelpredigtzitate je Predigtprozent"
         ],
         "xaxis": "x6",
         "y": [
          100
         ],
         "yaxis": "y6"
        },
        {
         "hovertext": "0 Orgelpredigtzitate im 42%",
         "marker": {
          "color": "rgb(250,250,250)"
         },
         "type": "bar",
         "x": [
          "Orgelpredigtzitate je Predigtprozent"
         ],
         "xaxis": "x6",
         "y": [
          100
         ],
         "yaxis": "y6"
        },
        {
         "hovertext": "0 Orgelpredigtzitate im 43%",
         "marker": {
          "color": "rgb(250,250,250)"
         },
         "type": "bar",
         "x": [
          "Orgelpredigtzitate je Predigtprozent"
         ],
         "xaxis": "x6",
         "y": [
          100
         ],
         "yaxis": "y6"
        },
        {
         "hovertext": "0 Orgelpredigtzitate im 44%",
         "marker": {
          "color": "rgb(250,250,250)"
         },
         "type": "bar",
         "x": [
          "Orgelpredigtzitate je Predigtprozent"
         ],
         "xaxis": "x6",
         "y": [
          100
         ],
         "yaxis": "y6"
        },
        {
         "hovertext": "0 Orgelpredigtzitate im 45%",
         "marker": {
          "color": "rgb(250,250,250)"
         },
         "type": "bar",
         "x": [
          "Orgelpredigtzitate je Predigtprozent"
         ],
         "xaxis": "x6",
         "y": [
          100
         ],
         "yaxis": "y6"
        },
        {
         "hovertext": "0 Orgelpredigtzitate im 46%",
         "marker": {
          "color": "rgb(250,250,250)"
         },
         "type": "bar",
         "x": [
          "Orgelpredigtzitate je Predigtprozent"
         ],
         "xaxis": "x6",
         "y": [
          100
         ],
         "yaxis": "y6"
        },
        {
         "hovertext": "0 Orgelpredigtzitate im 47%",
         "marker": {
          "color": "rgb(250,250,250)"
         },
         "type": "bar",
         "x": [
          "Orgelpredigtzitate je Predigtprozent"
         ],
         "xaxis": "x6",
         "y": [
          100
         ],
         "yaxis": "y6"
        },
        {
         "hovertext": "0 Orgelpredigtzitate im 48%",
         "marker": {
          "color": "rgb(250,250,250)"
         },
         "type": "bar",
         "x": [
          "Orgelpredigtzitate je Predigtprozent"
         ],
         "xaxis": "x6",
         "y": [
          100
         ],
         "yaxis": "y6"
        },
        {
         "hovertext": "0 Orgelpredigtzitate im 49%",
         "marker": {
          "color": "rgb(250,250,250)"
         },
         "type": "bar",
         "x": [
          "Orgelpredigtzitate je Predigtprozent"
         ],
         "xaxis": "x6",
         "y": [
          100
         ],
         "yaxis": "y6"
        },
        {
         "hovertext": "0 Orgelpredigtzitate im 50%",
         "marker": {
          "color": "rgb(250,250,250)"
         },
         "type": "bar",
         "x": [
          "Orgelpredigtzitate je Predigtprozent"
         ],
         "xaxis": "x6",
         "y": [
          100
         ],
         "yaxis": "y6"
        },
        {
         "hovertext": "0 Orgelpredigtzitate im 51%",
         "marker": {
          "color": "rgb(250,250,250)"
         },
         "type": "bar",
         "x": [
          "Orgelpredigtzitate je Predigtprozent"
         ],
         "xaxis": "x6",
         "y": [
          100
         ],
         "yaxis": "y6"
        },
        {
         "hovertext": "0 Orgelpredigtzitate im 52%",
         "marker": {
          "color": "rgb(250,250,250)"
         },
         "type": "bar",
         "x": [
          "Orgelpredigtzitate je Predigtprozent"
         ],
         "xaxis": "x6",
         "y": [
          100
         ],
         "yaxis": "y6"
        },
        {
         "hovertext": "0 Orgelpredigtzitate im 53%",
         "marker": {
          "color": "rgb(250,250,250)"
         },
         "type": "bar",
         "x": [
          "Orgelpredigtzitate je Predigtprozent"
         ],
         "xaxis": "x6",
         "y": [
          100
         ],
         "yaxis": "y6"
        },
        {
         "hovertext": "0 Orgelpredigtzitate im 54%",
         "marker": {
          "color": "rgb(250,250,250)"
         },
         "type": "bar",
         "x": [
          "Orgelpredigtzitate je Predigtprozent"
         ],
         "xaxis": "x6",
         "y": [
          100
         ],
         "yaxis": "y6"
        },
        {
         "hovertext": "0 Orgelpredigtzitate im 55%",
         "marker": {
          "color": "rgb(250,250,250)"
         },
         "type": "bar",
         "x": [
          "Orgelpredigtzitate je Predigtprozent"
         ],
         "xaxis": "x6",
         "y": [
          100
         ],
         "yaxis": "y6"
        },
        {
         "hovertext": "0 Orgelpredigtzitate im 56%",
         "marker": {
          "color": "rgb(250,250,250)"
         },
         "type": "bar",
         "x": [
          "Orgelpredigtzitate je Predigtprozent"
         ],
         "xaxis": "x6",
         "y": [
          100
         ],
         "yaxis": "y6"
        },
        {
         "hovertext": "0 Orgelpredigtzitate im 57%",
         "marker": {
          "color": "rgb(250,250,250)"
         },
         "type": "bar",
         "x": [
          "Orgelpredigtzitate je Predigtprozent"
         ],
         "xaxis": "x6",
         "y": [
          100
         ],
         "yaxis": "y6"
        },
        {
         "hovertext": "0 Orgelpredigtzitate im 58%",
         "marker": {
          "color": "rgb(250,250,250)"
         },
         "type": "bar",
         "x": [
          "Orgelpredigtzitate je Predigtprozent"
         ],
         "xaxis": "x6",
         "y": [
          100
         ],
         "yaxis": "y6"
        },
        {
         "hovertext": "0 Orgelpredigtzitate im 59%",
         "marker": {
          "color": "rgb(250,250,250)"
         },
         "type": "bar",
         "x": [
          "Orgelpredigtzitate je Predigtprozent"
         ],
         "xaxis": "x6",
         "y": [
          100
         ],
         "yaxis": "y6"
        },
        {
         "hovertext": "0 Orgelpredigtzitate im 60%",
         "marker": {
          "color": "rgb(250,250,250)"
         },
         "type": "bar",
         "x": [
          "Orgelpredigtzitate je Predigtprozent"
         ],
         "xaxis": "x6",
         "y": [
          100
         ],
         "yaxis": "y6"
        },
        {
         "hovertext": "0 Orgelpredigtzitate im 61%",
         "marker": {
          "color": "rgb(250,250,250)"
         },
         "type": "bar",
         "x": [
          "Orgelpredigtzitate je Predigtprozent"
         ],
         "xaxis": "x6",
         "y": [
          100
         ],
         "yaxis": "y6"
        },
        {
         "hovertext": "0 Orgelpredigtzitate im 62%",
         "marker": {
          "color": "rgb(250,250,250)"
         },
         "type": "bar",
         "x": [
          "Orgelpredigtzitate je Predigtprozent"
         ],
         "xaxis": "x6",
         "y": [
          100
         ],
         "yaxis": "y6"
        },
        {
         "hovertext": "0 Orgelpredigtzitate im 63%",
         "marker": {
          "color": "rgb(250,250,250)"
         },
         "type": "bar",
         "x": [
          "Orgelpredigtzitate je Predigtprozent"
         ],
         "xaxis": "x6",
         "y": [
          100
         ],
         "yaxis": "y6"
        },
        {
         "hovertext": "0 Orgelpredigtzitate im 64%",
         "marker": {
          "color": "rgb(250,250,250)"
         },
         "type": "bar",
         "x": [
          "Orgelpredigtzitate je Predigtprozent"
         ],
         "xaxis": "x6",
         "y": [
          100
         ],
         "yaxis": "y6"
        },
        {
         "hovertext": "0 Orgelpredigtzitate im 65%",
         "marker": {
          "color": "rgb(250,250,250)"
         },
         "type": "bar",
         "x": [
          "Orgelpredigtzitate je Predigtprozent"
         ],
         "xaxis": "x6",
         "y": [
          100
         ],
         "yaxis": "y6"
        },
        {
         "hovertext": "0 Orgelpredigtzitate im 66%",
         "marker": {
          "color": "rgb(250,250,250)"
         },
         "type": "bar",
         "x": [
          "Orgelpredigtzitate je Predigtprozent"
         ],
         "xaxis": "x6",
         "y": [
          100
         ],
         "yaxis": "y6"
        },
        {
         "hovertext": "0 Orgelpredigtzitate im 67%",
         "marker": {
          "color": "rgb(250,250,250)"
         },
         "type": "bar",
         "x": [
          "Orgelpredigtzitate je Predigtprozent"
         ],
         "xaxis": "x6",
         "y": [
          100
         ],
         "yaxis": "y6"
        },
        {
         "hovertext": "0 Orgelpredigtzitate im 68%",
         "marker": {
          "color": "rgb(250,250,250)"
         },
         "type": "bar",
         "x": [
          "Orgelpredigtzitate je Predigtprozent"
         ],
         "xaxis": "x6",
         "y": [
          100
         ],
         "yaxis": "y6"
        },
        {
         "hovertext": "0 Orgelpredigtzitate im 69%",
         "marker": {
          "color": "rgb(250,250,250)"
         },
         "type": "bar",
         "x": [
          "Orgelpredigtzitate je Predigtprozent"
         ],
         "xaxis": "x6",
         "y": [
          100
         ],
         "yaxis": "y6"
        },
        {
         "hovertext": "0 Orgelpredigtzitate im 70%",
         "marker": {
          "color": "rgb(250,250,250)"
         },
         "type": "bar",
         "x": [
          "Orgelpredigtzitate je Predigtprozent"
         ],
         "xaxis": "x6",
         "y": [
          100
         ],
         "yaxis": "y6"
        },
        {
         "hovertext": "0 Orgelpredigtzitate im 71%",
         "marker": {
          "color": "rgb(250,250,250)"
         },
         "type": "bar",
         "x": [
          "Orgelpredigtzitate je Predigtprozent"
         ],
         "xaxis": "x6",
         "y": [
          100
         ],
         "yaxis": "y6"
        },
        {
         "hovertext": "0 Orgelpredigtzitate im 72%",
         "marker": {
          "color": "rgb(250,250,250)"
         },
         "type": "bar",
         "x": [
          "Orgelpredigtzitate je Predigtprozent"
         ],
         "xaxis": "x6",
         "y": [
          100
         ],
         "yaxis": "y6"
        },
        {
         "hovertext": "0 Orgelpredigtzitate im 73%",
         "marker": {
          "color": "rgb(250,250,250)"
         },
         "type": "bar",
         "x": [
          "Orgelpredigtzitate je Predigtprozent"
         ],
         "xaxis": "x6",
         "y": [
          100
         ],
         "yaxis": "y6"
        },
        {
         "hovertext": "0 Orgelpredigtzitate im 74%",
         "marker": {
          "color": "rgb(250,250,250)"
         },
         "type": "bar",
         "x": [
          "Orgelpredigtzitate je Predigtprozent"
         ],
         "xaxis": "x6",
         "y": [
          100
         ],
         "yaxis": "y6"
        },
        {
         "hovertext": "0 Orgelpredigtzitate im 75%",
         "marker": {
          "color": "rgb(250,250,250)"
         },
         "type": "bar",
         "x": [
          "Orgelpredigtzitate je Predigtprozent"
         ],
         "xaxis": "x6",
         "y": [
          100
         ],
         "yaxis": "y6"
        },
        {
         "hovertext": "0 Orgelpredigtzitate im 76%",
         "marker": {
          "color": "rgb(250,250,250)"
         },
         "type": "bar",
         "x": [
          "Orgelpredigtzitate je Predigtprozent"
         ],
         "xaxis": "x6",
         "y": [
          100
         ],
         "yaxis": "y6"
        },
        {
         "hovertext": "0 Orgelpredigtzitate im 77%",
         "marker": {
          "color": "rgb(250,250,250)"
         },
         "type": "bar",
         "x": [
          "Orgelpredigtzitate je Predigtprozent"
         ],
         "xaxis": "x6",
         "y": [
          100
         ],
         "yaxis": "y6"
        },
        {
         "hovertext": "0 Orgelpredigtzitate im 78%",
         "marker": {
          "color": "rgb(250,250,250)"
         },
         "type": "bar",
         "x": [
          "Orgelpredigtzitate je Predigtprozent"
         ],
         "xaxis": "x6",
         "y": [
          100
         ],
         "yaxis": "y6"
        },
        {
         "hovertext": "0 Orgelpredigtzitate im 79%",
         "marker": {
          "color": "rgb(250,250,250)"
         },
         "type": "bar",
         "x": [
          "Orgelpredigtzitate je Predigtprozent"
         ],
         "xaxis": "x6",
         "y": [
          100
         ],
         "yaxis": "y6"
        },
        {
         "hovertext": "0 Orgelpredigtzitate im 80%",
         "marker": {
          "color": "rgb(250,250,250)"
         },
         "type": "bar",
         "x": [
          "Orgelpredigtzitate je Predigtprozent"
         ],
         "xaxis": "x6",
         "y": [
          100
         ],
         "yaxis": "y6"
        },
        {
         "hovertext": "0 Orgelpredigtzitate im 81%",
         "marker": {
          "color": "rgb(250,250,250)"
         },
         "type": "bar",
         "x": [
          "Orgelpredigtzitate je Predigtprozent"
         ],
         "xaxis": "x6",
         "y": [
          100
         ],
         "yaxis": "y6"
        },
        {
         "hovertext": "0 Orgelpredigtzitate im 82%",
         "marker": {
          "color": "rgb(250,250,250)"
         },
         "type": "bar",
         "x": [
          "Orgelpredigtzitate je Predigtprozent"
         ],
         "xaxis": "x6",
         "y": [
          100
         ],
         "yaxis": "y6"
        },
        {
         "hovertext": "0 Orgelpredigtzitate im 83%",
         "marker": {
          "color": "rgb(250,250,250)"
         },
         "type": "bar",
         "x": [
          "Orgelpredigtzitate je Predigtprozent"
         ],
         "xaxis": "x6",
         "y": [
          100
         ],
         "yaxis": "y6"
        },
        {
         "hovertext": "0 Orgelpredigtzitate im 84%",
         "marker": {
          "color": "rgb(250,250,250)"
         },
         "type": "bar",
         "x": [
          "Orgelpredigtzitate je Predigtprozent"
         ],
         "xaxis": "x6",
         "y": [
          100
         ],
         "yaxis": "y6"
        },
        {
         "hovertext": "0 Orgelpredigtzitate im 85%",
         "marker": {
          "color": "rgb(250,250,250)"
         },
         "type": "bar",
         "x": [
          "Orgelpredigtzitate je Predigtprozent"
         ],
         "xaxis": "x6",
         "y": [
          100
         ],
         "yaxis": "y6"
        },
        {
         "hovertext": "0 Orgelpredigtzitate im 86%",
         "marker": {
          "color": "rgb(250,250,250)"
         },
         "type": "bar",
         "x": [
          "Orgelpredigtzitate je Predigtprozent"
         ],
         "xaxis": "x6",
         "y": [
          100
         ],
         "yaxis": "y6"
        },
        {
         "hovertext": "0 Orgelpredigtzitate im 87%",
         "marker": {
          "color": "rgb(250,250,250)"
         },
         "type": "bar",
         "x": [
          "Orgelpredigtzitate je Predigtprozent"
         ],
         "xaxis": "x6",
         "y": [
          100
         ],
         "yaxis": "y6"
        },
        {
         "hovertext": "0 Orgelpredigtzitate im 88%",
         "marker": {
          "color": "rgb(250,250,250)"
         },
         "type": "bar",
         "x": [
          "Orgelpredigtzitate je Predigtprozent"
         ],
         "xaxis": "x6",
         "y": [
          100
         ],
         "yaxis": "y6"
        },
        {
         "hovertext": "0 Orgelpredigtzitate im 89%",
         "marker": {
          "color": "rgb(250,250,250)"
         },
         "type": "bar",
         "x": [
          "Orgelpredigtzitate je Predigtprozent"
         ],
         "xaxis": "x6",
         "y": [
          100
         ],
         "yaxis": "y6"
        },
        {
         "hovertext": "1 Orgelpredigtzitate im 90%<br>Die heilige Sabbaths-Lust an dem Herrn (Danzig 1749)<br>",
         "marker": {
          "color": "rgb(235,235,235)"
         },
         "type": "bar",
         "x": [
          "Orgelpredigtzitate je Predigtprozent"
         ],
         "xaxis": "x6",
         "y": [
          100
         ],
         "yaxis": "y6"
        },
        {
         "hovertext": "1 Orgelpredigtzitate im 91%<br>Die heilige Sabbaths-Lust an dem Herrn (Danzig 1749)<br>",
         "marker": {
          "color": "rgb(235,235,235)"
         },
         "type": "bar",
         "x": [
          "Orgelpredigtzitate je Predigtprozent"
         ],
         "xaxis": "x6",
         "y": [
          100
         ],
         "yaxis": "y6"
        },
        {
         "hovertext": "1 Orgelpredigtzitate im 92%<br>Die Billige Orgel-Freude (Danzig 1739)<br>",
         "marker": {
          "color": "rgb(235,235,235)"
         },
         "type": "bar",
         "x": [
          "Orgelpredigtzitate je Predigtprozent"
         ],
         "xaxis": "x6",
         "y": [
          100
         ],
         "yaxis": "y6"
        },
        {
         "hovertext": "0 Orgelpredigtzitate im 93%",
         "marker": {
          "color": "rgb(250,250,250)"
         },
         "type": "bar",
         "x": [
          "Orgelpredigtzitate je Predigtprozent"
         ],
         "xaxis": "x6",
         "y": [
          100
         ],
         "yaxis": "y6"
        },
        {
         "hovertext": "0 Orgelpredigtzitate im 94%",
         "marker": {
          "color": "rgb(250,250,250)"
         },
         "type": "bar",
         "x": [
          "Orgelpredigtzitate je Predigtprozent"
         ],
         "xaxis": "x6",
         "y": [
          100
         ],
         "yaxis": "y6"
        },
        {
         "hovertext": "0 Orgelpredigtzitate im 95%",
         "marker": {
          "color": "rgb(250,250,250)"
         },
         "type": "bar",
         "x": [
          "Orgelpredigtzitate je Predigtprozent"
         ],
         "xaxis": "x6",
         "y": [
          100
         ],
         "yaxis": "y6"
        },
        {
         "hovertext": "0 Orgelpredigtzitate im 96%",
         "marker": {
          "color": "rgb(250,250,250)"
         },
         "type": "bar",
         "x": [
          "Orgelpredigtzitate je Predigtprozent"
         ],
         "xaxis": "x6",
         "y": [
          100
         ],
         "yaxis": "y6"
        },
        {
         "hovertext": "0 Orgelpredigtzitate im 97%",
         "marker": {
          "color": "rgb(250,250,250)"
         },
         "type": "bar",
         "x": [
          "Orgelpredigtzitate je Predigtprozent"
         ],
         "xaxis": "x6",
         "y": [
          100
         ],
         "yaxis": "y6"
        },
        {
         "hovertext": "0 Orgelpredigtzitate im 98%",
         "marker": {
          "color": "rgb(250,250,250)"
         },
         "type": "bar",
         "x": [
          "Orgelpredigtzitate je Predigtprozent"
         ],
         "xaxis": "x6",
         "y": [
          100
         ],
         "yaxis": "y6"
        },
        {
         "hovertext": "0 Orgelpredigtzitate im 99%",
         "marker": {
          "color": "rgb(250,250,250)"
         },
         "type": "bar",
         "x": [
          "Orgelpredigtzitate je Predigtprozent"
         ],
         "xaxis": "x6",
         "y": [
          100
         ],
         "yaxis": "y6"
        },
        {
         "hovertext": "0 Orgelpredigtzitate im 100%",
         "marker": {
          "color": "rgb(250,250,250)"
         },
         "type": "bar",
         "x": [
          "Orgelpredigtzitate je Predigtprozent"
         ],
         "xaxis": "x6",
         "y": [
          100
         ],
         "yaxis": "y6"
        },
        {
         "hovertext": "0 Orgelpredigtzitate im 1%",
         "marker": {
          "color": "rgb(250,250,250)"
         },
         "type": "bar",
         "x": [
          "Orgelpredigtzitate je Predigtprozent"
         ],
         "xaxis": "x7",
         "y": [
          100
         ],
         "yaxis": "y7"
        },
        {
         "hovertext": "0 Orgelpredigtzitate im 2%",
         "marker": {
          "color": "rgb(250,250,250)"
         },
         "type": "bar",
         "x": [
          "Orgelpredigtzitate je Predigtprozent"
         ],
         "xaxis": "x7",
         "y": [
          100
         ],
         "yaxis": "y7"
        },
        {
         "hovertext": "0 Orgelpredigtzitate im 3%",
         "marker": {
          "color": "rgb(250,250,250)"
         },
         "type": "bar",
         "x": [
          "Orgelpredigtzitate je Predigtprozent"
         ],
         "xaxis": "x7",
         "y": [
          100
         ],
         "yaxis": "y7"
        },
        {
         "hovertext": "0 Orgelpredigtzitate im 4%",
         "marker": {
          "color": "rgb(250,250,250)"
         },
         "type": "bar",
         "x": [
          "Orgelpredigtzitate je Predigtprozent"
         ],
         "xaxis": "x7",
         "y": [
          100
         ],
         "yaxis": "y7"
        },
        {
         "hovertext": "0 Orgelpredigtzitate im 5%",
         "marker": {
          "color": "rgb(250,250,250)"
         },
         "type": "bar",
         "x": [
          "Orgelpredigtzitate je Predigtprozent"
         ],
         "xaxis": "x7",
         "y": [
          100
         ],
         "yaxis": "y7"
        },
        {
         "hovertext": "0 Orgelpredigtzitate im 6%",
         "marker": {
          "color": "rgb(250,250,250)"
         },
         "type": "bar",
         "x": [
          "Orgelpredigtzitate je Predigtprozent"
         ],
         "xaxis": "x7",
         "y": [
          100
         ],
         "yaxis": "y7"
        },
        {
         "hovertext": "0 Orgelpredigtzitate im 7%",
         "marker": {
          "color": "rgb(250,250,250)"
         },
         "type": "bar",
         "x": [
          "Orgelpredigtzitate je Predigtprozent"
         ],
         "xaxis": "x7",
         "y": [
          100
         ],
         "yaxis": "y7"
        },
        {
         "hovertext": "0 Orgelpredigtzitate im 8%",
         "marker": {
          "color": "rgb(250,250,250)"
         },
         "type": "bar",
         "x": [
          "Orgelpredigtzitate je Predigtprozent"
         ],
         "xaxis": "x7",
         "y": [
          100
         ],
         "yaxis": "y7"
        },
        {
         "hovertext": "0 Orgelpredigtzitate im 9%",
         "marker": {
          "color": "rgb(250,250,250)"
         },
         "type": "bar",
         "x": [
          "Orgelpredigtzitate je Predigtprozent"
         ],
         "xaxis": "x7",
         "y": [
          100
         ],
         "yaxis": "y7"
        },
        {
         "hovertext": "0 Orgelpredigtzitate im 10%",
         "marker": {
          "color": "rgb(250,250,250)"
         },
         "type": "bar",
         "x": [
          "Orgelpredigtzitate je Predigtprozent"
         ],
         "xaxis": "x7",
         "y": [
          100
         ],
         "yaxis": "y7"
        },
        {
         "hovertext": "0 Orgelpredigtzitate im 11%",
         "marker": {
          "color": "rgb(250,250,250)"
         },
         "type": "bar",
         "x": [
          "Orgelpredigtzitate je Predigtprozent"
         ],
         "xaxis": "x7",
         "y": [
          100
         ],
         "yaxis": "y7"
        },
        {
         "hovertext": "0 Orgelpredigtzitate im 12%",
         "marker": {
          "color": "rgb(250,250,250)"
         },
         "type": "bar",
         "x": [
          "Orgelpredigtzitate je Predigtprozent"
         ],
         "xaxis": "x7",
         "y": [
          100
         ],
         "yaxis": "y7"
        },
        {
         "hovertext": "0 Orgelpredigtzitate im 13%",
         "marker": {
          "color": "rgb(250,250,250)"
         },
         "type": "bar",
         "x": [
          "Orgelpredigtzitate je Predigtprozent"
         ],
         "xaxis": "x7",
         "y": [
          100
         ],
         "yaxis": "y7"
        },
        {
         "hovertext": "0 Orgelpredigtzitate im 14%",
         "marker": {
          "color": "rgb(250,250,250)"
         },
         "type": "bar",
         "x": [
          "Orgelpredigtzitate je Predigtprozent"
         ],
         "xaxis": "x7",
         "y": [
          100
         ],
         "yaxis": "y7"
        },
        {
         "hovertext": "0 Orgelpredigtzitate im 15%",
         "marker": {
          "color": "rgb(250,250,250)"
         },
         "type": "bar",
         "x": [
          "Orgelpredigtzitate je Predigtprozent"
         ],
         "xaxis": "x7",
         "y": [
          100
         ],
         "yaxis": "y7"
        },
        {
         "hovertext": "0 Orgelpredigtzitate im 16%",
         "marker": {
          "color": "rgb(250,250,250)"
         },
         "type": "bar",
         "x": [
          "Orgelpredigtzitate je Predigtprozent"
         ],
         "xaxis": "x7",
         "y": [
          100
         ],
         "yaxis": "y7"
        },
        {
         "hovertext": "0 Orgelpredigtzitate im 17%",
         "marker": {
          "color": "rgb(250,250,250)"
         },
         "type": "bar",
         "x": [
          "Orgelpredigtzitate je Predigtprozent"
         ],
         "xaxis": "x7",
         "y": [
          100
         ],
         "yaxis": "y7"
        },
        {
         "hovertext": "0 Orgelpredigtzitate im 18%",
         "marker": {
          "color": "rgb(250,250,250)"
         },
         "type": "bar",
         "x": [
          "Orgelpredigtzitate je Predigtprozent"
         ],
         "xaxis": "x7",
         "y": [
          100
         ],
         "yaxis": "y7"
        },
        {
         "hovertext": "0 Orgelpredigtzitate im 19%",
         "marker": {
          "color": "rgb(250,250,250)"
         },
         "type": "bar",
         "x": [
          "Orgelpredigtzitate je Predigtprozent"
         ],
         "xaxis": "x7",
         "y": [
          100
         ],
         "yaxis": "y7"
        },
        {
         "hovertext": "0 Orgelpredigtzitate im 20%",
         "marker": {
          "color": "rgb(250,250,250)"
         },
         "type": "bar",
         "x": [
          "Orgelpredigtzitate je Predigtprozent"
         ],
         "xaxis": "x7",
         "y": [
          100
         ],
         "yaxis": "y7"
        },
        {
         "hovertext": "0 Orgelpredigtzitate im 21%",
         "marker": {
          "color": "rgb(250,250,250)"
         },
         "type": "bar",
         "x": [
          "Orgelpredigtzitate je Predigtprozent"
         ],
         "xaxis": "x7",
         "y": [
          100
         ],
         "yaxis": "y7"
        },
        {
         "hovertext": "0 Orgelpredigtzitate im 22%",
         "marker": {
          "color": "rgb(250,250,250)"
         },
         "type": "bar",
         "x": [
          "Orgelpredigtzitate je Predigtprozent"
         ],
         "xaxis": "x7",
         "y": [
          100
         ],
         "yaxis": "y7"
        },
        {
         "hovertext": "0 Orgelpredigtzitate im 23%",
         "marker": {
          "color": "rgb(250,250,250)"
         },
         "type": "bar",
         "x": [
          "Orgelpredigtzitate je Predigtprozent"
         ],
         "xaxis": "x7",
         "y": [
          100
         ],
         "yaxis": "y7"
        },
        {
         "hovertext": "0 Orgelpredigtzitate im 24%",
         "marker": {
          "color": "rgb(250,250,250)"
         },
         "type": "bar",
         "x": [
          "Orgelpredigtzitate je Predigtprozent"
         ],
         "xaxis": "x7",
         "y": [
          100
         ],
         "yaxis": "y7"
        },
        {
         "hovertext": "0 Orgelpredigtzitate im 25%",
         "marker": {
          "color": "rgb(250,250,250)"
         },
         "type": "bar",
         "x": [
          "Orgelpredigtzitate je Predigtprozent"
         ],
         "xaxis": "x7",
         "y": [
          100
         ],
         "yaxis": "y7"
        },
        {
         "hovertext": "0 Orgelpredigtzitate im 26%",
         "marker": {
          "color": "rgb(250,250,250)"
         },
         "type": "bar",
         "x": [
          "Orgelpredigtzitate je Predigtprozent"
         ],
         "xaxis": "x7",
         "y": [
          100
         ],
         "yaxis": "y7"
        },
        {
         "hovertext": "0 Orgelpredigtzitate im 27%",
         "marker": {
          "color": "rgb(250,250,250)"
         },
         "type": "bar",
         "x": [
          "Orgelpredigtzitate je Predigtprozent"
         ],
         "xaxis": "x7",
         "y": [
          100
         ],
         "yaxis": "y7"
        },
        {
         "hovertext": "0 Orgelpredigtzitate im 28%",
         "marker": {
          "color": "rgb(250,250,250)"
         },
         "type": "bar",
         "x": [
          "Orgelpredigtzitate je Predigtprozent"
         ],
         "xaxis": "x7",
         "y": [
          100
         ],
         "yaxis": "y7"
        },
        {
         "hovertext": "0 Orgelpredigtzitate im 29%",
         "marker": {
          "color": "rgb(250,250,250)"
         },
         "type": "bar",
         "x": [
          "Orgelpredigtzitate je Predigtprozent"
         ],
         "xaxis": "x7",
         "y": [
          100
         ],
         "yaxis": "y7"
        },
        {
         "hovertext": "0 Orgelpredigtzitate im 30%",
         "marker": {
          "color": "rgb(250,250,250)"
         },
         "type": "bar",
         "x": [
          "Orgelpredigtzitate je Predigtprozent"
         ],
         "xaxis": "x7",
         "y": [
          100
         ],
         "yaxis": "y7"
        },
        {
         "hovertext": "0 Orgelpredigtzitate im 31%",
         "marker": {
          "color": "rgb(250,250,250)"
         },
         "type": "bar",
         "x": [
          "Orgelpredigtzitate je Predigtprozent"
         ],
         "xaxis": "x7",
         "y": [
          100
         ],
         "yaxis": "y7"
        },
        {
         "hovertext": "0 Orgelpredigtzitate im 32%",
         "marker": {
          "color": "rgb(250,250,250)"
         },
         "type": "bar",
         "x": [
          "Orgelpredigtzitate je Predigtprozent"
         ],
         "xaxis": "x7",
         "y": [
          100
         ],
         "yaxis": "y7"
        },
        {
         "hovertext": "0 Orgelpredigtzitate im 33%",
         "marker": {
          "color": "rgb(250,250,250)"
         },
         "type": "bar",
         "x": [
          "Orgelpredigtzitate je Predigtprozent"
         ],
         "xaxis": "x7",
         "y": [
          100
         ],
         "yaxis": "y7"
        },
        {
         "hovertext": "0 Orgelpredigtzitate im 34%",
         "marker": {
          "color": "rgb(250,250,250)"
         },
         "type": "bar",
         "x": [
          "Orgelpredigtzitate je Predigtprozent"
         ],
         "xaxis": "x7",
         "y": [
          100
         ],
         "yaxis": "y7"
        },
        {
         "hovertext": "0 Orgelpredigtzitate im 35%",
         "marker": {
          "color": "rgb(250,250,250)"
         },
         "type": "bar",
         "x": [
          "Orgelpredigtzitate je Predigtprozent"
         ],
         "xaxis": "x7",
         "y": [
          100
         ],
         "yaxis": "y7"
        },
        {
         "hovertext": "0 Orgelpredigtzitate im 36%",
         "marker": {
          "color": "rgb(250,250,250)"
         },
         "type": "bar",
         "x": [
          "Orgelpredigtzitate je Predigtprozent"
         ],
         "xaxis": "x7",
         "y": [
          100
         ],
         "yaxis": "y7"
        },
        {
         "hovertext": "0 Orgelpredigtzitate im 37%",
         "marker": {
          "color": "rgb(250,250,250)"
         },
         "type": "bar",
         "x": [
          "Orgelpredigtzitate je Predigtprozent"
         ],
         "xaxis": "x7",
         "y": [
          100
         ],
         "yaxis": "y7"
        },
        {
         "hovertext": "0 Orgelpredigtzitate im 38%",
         "marker": {
          "color": "rgb(250,250,250)"
         },
         "type": "bar",
         "x": [
          "Orgelpredigtzitate je Predigtprozent"
         ],
         "xaxis": "x7",
         "y": [
          100
         ],
         "yaxis": "y7"
        },
        {
         "hovertext": "0 Orgelpredigtzitate im 39%",
         "marker": {
          "color": "rgb(250,250,250)"
         },
         "type": "bar",
         "x": [
          "Orgelpredigtzitate je Predigtprozent"
         ],
         "xaxis": "x7",
         "y": [
          100
         ],
         "yaxis": "y7"
        },
        {
         "hovertext": "0 Orgelpredigtzitate im 40%",
         "marker": {
          "color": "rgb(250,250,250)"
         },
         "type": "bar",
         "x": [
          "Orgelpredigtzitate je Predigtprozent"
         ],
         "xaxis": "x7",
         "y": [
          100
         ],
         "yaxis": "y7"
        },
        {
         "hovertext": "0 Orgelpredigtzitate im 41%",
         "marker": {
          "color": "rgb(250,250,250)"
         },
         "type": "bar",
         "x": [
          "Orgelpredigtzitate je Predigtprozent"
         ],
         "xaxis": "x7",
         "y": [
          100
         ],
         "yaxis": "y7"
        },
        {
         "hovertext": "0 Orgelpredigtzitate im 42%",
         "marker": {
          "color": "rgb(250,250,250)"
         },
         "type": "bar",
         "x": [
          "Orgelpredigtzitate je Predigtprozent"
         ],
         "xaxis": "x7",
         "y": [
          100
         ],
         "yaxis": "y7"
        },
        {
         "hovertext": "0 Orgelpredigtzitate im 43%",
         "marker": {
          "color": "rgb(250,250,250)"
         },
         "type": "bar",
         "x": [
          "Orgelpredigtzitate je Predigtprozent"
         ],
         "xaxis": "x7",
         "y": [
          100
         ],
         "yaxis": "y7"
        },
        {
         "hovertext": "0 Orgelpredigtzitate im 44%",
         "marker": {
          "color": "rgb(250,250,250)"
         },
         "type": "bar",
         "x": [
          "Orgelpredigtzitate je Predigtprozent"
         ],
         "xaxis": "x7",
         "y": [
          100
         ],
         "yaxis": "y7"
        },
        {
         "hovertext": "0 Orgelpredigtzitate im 45%",
         "marker": {
          "color": "rgb(250,250,250)"
         },
         "type": "bar",
         "x": [
          "Orgelpredigtzitate je Predigtprozent"
         ],
         "xaxis": "x7",
         "y": [
          100
         ],
         "yaxis": "y7"
        },
        {
         "hovertext": "0 Orgelpredigtzitate im 46%",
         "marker": {
          "color": "rgb(250,250,250)"
         },
         "type": "bar",
         "x": [
          "Orgelpredigtzitate je Predigtprozent"
         ],
         "xaxis": "x7",
         "y": [
          100
         ],
         "yaxis": "y7"
        },
        {
         "hovertext": "0 Orgelpredigtzitate im 47%",
         "marker": {
          "color": "rgb(250,250,250)"
         },
         "type": "bar",
         "x": [
          "Orgelpredigtzitate je Predigtprozent"
         ],
         "xaxis": "x7",
         "y": [
          100
         ],
         "yaxis": "y7"
        },
        {
         "hovertext": "0 Orgelpredigtzitate im 48%",
         "marker": {
          "color": "rgb(250,250,250)"
         },
         "type": "bar",
         "x": [
          "Orgelpredigtzitate je Predigtprozent"
         ],
         "xaxis": "x7",
         "y": [
          100
         ],
         "yaxis": "y7"
        },
        {
         "hovertext": "0 Orgelpredigtzitate im 49%",
         "marker": {
          "color": "rgb(250,250,250)"
         },
         "type": "bar",
         "x": [
          "Orgelpredigtzitate je Predigtprozent"
         ],
         "xaxis": "x7",
         "y": [
          100
         ],
         "yaxis": "y7"
        },
        {
         "hovertext": "0 Orgelpredigtzitate im 50%",
         "marker": {
          "color": "rgb(250,250,250)"
         },
         "type": "bar",
         "x": [
          "Orgelpredigtzitate je Predigtprozent"
         ],
         "xaxis": "x7",
         "y": [
          100
         ],
         "yaxis": "y7"
        },
        {
         "hovertext": "0 Orgelpredigtzitate im 51%",
         "marker": {
          "color": "rgb(250,250,250)"
         },
         "type": "bar",
         "x": [
          "Orgelpredigtzitate je Predigtprozent"
         ],
         "xaxis": "x7",
         "y": [
          100
         ],
         "yaxis": "y7"
        },
        {
         "hovertext": "0 Orgelpredigtzitate im 52%",
         "marker": {
          "color": "rgb(250,250,250)"
         },
         "type": "bar",
         "x": [
          "Orgelpredigtzitate je Predigtprozent"
         ],
         "xaxis": "x7",
         "y": [
          100
         ],
         "yaxis": "y7"
        },
        {
         "hovertext": "0 Orgelpredigtzitate im 53%",
         "marker": {
          "color": "rgb(250,250,250)"
         },
         "type": "bar",
         "x": [
          "Orgelpredigtzitate je Predigtprozent"
         ],
         "xaxis": "x7",
         "y": [
          100
         ],
         "yaxis": "y7"
        },
        {
         "hovertext": "0 Orgelpredigtzitate im 54%",
         "marker": {
          "color": "rgb(250,250,250)"
         },
         "type": "bar",
         "x": [
          "Orgelpredigtzitate je Predigtprozent"
         ],
         "xaxis": "x7",
         "y": [
          100
         ],
         "yaxis": "y7"
        },
        {
         "hovertext": "0 Orgelpredigtzitate im 55%",
         "marker": {
          "color": "rgb(250,250,250)"
         },
         "type": "bar",
         "x": [
          "Orgelpredigtzitate je Predigtprozent"
         ],
         "xaxis": "x7",
         "y": [
          100
         ],
         "yaxis": "y7"
        },
        {
         "hovertext": "0 Orgelpredigtzitate im 56%",
         "marker": {
          "color": "rgb(250,250,250)"
         },
         "type": "bar",
         "x": [
          "Orgelpredigtzitate je Predigtprozent"
         ],
         "xaxis": "x7",
         "y": [
          100
         ],
         "yaxis": "y7"
        },
        {
         "hovertext": "0 Orgelpredigtzitate im 57%",
         "marker": {
          "color": "rgb(250,250,250)"
         },
         "type": "bar",
         "x": [
          "Orgelpredigtzitate je Predigtprozent"
         ],
         "xaxis": "x7",
         "y": [
          100
         ],
         "yaxis": "y7"
        },
        {
         "hovertext": "0 Orgelpredigtzitate im 58%",
         "marker": {
          "color": "rgb(250,250,250)"
         },
         "type": "bar",
         "x": [
          "Orgelpredigtzitate je Predigtprozent"
         ],
         "xaxis": "x7",
         "y": [
          100
         ],
         "yaxis": "y7"
        },
        {
         "hovertext": "0 Orgelpredigtzitate im 59%",
         "marker": {
          "color": "rgb(250,250,250)"
         },
         "type": "bar",
         "x": [
          "Orgelpredigtzitate je Predigtprozent"
         ],
         "xaxis": "x7",
         "y": [
          100
         ],
         "yaxis": "y7"
        },
        {
         "hovertext": "0 Orgelpredigtzitate im 60%",
         "marker": {
          "color": "rgb(250,250,250)"
         },
         "type": "bar",
         "x": [
          "Orgelpredigtzitate je Predigtprozent"
         ],
         "xaxis": "x7",
         "y": [
          100
         ],
         "yaxis": "y7"
        },
        {
         "hovertext": "0 Orgelpredigtzitate im 61%",
         "marker": {
          "color": "rgb(250,250,250)"
         },
         "type": "bar",
         "x": [
          "Orgelpredigtzitate je Predigtprozent"
         ],
         "xaxis": "x7",
         "y": [
          100
         ],
         "yaxis": "y7"
        },
        {
         "hovertext": "0 Orgelpredigtzitate im 62%",
         "marker": {
          "color": "rgb(250,250,250)"
         },
         "type": "bar",
         "x": [
          "Orgelpredigtzitate je Predigtprozent"
         ],
         "xaxis": "x7",
         "y": [
          100
         ],
         "yaxis": "y7"
        },
        {
         "hovertext": "0 Orgelpredigtzitate im 63%",
         "marker": {
          "color": "rgb(250,250,250)"
         },
         "type": "bar",
         "x": [
          "Orgelpredigtzitate je Predigtprozent"
         ],
         "xaxis": "x7",
         "y": [
          100
         ],
         "yaxis": "y7"
        },
        {
         "hovertext": "0 Orgelpredigtzitate im 64%",
         "marker": {
          "color": "rgb(250,250,250)"
         },
         "type": "bar",
         "x": [
          "Orgelpredigtzitate je Predigtprozent"
         ],
         "xaxis": "x7",
         "y": [
          100
         ],
         "yaxis": "y7"
        },
        {
         "hovertext": "0 Orgelpredigtzitate im 65%",
         "marker": {
          "color": "rgb(250,250,250)"
         },
         "type": "bar",
         "x": [
          "Orgelpredigtzitate je Predigtprozent"
         ],
         "xaxis": "x7",
         "y": [
          100
         ],
         "yaxis": "y7"
        },
        {
         "hovertext": "0 Orgelpredigtzitate im 66%",
         "marker": {
          "color": "rgb(250,250,250)"
         },
         "type": "bar",
         "x": [
          "Orgelpredigtzitate je Predigtprozent"
         ],
         "xaxis": "x7",
         "y": [
          100
         ],
         "yaxis": "y7"
        },
        {
         "hovertext": "0 Orgelpredigtzitate im 67%",
         "marker": {
          "color": "rgb(250,250,250)"
         },
         "type": "bar",
         "x": [
          "Orgelpredigtzitate je Predigtprozent"
         ],
         "xaxis": "x7",
         "y": [
          100
         ],
         "yaxis": "y7"
        },
        {
         "hovertext": "0 Orgelpredigtzitate im 68%",
         "marker": {
          "color": "rgb(250,250,250)"
         },
         "type": "bar",
         "x": [
          "Orgelpredigtzitate je Predigtprozent"
         ],
         "xaxis": "x7",
         "y": [
          100
         ],
         "yaxis": "y7"
        },
        {
         "hovertext": "0 Orgelpredigtzitate im 69%",
         "marker": {
          "color": "rgb(250,250,250)"
         },
         "type": "bar",
         "x": [
          "Orgelpredigtzitate je Predigtprozent"
         ],
         "xaxis": "x7",
         "y": [
          100
         ],
         "yaxis": "y7"
        },
        {
         "hovertext": "0 Orgelpredigtzitate im 70%",
         "marker": {
          "color": "rgb(250,250,250)"
         },
         "type": "bar",
         "x": [
          "Orgelpredigtzitate je Predigtprozent"
         ],
         "xaxis": "x7",
         "y": [
          100
         ],
         "yaxis": "y7"
        },
        {
         "hovertext": "0 Orgelpredigtzitate im 71%",
         "marker": {
          "color": "rgb(250,250,250)"
         },
         "type": "bar",
         "x": [
          "Orgelpredigtzitate je Predigtprozent"
         ],
         "xaxis": "x7",
         "y": [
          100
         ],
         "yaxis": "y7"
        },
        {
         "hovertext": "0 Orgelpredigtzitate im 72%",
         "marker": {
          "color": "rgb(250,250,250)"
         },
         "type": "bar",
         "x": [
          "Orgelpredigtzitate je Predigtprozent"
         ],
         "xaxis": "x7",
         "y": [
          100
         ],
         "yaxis": "y7"
        },
        {
         "hovertext": "0 Orgelpredigtzitate im 73%",
         "marker": {
          "color": "rgb(250,250,250)"
         },
         "type": "bar",
         "x": [
          "Orgelpredigtzitate je Predigtprozent"
         ],
         "xaxis": "x7",
         "y": [
          100
         ],
         "yaxis": "y7"
        },
        {
         "hovertext": "0 Orgelpredigtzitate im 74%",
         "marker": {
          "color": "rgb(250,250,250)"
         },
         "type": "bar",
         "x": [
          "Orgelpredigtzitate je Predigtprozent"
         ],
         "xaxis": "x7",
         "y": [
          100
         ],
         "yaxis": "y7"
        },
        {
         "hovertext": "0 Orgelpredigtzitate im 75%",
         "marker": {
          "color": "rgb(250,250,250)"
         },
         "type": "bar",
         "x": [
          "Orgelpredigtzitate je Predigtprozent"
         ],
         "xaxis": "x7",
         "y": [
          100
         ],
         "yaxis": "y7"
        },
        {
         "hovertext": "0 Orgelpredigtzitate im 76%",
         "marker": {
          "color": "rgb(250,250,250)"
         },
         "type": "bar",
         "x": [
          "Orgelpredigtzitate je Predigtprozent"
         ],
         "xaxis": "x7",
         "y": [
          100
         ],
         "yaxis": "y7"
        },
        {
         "hovertext": "0 Orgelpredigtzitate im 77%",
         "marker": {
          "color": "rgb(250,250,250)"
         },
         "type": "bar",
         "x": [
          "Orgelpredigtzitate je Predigtprozent"
         ],
         "xaxis": "x7",
         "y": [
          100
         ],
         "yaxis": "y7"
        },
        {
         "hovertext": "0 Orgelpredigtzitate im 78%",
         "marker": {
          "color": "rgb(250,250,250)"
         },
         "type": "bar",
         "x": [
          "Orgelpredigtzitate je Predigtprozent"
         ],
         "xaxis": "x7",
         "y": [
          100
         ],
         "yaxis": "y7"
        },
        {
         "hovertext": "0 Orgelpredigtzitate im 79%",
         "marker": {
          "color": "rgb(250,250,250)"
         },
         "type": "bar",
         "x": [
          "Orgelpredigtzitate je Predigtprozent"
         ],
         "xaxis": "x7",
         "y": [
          100
         ],
         "yaxis": "y7"
        },
        {
         "hovertext": "0 Orgelpredigtzitate im 80%",
         "marker": {
          "color": "rgb(250,250,250)"
         },
         "type": "bar",
         "x": [
          "Orgelpredigtzitate je Predigtprozent"
         ],
         "xaxis": "x7",
         "y": [
          100
         ],
         "yaxis": "y7"
        },
        {
         "hovertext": "0 Orgelpredigtzitate im 81%",
         "marker": {
          "color": "rgb(250,250,250)"
         },
         "type": "bar",
         "x": [
          "Orgelpredigtzitate je Predigtprozent"
         ],
         "xaxis": "x7",
         "y": [
          100
         ],
         "yaxis": "y7"
        },
        {
         "hovertext": "0 Orgelpredigtzitate im 82%",
         "marker": {
          "color": "rgb(250,250,250)"
         },
         "type": "bar",
         "x": [
          "Orgelpredigtzitate je Predigtprozent"
         ],
         "xaxis": "x7",
         "y": [
          100
         ],
         "yaxis": "y7"
        },
        {
         "hovertext": "0 Orgelpredigtzitate im 83%",
         "marker": {
          "color": "rgb(250,250,250)"
         },
         "type": "bar",
         "x": [
          "Orgelpredigtzitate je Predigtprozent"
         ],
         "xaxis": "x7",
         "y": [
          100
         ],
         "yaxis": "y7"
        },
        {
         "hovertext": "0 Orgelpredigtzitate im 84%",
         "marker": {
          "color": "rgb(250,250,250)"
         },
         "type": "bar",
         "x": [
          "Orgelpredigtzitate je Predigtprozent"
         ],
         "xaxis": "x7",
         "y": [
          100
         ],
         "yaxis": "y7"
        },
        {
         "hovertext": "0 Orgelpredigtzitate im 85%",
         "marker": {
          "color": "rgb(250,250,250)"
         },
         "type": "bar",
         "x": [
          "Orgelpredigtzitate je Predigtprozent"
         ],
         "xaxis": "x7",
         "y": [
          100
         ],
         "yaxis": "y7"
        },
        {
         "hovertext": "0 Orgelpredigtzitate im 86%",
         "marker": {
          "color": "rgb(250,250,250)"
         },
         "type": "bar",
         "x": [
          "Orgelpredigtzitate je Predigtprozent"
         ],
         "xaxis": "x7",
         "y": [
          100
         ],
         "yaxis": "y7"
        },
        {
         "hovertext": "0 Orgelpredigtzitate im 87%",
         "marker": {
          "color": "rgb(250,250,250)"
         },
         "type": "bar",
         "x": [
          "Orgelpredigtzitate je Predigtprozent"
         ],
         "xaxis": "x7",
         "y": [
          100
         ],
         "yaxis": "y7"
        },
        {
         "hovertext": "0 Orgelpredigtzitate im 88%",
         "marker": {
          "color": "rgb(250,250,250)"
         },
         "type": "bar",
         "x": [
          "Orgelpredigtzitate je Predigtprozent"
         ],
         "xaxis": "x7",
         "y": [
          100
         ],
         "yaxis": "y7"
        },
        {
         "hovertext": "0 Orgelpredigtzitate im 89%",
         "marker": {
          "color": "rgb(250,250,250)"
         },
         "type": "bar",
         "x": [
          "Orgelpredigtzitate je Predigtprozent"
         ],
         "xaxis": "x7",
         "y": [
          100
         ],
         "yaxis": "y7"
        },
        {
         "hovertext": "0 Orgelpredigtzitate im 90%",
         "marker": {
          "color": "rgb(250,250,250)"
         },
         "type": "bar",
         "x": [
          "Orgelpredigtzitate je Predigtprozent"
         ],
         "xaxis": "x7",
         "y": [
          100
         ],
         "yaxis": "y7"
        },
        {
         "hovertext": "0 Orgelpredigtzitate im 91%",
         "marker": {
          "color": "rgb(250,250,250)"
         },
         "type": "bar",
         "x": [
          "Orgelpredigtzitate je Predigtprozent"
         ],
         "xaxis": "x7",
         "y": [
          100
         ],
         "yaxis": "y7"
        },
        {
         "hovertext": "0 Orgelpredigtzitate im 92%",
         "marker": {
          "color": "rgb(250,250,250)"
         },
         "type": "bar",
         "x": [
          "Orgelpredigtzitate je Predigtprozent"
         ],
         "xaxis": "x7",
         "y": [
          100
         ],
         "yaxis": "y7"
        },
        {
         "hovertext": "0 Orgelpredigtzitate im 93%",
         "marker": {
          "color": "rgb(250,250,250)"
         },
         "type": "bar",
         "x": [
          "Orgelpredigtzitate je Predigtprozent"
         ],
         "xaxis": "x7",
         "y": [
          100
         ],
         "yaxis": "y7"
        },
        {
         "hovertext": "0 Orgelpredigtzitate im 94%",
         "marker": {
          "color": "rgb(250,250,250)"
         },
         "type": "bar",
         "x": [
          "Orgelpredigtzitate je Predigtprozent"
         ],
         "xaxis": "x7",
         "y": [
          100
         ],
         "yaxis": "y7"
        },
        {
         "hovertext": "0 Orgelpredigtzitate im 95%",
         "marker": {
          "color": "rgb(250,250,250)"
         },
         "type": "bar",
         "x": [
          "Orgelpredigtzitate je Predigtprozent"
         ],
         "xaxis": "x7",
         "y": [
          100
         ],
         "yaxis": "y7"
        },
        {
         "hovertext": "0 Orgelpredigtzitate im 96%",
         "marker": {
          "color": "rgb(250,250,250)"
         },
         "type": "bar",
         "x": [
          "Orgelpredigtzitate je Predigtprozent"
         ],
         "xaxis": "x7",
         "y": [
          100
         ],
         "yaxis": "y7"
        },
        {
         "hovertext": "0 Orgelpredigtzitate im 97%",
         "marker": {
          "color": "rgb(250,250,250)"
         },
         "type": "bar",
         "x": [
          "Orgelpredigtzitate je Predigtprozent"
         ],
         "xaxis": "x7",
         "y": [
          100
         ],
         "yaxis": "y7"
        },
        {
         "hovertext": "0 Orgelpredigtzitate im 98%",
         "marker": {
          "color": "rgb(250,250,250)"
         },
         "type": "bar",
         "x": [
          "Orgelpredigtzitate je Predigtprozent"
         ],
         "xaxis": "x7",
         "y": [
          100
         ],
         "yaxis": "y7"
        },
        {
         "hovertext": "1 Orgelpredigtzitate im 99%<br>Der Christen gerechte Freude (Breslau 1761)<br>",
         "marker": {
          "color": "rgb(235,235,235)"
         },
         "type": "bar",
         "x": [
          "Orgelpredigtzitate je Predigtprozent"
         ],
         "xaxis": "x7",
         "y": [
          100
         ],
         "yaxis": "y7"
        },
        {
         "hovertext": "0 Orgelpredigtzitate im 100%",
         "marker": {
          "color": "rgb(250,250,250)"
         },
         "type": "bar",
         "x": [
          "Orgelpredigtzitate je Predigtprozent"
         ],
         "xaxis": "x7",
         "y": [
          100
         ],
         "yaxis": "y7"
        },
        {
         "hovertext": "0 Orgelpredigtzitate im 1%",
         "marker": {
          "color": "rgb(250,250,250)"
         },
         "type": "bar",
         "x": [
          "Orgelpredigtzitate je Predigtprozent"
         ],
         "xaxis": "x8",
         "y": [
          100
         ],
         "yaxis": "y8"
        },
        {
         "hovertext": "0 Orgelpredigtzitate im 2%",
         "marker": {
          "color": "rgb(250,250,250)"
         },
         "type": "bar",
         "x": [
          "Orgelpredigtzitate je Predigtprozent"
         ],
         "xaxis": "x8",
         "y": [
          100
         ],
         "yaxis": "y8"
        },
        {
         "hovertext": "0 Orgelpredigtzitate im 3%",
         "marker": {
          "color": "rgb(250,250,250)"
         },
         "type": "bar",
         "x": [
          "Orgelpredigtzitate je Predigtprozent"
         ],
         "xaxis": "x8",
         "y": [
          100
         ],
         "yaxis": "y8"
        },
        {
         "hovertext": "0 Orgelpredigtzitate im 4%",
         "marker": {
          "color": "rgb(250,250,250)"
         },
         "type": "bar",
         "x": [
          "Orgelpredigtzitate je Predigtprozent"
         ],
         "xaxis": "x8",
         "y": [
          100
         ],
         "yaxis": "y8"
        },
        {
         "hovertext": "0 Orgelpredigtzitate im 5%",
         "marker": {
          "color": "rgb(250,250,250)"
         },
         "type": "bar",
         "x": [
          "Orgelpredigtzitate je Predigtprozent"
         ],
         "xaxis": "x8",
         "y": [
          100
         ],
         "yaxis": "y8"
        },
        {
         "hovertext": "0 Orgelpredigtzitate im 6%",
         "marker": {
          "color": "rgb(250,250,250)"
         },
         "type": "bar",
         "x": [
          "Orgelpredigtzitate je Predigtprozent"
         ],
         "xaxis": "x8",
         "y": [
          100
         ],
         "yaxis": "y8"
        },
        {
         "hovertext": "0 Orgelpredigtzitate im 7%",
         "marker": {
          "color": "rgb(250,250,250)"
         },
         "type": "bar",
         "x": [
          "Orgelpredigtzitate je Predigtprozent"
         ],
         "xaxis": "x8",
         "y": [
          100
         ],
         "yaxis": "y8"
        },
        {
         "hovertext": "0 Orgelpredigtzitate im 8%",
         "marker": {
          "color": "rgb(250,250,250)"
         },
         "type": "bar",
         "x": [
          "Orgelpredigtzitate je Predigtprozent"
         ],
         "xaxis": "x8",
         "y": [
          100
         ],
         "yaxis": "y8"
        },
        {
         "hovertext": "0 Orgelpredigtzitate im 9%",
         "marker": {
          "color": "rgb(250,250,250)"
         },
         "type": "bar",
         "x": [
          "Orgelpredigtzitate je Predigtprozent"
         ],
         "xaxis": "x8",
         "y": [
          100
         ],
         "yaxis": "y8"
        },
        {
         "hovertext": "0 Orgelpredigtzitate im 10%",
         "marker": {
          "color": "rgb(250,250,250)"
         },
         "type": "bar",
         "x": [
          "Orgelpredigtzitate je Predigtprozent"
         ],
         "xaxis": "x8",
         "y": [
          100
         ],
         "yaxis": "y8"
        },
        {
         "hovertext": "0 Orgelpredigtzitate im 11%",
         "marker": {
          "color": "rgb(250,250,250)"
         },
         "type": "bar",
         "x": [
          "Orgelpredigtzitate je Predigtprozent"
         ],
         "xaxis": "x8",
         "y": [
          100
         ],
         "yaxis": "y8"
        },
        {
         "hovertext": "0 Orgelpredigtzitate im 12%",
         "marker": {
          "color": "rgb(250,250,250)"
         },
         "type": "bar",
         "x": [
          "Orgelpredigtzitate je Predigtprozent"
         ],
         "xaxis": "x8",
         "y": [
          100
         ],
         "yaxis": "y8"
        },
        {
         "hovertext": "0 Orgelpredigtzitate im 13%",
         "marker": {
          "color": "rgb(250,250,250)"
         },
         "type": "bar",
         "x": [
          "Orgelpredigtzitate je Predigtprozent"
         ],
         "xaxis": "x8",
         "y": [
          100
         ],
         "yaxis": "y8"
        },
        {
         "hovertext": "0 Orgelpredigtzitate im 14%",
         "marker": {
          "color": "rgb(250,250,250)"
         },
         "type": "bar",
         "x": [
          "Orgelpredigtzitate je Predigtprozent"
         ],
         "xaxis": "x8",
         "y": [
          100
         ],
         "yaxis": "y8"
        },
        {
         "hovertext": "0 Orgelpredigtzitate im 15%",
         "marker": {
          "color": "rgb(250,250,250)"
         },
         "type": "bar",
         "x": [
          "Orgelpredigtzitate je Predigtprozent"
         ],
         "xaxis": "x8",
         "y": [
          100
         ],
         "yaxis": "y8"
        },
        {
         "hovertext": "0 Orgelpredigtzitate im 16%",
         "marker": {
          "color": "rgb(250,250,250)"
         },
         "type": "bar",
         "x": [
          "Orgelpredigtzitate je Predigtprozent"
         ],
         "xaxis": "x8",
         "y": [
          100
         ],
         "yaxis": "y8"
        },
        {
         "hovertext": "0 Orgelpredigtzitate im 17%",
         "marker": {
          "color": "rgb(250,250,250)"
         },
         "type": "bar",
         "x": [
          "Orgelpredigtzitate je Predigtprozent"
         ],
         "xaxis": "x8",
         "y": [
          100
         ],
         "yaxis": "y8"
        },
        {
         "hovertext": "0 Orgelpredigtzitate im 18%",
         "marker": {
          "color": "rgb(250,250,250)"
         },
         "type": "bar",
         "x": [
          "Orgelpredigtzitate je Predigtprozent"
         ],
         "xaxis": "x8",
         "y": [
          100
         ],
         "yaxis": "y8"
        },
        {
         "hovertext": "0 Orgelpredigtzitate im 19%",
         "marker": {
          "color": "rgb(250,250,250)"
         },
         "type": "bar",
         "x": [
          "Orgelpredigtzitate je Predigtprozent"
         ],
         "xaxis": "x8",
         "y": [
          100
         ],
         "yaxis": "y8"
        },
        {
         "hovertext": "0 Orgelpredigtzitate im 20%",
         "marker": {
          "color": "rgb(250,250,250)"
         },
         "type": "bar",
         "x": [
          "Orgelpredigtzitate je Predigtprozent"
         ],
         "xaxis": "x8",
         "y": [
          100
         ],
         "yaxis": "y8"
        },
        {
         "hovertext": "0 Orgelpredigtzitate im 21%",
         "marker": {
          "color": "rgb(250,250,250)"
         },
         "type": "bar",
         "x": [
          "Orgelpredigtzitate je Predigtprozent"
         ],
         "xaxis": "x8",
         "y": [
          100
         ],
         "yaxis": "y8"
        },
        {
         "hovertext": "0 Orgelpredigtzitate im 22%",
         "marker": {
          "color": "rgb(250,250,250)"
         },
         "type": "bar",
         "x": [
          "Orgelpredigtzitate je Predigtprozent"
         ],
         "xaxis": "x8",
         "y": [
          100
         ],
         "yaxis": "y8"
        },
        {
         "hovertext": "0 Orgelpredigtzitate im 23%",
         "marker": {
          "color": "rgb(250,250,250)"
         },
         "type": "bar",
         "x": [
          "Orgelpredigtzitate je Predigtprozent"
         ],
         "xaxis": "x8",
         "y": [
          100
         ],
         "yaxis": "y8"
        },
        {
         "hovertext": "0 Orgelpredigtzitate im 24%",
         "marker": {
          "color": "rgb(250,250,250)"
         },
         "type": "bar",
         "x": [
          "Orgelpredigtzitate je Predigtprozent"
         ],
         "xaxis": "x8",
         "y": [
          100
         ],
         "yaxis": "y8"
        },
        {
         "hovertext": "0 Orgelpredigtzitate im 25%",
         "marker": {
          "color": "rgb(250,250,250)"
         },
         "type": "bar",
         "x": [
          "Orgelpredigtzitate je Predigtprozent"
         ],
         "xaxis": "x8",
         "y": [
          100
         ],
         "yaxis": "y8"
        },
        {
         "hovertext": "0 Orgelpredigtzitate im 26%",
         "marker": {
          "color": "rgb(250,250,250)"
         },
         "type": "bar",
         "x": [
          "Orgelpredigtzitate je Predigtprozent"
         ],
         "xaxis": "x8",
         "y": [
          100
         ],
         "yaxis": "y8"
        },
        {
         "hovertext": "0 Orgelpredigtzitate im 27%",
         "marker": {
          "color": "rgb(250,250,250)"
         },
         "type": "bar",
         "x": [
          "Orgelpredigtzitate je Predigtprozent"
         ],
         "xaxis": "x8",
         "y": [
          100
         ],
         "yaxis": "y8"
        },
        {
         "hovertext": "0 Orgelpredigtzitate im 28%",
         "marker": {
          "color": "rgb(250,250,250)"
         },
         "type": "bar",
         "x": [
          "Orgelpredigtzitate je Predigtprozent"
         ],
         "xaxis": "x8",
         "y": [
          100
         ],
         "yaxis": "y8"
        },
        {
         "hovertext": "0 Orgelpredigtzitate im 29%",
         "marker": {
          "color": "rgb(250,250,250)"
         },
         "type": "bar",
         "x": [
          "Orgelpredigtzitate je Predigtprozent"
         ],
         "xaxis": "x8",
         "y": [
          100
         ],
         "yaxis": "y8"
        },
        {
         "hovertext": "0 Orgelpredigtzitate im 30%",
         "marker": {
          "color": "rgb(250,250,250)"
         },
         "type": "bar",
         "x": [
          "Orgelpredigtzitate je Predigtprozent"
         ],
         "xaxis": "x8",
         "y": [
          100
         ],
         "yaxis": "y8"
        },
        {
         "hovertext": "0 Orgelpredigtzitate im 31%",
         "marker": {
          "color": "rgb(250,250,250)"
         },
         "type": "bar",
         "x": [
          "Orgelpredigtzitate je Predigtprozent"
         ],
         "xaxis": "x8",
         "y": [
          100
         ],
         "yaxis": "y8"
        },
        {
         "hovertext": "0 Orgelpredigtzitate im 32%",
         "marker": {
          "color": "rgb(250,250,250)"
         },
         "type": "bar",
         "x": [
          "Orgelpredigtzitate je Predigtprozent"
         ],
         "xaxis": "x8",
         "y": [
          100
         ],
         "yaxis": "y8"
        },
        {
         "hovertext": "0 Orgelpredigtzitate im 33%",
         "marker": {
          "color": "rgb(250,250,250)"
         },
         "type": "bar",
         "x": [
          "Orgelpredigtzitate je Predigtprozent"
         ],
         "xaxis": "x8",
         "y": [
          100
         ],
         "yaxis": "y8"
        },
        {
         "hovertext": "0 Orgelpredigtzitate im 34%",
         "marker": {
          "color": "rgb(250,250,250)"
         },
         "type": "bar",
         "x": [
          "Orgelpredigtzitate je Predigtprozent"
         ],
         "xaxis": "x8",
         "y": [
          100
         ],
         "yaxis": "y8"
        },
        {
         "hovertext": "0 Orgelpredigtzitate im 35%",
         "marker": {
          "color": "rgb(250,250,250)"
         },
         "type": "bar",
         "x": [
          "Orgelpredigtzitate je Predigtprozent"
         ],
         "xaxis": "x8",
         "y": [
          100
         ],
         "yaxis": "y8"
        },
        {
         "hovertext": "0 Orgelpredigtzitate im 36%",
         "marker": {
          "color": "rgb(250,250,250)"
         },
         "type": "bar",
         "x": [
          "Orgelpredigtzitate je Predigtprozent"
         ],
         "xaxis": "x8",
         "y": [
          100
         ],
         "yaxis": "y8"
        },
        {
         "hovertext": "0 Orgelpredigtzitate im 37%",
         "marker": {
          "color": "rgb(250,250,250)"
         },
         "type": "bar",
         "x": [
          "Orgelpredigtzitate je Predigtprozent"
         ],
         "xaxis": "x8",
         "y": [
          100
         ],
         "yaxis": "y8"
        },
        {
         "hovertext": "0 Orgelpredigtzitate im 38%",
         "marker": {
          "color": "rgb(250,250,250)"
         },
         "type": "bar",
         "x": [
          "Orgelpredigtzitate je Predigtprozent"
         ],
         "xaxis": "x8",
         "y": [
          100
         ],
         "yaxis": "y8"
        },
        {
         "hovertext": "0 Orgelpredigtzitate im 39%",
         "marker": {
          "color": "rgb(250,250,250)"
         },
         "type": "bar",
         "x": [
          "Orgelpredigtzitate je Predigtprozent"
         ],
         "xaxis": "x8",
         "y": [
          100
         ],
         "yaxis": "y8"
        },
        {
         "hovertext": "0 Orgelpredigtzitate im 40%",
         "marker": {
          "color": "rgb(250,250,250)"
         },
         "type": "bar",
         "x": [
          "Orgelpredigtzitate je Predigtprozent"
         ],
         "xaxis": "x8",
         "y": [
          100
         ],
         "yaxis": "y8"
        },
        {
         "hovertext": "0 Orgelpredigtzitate im 41%",
         "marker": {
          "color": "rgb(250,250,250)"
         },
         "type": "bar",
         "x": [
          "Orgelpredigtzitate je Predigtprozent"
         ],
         "xaxis": "x8",
         "y": [
          100
         ],
         "yaxis": "y8"
        },
        {
         "hovertext": "0 Orgelpredigtzitate im 42%",
         "marker": {
          "color": "rgb(250,250,250)"
         },
         "type": "bar",
         "x": [
          "Orgelpredigtzitate je Predigtprozent"
         ],
         "xaxis": "x8",
         "y": [
          100
         ],
         "yaxis": "y8"
        },
        {
         "hovertext": "0 Orgelpredigtzitate im 43%",
         "marker": {
          "color": "rgb(250,250,250)"
         },
         "type": "bar",
         "x": [
          "Orgelpredigtzitate je Predigtprozent"
         ],
         "xaxis": "x8",
         "y": [
          100
         ],
         "yaxis": "y8"
        },
        {
         "hovertext": "0 Orgelpredigtzitate im 44%",
         "marker": {
          "color": "rgb(250,250,250)"
         },
         "type": "bar",
         "x": [
          "Orgelpredigtzitate je Predigtprozent"
         ],
         "xaxis": "x8",
         "y": [
          100
         ],
         "yaxis": "y8"
        },
        {
         "hovertext": "0 Orgelpredigtzitate im 45%",
         "marker": {
          "color": "rgb(250,250,250)"
         },
         "type": "bar",
         "x": [
          "Orgelpredigtzitate je Predigtprozent"
         ],
         "xaxis": "x8",
         "y": [
          100
         ],
         "yaxis": "y8"
        },
        {
         "hovertext": "0 Orgelpredigtzitate im 46%",
         "marker": {
          "color": "rgb(250,250,250)"
         },
         "type": "bar",
         "x": [
          "Orgelpredigtzitate je Predigtprozent"
         ],
         "xaxis": "x8",
         "y": [
          100
         ],
         "yaxis": "y8"
        },
        {
         "hovertext": "0 Orgelpredigtzitate im 47%",
         "marker": {
          "color": "rgb(250,250,250)"
         },
         "type": "bar",
         "x": [
          "Orgelpredigtzitate je Predigtprozent"
         ],
         "xaxis": "x8",
         "y": [
          100
         ],
         "yaxis": "y8"
        },
        {
         "hovertext": "0 Orgelpredigtzitate im 48%",
         "marker": {
          "color": "rgb(250,250,250)"
         },
         "type": "bar",
         "x": [
          "Orgelpredigtzitate je Predigtprozent"
         ],
         "xaxis": "x8",
         "y": [
          100
         ],
         "yaxis": "y8"
        },
        {
         "hovertext": "0 Orgelpredigtzitate im 49%",
         "marker": {
          "color": "rgb(250,250,250)"
         },
         "type": "bar",
         "x": [
          "Orgelpredigtzitate je Predigtprozent"
         ],
         "xaxis": "x8",
         "y": [
          100
         ],
         "yaxis": "y8"
        },
        {
         "hovertext": "0 Orgelpredigtzitate im 50%",
         "marker": {
          "color": "rgb(250,250,250)"
         },
         "type": "bar",
         "x": [
          "Orgelpredigtzitate je Predigtprozent"
         ],
         "xaxis": "x8",
         "y": [
          100
         ],
         "yaxis": "y8"
        },
        {
         "hovertext": "0 Orgelpredigtzitate im 51%",
         "marker": {
          "color": "rgb(250,250,250)"
         },
         "type": "bar",
         "x": [
          "Orgelpredigtzitate je Predigtprozent"
         ],
         "xaxis": "x8",
         "y": [
          100
         ],
         "yaxis": "y8"
        },
        {
         "hovertext": "0 Orgelpredigtzitate im 52%",
         "marker": {
          "color": "rgb(250,250,250)"
         },
         "type": "bar",
         "x": [
          "Orgelpredigtzitate je Predigtprozent"
         ],
         "xaxis": "x8",
         "y": [
          100
         ],
         "yaxis": "y8"
        },
        {
         "hovertext": "0 Orgelpredigtzitate im 53%",
         "marker": {
          "color": "rgb(250,250,250)"
         },
         "type": "bar",
         "x": [
          "Orgelpredigtzitate je Predigtprozent"
         ],
         "xaxis": "x8",
         "y": [
          100
         ],
         "yaxis": "y8"
        },
        {
         "hovertext": "0 Orgelpredigtzitate im 54%",
         "marker": {
          "color": "rgb(250,250,250)"
         },
         "type": "bar",
         "x": [
          "Orgelpredigtzitate je Predigtprozent"
         ],
         "xaxis": "x8",
         "y": [
          100
         ],
         "yaxis": "y8"
        },
        {
         "hovertext": "0 Orgelpredigtzitate im 55%",
         "marker": {
          "color": "rgb(250,250,250)"
         },
         "type": "bar",
         "x": [
          "Orgelpredigtzitate je Predigtprozent"
         ],
         "xaxis": "x8",
         "y": [
          100
         ],
         "yaxis": "y8"
        },
        {
         "hovertext": "0 Orgelpredigtzitate im 56%",
         "marker": {
          "color": "rgb(250,250,250)"
         },
         "type": "bar",
         "x": [
          "Orgelpredigtzitate je Predigtprozent"
         ],
         "xaxis": "x8",
         "y": [
          100
         ],
         "yaxis": "y8"
        },
        {
         "hovertext": "0 Orgelpredigtzitate im 57%",
         "marker": {
          "color": "rgb(250,250,250)"
         },
         "type": "bar",
         "x": [
          "Orgelpredigtzitate je Predigtprozent"
         ],
         "xaxis": "x8",
         "y": [
          100
         ],
         "yaxis": "y8"
        },
        {
         "hovertext": "0 Orgelpredigtzitate im 58%",
         "marker": {
          "color": "rgb(250,250,250)"
         },
         "type": "bar",
         "x": [
          "Orgelpredigtzitate je Predigtprozent"
         ],
         "xaxis": "x8",
         "y": [
          100
         ],
         "yaxis": "y8"
        },
        {
         "hovertext": "0 Orgelpredigtzitate im 59%",
         "marker": {
          "color": "rgb(250,250,250)"
         },
         "type": "bar",
         "x": [
          "Orgelpredigtzitate je Predigtprozent"
         ],
         "xaxis": "x8",
         "y": [
          100
         ],
         "yaxis": "y8"
        },
        {
         "hovertext": "0 Orgelpredigtzitate im 60%",
         "marker": {
          "color": "rgb(250,250,250)"
         },
         "type": "bar",
         "x": [
          "Orgelpredigtzitate je Predigtprozent"
         ],
         "xaxis": "x8",
         "y": [
          100
         ],
         "yaxis": "y8"
        },
        {
         "hovertext": "0 Orgelpredigtzitate im 61%",
         "marker": {
          "color": "rgb(250,250,250)"
         },
         "type": "bar",
         "x": [
          "Orgelpredigtzitate je Predigtprozent"
         ],
         "xaxis": "x8",
         "y": [
          100
         ],
         "yaxis": "y8"
        },
        {
         "hovertext": "0 Orgelpredigtzitate im 62%",
         "marker": {
          "color": "rgb(250,250,250)"
         },
         "type": "bar",
         "x": [
          "Orgelpredigtzitate je Predigtprozent"
         ],
         "xaxis": "x8",
         "y": [
          100
         ],
         "yaxis": "y8"
        },
        {
         "hovertext": "0 Orgelpredigtzitate im 63%",
         "marker": {
          "color": "rgb(250,250,250)"
         },
         "type": "bar",
         "x": [
          "Orgelpredigtzitate je Predigtprozent"
         ],
         "xaxis": "x8",
         "y": [
          100
         ],
         "yaxis": "y8"
        },
        {
         "hovertext": "0 Orgelpredigtzitate im 64%",
         "marker": {
          "color": "rgb(250,250,250)"
         },
         "type": "bar",
         "x": [
          "Orgelpredigtzitate je Predigtprozent"
         ],
         "xaxis": "x8",
         "y": [
          100
         ],
         "yaxis": "y8"
        },
        {
         "hovertext": "0 Orgelpredigtzitate im 65%",
         "marker": {
          "color": "rgb(250,250,250)"
         },
         "type": "bar",
         "x": [
          "Orgelpredigtzitate je Predigtprozent"
         ],
         "xaxis": "x8",
         "y": [
          100
         ],
         "yaxis": "y8"
        },
        {
         "hovertext": "0 Orgelpredigtzitate im 66%",
         "marker": {
          "color": "rgb(250,250,250)"
         },
         "type": "bar",
         "x": [
          "Orgelpredigtzitate je Predigtprozent"
         ],
         "xaxis": "x8",
         "y": [
          100
         ],
         "yaxis": "y8"
        },
        {
         "hovertext": "0 Orgelpredigtzitate im 67%",
         "marker": {
          "color": "rgb(250,250,250)"
         },
         "type": "bar",
         "x": [
          "Orgelpredigtzitate je Predigtprozent"
         ],
         "xaxis": "x8",
         "y": [
          100
         ],
         "yaxis": "y8"
        },
        {
         "hovertext": "0 Orgelpredigtzitate im 68%",
         "marker": {
          "color": "rgb(250,250,250)"
         },
         "type": "bar",
         "x": [
          "Orgelpredigtzitate je Predigtprozent"
         ],
         "xaxis": "x8",
         "y": [
          100
         ],
         "yaxis": "y8"
        },
        {
         "hovertext": "0 Orgelpredigtzitate im 69%",
         "marker": {
          "color": "rgb(250,250,250)"
         },
         "type": "bar",
         "x": [
          "Orgelpredigtzitate je Predigtprozent"
         ],
         "xaxis": "x8",
         "y": [
          100
         ],
         "yaxis": "y8"
        },
        {
         "hovertext": "0 Orgelpredigtzitate im 70%",
         "marker": {
          "color": "rgb(250,250,250)"
         },
         "type": "bar",
         "x": [
          "Orgelpredigtzitate je Predigtprozent"
         ],
         "xaxis": "x8",
         "y": [
          100
         ],
         "yaxis": "y8"
        },
        {
         "hovertext": "0 Orgelpredigtzitate im 71%",
         "marker": {
          "color": "rgb(250,250,250)"
         },
         "type": "bar",
         "x": [
          "Orgelpredigtzitate je Predigtprozent"
         ],
         "xaxis": "x8",
         "y": [
          100
         ],
         "yaxis": "y8"
        },
        {
         "hovertext": "0 Orgelpredigtzitate im 72%",
         "marker": {
          "color": "rgb(250,250,250)"
         },
         "type": "bar",
         "x": [
          "Orgelpredigtzitate je Predigtprozent"
         ],
         "xaxis": "x8",
         "y": [
          100
         ],
         "yaxis": "y8"
        },
        {
         "hovertext": "0 Orgelpredigtzitate im 73%",
         "marker": {
          "color": "rgb(250,250,250)"
         },
         "type": "bar",
         "x": [
          "Orgelpredigtzitate je Predigtprozent"
         ],
         "xaxis": "x8",
         "y": [
          100
         ],
         "yaxis": "y8"
        },
        {
         "hovertext": "0 Orgelpredigtzitate im 74%",
         "marker": {
          "color": "rgb(250,250,250)"
         },
         "type": "bar",
         "x": [
          "Orgelpredigtzitate je Predigtprozent"
         ],
         "xaxis": "x8",
         "y": [
          100
         ],
         "yaxis": "y8"
        },
        {
         "hovertext": "0 Orgelpredigtzitate im 75%",
         "marker": {
          "color": "rgb(250,250,250)"
         },
         "type": "bar",
         "x": [
          "Orgelpredigtzitate je Predigtprozent"
         ],
         "xaxis": "x8",
         "y": [
          100
         ],
         "yaxis": "y8"
        },
        {
         "hovertext": "0 Orgelpredigtzitate im 76%",
         "marker": {
          "color": "rgb(250,250,250)"
         },
         "type": "bar",
         "x": [
          "Orgelpredigtzitate je Predigtprozent"
         ],
         "xaxis": "x8",
         "y": [
          100
         ],
         "yaxis": "y8"
        },
        {
         "hovertext": "0 Orgelpredigtzitate im 77%",
         "marker": {
          "color": "rgb(250,250,250)"
         },
         "type": "bar",
         "x": [
          "Orgelpredigtzitate je Predigtprozent"
         ],
         "xaxis": "x8",
         "y": [
          100
         ],
         "yaxis": "y8"
        },
        {
         "hovertext": "0 Orgelpredigtzitate im 78%",
         "marker": {
          "color": "rgb(250,250,250)"
         },
         "type": "bar",
         "x": [
          "Orgelpredigtzitate je Predigtprozent"
         ],
         "xaxis": "x8",
         "y": [
          100
         ],
         "yaxis": "y8"
        },
        {
         "hovertext": "0 Orgelpredigtzitate im 79%",
         "marker": {
          "color": "rgb(250,250,250)"
         },
         "type": "bar",
         "x": [
          "Orgelpredigtzitate je Predigtprozent"
         ],
         "xaxis": "x8",
         "y": [
          100
         ],
         "yaxis": "y8"
        },
        {
         "hovertext": "0 Orgelpredigtzitate im 80%",
         "marker": {
          "color": "rgb(250,250,250)"
         },
         "type": "bar",
         "x": [
          "Orgelpredigtzitate je Predigtprozent"
         ],
         "xaxis": "x8",
         "y": [
          100
         ],
         "yaxis": "y8"
        },
        {
         "hovertext": "0 Orgelpredigtzitate im 81%",
         "marker": {
          "color": "rgb(250,250,250)"
         },
         "type": "bar",
         "x": [
          "Orgelpredigtzitate je Predigtprozent"
         ],
         "xaxis": "x8",
         "y": [
          100
         ],
         "yaxis": "y8"
        },
        {
         "hovertext": "0 Orgelpredigtzitate im 82%",
         "marker": {
          "color": "rgb(250,250,250)"
         },
         "type": "bar",
         "x": [
          "Orgelpredigtzitate je Predigtprozent"
         ],
         "xaxis": "x8",
         "y": [
          100
         ],
         "yaxis": "y8"
        },
        {
         "hovertext": "0 Orgelpredigtzitate im 83%",
         "marker": {
          "color": "rgb(250,250,250)"
         },
         "type": "bar",
         "x": [
          "Orgelpredigtzitate je Predigtprozent"
         ],
         "xaxis": "x8",
         "y": [
          100
         ],
         "yaxis": "y8"
        },
        {
         "hovertext": "0 Orgelpredigtzitate im 84%",
         "marker": {
          "color": "rgb(250,250,250)"
         },
         "type": "bar",
         "x": [
          "Orgelpredigtzitate je Predigtprozent"
         ],
         "xaxis": "x8",
         "y": [
          100
         ],
         "yaxis": "y8"
        },
        {
         "hovertext": "0 Orgelpredigtzitate im 85%",
         "marker": {
          "color": "rgb(250,250,250)"
         },
         "type": "bar",
         "x": [
          "Orgelpredigtzitate je Predigtprozent"
         ],
         "xaxis": "x8",
         "y": [
          100
         ],
         "yaxis": "y8"
        },
        {
         "hovertext": "0 Orgelpredigtzitate im 86%",
         "marker": {
          "color": "rgb(250,250,250)"
         },
         "type": "bar",
         "x": [
          "Orgelpredigtzitate je Predigtprozent"
         ],
         "xaxis": "x8",
         "y": [
          100
         ],
         "yaxis": "y8"
        },
        {
         "hovertext": "0 Orgelpredigtzitate im 87%",
         "marker": {
          "color": "rgb(250,250,250)"
         },
         "type": "bar",
         "x": [
          "Orgelpredigtzitate je Predigtprozent"
         ],
         "xaxis": "x8",
         "y": [
          100
         ],
         "yaxis": "y8"
        },
        {
         "hovertext": "0 Orgelpredigtzitate im 88%",
         "marker": {
          "color": "rgb(250,250,250)"
         },
         "type": "bar",
         "x": [
          "Orgelpredigtzitate je Predigtprozent"
         ],
         "xaxis": "x8",
         "y": [
          100
         ],
         "yaxis": "y8"
        },
        {
         "hovertext": "0 Orgelpredigtzitate im 89%",
         "marker": {
          "color": "rgb(250,250,250)"
         },
         "type": "bar",
         "x": [
          "Orgelpredigtzitate je Predigtprozent"
         ],
         "xaxis": "x8",
         "y": [
          100
         ],
         "yaxis": "y8"
        },
        {
         "hovertext": "0 Orgelpredigtzitate im 90%",
         "marker": {
          "color": "rgb(250,250,250)"
         },
         "type": "bar",
         "x": [
          "Orgelpredigtzitate je Predigtprozent"
         ],
         "xaxis": "x8",
         "y": [
          100
         ],
         "yaxis": "y8"
        },
        {
         "hovertext": "0 Orgelpredigtzitate im 91%",
         "marker": {
          "color": "rgb(250,250,250)"
         },
         "type": "bar",
         "x": [
          "Orgelpredigtzitate je Predigtprozent"
         ],
         "xaxis": "x8",
         "y": [
          100
         ],
         "yaxis": "y8"
        },
        {
         "hovertext": "0 Orgelpredigtzitate im 92%",
         "marker": {
          "color": "rgb(250,250,250)"
         },
         "type": "bar",
         "x": [
          "Orgelpredigtzitate je Predigtprozent"
         ],
         "xaxis": "x8",
         "y": [
          100
         ],
         "yaxis": "y8"
        },
        {
         "hovertext": "0 Orgelpredigtzitate im 93%",
         "marker": {
          "color": "rgb(250,250,250)"
         },
         "type": "bar",
         "x": [
          "Orgelpredigtzitate je Predigtprozent"
         ],
         "xaxis": "x8",
         "y": [
          100
         ],
         "yaxis": "y8"
        },
        {
         "hovertext": "0 Orgelpredigtzitate im 94%",
         "marker": {
          "color": "rgb(250,250,250)"
         },
         "type": "bar",
         "x": [
          "Orgelpredigtzitate je Predigtprozent"
         ],
         "xaxis": "x8",
         "y": [
          100
         ],
         "yaxis": "y8"
        },
        {
         "hovertext": "0 Orgelpredigtzitate im 95%",
         "marker": {
          "color": "rgb(250,250,250)"
         },
         "type": "bar",
         "x": [
          "Orgelpredigtzitate je Predigtprozent"
         ],
         "xaxis": "x8",
         "y": [
          100
         ],
         "yaxis": "y8"
        },
        {
         "hovertext": "0 Orgelpredigtzitate im 96%",
         "marker": {
          "color": "rgb(250,250,250)"
         },
         "type": "bar",
         "x": [
          "Orgelpredigtzitate je Predigtprozent"
         ],
         "xaxis": "x8",
         "y": [
          100
         ],
         "yaxis": "y8"
        },
        {
         "hovertext": "0 Orgelpredigtzitate im 97%",
         "marker": {
          "color": "rgb(250,250,250)"
         },
         "type": "bar",
         "x": [
          "Orgelpredigtzitate je Predigtprozent"
         ],
         "xaxis": "x8",
         "y": [
          100
         ],
         "yaxis": "y8"
        },
        {
         "hovertext": "0 Orgelpredigtzitate im 98%",
         "marker": {
          "color": "rgb(250,250,250)"
         },
         "type": "bar",
         "x": [
          "Orgelpredigtzitate je Predigtprozent"
         ],
         "xaxis": "x8",
         "y": [
          100
         ],
         "yaxis": "y8"
        },
        {
         "hovertext": "0 Orgelpredigtzitate im 99%",
         "marker": {
          "color": "rgb(250,250,250)"
         },
         "type": "bar",
         "x": [
          "Orgelpredigtzitate je Predigtprozent"
         ],
         "xaxis": "x8",
         "y": [
          100
         ],
         "yaxis": "y8"
        },
        {
         "hovertext": "0 Orgelpredigtzitate im 100%",
         "marker": {
          "color": "rgb(250,250,250)"
         },
         "type": "bar",
         "x": [
          "Orgelpredigtzitate je Predigtprozent"
         ],
         "xaxis": "x8",
         "y": [
          100
         ],
         "yaxis": "y8"
        }
       ],
       "layout": {
        "annotations": [
         {
          "font": {
           "size": 16
          },
          "showarrow": false,
          "text": "Verteilung von Orgelpredigtzitaten in Predigten zwischen 1600 und 1625 (6 Predigten)",
          "x": 0.5,
          "xanchor": "center",
          "xref": "paper",
          "y": 1,
          "yanchor": "bottom",
          "yref": "paper"
         },
         {
          "font": {
           "size": 16
          },
          "showarrow": false,
          "text": "Verteilung von Orgelpredigtzitaten in Predigten zwischen 1625 und 1650 (3 Predigten)",
          "x": 0.5,
          "xanchor": "center",
          "xref": "paper",
          "y": 0.8671875,
          "yanchor": "bottom",
          "yref": "paper"
         },
         {
          "font": {
           "size": 16
          },
          "showarrow": false,
          "text": "Verteilung von Orgelpredigtzitaten in Predigten zwischen 1650 und 1675 (9 Predigten)",
          "x": 0.5,
          "xanchor": "center",
          "xref": "paper",
          "y": 0.734375,
          "yanchor": "bottom",
          "yref": "paper"
         },
         {
          "font": {
           "size": 16
          },
          "showarrow": false,
          "text": "Verteilung von Orgelpredigtzitaten in Predigten zwischen 1675 und 1700 (11 Predigten)",
          "x": 0.5,
          "xanchor": "center",
          "xref": "paper",
          "y": 0.6015625,
          "yanchor": "bottom",
          "yref": "paper"
         },
         {
          "font": {
           "size": 16
          },
          "showarrow": false,
          "text": "Verteilung von Orgelpredigtzitaten in Predigten zwischen 1700 und 1725 (10 Predigten)",
          "x": 0.5,
          "xanchor": "center",
          "xref": "paper",
          "y": 0.46875,
          "yanchor": "bottom",
          "yref": "paper"
         },
         {
          "font": {
           "size": 16
          },
          "showarrow": false,
          "text": "Verteilung von Orgelpredigtzitaten in Predigten zwischen 1725 und 1750 (11 Predigten)",
          "x": 0.5,
          "xanchor": "center",
          "xref": "paper",
          "y": 0.3359375,
          "yanchor": "bottom",
          "yref": "paper"
         },
         {
          "font": {
           "size": 16
          },
          "showarrow": false,
          "text": "Verteilung von Orgelpredigtzitaten in Predigten zwischen 1750 und 1775 (7 Predigten)",
          "x": 0.5,
          "xanchor": "center",
          "xref": "paper",
          "y": 0.203125,
          "yanchor": "bottom",
          "yref": "paper"
         },
         {
          "font": {
           "size": 16
          },
          "showarrow": false,
          "text": "Verteilung von Orgelpredigtzitaten in Predigten zwischen 1775 und 1800 (6 Predigten)",
          "x": 0.5,
          "xanchor": "center",
          "xref": "paper",
          "y": 0.0703125,
          "yanchor": "bottom",
          "yref": "paper"
         }
        ],
        "height": 1200,
        "showlegend": false,
        "template": {
         "data": {
          "bar": [
           {
            "error_x": {
             "color": "#2a3f5f"
            },
            "error_y": {
             "color": "#2a3f5f"
            },
            "marker": {
             "line": {
              "color": "#E5ECF6",
              "width": 0.5
             },
             "pattern": {
              "fillmode": "overlay",
              "size": 10,
              "solidity": 0.2
             }
            },
            "type": "bar"
           }
          ],
          "barpolar": [
           {
            "marker": {
             "line": {
              "color": "#E5ECF6",
              "width": 0.5
             },
             "pattern": {
              "fillmode": "overlay",
              "size": 10,
              "solidity": 0.2
             }
            },
            "type": "barpolar"
           }
          ],
          "carpet": [
           {
            "aaxis": {
             "endlinecolor": "#2a3f5f",
             "gridcolor": "white",
             "linecolor": "white",
             "minorgridcolor": "white",
             "startlinecolor": "#2a3f5f"
            },
            "baxis": {
             "endlinecolor": "#2a3f5f",
             "gridcolor": "white",
             "linecolor": "white",
             "minorgridcolor": "white",
             "startlinecolor": "#2a3f5f"
            },
            "type": "carpet"
           }
          ],
          "choropleth": [
           {
            "colorbar": {
             "outlinewidth": 0,
             "ticks": ""
            },
            "type": "choropleth"
           }
          ],
          "contour": [
           {
            "colorbar": {
             "outlinewidth": 0,
             "ticks": ""
            },
            "colorscale": [
             [
              0,
              "#0d0887"
             ],
             [
              0.1111111111111111,
              "#46039f"
             ],
             [
              0.2222222222222222,
              "#7201a8"
             ],
             [
              0.3333333333333333,
              "#9c179e"
             ],
             [
              0.4444444444444444,
              "#bd3786"
             ],
             [
              0.5555555555555556,
              "#d8576b"
             ],
             [
              0.6666666666666666,
              "#ed7953"
             ],
             [
              0.7777777777777778,
              "#fb9f3a"
             ],
             [
              0.8888888888888888,
              "#fdca26"
             ],
             [
              1,
              "#f0f921"
             ]
            ],
            "type": "contour"
           }
          ],
          "contourcarpet": [
           {
            "colorbar": {
             "outlinewidth": 0,
             "ticks": ""
            },
            "type": "contourcarpet"
           }
          ],
          "heatmap": [
           {
            "colorbar": {
             "outlinewidth": 0,
             "ticks": ""
            },
            "colorscale": [
             [
              0,
              "#0d0887"
             ],
             [
              0.1111111111111111,
              "#46039f"
             ],
             [
              0.2222222222222222,
              "#7201a8"
             ],
             [
              0.3333333333333333,
              "#9c179e"
             ],
             [
              0.4444444444444444,
              "#bd3786"
             ],
             [
              0.5555555555555556,
              "#d8576b"
             ],
             [
              0.6666666666666666,
              "#ed7953"
             ],
             [
              0.7777777777777778,
              "#fb9f3a"
             ],
             [
              0.8888888888888888,
              "#fdca26"
             ],
             [
              1,
              "#f0f921"
             ]
            ],
            "type": "heatmap"
           }
          ],
          "histogram": [
           {
            "marker": {
             "pattern": {
              "fillmode": "overlay",
              "size": 10,
              "solidity": 0.2
             }
            },
            "type": "histogram"
           }
          ],
          "histogram2d": [
           {
            "colorbar": {
             "outlinewidth": 0,
             "ticks": ""
            },
            "colorscale": [
             [
              0,
              "#0d0887"
             ],
             [
              0.1111111111111111,
              "#46039f"
             ],
             [
              0.2222222222222222,
              "#7201a8"
             ],
             [
              0.3333333333333333,
              "#9c179e"
             ],
             [
              0.4444444444444444,
              "#bd3786"
             ],
             [
              0.5555555555555556,
              "#d8576b"
             ],
             [
              0.6666666666666666,
              "#ed7953"
             ],
             [
              0.7777777777777778,
              "#fb9f3a"
             ],
             [
              0.8888888888888888,
              "#fdca26"
             ],
             [
              1,
              "#f0f921"
             ]
            ],
            "type": "histogram2d"
           }
          ],
          "histogram2dcontour": [
           {
            "colorbar": {
             "outlinewidth": 0,
             "ticks": ""
            },
            "colorscale": [
             [
              0,
              "#0d0887"
             ],
             [
              0.1111111111111111,
              "#46039f"
             ],
             [
              0.2222222222222222,
              "#7201a8"
             ],
             [
              0.3333333333333333,
              "#9c179e"
             ],
             [
              0.4444444444444444,
              "#bd3786"
             ],
             [
              0.5555555555555556,
              "#d8576b"
             ],
             [
              0.6666666666666666,
              "#ed7953"
             ],
             [
              0.7777777777777778,
              "#fb9f3a"
             ],
             [
              0.8888888888888888,
              "#fdca26"
             ],
             [
              1,
              "#f0f921"
             ]
            ],
            "type": "histogram2dcontour"
           }
          ],
          "mesh3d": [
           {
            "colorbar": {
             "outlinewidth": 0,
             "ticks": ""
            },
            "type": "mesh3d"
           }
          ],
          "parcoords": [
           {
            "line": {
             "colorbar": {
              "outlinewidth": 0,
              "ticks": ""
             }
            },
            "type": "parcoords"
           }
          ],
          "pie": [
           {
            "automargin": true,
            "type": "pie"
           }
          ],
          "scatter": [
           {
            "fillpattern": {
             "fillmode": "overlay",
             "size": 10,
             "solidity": 0.2
            },
            "type": "scatter"
           }
          ],
          "scatter3d": [
           {
            "line": {
             "colorbar": {
              "outlinewidth": 0,
              "ticks": ""
             }
            },
            "marker": {
             "colorbar": {
              "outlinewidth": 0,
              "ticks": ""
             }
            },
            "type": "scatter3d"
           }
          ],
          "scattercarpet": [
           {
            "marker": {
             "colorbar": {
              "outlinewidth": 0,
              "ticks": ""
             }
            },
            "type": "scattercarpet"
           }
          ],
          "scattergeo": [
           {
            "marker": {
             "colorbar": {
              "outlinewidth": 0,
              "ticks": ""
             }
            },
            "type": "scattergeo"
           }
          ],
          "scattergl": [
           {
            "marker": {
             "colorbar": {
              "outlinewidth": 0,
              "ticks": ""
             }
            },
            "type": "scattergl"
           }
          ],
          "scattermap": [
           {
            "marker": {
             "colorbar": {
              "outlinewidth": 0,
              "ticks": ""
             }
            },
            "type": "scattermap"
           }
          ],
          "scattermapbox": [
           {
            "marker": {
             "colorbar": {
              "outlinewidth": 0,
              "ticks": ""
             }
            },
            "type": "scattermapbox"
           }
          ],
          "scatterpolar": [
           {
            "marker": {
             "colorbar": {
              "outlinewidth": 0,
              "ticks": ""
             }
            },
            "type": "scatterpolar"
           }
          ],
          "scatterpolargl": [
           {
            "marker": {
             "colorbar": {
              "outlinewidth": 0,
              "ticks": ""
             }
            },
            "type": "scatterpolargl"
           }
          ],
          "scatterternary": [
           {
            "marker": {
             "colorbar": {
              "outlinewidth": 0,
              "ticks": ""
             }
            },
            "type": "scatterternary"
           }
          ],
          "surface": [
           {
            "colorbar": {
             "outlinewidth": 0,
             "ticks": ""
            },
            "colorscale": [
             [
              0,
              "#0d0887"
             ],
             [
              0.1111111111111111,
              "#46039f"
             ],
             [
              0.2222222222222222,
              "#7201a8"
             ],
             [
              0.3333333333333333,
              "#9c179e"
             ],
             [
              0.4444444444444444,
              "#bd3786"
             ],
             [
              0.5555555555555556,
              "#d8576b"
             ],
             [
              0.6666666666666666,
              "#ed7953"
             ],
             [
              0.7777777777777778,
              "#fb9f3a"
             ],
             [
              0.8888888888888888,
              "#fdca26"
             ],
             [
              1,
              "#f0f921"
             ]
            ],
            "type": "surface"
           }
          ],
          "table": [
           {
            "cells": {
             "fill": {
              "color": "#EBF0F8"
             },
             "line": {
              "color": "white"
             }
            },
            "header": {
             "fill": {
              "color": "#C8D4E3"
             },
             "line": {
              "color": "white"
             }
            },
            "type": "table"
           }
          ]
         },
         "layout": {
          "annotationdefaults": {
           "arrowcolor": "#2a3f5f",
           "arrowhead": 0,
           "arrowwidth": 1
          },
          "autotypenumbers": "strict",
          "coloraxis": {
           "colorbar": {
            "outlinewidth": 0,
            "ticks": ""
           }
          },
          "colorscale": {
           "diverging": [
            [
             0,
             "#8e0152"
            ],
            [
             0.1,
             "#c51b7d"
            ],
            [
             0.2,
             "#de77ae"
            ],
            [
             0.3,
             "#f1b6da"
            ],
            [
             0.4,
             "#fde0ef"
            ],
            [
             0.5,
             "#f7f7f7"
            ],
            [
             0.6,
             "#e6f5d0"
            ],
            [
             0.7,
             "#b8e186"
            ],
            [
             0.8,
             "#7fbc41"
            ],
            [
             0.9,
             "#4d9221"
            ],
            [
             1,
             "#276419"
            ]
           ],
           "sequential": [
            [
             0,
             "#0d0887"
            ],
            [
             0.1111111111111111,
             "#46039f"
            ],
            [
             0.2222222222222222,
             "#7201a8"
            ],
            [
             0.3333333333333333,
             "#9c179e"
            ],
            [
             0.4444444444444444,
             "#bd3786"
            ],
            [
             0.5555555555555556,
             "#d8576b"
            ],
            [
             0.6666666666666666,
             "#ed7953"
            ],
            [
             0.7777777777777778,
             "#fb9f3a"
            ],
            [
             0.8888888888888888,
             "#fdca26"
            ],
            [
             1,
             "#f0f921"
            ]
           ],
           "sequentialminus": [
            [
             0,
             "#0d0887"
            ],
            [
             0.1111111111111111,
             "#46039f"
            ],
            [
             0.2222222222222222,
             "#7201a8"
            ],
            [
             0.3333333333333333,
             "#9c179e"
            ],
            [
             0.4444444444444444,
             "#bd3786"
            ],
            [
             0.5555555555555556,
             "#d8576b"
            ],
            [
             0.6666666666666666,
             "#ed7953"
            ],
            [
             0.7777777777777778,
             "#fb9f3a"
            ],
            [
             0.8888888888888888,
             "#fdca26"
            ],
            [
             1,
             "#f0f921"
            ]
           ]
          },
          "colorway": [
           "#636efa",
           "#EF553B",
           "#00cc96",
           "#ab63fa",
           "#FFA15A",
           "#19d3f3",
           "#FF6692",
           "#B6E880",
           "#FF97FF",
           "#FECB52"
          ],
          "font": {
           "color": "#2a3f5f"
          },
          "geo": {
           "bgcolor": "white",
           "lakecolor": "white",
           "landcolor": "#E5ECF6",
           "showlakes": true,
           "showland": true,
           "subunitcolor": "white"
          },
          "hoverlabel": {
           "align": "left"
          },
          "hovermode": "closest",
          "mapbox": {
           "style": "light"
          },
          "paper_bgcolor": "white",
          "plot_bgcolor": "#E5ECF6",
          "polar": {
           "angularaxis": {
            "gridcolor": "white",
            "linecolor": "white",
            "ticks": ""
           },
           "bgcolor": "#E5ECF6",
           "radialaxis": {
            "gridcolor": "white",
            "linecolor": "white",
            "ticks": ""
           }
          },
          "scene": {
           "xaxis": {
            "backgroundcolor": "#E5ECF6",
            "gridcolor": "white",
            "gridwidth": 2,
            "linecolor": "white",
            "showbackground": true,
            "ticks": "",
            "zerolinecolor": "white"
           },
           "yaxis": {
            "backgroundcolor": "#E5ECF6",
            "gridcolor": "white",
            "gridwidth": 2,
            "linecolor": "white",
            "showbackground": true,
            "ticks": "",
            "zerolinecolor": "white"
           },
           "zaxis": {
            "backgroundcolor": "#E5ECF6",
            "gridcolor": "white",
            "gridwidth": 2,
            "linecolor": "white",
            "showbackground": true,
            "ticks": "",
            "zerolinecolor": "white"
           }
          },
          "shapedefaults": {
           "line": {
            "color": "#2a3f5f"
           }
          },
          "ternary": {
           "aaxis": {
            "gridcolor": "white",
            "linecolor": "white",
            "ticks": ""
           },
           "baxis": {
            "gridcolor": "white",
            "linecolor": "white",
            "ticks": ""
           },
           "bgcolor": "#E5ECF6",
           "caxis": {
            "gridcolor": "white",
            "linecolor": "white",
            "ticks": ""
           }
          },
          "title": {
           "x": 0.05
          },
          "xaxis": {
           "automargin": true,
           "gridcolor": "white",
           "linecolor": "white",
           "ticks": "",
           "title": {
            "standoff": 15
           },
           "zerolinecolor": "white",
           "zerolinewidth": 2
          },
          "yaxis": {
           "automargin": true,
           "gridcolor": "white",
           "linecolor": "white",
           "ticks": "",
           "title": {
            "standoff": 15
           },
           "zerolinecolor": "white",
           "zerolinewidth": 2
          }
         }
        },
        "title": {
         "text": "Akkumulierte Verteilung von Orgelpredigtzitaten in 25-Jahr Intervallen"
        },
        "width": 1000,
        "xaxis": {
         "anchor": "y",
         "domain": [
          0,
          1
         ]
        },
        "xaxis2": {
         "anchor": "y2",
         "domain": [
          0,
          1
         ]
        },
        "xaxis3": {
         "anchor": "y3",
         "domain": [
          0,
          1
         ]
        },
        "xaxis4": {
         "anchor": "y4",
         "domain": [
          0,
          1
         ]
        },
        "xaxis5": {
         "anchor": "y5",
         "domain": [
          0,
          1
         ]
        },
        "xaxis6": {
         "anchor": "y6",
         "domain": [
          0,
          1
         ]
        },
        "xaxis7": {
         "anchor": "y7",
         "domain": [
          0,
          1
         ]
        },
        "xaxis8": {
         "anchor": "y8",
         "domain": [
          0,
          1
         ]
        },
        "yaxis": {
         "anchor": "x",
         "domain": [
          0.9296875,
          1
         ]
        },
        "yaxis2": {
         "anchor": "x2",
         "domain": [
          0.796875,
          0.8671875
         ]
        },
        "yaxis3": {
         "anchor": "x3",
         "domain": [
          0.6640625,
          0.734375
         ]
        },
        "yaxis4": {
         "anchor": "x4",
         "domain": [
          0.53125,
          0.6015625
         ]
        },
        "yaxis5": {
         "anchor": "x5",
         "domain": [
          0.3984375,
          0.46875
         ]
        },
        "yaxis6": {
         "anchor": "x6",
         "domain": [
          0.265625,
          0.3359375
         ]
        },
        "yaxis7": {
         "anchor": "x7",
         "domain": [
          0.1328125,
          0.203125
         ]
        },
        "yaxis8": {
         "anchor": "x8",
         "domain": [
          0,
          0.0703125
         ]
        }
       }
      }
     },
     "metadata": {},
     "output_type": "display_data"
    }
   ],
   "source": [
    "# Create subplots\n",
    "fig = make_subplots(rows=len(figs_25_orgel), \n",
    "                    cols=1, \n",
    "                    subplot_titles=[f\"Verteilung von Orgelpredigtzitaten in Predigten zwischen {1600 + (i*25)} und {1600+(i*25)+25} ({len(sermons_grouped_25[i])} Predigten)\" for i in range(len(figs_25))])\n",
    "\n",
    "# Add traces from each figure to the subplots\n",
    "for i, fig_item in enumerate(figs_25_orgel):\n",
    "    for trace in fig_item.data:\n",
    "        fig.add_trace(trace, row=i+1, col=1)\n",
    "\n",
    "# Update layout\n",
    "fig.update_layout(height=1200, width=1000, showlegend = False)\n",
    "fig.update_layout(title_text=\"Akkumulierte Verteilung von Orgelpredigtzitaten in 25-Jahr Intervallen\")\n",
    "\n",
    "# Show the figure\n",
    "fig.show()"
   ]
  },
  {
   "cell_type": "code",
   "execution_count": 42,
   "id": "ebecd736",
   "metadata": {},
   "outputs": [
    {
     "data": {
      "application/vnd.plotly.v1+json": {
       "config": {
        "plotlyServerURL": "https://plot.ly"
       },
       "data": [
        {
         "hovertext": "0 Orgelpredigtzitate im 1%",
         "marker": {
          "color": "rgb(250,250,250)"
         },
         "type": "bar",
         "x": [
          "Orgelpredigtzitate je Predigtprozent"
         ],
         "xaxis": "x",
         "y": [
          100
         ],
         "yaxis": "y"
        },
        {
         "hovertext": "0 Orgelpredigtzitate im 2%",
         "marker": {
          "color": "rgb(250,250,250)"
         },
         "type": "bar",
         "x": [
          "Orgelpredigtzitate je Predigtprozent"
         ],
         "xaxis": "x",
         "y": [
          100
         ],
         "yaxis": "y"
        },
        {
         "hovertext": "0 Orgelpredigtzitate im 3%",
         "marker": {
          "color": "rgb(250,250,250)"
         },
         "type": "bar",
         "x": [
          "Orgelpredigtzitate je Predigtprozent"
         ],
         "xaxis": "x",
         "y": [
          100
         ],
         "yaxis": "y"
        },
        {
         "hovertext": "0 Orgelpredigtzitate im 4%",
         "marker": {
          "color": "rgb(250,250,250)"
         },
         "type": "bar",
         "x": [
          "Orgelpredigtzitate je Predigtprozent"
         ],
         "xaxis": "x",
         "y": [
          100
         ],
         "yaxis": "y"
        },
        {
         "hovertext": "0 Orgelpredigtzitate im 5%",
         "marker": {
          "color": "rgb(250,250,250)"
         },
         "type": "bar",
         "x": [
          "Orgelpredigtzitate je Predigtprozent"
         ],
         "xaxis": "x",
         "y": [
          100
         ],
         "yaxis": "y"
        },
        {
         "hovertext": "0 Orgelpredigtzitate im 6%",
         "marker": {
          "color": "rgb(250,250,250)"
         },
         "type": "bar",
         "x": [
          "Orgelpredigtzitate je Predigtprozent"
         ],
         "xaxis": "x",
         "y": [
          100
         ],
         "yaxis": "y"
        },
        {
         "hovertext": "0 Orgelpredigtzitate im 7%",
         "marker": {
          "color": "rgb(250,250,250)"
         },
         "type": "bar",
         "x": [
          "Orgelpredigtzitate je Predigtprozent"
         ],
         "xaxis": "x",
         "y": [
          100
         ],
         "yaxis": "y"
        },
        {
         "hovertext": "0 Orgelpredigtzitate im 8%",
         "marker": {
          "color": "rgb(250,250,250)"
         },
         "type": "bar",
         "x": [
          "Orgelpredigtzitate je Predigtprozent"
         ],
         "xaxis": "x",
         "y": [
          100
         ],
         "yaxis": "y"
        },
        {
         "hovertext": "0 Orgelpredigtzitate im 9%",
         "marker": {
          "color": "rgb(250,250,250)"
         },
         "type": "bar",
         "x": [
          "Orgelpredigtzitate je Predigtprozent"
         ],
         "xaxis": "x",
         "y": [
          100
         ],
         "yaxis": "y"
        },
        {
         "hovertext": "0 Orgelpredigtzitate im 10%",
         "marker": {
          "color": "rgb(250,250,250)"
         },
         "type": "bar",
         "x": [
          "Orgelpredigtzitate je Predigtprozent"
         ],
         "xaxis": "x",
         "y": [
          100
         ],
         "yaxis": "y"
        },
        {
         "hovertext": "0 Orgelpredigtzitate im 11%",
         "marker": {
          "color": "rgb(250,250,250)"
         },
         "type": "bar",
         "x": [
          "Orgelpredigtzitate je Predigtprozent"
         ],
         "xaxis": "x",
         "y": [
          100
         ],
         "yaxis": "y"
        },
        {
         "hovertext": "0 Orgelpredigtzitate im 12%",
         "marker": {
          "color": "rgb(250,250,250)"
         },
         "type": "bar",
         "x": [
          "Orgelpredigtzitate je Predigtprozent"
         ],
         "xaxis": "x",
         "y": [
          100
         ],
         "yaxis": "y"
        },
        {
         "hovertext": "0 Orgelpredigtzitate im 13%",
         "marker": {
          "color": "rgb(250,250,250)"
         },
         "type": "bar",
         "x": [
          "Orgelpredigtzitate je Predigtprozent"
         ],
         "xaxis": "x",
         "y": [
          100
         ],
         "yaxis": "y"
        },
        {
         "hovertext": "0 Orgelpredigtzitate im 14%",
         "marker": {
          "color": "rgb(250,250,250)"
         },
         "type": "bar",
         "x": [
          "Orgelpredigtzitate je Predigtprozent"
         ],
         "xaxis": "x",
         "y": [
          100
         ],
         "yaxis": "y"
        },
        {
         "hovertext": "0 Orgelpredigtzitate im 15%",
         "marker": {
          "color": "rgb(250,250,250)"
         },
         "type": "bar",
         "x": [
          "Orgelpredigtzitate je Predigtprozent"
         ],
         "xaxis": "x",
         "y": [
          100
         ],
         "yaxis": "y"
        },
        {
         "hovertext": "0 Orgelpredigtzitate im 16%",
         "marker": {
          "color": "rgb(250,250,250)"
         },
         "type": "bar",
         "x": [
          "Orgelpredigtzitate je Predigtprozent"
         ],
         "xaxis": "x",
         "y": [
          100
         ],
         "yaxis": "y"
        },
        {
         "hovertext": "0 Orgelpredigtzitate im 17%",
         "marker": {
          "color": "rgb(250,250,250)"
         },
         "type": "bar",
         "x": [
          "Orgelpredigtzitate je Predigtprozent"
         ],
         "xaxis": "x",
         "y": [
          100
         ],
         "yaxis": "y"
        },
        {
         "hovertext": "0 Orgelpredigtzitate im 18%",
         "marker": {
          "color": "rgb(250,250,250)"
         },
         "type": "bar",
         "x": [
          "Orgelpredigtzitate je Predigtprozent"
         ],
         "xaxis": "x",
         "y": [
          100
         ],
         "yaxis": "y"
        },
        {
         "hovertext": "0 Orgelpredigtzitate im 19%",
         "marker": {
          "color": "rgb(250,250,250)"
         },
         "type": "bar",
         "x": [
          "Orgelpredigtzitate je Predigtprozent"
         ],
         "xaxis": "x",
         "y": [
          100
         ],
         "yaxis": "y"
        },
        {
         "hovertext": "0 Orgelpredigtzitate im 20%",
         "marker": {
          "color": "rgb(250,250,250)"
         },
         "type": "bar",
         "x": [
          "Orgelpredigtzitate je Predigtprozent"
         ],
         "xaxis": "x",
         "y": [
          100
         ],
         "yaxis": "y"
        },
        {
         "hovertext": "0 Orgelpredigtzitate im 21%",
         "marker": {
          "color": "rgb(250,250,250)"
         },
         "type": "bar",
         "x": [
          "Orgelpredigtzitate je Predigtprozent"
         ],
         "xaxis": "x",
         "y": [
          100
         ],
         "yaxis": "y"
        },
        {
         "hovertext": "0 Orgelpredigtzitate im 22%",
         "marker": {
          "color": "rgb(250,250,250)"
         },
         "type": "bar",
         "x": [
          "Orgelpredigtzitate je Predigtprozent"
         ],
         "xaxis": "x",
         "y": [
          100
         ],
         "yaxis": "y"
        },
        {
         "hovertext": "0 Orgelpredigtzitate im 23%",
         "marker": {
          "color": "rgb(250,250,250)"
         },
         "type": "bar",
         "x": [
          "Orgelpredigtzitate je Predigtprozent"
         ],
         "xaxis": "x",
         "y": [
          100
         ],
         "yaxis": "y"
        },
        {
         "hovertext": "0 Orgelpredigtzitate im 24%",
         "marker": {
          "color": "rgb(250,250,250)"
         },
         "type": "bar",
         "x": [
          "Orgelpredigtzitate je Predigtprozent"
         ],
         "xaxis": "x",
         "y": [
          100
         ],
         "yaxis": "y"
        },
        {
         "hovertext": "0 Orgelpredigtzitate im 25%",
         "marker": {
          "color": "rgb(250,250,250)"
         },
         "type": "bar",
         "x": [
          "Orgelpredigtzitate je Predigtprozent"
         ],
         "xaxis": "x",
         "y": [
          100
         ],
         "yaxis": "y"
        },
        {
         "hovertext": "0 Orgelpredigtzitate im 26%",
         "marker": {
          "color": "rgb(250,250,250)"
         },
         "type": "bar",
         "x": [
          "Orgelpredigtzitate je Predigtprozent"
         ],
         "xaxis": "x",
         "y": [
          100
         ],
         "yaxis": "y"
        },
        {
         "hovertext": "0 Orgelpredigtzitate im 27%",
         "marker": {
          "color": "rgb(250,250,250)"
         },
         "type": "bar",
         "x": [
          "Orgelpredigtzitate je Predigtprozent"
         ],
         "xaxis": "x",
         "y": [
          100
         ],
         "yaxis": "y"
        },
        {
         "hovertext": "0 Orgelpredigtzitate im 28%",
         "marker": {
          "color": "rgb(250,250,250)"
         },
         "type": "bar",
         "x": [
          "Orgelpredigtzitate je Predigtprozent"
         ],
         "xaxis": "x",
         "y": [
          100
         ],
         "yaxis": "y"
        },
        {
         "hovertext": "0 Orgelpredigtzitate im 29%",
         "marker": {
          "color": "rgb(250,250,250)"
         },
         "type": "bar",
         "x": [
          "Orgelpredigtzitate je Predigtprozent"
         ],
         "xaxis": "x",
         "y": [
          100
         ],
         "yaxis": "y"
        },
        {
         "hovertext": "0 Orgelpredigtzitate im 30%",
         "marker": {
          "color": "rgb(250,250,250)"
         },
         "type": "bar",
         "x": [
          "Orgelpredigtzitate je Predigtprozent"
         ],
         "xaxis": "x",
         "y": [
          100
         ],
         "yaxis": "y"
        },
        {
         "hovertext": "0 Orgelpredigtzitate im 31%",
         "marker": {
          "color": "rgb(250,250,250)"
         },
         "type": "bar",
         "x": [
          "Orgelpredigtzitate je Predigtprozent"
         ],
         "xaxis": "x",
         "y": [
          100
         ],
         "yaxis": "y"
        },
        {
         "hovertext": "0 Orgelpredigtzitate im 32%",
         "marker": {
          "color": "rgb(250,250,250)"
         },
         "type": "bar",
         "x": [
          "Orgelpredigtzitate je Predigtprozent"
         ],
         "xaxis": "x",
         "y": [
          100
         ],
         "yaxis": "y"
        },
        {
         "hovertext": "0 Orgelpredigtzitate im 33%",
         "marker": {
          "color": "rgb(250,250,250)"
         },
         "type": "bar",
         "x": [
          "Orgelpredigtzitate je Predigtprozent"
         ],
         "xaxis": "x",
         "y": [
          100
         ],
         "yaxis": "y"
        },
        {
         "hovertext": "0 Orgelpredigtzitate im 34%",
         "marker": {
          "color": "rgb(250,250,250)"
         },
         "type": "bar",
         "x": [
          "Orgelpredigtzitate je Predigtprozent"
         ],
         "xaxis": "x",
         "y": [
          100
         ],
         "yaxis": "y"
        },
        {
         "hovertext": "0 Orgelpredigtzitate im 35%",
         "marker": {
          "color": "rgb(250,250,250)"
         },
         "type": "bar",
         "x": [
          "Orgelpredigtzitate je Predigtprozent"
         ],
         "xaxis": "x",
         "y": [
          100
         ],
         "yaxis": "y"
        },
        {
         "hovertext": "0 Orgelpredigtzitate im 36%",
         "marker": {
          "color": "rgb(250,250,250)"
         },
         "type": "bar",
         "x": [
          "Orgelpredigtzitate je Predigtprozent"
         ],
         "xaxis": "x",
         "y": [
          100
         ],
         "yaxis": "y"
        },
        {
         "hovertext": "0 Orgelpredigtzitate im 37%",
         "marker": {
          "color": "rgb(250,250,250)"
         },
         "type": "bar",
         "x": [
          "Orgelpredigtzitate je Predigtprozent"
         ],
         "xaxis": "x",
         "y": [
          100
         ],
         "yaxis": "y"
        },
        {
         "hovertext": "0 Orgelpredigtzitate im 38%",
         "marker": {
          "color": "rgb(250,250,250)"
         },
         "type": "bar",
         "x": [
          "Orgelpredigtzitate je Predigtprozent"
         ],
         "xaxis": "x",
         "y": [
          100
         ],
         "yaxis": "y"
        },
        {
         "hovertext": "0 Orgelpredigtzitate im 39%",
         "marker": {
          "color": "rgb(250,250,250)"
         },
         "type": "bar",
         "x": [
          "Orgelpredigtzitate je Predigtprozent"
         ],
         "xaxis": "x",
         "y": [
          100
         ],
         "yaxis": "y"
        },
        {
         "hovertext": "0 Orgelpredigtzitate im 40%",
         "marker": {
          "color": "rgb(250,250,250)"
         },
         "type": "bar",
         "x": [
          "Orgelpredigtzitate je Predigtprozent"
         ],
         "xaxis": "x",
         "y": [
          100
         ],
         "yaxis": "y"
        },
        {
         "hovertext": "0 Orgelpredigtzitate im 41%",
         "marker": {
          "color": "rgb(250,250,250)"
         },
         "type": "bar",
         "x": [
          "Orgelpredigtzitate je Predigtprozent"
         ],
         "xaxis": "x",
         "y": [
          100
         ],
         "yaxis": "y"
        },
        {
         "hovertext": "0 Orgelpredigtzitate im 42%",
         "marker": {
          "color": "rgb(250,250,250)"
         },
         "type": "bar",
         "x": [
          "Orgelpredigtzitate je Predigtprozent"
         ],
         "xaxis": "x",
         "y": [
          100
         ],
         "yaxis": "y"
        },
        {
         "hovertext": "0 Orgelpredigtzitate im 43%",
         "marker": {
          "color": "rgb(250,250,250)"
         },
         "type": "bar",
         "x": [
          "Orgelpredigtzitate je Predigtprozent"
         ],
         "xaxis": "x",
         "y": [
          100
         ],
         "yaxis": "y"
        },
        {
         "hovertext": "0 Orgelpredigtzitate im 44%",
         "marker": {
          "color": "rgb(250,250,250)"
         },
         "type": "bar",
         "x": [
          "Orgelpredigtzitate je Predigtprozent"
         ],
         "xaxis": "x",
         "y": [
          100
         ],
         "yaxis": "y"
        },
        {
         "hovertext": "0 Orgelpredigtzitate im 45%",
         "marker": {
          "color": "rgb(250,250,250)"
         },
         "type": "bar",
         "x": [
          "Orgelpredigtzitate je Predigtprozent"
         ],
         "xaxis": "x",
         "y": [
          100
         ],
         "yaxis": "y"
        },
        {
         "hovertext": "0 Orgelpredigtzitate im 46%",
         "marker": {
          "color": "rgb(250,250,250)"
         },
         "type": "bar",
         "x": [
          "Orgelpredigtzitate je Predigtprozent"
         ],
         "xaxis": "x",
         "y": [
          100
         ],
         "yaxis": "y"
        },
        {
         "hovertext": "0 Orgelpredigtzitate im 47%",
         "marker": {
          "color": "rgb(250,250,250)"
         },
         "type": "bar",
         "x": [
          "Orgelpredigtzitate je Predigtprozent"
         ],
         "xaxis": "x",
         "y": [
          100
         ],
         "yaxis": "y"
        },
        {
         "hovertext": "0 Orgelpredigtzitate im 48%",
         "marker": {
          "color": "rgb(250,250,250)"
         },
         "type": "bar",
         "x": [
          "Orgelpredigtzitate je Predigtprozent"
         ],
         "xaxis": "x",
         "y": [
          100
         ],
         "yaxis": "y"
        },
        {
         "hovertext": "0 Orgelpredigtzitate im 49%",
         "marker": {
          "color": "rgb(250,250,250)"
         },
         "type": "bar",
         "x": [
          "Orgelpredigtzitate je Predigtprozent"
         ],
         "xaxis": "x",
         "y": [
          100
         ],
         "yaxis": "y"
        },
        {
         "hovertext": "1 Orgelpredigtzitate im 50%<br>Längst=gewüntzschte Mittweidische Orgel=Freude (Dresden 1648)<br>",
         "marker": {
          "color": "rgb(235,235,235)"
         },
         "type": "bar",
         "x": [
          "Orgelpredigtzitate je Predigtprozent"
         ],
         "xaxis": "x",
         "y": [
          100
         ],
         "yaxis": "y"
        },
        {
         "hovertext": "1 Orgelpredigtzitate im 51%<br>Längst=gewüntzschte Mittweidische Orgel=Freude (Dresden 1648)<br>",
         "marker": {
          "color": "rgb(235,235,235)"
         },
         "type": "bar",
         "x": [
          "Orgelpredigtzitate je Predigtprozent"
         ],
         "xaxis": "x",
         "y": [
          100
         ],
         "yaxis": "y"
        },
        {
         "hovertext": "0 Orgelpredigtzitate im 52%",
         "marker": {
          "color": "rgb(250,250,250)"
         },
         "type": "bar",
         "x": [
          "Orgelpredigtzitate je Predigtprozent"
         ],
         "xaxis": "x",
         "y": [
          100
         ],
         "yaxis": "y"
        },
        {
         "hovertext": "0 Orgelpredigtzitate im 53%",
         "marker": {
          "color": "rgb(250,250,250)"
         },
         "type": "bar",
         "x": [
          "Orgelpredigtzitate je Predigtprozent"
         ],
         "xaxis": "x",
         "y": [
          100
         ],
         "yaxis": "y"
        },
        {
         "hovertext": "0 Orgelpredigtzitate im 54%",
         "marker": {
          "color": "rgb(250,250,250)"
         },
         "type": "bar",
         "x": [
          "Orgelpredigtzitate je Predigtprozent"
         ],
         "xaxis": "x",
         "y": [
          100
         ],
         "yaxis": "y"
        },
        {
         "hovertext": "0 Orgelpredigtzitate im 55%",
         "marker": {
          "color": "rgb(250,250,250)"
         },
         "type": "bar",
         "x": [
          "Orgelpredigtzitate je Predigtprozent"
         ],
         "xaxis": "x",
         "y": [
          100
         ],
         "yaxis": "y"
        },
        {
         "hovertext": "0 Orgelpredigtzitate im 56%",
         "marker": {
          "color": "rgb(250,250,250)"
         },
         "type": "bar",
         "x": [
          "Orgelpredigtzitate je Predigtprozent"
         ],
         "xaxis": "x",
         "y": [
          100
         ],
         "yaxis": "y"
        },
        {
         "hovertext": "0 Orgelpredigtzitate im 57%",
         "marker": {
          "color": "rgb(250,250,250)"
         },
         "type": "bar",
         "x": [
          "Orgelpredigtzitate je Predigtprozent"
         ],
         "xaxis": "x",
         "y": [
          100
         ],
         "yaxis": "y"
        },
        {
         "hovertext": "0 Orgelpredigtzitate im 58%",
         "marker": {
          "color": "rgb(250,250,250)"
         },
         "type": "bar",
         "x": [
          "Orgelpredigtzitate je Predigtprozent"
         ],
         "xaxis": "x",
         "y": [
          100
         ],
         "yaxis": "y"
        },
        {
         "hovertext": "0 Orgelpredigtzitate im 59%",
         "marker": {
          "color": "rgb(250,250,250)"
         },
         "type": "bar",
         "x": [
          "Orgelpredigtzitate je Predigtprozent"
         ],
         "xaxis": "x",
         "y": [
          100
         ],
         "yaxis": "y"
        },
        {
         "hovertext": "0 Orgelpredigtzitate im 60%",
         "marker": {
          "color": "rgb(250,250,250)"
         },
         "type": "bar",
         "x": [
          "Orgelpredigtzitate je Predigtprozent"
         ],
         "xaxis": "x",
         "y": [
          100
         ],
         "yaxis": "y"
        },
        {
         "hovertext": "0 Orgelpredigtzitate im 61%",
         "marker": {
          "color": "rgb(250,250,250)"
         },
         "type": "bar",
         "x": [
          "Orgelpredigtzitate je Predigtprozent"
         ],
         "xaxis": "x",
         "y": [
          100
         ],
         "yaxis": "y"
        },
        {
         "hovertext": "0 Orgelpredigtzitate im 62%",
         "marker": {
          "color": "rgb(250,250,250)"
         },
         "type": "bar",
         "x": [
          "Orgelpredigtzitate je Predigtprozent"
         ],
         "xaxis": "x",
         "y": [
          100
         ],
         "yaxis": "y"
        },
        {
         "hovertext": "0 Orgelpredigtzitate im 63%",
         "marker": {
          "color": "rgb(250,250,250)"
         },
         "type": "bar",
         "x": [
          "Orgelpredigtzitate je Predigtprozent"
         ],
         "xaxis": "x",
         "y": [
          100
         ],
         "yaxis": "y"
        },
        {
         "hovertext": "0 Orgelpredigtzitate im 64%",
         "marker": {
          "color": "rgb(250,250,250)"
         },
         "type": "bar",
         "x": [
          "Orgelpredigtzitate je Predigtprozent"
         ],
         "xaxis": "x",
         "y": [
          100
         ],
         "yaxis": "y"
        },
        {
         "hovertext": "1 Orgelpredigtzitate im 65%<br>Kostbare Bosische Orgel (Zwickau 1647)<br>",
         "marker": {
          "color": "rgb(235,235,235)"
         },
         "type": "bar",
         "x": [
          "Orgelpredigtzitate je Predigtprozent"
         ],
         "xaxis": "x",
         "y": [
          100
         ],
         "yaxis": "y"
        },
        {
         "hovertext": "1 Orgelpredigtzitate im 66%<br>Kostbare Bosische Orgel (Zwickau 1647)<br>",
         "marker": {
          "color": "rgb(235,235,235)"
         },
         "type": "bar",
         "x": [
          "Orgelpredigtzitate je Predigtprozent"
         ],
         "xaxis": "x",
         "y": [
          100
         ],
         "yaxis": "y"
        },
        {
         "hovertext": "0 Orgelpredigtzitate im 67%",
         "marker": {
          "color": "rgb(250,250,250)"
         },
         "type": "bar",
         "x": [
          "Orgelpredigtzitate je Predigtprozent"
         ],
         "xaxis": "x",
         "y": [
          100
         ],
         "yaxis": "y"
        },
        {
         "hovertext": "0 Orgelpredigtzitate im 68%",
         "marker": {
          "color": "rgb(250,250,250)"
         },
         "type": "bar",
         "x": [
          "Orgelpredigtzitate je Predigtprozent"
         ],
         "xaxis": "x",
         "y": [
          100
         ],
         "yaxis": "y"
        },
        {
         "hovertext": "0 Orgelpredigtzitate im 69%",
         "marker": {
          "color": "rgb(250,250,250)"
         },
         "type": "bar",
         "x": [
          "Orgelpredigtzitate je Predigtprozent"
         ],
         "xaxis": "x",
         "y": [
          100
         ],
         "yaxis": "y"
        },
        {
         "hovertext": "0 Orgelpredigtzitate im 70%",
         "marker": {
          "color": "rgb(250,250,250)"
         },
         "type": "bar",
         "x": [
          "Orgelpredigtzitate je Predigtprozent"
         ],
         "xaxis": "x",
         "y": [
          100
         ],
         "yaxis": "y"
        },
        {
         "hovertext": "0 Orgelpredigtzitate im 71%",
         "marker": {
          "color": "rgb(250,250,250)"
         },
         "type": "bar",
         "x": [
          "Orgelpredigtzitate je Predigtprozent"
         ],
         "xaxis": "x",
         "y": [
          100
         ],
         "yaxis": "y"
        },
        {
         "hovertext": "0 Orgelpredigtzitate im 72%",
         "marker": {
          "color": "rgb(250,250,250)"
         },
         "type": "bar",
         "x": [
          "Orgelpredigtzitate je Predigtprozent"
         ],
         "xaxis": "x",
         "y": [
          100
         ],
         "yaxis": "y"
        },
        {
         "hovertext": "0 Orgelpredigtzitate im 73%",
         "marker": {
          "color": "rgb(250,250,250)"
         },
         "type": "bar",
         "x": [
          "Orgelpredigtzitate je Predigtprozent"
         ],
         "xaxis": "x",
         "y": [
          100
         ],
         "yaxis": "y"
        },
        {
         "hovertext": "0 Orgelpredigtzitate im 74%",
         "marker": {
          "color": "rgb(250,250,250)"
         },
         "type": "bar",
         "x": [
          "Orgelpredigtzitate je Predigtprozent"
         ],
         "xaxis": "x",
         "y": [
          100
         ],
         "yaxis": "y"
        },
        {
         "hovertext": "0 Orgelpredigtzitate im 75%",
         "marker": {
          "color": "rgb(250,250,250)"
         },
         "type": "bar",
         "x": [
          "Orgelpredigtzitate je Predigtprozent"
         ],
         "xaxis": "x",
         "y": [
          100
         ],
         "yaxis": "y"
        },
        {
         "hovertext": "0 Orgelpredigtzitate im 76%",
         "marker": {
          "color": "rgb(250,250,250)"
         },
         "type": "bar",
         "x": [
          "Orgelpredigtzitate je Predigtprozent"
         ],
         "xaxis": "x",
         "y": [
          100
         ],
         "yaxis": "y"
        },
        {
         "hovertext": "0 Orgelpredigtzitate im 77%",
         "marker": {
          "color": "rgb(250,250,250)"
         },
         "type": "bar",
         "x": [
          "Orgelpredigtzitate je Predigtprozent"
         ],
         "xaxis": "x",
         "y": [
          100
         ],
         "yaxis": "y"
        },
        {
         "hovertext": "0 Orgelpredigtzitate im 78%",
         "marker": {
          "color": "rgb(250,250,250)"
         },
         "type": "bar",
         "x": [
          "Orgelpredigtzitate je Predigtprozent"
         ],
         "xaxis": "x",
         "y": [
          100
         ],
         "yaxis": "y"
        },
        {
         "hovertext": "0 Orgelpredigtzitate im 79%",
         "marker": {
          "color": "rgb(250,250,250)"
         },
         "type": "bar",
         "x": [
          "Orgelpredigtzitate je Predigtprozent"
         ],
         "xaxis": "x",
         "y": [
          100
         ],
         "yaxis": "y"
        },
        {
         "hovertext": "0 Orgelpredigtzitate im 80%",
         "marker": {
          "color": "rgb(250,250,250)"
         },
         "type": "bar",
         "x": [
          "Orgelpredigtzitate je Predigtprozent"
         ],
         "xaxis": "x",
         "y": [
          100
         ],
         "yaxis": "y"
        },
        {
         "hovertext": "1 Orgelpredigtzitate im 81%<br>Längst=gewüntzschte Mittweidische Orgel=Freude (Dresden 1648)<br>",
         "marker": {
          "color": "rgb(235,235,235)"
         },
         "type": "bar",
         "x": [
          "Orgelpredigtzitate je Predigtprozent"
         ],
         "xaxis": "x",
         "y": [
          100
         ],
         "yaxis": "y"
        },
        {
         "hovertext": "1 Orgelpredigtzitate im 82%<br>Längst=gewüntzschte Mittweidische Orgel=Freude (Dresden 1648)<br>",
         "marker": {
          "color": "rgb(235,235,235)"
         },
         "type": "bar",
         "x": [
          "Orgelpredigtzitate je Predigtprozent"
         ],
         "xaxis": "x",
         "y": [
          100
         ],
         "yaxis": "y"
        },
        {
         "hovertext": "1 Orgelpredigtzitate im 83%<br>Längst=gewüntzschte Mittweidische Orgel=Freude (Dresden 1648)<br>",
         "marker": {
          "color": "rgb(235,235,235)"
         },
         "type": "bar",
         "x": [
          "Orgelpredigtzitate je Predigtprozent"
         ],
         "xaxis": "x",
         "y": [
          100
         ],
         "yaxis": "y"
        },
        {
         "hovertext": "1 Orgelpredigtzitate im 84%<br>Längst=gewüntzschte Mittweidische Orgel=Freude (Dresden 1648)<br>",
         "marker": {
          "color": "rgb(235,235,235)"
         },
         "type": "bar",
         "x": [
          "Orgelpredigtzitate je Predigtprozent"
         ],
         "xaxis": "x",
         "y": [
          100
         ],
         "yaxis": "y"
        },
        {
         "hovertext": "1 Orgelpredigtzitate im 85%<br>Längst=gewüntzschte Mittweidische Orgel=Freude (Dresden 1648)<br>",
         "marker": {
          "color": "rgb(235,235,235)"
         },
         "type": "bar",
         "x": [
          "Orgelpredigtzitate je Predigtprozent"
         ],
         "xaxis": "x",
         "y": [
          100
         ],
         "yaxis": "y"
        },
        {
         "hovertext": "1 Orgelpredigtzitate im 86%<br>Längst=gewüntzschte Mittweidische Orgel=Freude (Dresden 1648)<br>",
         "marker": {
          "color": "rgb(235,235,235)"
         },
         "type": "bar",
         "x": [
          "Orgelpredigtzitate je Predigtprozent"
         ],
         "xaxis": "x",
         "y": [
          100
         ],
         "yaxis": "y"
        },
        {
         "hovertext": "1 Orgelpredigtzitate im 87%<br>Längst=gewüntzschte Mittweidische Orgel=Freude (Dresden 1648)<br>",
         "marker": {
          "color": "rgb(235,235,235)"
         },
         "type": "bar",
         "x": [
          "Orgelpredigtzitate je Predigtprozent"
         ],
         "xaxis": "x",
         "y": [
          100
         ],
         "yaxis": "y"
        },
        {
         "hovertext": "1 Orgelpredigtzitate im 88%<br>Längst=gewüntzschte Mittweidische Orgel=Freude (Dresden 1648)<br>",
         "marker": {
          "color": "rgb(235,235,235)"
         },
         "type": "bar",
         "x": [
          "Orgelpredigtzitate je Predigtprozent"
         ],
         "xaxis": "x",
         "y": [
          100
         ],
         "yaxis": "y"
        },
        {
         "hovertext": "1 Orgelpredigtzitate im 89%<br>Längst=gewüntzschte Mittweidische Orgel=Freude (Dresden 1648)<br>",
         "marker": {
          "color": "rgb(235,235,235)"
         },
         "type": "bar",
         "x": [
          "Orgelpredigtzitate je Predigtprozent"
         ],
         "xaxis": "x",
         "y": [
          100
         ],
         "yaxis": "y"
        },
        {
         "hovertext": "0 Orgelpredigtzitate im 90%",
         "marker": {
          "color": "rgb(250,250,250)"
         },
         "type": "bar",
         "x": [
          "Orgelpredigtzitate je Predigtprozent"
         ],
         "xaxis": "x",
         "y": [
          100
         ],
         "yaxis": "y"
        },
        {
         "hovertext": "0 Orgelpredigtzitate im 91%",
         "marker": {
          "color": "rgb(250,250,250)"
         },
         "type": "bar",
         "x": [
          "Orgelpredigtzitate je Predigtprozent"
         ],
         "xaxis": "x",
         "y": [
          100
         ],
         "yaxis": "y"
        },
        {
         "hovertext": "0 Orgelpredigtzitate im 92%",
         "marker": {
          "color": "rgb(250,250,250)"
         },
         "type": "bar",
         "x": [
          "Orgelpredigtzitate je Predigtprozent"
         ],
         "xaxis": "x",
         "y": [
          100
         ],
         "yaxis": "y"
        },
        {
         "hovertext": "0 Orgelpredigtzitate im 93%",
         "marker": {
          "color": "rgb(250,250,250)"
         },
         "type": "bar",
         "x": [
          "Orgelpredigtzitate je Predigtprozent"
         ],
         "xaxis": "x",
         "y": [
          100
         ],
         "yaxis": "y"
        },
        {
         "hovertext": "0 Orgelpredigtzitate im 94%",
         "marker": {
          "color": "rgb(250,250,250)"
         },
         "type": "bar",
         "x": [
          "Orgelpredigtzitate je Predigtprozent"
         ],
         "xaxis": "x",
         "y": [
          100
         ],
         "yaxis": "y"
        },
        {
         "hovertext": "0 Orgelpredigtzitate im 95%",
         "marker": {
          "color": "rgb(250,250,250)"
         },
         "type": "bar",
         "x": [
          "Orgelpredigtzitate je Predigtprozent"
         ],
         "xaxis": "x",
         "y": [
          100
         ],
         "yaxis": "y"
        },
        {
         "hovertext": "0 Orgelpredigtzitate im 96%",
         "marker": {
          "color": "rgb(250,250,250)"
         },
         "type": "bar",
         "x": [
          "Orgelpredigtzitate je Predigtprozent"
         ],
         "xaxis": "x",
         "y": [
          100
         ],
         "yaxis": "y"
        },
        {
         "hovertext": "0 Orgelpredigtzitate im 97%",
         "marker": {
          "color": "rgb(250,250,250)"
         },
         "type": "bar",
         "x": [
          "Orgelpredigtzitate je Predigtprozent"
         ],
         "xaxis": "x",
         "y": [
          100
         ],
         "yaxis": "y"
        },
        {
         "hovertext": "0 Orgelpredigtzitate im 98%",
         "marker": {
          "color": "rgb(250,250,250)"
         },
         "type": "bar",
         "x": [
          "Orgelpredigtzitate je Predigtprozent"
         ],
         "xaxis": "x",
         "y": [
          100
         ],
         "yaxis": "y"
        },
        {
         "hovertext": "0 Orgelpredigtzitate im 99%",
         "marker": {
          "color": "rgb(250,250,250)"
         },
         "type": "bar",
         "x": [
          "Orgelpredigtzitate je Predigtprozent"
         ],
         "xaxis": "x",
         "y": [
          100
         ],
         "yaxis": "y"
        },
        {
         "hovertext": "0 Orgelpredigtzitate im 100%",
         "marker": {
          "color": "rgb(250,250,250)"
         },
         "type": "bar",
         "x": [
          "Orgelpredigtzitate je Predigtprozent"
         ],
         "xaxis": "x",
         "y": [
          100
         ],
         "yaxis": "y"
        },
        {
         "hovertext": "0 Orgelpredigtzitate im 1%",
         "marker": {
          "color": "rgb(250,250,250)"
         },
         "type": "bar",
         "x": [
          "Orgelpredigtzitate je Predigtprozent"
         ],
         "xaxis": "x2",
         "y": [
          100
         ],
         "yaxis": "y2"
        },
        {
         "hovertext": "0 Orgelpredigtzitate im 2%",
         "marker": {
          "color": "rgb(250,250,250)"
         },
         "type": "bar",
         "x": [
          "Orgelpredigtzitate je Predigtprozent"
         ],
         "xaxis": "x2",
         "y": [
          100
         ],
         "yaxis": "y2"
        },
        {
         "hovertext": "0 Orgelpredigtzitate im 3%",
         "marker": {
          "color": "rgb(250,250,250)"
         },
         "type": "bar",
         "x": [
          "Orgelpredigtzitate je Predigtprozent"
         ],
         "xaxis": "x2",
         "y": [
          100
         ],
         "yaxis": "y2"
        },
        {
         "hovertext": "0 Orgelpredigtzitate im 4%",
         "marker": {
          "color": "rgb(250,250,250)"
         },
         "type": "bar",
         "x": [
          "Orgelpredigtzitate je Predigtprozent"
         ],
         "xaxis": "x2",
         "y": [
          100
         ],
         "yaxis": "y2"
        },
        {
         "hovertext": "0 Orgelpredigtzitate im 5%",
         "marker": {
          "color": "rgb(250,250,250)"
         },
         "type": "bar",
         "x": [
          "Orgelpredigtzitate je Predigtprozent"
         ],
         "xaxis": "x2",
         "y": [
          100
         ],
         "yaxis": "y2"
        },
        {
         "hovertext": "0 Orgelpredigtzitate im 6%",
         "marker": {
          "color": "rgb(250,250,250)"
         },
         "type": "bar",
         "x": [
          "Orgelpredigtzitate je Predigtprozent"
         ],
         "xaxis": "x2",
         "y": [
          100
         ],
         "yaxis": "y2"
        },
        {
         "hovertext": "0 Orgelpredigtzitate im 7%",
         "marker": {
          "color": "rgb(250,250,250)"
         },
         "type": "bar",
         "x": [
          "Orgelpredigtzitate je Predigtprozent"
         ],
         "xaxis": "x2",
         "y": [
          100
         ],
         "yaxis": "y2"
        },
        {
         "hovertext": "0 Orgelpredigtzitate im 8%",
         "marker": {
          "color": "rgb(250,250,250)"
         },
         "type": "bar",
         "x": [
          "Orgelpredigtzitate je Predigtprozent"
         ],
         "xaxis": "x2",
         "y": [
          100
         ],
         "yaxis": "y2"
        },
        {
         "hovertext": "0 Orgelpredigtzitate im 9%",
         "marker": {
          "color": "rgb(250,250,250)"
         },
         "type": "bar",
         "x": [
          "Orgelpredigtzitate je Predigtprozent"
         ],
         "xaxis": "x2",
         "y": [
          100
         ],
         "yaxis": "y2"
        },
        {
         "hovertext": "0 Orgelpredigtzitate im 10%",
         "marker": {
          "color": "rgb(250,250,250)"
         },
         "type": "bar",
         "x": [
          "Orgelpredigtzitate je Predigtprozent"
         ],
         "xaxis": "x2",
         "y": [
          100
         ],
         "yaxis": "y2"
        },
        {
         "hovertext": "1 Orgelpredigtzitate im 11%<br>Cithara Theologica (Schleusingen 1683)<br>",
         "marker": {
          "color": "rgb(235,235,235)"
         },
         "type": "bar",
         "x": [
          "Orgelpredigtzitate je Predigtprozent"
         ],
         "xaxis": "x2",
         "y": [
          100
         ],
         "yaxis": "y2"
        },
        {
         "hovertext": "1 Orgelpredigtzitate im 12%<br>Cithara Theologica (Schleusingen 1683)<br>",
         "marker": {
          "color": "rgb(235,235,235)"
         },
         "type": "bar",
         "x": [
          "Orgelpredigtzitate je Predigtprozent"
         ],
         "xaxis": "x2",
         "y": [
          100
         ],
         "yaxis": "y2"
        },
        {
         "hovertext": "2 Orgelpredigtzitate im 13%<br>Cithara Theologica (Schleusingen 1683)<br>Geistlich= und Gott wohlgefälliges Lob- und Danck-Opffer (Bayreuth 1680)<br>",
         "marker": {
          "color": "rgb(220,220,220)"
         },
         "type": "bar",
         "x": [
          "Orgelpredigtzitate je Predigtprozent"
         ],
         "xaxis": "x2",
         "y": [
          100
         ],
         "yaxis": "y2"
        },
        {
         "hovertext": "2 Orgelpredigtzitate im 14%<br>Cithara Theologica (Schleusingen 1683)<br>Organi Laudes (Plauen 1685)<br>",
         "marker": {
          "color": "rgb(220,220,220)"
         },
         "type": "bar",
         "x": [
          "Orgelpredigtzitate je Predigtprozent"
         ],
         "xaxis": "x2",
         "y": [
          100
         ],
         "yaxis": "y2"
        },
        {
         "hovertext": "0 Orgelpredigtzitate im 15%",
         "marker": {
          "color": "rgb(250,250,250)"
         },
         "type": "bar",
         "x": [
          "Orgelpredigtzitate je Predigtprozent"
         ],
         "xaxis": "x2",
         "y": [
          100
         ],
         "yaxis": "y2"
        },
        {
         "hovertext": "2 Orgelpredigtzitate im 16%<br>Denck- und Danck-Säule (Rothenburg ob der Tauber [1673])<br>Organi Laudes (Plauen 1685)<br>",
         "marker": {
          "color": "rgb(220,220,220)"
         },
         "type": "bar",
         "x": [
          "Orgelpredigtzitate je Predigtprozent"
         ],
         "xaxis": "x2",
         "y": [
          100
         ],
         "yaxis": "y2"
        },
        {
         "hovertext": "2 Orgelpredigtzitate im 17%<br>Cithara Theologica (Schleusingen 1683)<br>Organi Laudes (Plauen 1685)<br>",
         "marker": {
          "color": "rgb(220,220,220)"
         },
         "type": "bar",
         "x": [
          "Orgelpredigtzitate je Predigtprozent"
         ],
         "xaxis": "x2",
         "y": [
          100
         ],
         "yaxis": "y2"
        },
        {
         "hovertext": "2 Orgelpredigtzitate im 18%<br>Cithara Theologica (Schleusingen 1683)<br>Organi Laudes (Plauen 1685)<br>",
         "marker": {
          "color": "rgb(220,220,220)"
         },
         "type": "bar",
         "x": [
          "Orgelpredigtzitate je Predigtprozent"
         ],
         "xaxis": "x2",
         "y": [
          100
         ],
         "yaxis": "y2"
        },
        {
         "hovertext": "1 Orgelpredigtzitate im 19%<br>Organi Laudes (Plauen 1685)<br>",
         "marker": {
          "color": "rgb(235,235,235)"
         },
         "type": "bar",
         "x": [
          "Orgelpredigtzitate je Predigtprozent"
         ],
         "xaxis": "x2",
         "y": [
          100
         ],
         "yaxis": "y2"
        },
        {
         "hovertext": "1 Orgelpredigtzitate im 20%<br>Organi Laudes (Plauen 1685)<br>",
         "marker": {
          "color": "rgb(235,235,235)"
         },
         "type": "bar",
         "x": [
          "Orgelpredigtzitate je Predigtprozent"
         ],
         "xaxis": "x2",
         "y": [
          100
         ],
         "yaxis": "y2"
        },
        {
         "hovertext": "1 Orgelpredigtzitate im 21%<br>Organi Laudes (Plauen 1685)<br>",
         "marker": {
          "color": "rgb(235,235,235)"
         },
         "type": "bar",
         "x": [
          "Orgelpredigtzitate je Predigtprozent"
         ],
         "xaxis": "x2",
         "y": [
          100
         ],
         "yaxis": "y2"
        },
        {
         "hovertext": "0 Orgelpredigtzitate im 22%",
         "marker": {
          "color": "rgb(250,250,250)"
         },
         "type": "bar",
         "x": [
          "Orgelpredigtzitate je Predigtprozent"
         ],
         "xaxis": "x2",
         "y": [
          100
         ],
         "yaxis": "y2"
        },
        {
         "hovertext": "1 Orgelpredigtzitate im 23%<br>Organi Laudes (Plauen 1685)<br>",
         "marker": {
          "color": "rgb(235,235,235)"
         },
         "type": "bar",
         "x": [
          "Orgelpredigtzitate je Predigtprozent"
         ],
         "xaxis": "x2",
         "y": [
          100
         ],
         "yaxis": "y2"
        },
        {
         "hovertext": "1 Orgelpredigtzitate im 24%<br>Organi Laudes (Plauen 1685)<br>",
         "marker": {
          "color": "rgb(235,235,235)"
         },
         "type": "bar",
         "x": [
          "Orgelpredigtzitate je Predigtprozent"
         ],
         "xaxis": "x2",
         "y": [
          100
         ],
         "yaxis": "y2"
        },
        {
         "hovertext": "0 Orgelpredigtzitate im 25%",
         "marker": {
          "color": "rgb(250,250,250)"
         },
         "type": "bar",
         "x": [
          "Orgelpredigtzitate je Predigtprozent"
         ],
         "xaxis": "x2",
         "y": [
          100
         ],
         "yaxis": "y2"
        },
        {
         "hovertext": "1 Orgelpredigtzitate im 26%<br>Organolustria Evangelico-Stambachiana (Hof 1660)<br>",
         "marker": {
          "color": "rgb(235,235,235)"
         },
         "type": "bar",
         "x": [
          "Orgelpredigtzitate je Predigtprozent"
         ],
         "xaxis": "x2",
         "y": [
          100
         ],
         "yaxis": "y2"
        },
        {
         "hovertext": "1 Orgelpredigtzitate im 27%<br>Organolustria Evangelico-Stambachiana (Hof 1660)<br>",
         "marker": {
          "color": "rgb(235,235,235)"
         },
         "type": "bar",
         "x": [
          "Orgelpredigtzitate je Predigtprozent"
         ],
         "xaxis": "x2",
         "y": [
          100
         ],
         "yaxis": "y2"
        },
        {
         "hovertext": "0 Orgelpredigtzitate im 28%",
         "marker": {
          "color": "rgb(250,250,250)"
         },
         "type": "bar",
         "x": [
          "Orgelpredigtzitate je Predigtprozent"
         ],
         "xaxis": "x2",
         "y": [
          100
         ],
         "yaxis": "y2"
        },
        {
         "hovertext": "1 Orgelpredigtzitate im 29%<br>Organolustria Evangelico-Stambachiana (Hof 1660)<br>",
         "marker": {
          "color": "rgb(235,235,235)"
         },
         "type": "bar",
         "x": [
          "Orgelpredigtzitate je Predigtprozent"
         ],
         "xaxis": "x2",
         "y": [
          100
         ],
         "yaxis": "y2"
        },
        {
         "hovertext": "2 Orgelpredigtzitate im 30%<br>Organolustria Evangelico-Stambachiana (Hof 1660)<br>Stolpenische Ehren-Crone (Dresden 1652)<br>",
         "marker": {
          "color": "rgb(220,220,220)"
         },
         "type": "bar",
         "x": [
          "Orgelpredigtzitate je Predigtprozent"
         ],
         "xaxis": "x2",
         "y": [
          100
         ],
         "yaxis": "y2"
        },
        {
         "hovertext": "3 Orgelpredigtzitate im 31%<br>Geistlich= und Gott wohlgefälliges Lob- und Danck-Opffer (Bayreuth 1680)<br>Organolustria Evangelico-Stambachiana (Hof 1660)<br>Stolpenische Ehren-Crone (Dresden 1652)<br>",
         "marker": {
          "color": "rgb(205,205,205)"
         },
         "type": "bar",
         "x": [
          "Orgelpredigtzitate je Predigtprozent"
         ],
         "xaxis": "x2",
         "y": [
          100
         ],
         "yaxis": "y2"
        },
        {
         "hovertext": "4 Orgelpredigtzitate im 32%<br>Geistlich= und Gott wohlgefälliges Lob- und Danck-Opffer (Bayreuth 1680)<br>Denck- und Danck-Säule (Rothenburg ob der Tauber [1673])<br>Organolustria Evangelico-Stambachiana (Hof 1660)<br>Stolpenische Ehren-Crone (Dresden 1652)<br>",
         "marker": {
          "color": "rgb(190,190,190)"
         },
         "type": "bar",
         "x": [
          "Orgelpredigtzitate je Predigtprozent"
         ],
         "xaxis": "x2",
         "y": [
          100
         ],
         "yaxis": "y2"
        },
        {
         "hovertext": "2 Orgelpredigtzitate im 33%<br>Geistlich= und Gott wohlgefälliges Lob- und Danck-Opffer (Bayreuth 1680)<br>Stolpenische Ehren-Crone (Dresden 1652)<br>",
         "marker": {
          "color": "rgb(220,220,220)"
         },
         "type": "bar",
         "x": [
          "Orgelpredigtzitate je Predigtprozent"
         ],
         "xaxis": "x2",
         "y": [
          100
         ],
         "yaxis": "y2"
        },
        {
         "hovertext": "2 Orgelpredigtzitate im 34%<br>Geistlich= und Gott wohlgefälliges Lob- und Danck-Opffer (Bayreuth 1680)<br>Stolpenische Ehren-Crone (Dresden 1652)<br>",
         "marker": {
          "color": "rgb(220,220,220)"
         },
         "type": "bar",
         "x": [
          "Orgelpredigtzitate je Predigtprozent"
         ],
         "xaxis": "x2",
         "y": [
          100
         ],
         "yaxis": "y2"
        },
        {
         "hovertext": "2 Orgelpredigtzitate im 35%<br>Geistlich= und Gott wohlgefälliges Lob- und Danck-Opffer (Bayreuth 1680)<br>Stolpenische Ehren-Crone (Dresden 1652)<br>",
         "marker": {
          "color": "rgb(220,220,220)"
         },
         "type": "bar",
         "x": [
          "Orgelpredigtzitate je Predigtprozent"
         ],
         "xaxis": "x2",
         "y": [
          100
         ],
         "yaxis": "y2"
        },
        {
         "hovertext": "2 Orgelpredigtzitate im 36%<br>Geistlich= und Gott wohlgefälliges Lob- und Danck-Opffer (Bayreuth 1680)<br>Stolpenische Ehren-Crone (Dresden 1652)<br>",
         "marker": {
          "color": "rgb(220,220,220)"
         },
         "type": "bar",
         "x": [
          "Orgelpredigtzitate je Predigtprozent"
         ],
         "xaxis": "x2",
         "y": [
          100
         ],
         "yaxis": "y2"
        },
        {
         "hovertext": "1 Orgelpredigtzitate im 37%<br>Geistlich= und Gott wohlgefälliges Lob- und Danck-Opffer (Bayreuth 1680)<br>",
         "marker": {
          "color": "rgb(235,235,235)"
         },
         "type": "bar",
         "x": [
          "Orgelpredigtzitate je Predigtprozent"
         ],
         "xaxis": "x2",
         "y": [
          100
         ],
         "yaxis": "y2"
        },
        {
         "hovertext": "1 Orgelpredigtzitate im 38%<br>Geistlich= und Gott wohlgefälliges Lob- und Danck-Opffer (Bayreuth 1680)<br>",
         "marker": {
          "color": "rgb(235,235,235)"
         },
         "type": "bar",
         "x": [
          "Orgelpredigtzitate je Predigtprozent"
         ],
         "xaxis": "x2",
         "y": [
          100
         ],
         "yaxis": "y2"
        },
        {
         "hovertext": "1 Orgelpredigtzitate im 39%<br>Geistlich= und Gott wohlgefälliges Lob- und Danck-Opffer (Bayreuth 1680)<br>",
         "marker": {
          "color": "rgb(235,235,235)"
         },
         "type": "bar",
         "x": [
          "Orgelpredigtzitate je Predigtprozent"
         ],
         "xaxis": "x2",
         "y": [
          100
         ],
         "yaxis": "y2"
        },
        {
         "hovertext": "2 Orgelpredigtzitate im 40%<br>Geistlich= und Gott wohlgefälliges Lob- und Danck-Opffer (Bayreuth 1680)<br>Das fröliche Halleluja (Wittenberg 1675)<br>",
         "marker": {
          "color": "rgb(220,220,220)"
         },
         "type": "bar",
         "x": [
          "Orgelpredigtzitate je Predigtprozent"
         ],
         "xaxis": "x2",
         "y": [
          100
         ],
         "yaxis": "y2"
        },
        {
         "hovertext": "2 Orgelpredigtzitate im 41%<br>Geistlich= und Gott wohlgefälliges Lob- und Danck-Opffer (Bayreuth 1680)<br>Das fröliche Halleluja (Wittenberg 1675)<br>",
         "marker": {
          "color": "rgb(220,220,220)"
         },
         "type": "bar",
         "x": [
          "Orgelpredigtzitate je Predigtprozent"
         ],
         "xaxis": "x2",
         "y": [
          100
         ],
         "yaxis": "y2"
        },
        {
         "hovertext": "3 Orgelpredigtzitate im 42%<br>Geistlich= und Gott wohlgefälliges Lob- und Danck-Opffer (Bayreuth 1680)<br>Das fröliche Halleluja (Wittenberg 1675)<br>Denck- und Danck-Säule (Rothenburg ob der Tauber [1673])<br>",
         "marker": {
          "color": "rgb(205,205,205)"
         },
         "type": "bar",
         "x": [
          "Orgelpredigtzitate je Predigtprozent"
         ],
         "xaxis": "x2",
         "y": [
          100
         ],
         "yaxis": "y2"
        },
        {
         "hovertext": "1 Orgelpredigtzitate im 43%<br>Denck- und Danck-Säule (Rothenburg ob der Tauber [1673])<br>",
         "marker": {
          "color": "rgb(235,235,235)"
         },
         "type": "bar",
         "x": [
          "Orgelpredigtzitate je Predigtprozent"
         ],
         "xaxis": "x2",
         "y": [
          100
         ],
         "yaxis": "y2"
        },
        {
         "hovertext": "1 Orgelpredigtzitate im 44%<br>Denck- und Danck-Säule (Rothenburg ob der Tauber [1673])<br>",
         "marker": {
          "color": "rgb(235,235,235)"
         },
         "type": "bar",
         "x": [
          "Orgelpredigtzitate je Predigtprozent"
         ],
         "xaxis": "x2",
         "y": [
          100
         ],
         "yaxis": "y2"
        },
        {
         "hovertext": "2 Orgelpredigtzitate im 45%<br>Das fröliche Halleluja (Wittenberg 1675)<br>Denck- und Danck-Säule (Rothenburg ob der Tauber [1673])<br>",
         "marker": {
          "color": "rgb(220,220,220)"
         },
         "type": "bar",
         "x": [
          "Orgelpredigtzitate je Predigtprozent"
         ],
         "xaxis": "x2",
         "y": [
          100
         ],
         "yaxis": "y2"
        },
        {
         "hovertext": "1 Orgelpredigtzitate im 46%<br>Das fröliche Halleluja (Wittenberg 1675)<br>",
         "marker": {
          "color": "rgb(235,235,235)"
         },
         "type": "bar",
         "x": [
          "Orgelpredigtzitate je Predigtprozent"
         ],
         "xaxis": "x2",
         "y": [
          100
         ],
         "yaxis": "y2"
        },
        {
         "hovertext": "2 Orgelpredigtzitate im 47%<br>Geistlich= und Gott wohlgefälliges Lob- und Danck-Opffer (Bayreuth 1680)<br>Das fröliche Halleluja (Wittenberg 1675)<br>",
         "marker": {
          "color": "rgb(220,220,220)"
         },
         "type": "bar",
         "x": [
          "Orgelpredigtzitate je Predigtprozent"
         ],
         "xaxis": "x2",
         "y": [
          100
         ],
         "yaxis": "y2"
        },
        {
         "hovertext": "2 Orgelpredigtzitate im 48%<br>Geistlich= und Gott wohlgefälliges Lob- und Danck-Opffer (Bayreuth 1680)<br>Das fröliche Halleluja (Wittenberg 1675)<br>",
         "marker": {
          "color": "rgb(220,220,220)"
         },
         "type": "bar",
         "x": [
          "Orgelpredigtzitate je Predigtprozent"
         ],
         "xaxis": "x2",
         "y": [
          100
         ],
         "yaxis": "y2"
        },
        {
         "hovertext": "2 Orgelpredigtzitate im 49%<br>Geistlich= und Gott wohlgefälliges Lob- und Danck-Opffer (Bayreuth 1680)<br>Das fröliche Halleluja (Wittenberg 1675)<br>",
         "marker": {
          "color": "rgb(220,220,220)"
         },
         "type": "bar",
         "x": [
          "Orgelpredigtzitate je Predigtprozent"
         ],
         "xaxis": "x2",
         "y": [
          100
         ],
         "yaxis": "y2"
        },
        {
         "hovertext": "1 Orgelpredigtzitate im 50%<br>Das fröliche Halleluja (Wittenberg 1675)<br>",
         "marker": {
          "color": "rgb(235,235,235)"
         },
         "type": "bar",
         "x": [
          "Orgelpredigtzitate je Predigtprozent"
         ],
         "xaxis": "x2",
         "y": [
          100
         ],
         "yaxis": "y2"
        },
        {
         "hovertext": "1 Orgelpredigtzitate im 51%<br>Das fröliche Halleluja (Wittenberg 1675)<br>",
         "marker": {
          "color": "rgb(235,235,235)"
         },
         "type": "bar",
         "x": [
          "Orgelpredigtzitate je Predigtprozent"
         ],
         "xaxis": "x2",
         "y": [
          100
         ],
         "yaxis": "y2"
        },
        {
         "hovertext": "1 Orgelpredigtzitate im 52%<br>Das fröliche Halleluja (Wittenberg 1675)<br>",
         "marker": {
          "color": "rgb(235,235,235)"
         },
         "type": "bar",
         "x": [
          "Orgelpredigtzitate je Predigtprozent"
         ],
         "xaxis": "x2",
         "y": [
          100
         ],
         "yaxis": "y2"
        },
        {
         "hovertext": "1 Orgelpredigtzitate im 53%<br>Das fröliche Halleluja (Wittenberg 1675)<br>",
         "marker": {
          "color": "rgb(235,235,235)"
         },
         "type": "bar",
         "x": [
          "Orgelpredigtzitate je Predigtprozent"
         ],
         "xaxis": "x2",
         "y": [
          100
         ],
         "yaxis": "y2"
        },
        {
         "hovertext": "2 Orgelpredigtzitate im 54%<br>Geistlich= und Gott wohlgefälliges Lob- und Danck-Opffer (Bayreuth 1680)<br>Das fröliche Halleluja (Wittenberg 1675)<br>",
         "marker": {
          "color": "rgb(220,220,220)"
         },
         "type": "bar",
         "x": [
          "Orgelpredigtzitate je Predigtprozent"
         ],
         "xaxis": "x2",
         "y": [
          100
         ],
         "yaxis": "y2"
        },
        {
         "hovertext": "3 Orgelpredigtzitate im 55%<br>Das dem Allmächtigen abzustattende Lob (Altenburg s.a.)<br>Geistlich= und Gott wohlgefälliges Lob- und Danck-Opffer (Bayreuth 1680)<br>Das fröliche Halleluja (Wittenberg 1675)<br>",
         "marker": {
          "color": "rgb(205,205,205)"
         },
         "type": "bar",
         "x": [
          "Orgelpredigtzitate je Predigtprozent"
         ],
         "xaxis": "x2",
         "y": [
          100
         ],
         "yaxis": "y2"
        },
        {
         "hovertext": "3 Orgelpredigtzitate im 56%<br>Geistlich= und Gott wohlgefälliges Lob- und Danck-Opffer (Bayreuth 1680)<br>Das Lieblich=klingende Orgeln und Saiten=Spiel (Coburg 1676)<br>Das fröliche Halleluja (Wittenberg 1675)<br>",
         "marker": {
          "color": "rgb(205,205,205)"
         },
         "type": "bar",
         "x": [
          "Orgelpredigtzitate je Predigtprozent"
         ],
         "xaxis": "x2",
         "y": [
          100
         ],
         "yaxis": "y2"
        },
        {
         "hovertext": "1 Orgelpredigtzitate im 57%<br>Geistlich= und Gott wohlgefälliges Lob- und Danck-Opffer (Bayreuth 1680)<br>",
         "marker": {
          "color": "rgb(235,235,235)"
         },
         "type": "bar",
         "x": [
          "Orgelpredigtzitate je Predigtprozent"
         ],
         "xaxis": "x2",
         "y": [
          100
         ],
         "yaxis": "y2"
        },
        {
         "hovertext": "3 Orgelpredigtzitate im 58%<br>Geistlich= und Gott wohlgefälliges Lob- und Danck-Opffer (Bayreuth 1680)<br>Das fröliche Halleluja (Wittenberg 1675)<br>Denck- und Danck-Säule (Rothenburg ob der Tauber [1673])<br>",
         "marker": {
          "color": "rgb(205,205,205)"
         },
         "type": "bar",
         "x": [
          "Orgelpredigtzitate je Predigtprozent"
         ],
         "xaxis": "x2",
         "y": [
          100
         ],
         "yaxis": "y2"
        },
        {
         "hovertext": "2 Orgelpredigtzitate im 59%<br>Geistlich= und Gott wohlgefälliges Lob- und Danck-Opffer (Bayreuth 1680)<br>Denck- und Danck-Säule (Rothenburg ob der Tauber [1673])<br>",
         "marker": {
          "color": "rgb(220,220,220)"
         },
         "type": "bar",
         "x": [
          "Orgelpredigtzitate je Predigtprozent"
         ],
         "xaxis": "x2",
         "y": [
          100
         ],
         "yaxis": "y2"
        },
        {
         "hovertext": "2 Orgelpredigtzitate im 60%<br>Das fröliche Halleluja (Wittenberg 1675)<br>Denck- und Danck-Säule (Rothenburg ob der Tauber [1673])<br>",
         "marker": {
          "color": "rgb(220,220,220)"
         },
         "type": "bar",
         "x": [
          "Orgelpredigtzitate je Predigtprozent"
         ],
         "xaxis": "x2",
         "y": [
          100
         ],
         "yaxis": "y2"
        },
        {
         "hovertext": "2 Orgelpredigtzitate im 61%<br>Das fröliche Halleluja (Wittenberg 1675)<br>Denck- und Danck-Säule (Rothenburg ob der Tauber [1673])<br>",
         "marker": {
          "color": "rgb(220,220,220)"
         },
         "type": "bar",
         "x": [
          "Orgelpredigtzitate je Predigtprozent"
         ],
         "xaxis": "x2",
         "y": [
          100
         ],
         "yaxis": "y2"
        },
        {
         "hovertext": "3 Orgelpredigtzitate im 62%<br>Geistlich= und Gott wohlgefälliges Lob- und Danck-Opffer (Bayreuth 1680)<br>Das fröliche Halleluja (Wittenberg 1675)<br>Denck- und Danck-Säule (Rothenburg ob der Tauber [1673])<br>",
         "marker": {
          "color": "rgb(205,205,205)"
         },
         "type": "bar",
         "x": [
          "Orgelpredigtzitate je Predigtprozent"
         ],
         "xaxis": "x2",
         "y": [
          100
         ],
         "yaxis": "y2"
        },
        {
         "hovertext": "2 Orgelpredigtzitate im 63%<br>Geistlich= und Gott wohlgefälliges Lob- und Danck-Opffer (Bayreuth 1680)<br>Das fröliche Halleluja (Wittenberg 1675)<br>",
         "marker": {
          "color": "rgb(220,220,220)"
         },
         "type": "bar",
         "x": [
          "Orgelpredigtzitate je Predigtprozent"
         ],
         "xaxis": "x2",
         "y": [
          100
         ],
         "yaxis": "y2"
        },
        {
         "hovertext": "1 Orgelpredigtzitate im 64%<br>Das fröliche Halleluja (Wittenberg 1675)<br>",
         "marker": {
          "color": "rgb(235,235,235)"
         },
         "type": "bar",
         "x": [
          "Orgelpredigtzitate je Predigtprozent"
         ],
         "xaxis": "x2",
         "y": [
          100
         ],
         "yaxis": "y2"
        },
        {
         "hovertext": "1 Orgelpredigtzitate im 65%<br>Das fröliche Halleluja (Wittenberg 1675)<br>",
         "marker": {
          "color": "rgb(235,235,235)"
         },
         "type": "bar",
         "x": [
          "Orgelpredigtzitate je Predigtprozent"
         ],
         "xaxis": "x2",
         "y": [
          100
         ],
         "yaxis": "y2"
        },
        {
         "hovertext": "1 Orgelpredigtzitate im 66%<br>Das fröliche Halleluja (Wittenberg 1675)<br>",
         "marker": {
          "color": "rgb(235,235,235)"
         },
         "type": "bar",
         "x": [
          "Orgelpredigtzitate je Predigtprozent"
         ],
         "xaxis": "x2",
         "y": [
          100
         ],
         "yaxis": "y2"
        },
        {
         "hovertext": "1 Orgelpredigtzitate im 67%<br>Das fröliche Halleluja (Wittenberg 1675)<br>",
         "marker": {
          "color": "rgb(235,235,235)"
         },
         "type": "bar",
         "x": [
          "Orgelpredigtzitate je Predigtprozent"
         ],
         "xaxis": "x2",
         "y": [
          100
         ],
         "yaxis": "y2"
        },
        {
         "hovertext": "0 Orgelpredigtzitate im 68%",
         "marker": {
          "color": "rgb(250,250,250)"
         },
         "type": "bar",
         "x": [
          "Orgelpredigtzitate je Predigtprozent"
         ],
         "xaxis": "x2",
         "y": [
          100
         ],
         "yaxis": "y2"
        },
        {
         "hovertext": "1 Orgelpredigtzitate im 69%<br>Das fröliche Halleluja (Wittenberg 1675)<br>",
         "marker": {
          "color": "rgb(235,235,235)"
         },
         "type": "bar",
         "x": [
          "Orgelpredigtzitate je Predigtprozent"
         ],
         "xaxis": "x2",
         "y": [
          100
         ],
         "yaxis": "y2"
        },
        {
         "hovertext": "3 Orgelpredigtzitate im 70%<br>Schuldiges Lob Gottes (Nürnberg 1696)<br>Geistlich= und Gott wohlgefälliges Lob- und Danck-Opffer (Bayreuth 1680)<br>Das fröliche Halleluja (Wittenberg 1675)<br>",
         "marker": {
          "color": "rgb(205,205,205)"
         },
         "type": "bar",
         "x": [
          "Orgelpredigtzitate je Predigtprozent"
         ],
         "xaxis": "x2",
         "y": [
          100
         ],
         "yaxis": "y2"
        },
        {
         "hovertext": "3 Orgelpredigtzitate im 71%<br>Schuldiges Lob Gottes (Nürnberg 1696)<br>Geistlich= und Gott wohlgefälliges Lob- und Danck-Opffer (Bayreuth 1680)<br>Das fröliche Halleluja (Wittenberg 1675)<br>",
         "marker": {
          "color": "rgb(205,205,205)"
         },
         "type": "bar",
         "x": [
          "Orgelpredigtzitate je Predigtprozent"
         ],
         "xaxis": "x2",
         "y": [
          100
         ],
         "yaxis": "y2"
        },
        {
         "hovertext": "1 Orgelpredigtzitate im 72%<br>Schuldiges Lob Gottes (Nürnberg 1696)<br>",
         "marker": {
          "color": "rgb(235,235,235)"
         },
         "type": "bar",
         "x": [
          "Orgelpredigtzitate je Predigtprozent"
         ],
         "xaxis": "x2",
         "y": [
          100
         ],
         "yaxis": "y2"
        },
        {
         "hovertext": "1 Orgelpredigtzitate im 73%<br>Das fröliche Halleluja (Wittenberg 1675)<br>",
         "marker": {
          "color": "rgb(235,235,235)"
         },
         "type": "bar",
         "x": [
          "Orgelpredigtzitate je Predigtprozent"
         ],
         "xaxis": "x2",
         "y": [
          100
         ],
         "yaxis": "y2"
        },
        {
         "hovertext": "1 Orgelpredigtzitate im 74%<br>Das fröliche Halleluja (Wittenberg 1675)<br>",
         "marker": {
          "color": "rgb(235,235,235)"
         },
         "type": "bar",
         "x": [
          "Orgelpredigtzitate je Predigtprozent"
         ],
         "xaxis": "x2",
         "y": [
          100
         ],
         "yaxis": "y2"
        },
        {
         "hovertext": "0 Orgelpredigtzitate im 75%",
         "marker": {
          "color": "rgb(250,250,250)"
         },
         "type": "bar",
         "x": [
          "Orgelpredigtzitate je Predigtprozent"
         ],
         "xaxis": "x2",
         "y": [
          100
         ],
         "yaxis": "y2"
        },
        {
         "hovertext": "2 Orgelpredigtzitate im 76%<br>Das dem Allmächtigen abzustattende Lob (Altenburg s.a.)<br>Organologismos (Dresden 1651)<br>",
         "marker": {
          "color": "rgb(220,220,220)"
         },
         "type": "bar",
         "x": [
          "Orgelpredigtzitate je Predigtprozent"
         ],
         "xaxis": "x2",
         "y": [
          100
         ],
         "yaxis": "y2"
        },
        {
         "hovertext": "2 Orgelpredigtzitate im 77%<br>Das dem Allmächtigen abzustattende Lob (Altenburg s.a.)<br>Organologismos (Dresden 1651)<br>",
         "marker": {
          "color": "rgb(220,220,220)"
         },
         "type": "bar",
         "x": [
          "Orgelpredigtzitate je Predigtprozent"
         ],
         "xaxis": "x2",
         "y": [
          100
         ],
         "yaxis": "y2"
        },
        {
         "hovertext": "2 Orgelpredigtzitate im 78%<br>Das dem Allmächtigen abzustattende Lob (Altenburg s.a.)<br>Organologismos (Dresden 1651)<br>",
         "marker": {
          "color": "rgb(220,220,220)"
         },
         "type": "bar",
         "x": [
          "Orgelpredigtzitate je Predigtprozent"
         ],
         "xaxis": "x2",
         "y": [
          100
         ],
         "yaxis": "y2"
        },
        {
         "hovertext": "1 Orgelpredigtzitate im 79%<br>Organologismos (Dresden 1651)<br>",
         "marker": {
          "color": "rgb(235,235,235)"
         },
         "type": "bar",
         "x": [
          "Orgelpredigtzitate je Predigtprozent"
         ],
         "xaxis": "x2",
         "y": [
          100
         ],
         "yaxis": "y2"
        },
        {
         "hovertext": "0 Orgelpredigtzitate im 80%",
         "marker": {
          "color": "rgb(250,250,250)"
         },
         "type": "bar",
         "x": [
          "Orgelpredigtzitate je Predigtprozent"
         ],
         "xaxis": "x2",
         "y": [
          100
         ],
         "yaxis": "y2"
        },
        {
         "hovertext": "0 Orgelpredigtzitate im 81%",
         "marker": {
          "color": "rgb(250,250,250)"
         },
         "type": "bar",
         "x": [
          "Orgelpredigtzitate je Predigtprozent"
         ],
         "xaxis": "x2",
         "y": [
          100
         ],
         "yaxis": "y2"
        },
        {
         "hovertext": "0 Orgelpredigtzitate im 82%",
         "marker": {
          "color": "rgb(250,250,250)"
         },
         "type": "bar",
         "x": [
          "Orgelpredigtzitate je Predigtprozent"
         ],
         "xaxis": "x2",
         "y": [
          100
         ],
         "yaxis": "y2"
        },
        {
         "hovertext": "1 Orgelpredigtzitate im 83%<br>Organi Laudes (Plauen 1685)<br>",
         "marker": {
          "color": "rgb(235,235,235)"
         },
         "type": "bar",
         "x": [
          "Orgelpredigtzitate je Predigtprozent"
         ],
         "xaxis": "x2",
         "y": [
          100
         ],
         "yaxis": "y2"
        },
        {
         "hovertext": "1 Orgelpredigtzitate im 84%<br>Organi Laudes (Plauen 1685)<br>",
         "marker": {
          "color": "rgb(235,235,235)"
         },
         "type": "bar",
         "x": [
          "Orgelpredigtzitate je Predigtprozent"
         ],
         "xaxis": "x2",
         "y": [
          100
         ],
         "yaxis": "y2"
        },
        {
         "hovertext": "1 Orgelpredigtzitate im 85%<br>Stolpenische Ehren-Crone (Dresden 1652)<br>",
         "marker": {
          "color": "rgb(235,235,235)"
         },
         "type": "bar",
         "x": [
          "Orgelpredigtzitate je Predigtprozent"
         ],
         "xaxis": "x2",
         "y": [
          100
         ],
         "yaxis": "y2"
        },
        {
         "hovertext": "3 Orgelpredigtzitate im 86%<br>Eine Christliche Orgel=Predigt (Danzig 1695)<br>Stolpenische Ehren-Crone (Dresden 1652)<br>Organi Laudes (Plauen 1685)<br>",
         "marker": {
          "color": "rgb(205,205,205)"
         },
         "type": "bar",
         "x": [
          "Orgelpredigtzitate je Predigtprozent"
         ],
         "xaxis": "x2",
         "y": [
          100
         ],
         "yaxis": "y2"
        },
        {
         "hovertext": "1 Orgelpredigtzitate im 87%<br>Organi Laudes (Plauen 1685)<br>",
         "marker": {
          "color": "rgb(235,235,235)"
         },
         "type": "bar",
         "x": [
          "Orgelpredigtzitate je Predigtprozent"
         ],
         "xaxis": "x2",
         "y": [
          100
         ],
         "yaxis": "y2"
        },
        {
         "hovertext": "2 Orgelpredigtzitate im 88%<br>Das Lieblich=klingende Orgeln und Saiten=Spiel (Coburg 1676)<br>Organi Laudes (Plauen 1685)<br>",
         "marker": {
          "color": "rgb(220,220,220)"
         },
         "type": "bar",
         "x": [
          "Orgelpredigtzitate je Predigtprozent"
         ],
         "xaxis": "x2",
         "y": [
          100
         ],
         "yaxis": "y2"
        },
        {
         "hovertext": "2 Orgelpredigtzitate im 89%<br>Das dem Allmächtigen abzustattende Lob (Altenburg s.a.)<br>Organi Laudes (Plauen 1685)<br>",
         "marker": {
          "color": "rgb(220,220,220)"
         },
         "type": "bar",
         "x": [
          "Orgelpredigtzitate je Predigtprozent"
         ],
         "xaxis": "x2",
         "y": [
          100
         ],
         "yaxis": "y2"
        },
        {
         "hovertext": "1 Orgelpredigtzitate im 90%<br>Organi Laudes (Plauen 1685)<br>",
         "marker": {
          "color": "rgb(235,235,235)"
         },
         "type": "bar",
         "x": [
          "Orgelpredigtzitate je Predigtprozent"
         ],
         "xaxis": "x2",
         "y": [
          100
         ],
         "yaxis": "y2"
        },
        {
         "hovertext": "1 Orgelpredigtzitate im 91%<br>Organi Laudes (Plauen 1685)<br>",
         "marker": {
          "color": "rgb(235,235,235)"
         },
         "type": "bar",
         "x": [
          "Orgelpredigtzitate je Predigtprozent"
         ],
         "xaxis": "x2",
         "y": [
          100
         ],
         "yaxis": "y2"
        },
        {
         "hovertext": "1 Orgelpredigtzitate im 92%<br>Organi Laudes (Plauen 1685)<br>",
         "marker": {
          "color": "rgb(235,235,235)"
         },
         "type": "bar",
         "x": [
          "Orgelpredigtzitate je Predigtprozent"
         ],
         "xaxis": "x2",
         "y": [
          100
         ],
         "yaxis": "y2"
        },
        {
         "hovertext": "0 Orgelpredigtzitate im 93%",
         "marker": {
          "color": "rgb(250,250,250)"
         },
         "type": "bar",
         "x": [
          "Orgelpredigtzitate je Predigtprozent"
         ],
         "xaxis": "x2",
         "y": [
          100
         ],
         "yaxis": "y2"
        },
        {
         "hovertext": "0 Orgelpredigtzitate im 94%",
         "marker": {
          "color": "rgb(250,250,250)"
         },
         "type": "bar",
         "x": [
          "Orgelpredigtzitate je Predigtprozent"
         ],
         "xaxis": "x2",
         "y": [
          100
         ],
         "yaxis": "y2"
        },
        {
         "hovertext": "0 Orgelpredigtzitate im 95%",
         "marker": {
          "color": "rgb(250,250,250)"
         },
         "type": "bar",
         "x": [
          "Orgelpredigtzitate je Predigtprozent"
         ],
         "xaxis": "x2",
         "y": [
          100
         ],
         "yaxis": "y2"
        },
        {
         "hovertext": "1 Orgelpredigtzitate im 96%<br>Organolustria Evangelico-Stambachiana (Hof 1660)<br>",
         "marker": {
          "color": "rgb(235,235,235)"
         },
         "type": "bar",
         "x": [
          "Orgelpredigtzitate je Predigtprozent"
         ],
         "xaxis": "x2",
         "y": [
          100
         ],
         "yaxis": "y2"
        },
        {
         "hovertext": "1 Orgelpredigtzitate im 97%<br>Organolustria Evangelico-Stambachiana (Hof 1660)<br>",
         "marker": {
          "color": "rgb(235,235,235)"
         },
         "type": "bar",
         "x": [
          "Orgelpredigtzitate je Predigtprozent"
         ],
         "xaxis": "x2",
         "y": [
          100
         ],
         "yaxis": "y2"
        },
        {
         "hovertext": "1 Orgelpredigtzitate im 98%<br>Organolustria Evangelico-Stambachiana (Hof 1660)<br>",
         "marker": {
          "color": "rgb(235,235,235)"
         },
         "type": "bar",
         "x": [
          "Orgelpredigtzitate je Predigtprozent"
         ],
         "xaxis": "x2",
         "y": [
          100
         ],
         "yaxis": "y2"
        },
        {
         "hovertext": "0 Orgelpredigtzitate im 99%",
         "marker": {
          "color": "rgb(250,250,250)"
         },
         "type": "bar",
         "x": [
          "Orgelpredigtzitate je Predigtprozent"
         ],
         "xaxis": "x2",
         "y": [
          100
         ],
         "yaxis": "y2"
        },
        {
         "hovertext": "0 Orgelpredigtzitate im 100%",
         "marker": {
          "color": "rgb(250,250,250)"
         },
         "type": "bar",
         "x": [
          "Orgelpredigtzitate je Predigtprozent"
         ],
         "xaxis": "x2",
         "y": [
          100
         ],
         "yaxis": "y2"
        },
        {
         "hovertext": "0 Orgelpredigtzitate im 1%",
         "marker": {
          "color": "rgb(250,250,250)"
         },
         "type": "bar",
         "x": [
          "Orgelpredigtzitate je Predigtprozent"
         ],
         "xaxis": "x3",
         "y": [
          100
         ],
         "yaxis": "y3"
        },
        {
         "hovertext": "0 Orgelpredigtzitate im 2%",
         "marker": {
          "color": "rgb(250,250,250)"
         },
         "type": "bar",
         "x": [
          "Orgelpredigtzitate je Predigtprozent"
         ],
         "xaxis": "x3",
         "y": [
          100
         ],
         "yaxis": "y3"
        },
        {
         "hovertext": "0 Orgelpredigtzitate im 3%",
         "marker": {
          "color": "rgb(250,250,250)"
         },
         "type": "bar",
         "x": [
          "Orgelpredigtzitate je Predigtprozent"
         ],
         "xaxis": "x3",
         "y": [
          100
         ],
         "yaxis": "y3"
        },
        {
         "hovertext": "0 Orgelpredigtzitate im 4%",
         "marker": {
          "color": "rgb(250,250,250)"
         },
         "type": "bar",
         "x": [
          "Orgelpredigtzitate je Predigtprozent"
         ],
         "xaxis": "x3",
         "y": [
          100
         ],
         "yaxis": "y3"
        },
        {
         "hovertext": "0 Orgelpredigtzitate im 5%",
         "marker": {
          "color": "rgb(250,250,250)"
         },
         "type": "bar",
         "x": [
          "Orgelpredigtzitate je Predigtprozent"
         ],
         "xaxis": "x3",
         "y": [
          100
         ],
         "yaxis": "y3"
        },
        {
         "hovertext": "0 Orgelpredigtzitate im 6%",
         "marker": {
          "color": "rgb(250,250,250)"
         },
         "type": "bar",
         "x": [
          "Orgelpredigtzitate je Predigtprozent"
         ],
         "xaxis": "x3",
         "y": [
          100
         ],
         "yaxis": "y3"
        },
        {
         "hovertext": "0 Orgelpredigtzitate im 7%",
         "marker": {
          "color": "rgb(250,250,250)"
         },
         "type": "bar",
         "x": [
          "Orgelpredigtzitate je Predigtprozent"
         ],
         "xaxis": "x3",
         "y": [
          100
         ],
         "yaxis": "y3"
        },
        {
         "hovertext": "0 Orgelpredigtzitate im 8%",
         "marker": {
          "color": "rgb(250,250,250)"
         },
         "type": "bar",
         "x": [
          "Orgelpredigtzitate je Predigtprozent"
         ],
         "xaxis": "x3",
         "y": [
          100
         ],
         "yaxis": "y3"
        },
        {
         "hovertext": "0 Orgelpredigtzitate im 9%",
         "marker": {
          "color": "rgb(250,250,250)"
         },
         "type": "bar",
         "x": [
          "Orgelpredigtzitate je Predigtprozent"
         ],
         "xaxis": "x3",
         "y": [
          100
         ],
         "yaxis": "y3"
        },
        {
         "hovertext": "1 Orgelpredigtzitate im 10%<br>Davids Vermahnung (Dresden 1711)<br>",
         "marker": {
          "color": "rgb(235,235,235)"
         },
         "type": "bar",
         "x": [
          "Orgelpredigtzitate je Predigtprozent"
         ],
         "xaxis": "x3",
         "y": [
          100
         ],
         "yaxis": "y3"
        },
        {
         "hovertext": "0 Orgelpredigtzitate im 11%",
         "marker": {
          "color": "rgb(250,250,250)"
         },
         "type": "bar",
         "x": [
          "Orgelpredigtzitate je Predigtprozent"
         ],
         "xaxis": "x3",
         "y": [
          100
         ],
         "yaxis": "y3"
        },
        {
         "hovertext": "1 Orgelpredigtzitate im 12%<br>Davids Vermahnung (Dresden 1711)<br>",
         "marker": {
          "color": "rgb(235,235,235)"
         },
         "type": "bar",
         "x": [
          "Orgelpredigtzitate je Predigtprozent"
         ],
         "xaxis": "x3",
         "y": [
          100
         ],
         "yaxis": "y3"
        },
        {
         "hovertext": "0 Orgelpredigtzitate im 13%",
         "marker": {
          "color": "rgb(250,250,250)"
         },
         "type": "bar",
         "x": [
          "Orgelpredigtzitate je Predigtprozent"
         ],
         "xaxis": "x3",
         "y": [
          100
         ],
         "yaxis": "y3"
        },
        {
         "hovertext": "0 Orgelpredigtzitate im 14%",
         "marker": {
          "color": "rgb(250,250,250)"
         },
         "type": "bar",
         "x": [
          "Orgelpredigtzitate je Predigtprozent"
         ],
         "xaxis": "x3",
         "y": [
          100
         ],
         "yaxis": "y3"
        },
        {
         "hovertext": "1 Orgelpredigtzitate im 15%<br>Einweihungs-Predigt (Görlitz 1704)<br>",
         "marker": {
          "color": "rgb(235,235,235)"
         },
         "type": "bar",
         "x": [
          "Orgelpredigtzitate je Predigtprozent"
         ],
         "xaxis": "x3",
         "y": [
          100
         ],
         "yaxis": "y3"
        },
        {
         "hovertext": "0 Orgelpredigtzitate im 16%",
         "marker": {
          "color": "rgb(250,250,250)"
         },
         "type": "bar",
         "x": [
          "Orgelpredigtzitate je Predigtprozent"
         ],
         "xaxis": "x3",
         "y": [
          100
         ],
         "yaxis": "y3"
        },
        {
         "hovertext": "1 Orgelpredigtzitate im 17%<br>Ein wolgerührtes Orgel=Werck (Königsberg 1721)<br>",
         "marker": {
          "color": "rgb(235,235,235)"
         },
         "type": "bar",
         "x": [
          "Orgelpredigtzitate je Predigtprozent"
         ],
         "xaxis": "x3",
         "y": [
          100
         ],
         "yaxis": "y3"
        },
        {
         "hovertext": "0 Orgelpredigtzitate im 18%",
         "marker": {
          "color": "rgb(250,250,250)"
         },
         "type": "bar",
         "x": [
          "Orgelpredigtzitate je Predigtprozent"
         ],
         "xaxis": "x3",
         "y": [
          100
         ],
         "yaxis": "y3"
        },
        {
         "hovertext": "0 Orgelpredigtzitate im 19%",
         "marker": {
          "color": "rgb(250,250,250)"
         },
         "type": "bar",
         "x": [
          "Orgelpredigtzitate je Predigtprozent"
         ],
         "xaxis": "x3",
         "y": [
          100
         ],
         "yaxis": "y3"
        },
        {
         "hovertext": "0 Orgelpredigtzitate im 20%",
         "marker": {
          "color": "rgb(250,250,250)"
         },
         "type": "bar",
         "x": [
          "Orgelpredigtzitate je Predigtprozent"
         ],
         "xaxis": "x3",
         "y": [
          100
         ],
         "yaxis": "y3"
        },
        {
         "hovertext": "0 Orgelpredigtzitate im 21%",
         "marker": {
          "color": "rgb(250,250,250)"
         },
         "type": "bar",
         "x": [
          "Orgelpredigtzitate je Predigtprozent"
         ],
         "xaxis": "x3",
         "y": [
          100
         ],
         "yaxis": "y3"
        },
        {
         "hovertext": "1 Orgelpredigtzitate im 22%<br>Glaubiger Kinder Gottes Gott=gefällige Music (Augsburg 1721)<br>",
         "marker": {
          "color": "rgb(235,235,235)"
         },
         "type": "bar",
         "x": [
          "Orgelpredigtzitate je Predigtprozent"
         ],
         "xaxis": "x3",
         "y": [
          100
         ],
         "yaxis": "y3"
        },
        {
         "hovertext": "1 Orgelpredigtzitate im 23%<br>Glaubiger Kinder Gottes Gott=gefällige Music (Augsburg 1721)<br>",
         "marker": {
          "color": "rgb(235,235,235)"
         },
         "type": "bar",
         "x": [
          "Orgelpredigtzitate je Predigtprozent"
         ],
         "xaxis": "x3",
         "y": [
          100
         ],
         "yaxis": "y3"
        },
        {
         "hovertext": "0 Orgelpredigtzitate im 24%",
         "marker": {
          "color": "rgb(250,250,250)"
         },
         "type": "bar",
         "x": [
          "Orgelpredigtzitate je Predigtprozent"
         ],
         "xaxis": "x3",
         "y": [
          100
         ],
         "yaxis": "y3"
        },
        {
         "hovertext": "0 Orgelpredigtzitate im 25%",
         "marker": {
          "color": "rgb(250,250,250)"
         },
         "type": "bar",
         "x": [
          "Orgelpredigtzitate je Predigtprozent"
         ],
         "xaxis": "x3",
         "y": [
          100
         ],
         "yaxis": "y3"
        },
        {
         "hovertext": "0 Orgelpredigtzitate im 26%",
         "marker": {
          "color": "rgb(250,250,250)"
         },
         "type": "bar",
         "x": [
          "Orgelpredigtzitate je Predigtprozent"
         ],
         "xaxis": "x3",
         "y": [
          100
         ],
         "yaxis": "y3"
        },
        {
         "hovertext": "1 Orgelpredigtzitate im 27%<br>Einweihungs-Predigt (Görlitz 1704)<br>",
         "marker": {
          "color": "rgb(235,235,235)"
         },
         "type": "bar",
         "x": [
          "Orgelpredigtzitate je Predigtprozent"
         ],
         "xaxis": "x3",
         "y": [
          100
         ],
         "yaxis": "y3"
        },
        {
         "hovertext": "0 Orgelpredigtzitate im 28%",
         "marker": {
          "color": "rgb(250,250,250)"
         },
         "type": "bar",
         "x": [
          "Orgelpredigtzitate je Predigtprozent"
         ],
         "xaxis": "x3",
         "y": [
          100
         ],
         "yaxis": "y3"
        },
        {
         "hovertext": "1 Orgelpredigtzitate im 29%<br>Die Billige Orgel-Freude (Danzig 1739)<br>",
         "marker": {
          "color": "rgb(235,235,235)"
         },
         "type": "bar",
         "x": [
          "Orgelpredigtzitate je Predigtprozent"
         ],
         "xaxis": "x3",
         "y": [
          100
         ],
         "yaxis": "y3"
        },
        {
         "hovertext": "0 Orgelpredigtzitate im 30%",
         "marker": {
          "color": "rgb(250,250,250)"
         },
         "type": "bar",
         "x": [
          "Orgelpredigtzitate je Predigtprozent"
         ],
         "xaxis": "x3",
         "y": [
          100
         ],
         "yaxis": "y3"
        },
        {
         "hovertext": "0 Orgelpredigtzitate im 31%",
         "marker": {
          "color": "rgb(250,250,250)"
         },
         "type": "bar",
         "x": [
          "Orgelpredigtzitate je Predigtprozent"
         ],
         "xaxis": "x3",
         "y": [
          100
         ],
         "yaxis": "y3"
        },
        {
         "hovertext": "0 Orgelpredigtzitate im 32%",
         "marker": {
          "color": "rgb(250,250,250)"
         },
         "type": "bar",
         "x": [
          "Orgelpredigtzitate je Predigtprozent"
         ],
         "xaxis": "x3",
         "y": [
          100
         ],
         "yaxis": "y3"
        },
        {
         "hovertext": "0 Orgelpredigtzitate im 33%",
         "marker": {
          "color": "rgb(250,250,250)"
         },
         "type": "bar",
         "x": [
          "Orgelpredigtzitate je Predigtprozent"
         ],
         "xaxis": "x3",
         "y": [
          100
         ],
         "yaxis": "y3"
        },
        {
         "hovertext": "0 Orgelpredigtzitate im 34%",
         "marker": {
          "color": "rgb(250,250,250)"
         },
         "type": "bar",
         "x": [
          "Orgelpredigtzitate je Predigtprozent"
         ],
         "xaxis": "x3",
         "y": [
          100
         ],
         "yaxis": "y3"
        },
        {
         "hovertext": "1 Orgelpredigtzitate im 35%<br>Vivum Dei Organum (Schneeberg s.a.)<br>",
         "marker": {
          "color": "rgb(235,235,235)"
         },
         "type": "bar",
         "x": [
          "Orgelpredigtzitate je Predigtprozent"
         ],
         "xaxis": "x3",
         "y": [
          100
         ],
         "yaxis": "y3"
        },
        {
         "hovertext": "1 Orgelpredigtzitate im 36%<br>Vivum Dei Organum (Schneeberg s.a.)<br>",
         "marker": {
          "color": "rgb(235,235,235)"
         },
         "type": "bar",
         "x": [
          "Orgelpredigtzitate je Predigtprozent"
         ],
         "xaxis": "x3",
         "y": [
          100
         ],
         "yaxis": "y3"
        },
        {
         "hovertext": "1 Orgelpredigtzitate im 37%<br>Vivum Dei Organum (Schneeberg s.a.)<br>",
         "marker": {
          "color": "rgb(235,235,235)"
         },
         "type": "bar",
         "x": [
          "Orgelpredigtzitate je Predigtprozent"
         ],
         "xaxis": "x3",
         "y": [
          100
         ],
         "yaxis": "y3"
        },
        {
         "hovertext": "1 Orgelpredigtzitate im 38%<br>Glaubiger Kinder Gottes Gott=gefällige Music (Augsburg 1721)<br>",
         "marker": {
          "color": "rgb(235,235,235)"
         },
         "type": "bar",
         "x": [
          "Orgelpredigtzitate je Predigtprozent"
         ],
         "xaxis": "x3",
         "y": [
          100
         ],
         "yaxis": "y3"
        },
        {
         "hovertext": "1 Orgelpredigtzitate im 39%<br>Glaubiger Kinder Gottes Gott=gefällige Music (Augsburg 1721)<br>",
         "marker": {
          "color": "rgb(235,235,235)"
         },
         "type": "bar",
         "x": [
          "Orgelpredigtzitate je Predigtprozent"
         ],
         "xaxis": "x3",
         "y": [
          100
         ],
         "yaxis": "y3"
        },
        {
         "hovertext": "0 Orgelpredigtzitate im 40%",
         "marker": {
          "color": "rgb(250,250,250)"
         },
         "type": "bar",
         "x": [
          "Orgelpredigtzitate je Predigtprozent"
         ],
         "xaxis": "x3",
         "y": [
          100
         ],
         "yaxis": "y3"
        },
        {
         "hovertext": "1 Orgelpredigtzitate im 41%<br>Glaubiger Kinder Gottes Gott=gefällige Music (Augsburg 1721)<br>",
         "marker": {
          "color": "rgb(235,235,235)"
         },
         "type": "bar",
         "x": [
          "Orgelpredigtzitate je Predigtprozent"
         ],
         "xaxis": "x3",
         "y": [
          100
         ],
         "yaxis": "y3"
        },
        {
         "hovertext": "1 Orgelpredigtzitate im 42%<br>Glaubiger Kinder Gottes Gott=gefällige Music (Augsburg 1721)<br>",
         "marker": {
          "color": "rgb(235,235,235)"
         },
         "type": "bar",
         "x": [
          "Orgelpredigtzitate je Predigtprozent"
         ],
         "xaxis": "x3",
         "y": [
          100
         ],
         "yaxis": "y3"
        },
        {
         "hovertext": "0 Orgelpredigtzitate im 43%",
         "marker": {
          "color": "rgb(250,250,250)"
         },
         "type": "bar",
         "x": [
          "Orgelpredigtzitate je Predigtprozent"
         ],
         "xaxis": "x3",
         "y": [
          100
         ],
         "yaxis": "y3"
        },
        {
         "hovertext": "2 Orgelpredigtzitate im 44%<br>Ein wolgerührtes Orgel=Werck (Königsberg 1721)<br>Glaubiger Kinder Gottes Gott=gefällige Music (Augsburg 1721)<br>",
         "marker": {
          "color": "rgb(220,220,220)"
         },
         "type": "bar",
         "x": [
          "Orgelpredigtzitate je Predigtprozent"
         ],
         "xaxis": "x3",
         "y": [
          100
         ],
         "yaxis": "y3"
        },
        {
         "hovertext": "1 Orgelpredigtzitate im 45%<br>Ein wolgerührtes Orgel=Werck (Königsberg 1721)<br>",
         "marker": {
          "color": "rgb(235,235,235)"
         },
         "type": "bar",
         "x": [
          "Orgelpredigtzitate je Predigtprozent"
         ],
         "xaxis": "x3",
         "y": [
          100
         ],
         "yaxis": "y3"
        },
        {
         "hovertext": "0 Orgelpredigtzitate im 46%",
         "marker": {
          "color": "rgb(250,250,250)"
         },
         "type": "bar",
         "x": [
          "Orgelpredigtzitate je Predigtprozent"
         ],
         "xaxis": "x3",
         "y": [
          100
         ],
         "yaxis": "y3"
        },
        {
         "hovertext": "0 Orgelpredigtzitate im 47%",
         "marker": {
          "color": "rgb(250,250,250)"
         },
         "type": "bar",
         "x": [
          "Orgelpredigtzitate je Predigtprozent"
         ],
         "xaxis": "x3",
         "y": [
          100
         ],
         "yaxis": "y3"
        },
        {
         "hovertext": "1 Orgelpredigtzitate im 48%<br>Glaubiger Kinder Gottes Gott=gefällige Music (Augsburg 1721)<br>",
         "marker": {
          "color": "rgb(235,235,235)"
         },
         "type": "bar",
         "x": [
          "Orgelpredigtzitate je Predigtprozent"
         ],
         "xaxis": "x3",
         "y": [
          100
         ],
         "yaxis": "y3"
        },
        {
         "hovertext": "2 Orgelpredigtzitate im 49%<br>Vivum Dei Organum (Schneeberg s.a.)<br>Glaubiger Kinder Gottes Gott=gefällige Music (Augsburg 1721)<br>",
         "marker": {
          "color": "rgb(220,220,220)"
         },
         "type": "bar",
         "x": [
          "Orgelpredigtzitate je Predigtprozent"
         ],
         "xaxis": "x3",
         "y": [
          100
         ],
         "yaxis": "y3"
        },
        {
         "hovertext": "2 Orgelpredigtzitate im 50%<br>Vivum Dei Organum (Schneeberg s.a.)<br>Glaubiger Kinder Gottes Gott=gefällige Music (Augsburg 1721)<br>",
         "marker": {
          "color": "rgb(220,220,220)"
         },
         "type": "bar",
         "x": [
          "Orgelpredigtzitate je Predigtprozent"
         ],
         "xaxis": "x3",
         "y": [
          100
         ],
         "yaxis": "y3"
        },
        {
         "hovertext": "0 Orgelpredigtzitate im 51%",
         "marker": {
          "color": "rgb(250,250,250)"
         },
         "type": "bar",
         "x": [
          "Orgelpredigtzitate je Predigtprozent"
         ],
         "xaxis": "x3",
         "y": [
          100
         ],
         "yaxis": "y3"
        },
        {
         "hovertext": "0 Orgelpredigtzitate im 52%",
         "marker": {
          "color": "rgb(250,250,250)"
         },
         "type": "bar",
         "x": [
          "Orgelpredigtzitate je Predigtprozent"
         ],
         "xaxis": "x3",
         "y": [
          100
         ],
         "yaxis": "y3"
        },
        {
         "hovertext": "0 Orgelpredigtzitate im 53%",
         "marker": {
          "color": "rgb(250,250,250)"
         },
         "type": "bar",
         "x": [
          "Orgelpredigtzitate je Predigtprozent"
         ],
         "xaxis": "x3",
         "y": [
          100
         ],
         "yaxis": "y3"
        },
        {
         "hovertext": "1 Orgelpredigtzitate im 54%<br>Davids Vermahnung (Dresden 1711)<br>",
         "marker": {
          "color": "rgb(235,235,235)"
         },
         "type": "bar",
         "x": [
          "Orgelpredigtzitate je Predigtprozent"
         ],
         "xaxis": "x3",
         "y": [
          100
         ],
         "yaxis": "y3"
        },
        {
         "hovertext": "0 Orgelpredigtzitate im 55%",
         "marker": {
          "color": "rgb(250,250,250)"
         },
         "type": "bar",
         "x": [
          "Orgelpredigtzitate je Predigtprozent"
         ],
         "xaxis": "x3",
         "y": [
          100
         ],
         "yaxis": "y3"
        },
        {
         "hovertext": "1 Orgelpredigtzitate im 56%<br>Ein wolgerührtes Orgel=Werck (Königsberg 1721)<br>",
         "marker": {
          "color": "rgb(235,235,235)"
         },
         "type": "bar",
         "x": [
          "Orgelpredigtzitate je Predigtprozent"
         ],
         "xaxis": "x3",
         "y": [
          100
         ],
         "yaxis": "y3"
        },
        {
         "hovertext": "0 Orgelpredigtzitate im 57%",
         "marker": {
          "color": "rgb(250,250,250)"
         },
         "type": "bar",
         "x": [
          "Orgelpredigtzitate je Predigtprozent"
         ],
         "xaxis": "x3",
         "y": [
          100
         ],
         "yaxis": "y3"
        },
        {
         "hovertext": "0 Orgelpredigtzitate im 58%",
         "marker": {
          "color": "rgb(250,250,250)"
         },
         "type": "bar",
         "x": [
          "Orgelpredigtzitate je Predigtprozent"
         ],
         "xaxis": "x3",
         "y": [
          100
         ],
         "yaxis": "y3"
        },
        {
         "hovertext": "0 Orgelpredigtzitate im 59%",
         "marker": {
          "color": "rgb(250,250,250)"
         },
         "type": "bar",
         "x": [
          "Orgelpredigtzitate je Predigtprozent"
         ],
         "xaxis": "x3",
         "y": [
          100
         ],
         "yaxis": "y3"
        },
        {
         "hovertext": "0 Orgelpredigtzitate im 60%",
         "marker": {
          "color": "rgb(250,250,250)"
         },
         "type": "bar",
         "x": [
          "Orgelpredigtzitate je Predigtprozent"
         ],
         "xaxis": "x3",
         "y": [
          100
         ],
         "yaxis": "y3"
        },
        {
         "hovertext": "0 Orgelpredigtzitate im 61%",
         "marker": {
          "color": "rgb(250,250,250)"
         },
         "type": "bar",
         "x": [
          "Orgelpredigtzitate je Predigtprozent"
         ],
         "xaxis": "x3",
         "y": [
          100
         ],
         "yaxis": "y3"
        },
        {
         "hovertext": "0 Orgelpredigtzitate im 62%",
         "marker": {
          "color": "rgb(250,250,250)"
         },
         "type": "bar",
         "x": [
          "Orgelpredigtzitate je Predigtprozent"
         ],
         "xaxis": "x3",
         "y": [
          100
         ],
         "yaxis": "y3"
        },
        {
         "hovertext": "0 Orgelpredigtzitate im 63%",
         "marker": {
          "color": "rgb(250,250,250)"
         },
         "type": "bar",
         "x": [
          "Orgelpredigtzitate je Predigtprozent"
         ],
         "xaxis": "x3",
         "y": [
          100
         ],
         "yaxis": "y3"
        },
        {
         "hovertext": "0 Orgelpredigtzitate im 64%",
         "marker": {
          "color": "rgb(250,250,250)"
         },
         "type": "bar",
         "x": [
          "Orgelpredigtzitate je Predigtprozent"
         ],
         "xaxis": "x3",
         "y": [
          100
         ],
         "yaxis": "y3"
        },
        {
         "hovertext": "0 Orgelpredigtzitate im 65%",
         "marker": {
          "color": "rgb(250,250,250)"
         },
         "type": "bar",
         "x": [
          "Orgelpredigtzitate je Predigtprozent"
         ],
         "xaxis": "x3",
         "y": [
          100
         ],
         "yaxis": "y3"
        },
        {
         "hovertext": "1 Orgelpredigtzitate im 66%<br>Davids Vermahnung (Dresden 1711)<br>",
         "marker": {
          "color": "rgb(235,235,235)"
         },
         "type": "bar",
         "x": [
          "Orgelpredigtzitate je Predigtprozent"
         ],
         "xaxis": "x3",
         "y": [
          100
         ],
         "yaxis": "y3"
        },
        {
         "hovertext": "0 Orgelpredigtzitate im 67%",
         "marker": {
          "color": "rgb(250,250,250)"
         },
         "type": "bar",
         "x": [
          "Orgelpredigtzitate je Predigtprozent"
         ],
         "xaxis": "x3",
         "y": [
          100
         ],
         "yaxis": "y3"
        },
        {
         "hovertext": "0 Orgelpredigtzitate im 68%",
         "marker": {
          "color": "rgb(250,250,250)"
         },
         "type": "bar",
         "x": [
          "Orgelpredigtzitate je Predigtprozent"
         ],
         "xaxis": "x3",
         "y": [
          100
         ],
         "yaxis": "y3"
        },
        {
         "hovertext": "0 Orgelpredigtzitate im 69%",
         "marker": {
          "color": "rgb(250,250,250)"
         },
         "type": "bar",
         "x": [
          "Orgelpredigtzitate je Predigtprozent"
         ],
         "xaxis": "x3",
         "y": [
          100
         ],
         "yaxis": "y3"
        },
        {
         "hovertext": "0 Orgelpredigtzitate im 70%",
         "marker": {
          "color": "rgb(250,250,250)"
         },
         "type": "bar",
         "x": [
          "Orgelpredigtzitate je Predigtprozent"
         ],
         "xaxis": "x3",
         "y": [
          100
         ],
         "yaxis": "y3"
        },
        {
         "hovertext": "1 Orgelpredigtzitate im 71%<br>Orgel Weih-Predigt (Ansbach 1709)<br>",
         "marker": {
          "color": "rgb(235,235,235)"
         },
         "type": "bar",
         "x": [
          "Orgelpredigtzitate je Predigtprozent"
         ],
         "xaxis": "x3",
         "y": [
          100
         ],
         "yaxis": "y3"
        },
        {
         "hovertext": "1 Orgelpredigtzitate im 72%<br>Orgel Weih-Predigt (Ansbach 1709)<br>",
         "marker": {
          "color": "rgb(235,235,235)"
         },
         "type": "bar",
         "x": [
          "Orgelpredigtzitate je Predigtprozent"
         ],
         "xaxis": "x3",
         "y": [
          100
         ],
         "yaxis": "y3"
        },
        {
         "hovertext": "0 Orgelpredigtzitate im 73%",
         "marker": {
          "color": "rgb(250,250,250)"
         },
         "type": "bar",
         "x": [
          "Orgelpredigtzitate je Predigtprozent"
         ],
         "xaxis": "x3",
         "y": [
          100
         ],
         "yaxis": "y3"
        },
        {
         "hovertext": "0 Orgelpredigtzitate im 74%",
         "marker": {
          "color": "rgb(250,250,250)"
         },
         "type": "bar",
         "x": [
          "Orgelpredigtzitate je Predigtprozent"
         ],
         "xaxis": "x3",
         "y": [
          100
         ],
         "yaxis": "y3"
        },
        {
         "hovertext": "0 Orgelpredigtzitate im 75%",
         "marker": {
          "color": "rgb(250,250,250)"
         },
         "type": "bar",
         "x": [
          "Orgelpredigtzitate je Predigtprozent"
         ],
         "xaxis": "x3",
         "y": [
          100
         ],
         "yaxis": "y3"
        },
        {
         "hovertext": "0 Orgelpredigtzitate im 76%",
         "marker": {
          "color": "rgb(250,250,250)"
         },
         "type": "bar",
         "x": [
          "Orgelpredigtzitate je Predigtprozent"
         ],
         "xaxis": "x3",
         "y": [
          100
         ],
         "yaxis": "y3"
        },
        {
         "hovertext": "0 Orgelpredigtzitate im 77%",
         "marker": {
          "color": "rgb(250,250,250)"
         },
         "type": "bar",
         "x": [
          "Orgelpredigtzitate je Predigtprozent"
         ],
         "xaxis": "x3",
         "y": [
          100
         ],
         "yaxis": "y3"
        },
        {
         "hovertext": "0 Orgelpredigtzitate im 78%",
         "marker": {
          "color": "rgb(250,250,250)"
         },
         "type": "bar",
         "x": [
          "Orgelpredigtzitate je Predigtprozent"
         ],
         "xaxis": "x3",
         "y": [
          100
         ],
         "yaxis": "y3"
        },
        {
         "hovertext": "0 Orgelpredigtzitate im 79%",
         "marker": {
          "color": "rgb(250,250,250)"
         },
         "type": "bar",
         "x": [
          "Orgelpredigtzitate je Predigtprozent"
         ],
         "xaxis": "x3",
         "y": [
          100
         ],
         "yaxis": "y3"
        },
        {
         "hovertext": "0 Orgelpredigtzitate im 80%",
         "marker": {
          "color": "rgb(250,250,250)"
         },
         "type": "bar",
         "x": [
          "Orgelpredigtzitate je Predigtprozent"
         ],
         "xaxis": "x3",
         "y": [
          100
         ],
         "yaxis": "y3"
        },
        {
         "hovertext": "0 Orgelpredigtzitate im 81%",
         "marker": {
          "color": "rgb(250,250,250)"
         },
         "type": "bar",
         "x": [
          "Orgelpredigtzitate je Predigtprozent"
         ],
         "xaxis": "x3",
         "y": [
          100
         ],
         "yaxis": "y3"
        },
        {
         "hovertext": "0 Orgelpredigtzitate im 82%",
         "marker": {
          "color": "rgb(250,250,250)"
         },
         "type": "bar",
         "x": [
          "Orgelpredigtzitate je Predigtprozent"
         ],
         "xaxis": "x3",
         "y": [
          100
         ],
         "yaxis": "y3"
        },
        {
         "hovertext": "1 Orgelpredigtzitate im 83%<br>Ein wolgerührtes Orgel=Werck (Königsberg 1721)<br>",
         "marker": {
          "color": "rgb(235,235,235)"
         },
         "type": "bar",
         "x": [
          "Orgelpredigtzitate je Predigtprozent"
         ],
         "xaxis": "x3",
         "y": [
          100
         ],
         "yaxis": "y3"
        },
        {
         "hovertext": "0 Orgelpredigtzitate im 84%",
         "marker": {
          "color": "rgb(250,250,250)"
         },
         "type": "bar",
         "x": [
          "Orgelpredigtzitate je Predigtprozent"
         ],
         "xaxis": "x3",
         "y": [
          100
         ],
         "yaxis": "y3"
        },
        {
         "hovertext": "0 Orgelpredigtzitate im 85%",
         "marker": {
          "color": "rgb(250,250,250)"
         },
         "type": "bar",
         "x": [
          "Orgelpredigtzitate je Predigtprozent"
         ],
         "xaxis": "x3",
         "y": [
          100
         ],
         "yaxis": "y3"
        },
        {
         "hovertext": "0 Orgelpredigtzitate im 86%",
         "marker": {
          "color": "rgb(250,250,250)"
         },
         "type": "bar",
         "x": [
          "Orgelpredigtzitate je Predigtprozent"
         ],
         "xaxis": "x3",
         "y": [
          100
         ],
         "yaxis": "y3"
        },
        {
         "hovertext": "0 Orgelpredigtzitate im 87%",
         "marker": {
          "color": "rgb(250,250,250)"
         },
         "type": "bar",
         "x": [
          "Orgelpredigtzitate je Predigtprozent"
         ],
         "xaxis": "x3",
         "y": [
          100
         ],
         "yaxis": "y3"
        },
        {
         "hovertext": "0 Orgelpredigtzitate im 88%",
         "marker": {
          "color": "rgb(250,250,250)"
         },
         "type": "bar",
         "x": [
          "Orgelpredigtzitate je Predigtprozent"
         ],
         "xaxis": "x3",
         "y": [
          100
         ],
         "yaxis": "y3"
        },
        {
         "hovertext": "0 Orgelpredigtzitate im 89%",
         "marker": {
          "color": "rgb(250,250,250)"
         },
         "type": "bar",
         "x": [
          "Orgelpredigtzitate je Predigtprozent"
         ],
         "xaxis": "x3",
         "y": [
          100
         ],
         "yaxis": "y3"
        },
        {
         "hovertext": "1 Orgelpredigtzitate im 90%<br>Die heilige Sabbaths-Lust an dem Herrn (Danzig 1749)<br>",
         "marker": {
          "color": "rgb(235,235,235)"
         },
         "type": "bar",
         "x": [
          "Orgelpredigtzitate je Predigtprozent"
         ],
         "xaxis": "x3",
         "y": [
          100
         ],
         "yaxis": "y3"
        },
        {
         "hovertext": "1 Orgelpredigtzitate im 91%<br>Die heilige Sabbaths-Lust an dem Herrn (Danzig 1749)<br>",
         "marker": {
          "color": "rgb(235,235,235)"
         },
         "type": "bar",
         "x": [
          "Orgelpredigtzitate je Predigtprozent"
         ],
         "xaxis": "x3",
         "y": [
          100
         ],
         "yaxis": "y3"
        },
        {
         "hovertext": "2 Orgelpredigtzitate im 92%<br>Die Billige Orgel-Freude (Danzig 1739)<br>Orgel Weih-Predigt (Ansbach 1709)<br>",
         "marker": {
          "color": "rgb(220,220,220)"
         },
         "type": "bar",
         "x": [
          "Orgelpredigtzitate je Predigtprozent"
         ],
         "xaxis": "x3",
         "y": [
          100
         ],
         "yaxis": "y3"
        },
        {
         "hovertext": "1 Orgelpredigtzitate im 93%<br>Orgel Weih-Predigt (Ansbach 1709)<br>",
         "marker": {
          "color": "rgb(235,235,235)"
         },
         "type": "bar",
         "x": [
          "Orgelpredigtzitate je Predigtprozent"
         ],
         "xaxis": "x3",
         "y": [
          100
         ],
         "yaxis": "y3"
        },
        {
         "hovertext": "1 Orgelpredigtzitate im 94%<br>Vivum Dei Organum (Schneeberg s.a.)<br>",
         "marker": {
          "color": "rgb(235,235,235)"
         },
         "type": "bar",
         "x": [
          "Orgelpredigtzitate je Predigtprozent"
         ],
         "xaxis": "x3",
         "y": [
          100
         ],
         "yaxis": "y3"
        },
        {
         "hovertext": "2 Orgelpredigtzitate im 95%<br>Vivum Dei Organum (Schneeberg s.a.)<br>Orgel Weih-Predigt (Ansbach 1709)<br>",
         "marker": {
          "color": "rgb(220,220,220)"
         },
         "type": "bar",
         "x": [
          "Orgelpredigtzitate je Predigtprozent"
         ],
         "xaxis": "x3",
         "y": [
          100
         ],
         "yaxis": "y3"
        },
        {
         "hovertext": "1 Orgelpredigtzitate im 96%<br>Orgel Weih-Predigt (Ansbach 1709)<br>",
         "marker": {
          "color": "rgb(235,235,235)"
         },
         "type": "bar",
         "x": [
          "Orgelpredigtzitate je Predigtprozent"
         ],
         "xaxis": "x3",
         "y": [
          100
         ],
         "yaxis": "y3"
        },
        {
         "hovertext": "1 Orgelpredigtzitate im 97%<br>Orgel Weih-Predigt (Ansbach 1709)<br>",
         "marker": {
          "color": "rgb(235,235,235)"
         },
         "type": "bar",
         "x": [
          "Orgelpredigtzitate je Predigtprozent"
         ],
         "xaxis": "x3",
         "y": [
          100
         ],
         "yaxis": "y3"
        },
        {
         "hovertext": "0 Orgelpredigtzitate im 98%",
         "marker": {
          "color": "rgb(250,250,250)"
         },
         "type": "bar",
         "x": [
          "Orgelpredigtzitate je Predigtprozent"
         ],
         "xaxis": "x3",
         "y": [
          100
         ],
         "yaxis": "y3"
        },
        {
         "hovertext": "0 Orgelpredigtzitate im 99%",
         "marker": {
          "color": "rgb(250,250,250)"
         },
         "type": "bar",
         "x": [
          "Orgelpredigtzitate je Predigtprozent"
         ],
         "xaxis": "x3",
         "y": [
          100
         ],
         "yaxis": "y3"
        },
        {
         "hovertext": "0 Orgelpredigtzitate im 100%",
         "marker": {
          "color": "rgb(250,250,250)"
         },
         "type": "bar",
         "x": [
          "Orgelpredigtzitate je Predigtprozent"
         ],
         "xaxis": "x3",
         "y": [
          100
         ],
         "yaxis": "y3"
        },
        {
         "hovertext": "0 Orgelpredigtzitate im 1%",
         "marker": {
          "color": "rgb(250,250,250)"
         },
         "type": "bar",
         "x": [
          "Orgelpredigtzitate je Predigtprozent"
         ],
         "xaxis": "x4",
         "y": [
          100
         ],
         "yaxis": "y4"
        },
        {
         "hovertext": "0 Orgelpredigtzitate im 2%",
         "marker": {
          "color": "rgb(250,250,250)"
         },
         "type": "bar",
         "x": [
          "Orgelpredigtzitate je Predigtprozent"
         ],
         "xaxis": "x4",
         "y": [
          100
         ],
         "yaxis": "y4"
        },
        {
         "hovertext": "0 Orgelpredigtzitate im 3%",
         "marker": {
          "color": "rgb(250,250,250)"
         },
         "type": "bar",
         "x": [
          "Orgelpredigtzitate je Predigtprozent"
         ],
         "xaxis": "x4",
         "y": [
          100
         ],
         "yaxis": "y4"
        },
        {
         "hovertext": "0 Orgelpredigtzitate im 4%",
         "marker": {
          "color": "rgb(250,250,250)"
         },
         "type": "bar",
         "x": [
          "Orgelpredigtzitate je Predigtprozent"
         ],
         "xaxis": "x4",
         "y": [
          100
         ],
         "yaxis": "y4"
        },
        {
         "hovertext": "0 Orgelpredigtzitate im 5%",
         "marker": {
          "color": "rgb(250,250,250)"
         },
         "type": "bar",
         "x": [
          "Orgelpredigtzitate je Predigtprozent"
         ],
         "xaxis": "x4",
         "y": [
          100
         ],
         "yaxis": "y4"
        },
        {
         "hovertext": "0 Orgelpredigtzitate im 6%",
         "marker": {
          "color": "rgb(250,250,250)"
         },
         "type": "bar",
         "x": [
          "Orgelpredigtzitate je Predigtprozent"
         ],
         "xaxis": "x4",
         "y": [
          100
         ],
         "yaxis": "y4"
        },
        {
         "hovertext": "0 Orgelpredigtzitate im 7%",
         "marker": {
          "color": "rgb(250,250,250)"
         },
         "type": "bar",
         "x": [
          "Orgelpredigtzitate je Predigtprozent"
         ],
         "xaxis": "x4",
         "y": [
          100
         ],
         "yaxis": "y4"
        },
        {
         "hovertext": "0 Orgelpredigtzitate im 8%",
         "marker": {
          "color": "rgb(250,250,250)"
         },
         "type": "bar",
         "x": [
          "Orgelpredigtzitate je Predigtprozent"
         ],
         "xaxis": "x4",
         "y": [
          100
         ],
         "yaxis": "y4"
        },
        {
         "hovertext": "0 Orgelpredigtzitate im 9%",
         "marker": {
          "color": "rgb(250,250,250)"
         },
         "type": "bar",
         "x": [
          "Orgelpredigtzitate je Predigtprozent"
         ],
         "xaxis": "x4",
         "y": [
          100
         ],
         "yaxis": "y4"
        },
        {
         "hovertext": "0 Orgelpredigtzitate im 10%",
         "marker": {
          "color": "rgb(250,250,250)"
         },
         "type": "bar",
         "x": [
          "Orgelpredigtzitate je Predigtprozent"
         ],
         "xaxis": "x4",
         "y": [
          100
         ],
         "yaxis": "y4"
        },
        {
         "hovertext": "0 Orgelpredigtzitate im 11%",
         "marker": {
          "color": "rgb(250,250,250)"
         },
         "type": "bar",
         "x": [
          "Orgelpredigtzitate je Predigtprozent"
         ],
         "xaxis": "x4",
         "y": [
          100
         ],
         "yaxis": "y4"
        },
        {
         "hovertext": "0 Orgelpredigtzitate im 12%",
         "marker": {
          "color": "rgb(250,250,250)"
         },
         "type": "bar",
         "x": [
          "Orgelpredigtzitate je Predigtprozent"
         ],
         "xaxis": "x4",
         "y": [
          100
         ],
         "yaxis": "y4"
        },
        {
         "hovertext": "0 Orgelpredigtzitate im 13%",
         "marker": {
          "color": "rgb(250,250,250)"
         },
         "type": "bar",
         "x": [
          "Orgelpredigtzitate je Predigtprozent"
         ],
         "xaxis": "x4",
         "y": [
          100
         ],
         "yaxis": "y4"
        },
        {
         "hovertext": "0 Orgelpredigtzitate im 14%",
         "marker": {
          "color": "rgb(250,250,250)"
         },
         "type": "bar",
         "x": [
          "Orgelpredigtzitate je Predigtprozent"
         ],
         "xaxis": "x4",
         "y": [
          100
         ],
         "yaxis": "y4"
        },
        {
         "hovertext": "0 Orgelpredigtzitate im 15%",
         "marker": {
          "color": "rgb(250,250,250)"
         },
         "type": "bar",
         "x": [
          "Orgelpredigtzitate je Predigtprozent"
         ],
         "xaxis": "x4",
         "y": [
          100
         ],
         "yaxis": "y4"
        },
        {
         "hovertext": "0 Orgelpredigtzitate im 16%",
         "marker": {
          "color": "rgb(250,250,250)"
         },
         "type": "bar",
         "x": [
          "Orgelpredigtzitate je Predigtprozent"
         ],
         "xaxis": "x4",
         "y": [
          100
         ],
         "yaxis": "y4"
        },
        {
         "hovertext": "0 Orgelpredigtzitate im 17%",
         "marker": {
          "color": "rgb(250,250,250)"
         },
         "type": "bar",
         "x": [
          "Orgelpredigtzitate je Predigtprozent"
         ],
         "xaxis": "x4",
         "y": [
          100
         ],
         "yaxis": "y4"
        },
        {
         "hovertext": "0 Orgelpredigtzitate im 18%",
         "marker": {
          "color": "rgb(250,250,250)"
         },
         "type": "bar",
         "x": [
          "Orgelpredigtzitate je Predigtprozent"
         ],
         "xaxis": "x4",
         "y": [
          100
         ],
         "yaxis": "y4"
        },
        {
         "hovertext": "0 Orgelpredigtzitate im 19%",
         "marker": {
          "color": "rgb(250,250,250)"
         },
         "type": "bar",
         "x": [
          "Orgelpredigtzitate je Predigtprozent"
         ],
         "xaxis": "x4",
         "y": [
          100
         ],
         "yaxis": "y4"
        },
        {
         "hovertext": "0 Orgelpredigtzitate im 20%",
         "marker": {
          "color": "rgb(250,250,250)"
         },
         "type": "bar",
         "x": [
          "Orgelpredigtzitate je Predigtprozent"
         ],
         "xaxis": "x4",
         "y": [
          100
         ],
         "yaxis": "y4"
        },
        {
         "hovertext": "0 Orgelpredigtzitate im 21%",
         "marker": {
          "color": "rgb(250,250,250)"
         },
         "type": "bar",
         "x": [
          "Orgelpredigtzitate je Predigtprozent"
         ],
         "xaxis": "x4",
         "y": [
          100
         ],
         "yaxis": "y4"
        },
        {
         "hovertext": "0 Orgelpredigtzitate im 22%",
         "marker": {
          "color": "rgb(250,250,250)"
         },
         "type": "bar",
         "x": [
          "Orgelpredigtzitate je Predigtprozent"
         ],
         "xaxis": "x4",
         "y": [
          100
         ],
         "yaxis": "y4"
        },
        {
         "hovertext": "0 Orgelpredigtzitate im 23%",
         "marker": {
          "color": "rgb(250,250,250)"
         },
         "type": "bar",
         "x": [
          "Orgelpredigtzitate je Predigtprozent"
         ],
         "xaxis": "x4",
         "y": [
          100
         ],
         "yaxis": "y4"
        },
        {
         "hovertext": "0 Orgelpredigtzitate im 24%",
         "marker": {
          "color": "rgb(250,250,250)"
         },
         "type": "bar",
         "x": [
          "Orgelpredigtzitate je Predigtprozent"
         ],
         "xaxis": "x4",
         "y": [
          100
         ],
         "yaxis": "y4"
        },
        {
         "hovertext": "0 Orgelpredigtzitate im 25%",
         "marker": {
          "color": "rgb(250,250,250)"
         },
         "type": "bar",
         "x": [
          "Orgelpredigtzitate je Predigtprozent"
         ],
         "xaxis": "x4",
         "y": [
          100
         ],
         "yaxis": "y4"
        },
        {
         "hovertext": "0 Orgelpredigtzitate im 26%",
         "marker": {
          "color": "rgb(250,250,250)"
         },
         "type": "bar",
         "x": [
          "Orgelpredigtzitate je Predigtprozent"
         ],
         "xaxis": "x4",
         "y": [
          100
         ],
         "yaxis": "y4"
        },
        {
         "hovertext": "0 Orgelpredigtzitate im 27%",
         "marker": {
          "color": "rgb(250,250,250)"
         },
         "type": "bar",
         "x": [
          "Orgelpredigtzitate je Predigtprozent"
         ],
         "xaxis": "x4",
         "y": [
          100
         ],
         "yaxis": "y4"
        },
        {
         "hovertext": "0 Orgelpredigtzitate im 28%",
         "marker": {
          "color": "rgb(250,250,250)"
         },
         "type": "bar",
         "x": [
          "Orgelpredigtzitate je Predigtprozent"
         ],
         "xaxis": "x4",
         "y": [
          100
         ],
         "yaxis": "y4"
        },
        {
         "hovertext": "0 Orgelpredigtzitate im 29%",
         "marker": {
          "color": "rgb(250,250,250)"
         },
         "type": "bar",
         "x": [
          "Orgelpredigtzitate je Predigtprozent"
         ],
         "xaxis": "x4",
         "y": [
          100
         ],
         "yaxis": "y4"
        },
        {
         "hovertext": "0 Orgelpredigtzitate im 30%",
         "marker": {
          "color": "rgb(250,250,250)"
         },
         "type": "bar",
         "x": [
          "Orgelpredigtzitate je Predigtprozent"
         ],
         "xaxis": "x4",
         "y": [
          100
         ],
         "yaxis": "y4"
        },
        {
         "hovertext": "0 Orgelpredigtzitate im 31%",
         "marker": {
          "color": "rgb(250,250,250)"
         },
         "type": "bar",
         "x": [
          "Orgelpredigtzitate je Predigtprozent"
         ],
         "xaxis": "x4",
         "y": [
          100
         ],
         "yaxis": "y4"
        },
        {
         "hovertext": "0 Orgelpredigtzitate im 32%",
         "marker": {
          "color": "rgb(250,250,250)"
         },
         "type": "bar",
         "x": [
          "Orgelpredigtzitate je Predigtprozent"
         ],
         "xaxis": "x4",
         "y": [
          100
         ],
         "yaxis": "y4"
        },
        {
         "hovertext": "0 Orgelpredigtzitate im 33%",
         "marker": {
          "color": "rgb(250,250,250)"
         },
         "type": "bar",
         "x": [
          "Orgelpredigtzitate je Predigtprozent"
         ],
         "xaxis": "x4",
         "y": [
          100
         ],
         "yaxis": "y4"
        },
        {
         "hovertext": "0 Orgelpredigtzitate im 34%",
         "marker": {
          "color": "rgb(250,250,250)"
         },
         "type": "bar",
         "x": [
          "Orgelpredigtzitate je Predigtprozent"
         ],
         "xaxis": "x4",
         "y": [
          100
         ],
         "yaxis": "y4"
        },
        {
         "hovertext": "0 Orgelpredigtzitate im 35%",
         "marker": {
          "color": "rgb(250,250,250)"
         },
         "type": "bar",
         "x": [
          "Orgelpredigtzitate je Predigtprozent"
         ],
         "xaxis": "x4",
         "y": [
          100
         ],
         "yaxis": "y4"
        },
        {
         "hovertext": "0 Orgelpredigtzitate im 36%",
         "marker": {
          "color": "rgb(250,250,250)"
         },
         "type": "bar",
         "x": [
          "Orgelpredigtzitate je Predigtprozent"
         ],
         "xaxis": "x4",
         "y": [
          100
         ],
         "yaxis": "y4"
        },
        {
         "hovertext": "0 Orgelpredigtzitate im 37%",
         "marker": {
          "color": "rgb(250,250,250)"
         },
         "type": "bar",
         "x": [
          "Orgelpredigtzitate je Predigtprozent"
         ],
         "xaxis": "x4",
         "y": [
          100
         ],
         "yaxis": "y4"
        },
        {
         "hovertext": "0 Orgelpredigtzitate im 38%",
         "marker": {
          "color": "rgb(250,250,250)"
         },
         "type": "bar",
         "x": [
          "Orgelpredigtzitate je Predigtprozent"
         ],
         "xaxis": "x4",
         "y": [
          100
         ],
         "yaxis": "y4"
        },
        {
         "hovertext": "0 Orgelpredigtzitate im 39%",
         "marker": {
          "color": "rgb(250,250,250)"
         },
         "type": "bar",
         "x": [
          "Orgelpredigtzitate je Predigtprozent"
         ],
         "xaxis": "x4",
         "y": [
          100
         ],
         "yaxis": "y4"
        },
        {
         "hovertext": "0 Orgelpredigtzitate im 40%",
         "marker": {
          "color": "rgb(250,250,250)"
         },
         "type": "bar",
         "x": [
          "Orgelpredigtzitate je Predigtprozent"
         ],
         "xaxis": "x4",
         "y": [
          100
         ],
         "yaxis": "y4"
        },
        {
         "hovertext": "0 Orgelpredigtzitate im 41%",
         "marker": {
          "color": "rgb(250,250,250)"
         },
         "type": "bar",
         "x": [
          "Orgelpredigtzitate je Predigtprozent"
         ],
         "xaxis": "x4",
         "y": [
          100
         ],
         "yaxis": "y4"
        },
        {
         "hovertext": "0 Orgelpredigtzitate im 42%",
         "marker": {
          "color": "rgb(250,250,250)"
         },
         "type": "bar",
         "x": [
          "Orgelpredigtzitate je Predigtprozent"
         ],
         "xaxis": "x4",
         "y": [
          100
         ],
         "yaxis": "y4"
        },
        {
         "hovertext": "0 Orgelpredigtzitate im 43%",
         "marker": {
          "color": "rgb(250,250,250)"
         },
         "type": "bar",
         "x": [
          "Orgelpredigtzitate je Predigtprozent"
         ],
         "xaxis": "x4",
         "y": [
          100
         ],
         "yaxis": "y4"
        },
        {
         "hovertext": "0 Orgelpredigtzitate im 44%",
         "marker": {
          "color": "rgb(250,250,250)"
         },
         "type": "bar",
         "x": [
          "Orgelpredigtzitate je Predigtprozent"
         ],
         "xaxis": "x4",
         "y": [
          100
         ],
         "yaxis": "y4"
        },
        {
         "hovertext": "0 Orgelpredigtzitate im 45%",
         "marker": {
          "color": "rgb(250,250,250)"
         },
         "type": "bar",
         "x": [
          "Orgelpredigtzitate je Predigtprozent"
         ],
         "xaxis": "x4",
         "y": [
          100
         ],
         "yaxis": "y4"
        },
        {
         "hovertext": "0 Orgelpredigtzitate im 46%",
         "marker": {
          "color": "rgb(250,250,250)"
         },
         "type": "bar",
         "x": [
          "Orgelpredigtzitate je Predigtprozent"
         ],
         "xaxis": "x4",
         "y": [
          100
         ],
         "yaxis": "y4"
        },
        {
         "hovertext": "0 Orgelpredigtzitate im 47%",
         "marker": {
          "color": "rgb(250,250,250)"
         },
         "type": "bar",
         "x": [
          "Orgelpredigtzitate je Predigtprozent"
         ],
         "xaxis": "x4",
         "y": [
          100
         ],
         "yaxis": "y4"
        },
        {
         "hovertext": "0 Orgelpredigtzitate im 48%",
         "marker": {
          "color": "rgb(250,250,250)"
         },
         "type": "bar",
         "x": [
          "Orgelpredigtzitate je Predigtprozent"
         ],
         "xaxis": "x4",
         "y": [
          100
         ],
         "yaxis": "y4"
        },
        {
         "hovertext": "0 Orgelpredigtzitate im 49%",
         "marker": {
          "color": "rgb(250,250,250)"
         },
         "type": "bar",
         "x": [
          "Orgelpredigtzitate je Predigtprozent"
         ],
         "xaxis": "x4",
         "y": [
          100
         ],
         "yaxis": "y4"
        },
        {
         "hovertext": "0 Orgelpredigtzitate im 50%",
         "marker": {
          "color": "rgb(250,250,250)"
         },
         "type": "bar",
         "x": [
          "Orgelpredigtzitate je Predigtprozent"
         ],
         "xaxis": "x4",
         "y": [
          100
         ],
         "yaxis": "y4"
        },
        {
         "hovertext": "0 Orgelpredigtzitate im 51%",
         "marker": {
          "color": "rgb(250,250,250)"
         },
         "type": "bar",
         "x": [
          "Orgelpredigtzitate je Predigtprozent"
         ],
         "xaxis": "x4",
         "y": [
          100
         ],
         "yaxis": "y4"
        },
        {
         "hovertext": "0 Orgelpredigtzitate im 52%",
         "marker": {
          "color": "rgb(250,250,250)"
         },
         "type": "bar",
         "x": [
          "Orgelpredigtzitate je Predigtprozent"
         ],
         "xaxis": "x4",
         "y": [
          100
         ],
         "yaxis": "y4"
        },
        {
         "hovertext": "0 Orgelpredigtzitate im 53%",
         "marker": {
          "color": "rgb(250,250,250)"
         },
         "type": "bar",
         "x": [
          "Orgelpredigtzitate je Predigtprozent"
         ],
         "xaxis": "x4",
         "y": [
          100
         ],
         "yaxis": "y4"
        },
        {
         "hovertext": "0 Orgelpredigtzitate im 54%",
         "marker": {
          "color": "rgb(250,250,250)"
         },
         "type": "bar",
         "x": [
          "Orgelpredigtzitate je Predigtprozent"
         ],
         "xaxis": "x4",
         "y": [
          100
         ],
         "yaxis": "y4"
        },
        {
         "hovertext": "0 Orgelpredigtzitate im 55%",
         "marker": {
          "color": "rgb(250,250,250)"
         },
         "type": "bar",
         "x": [
          "Orgelpredigtzitate je Predigtprozent"
         ],
         "xaxis": "x4",
         "y": [
          100
         ],
         "yaxis": "y4"
        },
        {
         "hovertext": "0 Orgelpredigtzitate im 56%",
         "marker": {
          "color": "rgb(250,250,250)"
         },
         "type": "bar",
         "x": [
          "Orgelpredigtzitate je Predigtprozent"
         ],
         "xaxis": "x4",
         "y": [
          100
         ],
         "yaxis": "y4"
        },
        {
         "hovertext": "0 Orgelpredigtzitate im 57%",
         "marker": {
          "color": "rgb(250,250,250)"
         },
         "type": "bar",
         "x": [
          "Orgelpredigtzitate je Predigtprozent"
         ],
         "xaxis": "x4",
         "y": [
          100
         ],
         "yaxis": "y4"
        },
        {
         "hovertext": "0 Orgelpredigtzitate im 58%",
         "marker": {
          "color": "rgb(250,250,250)"
         },
         "type": "bar",
         "x": [
          "Orgelpredigtzitate je Predigtprozent"
         ],
         "xaxis": "x4",
         "y": [
          100
         ],
         "yaxis": "y4"
        },
        {
         "hovertext": "0 Orgelpredigtzitate im 59%",
         "marker": {
          "color": "rgb(250,250,250)"
         },
         "type": "bar",
         "x": [
          "Orgelpredigtzitate je Predigtprozent"
         ],
         "xaxis": "x4",
         "y": [
          100
         ],
         "yaxis": "y4"
        },
        {
         "hovertext": "0 Orgelpredigtzitate im 60%",
         "marker": {
          "color": "rgb(250,250,250)"
         },
         "type": "bar",
         "x": [
          "Orgelpredigtzitate je Predigtprozent"
         ],
         "xaxis": "x4",
         "y": [
          100
         ],
         "yaxis": "y4"
        },
        {
         "hovertext": "0 Orgelpredigtzitate im 61%",
         "marker": {
          "color": "rgb(250,250,250)"
         },
         "type": "bar",
         "x": [
          "Orgelpredigtzitate je Predigtprozent"
         ],
         "xaxis": "x4",
         "y": [
          100
         ],
         "yaxis": "y4"
        },
        {
         "hovertext": "0 Orgelpredigtzitate im 62%",
         "marker": {
          "color": "rgb(250,250,250)"
         },
         "type": "bar",
         "x": [
          "Orgelpredigtzitate je Predigtprozent"
         ],
         "xaxis": "x4",
         "y": [
          100
         ],
         "yaxis": "y4"
        },
        {
         "hovertext": "0 Orgelpredigtzitate im 63%",
         "marker": {
          "color": "rgb(250,250,250)"
         },
         "type": "bar",
         "x": [
          "Orgelpredigtzitate je Predigtprozent"
         ],
         "xaxis": "x4",
         "y": [
          100
         ],
         "yaxis": "y4"
        },
        {
         "hovertext": "0 Orgelpredigtzitate im 64%",
         "marker": {
          "color": "rgb(250,250,250)"
         },
         "type": "bar",
         "x": [
          "Orgelpredigtzitate je Predigtprozent"
         ],
         "xaxis": "x4",
         "y": [
          100
         ],
         "yaxis": "y4"
        },
        {
         "hovertext": "0 Orgelpredigtzitate im 65%",
         "marker": {
          "color": "rgb(250,250,250)"
         },
         "type": "bar",
         "x": [
          "Orgelpredigtzitate je Predigtprozent"
         ],
         "xaxis": "x4",
         "y": [
          100
         ],
         "yaxis": "y4"
        },
        {
         "hovertext": "0 Orgelpredigtzitate im 66%",
         "marker": {
          "color": "rgb(250,250,250)"
         },
         "type": "bar",
         "x": [
          "Orgelpredigtzitate je Predigtprozent"
         ],
         "xaxis": "x4",
         "y": [
          100
         ],
         "yaxis": "y4"
        },
        {
         "hovertext": "0 Orgelpredigtzitate im 67%",
         "marker": {
          "color": "rgb(250,250,250)"
         },
         "type": "bar",
         "x": [
          "Orgelpredigtzitate je Predigtprozent"
         ],
         "xaxis": "x4",
         "y": [
          100
         ],
         "yaxis": "y4"
        },
        {
         "hovertext": "0 Orgelpredigtzitate im 68%",
         "marker": {
          "color": "rgb(250,250,250)"
         },
         "type": "bar",
         "x": [
          "Orgelpredigtzitate je Predigtprozent"
         ],
         "xaxis": "x4",
         "y": [
          100
         ],
         "yaxis": "y4"
        },
        {
         "hovertext": "0 Orgelpredigtzitate im 69%",
         "marker": {
          "color": "rgb(250,250,250)"
         },
         "type": "bar",
         "x": [
          "Orgelpredigtzitate je Predigtprozent"
         ],
         "xaxis": "x4",
         "y": [
          100
         ],
         "yaxis": "y4"
        },
        {
         "hovertext": "0 Orgelpredigtzitate im 70%",
         "marker": {
          "color": "rgb(250,250,250)"
         },
         "type": "bar",
         "x": [
          "Orgelpredigtzitate je Predigtprozent"
         ],
         "xaxis": "x4",
         "y": [
          100
         ],
         "yaxis": "y4"
        },
        {
         "hovertext": "0 Orgelpredigtzitate im 71%",
         "marker": {
          "color": "rgb(250,250,250)"
         },
         "type": "bar",
         "x": [
          "Orgelpredigtzitate je Predigtprozent"
         ],
         "xaxis": "x4",
         "y": [
          100
         ],
         "yaxis": "y4"
        },
        {
         "hovertext": "0 Orgelpredigtzitate im 72%",
         "marker": {
          "color": "rgb(250,250,250)"
         },
         "type": "bar",
         "x": [
          "Orgelpredigtzitate je Predigtprozent"
         ],
         "xaxis": "x4",
         "y": [
          100
         ],
         "yaxis": "y4"
        },
        {
         "hovertext": "0 Orgelpredigtzitate im 73%",
         "marker": {
          "color": "rgb(250,250,250)"
         },
         "type": "bar",
         "x": [
          "Orgelpredigtzitate je Predigtprozent"
         ],
         "xaxis": "x4",
         "y": [
          100
         ],
         "yaxis": "y4"
        },
        {
         "hovertext": "0 Orgelpredigtzitate im 74%",
         "marker": {
          "color": "rgb(250,250,250)"
         },
         "type": "bar",
         "x": [
          "Orgelpredigtzitate je Predigtprozent"
         ],
         "xaxis": "x4",
         "y": [
          100
         ],
         "yaxis": "y4"
        },
        {
         "hovertext": "0 Orgelpredigtzitate im 75%",
         "marker": {
          "color": "rgb(250,250,250)"
         },
         "type": "bar",
         "x": [
          "Orgelpredigtzitate je Predigtprozent"
         ],
         "xaxis": "x4",
         "y": [
          100
         ],
         "yaxis": "y4"
        },
        {
         "hovertext": "0 Orgelpredigtzitate im 76%",
         "marker": {
          "color": "rgb(250,250,250)"
         },
         "type": "bar",
         "x": [
          "Orgelpredigtzitate je Predigtprozent"
         ],
         "xaxis": "x4",
         "y": [
          100
         ],
         "yaxis": "y4"
        },
        {
         "hovertext": "0 Orgelpredigtzitate im 77%",
         "marker": {
          "color": "rgb(250,250,250)"
         },
         "type": "bar",
         "x": [
          "Orgelpredigtzitate je Predigtprozent"
         ],
         "xaxis": "x4",
         "y": [
          100
         ],
         "yaxis": "y4"
        },
        {
         "hovertext": "0 Orgelpredigtzitate im 78%",
         "marker": {
          "color": "rgb(250,250,250)"
         },
         "type": "bar",
         "x": [
          "Orgelpredigtzitate je Predigtprozent"
         ],
         "xaxis": "x4",
         "y": [
          100
         ],
         "yaxis": "y4"
        },
        {
         "hovertext": "0 Orgelpredigtzitate im 79%",
         "marker": {
          "color": "rgb(250,250,250)"
         },
         "type": "bar",
         "x": [
          "Orgelpredigtzitate je Predigtprozent"
         ],
         "xaxis": "x4",
         "y": [
          100
         ],
         "yaxis": "y4"
        },
        {
         "hovertext": "0 Orgelpredigtzitate im 80%",
         "marker": {
          "color": "rgb(250,250,250)"
         },
         "type": "bar",
         "x": [
          "Orgelpredigtzitate je Predigtprozent"
         ],
         "xaxis": "x4",
         "y": [
          100
         ],
         "yaxis": "y4"
        },
        {
         "hovertext": "0 Orgelpredigtzitate im 81%",
         "marker": {
          "color": "rgb(250,250,250)"
         },
         "type": "bar",
         "x": [
          "Orgelpredigtzitate je Predigtprozent"
         ],
         "xaxis": "x4",
         "y": [
          100
         ],
         "yaxis": "y4"
        },
        {
         "hovertext": "0 Orgelpredigtzitate im 82%",
         "marker": {
          "color": "rgb(250,250,250)"
         },
         "type": "bar",
         "x": [
          "Orgelpredigtzitate je Predigtprozent"
         ],
         "xaxis": "x4",
         "y": [
          100
         ],
         "yaxis": "y4"
        },
        {
         "hovertext": "0 Orgelpredigtzitate im 83%",
         "marker": {
          "color": "rgb(250,250,250)"
         },
         "type": "bar",
         "x": [
          "Orgelpredigtzitate je Predigtprozent"
         ],
         "xaxis": "x4",
         "y": [
          100
         ],
         "yaxis": "y4"
        },
        {
         "hovertext": "0 Orgelpredigtzitate im 84%",
         "marker": {
          "color": "rgb(250,250,250)"
         },
         "type": "bar",
         "x": [
          "Orgelpredigtzitate je Predigtprozent"
         ],
         "xaxis": "x4",
         "y": [
          100
         ],
         "yaxis": "y4"
        },
        {
         "hovertext": "0 Orgelpredigtzitate im 85%",
         "marker": {
          "color": "rgb(250,250,250)"
         },
         "type": "bar",
         "x": [
          "Orgelpredigtzitate je Predigtprozent"
         ],
         "xaxis": "x4",
         "y": [
          100
         ],
         "yaxis": "y4"
        },
        {
         "hovertext": "0 Orgelpredigtzitate im 86%",
         "marker": {
          "color": "rgb(250,250,250)"
         },
         "type": "bar",
         "x": [
          "Orgelpredigtzitate je Predigtprozent"
         ],
         "xaxis": "x4",
         "y": [
          100
         ],
         "yaxis": "y4"
        },
        {
         "hovertext": "0 Orgelpredigtzitate im 87%",
         "marker": {
          "color": "rgb(250,250,250)"
         },
         "type": "bar",
         "x": [
          "Orgelpredigtzitate je Predigtprozent"
         ],
         "xaxis": "x4",
         "y": [
          100
         ],
         "yaxis": "y4"
        },
        {
         "hovertext": "0 Orgelpredigtzitate im 88%",
         "marker": {
          "color": "rgb(250,250,250)"
         },
         "type": "bar",
         "x": [
          "Orgelpredigtzitate je Predigtprozent"
         ],
         "xaxis": "x4",
         "y": [
          100
         ],
         "yaxis": "y4"
        },
        {
         "hovertext": "0 Orgelpredigtzitate im 89%",
         "marker": {
          "color": "rgb(250,250,250)"
         },
         "type": "bar",
         "x": [
          "Orgelpredigtzitate je Predigtprozent"
         ],
         "xaxis": "x4",
         "y": [
          100
         ],
         "yaxis": "y4"
        },
        {
         "hovertext": "0 Orgelpredigtzitate im 90%",
         "marker": {
          "color": "rgb(250,250,250)"
         },
         "type": "bar",
         "x": [
          "Orgelpredigtzitate je Predigtprozent"
         ],
         "xaxis": "x4",
         "y": [
          100
         ],
         "yaxis": "y4"
        },
        {
         "hovertext": "0 Orgelpredigtzitate im 91%",
         "marker": {
          "color": "rgb(250,250,250)"
         },
         "type": "bar",
         "x": [
          "Orgelpredigtzitate je Predigtprozent"
         ],
         "xaxis": "x4",
         "y": [
          100
         ],
         "yaxis": "y4"
        },
        {
         "hovertext": "0 Orgelpredigtzitate im 92%",
         "marker": {
          "color": "rgb(250,250,250)"
         },
         "type": "bar",
         "x": [
          "Orgelpredigtzitate je Predigtprozent"
         ],
         "xaxis": "x4",
         "y": [
          100
         ],
         "yaxis": "y4"
        },
        {
         "hovertext": "0 Orgelpredigtzitate im 93%",
         "marker": {
          "color": "rgb(250,250,250)"
         },
         "type": "bar",
         "x": [
          "Orgelpredigtzitate je Predigtprozent"
         ],
         "xaxis": "x4",
         "y": [
          100
         ],
         "yaxis": "y4"
        },
        {
         "hovertext": "0 Orgelpredigtzitate im 94%",
         "marker": {
          "color": "rgb(250,250,250)"
         },
         "type": "bar",
         "x": [
          "Orgelpredigtzitate je Predigtprozent"
         ],
         "xaxis": "x4",
         "y": [
          100
         ],
         "yaxis": "y4"
        },
        {
         "hovertext": "0 Orgelpredigtzitate im 95%",
         "marker": {
          "color": "rgb(250,250,250)"
         },
         "type": "bar",
         "x": [
          "Orgelpredigtzitate je Predigtprozent"
         ],
         "xaxis": "x4",
         "y": [
          100
         ],
         "yaxis": "y4"
        },
        {
         "hovertext": "0 Orgelpredigtzitate im 96%",
         "marker": {
          "color": "rgb(250,250,250)"
         },
         "type": "bar",
         "x": [
          "Orgelpredigtzitate je Predigtprozent"
         ],
         "xaxis": "x4",
         "y": [
          100
         ],
         "yaxis": "y4"
        },
        {
         "hovertext": "0 Orgelpredigtzitate im 97%",
         "marker": {
          "color": "rgb(250,250,250)"
         },
         "type": "bar",
         "x": [
          "Orgelpredigtzitate je Predigtprozent"
         ],
         "xaxis": "x4",
         "y": [
          100
         ],
         "yaxis": "y4"
        },
        {
         "hovertext": "0 Orgelpredigtzitate im 98%",
         "marker": {
          "color": "rgb(250,250,250)"
         },
         "type": "bar",
         "x": [
          "Orgelpredigtzitate je Predigtprozent"
         ],
         "xaxis": "x4",
         "y": [
          100
         ],
         "yaxis": "y4"
        },
        {
         "hovertext": "1 Orgelpredigtzitate im 99%<br>Der Christen gerechte Freude (Breslau 1761)<br>",
         "marker": {
          "color": "rgb(235,235,235)"
         },
         "type": "bar",
         "x": [
          "Orgelpredigtzitate je Predigtprozent"
         ],
         "xaxis": "x4",
         "y": [
          100
         ],
         "yaxis": "y4"
        },
        {
         "hovertext": "0 Orgelpredigtzitate im 100%",
         "marker": {
          "color": "rgb(250,250,250)"
         },
         "type": "bar",
         "x": [
          "Orgelpredigtzitate je Predigtprozent"
         ],
         "xaxis": "x4",
         "y": [
          100
         ],
         "yaxis": "y4"
        }
       ],
       "layout": {
        "annotations": [
         {
          "font": {
           "size": 16
          },
          "showarrow": false,
          "text": "Verteilung von Orgelpredigtzitaten in Predigten zwischen 1600 und 1650 (9 Predigten)",
          "x": 0.5,
          "xanchor": "center",
          "xref": "paper",
          "y": 1,
          "yanchor": "bottom",
          "yref": "paper"
         },
         {
          "font": {
           "size": 16
          },
          "showarrow": false,
          "text": "Verteilung von Orgelpredigtzitaten in Predigten zwischen 1650 und 1700 (21 Predigten)",
          "x": 0.5,
          "xanchor": "center",
          "xref": "paper",
          "y": 0.71875,
          "yanchor": "bottom",
          "yref": "paper"
         },
         {
          "font": {
           "size": 16
          },
          "showarrow": false,
          "text": "Verteilung von Orgelpredigtzitaten in Predigten zwischen 1700 und 1750 (21 Predigten)",
          "x": 0.5,
          "xanchor": "center",
          "xref": "paper",
          "y": 0.4375,
          "yanchor": "bottom",
          "yref": "paper"
         },
         {
          "font": {
           "size": 16
          },
          "showarrow": false,
          "text": "Verteilung von Orgelpredigtzitaten in Predigten zwischen 1750 und 1800 (13 Predigten)",
          "x": 0.5,
          "xanchor": "center",
          "xref": "paper",
          "y": 0.15625,
          "yanchor": "bottom",
          "yref": "paper"
         }
        ],
        "height": 1200,
        "showlegend": false,
        "template": {
         "data": {
          "bar": [
           {
            "error_x": {
             "color": "#2a3f5f"
            },
            "error_y": {
             "color": "#2a3f5f"
            },
            "marker": {
             "line": {
              "color": "#E5ECF6",
              "width": 0.5
             },
             "pattern": {
              "fillmode": "overlay",
              "size": 10,
              "solidity": 0.2
             }
            },
            "type": "bar"
           }
          ],
          "barpolar": [
           {
            "marker": {
             "line": {
              "color": "#E5ECF6",
              "width": 0.5
             },
             "pattern": {
              "fillmode": "overlay",
              "size": 10,
              "solidity": 0.2
             }
            },
            "type": "barpolar"
           }
          ],
          "carpet": [
           {
            "aaxis": {
             "endlinecolor": "#2a3f5f",
             "gridcolor": "white",
             "linecolor": "white",
             "minorgridcolor": "white",
             "startlinecolor": "#2a3f5f"
            },
            "baxis": {
             "endlinecolor": "#2a3f5f",
             "gridcolor": "white",
             "linecolor": "white",
             "minorgridcolor": "white",
             "startlinecolor": "#2a3f5f"
            },
            "type": "carpet"
           }
          ],
          "choropleth": [
           {
            "colorbar": {
             "outlinewidth": 0,
             "ticks": ""
            },
            "type": "choropleth"
           }
          ],
          "contour": [
           {
            "colorbar": {
             "outlinewidth": 0,
             "ticks": ""
            },
            "colorscale": [
             [
              0,
              "#0d0887"
             ],
             [
              0.1111111111111111,
              "#46039f"
             ],
             [
              0.2222222222222222,
              "#7201a8"
             ],
             [
              0.3333333333333333,
              "#9c179e"
             ],
             [
              0.4444444444444444,
              "#bd3786"
             ],
             [
              0.5555555555555556,
              "#d8576b"
             ],
             [
              0.6666666666666666,
              "#ed7953"
             ],
             [
              0.7777777777777778,
              "#fb9f3a"
             ],
             [
              0.8888888888888888,
              "#fdca26"
             ],
             [
              1,
              "#f0f921"
             ]
            ],
            "type": "contour"
           }
          ],
          "contourcarpet": [
           {
            "colorbar": {
             "outlinewidth": 0,
             "ticks": ""
            },
            "type": "contourcarpet"
           }
          ],
          "heatmap": [
           {
            "colorbar": {
             "outlinewidth": 0,
             "ticks": ""
            },
            "colorscale": [
             [
              0,
              "#0d0887"
             ],
             [
              0.1111111111111111,
              "#46039f"
             ],
             [
              0.2222222222222222,
              "#7201a8"
             ],
             [
              0.3333333333333333,
              "#9c179e"
             ],
             [
              0.4444444444444444,
              "#bd3786"
             ],
             [
              0.5555555555555556,
              "#d8576b"
             ],
             [
              0.6666666666666666,
              "#ed7953"
             ],
             [
              0.7777777777777778,
              "#fb9f3a"
             ],
             [
              0.8888888888888888,
              "#fdca26"
             ],
             [
              1,
              "#f0f921"
             ]
            ],
            "type": "heatmap"
           }
          ],
          "histogram": [
           {
            "marker": {
             "pattern": {
              "fillmode": "overlay",
              "size": 10,
              "solidity": 0.2
             }
            },
            "type": "histogram"
           }
          ],
          "histogram2d": [
           {
            "colorbar": {
             "outlinewidth": 0,
             "ticks": ""
            },
            "colorscale": [
             [
              0,
              "#0d0887"
             ],
             [
              0.1111111111111111,
              "#46039f"
             ],
             [
              0.2222222222222222,
              "#7201a8"
             ],
             [
              0.3333333333333333,
              "#9c179e"
             ],
             [
              0.4444444444444444,
              "#bd3786"
             ],
             [
              0.5555555555555556,
              "#d8576b"
             ],
             [
              0.6666666666666666,
              "#ed7953"
             ],
             [
              0.7777777777777778,
              "#fb9f3a"
             ],
             [
              0.8888888888888888,
              "#fdca26"
             ],
             [
              1,
              "#f0f921"
             ]
            ],
            "type": "histogram2d"
           }
          ],
          "histogram2dcontour": [
           {
            "colorbar": {
             "outlinewidth": 0,
             "ticks": ""
            },
            "colorscale": [
             [
              0,
              "#0d0887"
             ],
             [
              0.1111111111111111,
              "#46039f"
             ],
             [
              0.2222222222222222,
              "#7201a8"
             ],
             [
              0.3333333333333333,
              "#9c179e"
             ],
             [
              0.4444444444444444,
              "#bd3786"
             ],
             [
              0.5555555555555556,
              "#d8576b"
             ],
             [
              0.6666666666666666,
              "#ed7953"
             ],
             [
              0.7777777777777778,
              "#fb9f3a"
             ],
             [
              0.8888888888888888,
              "#fdca26"
             ],
             [
              1,
              "#f0f921"
             ]
            ],
            "type": "histogram2dcontour"
           }
          ],
          "mesh3d": [
           {
            "colorbar": {
             "outlinewidth": 0,
             "ticks": ""
            },
            "type": "mesh3d"
           }
          ],
          "parcoords": [
           {
            "line": {
             "colorbar": {
              "outlinewidth": 0,
              "ticks": ""
             }
            },
            "type": "parcoords"
           }
          ],
          "pie": [
           {
            "automargin": true,
            "type": "pie"
           }
          ],
          "scatter": [
           {
            "fillpattern": {
             "fillmode": "overlay",
             "size": 10,
             "solidity": 0.2
            },
            "type": "scatter"
           }
          ],
          "scatter3d": [
           {
            "line": {
             "colorbar": {
              "outlinewidth": 0,
              "ticks": ""
             }
            },
            "marker": {
             "colorbar": {
              "outlinewidth": 0,
              "ticks": ""
             }
            },
            "type": "scatter3d"
           }
          ],
          "scattercarpet": [
           {
            "marker": {
             "colorbar": {
              "outlinewidth": 0,
              "ticks": ""
             }
            },
            "type": "scattercarpet"
           }
          ],
          "scattergeo": [
           {
            "marker": {
             "colorbar": {
              "outlinewidth": 0,
              "ticks": ""
             }
            },
            "type": "scattergeo"
           }
          ],
          "scattergl": [
           {
            "marker": {
             "colorbar": {
              "outlinewidth": 0,
              "ticks": ""
             }
            },
            "type": "scattergl"
           }
          ],
          "scattermap": [
           {
            "marker": {
             "colorbar": {
              "outlinewidth": 0,
              "ticks": ""
             }
            },
            "type": "scattermap"
           }
          ],
          "scattermapbox": [
           {
            "marker": {
             "colorbar": {
              "outlinewidth": 0,
              "ticks": ""
             }
            },
            "type": "scattermapbox"
           }
          ],
          "scatterpolar": [
           {
            "marker": {
             "colorbar": {
              "outlinewidth": 0,
              "ticks": ""
             }
            },
            "type": "scatterpolar"
           }
          ],
          "scatterpolargl": [
           {
            "marker": {
             "colorbar": {
              "outlinewidth": 0,
              "ticks": ""
             }
            },
            "type": "scatterpolargl"
           }
          ],
          "scatterternary": [
           {
            "marker": {
             "colorbar": {
              "outlinewidth": 0,
              "ticks": ""
             }
            },
            "type": "scatterternary"
           }
          ],
          "surface": [
           {
            "colorbar": {
             "outlinewidth": 0,
             "ticks": ""
            },
            "colorscale": [
             [
              0,
              "#0d0887"
             ],
             [
              0.1111111111111111,
              "#46039f"
             ],
             [
              0.2222222222222222,
              "#7201a8"
             ],
             [
              0.3333333333333333,
              "#9c179e"
             ],
             [
              0.4444444444444444,
              "#bd3786"
             ],
             [
              0.5555555555555556,
              "#d8576b"
             ],
             [
              0.6666666666666666,
              "#ed7953"
             ],
             [
              0.7777777777777778,
              "#fb9f3a"
             ],
             [
              0.8888888888888888,
              "#fdca26"
             ],
             [
              1,
              "#f0f921"
             ]
            ],
            "type": "surface"
           }
          ],
          "table": [
           {
            "cells": {
             "fill": {
              "color": "#EBF0F8"
             },
             "line": {
              "color": "white"
             }
            },
            "header": {
             "fill": {
              "color": "#C8D4E3"
             },
             "line": {
              "color": "white"
             }
            },
            "type": "table"
           }
          ]
         },
         "layout": {
          "annotationdefaults": {
           "arrowcolor": "#2a3f5f",
           "arrowhead": 0,
           "arrowwidth": 1
          },
          "autotypenumbers": "strict",
          "coloraxis": {
           "colorbar": {
            "outlinewidth": 0,
            "ticks": ""
           }
          },
          "colorscale": {
           "diverging": [
            [
             0,
             "#8e0152"
            ],
            [
             0.1,
             "#c51b7d"
            ],
            [
             0.2,
             "#de77ae"
            ],
            [
             0.3,
             "#f1b6da"
            ],
            [
             0.4,
             "#fde0ef"
            ],
            [
             0.5,
             "#f7f7f7"
            ],
            [
             0.6,
             "#e6f5d0"
            ],
            [
             0.7,
             "#b8e186"
            ],
            [
             0.8,
             "#7fbc41"
            ],
            [
             0.9,
             "#4d9221"
            ],
            [
             1,
             "#276419"
            ]
           ],
           "sequential": [
            [
             0,
             "#0d0887"
            ],
            [
             0.1111111111111111,
             "#46039f"
            ],
            [
             0.2222222222222222,
             "#7201a8"
            ],
            [
             0.3333333333333333,
             "#9c179e"
            ],
            [
             0.4444444444444444,
             "#bd3786"
            ],
            [
             0.5555555555555556,
             "#d8576b"
            ],
            [
             0.6666666666666666,
             "#ed7953"
            ],
            [
             0.7777777777777778,
             "#fb9f3a"
            ],
            [
             0.8888888888888888,
             "#fdca26"
            ],
            [
             1,
             "#f0f921"
            ]
           ],
           "sequentialminus": [
            [
             0,
             "#0d0887"
            ],
            [
             0.1111111111111111,
             "#46039f"
            ],
            [
             0.2222222222222222,
             "#7201a8"
            ],
            [
             0.3333333333333333,
             "#9c179e"
            ],
            [
             0.4444444444444444,
             "#bd3786"
            ],
            [
             0.5555555555555556,
             "#d8576b"
            ],
            [
             0.6666666666666666,
             "#ed7953"
            ],
            [
             0.7777777777777778,
             "#fb9f3a"
            ],
            [
             0.8888888888888888,
             "#fdca26"
            ],
            [
             1,
             "#f0f921"
            ]
           ]
          },
          "colorway": [
           "#636efa",
           "#EF553B",
           "#00cc96",
           "#ab63fa",
           "#FFA15A",
           "#19d3f3",
           "#FF6692",
           "#B6E880",
           "#FF97FF",
           "#FECB52"
          ],
          "font": {
           "color": "#2a3f5f"
          },
          "geo": {
           "bgcolor": "white",
           "lakecolor": "white",
           "landcolor": "#E5ECF6",
           "showlakes": true,
           "showland": true,
           "subunitcolor": "white"
          },
          "hoverlabel": {
           "align": "left"
          },
          "hovermode": "closest",
          "mapbox": {
           "style": "light"
          },
          "paper_bgcolor": "white",
          "plot_bgcolor": "#E5ECF6",
          "polar": {
           "angularaxis": {
            "gridcolor": "white",
            "linecolor": "white",
            "ticks": ""
           },
           "bgcolor": "#E5ECF6",
           "radialaxis": {
            "gridcolor": "white",
            "linecolor": "white",
            "ticks": ""
           }
          },
          "scene": {
           "xaxis": {
            "backgroundcolor": "#E5ECF6",
            "gridcolor": "white",
            "gridwidth": 2,
            "linecolor": "white",
            "showbackground": true,
            "ticks": "",
            "zerolinecolor": "white"
           },
           "yaxis": {
            "backgroundcolor": "#E5ECF6",
            "gridcolor": "white",
            "gridwidth": 2,
            "linecolor": "white",
            "showbackground": true,
            "ticks": "",
            "zerolinecolor": "white"
           },
           "zaxis": {
            "backgroundcolor": "#E5ECF6",
            "gridcolor": "white",
            "gridwidth": 2,
            "linecolor": "white",
            "showbackground": true,
            "ticks": "",
            "zerolinecolor": "white"
           }
          },
          "shapedefaults": {
           "line": {
            "color": "#2a3f5f"
           }
          },
          "ternary": {
           "aaxis": {
            "gridcolor": "white",
            "linecolor": "white",
            "ticks": ""
           },
           "baxis": {
            "gridcolor": "white",
            "linecolor": "white",
            "ticks": ""
           },
           "bgcolor": "#E5ECF6",
           "caxis": {
            "gridcolor": "white",
            "linecolor": "white",
            "ticks": ""
           }
          },
          "title": {
           "x": 0.05
          },
          "xaxis": {
           "automargin": true,
           "gridcolor": "white",
           "linecolor": "white",
           "ticks": "",
           "title": {
            "standoff": 15
           },
           "zerolinecolor": "white",
           "zerolinewidth": 2
          },
          "yaxis": {
           "automargin": true,
           "gridcolor": "white",
           "linecolor": "white",
           "ticks": "",
           "title": {
            "standoff": 15
           },
           "zerolinecolor": "white",
           "zerolinewidth": 2
          }
         }
        },
        "title": {
         "text": "Akkumulierte Verteilung von Orgelpredigtzitaten in 50-Jahr Intervallen"
        },
        "width": 1000,
        "xaxis": {
         "anchor": "y",
         "domain": [
          0,
          1
         ]
        },
        "xaxis2": {
         "anchor": "y2",
         "domain": [
          0,
          1
         ]
        },
        "xaxis3": {
         "anchor": "y3",
         "domain": [
          0,
          1
         ]
        },
        "xaxis4": {
         "anchor": "y4",
         "domain": [
          0,
          1
         ]
        },
        "yaxis": {
         "anchor": "x",
         "domain": [
          0.84375,
          1
         ]
        },
        "yaxis2": {
         "anchor": "x2",
         "domain": [
          0.5625,
          0.71875
         ]
        },
        "yaxis3": {
         "anchor": "x3",
         "domain": [
          0.28125,
          0.4375
         ]
        },
        "yaxis4": {
         "anchor": "x4",
         "domain": [
          0,
          0.15625
         ]
        }
       }
      }
     },
     "metadata": {},
     "output_type": "display_data"
    }
   ],
   "source": [
    "# Create subplots\n",
    "fig = make_subplots(rows=len(figs_50_orgel), \n",
    "                    cols=1, \n",
    "                    subplot_titles=[f\"Verteilung von Orgelpredigtzitaten in Predigten zwischen {1600 + (i*50)} und {1600+(i*50)+50} ({len(sermons_grouped_50[i])} Predigten)\" for i in range(len(figs_50))])\n",
    "\n",
    "# Add traces from each figure to the subplots\n",
    "for i, fig_item in enumerate(figs_50_orgel):\n",
    "    for trace in fig_item.data:\n",
    "        fig.add_trace(trace, row=i+1, col=1)\n",
    "\n",
    "# Update layout\n",
    "fig.update_layout(height=1200, width=1000, showlegend = False)\n",
    "fig.update_layout(title_text=\"Akkumulierte Verteilung von Orgelpredigtzitaten in 50-Jahr Intervallen\")\n",
    "\n",
    "# Show the figure\n",
    "fig.show()"
   ]
  }
 ],
 "metadata": {
  "kernelspec": {
   "display_name": "ma_orgelpredigt",
   "language": "python",
   "name": "python3"
  },
  "language_info": {
   "codemirror_mode": {
    "name": "ipython",
    "version": 3
   },
   "file_extension": ".py",
   "mimetype": "text/x-python",
   "name": "python",
   "nbconvert_exporter": "python",
   "pygments_lexer": "ipython3",
   "version": "3.12.11"
  }
 },
 "nbformat": 4,
 "nbformat_minor": 5
}
