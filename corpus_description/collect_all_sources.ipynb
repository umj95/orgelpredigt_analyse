{
 "cells": [
  {
   "cell_type": "code",
   "execution_count": null,
   "id": "2b62b55c",
   "metadata": {},
   "outputs": [],
   "source": [
    "import pandas as pd\n",
    "import seaborn as sns\n",
    "import matplotlib.pyplot as plt\n",
    "import db_connection\n",
    "import ast\n",
    "import re\n",
    "\n",
    "from mysql.connector import Error\n",
    "from core.utils import Sermon, is_id, get_short_info\n",
    "\n",
    "from pathlib import Path\n",
    "import os\n",
    "\n",
    "import folium\n",
    "import json\n",
    "import os\n",
    "from collections import Counter\n",
    "\n",
    "from itertools import chain\n",
    "from pathlib import Path\n",
    "\n",
    "# root directory path\n",
    "ROOT = Path(__file__).resolve().parents[2]"
   ]
  },
  {
   "cell_type": "markdown",
   "id": "47ad7cb1",
   "metadata": {},
   "source": [
    "Counting the rows in the database yields\n",
    "- 1122 entries for sources\n",
    "- 194 entries for music\n",
    "- 1129 entries for literature"
   ]
  },
  {
   "cell_type": "code",
   "execution_count": null,
   "id": "7e86af2d",
   "metadata": {},
   "outputs": [],
   "source": [
    "def list_all_sources():\n",
    "    all_sources = []\n",
    "    source_occurrences = []\n",
    "    with os.scandir(ROOT / \"sermon_tables\") as it:\n",
    "        for entry in it:\n",
    "            df = pd.read_csv(ROOT / f\"sermon_tables/{entry.name}\", \n",
    "                            sep=\"\\t\", \n",
    "                            converters={'reference': pd.eval})\n",
    "            sources = df.reference.values.tolist()\n",
    "            filtered_sources = [source for source in sources if source]\n",
    "            flat_sources = list(chain.from_iterable(filtered_sources))\n",
    "            unique_sources = set(flat_sources)\n",
    "            all_sources.extend(flat_sources)\n",
    "            source_occurrences.extend(unique_sources)\n",
    "    return all_sources, source_occurrences"
   ]
  },
  {
   "cell_type": "code",
   "execution_count": 3,
   "id": "07b5bece",
   "metadata": {},
   "outputs": [],
   "source": [
    "all_sources, source_occurrences = list_all_sources()"
   ]
  },
  {
   "cell_type": "code",
   "execution_count": 4,
   "id": "be1c946c",
   "metadata": {},
   "outputs": [
    {
     "name": "stdout",
     "output_type": "stream",
     "text": [
      "112247\n",
      "5722\n"
     ]
    }
   ],
   "source": [
    "print(len(all_sources))\n",
    "print(len(source_occurrences))"
   ]
  },
  {
   "cell_type": "code",
   "execution_count": null,
   "id": "bf84e523",
   "metadata": {},
   "outputs": [],
   "source": [
    "with open(ROOT / 'source_occurrences.json', 'w') as f:\n",
    "    json.dump(source_occurrences, f, indent=4)"
   ]
  },
  {
   "cell_type": "code",
   "execution_count": null,
   "id": "a29fbe71",
   "metadata": {},
   "outputs": [],
   "source": [
    "with open(ROOT / 'all_sources.json', 'w') as f:\n",
    "    json.dump(all_sources, f, indent=4)"
   ]
  },
  {
   "cell_type": "code",
   "execution_count": 7,
   "id": "e3a0dab0",
   "metadata": {},
   "outputs": [],
   "source": [
    "pattern = r'E[01][0-9]{5}'\n",
    "all_source_ids = [source for source in all_sources if re.search(pattern, source)]\n",
    "all_occ_ids = [source for source in source_occurrences if re.search(pattern, source)]"
   ]
  },
  {
   "cell_type": "code",
   "execution_count": 8,
   "id": "57d12af3",
   "metadata": {},
   "outputs": [],
   "source": [
    "id_counts = Counter(all_source_ids)\n",
    "longest_quotes = [id for id, count in id_counts.most_common(20)]"
   ]
  },
  {
   "cell_type": "code",
   "execution_count": 9,
   "id": "303bda13",
   "metadata": {},
   "outputs": [],
   "source": [
    "id_occ_counts = Counter(all_occ_ids)\n",
    "most_frequent_quotes = [id for id, count in id_occ_counts.most_common(20)]"
   ]
  },
  {
   "cell_type": "code",
   "execution_count": 10,
   "id": "882113d7",
   "metadata": {},
   "outputs": [
    {
     "name": "stdout",
     "output_type": "stream",
     "text": [
      "E08\n",
      "True\n"
     ]
    }
   ],
   "source": [
    "x = longest_quotes[1]\n",
    "print(x[:3])\n",
    "if x[:3] == (\"E08\" or \"E09\"):\n",
    "    print(\"True\")"
   ]
  },
  {
   "cell_type": "code",
   "execution_count": 11,
   "id": "54e1c370",
   "metadata": {},
   "outputs": [
    {
     "data": {
      "text/plain": [
       "True"
      ]
     },
     "execution_count": 11,
     "metadata": {},
     "output_type": "execute_result"
    }
   ],
   "source": [
    "id = \"E090024\"\n",
    "id.startswith((\"E08\", \"E09\"))"
   ]
  },
  {
   "cell_type": "code",
   "execution_count": 12,
   "id": "f69b352a",
   "metadata": {},
   "outputs": [
    {
     "name": "stdout",
     "output_type": "stream",
     "text": [
      "E000003 -- Conrad Dieterich, 1575/01/09 (Gemünden (Wohra))-1639/03/22 (Ulm): Vlmische Orgel Predigt (Ulm 1624)\n",
      "E080193 -- Mithob, Hector: Psalmodia Christiana (1665)\n",
      "E090778 -- Plautus, M. Accius: Marci Accii Plauti Comoediae (1874)\n",
      "E080223 -- Praetorius, Michael: Syntagmatis Musici Michaelis Praetorii C. Tomus Secundus De Organographia (1619)\n",
      "E000079 -- Johann Ludwig Hartmann, 1640/02/03 (Rothenburg ob der Tauber)-1684/07/18 (Rothenburg ob der Tauber): Denck- und Danck-Säule (Rothenburg ob der Tauber [1673])\n",
      "E080732 -- Vockerodt, Gottfried: Mißbrauch der freyen Künste/ insonderheit Der Music (1697)\n",
      "E080378 -- Zwinger, Theodor: Theatrvm Hvmanae Vitae Theodori Zuingeri Bas[isliensis] Tertiatione ([1586])\n",
      "E080672 -- Scriver, Christian: Seelen=Schatzes Vierdter Theil (1687)\n",
      "E000031 -- Christoph Frick, 1577 (Burgdorf)-1640/04/09 (): Musica Christiana (Leipzig 1615)\n",
      "E000005 -- Conrad Dieterich, 1575/01/09 (Gemünden (Wohra))-1639/03/22 (Ulm): Kirchweih= oder Orgel=Predigt (Leipzig 1632)\n",
      "E080252 -- Albrecht, Georg ; Albrecht, Bernhard (Hrsg.): Volumen Concionum Miscellanearum (1653)\n",
      "Query executed for E081028, but no data found.\n",
      "E081028 -- no_author: no_title (no_year)\n",
      "E090570 -- Luther, Martin: D. Martin Luthers Werke (1969)\n",
      "E000099 -- Hieronymus Theodoricus, 1562 (Augsburg)-1634/11/14 (Sommerhausen): Corona Templi (Nürnberg 1621)\n",
      "Query executed for E100160, but no data found.\n",
      "E100160 -- no_composer: no_title\n",
      "E000083 -- Immanuel Weber, 1633/09/07 (Leipzig)-1677/12/06 (Pomßen): Das Gott=Lob=Schallende Hosianna (Leipzig 1671)\n",
      "E080537 -- Strigenitz, Gregor: Vota Nuptialia (1617)\n",
      "Query executed for E081062, but no data found.\n",
      "E081062 -- no_author: no_title (no_year)\n",
      "E080828 -- Happel, Eberhard Werner: Mundi Mirabilis Tripartiti, Oder der Wunderbaren Welt in einer kurtzen Cosmographia beschriebener Dritter und Letzter Theil (1689)\n",
      "E000068 -- Paulus Martinus Sagittarius, 1645/11/10 (Jena)-1694/07/31 (Altenburg (Thüringen)): Das dem Allmächtigen abzustattende Lob (Altenburg s.a.)\n"
     ]
    }
   ],
   "source": [
    "for id in longest_quotes:\n",
    "    print(f\"{id} -- {get_short_info(id)}\")"
   ]
  },
  {
   "cell_type": "code",
   "execution_count": 14,
   "id": "df52e1d2",
   "metadata": {},
   "outputs": [
    {
     "name": "stdout",
     "output_type": "stream",
     "text": [
      "E080223 -- Praetorius, Michael: Syntagmatis Musici Michaelis Praetorii C. Tomus Secundus De Organographia (1619)\n",
      "E100017 -- anonym: In dulci jubilo\n",
      "E080192 -- Gratianus de Clusio: Decretum Gratiani emendatum & notationibus illustratum, una cum glossis (1604)\n",
      "E100022 -- Nicolai, Philipp: Wie schön leuchtet der Morgenstern\n",
      "E100033 -- Anonym: Ach Gott wie manches Herzeleid\n",
      "E090560 -- Augustinus, Aurelius ; Thimme, Wilhelm (Übers.): Confessiones. Bekenntnisse (2004)\n",
      "Query executed for E100155, but no data found.\n",
      "E100155 -- no_composer: no_title\n",
      "E000003 -- Conrad Dieterich, 1575/01/09 (Gemünden (Wohra))-1639/03/22 (Ulm): Vlmische Orgel Predigt (Ulm 1624)\n",
      "E100078 -- N.N.: Herr Gott, dich loben wir\n",
      "E100125 -- Crüger, Johann: Sei Lob und Ehr dem höchsten Gut\n",
      "E080378 -- Zwinger, Theodor: Theatrvm Hvmanae Vitae Theodori Zuingeri Bas[isliensis] Tertiatione ([1586])\n",
      "E080322 -- Luther, Martin ; Sagittarius, Johann Christfried (Hrsg.): Der Achte Teil aller teutschen Bücher und Schrifften des theuren seeligen Mannes Gottes/ Doct. Martini Lutheri (1662)\n",
      "E080351 -- Luther, Martin ; Aurifaber, Johannes (Hrsg.): Colloquia, Oder, Christliche, nützliche Tischreden Doctoris Martini Lutheri (1591)\n",
      "E090570 -- Luther, Martin: D. Martin Luthers Werke (1969)\n",
      "E080310 -- Geier, Martin: Commentarius in Psalmos Davidis (1681)\n",
      "E080366 -- Augustinus, Aurelius: S. Avrelii Avgvstini Hipponensis Episcopi Opera Qvae Reperiri Potvervnt Omnia (1616)\n",
      "E090590 -- Augustinus, Aurelius ; Gori, Franco (Hrsg.): Enarrationes in psalmos 101–150 (2005)\n",
      "E100085 -- anonym: Herzlich tut mich erfreuen\n",
      "E100003 -- Luther, Martin: Aus tiefer Not schrei ich zu dir\n",
      "E100001 -- Speratus, Paulus: Es ist das Heil uns kommen her\n"
     ]
    }
   ],
   "source": [
    "for id in most_frequent_quotes:\n",
    "    print(f\"{id} -- {get_short_info(id)}\")"
   ]
  },
  {
   "cell_type": "code",
   "execution_count": 18,
   "id": "0938da4b",
   "metadata": {},
   "outputs": [
    {
     "name": "stdout",
     "output_type": "stream",
     "text": [
      "E000003 -- Conrad Dieterich, 1575/01/09 (Gemünden (Wohra))-1639/03/22 (Ulm): Vlmische Orgel Predigt (Ulm 1624)\n",
      "E080378 -- Zwinger, Theodor: Theatrvm Hvmanae Vitae Theodori Zuingeri Bas[isliensis] Tertiatione ([1586])\n",
      "E080223 -- Praetorius, Michael: Syntagmatis Musici Michaelis Praetorii C. Tomus Secundus De Organographia (1619)\n",
      "E090570 -- Luther, Martin: D. Martin Luthers Werke (1969)\n"
     ]
    }
   ],
   "source": [
    "# see overlap between sources with the most quoted words and most frequently occurring sources\n",
    "sources_overlapping = set(longest_quotes) & set(most_frequent_quotes)\n",
    "for x in sources_overlapping:\n",
    "    print(f\"{x} -- {get_short_info(x)}\")"
   ]
  }
 ],
 "metadata": {
  "kernelspec": {
   "display_name": "ma_orgelpredigt",
   "language": "python",
   "name": "python3"
  },
  "language_info": {
   "codemirror_mode": {
    "name": "ipython",
    "version": 3
   },
   "file_extension": ".py",
   "mimetype": "text/x-python",
   "name": "python",
   "nbconvert_exporter": "python",
   "pygments_lexer": "ipython3",
   "version": "3.12.11"
  }
 },
 "nbformat": 4,
 "nbformat_minor": 5
}
