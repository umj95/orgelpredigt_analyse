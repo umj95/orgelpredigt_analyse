{
 "cells": [
  {
   "cell_type": "code",
   "execution_count": 52,
   "id": "33b191cb",
   "metadata": {},
   "outputs": [],
   "source": [
    "import json\n",
    "import re\n",
    "import core.utils as oa\n",
    "from rapidfuzz import fuzz\n",
    "import pandas as pd\n",
    "import io\n",
    "import os\n",
    "\n",
    "import datetime\n",
    "from numpyencoder import NumpyEncoder\n",
    "from pathlib import Path\n",
    "\n",
    "# root directory path\n",
    "ROOT = Path(os.getcwd()).resolve().parents[0]"
   ]
  },
  {
   "cell_type": "code",
   "execution_count": 53,
   "id": "a2073748",
   "metadata": {},
   "outputs": [
    {
     "data": {
      "text/plain": [
       "'25-09-20_14:12'"
      ]
     },
     "execution_count": 53,
     "metadata": {},
     "output_type": "execute_result"
    }
   ],
   "source": [
    "date = datetime.datetime.now().strftime(\"%y-%m-%d_%H:%M\")\n",
    "date"
   ]
  },
  {
   "cell_type": "code",
   "execution_count": 54,
   "id": "6e26eb30",
   "metadata": {},
   "outputs": [
    {
     "name": "stdout",
     "output_type": "stream",
     "text": [
      "Sollen Bibelstellen (1) oder Liedzitate (2) gesucht werden?\n",
      "Bibelstellen werden gesucht\n"
     ]
    }
   ],
   "source": [
    "print(\"Sollen Bibelstellen (1) oder Liedzitate (2) gesucht werden?\")\n",
    "response = None\n",
    "while response not in [\"1\", \"2\"]:\n",
    "    response = input(\"Bitte Nummer eingeben\")\n",
    "\n",
    "if response == \"1\":\n",
    "    task = \"bibel\"\n",
    "    print(\"Bibelstellen werden gesucht\")\n",
    "else:\n",
    "    task = \"lieder\"\n",
    "    print(\"Liedzitate werden gesucht\")\n"
   ]
  },
  {
   "cell_type": "code",
   "execution_count": 55,
   "id": "a49abc5a",
   "metadata": {},
   "outputs": [
    {
     "name": "stdout",
     "output_type": "stream",
     "text": [
      "Sollen Predigten mit den meisten (1), oder den längsten (2) Liedzitaten analysiert werden?\n"
     ]
    }
   ],
   "source": [
    "print(\"Sollen Predigten mit den meisten (1), oder den längsten (2) Liedzitaten analysiert werden?\")\n",
    "response = None\n",
    "while response not in [\"1\", \"2\"]:\n",
    "    response = input(\"Bitte Nummer eingeben\")\n",
    "\n",
    "if response == \"2\":\n",
    "    corpus = \"longest\"\n",
    "else:\n",
    "    corpus = \"most\"\n",
    "\n",
    "\n",
    "with open(ROOT / f\"sermons_with_{corpus}_music.json\", \"r\") as f:\n",
    "    testsermons = json.load(f)"
   ]
  },
  {
   "cell_type": "code",
   "execution_count": 56,
   "id": "d8405d00",
   "metadata": {},
   "outputs": [],
   "source": [
    "relevant_page_texts = []\n",
    "if task == \"lieder\":\n",
    "    for n in range(41, 1291):\n",
    "        with open(ROOT / f\"source_texts/praxis_pietatis_verses/{n}.json\") as f:\n",
    "            page = json.load(f)\n",
    "        page_info = {}\n",
    "        page_info[n] = page\n",
    "        relevant_page_texts.append(page_info)\n",
    "else:\n",
    "    with open(ROOT / \"source_texts/bible/old_testament_chunked.json\") as f:\n",
    "        old_testament = json.load(f)\n",
    "    for book_name, chapters in old_testament.items():\n",
    "        for chapter, verses in chapters.items():\n",
    "            for verse_nr, verse in verses.items():\n",
    "                verse_info = {}\n",
    "                verse_id = f\"{book_name}_{chapter}_{verse_nr}\"\n",
    "                verse_info[verse_id] = verse\n",
    "                relevant_page_texts.append(verse_info)\n",
    "    with open(ROOT / f\"source_texts/bible/new_testament_chunked.json\") as f:\n",
    "        new_testament = json.load(f)\n",
    "    for book_name, chapters in old_testament.items():\n",
    "        for chapter, verses in chapters.items():\n",
    "            for verse_nr, verse in verses.items():\n",
    "                verse_info = {}\n",
    "                verse_id = f\"{book_name}_{chapter}_{verse_nr}\"\n",
    "                verse_info[verse_id] = verse\n",
    "                relevant_page_texts.append(verse_info)"
   ]
  },
  {
   "cell_type": "code",
   "execution_count": 57,
   "id": "81c85ccb",
   "metadata": {},
   "outputs": [],
   "source": [
    "fuzziness = 80"
   ]
  },
  {
   "cell_type": "code",
   "execution_count": 58,
   "id": "44e4c444",
   "metadata": {},
   "outputs": [],
   "source": [
    "similarity_table = {}\n",
    "similarity_table[\"task\"] = task\n",
    "similarity_table['date'] = date\n",
    "similarity_table['corpus'] = corpus\n",
    "similarity_table['method'] = 'similarity_search'\n",
    "similarity_table['fuzziness'] = fuzziness\n"
   ]
  },
  {
   "cell_type": "code",
   "execution_count": 59,
   "id": "0aace5dc",
   "metadata": {},
   "outputs": [],
   "source": [
    "testsermons = [\"E000036\"]"
   ]
  },
  {
   "cell_type": "code",
   "execution_count": 60,
   "id": "4140d1f0",
   "metadata": {},
   "outputs": [
    {
     "name": "stdout",
     "output_type": "stream",
     "text": [
      "Starting with E000036\n"
     ]
    }
   ],
   "source": [
    "import core.similaritysearch as simsearch\n",
    "\n",
    "similarity_table['results'] = simsearch.find_similarities(task, testsermons, relevant_page_texts, 80)\n"
   ]
  },
  {
   "cell_type": "code",
   "execution_count": null,
   "id": "ca8b3137",
   "metadata": {},
   "outputs": [],
   "source": [
    "#with open(ROOT / f'similarity_tables/sim-search_{task}_{corpus}_{fuzziness}_{date}.json', \"w\") as f:\n",
    "#    json.dump(similarity_table, f, ensure_ascii=False)"
   ]
  },
  {
   "cell_type": "code",
   "execution_count": 61,
   "id": "bdb02634",
   "metadata": {},
   "outputs": [
    {
     "data": {
      "text/plain": [
       "{'task': 'bibel',\n",
       " 'date': '25-09-20_14:12',\n",
       " 'corpus': 'most',\n",
       " 'method': 'similarity_search',\n",
       " 'fuzziness': 80,\n",
       " 'results': [['E000036',\n",
       "   1733,\n",
       "   'Predigt,Paragraph,Satz,Bibelstelle,Bibelvers,Ähnlichkeit,Dopplung\\n0,so frage ich nichts nach himmel und erden,21,15,Psalm_73_25,so frage ich nichts nach Himel vnd Erden,91.36,False\\n1,so frage ich nichts nach himmel und erden,21,15,Psalm_73_25,so frage ich nichts nach Himel vnd Erden,91.36,True\\n2,wenn mir gleich leib und seel verschmacht,21,16,Psalm_73_26,Wenn mir gleich Leib vnd Seele verschmacht,89.16,False\\n3,wenn mir gleich leib und seel verschmacht,21,16,Psalm_73_26,Wenn mir gleich Leib vnd Seele verschmacht,89.16,True\\n4,der wird nimmermehr sterben,23,8,Psalm_10_11,Er wirds nimer mehr sehen,80.77,False\\n5,der wird nimmermehr sterben,23,8,Psalm_10_11,Er wirds nimer mehr sehen,80.77,True\\n6,der mich gesandt hat,23,15,1 Mose_16_14,der mich angesehen hat,80.95,True\\n7,der mich gesandt hat,23,15,5 Mose_32_18,der dich gemacht hat,80.0,True\\n8,der mich gesandt hat,23,15,2 Samuel_24_13,dem der mich gesand hat,88.37,True\\n9,der mich gesandt hat,23,15,2 Könige_1_6,der euch gesand hat,87.18,True\\n10,der mich gesandt hat,23,15,Jesaja_51_13,der dich gemacht hat,80.0,True\\n11,der mich gesandt hat,23,15,Jeremia_42_9,zu dem jr mich gesand habt,82.61,True\\n12,der mich gesandt hat,23,15,1 Mose_16_14,der mich angesehen hat,80.95,True\\n13,der mich gesandt hat,23,15,5 Mose_32_18,der dich gemacht hat,80.0,True\\n14,der mich gesandt hat,23,15,2 Samuel_24_13,dem der mich gesand hat,88.37,True\\n15,der mich gesandt hat,23,15,2 Könige_1_6,der euch gesand hat,87.18,True\\n16,der mich gesandt hat,23,15,Jesaja_51_13,der dich gemacht hat,80.0,True\\n17,der mich gesandt hat,23,15,Jeremia_42_9,zu dem jr mich gesand habt,82.61,True\\n18,es ist mit mir gar anders,23,27,Psalm_38_9,Es ist mit mir gar anders,96.0,False\\n19,es ist mit mir gar anders,23,27,Psalm_38_9,Es ist mit mir gar anders,96.0,True\\n20,aber deine tröstungen ergötzten meine seele,23,39,Psalm_94_19,Aber deine Tröstung ergetzeten meine Seele,87.06,False\\n21,aber deine tröstungen ergötzten meine seele,23,39,Psalm_94_19,Aber deine Tröstung ergetzeten meine Seele,87.06,True\\n22,sey nun wieder zufrieden meine seele,23,40,Psalm_116_7,Sey nu wider zu frieden meine Seele,90.14,False\\n23,sey nun wieder zufrieden meine seele,23,40,Psalm_116_7,Sey nu wider zu frieden meine Seele,90.14,True\\n24,denn der herr thut dir gutes,23,41,Psalm_116_7,Denn der HERR thut dir guts,80.0,False\\n25,denn der herr thut dir gutes,23,41,Psalm_116_7,Denn der HERR thut dir guts,80.0,True\\n26,der wird dir geben was dein hertz wünschet,23,47,Psalm_37_4,Der wird dir geben was dein hertz wündschet,96.47,False\\n27,der wird dir geben was dein hertz wünschet,23,47,Psalm_37_4,Der wird dir geben was dein hertz wündschet,96.47,True\\n28,die da friede verkündigen,27,8,Jesaja_52_7,die da Friede verkündigen,96.0,True\\n29,die da friede verkündigen,27,8,Jesaja_52_7,die da Friede verkündigen,96.0,True\\n30,gutes predigen heyl verkündigen,27,9,Jesaja_52_7,Guts predigen Heil verkündigen,88.52,False\\n31,gutes predigen heyl verkündigen,27,9,Jesaja_52_7,Guts predigen Heil verkündigen,88.52,True\\n32,die da sagen zu zion,27,10,Jesaja_52_7,Die da sagen zu Zion,90.0,False\\n33,die da sagen zu zion,27,10,Jesaja_52_7,Die da sagen zu Zion,90.0,True\\n34,dein gott ist könig,27,11,Jesaja_52_7,Dein Gott ist König,84.21,False\\n35,dein gott ist könig,27,11,Jesaja_52_7,Dein Gott ist König,84.21,True\\n36,werden sagen das hat gott gethan,29,1,Psalm_64_10,werden sagen Das hat Gott gethan,93.75,False\\n37,werden sagen das hat gott gethan,29,1,Psalm_64_10,werden sagen Das hat Gott gethan,93.75,True\\n38,und mercken daß es sein werck sey,29,2,Psalm_64_10,vnd mercken das sein werck sey,92.06,False\\n39,und mercken daß es sein werck sey,29,2,Psalm_64_10,vnd mercken das sein werck sey,92.06,True\\n40,gehet zu seinen thoren ein mit dancken,29,13,Psalm_100_4,Gehet zu seinen Thoren ein mit dancken,94.74,False\\n41,gehet zu seinen thoren ein mit dancken,29,13,Psalm_100_4,Gehet zu seinen Thoren ein mit dancken,94.74,True\\n42,zu seinen vorhöfen mit loben,29,14,Psalm_100_4,zu seinen Vorhöfen mit loben,96.43,False\\n43,zu seinen vorhöfen mit loben,29,14,Psalm_100_4,zu seinen Vorhöfen mit loben,96.43,True\\n44,dancket ihm lobet seinen nahmen,29,15,Psalm_100_4,Dancket jm lobet seinen Namen,86.67,True\\n45,dancket ihm lobet seinen nahmen,29,15,Psalm_100_4,Dancket jm lobet seinen Namen,86.67,True\\n46,so es hören sprechen,29,17,3 Mose_14_48,So sol ers rein sprechen,81.82,False\\n47,so es hören sprechen,29,17,3 Mose_14_48,So sol ers rein sprechen,81.82,True\\n48,man singet mit freuden in den hütten der gerechten,29,18,Psalm_118_15,Man singt mit freuden vom Sieg in den hütten der Gerechten,87.04,False\\n49,man singet mit freuden in den hütten der gerechten,29,18,Psalm_118_15,Man singt mit freuden vom Sieg in den hütten der Gerechten,87.04,True\\n50,und es begab sich,36,0,1 Mose_4_8,VND es begab sich,82.35,False\\n51,und es begab sich,36,0,1 Mose_27_1,VND es begab sich,82.35,True\\n52,und es begab sich,36,0,1 Mose_35_22,Vnd es begab sich,94.12,True\\n53,und es begab sich,36,0,Josua_5_13,Vnd es begab sich,94.12,True\\n54,und es begab sich,36,0,Richter_1_14,Vnd es begab sich,94.12,True\\n55,und es begab sich,36,0,Rut_2_3,Vnd es begab sich eben,82.05,True\\n56,und es begab sich,36,0,2 Samuel_11_2,VND es begab sich,82.35,True\\n57,und es begab sich,36,0,2 Könige_13_21,Vnd es begab sich,94.12,True\\n58,und es begab sich,36,0,1 Mose_4_8,VND es begab sich,82.35,True\\n59,und es begab sich,36,0,1 Mose_27_1,VND es begab sich,82.35,True\\n60,und es begab sich,36,0,1 Mose_35_22,Vnd es begab sich,94.12,True\\n61,und es begab sich,36,0,Josua_5_13,Vnd es begab sich,94.12,True\\n62,und es begab sich,36,0,Richter_1_14,Vnd es begab sich,94.12,True\\n63,und es begab sich,36,0,Rut_2_3,Vnd es begab sich eben,82.05,True\\n64,und es begab sich,36,0,2 Samuel_11_2,VND es begab sich,82.35,True\\n65,und es begab sich,36,0,2 Könige_13_21,Vnd es begab sich,94.12,True\\n66,und sprach zu ihnen,36,18,1 Mose_1_28,vnd sprach zu jnen,86.49,True\\n67,und sprach zu ihnen,36,18,1 Mose_31_5,vnd sprach zu jnen,86.49,True\\n68,und sprach zu ihnen,36,18,1 Mose_32_17,vnd sprach zu jnen,86.49,True\\n69,und sprach zu ihnen,36,18,1 Mose_34_14,vnd sprachen zu jnen,82.05,True\\n70,und sprach zu ihnen,36,18,1 Mose_39_14,vnd sprach zu jnen,86.49,True\\n71,und sprach zu ihnen,36,18,1 Mose_42_7,vnd sprach zu jnen,86.49,True\\n72,und sprach zu ihnen,36,18,1 Mose_42_9,vnd sprach zu jnen,86.49,True\\n73,und sprach zu ihnen,36,18,1 Mose_45_24,Vnd sprach zu jnen,86.49,True\\n74,und sprach zu ihnen,36,18,1 Mose_49_29,vnd sprach zu jnen,86.49,True\\n75,und sprach zu ihnen,36,18,2 Mose_1_18,vnd sprach zu jnen,86.49,True\\n76,und sprach zu ihnen,36,18,2 Mose_3_16,vnd sprich zu jnen,81.08,True\\n77,und sprach zu ihnen,36,18,2 Mose_5_21,vnd sprachen zu jnen,82.05,True\\n78,und sprach zu ihnen,36,18,2 Mose_9_27,vnd sprach zu jnen,86.49,True\\n79,und sprach zu ihnen,36,18,2 Mose_10_8,der sprach zu jnen,81.08,True\\n80,und sprach zu ihnen,36,18,2 Mose_12_21,vnd sprach zu jnen,86.49,True\\n81,und sprach zu ihnen,36,18,2 Mose_16_23,Vnd er sprach zu jnen,80.0,True\\n82,und sprach zu ihnen,36,18,2 Mose_19_12,vnd sprich zu jnen,81.08,True\\n83,und sprach zu ihnen,36,18,2 Mose_19_15,Vnd er sprach zu jnen,80.0,True\\n84,und sprach zu ihnen,36,18,2 Mose_32_27,Vnd er sprach zu jnen,80.0,True\\n85,und sprach zu ihnen,36,18,2 Mose_35_1,vnd sprach zu jnen,86.49,True\\n86,und sprach zu ihnen,36,18,3 Mose_1_2,vnd sprich zu jnen,81.08,True\\n87,und sprach zu ihnen,36,18,3 Mose_8_5,vnd sprach zu jnen,86.49,True\\n88,und sprach zu ihnen,36,18,3 Mose_11_1,vnd sprach zu jnen,86.49,True\\n89,und sprach zu ihnen,36,18,3 Mose_17_2,vnd sprich zu jnen,81.08,True\\n90,und sprach zu ihnen,36,18,3 Mose_18_2,vnd sprich zu jnen,81.08,True\\n91,und sprach zu ihnen,36,18,3 Mose_19_2,vnd sprich zu jnen,81.08,True\\n92,und sprach zu ihnen,36,18,3 Mose_21_1,vnd sprich zu jnen,81.08,True\\n93,und sprach zu ihnen,36,18,3 Mose_23_2,vnd sprich zu jnen,81.08,True\\n94,und sprach zu ihnen,36,18,3 Mose_23_10,vnd sprich zu jnen,81.08,True\\n95,und sprach zu ihnen,36,18,3 Mose_25_2,vnd sprich zu jnen,81.08,True\\n96,und sprach zu ihnen,36,18,3 Mose_27_2,vnd sprich zu jnen,81.08,True\\n97,und sprach zu ihnen,36,18,4 Mose_5_6,vnd sprich zu jnen,81.08,True\\n98,und sprach zu ihnen,36,18,4 Mose_6_2,vnd sprich zu jnen,81.08,True\\n99,und sprach zu ihnen,36,18,4 Mose_15_2,vnd sprich zu jnen,81.08,True\\n100,und sprach zu ihnen,36,18,4 Mose_15_18,vnd sprich zu jnen,81.08,True\\n101,und sprach zu ihnen,36,18,4 Mose_15_38,vnd sprich zu jnen,81.08,True\\n102,und sprach zu ihnen,36,18,4 Mose_16_3,vnd sprachen zu jnen,82.05,True\\n103,und sprach zu ihnen,36,18,4 Mose_20_10,vnd sprach zu jnen,86.49,True\\n104,und sprach zu ihnen,36,18,4 Mose_22_8,Vnd er sprach zu jnen,80.0,True\\n105,und sprach zu ihnen,36,18,4 Mose_28_2,vnd sprich zu jnen,81.08,True\\n106,und sprach zu ihnen,36,18,4 Mose_28_3,Vnd sprich zu jnen,81.08,True\\n107,und sprach zu ihnen,36,18,4 Mose_31_15,vnd sprach zu jnen,86.49,True\\n108,und sprach zu ihnen,36,18,4 Mose_32_29,vnd sprach zu jnen,86.49,True\\n109,und sprach zu ihnen,36,18,4 Mose_33_51,vnd sprich zu jnen,81.08,True\\n110,und sprach zu ihnen,36,18,4 Mose_34_2,vnd sprich zu jnen,81.08,True\\n111,und sprach zu ihnen,36,18,4 Mose_35_10,vnd sprich zu jnen,81.08,True\\n112,und sprach zu ihnen,36,18,5 Mose_5_1,vnd sprach zu jnen,86.49,True\\n113,und sprach zu ihnen,36,18,5 Mose_29_1,vnd sprach zu jnen,86.49,True\\n114,und sprach zu ihnen,36,18,5 Mose_31_2,vnd sprach zu jnen,86.49,True\\n115,und sprach zu ihnen,36,18,Josua_2_9,vnd sprach zu jnen,86.49,True\\n116,und sprach zu ihnen,36,18,Josua_4_5,vnd sprach zu jnen,86.49,True\\n117,und sprach zu ihnen,36,18,Josua_6_6,vnd sprach zu jnen,86.49,True\\n118,und sprach zu ihnen,36,18,Josua_7_2,vnd sprach zu jnen,86.49,True\\n119,und sprach zu ihnen,36,18,Josua_22_2,vnd sprach zu jnen,86.49,True\\n120,und sprach zu ihnen,36,18,Richter_3_28,Vnd sprach zu jnen,86.49,True\\n121,und sprach zu ihnen,36,18,Richter_6_8,der sprach zu jnen,81.08,True\\n122,und sprach zu ihnen,36,18,Richter_7_16,Vnd sprach zu jnen,86.49,True\\n123,und sprach zu ihnen,36,18,Richter_18_2,vnd sprachen zu jnen,82.05,True\\n124,und sprach zu ihnen,36,18,Richter_19_23,vnd sprach zu jnen,86.49,True\\n125,und sprach zu ihnen,36,18,1 Samuel_2_23,Vnd er sprach zu jnen,80.0,True\\n126,und sprach zu ihnen,36,18,1 Samuel_17_8,vnd sprach zu jnen,86.49,True\\n127,und sprach zu ihnen,36,18,1 Samuel_25_5,vnd sprach zu jnen,86.49,True\\n128,und sprach zu ihnen,36,18,1 Könige_12_28,vnd sprach zu jnen,86.49,True\\n129,und sprach zu ihnen,36,18,1 Könige_22_6,vnd sprach zu jnen,86.49,True\\n130,und sprach zu ihnen,36,18,2 Könige_1_2,vnd sprach zu jnen,86.49,True\\n131,und sprach zu ihnen,36,18,2 Könige_1_3,vnd sprich zu jnen,81.08,True\\n132,und sprach zu ihnen,36,18,2 Könige_2_18,vnd sprach zu jnen,86.49,True\\n133,und sprach zu ihnen,36,18,2 Könige_4_24,vnd sprach zum Knaben,80.0,True\\n134,und sprach zu ihnen,36,18,2 Könige_6_11,vnd sprach zu jnen,86.49,True\\n135,und sprach zu ihnen,36,18,2 Könige_11_15,vnd sprach zu jnen,86.49,True\\n136,und sprach zu ihnen,36,18,2 Könige_25_24,vnd sprach zu jnen,86.49,True\\n137,und sprach zu ihnen,36,18,1 Chronik_12_17,vnd sprach zu jnen,86.49,True\\n138,und sprach zu ihnen,36,18,1 Chronik_15_12,vnd sprach zu jnen,86.49,True\\n139,und sprach zu ihnen,36,18,2 Chronik_10_9,vnd sprach zu jnen,86.49,True\\n140,und sprach zu ihnen,36,18,2 Chronik_10_10,vnd sprich zu jnen,81.08,True\\n141,und sprach zu ihnen,36,18,2 Chronik_12_5,vnd sprach zu jnen,86.49,True\\n142,und sprach zu ihnen,36,18,2 Chronik_18_5,vnd sprach zu jnen,86.49,True\\n143,und sprach zu ihnen,36,18,2 Chronik_23_3,Vnd er sprach zu jnen,80.0,True\\n144,und sprach zu ihnen,36,18,2 Chronik_23_14,vnd sprach zu jnen,86.49,True\\n145,und sprach zu ihnen,36,18,2 Chronik_24_5,vnd sprach zu jnen,86.49,True\\n146,und sprach zu ihnen,36,18,2 Chronik_24_20,vnd sprach zu jnen,86.49,True\\n147,und sprach zu ihnen,36,18,2 Chronik_28_9,vnd sprach zu jnen,86.49,True\\n148,und sprach zu ihnen,36,18,2 Chronik_28_13,vnd sprachen zu jnen,82.05,True\\n149,und sprach zu ihnen,36,18,2 Chronik_29_5,vnd sprach zu jnen,86.49,True\\n150,und sprach zu ihnen,36,18,Esra_4_2,vnd sprachen zu jnen,82.05,True\\n151,und sprach zu ihnen,36,18,Esra_8_28,Vnd sprach zu jnen,86.49,True\\n152,und sprach zu ihnen,36,18,Esra_10_10,vnd sprach zu jnen,86.49,True\\n153,und sprach zu ihnen,36,18,Nehemia_2_17,Vnd sprach zu jnen,86.49,True\\n154,und sprach zu ihnen,36,18,Nehemia_5_7,vnd sprach zu jnen,86.49,True\\n155,und sprach zu ihnen,36,18,Nehemia_5_8,vnd sprach zu jnen,86.49,True\\n156,und sprach zu ihnen,36,18,Nehemia_7_3,vnd sprach zu jnen,86.49,True\\n157,und sprach zu ihnen,36,18,Nehemia_13_17,vnd sprach zu jnen,86.49,True\\n158,und sprach zu ihnen,36,18,Nehemia_13_21,vnd sprach zu jnen,86.49,True\\n159,und sprach zu ihnen,36,18,Jeremia_11_3,vnd sprich zu jnen,81.08,True\\n160,und sprach zu ihnen,36,18,Jeremia_17_20,vnd sprich zu jnen,81.08,True\\n161,und sprach zu ihnen,36,18,Jeremia_19_11,vnd sprich zu jnen,81.08,True\\n162,und sprach zu ihnen,36,18,Jeremia_25_30,vnd sprich zu jnen,81.08,True\\n163,und sprach zu ihnen,36,18,Jeremia_26_4,Vnd sprich zu jnen,81.08,True\\n164,und sprach zu ihnen,36,18,Jeremia_35_5,vnd sprach zu jnen,86.49,True\\n165,und sprach zu ihnen,36,18,Jeremia_42_9,vnd sprach zu jnen,86.49,True\\n166,und sprach zu ihnen,36,18,Jeremia_43_10,Vnd sprich zu jnen,81.08,True\\n167,und sprach zu ihnen,36,18,Hesekiel_20_3,vnd sprich zu jnen,81.08,True\\n168,und sprach zu ihnen,36,18,Hesekiel_20_5,vnd sprich zu jnen,81.08,True\\n169,und sprach zu ihnen,36,18,Hesekiel_20_7,Vnd sprach zu jnen,86.49,True\\n170,und sprach zu ihnen,36,18,Hesekiel_20_27,vnd sprich zu jnen,81.08,True\\n171,und sprach zu ihnen,36,18,Hesekiel_24_3,vnd sprich zu jnen,81.08,True\\n172,und sprach zu ihnen,36,18,Hesekiel_33_2,vnd sprich zu jnen,81.08,True\\n173,und sprach zu ihnen,36,18,Hesekiel_37_4,vnd sprich zu jnen,81.08,True\\n174,und sprach zu ihnen,36,18,Daniel_3_14,vnd sprach zu jnen,86.49,True\\n175,und sprach zu ihnen,36,18,1 Mose_1_28,vnd sprach zu jnen,86.49,True\\n176,und sprach zu ihnen,36,18,1 Mose_31_5,vnd sprach zu jnen,86.49,True\\n177,und sprach zu ihnen,36,18,1 Mose_32_17,vnd sprach zu jnen,86.49,True\\n178,und sprach zu ihnen,36,18,1 Mose_34_14,vnd sprachen zu jnen,82.05,True\\n179,und sprach zu ihnen,36,18,1 Mose_39_14,vnd sprach zu jnen,86.49,True\\n180,und sprach zu ihnen,36,18,1 Mose_42_7,vnd sprach zu jnen,86.49,True\\n181,und sprach zu ihnen,36,18,1 Mose_42_9,vnd sprach zu jnen,86.49,True\\n182,und sprach zu ihnen,36,18,1 Mose_45_24,Vnd sprach zu jnen,86.49,True\\n183,und sprach zu ihnen,36,18,1 Mose_49_29,vnd sprach zu jnen,86.49,True\\n184,und sprach zu ihnen,36,18,2 Mose_1_18,vnd sprach zu jnen,86.49,True\\n185,und sprach zu ihnen,36,18,2 Mose_3_16,vnd sprich zu jnen,81.08,True\\n186,und sprach zu ihnen,36,18,2 Mose_5_21,vnd sprachen zu jnen,82.05,True\\n187,und sprach zu ihnen,36,18,2 Mose_9_27,vnd sprach zu jnen,86.49,True\\n188,und sprach zu ihnen,36,18,2 Mose_10_8,der sprach zu jnen,81.08,True\\n189,und sprach zu ihnen,36,18,2 Mose_12_21,vnd sprach zu jnen,86.49,True\\n190,und sprach zu ihnen,36,18,2 Mose_16_23,Vnd er sprach zu jnen,80.0,True\\n191,und sprach zu ihnen,36,18,2 Mose_19_12,vnd sprich zu jnen,81.08,True\\n192,und sprach zu ihnen,36,18,2 Mose_19_15,Vnd er sprach zu jnen,80.0,True\\n193,und sprach zu ihnen,36,18,2 Mose_32_27,Vnd er sprach zu jnen,80.0,True\\n194,und sprach zu ihnen,36,18,2 Mose_35_1,vnd sprach zu jnen,86.49,True\\n195,und sprach zu ihnen,36,18,3 Mose_1_2,vnd sprich zu jnen,81.08,True\\n196,und sprach zu ihnen,36,18,3 Mose_8_5,vnd sprach zu jnen,86.49,True\\n197,und sprach zu ihnen,36,18,3 Mose_11_1,vnd sprach zu jnen,86.49,True\\n198,und sprach zu ihnen,36,18,3 Mose_17_2,vnd sprich zu jnen,81.08,True\\n199,und sprach zu ihnen,36,18,3 Mose_18_2,vnd sprich zu jnen,81.08,True\\n200,und sprach zu ihnen,36,18,3 Mose_19_2,vnd sprich zu jnen,81.08,True\\n201,und sprach zu ihnen,36,18,3 Mose_21_1,vnd sprich zu jnen,81.08,True\\n202,und sprach zu ihnen,36,18,3 Mose_23_2,vnd sprich zu jnen,81.08,True\\n203,und sprach zu ihnen,36,18,3 Mose_23_10,vnd sprich zu jnen,81.08,True\\n204,und sprach zu ihnen,36,18,3 Mose_25_2,vnd sprich zu jnen,81.08,True\\n205,und sprach zu ihnen,36,18,3 Mose_27_2,vnd sprich zu jnen,81.08,True\\n206,und sprach zu ihnen,36,18,4 Mose_5_6,vnd sprich zu jnen,81.08,True\\n207,und sprach zu ihnen,36,18,4 Mose_6_2,vnd sprich zu jnen,81.08,True\\n208,und sprach zu ihnen,36,18,4 Mose_15_2,vnd sprich zu jnen,81.08,True\\n209,und sprach zu ihnen,36,18,4 Mose_15_18,vnd sprich zu jnen,81.08,True\\n210,und sprach zu ihnen,36,18,4 Mose_15_38,vnd sprich zu jnen,81.08,True\\n211,und sprach zu ihnen,36,18,4 Mose_16_3,vnd sprachen zu jnen,82.05,True\\n212,und sprach zu ihnen,36,18,4 Mose_20_10,vnd sprach zu jnen,86.49,True\\n213,und sprach zu ihnen,36,18,4 Mose_22_8,Vnd er sprach zu jnen,80.0,True\\n214,und sprach zu ihnen,36,18,4 Mose_28_2,vnd sprich zu jnen,81.08,True\\n215,und sprach zu ihnen,36,18,4 Mose_28_3,Vnd sprich zu jnen,81.08,True\\n216,und sprach zu ihnen,36,18,4 Mose_31_15,vnd sprach zu jnen,86.49,True\\n217,und sprach zu ihnen,36,18,4 Mose_32_29,vnd sprach zu jnen,86.49,True\\n218,und sprach zu ihnen,36,18,4 Mose_33_51,vnd sprich zu jnen,81.08,True\\n219,und sprach zu ihnen,36,18,4 Mose_34_2,vnd sprich zu jnen,81.08,True\\n220,und sprach zu ihnen,36,18,4 Mose_35_10,vnd sprich zu jnen,81.08,True\\n221,und sprach zu ihnen,36,18,5 Mose_5_1,vnd sprach zu jnen,86.49,True\\n222,und sprach zu ihnen,36,18,5 Mose_29_1,vnd sprach zu jnen,86.49,True\\n223,und sprach zu ihnen,36,18,5 Mose_31_2,vnd sprach zu jnen,86.49,True\\n224,und sprach zu ihnen,36,18,Josua_2_9,vnd sprach zu jnen,86.49,True\\n225,und sprach zu ihnen,36,18,Josua_4_5,vnd sprach zu jnen,86.49,True\\n226,und sprach zu ihnen,36,18,Josua_6_6,vnd sprach zu jnen,86.49,True\\n227,und sprach zu ihnen,36,18,Josua_7_2,vnd sprach zu jnen,86.49,True\\n228,und sprach zu ihnen,36,18,Josua_22_2,vnd sprach zu jnen,86.49,True\\n229,und sprach zu ihnen,36,18,Richter_3_28,Vnd sprach zu jnen,86.49,True\\n230,und sprach zu ihnen,36,18,Richter_6_8,der sprach zu jnen,81.08,True\\n231,und sprach zu ihnen,36,18,Richter_7_16,Vnd sprach zu jnen,86.49,True\\n232,und sprach zu ihnen,36,18,Richter_18_2,vnd sprachen zu jnen,82.05,True\\n233,und sprach zu ihnen,36,18,Richter_19_23,vnd sprach zu jnen,86.49,True\\n234,und sprach zu ihnen,36,18,1 Samuel_2_23,Vnd er sprach zu jnen,80.0,True\\n235,und sprach zu ihnen,36,18,1 Samuel_17_8,vnd sprach zu jnen,86.49,True\\n236,und sprach zu ihnen,36,18,1 Samuel_25_5,vnd sprach zu jnen,86.49,True\\n237,und sprach zu ihnen,36,18,1 Könige_12_28,vnd sprach zu jnen,86.49,True\\n238,und sprach zu ihnen,36,18,1 Könige_22_6,vnd sprach zu jnen,86.49,True\\n239,und sprach zu ihnen,36,18,2 Könige_1_2,vnd sprach zu jnen,86.49,True\\n240,und sprach zu ihnen,36,18,2 Könige_1_3,vnd sprich zu jnen,81.08,True\\n241,und sprach zu ihnen,36,18,2 Könige_2_18,vnd sprach zu jnen,86.49,True\\n242,und sprach zu ihnen,36,18,2 Könige_4_24,vnd sprach zum Knaben,80.0,True\\n243,und sprach zu ihnen,36,18,2 Könige_6_11,vnd sprach zu jnen,86.49,True\\n244,und sprach zu ihnen,36,18,2 Könige_11_15,vnd sprach zu jnen,86.49,True\\n245,und sprach zu ihnen,36,18,2 Könige_25_24,vnd sprach zu jnen,86.49,True\\n246,und sprach zu ihnen,36,18,1 Chronik_12_17,vnd sprach zu jnen,86.49,True\\n247,und sprach zu ihnen,36,18,1 Chronik_15_12,vnd sprach zu jnen,86.49,True\\n248,und sprach zu ihnen,36,18,2 Chronik_10_9,vnd sprach zu jnen,86.49,True\\n249,und sprach zu ihnen,36,18,2 Chronik_10_10,vnd sprich zu jnen,81.08,True\\n250,und sprach zu ihnen,36,18,2 Chronik_12_5,vnd sprach zu jnen,86.49,True\\n251,und sprach zu ihnen,36,18,2 Chronik_18_5,vnd sprach zu jnen,86.49,True\\n252,und sprach zu ihnen,36,18,2 Chronik_23_3,Vnd er sprach zu jnen,80.0,True\\n253,und sprach zu ihnen,36,18,2 Chronik_23_14,vnd sprach zu jnen,86.49,True\\n254,und sprach zu ihnen,36,18,2 Chronik_24_5,vnd sprach zu jnen,86.49,True\\n255,und sprach zu ihnen,36,18,2 Chronik_24_20,vnd sprach zu jnen,86.49,True\\n256,und sprach zu ihnen,36,18,2 Chronik_28_9,vnd sprach zu jnen,86.49,True\\n257,und sprach zu ihnen,36,18,2 Chronik_28_13,vnd sprachen zu jnen,82.05,True\\n258,und sprach zu ihnen,36,18,2 Chronik_29_5,vnd sprach zu jnen,86.49,True\\n259,und sprach zu ihnen,36,18,Esra_4_2,vnd sprachen zu jnen,82.05,True\\n260,und sprach zu ihnen,36,18,Esra_8_28,Vnd sprach zu jnen,86.49,True\\n261,und sprach zu ihnen,36,18,Esra_10_10,vnd sprach zu jnen,86.49,True\\n262,und sprach zu ihnen,36,18,Nehemia_2_17,Vnd sprach zu jnen,86.49,True\\n263,und sprach zu ihnen,36,18,Nehemia_5_7,vnd sprach zu jnen,86.49,True\\n264,und sprach zu ihnen,36,18,Nehemia_5_8,vnd sprach zu jnen,86.49,True\\n265,und sprach zu ihnen,36,18,Nehemia_7_3,vnd sprach zu jnen,86.49,True\\n266,und sprach zu ihnen,36,18,Nehemia_13_17,vnd sprach zu jnen,86.49,True\\n267,und sprach zu ihnen,36,18,Nehemia_13_21,vnd sprach zu jnen,86.49,True\\n268,und sprach zu ihnen,36,18,Jeremia_11_3,vnd sprich zu jnen,81.08,True\\n269,und sprach zu ihnen,36,18,Jeremia_17_20,vnd sprich zu jnen,81.08,True\\n270,und sprach zu ihnen,36,18,Jeremia_19_11,vnd sprich zu jnen,81.08,True\\n271,und sprach zu ihnen,36,18,Jeremia_25_30,vnd sprich zu jnen,81.08,True\\n272,und sprach zu ihnen,36,18,Jeremia_26_4,Vnd sprich zu jnen,81.08,True\\n273,und sprach zu ihnen,36,18,Jeremia_35_5,vnd sprach zu jnen,86.49,True\\n274,und sprach zu ihnen,36,18,Jeremia_42_9,vnd sprach zu jnen,86.49,True\\n275,und sprach zu ihnen,36,18,Jeremia_43_10,Vnd sprich zu jnen,81.08,True\\n276,und sprach zu ihnen,36,18,Hesekiel_20_3,vnd sprich zu jnen,81.08,True\\n277,und sprach zu ihnen,36,18,Hesekiel_20_5,vnd sprich zu jnen,81.08,True\\n278,und sprach zu ihnen,36,18,Hesekiel_20_7,Vnd sprach zu jnen,86.49,True\\n279,und sprach zu ihnen,36,18,Hesekiel_20_27,vnd sprich zu jnen,81.08,True\\n280,und sprach zu ihnen,36,18,Hesekiel_24_3,vnd sprich zu jnen,81.08,True\\n281,und sprach zu ihnen,36,18,Hesekiel_33_2,vnd sprich zu jnen,81.08,True\\n282,und sprach zu ihnen,36,18,Hesekiel_37_4,vnd sprich zu jnen,81.08,True\\n283,und sprach zu ihnen,36,18,Daniel_3_14,vnd sprach zu jnen,86.49,True\\n284,der dich geladen hat,36,30,5 Mose_32_18,der dich gemacht hat,80.0,False\\n285,der dich geladen hat,36,30,2 Chronik_9_8,der dich lieb hat,81.08,True\\n286,der dich geladen hat,36,30,Jesaja_49_7,der dich erwelet hat,80.0,True\\n287,der dich geladen hat,36,30,Jesaja_51_13,der dich gemacht hat,80.0,True\\n288,der dich geladen hat,36,30,Jeremia_11_17,der dich gepflantzt hat,83.72,True\\n289,der dich geladen hat,36,30,5 Mose_32_18,der dich gemacht hat,80.0,True\\n290,der dich geladen hat,36,30,2 Chronik_9_8,der dich lieb hat,81.08,True\\n291,der dich geladen hat,36,30,Jesaja_49_7,der dich erwelet hat,80.0,True\\n292,der dich geladen hat,36,30,Jesaja_51_13,der dich gemacht hat,80.0,True\\n293,der dich geladen hat,36,30,Jeremia_11_17,der dich gepflantzt hat,83.72,True\\n294,der soll erhöhet werden,36,36,Sprüche_9_7,der mus gehönet werden,80.0,False\\n295,der soll erhöhet werden,36,36,Sprüche_9_7,der mus gehönet werden,80.0,True\\n296,i ob es recht ist,40,0,4 Mose_15_24,wie es recht ist,84.85,True\\n297,i ob es recht ist,40,0,Hesekiel_34_16,wie es recht ist,84.85,True\\n298,i ob es recht ist,40,0,4 Mose_15_24,wie es recht ist,84.85,True\\n299,i ob es recht ist,40,0,Hesekiel_34_16,wie es recht ist,84.85,True\\n300,und truncken das süsse,44,22,Nehemia_8_10,vnd trincket das süsse,86.36,False\\n301,und truncken das süsse,44,22,Nehemia_8_10,vnd trincket das süsse,86.36,True\\n302,die nichts für sich bereitet hatten,44,24,Nehemia_8_10,die nichts fur sich bereit haben,89.55,False\\n303,die nichts für sich bereitet hatten,44,24,Nehemia_8_10,die nichts fur sich bereit haben,89.55,True\\n304,der ihn gesand hat,44,37,2 Mose_4_28,der jn gesand hatte,86.49,False\\n305,der ihn gesand hat,44,37,2 Samuel_24_13,dem der mich gesand hat,82.93,True\\n306,der ihn gesand hat,44,37,2 Könige_1_6,der euch gesand hat,86.49,True\\n307,der ihn gesand hat,44,37,2 Mose_4_28,der jn gesand hatte,86.49,True\\n308,der ihn gesand hat,44,37,2 Samuel_24_13,dem der mich gesand hat,82.93,True\\n309,der ihn gesand hat,44,37,2 Könige_1_6,der euch gesand hat,86.49,True\\n310,ob es recht ist,44,121,4 Mose_15_24,wie es recht ist,83.87,False\\n311,ob es recht ist,44,121,Hesekiel_34_16,wie es recht ist,83.87,True\\n312,ob es recht ist,44,121,4 Mose_15_24,wie es recht ist,83.87,True\\n313,ob es recht ist,44,121,Hesekiel_34_16,wie es recht ist,83.87,True\\n314,i es ist wahr,51,9,Rut_3_12,Nu es ist war,84.62,True\\n315,i es ist wahr,51,9,Rut_3_12,Nu es ist war,84.62,True\\n316,mit paucken und reigen,59,18,Jesaja_30_32,mit paucken vnd harffen,80.0,True\\n317,mit paucken und reigen,59,18,Jesaja_30_32,mit paucken vnd harffen,80.0,True\\n318,und lobsinget ihm auf dem psalter von zehn säyten,59,24,Psalm_33_2,vnd lobsinget jm auff dem Psalter von zehen seiten,86.87,True\\n319,und lobsinget ihm auf dem psalter von zehn säyten,59,24,Psalm_33_2,vnd lobsinget jm auff dem Psalter von zehen seiten,86.87,True\\n320,singet ihm ein neues lied,59,25,Psalm_33_3,Singet jm ein newes Lied,81.63,False\\n321,singet ihm ein neues lied,59,25,Psalm_33_3,Singet jm ein newes Lied,81.63,True\\n322,machets gut auf säytenspiel mit schalle,59,26,Psalm_33_3,Machts gut auff Seitenspielen mit schalle,85.0,False\\n323,machets gut auf säytenspiel mit schalle,59,26,Psalm_33_3,Machts gut auff Seitenspielen mit schalle,85.0,True\\n324,daß ist ein köstlich ding,59,28,Psalm_92_2,DAs ist ein köstlich ding,88.0,False\\n325,daß ist ein köstlich ding,59,28,Psalm_147_1,das ist ein köstlich ding,96.0,True\\n326,daß ist ein köstlich ding,59,28,Klagelieder_3_26,Es ist ein köstlich ding,89.8,True\\n327,daß ist ein köstlich ding,59,28,Psalm_92_2,DAs ist ein köstlich ding,88.0,True\\n328,daß ist ein köstlich ding,59,28,Psalm_147_1,das ist ein köstlich ding,96.0,True\\n329,daß ist ein köstlich ding,59,28,Klagelieder_3_26,Es ist ein köstlich ding,89.8,True\\n330,auf der anderen seite,63,0,2 Mose_26_20,Also auff der andern seiten,83.33,True\\n331,auf der anderen seite,63,0,Hesekiel_41_20,auff der andern seiten,93.02,True\\n332,auf der anderen seite,63,0,2 Mose_26_20,Also auff der andern seiten,83.33,True\\n333,auf der anderen seite,63,0,Hesekiel_41_20,auff der andern seiten,93.02,True\\n334,und die sänger wie am reigen,72,9,Psalm_87_7,Vnd die Senger wie am Reigen,85.71,True\\n335,und die sänger wie am reigen,72,9,Psalm_87_7,Vnd die Senger wie am Reigen,85.71,True\\n336,so würden sie ehre haben,93,33,Hesekiel_33_33,so werden sie erfaren,80.0,False\\n337,so würden sie ehre haben,93,33,Hesekiel_33_33,so werden sie erfaren,80.0,True\\n338,der ein geist ist,97,15,5 Mose_18_6,da er ein Gast ist,80.0,True\\n339,der ein geist ist,97,15,5 Mose_18_6,da er ein Gast ist,80.0,True\\n340,zürnet und sündiget nicht,97,25,Psalm_4_5,Zürnet jr so sündiget nicht,80.77,True\\n341,zürnet und sündiget nicht,97,25,Psalm_4_5,Zürnet jr so sündiget nicht,80.77,True\\n342,und weisheit und stärcke,109,4,Daniel_2_20,beide weisheit vnd stercke,80.0,False\\n343,und weisheit und stärcke,109,4,Daniel_2_20,beide weisheit vnd stercke,80.0,True\\n344,nehmet die psalmen und gebet her die paucken,113,1,Psalm_81_3,Nemet die Psalmen vnd gebet her die Paucken,89.66,True\\n345,nehmet die psalmen und gebet her die paucken,113,1,Psalm_81_3,Nemet die Psalmen vnd gebet her die Paucken,89.66,True\\n346,liebliche harfen mit psalter,113,2,Psalm_81_3,Lieblich Harffen mit Psaltern,84.21,True\\n347,liebliche harfen mit psalter,113,2,Psalm_81_3,Lieblich Harffen mit Psaltern,84.21,True\\n348,denn ich mag deines psaltersspiels nicht hören,116,14,Amos_5_23,Denn Jch mag deines Psalterspiles nicht hören,90.11,True\\n349,denn ich mag deines psaltersspiels nicht hören,116,14,Amos_5_23,Denn Jch mag deines Psalterspiles nicht hören,90.11,True\\n350,und aufrichtigkeit ist ihm angenehm,124,25,1 Chronik_29_17,vnd auffrichtigkeit ist dir angenem,88.57,True\\n351,und aufrichtigkeit ist ihm angenehm,124,25,1 Chronik_29_17,vnd auffrichtigkeit ist dir angenem,88.57,True\\n352,und weinen wenn sie an zion gedachten,134,26,Psalm_137_1,vnd weineten Wenn wir an Zion gedachten,84.21,True\\n353,und weinen wenn sie an zion gedachten,134,26,Psalm_137_1,vnd weineten Wenn wir an Zion gedachten,84.21,True\\n354,und ich bin sein,139,7,Hohelied_2_16,vnd ich bin sein,93.75,False\\n355,und ich bin sein,139,7,Hohelied_6_3,vnd ich bin sein,93.75,True\\n356,und ich bin sein,139,7,Hohelied_2_16,vnd ich bin sein,93.75,True\\n357,und ich bin sein,139,7,Hohelied_6_3,vnd ich bin sein,93.75,True\\n358,und er hält sich auch zu mir,139,8,Hohelied_7_11,vnd er helt sich auch zu mir,92.86,True\\n359,und er hält sich auch zu mir,139,8,Hohelied_7_11,vnd er helt sich auch zu mir,92.86,True\\n360,mein gott sey nicht ferne von mir,141,4,Psalm_71_12,GOtt sey nicht ferne von mir,85.25,True\\n361,mein gott sey nicht ferne von mir,141,4,Psalm_71_12,GOtt sey nicht ferne von mir,85.25,True\\n362,jch bin bey dir,141,8,Jesaja_43_5,denn ich bin bey dir,80.0,True\\n363,jch bin bey dir,141,8,Jeremia_1_8,Denn ich bin bey dir,80.0,True\\n364,jch bin bey dir,141,8,Jeremia_1_19,Denn ich bin bey dir,80.0,True\\n365,jch bin bey dir,141,8,Jeremia_15_20,Denn Jch bin bey dir,80.0,True\\n366,jch bin bey dir,141,8,Jeremia_30_11,Denn ich bin bey dir,80.0,True\\n367,jch bin bey dir,141,8,Jesaja_43_5,denn ich bin bey dir,80.0,True\\n368,jch bin bey dir,141,8,Jeremia_1_8,Denn ich bin bey dir,80.0,True\\n369,jch bin bey dir,141,8,Jeremia_1_19,Denn ich bin bey dir,80.0,True\\n370,jch bin bey dir,141,8,Jeremia_15_20,Denn Jch bin bey dir,80.0,True\\n371,jch bin bey dir,141,8,Jeremia_30_11,Denn ich bin bey dir,80.0,True\\n372,bald sind wir frölich,143,7,Psalm_126_3,Des sind wir frölich,82.93,True\\n373,bald sind wir frölich,143,7,Psalm_126_3,Des sind wir frölich,82.93,True\\n374,denn du hältest mich bey meiner rechten hand,143,17,Psalm_73_23,Denn du heltest mich bey meiner rechten Hand,93.18,True\\n375,denn du hältest mich bey meiner rechten hand,143,17,Psalm_73_23,Denn du heltest mich bey meiner rechten Hand,93.18,True\\n376,du leitest mich nach deinem rath,143,18,Psalm_73_24,Du leitest mich nach deinem Rat,92.06,True\\n377,du leitest mich nach deinem rath,143,18,Psalm_73_24,Du leitest mich nach deinem Rat,92.06,True\\n378,und nimmest mich endlich mit ehren an,143,19,Psalm_73_24,Vnd nimpst mich endlich mit ehren an,93.15,False\\n379,und nimmest mich endlich mit ehren an,143,19,Psalm_73_24,Vnd nimpst mich endlich mit ehren an,93.15,True\\n380,daß meine würtze triefen,151,19,Hohelied_4_16,das seine Würtze trieffen,85.71,True\\n381,daß meine würtze triefen,151,19,Hohelied_4_16,das seine Würtze trieffen,85.71,True\\n382,und liebliches wesen zu seiner rechten ewiglich,159,13,Psalm_16_11,vnd lieblich wesen zu deiner Rechten ewiglich,91.3,True\\n383,und liebliches wesen zu seiner rechten ewiglich,159,13,Psalm_16_11,vnd lieblich wesen zu deiner Rechten ewiglich,91.3,True\\n384,für dem ich stehe,159,17,1 Könige_18_15,fur dem ich stehe,94.12,True\\n385,für dem ich stehe,159,17,2 Könige_3_14,fur dem ich stehe,94.12,True\\n386,für dem ich stehe,159,17,2 Könige_5_16,fur dem ich stehe,94.12,True\\n387,für dem ich stehe,159,17,1 Könige_18_15,fur dem ich stehe,94.12,True\\n388,für dem ich stehe,159,17,2 Könige_3_14,fur dem ich stehe,94.12,True\\n389,für dem ich stehe,159,17,2 Könige_5_16,fur dem ich stehe,94.12,True\\n390,sondern hast lust zum leben,163,4,Psalm_30_6,Vnd er hat lust zum Leben,84.62,True\\n391,sondern hast lust zum leben,163,4,Psalm_30_6,Vnd er hat lust zum Leben,84.62,True\\n392,und hast lust in demselben zu wohnen,163,12,Psalm_132_13,Vnd hat lust daselbs zu wonen,80.0,False\\n393,und hast lust in demselben zu wohnen,163,12,Psalm_132_13,Vnd hat lust daselbs zu wonen,80.0,True\\n394,wer ihr achtet der hat eitel lust daran,163,31,Psalm_111_2,Wer jr achtet der hat eitel lust dran,92.11,False\\n395,wer ihr achtet der hat eitel lust daran,163,31,Psalm_111_2,Wer jr achtet der hat eitel lust dran,92.11,True\\n396,und deinen nahmen rühmen immer und ewiglich,163,109,Psalm_145_2,Vnd deinen Namen rhümen jmer vnd ewiglich,85.71,False\\n397,und deinen nahmen rühmen immer und ewiglich,163,109,Psalm_145_2,Vnd deinen Namen rhümen jmer vnd ewiglich,85.71,True\\n']]}"
      ]
     },
     "execution_count": 61,
     "metadata": {},
     "output_type": "execute_result"
    }
   ],
   "source": [
    "similarity_table"
   ]
  },
  {
   "cell_type": "code",
   "execution_count": 62,
   "id": "3eb45998",
   "metadata": {},
   "outputs": [
    {
     "data": {
      "application/vnd.microsoft.datawrangler.viewer.v0+json": {
       "columns": [
        {
         "name": "index",
         "rawType": "int64",
         "type": "integer"
        },
        {
         "name": "Predigt",
         "rawType": "object",
         "type": "string"
        },
        {
         "name": "Paragraph",
         "rawType": "int64",
         "type": "integer"
        },
        {
         "name": "Satz",
         "rawType": "int64",
         "type": "integer"
        },
        {
         "name": "Bibelstelle",
         "rawType": "object",
         "type": "string"
        },
        {
         "name": "Bibelvers",
         "rawType": "object",
         "type": "string"
        },
        {
         "name": "Ähnlichkeit",
         "rawType": "float64",
         "type": "float"
        },
        {
         "name": "Dopplung",
         "rawType": "bool",
         "type": "boolean"
        }
       ],
       "ref": "4e6bc26f-e845-4e2f-b8d2-9778654e9274",
       "rows": [
        [
         "0",
         "so frage ich nichts nach himmel und erden",
         "21",
         "15",
         "Psalm_73_25",
         "so frage ich nichts nach Himel vnd Erden",
         "91.36",
         "False"
        ],
        [
         "1",
         "so frage ich nichts nach himmel und erden",
         "21",
         "15",
         "Psalm_73_25",
         "so frage ich nichts nach Himel vnd Erden",
         "91.36",
         "True"
        ],
        [
         "2",
         "wenn mir gleich leib und seel verschmacht",
         "21",
         "16",
         "Psalm_73_26",
         "Wenn mir gleich Leib vnd Seele verschmacht",
         "89.16",
         "False"
        ],
        [
         "3",
         "wenn mir gleich leib und seel verschmacht",
         "21",
         "16",
         "Psalm_73_26",
         "Wenn mir gleich Leib vnd Seele verschmacht",
         "89.16",
         "True"
        ],
        [
         "4",
         "der wird nimmermehr sterben",
         "23",
         "8",
         "Psalm_10_11",
         "Er wirds nimer mehr sehen",
         "80.77",
         "False"
        ],
        [
         "5",
         "der wird nimmermehr sterben",
         "23",
         "8",
         "Psalm_10_11",
         "Er wirds nimer mehr sehen",
         "80.77",
         "True"
        ],
        [
         "6",
         "der mich gesandt hat",
         "23",
         "15",
         "1 Mose_16_14",
         "der mich angesehen hat",
         "80.95",
         "True"
        ],
        [
         "7",
         "der mich gesandt hat",
         "23",
         "15",
         "5 Mose_32_18",
         "der dich gemacht hat",
         "80.0",
         "True"
        ],
        [
         "8",
         "der mich gesandt hat",
         "23",
         "15",
         "2 Samuel_24_13",
         "dem der mich gesand hat",
         "88.37",
         "True"
        ],
        [
         "9",
         "der mich gesandt hat",
         "23",
         "15",
         "2 Könige_1_6",
         "der euch gesand hat",
         "87.18",
         "True"
        ],
        [
         "10",
         "der mich gesandt hat",
         "23",
         "15",
         "Jesaja_51_13",
         "der dich gemacht hat",
         "80.0",
         "True"
        ],
        [
         "11",
         "der mich gesandt hat",
         "23",
         "15",
         "Jeremia_42_9",
         "zu dem jr mich gesand habt",
         "82.61",
         "True"
        ],
        [
         "12",
         "der mich gesandt hat",
         "23",
         "15",
         "1 Mose_16_14",
         "der mich angesehen hat",
         "80.95",
         "True"
        ],
        [
         "13",
         "der mich gesandt hat",
         "23",
         "15",
         "5 Mose_32_18",
         "der dich gemacht hat",
         "80.0",
         "True"
        ],
        [
         "14",
         "der mich gesandt hat",
         "23",
         "15",
         "2 Samuel_24_13",
         "dem der mich gesand hat",
         "88.37",
         "True"
        ],
        [
         "15",
         "der mich gesandt hat",
         "23",
         "15",
         "2 Könige_1_6",
         "der euch gesand hat",
         "87.18",
         "True"
        ],
        [
         "16",
         "der mich gesandt hat",
         "23",
         "15",
         "Jesaja_51_13",
         "der dich gemacht hat",
         "80.0",
         "True"
        ],
        [
         "17",
         "der mich gesandt hat",
         "23",
         "15",
         "Jeremia_42_9",
         "zu dem jr mich gesand habt",
         "82.61",
         "True"
        ],
        [
         "18",
         "es ist mit mir gar anders",
         "23",
         "27",
         "Psalm_38_9",
         "Es ist mit mir gar anders",
         "96.0",
         "False"
        ],
        [
         "19",
         "es ist mit mir gar anders",
         "23",
         "27",
         "Psalm_38_9",
         "Es ist mit mir gar anders",
         "96.0",
         "True"
        ],
        [
         "20",
         "aber deine tröstungen ergötzten meine seele",
         "23",
         "39",
         "Psalm_94_19",
         "Aber deine Tröstung ergetzeten meine Seele",
         "87.06",
         "False"
        ],
        [
         "21",
         "aber deine tröstungen ergötzten meine seele",
         "23",
         "39",
         "Psalm_94_19",
         "Aber deine Tröstung ergetzeten meine Seele",
         "87.06",
         "True"
        ],
        [
         "22",
         "sey nun wieder zufrieden meine seele",
         "23",
         "40",
         "Psalm_116_7",
         "Sey nu wider zu frieden meine Seele",
         "90.14",
         "False"
        ],
        [
         "23",
         "sey nun wieder zufrieden meine seele",
         "23",
         "40",
         "Psalm_116_7",
         "Sey nu wider zu frieden meine Seele",
         "90.14",
         "True"
        ],
        [
         "24",
         "denn der herr thut dir gutes",
         "23",
         "41",
         "Psalm_116_7",
         "Denn der HERR thut dir guts",
         "80.0",
         "False"
        ],
        [
         "25",
         "denn der herr thut dir gutes",
         "23",
         "41",
         "Psalm_116_7",
         "Denn der HERR thut dir guts",
         "80.0",
         "True"
        ],
        [
         "26",
         "der wird dir geben was dein hertz wünschet",
         "23",
         "47",
         "Psalm_37_4",
         "Der wird dir geben was dein hertz wündschet",
         "96.47",
         "False"
        ],
        [
         "27",
         "der wird dir geben was dein hertz wünschet",
         "23",
         "47",
         "Psalm_37_4",
         "Der wird dir geben was dein hertz wündschet",
         "96.47",
         "True"
        ],
        [
         "28",
         "die da friede verkündigen",
         "27",
         "8",
         "Jesaja_52_7",
         "die da Friede verkündigen",
         "96.0",
         "True"
        ],
        [
         "29",
         "die da friede verkündigen",
         "27",
         "8",
         "Jesaja_52_7",
         "die da Friede verkündigen",
         "96.0",
         "True"
        ],
        [
         "30",
         "gutes predigen heyl verkündigen",
         "27",
         "9",
         "Jesaja_52_7",
         "Guts predigen Heil verkündigen",
         "88.52",
         "False"
        ],
        [
         "31",
         "gutes predigen heyl verkündigen",
         "27",
         "9",
         "Jesaja_52_7",
         "Guts predigen Heil verkündigen",
         "88.52",
         "True"
        ],
        [
         "32",
         "die da sagen zu zion",
         "27",
         "10",
         "Jesaja_52_7",
         "Die da sagen zu Zion",
         "90.0",
         "False"
        ],
        [
         "33",
         "die da sagen zu zion",
         "27",
         "10",
         "Jesaja_52_7",
         "Die da sagen zu Zion",
         "90.0",
         "True"
        ],
        [
         "34",
         "dein gott ist könig",
         "27",
         "11",
         "Jesaja_52_7",
         "Dein Gott ist König",
         "84.21",
         "False"
        ],
        [
         "35",
         "dein gott ist könig",
         "27",
         "11",
         "Jesaja_52_7",
         "Dein Gott ist König",
         "84.21",
         "True"
        ],
        [
         "36",
         "werden sagen das hat gott gethan",
         "29",
         "1",
         "Psalm_64_10",
         "werden sagen Das hat Gott gethan",
         "93.75",
         "False"
        ],
        [
         "37",
         "werden sagen das hat gott gethan",
         "29",
         "1",
         "Psalm_64_10",
         "werden sagen Das hat Gott gethan",
         "93.75",
         "True"
        ],
        [
         "38",
         "und mercken daß es sein werck sey",
         "29",
         "2",
         "Psalm_64_10",
         "vnd mercken das sein werck sey",
         "92.06",
         "False"
        ],
        [
         "39",
         "und mercken daß es sein werck sey",
         "29",
         "2",
         "Psalm_64_10",
         "vnd mercken das sein werck sey",
         "92.06",
         "True"
        ],
        [
         "40",
         "gehet zu seinen thoren ein mit dancken",
         "29",
         "13",
         "Psalm_100_4",
         "Gehet zu seinen Thoren ein mit dancken",
         "94.74",
         "False"
        ],
        [
         "41",
         "gehet zu seinen thoren ein mit dancken",
         "29",
         "13",
         "Psalm_100_4",
         "Gehet zu seinen Thoren ein mit dancken",
         "94.74",
         "True"
        ],
        [
         "42",
         "zu seinen vorhöfen mit loben",
         "29",
         "14",
         "Psalm_100_4",
         "zu seinen Vorhöfen mit loben",
         "96.43",
         "False"
        ],
        [
         "43",
         "zu seinen vorhöfen mit loben",
         "29",
         "14",
         "Psalm_100_4",
         "zu seinen Vorhöfen mit loben",
         "96.43",
         "True"
        ],
        [
         "44",
         "dancket ihm lobet seinen nahmen",
         "29",
         "15",
         "Psalm_100_4",
         "Dancket jm lobet seinen Namen",
         "86.67",
         "True"
        ],
        [
         "45",
         "dancket ihm lobet seinen nahmen",
         "29",
         "15",
         "Psalm_100_4",
         "Dancket jm lobet seinen Namen",
         "86.67",
         "True"
        ],
        [
         "46",
         "so es hören sprechen",
         "29",
         "17",
         "3 Mose_14_48",
         "So sol ers rein sprechen",
         "81.82",
         "False"
        ],
        [
         "47",
         "so es hören sprechen",
         "29",
         "17",
         "3 Mose_14_48",
         "So sol ers rein sprechen",
         "81.82",
         "True"
        ],
        [
         "48",
         "man singet mit freuden in den hütten der gerechten",
         "29",
         "18",
         "Psalm_118_15",
         "Man singt mit freuden vom Sieg in den hütten der Gerechten",
         "87.04",
         "False"
        ],
        [
         "49",
         "man singet mit freuden in den hütten der gerechten",
         "29",
         "18",
         "Psalm_118_15",
         "Man singt mit freuden vom Sieg in den hütten der Gerechten",
         "87.04",
         "True"
        ]
       ],
       "shape": {
        "columns": 7,
        "rows": 398
       }
      },
      "text/html": [
       "<div>\n",
       "<style scoped>\n",
       "    .dataframe tbody tr th:only-of-type {\n",
       "        vertical-align: middle;\n",
       "    }\n",
       "\n",
       "    .dataframe tbody tr th {\n",
       "        vertical-align: top;\n",
       "    }\n",
       "\n",
       "    .dataframe thead th {\n",
       "        text-align: right;\n",
       "    }\n",
       "</style>\n",
       "<table border=\"1\" class=\"dataframe\">\n",
       "  <thead>\n",
       "    <tr style=\"text-align: right;\">\n",
       "      <th></th>\n",
       "      <th>Predigt</th>\n",
       "      <th>Paragraph</th>\n",
       "      <th>Satz</th>\n",
       "      <th>Bibelstelle</th>\n",
       "      <th>Bibelvers</th>\n",
       "      <th>Ähnlichkeit</th>\n",
       "      <th>Dopplung</th>\n",
       "    </tr>\n",
       "  </thead>\n",
       "  <tbody>\n",
       "    <tr>\n",
       "      <th>0</th>\n",
       "      <td>so frage ich nichts nach himmel und erden</td>\n",
       "      <td>21</td>\n",
       "      <td>15</td>\n",
       "      <td>Psalm_73_25</td>\n",
       "      <td>so frage ich nichts nach Himel vnd Erden</td>\n",
       "      <td>91.36</td>\n",
       "      <td>False</td>\n",
       "    </tr>\n",
       "    <tr>\n",
       "      <th>1</th>\n",
       "      <td>so frage ich nichts nach himmel und erden</td>\n",
       "      <td>21</td>\n",
       "      <td>15</td>\n",
       "      <td>Psalm_73_25</td>\n",
       "      <td>so frage ich nichts nach Himel vnd Erden</td>\n",
       "      <td>91.36</td>\n",
       "      <td>True</td>\n",
       "    </tr>\n",
       "    <tr>\n",
       "      <th>2</th>\n",
       "      <td>wenn mir gleich leib und seel verschmacht</td>\n",
       "      <td>21</td>\n",
       "      <td>16</td>\n",
       "      <td>Psalm_73_26</td>\n",
       "      <td>Wenn mir gleich Leib vnd Seele verschmacht</td>\n",
       "      <td>89.16</td>\n",
       "      <td>False</td>\n",
       "    </tr>\n",
       "    <tr>\n",
       "      <th>3</th>\n",
       "      <td>wenn mir gleich leib und seel verschmacht</td>\n",
       "      <td>21</td>\n",
       "      <td>16</td>\n",
       "      <td>Psalm_73_26</td>\n",
       "      <td>Wenn mir gleich Leib vnd Seele verschmacht</td>\n",
       "      <td>89.16</td>\n",
       "      <td>True</td>\n",
       "    </tr>\n",
       "    <tr>\n",
       "      <th>4</th>\n",
       "      <td>der wird nimmermehr sterben</td>\n",
       "      <td>23</td>\n",
       "      <td>8</td>\n",
       "      <td>Psalm_10_11</td>\n",
       "      <td>Er wirds nimer mehr sehen</td>\n",
       "      <td>80.77</td>\n",
       "      <td>False</td>\n",
       "    </tr>\n",
       "    <tr>\n",
       "      <th>...</th>\n",
       "      <td>...</td>\n",
       "      <td>...</td>\n",
       "      <td>...</td>\n",
       "      <td>...</td>\n",
       "      <td>...</td>\n",
       "      <td>...</td>\n",
       "      <td>...</td>\n",
       "    </tr>\n",
       "    <tr>\n",
       "      <th>393</th>\n",
       "      <td>und hast lust in demselben zu wohnen</td>\n",
       "      <td>163</td>\n",
       "      <td>12</td>\n",
       "      <td>Psalm_132_13</td>\n",
       "      <td>Vnd hat lust daselbs zu wonen</td>\n",
       "      <td>80.00</td>\n",
       "      <td>True</td>\n",
       "    </tr>\n",
       "    <tr>\n",
       "      <th>394</th>\n",
       "      <td>wer ihr achtet der hat eitel lust daran</td>\n",
       "      <td>163</td>\n",
       "      <td>31</td>\n",
       "      <td>Psalm_111_2</td>\n",
       "      <td>Wer jr achtet der hat eitel lust dran</td>\n",
       "      <td>92.11</td>\n",
       "      <td>False</td>\n",
       "    </tr>\n",
       "    <tr>\n",
       "      <th>395</th>\n",
       "      <td>wer ihr achtet der hat eitel lust daran</td>\n",
       "      <td>163</td>\n",
       "      <td>31</td>\n",
       "      <td>Psalm_111_2</td>\n",
       "      <td>Wer jr achtet der hat eitel lust dran</td>\n",
       "      <td>92.11</td>\n",
       "      <td>True</td>\n",
       "    </tr>\n",
       "    <tr>\n",
       "      <th>396</th>\n",
       "      <td>und deinen nahmen rühmen immer und ewiglich</td>\n",
       "      <td>163</td>\n",
       "      <td>109</td>\n",
       "      <td>Psalm_145_2</td>\n",
       "      <td>Vnd deinen Namen rhümen jmer vnd ewiglich</td>\n",
       "      <td>85.71</td>\n",
       "      <td>False</td>\n",
       "    </tr>\n",
       "    <tr>\n",
       "      <th>397</th>\n",
       "      <td>und deinen nahmen rühmen immer und ewiglich</td>\n",
       "      <td>163</td>\n",
       "      <td>109</td>\n",
       "      <td>Psalm_145_2</td>\n",
       "      <td>Vnd deinen Namen rhümen jmer vnd ewiglich</td>\n",
       "      <td>85.71</td>\n",
       "      <td>True</td>\n",
       "    </tr>\n",
       "  </tbody>\n",
       "</table>\n",
       "<p>398 rows × 7 columns</p>\n",
       "</div>"
      ],
      "text/plain": [
       "                                         Predigt  Paragraph  Satz  \\\n",
       "0      so frage ich nichts nach himmel und erden         21    15   \n",
       "1      so frage ich nichts nach himmel und erden         21    15   \n",
       "2      wenn mir gleich leib und seel verschmacht         21    16   \n",
       "3      wenn mir gleich leib und seel verschmacht         21    16   \n",
       "4                    der wird nimmermehr sterben         23     8   \n",
       "..                                           ...        ...   ...   \n",
       "393         und hast lust in demselben zu wohnen        163    12   \n",
       "394      wer ihr achtet der hat eitel lust daran        163    31   \n",
       "395      wer ihr achtet der hat eitel lust daran        163    31   \n",
       "396  und deinen nahmen rühmen immer und ewiglich        163   109   \n",
       "397  und deinen nahmen rühmen immer und ewiglich        163   109   \n",
       "\n",
       "      Bibelstelle                                   Bibelvers  Ähnlichkeit  \\\n",
       "0     Psalm_73_25    so frage ich nichts nach Himel vnd Erden        91.36   \n",
       "1     Psalm_73_25    so frage ich nichts nach Himel vnd Erden        91.36   \n",
       "2     Psalm_73_26  Wenn mir gleich Leib vnd Seele verschmacht        89.16   \n",
       "3     Psalm_73_26  Wenn mir gleich Leib vnd Seele verschmacht        89.16   \n",
       "4     Psalm_10_11                   Er wirds nimer mehr sehen        80.77   \n",
       "..            ...                                         ...          ...   \n",
       "393  Psalm_132_13               Vnd hat lust daselbs zu wonen        80.00   \n",
       "394   Psalm_111_2       Wer jr achtet der hat eitel lust dran        92.11   \n",
       "395   Psalm_111_2       Wer jr achtet der hat eitel lust dran        92.11   \n",
       "396   Psalm_145_2   Vnd deinen Namen rhümen jmer vnd ewiglich        85.71   \n",
       "397   Psalm_145_2   Vnd deinen Namen rhümen jmer vnd ewiglich        85.71   \n",
       "\n",
       "     Dopplung  \n",
       "0       False  \n",
       "1        True  \n",
       "2       False  \n",
       "3        True  \n",
       "4       False  \n",
       "..        ...  \n",
       "393      True  \n",
       "394     False  \n",
       "395      True  \n",
       "396     False  \n",
       "397      True  \n",
       "\n",
       "[398 rows x 7 columns]"
      ]
     },
     "execution_count": 62,
     "metadata": {},
     "output_type": "execute_result"
    }
   ],
   "source": [
    "buffer = io.StringIO(similarity_table['results'][0][2])\n",
    "df2 = pd.read_csv(buffer)\n",
    "df2"
   ]
  },
  {
   "cell_type": "code",
   "execution_count": 63,
   "id": "a3ca2890",
   "metadata": {},
   "outputs": [],
   "source": [
    "def get_results_csv(list_of_lists, id):\n",
    "  for sublist in list_of_lists:\n",
    "    if len(sublist) >= 3 and sublist[0] == id:\n",
    "      return sublist[2]\n",
    "  return None"
   ]
  },
  {
   "cell_type": "code",
   "execution_count": 64,
   "id": "c45bbc1d",
   "metadata": {},
   "outputs": [],
   "source": [
    "for id in testsermons:\n",
    "    # get results for this specific sermon from results tables\n",
    "    results_csv = get_results_csv(similarity_table['results'], id)\n",
    "    if results_csv:\n",
    "        # write results to csv\n",
    "        filepath = ROOT / f\"predictions/{id}_{similarity_table['method']}_{similarity_table['fuzziness']}_{similarity_table['date']}.csv\"\n",
    "        with open(filepath, \"w\") as f:\n",
    "            f.write(results_csv)\n",
    "        \n",
    "        # collect metadata\n",
    "        info = {}\n",
    "        info[\"date\"] = similarity_table['date']\n",
    "        info[\"task\"] = similarity_table['task']\n",
    "        info[\"method\"] = similarity_table['method']\n",
    "        info[\"fuzziness\"] = similarity_table['fuzziness']\n",
    "        info['file'] = str(filepath)\n",
    "\n",
    "        # append metadata if file already exists,\n",
    "        # otherwise create new file\n",
    "        my_file = Path(ROOT / f\"predictions/{id}_predictions.json\")\n",
    "        if my_file.is_file():\n",
    "            with open(my_file, \"r\", encoding=\"utf-8\") as f:\n",
    "                predictions = json.load(f)\n",
    "            predictions.append(info)\n",
    "            with open(my_file, \"w\", encoding=\"utf-8\") as f:\n",
    "                json.dump(predictions, f, ensure_ascii=False)\n",
    "        else:\n",
    "            with open(ROOT / f\"predictions/{id}_predictions.json\", \"x\", encoding=\"utf-8\") as f:\n",
    "                json.dump([info], f, ensure_ascii=False)"
   ]
  }
 ],
 "metadata": {
  "kernelspec": {
   "display_name": "ma_orgelpredigt",
   "language": "python",
   "name": "python3"
  },
  "language_info": {
   "codemirror_mode": {
    "name": "ipython",
    "version": 3
   },
   "file_extension": ".py",
   "mimetype": "text/x-python",
   "name": "python",
   "nbconvert_exporter": "python",
   "pygments_lexer": "ipython3",
   "version": "3.12.11"
  }
 },
 "nbformat": 4,
 "nbformat_minor": 5
}
