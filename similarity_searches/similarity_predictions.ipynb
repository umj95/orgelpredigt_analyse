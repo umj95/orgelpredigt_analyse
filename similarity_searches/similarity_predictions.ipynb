{
 "cells": [
  {
   "cell_type": "code",
   "execution_count": 22,
   "id": "33b191cb",
   "metadata": {},
   "outputs": [],
   "source": [
    "import json\n",
    "import re\n",
    "import core.utils as oa\n",
    "from rapidfuzz import fuzz\n",
    "import pandas as pd\n",
    "import io\n",
    "import os\n",
    "\n",
    "import datetime\n",
    "from numpyencoder import NumpyEncoder\n",
    "from pathlib import Path\n",
    "\n",
    "# root directory path\n",
    "ROOT = Path(os.getcwd()).resolve().parents[0]"
   ]
  },
  {
   "cell_type": "code",
   "execution_count": 23,
   "id": "a2073748",
   "metadata": {},
   "outputs": [
    {
     "data": {
      "text/plain": [
       "'25-09-20_12:59'"
      ]
     },
     "execution_count": 23,
     "metadata": {},
     "output_type": "execute_result"
    }
   ],
   "source": [
    "date = datetime.datetime.now().strftime(\"%y-%m-%d_%H:%M\")\n",
    "date"
   ]
  },
  {
   "cell_type": "code",
   "execution_count": 3,
   "id": "6e26eb30",
   "metadata": {},
   "outputs": [
    {
     "name": "stdout",
     "output_type": "stream",
     "text": [
      "Sollen Bibelstellen (1) oder Liedzitate (2) gesucht werden?\n",
      "Liedzitate werden gesucht\n"
     ]
    }
   ],
   "source": [
    "print(\"Sollen Bibelstellen (1) oder Liedzitate (2) gesucht werden?\")\n",
    "response = None\n",
    "while response not in [\"1\", \"2\"]:\n",
    "    response = input(\"Bitte Nummer eingeben\")\n",
    "\n",
    "if response == \"1\":\n",
    "    task = \"bibel\"\n",
    "    print(\"Bibelstellen werden gesucht\")\n",
    "else:\n",
    "    task = \"lieder\"\n",
    "    print(\"Liedzitate werden gesucht\")\n"
   ]
  },
  {
   "cell_type": "code",
   "execution_count": 4,
   "id": "a49abc5a",
   "metadata": {},
   "outputs": [
    {
     "name": "stdout",
     "output_type": "stream",
     "text": [
      "Sollen Predigten mit den meisten (1), oder den längsten (2) Liedzitaten analysiert werden?\n"
     ]
    }
   ],
   "source": [
    "print(\"Sollen Predigten mit den meisten (1), oder den längsten (2) Liedzitaten analysiert werden?\")\n",
    "response = None\n",
    "while response not in [\"1\", \"2\"]:\n",
    "    response = input(\"Bitte Nummer eingeben\")\n",
    "\n",
    "if response == \"2\":\n",
    "    corpus = \"longest\"\n",
    "else:\n",
    "    corpus = \"most\"\n",
    "\n",
    "\n",
    "with open(ROOT / f\"sermons_with_{corpus}_music.json\", \"r\") as f:\n",
    "    testsermons = json.load(f)"
   ]
  },
  {
   "cell_type": "code",
   "execution_count": null,
   "id": "d8405d00",
   "metadata": {},
   "outputs": [],
   "source": [
    "relevant_page_texts = []\n",
    "if task == \"lieder\":\n",
    "    for n in range(41, 1291):\n",
    "        with open(ROOT / f\"source_texts/praxis_pietatis_verses/{n}.json\") as f:\n",
    "            page = json.load(f)\n",
    "        page_info = {}\n",
    "        page_info[n] = page\n",
    "        relevant_page_texts.append(page_info)\n",
    "else:\n",
    "    with open(ROOT / \"source_texts/bible/old_testament_chunked.json\") as f:\n",
    "        old_testament = json.load(f)\n",
    "    for book_name, chapters in old_testament.items():\n",
    "        for chapter, verses in chapters.items():\n",
    "            for verse_nr, verse in verses.items():\n",
    "                verse_info = {}\n",
    "                verse_id = f\"{book_name}_{chapter}_{verse_nr}\"\n",
    "                verse_info[verse_id] = verse\n",
    "                relevant_page_texts.append(verse_info)\n",
    "    with open(ROOT / f\"source_texts/bible/new_testament_chunked.json\") as f:\n",
    "        new_testament = json.load(f)\n",
    "    for book_name, chapters in old_testament.items():\n",
    "        for chapter, verses in chapters.items():\n",
    "            for verse_nr, verse in verses.items():\n",
    "                verse_info = {}\n",
    "                verse_id = f\"{book_name}_{chapter}_{verse_nr}\"\n",
    "                verse_info[verse_id] = verse\n",
    "                relevant_page_texts.append(verse_info)"
   ]
  },
  {
   "cell_type": "code",
   "execution_count": 6,
   "id": "81c85ccb",
   "metadata": {},
   "outputs": [],
   "source": [
    "fuzziness = 80"
   ]
  },
  {
   "cell_type": "code",
   "execution_count": 7,
   "id": "44e4c444",
   "metadata": {},
   "outputs": [],
   "source": [
    "similarity_table = {}\n",
    "similarity_table[\"task\"] = task\n",
    "similarity_table['date'] = date\n",
    "similarity_table['corpus'] = corpus\n",
    "similarity_table['method'] = 'similarity_search'\n",
    "similarity_table['fuzziness'] = fuzziness\n"
   ]
  },
  {
   "cell_type": "code",
   "execution_count": 8,
   "id": "0aace5dc",
   "metadata": {},
   "outputs": [],
   "source": [
    "testsermons = [\"E000036\"]"
   ]
  },
  {
   "cell_type": "code",
   "execution_count": 14,
   "id": "4140d1f0",
   "metadata": {},
   "outputs": [
    {
     "name": "stdout",
     "output_type": "stream",
     "text": [
      "Starting with E000036\n"
     ]
    }
   ],
   "source": [
    "import core.similaritysearch as simsearch\n",
    "\n",
    "similarity_table['results'] = simsearch.find_similarities(\"lieder\", testsermons, relevant_page_texts, 80)\n"
   ]
  },
  {
   "cell_type": "code",
   "execution_count": 36,
   "id": "061d0f4c",
   "metadata": {},
   "outputs": [
    {
     "name": "stdout",
     "output_type": "stream",
     "text": [
      "Psalm_73_26\n",
      "Psalm_73_25\n",
      "Psalm_73_26\n",
      "Psalm_10_11\n",
      "Jeremia_42_9\n",
      "Psalm_38_9\n",
      "Psalm_94_19\n",
      "Psalm_116_7\n",
      "Jesaja_52_7\n",
      "Psalm_37_4\n",
      "Jesaja_52_7\n",
      "Jesaja_52_7\n",
      "Psalm_64_10\n",
      "Jesaja_52_7\n",
      "Psalm_64_10\n",
      "Psalm_100_4\n",
      "Psalm_100_4\n",
      "3 Mose_14_48\n",
      "Psalm_100_4\n",
      "3 Mose_14_48\n",
      "Psalm_118_15\n",
      "2 Könige_13_21\n",
      "Daniel_3_14\n",
      "Jeremia_11_17\n",
      "Sprüche_9_7\n",
      "Hesekiel_34_16\n",
      "Nehemia_8_10\n",
      "4 Mose_15_24\n",
      "2 Könige_1_6\n",
      "Hesekiel_34_16\n",
      "Rut_3_12\n",
      "Jesaja_30_32\n",
      "Psalm_33_2\n",
      "Psalm_33_3\n",
      "2 Mose_26_20\n",
      "Klagelieder_3_26\n",
      "Hesekiel_41_20\n",
      "Psalm_87_7\n",
      "Hesekiel_33_33\n",
      "5 Mose_18_6\n",
      "Psalm_4_5\n",
      "Daniel_2_20\n",
      "Psalm_81_3\n",
      "1 Chronik_29_17\n",
      "Amos_5_23\n",
      "1 Chronik_29_17\n",
      "Psalm_137_1\n",
      "Hohelied_6_3\n",
      "Hohelied_7_11\n",
      "Psalm_71_12\n",
      "Jeremia_30_11\n",
      "Psalm_126_3\n",
      "Psalm_73_23\n",
      "Psalm_73_24\n",
      "Psalm_16_11\n",
      "Hohelied_4_16\n",
      "Psalm_16_11\n",
      "2 Könige_5_16\n",
      "Psalm_30_6\n",
      "Psalm_132_13\n",
      "Psalm_111_2\n"
     ]
    }
   ],
   "source": [
    "guessed_hits = remove_duplicates(guessed_hits).reset_index(drop=True)"
   ]
  },
  {
   "cell_type": "code",
   "execution_count": 37,
   "id": "6317c21d",
   "metadata": {},
   "outputs": [
    {
     "data": {
      "application/vnd.microsoft.datawrangler.viewer.v0+json": {
       "columns": [
        {
         "name": "index",
         "rawType": "int64",
         "type": "integer"
        },
        {
         "name": "Predigt",
         "rawType": "object",
         "type": "string"
        },
        {
         "name": "Paragraph",
         "rawType": "int64",
         "type": "integer"
        },
        {
         "name": "Satz",
         "rawType": "int64",
         "type": "integer"
        },
        {
         "name": "Bibelstelle",
         "rawType": "object",
         "type": "string"
        },
        {
         "name": "Bibelvers",
         "rawType": "object",
         "type": "string"
        },
        {
         "name": "Ähnlichkeit",
         "rawType": "float64",
         "type": "float"
        },
        {
         "name": "Dopplung",
         "rawType": "bool",
         "type": "boolean"
        }
       ],
       "ref": "f5734917-1f14-4dc9-8d59-d663acd57da6",
       "rows": [
        [
         "0",
         "so frage ich nichts nach himmel und erden",
         "21",
         "15",
         "Psalm_73_25",
         "so frage ich nichts nach Himel vnd Erden",
         "91.36",
         "True"
        ],
        [
         "1",
         "wenn mir gleich leib und seel verschmacht",
         "21",
         "16",
         "Psalm_73_26",
         "Wenn mir gleich Leib vnd Seele verschmacht",
         "89.16",
         "True"
        ],
        [
         "2",
         "der wird nimmermehr sterben",
         "23",
         "8",
         "Psalm_10_11",
         "Er wirds nimer mehr sehen",
         "80.77",
         "False"
        ],
        [
         "3",
         "der mich gesandt hat",
         "23",
         "15",
         "2 Samuel_24_13",
         "dem der mich gesand hat",
         "88.37",
         "True"
        ],
        [
         "4",
         "es ist mit mir gar anders",
         "23",
         "27",
         "Psalm_38_9",
         "Es ist mit mir gar anders",
         "96.0",
         "True"
        ],
        [
         "5",
         "aber deine tröstungen ergötzten meine seele",
         "23",
         "39",
         "Psalm_94_19",
         "Aber deine Tröstung ergetzeten meine Seele",
         "87.06",
         "True"
        ],
        [
         "6",
         "sey nun wieder zufrieden meine seele",
         "23",
         "40",
         "Psalm_116_7",
         "Sey nu wider zu frieden meine Seele",
         "90.14",
         "True"
        ],
        [
         "7",
         "denn der herr thut dir gutes",
         "23",
         "41",
         "Psalm_116_7",
         "Denn der HERR thut dir guts",
         "80.0",
         "False"
        ],
        [
         "8",
         "der wird dir geben was dein hertz wünschet",
         "23",
         "47",
         "Psalm_37_4",
         "Der wird dir geben was dein hertz wündschet",
         "96.47",
         "False"
        ],
        [
         "9",
         "die da friede verkündigen",
         "27",
         "8",
         "Jesaja_52_7",
         "die da Friede verkündigen",
         "96.0",
         "True"
        ],
        [
         "10",
         "gutes predigen heyl verkündigen",
         "27",
         "9",
         "Jesaja_52_7",
         "Guts predigen Heil verkündigen",
         "88.52",
         "False"
        ],
        [
         "11",
         "die da sagen zu zion",
         "27",
         "10",
         "Jesaja_52_7",
         "Die da sagen zu Zion",
         "90.0",
         "False"
        ],
        [
         "12",
         "dein gott ist könig",
         "27",
         "11",
         "Jesaja_52_7",
         "Dein Gott ist König",
         "84.21",
         "True"
        ],
        [
         "13",
         "werden sagen das hat gott gethan",
         "29",
         "1",
         "Psalm_64_10",
         "werden sagen Das hat Gott gethan",
         "93.75",
         "True"
        ],
        [
         "14",
         "und mercken daß es sein werck sey",
         "29",
         "2",
         "Psalm_64_10",
         "vnd mercken das sein werck sey",
         "92.06",
         "False"
        ],
        [
         "15",
         "gehet zu seinen thoren ein mit dancken",
         "29",
         "13",
         "Psalm_100_4",
         "Gehet zu seinen Thoren ein mit dancken",
         "94.74",
         "False"
        ],
        [
         "16",
         "zu seinen vorhöfen mit loben",
         "29",
         "14",
         "Psalm_100_4",
         "zu seinen Vorhöfen mit loben",
         "96.43",
         "False"
        ],
        [
         "17",
         "dancket ihm lobet seinen nahmen",
         "29",
         "15",
         "Psalm_100_4",
         "Dancket jm lobet seinen Namen",
         "86.67",
         "True"
        ],
        [
         "18",
         "so es hören sprechen",
         "29",
         "17",
         "3 Mose_14_48",
         "So sol ers rein sprechen",
         "81.82",
         "False"
        ],
        [
         "19",
         "man singet mit freuden in den hütten der gerechten",
         "29",
         "18",
         "Psalm_118_15",
         "Man singt mit freuden vom Sieg in den hütten der Gerechten",
         "87.04",
         "True"
        ],
        [
         "20",
         "und es begab sich",
         "36",
         "0",
         "2 Könige_13_21",
         "Vnd es begab sich",
         "94.12",
         "True"
        ],
        [
         "21",
         "und sprach zu ihnen",
         "36",
         "18",
         "Josua_22_2",
         "vnd sprach zu jnen",
         "86.49",
         "True"
        ],
        [
         "22",
         "der dich geladen hat",
         "36",
         "30",
         "Jeremia_11_17",
         "der dich gepflantzt hat",
         "83.72",
         "True"
        ],
        [
         "23",
         "der soll erhöhet werden",
         "36",
         "36",
         "Sprüche_9_7",
         "der mus gehönet werden",
         "80.0",
         "False"
        ],
        [
         "24",
         "i ob es recht ist",
         "40",
         "0",
         "4 Mose_15_24",
         "wie es recht ist",
         "84.85",
         "True"
        ],
        [
         "25",
         "und truncken das süsse",
         "44",
         "22",
         "Nehemia_8_10",
         "vnd trincket das süsse",
         "86.36",
         "True"
        ],
        [
         "26",
         "die nichts für sich bereitet hatten",
         "44",
         "24",
         "Nehemia_8_10",
         "die nichts fur sich bereit haben",
         "89.55",
         "False"
        ],
        [
         "27",
         "der ihn gesand hat",
         "44",
         "37",
         "2 Mose_4_28",
         "der jn gesand hatte",
         "86.49",
         "False"
        ],
        [
         "28",
         "ob es recht ist",
         "44",
         "121",
         "4 Mose_15_24",
         "wie es recht ist",
         "83.87",
         "False"
        ],
        [
         "29",
         "i es ist wahr",
         "51",
         "9",
         "Rut_3_12",
         "Nu es ist war",
         "84.62",
         "True"
        ],
        [
         "30",
         "mit paucken und reigen",
         "59",
         "18",
         "Jesaja_30_32",
         "mit paucken vnd harffen",
         "80.0",
         "True"
        ],
        [
         "31",
         "und lobsinget ihm auf dem psalter von zehn säyten",
         "59",
         "24",
         "Psalm_33_2",
         "vnd lobsinget jm auff dem Psalter von zehen seiten",
         "86.87",
         "True"
        ],
        [
         "32",
         "singet ihm ein neues lied",
         "59",
         "25",
         "Psalm_33_3",
         "Singet jm ein newes Lied",
         "81.63",
         "False"
        ],
        [
         "33",
         "machets gut auf säytenspiel mit schalle",
         "59",
         "26",
         "Psalm_33_3",
         "Machts gut auff Seitenspielen mit schalle",
         "85.0",
         "False"
        ],
        [
         "34",
         "daß ist ein köstlich ding",
         "59",
         "28",
         "Psalm_147_1",
         "das ist ein köstlich ding",
         "96.0",
         "True"
        ],
        [
         "35",
         "auf der anderen seite",
         "63",
         "0",
         "Hesekiel_41_20",
         "auff der andern seiten",
         "93.02",
         "True"
        ],
        [
         "36",
         "und die sänger wie am reigen",
         "72",
         "9",
         "Psalm_87_7",
         "Vnd die Senger wie am Reigen",
         "85.71",
         "True"
        ],
        [
         "37",
         "so würden sie ehre haben",
         "93",
         "33",
         "Hesekiel_33_33",
         "so werden sie erfaren",
         "80.0",
         "False"
        ],
        [
         "38",
         "der ein geist ist",
         "97",
         "15",
         "5 Mose_18_6",
         "da er ein Gast ist",
         "80.0",
         "True"
        ],
        [
         "39",
         "zürnet und sündiget nicht",
         "97",
         "25",
         "Psalm_4_5",
         "Zürnet jr so sündiget nicht",
         "80.77",
         "True"
        ],
        [
         "40",
         "und weisheit und stärcke",
         "109",
         "4",
         "Daniel_2_20",
         "beide weisheit vnd stercke",
         "80.0",
         "True"
        ],
        [
         "41",
         "nehmet die psalmen und gebet her die paucken",
         "113",
         "1",
         "Psalm_81_3",
         "Nemet die Psalmen vnd gebet her die Paucken",
         "89.66",
         "True"
        ],
        [
         "42",
         "liebliche harfen mit psalter",
         "113",
         "2",
         "Psalm_81_3",
         "Lieblich Harffen mit Psaltern",
         "84.21",
         "True"
        ],
        [
         "43",
         "denn ich mag deines psaltersspiels nicht hören",
         "116",
         "14",
         "Amos_5_23",
         "Denn Jch mag deines Psalterspiles nicht hören",
         "90.11",
         "True"
        ],
        [
         "44",
         "und aufrichtigkeit ist ihm angenehm",
         "124",
         "25",
         "1 Chronik_29_17",
         "vnd auffrichtigkeit ist dir angenem",
         "88.57",
         "True"
        ],
        [
         "45",
         "und weinen wenn sie an zion gedachten",
         "134",
         "26",
         "Psalm_137_1",
         "vnd weineten Wenn wir an Zion gedachten",
         "84.21",
         "True"
        ],
        [
         "46",
         "und ich bin sein",
         "139",
         "7",
         "Hohelied_6_3",
         "vnd ich bin sein",
         "93.75",
         "True"
        ],
        [
         "47",
         "und er hält sich auch zu mir",
         "139",
         "8",
         "Hohelied_7_11",
         "vnd er helt sich auch zu mir",
         "92.86",
         "True"
        ],
        [
         "48",
         "mein gott sey nicht ferne von mir",
         "141",
         "4",
         "Psalm_71_12",
         "GOtt sey nicht ferne von mir",
         "85.25",
         "True"
        ],
        [
         "49",
         "jch bin bey dir",
         "141",
         "8",
         "Jeremia_1_19",
         "Denn ich bin bey dir",
         "80.0",
         "True"
        ]
       ],
       "shape": {
        "columns": 7,
        "rows": 61
       }
      },
      "text/html": [
       "<div>\n",
       "<style scoped>\n",
       "    .dataframe tbody tr th:only-of-type {\n",
       "        vertical-align: middle;\n",
       "    }\n",
       "\n",
       "    .dataframe tbody tr th {\n",
       "        vertical-align: top;\n",
       "    }\n",
       "\n",
       "    .dataframe thead th {\n",
       "        text-align: right;\n",
       "    }\n",
       "</style>\n",
       "<table border=\"1\" class=\"dataframe\">\n",
       "  <thead>\n",
       "    <tr style=\"text-align: right;\">\n",
       "      <th></th>\n",
       "      <th>Predigt</th>\n",
       "      <th>Paragraph</th>\n",
       "      <th>Satz</th>\n",
       "      <th>Bibelstelle</th>\n",
       "      <th>Bibelvers</th>\n",
       "      <th>Ähnlichkeit</th>\n",
       "      <th>Dopplung</th>\n",
       "    </tr>\n",
       "  </thead>\n",
       "  <tbody>\n",
       "    <tr>\n",
       "      <th>0</th>\n",
       "      <td>so frage ich nichts nach himmel und erden</td>\n",
       "      <td>21</td>\n",
       "      <td>15</td>\n",
       "      <td>Psalm_73_25</td>\n",
       "      <td>so frage ich nichts nach Himel vnd Erden</td>\n",
       "      <td>91.36</td>\n",
       "      <td>True</td>\n",
       "    </tr>\n",
       "    <tr>\n",
       "      <th>1</th>\n",
       "      <td>wenn mir gleich leib und seel verschmacht</td>\n",
       "      <td>21</td>\n",
       "      <td>16</td>\n",
       "      <td>Psalm_73_26</td>\n",
       "      <td>Wenn mir gleich Leib vnd Seele verschmacht</td>\n",
       "      <td>89.16</td>\n",
       "      <td>True</td>\n",
       "    </tr>\n",
       "    <tr>\n",
       "      <th>2</th>\n",
       "      <td>der wird nimmermehr sterben</td>\n",
       "      <td>23</td>\n",
       "      <td>8</td>\n",
       "      <td>Psalm_10_11</td>\n",
       "      <td>Er wirds nimer mehr sehen</td>\n",
       "      <td>80.77</td>\n",
       "      <td>False</td>\n",
       "    </tr>\n",
       "    <tr>\n",
       "      <th>3</th>\n",
       "      <td>der mich gesandt hat</td>\n",
       "      <td>23</td>\n",
       "      <td>15</td>\n",
       "      <td>2 Samuel_24_13</td>\n",
       "      <td>dem der mich gesand hat</td>\n",
       "      <td>88.37</td>\n",
       "      <td>True</td>\n",
       "    </tr>\n",
       "    <tr>\n",
       "      <th>4</th>\n",
       "      <td>es ist mit mir gar anders</td>\n",
       "      <td>23</td>\n",
       "      <td>27</td>\n",
       "      <td>Psalm_38_9</td>\n",
       "      <td>Es ist mit mir gar anders</td>\n",
       "      <td>96.00</td>\n",
       "      <td>True</td>\n",
       "    </tr>\n",
       "    <tr>\n",
       "      <th>...</th>\n",
       "      <td>...</td>\n",
       "      <td>...</td>\n",
       "      <td>...</td>\n",
       "      <td>...</td>\n",
       "      <td>...</td>\n",
       "      <td>...</td>\n",
       "      <td>...</td>\n",
       "    </tr>\n",
       "    <tr>\n",
       "      <th>56</th>\n",
       "      <td>für dem ich stehe</td>\n",
       "      <td>159</td>\n",
       "      <td>17</td>\n",
       "      <td>2 Könige_5_16</td>\n",
       "      <td>fur dem ich stehe</td>\n",
       "      <td>94.12</td>\n",
       "      <td>True</td>\n",
       "    </tr>\n",
       "    <tr>\n",
       "      <th>57</th>\n",
       "      <td>sondern hast lust zum leben</td>\n",
       "      <td>163</td>\n",
       "      <td>4</td>\n",
       "      <td>Psalm_30_6</td>\n",
       "      <td>Vnd er hat lust zum Leben</td>\n",
       "      <td>84.62</td>\n",
       "      <td>True</td>\n",
       "    </tr>\n",
       "    <tr>\n",
       "      <th>58</th>\n",
       "      <td>und hast lust in demselben zu wohnen</td>\n",
       "      <td>163</td>\n",
       "      <td>12</td>\n",
       "      <td>Psalm_132_13</td>\n",
       "      <td>Vnd hat lust daselbs zu wonen</td>\n",
       "      <td>80.00</td>\n",
       "      <td>True</td>\n",
       "    </tr>\n",
       "    <tr>\n",
       "      <th>59</th>\n",
       "      <td>wer ihr achtet der hat eitel lust daran</td>\n",
       "      <td>163</td>\n",
       "      <td>31</td>\n",
       "      <td>Psalm_111_2</td>\n",
       "      <td>Wer jr achtet der hat eitel lust dran</td>\n",
       "      <td>92.11</td>\n",
       "      <td>True</td>\n",
       "    </tr>\n",
       "    <tr>\n",
       "      <th>60</th>\n",
       "      <td>und deinen nahmen rühmen immer und ewiglich</td>\n",
       "      <td>163</td>\n",
       "      <td>109</td>\n",
       "      <td>Psalm_145_2</td>\n",
       "      <td>Vnd deinen Namen rhümen jmer vnd ewiglich</td>\n",
       "      <td>85.71</td>\n",
       "      <td>True</td>\n",
       "    </tr>\n",
       "  </tbody>\n",
       "</table>\n",
       "<p>61 rows × 7 columns</p>\n",
       "</div>"
      ],
      "text/plain": [
       "                                        Predigt  Paragraph  Satz  \\\n",
       "0     so frage ich nichts nach himmel und erden         21    15   \n",
       "1     wenn mir gleich leib und seel verschmacht         21    16   \n",
       "2                   der wird nimmermehr sterben         23     8   \n",
       "3                          der mich gesandt hat         23    15   \n",
       "4                     es ist mit mir gar anders         23    27   \n",
       "..                                          ...        ...   ...   \n",
       "56                            für dem ich stehe        159    17   \n",
       "57                  sondern hast lust zum leben        163     4   \n",
       "58         und hast lust in demselben zu wohnen        163    12   \n",
       "59      wer ihr achtet der hat eitel lust daran        163    31   \n",
       "60  und deinen nahmen rühmen immer und ewiglich        163   109   \n",
       "\n",
       "       Bibelstelle                                   Bibelvers  Ähnlichkeit  \\\n",
       "0      Psalm_73_25    so frage ich nichts nach Himel vnd Erden        91.36   \n",
       "1      Psalm_73_26  Wenn mir gleich Leib vnd Seele verschmacht        89.16   \n",
       "2      Psalm_10_11                   Er wirds nimer mehr sehen        80.77   \n",
       "3   2 Samuel_24_13                     dem der mich gesand hat        88.37   \n",
       "4       Psalm_38_9                   Es ist mit mir gar anders        96.00   \n",
       "..             ...                                         ...          ...   \n",
       "56   2 Könige_5_16                           fur dem ich stehe        94.12   \n",
       "57      Psalm_30_6                   Vnd er hat lust zum Leben        84.62   \n",
       "58    Psalm_132_13               Vnd hat lust daselbs zu wonen        80.00   \n",
       "59     Psalm_111_2       Wer jr achtet der hat eitel lust dran        92.11   \n",
       "60     Psalm_145_2   Vnd deinen Namen rhümen jmer vnd ewiglich        85.71   \n",
       "\n",
       "    Dopplung  \n",
       "0       True  \n",
       "1       True  \n",
       "2      False  \n",
       "3       True  \n",
       "4       True  \n",
       "..       ...  \n",
       "56      True  \n",
       "57      True  \n",
       "58      True  \n",
       "59      True  \n",
       "60      True  \n",
       "\n",
       "[61 rows x 7 columns]"
      ]
     },
     "execution_count": 37,
     "metadata": {},
     "output_type": "execute_result"
    }
   ],
   "source": [
    "guessed_hits"
   ]
  },
  {
   "cell_type": "code",
   "execution_count": 38,
   "id": "0ba083dd",
   "metadata": {},
   "outputs": [],
   "source": [
    "guessed_hits.to_csv(\"../predictions/E000036_simsearch_bibel_80.csv\")"
   ]
  },
  {
   "cell_type": "code",
   "execution_count": 36,
   "id": "6554413b",
   "metadata": {},
   "outputs": [
    {
     "data": {
      "text/plain": [
       "{'task': 'bibel',\n",
       " 'date': '25-09-19_12:38',\n",
       " 'corpus': 'most',\n",
       " 'method': 'similarity_search',\n",
       " 'fuzziness': 90,\n",
       " 'results': [['E000036',\n",
       "   1733,\n",
       "   'Predigt,Paragraph,Satz,Bibelstelle,Bibelvers,Ähnlichkeit,Dopplung\\n0,so frage ich nichts nach himmel und erden,21,15,Psalm_73_25,so frage ich nichts nach Himel vnd Erden,91.36,False\\n1,so frage ich nichts nach himmel und erden,21,15,Psalm_73_25,so frage ich nichts nach Himel vnd Erden,91.36,True\\n2,es ist mit mir gar anders,23,27,Psalm_38_9,Es ist mit mir gar anders,96.0,False\\n3,es ist mit mir gar anders,23,27,Psalm_38_9,Es ist mit mir gar anders,96.0,True\\n4,sey nun wieder zufrieden meine seele,23,40,Psalm_116_7,Sey nu wider zu frieden meine Seele,90.14,False\\n5,sey nun wieder zufrieden meine seele,23,40,Psalm_116_7,Sey nu wider zu frieden meine Seele,90.14,True\\n6,der wird dir geben was dein hertz wünschet,23,47,Psalm_37_4,Der wird dir geben was dein hertz wündschet,96.47,False\\n7,der wird dir geben was dein hertz wünschet,23,47,Psalm_37_4,Der wird dir geben was dein hertz wündschet,96.47,True\\n8,die da friede verkündigen,27,8,Jesaja_52_7,die da Friede verkündigen,96.0,False\\n9,die da friede verkündigen,27,8,Jesaja_52_7,die da Friede verkündigen,96.0,True\\n10,die da sagen zu zion,27,10,Jesaja_52_7,Die da sagen zu Zion,90.0,False\\n11,die da sagen zu zion,27,10,Jesaja_52_7,Die da sagen zu Zion,90.0,True\\n12,werden sagen das hat gott gethan,29,1,Psalm_64_10,werden sagen Das hat Gott gethan,93.75,False\\n13,werden sagen das hat gott gethan,29,1,Psalm_64_10,werden sagen Das hat Gott gethan,93.75,True\\n14,und mercken daß es sein werck sey,29,2,Psalm_64_10,vnd mercken das sein werck sey,92.06,False\\n15,und mercken daß es sein werck sey,29,2,Psalm_64_10,vnd mercken das sein werck sey,92.06,True\\n16,gehet zu seinen thoren ein mit dancken,29,13,Psalm_100_4,Gehet zu seinen Thoren ein mit dancken,94.74,False\\n17,gehet zu seinen thoren ein mit dancken,29,13,Psalm_100_4,Gehet zu seinen Thoren ein mit dancken,94.74,True\\n18,zu seinen vorhöfen mit loben,29,14,Psalm_100_4,zu seinen Vorhöfen mit loben,96.43,False\\n19,zu seinen vorhöfen mit loben,29,14,Psalm_100_4,zu seinen Vorhöfen mit loben,96.43,True\\n20,und es begab sich,36,0,1 Mose_35_22,Vnd es begab sich,94.12,False\\n21,und es begab sich,36,0,Josua_5_13,Vnd es begab sich,94.12,True\\n22,und es begab sich,36,0,Richter_1_14,Vnd es begab sich,94.12,True\\n23,und es begab sich,36,0,2 Könige_13_21,Vnd es begab sich,94.12,True\\n24,und es begab sich,36,0,1 Mose_35_22,Vnd es begab sich,94.12,True\\n25,und es begab sich,36,0,Josua_5_13,Vnd es begab sich,94.12,True\\n26,und es begab sich,36,0,Richter_1_14,Vnd es begab sich,94.12,True\\n27,und es begab sich,36,0,2 Könige_13_21,Vnd es begab sich,94.12,True\\n28,daß ist ein köstlich ding,59,28,Psalm_147_1,das ist ein köstlich ding,96.0,False\\n29,daß ist ein köstlich ding,59,28,Psalm_147_1,das ist ein köstlich ding,96.0,True\\n30,auf der anderen seite,63,0,Hesekiel_41_20,auff der andern seiten,93.02,True\\n31,auf der anderen seite,63,0,Hesekiel_41_20,auff der andern seiten,93.02,True\\n32,denn ich mag deines psaltersspiels nicht hören,116,14,Amos_5_23,Denn Jch mag deines Psalterspiles nicht hören,90.11,True\\n33,denn ich mag deines psaltersspiels nicht hören,116,14,Amos_5_23,Denn Jch mag deines Psalterspiles nicht hören,90.11,True\\n34,und ich bin sein,139,7,Hohelied_2_16,vnd ich bin sein,93.75,False\\n35,und ich bin sein,139,7,Hohelied_6_3,vnd ich bin sein,93.75,True\\n36,und ich bin sein,139,7,Hohelied_2_16,vnd ich bin sein,93.75,True\\n37,und ich bin sein,139,7,Hohelied_6_3,vnd ich bin sein,93.75,True\\n38,und er hält sich auch zu mir,139,8,Hohelied_7_11,vnd er helt sich auch zu mir,92.86,True\\n39,und er hält sich auch zu mir,139,8,Hohelied_7_11,vnd er helt sich auch zu mir,92.86,True\\n40,denn du hältest mich bey meiner rechten hand,143,17,Psalm_73_23,Denn du heltest mich bey meiner rechten Hand,93.18,False\\n41,denn du hältest mich bey meiner rechten hand,143,17,Psalm_73_23,Denn du heltest mich bey meiner rechten Hand,93.18,True\\n42,du leitest mich nach deinem rath,143,18,Psalm_73_24,Du leitest mich nach deinem Rat,92.06,False\\n43,du leitest mich nach deinem rath,143,18,Psalm_73_24,Du leitest mich nach deinem Rat,92.06,True\\n44,und nimmest mich endlich mit ehren an,143,19,Psalm_73_24,Vnd nimpst mich endlich mit ehren an,93.15,False\\n45,und nimmest mich endlich mit ehren an,143,19,Psalm_73_24,Vnd nimpst mich endlich mit ehren an,93.15,True\\n46,und liebliches wesen zu seiner rechten ewiglich,159,13,Psalm_16_11,vnd lieblich wesen zu deiner Rechten ewiglich,91.3,True\\n47,und liebliches wesen zu seiner rechten ewiglich,159,13,Psalm_16_11,vnd lieblich wesen zu deiner Rechten ewiglich,91.3,True\\n48,für dem ich stehe,159,17,1 Könige_18_15,fur dem ich stehe,94.12,True\\n49,für dem ich stehe,159,17,2 Könige_3_14,fur dem ich stehe,94.12,True\\n50,für dem ich stehe,159,17,2 Könige_5_16,fur dem ich stehe,94.12,True\\n51,für dem ich stehe,159,17,1 Könige_18_15,fur dem ich stehe,94.12,True\\n52,für dem ich stehe,159,17,2 Könige_3_14,fur dem ich stehe,94.12,True\\n53,für dem ich stehe,159,17,2 Könige_5_16,fur dem ich stehe,94.12,True\\n54,wer ihr achtet der hat eitel lust daran,163,31,Psalm_111_2,Wer jr achtet der hat eitel lust dran,92.11,False\\n55,wer ihr achtet der hat eitel lust daran,163,31,Psalm_111_2,Wer jr achtet der hat eitel lust dran,92.11,True\\n']]}"
      ]
     },
     "execution_count": 36,
     "metadata": {},
     "output_type": "execute_result"
    }
   ],
   "source": [
    "similarity_table"
   ]
  },
  {
   "cell_type": "code",
   "execution_count": null,
   "id": "ca8b3137",
   "metadata": {},
   "outputs": [],
   "source": [
    "with open(ROOT / f'similarity_tables/sim-search_{task}_{corpus}_{fuzziness}_{date}.json', \"w\") as f:\n",
    "    json.dump(similarity_table, f, ensure_ascii=False)"
   ]
  },
  {
   "cell_type": "code",
   "execution_count": 16,
   "id": "bdb02634",
   "metadata": {},
   "outputs": [
    {
     "data": {
      "text/plain": [
       "{'task': 'lieder',\n",
       " 'date': '25-09-20_12:05',\n",
       " 'corpus': 'longest',\n",
       " 'method': 'similarity_search',\n",
       " 'fuzziness': 80,\n",
       " 'results': [['E000036',\n",
       "   1660,\n",
       "   'Predigt,Paragraph,Satz,Liederbuch,Liedvers,Ähnlichkeit,Dopplung\\n0,halleluja gelobet sey gott,18,0,408,r alleluja gelobt fey gott,88.46,False\\n1,der wir vergessen sollen zu keiner stunde,18,3,408,der wir vergessen foln zu keiner stunde,95.0,False\\n2,groß ist herr deine güte etc,19,10,640,groß ist herr deine treu,84.62,False\\n3,a wenn ich nur dich,21,13,768,wann ich nur dich,88.89,False\\n4,suche ich errettung aus der noth,21,26,1145,und mich retten aus der noth,80.0,False\\n5,alle die zu ihm treten,21,28,590,die zu ihm tre ten,85.0,False\\n6,daß mich nicht treffe sein zorngericht,23,10,1000,daß mich nicht treffe dein gericht,91.67,True\\n7,jst voller freud und singen,24,1,903,ift voller freud und singen,92.59,False\\n8,sieht lauter sonnenschein die sonne die mir lachet,24,2,903,sieht lauter connenschein die sonne,80.0,False\\n9,jst mein herr jesus christ,24,3,82,d mein herr jesuchrist,87.5,True\\n10,jst mein herr jesus christ,24,3,236,mein herr jesu christ,89.36,True\\n11,jst mein herr jesus christ,24,3,240,ja amen mein herr jesu chrift,80.0,True\\n12,jst mein herr jesus christ,24,3,258,mel herr jesu christ,82.61,True\\n13,jst mein herr jesus christ,24,3,398,es ist der herre jesus christ,80.0,True\\n14,jst mein herr jesus christ,24,3,512,mein herr jesu christ,89.36,True\\n15,jst mein herr jesus christ,24,3,557,mein herr jesu chrifte,83.33,True\\n16,jst mein herr jesus christ,24,3,936,amen amen herr jesu christ,80.77,True\\n17,jst mein herr jesus christ,24,3,946,o mein herr jesu christ,89.8,True\\n18,jst mein herr jesus christ,24,3,1019,mel herr jesu christ,82.61,True\\n19,jst mein herr jesus christ,24,3,1158,ach mein herr jesu christ,86.27,True\\n20,das was mich singend machet,24,4,903,das was mich singen machet,98.11,False\\n21,jst was im himmel ist,24,5,903,ist was im himmel ist,95.24,False\\n22,denn seiner wholthat ist so viel,27,1,129,deiner wolthat ist zu viel,82.76,True\\n23,sie hat weder maaß noch ziel,27,2,148,der weder maß noch ziel,82.35,True\\n24,sie hat weder maaß noch ziel,27,2,892,man sett ihm weder maß noch ziel,80.0,True\\n25,du giebest mir allein,29,4,929,du hilffst mir allein,80.95,True\\n26,womit mein hertz gestillet,29,5,525,so wird mein herz gestillet,83.02,True\\n27,zwingt die säiten in cithara,30,0,741,zwingt die sensen in cythara,85.71,True\\n28,und laßt die süsse musica gantz freudenreich erschallen,30,1,741,und lafst die süss se musica gank frendenreich erschallen,91.07,True\\n29,daß ich möge mit jesulein,30,2,741,daß ich mi ge mit jejulein,90.2,True\\n30,dem wunderschönen bräutgam mein,30,3,741,dem wunderschönen bräutgam nrein,95.24,True\\n31,jn steter liebe wallen,30,4,741,in steter liebe wallen,95.45,True\\n32,singet springet jubiliret triumphiret,30,5,741,singer springet jubiliret triumphiret,97.3,True\\n33,danckt dem herren groß ist der könig der ehren,30,6,741,danckt dem herren groß ist der könig der ehren,100.0,False\\n34,jhr die ihr christi nahmen nennt,32,0,1111,jhr die ihr chrifti namen nennt,95.24,True\\n35,gebt unserm gott die ehre,32,1,1110,gebt unserm gott die ehre,100.0,True\\n36,gebt unserm gott die ehre,32,1,1111,gebt unserm gott die ehre,100.0,True\\n37,gebt unserm gott die ehre,32,1,1111,gebt uns ferm gott die ehre,96.15,True\\n38,gebt unserm gott die ehre,32,1,1111,gebt unserm gott die ehre,100.0,True\\n39,gebt unserm gott die ehre,32,1,1111,gebt unserm gott die ehre,100.0,True\\n40,gebt unserm gott die ehre,32,1,1111,gebt unserm gott die ehre,100.0,True\\n41,gebt unserm gott die ehre,32,1,1111,gebt inserm gott die ehre,96.0,True\\n42,jhr die ihr gottes macht bekennt,32,2,1111,jhr die ihr gottes macht bekennt,100.0,True\\n43,gebt unserm gott die ehre,32,3,1110,gebt unserm gott die ehre,100.0,True\\n44,gebt unserm gott die ehre,32,3,1111,gebt unserm gott die ehre,100.0,True\\n45,gebt unserm gott die ehre,32,3,1111,gebt uns ferm gott die ehre,96.15,True\\n46,gebt unserm gott die ehre,32,3,1111,gebt unserm gott die ehre,100.0,True\\n47,gebt unserm gott die ehre,32,3,1111,gebt unserm gott die ehre,100.0,True\\n48,gebt unserm gott die ehre,32,3,1111,gebt unserm gott die ehre,100.0,True\\n49,gebt unserm gott die ehre,32,3,1111,gebt inserm gott die ehre,96.0,True\\n50,die falschen götzen macht zu spott,32,4,1111,die falsche gdken macht zu spott,90.91,True\\n51,der herr ist gott,32,5,669,der herr ist gut,90.91,True\\n52,der herr ist gott,32,5,673,der herr ist groß,88.24,True\\n53,der herr ist gott,32,5,1111,der herr ist noch,82.35,True\\n54,der herr ist gott,32,6,669,der herr ist gut,90.91,True\\n55,der herr ist gott,32,6,673,der herr ist groß,88.24,True\\n56,der herr ist gott,32,6,1111,der herr ist noch,82.35,True\\n57,gebt unserm gott die ehre,32,7,1110,gebt unserm gott die ehre,100.0,False\\n58,gebt unserm gott die ehre,32,7,1111,gebt unserm gott die ehre,100.0,True\\n59,gebt unserm gott die ehre,32,7,1111,gebt uns ferm gott die ehre,96.15,True\\n60,gebt unserm gott die ehre,32,7,1111,gebt unserm gott die ehre,100.0,True\\n61,gebt unserm gott die ehre,32,7,1111,gebt unserm gott die ehre,100.0,True\\n62,gebt unserm gott die ehre,32,7,1111,gebt unserm gott die ehre,100.0,True\\n63,gebt unserm gott die ehre,32,7,1111,gebt inserm gott die ehre,96.0,True\\n64,hilf herr jesu laß gelingen,43,0,446,ilff herr jesu laß gelingen,96.3,True\\n65,dahero es auch geschehen,44,53,861,pharao ists auch geschehen,80.0,False\\n66,denn so der herr,44,101,673,denn er der herr,87.5,False\\n67,denn so der herr,44,101,862,denn so du herr,90.32,True\\n68,denn so der herr,44,101,993,denn zu dir herr,81.25,True\\n69,und wer weiß nicht,72,0,584,und ich weiß nicht,83.33,True\\n70,und wer weiß nicht,72,0,1001,und wie ein licht,80.0,True\\n71,nun freut euch lieben christen gemein,73,0,274,mel nun freut euch lieben chriften gmein,90.91,True\\n72,nun freut euch lieben christen gemein,73,0,323,mel nun freut euch lieben christen gmein,93.51,True\\n73,nun freut euch lieben christen gemein,73,0,358,nums un frent euch lieben christen gmein,90.91,True\\n74,nun freut euch lieben christen gemein,73,0,368,nun freut euch lieben chripen gmein,94.44,True\\n75,nun freut euch lieben christen gemein,73,0,380,mel nun freut euch lieben christen gmein,93.51,True\\n76,nun freut euch lieben christen gemein,73,0,591,mel nun freut euch lieben shristen gmein,90.91,True\\n77,nun freut euch lieben christen gemein,73,0,638,nun freut euch lieben chrifin gemein,93.15,True\\n78,nun freut euch lieben christen gemein,73,0,685,mel nun freut euch lieben cbrifin gemein,85.71,True\\n79,nun freut euch lieben christen gemein,73,0,906,mel nun freut euch lieben christn semein,90.91,True\\n80,nun freut euch lieben christen gemein,73,0,991,mel nun freut euch lieben christn gemein,93.51,True\\n81,nun freut euch lieben christen gemein,73,0,1289,mel nun freut such lieben cheiften gemein,87.18,True\\n82,und laßt uns frölich springen,73,1,358,und lakt frolich springen,85.19,True\\n83,und laßt uns frölich springen,73,1,1111,und laßt uns frolich fingen,89.29,True\\n84,was gott an uns gewendet hat,73,4,358,was gott an uns gewendet hat,100.0,True\\n85,was gott an uns gewendet hat,73,4,459,was gott an uns gewender,88.46,True\\n86,und seine süße wunderthat,73,5,358,und feine süsse wunderthat,90.2,True\\n87,gar theur hat ers erworben,73,6,358,gar theur hat ers erworben,100.0,True\\n88,singet springet jubiliret triumphiret,75,0,741,singer springet jubiliret triumphiret,97.3,True\\n89,danckt dem herren groß ist der könig der ehren,75,1,741,danckt dem herren groß ist der könig der ehren,100.0,True\\n90,der ein geist ist,97,15,1268,nur ein geist ists,85.71,False\\n91,und weiß nicht wie ermuntert,104,25,499,und weiß nicht was ermenne,81.48,False\\n92,da hast du nun,115,0,287,das bist du nun,82.76,True\\n93,wo das nicht ist,116,10,867,wo du nicht bist,87.5,True\\n94,daß es geh’ aus hertzengrund,119,2,706,hilff daß es geh aus herken grund,81.97,True\\n95,die wahrheit und das leben,122,0,403,die warheit und das leben,98.04,True\\n96,mit harfen und mit cimbeln schon,123,1,1119,mit harffen und mit cymbeln schon,95.38,True\\n97,von zwölf perlen sind die pforten an der stadt,123,2,1119,von zwölf perlen sind die pforten in deiner stadt,94.74,True\\n98,kein aug’ hat je gespühret,123,5,1119,kein aug hat je gespürt,93.88,True\\n99,kein ohr hat je gehört,123,6,239,kein ohr hat dis jemahls gehört,83.02,True\\n100,kein ohr hat je gehört,123,6,817,kein ohr hat gehöret,90.48,True\\n101,kein ohr hat je gehört,123,6,1091,kein ohr hat nie gehöret,91.3,True\\n102,jo jo ewig in dulci jubilo,123,8,1119,jo jo e wig in dulci jubilo,98.11,False\\n103,wenn ich in nöthen bet und sing,129,0,864,wann ich in ndthen bat und sing,90.32,True\\n104,aus tiefer noth schrey ich zu dir,132,9,127,mel aus tieffer noth schrey ich zu dir,92.96,False\\n105,aus tiefer noth schrey ich zu dir,132,9,154,mel aus tieffer noth schrey ich zu dir,92.96,True\\n106,aus tiefer noth schrey ich zu dir,132,9,209,mel aus tieffer noth schrey ich zu dir,92.96,True\\n107,aus tiefer noth schrey ich zu dir,132,9,219,mel aus tieffer noth schrey ich zu dir,92.96,True\\n108,aus tiefer noth schrey ich zu dir,132,9,221,mel aus tieffer noth schren ich zu dir,90.14,True\\n109,aus tiefer noth schrey ich zu dir,132,9,222,tieffer noth schrey ich zu dir,92.06,True\\n110,aus tiefer noth schrey ich zu dir,132,9,278,wel aus tieffer noth schrey ich zu dir,92.96,True\\n111,aus tiefer noth schrey ich zu dir,132,9,286,mel aus tieffer noth schrey ich zu dir,92.96,True\\n112,aus tiefer noth schrey ich zu dir,132,9,596,aus tieffer noth schrey ich zu dir,98.51,True\\n113,aus tiefer noth schrey ich zu dir,132,9,837,mel aus tieffer noth schrevich zu dir,88.57,True\\n114,aus tiefer noth schrey ich zu dir,132,9,910,mel aus tieffer noth schrey ich zu dir,92.96,True\\n115,mein sünd mich werden kräncken sehr,133,0,997,mein sund mich werden kränken sehr,95.65,True\\n116,mein gewissen wird mich nagen,133,1,997,mein gwissen wird mich nagen,98.25,True\\n117,doch will ich nicht verzagen,133,3,310,wil ich auch nicht verzagen,80.0,True\\n118,doch will ich nicht verzagen,133,3,684,so wil ich nicht verzagen,90.57,True\\n119,doch will ich nicht verzagen,133,3,997,doch wil ich nicht verzagen,98.18,True\\n120,doch will ich nicht verzagen,133,3,1024,wil ich doch nicht verzagen,80.0,True\\n121,doch will ich nicht verzagen,133,3,1030,und laß mich nicht verzagen,80.0,True\\n122,doch will ich nicht verzagen,133,3,1043,doch wil ich nicht verzagen,98.18,True\\n123,gedencken will ich an deinen tod,133,4,997,ge denckn wil ich an deinen tod,95.24,True\\n124,herr jesu deine wunden roth,133,5,334,aber jesu deine wunden,81.63,True\\n125,die werden mich erhalten,133,6,1256,die werden mich verhindern,84.0,True\\n126,bey der welt und ihren kindern,138,1,385,bey der welt und ihren kindern,100.0,True\\n127,fall ich vollends in den koth,138,2,385,fall ich vollend in den koth daik trost,82.35,True\\n128,freunde die mein unglück liebt,138,4,385,die mein ungluck liebt,80.77,True\\n129,helffer die mir hertz’leid machen,138,5,385,helffer die mir herz eid machen,93.75,True\\n130,gute freunde die mein lachen,138,6,385,gute freunde die mein lachen,100.0,True\\n131,verläßt mich welt freund,142,0,832,verläkt mich welt freund,95.83,True\\n132,haab und guth und was sonst ist auf erden,142,1,832,haab und gut und was sonst ist auf erden,98.77,True\\n133,so glaub ich doch mit frohen muth,142,2,832,so glaub ich doch mit freyem muth,90.91,True\\n134,von gott soll mir hülf werden,142,3,832,von gott soll mir hülff werden,98.31,True\\n135,er will uns weder hier noch dort verlassen,142,4,832,er wil uns weder hier noch dort verlassen,98.8,True\\n136,wie er uns in wort,142,5,832,wie er uns im wort,94.44,True\\n137,durch seinen lieben sohn verspricht,142,6,832,durch seinen lieben sohn,81.36,True\\n138,seyd getrost und hoch erfreut,145,0,591,send getrost und hoch erfreut,96.55,True\\n139,jesus trägt euch meine glieder,145,1,591,jesus euch meine glieder,88.89,True\\n140,wenn die letzt’ trompet erklingt,145,4,591,wann die lekte trompt erklingt,87.1,True\\n141,die auch durch die gräber dringt,145,5,591,die auch durch die graber dringt,96.88,True\\n142,daß wir uns mit zittern freuen,146,3,474,das wir mit zittern ehren,80.0,True\\n143,daß wir uns mit zittern freuen,146,3,944,daß wir uns seiner freuen,80.0,True\\n144,mit hertz und mund,147,8,1214,regt herz und mund,83.33,True\\n145,alles was mensch ist und heist,148,2,396,ja alles was mensch ist und heift,92.06,True\\n146,jch will mich gantz verschreiben,148,3,396,ich wil mich ganz verschreiben,93.55,True\\n147,jch will mich gantz verschreiben,148,3,433,ich wil mich dir verschreiben,81.97,True\\n148,dir ewig treu zu bleiben,148,4,396,dir ewig treu zu bleiben,100.0,True\\n149,du süsse lieb schenck uns deine gunst,150,0,612,du fusse lieb schenck uns deine gunst,94.59,True\\n150,laß uns empfinden der liebe brunst,150,1,612,empfinden der liebe brunst,86.67,True\\n151,brunnquell aller güter herrscher der gemühter,152,0,615,runnquell aller güter herrscher der gemu ther,93.33,True\\n152,lebendiger wind stiller aller schmerzen,152,1,615,lebendiger wind stiller aller schmer hen,96.2,True\\n153,zum lobe gottes klingen,154,1,735,zu lobe gottes namen,83.72,True\\n154,mein lebetag will ich dich aus meinem sinn nicht lassen,156,0,478,mein lebetage wil ich dich aus meinem sinn nicht lassen,98.18,True\\n155,dich will ich stets,156,1,478,dich wil ich stets,97.3,True\\n156,dich will ich stets,156,1,478,das wil ich stets,83.33,True\\n157,gleich wie du mich,156,2,478,gleich wie du mich,100.0,True\\n158,du solt seyn meines hertzenslicht,156,4,1064,du solt seyn meines herhens zier,83.08,True\\n159,solt du mein hertze bleiben,156,6,478,soltdu mein herze bleiben,96.15,True\\n160,jch will mich dir,156,7,478,ich wil mich dir,90.91,True\\n161,mein höchster ruhm hiemit zu deinem eigenthum beständiglich verschreiben,156,8,478,mein höchster ruhm hiemit zu deinem eigenthum be standiglich verschreiben,97.93,True\\n162,daselbst wirst du im ewger lust aufs süßte mit mir handeln,162,0,920,daselbst wirst du in ewger luft auffs süßfte mit mir handeln,94.92,True\\n163,groß sind herr deine wercke,163,30,970,groß sind herr deine gaben,83.02,False\\n164,segne sie an leib und seele,163,67,64,gesund an leib und seel,80.0,False\\n165,laß deine gnade groß werden,163,99,704,laß deinen ruhm groß werden,81.48,False\\n166,wollen wir dich loben täglich,163,108,967,so wollen wir dich loben hie zeit lich,80.6,False\\n167,amen um jesu christi willen amen,163,110,907,um jesu christi willen,81.48,False\\n168,herr christ dein’ güt wir preisen,166,0,454,herr christ dein gut wir preisen,95.38,True\\n169,mit danck wir rühmen dich,166,1,454,mit danck wir rühmen dich,100.0,True\\n170,hilf daß wir mit den weisen dir opfern williglich,166,2,454,hilff daß wir mit den weisen dir opffern williglich,98.0,True\\n171,und leben nach gebühr,166,3,454,und leben nach gebühr,100.0,True\\n172,so wird uns wohl gelingen,166,4,454,so wirds uns wol gelingen,96.0,True\\n173,daß wir dort ewig singen,166,5,454,daß wir dort ewig fingen,95.83,True\\n174,herr gott dich loben wir,166,6,125,mel herr gott dich loben alle wir,84.21,True\\n175,herr gott dich loben wir,166,6,454,herr gott dich loben wir,100.0,True\\n176,herr gott dich loben wir,166,6,636,err gott dich loben alle wir,88.46,True\\n177,herr gott dich loben wir,166,6,642,err gott dich loben wir,97.87,True\\n178,herr gott dich loben wir,166,6,969,err gott dich loben wir regier,85.19,True\\n179,herr gott dich loben wir,166,6,969,hcrr gott dich loben wir,95.83,True\\n180,herr gott dich loben wir,166,6,969,he gott dich loben wir,95.65,True\\n181,herr gott dich loben wir,166,6,969,herr gott dich loben wir,100.0,True\\n182,herr gott dich loben wir,166,6,969,herr gott dich loben wir,100.0,True\\n183,herr gott dich loben wir,166,6,969,herr gott dich loben wir,100.0,True\\n184,herr gott dich loben wir,166,6,969,s herr sott dich loben wir,92.0,True\\n185,herr gott dich loben wir,166,6,969,herr gott dich loben wir,100.0,True\\n']]}"
      ]
     },
     "execution_count": 16,
     "metadata": {},
     "output_type": "execute_result"
    }
   ],
   "source": [
    "similarity_table"
   ]
  },
  {
   "cell_type": "code",
   "execution_count": 15,
   "id": "3eb45998",
   "metadata": {},
   "outputs": [
    {
     "data": {
      "application/vnd.microsoft.datawrangler.viewer.v0+json": {
       "columns": [
        {
         "name": "index",
         "rawType": "int64",
         "type": "integer"
        },
        {
         "name": "Predigt",
         "rawType": "object",
         "type": "string"
        },
        {
         "name": "Paragraph",
         "rawType": "int64",
         "type": "integer"
        },
        {
         "name": "Satz",
         "rawType": "int64",
         "type": "integer"
        },
        {
         "name": "Liederbuch",
         "rawType": "int64",
         "type": "integer"
        },
        {
         "name": "Liedvers",
         "rawType": "object",
         "type": "string"
        },
        {
         "name": "Ähnlichkeit",
         "rawType": "float64",
         "type": "float"
        },
        {
         "name": "Dopplung",
         "rawType": "bool",
         "type": "boolean"
        }
       ],
       "ref": "efac17db-3a14-4e0a-b957-745b13d7dafc",
       "rows": [
        [
         "0",
         "halleluja gelobet sey gott",
         "18",
         "0",
         "408",
         "r alleluja gelobt fey gott",
         "88.46",
         "False"
        ],
        [
         "1",
         "der wir vergessen sollen zu keiner stunde",
         "18",
         "3",
         "408",
         "der wir vergessen foln zu keiner stunde",
         "95.0",
         "False"
        ],
        [
         "2",
         "groß ist herr deine güte etc",
         "19",
         "10",
         "640",
         "groß ist herr deine treu",
         "84.62",
         "False"
        ],
        [
         "3",
         "a wenn ich nur dich",
         "21",
         "13",
         "768",
         "wann ich nur dich",
         "88.89",
         "False"
        ],
        [
         "4",
         "suche ich errettung aus der noth",
         "21",
         "26",
         "1145",
         "und mich retten aus der noth",
         "80.0",
         "False"
        ],
        [
         "5",
         "alle die zu ihm treten",
         "21",
         "28",
         "590",
         "die zu ihm tre ten",
         "85.0",
         "False"
        ],
        [
         "6",
         "daß mich nicht treffe sein zorngericht",
         "23",
         "10",
         "1000",
         "daß mich nicht treffe dein gericht",
         "91.67",
         "True"
        ],
        [
         "7",
         "jst voller freud und singen",
         "24",
         "1",
         "903",
         "ift voller freud und singen",
         "92.59",
         "False"
        ],
        [
         "8",
         "sieht lauter sonnenschein die sonne die mir lachet",
         "24",
         "2",
         "903",
         "sieht lauter connenschein die sonne",
         "80.0",
         "False"
        ],
        [
         "9",
         "jst mein herr jesus christ",
         "24",
         "3",
         "82",
         "d mein herr jesuchrist",
         "87.5",
         "True"
        ],
        [
         "10",
         "jst mein herr jesus christ",
         "24",
         "3",
         "236",
         "mein herr jesu christ",
         "89.36",
         "True"
        ],
        [
         "11",
         "jst mein herr jesus christ",
         "24",
         "3",
         "240",
         "ja amen mein herr jesu chrift",
         "80.0",
         "True"
        ],
        [
         "12",
         "jst mein herr jesus christ",
         "24",
         "3",
         "258",
         "mel herr jesu christ",
         "82.61",
         "True"
        ],
        [
         "13",
         "jst mein herr jesus christ",
         "24",
         "3",
         "398",
         "es ist der herre jesus christ",
         "80.0",
         "True"
        ],
        [
         "14",
         "jst mein herr jesus christ",
         "24",
         "3",
         "512",
         "mein herr jesu christ",
         "89.36",
         "True"
        ],
        [
         "15",
         "jst mein herr jesus christ",
         "24",
         "3",
         "557",
         "mein herr jesu chrifte",
         "83.33",
         "True"
        ],
        [
         "16",
         "jst mein herr jesus christ",
         "24",
         "3",
         "936",
         "amen amen herr jesu christ",
         "80.77",
         "True"
        ],
        [
         "17",
         "jst mein herr jesus christ",
         "24",
         "3",
         "946",
         "o mein herr jesu christ",
         "89.8",
         "True"
        ],
        [
         "18",
         "jst mein herr jesus christ",
         "24",
         "3",
         "1019",
         "mel herr jesu christ",
         "82.61",
         "True"
        ],
        [
         "19",
         "jst mein herr jesus christ",
         "24",
         "3",
         "1158",
         "ach mein herr jesu christ",
         "86.27",
         "True"
        ],
        [
         "20",
         "das was mich singend machet",
         "24",
         "4",
         "903",
         "das was mich singen machet",
         "98.11",
         "False"
        ],
        [
         "21",
         "jst was im himmel ist",
         "24",
         "5",
         "903",
         "ist was im himmel ist",
         "95.24",
         "False"
        ],
        [
         "22",
         "denn seiner wholthat ist so viel",
         "27",
         "1",
         "129",
         "deiner wolthat ist zu viel",
         "82.76",
         "True"
        ],
        [
         "23",
         "sie hat weder maaß noch ziel",
         "27",
         "2",
         "148",
         "der weder maß noch ziel",
         "82.35",
         "True"
        ],
        [
         "24",
         "sie hat weder maaß noch ziel",
         "27",
         "2",
         "892",
         "man sett ihm weder maß noch ziel",
         "80.0",
         "True"
        ],
        [
         "25",
         "du giebest mir allein",
         "29",
         "4",
         "929",
         "du hilffst mir allein",
         "80.95",
         "True"
        ],
        [
         "26",
         "womit mein hertz gestillet",
         "29",
         "5",
         "525",
         "so wird mein herz gestillet",
         "83.02",
         "True"
        ],
        [
         "27",
         "zwingt die säiten in cithara",
         "30",
         "0",
         "741",
         "zwingt die sensen in cythara",
         "85.71",
         "True"
        ],
        [
         "28",
         "und laßt die süsse musica gantz freudenreich erschallen",
         "30",
         "1",
         "741",
         "und lafst die süss se musica gank frendenreich erschallen",
         "91.07",
         "True"
        ],
        [
         "29",
         "daß ich möge mit jesulein",
         "30",
         "2",
         "741",
         "daß ich mi ge mit jejulein",
         "90.2",
         "True"
        ],
        [
         "30",
         "dem wunderschönen bräutgam mein",
         "30",
         "3",
         "741",
         "dem wunderschönen bräutgam nrein",
         "95.24",
         "True"
        ],
        [
         "31",
         "jn steter liebe wallen",
         "30",
         "4",
         "741",
         "in steter liebe wallen",
         "95.45",
         "True"
        ],
        [
         "32",
         "singet springet jubiliret triumphiret",
         "30",
         "5",
         "741",
         "singer springet jubiliret triumphiret",
         "97.3",
         "True"
        ],
        [
         "33",
         "danckt dem herren groß ist der könig der ehren",
         "30",
         "6",
         "741",
         "danckt dem herren groß ist der könig der ehren",
         "100.0",
         "False"
        ],
        [
         "34",
         "jhr die ihr christi nahmen nennt",
         "32",
         "0",
         "1111",
         "jhr die ihr chrifti namen nennt",
         "95.24",
         "True"
        ],
        [
         "35",
         "gebt unserm gott die ehre",
         "32",
         "1",
         "1110",
         "gebt unserm gott die ehre",
         "100.0",
         "True"
        ],
        [
         "36",
         "gebt unserm gott die ehre",
         "32",
         "1",
         "1111",
         "gebt unserm gott die ehre",
         "100.0",
         "True"
        ],
        [
         "37",
         "gebt unserm gott die ehre",
         "32",
         "1",
         "1111",
         "gebt uns ferm gott die ehre",
         "96.15",
         "True"
        ],
        [
         "38",
         "gebt unserm gott die ehre",
         "32",
         "1",
         "1111",
         "gebt unserm gott die ehre",
         "100.0",
         "True"
        ],
        [
         "39",
         "gebt unserm gott die ehre",
         "32",
         "1",
         "1111",
         "gebt unserm gott die ehre",
         "100.0",
         "True"
        ],
        [
         "40",
         "gebt unserm gott die ehre",
         "32",
         "1",
         "1111",
         "gebt unserm gott die ehre",
         "100.0",
         "True"
        ],
        [
         "41",
         "gebt unserm gott die ehre",
         "32",
         "1",
         "1111",
         "gebt inserm gott die ehre",
         "96.0",
         "True"
        ],
        [
         "42",
         "jhr die ihr gottes macht bekennt",
         "32",
         "2",
         "1111",
         "jhr die ihr gottes macht bekennt",
         "100.0",
         "True"
        ],
        [
         "43",
         "gebt unserm gott die ehre",
         "32",
         "3",
         "1110",
         "gebt unserm gott die ehre",
         "100.0",
         "True"
        ],
        [
         "44",
         "gebt unserm gott die ehre",
         "32",
         "3",
         "1111",
         "gebt unserm gott die ehre",
         "100.0",
         "True"
        ],
        [
         "45",
         "gebt unserm gott die ehre",
         "32",
         "3",
         "1111",
         "gebt uns ferm gott die ehre",
         "96.15",
         "True"
        ],
        [
         "46",
         "gebt unserm gott die ehre",
         "32",
         "3",
         "1111",
         "gebt unserm gott die ehre",
         "100.0",
         "True"
        ],
        [
         "47",
         "gebt unserm gott die ehre",
         "32",
         "3",
         "1111",
         "gebt unserm gott die ehre",
         "100.0",
         "True"
        ],
        [
         "48",
         "gebt unserm gott die ehre",
         "32",
         "3",
         "1111",
         "gebt unserm gott die ehre",
         "100.0",
         "True"
        ],
        [
         "49",
         "gebt unserm gott die ehre",
         "32",
         "3",
         "1111",
         "gebt inserm gott die ehre",
         "96.0",
         "True"
        ]
       ],
       "shape": {
        "columns": 7,
        "rows": 186
       }
      },
      "text/html": [
       "<div>\n",
       "<style scoped>\n",
       "    .dataframe tbody tr th:only-of-type {\n",
       "        vertical-align: middle;\n",
       "    }\n",
       "\n",
       "    .dataframe tbody tr th {\n",
       "        vertical-align: top;\n",
       "    }\n",
       "\n",
       "    .dataframe thead th {\n",
       "        text-align: right;\n",
       "    }\n",
       "</style>\n",
       "<table border=\"1\" class=\"dataframe\">\n",
       "  <thead>\n",
       "    <tr style=\"text-align: right;\">\n",
       "      <th></th>\n",
       "      <th>Predigt</th>\n",
       "      <th>Paragraph</th>\n",
       "      <th>Satz</th>\n",
       "      <th>Liederbuch</th>\n",
       "      <th>Liedvers</th>\n",
       "      <th>Ähnlichkeit</th>\n",
       "      <th>Dopplung</th>\n",
       "    </tr>\n",
       "  </thead>\n",
       "  <tbody>\n",
       "    <tr>\n",
       "      <th>0</th>\n",
       "      <td>halleluja gelobet sey gott</td>\n",
       "      <td>18</td>\n",
       "      <td>0</td>\n",
       "      <td>408</td>\n",
       "      <td>r alleluja gelobt fey gott</td>\n",
       "      <td>88.46</td>\n",
       "      <td>False</td>\n",
       "    </tr>\n",
       "    <tr>\n",
       "      <th>1</th>\n",
       "      <td>der wir vergessen sollen zu keiner stunde</td>\n",
       "      <td>18</td>\n",
       "      <td>3</td>\n",
       "      <td>408</td>\n",
       "      <td>der wir vergessen foln zu keiner stunde</td>\n",
       "      <td>95.00</td>\n",
       "      <td>False</td>\n",
       "    </tr>\n",
       "    <tr>\n",
       "      <th>2</th>\n",
       "      <td>groß ist herr deine güte etc</td>\n",
       "      <td>19</td>\n",
       "      <td>10</td>\n",
       "      <td>640</td>\n",
       "      <td>groß ist herr deine treu</td>\n",
       "      <td>84.62</td>\n",
       "      <td>False</td>\n",
       "    </tr>\n",
       "    <tr>\n",
       "      <th>3</th>\n",
       "      <td>a wenn ich nur dich</td>\n",
       "      <td>21</td>\n",
       "      <td>13</td>\n",
       "      <td>768</td>\n",
       "      <td>wann ich nur dich</td>\n",
       "      <td>88.89</td>\n",
       "      <td>False</td>\n",
       "    </tr>\n",
       "    <tr>\n",
       "      <th>4</th>\n",
       "      <td>suche ich errettung aus der noth</td>\n",
       "      <td>21</td>\n",
       "      <td>26</td>\n",
       "      <td>1145</td>\n",
       "      <td>und mich retten aus der noth</td>\n",
       "      <td>80.00</td>\n",
       "      <td>False</td>\n",
       "    </tr>\n",
       "    <tr>\n",
       "      <th>...</th>\n",
       "      <td>...</td>\n",
       "      <td>...</td>\n",
       "      <td>...</td>\n",
       "      <td>...</td>\n",
       "      <td>...</td>\n",
       "      <td>...</td>\n",
       "      <td>...</td>\n",
       "    </tr>\n",
       "    <tr>\n",
       "      <th>181</th>\n",
       "      <td>herr gott dich loben wir</td>\n",
       "      <td>166</td>\n",
       "      <td>6</td>\n",
       "      <td>969</td>\n",
       "      <td>herr gott dich loben wir</td>\n",
       "      <td>100.00</td>\n",
       "      <td>True</td>\n",
       "    </tr>\n",
       "    <tr>\n",
       "      <th>182</th>\n",
       "      <td>herr gott dich loben wir</td>\n",
       "      <td>166</td>\n",
       "      <td>6</td>\n",
       "      <td>969</td>\n",
       "      <td>herr gott dich loben wir</td>\n",
       "      <td>100.00</td>\n",
       "      <td>True</td>\n",
       "    </tr>\n",
       "    <tr>\n",
       "      <th>183</th>\n",
       "      <td>herr gott dich loben wir</td>\n",
       "      <td>166</td>\n",
       "      <td>6</td>\n",
       "      <td>969</td>\n",
       "      <td>herr gott dich loben wir</td>\n",
       "      <td>100.00</td>\n",
       "      <td>True</td>\n",
       "    </tr>\n",
       "    <tr>\n",
       "      <th>184</th>\n",
       "      <td>herr gott dich loben wir</td>\n",
       "      <td>166</td>\n",
       "      <td>6</td>\n",
       "      <td>969</td>\n",
       "      <td>s herr sott dich loben wir</td>\n",
       "      <td>92.00</td>\n",
       "      <td>True</td>\n",
       "    </tr>\n",
       "    <tr>\n",
       "      <th>185</th>\n",
       "      <td>herr gott dich loben wir</td>\n",
       "      <td>166</td>\n",
       "      <td>6</td>\n",
       "      <td>969</td>\n",
       "      <td>herr gott dich loben wir</td>\n",
       "      <td>100.00</td>\n",
       "      <td>True</td>\n",
       "    </tr>\n",
       "  </tbody>\n",
       "</table>\n",
       "<p>186 rows × 7 columns</p>\n",
       "</div>"
      ],
      "text/plain": [
       "                                       Predigt  Paragraph  Satz  Liederbuch  \\\n",
       "0                   halleluja gelobet sey gott         18     0         408   \n",
       "1    der wir vergessen sollen zu keiner stunde         18     3         408   \n",
       "2                 groß ist herr deine güte etc         19    10         640   \n",
       "3                          a wenn ich nur dich         21    13         768   \n",
       "4             suche ich errettung aus der noth         21    26        1145   \n",
       "..                                         ...        ...   ...         ...   \n",
       "181                   herr gott dich loben wir        166     6         969   \n",
       "182                   herr gott dich loben wir        166     6         969   \n",
       "183                   herr gott dich loben wir        166     6         969   \n",
       "184                   herr gott dich loben wir        166     6         969   \n",
       "185                   herr gott dich loben wir        166     6         969   \n",
       "\n",
       "                                    Liedvers  Ähnlichkeit  Dopplung  \n",
       "0                 r alleluja gelobt fey gott        88.46     False  \n",
       "1    der wir vergessen foln zu keiner stunde        95.00     False  \n",
       "2                   groß ist herr deine treu        84.62     False  \n",
       "3                          wann ich nur dich        88.89     False  \n",
       "4               und mich retten aus der noth        80.00     False  \n",
       "..                                       ...          ...       ...  \n",
       "181                 herr gott dich loben wir       100.00      True  \n",
       "182                 herr gott dich loben wir       100.00      True  \n",
       "183                 herr gott dich loben wir       100.00      True  \n",
       "184               s herr sott dich loben wir        92.00      True  \n",
       "185                 herr gott dich loben wir       100.00      True  \n",
       "\n",
       "[186 rows x 7 columns]"
      ]
     },
     "execution_count": 15,
     "metadata": {},
     "output_type": "execute_result"
    }
   ],
   "source": [
    "buffer = io.StringIO(similarity_table['results'][0][2])\n",
    "df2 = pd.read_csv(buffer)\n",
    "df2"
   ]
  },
  {
   "cell_type": "code",
   "execution_count": 18,
   "id": "a3ca2890",
   "metadata": {},
   "outputs": [],
   "source": [
    "def get_results_csv(list_of_lists, id):\n",
    "  for sublist in list_of_lists:\n",
    "    if len(sublist) >= 3 and sublist[0] == id:\n",
    "      return sublist[2]\n",
    "  return None"
   ]
  },
  {
   "cell_type": "code",
   "execution_count": null,
   "id": "c45bbc1d",
   "metadata": {},
   "outputs": [],
   "source": [
    "for id in testsermons:\n",
    "    # get results for this specific sermon from results tables\n",
    "    results_csv = get_results_csv(similarity_table['results'], id)\n",
    "    if results_csv:\n",
    "        # write results to csv\n",
    "        filepath = ROOT / f\"predictions/{id}_{similarity_table['method']}_{similarity_table['fuzziness']}_{similarity_table['date']}.csv\"\n",
    "        with open(filepath, \"w\") as f:\n",
    "            f.write(results_csv)\n",
    "        \n",
    "        # collect metadata\n",
    "        info = {}\n",
    "        info[\"date\"] = similarity_table['date']\n",
    "        info[\"task\"] = similarity_table['task']\n",
    "        info[\"method\"] = similarity_table['method']\n",
    "        info[\"fuzziness\"] = similarity_table['fuzziness']\n",
    "        info['file'] = str(filepath)\n",
    "\n",
    "        # append metadata if file already exists,\n",
    "        # otherwise create new file\n",
    "        my_file = Path(ROOT / f\"predictions/{id}_predictions.json\")\n",
    "        if my_file.is_file():\n",
    "            with open(my_file, \"a\", encoding=\"utf-8\") as f:\n",
    "                predictions = json.load(f)\n",
    "                predictions.append(info)\n",
    "                json.dump(predictions, f, ensure_ascii=False)\n",
    "        else:\n",
    "            with open(ROOT / f\"predictions/{id}_predictions.json\", \"x\", encoding=\"utf-8\") as f:\n",
    "                json.dump([info], f, ensure_ascii=False)"
   ]
  }
 ],
 "metadata": {
  "kernelspec": {
   "display_name": "ma_orgelpredigt",
   "language": "python",
   "name": "python3"
  },
  "language_info": {
   "codemirror_mode": {
    "name": "ipython",
    "version": 3
   },
   "file_extension": ".py",
   "mimetype": "text/x-python",
   "name": "python",
   "nbconvert_exporter": "python",
   "pygments_lexer": "ipython3",
   "version": "3.12.11"
  }
 },
 "nbformat": 4,
 "nbformat_minor": 5
}
