{
 "cells": [
  {
   "cell_type": "code",
   "execution_count": 1,
   "id": "33b191cb",
   "metadata": {},
   "outputs": [],
   "source": [
    "import json\n",
    "import re\n",
    "import core.utils as oa\n",
    "from rapidfuzz import fuzz\n",
    "import pandas as pd\n",
    "import io\n",
    "import os\n",
    "\n",
    "import datetime\n",
    "from numpyencoder import NumpyEncoder\n",
    "from pathlib import Path\n",
    "\n",
    "# root directory path\n",
    "ROOT = Path(os.getcwd()).resolve().parents[0]"
   ]
  },
  {
   "cell_type": "code",
   "execution_count": 2,
   "id": "a2073748",
   "metadata": {},
   "outputs": [
    {
     "data": {
      "text/plain": [
       "'25-09-20_16:54'"
      ]
     },
     "execution_count": 2,
     "metadata": {},
     "output_type": "execute_result"
    }
   ],
   "source": [
    "date = datetime.datetime.now().strftime(\"%y-%m-%d_%H:%M\")\n",
    "date"
   ]
  },
  {
   "cell_type": "code",
   "execution_count": 3,
   "id": "d8405d00",
   "metadata": {},
   "outputs": [],
   "source": [
    "relevant_page_texts = {}\n",
    "relevant_page_texts[\"lieder\"] = []\n",
    "relevant_page_texts[\"bibel\"] = []\n",
    "\n",
    "for n in range(41, 1291):\n",
    "    with open(ROOT / f\"source_texts/praxis_pietatis_verses/{n}.json\") as f:\n",
    "        page = json.load(f)\n",
    "    page_info = {}\n",
    "    page_info[n] = page\n",
    "    relevant_page_texts[\"lieder\"].append(page_info)\n",
    "with open(ROOT / \"source_texts/bible/old_testament_chunked.json\") as f:\n",
    "    old_testament = json.load(f)\n",
    "for book_name, chapters in old_testament.items():\n",
    "    for chapter, verses in chapters.items():\n",
    "        for verse_nr, verse in verses.items():\n",
    "            verse_info = {}\n",
    "            verse_id = f\"{book_name}_{chapter}_{verse_nr}\"\n",
    "            verse_info[verse_id] = verse\n",
    "            relevant_page_texts[\"bibel\"].append(verse_info)\n",
    "with open(ROOT / f\"source_texts/bible/new_testament_chunked.json\") as f:\n",
    "    new_testament = json.load(f)\n",
    "for book_name, chapters in old_testament.items():\n",
    "    for chapter, verses in chapters.items():\n",
    "        for verse_nr, verse in verses.items():\n",
    "            verse_info = {}\n",
    "            verse_id = f\"{book_name}_{chapter}_{verse_nr}\"\n",
    "            verse_info[verse_id] = verse\n",
    "            relevant_page_texts[\"bibel\"].append(verse_info)"
   ]
  },
  {
   "cell_type": "code",
   "execution_count": 4,
   "id": "81c85ccb",
   "metadata": {},
   "outputs": [],
   "source": [
    "fuzziness = 70"
   ]
  },
  {
   "cell_type": "code",
   "execution_count": 5,
   "id": "44e4c444",
   "metadata": {},
   "outputs": [],
   "source": [
    "similarity_table = {}\n",
    "similarity_table['date'] = date\n",
    "similarity_table['corpus'] = \"all_sermons\"\n",
    "similarity_table['method'] = 'similarity_search'\n",
    "similarity_table['fuzziness'] = fuzziness\n"
   ]
  },
  {
   "cell_type": "code",
   "execution_count": 6,
   "id": "0aace5dc",
   "metadata": {},
   "outputs": [],
   "source": [
    "sermons = [\"E000036\"]"
   ]
  },
  {
   "cell_type": "code",
   "execution_count": 7,
   "id": "4140d1f0",
   "metadata": {},
   "outputs": [
    {
     "name": "stdout",
     "output_type": "stream",
     "text": [
      "Starting with E000036\n"
     ]
    },
    {
     "name": "stderr",
     "output_type": "stream",
     "text": [
      "/home/janosch/Projects/Personal/ma-project/core/similaritysearch.py:131: FutureWarning: The behavior of DataFrame concatenation with empty or all-NA entries is deprecated. In a future version, this will no longer exclude empty or all-NA columns when determining the result dtypes. To retain the old behavior, exclude the relevant entries before the concat operation.\n",
      "  guessed_hits = pd.concat([guessed_hits, new_matches])\n",
      "/home/janosch/Projects/Personal/ma-project/core/similaritysearch.py:131: FutureWarning: The behavior of DataFrame concatenation with empty or all-NA entries is deprecated. In a future version, this will no longer exclude empty or all-NA columns when determining the result dtypes. To retain the old behavior, exclude the relevant entries before the concat operation.\n",
      "  guessed_hits = pd.concat([guessed_hits, new_matches])\n",
      "/home/janosch/Projects/Personal/ma-project/core/similaritysearch.py:131: FutureWarning: The behavior of DataFrame concatenation with empty or all-NA entries is deprecated. In a future version, this will no longer exclude empty or all-NA columns when determining the result dtypes. To retain the old behavior, exclude the relevant entries before the concat operation.\n",
      "  guessed_hits = pd.concat([guessed_hits, new_matches])\n"
     ]
    },
    {
     "name": "stdout",
     "output_type": "stream",
     "text": [
      "Starting with E000036\n"
     ]
    },
    {
     "name": "stderr",
     "output_type": "stream",
     "text": [
      "/home/janosch/Projects/Personal/ma-project/core/similaritysearch.py:131: FutureWarning: The behavior of DataFrame concatenation with empty or all-NA entries is deprecated. In a future version, this will no longer exclude empty or all-NA columns when determining the result dtypes. To retain the old behavior, exclude the relevant entries before the concat operation.\n",
      "  guessed_hits = pd.concat([guessed_hits, new_matches])\n",
      "/home/janosch/Projects/Personal/ma-project/core/similaritysearch.py:131: FutureWarning: The behavior of DataFrame concatenation with empty or all-NA entries is deprecated. In a future version, this will no longer exclude empty or all-NA columns when determining the result dtypes. To retain the old behavior, exclude the relevant entries before the concat operation.\n",
      "  guessed_hits = pd.concat([guessed_hits, new_matches])\n",
      "/home/janosch/Projects/Personal/ma-project/core/similaritysearch.py:131: FutureWarning: The behavior of DataFrame concatenation with empty or all-NA entries is deprecated. In a future version, this will no longer exclude empty or all-NA columns when determining the result dtypes. To retain the old behavior, exclude the relevant entries before the concat operation.\n",
      "  guessed_hits = pd.concat([guessed_hits, new_matches])\n",
      "/home/janosch/Projects/Personal/ma-project/core/similaritysearch.py:131: FutureWarning: The behavior of DataFrame concatenation with empty or all-NA entries is deprecated. In a future version, this will no longer exclude empty or all-NA columns when determining the result dtypes. To retain the old behavior, exclude the relevant entries before the concat operation.\n",
      "  guessed_hits = pd.concat([guessed_hits, new_matches])\n"
     ]
    }
   ],
   "source": [
    "import core.similaritysearch as simsearch\n",
    "\n",
    "for sermon in sermons:\n",
    "    for x in [\"bibel\", \"lieder\"]:\n",
    "        hits = simsearch.find_similarities(x, sermon, relevant_page_texts[x], 80)\n",
    "        hits = simsearch.add_inferred_matches(hits, sermon)\n",
    "        hits = simsearch.add_inferred_matches(hits, sermon)\n",
    "        \n",
    "        filepath = filepath = ROOT / f\"predictions/{sermon}_{x}_{similarity_table['method']}_{similarity_table['fuzziness']}_{similarity_table['date']}.csv\"\n",
    "\n",
    "        hits.to_csv(filepath, index=False)\n",
    "\n",
    "        info = {}\n",
    "        info[\"date\"] = similarity_table['date']\n",
    "        info[\"task\"] = x\n",
    "        info[\"method\"] = similarity_table['method']\n",
    "        info[\"fuzziness\"] = similarity_table['fuzziness']\n",
    "        info['file'] = str(filepath)\n",
    "\n",
    "        # append metadata if file already exists,\n",
    "        # otherwise create new file\n",
    "        my_file = Path(ROOT / f\"predictions/{sermon}_predictions.json\")\n",
    "        if my_file.is_file():\n",
    "            with open(my_file, \"r\", encoding=\"utf-8\") as f:\n",
    "                predictions = json.load(f)\n",
    "            predictions.append(info)\n",
    "            with open(my_file, \"w\", encoding=\"utf-8\") as f:\n",
    "                json.dump(predictions, f, ensure_ascii=False)\n",
    "        else:\n",
    "            with open(ROOT / f\"predictions/{sermon}_predictions.json\", \"x\", encoding=\"utf-8\") as f:\n",
    "                json.dump([info], f, ensure_ascii=False)\n",
    "\n",
    "\n"
   ]
  }
 ],
 "metadata": {
  "kernelspec": {
   "display_name": "ma_orgelpredigt",
   "language": "python",
   "name": "python3"
  },
  "language_info": {
   "codemirror_mode": {
    "name": "ipython",
    "version": 3
   },
   "file_extension": ".py",
   "mimetype": "text/x-python",
   "name": "python",
   "nbconvert_exporter": "python",
   "pygments_lexer": "ipython3",
   "version": "3.12.11"
  }
 },
 "nbformat": 4,
 "nbformat_minor": 5
}
