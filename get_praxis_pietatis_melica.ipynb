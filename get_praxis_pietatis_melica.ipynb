{
 "cells": [
  {
   "cell_type": "code",
   "execution_count": 28,
   "id": "4e3b7378",
   "metadata": {},
   "outputs": [],
   "source": [
    "import requests\n",
    "from bs4 import BeautifulSoup\n",
    "import re"
   ]
  },
  {
   "cell_type": "code",
   "execution_count": 61,
   "id": "b2e3d166",
   "metadata": {},
   "outputs": [],
   "source": [
    "# Function to remove tags\n",
    "def remove_tags(html):\n",
    "\n",
    "    # parse html content\n",
    "    soup = BeautifulSoup(html, \"html.parser\")\n",
    "\n",
    "    for data in soup(['style', 'script']):\n",
    "        # Remove tags\n",
    "        data.decompose()\n",
    "\n",
    "    # return data by retrieving the tag content\n",
    "    return ' '.join(soup.stripped_strings)\n"
   ]
  },
  {
   "cell_type": "code",
   "execution_count": null,
   "id": "eed4d131",
   "metadata": {},
   "outputs": [],
   "source": [
    "for i in range(1,1291):\n",
    "    if (i % 10) == 0:\n",
    "        print(i)\n",
    "\n",
    "    url = f\"https://api.digitale-sammlungen.de/ocr/bsb10589853/{i}\"\n",
    "    ocr_html = requests.get(url).text\n",
    "    ocr_converted = ocr_html.encode('iso-8859-1').decode('utf-8')\n",
    "\n",
    "    ocr_text = remove_tags(ocr_converted)\n",
    "    text = re.sub('bsb10589853_[0-9]{5} ', '', ocr_text)\n",
    "    text = re.sub(r' [\\/,.:!;=\\(\\)\\-](?= )', '', text)\n",
    "    text = re.sub(r'ſ', 's', text)\n",
    "    #text = re.sub(r' [0-9]+.?(?= )', '', text)\n",
    "    text = re.sub(r'\\s+', ' ', text)\n",
    "\n",
    "    with open(f\"source_texts/praxis_pietatis_melica/{i}.txt\", \"w\") as f:\n",
    "        f.write(text)"
   ]
  }
 ],
 "metadata": {
  "kernelspec": {
   "display_name": "ma_orgelpredigt",
   "language": "python",
   "name": "python3"
  },
  "language_info": {
   "codemirror_mode": {
    "name": "ipython",
    "version": 3
   },
   "file_extension": ".py",
   "mimetype": "text/x-python",
   "name": "python",
   "nbconvert_exporter": "python",
   "pygments_lexer": "ipython3",
   "version": "3.12.11"
  }
 },
 "nbformat": 4,
 "nbformat_minor": 5
}
