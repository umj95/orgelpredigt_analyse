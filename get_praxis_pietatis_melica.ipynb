{
 "cells": [
  {
   "cell_type": "code",
   "execution_count": 126,
   "id": "4e3b7378",
   "metadata": {},
   "outputs": [],
   "source": [
    "import requests\n",
    "from bs4 import BeautifulSoup\n",
    "import re\n",
    "import unicodedata\n",
    "import json"
   ]
  },
  {
   "cell_type": "code",
   "execution_count": 61,
   "id": "b2e3d166",
   "metadata": {},
   "outputs": [],
   "source": [
    "# Function to remove tags\n",
    "def remove_tags(html):\n",
    "\n",
    "    # parse html content\n",
    "    soup = BeautifulSoup(html, \"html.parser\")\n",
    "\n",
    "    for data in soup(['style', 'script']):\n",
    "        # Remove tags\n",
    "        data.decompose()\n",
    "\n",
    "    # return data by retrieving the tag content\n",
    "    return ' '.join(soup.stripped_strings)\n"
   ]
  },
  {
   "cell_type": "code",
   "execution_count": null,
   "id": "eed4d131",
   "metadata": {},
   "outputs": [],
   "source": [
    "for i in range(41):\n",
    "    if (i % 10) == 0:\n",
    "        print(i)\n",
    "\n",
    "    url = f\"https://api.digitale-sammlungen.de/ocr/bsb10589853/{i}\"\n",
    "    ocr_html = requests.get(url).text\n",
    "    ocr_converted = ocr_html.encode('iso-8859-1').decode('utf-8')\n",
    "\n",
    "    ocr_text = remove_tags(ocr_converted)\n",
    "    text = re.sub('bsb10589853_[0-9]{5} ', '', ocr_text)\n",
    "    text = re.sub(r' [\\/,.:!;=\\(\\)\\-](?= )', '', text)\n",
    "    text = re.sub(r'ſ', 's', text)\n",
    "    #text = re.sub(r' [0-9]+.?(?= )', '', text)\n",
    "    text = re.sub(r'\\s+', ' ', text)\n",
    "\n",
    "    with open(f\"source_texts/praxis_pietatis_melica/{i}.txt\", \"w\") as f:\n",
    "        f.write(text)"
   ]
  },
  {
   "cell_type": "code",
   "execution_count": 113,
   "id": "abff50a6",
   "metadata": {},
   "outputs": [],
   "source": [
    "def remove_accents(text):\n",
    "    # Remove accents except for umlaut characters\n",
    "    return ''.join(unicodedata.normalize('NFKD', c) if c not in ['ä', 'ö', 'ü', 'Ä', 'Ö', 'Ü'] else c for c in text )"
   ]
  },
  {
   "cell_type": "code",
   "execution_count": 164,
   "id": "06fe1be0",
   "metadata": {},
   "outputs": [],
   "source": [
    "def remove_hyphens(verse):\n",
    "    return verse"
   ]
  },
  {
   "cell_type": "code",
   "execution_count": 163,
   "id": "18be7b29",
   "metadata": {},
   "outputs": [],
   "source": [
    "def clean_verse(verse, common_ocr_mistakes):\n",
    "    verse = verse.lower()\n",
    "    verse = remove_accents(verse)\n",
    "    verse = re.sub(r'\\s+', ' ', verse)\n",
    "    verse = re.sub(r' ?[-=] ?', '', verse)\n",
    "    verse = re.sub(r' ?ij\\.? ?', ' ', verse)\n",
    "    verse = re.sub(r'ſ', 's', verse)\n",
    "    verse = re.sub(r'&', 'et', verse)\n",
    "    verse = re.sub(r'[,.:!;\\(\\)_]', '', verse)\n",
    "    verse = re.sub(r' ?[0-9]+\\.? ?', '', verse)\n",
    "    verse = re.sub(r'[/,;:]', ' ', verse)\n",
    "    verse = re.sub(r'[^[A-Za-z0-9äöüßÄÖÜæœ\\s]','',verse)\n",
    "\n",
    "    all_words = []\n",
    "\n",
    "    for word in verse.split():\n",
    "        if word in common_ocr_mistakes:\n",
    "            all_words.append(common_ocr_mistakes[word])\n",
    "        else:\n",
    "            all_words.append(word)\n",
    "\n",
    "    return \" \".join(all_words).strip()"
   ]
  },
  {
   "cell_type": "code",
   "execution_count": 165,
   "id": "a4107831",
   "metadata": {},
   "outputs": [],
   "source": [
    "with open(\"common_ocr_mistakes.json\", \"r\") as json_file:\n",
    "    common_ocr_mistakes = json.load(json_file)"
   ]
  },
  {
   "cell_type": "code",
   "execution_count": 166,
   "id": "686d84a2",
   "metadata": {},
   "outputs": [
    {
     "name": "stderr",
     "output_type": "stream",
     "text": [
      "<>:11: SyntaxWarning: invalid escape sequence '\\.'\n",
      "<>:11: SyntaxWarning: invalid escape sequence '\\.'\n",
      "/tmp/ipykernel_10583/3715806493.py:11: SyntaxWarning: invalid escape sequence '\\.'\n",
      "  verses = re.split('/|,|\\.', stanza.text)\n"
     ]
    }
   ],
   "source": [
    "for i in range(41,1291):\n",
    "    url = f\"https://api.digitale-sammlungen.de/ocr/bsb10589853/{i}\"\n",
    "    ocr_html = requests.get(url).text\n",
    "    ocr_converted = ocr_html.encode('iso-8859-1').decode('utf-8')\n",
    "    ocr_soup = BeautifulSoup(ocr_converted, \"html.parser\")\n",
    "    stanzas = ocr_soup.find_all('p', class_=\"ocr_par\")\n",
    "\n",
    "    all_verses = []\n",
    "\n",
    "    for stanza in stanzas:\n",
    "        verses = re.split('/|,|\\.', stanza.text)\n",
    "        word_collector = \"\"\n",
    "        for verse in verses:\n",
    "            verse = clean_verse(verse, common_ocr_mistakes)\n",
    "            word_collector += \" \" + verse\n",
    "            if len(word_collector.split()) >= 4:\n",
    "                all_verses.append(word_collector.strip())\n",
    "                word_collector = \"\"\n",
    "\n",
    "    with open(f\"source_texts/praxis_pietatis_verses/{i}.json\", \"w\") as f:\n",
    "        json.dump(all_verses, f, indent=2, ensure_ascii=False)\n",
    "\n"
   ]
  }
 ],
 "metadata": {
  "kernelspec": {
   "display_name": "ma_orgelpredigt",
   "language": "python",
   "name": "python3"
  },
  "language_info": {
   "codemirror_mode": {
    "name": "ipython",
    "version": 3
   },
   "file_extension": ".py",
   "mimetype": "text/x-python",
   "name": "python",
   "nbconvert_exporter": "python",
   "pygments_lexer": "ipython3",
   "version": "3.12.11"
  }
 },
 "nbformat": 4,
 "nbformat_minor": 5
}
