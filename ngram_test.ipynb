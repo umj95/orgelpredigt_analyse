{
 "cells": [
  {
   "cell_type": "code",
   "execution_count": 41,
   "id": "4a233616",
   "metadata": {},
   "outputs": [],
   "source": [
    "import nltk, re, string, collections\n",
    "from nltk.util import ngrams\n",
    "from collections import defaultdict\n",
    "import orgelpredigt_analysis as oa\n",
    "import unicodedata"
   ]
  },
  {
   "cell_type": "code",
   "execution_count": 145,
   "id": "611021cd",
   "metadata": {},
   "outputs": [
    {
     "name": "stdout",
     "output_type": "stream",
     "text": [
      "Collecting fuzzywuzzy\n",
      "  Downloading fuzzywuzzy-0.18.0-py2.py3-none-any.whl.metadata (4.9 kB)\n",
      "Collecting python-Levenshtein\n",
      "  Downloading python_levenshtein-0.27.1-py3-none-any.whl.metadata (3.7 kB)\n",
      "Collecting Levenshtein==0.27.1 (from python-Levenshtein)\n",
      "  Downloading levenshtein-0.27.1-cp312-cp312-manylinux_2_17_x86_64.manylinux2014_x86_64.whl.metadata (3.6 kB)\n",
      "Collecting rapidfuzz<4.0.0,>=3.9.0 (from Levenshtein==0.27.1->python-Levenshtein)\n",
      "  Downloading rapidfuzz-3.13.0-cp312-cp312-manylinux_2_17_x86_64.manylinux2014_x86_64.whl.metadata (12 kB)\n",
      "Downloading fuzzywuzzy-0.18.0-py2.py3-none-any.whl (18 kB)\n",
      "Downloading python_levenshtein-0.27.1-py3-none-any.whl (9.4 kB)\n",
      "Downloading levenshtein-0.27.1-cp312-cp312-manylinux_2_17_x86_64.manylinux2014_x86_64.whl (159 kB)\n",
      "Downloading rapidfuzz-3.13.0-cp312-cp312-manylinux_2_17_x86_64.manylinux2014_x86_64.whl (3.1 MB)\n",
      "\u001b[2K   \u001b[90m━━━━━━━━━━━━━━━━━━━━━━━━━━━━━━━━━━━━━━━━\u001b[0m \u001b[32m3.1/3.1 MB\u001b[0m \u001b[31m12.2 MB/s\u001b[0m eta \u001b[36m0:00:00\u001b[0ma \u001b[36m0:00:01\u001b[0m\n",
      "\u001b[?25hInstalling collected packages: fuzzywuzzy, rapidfuzz, Levenshtein, python-Levenshtein\n",
      "\u001b[2K   \u001b[90m━━━━━━━━━━━━━━━━━━━━━━━━━━━━━━━━━━━━━━━━\u001b[0m \u001b[32m4/4\u001b[0m [python-Levenshtein]ython-Levenshtein]\n",
      "\u001b[1A\u001b[2KSuccessfully installed Levenshtein-0.27.1 fuzzywuzzy-0.18.0 python-Levenshtein-0.27.1 rapidfuzz-3.13.0\n",
      "Note: you may need to restart the kernel to use updated packages.\n"
     ]
    }
   ],
   "source": [
    "pip install fuzzywuzzy python-Levenshtein"
   ]
  },
  {
   "cell_type": "code",
   "execution_count": null,
   "id": "a711e972",
   "metadata": {},
   "outputs": [],
   "source": [
    "#from fuzzywuzzy import fuzz"
   ]
  },
  {
   "cell_type": "code",
   "execution_count": 218,
   "id": "37169de0",
   "metadata": {},
   "outputs": [],
   "source": [
    "from rapidfuzz import fuzz"
   ]
  },
  {
   "cell_type": "code",
   "execution_count": 16,
   "id": "f7d43b31",
   "metadata": {},
   "outputs": [
    {
     "name": "stderr",
     "output_type": "stream",
     "text": [
      "[nltk_data] Downloading package punkt_tab to\n",
      "[nltk_data]     /home/janosch/nltk_data...\n",
      "[nltk_data]   Unzipping tokenizers/punkt_tab.zip.\n"
     ]
    },
    {
     "data": {
      "text/plain": [
       "True"
      ]
     },
     "execution_count": 16,
     "metadata": {},
     "output_type": "execute_result"
    }
   ],
   "source": [
    "nltk.download('punkt_tab')"
   ]
  },
  {
   "cell_type": "code",
   "execution_count": 219,
   "id": "596349dc",
   "metadata": {},
   "outputs": [],
   "source": [
    "def fuzzy_match(ngram1, ngram2, threshold=80):\n",
    "    ngram1_str = ' '.join(ngram1)\n",
    "    ngram2_str = ' '.join(ngram2)\n",
    "    similarity_score = fuzz.ratio(ngram1_str, ngram2_str)\n",
    "    return similarity_score >= threshold"
   ]
  },
  {
   "cell_type": "code",
   "execution_count": 142,
   "id": "8db94f1e",
   "metadata": {},
   "outputs": [],
   "source": [
    "quote = \"4. Ich here der Posaunen Thon/Und seh auch den Gerichts Tag schon/ Der mir auch wird ein Urtheil fållen. Hier weiset mein Gewissens-Buch / Da aber des Gesekes Fluch/MichSundenkind hinab zurHöllen/Da/wo man ewig/ewig leidt ! Mord/Jammer/ Angst und Zeter schreyt\""
   ]
  },
  {
   "cell_type": "code",
   "execution_count": 122,
   "id": "b3353c9a",
   "metadata": {},
   "outputs": [],
   "source": [
    "\n",
    "\n",
    "def remove_accents(text):\n",
    "    # Remove accents except for umlaut characters\n",
    "    return ''.join(unicodedata.normalize('NFKD', c) if c not in ['ä', 'ö', 'ü', 'Ä', 'Ö', 'Ü'] else c for c in text )"
   ]
  },
  {
   "cell_type": "code",
   "execution_count": 141,
   "id": "6b6680db",
   "metadata": {},
   "outputs": [],
   "source": [
    "def prepare_text(text):\n",
    "    text = text.lower()\n",
    "    text = remove_accents(text)\n",
    "    text = re.sub(r'[/,;:]', ' ', text)\n",
    "    return re.sub(r'[^[A-Za-z0-9äöüßÄÖÜæœ\\s]','',text)"
   ]
  },
  {
   "cell_type": "code",
   "execution_count": 143,
   "id": "646fe960",
   "metadata": {},
   "outputs": [],
   "source": [
    "quote = prepare_text(quote)"
   ]
  },
  {
   "cell_type": "code",
   "execution_count": 144,
   "id": "4c108597",
   "metadata": {},
   "outputs": [
    {
     "data": {
      "text/plain": [
       "'4 ich here der posaunen thon und seh auch den gerichts tag schon  der mir auch wird ein urtheil fallen hier weiset mein gewissensbuch   da aber des gesekes fluch michsundenkind hinab zurhöllen da wo man ewig ewig leidt  mord jammer  angst und zeter schreyt'"
      ]
     },
     "execution_count": 144,
     "metadata": {},
     "output_type": "execute_result"
    }
   ],
   "source": [
    "quote"
   ]
  },
  {
   "cell_type": "code",
   "execution_count": 95,
   "id": "74a2e458",
   "metadata": {},
   "outputs": [],
   "source": [
    "id = \"E000052\""
   ]
  },
  {
   "cell_type": "code",
   "execution_count": 96,
   "id": "145e5804",
   "metadata": {},
   "outputs": [],
   "source": [
    "sermon = oa.Sermon(id)"
   ]
  },
  {
   "cell_type": "code",
   "execution_count": 97,
   "id": "bf2451b3",
   "metadata": {},
   "outputs": [],
   "source": [
    "words = sermon.words"
   ]
  },
  {
   "cell_type": "code",
   "execution_count": 98,
   "id": "ab356d5a",
   "metadata": {},
   "outputs": [],
   "source": [
    "def create_ngrams(text, n):\n",
    "    tokens = nltk.word_tokenize(text)\n",
    "    return list(ngrams(tokens, n))"
   ]
  },
  {
   "cell_type": "code",
   "execution_count": 99,
   "id": "bfbb60b7",
   "metadata": {},
   "outputs": [],
   "source": [
    "sermon_combined = ' '.join(words)"
   ]
  },
  {
   "cell_type": "code",
   "execution_count": 100,
   "id": "75dc55a6",
   "metadata": {},
   "outputs": [
    {
     "data": {
      "text/plain": [
       "'ein wolgerührtes orgelwerck als eine anreitzung zur frucht des geistes hat am xiv sonntage nach trinitatis anno 1721 aus der sonst gewöhnlichen vesper lection an die galater cap v v 16 biß zu ende bey der einweyhung der fürtrefflichen neuen orgel in der kneiphöfischen thumkirchen in öffentlicher predigt vorgestellet und auff verlangen vieler frommer zuhörer dem druck übergeben m christian flottwell diaconus an selbiger kirche und gemeine königsberg gedruckt mit reußnerischen schrifften dem hochedelgebohrnen herrn herrn christoff aegidio negelein seiner königlichen majestät in preussen hochbetrauten geheimbtenund commercienraht wie auch bürgermeister der königlichen stadt kneiphoff denen hochedlen großachtbahren und hochweisen herren stadträhten herrn johann thamm hochansehnlichen pro-consuli und oberkirchenvorsteher herrn christoff leffler hochverdienten voigten herrn christoff krüger hochmeritirenden richter herrn valentin polikein königlichen commercienraht und stadtcamerario herrn bernhard albrecht praesidirenden wettherrn im kneiphoff herrn heinrich paschke herrn johann heinrich reußner herrn heinrich hahn wie auch herrn melchior lübeck hochbestalten geheimbten commercien und stadtsecretario denen hochwohledlen großachtbahren und hochwohlweisen herren herrn reinhold nagel schöppenmeister herrn reinhold maraun vice-schöppenmeister herrn joachim biemann herrn heinrich lübeck herrn reinhold farenheid herrn heinrich stürmer herrn christian werner wie auch herrn johann friedrich schienemann wolmeritirenden gerichtssecretario jngleichen denen edlen wohlehrenvesten und vornehmgeachten herren elterleuten und wehrten mitgliedern beyderseits vornehmer zünffte derer herren kauffund handelsleute und derer herren mältzenbräuer wie auch denen ehren vesten ehrbaren und wolgeachten elterleuten und mitgliedern der sämtlichen gewercken der königlichen stadt kneiphoff nebst allen wolthätigen hertzen hohen und niedrigen standes überreichet diese orgelpredigt zum andencken ihrer löblichen vorsorge vor das heiligthum gottes und angewandten wolthätigkeit zu demselben mit dem hertzlichen wunsch daß ihr gedächtniß beständig im seegen bleiben möge jhrer allerseits gebehtund dienstverbundenster seelensorger m christian flottwell lobet den herrn in seinem heiligthum lobet ihn in der veste seiner macht lobet ihn in seinen thaten lobet ihn in seiner grossen herrlichkeit lobet ihn mit posaunen lobet ihn mit psalter und harffen lobet ihm mit paucken und reigen lobet ihn mit säyten und pfeiffen lobet ihn mit hellen cymbeln lobet ihn mit wohlklingenden cymbeln alles was odem hat lobe den herrn halleluja sjnget dem herrn ein neues lied machts gut auf säytenspiel mit schalle mit dieser auffmunterung giebt der david die freude seines hertzens in bepreisung der wolthaten gottes zu erkennen ps xxxiii v 3 nicht allein die zunge davids sondern auch sein hertz und hände waren lauter griffel eines guten schreibers ps xlv 2 darumb wolte er auch hier nicht allein mit der zunge und munde gott gelobet wissen sondern er selbst und seine musicanten sollten es mit den händen auf dem säytenspiel gut machen er läst sich desfals in dem vorhergehenden vers verlauten dancket dem herrn mit harffen und lobsinget ihm auf dem psalter von zehen säyten das ist mit einer vollkommenen musique und säytenspiel dabey kein eintziges instrument noch säyte mangeln soll gleichwie die zehende zahl eine vollkommene und die höchste ist von welcher die übrige zahlen anfangen er erfordert anfangs ein neues lied singet dem herrn ein neues lied vieler lieder denckt die heilige schrifft als der freudenlieder so bey der alten mahlzeiten gesungen worden wie ein smaragd im schönen golde stehet also zieren die lieder das mahl syrach xxxii v 8 9 esaias stimmet ein lehrlied an von dem weinberge seines vettern an einem fetten ort es v v 1 die kinder jsrael stimmten ihr loblied an da sie durch das rothe meer geführet waren exod xv v 1 david erforderte aber allhier ein neues lied und siehet anfangs auf die zeit des neuen testaments da der meßias ins fleisch kommen das alte vergehen und alles neu werden solte und heisset demnach das evangelium von christo ein neues lied er ermuntert aber auch dadurch das hertz wie einige ausleger anmercken zum lobe gottes daß es aus einem wiedergebohrnen erneuerten hertzen fliessen soll denn das neue hertz muß die harffe seyn so klingts in gottes ohren rein weil auch drittens die güte gottes alle morgen neu ist klaglied jer iii v 23 und er gewohnt war für ein jegliches werck dem heiligen und höchsten mit einem schönen liede zu dancken desfals er auch die sänger stifftete bey dem altar und ließ sie seine süsse lieder singen syrach xlvii v 9 11 so erfordert er demnach ein neues lied solches solte aber begleiten ein gutes säytenspiel mit schalle kircherus meldet in seiner musurgia daß zu den zeiten davids 36 unterschiedene arten der musicalischen instrumenten schon in gebrauch gewesen auff welchen allen er selbst auch habe können spielen und musiciren selbige müssen ohne zweiffel sonderlich wenn sie verdoppelt worden einen grossen schall von sich gegeben haben wir sind an dem heutigen tage in diesem unserem lobethal versammlet hieselbst zu loben den herrn 2 chron xx v 26 so ermuntere ich euch auch jhr meine liebsten singet dem herrn dem herrn der zu jerusalem spricht gebauet und zum tempel sey gegründet esaiae xliv v 28 singet ein neues lied unsere alte orgel welche vom jahr 1587 gestanden ist vergangen und daraus mit schöner kunst ein weit grösser werck als ein neuer phoenix aus der ausgebrandten asche entstanden heute ist ihr grosser schall in offentlicher versammlung zu erst gehöret worden heute wird sie geheiliget zu dem dienste gottes durch das wort und gebeht 1 tim iv v 5 jst nun eine schöne grosse orgel eine königin und zusammenfassung aller andern musicalischen instrumenten so singet dabey heute dem herrn ein neues lied machts gut auff säytenspiel mit schalle singet mit einstimmen unserer lobschallenden neuen orgel zwingt die säyten in cythara etc und bethet darauf ein gläubiges und andächtiges vater unser ich sage aber wandelt im geist so werdet ihr die lüste des fleisches nicht vollbringen denn das fleisch gelüstet wieder den geist und der geist wieder das fleisch dieselbe sind wiedereinander daß ihr nicht thut was ihr wollet regieret euch aber der geist so seyd ihr nicht unter dem gesetz offenbahr sind aber die wercke des fleisches als da sind ehebruch hurerey unreinigkeit unzucht abgötterey zauberey feindschafft hader neid zorn zanck zwietracht rotten haß mord sauffen fressen und dergleichen von welchen ich euch habe zuvor gesaget und sage noch zuvor daß die solches thun werden das reich gottes nicht ererben die frucht aber des geistes ist liebe freude friede geduld freundlichkeit gütigkeit glaube sanfftmuht keuschheit wieder solche ist das gesetze nicht welche aber christum angehören die creutzigen ihr fleisch samt den lüsten und begierden jhr andächtige und auserwehlte gottes in christo dem herrn es haben wolgerührte orgeln in der christlichen versammlung eine besondere krafft und grossen nutzen niemand meyne daß gleichwie in unserm neuen orgelwerck unter andern zügen eine flaute von 1 fuß gefunden wird welche kützial heisset also die orgeln in den kirchen nur zum gekützel der ohren gereichen vielweniger daß gleichwie in der orgel einige pfeiffen voran stehen die keinen laut sondern nur zierde von sich geben also die orgeln nur zur blossen lust der augen dienen und wie ein grosser spiegel ein schönes gemach zieren am allerwenigsten werden sie gebraucht zum leeren zeit-vertreib vor der predigt wie denn viele lang genug orgeln lassen ehe sie herbey georgelt werden und meynen es sey zeit genung zur kirche zu kommen wenn der prediger nach der cantzel geht nein sonder wie alles in der kirchen zur besserung ermahnung und tröstung geschehen muß daß die gemeine dadurch gebessert werde 1 cor xiv v 3 5 so gereichet auch ein stattliches orgel werck anfangs zur verherrlichung der ehre gottes da die vielerley arten der pfeiffen und stimmen die mancherley gaben und wolthaten gottes abbilden und dafür zum lobe des allerhöchsten aufmuntern daß es heist mein hertz soll dir allzeit bringen deines lobs gebührlichs theil auch soll meine zunge singen täglich dein unzählich heyl jch selbst werde wie gantz neue sing und klinge deine treue meines lebens einges ziel auff der harff und säyten-spiel erfordert der apostel an dem besagten ort daß es alles ehrlich und ordentlich in der gemeine zugehen soll 1 cor xiv v 40 so kan ohn ein grosses orgelwerck in einer volckreichen gemeine da so vielerley stimmen zusammen stimmen schlechte ordnung und harmonie gehalten werden sondern das herabziehen und sincken der stimmen verursacht ein unordentliches und verdrießliches geschrey da einer vorher der andere nachschreyet sonderlich dienet ein wolgeschlagenes orgelwerck zur bewegung und erweckung der furcht des heiligen geistes im hertzen man muß billig eine künstliche orgel unter die gaben und wolthaten gottes zehlen es mag dieselbe jubal der andre sohn lamechs erfunden haben weil er pater canentium cithara &amp organo ein erfinder der geiger und pfeiffer genandt wird 1 buch mosis cap iv v 21 oder es mögen die egyptier welche an den nylischen sümpffen gewohnet durch den in das daselbst häuffig wachsende rohr und schilff stossenden und ein gesause weckenden wind gelegenheit genommen haben ein solch werck zu erfinden wie kircherus davor hält laß es auch seyn daß sie zu des ersten griechischen käysers constantini copronymi der dem könige pipino ein schönes orgelwerck zugeschicket und verehret oder vom pabst vitelliano zur zeit constantini des dritten wie wolateranus gedencket erfunden seyn so können wir sie dennoch nicht anders als ein geschöpff und gabe gottes ansehen als ein geschöpff was ihre substantz und wesen betrifft daraus sie bestehet als holtz metall bley zinn blech eisen und dergleichen als eine sonderbahre gabe gottes was ihre kunst und gestalt anlanget sintemahl von gott alle gute und vollkommene gaben herab kommen jac i v 17 welcher nicht nur im alten testament tüchtige künstler erkohren sondern auch heut zu tage die künstler zu seinen ehren mit dem geist der weißheit verstandes und erkäntniß wie den bezaleel ausrüstet 2 b mosis cap xxxi v 3 jst sie nun gottes geschöpff werck und gabe so kan man nicht läugnen daß auch durch ihren löblichen gebrauch göttliche würckungen und heilige früchte des geistes in dem hertzen der gläubigen erwecket werden die heyden haben der instrumental-musique eine grosse krafft zur bewegung der menschlichen gemüther zugeschrieben plato läst sich ausdrücklich aus cum musica mores hominum mutantur daß durch eine wohlklingende musique die sitten der menschen können verändert werden natalis comes schreibt daß orpheus thracius und amphion thebanus mit ihrer musiqve wälder steine und wilde thiere das ist homines rudes stupidos agrestes wilde grobe tölpische leute bewegen können guido aretinus als er gefraget wurde was er vor nutzen von seiner harffe oder laute hätte daß er sie so offt hervor nehme antwortete nach der bekandten solmisation der alten ut re mi fa sol la ut relevet miserum fatum solitosque labores daß sie mein elend und gewöhnliche arbeit lindere und erleichtere wie viel mehr kan ein zu gottes ehren gebrauchtes orgel werck solche heilige würckungen in den hertzen der christen erwecken daher d jacobus andreae auff dem colloqvio zu montpelgart also von sich selbst schreibet jch kan mit grund der wahrheit von mir selbst sagen als der ich besondere lust zur kirchen-musiqve und orgel trage daß ich daraus nicht allein den hall oder klang mit den ohren empfange sondern auch mein geist und gemüth durch solche liebliche stimmen erwecket wird daß ich desto inbrünstiger behte die kirchengesänge desto eyffriger mitsinge und die predigten mit desto brennerndem geist verrichte oder anhöre und davon wird uns mit mehrerm der apostel aus der sonst gewöhnlichen vesper-lection zu reden gelegenheit geben aus welcher wir ewer christliche liebe in gebührender einfalt und hertzensandacht vorstellen wollen thu auff herr jesu den mund zum lobe dein bereit das hertz zur andacht fein den glauben mehr stärck den verstand daß uns dein nahm werd wolbekandt biß wir singen mit gottes heer heilig heilig heilig ist gott der herr und schauen ihn von angesicht in ewger freud und seelgem licht ejne orgel hat viel pfeiffen und ist doch nur ein werck obgleich der apostel in der heutigen vesper-lection viele früchte her erzehlet welche als schöne pfeiffen uns in die glaubensaugen leuchten so nennet er sie doch nur in singulari eine frucht die frucht des geistes ist liebe freude friede gedult freundlichkeit gütigkeit glaube sanfftmuth keuschheit weil sie alle ein geist würcket denn es sind mancherley gaben aber es ist ein geist 1 cor xii v 4 zuallererst gedenckt er der liebe weil die liebe von reinem hertzen die hauptsumma des gebohts ist 1 tim i 5 und verstehet so wohl die liebe gegen gott dadurch wir ihn und sein wort vor unser höchstes gut halten und ihm anhangen als auch die liebe gegen unsern nechsten da mans mit dessen zeitlicher und ewiger wolfahrt so gut als mit seiner eigenen meynet dazu vermag nun ein wolklingendes orgelwerck die hertzen zu ermuntern und anzureitzen denn der gantze gottesdienst des neuen testaments ist auffgerichtet zur erweckung der liebe wenn sonsten jemand mit menschen und engelzungen reden oder singen könte und hätte der liebe nicht so wäre er ein thönend ertz oder klingende schelle 1 cor xiii 1 wir werden ja durch den süssen klang der orgel zum lobe gottes und also auch zu seiner süssen liebe entzündet denn lieben und loben stehen beysammen was man liebet lobet man was man lobet liebet man daher auch augustinus in beschreibung der freude des ewigen lebens beydes zusammen setzet amabimus &amp laudabimus wir werden gott lieben und loben und der bekandte kirchengesang führet die liebe jesu als eine würckung der instrumental-musique an zwingt die säyten in cithara und last die süsse musica gantz freudenreich erschallen daß ich möge mit jesulein dem allerschönsten bräutgam mein in steter liebe wallen nimmermehr kan eine orgel so viel züge haben als gott der herr liebeszüge hat uns zu sich zu ziehen aus lauter güte jerem xxxi v 3 und ein solcher liebeszug ist auch ein zierliches orgelwerck dadurch die hertzen von der erden in lieb zu gott gezogen werden es reitzet die hertzen zur liebe gegen gottes wort wir sind kalt träg und schläffrig gottes wort zu hören es finden sich fliegende gedancken die auch unter dem gottesdienst auf das hertz der gläubigen fallen wie das gevögel auff das opffer abrahams 1 buch mosis cap xv v 11 und die andacht zerstreuen aber ein lieblich gerührtes orgelwerck treibt die hin und herstreiffende gedancken zurück sammlet die andächtige gedancken und muntert auff zur liebe des göttlichen worts solches hat augustinus erfahren welcher libro x confess cap xxxiii &amp libr ix cap xvi von sich selbst bekennet er sey durch die psalme und lobgesänge der heiligen gemeine so inniglich beweget worden daß ihm dadurch die göttliche warheit ins hertz geschmoltzen die andacht in ihm entzündet und die thränen mildiglich aus den augen geflossen und wie war es mir spricht er unter denselben thränen so wohl ein künstliches orgelwerck reitzet auch zur liebe gegen den nechsten jene gelahrte feder schrieb zu einer orgel varietate unitas aus viel stimmen ein chor aus viel pfeiffen eine harmonie das weiset uns die liebe unter einander da die menge der gläubigen nur ein hertz und seele seyn muß wie von der ersten christlichen kirchen geredet wird in der apostel geschicht cap iv v 32 quod in cantu est harmonia id in ecclesia est concordia sind die worte des angeführten kirchenlehrers augustini in libr ii de civit dei cap xxi was in einer musique ist die einigkeit der stimmen das ist in der christlichen kirchen die einigkeit der sinnen man findet in guten orgelen ein gewisses flöthwerck welches gedact genannt wird vom bedecken weil in diesem register die pfeiffen oben zugedeckt sind da andere offen stehen das deutet an die eigenschafft der reinen liebe gegen den nächsten als welche zudeckt auch der sünden menge 1 petr iv 8 zum andern denckt der apostel unter den früchten des geistes der freude die frucht des geistes spricht er ist liebe freude welche freude nichts anders ist als eine innigliche lust und vergnügen in gott und an alle dem guten so wir haben in christo jesu wie auch an allen wercken wundern und wolthaten unsers gottes dazu ermuntert auch ein wolklingendes orgelwerck welches traurige und schwermüthige gedancken vertreiben und in der seelen eines rechtschaffenen christen freude erwecken kan wenn david die harffe nahm und mit seiner hand spielete so erquickte sich saul es ward besser mit ihm und der trauergeist wich von ihm 1 sam xvi 23 als bey herauffholung der lade des herrn das gantze hauß jsrael für dem herrn herspielete mit allerley säytenspiel von tennenholtz schellen und cymbeln harffen psalter und paucken tantzete david für grosser freude für dem herrn her 2 sam vi 5 solte denn unter dem gottesdienst dabey der gnadenstuhl durch den glauben aufgerichtet in seinem blut in unsere hertzen gebracht wird und die orgel als eine königin aller musicalischen instrumenten thönet nicht grosse freude in unsern hertzen erwecket werden wenn ein weinendes kind so leicht nicht kan gestillet werden so macht man ihm ein geklinge vor auf dessen thon es verwundernsvoll aufmercket stille schweiget und seines vorigen anliegens vergisset legt man es in die wiegen so kan man es mit singen am besten einschläffern ja das unvernünfftige vieh selbst höret gern einen hall und klang wenn ein hirt auf dem felde oder im walde seine pfeiffe bläset so weydet das vieh desto lustiger wenn ein bauersmann hinter dem pfluge singet gehen die lastthiere viel muthiger sole dann nicht durch den klang einer wolgerührten orgel das betrübte hertz der menschen zufrieden gestellet und fröhlich gemacht werden dulcisonum reficit tristia corda melos der musiqve lieblichkeit vertreibet alle traurigkeit wenn lutherus traurig wurde suchte er sein clavier hervor sagende kommt last uns dem teuffel zu trotz eines mit vollen stimmen machen denn dem teuffel ist nicht wol dabey wenn man gottes wort im rechten glauben singet und spielet vielleicht weil er sich erinnert wie er durch seinen abfall als ein musicant aus dem chor der himmlischen heerschaaren verstossen worden hören die gläubigen wie es einem organisten und künstlichen meister ein leichtes ist bald traurig bald aber wieder fröhlich auff der orgel zu spielen so versichern sie sich von ihrem gott daß es ihm viel leichter sey ihre klage zu verwandeln in einen reygen ihren sack auszuziehen und sie mit freuden zu gürten psal xxx v 12 dadurch wird ihr hertz und ihre ehre fröhlich nicht dienet aber ein vollkommenes orgelwerck zur erweckung leiblicher freude oder unreiner fleischeslüste andere musicali- sche instrumenta werden offt gemißbrauchet auf gelachen hochzeiten auch wol sündlichen zusammenkünfften zu weltlichen freuden da werden grosse gläser wein beym gesundheittrincken zur völlerey eingepauckt und eingeblasen und die geigen zum üppigen tantz gestrichen sie haben harffen psalter und paucken pfeiffen und wein in ihrem wolleben es v v 11 und hernach werden sie leyder auch gott in der kirche zu ehre und dienst mit angewandt und beklagen einige lehrer unserer kirchen hertzlich daß eine vermögende gemeine zum gebrauch des gottesdienstes nicht besondere instrumenta anschaffet hingegen da grosse orgeln nicht können aus der kirchen beweget werden sind sie gott dem herrn zur erweckung geistlicher freude in den hertzen der gläubigen geweyhet daher sich jene uberschrifft auff eine ausländische orgel wol schickte non ad choreas non ad tripudia nicht zum tantz sondern sich allewege zu freuen in dem herrn und abermahl auffzumuntern freuet euch phil iv v 4 es erwecket ein wolgeschlagenes orgelwerck freude bey denen lehrern und predigern mit freudigem auffthun des mundes des herrn wort zu verkündigen weil offentlich auffzutreten wieder den teuffel und die welt zu streiten und das wort zu führen keine geringe sache ist gleichwie aber ein held durch den durchdringenden schall der drommeten angefrischet wird seinen feind behertzt anzugreiffen so ermuntert auch der klang einer schönen orgel die lehrer freudig des herrn werck zu verrichten und ihre stimme zu erheben wie eine posaune und dem volck ihre ubertretung zu veründigen es lviii v 1 auch schwermüthigen zuhörern vertreibet der klang einer lieblichen orgel die traurigkeit daher lutherus anno 1534 einen organisten der mit schwermuth und traurigkeit angefochten war ausdrücklich zu seiner orgel wiese und ihn darauff tröstliche lieder zu spielen ermahnete tom vi jenens fol 206 weilen aber in dem reiche gottes freude und friede im heiligen geist zusammen gehören rom xiv 17 so setzet paulus zu der freude auch den frieden die frucht des geistes ist liebe freude friede nehmlich eines guten gewissens mit gott eine sanffte und stille ruhe in gott und zufriedenheit mit allen seinen wegen hievon giebet ein neues orgelwerck eine gute versicherung pierius in seinen hieroglyphicis meldet daß wenn verlobten personen kurtz vor ihrer hochzeit von einem lieblichen musicalischen instrument träume so sey es als eine gute vordeutung zukünfftiger einigkeit und vertranligkeit unter den neuen eheleuten anzunehmen wenn einer christlichen gemeine von einer lieblichspielenden orgeln nicht etwa träumet sondern sie dieselbe würcklich vor augen siehet und mit ohren höret soll sie das vertrauen zu gott hegen er werde umb des friedensfürsten jesu christi willen ferner sein feur und heerd unter ihnen haben friede und ruhe im lande und den schönen gottesdienst ungestöhret erhalten und dadurch auffgemuntert werden durch busse und glauben den frieden unverbrüchlich zu halten denn wenn gott seinen zorn und ungnade krieg und unfriede in ein land schicket da müssen alle musicalischen instrumenta schweigen die freude der paucken feyren das jauchtzen der frölichen ist aus und die freude der harffen hat ein ende es xxiv v 8 da wird die göttliche drohung erfüllet jch will mit dem gethön deines gesanges ein ende machen daß man den klang deiner harffen nicht mehr hören soll ezech xxvi 13 da muß man mit den gefangenen juden an den wasserflüssen zu babel die harffen an die weyden hangen da gehet an das klagen unsere jünglinge treiben kein säytenspiel mehr unseres hertzens freude hat ein ende unser reygen ist verkehrt in wehklagen o weh daß wir so gesündiget haben klaglieder jerem v 14 gönnet nun gott der herr seiner gemeine ein fröhliches orgelwerck und saytenspiel so ist es ein zeichen daß er gedancken des friedens über sie habe und erinnert sie darnach zumachen daß sie den frieden mit gott und ihrem guten gewissen wol bewahren möge zum vierten kommt der apostel auf die gedult und erklären die ausleger solche gedult von dem geduldigen warten der sich offt lange verziehenden erfüllung der verheissung gottes da man durch glauben und gedult die verheissungen ererben muß hebr vi v 12 bald hört man in der kirchen die orgel spielen bald schweigt sie still das chor singt die orgel pausirt so hat bey einem christen schweigen seine zeit pred b salom iii 7 gott verzeicht seine verheissung und weiß wie lange das schweigen uns gut sey wenn gleich dem ezechiel seine augenlust dahin gehet muß er pausiren und darff nicht nachschreyen es heist du solt nicht klagen ezech xxiv v 16 aaron muß pausiren und geduldig schweigen wenn gleich seine söhne im feuer umbkommen jm 3ten buch mosis cap x v 3 orgeln haben ihre mixturen das muß sie erinnern wie auch gott solche reigster mit uns ziehe daß bald leid bald freud bald armuth bald reichthum bald glück bald unglück bald leben und todt von seiner gütigen hand uns zugeschicket werden syr xi 14 und dennoch denen die gott lieben alles zum besten dienen müsse rom viii v 28 künstliche meister wissen auff der orgel bald dissonantien und mißlautende bald consonantien und wollautende thöne zu spielen und den mißlaut in einen wollaut zu resolviren welches denen ohren eine angenehme sache ist solches erinnert uns wie es gott in unserm christenthum mache post nubila phoebus nach dem ungewitter lässet er die sonne wieder scheinen und nach dem heulen und weinen überschüttet er uns mit freuden tobiae iii 23 hier in der welt finden sich viel creutz-dissonantien denn wenn ein mensch unterweilen nicht eine unlust hätte so wüste er nicht daß die lust lust freude freude sey alle unlust aber soll sich in freude verkehren und wie in einer musiqve der dissonantien nicht mehr seyn als der consonantien vielweniger jene länger dauren als diese sondern bald müssen resolviret werden sonst ist der gantze klang verdrießlich so resolviret sich endlich das trauren dieser zeit da die trübsahl nur zeitlich und leicht ist in eine über alle masse wichtige herrlichkeit 2 cor iv 17 und solche betrachtung reitzet zur gedult gedult ist euch noth daß ihr den willen gottes thut und die verheissung empfahet hebr x v 36 zu obigen früchten des geistes setzt der apostel hinzu die freundligkeit das ist eine liebreiche holdseelige betrachtung gegen den nechsten in gebehrden worten und wercken gleichwie wir schon erwiesen wie ein wolklingendes orgelwerck zur freude reitze so bleibet davon die freundligkeit nicht aus denn traurige und melancholische gemühter sind insgemein murrisch und unfreundlich wo aber freude friede gedult im hertzen ist da sind die christen wie ein schönes orgelwerck allesambt gleich gesinnt mittleidig brüderlich barmhertzig freundlich 1 petr iii v 8 zu dem ende werden insgemein die orgeln mit engelsbildern ausgezieret nicht allein quia psallentibus etiam dignantur sic angeli admisceri bernh serm 7 in cant weil die heiligen engel sich gerne in der schaar derer finden die gott loben sondern wie sie auch freundliche geister sind auch solcher anblick die hertzen der christen zur freundligkeit bewegen soll welches abzubilden jener ausländer auff die eine seite der orgel schrieb in uno spiritu omnes nos auff die andere conspirat amice unten aber obgleich hier nur ein wind und so viel pfeiffen seyn so stimmt das gantze werck doch freundlich überein von der freundlichkeit schreitet der apostel zur gütigkeit da man mit würcklichen liebesbezeugungen dem nechsten in seiner noth zu hülffe kommt wenn in dem orgelwerck die stimmen sonderlich die tieffen zu schwach klingen werden andere dazu gezogen so ihnen aushelffen müssen lebt der nechste in einem niedrigen schwachen und armseeligen zustand so müssen die hohen und reichen ihnen in der noth aus der tieffe des elendes aushelffen und bedencken wie der schall und stimme in der orgel bald steigt bald fält also ob sie in ihrem leben noch so hoch daran sind bald fallen können und daß wir nicht alle in der welt gleich hoch und reich gleich niedring und arm seyn können darumb einer dem andern mit wolthun müsse zu hülffe kommen wir die wir starck sind sollen der schwachen gebrechlichkeit tragen und nicht gefallen an uns selber haben röm xv v 1 hören sie die pfeiffen in der orgel lieblich klingen müssen sie angereitzet werden auch ihre pfenninge gegen die nothleidende klingen zu lassen ja wie ihr hertz durch das liebliche schlagen der orgel erfreuet wird sie auch ihren armen nechsten durch wolthätigkeit erfreuen mögen wie nun aber der glaube der brunnen ist aus welchem alle tugenden des geistes herfliessen so vergiest der apostel dieser quelle nicht sondern nennet ausdrücklich unter den früchten des geistes den glauben und dazu kan auch ein wolklingendes orgelwerck gute anleitung geben denn weil schrifftmäßige lieder auff einer orgel gespielet werden was sind sie anders als ein hellklingendes bekäntniß der reinen lehre und glaubens welcher eine christliche gemeine zugethan ist wie das principal in einer orgel wol klinget und die vornehmsten pfeiffen hat wornach die andern eingestimmet werden davon es auch den nahmen führet so gefält insonderheit gott dem herrn der glaube herr deine augen sehen nach dem glauben jer v v 3 hier müssen wir immer den kampff des glaubens kämpffen kämpffe den guten kampff des glaubens ergreiffe das ewige leben 1 tim vi v 12 zu solchem kampff kan uns ein stattliches orgelwerck muhtig machen kämpffer lieffen mit freuden unter dem trompetenklang und pfeiffengesang auff den kampffplatz und in einer feldschlacht oder bey einem sturmlauffen werden die soldaten durch die heertrommeten und paucken wieder die feinde angefrischet so kan auch in der streitenden kirchen auff erden da wir ohn unterlaß mit dem teuffel der welt und unserm fleisch und blut zu felde liegen müssen eine lieblichschallende orgel und schöne kirchenmusiqve uns zu einem beständigen glaubenskampff auffmuntern und des sieges versichern dort ließ moses bey erhaltenem siege wieder die egypter die musiqve tapffer hören 2 b mos cap xv v 1 und das volck am regen als david den goliad erleget 1 sam xviii 6 ja johannes höret die auserwehlten ein solches siegeslied anstimmen offenb joh xiv 2 3 so können wir uns bey dem süssen orgelklang auch versichern daß der glaube der sieg seyn werde der die welt überwindet 1 joh v v 4 wenn des künstlers hand auff der orgel von einem clavier auff das andere fält giebt solches sonderlich in den gewölbten kirchen ein sehr schönes echo und wiederhall wie wirs auff unserer neuen orgel jetzo vor der predigt gehöret solches kan der frommen kinder gottes ihren glauben stärcken daß ihnen gott auff ihr gebeht vom himmel antworte daß wenn sie schreyen herr erbarme dich hörst du nicht mein ruffen das echo vom himmel ich hör dein ruffen sie klagen meine krafft ist schwach und ohnmächtig gott antwortet meine krafft ist in den schwachen mächtig sie flehen meine sünden mich betrüben sehr gott antwortet ich denck ihr nicht mehr mich reuet sie echo ich verzeihe sie sie bitten laß mich nicht ohne trost gottes stimme schallet zurück sey getrost sie seufftzen jch bitte es in deinem nahmen es wiederschalt vom himmel amen amen ja durch ein lieblichklingendes orgelwerck empfindet alsdenn der glaube einen vorschmack der ewigen freude wie man aus einem zierlichen vorhoff von der innerlichen schönheit des pallasts zu urtheilen pfleget so kan man von der kirchenmusiqve auff erden die fürtreffligkeit der himmlischen freudenmusiqve abnehmen da freude die fülle und liebliches wesen zur rechten gottes ist ewiglich psalm xvi v 11 hier gehet unser klang und gesang offt heisch und lahm dort hell und rein hier ist alles orgelwerck in der streitenden kirchen gegen die harffen in der triumphirenden wie eine bauerflöthe gegen eine köstliche triumphstrommete auch erwecket ein künstlichgeschlagenes orgelwerck die sanfftmuth in den hertzen der gläubigen welcher der apostel in unserm text gedencket brentius observiret sehr nachdencklich daß der prophet elisa da er weissagen sollen erstlich einen spielmann herbey ruffen lassen und darauf wäre die hand des herrn über ihn gekommen 2 buch der könige cap iii v 15 dieses ist geschehen seinen zorn zu brechen den er über den abgöttischen könig jsrael gefasset und seinen geist zu besänfftigen solte auch nicht eine orgel solche krafft haben clinias philosophus rühmte von seiner harffe und laute daß dadurch sein gemüth besänfftiget würde mansvesio es wird auf einer orgel nicht alles dur sondern auch moll gespielet nicht lauter scharffe sondern auch douce register gezogen wie in unserer neuen orgel zum heiligen gebrauch verhanden sind flaute doucen viol di gamba theorbe dulcianen flaute allemande hollflöten vox humana hautbois rohrflöten welche douce stimmen ein vieles zur besänfftigung des hertzens beytragen können wie die bürger zu antiochia das erzürnete gemüth des käysers theodosii durch eine liebliche musiqve zur gnade und sanfftmuht bewegen konten zuletzt denckt der apostel auch der keuschheit und bedeutet das wort εγκράτεια eigentlich eine mäßigkeit und enthaltung von aller bösen lust und begierde jch gedencke hier nicht wie die alten nach dem bericht lilii gyraldi eine art der musiqve aus dem d moll im gebrauch gehabt modus dorius genandt so sonderlich zur keuschheit die zuhörer angereitzet sondern muß das zeugniß venerabilis bedae in musica quadrata anführen immundos spiritus humoresqve gravos &amp langvores musica depellit unde &amp utilis ad salutem corporis die musiqve vertreibet die unreinen geister böse feuchtigkeiten und trägheit daher sie zur wolfahrt leibes und der seelen dienlich ist picinellus schreibet zu einer orgel per inania spiritus der wind gehet durch leere pfeiffen und deutet das auff mäßige und keusche hertzen die durch fasten mäßigkeiten und enthaltung von sündlichen lüsten leer seyn sollen es kan aber eine noch so stattliche orgel keinen thon von sich geben wenn die ventile nicht geöffnet werden daß der wind durch die canaele und windladen in die pfeiffen dringe daher das glöcklein in unserer orgel damit man ein zeichen zum winde giebt heisset sine me nihil ohne mich klingt nichts das hertz kan nimmermehr ein gottgefälliges geistliches orgelwerck werden und mit bemeldten früchten des geistes sich hören lassen wo nicht gott der heilige geist der himmlische pfingstwind in die lade des hertzens wehet von welchem gott verheissen es soll von meinem angesicht ein geist weben und ich will odem machen esaiae lvii v 16 wo der meister mit seinen fingern die claves nicht künstlich berühret lautet das werck von sich selber gar nicht der heilige geist ist mit gaben siebenfalt der finger an gottes rechten hand von welchem christus spricht so ich aber durch gottes finger die teuffel austreibe so kommt je das reich gottes zu euch luc xi v 20 der muß die claves aller unserer sinnen gedancken affecte bewegungen und begierden rühren daß sie eine gottgefällige harmonie von sich geben darumb gedenckt der apostel in der heutigen vesper-lection zu 5 mahlen des geistes und schreibt an die epheser werdet voll geistes und redet unter einander von psalmen und lobgesängen und geistlichen liedern singet und spielet dem herrn in eurem hertzen eph v v 19 wo der böse geist mit seinen eingebungen bläset und man denselben raum giebet da machen die offenbahre wercke des fleisches eine schändliche verstimmung und übellautenden schall in den ohren gottes gleichwie das durchstechen des windes ein verdrießliches geheul in der orgel erwecket der apostel spricht in unserer epistel offenbahr sind die wercke des fleisches als da sind ehebruch hurerey unreinigkeit unzucht welches vor gott weit verdrießlicher klinget als uns das schändliche geschrey rammelnder katzen abgötterey wie das heulen der nachteulen zauberey wie das zischen der schlangen feindschafft hader neid zorn zanck zwietracht rotten haß mord wie das hundegnorren bärebrummen wolffsheulen und eselgeschrey sauffen fressen ist dem heiligen gott mehr zuwieder als uns menschen das saugrunzen worauf solchen fleischlichen menschen das ewige heulen in finsterniß mit zähnklappen folget da sie den verlust der gnadenzeit beheulen müssen in ewigkeit denn die solches thun spricht der apostel in der heutigen epistel werden das reich gottes nicht ererben wie aber bey einem jeden orgelwerck auch die bälge müssen getreten werden so muß uns solches anreitzen zur creutzigung des fleisches davon der apostel im schluß der heutigen vesper-lection redet welche christum angehören die creutzigen ihr fleisch sambt den lüsten und begierden das ist durch den geist des fleisches geschäffte dämpffen untertreten und tödten rom viii v 13 je mehr man die fleischliche lüsten und begierden untertritt je kräfftiger würcket der heilige geist seine frucht im hertzen der tact darnach man spielet kan billig das gesetz der musiqve genandt werden weil sich alles darnach richten muß nun spielet ein künstlicher meister auff der orgel nicht daß er ihm äusserlich dabey den tact vorschlagen läst und handelt doch nicht wieder den tact sondern spielet darnach in seinem sinn und gemüth so spricht der apostel in unserm text welche der heilige geist regieret die sind nicht unter dem gesetz wieder solche ist das gesetzt nicht weil sie das gute nicht aus zwang thun sondern dienen dem herrn williglich im heiligen schmuck ps cx v 3 die wercke der gottseeligkeit kommen nicht aus dem trieb des gesetzes denn dem gerechten ist kein gesetz gegeben 1 tim i v 9 daher handeln sie nicht wieder das gesetz sondern vielmehr nach dem gesetz als einer allgemeinen regel und form aller christlichen verrichtungen indem sie nicht wandeln nach dem fleisch sondern nach dem geist röm viii v 4 welches alles in acht zu nehmen haben nicht nur diejenigen so den lieblichen klang einer woleingerichteten orgel hören sondern auch die künstler welche eine stattliche orgel selbst schlagen und rühren sie sind nicht beruffen leichtfertige lieder menuetten couranten täntze und andere unziemliche melodeyen nach dem weltgeist zu spielen daß geistliche christen in fleischliche barbaren verwandelt werden sondern haben sich einer hertzbewegenden heiligen spiel art zu befleißigen dadurch die andacht nicht gestöhret sondern vermehret werde sie spielen nicht vor den blossen ohren der menschen sondern wie auff einer zierlichen orgel viele engel ja des grossen gottes selbsten der da heilig ist und wohnet unter dem lob jsrael ps xxii v 4 sonst verwirfft gott allen schall der kirchenmusiqve thue weg von mir das geplärr deiner lieder denn ich mag deines psalterspiels nicht hören amos v v 23 jn dem absehen wolte gott im alten testament durch die priester und leviten die kirchenmusiqve verrichtet wissen damit alles bey derselben mit desto grösserer andacht und gottesfurcht hergehen solte 2 chron xxix v 25 hie könte man weitläufftig die orgelsürmer wiederlegen denen unter andern hospinianus de orig templ lib 2 cap 23 das wort führet praestaret multorum doctrina &amp pietatis virorum judicio organa auferri ex templis es wäre besser nach dem urtheil gelehrter und frommer männer die orgeln aus den kirchen abzuschaffen wir könten weitläufftig wiedersprechen denen feinden aller kirchenmusiqve welche lieber mit jenem scythen könig ein pferd wiehern als eine schöne kirchenmusiqve hören auch deren einwurff begegnen die da sagen daß bey dem klang der orgel die lieder und texte nicht wol zu vernehmen und es demnach besser sey den blossen choral in der kirchen anzustimmen welche mir in ihrem blinden urtheil so vorkommen wie jener welcher der nachtigall gesang verwarff und des gugucks stimme erhub aus ursachen daß erstgemeldter vogel es gar zu sehr verdrehete dieser hingegen sehr vernehmlich sey allein kurtz zu sagen wir haben uns kein gewissen darüber zu machen sondern sind versichert daß der gott der auff dem berge sinai bey promulgirung des gesetzes zu seiner veherrligung einen thon sehr starcker posaunen hören liesse 2 buch mos cap xix v 16 und unser heyland christus jesus unser gott der auffgefahren mit jauchtzen und der herr mit heller posaune ps xlvii v 6 jhm auch unser posaunenund pfeiffenwerck zu seinem heiligen dienst nicht werde mißfallen lassen wir sind am gegenwärtigen tage dem dreyeinigen gott in aller tieffsten demuth verbunden daß er uns mit einem neuen vollkommenen orgelwerck daran des künstlers hand ein rechtes meisterstück sehen lassen durch beförderung unserer lieben obrigkeit und reichen zuschub gutthätiger hertzen beseeliget hat jn den 3 ersten seculis hatten die ersten christen solche glückseligkeit nicht in ihrer versammlung sondern musten sich in schlechten hütten ja in die höhlen und klüfften der erden mit ihrem stillen gottesdienst verbergen o seelig bist du heute geistliches jsrael dem gott nicht nur seinen willen offenbahret baruch iv 4 sondern solchen offentlichen gottesdienst und ein so schönes werck von sonderbahrer kunst und seltenheit gegönnet und geschencket hat man hielt es vor eine grosse glückseligkeit als anno 1350 die erste orgel in preussen zu thorn verfertiget wurde deren henneberg gedencket daß sie nur 22 pfeiffen gehabt und die bälge daran so wie sonsten in der grobschmiede gezogen worden man rühmet ungemein die orgel im münster zu ulm darin man 3000 pfeiffen zählet wie viel höher haben wir dieses grosse werck zu rühmen darinnen die kunstreiche temperatur welche allhier in keiner orgel zu finden und ein solches neues inventum ist welches die heutigen berühmtesten componisten billig sehr hoch erheben weil ohne verletzung des gehörs aus allen thönen auffs lieblichste kan gespielet werden ach herr so laß uns denn heute fröhlich singen von deinen wercken psalm xcii v 5 bringet her dem herrn ihr gewaltigen bringet her dem herrn ehre und stärcke bringet dem herrn ehre seines nahmens behtet an den herrn im heiligen schmuck psalm xxix v 1 2 last geben das leben der orgelenwerck erreget beweget durch aeolus stärck im greiffen der pfeiffen braucht künstliche wahl last summen und brummen das grobe pedal laß girren und zschirren das vogelgeschrey trompeten corneten posaunen dabey last schreyen schalmeyen die quinten und tertz flöhtdoucen schalmusen bewegen das hertz last euch demnach jhr meine liebsten durch dieses neuerbaute orgelwerck zur heiligen andacht in eurem gottesdienst auffmuntern daß ihr in dem heiligthum des herrn nicht wie die stummen blöcke sitzet sondern wie ihr einen vogelsang in unserer orgel höret euch also in die höhe schwinget vom jrdischen loß reisset und die himmlische music anstimmet gloria in excelsis deo ehre sey gott in der höhe luc ii v 14 lasset das wort christi unter euch reichlich wohnen in aller weißheit lehret und vermahnet euch selbst mit psalmen und lobgesängen und geistlichen lieblichen liedern und singet dem herrn in eurem hertzen coll iii v 16 so offt ihr das sanffte liebliche gethön der cymbelen höret lasset euch zur liebe gottes und seines worts bewegen denn gott der herr hat eben zur erweckung der andacht und liebe zu seinem heilightum schellen und cymbeln an das hohepriesterliche kleid geordnet christus jesus ist selbst das klingende cymbelwerck mit welchem ihr in das allerheiligste müsset eingehen 2 b mos xxviii 35 bedencket ubi sunt gaudia nirgends mehr denn da da die engel singen die nova cantica und die schellen klingen in regis curia eya wärn wir da so wie wir in unserer orgel eine koppel haben bey deren zug man ein clavier rühret und das andere clavier ohne anrühren sich mit beweget und klinget so sey es ferne daß man sich mit losen stricken zusammen koppeln wolte böses zu thun sondern dadurch muß man gerühret werden die liebe gottes und des nechsten auffs genauste zu verbinden im hertzen lasset dieses neue werck euch zur geistlichen freude anreitzen stecket ihr betrübte kinder gottes in schweren bekümmernissen will es euch umb trost bange werden müsset ihr klagen meine harffe ist eine klage worden und meine pfeiffe ein weinen hiob xxx v 31 wenn ich essen soll muß ich seufftzen und mein heulen fährt heraus wie wasser hiob iii v 24 lasset euch das süsse glockenspiel in unserer orgel zeitig und fleißig zum hause gottes locken da der heilige geist durch das honigsüsse wort gottes geistreiche lieder und anmuthige stimme der orgel euer heulendes orgelwerck nemlich das beunruhigte hertz wird zurecht stimmen daß ihr euch freuen werdet im herrn und eure seele fröhlich sein wird in eurem gott es lxi v 10 der heilige geist wird durch die qvinta thöne rauschqvinten füllqvinten scharffqvinten spitzqvinten die fünff wundern jesu in eurem hertzen kräfftig und lebendig machen daß ihr freudig einstimmen werdet weicht ihr trauergeister denn mein freuden meister jesus tritt herein denen die gott lieben muß auch ihr betrüben lauter zucker seyn duld ich schon hier spott und hohn dennoch bleibst du auch im leyde jesu meine freude bedencket aber auch wol daß ihr dadurch nicht zur weltlichen freude angereitzet werde sondern wie ihr den tremulant oder das zitterwerck der orgel höret müst ihr euch auch freuen mit zittern psal ii v 11 mit furcht und zittern schaffen seelig zu werden phil ii 12 will die fleischliche wollust sich in eure geistliche freude mit einmischen und ein verstimmtes schnarrwerck anrichten so mercket bey dem posaunenthon unserer orgel auff die letzte posaune zur aufferstehung und gericht 1 cor xv v 52 und denckt ich höre der posaunenthon und sehe den gerichtstag schon ach gott kein harter schlag des rauhen wetters mag die felsen so erschüttern als dieser thon mein hertz und wär es stahl und ertz ich müst davor erzittern werdet auch ermuntert zum frieden achzig züge zehlet man in unserer schönen orgel mehr als 80 feldzüge müst ihr treuen streiter jesu mit dem teuffel der welt und sünde wagen lasset euch durch die bombarden felddromete tympana schallmei zincken hautbois und waldhörner unserer orgel muhtig machen zum geistlichen streit so offt ich muß in den streit meinen glauben täglich mehr und des geistes schwerdt verehr damit ich den feind kan schlagen alle pfeile von mir jagen hört ihr die rohrflöthe so streitet wieder das thier im rohr welches der herr schilt psalm lxviii v 31 jhr werdet durch die krafft des heiligen geistes einen sieg nach dem andern erhalten und in beständigem frieden mit gott eurem nechsten und eurem gewissen violen und geigen anstimmen im reygen lernet auch in gedult pausiren und wenn die unda maris die künstliche schwebung in unserer orgel gezogen wird welche von der bewegung und schwebung der wellen des meers ihren nahmen führet so seufftzet in eurem leyden gott hilff mir das wasser gehet mir biß an die seele psalm lxix v 2 der heilige geist wird bey eurer angstschwebung die tertze der gedult einstimmen daß euer leyden nicht über die 3te zahl wird kommen nach seiner göttlichen verheissung er macht uns lebendig nach 2 tagen und wird uns am 3ten tage aufrichten daß wir vor ihm leben hos vi v 2 so offt die cymbelsterne sich bewegen so ast sie in euch die freundlichkeit und sanfftmuht erwecken daß jesus der helle morgenstern den die morgensterne mit einander loben in euren hertzen auffgehe und ihr von ihm lernet freundlich sanfftmühtig und demüthig seyn matth xi v 29 wird die qvintupla und decupla an unserer orgel gezogen so werde euer hertz zur güttigkeit und wolthätigkeit gegen den nechsten gereitzet in der hoffnungsvollen versicherung daß gott euer wolthun fünfffach ja zehenfältig vergelten werde unser neuerbautes orgelwerck hat vor allen im lande wohl den vorzug an dem tieffen fundament baßflöthen sub-baß posaunenbaß das errinnert euch des glaubens als des grundes eurer seeligkeit so der rechte basis ist ohne den baß hat das gantze werck kein ansehen so ist auch ohne glauben unmüglich gott zu gefallen hebr xi v 6 tieffer als von 32 fuß ist biß dato noch kein baß erfunden und so gehet er vom untersten grunde herauff so muß der glaube auch aus dem innersten grunde des hertzens gehen und nicht auf den lippen schweben denn gott sieht das hertz an 1 sam xvi v 7 endlich wie wir auch einen jungferchoral in unserm neuen werck hören so last euch dadurch zur keuschheit auffmuntern und bedencket wie ihr einem mann christo jesu anvertraut seyd daß ihr ihm als eine reine jungfrau zugeführet werde 2 cor xi v 2 jhr höret darinnen auch ein nachthorn so vom schlaff pflegt zu wecken und wachsam zu machen so seyd wachsam und wandelt ehrbahrlich als am tage und mäßig nicht in fressen und sauffen in kammern und unzucht denn die nacht ist vergangen und der tag herbey kommen rom xiii v 12 13 es giebt in unserer stattlichen orgel viele hohe pfeiffen als das gembsenhorn die octaven flagioletta und dergleichen mehr so offt ihr derselben feinen klang höret so schwinget euch in eurem gebeth in die höhe durch die wolcekn und schreyet zu gott daß euch sein geist treiben möge denn welche der geist gottes treibet die sind gottes kinder rom viii v 14 der als der rechte finger des allerhöchsten das 3fache clavier eures hertzens nemlich den verstand gedächtniß und willen regieren glaube liebe hoffnung ja hertz mund und hände in eine gott gefällige harmonie einstimmig machet jch dencke auch noch an den tonum fabri in unserer orgel welcher fast klinget als wenn schmiede auff den amboß schlagen und daher den nahmen führet will sich eine geistliche verstimmung in eurem hertzen herfür thun so wolle der heilige geist an euer hertz schlagen und mit dem stimmhammer göttlichen worts dasselbe zurecht stimmen daß ihr bey auffsteigung einer eintzigen bösen lust und begierde zu den wercken des fleisches mit dieser beständigen abweisung fertig und bereit seyn möget noli me tangere jch sehe aber dieses neue orgelwerck an als einen danckaltar davon ich das räuchwerck der erkäntlichkeit nehmen und unter die beförderer desselben als ein opffer anzünden muß der oberstehende adler erinnert mich des mächtigen schutzes des brandenburgischen adlers so wir unter dessen flügeln genossen dancken demnach unserm supremo episcopo und allergnädigsten könige und herrn vor den bißherigen schutz und gnade die er aus göttlicher krafft und seegen über diese unsere kirche und gottesdienst als adlersflügel ausgebreitet kirchen und schulen im lande geschützet und uns heute ein so fröliches danckund einweyhungsfest zu feyren gestattet und vergönnet der herr herr geseegne davor den klang seiner hellgläntzenden waffen und lasse dieselbe mit dem freudund friedenschall der schnitter zur zeit der erndte und der keltertreter zur zeit der weinlese einstimmig seyn er erhalte sein reich und länder in einer löblichen harmonie des friedens er besetze seinen königlichen thron auf die ewige ungestöhrte posterität mit unzähligen und weitmehreren erben als diese stattliche orgel und pfeiffen und lasse uns unter seiner regierung und unter der herrschafft seiner gewaltigen sonderlich der hiesigen herren würcklich geheimbten rähte welche er nebst ihren hohen familien zum seegen und leben setzen wolle ewiglich ein geruhiges und stilles leben führen in aller gottseeligkeit und ehrbahrkeit einem hochweisen raht und dessen preiswürdigstem haupte einem wolweisen gerichte und denen die sich dieses wercks insonderheit angenommen gebühret an dem heutigen tage eine öffentliche dancksagung sie haben bißhero alle löbliche sorge an dieses gottgeweyhete hauß und heiligthum angewandt dasselbige in guten stand und auffnehmen zu setzen und zu erhalten und sich nunmehro ein unverwelckliches gedächtniß an diesem grossen neuerbauten werck gestifftet der herr dencke davor an euch und seegne euch er geseegne euch jemehr und mehr euch und eure kinder daß ihr seyd die geseegneten des herrn der himmel und erden gemacht hat psalm cxv v 12 14 15 so wie der wind die pfeiffen darinnen lebendig machet so erfülle der odem des allmächtigen ihre seelen mit neuer krafft und leben der herr thue leben und wolthaten an euch und sein auffsehen bewahre euren odem hiob x v 12 jhr habt gottes stelle hierbey verwaltet auf erden der dieses gantze weltgebäude und die darin befindliche stände als ein anmuhtiges orgelwerck zubereitet darin die grossen und kleinen pfeiffen ich meyne reiche und arme in richtiger ordnung und harmonie zusammen gesetzet so muß euch dieses orgelwerck zu einer ehrenpforte gedeyen welche eure nahmen der späten nachwelt wird kund thun und wie diese orgel jetzt vor euren ohren einen lieblichen schall hören läst so wird sie nach eurem gott gebe späten tode einen schönen nachklang von eurem eiffer treue und sorge vor das hauß und ehre gottes nachstimmen biß euch dorten an jenem tage öffentlich lob wiederfahren wird 1 cor iv v 5 habt danck ihr sorgfältige herren kirchenvorsteher vor eure unverdrossene mühe und auffsicht habt danck ihr geehrten zünffte der herren kauffleute und mältzenbräuer habt danck ihr löblichen gewercke und alle wolthätige hertzen solche waren zu selbiger zeit titularius herr wilhelm grap titularius herr heinrich schultz titularius herr christian paulsen die ihr eure freygebigkeit in diesen schweren dürfftigen zeiten bey diesem stattlichen werck rühmlich habt sehen lassen und durch eure wolthätigkeit dasselbe befördert jhr habt den herrn geehret von eurem gut sprüchw salom iii v 9 gott ehre euch und die eurigen mit seiner gnade und sättige euch mit den reichen gütern seines hauses er erfülle an euch den ausspruch eines vornehmen lehrers unserer kirchen was man auff kirchen und schule wendet schüttet man christo in den schooß gott vergelte euch diese wolthat und euer lohn müsse groß seyn für dem herrn eurem gott ruth ii 12 der herr gebe euch ein fröliches hertz thue euch alles gutes und verleihe euch immerdar friede sonderlich zum auffnehmen des handels und wandels und lasse seine gnade stets bey euch bleiben und erlöse euch so lange ihr lebet syrach l v 25 26 habt insonderheit danck ihr wehrteste beyde herren gebrüdere † die ihr das schöne glockenspiel zu diesem werck verehret und mit vieler sorge und unkosten verschrieben jhr gebt durch eure einträchtigkeit ein feines liebliches exempel in unserer gemeine denn siehe wie fein beyderseits vornehme und wolbeglückte kauffund handelsleute im kneiphoff und lieblich ists daß brüder einträchtig bey einander wohnen so belohne auch der herr die harmonie eurer wolthätigkeit mit seegen und leben immer und ewiglich psalm cxxxiii v 1 3 jch vergesse auch nicht denen ehre und danck abzustatten die dieses wolklingende werck zu verfertigen einzustimmen abzumessen und einzurichten sich keiner mühe haben verdrüssen lassen zeige davor herr diesen deinen knechten weiter deine wercke und deine ehre ihren kindern und fördere das werck eurer hände bey euch ja das werck eurer hände wolle er fördern ps xc v 16 17 endlich da einige das wort orgel von οργιὰζωμαι rem divinam facio eine sache gott heiligen und weyhen so werden wir uns nicht lange bedencken wem wir dieses neuerbaute werck zueignen jener kunstreiche meister zu neapolis gieng lange zu raht wem er sein schön verfertigtes orgelwerck schencken wolte biß er es endlich dem hertzog von mantua überschickte wir übergeben dieselbige dem dreyeinigen gott vater sohn und heiligen geist zu seinem heiligen lob und ehren wir erkennen o herr zebaoth vor dem alle kinder gottes jauchtzen hiob xxxviii v 7 deine unverdiente gnade und wolthat die du uns bißher nicht nur in dem freyen öffentlichen religions exer- citio erwiesen dein wort und den gebrauch der heiligen sacramenten als unseres hertzens freude und trost jerem xv v 16 rein und unverfälscht erhalten sondern auch zur erweckung mehrerer andacht dieses unser gotteshauß mit einem recht seltenen grossen werck bezieret ach herr wie die himmel erzehlen deine ehre und die veste verkündiget deiner hände werck psalm xix v 2 so erzehlet auch diese hocherhabene orgel am kirchenhimmel mit lieblichem schalle deine ehre und verkündiget dein werck mit freuden wir hätten mit unserm undanck gegen dein wort und hauß wohl verdienet daß du unsere musiqve und freudengesänge aus unserm tempel wegnehmest die rohrdommel und jgel wohnen solten auf unsern thürmen und die knaben singen auf den balcken zeph ii 14 aber du lässest uns dennoch durch dieses neue orgelwerck freude und wonne hören daß die gebeine frölich werden die du fast zerschlagen hast ps li 10 wir hätten verdienet daß du das starcke pedal deines zorns mit spielen uns zeitlich und ewig mit füssen treten und ein ewiges heulen und zähnklappen erwecken möchtest matth xxii 13 aber du brauchst das manual deiner barmhertzigkeit und streckest annoch beyde hände nach einem ungehorsahmen volck aus esaiae lxv v 2 du thust deine gnadenhand gegen uns auff und sättigest alles was lebet mit wolgefallen psal cxlv v 16 nun herr wir wollen deinem nahmmen lobsingen so lange wir hier seyn psalm civ 33 laß doch diese lobschallende creatur künfftighin nicht durch mißbrauch in ängstliches seufftzen verwandeln und der eitelkeit ohne ihren willen unterworffen werden rom viii 19 20 laß kein zug kein register keine pfeiffe keine stimme darinnen seyn welche nicht künfftig zu deinen ehren und erweckung der früchte des geistes in uns das jhrige beytragen möge laß bey den liedern auff diesem höhern chor sich keine plauderer einfinden welche die spielleute irren und wenn man lieder singet dreinwaschen sondern ihre weißheit spahren biß zur andern zeit syrach xxxii v 5 6 ach herr der du uns ausführest wie ein adler seine jungen und über ihnen schwebet 5 buch mos xxxii v 11 breite deine fittige aus über dieses neue werck und laß doch alles unglück feuer brand krieg und entzündende donnerschläge gnädig abgewandt seyn breite o gott über dieselbe deine güte aus und über alle die dich kennen und deine gerechtigkeit über die frommen psalm xxxvi v 5 damit unsere reygen niemahls in klage verwandelt werden laß mose und aaron und alle glieder unserer obrigkeit in lieblicher harmonie und unverrückter verfassung wie die pfeiffen in der orgel beysammen stehen bewahre uns vor zerrüttung und mißhelligkeit in allen ständen und laß uns einmühtiglich mit einem munde loben dich gott und den vater unsers herrn jesu christi und laß uns unter einander auffnehmen gleich wie uns christus hat aufgenommen zu gottes lobe rom xv 6 7 solten auch unsere hertzen nach deinem heiligen raht mit creutzessteinen wie die bälge in der orgel beschweret werden sub pondere melos laß deinen heiligen geist uns desto reichlicher deinen trost einblasen dich desto freudiger wie eine nachtigal unter dem ungewitter zu loben und zu verherrligen und wie es vornehmlich in dem kirchenklang auff das final ankommt daran man den thon erkennet woraus das gantze kunststück gegangen so laß uns auch endlich ein fertiges final erlangen daß wenn es noch so seltsahm in unserem leben unter einander klinget das ende dannoch im tode gut seyn möge transponire alsdenn unsere seelen in das chor der heiligen engel laß uns freudig hören die letzte posaune mit welcher uns jesus aus der erden erwecken wird führe alsdenn unsern verklärten leib in das himmlische lobethal da der heiligen zwölff bohten zahl und die lieben propheten all die theuren märtrer allzumahl dich loben herr mit grossem schall ach laß uns daselbst das lied des lammes singen mit den seraphinen prangen und das hohe lied anfangen heilig heilig heilig heist gott der vater sohn und geist lobet den herrn in seinem heiligthum lobet ihn in der veste seiner macht lobet ihn in seinen thaten lobet ihn in seiner grossen herrlichkeit lobet ihn mit posaunen lobet ihn mit psalter und harffen lobet ihm mit paucken und reigen lobet ihn mit säyten und pfeiffen lobet ihn mit hellen cymbeln lobet ihn mit wohlklingenden cymbeln alles was odem hat lobe den herrn halleluja vater unser etc'"
      ]
     },
     "execution_count": 100,
     "metadata": {},
     "output_type": "execute_result"
    }
   ],
   "source": [
    "sermon_combined"
   ]
  },
  {
   "cell_type": "code",
   "execution_count": 181,
   "id": "f1ff1a2a",
   "metadata": {},
   "outputs": [],
   "source": [
    "n = 4\n",
    "ngrams_sermon = create_ngrams(sermon_combined, n)\n",
    "ngrams_quote = create_ngrams(quote, n)\n"
   ]
  },
  {
   "cell_type": "code",
   "execution_count": 182,
   "id": "0e5c6cba",
   "metadata": {},
   "outputs": [
    {
     "data": {
      "text/plain": [
       "[('4', 'ich', 'here', 'der'),\n",
       " ('ich', 'here', 'der', 'posaunen'),\n",
       " ('here', 'der', 'posaunen', 'thon'),\n",
       " ('der', 'posaunen', 'thon', 'und'),\n",
       " ('posaunen', 'thon', 'und', 'seh'),\n",
       " ('thon', 'und', 'seh', 'auch'),\n",
       " ('und', 'seh', 'auch', 'den'),\n",
       " ('seh', 'auch', 'den', 'gerichts'),\n",
       " ('auch', 'den', 'gerichts', 'tag'),\n",
       " ('den', 'gerichts', 'tag', 'schon'),\n",
       " ('gerichts', 'tag', 'schon', 'der'),\n",
       " ('tag', 'schon', 'der', 'mir'),\n",
       " ('schon', 'der', 'mir', 'auch'),\n",
       " ('der', 'mir', 'auch', 'wird'),\n",
       " ('mir', 'auch', 'wird', 'ein'),\n",
       " ('auch', 'wird', 'ein', 'urtheil'),\n",
       " ('wird', 'ein', 'urtheil', 'fallen'),\n",
       " ('ein', 'urtheil', 'fallen', 'hier'),\n",
       " ('urtheil', 'fallen', 'hier', 'weiset'),\n",
       " ('fallen', 'hier', 'weiset', 'mein'),\n",
       " ('hier', 'weiset', 'mein', 'gewissensbuch'),\n",
       " ('weiset', 'mein', 'gewissensbuch', 'da'),\n",
       " ('mein', 'gewissensbuch', 'da', 'aber'),\n",
       " ('gewissensbuch', 'da', 'aber', 'des'),\n",
       " ('da', 'aber', 'des', 'gesekes'),\n",
       " ('aber', 'des', 'gesekes', 'fluch'),\n",
       " ('des', 'gesekes', 'fluch', 'michsundenkind'),\n",
       " ('gesekes', 'fluch', 'michsundenkind', 'hinab'),\n",
       " ('fluch', 'michsundenkind', 'hinab', 'zurhöllen'),\n",
       " ('michsundenkind', 'hinab', 'zurhöllen', 'da'),\n",
       " ('hinab', 'zurhöllen', 'da', 'wo'),\n",
       " ('zurhöllen', 'da', 'wo', 'man'),\n",
       " ('da', 'wo', 'man', 'ewig'),\n",
       " ('wo', 'man', 'ewig', 'ewig'),\n",
       " ('man', 'ewig', 'ewig', 'leidt'),\n",
       " ('ewig', 'ewig', 'leidt', 'mord'),\n",
       " ('ewig', 'leidt', 'mord', 'jammer'),\n",
       " ('leidt', 'mord', 'jammer', 'angst'),\n",
       " ('mord', 'jammer', 'angst', 'und'),\n",
       " ('jammer', 'angst', 'und', 'zeter'),\n",
       " ('angst', 'und', 'zeter', 'schreyt')]"
      ]
     },
     "execution_count": 182,
     "metadata": {},
     "output_type": "execute_result"
    }
   ],
   "source": [
    "ngrams_quote"
   ]
  },
  {
   "cell_type": "code",
   "execution_count": 183,
   "id": "37940392",
   "metadata": {},
   "outputs": [],
   "source": [
    "def search_ngrams(needle, haystack):\n",
    "    matches = []\n",
    "    for ngram in haystack:\n",
    "        if ngram in needle:\n",
    "            matches.append(ngram)\n",
    "    return matches"
   ]
  },
  {
   "cell_type": "code",
   "execution_count": 247,
   "id": "a2ccd880",
   "metadata": {},
   "outputs": [],
   "source": [
    "def search_ngrams_fuzzy(needle, haystack, threshold=80):\n",
    "    matches = []\n",
    "    for i in range(len(haystack)):\n",
    "        for ngram_a in needle:\n",
    "            if fuzzy_match(ngram_a, haystack[i], threshold):\n",
    "                matches.append(haystack[i])\n",
    "                break  # Stop searching once a match is found\n",
    "    return matches"
   ]
  },
  {
   "cell_type": "code",
   "execution_count": 178,
   "id": "2142be9f",
   "metadata": {},
   "outputs": [],
   "source": [
    "def fuzzy_match(needle, haystack, threshold=80):\n",
    "    needle_str = ' '.join(needle)\n",
    "    haystack_str = ' '.join(haystack)\n",
    "    sim_score = fuzz.ratio(needle_str, haystack_str)\n",
    "    return sim_score >= threshold"
   ]
  },
  {
   "cell_type": "code",
   "execution_count": 167,
   "id": "81d48e16",
   "metadata": {},
   "outputs": [],
   "source": [
    "def search_ngrams_combined(needle,haystack,threshold=80):\n",
    "    matches_exact = search_ngrams(needle, haystack)\n",
    "    if len(matches_exact) > 0:\n",
    "        return matches_exact\n",
    "    else:\n",
    "        return search_ngrams_fuzzy(needle, haystack, threshold)\n",
    "        \n"
   ]
  },
  {
   "cell_type": "code",
   "execution_count": 211,
   "id": "4cef7a01",
   "metadata": {},
   "outputs": [],
   "source": [
    "from concurrent.futures import ThreadPoolExecutor"
   ]
  },
  {
   "cell_type": "code",
   "execution_count": null,
   "id": "822ca01f",
   "metadata": {},
   "outputs": [],
   "source": [
    "import marisa_trie"
   ]
  },
  {
   "cell_type": "code",
   "execution_count": 172,
   "id": "bac1b3c0",
   "metadata": {},
   "outputs": [],
   "source": [
    "def build_trie(ngrams):\n",
    "    ngram_strings = [' '.join(ngram) for ngram in ngrams]\n",
    "    return marisa_trie.Trie(ngram_strings)"
   ]
  },
  {
   "cell_type": "code",
   "execution_count": 173,
   "id": "222b42a4",
   "metadata": {},
   "outputs": [],
   "source": [
    "def search_trie(trie, ngram):\n",
    "    ngram_str = ' '.join(ngram)\n",
    "    return ngram_str in trie"
   ]
  },
  {
   "cell_type": "code",
   "execution_count": 179,
   "id": "e63af264",
   "metadata": {},
   "outputs": [],
   "source": [
    "def search_ngrams_with_trie(needle, haystack, threshold=80):\n",
    "    matches = []\n",
    "    trie_a = build_trie(needle)\n",
    "\n",
    "    for ngram_b in haystack:\n",
    "        ngram_b_str = ' '.join(ngram_b)\n",
    "        if ngram_b_str in trie_a:\n",
    "            matches.append(ngram_b)\n",
    "        else:\n",
    "            for ngram_a in trie_a.keys():\n",
    "                ngram_a_tuple = tuple(ngram_a.split())\n",
    "                if fuzzy_match(ngram_a_tuple, ngram_b, threshold):\n",
    "                    matches.append(ngram_b)\n",
    "                    break\n",
    "    return matches"
   ]
  },
  {
   "cell_type": "code",
   "execution_count": 185,
   "id": "405e80c4",
   "metadata": {},
   "outputs": [
    {
     "data": {
      "text/plain": [
       "[]"
      ]
     },
     "execution_count": 185,
     "metadata": {},
     "output_type": "execute_result"
    }
   ],
   "source": [
    "found_ngrams = search_ngrams(ngrams_quote, ngrams_sermon)\n",
    "found_ngrams"
   ]
  },
  {
   "cell_type": "code",
   "execution_count": 186,
   "id": "d28567a5",
   "metadata": {},
   "outputs": [
    {
     "data": {
      "text/plain": [
       "'ich höre der posaunenthon und sehe den gerichtstag schon ach'"
      ]
     },
     "execution_count": 186,
     "metadata": {},
     "output_type": "execute_result"
    }
   ],
   "source": [
    "found_ngrams_fuzzy = search_ngrams_fuzzy(ngrams_quote, ngrams_sermon)\n",
    "ngrams_to_text(found_ngrams_fuzzy)"
   ]
  },
  {
   "cell_type": "code",
   "execution_count": 227,
   "id": "8344d69c",
   "metadata": {},
   "outputs": [],
   "source": [
    "with open('source_texts/praxis_pietatis_melica/1057.txt', 'r') as f:\n",
    "    page = f.read()"
   ]
  },
  {
   "cell_type": "code",
   "execution_count": 228,
   "id": "2e9ab001",
   "metadata": {},
   "outputs": [
    {
     "data": {
      "text/plain": [
       "'sterbegesange 1015 in die posaune stoffen so sol dann seel und leib zugleich mit dir in deines vaters reich zu deiner freud eingehen 10 ists nun dein will so stell dich ein mich selig zu verseken ach ewig bey und mit dir seyn wie hoch muß das ergohen eröffne dich du todes pfort auf daß an solchen schönen ort jch durch dich mige fahren paul gerb 948 bin ja herr in deiner macht du hast mich an das licht gebracht du unterhältst mir auch das leben du kennest meiner monden zahl weist wann ich diesem jammerthal auch wieder gute kacht muß geben wo wie und wan ich sterben so das weift du vater mehr als wol 2 wen hab ich nun als dich allein der mir in meiner lekten pein mit trost und rath weiß beyzu springen  wer nimmt sich meiner seelen an wann nun mein leben nichts mehr kan und ich muß mit dem tode ringen wann aller sinnen krafft ge bricht  thuft dues gott mein heyland nicht  3 mich dunckt da lieg ich schon vor mir in grof fer hitz ohn krafft und zier mit höchster herkens angst befallen gehör und rede nehmen ab die augen werden mir ein grab  doch kranckt die sunde mich für allen des satans anklag hat nicht ruh sekt mir auch mit versuchung zu 4 ich here der posaunen thon und seh auch den gerichts tag schon der mir auch wird ein urtheil fallen hier weiset mein gewissens buch da aber des gesekes fluch michsundenkind hinab zur höl len da wo man ewig ewig leidt mord jammer angst und zeter schreyt uu 45 kein'"
      ]
     },
     "execution_count": 228,
     "metadata": {},
     "output_type": "execute_result"
    }
   ],
   "source": [
    "page = prepare_text(page)\n",
    "page"
   ]
  },
  {
   "cell_type": "code",
   "execution_count": 229,
   "id": "93c84a70",
   "metadata": {},
   "outputs": [],
   "source": [
    "ngrams_page = create_ngrams(page, n)"
   ]
  },
  {
   "cell_type": "code",
   "execution_count": 232,
   "id": "acb4b903",
   "metadata": {},
   "outputs": [],
   "source": [
    "ngrams_sermon_copy = ngrams_sermon"
   ]
  },
  {
   "cell_type": "code",
   "execution_count": 248,
   "id": "b95c57de",
   "metadata": {},
   "outputs": [
    {
     "data": {
      "text/plain": [
       "[('ich', 'höre', 'der', 'posaunenthon', 'und'),\n",
       " ('der', 'posaunenthon', 'und', 'sehe', 'den'),\n",
       " ('sehe', 'den', 'gerichtstag', 'schon', 'ach')]"
      ]
     },
     "execution_count": 248,
     "metadata": {},
     "output_type": "execute_result"
    }
   ],
   "source": [
    "found_ngrams = search_ngrams_fuzzy(ngrams_page, ngrams_sermon, 80)\n",
    "found_ngrams"
   ]
  },
  {
   "cell_type": "code",
   "execution_count": 241,
   "id": "42f3b729",
   "metadata": {},
   "outputs": [],
   "source": [
    "def search_sermon_for_songquotes(ngrams_pages, ngrams_sermon, threshold=80):\n",
    "    matches = []\n",
    "    for page in ngrams_pages:\n",
    "        for i in range(len(ngrams_sermon)):\n",
    "            for ngram_a in page:\n",
    "                if fuzzy_match(ngram_a, ngrams_sermon[i], threshold):\n",
    "                    print(ngrams_sermon[i])\n",
    "                    matches.append(ngrams_sermon[i])\n",
    "                    #ngrams_sermon.pop(i)\n",
    "                    break  # Stop searching once a match is found\n",
    "    return matches"
   ]
  },
  {
   "cell_type": "code",
   "execution_count": 242,
   "id": "9ba05d88",
   "metadata": {},
   "outputs": [
    {
     "data": {
      "text/plain": [
       "[]"
      ]
     },
     "execution_count": 242,
     "metadata": {},
     "output_type": "execute_result"
    }
   ],
   "source": [
    "search_sermon_for_songquotes([page], ngrams_sermon_copy, 90)"
   ]
  },
  {
   "cell_type": "code",
   "execution_count": 194,
   "id": "2dd2b596",
   "metadata": {},
   "outputs": [],
   "source": [
    "import json"
   ]
  },
  {
   "cell_type": "code",
   "execution_count": 200,
   "id": "e552fdee",
   "metadata": {},
   "outputs": [
    {
     "name": "stdout",
     "output_type": "stream",
     "text": [
      "['E100022', 'E100140', 'E100139', 'E100138', 'E100057', 'E100132', 'E100141', 'E100078', 'E100134', 'E100067', 'E100017']\n",
      "[['E100022', '740'], ['E100022', '741'], ['E100138', '1057'], ['E100138', '1058'], ['E100057', '608'], ['E100057', '609'], ['E100132', '226'], ['E100132', '227'], ['E100141', '650'], ['E100141', '651'], ['E100078', '642'], ['E100078', '643'], ['E100134', '1039'], ['E100134', '1040'], ['E100067', '925'], ['E100067', '926'], ['E100017', '434'], ['E100017', '435']]\n"
     ]
    }
   ],
   "source": [
    "known_song_quotes = list(set([q for q in sermon.all_references if q.startswith('E10')]))\n",
    "print(known_song_quotes)\n",
    "with open('songs_to_pages_mapping.json') as f:\n",
    "    songbook_pages = json.load(f)\n",
    "\n",
    "relevant_pages = []\n",
    "for i in known_song_quotes:\n",
    "    page = songbook_pages[i]['pages']\n",
    "    if page != '':\n",
    "        page = str(int(page) + 42)          # add 42 to offset prefatory matter in scans\n",
    "        add_page = str(int(page) + 1)\n",
    "        relevant_pages.append([i, page])\n",
    "        relevant_pages.append([i, add_page])\n",
    "print(relevant_pages)"
   ]
  },
  {
   "cell_type": "code",
   "execution_count": 201,
   "id": "c80311b0",
   "metadata": {},
   "outputs": [],
   "source": [
    "def ngrams_to_text(ngrams):\n",
    "    text = []\n",
    "    for i in range(0, len(ngrams)):\n",
    "        if i == 0:\n",
    "            text += list(ngrams[i])\n",
    "        else:\n",
    "            text.append(list(ngrams[i])[-1])\n",
    "    return ' '.join(text)\n"
   ]
  },
  {
   "cell_type": "markdown",
   "id": "11e953ae",
   "metadata": {},
   "source": [
    "# Searching for quotes in known pages with exact 4-gram matches"
   ]
  },
  {
   "cell_type": "code",
   "execution_count": 206,
   "id": "9871a577",
   "metadata": {},
   "outputs": [
    {
     "name": "stdout",
     "output_type": "stream",
     "text": [
      "=== No N-Grams found on page 740 ===\n",
      "=== Found N-Grams on page 741 ===\n",
      "Source: Nicolai, Philipp: Wie schön leuchtet der Morgenstern\n",
      "\"in steter liebe wallen\"\n",
      "=== No N-Grams found on page 1057 ===\n",
      "=== No N-Grams found on page 1058 ===\n",
      "=== Found N-Grams on page 608 ===\n",
      "Source: anonym: Herr Jesu Christ, dich zu uns wend\n",
      "\"mund zum lobe dein mehr stärck den verstand daß uns dein\"\n",
      "=== No N-Grams found on page 609 ===\n",
      "=== No N-Grams found on page 226 ===\n",
      "=== Found N-Grams on page 227 ===\n",
      "Source: N.N.: Treuer Gott ich muß dir klagen\n",
      "\"in den streit meinen glauben täglich mehr damit ich den feind kan schlagen alle pfeile von mir jagen\"\n",
      "=== No N-Grams found on page 650 ===\n",
      "=== Found N-Grams on page 651 ===\n",
      "Source: N.N.: Herr, dir trau ich all mein Tage\n",
      "\"soll dir allzeit bringen meine zunge\"\n",
      "=== Found N-Grams on page 642 ===\n",
      "Source: N.N.: Herr Gott, dich loben wir\n",
      "\"zahl und die lieben propheten all die theuren märtrer schall\"\n",
      "=== No N-Grams found on page 643 ===\n",
      "=== No N-Grams found on page 1039 ===\n",
      "=== Found N-Grams on page 1040 ===\n",
      "Source: Anton, Christoph ; Hintze, Jacob: Alle Menschen müssen sterben\n",
      "\"seraphinen prangen und das hohe lied anfangen heilig heilig heilig und geist\"\n",
      "=== No N-Grams found on page 925 ===\n",
      "=== Found N-Grams on page 926 ===\n",
      "Source: Crüger, Johann: Jesu, meine Freude\n",
      "\"denen die gott lieben meister jesus lieben muß auch ihr betrüben lauter zucker seyn duld ich schon dennoch bleibst du auch im\"\n",
      "=== No N-Grams found on page 434 ===\n",
      "=== Found N-Grams on page 435 ===\n",
      "Source: anonym: In dulci jubilo\n",
      "\"mehr denn da da die engel die schellen klingen in regis curia eya\"\n",
      "Total number of quotes of at least 4 words found: 8\n"
     ]
    }
   ],
   "source": [
    "total_quotes = 0\n",
    "\n",
    "for id, pagenr in relevant_pages:\n",
    "    with open(f'source_texts/praxis_pietatis_melica/{pagenr}.txt', 'r') as f:\n",
    "        page = f.read()\n",
    "    page = prepare_text(page)\n",
    "    ngrams_page = create_ngrams(page, n)\n",
    "    found_ngrams = search_ngrams(ngrams_page, ngrams_sermon)\n",
    "    #found_ngrams = search_ngrams_with_trie(ngrams_page, ngrams_sermon,90)\n",
    "    if len(found_ngrams) > 0:\n",
    "        print(f\"=== Found N-Grams on page {pagenr} ===\")\n",
    "        print(f\"Source: {oa.get_short_info(id)}\")\n",
    "        print(f'\"{ngrams_to_text(found_ngrams)}\"')\n",
    "        total_quotes += 1\n",
    "    else:\n",
    "        print(f\"=== No N-Grams found on page {pagenr} ===\")\n",
    "\n",
    "print(f\"Total number of quotes of at least {n} words found: {total_quotes}\")"
   ]
  },
  {
   "cell_type": "markdown",
   "id": "350fa14c",
   "metadata": {},
   "source": [
    "# Searching for quotes in known pages with fuzzy search"
   ]
  },
  {
   "cell_type": "code",
   "execution_count": 225,
   "id": "25d45f4c",
   "metadata": {},
   "outputs": [
    {
     "name": "stdout",
     "output_type": "stream",
     "text": [
      "=== No N-Grams found on page 740 ===\n",
      "=== Found N-Grams on page 741 ===\n",
      "Source: Nicolai, Philipp: Wie schön leuchtet der Morgenstern\n",
      "\"in cithara und last die süsse erschallen daß ich möge liebe wallen\"\n",
      "=== No N-Grams found on page 1057 ===\n",
      "=== No N-Grams found on page 1058 ===\n",
      "=== Found N-Grams on page 608 ===\n",
      "Source: anonym: Herr Jesu Christ, dich zu uns wend\n",
      "\"fein den glauben mehr stärck den verstand daß uns dein nahm\"\n",
      "=== No N-Grams found on page 609 ===\n",
      "=== No N-Grams found on page 226 ===\n",
      "=== Found N-Grams on page 227 ===\n",
      "Source: N.N.: Treuer Gott ich muß dir klagen\n",
      "\"so offt ich muß in den streit meinen glauben täglich mehr damit ich den feind kan schlagen alle pfeile von mir jagen\"\n",
      "=== No N-Grams found on page 650 ===\n",
      "=== Found N-Grams on page 651 ===\n",
      "Source: N.N.: Herr, dir trau ich all mein Tage\n",
      "\"mein hertz soll dir allzeit bringen deines meine zunge singen jch\"\n",
      "=== Found N-Grams on page 642 ===\n",
      "Source: N.N.: Herr Gott, dich loben wir\n",
      "\"der heiligen zwölff bohten zahl und propheten all die theuren märtrer allzumahl\"\n",
      "=== No N-Grams found on page 643 ===\n",
      "=== No N-Grams found on page 1039 ===\n",
      "=== Found N-Grams on page 1040 ===\n",
      "Source: Anton, Christoph ; Hintze, Jacob: Alle Menschen müssen sterben\n",
      "\"heilig heilig heilig ist gott der das hohe lied anfangen heilig heilig heilig heist gott der vater sohn und geist\"\n",
      "=== No N-Grams found on page 925 ===\n",
      "=== Found N-Grams on page 926 ===\n",
      "Source: Crüger, Johann: Jesu, meine Freude\n",
      "\"weicht ihr trauergeister denn mein freuden meister jesus tritt herein denen die gott lieben muß auch ihr betrüben lauter zucker seyn duld ich schon hier spott und hohn dennoch bleibst du auch im leyde jesu meine freude\"\n",
      "=== No N-Grams found on page 434 ===\n",
      "=== Found N-Grams on page 435 ===\n",
      "Source: anonym: In dulci jubilo\n",
      "\"ubi sunt gaudia nirgends mehr denn da da die engel singen die schellen klingen in regis curia eya wärn wir da\"\n",
      "Total number of quotes of at least 5 words found: 8\n"
     ]
    }
   ],
   "source": [
    "total_quotes = 0\n",
    "n = 5\n",
    "\n",
    "ngrams_sermon = create_ngrams(sermon_combined, n)\n",
    "\n",
    "for id, pagenr in relevant_pages:\n",
    "    with open(f'source_texts/praxis_pietatis_melica/{pagenr}.txt', 'r') as f:\n",
    "        page = f.read()\n",
    "    page = prepare_text(page)\n",
    "    ngrams_page = create_ngrams(page, n)\n",
    "    #found_ngrams = search_ngrams(ngrams_page, ngrams_sermon)\n",
    "    found_ngrams = search_ngrams_fuzzy(ngrams_page, ngrams_sermon,90)\n",
    "    if len(found_ngrams) > 0:\n",
    "        print(f\"=== Found N-Grams on page {pagenr} ===\")\n",
    "        print(f\"Source: {oa.get_short_info(id)}\")\n",
    "        print(f'\"{ngrams_to_text(found_ngrams)}\"')\n",
    "        total_quotes += 1\n",
    "    else:\n",
    "        print(f\"=== No N-Grams found on page {pagenr} ===\")\n",
    "\n",
    "print(f\"Total number of quotes of at least {n} words found: {total_quotes}\")"
   ]
  },
  {
   "cell_type": "markdown",
   "id": "cf9485b3",
   "metadata": {},
   "source": [
    "# Searching for quotes in all pages with exact 4-gram matches"
   ]
  },
  {
   "cell_type": "code",
   "execution_count": 217,
   "id": "0ae2e41a",
   "metadata": {},
   "outputs": [
    {
     "name": "stdout",
     "output_type": "stream",
     "text": [
      "=== Found N-Grams on page 43 ===\n",
      "\"uns zeitlich und ewig\"\n",
      "=== Found N-Grams on page 59 ===\n",
      "\"sey gott in der höhe\"\n",
      "=== Found N-Grams on page 73 ===\n",
      "\"gott vater sohn und\"\n",
      "=== Found N-Grams on page 83 ===\n",
      "\"gott vater sohn und\"\n",
      "=== Found N-Grams on page 150 ===\n",
      "\"gott vater sohn und\"\n",
      "=== Found N-Grams on page 212 ===\n",
      "\"und wonne hören daß die\"\n",
      "=== Found N-Grams on page 219 ===\n",
      "\"gott vater sohn und\"\n",
      "=== Found N-Grams on page 227 ===\n",
      "\"in den streit meinen glauben täglich mehr damit ich den feind kan schlagen alle pfeile von mir jagen\"\n",
      "=== Found N-Grams on page 271 ===\n",
      "\"wie der wind die\"\n",
      "=== Found N-Grams on page 407 ===\n",
      "\"da die engel singen klingen\"\n",
      "=== Found N-Grams on page 416 ===\n",
      "\"gott in der höhe\"\n",
      "=== Found N-Grams on page 424 ===\n",
      "\"weg von mir das\"\n",
      "=== Found N-Grams on page 425 ===\n",
      "\"gott der herr und\"\n",
      "=== Found N-Grams on page 435 ===\n",
      "\"mehr denn da da die engel die schellen klingen in regis curia eya\"\n",
      "=== Found N-Grams on page 564 ===\n",
      "\"in acht zu nehmen\"\n",
      "=== Found N-Grams on page 608 ===\n",
      "\"mund zum lobe dein mehr stärck den verstand daß uns dein\"\n",
      "=== Found N-Grams on page 629 ===\n",
      "\"gott vater sohn und\"\n",
      "=== Found N-Grams on page 630 ===\n",
      "\"gott vater sohn und\"\n",
      "=== Found N-Grams on page 642 ===\n",
      "\"zahl und die lieben propheten all die theuren märtrer schall\"\n",
      "=== Found N-Grams on page 651 ===\n",
      "\"soll dir allzeit bringen meine zunge\"\n",
      "=== Found N-Grams on page 652 ===\n",
      "\"sing und klinge deine treue\"\n",
      "=== Found N-Grams on page 682 ===\n",
      "\"alles was odem hat hat\"\n",
      "=== Found N-Grams on page 691 ===\n",
      "\"ihn in seinen thaten thaten\"\n",
      "=== Found N-Grams on page 704 ===\n",
      "\"gott vater sohn und\"\n",
      "=== Found N-Grams on page 741 ===\n",
      "\"in steter liebe wallen\"\n",
      "=== Found N-Grams on page 841 ===\n",
      "\"gott dem herrn der\"\n",
      "=== Found N-Grams on page 878 ===\n",
      "\"gott der herr hat\"\n",
      "=== Found N-Grams on page 901 ===\n",
      "\"gott der heilige geist\"\n",
      "=== Found N-Grams on page 917 ===\n",
      "\"gottes und des nechsten\"\n",
      "=== Found N-Grams on page 926 ===\n",
      "\"denen die gott lieben meister jesus lieben muß auch ihr betrüben lauter zucker seyn duld ich schon dennoch bleibst du auch im\"\n",
      "=== Found N-Grams on page 946 ===\n",
      "\"hier in der welt\"\n",
      "=== Found N-Grams on page 1019 ===\n",
      "\"wie der wind die\"\n",
      "=== Found N-Grams on page 1040 ===\n",
      "\"seraphinen prangen und das hohe lied anfangen heilig heilig heilig und geist\"\n",
      "=== Found N-Grams on page 1050 ===\n",
      "\"ist doch nur ein\"\n",
      "=== Found N-Grams on page 1066 ===\n",
      "\"heilig heilig heilig ist\"\n",
      "=== Found N-Grams on page 1124 ===\n",
      "\"fleisch und blut zu\"\n",
      "=== Found N-Grams on page 1181 ===\n",
      "\"durch glauben und gedult\"\n",
      "Total number of quotes of at least 4 words found: 37\n"
     ]
    }
   ],
   "source": [
    "total_quotes = 0\n",
    "n = 4\n",
    "\n",
    "for i in range(42, 1290):\n",
    "    with open(f'source_texts/praxis_pietatis_melica/{i}.txt', 'r') as f:\n",
    "        page = f.read()\n",
    "    page = prepare_text(page)\n",
    "    ngrams_page = create_ngrams(page, n)\n",
    "    found_ngrams = search_ngrams(ngrams_page, ngrams_sermon)\n",
    "    #found_ngrams = search_ngrams_with_trie(ngrams_page, ngrams_sermon,90)\n",
    "    if len(found_ngrams) > 0:\n",
    "        print(f\"=== Found N-Grams on page {i} ===\")\n",
    "        print(f'\"{ngrams_to_text(found_ngrams)}\"')\n",
    "        total_quotes += 1\n",
    "\n",
    "print(f\"Total number of quotes of at least {n} words found: {total_quotes}\")"
   ]
  },
  {
   "cell_type": "markdown",
   "id": "0368edf3",
   "metadata": {},
   "source": [
    "# Searching for quotes in all pages with fuzzy 5-gram matches"
   ]
  },
  {
   "cell_type": "code",
   "execution_count": 226,
   "id": "9c14ffb3",
   "metadata": {},
   "outputs": [
    {
     "name": "stdout",
     "output_type": "stream",
     "text": [
      "=== Found N-Grams on page 44 ===\n",
      "\"und sie mit freuden zu\"\n",
      "=== Found N-Grams on page 59 ===\n",
      "\"sey gott in der höhe\"\n",
      "=== Found N-Grams on page 63 ===\n",
      "\"vater sohn und heiligen geist\"\n",
      "=== Found N-Grams on page 73 ===\n",
      "\"gott vater sohn und heiligen\"\n",
      "=== Found N-Grams on page 83 ===\n",
      "\"gott vater sohn und heiligen geist\"\n",
      "=== Found N-Grams on page 122 ===\n",
      "\"daß wir nicht alle in\"\n",
      "=== Found N-Grams on page 137 ===\n",
      "\"und die eurigen mit seiner\"\n",
      "=== Found N-Grams on page 150 ===\n",
      "\"gott vater sohn und heiligen geist\"\n",
      "=== Found N-Grams on page 173 ===\n",
      "\"den teuffel und die welt\"\n"
     ]
    },
    {
     "ename": "KeyboardInterrupt",
     "evalue": "",
     "output_type": "error",
     "traceback": [
      "\u001b[31m---------------------------------------------------------------------------\u001b[39m",
      "\u001b[31mKeyboardInterrupt\u001b[39m                         Traceback (most recent call last)",
      "\u001b[36mCell\u001b[39m\u001b[36m \u001b[39m\u001b[32mIn[226]\u001b[39m\u001b[32m, line 13\u001b[39m\n\u001b[32m     11\u001b[39m ngrams_page = create_ngrams(page, n)\n\u001b[32m     12\u001b[39m \u001b[38;5;66;03m#found_ngrams = search_ngrams(ngrams_page, ngrams_sermon)\u001b[39;00m\n\u001b[32m---> \u001b[39m\u001b[32m13\u001b[39m found_ngrams = \u001b[43msearch_ngrams_fuzzy\u001b[49m\u001b[43m(\u001b[49m\u001b[43mngrams_page\u001b[49m\u001b[43m,\u001b[49m\u001b[43m \u001b[49m\u001b[43mngrams_sermon\u001b[49m\u001b[43m,\u001b[49m\u001b[32;43m90\u001b[39;49m\u001b[43m)\u001b[49m\n\u001b[32m     14\u001b[39m \u001b[38;5;28;01mif\u001b[39;00m \u001b[38;5;28mlen\u001b[39m(found_ngrams) > \u001b[32m0\u001b[39m:\n\u001b[32m     15\u001b[39m     \u001b[38;5;28mprint\u001b[39m(\u001b[33mf\u001b[39m\u001b[33m\"\u001b[39m\u001b[33m=== Found N-Grams on page \u001b[39m\u001b[38;5;132;01m{\u001b[39;00mi\u001b[38;5;132;01m}\u001b[39;00m\u001b[33m ===\u001b[39m\u001b[33m\"\u001b[39m)\n",
      "\u001b[36mCell\u001b[39m\u001b[36m \u001b[39m\u001b[32mIn[220]\u001b[39m\u001b[32m, line 5\u001b[39m, in \u001b[36msearch_ngrams_fuzzy\u001b[39m\u001b[34m(needle, haystack, threshold)\u001b[39m\n\u001b[32m      3\u001b[39m \u001b[38;5;28;01mfor\u001b[39;00m ngram_b \u001b[38;5;129;01min\u001b[39;00m haystack:\n\u001b[32m      4\u001b[39m     \u001b[38;5;28;01mfor\u001b[39;00m ngram_a \u001b[38;5;129;01min\u001b[39;00m needle:\n\u001b[32m----> \u001b[39m\u001b[32m5\u001b[39m         \u001b[38;5;28;01mif\u001b[39;00m \u001b[43mfuzzy_match\u001b[49m\u001b[43m(\u001b[49m\u001b[43mngram_a\u001b[49m\u001b[43m,\u001b[49m\u001b[43m \u001b[49m\u001b[43mngram_b\u001b[49m\u001b[43m,\u001b[49m\u001b[43m \u001b[49m\u001b[43mthreshold\u001b[49m\u001b[43m)\u001b[49m:\n\u001b[32m      6\u001b[39m             matches.append(ngram_b)\n\u001b[32m      7\u001b[39m             \u001b[38;5;28;01mbreak\u001b[39;00m  \u001b[38;5;66;03m# Stop searching once a match is found\u001b[39;00m\n",
      "\u001b[36mCell\u001b[39m\u001b[36m \u001b[39m\u001b[32mIn[219]\u001b[39m\u001b[32m, line 4\u001b[39m, in \u001b[36mfuzzy_match\u001b[39m\u001b[34m(ngram1, ngram2, threshold)\u001b[39m\n\u001b[32m      2\u001b[39m ngram1_str = \u001b[33m'\u001b[39m\u001b[33m \u001b[39m\u001b[33m'\u001b[39m.join(ngram1)\n\u001b[32m      3\u001b[39m ngram2_str = \u001b[33m'\u001b[39m\u001b[33m \u001b[39m\u001b[33m'\u001b[39m.join(ngram2)\n\u001b[32m----> \u001b[39m\u001b[32m4\u001b[39m similarity_score = \u001b[43mfuzz\u001b[49m\u001b[43m.\u001b[49m\u001b[43mratio\u001b[49m\u001b[43m(\u001b[49m\u001b[43mngram1_str\u001b[49m\u001b[43m,\u001b[49m\u001b[43m \u001b[49m\u001b[43mngram2_str\u001b[49m\u001b[43m)\u001b[49m\n\u001b[32m      5\u001b[39m \u001b[38;5;28;01mreturn\u001b[39;00m similarity_score >= threshold\n",
      "\u001b[31mKeyboardInterrupt\u001b[39m: "
     ]
    }
   ],
   "source": [
    "total_quotes = 0\n",
    "n = 5\n",
    "\n",
    "ngrams_sermon = create_ngrams(sermon_combined, n)\n",
    "\n",
    "\n",
    "for i in range(42, 1290):\n",
    "    with open(f'source_texts/praxis_pietatis_melica/{i}.txt', 'r') as f:\n",
    "        page = f.read()\n",
    "    page = prepare_text(page)\n",
    "    ngrams_page = create_ngrams(page, n)\n",
    "    #found_ngrams = search_ngrams(ngrams_page, ngrams_sermon)\n",
    "    found_ngrams = search_ngrams_fuzzy(ngrams_page, ngrams_sermon,90)\n",
    "    if len(found_ngrams) > 0:\n",
    "        print(f\"=== Found N-Grams on page {i} ===\")\n",
    "        print(f'\"{ngrams_to_text(found_ngrams)}\"')\n",
    "        total_quotes += 1\n",
    "\n",
    "print(f\"Total number of quotes of at least {n} words found: {total_quotes}\")"
   ]
  }
 ],
 "metadata": {
  "kernelspec": {
   "display_name": "ma_orgelpredigt",
   "language": "python",
   "name": "python3"
  },
  "language_info": {
   "codemirror_mode": {
    "name": "ipython",
    "version": 3
   },
   "file_extension": ".py",
   "mimetype": "text/x-python",
   "name": "python",
   "nbconvert_exporter": "python",
   "pygments_lexer": "ipython3",
   "version": "3.12.11"
  }
 },
 "nbformat": 4,
 "nbformat_minor": 5
}
