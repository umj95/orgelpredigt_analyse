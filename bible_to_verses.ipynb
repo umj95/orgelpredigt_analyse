{
 "cells": [
  {
   "cell_type": "code",
   "execution_count": 189,
   "id": "e289ca71",
   "metadata": {},
   "outputs": [],
   "source": [
    "from bs4 import BeautifulSoup\n",
    "import re\n",
    "import pandas as pd\n",
    "import os\n",
    "import json"
   ]
  },
  {
   "cell_type": "code",
   "execution_count": 190,
   "id": "02eca61b",
   "metadata": {},
   "outputs": [],
   "source": [
    "with open(\"source_texts/bible/luther_old_testament.xml\", \"r\") as f:\n",
    "    bible_ot = f.read()"
   ]
  },
  {
   "cell_type": "code",
   "execution_count": 191,
   "id": "6c8db194",
   "metadata": {},
   "outputs": [],
   "source": [
    "soup = BeautifulSoup(bible_ot, 'xml')"
   ]
  },
  {
   "cell_type": "code",
   "execution_count": 192,
   "id": "456733f4",
   "metadata": {},
   "outputs": [
    {
     "name": "stderr",
     "output_type": "stream",
     "text": [
      "<>:3: SyntaxWarning: invalid escape sequence '\\.'\n",
      "<>:3: SyntaxWarning: invalid escape sequence '\\.'\n",
      "/tmp/ipykernel_518/2323431692.py:3: SyntaxWarning: invalid escape sequence '\\.'\n",
      "  chunks = re.split('/|,|\\.|:', verse_text)\n"
     ]
    }
   ],
   "source": [
    "def chunk_verses(verse_text: str) -> list:\n",
    "    all_chunks = []\n",
    "    chunks = re.split('/|,|\\.|:', verse_text)\n",
    "    word_collector = \"\"\n",
    "    for chunk in chunks:\n",
    "        word_collector += \" \" + chunk.strip()\n",
    "        if len(word_collector.split()) >= 4:\n",
    "            all_chunks.append(word_collector.strip())\n",
    "            word_collector = \"\"\n",
    "    return all_chunks"
   ]
  },
  {
   "cell_type": "code",
   "execution_count": 193,
   "id": "384be157",
   "metadata": {},
   "outputs": [],
   "source": [
    "old_testament = {}\n",
    "books = soup.find_all(\"BIBLEBOOK\")\n",
    "\n",
    "for book in books:\n",
    "    booktitle = book['bname']\n",
    "    filename = f\"source_texts/bible/old_testament/{re.sub(\" \", \"_\", booktitle)}.json\"\n",
    "    chapters = {}\n",
    "    for chap_nr in range(len(book.find_all(\"CHAPTER\"))):\n",
    "        chapter = book.find_all(\"CHAPTER\")[chap_nr]\n",
    "        verses = {}\n",
    "        for verse_nr in range(len(chapter.find_all(\"VERS\"))):\n",
    "            verse = chapter.find_all(\"VERS\")[verse_nr]\n",
    "            for note in verse.find_all(\"NOTE\"):                     # remove annotations\n",
    "                note.string.replace_with(\" \")\n",
    "            verstext = verse.get_text()\n",
    "            verse_chunked = chunk_verses(verstext)\n",
    "            verses[verse_nr + 1] = verse_chunked\n",
    "        chapters[chap_nr + 1] = verses\n",
    "    old_testament[booktitle] = chapters\n",
    "\n",
    "with open(\"source_texts/bible/old_testament_chunked.json\", \"w\") as f:\n",
    "    json.dump(old_testament, f,ensure_ascii=False)\n"
   ]
  },
  {
   "cell_type": "code",
   "execution_count": 181,
   "id": "ede55973",
   "metadata": {},
   "outputs": [],
   "source": [
    "with open(\"source_texts/bible/luther_septembertestament_1522.TEI-P5.xml\", \"r\") as f:\n",
    "    bible_tei = f.read()"
   ]
  },
  {
   "cell_type": "code",
   "execution_count": 182,
   "id": "41bd7b3c",
   "metadata": {},
   "outputs": [],
   "source": [
    "rep = {\"&#x017F;\": \"s\",\n",
    "       \"&#xA75B;\": \"r\",\n",
    "       \"vn&#x0303;\": \"vnd\",\n",
    "       \"&#x0303;\": \"n\",\n",
    "       \"<lb/>\": \" \"\n",
    "            }\n",
    "\n",
    "rep = dict((re.escape(k), v) for k, v in rep.items()) \n",
    "pattern = re.compile(\"|\".join(rep.keys()))\n",
    "bible_tei = pattern.sub(lambda m: rep[re.escape(m.group(0))], bible_tei)\n",
    "\n",
    "bible_tei = re.sub(r'<ref target=\"https:.*<\\/ref>', \" ◊ \", bible_tei)\n",
    "\n",
    "soup = BeautifulSoup(bible_tei, 'xml')"
   ]
  },
  {
   "cell_type": "code",
   "execution_count": 183,
   "id": "1bd52dec",
   "metadata": {},
   "outputs": [],
   "source": [
    "bible_nt_books = [\"Mt\", \"Mk\", \"Lk\", \"Joh\",\n",
    "                  \"Apg\", \"Röm\", \"Kor1\", \"Kor2\",\n",
    "                  \"Gal\", \"Eph\", \"Phil\", \"Kol\",\n",
    "                  \"Thess1\", \"Thess2\", \"Tim1\", \"Tim2\",\n",
    "                  \"Tit\", \"Phlm\", \"Petr1\", \"Petr2\",\n",
    "                  \"Joh1\", \"Joh2\", \"Joh3\", \"Hebr\",\n",
    "                  \"Jak\", \"Jud\", \"Offb\"]"
   ]
  },
  {
   "cell_type": "code",
   "execution_count": 184,
   "id": "7517fc64",
   "metadata": {},
   "outputs": [],
   "source": [
    "for note in soup.find_all(\"note\"):      # remove all comments not editorial\n",
    "    if note.get(\"type\") != \"editorial\":\n",
    "        note.decompose()\n",
    "\n",
    "for fw in soup.find_all(\"fw\"):\n",
    "    fw.decompose()\n",
    "\n",
    "for head in soup.find_all(\"head\"):\n",
    "    head.decompose()\n",
    "\n",
    "for sic in soup.find_all(\"sic\"):\n",
    "    sic.decompose()\n",
    "\n",
    "for reg in soup.find_all(\"reg\"):\n",
    "    reg.decompose()"
   ]
  },
  {
   "cell_type": "code",
   "execution_count": 185,
   "id": "4725024d",
   "metadata": {},
   "outputs": [],
   "source": [
    "books = soup.find_all(\"div\", {\"xml:id\": lambda x: x in bible_nt_books})"
   ]
  },
  {
   "cell_type": "code",
   "execution_count": null,
   "id": "1da8ce8e",
   "metadata": {},
   "outputs": [],
   "source": [
    "new_testament = {}\n",
    "\n",
    "url = re.compile(r'https?://\\S+')\n",
    "\n",
    "for book in books:\n",
    "    booktitle = book[\"xml:id\"]\n",
    "    filename = f\"source_texts/bible/new_testament/{booktitle}.json\"\n",
    "    chapters = {}\n",
    "    for chap_nr in range(len(book.find_all(\"div\"))):\n",
    "        chapter = book.find_all(\"div\")[chap_nr]\n",
    "        text = chapter.get_text(strip=True)\n",
    "        text = re.sub(\"\\n\", \"\", text)\n",
    "        text = re.sub(r\"- \", \"\", text)\n",
    "        text = re.sub(\"-\", \"\", text)\n",
    "\n",
    "        verse_nr = 0\n",
    "        verses = {}\n",
    "        \n",
    "        split_text = text.split(\"◊\")\n",
    "        for elem in split_text:\n",
    "            if elem != \"\":\n",
    "                verse_nr += 1\n",
    "                verse_chunked = chunk_verses(elem)\n",
    "                verses[verse_nr] = verse_chunked\n",
    "        chapters[chap_nr + 1] = verses\n",
    "        vers_nr = 0\n",
    "    new_testament[booktitle] = chapters\n",
    "\n"
   ]
  },
  {
   "cell_type": "code",
   "execution_count": 188,
   "id": "5ba13e16",
   "metadata": {},
   "outputs": [],
   "source": [
    "with open(\"source_texts/bible/new_testament_chunked.json\", \"w\") as f:\n",
    "    json.dump(new_testament, f,ensure_ascii=False)"
   ]
  }
 ],
 "metadata": {
  "kernelspec": {
   "display_name": "ma_orgelpredigt",
   "language": "python",
   "name": "python3"
  },
  "language_info": {
   "codemirror_mode": {
    "name": "ipython",
    "version": 3
   },
   "file_extension": ".py",
   "mimetype": "text/x-python",
   "name": "python",
   "nbconvert_exporter": "python",
   "pygments_lexer": "ipython3",
   "version": "3.12.11"
  }
 },
 "nbformat": 4,
 "nbformat_minor": 5
}
