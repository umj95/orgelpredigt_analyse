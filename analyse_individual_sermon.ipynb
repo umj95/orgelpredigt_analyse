{
 "cells": [
  {
   "cell_type": "code",
   "execution_count": 7,
   "id": "4077ec47",
   "metadata": {},
   "outputs": [],
   "source": [
    "import pandas as pd\n",
    "import seaborn as sns\n",
    "import matplotlib.pyplot as plt\n",
    "import db_connection\n",
    "import ast\n",
    "import re\n",
    "\n",
    "from mysql.connector import Error\n",
    "from orgelpredigt_analysis import Sermon, is_id\n",
    "\n",
    "import folium\n",
    "import json\n",
    "import os"
   ]
  },
  {
   "cell_type": "code",
   "execution_count": 8,
   "id": "c272cac7",
   "metadata": {},
   "outputs": [],
   "source": [
    "id = \"E000082\""
   ]
  },
  {
   "cell_type": "code",
   "execution_count": 9,
   "id": "ca32b019",
   "metadata": {},
   "outputs": [],
   "source": [
    "cursor, connection = db_connection.get_connection()"
   ]
  },
  {
   "cell_type": "code",
   "execution_count": 10,
   "id": "262fe04f",
   "metadata": {},
   "outputs": [
    {
     "name": "stdout",
     "output_type": "stream",
     "text": [
      "[('E100134', 'Anton, Christoph ; Hintze, Jacob', 'Alle Menschen müssen sterben', '', 'Albinus, Johann Georg ; Rosenmüller, Johann', 'Kirchenlied', '')]\n",
      "{'e10id': 'E100134', 'e10komponist': 'Anton, Christoph ; Hintze, Jacob', 'e10werk': 'Alle Menschen müssen sterben', 'e10kurztitel': '', 'e10textdichter': 'Albinus, Johann Georg ; Rosenmüller, Johann', 'e10gattung': 'Kirchenlied', 'e10besetzung': ''}\n",
      "[('E100194', 'Spangeberg, Cyriakus', 'Christe, der du bist der helle Tag', '', 'Alber, Erasmus', 'Kirchenlied', '')]\n",
      "{'e10id': 'E100194', 'e10komponist': 'Spangeberg, Cyriakus', 'e10werk': 'Christe, der du bist der helle Tag', 'e10kurztitel': '', 'e10textdichter': 'Alber, Erasmus', 'e10gattung': 'Kirchenlied', 'e10besetzung': ''}\n",
      "[('E100033', 'Anonym', 'Ach Gott wie manches Herzeleid', '', 'Moller, Martin', 'Kirchenlied', '')]\n",
      "{'e10id': 'E100033', 'e10komponist': 'Anonym', 'e10werk': 'Ach Gott wie manches Herzeleid', 'e10kurztitel': '', 'e10textdichter': 'Moller, Martin', 'e10gattung': 'Kirchenlied', 'e10besetzung': ''}\n"
     ]
    }
   ],
   "source": [
    "for i in [\"E100134\", \"E100194\", \"E100033\"]:\n",
    "    try:\n",
    "        cursor.execute(f\"SELECT e10id, e10komponist, e10werk, e10kurztitel, e10textdichter, e10gattung, e10besetzung FROM e10_musikwerke WHERE e10id = '{i}'\")\n",
    "        column_names = [col[0] for col in cursor.description]\n",
    "        results = cursor.fetchall()\n",
    "        print(results)\n",
    "        if results:\n",
    "            data = [dict(zip(column_names, row))  \n",
    "                for row in results][0]\n",
    "            print(data)\n",
    "        else:\n",
    "            print(f\"Query executed for {i}, but no data found.\")\n",
    "    except Error as e:\n",
    "        print(f\"Database error occurred for {i}:\", e)\n",
    "    except Exception as e:\n",
    "        print(f\"Unexpected error for {i}:\", e)\n",
    "\n"
   ]
  },
  {
   "cell_type": "code",
   "execution_count": 11,
   "id": "b8dcb4d6",
   "metadata": {},
   "outputs": [],
   "source": [
    "sermon = Sermon(id)"
   ]
  },
  {
   "cell_type": "code",
   "execution_count": 12,
   "id": "c0f7d8d2",
   "metadata": {},
   "outputs": [],
   "source": [
    "links = [item for item in sermon.all_references if is_id(item)]"
   ]
  },
  {
   "cell_type": "code",
   "execution_count": 13,
   "id": "9d51ffab",
   "metadata": {},
   "outputs": [],
   "source": [
    "from collections import Counter"
   ]
  },
  {
   "cell_type": "code",
   "execution_count": 14,
   "id": "abfd490e",
   "metadata": {},
   "outputs": [
    {
     "data": {
      "text/plain": [
       "[(155,\n",
       "  'E100155',\n",
       "  'N.N.',\n",
       "  'Te Deum laudamus',\n",
       "  '',\n",
       "  'Ambrosius von Mailand',\n",
       "  'Hymnus',\n",
       "  '',\n",
       "  '',\n",
       "  '',\n",
       "  '',\n",
       "  '',\n",
       "  '',\n",
       "  '# https://de.wikipedia.org/wiki/Te_Deum',\n",
       "  '',\n",
       "  '',\n",
       "  '',\n",
       "  '',\n",
       "  '',\n",
       "  '',\n",
       "  '',\n",
       "  '',\n",
       "  '',\n",
       "  '',\n",
       "  '',\n",
       "  '',\n",
       "  '',\n",
       "  '',\n",
       "  '',\n",
       "  '',\n",
       "  '',\n",
       "  '',\n",
       "  '',\n",
       "  '',\n",
       "  'Freigegeben',\n",
       "  '20220125:131939_braun\\xa0; ')]"
      ]
     },
     "execution_count": 14,
     "metadata": {},
     "output_type": "execute_result"
    }
   ],
   "source": [
    "cursor.execute(f\"SELECT * FROM e10_musikwerke WHERE e10id = 'E100155'\")\n",
    "#cursor.execute(f\"SELECT e10id, e10komponist, e10werk, e10kurztitel, e10textdichter, e10gattung, e10besetzung FROM e10_musikwerke WHERE e10id = 'E100155'\")\n",
    "column_names = [col[0] for col in cursor.description]\n",
    "results = cursor.fetchall()\n",
    "results"
   ]
  },
  {
   "cell_type": "code",
   "execution_count": 15,
   "id": "bb1d897c",
   "metadata": {},
   "outputs": [
    {
     "name": "stdout",
     "output_type": "stream",
     "text": [
      "Augustinus, Aurelius ; Thimme, Wilhelm (Übers.): Confessiones. Bekenntnisse (Düsseldorf ; Zürich: 2004)\n",
      "Luther, Martin: Enchiridion (Frankfurt an der Oder: 1601)\n",
      "Polus, Timotheus: Neu-Vermehrter Lustiger Schawplatz (Lübeck ; Ratzeburg: 1664)\n",
      "Plautus, M. Accius: Marci Accii Plauti Comoediae (London: 1874)\n",
      "Sachs, Michael: Alphabetum historicvm (Leipzig: 1617)\n"
     ]
    }
   ],
   "source": [
    "for i in sermon.literaturzitate:\n",
    "    print(i[\"item\"])"
   ]
  },
  {
   "cell_type": "code",
   "execution_count": 16,
   "id": "3faa75b1",
   "metadata": {},
   "outputs": [],
   "source": [
    "color_map = {\n",
    "        'orgelpredigt': 'rgb(135, 44, 162)',\n",
    "        'musikwerk': 'rgb(192, 54, 157)',\n",
    "        'literatur': 'rgb(234, 79, 136)',\n",
    "        'quelle': 'rgb(250, 120, 118)',\n",
    "        'bibel': 'rgb(246, 169, 122)',\n",
    "        'nan': 'rgb(237, 217, 163)',\n",
    "        'text': 'rgb(237, 217, 163)'\n",
    "    }"
   ]
  },
  {
   "cell_type": "code",
   "execution_count": 17,
   "id": "46d9b066",
   "metadata": {},
   "outputs": [],
   "source": [
    "import plotly.express as px\n",
    "import plotly.graph_objects as go"
   ]
  },
  {
   "cell_type": "code",
   "execution_count": 18,
   "id": "90f69b04",
   "metadata": {},
   "outputs": [
    {
     "name": "stdout",
     "output_type": "stream",
     "text": [
      "['Augustinus, Aurelius ; Thimme, Wilhelm (Übers.): Confessiones. Bekenntnisse (Düsseldorf ; Zürich: 2004)', 'Luther, Martin: Enchiridion (Frankfurt an der Oder: 1601)', 'Polus, Timotheus: Neu-Vermehrter Lustiger Schawplatz (Lübeck ; Ratzeburg: 1664)', 'Plautus, M. Accius: Marci Accii Plauti Comoediae (London: 1874)', 'Sachs, Michael: Alphabetum historicvm (Leipzig: 1617)']\n",
      "(250, 120, 118)\n",
      "[(0.0, 0.0, 0.0), (0.24509803921568626, 0.11764705882352941, 0.11568627450980393), (0.49019607843137253, 0.23529411764705882, 0.23137254901960785), (0.7352941176470589, 0.35294117647058826, 0.34705882352941175), (0.9803921568627451, 0.47058823529411764, 0.4627450980392157)]\n",
      "[]\n",
      "(135, 44, 162)\n",
      "[(0.0, 0.0, 0.0), (0.1323529411764706, 0.043137254901960784, 0.1588235294117647), (0.2647058823529412, 0.08627450980392157, 0.3176470588235294), (0.39705882352941174, 0.12941176470588237, 0.4764705882352941), (0.5294117647058824, 0.17254901960784313, 0.6352941176470588)]\n",
      "['Gastoldi, Giovanni: Jesu, wollst uns weisen', 'anonym: So offt ich gedenck an Jüngsten Tag', 'anonym: Herzlich tut mich erfreuen', 'Luther, Martin: Vater unser im Himmelreich', 'Anonym: Komm, Heiliger Geist, Herre Gott', 'Anonym: Kommt her zu mir, spricht Gottes Sohn', 'Luther, Martin: Ein feste Burg ist unser Gott', 'anonym: Veni, Sancte Spiritus', 'Luther, Martin: Aus tiefer Not schrei ich zu dir', 'anonym: Es stehn vor Gottes Throne', 'Anonym: O Christe, Wahrheit und Leben', 'anonym: Komm, Gott Schöpfer, Heiliger Geist']\n",
      "(192, 54, 157)\n",
      "[(0.0, 0.0, 0.0), (0.047058823529411764, 0.013235294117647059, 0.03848039215686275), (0.09411764705882353, 0.026470588235294117, 0.0769607843137255), (0.1411764705882353, 0.039705882352941174, 0.11544117647058824), (0.18823529411764706, 0.052941176470588235, 0.153921568627451), (0.23529411764705882, 0.0661764705882353, 0.19240196078431374), (0.2823529411764706, 0.07941176470588235, 0.23088235294117648), (0.32941176470588235, 0.09264705882352942, 0.2693627450980392), (0.3764705882352941, 0.10588235294117647, 0.307843137254902), (0.4235294117647059, 0.11911764705882352, 0.3463235294117647), (0.47058823529411764, 0.1323529411764706, 0.38480392156862747), (0.5176470588235295, 0.14558823529411766, 0.4232843137254902), (0.5647058823529412, 0.1588235294117647, 0.46176470588235297), (0.611764705882353, 0.17205882352941176, 0.5002450980392157), (0.6588235294117647, 0.18529411764705883, 0.5387254901960784), (0.7058823529411765, 0.19852941176470587, 0.5772058823529411), (0.7529411764705882, 0.21176470588235294, 0.615686274509804)]\n"
     ]
    },
    {
     "data": {
      "application/vnd.plotly.v1+json": {
       "config": {
        "plotlyServerURL": "https://plot.ly"
       },
       "data": [
        {
         "labels": [
          "Augustinus, Aurelius ; Thimme, Wilhelm (Übers.): Confessiones. Bekenntnisse (Düsseldorf ; Zürich: 2004)",
          "Luther, Martin: Enchiridion (Frankfurt an der Oder: 1601)",
          "Polus, Timotheus: Neu-Vermehrter Lustiger Schawplatz (Lübeck ; Ratzeburg: 1664)",
          "Plautus, M. Accius: Marci Accii Plauti Comoediae (London: 1874)",
          "Sachs, Michael: Alphabetum historicvm (Leipzig: 1617)",
          "Gastoldi, Giovanni: Jesu, wollst uns weisen",
          "anonym: So offt ich gedenck an Jüngsten Tag",
          "anonym: Herzlich tut mich erfreuen",
          "Luther, Martin: Vater unser im Himmelreich",
          "Anonym: Komm, Heiliger Geist, Herre Gott",
          "Anonym: Kommt her zu mir, spricht Gottes Sohn",
          "Luther, Martin: Ein feste Burg ist unser Gott",
          "anonym: Veni, Sancte Spiritus",
          "Luther, Martin: Aus tiefer Not schrei ich zu dir",
          "anonym: Es stehn vor Gottes Throne",
          "Anonym: O Christe, Wahrheit und Leben",
          "anonym: Komm, Gott Schöpfer, Heiliger Geist"
         ],
         "marker": {
          "colors": [
           [
            0,
            0,
            0
           ],
           [
            0.24509803921568626,
            0.11764705882352941,
            0.11568627450980393
           ],
           [
            0.49019607843137253,
            0.23529411764705882,
            0.23137254901960785
           ],
           [
            0.7352941176470589,
            0.35294117647058826,
            0.34705882352941175
           ],
           [
            0.9803921568627451,
            0.47058823529411764,
            0.4627450980392157
           ],
           [
            0,
            0,
            0
           ],
           [
            0.1323529411764706,
            0.043137254901960784,
            0.1588235294117647
           ],
           [
            0.2647058823529412,
            0.08627450980392157,
            0.3176470588235294
           ],
           [
            0.39705882352941174,
            0.12941176470588237,
            0.4764705882352941
           ],
           [
            0.5294117647058824,
            0.17254901960784313,
            0.6352941176470588
           ],
           [
            0,
            0,
            0
           ],
           [
            0.047058823529411764,
            0.013235294117647059,
            0.03848039215686275
           ],
           [
            0.09411764705882353,
            0.026470588235294117,
            0.0769607843137255
           ],
           [
            0.1411764705882353,
            0.039705882352941174,
            0.11544117647058824
           ],
           [
            0.18823529411764706,
            0.052941176470588235,
            0.153921568627451
           ],
           [
            0.23529411764705882,
            0.0661764705882353,
            0.19240196078431374
           ],
           [
            0.2823529411764706,
            0.07941176470588235,
            0.23088235294117648
           ],
           [
            0.32941176470588235,
            0.09264705882352942,
            0.2693627450980392
           ],
           [
            0.3764705882352941,
            0.10588235294117647,
            0.307843137254902
           ],
           [
            0.4235294117647059,
            0.11911764705882352,
            0.3463235294117647
           ],
           [
            0.47058823529411764,
            0.1323529411764706,
            0.38480392156862747
           ],
           [
            0.5176470588235295,
            0.14558823529411766,
            0.4232843137254902
           ],
           [
            0.5647058823529412,
            0.1588235294117647,
            0.46176470588235297
           ],
           [
            0.611764705882353,
            0.17205882352941176,
            0.5002450980392157
           ],
           [
            0.6588235294117647,
            0.18529411764705883,
            0.5387254901960784
           ],
           [
            0.7058823529411765,
            0.19852941176470587,
            0.5772058823529411
           ],
           [
            0.7529411764705882,
            0.21176470588235294,
            0.615686274509804
           ]
          ]
         },
         "title": {
          "text": "Verwendete Zitate"
         },
         "type": "pie",
         "values": [
          22,
          73,
          66,
          1308,
          38,
          19,
          14,
          32,
          7,
          95,
          7,
          4,
          7,
          11,
          30,
          6,
          55
         ]
        }
       ],
       "layout": {
        "height": 700,
        "legend": {
         "orientation": "h",
         "y": -0.1
        },
        "margin": {
         "b": 50,
         "l": 50,
         "r": 50,
         "t": 80
        },
        "template": {
         "data": {
          "bar": [
           {
            "error_x": {
             "color": "#2a3f5f"
            },
            "error_y": {
             "color": "#2a3f5f"
            },
            "marker": {
             "line": {
              "color": "#E5ECF6",
              "width": 0.5
             },
             "pattern": {
              "fillmode": "overlay",
              "size": 10,
              "solidity": 0.2
             }
            },
            "type": "bar"
           }
          ],
          "barpolar": [
           {
            "marker": {
             "line": {
              "color": "#E5ECF6",
              "width": 0.5
             },
             "pattern": {
              "fillmode": "overlay",
              "size": 10,
              "solidity": 0.2
             }
            },
            "type": "barpolar"
           }
          ],
          "carpet": [
           {
            "aaxis": {
             "endlinecolor": "#2a3f5f",
             "gridcolor": "white",
             "linecolor": "white",
             "minorgridcolor": "white",
             "startlinecolor": "#2a3f5f"
            },
            "baxis": {
             "endlinecolor": "#2a3f5f",
             "gridcolor": "white",
             "linecolor": "white",
             "minorgridcolor": "white",
             "startlinecolor": "#2a3f5f"
            },
            "type": "carpet"
           }
          ],
          "choropleth": [
           {
            "colorbar": {
             "outlinewidth": 0,
             "ticks": ""
            },
            "type": "choropleth"
           }
          ],
          "contour": [
           {
            "colorbar": {
             "outlinewidth": 0,
             "ticks": ""
            },
            "colorscale": [
             [
              0,
              "#0d0887"
             ],
             [
              0.1111111111111111,
              "#46039f"
             ],
             [
              0.2222222222222222,
              "#7201a8"
             ],
             [
              0.3333333333333333,
              "#9c179e"
             ],
             [
              0.4444444444444444,
              "#bd3786"
             ],
             [
              0.5555555555555556,
              "#d8576b"
             ],
             [
              0.6666666666666666,
              "#ed7953"
             ],
             [
              0.7777777777777778,
              "#fb9f3a"
             ],
             [
              0.8888888888888888,
              "#fdca26"
             ],
             [
              1,
              "#f0f921"
             ]
            ],
            "type": "contour"
           }
          ],
          "contourcarpet": [
           {
            "colorbar": {
             "outlinewidth": 0,
             "ticks": ""
            },
            "type": "contourcarpet"
           }
          ],
          "heatmap": [
           {
            "colorbar": {
             "outlinewidth": 0,
             "ticks": ""
            },
            "colorscale": [
             [
              0,
              "#0d0887"
             ],
             [
              0.1111111111111111,
              "#46039f"
             ],
             [
              0.2222222222222222,
              "#7201a8"
             ],
             [
              0.3333333333333333,
              "#9c179e"
             ],
             [
              0.4444444444444444,
              "#bd3786"
             ],
             [
              0.5555555555555556,
              "#d8576b"
             ],
             [
              0.6666666666666666,
              "#ed7953"
             ],
             [
              0.7777777777777778,
              "#fb9f3a"
             ],
             [
              0.8888888888888888,
              "#fdca26"
             ],
             [
              1,
              "#f0f921"
             ]
            ],
            "type": "heatmap"
           }
          ],
          "histogram": [
           {
            "marker": {
             "pattern": {
              "fillmode": "overlay",
              "size": 10,
              "solidity": 0.2
             }
            },
            "type": "histogram"
           }
          ],
          "histogram2d": [
           {
            "colorbar": {
             "outlinewidth": 0,
             "ticks": ""
            },
            "colorscale": [
             [
              0,
              "#0d0887"
             ],
             [
              0.1111111111111111,
              "#46039f"
             ],
             [
              0.2222222222222222,
              "#7201a8"
             ],
             [
              0.3333333333333333,
              "#9c179e"
             ],
             [
              0.4444444444444444,
              "#bd3786"
             ],
             [
              0.5555555555555556,
              "#d8576b"
             ],
             [
              0.6666666666666666,
              "#ed7953"
             ],
             [
              0.7777777777777778,
              "#fb9f3a"
             ],
             [
              0.8888888888888888,
              "#fdca26"
             ],
             [
              1,
              "#f0f921"
             ]
            ],
            "type": "histogram2d"
           }
          ],
          "histogram2dcontour": [
           {
            "colorbar": {
             "outlinewidth": 0,
             "ticks": ""
            },
            "colorscale": [
             [
              0,
              "#0d0887"
             ],
             [
              0.1111111111111111,
              "#46039f"
             ],
             [
              0.2222222222222222,
              "#7201a8"
             ],
             [
              0.3333333333333333,
              "#9c179e"
             ],
             [
              0.4444444444444444,
              "#bd3786"
             ],
             [
              0.5555555555555556,
              "#d8576b"
             ],
             [
              0.6666666666666666,
              "#ed7953"
             ],
             [
              0.7777777777777778,
              "#fb9f3a"
             ],
             [
              0.8888888888888888,
              "#fdca26"
             ],
             [
              1,
              "#f0f921"
             ]
            ],
            "type": "histogram2dcontour"
           }
          ],
          "mesh3d": [
           {
            "colorbar": {
             "outlinewidth": 0,
             "ticks": ""
            },
            "type": "mesh3d"
           }
          ],
          "parcoords": [
           {
            "line": {
             "colorbar": {
              "outlinewidth": 0,
              "ticks": ""
             }
            },
            "type": "parcoords"
           }
          ],
          "pie": [
           {
            "automargin": true,
            "type": "pie"
           }
          ],
          "scatter": [
           {
            "fillpattern": {
             "fillmode": "overlay",
             "size": 10,
             "solidity": 0.2
            },
            "type": "scatter"
           }
          ],
          "scatter3d": [
           {
            "line": {
             "colorbar": {
              "outlinewidth": 0,
              "ticks": ""
             }
            },
            "marker": {
             "colorbar": {
              "outlinewidth": 0,
              "ticks": ""
             }
            },
            "type": "scatter3d"
           }
          ],
          "scattercarpet": [
           {
            "marker": {
             "colorbar": {
              "outlinewidth": 0,
              "ticks": ""
             }
            },
            "type": "scattercarpet"
           }
          ],
          "scattergeo": [
           {
            "marker": {
             "colorbar": {
              "outlinewidth": 0,
              "ticks": ""
             }
            },
            "type": "scattergeo"
           }
          ],
          "scattergl": [
           {
            "marker": {
             "colorbar": {
              "outlinewidth": 0,
              "ticks": ""
             }
            },
            "type": "scattergl"
           }
          ],
          "scattermap": [
           {
            "marker": {
             "colorbar": {
              "outlinewidth": 0,
              "ticks": ""
             }
            },
            "type": "scattermap"
           }
          ],
          "scattermapbox": [
           {
            "marker": {
             "colorbar": {
              "outlinewidth": 0,
              "ticks": ""
             }
            },
            "type": "scattermapbox"
           }
          ],
          "scatterpolar": [
           {
            "marker": {
             "colorbar": {
              "outlinewidth": 0,
              "ticks": ""
             }
            },
            "type": "scatterpolar"
           }
          ],
          "scatterpolargl": [
           {
            "marker": {
             "colorbar": {
              "outlinewidth": 0,
              "ticks": ""
             }
            },
            "type": "scatterpolargl"
           }
          ],
          "scatterternary": [
           {
            "marker": {
             "colorbar": {
              "outlinewidth": 0,
              "ticks": ""
             }
            },
            "type": "scatterternary"
           }
          ],
          "surface": [
           {
            "colorbar": {
             "outlinewidth": 0,
             "ticks": ""
            },
            "colorscale": [
             [
              0,
              "#0d0887"
             ],
             [
              0.1111111111111111,
              "#46039f"
             ],
             [
              0.2222222222222222,
              "#7201a8"
             ],
             [
              0.3333333333333333,
              "#9c179e"
             ],
             [
              0.4444444444444444,
              "#bd3786"
             ],
             [
              0.5555555555555556,
              "#d8576b"
             ],
             [
              0.6666666666666666,
              "#ed7953"
             ],
             [
              0.7777777777777778,
              "#fb9f3a"
             ],
             [
              0.8888888888888888,
              "#fdca26"
             ],
             [
              1,
              "#f0f921"
             ]
            ],
            "type": "surface"
           }
          ],
          "table": [
           {
            "cells": {
             "fill": {
              "color": "#EBF0F8"
             },
             "line": {
              "color": "white"
             }
            },
            "header": {
             "fill": {
              "color": "#C8D4E3"
             },
             "line": {
              "color": "white"
             }
            },
            "type": "table"
           }
          ]
         },
         "layout": {
          "annotationdefaults": {
           "arrowcolor": "#2a3f5f",
           "arrowhead": 0,
           "arrowwidth": 1
          },
          "autotypenumbers": "strict",
          "coloraxis": {
           "colorbar": {
            "outlinewidth": 0,
            "ticks": ""
           }
          },
          "colorscale": {
           "diverging": [
            [
             0,
             "#8e0152"
            ],
            [
             0.1,
             "#c51b7d"
            ],
            [
             0.2,
             "#de77ae"
            ],
            [
             0.3,
             "#f1b6da"
            ],
            [
             0.4,
             "#fde0ef"
            ],
            [
             0.5,
             "#f7f7f7"
            ],
            [
             0.6,
             "#e6f5d0"
            ],
            [
             0.7,
             "#b8e186"
            ],
            [
             0.8,
             "#7fbc41"
            ],
            [
             0.9,
             "#4d9221"
            ],
            [
             1,
             "#276419"
            ]
           ],
           "sequential": [
            [
             0,
             "#0d0887"
            ],
            [
             0.1111111111111111,
             "#46039f"
            ],
            [
             0.2222222222222222,
             "#7201a8"
            ],
            [
             0.3333333333333333,
             "#9c179e"
            ],
            [
             0.4444444444444444,
             "#bd3786"
            ],
            [
             0.5555555555555556,
             "#d8576b"
            ],
            [
             0.6666666666666666,
             "#ed7953"
            ],
            [
             0.7777777777777778,
             "#fb9f3a"
            ],
            [
             0.8888888888888888,
             "#fdca26"
            ],
            [
             1,
             "#f0f921"
            ]
           ],
           "sequentialminus": [
            [
             0,
             "#0d0887"
            ],
            [
             0.1111111111111111,
             "#46039f"
            ],
            [
             0.2222222222222222,
             "#7201a8"
            ],
            [
             0.3333333333333333,
             "#9c179e"
            ],
            [
             0.4444444444444444,
             "#bd3786"
            ],
            [
             0.5555555555555556,
             "#d8576b"
            ],
            [
             0.6666666666666666,
             "#ed7953"
            ],
            [
             0.7777777777777778,
             "#fb9f3a"
            ],
            [
             0.8888888888888888,
             "#fdca26"
            ],
            [
             1,
             "#f0f921"
            ]
           ]
          },
          "colorway": [
           "#636efa",
           "#EF553B",
           "#00cc96",
           "#ab63fa",
           "#FFA15A",
           "#19d3f3",
           "#FF6692",
           "#B6E880",
           "#FF97FF",
           "#FECB52"
          ],
          "font": {
           "color": "#2a3f5f"
          },
          "geo": {
           "bgcolor": "white",
           "lakecolor": "white",
           "landcolor": "#E5ECF6",
           "showlakes": true,
           "showland": true,
           "subunitcolor": "white"
          },
          "hoverlabel": {
           "align": "left"
          },
          "hovermode": "closest",
          "mapbox": {
           "style": "light"
          },
          "paper_bgcolor": "white",
          "plot_bgcolor": "#E5ECF6",
          "polar": {
           "angularaxis": {
            "gridcolor": "white",
            "linecolor": "white",
            "ticks": ""
           },
           "bgcolor": "#E5ECF6",
           "radialaxis": {
            "gridcolor": "white",
            "linecolor": "white",
            "ticks": ""
           }
          },
          "scene": {
           "xaxis": {
            "backgroundcolor": "#E5ECF6",
            "gridcolor": "white",
            "gridwidth": 2,
            "linecolor": "white",
            "showbackground": true,
            "ticks": "",
            "zerolinecolor": "white"
           },
           "yaxis": {
            "backgroundcolor": "#E5ECF6",
            "gridcolor": "white",
            "gridwidth": 2,
            "linecolor": "white",
            "showbackground": true,
            "ticks": "",
            "zerolinecolor": "white"
           },
           "zaxis": {
            "backgroundcolor": "#E5ECF6",
            "gridcolor": "white",
            "gridwidth": 2,
            "linecolor": "white",
            "showbackground": true,
            "ticks": "",
            "zerolinecolor": "white"
           }
          },
          "shapedefaults": {
           "line": {
            "color": "#2a3f5f"
           }
          },
          "ternary": {
           "aaxis": {
            "gridcolor": "white",
            "linecolor": "white",
            "ticks": ""
           },
           "baxis": {
            "gridcolor": "white",
            "linecolor": "white",
            "ticks": ""
           },
           "bgcolor": "#E5ECF6",
           "caxis": {
            "gridcolor": "white",
            "linecolor": "white",
            "ticks": ""
           }
          },
          "title": {
           "x": 0.05
          },
          "xaxis": {
           "automargin": true,
           "gridcolor": "white",
           "linecolor": "white",
           "ticks": "",
           "title": {
            "standoff": 15
           },
           "zerolinecolor": "white",
           "zerolinewidth": 2
          },
          "yaxis": {
           "automargin": true,
           "gridcolor": "white",
           "linecolor": "white",
           "ticks": "",
           "title": {
            "standoff": 15
           },
           "zerolinecolor": "white",
           "zerolinewidth": 2
          }
         }
        },
        "title": {
         "x": 0.5
        },
        "width": 700
       }
      }
     },
     "metadata": {},
     "output_type": "display_data"
    }
   ],
   "source": [
    "def generate_normalized_gradient(rgb, n):\n",
    "    \"\"\"\n",
    "    Generate a list of `n` normalized RGB gradient values\n",
    "    that fade from black to the input `rgb` color.\n",
    "\n",
    "    Parameters:\n",
    "        rgb (tuple): A tuple of 3 integers (R, G, B), each 0-255.\n",
    "        n (int): Number of gradient steps.\n",
    "\n",
    "    Returns:\n",
    "        list of tuples: Each tuple contains normalized (R, G, B) values.\n",
    "    \"\"\"\n",
    "    rgb = tuple(int(x) for x in rgb[4:-1].split(\", \"))\n",
    "    print(rgb)\n",
    "    if not (isinstance(rgb, tuple) and len(rgb) == 3 and all(0 <= val <= 255 for val in rgb)):\n",
    "        raise ValueError(\"RGB must be a tuple of three integers between 0 and 255.\")\n",
    "    if n <= 0:\n",
    "        raise ValueError(\"Number of gradient steps must be positive.\")\n",
    "    \n",
    "    gradient = []\n",
    "    for i in range(n):\n",
    "        ratio = i / (n - 1) if n > 1 else 1\n",
    "        r = (rgb[0] * ratio) / 255\n",
    "        g = (rgb[1] * ratio) / 255\n",
    "        b = (rgb[2] * ratio) / 255\n",
    "        gradient.append((r, g, b))\n",
    "    print(gradient)\n",
    "    return gradient\n",
    "\n",
    "lit_labels = []\n",
    "lit_data = []\n",
    "lit_titel = []\n",
    "lit_wordshare = []\n",
    "lit_wordfraction = []\n",
    "orgel_labels = []\n",
    "orgel_data = []\n",
    "orgel_titel = []\n",
    "orgel_wordshare = []\n",
    "orgel_wordfraction = []\n",
    "musik_labels = []\n",
    "musik_data = []\n",
    "musik_titel = []\n",
    "musik_wordshare = []\n",
    "musik_wordfraction = []\n",
    "for quelle in sermon.literaturzitate:\n",
    "    lit_titel.append(str(quelle[\"item\"]))\n",
    "    lit_wordshare.append(quelle[\"word_share\"])\n",
    "    lit_wordfraction.append(float(\"{:.4f}\".format((quelle[\"word_share\"]/len(sermon.words))*100)))\n",
    "    lit_labels.append(str(quelle[\"item\"]))\n",
    "    lit_data.append(quelle[\"word_share\"])\n",
    "for predigt in sermon.orgelpredigtzitate:\n",
    "    orgel_titel.append(str(predigt[\"item\"]))\n",
    "    orgel_wordshare.append(predigt[\"word_share\"])\n",
    "    orgel_wordfraction.append(float(\"{:.4f}\".format((predigt[\"word_share\"]/len(sermon.words))*100)))\n",
    "    orgel_labels.append(str(predigt[\"item\"]))\n",
    "    orgel_data.append(predigt[\"word_share\"])\n",
    "for musik in sermon.musikzitate:\n",
    "    musik_titel.append(str(musik[\"item\"]))\n",
    "    musik_wordshare.append(musik[\"word_share\"])\n",
    "    musik_wordfraction.append(float(\"{:.4f}\".format((musik[\"word_share\"]/len(sermon.words))*100)))\n",
    "    musik_labels.append(str(musik[\"item\"]))\n",
    "    musik_data.append(musik[\"word_share\"])\n",
    "\n",
    "\n",
    "labels = []\n",
    "values = []\n",
    "colors = []\n",
    "for item, broad_color in zip([[lit_labels, lit_data], [orgel_labels, orgel_data], [musik_labels, musik_data]], ['quelle', 'orgelpredigt', 'musikwerk']):\n",
    "    print(item[0])\n",
    "    #for x,y  in item[0], item[1]:\n",
    "    labels += item[0]\n",
    "    values += item[1]\n",
    "    colors += generate_normalized_gradient(color_map[broad_color], len(labels))\n",
    "\n",
    "quotations_piechart = go.Figure(go.Pie(values=values, \n",
    "                             labels=labels, \n",
    "                             marker=dict(colors=colors),\n",
    "                             title='Verwendete Zitate'))\n",
    "\n",
    "quotations_piechart.update_layout(\n",
    "    width=700,\n",
    "    height=700,\n",
    "    margin=dict(t=80, b=50, l=50, r=50),\n",
    "    title_x=0.5,  # Center title\n",
    "    legend=dict(\n",
    "        orientation=\"h\",  # horizontal legend\n",
    "        y=-0.1  # push legend below chart\n",
    "    )\n",
    ")"
   ]
  },
  {
   "cell_type": "code",
   "execution_count": 19,
   "id": "d2b60044",
   "metadata": {},
   "outputs": [],
   "source": [
    "cursor, connection = db_connection.get_connection()"
   ]
  },
  {
   "cell_type": "code",
   "execution_count": 20,
   "id": "e7c99992",
   "metadata": {},
   "outputs": [],
   "source": [
    "def is_id(value):\n",
    "    pattern = re.compile(r'E[01][0-9]{5}')\n",
    "    if re.match(pattern, value):\n",
    "        return True\n",
    "    else:\n",
    "        return False"
   ]
  },
  {
   "cell_type": "code",
   "execution_count": 21,
   "id": "b125e8e0",
   "metadata": {},
   "outputs": [
    {
     "data": {
      "text/plain": [
       "'Kirsch'"
      ]
     },
     "execution_count": 21,
     "metadata": {},
     "output_type": "execute_result"
    }
   ],
   "source": [
    "str(sermon.verleger)"
   ]
  },
  {
   "cell_type": "code",
   "execution_count": 22,
   "id": "13eea059",
   "metadata": {},
   "outputs": [],
   "source": [
    "author_network = sermon.autor.get_personal_network()"
   ]
  },
  {
   "cell_type": "code",
   "execution_count": 23,
   "id": "5791bf69",
   "metadata": {},
   "outputs": [],
   "source": [
    "sermon_locations = {\n",
    "    sermon.einweihungsort.name : sermon.einweihungsort.koordinaten,\n",
    "    sermon.verlagsort.name : sermon.verlagsort.koordinaten\n",
    "}"
   ]
  },
  {
   "cell_type": "code",
   "execution_count": 24,
   "id": "0d7bb0c6",
   "metadata": {},
   "outputs": [],
   "source": [
    "import plotly.express as px\n",
    "import math\n",
    "import pandas"
   ]
  },
  {
   "cell_type": "code",
   "execution_count": 25,
   "id": "b2f5a0d3",
   "metadata": {},
   "outputs": [
    {
     "data": {
      "text/plain": [
       "['Augustinus, Aurelius ; Thimme, Wilhelm (Übers.): Confessiones. Bekenntnisse (Düsseldorf ; Zürich: 2004)',\n",
       " 'Luther, Martin: Enchiridion (Frankfurt an der Oder: 1601)',\n",
       " 'Polus, Timotheus: Neu-Vermehrter Lustiger Schawplatz (Lübeck ; Ratzeburg: 1664)',\n",
       " 'Plautus, M. Accius: Marci Accii Plauti Comoediae (London: 1874)',\n",
       " 'Sachs, Michael: Alphabetum historicvm (Leipzig: 1617)',\n",
       " 'Gastoldi, Giovanni: Jesu, wollst uns weisen',\n",
       " 'anonym: So offt ich gedenck an Jüngsten Tag',\n",
       " 'anonym: Herzlich tut mich erfreuen',\n",
       " 'Luther, Martin: Vater unser im Himmelreich',\n",
       " 'Anonym: Komm, Heiliger Geist, Herre Gott',\n",
       " 'Anonym: Kommt her zu mir, spricht Gottes Sohn',\n",
       " 'Luther, Martin: Ein feste Burg ist unser Gott',\n",
       " 'anonym: Veni, Sancte Spiritus',\n",
       " 'Luther, Martin: Aus tiefer Not schrei ich zu dir',\n",
       " 'anonym: Es stehn vor Gottes Throne',\n",
       " 'Anonym: O Christe, Wahrheit und Leben',\n",
       " 'anonym: Komm, Gott Schöpfer, Heiliger Geist']"
      ]
     },
     "execution_count": 25,
     "metadata": {},
     "output_type": "execute_result"
    }
   ],
   "source": [
    "labels"
   ]
  },
  {
   "cell_type": "code",
   "execution_count": 26,
   "id": "cac89788",
   "metadata": {},
   "outputs": [
    {
     "data": {
      "application/vnd.plotly.v1+json": {
       "config": {
        "plotlyServerURL": "https://plot.ly"
       },
       "data": [
        {
         "domain": {
          "x": [
           0,
           1
          ],
          "y": [
           0,
           1
          ]
         },
         "hovertemplate": "label=%{label}<br>value=%{value}<extra></extra>",
         "labels": [
          "quelle",
          "musikwerk literatur",
          "musikwerk",
          "bibel literatur",
          "bibel",
          "literatur",
          "text"
         ],
         "legendgroup": "",
         "name": "",
         "showlegend": true,
         "type": "pie",
         "values": {
          "bdata": "sQBWAMkAWACoBYQECxM=",
          "dtype": "i2"
         }
        }
       ],
       "layout": {
        "legend": {
         "tracegroupgap": 0
        },
        "template": {
         "data": {
          "bar": [
           {
            "error_x": {
             "color": "#2a3f5f"
            },
            "error_y": {
             "color": "#2a3f5f"
            },
            "marker": {
             "line": {
              "color": "#E5ECF6",
              "width": 0.5
             },
             "pattern": {
              "fillmode": "overlay",
              "size": 10,
              "solidity": 0.2
             }
            },
            "type": "bar"
           }
          ],
          "barpolar": [
           {
            "marker": {
             "line": {
              "color": "#E5ECF6",
              "width": 0.5
             },
             "pattern": {
              "fillmode": "overlay",
              "size": 10,
              "solidity": 0.2
             }
            },
            "type": "barpolar"
           }
          ],
          "carpet": [
           {
            "aaxis": {
             "endlinecolor": "#2a3f5f",
             "gridcolor": "white",
             "linecolor": "white",
             "minorgridcolor": "white",
             "startlinecolor": "#2a3f5f"
            },
            "baxis": {
             "endlinecolor": "#2a3f5f",
             "gridcolor": "white",
             "linecolor": "white",
             "minorgridcolor": "white",
             "startlinecolor": "#2a3f5f"
            },
            "type": "carpet"
           }
          ],
          "choropleth": [
           {
            "colorbar": {
             "outlinewidth": 0,
             "ticks": ""
            },
            "type": "choropleth"
           }
          ],
          "contour": [
           {
            "colorbar": {
             "outlinewidth": 0,
             "ticks": ""
            },
            "colorscale": [
             [
              0,
              "#0d0887"
             ],
             [
              0.1111111111111111,
              "#46039f"
             ],
             [
              0.2222222222222222,
              "#7201a8"
             ],
             [
              0.3333333333333333,
              "#9c179e"
             ],
             [
              0.4444444444444444,
              "#bd3786"
             ],
             [
              0.5555555555555556,
              "#d8576b"
             ],
             [
              0.6666666666666666,
              "#ed7953"
             ],
             [
              0.7777777777777778,
              "#fb9f3a"
             ],
             [
              0.8888888888888888,
              "#fdca26"
             ],
             [
              1,
              "#f0f921"
             ]
            ],
            "type": "contour"
           }
          ],
          "contourcarpet": [
           {
            "colorbar": {
             "outlinewidth": 0,
             "ticks": ""
            },
            "type": "contourcarpet"
           }
          ],
          "heatmap": [
           {
            "colorbar": {
             "outlinewidth": 0,
             "ticks": ""
            },
            "colorscale": [
             [
              0,
              "#0d0887"
             ],
             [
              0.1111111111111111,
              "#46039f"
             ],
             [
              0.2222222222222222,
              "#7201a8"
             ],
             [
              0.3333333333333333,
              "#9c179e"
             ],
             [
              0.4444444444444444,
              "#bd3786"
             ],
             [
              0.5555555555555556,
              "#d8576b"
             ],
             [
              0.6666666666666666,
              "#ed7953"
             ],
             [
              0.7777777777777778,
              "#fb9f3a"
             ],
             [
              0.8888888888888888,
              "#fdca26"
             ],
             [
              1,
              "#f0f921"
             ]
            ],
            "type": "heatmap"
           }
          ],
          "histogram": [
           {
            "marker": {
             "pattern": {
              "fillmode": "overlay",
              "size": 10,
              "solidity": 0.2
             }
            },
            "type": "histogram"
           }
          ],
          "histogram2d": [
           {
            "colorbar": {
             "outlinewidth": 0,
             "ticks": ""
            },
            "colorscale": [
             [
              0,
              "#0d0887"
             ],
             [
              0.1111111111111111,
              "#46039f"
             ],
             [
              0.2222222222222222,
              "#7201a8"
             ],
             [
              0.3333333333333333,
              "#9c179e"
             ],
             [
              0.4444444444444444,
              "#bd3786"
             ],
             [
              0.5555555555555556,
              "#d8576b"
             ],
             [
              0.6666666666666666,
              "#ed7953"
             ],
             [
              0.7777777777777778,
              "#fb9f3a"
             ],
             [
              0.8888888888888888,
              "#fdca26"
             ],
             [
              1,
              "#f0f921"
             ]
            ],
            "type": "histogram2d"
           }
          ],
          "histogram2dcontour": [
           {
            "colorbar": {
             "outlinewidth": 0,
             "ticks": ""
            },
            "colorscale": [
             [
              0,
              "#0d0887"
             ],
             [
              0.1111111111111111,
              "#46039f"
             ],
             [
              0.2222222222222222,
              "#7201a8"
             ],
             [
              0.3333333333333333,
              "#9c179e"
             ],
             [
              0.4444444444444444,
              "#bd3786"
             ],
             [
              0.5555555555555556,
              "#d8576b"
             ],
             [
              0.6666666666666666,
              "#ed7953"
             ],
             [
              0.7777777777777778,
              "#fb9f3a"
             ],
             [
              0.8888888888888888,
              "#fdca26"
             ],
             [
              1,
              "#f0f921"
             ]
            ],
            "type": "histogram2dcontour"
           }
          ],
          "mesh3d": [
           {
            "colorbar": {
             "outlinewidth": 0,
             "ticks": ""
            },
            "type": "mesh3d"
           }
          ],
          "parcoords": [
           {
            "line": {
             "colorbar": {
              "outlinewidth": 0,
              "ticks": ""
             }
            },
            "type": "parcoords"
           }
          ],
          "pie": [
           {
            "automargin": true,
            "type": "pie"
           }
          ],
          "scatter": [
           {
            "fillpattern": {
             "fillmode": "overlay",
             "size": 10,
             "solidity": 0.2
            },
            "type": "scatter"
           }
          ],
          "scatter3d": [
           {
            "line": {
             "colorbar": {
              "outlinewidth": 0,
              "ticks": ""
             }
            },
            "marker": {
             "colorbar": {
              "outlinewidth": 0,
              "ticks": ""
             }
            },
            "type": "scatter3d"
           }
          ],
          "scattercarpet": [
           {
            "marker": {
             "colorbar": {
              "outlinewidth": 0,
              "ticks": ""
             }
            },
            "type": "scattercarpet"
           }
          ],
          "scattergeo": [
           {
            "marker": {
             "colorbar": {
              "outlinewidth": 0,
              "ticks": ""
             }
            },
            "type": "scattergeo"
           }
          ],
          "scattergl": [
           {
            "marker": {
             "colorbar": {
              "outlinewidth": 0,
              "ticks": ""
             }
            },
            "type": "scattergl"
           }
          ],
          "scattermap": [
           {
            "marker": {
             "colorbar": {
              "outlinewidth": 0,
              "ticks": ""
             }
            },
            "type": "scattermap"
           }
          ],
          "scattermapbox": [
           {
            "marker": {
             "colorbar": {
              "outlinewidth": 0,
              "ticks": ""
             }
            },
            "type": "scattermapbox"
           }
          ],
          "scatterpolar": [
           {
            "marker": {
             "colorbar": {
              "outlinewidth": 0,
              "ticks": ""
             }
            },
            "type": "scatterpolar"
           }
          ],
          "scatterpolargl": [
           {
            "marker": {
             "colorbar": {
              "outlinewidth": 0,
              "ticks": ""
             }
            },
            "type": "scatterpolargl"
           }
          ],
          "scatterternary": [
           {
            "marker": {
             "colorbar": {
              "outlinewidth": 0,
              "ticks": ""
             }
            },
            "type": "scatterternary"
           }
          ],
          "surface": [
           {
            "colorbar": {
             "outlinewidth": 0,
             "ticks": ""
            },
            "colorscale": [
             [
              0,
              "#0d0887"
             ],
             [
              0.1111111111111111,
              "#46039f"
             ],
             [
              0.2222222222222222,
              "#7201a8"
             ],
             [
              0.3333333333333333,
              "#9c179e"
             ],
             [
              0.4444444444444444,
              "#bd3786"
             ],
             [
              0.5555555555555556,
              "#d8576b"
             ],
             [
              0.6666666666666666,
              "#ed7953"
             ],
             [
              0.7777777777777778,
              "#fb9f3a"
             ],
             [
              0.8888888888888888,
              "#fdca26"
             ],
             [
              1,
              "#f0f921"
             ]
            ],
            "type": "surface"
           }
          ],
          "table": [
           {
            "cells": {
             "fill": {
              "color": "#EBF0F8"
             },
             "line": {
              "color": "white"
             }
            },
            "header": {
             "fill": {
              "color": "#C8D4E3"
             },
             "line": {
              "color": "white"
             }
            },
            "type": "table"
           }
          ]
         },
         "layout": {
          "annotationdefaults": {
           "arrowcolor": "#2a3f5f",
           "arrowhead": 0,
           "arrowwidth": 1
          },
          "autotypenumbers": "strict",
          "coloraxis": {
           "colorbar": {
            "outlinewidth": 0,
            "ticks": ""
           }
          },
          "colorscale": {
           "diverging": [
            [
             0,
             "#8e0152"
            ],
            [
             0.1,
             "#c51b7d"
            ],
            [
             0.2,
             "#de77ae"
            ],
            [
             0.3,
             "#f1b6da"
            ],
            [
             0.4,
             "#fde0ef"
            ],
            [
             0.5,
             "#f7f7f7"
            ],
            [
             0.6,
             "#e6f5d0"
            ],
            [
             0.7,
             "#b8e186"
            ],
            [
             0.8,
             "#7fbc41"
            ],
            [
             0.9,
             "#4d9221"
            ],
            [
             1,
             "#276419"
            ]
           ],
           "sequential": [
            [
             0,
             "#0d0887"
            ],
            [
             0.1111111111111111,
             "#46039f"
            ],
            [
             0.2222222222222222,
             "#7201a8"
            ],
            [
             0.3333333333333333,
             "#9c179e"
            ],
            [
             0.4444444444444444,
             "#bd3786"
            ],
            [
             0.5555555555555556,
             "#d8576b"
            ],
            [
             0.6666666666666666,
             "#ed7953"
            ],
            [
             0.7777777777777778,
             "#fb9f3a"
            ],
            [
             0.8888888888888888,
             "#fdca26"
            ],
            [
             1,
             "#f0f921"
            ]
           ],
           "sequentialminus": [
            [
             0,
             "#0d0887"
            ],
            [
             0.1111111111111111,
             "#46039f"
            ],
            [
             0.2222222222222222,
             "#7201a8"
            ],
            [
             0.3333333333333333,
             "#9c179e"
            ],
            [
             0.4444444444444444,
             "#bd3786"
            ],
            [
             0.5555555555555556,
             "#d8576b"
            ],
            [
             0.6666666666666666,
             "#ed7953"
            ],
            [
             0.7777777777777778,
             "#fb9f3a"
            ],
            [
             0.8888888888888888,
             "#fdca26"
            ],
            [
             1,
             "#f0f921"
            ]
           ]
          },
          "colorway": [
           "#636efa",
           "#EF553B",
           "#00cc96",
           "#ab63fa",
           "#FFA15A",
           "#19d3f3",
           "#FF6692",
           "#B6E880",
           "#FF97FF",
           "#FECB52"
          ],
          "font": {
           "color": "#2a3f5f"
          },
          "geo": {
           "bgcolor": "white",
           "lakecolor": "white",
           "landcolor": "#E5ECF6",
           "showlakes": true,
           "showland": true,
           "subunitcolor": "white"
          },
          "hoverlabel": {
           "align": "left"
          },
          "hovermode": "closest",
          "mapbox": {
           "style": "light"
          },
          "paper_bgcolor": "white",
          "plot_bgcolor": "#E5ECF6",
          "polar": {
           "angularaxis": {
            "gridcolor": "white",
            "linecolor": "white",
            "ticks": ""
           },
           "bgcolor": "#E5ECF6",
           "radialaxis": {
            "gridcolor": "white",
            "linecolor": "white",
            "ticks": ""
           }
          },
          "scene": {
           "xaxis": {
            "backgroundcolor": "#E5ECF6",
            "gridcolor": "white",
            "gridwidth": 2,
            "linecolor": "white",
            "showbackground": true,
            "ticks": "",
            "zerolinecolor": "white"
           },
           "yaxis": {
            "backgroundcolor": "#E5ECF6",
            "gridcolor": "white",
            "gridwidth": 2,
            "linecolor": "white",
            "showbackground": true,
            "ticks": "",
            "zerolinecolor": "white"
           },
           "zaxis": {
            "backgroundcolor": "#E5ECF6",
            "gridcolor": "white",
            "gridwidth": 2,
            "linecolor": "white",
            "showbackground": true,
            "ticks": "",
            "zerolinecolor": "white"
           }
          },
          "shapedefaults": {
           "line": {
            "color": "#2a3f5f"
           }
          },
          "ternary": {
           "aaxis": {
            "gridcolor": "white",
            "linecolor": "white",
            "ticks": ""
           },
           "baxis": {
            "gridcolor": "white",
            "linecolor": "white",
            "ticks": ""
           },
           "bgcolor": "#E5ECF6",
           "caxis": {
            "gridcolor": "white",
            "linecolor": "white",
            "ticks": ""
           }
          },
          "title": {
           "x": 0.05
          },
          "xaxis": {
           "automargin": true,
           "gridcolor": "white",
           "linecolor": "white",
           "ticks": "",
           "title": {
            "standoff": 15
           },
           "zerolinecolor": "white",
           "zerolinewidth": 2
          },
          "yaxis": {
           "automargin": true,
           "gridcolor": "white",
           "linecolor": "white",
           "ticks": "",
           "title": {
            "standoff": 15
           },
           "zerolinecolor": "white",
           "zerolinewidth": 2
          }
         }
        },
        "title": {
         "text": "My Pie Chart"
        }
       }
      }
     },
     "metadata": {},
     "output_type": "display_data"
    }
   ],
   "source": [
    "occurrences = {i:sermon.word_types.count(i) for i in set(sermon.word_types)}\n",
    "\n",
    "labels = []\n",
    "data = []\n",
    "for label, number in occurrences.items():\n",
    "    if pandas.isnull(label):\n",
    "    #if math.isnan(int(label)):\n",
    "        labels.append(\"text\")\n",
    "    else:\n",
    "        labels.append(label.strip())\n",
    "    data.append(number)\n",
    "\n",
    "fig = px.pie(values=data, names=labels, title='My Pie Chart')\n",
    "fig.show()"
   ]
  },
  {
   "cell_type": "code",
   "execution_count": 27,
   "id": "1d771e26",
   "metadata": {},
   "outputs": [
    {
     "data": {
      "text/plain": [
       "['Weish_11-21',\n",
       " 'Weish_11-21',\n",
       " 'Weish_11-21',\n",
       " 'Weish_11-21',\n",
       " 'Weish_11-21',\n",
       " 'Weish_11-21',\n",
       " 'Weish_11-21',\n",
       " 'Weish_11-21',\n",
       " 'Ps_111-3',\n",
       " 'Ps_111-3',\n",
       " 'Ps_111-3',\n",
       " 'Ps_111-3',\n",
       " 'Ps_111-3',\n",
       " 'Ps_111-3',\n",
       " 'Ps_111-3',\n",
       " 'Ps_111-3',\n",
       " 'Ps_150',\n",
       " 'Ps_150',\n",
       " 'Ps_150',\n",
       " 'Ps_150',\n",
       " 'Ps_150',\n",
       " 'Ps_150',\n",
       " 'Ps_150',\n",
       " 'Ps_150',\n",
       " 'Ps_150',\n",
       " 'Ps_150',\n",
       " 'Ps_150',\n",
       " 'Ps_150',\n",
       " 'Ps_150',\n",
       " 'Ps_150',\n",
       " 'Ps_150',\n",
       " 'Ps_150',\n",
       " 'Ps_150',\n",
       " 'Ps_150',\n",
       " 'Ps_150',\n",
       " 'Ps_150',\n",
       " 'Ps_150',\n",
       " 'Ps_150',\n",
       " 'Ps_150',\n",
       " 'Ps_150',\n",
       " 'Ps_150',\n",
       " 'Ps_150',\n",
       " 'Ps_150',\n",
       " 'Ps_150',\n",
       " 'Ps_150',\n",
       " 'Ps_150',\n",
       " 'Ps_150',\n",
       " 'Ps_150',\n",
       " 'Ps_150',\n",
       " 'Ps_150',\n",
       " 'Ps_150',\n",
       " 'Ps_150',\n",
       " 'Ps_150',\n",
       " 'Ps_150',\n",
       " 'Ps_150',\n",
       " 'Ps_150',\n",
       " 'Ps_150',\n",
       " 'Ps_150',\n",
       " 'Ps_150',\n",
       " 'Ps_150',\n",
       " 'Ps_150',\n",
       " 'Ps_150',\n",
       " 'Ps_150',\n",
       " 'Ps_150',\n",
       " 'Ps_150',\n",
       " 'Ps_150',\n",
       " 'Ps_150',\n",
       " 'Ps_150',\n",
       " 'Ps_150',\n",
       " 'Ps_150',\n",
       " 'Ps_150',\n",
       " 'Ps_150',\n",
       " 'Ps_150',\n",
       " 'Ps_150',\n",
       " 'Ps_150',\n",
       " 'Ps_150',\n",
       " 'Ps_150',\n",
       " 'Ps_150',\n",
       " 'Ps_150',\n",
       " 'Ps_150',\n",
       " 'Kol_3-16',\n",
       " 'Kol_3-16',\n",
       " 'Kol_3-16',\n",
       " 'Kol_3-16',\n",
       " 'Kol_3-16',\n",
       " 'Kol_3-16',\n",
       " 'Kol_3-16',\n",
       " 'Kol_3-16',\n",
       " 'Kol_3-16',\n",
       " 'Kol_3-16',\n",
       " 'Kol_3-16',\n",
       " 'Kol_3-16',\n",
       " 'Kol_3-16',\n",
       " 'Kol_3-16',\n",
       " 'Kol_3-16',\n",
       " 'Kol_3-16',\n",
       " 'Kol_3-16',\n",
       " 'Kol_3-16',\n",
       " 'Kol_3-16',\n",
       " 'Kol_3-16',\n",
       " 'Kol_3-16',\n",
       " 'Kol_3-16',\n",
       " 'Kol_3-16',\n",
       " 'Kol_3-16',\n",
       " 'Kol_3-16',\n",
       " 'Kol_3-16',\n",
       " 'Kol_3-16',\n",
       " 'Kol_3-16',\n",
       " 'Kol_3-16',\n",
       " 'Kol_3-16',\n",
       " 'Kol_3-16',\n",
       " 'Eph_5-18.19',\n",
       " 'Eph_5-18.19',\n",
       " 'Eph_5-18.19',\n",
       " 'Eph_5-18.19',\n",
       " 'Eph_5-18.19',\n",
       " 'Eph_5-18.19',\n",
       " 'Eph_5-18.19',\n",
       " 'Eph_5-18.19',\n",
       " 'Eph_5-18.19',\n",
       " 'Eph_5-18.19',\n",
       " 'Eph_5-18.19',\n",
       " 'Eph_5-18.19',\n",
       " 'Eph_5-18.19',\n",
       " 'Eph_5-18.19',\n",
       " 'Eph_5-18.19',\n",
       " 'Eph_5-18.19',\n",
       " 'Eph_5-18.19',\n",
       " 'Eph_5-18.19',\n",
       " 'Eph_5-18.19',\n",
       " 'Eph_5-18.19',\n",
       " 'Eph_5-18.19',\n",
       " 'Eph_5-18.19',\n",
       " 'Jak_5-13',\n",
       " 'Jak_5-13',\n",
       " 'Jak_5-13',\n",
       " 'Jak_5-13',\n",
       " 'Jak_5-13',\n",
       " 'Jak_5-13',\n",
       " 'Jak_5-13',\n",
       " '1Sam_16-23',\n",
       " '1Sam_16-23',\n",
       " '1Sam_16-23',\n",
       " '1Sam_16-23',\n",
       " '1Sam_16-23',\n",
       " '1Sam_16-23',\n",
       " '1Sam_16-23',\n",
       " '1Sam_16-23',\n",
       " '1Sam_16-23',\n",
       " '1Sam_16-23',\n",
       " '1Sam_16-23',\n",
       " '1Sam_16-23',\n",
       " '1Sam_16-23',\n",
       " '1Sam_16-23',\n",
       " '1Sam_16-23',\n",
       " '1Sam_16-23',\n",
       " '1Sam_16-23',\n",
       " '1Sam_16-23',\n",
       " '1Sam_16-23',\n",
       " '1Sam_16-23',\n",
       " '1Sam_16-23',\n",
       " '1Sam_16-23',\n",
       " '1Sam_16-23',\n",
       " '1Sam_16-23',\n",
       " '1Sam_16-23',\n",
       " '1Sam_16-23',\n",
       " '1Sam_16-23',\n",
       " '1Sam_16-23',\n",
       " '1Sam_16-23',\n",
       " '1Sam_16-23',\n",
       " '1Sam_16-23',\n",
       " '1Sam_16-23',\n",
       " '1Sam_16-23',\n",
       " 'Ps_4-1',\n",
       " 'Ps_4-1',\n",
       " 'Ps_4-1',\n",
       " 'Ps_4-1',\n",
       " 'Ps_4-1',\n",
       " 'Ps_4-1',\n",
       " 'Ps_6-1',\n",
       " 'Ps_12-1',\n",
       " 'Ps_12-1',\n",
       " 'Ps_12-1',\n",
       " 'Ps_12-1',\n",
       " 'Ps_12-1',\n",
       " 'Ps_12-1',\n",
       " 'Ps_12-1',\n",
       " '2Sam_6-4.5',\n",
       " '2Sam_6-4.5',\n",
       " '2Sam_6-4.5',\n",
       " '2Sam_6-4.5',\n",
       " '2Sam_6-4.5',\n",
       " '2Sam_6-4.5',\n",
       " '2Sam_6-4.5',\n",
       " '2Sam_6-4.5',\n",
       " '2Sam_6-4.5',\n",
       " '2Sam_6-4.5',\n",
       " '2Sam_6-4.5',\n",
       " '2Sam_6-4.5',\n",
       " '2Sam_6-4.5',\n",
       " '2Sam_6-4.5',\n",
       " '2Sam_6-4.5',\n",
       " '2Sam_6-4.5',\n",
       " '2Sam_6-4.5',\n",
       " '2Sam_6-4.5',\n",
       " '2Sam_6-4.5',\n",
       " '2Sam_6-4.5',\n",
       " '2Sam_6-4.5',\n",
       " '2Sam_6-4.5',\n",
       " '2Sam_6-4.5',\n",
       " '2Sam_6-4.5',\n",
       " '2Sam_6-4.5',\n",
       " '2Sam_6-4.5',\n",
       " '2Sam_6-4.5',\n",
       " '2Sam_6-4.5',\n",
       " '2Sam_6-4.5',\n",
       " '2Sam_6-4.5',\n",
       " '2Sam_6-4.5',\n",
       " '2Sam_6-4.5',\n",
       " '2Sam_6-4.5',\n",
       " '2Sam_6-4.5',\n",
       " '2Sam_6-4.5',\n",
       " '2Sam_6-4.5',\n",
       " '2Sam_6-4.5',\n",
       " '2Sam_6-4.5',\n",
       " '2Sam_6-4.5',\n",
       " '2Sam_6-4.5',\n",
       " '2Chr_7-5',\n",
       " '2Chr_7-5',\n",
       " '2Chr_7-5',\n",
       " '2Chr_7-5',\n",
       " '2Chr_7-5',\n",
       " '2Chr_7-5',\n",
       " '2Chr_7-5',\n",
       " '2Chr_7-5',\n",
       " '2Chr_7-5',\n",
       " '2Chr_7-5',\n",
       " '2Chr_7-5',\n",
       " '2Chr_7-5',\n",
       " '2Chr_7-5',\n",
       " '2Chr_7-5',\n",
       " '2Chr_7-5',\n",
       " '2Chr_7-5',\n",
       " '2Chr_7-5',\n",
       " '2Chr_7-5',\n",
       " '2Chr_7-5',\n",
       " '2Chr_7-5',\n",
       " '2Chr_7-5',\n",
       " '2Chr_7-5',\n",
       " '2Chr_7-5',\n",
       " '2Chr_7-5',\n",
       " '2Chr_7-5',\n",
       " '2Chr_7-5',\n",
       " '2Chr_7-5',\n",
       " '2Chr_7-5',\n",
       " '2Chr_7-5',\n",
       " '2Chr_20-28',\n",
       " '2Chr_20-28',\n",
       " '2Chr_20-28',\n",
       " '2Chr_20-28',\n",
       " '2Chr_20-28',\n",
       " '2Chr_20-28',\n",
       " '2Chr_20-28',\n",
       " '2Chr_20-28',\n",
       " '2Chr_20-28',\n",
       " '2Chr_20-28',\n",
       " '2Chr_20-28',\n",
       " '2Chr_20-28',\n",
       " 'Neh_12-27',\n",
       " 'Neh_12-27',\n",
       " 'Neh_12-27',\n",
       " 'Neh_12-27',\n",
       " 'Neh_12-27',\n",
       " 'Neh_12-27',\n",
       " 'Neh_12-27',\n",
       " 'Neh_12-27',\n",
       " 'Neh_12-27',\n",
       " 'Neh_12-27',\n",
       " 'Neh_12-27',\n",
       " 'Neh_12-27',\n",
       " 'Neh_12-27',\n",
       " 'Neh_12-27',\n",
       " 'Neh_12-27',\n",
       " '2Kön_3-15',\n",
       " '2Kön_3-15',\n",
       " '2Kön_3-15',\n",
       " '2Kön_3-15',\n",
       " '2Kön_3-15',\n",
       " '2Kön_3-15',\n",
       " '2Kön_3-15',\n",
       " '2Kön_3-15',\n",
       " '2Kön_3-15',\n",
       " '2Kön_3-15',\n",
       " '2Kön_3-15',\n",
       " '2Kön_3-15',\n",
       " '2Kön_3-15',\n",
       " '2Kön_3-15',\n",
       " '2Kön_3-15',\n",
       " 'E090560',\n",
       " 'E090560',\n",
       " 'E090560',\n",
       " 'E090560',\n",
       " 'E090560',\n",
       " 'E090560',\n",
       " 'E090560',\n",
       " 'E090560',\n",
       " 'E090560',\n",
       " 'E090560',\n",
       " 'E090560',\n",
       " 'E090560',\n",
       " 'E090560',\n",
       " 'E090560',\n",
       " 'E090560',\n",
       " 'E090560',\n",
       " 'E090560',\n",
       " 'E090560',\n",
       " 'E090560',\n",
       " 'E090560',\n",
       " 'E090560',\n",
       " 'E090560',\n",
       " 'E080425',\n",
       " 'E080425',\n",
       " 'E080425',\n",
       " 'E080425',\n",
       " 'E080425',\n",
       " 'E080425',\n",
       " 'E080425',\n",
       " 'E080425',\n",
       " 'E080425',\n",
       " 'E080425',\n",
       " 'E080425',\n",
       " 'E080425',\n",
       " 'E080425',\n",
       " 'E080425',\n",
       " 'E080425',\n",
       " 'E080425',\n",
       " 'E080425',\n",
       " 'E080425',\n",
       " 'E080425',\n",
       " 'E080425',\n",
       " 'E080425',\n",
       " 'E080425',\n",
       " 'E080425',\n",
       " 'E080425',\n",
       " 'E080425',\n",
       " 'E080425',\n",
       " 'E080425',\n",
       " 'E080425',\n",
       " 'E080425',\n",
       " 'E080425',\n",
       " 'E080425',\n",
       " 'E080425',\n",
       " 'E080425',\n",
       " 'E080425',\n",
       " 'E080425',\n",
       " 'E080425',\n",
       " 'E080425',\n",
       " 'E080425',\n",
       " 'E080425',\n",
       " 'E080425',\n",
       " 'E080425',\n",
       " 'E080425',\n",
       " 'E080425',\n",
       " 'E080425',\n",
       " 'E080425',\n",
       " 'E080425',\n",
       " 'E080425',\n",
       " 'E080425',\n",
       " 'E080425',\n",
       " 'E080425',\n",
       " 'E080425',\n",
       " 'E080425',\n",
       " 'E080425',\n",
       " 'E080425',\n",
       " 'E080425',\n",
       " 'E080425',\n",
       " 'E080425',\n",
       " 'E080425',\n",
       " 'E080425',\n",
       " 'E080425',\n",
       " 'E080425',\n",
       " 'E080425',\n",
       " 'E080425',\n",
       " 'E080425',\n",
       " 'E080425',\n",
       " 'E080425',\n",
       " 'E080426',\n",
       " 'E080426',\n",
       " 'E080426',\n",
       " 'E080426',\n",
       " 'E080426',\n",
       " 'E080426',\n",
       " 'E080426',\n",
       " 'E080426',\n",
       " 'E080426',\n",
       " 'E080426',\n",
       " 'E080426',\n",
       " 'E080426',\n",
       " 'E080426',\n",
       " 'E080426',\n",
       " 'E080426',\n",
       " 'E080426',\n",
       " 'E080426',\n",
       " 'E080426',\n",
       " 'E080426',\n",
       " 'E080426',\n",
       " 'E080426',\n",
       " 'E080426',\n",
       " 'E080426',\n",
       " 'E080426',\n",
       " 'E080426',\n",
       " 'E080426',\n",
       " 'E080426',\n",
       " 'E080426',\n",
       " 'E080426',\n",
       " 'E080426',\n",
       " 'E080426',\n",
       " 'E080426',\n",
       " 'E080426',\n",
       " 'E080426',\n",
       " 'E080426',\n",
       " 'E080426',\n",
       " 'E080426',\n",
       " 'E080426',\n",
       " 'E100087',\n",
       " 'E100087',\n",
       " 'E100087',\n",
       " 'E100087',\n",
       " 'E100087',\n",
       " 'E100087',\n",
       " 'Mt_13-34.35',\n",
       " 'Mt_13-34.35',\n",
       " 'Mt_13-34.35',\n",
       " 'Mt_13-34.35',\n",
       " 'Mt_13-34.35',\n",
       " 'Mt_13-34.35',\n",
       " 'Mt_13-34.35',\n",
       " 'Mt_13-34.35',\n",
       " 'Mt_13-34.35',\n",
       " 'Mt_13-34.35',\n",
       " 'Mt_13-34.35',\n",
       " 'Mt_13-34.35',\n",
       " 'Mt_13-34.35',\n",
       " 'Mt_13-34.35',\n",
       " 'Mt_13-34.35',\n",
       " 'Mt_13-34.35',\n",
       " 'Mt_13-34.35',\n",
       " 'Mt_13-34.35',\n",
       " 'Mt_13-34.35',\n",
       " 'Mt_13-34.35',\n",
       " 'Mt_13-34.35',\n",
       " 'Mt_13-34.35',\n",
       " 'Mt_13-34.35',\n",
       " 'Mt_13-34.35',\n",
       " 'Mt_13-34.35',\n",
       " 'Mt_13-34.35',\n",
       " 'Mt_13-34.35',\n",
       " 'Mt_13-34.35',\n",
       " 'Mt_13-34.35',\n",
       " 'Mt_13-34.35',\n",
       " 'Mt_13-34.35',\n",
       " 'Mt_13-34.35',\n",
       " 'Mt_13-34.35',\n",
       " 'Mt_13-34.35',\n",
       " 'Mt_13-34.35',\n",
       " 'Mt_13-34.35',\n",
       " 'Mt_13-34.35',\n",
       " 'Ps_78-2',\n",
       " 'Mt_13-34.35',\n",
       " 'Ps_78-2',\n",
       " 'Mt_13-34.35',\n",
       " 'Ps_78-2',\n",
       " 'Mt_13-34.35',\n",
       " 'Ps_78-2',\n",
       " 'Mt_13-34.35',\n",
       " 'Mt_13-34.35',\n",
       " 'Mt_13-34.35',\n",
       " 'Mt_13-34.35',\n",
       " 'Mt_13-34.35',\n",
       " 'Mt_13-34.35',\n",
       " 'Mt_13-34.35',\n",
       " 'Mt_13-34.35',\n",
       " 'Mt_13-34.35',\n",
       " 'Mt_13-34.35',\n",
       " 'Mt_13-34.35',\n",
       " 'Mt_13-34.35',\n",
       " 'Mt_13-34.35',\n",
       " 'Mt_13-34.35',\n",
       " 'Mt_13-34.35',\n",
       " 'Mt_13-34.35',\n",
       " 'Lk_8-4.5.6.7.8.9.10.11.12.13.14.15',\n",
       " 'Lk_8-4.5.6.7.8.9.10.11.12.13.14.15',\n",
       " 'Lk_8-4.5.6.7.8.9.10.11.12.13.14.15',\n",
       " 'Lk_8-4.5.6.7.8.9.10.11.12.13.14.15',\n",
       " 'Lk_8-4.5.6.7.8.9.10.11.12.13.14.15',\n",
       " 'Lk_8-4.5.6.7.8.9.10.11.12.13.14.15',\n",
       " 'Lk_8-4.5.6.7.8.9.10.11.12.13.14.15',\n",
       " 'Lk_8-4.5.6.7.8.9.10.11.12.13.14.15',\n",
       " 'Lk_8-4.5.6.7.8.9.10.11.12.13.14.15',\n",
       " 'Lk_8-4.5.6.7.8.9.10.11.12.13.14.15',\n",
       " 'Lk_8-4.5.6.7.8.9.10.11.12.13.14.15',\n",
       " 'Lk_8-4.5.6.7.8.9.10.11.12.13.14.15',\n",
       " 'Lk_8-4.5.6.7.8.9.10.11.12.13.14.15',\n",
       " 'Lk_8-4.5.6.7.8.9.10.11.12.13.14.15',\n",
       " 'Lk_8-4.5.6.7.8.9.10.11.12.13.14.15',\n",
       " 'Lk_8-10',\n",
       " 'Lk_8-10',\n",
       " 'Lk_8-10',\n",
       " 'Lk_8-10',\n",
       " 'Lk_8-10',\n",
       " 'Lk_8-10',\n",
       " 'Lk_8-10',\n",
       " 'Lk_8-10',\n",
       " 'Lk_8-10',\n",
       " 'Lk_8-10',\n",
       " 'Apg_13-34',\n",
       " 'Apg_13-34',\n",
       " 'Apg_13-34',\n",
       " 'Lk_8-11.12',\n",
       " 'Lk_8-11.12',\n",
       " 'Lk_8-11.12',\n",
       " 'Lk_8-11.12',\n",
       " 'Lk_8-11.12',\n",
       " 'Lk_8-11.12',\n",
       " 'Lk_8-11.12',\n",
       " 'Lk_8-11.12',\n",
       " 'Lk_8-11.12',\n",
       " 'Lk_8-11.12',\n",
       " 'Lk_8-11.12',\n",
       " 'Lk_8-11.12',\n",
       " 'Lk_8-11.12',\n",
       " 'Lk_8-11.12',\n",
       " 'Lk_8-11.12',\n",
       " 'Lk_8-11.12',\n",
       " '2Tim_4-2',\n",
       " '2Tim_4-2',\n",
       " '2Tim_4-2',\n",
       " '2Tim_4-2',\n",
       " '1Kor_3-9',\n",
       " '1Kor_3-9',\n",
       " 'Eph_1-22',\n",
       " 'Eph_1-22',\n",
       " 'Eph_1-22',\n",
       " 'Eph_1-22',\n",
       " 'Eph_1-22',\n",
       " 'Joh_15-5',\n",
       " 'Joh_15-5',\n",
       " 'Joh_15-5',\n",
       " '1Kor_3-6',\n",
       " '1Kor_3-6',\n",
       " '1Kor_3-6',\n",
       " '1Kor_3-6',\n",
       " '1Kor_3-6',\n",
       " '1Kor_3-6',\n",
       " '2Petr_1-21',\n",
       " '2Petr_1-21',\n",
       " '2Petr_1-21',\n",
       " '2Petr_1-21',\n",
       " '2Petr_1-21',\n",
       " '2Petr_1-21',\n",
       " '2Petr_1-21',\n",
       " 'Eph_2-20.21',\n",
       " 'Eph_2-20.21',\n",
       " 'Eph_2-20.21',\n",
       " 'Eph_2-20.21',\n",
       " 'Eph_2-20.21',\n",
       " 'Eph_2-20.21',\n",
       " 'Eph_2-20.21',\n",
       " 'Eph_2-20.21',\n",
       " 'Eph_2-20.21',\n",
       " 'Eph_2-20.21',\n",
       " 'Eph_2-20.21',\n",
       " 'Eph_2-20.21',\n",
       " 'Eph_2-20.21',\n",
       " 'Eph_2-20.21',\n",
       " 'Eph_2-20.21',\n",
       " 'Eph_2-20.21',\n",
       " 'Eph_2-20.21',\n",
       " 'Eph_2-20.21',\n",
       " 'Eph_2-20.21',\n",
       " 'Eph_2-20.21',\n",
       " 'Eph_2-20.21',\n",
       " 'Eph_2-20.21',\n",
       " 'Eph_2-20.21',\n",
       " 'Eph_2-20.21',\n",
       " 'Eph_2-20.21',\n",
       " 'Eph_2-20.21',\n",
       " 'Eph_2-20.21',\n",
       " 'Eph_2-20.21',\n",
       " 'Eph_2-20.21',\n",
       " 'Eph_2-20.21',\n",
       " 'Eph_2-20.21',\n",
       " 'Eph_2-20.21',\n",
       " '1Kor_3-9',\n",
       " '1Kor_3-9',\n",
       " 'Sir_35-21',\n",
       " 'Sir_35-21',\n",
       " 'Sir_35-21',\n",
       " 'Sir_35-21',\n",
       " 'Sir_35-21',\n",
       " 'Sir_35-21',\n",
       " 'Sir_35-21',\n",
       " 'Sir_35-21',\n",
       " 'Sir_35-21',\n",
       " 'Sir_35-21',\n",
       " 'Sir_35-21',\n",
       " 'Sir_35-21',\n",
       " 'Sir_35-21',\n",
       " 'Sir_35-21',\n",
       " 'Sir_35-21',\n",
       " 'Sir_35-21',\n",
       " 'Sir_35-21',\n",
       " 'Sir_35-21',\n",
       " 'Ps_2-9',\n",
       " 'Ps_2-9',\n",
       " 'Ps_2-9',\n",
       " 'Ps_23-4',\n",
       " 'Ps_23-4',\n",
       " 'Ps_23-4',\n",
       " 'Sach_11-7',\n",
       " 'Sach_11-7',\n",
       " 'Sach_11-7',\n",
       " 'Mt_16-18',\n",
       " 'Mt_16-18',\n",
       " 'Mt_16-18',\n",
       " 'Mt_16-18',\n",
       " 'Mt_16-18',\n",
       " 'Mt_16-18',\n",
       " 'Mt_16-18',\n",
       " 'Mt_16-18',\n",
       " 'Jes_40-8',\n",
       " 'Jes_40-8',\n",
       " 'Jes_40-8',\n",
       " 'Röm_8-38.39',\n",
       " 'Röm_8-38.39',\n",
       " 'Röm_8-38.39',\n",
       " 'Röm_8-38.39',\n",
       " 'Röm_8-38.39',\n",
       " 'Röm_8-38.39',\n",
       " 'Röm_8-38.39',\n",
       " 'Röm_8-38.39',\n",
       " 'Röm_8-38.39',\n",
       " 'Röm_8-38.39',\n",
       " 'Röm_8-38.39',\n",
       " 'Röm_8-38.39',\n",
       " 'Röm_8-38.39',\n",
       " 'Röm_8-38.39',\n",
       " 'Röm_8-38.39',\n",
       " 'Röm_8-38.39',\n",
       " 'Röm_8-38.39',\n",
       " 'Röm_8-38.39',\n",
       " 'Röm_8-38.39',\n",
       " 'Röm_8-38.39',\n",
       " 'Röm_8-38.39',\n",
       " 'Röm_8-38.39',\n",
       " 'Röm_8-38.39',\n",
       " 'Röm_8-38.39',\n",
       " 'Röm_8-38.39',\n",
       " 'Röm_8-38.39',\n",
       " 'Röm_8-38.39',\n",
       " 'Röm_8-38.39',\n",
       " 'Röm_8-38.39',\n",
       " 'Röm_8-38.39',\n",
       " 'Röm_8-38.39',\n",
       " 'Röm_8-38.39',\n",
       " 'Röm_8-38.39',\n",
       " 'Röm_8-38.39',\n",
       " 'Jes_49-23',\n",
       " 'Jes_49-23',\n",
       " 'Jes_49-23',\n",
       " 'Mt_4-8.9',\n",
       " 'Mt_4-8.9',\n",
       " 'Mt_4-8.9',\n",
       " 'Mt_4-8.9',\n",
       " 'Mt_4-8.9',\n",
       " 'Mt_4-8.9',\n",
       " 'Mt_4-8.9',\n",
       " 'Mt_4-8.9',\n",
       " 'Mt_4-8.9',\n",
       " 'Mt_4-8.9',\n",
       " 'Mt_4-8.9',\n",
       " 'Mt_4-8.9',\n",
       " 'Mt_4-8.9',\n",
       " 'Mt_4-8.9',\n",
       " 'Mt_4-8.9',\n",
       " 'Mt_4-8.9',\n",
       " 'Mt_4-8.9',\n",
       " 'Mt_4-8.9',\n",
       " 'Mt_4-8.9',\n",
       " 'Mt_4-8.9',\n",
       " 'Mt_4-8.9',\n",
       " 'Mt_4-8.9',\n",
       " 'Mt_4-8.9',\n",
       " 'Mt_4-8.9',\n",
       " 'Mt_4-8.9',\n",
       " 'Mt_4-8.9',\n",
       " 'Spr_18-10',\n",
       " 'Spr_18-10',\n",
       " 'Spr_18-10',\n",
       " 'Spr_18-10',\n",
       " 'Spr_18-10',\n",
       " 'Spr_18-10',\n",
       " 'Spr_18-10',\n",
       " 'Spr_18-10',\n",
       " 'Spr_18-10',\n",
       " 'Spr_18-10',\n",
       " 'Spr_18-10',\n",
       " 'Spr_18-10',\n",
       " 'Spr_18-10',\n",
       " 'Spr_18-10',\n",
       " 'Spr_18-10',\n",
       " 'Spr_18-10',\n",
       " 'Spr_18-10',\n",
       " 'Spr_18-10',\n",
       " 'E100039',\n",
       " 'E100039',\n",
       " 'E100039',\n",
       " 'E100039',\n",
       " '2Petr_1-19',\n",
       " '2Petr_1-19',\n",
       " '2Petr_1-19',\n",
       " '2Petr_1-19',\n",
       " '2Petr_1-19',\n",
       " '2Petr_1-19',\n",
       " '2Petr_1-19',\n",
       " '2Petr_1-19',\n",
       " '2Petr_1-19',\n",
       " '2Petr_1-19',\n",
       " '2Petr_1-19',\n",
       " '2Petr_1-19',\n",
       " '2Petr_1-19',\n",
       " '2Petr_1-19',\n",
       " '2Petr_1-19',\n",
       " '2Petr_1-19',\n",
       " 'E100081',\n",
       " 'E100081',\n",
       " 'E100081',\n",
       " 'E100081',\n",
       " 'E100081',\n",
       " 'E100081',\n",
       " 'E100081',\n",
       " 'E100081',\n",
       " 'E100081',\n",
       " 'E100081',\n",
       " 'E100081',\n",
       " 'E100081',\n",
       " 'E100081',\n",
       " 'E100081',\n",
       " 'E100081',\n",
       " 'E100081',\n",
       " 'E100081',\n",
       " 'E100081',\n",
       " 'E100081',\n",
       " 'E100081',\n",
       " 'E100081',\n",
       " 'E100081',\n",
       " 'E100081',\n",
       " 'E100081',\n",
       " 'E100081',\n",
       " 'E100081',\n",
       " 'E100081',\n",
       " 'E100081',\n",
       " 'E100081',\n",
       " 'E100081',\n",
       " 'E100082',\n",
       " 'E100082',\n",
       " 'E100082',\n",
       " 'E100082',\n",
       " 'E100082',\n",
       " 'E100082',\n",
       " 'E100082',\n",
       " 'E100082',\n",
       " 'E100082',\n",
       " 'E100082',\n",
       " 'E100082',\n",
       " 'E100082',\n",
       " 'E100082',\n",
       " 'E100082',\n",
       " 'E100082',\n",
       " 'E100082',\n",
       " 'E100082',\n",
       " 'E100082',\n",
       " 'E100082',\n",
       " 'Ps_91-4.11.12.14',\n",
       " 'Ps_91-4.11.12.14',\n",
       " 'Ps_91-4.11.12.14',\n",
       " 'Ps_91-4.11.12.14',\n",
       " 'Ps_91-4.11.12.14',\n",
       " 'Ps_91-4.11.12.14',\n",
       " 'Ps_91-4.11.12.14',\n",
       " 'Ps_91-4.11.12.14',\n",
       " 'Ps_91-4.11.12.14',\n",
       " 'Ps_91-4.11.12.14',\n",
       " 'Ps_91-4.11.12.14',\n",
       " 'Ps_91-4.11.12.14',\n",
       " 'Ps_91-4.11.12.14',\n",
       " 'Ps_91-4.11.12.14',\n",
       " 'Ps_91-4.11.12.14',\n",
       " 'Ps_91-4.11.12.14',\n",
       " 'Ps_91-4.11.12.14',\n",
       " 'Ps_91-4.11.12.14',\n",
       " 'Ps_91-4.11.12.14',\n",
       " 'Ps_91-4.11.12.14',\n",
       " 'Ps_91-4.11.12.14',\n",
       " 'Ps_91-4.11.12.14',\n",
       " 'Ps_91-4.11.12.14',\n",
       " 'Ps_91-4.11.12.14',\n",
       " 'Ps_91-4.11.12.14',\n",
       " 'Ps_91-4.11.12.14',\n",
       " 'Ps_91-4.11.12.14',\n",
       " 'Ps_91-4.11.12.14',\n",
       " 'Ps_91-4.11.12.14',\n",
       " 'Ps_91-4.11.12.14',\n",
       " 'Ps_91-4.11.12.14',\n",
       " 'Ps_91-4.11.12.14',\n",
       " 'Ps_91-4.11.12.14',\n",
       " 'Ps_91-4.11.12.14',\n",
       " 'Ps_91-4.11.12.14',\n",
       " 'Ps_91-4.11.12.14',\n",
       " 'Ps_91-4.11.12.14',\n",
       " 'Ps_91-4.11.12.14',\n",
       " 'Ps_91-4.11.12.14',\n",
       " 'Ps_91-4.11.12.14',\n",
       " 'Ps_91-4.11.12.14',\n",
       " 'Ps_91-4.11.12.14',\n",
       " 'Ps_91-4.11.12.14',\n",
       " 'Ps_91-4.11.12.14',\n",
       " 'Ps_91-4.11.12.14',\n",
       " 'Ps_91-4.11.12.14',\n",
       " 'Ps_91-4.11.12.14',\n",
       " 'Ps_49-9',\n",
       " 'Ps_49-9',\n",
       " 'Ps_49-9',\n",
       " '1Petr_1-18.19',\n",
       " '1Petr_1-18.19',\n",
       " '1Petr_1-18.19',\n",
       " '1Petr_1-18.19',\n",
       " '1Petr_1-18.19',\n",
       " '1Petr_1-18.19',\n",
       " '1Petr_1-18.19',\n",
       " '1Petr_1-18.19',\n",
       " '1Petr_1-18.19',\n",
       " '1Petr_1-18.19',\n",
       " '1Petr_1-18.19',\n",
       " '1Petr_1-18.19',\n",
       " '1Petr_1-18.19',\n",
       " '1Petr_1-18.19',\n",
       " '1Petr_1-18.19',\n",
       " '1Petr_1-18.19',\n",
       " '1Petr_1-18.19',\n",
       " '1Petr_1-18.19',\n",
       " '1Petr_1-18.19',\n",
       " '1Petr_1-18.19',\n",
       " '1Petr_1-18.19',\n",
       " '1Petr_1-18.19',\n",
       " '1Petr_1-18.19',\n",
       " '1Petr_1-18.19',\n",
       " 'E080427',\n",
       " 'E080427',\n",
       " 'E080427',\n",
       " 'E080427',\n",
       " 'E080427',\n",
       " 'E080427',\n",
       " 'E080427',\n",
       " 'E080427',\n",
       " 'E080427',\n",
       " 'E080427',\n",
       " 'E080427',\n",
       " 'E080427',\n",
       " 'E080427',\n",
       " 'E080427',\n",
       " 'E080427',\n",
       " 'E080427',\n",
       " 'E080427',\n",
       " 'E080427',\n",
       " 'E080427',\n",
       " 'E080427',\n",
       " 'E080427',\n",
       " 'E080427',\n",
       " 'E080427',\n",
       " 'E080427',\n",
       " 'E080427',\n",
       " 'E080427',\n",
       " 'E080427',\n",
       " 'E080427',\n",
       " 'E080427',\n",
       " 'E080427',\n",
       " 'E080427',\n",
       " 'E080427',\n",
       " 'E080427',\n",
       " 'E080427',\n",
       " 'E080427',\n",
       " 'E080427',\n",
       " 'E080427',\n",
       " 'E080427',\n",
       " 'E080427',\n",
       " 'E080427',\n",
       " 'E080427',\n",
       " 'E080427',\n",
       " 'E080427',\n",
       " 'Apg_20-28',\n",
       " 'Apg_20-28',\n",
       " 'Apg_20-28',\n",
       " 'Apg_20-28',\n",
       " 'Apg_20-28',\n",
       " 'Apg_20-28',\n",
       " 'Apg_20-28',\n",
       " 'Apg_20-28',\n",
       " 'Apg_20-28',\n",
       " 'Apg_20-28',\n",
       " 'Apg_20-28',\n",
       " 'Apg_20-28',\n",
       " 'Apg_20-28',\n",
       " 'Apg_20-28',\n",
       " 'Apg_20-28',\n",
       " 'Apg_20-28',\n",
       " 'Apg_20-28',\n",
       " 'Apg_20-28',\n",
       " 'Apg_20-28',\n",
       " 'Apg_20-28',\n",
       " 'Apg_20-28',\n",
       " 'Apg_20-28',\n",
       " 'Apg_20-28',\n",
       " 'Apg_20-28',\n",
       " 'Apg_20-28',\n",
       " 'Apg_20-28',\n",
       " 'Apg_20-28',\n",
       " 'Apg_20-28',\n",
       " 'Apg_20-28',\n",
       " 'Apg_20-28',\n",
       " 'Apg_20-28',\n",
       " 'Apg_20-28',\n",
       " 'Apg_20-28',\n",
       " 'Apg_20-28',\n",
       " 'E080427',\n",
       " 'E080427',\n",
       " 'E080427',\n",
       " 'Sir_25-14',\n",
       " 'Sir_25-14',\n",
       " 'Sir_25-14',\n",
       " 'Sir_25-14',\n",
       " 'Sir_25-14',\n",
       " 'Sir_25-14',\n",
       " 'Ps_111-10',\n",
       " 'Ps_111-10',\n",
       " 'Ps_111-10',\n",
       " 'Ps_111-10',\n",
       " 'Ps_111-10',\n",
       " 'Sir_1-16',\n",
       " 'Sir_1-16',\n",
       " 'Sir_1-16',\n",
       " '1Tim_4-8',\n",
       " '1Tim_4-8',\n",
       " '1Tim_4-8',\n",
       " '1Tim_4-8',\n",
       " '1Tim_4-8',\n",
       " '1Tim_4-8',\n",
       " '1Tim_4-8',\n",
       " '1Tim_4-8',\n",
       " '1Tim_4-8',\n",
       " '1Tim_4-8',\n",
       " '1Tim_4-8',\n",
       " '1Tim_4-8',\n",
       " '1Tim_4-8',\n",
       " '1Tim_4-8',\n",
       " '1Tim_4-8',\n",
       " '1Tim_4-8',\n",
       " '1Tim_4-8',\n",
       " '1Kor_14-33.34.40',\n",
       " '1Kor_14-33.34.40',\n",
       " '1Kor_14-33.34.40',\n",
       " '1Kor_14-33.34.40',\n",
       " '1Kor_14-33.34.40',\n",
       " '1Kor_14-33.34.40',\n",
       " '1Kor_14-33.34.40',\n",
       " '1Kor_14-33.34.40',\n",
       " '1Kor_14-33.34.40',\n",
       " '1Kor_14-33.34.40',\n",
       " '1Kor_14-33.34.40',\n",
       " '1Kor_14-33.34.40',\n",
       " '1Kor_14-33.34.40',\n",
       " '1Kor_14-33.34.40',\n",
       " '1Kor_14-33.34.40',\n",
       " '1Kor_14-33.34.40',\n",
       " '1Kor_14-33.34.40',\n",
       " '1Kor_14-33.34.40',\n",
       " '1Kor_14-33.34.40',\n",
       " '1Kor_14-33.34.40',\n",
       " '1Kor_14-33.34.40',\n",
       " '1Kor_14-33.34.40',\n",
       " '1Kor_14-33.34.40',\n",
       " 'Ps_133-1.2',\n",
       " 'Ps_133-1.2',\n",
       " 'Ps_133-1.2',\n",
       " 'Ps_133-1.2',\n",
       " 'Ps_133-1.2',\n",
       " 'Ps_133-1.2',\n",
       " 'Ps_133-1.2',\n",
       " 'Ps_133-1.2',\n",
       " 'Ps_133-1.2',\n",
       " ...]"
      ]
     },
     "execution_count": 27,
     "metadata": {},
     "output_type": "execute_result"
    }
   ],
   "source": [
    "all_refs = sum(sermon.reference, [])\n",
    "all_refs"
   ]
  },
  {
   "cell_type": "code",
   "execution_count": 28,
   "id": "8e2b716a",
   "metadata": {},
   "outputs": [
    {
     "data": {
      "text/plain": [
       "8031"
      ]
     },
     "execution_count": 28,
     "metadata": {},
     "output_type": "execute_result"
    }
   ],
   "source": [
    "len(sermon.words)"
   ]
  },
  {
   "cell_type": "code",
   "execution_count": 29,
   "id": "c155cd44",
   "metadata": {},
   "outputs": [
    {
     "name": "stdout",
     "output_type": "stream",
     "text": [
      "Augustinus, Aurelius ; Thimme, Wilhelm (Übers.): Confessiones. Bekenntnisse (Düsseldorf ; Zürich: 2004) 22\n",
      "Luther, Martin: Enchiridion (Frankfurt an der Oder: 1601) 73\n",
      "Polus, Timotheus: Neu-Vermehrter Lustiger Schawplatz (Lübeck ; Ratzeburg: 1664) 66\n",
      "Plautus, M. Accius: Marci Accii Plauti Comoediae (London: 1874) 1308\n",
      "Sachs, Michael: Alphabetum historicvm (Leipzig: 1617) 38\n"
     ]
    }
   ],
   "source": [
    "for quelle in sermon.literaturzitate:\n",
    "    print(str(quelle[\"item\"]), quelle[\"word_share\"])"
   ]
  },
  {
   "cell_type": "code",
   "execution_count": 30,
   "id": "0f01386f",
   "metadata": {},
   "outputs": [
    {
     "data": {
      "image/png": "[encoded data removed]",
      "text/plain": [
       "<Figure size 640x480 with 1 Axes>"
      ]
     },
     "metadata": {},
     "output_type": "display_data"
    }
   ],
   "source": [
    "# plotting data on chart\n",
    "occurrences = {i:sermon.word_types.count(i) for i in set(sermon.word_types)}\n",
    "\n",
    "labels = []\n",
    "data = []\n",
    "for label, number in occurrences.items():\n",
    "    labels.append(label)\n",
    "    data.append(number)\n",
    "\n",
    "colors = sns.color_palette('pastel')\n",
    "\n",
    "fig, ax = plt.subplots()\n",
    "\n",
    "wedges, texts, autotexts = ax.pie(\n",
    "    data,\n",
    "    labels=labels,\n",
    "    colors=colors,\n",
    "    startangle=90,\n",
    "    autopct='%.0f%%',\n",
    "    wedgeprops=dict(width=0.5)\n",
    ")\n",
    "\n",
    "ax.legend(wedges, labels, title=\"Classes\", loc=\"center left\", bbox_to_anchor=(1, 0, 0.5, 1))\n",
    "plt.show()\n"
   ]
  },
  {
   "cell_type": "code",
   "execution_count": 31,
   "id": "6fa6f74d",
   "metadata": {},
   "outputs": [],
   "source": [
    "from pprint import pprint"
   ]
  },
  {
   "cell_type": "code",
   "execution_count": 32,
   "id": "91f2c149",
   "metadata": {},
   "outputs": [],
   "source": [
    "def generate_quotation_text(words, labels, references):\n",
    "    text = '<!DOCTYPE html>\\n<html lang=\"en\">\\n<head>\\n<meta charset=\"UTF-8\">\\n<meta name=\"viewport\" content=\"width=device-width, initial-scale=1.0\">\\n<title>HTML 5 Boilerplate</title><link rel=\"stylesheet\" href=\"style.css\"></head><body><p>'\n",
    "    for word, label, ref in zip(words, labels, str(references)):\n",
    "        text += f'<span class=\"{label}\" ref=\"{ref}\">{word}</span> '\n",
    "    text += '</p></body></html>'\n",
    "    return text"
   ]
  },
  {
   "cell_type": "code",
   "execution_count": 33,
   "id": "6d31be87",
   "metadata": {},
   "outputs": [
    {
     "name": "stdout",
     "output_type": "stream",
     "text": [
      "[range(10, 20),\n",
      " range(20, 30),\n",
      " range(30, 40),\n",
      " range(40, 50),\n",
      " range(50, 60),\n",
      " range(60, 70),\n",
      " range(70, 75)]\n"
     ]
    }
   ],
   "source": [
    "labels = sermon.word_types\n",
    "\n",
    "def chunks(lst, n):\n",
    "    \"\"\"Yield successive n-sized chunks from lst.\"\"\"\n",
    "    for i in range(0, len(lst), n):\n",
    "        yield lst[i:i + n]\n",
    "\n",
    "pprint(list(chunks(range(10, 75), 10)))\n"
   ]
  },
  {
   "cell_type": "code",
   "execution_count": 34,
   "id": "375689bd",
   "metadata": {},
   "outputs": [],
   "source": [
    "literaturliste = \"\"\n",
    "lit_labels = []\n",
    "lit_data = []\n",
    "lit_titel = []\n",
    "lit_wordshare = []\n",
    "lit_wordfraction = []\n",
    "for quelle in sermon.literaturzitate:\n",
    "    lit_titel.append(str(quelle[\"item\"]))\n",
    "    lit_wordshare.append(quelle[\"word_share\"])\n",
    "    lit_wordfraction.append(\"{:.4f}%\".format((quelle[\"word_share\"]/len(sermon.words))*100))\n",
    "    lit_labels.append(str(quelle[\"item\"]))\n",
    "    lit_data.append(quelle[\"word_share\"])"
   ]
  },
  {
   "cell_type": "code",
   "execution_count": 35,
   "id": "c46cc253",
   "metadata": {},
   "outputs": [
    {
     "data": {
      "text/html": [
       "<div>\n",
       "<style scoped>\n",
       "    .dataframe tbody tr th:only-of-type {\n",
       "        vertical-align: middle;\n",
       "    }\n",
       "\n",
       "    .dataframe tbody tr th {\n",
       "        vertical-align: top;\n",
       "    }\n",
       "\n",
       "    .dataframe thead th {\n",
       "        text-align: right;\n",
       "    }\n",
       "</style>\n",
       "<table border=\"1\" class=\"dataframe\">\n",
       "  <thead>\n",
       "    <tr style=\"text-align: right;\">\n",
       "      <th></th>\n",
       "      <th>Titel</th>\n",
       "      <th>Länge</th>\n",
       "      <th>Anteil</th>\n",
       "    </tr>\n",
       "  </thead>\n",
       "  <tbody>\n",
       "    <tr>\n",
       "      <th>0</th>\n",
       "      <td>Augustinus, Aurelius ; Thimme, Wilhelm (Übers....</td>\n",
       "      <td>22</td>\n",
       "      <td>0.2739%</td>\n",
       "    </tr>\n",
       "    <tr>\n",
       "      <th>1</th>\n",
       "      <td>Luther, Martin: Enchiridion (Frankfurt an der ...</td>\n",
       "      <td>73</td>\n",
       "      <td>0.9090%</td>\n",
       "    </tr>\n",
       "    <tr>\n",
       "      <th>2</th>\n",
       "      <td>Polus, Timotheus: Neu-Vermehrter Lustiger Scha...</td>\n",
       "      <td>66</td>\n",
       "      <td>0.8218%</td>\n",
       "    </tr>\n",
       "    <tr>\n",
       "      <th>3</th>\n",
       "      <td>Plautus, M. Accius: Marci Accii Plauti Comoedi...</td>\n",
       "      <td>1308</td>\n",
       "      <td>16.2869%</td>\n",
       "    </tr>\n",
       "    <tr>\n",
       "      <th>4</th>\n",
       "      <td>Sachs, Michael: Alphabetum historicvm (Leipzig...</td>\n",
       "      <td>38</td>\n",
       "      <td>0.4732%</td>\n",
       "    </tr>\n",
       "  </tbody>\n",
       "</table>\n",
       "</div>"
      ],
      "text/plain": [
       "                                               Titel  Länge    Anteil\n",
       "0  Augustinus, Aurelius ; Thimme, Wilhelm (Übers....     22   0.2739%\n",
       "1  Luther, Martin: Enchiridion (Frankfurt an der ...     73   0.9090%\n",
       "2  Polus, Timotheus: Neu-Vermehrter Lustiger Scha...     66   0.8218%\n",
       "3  Plautus, M. Accius: Marci Accii Plauti Comoedi...   1308  16.2869%\n",
       "4  Sachs, Michael: Alphabetum historicvm (Leipzig...     38   0.4732%"
      ]
     },
     "execution_count": 35,
     "metadata": {},
     "output_type": "execute_result"
    }
   ],
   "source": [
    "literatur = pd.DataFrame(\n",
    "    {'Titel': lit_titel,\n",
    "     'Länge': lit_wordshare,\n",
    "     'Anteil': lit_wordfraction\n",
    "    })\n",
    "literatur"
   ]
  },
  {
   "cell_type": "code",
   "execution_count": 36,
   "id": "766557e2",
   "metadata": {},
   "outputs": [
    {
     "data": {
      "application/vnd.plotly.v1+json": {
       "config": {
        "plotlyServerURL": "https://plot.ly"
       },
       "data": [
        {
         "domain": {
          "x": [
           0,
           1
          ],
          "y": [
           0,
           1
          ]
         },
         "hovertemplate": "label=%{label}<br>value=%{value}<extra></extra>",
         "labels": [
          "Augustinus, Aurelius ; Thimme, Wilhelm (Übers.): Confessiones. Bekenntnisse (Düsseldorf ; Zürich: 2004)",
          "Luther, Martin: Enchiridion (Frankfurt an der Oder: 1601)",
          "Polus, Timotheus: Neu-Vermehrter Lustiger Schawplatz (Lübeck ; Ratzeburg: 1664)",
          "Plautus, M. Accius: Marci Accii Plauti Comoediae (London: 1874)",
          "Sachs, Michael: Alphabetum historicvm (Leipzig: 1617)"
         ],
         "legendgroup": "",
         "name": "",
         "showlegend": true,
         "type": "pie",
         "values": {
          "bdata": "FgBJAEIAHAUmAA==",
          "dtype": "i2"
         }
        }
       ],
       "layout": {
        "height": 700,
        "legend": {
         "orientation": "h",
         "tracegroupgap": 0,
         "y": -0.1
        },
        "margin": {
         "b": 50,
         "l": 50,
         "r": 50,
         "t": 80
        },
        "template": {
         "data": {
          "bar": [
           {
            "error_x": {
             "color": "#2a3f5f"
            },
            "error_y": {
             "color": "#2a3f5f"
            },
            "marker": {
             "line": {
              "color": "#E5ECF6",
              "width": 0.5
             },
             "pattern": {
              "fillmode": "overlay",
              "size": 10,
              "solidity": 0.2
             }
            },
            "type": "bar"
           }
          ],
          "barpolar": [
           {
            "marker": {
             "line": {
              "color": "#E5ECF6",
              "width": 0.5
             },
             "pattern": {
              "fillmode": "overlay",
              "size": 10,
              "solidity": 0.2
             }
            },
            "type": "barpolar"
           }
          ],
          "carpet": [
           {
            "aaxis": {
             "endlinecolor": "#2a3f5f",
             "gridcolor": "white",
             "linecolor": "white",
             "minorgridcolor": "white",
             "startlinecolor": "#2a3f5f"
            },
            "baxis": {
             "endlinecolor": "#2a3f5f",
             "gridcolor": "white",
             "linecolor": "white",
             "minorgridcolor": "white",
             "startlinecolor": "#2a3f5f"
            },
            "type": "carpet"
           }
          ],
          "choropleth": [
           {
            "colorbar": {
             "outlinewidth": 0,
             "ticks": ""
            },
            "type": "choropleth"
           }
          ],
          "contour": [
           {
            "colorbar": {
             "outlinewidth": 0,
             "ticks": ""
            },
            "colorscale": [
             [
              0,
              "#0d0887"
             ],
             [
              0.1111111111111111,
              "#46039f"
             ],
             [
              0.2222222222222222,
              "#7201a8"
             ],
             [
              0.3333333333333333,
              "#9c179e"
             ],
             [
              0.4444444444444444,
              "#bd3786"
             ],
             [
              0.5555555555555556,
              "#d8576b"
             ],
             [
              0.6666666666666666,
              "#ed7953"
             ],
             [
              0.7777777777777778,
              "#fb9f3a"
             ],
             [
              0.8888888888888888,
              "#fdca26"
             ],
             [
              1,
              "#f0f921"
             ]
            ],
            "type": "contour"
           }
          ],
          "contourcarpet": [
           {
            "colorbar": {
             "outlinewidth": 0,
             "ticks": ""
            },
            "type": "contourcarpet"
           }
          ],
          "heatmap": [
           {
            "colorbar": {
             "outlinewidth": 0,
             "ticks": ""
            },
            "colorscale": [
             [
              0,
              "#0d0887"
             ],
             [
              0.1111111111111111,
              "#46039f"
             ],
             [
              0.2222222222222222,
              "#7201a8"
             ],
             [
              0.3333333333333333,
              "#9c179e"
             ],
             [
              0.4444444444444444,
              "#bd3786"
             ],
             [
              0.5555555555555556,
              "#d8576b"
             ],
             [
              0.6666666666666666,
              "#ed7953"
             ],
             [
              0.7777777777777778,
              "#fb9f3a"
             ],
             [
              0.8888888888888888,
              "#fdca26"
             ],
             [
              1,
              "#f0f921"
             ]
            ],
            "type": "heatmap"
           }
          ],
          "histogram": [
           {
            "marker": {
             "pattern": {
              "fillmode": "overlay",
              "size": 10,
              "solidity": 0.2
             }
            },
            "type": "histogram"
           }
          ],
          "histogram2d": [
           {
            "colorbar": {
             "outlinewidth": 0,
             "ticks": ""
            },
            "colorscale": [
             [
              0,
              "#0d0887"
             ],
             [
              0.1111111111111111,
              "#46039f"
             ],
             [
              0.2222222222222222,
              "#7201a8"
             ],
             [
              0.3333333333333333,
              "#9c179e"
             ],
             [
              0.4444444444444444,
              "#bd3786"
             ],
             [
              0.5555555555555556,
              "#d8576b"
             ],
             [
              0.6666666666666666,
              "#ed7953"
             ],
             [
              0.7777777777777778,
              "#fb9f3a"
             ],
             [
              0.8888888888888888,
              "#fdca26"
             ],
             [
              1,
              "#f0f921"
             ]
            ],
            "type": "histogram2d"
           }
          ],
          "histogram2dcontour": [
           {
            "colorbar": {
             "outlinewidth": 0,
             "ticks": ""
            },
            "colorscale": [
             [
              0,
              "#0d0887"
             ],
             [
              0.1111111111111111,
              "#46039f"
             ],
             [
              0.2222222222222222,
              "#7201a8"
             ],
             [
              0.3333333333333333,
              "#9c179e"
             ],
             [
              0.4444444444444444,
              "#bd3786"
             ],
             [
              0.5555555555555556,
              "#d8576b"
             ],
             [
              0.6666666666666666,
              "#ed7953"
             ],
             [
              0.7777777777777778,
              "#fb9f3a"
             ],
             [
              0.8888888888888888,
              "#fdca26"
             ],
             [
              1,
              "#f0f921"
             ]
            ],
            "type": "histogram2dcontour"
           }
          ],
          "mesh3d": [
           {
            "colorbar": {
             "outlinewidth": 0,
             "ticks": ""
            },
            "type": "mesh3d"
           }
          ],
          "parcoords": [
           {
            "line": {
             "colorbar": {
              "outlinewidth": 0,
              "ticks": ""
             }
            },
            "type": "parcoords"
           }
          ],
          "pie": [
           {
            "automargin": true,
            "type": "pie"
           }
          ],
          "scatter": [
           {
            "fillpattern": {
             "fillmode": "overlay",
             "size": 10,
             "solidity": 0.2
            },
            "type": "scatter"
           }
          ],
          "scatter3d": [
           {
            "line": {
             "colorbar": {
              "outlinewidth": 0,
              "ticks": ""
             }
            },
            "marker": {
             "colorbar": {
              "outlinewidth": 0,
              "ticks": ""
             }
            },
            "type": "scatter3d"
           }
          ],
          "scattercarpet": [
           {
            "marker": {
             "colorbar": {
              "outlinewidth": 0,
              "ticks": ""
             }
            },
            "type": "scattercarpet"
           }
          ],
          "scattergeo": [
           {
            "marker": {
             "colorbar": {
              "outlinewidth": 0,
              "ticks": ""
             }
            },
            "type": "scattergeo"
           }
          ],
          "scattergl": [
           {
            "marker": {
             "colorbar": {
              "outlinewidth": 0,
              "ticks": ""
             }
            },
            "type": "scattergl"
           }
          ],
          "scattermap": [
           {
            "marker": {
             "colorbar": {
              "outlinewidth": 0,
              "ticks": ""
             }
            },
            "type": "scattermap"
           }
          ],
          "scattermapbox": [
           {
            "marker": {
             "colorbar": {
              "outlinewidth": 0,
              "ticks": ""
             }
            },
            "type": "scattermapbox"
           }
          ],
          "scatterpolar": [
           {
            "marker": {
             "colorbar": {
              "outlinewidth": 0,
              "ticks": ""
             }
            },
            "type": "scatterpolar"
           }
          ],
          "scatterpolargl": [
           {
            "marker": {
             "colorbar": {
              "outlinewidth": 0,
              "ticks": ""
             }
            },
            "type": "scatterpolargl"
           }
          ],
          "scatterternary": [
           {
            "marker": {
             "colorbar": {
              "outlinewidth": 0,
              "ticks": ""
             }
            },
            "type": "scatterternary"
           }
          ],
          "surface": [
           {
            "colorbar": {
             "outlinewidth": 0,
             "ticks": ""
            },
            "colorscale": [
             [
              0,
              "#0d0887"
             ],
             [
              0.1111111111111111,
              "#46039f"
             ],
             [
              0.2222222222222222,
              "#7201a8"
             ],
             [
              0.3333333333333333,
              "#9c179e"
             ],
             [
              0.4444444444444444,
              "#bd3786"
             ],
             [
              0.5555555555555556,
              "#d8576b"
             ],
             [
              0.6666666666666666,
              "#ed7953"
             ],
             [
              0.7777777777777778,
              "#fb9f3a"
             ],
             [
              0.8888888888888888,
              "#fdca26"
             ],
             [
              1,
              "#f0f921"
             ]
            ],
            "type": "surface"
           }
          ],
          "table": [
           {
            "cells": {
             "fill": {
              "color": "#EBF0F8"
             },
             "line": {
              "color": "white"
             }
            },
            "header": {
             "fill": {
              "color": "#C8D4E3"
             },
             "line": {
              "color": "white"
             }
            },
            "type": "table"
           }
          ]
         },
         "layout": {
          "annotationdefaults": {
           "arrowcolor": "#2a3f5f",
           "arrowhead": 0,
           "arrowwidth": 1
          },
          "autotypenumbers": "strict",
          "coloraxis": {
           "colorbar": {
            "outlinewidth": 0,
            "ticks": ""
           }
          },
          "colorscale": {
           "diverging": [
            [
             0,
             "#8e0152"
            ],
            [
             0.1,
             "#c51b7d"
            ],
            [
             0.2,
             "#de77ae"
            ],
            [
             0.3,
             "#f1b6da"
            ],
            [
             0.4,
             "#fde0ef"
            ],
            [
             0.5,
             "#f7f7f7"
            ],
            [
             0.6,
             "#e6f5d0"
            ],
            [
             0.7,
             "#b8e186"
            ],
            [
             0.8,
             "#7fbc41"
            ],
            [
             0.9,
             "#4d9221"
            ],
            [
             1,
             "#276419"
            ]
           ],
           "sequential": [
            [
             0,
             "#0d0887"
            ],
            [
             0.1111111111111111,
             "#46039f"
            ],
            [
             0.2222222222222222,
             "#7201a8"
            ],
            [
             0.3333333333333333,
             "#9c179e"
            ],
            [
             0.4444444444444444,
             "#bd3786"
            ],
            [
             0.5555555555555556,
             "#d8576b"
            ],
            [
             0.6666666666666666,
             "#ed7953"
            ],
            [
             0.7777777777777778,
             "#fb9f3a"
            ],
            [
             0.8888888888888888,
             "#fdca26"
            ],
            [
             1,
             "#f0f921"
            ]
           ],
           "sequentialminus": [
            [
             0,
             "#0d0887"
            ],
            [
             0.1111111111111111,
             "#46039f"
            ],
            [
             0.2222222222222222,
             "#7201a8"
            ],
            [
             0.3333333333333333,
             "#9c179e"
            ],
            [
             0.4444444444444444,
             "#bd3786"
            ],
            [
             0.5555555555555556,
             "#d8576b"
            ],
            [
             0.6666666666666666,
             "#ed7953"
            ],
            [
             0.7777777777777778,
             "#fb9f3a"
            ],
            [
             0.8888888888888888,
             "#fdca26"
            ],
            [
             1,
             "#f0f921"
            ]
           ]
          },
          "colorway": [
           "#636efa",
           "#EF553B",
           "#00cc96",
           "#ab63fa",
           "#FFA15A",
           "#19d3f3",
           "#FF6692",
           "#B6E880",
           "#FF97FF",
           "#FECB52"
          ],
          "font": {
           "color": "#2a3f5f"
          },
          "geo": {
           "bgcolor": "white",
           "lakecolor": "white",
           "landcolor": "#E5ECF6",
           "showlakes": true,
           "showland": true,
           "subunitcolor": "white"
          },
          "hoverlabel": {
           "align": "left"
          },
          "hovermode": "closest",
          "mapbox": {
           "style": "light"
          },
          "paper_bgcolor": "white",
          "plot_bgcolor": "#E5ECF6",
          "polar": {
           "angularaxis": {
            "gridcolor": "white",
            "linecolor": "white",
            "ticks": ""
           },
           "bgcolor": "#E5ECF6",
           "radialaxis": {
            "gridcolor": "white",
            "linecolor": "white",
            "ticks": ""
           }
          },
          "scene": {
           "xaxis": {
            "backgroundcolor": "#E5ECF6",
            "gridcolor": "white",
            "gridwidth": 2,
            "linecolor": "white",
            "showbackground": true,
            "ticks": "",
            "zerolinecolor": "white"
           },
           "yaxis": {
            "backgroundcolor": "#E5ECF6",
            "gridcolor": "white",
            "gridwidth": 2,
            "linecolor": "white",
            "showbackground": true,
            "ticks": "",
            "zerolinecolor": "white"
           },
           "zaxis": {
            "backgroundcolor": "#E5ECF6",
            "gridcolor": "white",
            "gridwidth": 2,
            "linecolor": "white",
            "showbackground": true,
            "ticks": "",
            "zerolinecolor": "white"
           }
          },
          "shapedefaults": {
           "line": {
            "color": "#2a3f5f"
           }
          },
          "ternary": {
           "aaxis": {
            "gridcolor": "white",
            "linecolor": "white",
            "ticks": ""
           },
           "baxis": {
            "gridcolor": "white",
            "linecolor": "white",
            "ticks": ""
           },
           "bgcolor": "#E5ECF6",
           "caxis": {
            "gridcolor": "white",
            "linecolor": "white",
            "ticks": ""
           }
          },
          "title": {
           "x": 0.05
          },
          "xaxis": {
           "automargin": true,
           "gridcolor": "white",
           "linecolor": "white",
           "ticks": "",
           "title": {
            "standoff": 15
           },
           "zerolinecolor": "white",
           "zerolinewidth": 2
          },
          "yaxis": {
           "automargin": true,
           "gridcolor": "white",
           "linecolor": "white",
           "ticks": "",
           "title": {
            "standoff": 15
           },
           "zerolinecolor": "white",
           "zerolinewidth": 2
          }
         }
        },
        "title": {
         "text": "Verwendete Zitate",
         "x": 0.5
        },
        "width": 700
       }
      }
     },
     "metadata": {},
     "output_type": "display_data"
    }
   ],
   "source": [
    "custom_labels = [\n",
    "    f\"{label}: {value / len(sermon.words) * 100:.1f}%\" if (value / len(sermon.words) * 100) > 5 else ''\n",
    "    for label, value in zip(lit_labels, lit_data)\n",
    "]\n",
    "\n",
    "fig2 = px.pie(values=lit_data, names=lit_labels, title='Verwendete Zitate')\n",
    "\n",
    "\n",
    "\n",
    "fig2.update_layout(\n",
    "    width=700,\n",
    "    height=700,\n",
    "    margin=dict(t=80, b=50, l=50, r=50),\n",
    "    title_x=0.5,  # Center title\n",
    "    legend=dict(\n",
    "        orientation=\"h\",  # horizontal legend\n",
    "        y=-0.1  # push legend below chart\n",
    "    )\n",
    ")\n",
    "\n",
    "fig2.show()"
   ]
  },
  {
   "cell_type": "code",
   "execution_count": 37,
   "id": "e1cf7786",
   "metadata": {},
   "outputs": [
    {
     "data": {
      "text/plain": [
       "8031"
      ]
     },
     "execution_count": 37,
     "metadata": {},
     "output_type": "execute_result"
    }
   ],
   "source": [
    "len(sermon.words)"
   ]
  },
  {
   "cell_type": "code",
   "execution_count": 38,
   "id": "7e77e1c9",
   "metadata": {},
   "outputs": [
    {
     "data": {
      "text/plain": [
       "-31"
      ]
     },
     "execution_count": 38,
     "metadata": {},
     "output_type": "execute_result"
    }
   ],
   "source": [
    "overhang = len(sermon.words) % 100\n",
    "-overhang"
   ]
  },
  {
   "cell_type": "code",
   "execution_count": 40,
   "id": "a7f74b9f",
   "metadata": {},
   "outputs": [
    {
     "ename": "NameError",
     "evalue": "name 'chunked_types' is not defined",
     "output_type": "error",
     "traceback": [
      "\u001b[31m---------------------------------------------------------------------------\u001b[39m",
      "\u001b[31mNameError\u001b[39m                                 Traceback (most recent call last)",
      "\u001b[36mCell\u001b[39m\u001b[36m \u001b[39m\u001b[32mIn[40]\u001b[39m\u001b[32m, line 3\u001b[39m\n\u001b[32m      1\u001b[39m quote_distribution_chunked = go.Figure(layout=\u001b[38;5;28mdict\u001b[39m(barmode=\u001b[33m'\u001b[39m\u001b[33mstack\u001b[39m\u001b[33m'\u001b[39m))\n\u001b[32m----> \u001b[39m\u001b[32m3\u001b[39m \u001b[38;5;28;01mfor\u001b[39;00m row, nr \u001b[38;5;129;01min\u001b[39;00m \u001b[38;5;28mzip\u001b[39m(\u001b[43mchunked_types\u001b[49m, \u001b[38;5;28mrange\u001b[39m(\u001b[32m1\u001b[39m, \u001b[38;5;28mlen\u001b[39m(chunked_types))):\n\u001b[32m      4\u001b[39m     item = \u001b[38;5;28mdict\u001b[39m(Counter(row))\n\u001b[32m      5\u001b[39m     bar_title = \u001b[33mf\u001b[39m\u001b[33m\"\u001b[39m\u001b[33mWörter 1 bis 100\u001b[39m\u001b[33m\"\u001b[39m \u001b[38;5;28;01mif\u001b[39;00m nr == \u001b[32m1\u001b[39m \u001b[38;5;28;01melse\u001b[39;00m \u001b[33mf\u001b[39m\u001b[33m\"\u001b[39m\u001b[33mWörter \u001b[39m\u001b[38;5;132;01m{\u001b[39;00mnr\u001b[38;5;250m \u001b[39m*\u001b[38;5;250m \u001b[39m\u001b[32m100\u001b[39m\u001b[38;5;132;01m}\u001b[39;00m\u001b[33m bis \u001b[39m\u001b[38;5;132;01m{\u001b[39;00m(nr\u001b[38;5;250m \u001b[39m*\u001b[38;5;250m \u001b[39m\u001b[32m100\u001b[39m)\u001b[38;5;250m \u001b[39m+\u001b[32m100\u001b[39m\u001b[38;5;132;01m}\u001b[39;00m\u001b[33m\"\u001b[39m\n",
      "\u001b[31mNameError\u001b[39m: name 'chunked_types' is not defined"
     ]
    }
   ],
   "source": [
    "quote_distribution_chunked = go.Figure(layout=dict(barmode='stack'))\n",
    "\n",
    "for row, nr in zip(chunked_types, range(1, len(chunked_types))):\n",
    "    item = dict(Counter(row))\n",
    "    bar_title = f\"Wörter 1 bis 100\" if nr == 1 else f\"Wörter {nr * 100} bis {(nr * 100) +100}\"\n",
    "    for key, val in item.items():\n",
    "        quote_distribution_chunked.add_trace(go.Bar(\n",
    "            name=str(key).strip(), \n",
    "            x=[bar_title], \n",
    "            y=[val],\n",
    "            marker_color=color_map.get(str(key).strip(), 'gray')\n",
    "            ))\n",
    "\n",
    "quote_distribution_chunked.update_layout(barmode='stack')"
   ]
  },
  {
   "cell_type": "code",
   "execution_count": 41,
   "id": "01ad6cf4",
   "metadata": {},
   "outputs": [],
   "source": [
    "from collections import Counter\n",
    "import plotly.graph_objects as go"
   ]
  },
  {
   "cell_type": "code",
   "execution_count": 42,
   "id": "bc47fa6d",
   "metadata": {},
   "outputs": [],
   "source": [
    "##### quotation distribution over sermon in 100-Word-Chunks\n",
    "overhang = len(sermon.words) % 100 \n",
    "chunked_types=[]\n",
    "for i in range(0,len(sermon.words),100):\n",
    "    types = [\"text\" if isinstance(x, float) else x for x in sermon.word_types[i:i+100]]\n",
    "    reference = [\" \".join(ref) for ref in sermon.reference[i:i+100]]\n",
    "    concat = [\",\".join(zipped) for zipped in list(zip(types, reference))]\n",
    "    chunked_types.append(concat)\n",
    "\n",
    "last_types = [\"\" if isinstance(x, float) else x for x in sermon.word_types[-overhang:]]\n",
    "last_refs = [\" \".join(ref) for ref in sermon.reference[-overhang:]]\n",
    "last_concat = [\",\".join(zipped) for zipped in list(zip(last_types, last_refs))]\n",
    "chunked_types.append(last_types)"
   ]
  },
  {
   "cell_type": "code",
   "execution_count": 43,
   "id": "266dc98a",
   "metadata": {},
   "outputs": [
    {
     "data": {
      "text/plain": [
       "Counter({'text,': 70,\n",
       "         ' bibel,Eph_2-20.21': 17,\n",
       "         ' bibel,2Petr_1-21': 7,\n",
       "         ' bibel,1Kor_3-6': 6})"
      ]
     },
     "execution_count": 43,
     "metadata": {},
     "output_type": "execute_result"
    }
   ],
   "source": [
    "Counter(chunked_types[21])"
   ]
  },
  {
   "cell_type": "code",
   "execution_count": 44,
   "id": "522d914c",
   "metadata": {},
   "outputs": [],
   "source": [
    "fig = go.Figure(layout=dict(barmode='stack'))"
   ]
  },
  {
   "cell_type": "code",
   "execution_count": 45,
   "id": "5a93411c",
   "metadata": {},
   "outputs": [],
   "source": [
    "overhang = len(sermon.words) % 100"
   ]
  },
  {
   "cell_type": "code",
   "execution_count": 46,
   "id": "e97a4957",
   "metadata": {},
   "outputs": [],
   "source": [
    "color_map = {\n",
    "    'orgelpredigt': 'rgb(135, 44, 162)',\n",
    "    'musikwerk': 'rgb(192, 54, 157)',\n",
    "    'literatur': 'rgb(234, 79, 136)',\n",
    "    'quelle': 'rgb(250, 120, 118)',\n",
    "    'bibel': 'rgb(246, 169, 122)',\n",
    "    'nan': 'rgb(237, 217, 163)',\n",
    "    'text': 'rgb(237, 217, 163)'\n",
    "    }"
   ]
  },
  {
   "cell_type": "code",
   "execution_count": 47,
   "id": "298d5a1d",
   "metadata": {},
   "outputs": [
    {
     "data": {
      "application/vnd.plotly.v1+json": {
       "config": {
        "plotlyServerURL": "https://plot.ly"
       },
       "data": [
        {
         "marker": {
          "color": "rgb(237, 217, 163)"
         },
         "name": "text",
         "type": "bar",
         "x": [
          "Wörter 1 bis 100"
         ],
         "y": [
          100
         ]
        },
        {
         "marker": {
          "color": "rgb(237, 217, 163)"
         },
         "name": "text",
         "type": "bar",
         "x": [
          "Wörter 200 bis 300"
         ],
         "y": [
          100
         ]
        },
        {
         "marker": {
          "color": "rgb(237, 217, 163)"
         },
         "name": "text",
         "type": "bar",
         "x": [
          "Wörter 300 bis 400"
         ],
         "y": [
          38
         ]
        },
        {
         "marker": {
          "color": "rgb(246, 169, 122)"
         },
         "name": "bibel,Weish_11-2",
         "type": "bar",
         "x": [
          "Wörter 300 bis 400"
         ],
         "y": [
          8
         ]
        },
        {
         "marker": {
          "color": "rgb(246, 169, 122)"
         },
         "name": "bibel,Ps_111-",
         "type": "bar",
         "x": [
          "Wörter 300 bis 400"
         ],
         "y": [
          8
         ]
        },
        {
         "marker": {
          "color": "rgb(246, 169, 122)"
         },
         "name": "bibel,Ps_15",
         "type": "bar",
         "x": [
          "Wörter 300 bis 400"
         ],
         "y": [
          46
         ]
        },
        {
         "marker": {
          "color": "rgb(246, 169, 122)"
         },
         "name": "bibel,Ps_15",
         "type": "bar",
         "x": [
          "Wörter 400 bis 500"
         ],
         "y": [
          18
         ]
        },
        {
         "marker": {
          "color": "rgb(237, 217, 163)"
         },
         "name": "text",
         "type": "bar",
         "x": [
          "Wörter 400 bis 500"
         ],
         "y": [
          82
         ]
        },
        {
         "marker": {
          "color": "rgb(237, 217, 163)"
         },
         "name": "text",
         "type": "bar",
         "x": [
          "Wörter 500 bis 600"
         ],
         "y": [
          100
         ]
        },
        {
         "marker": {
          "color": "rgb(237, 217, 163)"
         },
         "name": "text",
         "type": "bar",
         "x": [
          "Wörter 600 bis 700"
         ],
         "y": [
          100
         ]
        },
        {
         "marker": {
          "color": "rgb(237, 217, 163)"
         },
         "name": "text",
         "type": "bar",
         "x": [
          "Wörter 700 bis 800"
         ],
         "y": [
          60
         ]
        },
        {
         "marker": {
          "color": "rgb(246, 169, 122)"
         },
         "name": "bibel,Kol_3-1",
         "type": "bar",
         "x": [
          "Wörter 700 bis 800"
         ],
         "y": [
          31
         ]
        },
        {
         "marker": {
          "color": "rgb(246, 169, 122)"
         },
         "name": "bibel,Eph_5-18.1",
         "type": "bar",
         "x": [
          "Wörter 700 bis 800"
         ],
         "y": [
          9
         ]
        },
        {
         "marker": {
          "color": "rgb(246, 169, 122)"
         },
         "name": "bibel,Eph_5-18.1",
         "type": "bar",
         "x": [
          "Wörter 800 bis 900"
         ],
         "y": [
          13
         ]
        },
        {
         "marker": {
          "color": "rgb(237, 217, 163)"
         },
         "name": "text",
         "type": "bar",
         "x": [
          "Wörter 800 bis 900"
         ],
         "y": [
          40
         ]
        },
        {
         "marker": {
          "color": "rgb(246, 169, 122)"
         },
         "name": "bibel,Jak_5-1",
         "type": "bar",
         "x": [
          "Wörter 800 bis 900"
         ],
         "y": [
          7
         ]
        },
        {
         "marker": {
          "color": "rgb(246, 169, 122)"
         },
         "name": "bibel,1Sam_16-2",
         "type": "bar",
         "x": [
          "Wörter 800 bis 900"
         ],
         "y": [
          33
         ]
        },
        {
         "marker": {
          "color": "rgb(246, 169, 122)"
         },
         "name": "bibel,Ps_4-",
         "type": "bar",
         "x": [
          "Wörter 800 bis 900"
         ],
         "y": [
          6
         ]
        },
        {
         "marker": {
          "color": "rgb(246, 169, 122)"
         },
         "name": "bibel,Ps_6-",
         "type": "bar",
         "x": [
          "Wörter 800 bis 900"
         ],
         "y": [
          1
         ]
        },
        {
         "marker": {
          "color": "rgb(237, 217, 163)"
         },
         "name": "text",
         "type": "bar",
         "x": [
          "Wörter 900 bis 1000"
         ],
         "y": [
          28
         ]
        },
        {
         "marker": {
          "color": "rgb(246, 169, 122)"
         },
         "name": "bibel,Ps_12-",
         "type": "bar",
         "x": [
          "Wörter 900 bis 1000"
         ],
         "y": [
          7
         ]
        },
        {
         "marker": {
          "color": "rgb(246, 169, 122)"
         },
         "name": "bibel,2Sam_6-4.",
         "type": "bar",
         "x": [
          "Wörter 900 bis 1000"
         ],
         "y": [
          40
         ]
        },
        {
         "marker": {
          "color": "rgb(246, 169, 122)"
         },
         "name": "bibel,2Chr_7-",
         "type": "bar",
         "x": [
          "Wörter 900 bis 1000"
         ],
         "y": [
          25
         ]
        },
        {
         "marker": {
          "color": "rgb(246, 169, 122)"
         },
         "name": "bibel,2Chr_7-",
         "type": "bar",
         "x": [
          "Wörter 1000 bis 1100"
         ],
         "y": [
          4
         ]
        },
        {
         "marker": {
          "color": "rgb(237, 217, 163)"
         },
         "name": "text",
         "type": "bar",
         "x": [
          "Wörter 1000 bis 1100"
         ],
         "y": [
          65
         ]
        },
        {
         "marker": {
          "color": "rgb(246, 169, 122)"
         },
         "name": "bibel,2Chr_20-2",
         "type": "bar",
         "x": [
          "Wörter 1000 bis 1100"
         ],
         "y": [
          12
         ]
        },
        {
         "marker": {
          "color": "rgb(246, 169, 122)"
         },
         "name": "bibel,Neh_12-2",
         "type": "bar",
         "x": [
          "Wörter 1000 bis 1100"
         ],
         "y": [
          15
         ]
        },
        {
         "marker": {
          "color": "rgb(246, 169, 122)"
         },
         "name": "bibel,2Kön_3-1",
         "type": "bar",
         "x": [
          "Wörter 1000 bis 1100"
         ],
         "y": [
          4
         ]
        },
        {
         "marker": {
          "color": "rgb(246, 169, 122)"
         },
         "name": "bibel,2Kön_3-1",
         "type": "bar",
         "x": [
          "Wörter 1100 bis 1200"
         ],
         "y": [
          11
         ]
        },
        {
         "marker": {
          "color": "rgb(237, 217, 163)"
         },
         "name": "text",
         "type": "bar",
         "x": [
          "Wörter 1100 bis 1200"
         ],
         "y": [
          89
         ]
        },
        {
         "marker": {
          "color": "rgb(237, 217, 163)"
         },
         "name": "text",
         "type": "bar",
         "x": [
          "Wörter 1200 bis 1300"
         ],
         "y": [
          78
         ]
        },
        {
         "marker": {
          "color": "rgb(234, 79, 136)"
         },
         "name": "https://orgelpredigt.ur.de/E090560",
         "type": "bar",
         "x": [
          "Wörter 1200 bis 1300"
         ],
         "y": [
          22
         ]
        },
        {
         "marker": {
          "color": "rgb(237, 217, 163)"
         },
         "name": "text",
         "type": "bar",
         "x": [
          "Wörter 1300 bis 1400"
         ],
         "y": [
          100
         ]
        },
        {
         "marker": {
          "color": "rgb(237, 217, 163)"
         },
         "name": "text",
         "type": "bar",
         "x": [
          "Wörter 1400 bis 1500"
         ],
         "y": [
          56
         ]
        },
        {
         "marker": {
          "color": "rgb(250, 120, 118)"
         },
         "name": "https://orgelpredigt.ur.de/E080425",
         "type": "bar",
         "x": [
          "Wörter 1400 bis 1500"
         ],
         "y": [
          44
         ]
        },
        {
         "marker": {
          "color": "rgb(250, 120, 118)"
         },
         "name": "https://orgelpredigt.ur.de/E080425",
         "type": "bar",
         "x": [
          "Wörter 1500 bis 1600"
         ],
         "y": [
          22
         ]
        },
        {
         "marker": {
          "color": "rgb(237, 217, 163)"
         },
         "name": "text",
         "type": "bar",
         "x": [
          "Wörter 1500 bis 1600"
         ],
         "y": [
          40
         ]
        },
        {
         "marker": {
          "color": "rgb(250, 120, 118)"
         },
         "name": "https://orgelpredigt.ur.de/E080426",
         "type": "bar",
         "x": [
          "Wörter 1500 bis 1600"
         ],
         "y": [
          38
         ]
        },
        {
         "marker": {
          "color": "rgb(237, 217, 163)"
         },
         "name": "text",
         "type": "bar",
         "x": [
          "Wörter 1600 bis 1700"
         ],
         "y": [
          94
         ]
        },
        {
         "marker": {
          "color": "rgb(192, 54, 157)"
         },
         "name": "https://orgelpredigt.ur.de/E100087",
         "type": "bar",
         "x": [
          "Wörter 1600 bis 1700"
         ],
         "y": [
          6
         ]
        },
        {
         "marker": {
          "color": "rgb(237, 217, 163)"
         },
         "name": "text",
         "type": "bar",
         "x": [
          "Wörter 1700 bis 1800"
         ],
         "y": [
          44
         ]
        },
        {
         "marker": {
          "color": "rgb(246, 169, 122)"
         },
         "name": "bibel,Mt_13-34.3",
         "type": "bar",
         "x": [
          "Wörter 1700 bis 1800"
         ],
         "y": [
          36
         ]
        },
        {
         "marker": {
          "color": "rgb(246, 169, 122)"
         },
         "name": "bibel,Mt_13-34.35 Ps_78-",
         "type": "bar",
         "x": [
          "Wörter 1700 bis 1800"
         ],
         "y": [
          4
         ]
        },
        {
         "marker": {
          "color": "rgb(237, 217, 163)"
         },
         "name": "text,Mt_13-34.3",
         "type": "bar",
         "x": [
          "Wörter 1700 bis 1800"
         ],
         "y": [
          16
         ]
        },
        {
         "marker": {
          "color": "rgb(237, 217, 163)"
         },
         "name": "text",
         "type": "bar",
         "x": [
          "Wörter 1800 bis 1900"
         ],
         "y": [
          75
         ]
        },
        {
         "marker": {
          "color": "rgb(246, 169, 122)"
         },
         "name": "bibel,Lk_8-4.5.6.7.8.9.10.11.12.13.14.1",
         "type": "bar",
         "x": [
          "Wörter 1800 bis 1900"
         ],
         "y": [
          15
         ]
        },
        {
         "marker": {
          "color": "rgb(246, 169, 122)"
         },
         "name": "bibel,Lk_8-1",
         "type": "bar",
         "x": [
          "Wörter 1800 bis 1900"
         ],
         "y": [
          10
         ]
        },
        {
         "marker": {
          "color": "rgb(237, 217, 163)"
         },
         "name": "text",
         "type": "bar",
         "x": [
          "Wörter 1900 bis 2000"
         ],
         "y": [
          85
         ]
        },
        {
         "marker": {
          "color": "rgb(246, 169, 122)"
         },
         "name": "bibel,Apg_13-3",
         "type": "bar",
         "x": [
          "Wörter 1900 bis 2000"
         ],
         "y": [
          3
         ]
        },
        {
         "marker": {
          "color": "rgb(246, 169, 122)"
         },
         "name": "bibel,Lk_8-11.1",
         "type": "bar",
         "x": [
          "Wörter 1900 bis 2000"
         ],
         "y": [
          12
         ]
        },
        {
         "marker": {
          "color": "rgb(246, 169, 122)"
         },
         "name": "bibel,Lk_8-11.1",
         "type": "bar",
         "x": [
          "Wörter 2000 bis 2100"
         ],
         "y": [
          4
         ]
        },
        {
         "marker": {
          "color": "rgb(237, 217, 163)"
         },
         "name": "text",
         "type": "bar",
         "x": [
          "Wörter 2000 bis 2100"
         ],
         "y": [
          96
         ]
        },
        {
         "marker": {
          "color": "rgb(237, 217, 163)"
         },
         "name": "text",
         "type": "bar",
         "x": [
          "Wörter 2100 bis 2200"
         ],
         "y": [
          86
         ]
        },
        {
         "marker": {
          "color": "rgb(246, 169, 122)"
         },
         "name": "bibel,2Tim_4-",
         "type": "bar",
         "x": [
          "Wörter 2100 bis 2200"
         ],
         "y": [
          4
         ]
        },
        {
         "marker": {
          "color": "rgb(246, 169, 122)"
         },
         "name": "bibel,1Kor_3-",
         "type": "bar",
         "x": [
          "Wörter 2100 bis 2200"
         ],
         "y": [
          2
         ]
        },
        {
         "marker": {
          "color": "rgb(246, 169, 122)"
         },
         "name": "bibel,Eph_1-2",
         "type": "bar",
         "x": [
          "Wörter 2100 bis 2200"
         ],
         "y": [
          5
         ]
        },
        {
         "marker": {
          "color": "rgb(246, 169, 122)"
         },
         "name": "bibel,Joh_15-",
         "type": "bar",
         "x": [
          "Wörter 2100 bis 2200"
         ],
         "y": [
          3
         ]
        },
        {
         "marker": {
          "color": "rgb(237, 217, 163)"
         },
         "name": "text",
         "type": "bar",
         "x": [
          "Wörter 2200 bis 2300"
         ],
         "y": [
          70
         ]
        },
        {
         "marker": {
          "color": "rgb(246, 169, 122)"
         },
         "name": "bibel,1Kor_3-",
         "type": "bar",
         "x": [
          "Wörter 2200 bis 2300"
         ],
         "y": [
          6
         ]
        },
        {
         "marker": {
          "color": "rgb(246, 169, 122)"
         },
         "name": "bibel,2Petr_1-2",
         "type": "bar",
         "x": [
          "Wörter 2200 bis 2300"
         ],
         "y": [
          7
         ]
        },
        {
         "marker": {
          "color": "rgb(246, 169, 122)"
         },
         "name": "bibel,Eph_2-20.2",
         "type": "bar",
         "x": [
          "Wörter 2200 bis 2300"
         ],
         "y": [
          17
         ]
        },
        {
         "marker": {
          "color": "rgb(246, 169, 122)"
         },
         "name": "bibel,Eph_2-20.2",
         "type": "bar",
         "x": [
          "Wörter 2300 bis 2400"
         ],
         "y": [
          15
         ]
        },
        {
         "marker": {
          "color": "rgb(237, 217, 163)"
         },
         "name": "text",
         "type": "bar",
         "x": [
          "Wörter 2300 bis 2400"
         ],
         "y": [
          62
         ]
        },
        {
         "marker": {
          "color": "rgb(246, 169, 122)"
         },
         "name": "bibel,1Kor_3-",
         "type": "bar",
         "x": [
          "Wörter 2300 bis 2400"
         ],
         "y": [
          2
         ]
        },
        {
         "marker": {
          "color": "rgb(246, 169, 122)"
         },
         "name": "bibel,Sir_35-2",
         "type": "bar",
         "x": [
          "Wörter 2300 bis 2400"
         ],
         "y": [
          18
         ]
        },
        {
         "marker": {
          "color": "rgb(246, 169, 122)"
         },
         "name": "bibel,Ps_2-",
         "type": "bar",
         "x": [
          "Wörter 2300 bis 2400"
         ],
         "y": [
          3
         ]
        },
        {
         "marker": {
          "color": "rgb(237, 217, 163)"
         },
         "name": "text",
         "type": "bar",
         "x": [
          "Wörter 2400 bis 2500"
         ],
         "y": [
          49
         ]
        },
        {
         "marker": {
          "color": "rgb(246, 169, 122)"
         },
         "name": "bibel,Ps_23-",
         "type": "bar",
         "x": [
          "Wörter 2400 bis 2500"
         ],
         "y": [
          3
         ]
        },
        {
         "marker": {
          "color": "rgb(246, 169, 122)"
         },
         "name": "bibel,Sach_11-",
         "type": "bar",
         "x": [
          "Wörter 2400 bis 2500"
         ],
         "y": [
          3
         ]
        },
        {
         "marker": {
          "color": "rgb(246, 169, 122)"
         },
         "name": "bibel,Mt_16-1",
         "type": "bar",
         "x": [
          "Wörter 2400 bis 2500"
         ],
         "y": [
          8
         ]
        },
        {
         "marker": {
          "color": "rgb(246, 169, 122)"
         },
         "name": "bibel,Jes_40-",
         "type": "bar",
         "x": [
          "Wörter 2400 bis 2500"
         ],
         "y": [
          3
         ]
        },
        {
         "marker": {
          "color": "rgb(246, 169, 122)"
         },
         "name": "bibel,Röm_8-38.3",
         "type": "bar",
         "x": [
          "Wörter 2400 bis 2500"
         ],
         "y": [
          34
         ]
        },
        {
         "marker": {
          "color": "rgb(237, 217, 163)"
         },
         "name": "text",
         "type": "bar",
         "x": [
          "Wörter 2500 bis 2600"
         ],
         "y": [
          100
         ]
        },
        {
         "marker": {
          "color": "rgb(237, 217, 163)"
         },
         "name": "text",
         "type": "bar",
         "x": [
          "Wörter 2600 bis 2700"
         ],
         "y": [
          81
         ]
        },
        {
         "marker": {
          "color": "rgb(246, 169, 122)"
         },
         "name": "bibel,Jes_49-2",
         "type": "bar",
         "x": [
          "Wörter 2600 bis 2700"
         ],
         "y": [
          3
         ]
        },
        {
         "marker": {
          "color": "rgb(246, 169, 122)"
         },
         "name": "bibel,Mt_4-8.",
         "type": "bar",
         "x": [
          "Wörter 2600 bis 2700"
         ],
         "y": [
          16
         ]
        },
        {
         "marker": {
          "color": "rgb(246, 169, 122)"
         },
         "name": "bibel,Mt_4-8.",
         "type": "bar",
         "x": [
          "Wörter 2700 bis 2800"
         ],
         "y": [
          10
         ]
        },
        {
         "marker": {
          "color": "rgb(237, 217, 163)"
         },
         "name": "text",
         "type": "bar",
         "x": [
          "Wörter 2700 bis 2800"
         ],
         "y": [
          68
         ]
        },
        {
         "marker": {
          "color": "rgb(246, 169, 122)"
         },
         "name": "bibel,Spr_18-1",
         "type": "bar",
         "x": [
          "Wörter 2700 bis 2800"
         ],
         "y": [
          18
         ]
        },
        {
         "marker": {
          "color": "rgb(192, 54, 157)"
         },
         "name": "https://orgelpredigt.ur.de/E100039",
         "type": "bar",
         "x": [
          "Wörter 2700 bis 2800"
         ],
         "y": [
          4
         ]
        },
        {
         "marker": {
          "color": "rgb(237, 217, 163)"
         },
         "name": "text",
         "type": "bar",
         "x": [
          "Wörter 2800 bis 2900"
         ],
         "y": [
          84
         ]
        },
        {
         "marker": {
          "color": "rgb(246, 169, 122)"
         },
         "name": "bibel,2Petr_1-1",
         "type": "bar",
         "x": [
          "Wörter 2800 bis 2900"
         ],
         "y": [
          16
         ]
        },
        {
         "marker": {
          "color": "rgb(237, 217, 163)"
         },
         "name": "text",
         "type": "bar",
         "x": [
          "Wörter 2900 bis 3000"
         ],
         "y": [
          83
         ]
        },
        {
         "marker": {
          "color": "rgb(192, 54, 157)"
         },
         "name": "https://orgelpredigt.ur.de/E100081",
         "type": "bar",
         "x": [
          "Wörter 2900 bis 3000"
         ],
         "y": [
          17
         ]
        },
        {
         "marker": {
          "color": "rgb(192, 54, 157)"
         },
         "name": "https://orgelpredigt.ur.de/E100081",
         "type": "bar",
         "x": [
          "Wörter 3000 bis 3100"
         ],
         "y": [
          13
         ]
        },
        {
         "marker": {
          "color": "rgb(237, 217, 163)"
         },
         "name": "text",
         "type": "bar",
         "x": [
          "Wörter 3000 bis 3100"
         ],
         "y": [
          21
         ]
        },
        {
         "marker": {
          "color": "rgb(192, 54, 157)"
         },
         "name": "https://orgelpredigt.ur.de/E100082",
         "type": "bar",
         "x": [
          "Wörter 3000 bis 3100"
         ],
         "y": [
          19
         ]
        },
        {
         "marker": {
          "color": "rgb(246, 169, 122)"
         },
         "name": "bibel,Ps_91-4.11.12.1",
         "type": "bar",
         "x": [
          "Wörter 3000 bis 3100"
         ],
         "y": [
          47
         ]
        },
        {
         "marker": {
          "color": "rgb(237, 217, 163)"
         },
         "name": "text",
         "type": "bar",
         "x": [
          "Wörter 3100 bis 3200"
         ],
         "y": [
          100
         ]
        },
        {
         "marker": {
          "color": "rgb(237, 217, 163)"
         },
         "name": "text",
         "type": "bar",
         "x": [
          "Wörter 3200 bis 3300"
         ],
         "y": [
          70
         ]
        },
        {
         "marker": {
          "color": "rgb(246, 169, 122)"
         },
         "name": "bibel,Ps_49-",
         "type": "bar",
         "x": [
          "Wörter 3200 bis 3300"
         ],
         "y": [
          3
         ]
        },
        {
         "marker": {
          "color": "rgb(246, 169, 122)"
         },
         "name": "bibel,1Petr_1-18.1",
         "type": "bar",
         "x": [
          "Wörter 3200 bis 3300"
         ],
         "y": [
          24
         ]
        },
        {
         "marker": {
          "color": "rgb(250, 120, 118)"
         },
         "name": "https://orgelpredigt.ur.de/E080427",
         "type": "bar",
         "x": [
          "Wörter 3200 bis 3300"
         ],
         "y": [
          3
         ]
        },
        {
         "marker": {
          "color": "rgb(250, 120, 118)"
         },
         "name": "https://orgelpredigt.ur.de/E080427",
         "type": "bar",
         "x": [
          "Wörter 3300 bis 3400"
         ],
         "y": [
          40
         ]
        },
        {
         "marker": {
          "color": "rgb(237, 217, 163)"
         },
         "name": "text",
         "type": "bar",
         "x": [
          "Wörter 3300 bis 3400"
         ],
         "y": [
          26
         ]
        },
        {
         "marker": {
          "color": "rgb(246, 169, 122)"
         },
         "name": "bibel,Apg_20-2",
         "type": "bar",
         "x": [
          "Wörter 3300 bis 3400"
         ],
         "y": [
          34
         ]
        },
        {
         "marker": {
          "color": "rgb(237, 217, 163)"
         },
         "name": "text",
         "type": "bar",
         "x": [
          "Wörter 3400 bis 3500"
         ],
         "y": [
          97
         ]
        },
        {
         "marker": {
          "color": "rgb(250, 120, 118)"
         },
         "name": "https://orgelpredigt.ur.de/E080427",
         "type": "bar",
         "x": [
          "Wörter 3400 bis 3500"
         ],
         "y": [
          3
         ]
        },
        {
         "marker": {
          "color": "rgb(237, 217, 163)"
         },
         "name": "text",
         "type": "bar",
         "x": [
          "Wörter 3500 bis 3600"
         ],
         "y": [
          69
         ]
        },
        {
         "marker": {
          "color": "rgb(246, 169, 122)"
         },
         "name": "bibel,Sir_25-1",
         "type": "bar",
         "x": [
          "Wörter 3500 bis 3600"
         ],
         "y": [
          6
         ]
        },
        {
         "marker": {
          "color": "rgb(246, 169, 122)"
         },
         "name": "bibel,Ps_111-1",
         "type": "bar",
         "x": [
          "Wörter 3500 bis 3600"
         ],
         "y": [
          5
         ]
        },
        {
         "marker": {
          "color": "rgb(246, 169, 122)"
         },
         "name": "bibel,Sir_1-1",
         "type": "bar",
         "x": [
          "Wörter 3500 bis 3600"
         ],
         "y": [
          3
         ]
        },
        {
         "marker": {
          "color": "rgb(246, 169, 122)"
         },
         "name": "bibel,1Tim_4-",
         "type": "bar",
         "x": [
          "Wörter 3500 bis 3600"
         ],
         "y": [
          17
         ]
        },
        {
         "marker": {
          "color": "rgb(237, 217, 163)"
         },
         "name": "text",
         "type": "bar",
         "x": [
          "Wörter 3600 bis 3700"
         ],
         "y": [
          100
         ]
        },
        {
         "marker": {
          "color": "rgb(237, 217, 163)"
         },
         "name": "text",
         "type": "bar",
         "x": [
          "Wörter 3700 bis 3800"
         ],
         "y": [
          34
         ]
        },
        {
         "marker": {
          "color": "rgb(246, 169, 122)"
         },
         "name": "bibel,1Kor_14-33.34.4",
         "type": "bar",
         "x": [
          "Wörter 3700 bis 3800"
         ],
         "y": [
          23
         ]
        },
        {
         "marker": {
          "color": "rgb(246, 169, 122)"
         },
         "name": "bibel,Ps_133-1.",
         "type": "bar",
         "x": [
          "Wörter 3700 bis 3800"
         ],
         "y": [
          18
         ]
        },
        {
         "marker": {
          "color": "rgb(246, 169, 122)"
         },
         "name": "bibel,Sir_25-1.",
         "type": "bar",
         "x": [
          "Wörter 3700 bis 3800"
         ],
         "y": [
          25
         ]
        },
        {
         "marker": {
          "color": "rgb(246, 169, 122)"
         },
         "name": "bibel,Sir_25-1.",
         "type": "bar",
         "x": [
          "Wörter 3800 bis 3900"
         ],
         "y": [
          4
         ]
        },
        {
         "marker": {
          "color": "rgb(237, 217, 163)"
         },
         "name": "text",
         "type": "bar",
         "x": [
          "Wörter 3800 bis 3900"
         ],
         "y": [
          86
         ]
        },
        {
         "marker": {
          "color": "rgb(246, 169, 122)"
         },
         "name": "bibel,Ps_150-",
         "type": "bar",
         "x": [
          "Wörter 3800 bis 3900"
         ],
         "y": [
          10
         ]
        },
        {
         "marker": {
          "color": "rgb(237, 217, 163)"
         },
         "name": "text",
         "type": "bar",
         "x": [
          "Wörter 3900 bis 4000"
         ],
         "y": [
          80
         ]
        },
        {
         "marker": {
          "color": "rgb(246, 169, 122)"
         },
         "name": "bibel,Mt_13-24.25.26.27.28.29.3",
         "type": "bar",
         "x": [
          "Wörter 3900 bis 4000"
         ],
         "y": [
          5
         ]
        },
        {
         "marker": {
          "color": "rgb(246, 169, 122)"
         },
         "name": "bibel,Mt_13-47.4",
         "type": "bar",
         "x": [
          "Wörter 3900 bis 4000"
         ],
         "y": [
          15
         ]
        },
        {
         "marker": {
          "color": "rgb(246, 169, 122)"
         },
         "name": "bibel,Mt_13-47.4",
         "type": "bar",
         "x": [
          "Wörter 4000 bis 4100"
         ],
         "y": [
          2
         ]
        },
        {
         "marker": {
          "color": "rgb(237, 217, 163)"
         },
         "name": "text",
         "type": "bar",
         "x": [
          "Wörter 4000 bis 4100"
         ],
         "y": [
          96
         ]
        },
        {
         "marker": {
          "color": "rgb(246, 169, 122)"
         },
         "name": "bibel,Lk_8-4.5.6.7.8.9.10.11.12.13.14.1",
         "type": "bar",
         "x": [
          "Wörter 4000 bis 4100"
         ],
         "y": [
          2
         ]
        },
        {
         "marker": {
          "color": "rgb(237, 217, 163)"
         },
         "name": "text",
         "type": "bar",
         "x": [
          "Wörter 4100 bis 4200"
         ],
         "y": [
          93
         ]
        },
        {
         "marker": {
          "color": "rgb(246, 169, 122)"
         },
         "name": "bibel,Jak_1-2",
         "type": "bar",
         "x": [
          "Wörter 4100 bis 4200"
         ],
         "y": [
          7
         ]
        },
        {
         "marker": {
          "color": "rgb(246, 169, 122)"
         },
         "name": "bibel,Jak_1-2",
         "type": "bar",
         "x": [
          "Wörter 4200 bis 4300"
         ],
         "y": [
          1
         ]
        },
        {
         "marker": {
          "color": "rgb(237, 217, 163)"
         },
         "name": "text",
         "type": "bar",
         "x": [
          "Wörter 4200 bis 4300"
         ],
         "y": [
          99
         ]
        },
        {
         "marker": {
          "color": "rgb(237, 217, 163)"
         },
         "name": "text",
         "type": "bar",
         "x": [
          "Wörter 4300 bis 4400"
         ],
         "y": [
          47
         ]
        },
        {
         "marker": {
          "color": "rgb(246, 169, 122)"
         },
         "name": "bibel,Lk_18-1",
         "type": "bar",
         "x": [
          "Wörter 4300 bis 4400"
         ],
         "y": [
          13
         ]
        },
        {
         "marker": {
          "color": "rgb(246, 169, 122)"
         },
         "name": "bibel,Jon_3-",
         "type": "bar",
         "x": [
          "Wörter 4300 bis 4400"
         ],
         "y": [
          18
         ]
        },
        {
         "marker": {
          "color": "rgb(246, 169, 122)"
         },
         "name": "bibel,Mt_6-",
         "type": "bar",
         "x": [
          "Wörter 4300 bis 4400"
         ],
         "y": [
          14
         ]
        },
        {
         "marker": {
          "color": "rgb(246, 169, 122)"
         },
         "name": "bibel,Ps_",
         "type": "bar",
         "x": [
          "Wörter 4300 bis 4400"
         ],
         "y": [
          6
         ]
        },
        {
         "marker": {
          "color": "rgb(246, 169, 122)"
         },
         "name": "bibel,Ps_14",
         "type": "bar",
         "x": [
          "Wörter 4300 bis 4400"
         ],
         "y": [
          2
         ]
        },
        {
         "marker": {
          "color": "rgb(246, 169, 122)"
         },
         "name": "bibel,Ps_14",
         "type": "bar",
         "x": [
          "Wörter 4400 bis 4500"
         ],
         "y": [
          2
         ]
        },
        {
         "marker": {
          "color": "rgb(237, 217, 163)"
         },
         "name": "text",
         "type": "bar",
         "x": [
          "Wörter 4400 bis 4500"
         ],
         "y": [
          76
         ]
        },
        {
         "marker": {
          "color": "rgb(246, 169, 122)"
         },
         "name": "bibel,Ps_32-1.",
         "type": "bar",
         "x": [
          "Wörter 4400 bis 4500"
         ],
         "y": [
          21
         ]
        },
        {
         "marker": {
          "color": "rgb(246, 169, 122)"
         },
         "name": "bibel,2Kor_5-1",
         "type": "bar",
         "x": [
          "Wörter 4400 bis 4500"
         ],
         "y": [
          1
         ]
        },
        {
         "marker": {
          "color": "rgb(246, 169, 122)"
         },
         "name": "bibel,2Kor_5-1",
         "type": "bar",
         "x": [
          "Wörter 4500 bis 4600"
         ],
         "y": [
          3
         ]
        },
        {
         "marker": {
          "color": "rgb(237, 217, 163)"
         },
         "name": "text",
         "type": "bar",
         "x": [
          "Wörter 4500 bis 4600"
         ],
         "y": [
          58
         ]
        },
        {
         "marker": {
          "color": "rgb(246, 169, 122)"
         },
         "name": "bibel,Offb_6-16.1",
         "type": "bar",
         "x": [
          "Wörter 4500 bis 4600"
         ],
         "y": [
          39
         ]
        },
        {
         "marker": {
          "color": "rgb(237, 217, 163)"
         },
         "name": "text",
         "type": "bar",
         "x": [
          "Wörter 4600 bis 4700"
         ],
         "y": [
          100
         ]
        },
        {
         "marker": {
          "color": "rgb(237, 217, 163)"
         },
         "name": "text",
         "type": "bar",
         "x": [
          "Wörter 4700 bis 4800"
         ],
         "y": [
          78
         ]
        },
        {
         "marker": {
          "color": "rgb(246, 169, 122)"
         },
         "name": "bibel,1Joh_4-20.2",
         "type": "bar",
         "x": [
          "Wörter 4700 bis 4800"
         ],
         "y": [
          5
         ]
        },
        {
         "marker": {
          "color": "rgb(246, 169, 122)"
         },
         "name": "bibel,Ps_42-",
         "type": "bar",
         "x": [
          "Wörter 4700 bis 4800"
         ],
         "y": [
          17
         ]
        },
        {
         "marker": {
          "color": "rgb(237, 217, 163)"
         },
         "name": "text",
         "type": "bar",
         "x": [
          "Wörter 4800 bis 4900"
         ],
         "y": [
          82
         ]
        },
        {
         "marker": {
          "color": "rgb(246, 169, 122)"
         },
         "name": "bibel,Ps_13",
         "type": "bar",
         "x": [
          "Wörter 4800 bis 4900"
         ],
         "y": [
          7
         ]
        },
        {
         "marker": {
          "color": "rgb(192, 54, 157)"
         },
         "name": "https://orgelpredigt.ur.de/E100003",
         "type": "bar",
         "x": [
          "Wörter 4800 bis 4900"
         ],
         "y": [
          11
         ]
        },
        {
         "marker": {
          "color": "rgb(237, 217, 163)"
         },
         "name": "text",
         "type": "bar",
         "x": [
          "Wörter 4900 bis 5000"
         ],
         "y": [
          85
         ]
        },
        {
         "marker": {
          "color": "rgb(246, 169, 122)"
         },
         "name": "bibel,1Petr_2-",
         "type": "bar",
         "x": [
          "Wörter 4900 bis 5000"
         ],
         "y": [
          15
         ]
        },
        {
         "marker": {
          "color": "rgb(246, 169, 122)"
         },
         "name": "bibel,Ps_95-",
         "type": "bar",
         "x": [
          "Wörter 5000 bis 5100"
         ],
         "y": [
          11
         ]
        },
        {
         "marker": {
          "color": "rgb(237, 217, 163)"
         },
         "name": "text",
         "type": "bar",
         "x": [
          "Wörter 5000 bis 5100"
         ],
         "y": [
          80
         ]
        },
        {
         "marker": {
          "color": "rgb(246, 169, 122)"
         },
         "name": "bibel,Mt_22-3",
         "type": "bar",
         "x": [
          "Wörter 5000 bis 5100"
         ],
         "y": [
          6
         ]
        },
        {
         "marker": {
          "color": "rgb(246, 169, 122)"
         },
         "name": "bibel,Offb_5-1",
         "type": "bar",
         "x": [
          "Wörter 5000 bis 5100"
         ],
         "y": [
          3
         ]
        },
        {
         "marker": {
          "color": "rgb(237, 217, 163)"
         },
         "name": "text",
         "type": "bar",
         "x": [
          "Wörter 5100 bis 5200"
         ],
         "y": [
          12
         ]
        },
        {
         "marker": {
          "color": "rgb(246, 169, 122)"
         },
         "name": "bibel,1Thess_4-16.17.1",
         "type": "bar",
         "x": [
          "Wörter 5100 bis 5200"
         ],
         "y": [
          69
         ]
        },
        {
         "marker": {
          "color": "rgb(246, 169, 122)"
         },
         "name": "bibel,Mt_24-30.3",
         "type": "bar",
         "x": [
          "Wörter 5100 bis 5200"
         ],
         "y": [
          19
         ]
        },
        {
         "marker": {
          "color": "rgb(246, 169, 122)"
         },
         "name": "bibel,Mt_24-30.3",
         "type": "bar",
         "x": [
          "Wörter 5200 bis 5300"
         ],
         "y": [
          5
         ]
        },
        {
         "marker": {
          "color": "rgb(237, 217, 163)"
         },
         "name": "text",
         "type": "bar",
         "x": [
          "Wörter 5200 bis 5300"
         ],
         "y": [
          60
         ]
        },
        {
         "marker": {
          "color": "rgb(192, 54, 157)"
         },
         "name": "https://orgelpredigt.ur.de/E100086",
         "type": "bar",
         "x": [
          "Wörter 5200 bis 5300"
         ],
         "y": [
          14
         ]
        },
        {
         "marker": {
          "color": "rgb(246, 169, 122)"
         },
         "name": "bibel,Sir_7-4",
         "type": "bar",
         "x": [
          "Wörter 5200 bis 5300"
         ],
         "y": [
          21
         ]
        },
        {
         "marker": {
          "color": "rgb(237, 217, 163)"
         },
         "name": "text",
         "type": "bar",
         "x": [
          "Wörter 5300 bis 5400"
         ],
         "y": [
          45
         ]
        },
        {
         "marker": {
          "color": "rgb(246, 169, 122)"
         },
         "name": "bibel,Ez_33-",
         "type": "bar",
         "x": [
          "Wörter 5300 bis 5400"
         ],
         "y": [
          3
         ]
        },
        {
         "marker": {
          "color": "rgb(246, 169, 122)"
         },
         "name": "bibel,Ez_3-1",
         "type": "bar",
         "x": [
          "Wörter 5300 bis 5400"
         ],
         "y": [
          25
         ]
        },
        {
         "marker": {
          "color": "rgb(246, 169, 122)"
         },
         "name": "bibel,Hebr_13-1",
         "type": "bar",
         "x": [
          "Wörter 5300 bis 5400"
         ],
         "y": [
          27
         ]
        },
        {
         "marker": {
          "color": "rgb(246, 169, 122)"
         },
         "name": "bibel,Hebr_13-1",
         "type": "bar",
         "x": [
          "Wörter 5400 bis 5500"
         ],
         "y": [
          10
         ]
        },
        {
         "marker": {
          "color": "rgb(237, 217, 163)"
         },
         "name": "text",
         "type": "bar",
         "x": [
          "Wörter 5400 bis 5500"
         ],
         "y": [
          63
         ]
        },
        {
         "marker": {
          "color": "rgb(246, 169, 122)"
         },
         "name": "bibel,Offb_",
         "type": "bar",
         "x": [
          "Wörter 5400 bis 5500"
         ],
         "y": [
          1
         ]
        },
        {
         "marker": {
          "color": "rgb(246, 169, 122)"
         },
         "name": "bibel,Offb_",
         "type": "bar",
         "x": [
          "Wörter 5400 bis 5500"
         ],
         "y": [
          1
         ]
        },
        {
         "marker": {
          "color": "rgb(246, 169, 122)"
         },
         "name": "bibel,Offb_",
         "type": "bar",
         "x": [
          "Wörter 5400 bis 5500"
         ],
         "y": [
          1
         ]
        },
        {
         "marker": {
          "color": "rgb(246, 169, 122)"
         },
         "name": "bibel,Offb_",
         "type": "bar",
         "x": [
          "Wörter 5400 bis 5500"
         ],
         "y": [
          1
         ]
        },
        {
         "marker": {
          "color": "rgb(246, 169, 122)"
         },
         "name": "bibel,Dan_12-",
         "type": "bar",
         "x": [
          "Wörter 5400 bis 5500"
         ],
         "y": [
          23
         ]
        },
        {
         "marker": {
          "color": "rgb(237, 217, 163)"
         },
         "name": "text",
         "type": "bar",
         "x": [
          "Wörter 5500 bis 5600"
         ],
         "y": [
          74
         ]
        },
        {
         "marker": {
          "color": "rgb(246, 169, 122)"
         },
         "name": "bibel,Mt_5-1",
         "type": "bar",
         "x": [
          "Wörter 5500 bis 5600"
         ],
         "y": [
          19
         ]
        },
        {
         "marker": {
          "color": "rgb(246, 169, 122)"
         },
         "name": "bibel,Ps_119-7",
         "type": "bar",
         "x": [
          "Wörter 5500 bis 5600"
         ],
         "y": [
          7
         ]
        },
        {
         "marker": {
          "color": "rgb(237, 217, 163)"
         },
         "name": "text",
         "type": "bar",
         "x": [
          "Wörter 5600 bis 5700"
         ],
         "y": [
          86
         ]
        },
        {
         "marker": {
          "color": "rgb(246, 169, 122)"
         },
         "name": "bibel,Mt_14-",
         "type": "bar",
         "x": [
          "Wörter 5600 bis 5700"
         ],
         "y": [
          10
         ]
        },
        {
         "marker": {
          "color": "rgb(246, 169, 122)"
         },
         "name": "bibel,Ps_2-1",
         "type": "bar",
         "x": [
          "Wörter 5600 bis 5700"
         ],
         "y": [
          4
         ]
        },
        {
         "marker": {
          "color": "rgb(246, 169, 122)"
         },
         "name": "bibel,Ps_2-1",
         "type": "bar",
         "x": [
          "Wörter 5700 bis 5800"
         ],
         "y": [
          6
         ]
        },
        {
         "marker": {
          "color": "rgb(237, 217, 163)"
         },
         "name": "text",
         "type": "bar",
         "x": [
          "Wörter 5700 bis 5800"
         ],
         "y": [
          78
         ]
        },
        {
         "marker": {
          "color": "rgb(246, 169, 122)"
         },
         "name": "bibel,Phil_2-1",
         "type": "bar",
         "x": [
          "Wörter 5700 bis 5800"
         ],
         "y": [
          9
         ]
        },
        {
         "marker": {
          "color": "rgb(192, 54, 157)"
         },
         "name": "https://orgelpredigt.ur.de/E100068",
         "type": "bar",
         "x": [
          "Wörter 5700 bis 5800"
         ],
         "y": [
          7
         ]
        },
        {
         "marker": {
          "color": "rgb(237, 217, 163)"
         },
         "name": "text",
         "type": "bar",
         "x": [
          "Wörter 5800 bis 5900"
         ],
         "y": [
          80
         ]
        },
        {
         "marker": {
          "color": "rgb(246, 169, 122)"
         },
         "name": "bibel,Ex_",
         "type": "bar",
         "x": [
          "Wörter 5800 bis 5900"
         ],
         "y": [
          2
         ]
        },
        {
         "marker": {
          "color": "rgb(246, 169, 122)"
         },
         "name": "bibel,Ez_14-13.14.15.16.17.18.19.20.21.22.2",
         "type": "bar",
         "x": [
          "Wörter 5800 bis 5900"
         ],
         "y": [
          4
         ]
        },
        {
         "marker": {
          "color": "rgb(246, 169, 122)"
         },
         "name": "bibel,Jer_15-",
         "type": "bar",
         "x": [
          "Wörter 5800 bis 5900"
         ],
         "y": [
          3
         ]
        },
        {
         "marker": {
          "color": "rgb(246, 169, 122)"
         },
         "name": "bibel,2Tim_3-1",
         "type": "bar",
         "x": [
          "Wörter 5800 bis 5900"
         ],
         "y": [
          11
         ]
        },
        {
         "marker": {
          "color": "rgb(237, 217, 163)"
         },
         "name": "text",
         "type": "bar",
         "x": [
          "Wörter 5900 bis 6000"
         ],
         "y": [
          52
         ]
        },
        {
         "marker": {
          "color": "rgb(246, 169, 122)"
         },
         "name": "bibel,Apg_14-2",
         "type": "bar",
         "x": [
          "Wörter 5900 bis 6000"
         ],
         "y": [
          11
         ]
        },
        {
         "marker": {
          "color": "rgb(246, 169, 122)"
         },
         "name": "bibel,Ps_71-2",
         "type": "bar",
         "x": [
          "Wörter 5900 bis 6000"
         ],
         "y": [
          8
         ]
        },
        {
         "marker": {
          "color": "rgb(246, 169, 122)"
         },
         "name": "bibel,Hebr_10-3",
         "type": "bar",
         "x": [
          "Wörter 5900 bis 6000"
         ],
         "y": [
          18
         ]
        },
        {
         "marker": {
          "color": "rgb(246, 169, 122)"
         },
         "name": "bibel,Lk_8-1",
         "type": "bar",
         "x": [
          "Wörter 5900 bis 6000"
         ],
         "y": [
          4
         ]
        },
        {
         "marker": {
          "color": "rgb(246, 169, 122)"
         },
         "name": "bibel,Röm_12-1",
         "type": "bar",
         "x": [
          "Wörter 5900 bis 6000"
         ],
         "y": [
          7
         ]
        },
        {
         "marker": {
          "color": "rgb(237, 217, 163)"
         },
         "name": "text",
         "type": "bar",
         "x": [
          "Wörter 6000 bis 6100"
         ],
         "y": [
          97
         ]
        },
        {
         "marker": {
          "color": "rgb(246, 169, 122)"
         },
         "name": "bibel,Ps_73-",
         "type": "bar",
         "x": [
          "Wörter 6000 bis 6100"
         ],
         "y": [
          3
         ]
        },
        {
         "marker": {
          "color": "rgb(237, 217, 163)"
         },
         "name": "text",
         "type": "bar",
         "x": [
          "Wörter 6100 bis 6200"
         ],
         "y": [
          75
         ]
        },
        {
         "marker": {
          "color": "rgb(246, 169, 122)"
         },
         "name": "bibel,Ps_13-",
         "type": "bar",
         "x": [
          "Wörter 6100 bis 6200"
         ],
         "y": [
          5
         ]
        },
        {
         "marker": {
          "color": "rgb(246, 169, 122)"
         },
         "name": "bibel,Ps_42-",
         "type": "bar",
         "x": [
          "Wörter 6100 bis 6200"
         ],
         "y": [
          14
         ]
        },
        {
         "marker": {
          "color": "rgb(246, 169, 122)"
         },
         "name": "bibel,Apg_2-",
         "type": "bar",
         "x": [
          "Wörter 6100 bis 6200"
         ],
         "y": [
          3
         ]
        },
        {
         "marker": {
          "color": "rgb(246, 169, 122)"
         },
         "name": "bibel,Joh_3-",
         "type": "bar",
         "x": [
          "Wörter 6100 bis 6200"
         ],
         "y": [
          3
         ]
        },
        {
         "marker": {
          "color": "rgb(237, 217, 163)"
         },
         "name": "text",
         "type": "bar",
         "x": [
          "Wörter 6200 bis 6300"
         ],
         "y": [
          56
         ]
        },
        {
         "marker": {
          "color": "rgb(192, 54, 157)"
         },
         "name": "https://orgelpredigt.ur.de/E100083",
         "type": "bar",
         "x": [
          "Wörter 6200 bis 6300"
         ],
         "y": [
          7
         ]
        },
        {
         "marker": {
          "color": "rgb(246, 169, 122)"
         },
         "name": "bibel,Röm_8-1",
         "type": "bar",
         "x": [
          "Wörter 6200 bis 6300"
         ],
         "y": [
          10
         ]
        },
        {
         "marker": {
          "color": "rgb(250, 120, 118)"
         },
         "name": "https://orgelpredigt.ur.de/E080427",
         "type": "bar",
         "x": [
          "Wörter 6200 bis 6300"
         ],
         "y": [
          27
         ]
        },
        {
         "marker": {
          "color": "rgb(237, 217, 163)"
         },
         "name": "text",
         "type": "bar",
         "x": [
          "Wörter 6300 bis 6400"
         ],
         "y": [
          75
         ]
        },
        {
         "marker": {
          "color": "rgb(246, 169, 122)"
         },
         "name": "bibel,Ps_119-9",
         "type": "bar",
         "x": [
          "Wörter 6300 bis 6400"
         ],
         "y": [
          12
         ]
        },
        {
         "marker": {
          "color": "rgb(246, 169, 122)"
         },
         "name": "bibel,Röm_8-1",
         "type": "bar",
         "x": [
          "Wörter 6300 bis 6400"
         ],
         "y": [
          11
         ]
        },
        {
         "marker": {
          "color": "rgb(246, 169, 122)"
         },
         "name": "bibel,Ps_51-1",
         "type": "bar",
         "x": [
          "Wörter 6300 bis 6400"
         ],
         "y": [
          2
         ]
        },
        {
         "marker": {
          "color": "rgb(246, 169, 122)"
         },
         "name": "bibel,Ps_51-1",
         "type": "bar",
         "x": [
          "Wörter 6400 bis 6500"
         ],
         "y": [
          1
         ]
        },
        {
         "marker": {
          "color": "rgb(237, 217, 163)"
         },
         "name": "text",
         "type": "bar",
         "x": [
          "Wörter 6400 bis 6500"
         ],
         "y": [
          64
         ]
        },
        {
         "marker": {
          "color": "rgb(246, 169, 122)"
         },
         "name": "bibel,Ps_51-1",
         "type": "bar",
         "x": [
          "Wörter 6400 bis 6500"
         ],
         "y": [
          2
         ]
        },
        {
         "marker": {
          "color": "rgb(246, 169, 122)"
         },
         "name": "bibel,Röm_10.1",
         "type": "bar",
         "x": [
          "Wörter 6400 bis 6500"
         ],
         "y": [
          14
         ]
        },
        {
         "marker": {
          "color": "rgb(192, 54, 157)"
         },
         "name": "https://orgelpredigt.ur.de/E100084",
         "type": "bar",
         "x": [
          "Wörter 6400 bis 6500"
         ],
         "y": [
          19
         ]
        },
        {
         "marker": {
          "color": "rgb(192, 54, 157)"
         },
         "name": "https://orgelpredigt.ur.de/E100084",
         "type": "bar",
         "x": [
          "Wörter 6500 bis 6600"
         ],
         "y": [
          17
         ]
        },
        {
         "marker": {
          "color": "rgb(237, 217, 163)"
         },
         "name": "text",
         "type": "bar",
         "x": [
          "Wörter 6500 bis 6600"
         ],
         "y": [
          66
         ]
        },
        {
         "marker": {
          "color": "rgb(246, 169, 122)"
         },
         "name": "bibel,Röm_10-1",
         "type": "bar",
         "x": [
          "Wörter 6500 bis 6600"
         ],
         "y": [
          6
         ]
        },
        {
         "marker": {
          "color": "rgb(192, 54, 157)"
         },
         "name": "https://orgelpredigt.ur.de/E100013",
         "type": "bar",
         "x": [
          "Wörter 6500 bis 6600"
         ],
         "y": [
          11
         ]
        },
        {
         "marker": {
          "color": "rgb(192, 54, 157)"
         },
         "name": "https://orgelpredigt.ur.de/E100013",
         "type": "bar",
         "x": [
          "Wörter 6600 bis 6700"
         ],
         "y": [
          37
         ]
        },
        {
         "marker": {
          "color": "rgb(192, 54, 157)"
         },
         "name": "https://orgelpredigt.ur.de/E100084",
         "type": "bar",
         "x": [
          "Wörter 6600 bis 6700"
         ],
         "y": [
          19
         ]
        },
        {
         "marker": {
          "color": "rgb(237, 217, 163)"
         },
         "name": "text",
         "type": "bar",
         "x": [
          "Wörter 6600 bis 6700"
         ],
         "y": [
          44
         ]
        },
        {
         "marker": {
          "color": "rgb(237, 217, 163)"
         },
         "name": "text",
         "type": "bar",
         "x": [
          "Wörter 6700 bis 6800"
         ],
         "y": [
          79
         ]
        },
        {
         "marker": {
          "color": "rgb(246, 169, 122)"
         },
         "name": "bibel,Hebr_11-",
         "type": "bar",
         "x": [
          "Wörter 6700 bis 6800"
         ],
         "y": [
          6
         ]
        },
        {
         "marker": {
          "color": "rgb(246, 169, 122)"
         },
         "name": "bibel,Jer_5-",
         "type": "bar",
         "x": [
          "Wörter 6700 bis 6800"
         ],
         "y": [
          5
         ]
        },
        {
         "marker": {
          "color": "rgb(246, 169, 122)"
         },
         "name": "bibel,Mk_16-1",
         "type": "bar",
         "x": [
          "Wörter 6700 bis 6800"
         ],
         "y": [
          10
         ]
        },
        {
         "marker": {
          "color": "rgb(237, 217, 163)"
         },
         "name": "text",
         "type": "bar",
         "x": [
          "Wörter 6800 bis 6900"
         ],
         "y": [
          21
         ]
        },
        {
         "marker": {
          "color": "rgb(234, 79, 136)"
         },
         "name": "https://orgelpredigt.ur.de/E090778",
         "type": "bar",
         "x": [
          "Wörter 6800 bis 6900"
         ],
         "y": [
          69
         ]
        },
        {
         "marker": {
          "color": "gray"
         },
         "name": "https://orgelpredigt.ur.de/E090778 Joh_20-29",
         "type": "bar",
         "x": [
          "Wörter 6800 bis 6900"
         ],
         "y": [
          10
         ]
        },
        {
         "marker": {
          "color": "rgb(234, 79, 136)"
         },
         "name": "https://orgelpredigt.ur.de/E090778",
         "type": "bar",
         "x": [
          "Wörter 6900 bis 7000"
         ],
         "y": [
          76
         ]
        },
        {
         "marker": {
          "color": "gray"
         },
         "name": "https://orgelpredigt.ur.de/E090778 1Kor_13-12",
         "type": "bar",
         "x": [
          "Wörter 6900 bis 7000"
         ],
         "y": [
          4
         ]
        },
        {
         "marker": {
          "color": "gray"
         },
         "name": "https://orgelpredigt.ur.de/E090778 1Petr_2-21",
         "type": "bar",
         "x": [
          "Wörter 6900 bis 7000"
         ],
         "y": [
          16
         ]
        },
        {
         "marker": {
          "color": "gray"
         },
         "name": "https://orgelpredigt.ur.de/E090778 Jak_2-14",
         "type": "bar",
         "x": [
          "Wörter 6900 bis 7000"
         ],
         "y": [
          4
         ]
        },
        {
         "marker": {
          "color": "rgb(234, 79, 136)"
         },
         "name": "https://orgelpredigt.ur.de/E090778",
         "type": "bar",
         "x": [
          "Wörter 7000 bis 7100"
         ],
         "y": [
          80
         ]
        },
        {
         "marker": {
          "color": "gray"
         },
         "name": "https://orgelpredigt.ur.de/E090778 Gal_5-22",
         "type": "bar",
         "x": [
          "Wörter 7000 bis 7100"
         ],
         "y": [
          15
         ]
        },
        {
         "marker": {
          "color": "gray"
         },
         "name": "https://orgelpredigt.ur.de/E090778 Eph_4-1",
         "type": "bar",
         "x": [
          "Wörter 7000 bis 7100"
         ],
         "y": [
          5
         ]
        },
        {
         "marker": {
          "color": "rgb(234, 79, 136)"
         },
         "name": "https://orgelpredigt.ur.de/E090778",
         "type": "bar",
         "x": [
          "Wörter 7100 bis 7200"
         ],
         "y": [
          100
         ]
        },
        {
         "marker": {
          "color": "rgb(234, 79, 136)"
         },
         "name": "https://orgelpredigt.ur.de/E090778",
         "type": "bar",
         "x": [
          "Wörter 7200 bis 7300"
         ],
         "y": [
          100
         ]
        },
        {
         "marker": {
          "color": "rgb(234, 79, 136)"
         },
         "name": "https://orgelpredigt.ur.de/E090778",
         "type": "bar",
         "x": [
          "Wörter 7300 bis 7400"
         ],
         "y": [
          100
         ]
        },
        {
         "marker": {
          "color": "rgb(234, 79, 136)"
         },
         "name": "https://orgelpredigt.ur.de/E090778",
         "type": "bar",
         "x": [
          "Wörter 7400 bis 7500"
         ],
         "y": [
          87
         ]
        },
        {
         "marker": {
          "color": "gray"
         },
         "name": "https://orgelpredigt.ur.de/E090778 Mt_10-42",
         "type": "bar",
         "x": [
          "Wörter 7400 bis 7500"
         ],
         "y": [
          13
         ]
        },
        {
         "marker": {
          "color": "rgb(234, 79, 136)"
         },
         "name": "https://orgelpredigt.ur.de/E090778",
         "type": "bar",
         "x": [
          "Wörter 7500 bis 7600"
         ],
         "y": [
          74
         ]
        },
        {
         "marker": {
          "color": "gray"
         },
         "name": "https://orgelpredigt.ur.de/E090778 Ps_50-15",
         "type": "bar",
         "x": [
          "Wörter 7500 bis 7600"
         ],
         "y": [
          14
         ]
        },
        {
         "marker": {
          "color": "gray"
         },
         "name": "https://orgelpredigt.ur.de/E090778 Ps_51-14",
         "type": "bar",
         "x": [
          "Wörter 7500 bis 7600"
         ],
         "y": [
          7
         ]
        },
        {
         "marker": {
          "color": "gray"
         },
         "name": "https://orgelpredigt.ur.de/E090778 E100085",
         "type": "bar",
         "x": [
          "Wörter 7500 bis 7600"
         ],
         "y": [
          5
         ]
        },
        {
         "marker": {
          "color": "gray"
         },
         "name": "https://orgelpredigt.ur.de/E090778 E100085",
         "type": "bar",
         "x": [
          "Wörter 7600 bis 7700"
         ],
         "y": [
          27
         ]
        },
        {
         "marker": {
          "color": "rgb(234, 79, 136)"
         },
         "name": "https://orgelpredigt.ur.de/E090778",
         "type": "bar",
         "x": [
          "Wörter 7600 bis 7700"
         ],
         "y": [
          73
         ]
        },
        {
         "marker": {
          "color": "rgb(234, 79, 136)"
         },
         "name": "https://orgelpredigt.ur.de/E090778",
         "type": "bar",
         "x": [
          "Wörter 7700 bis 7800"
         ],
         "y": [
          100
         ]
        },
        {
         "marker": {
          "color": "rgb(234, 79, 136)"
         },
         "name": "https://orgelpredigt.ur.de/E090778",
         "type": "bar",
         "x": [
          "Wörter 7800 bis 7900"
         ],
         "y": [
          100
         ]
        },
        {
         "marker": {
          "color": "rgb(234, 79, 136)"
         },
         "name": "https://orgelpredigt.ur.de/E090778",
         "type": "bar",
         "x": [
          "Wörter 7900 bis 8000"
         ],
         "y": [
          100
         ]
        },
        {
         "marker": {
          "color": "rgb(234, 79, 136)"
         },
         "name": "https://orgelpredigt.ur.de/E090778",
         "type": "bar",
         "x": [
          "Wörter 8000 bis 8100"
         ],
         "y": [
          53
         ]
        },
        {
         "marker": {
          "color": "gray"
         },
         "name": "https://orgelpredigt.ur.de/E090778 E100013",
         "type": "bar",
         "x": [
          "Wörter 8000 bis 8100"
         ],
         "y": [
          47
         ]
        },
        {
         "marker": {
          "color": "rgb(234, 79, 136)"
         },
         "name": "https://orgelpredigt.ur.de/E090778",
         "type": "bar",
         "x": [
          "Wörter 8100 bis 8200"
         ],
         "y": [
          22
         ]
        },
        {
         "marker": {
          "color": "gray"
         },
         "name": "https://orgelpredigt.ur.de/E090778 E100038",
         "type": "bar",
         "x": [
          "Wörter 8100 bis 8200"
         ],
         "y": [
          7
         ]
        },
        {
         "marker": {
          "color": "rgb(237, 217, 163)"
         },
         "name": "text",
         "type": "bar",
         "x": [
          "Wörter 8100 bis 8200"
         ],
         "y": [
          2
         ]
        }
       ],
       "layout": {
        "barmode": "stack",
        "height": 500,
        "template": {
         "data": {
          "bar": [
           {
            "error_x": {
             "color": "#2a3f5f"
            },
            "error_y": {
             "color": "#2a3f5f"
            },
            "marker": {
             "line": {
              "color": "#E5ECF6",
              "width": 0.5
             },
             "pattern": {
              "fillmode": "overlay",
              "size": 10,
              "solidity": 0.2
             }
            },
            "type": "bar"
           }
          ],
          "barpolar": [
           {
            "marker": {
             "line": {
              "color": "#E5ECF6",
              "width": 0.5
             },
             "pattern": {
              "fillmode": "overlay",
              "size": 10,
              "solidity": 0.2
             }
            },
            "type": "barpolar"
           }
          ],
          "carpet": [
           {
            "aaxis": {
             "endlinecolor": "#2a3f5f",
             "gridcolor": "white",
             "linecolor": "white",
             "minorgridcolor": "white",
             "startlinecolor": "#2a3f5f"
            },
            "baxis": {
             "endlinecolor": "#2a3f5f",
             "gridcolor": "white",
             "linecolor": "white",
             "minorgridcolor": "white",
             "startlinecolor": "#2a3f5f"
            },
            "type": "carpet"
           }
          ],
          "choropleth": [
           {
            "colorbar": {
             "outlinewidth": 0,
             "ticks": ""
            },
            "type": "choropleth"
           }
          ],
          "contour": [
           {
            "colorbar": {
             "outlinewidth": 0,
             "ticks": ""
            },
            "colorscale": [
             [
              0,
              "#0d0887"
             ],
             [
              0.1111111111111111,
              "#46039f"
             ],
             [
              0.2222222222222222,
              "#7201a8"
             ],
             [
              0.3333333333333333,
              "#9c179e"
             ],
             [
              0.4444444444444444,
              "#bd3786"
             ],
             [
              0.5555555555555556,
              "#d8576b"
             ],
             [
              0.6666666666666666,
              "#ed7953"
             ],
             [
              0.7777777777777778,
              "#fb9f3a"
             ],
             [
              0.8888888888888888,
              "#fdca26"
             ],
             [
              1,
              "#f0f921"
             ]
            ],
            "type": "contour"
           }
          ],
          "contourcarpet": [
           {
            "colorbar": {
             "outlinewidth": 0,
             "ticks": ""
            },
            "type": "contourcarpet"
           }
          ],
          "heatmap": [
           {
            "colorbar": {
             "outlinewidth": 0,
             "ticks": ""
            },
            "colorscale": [
             [
              0,
              "#0d0887"
             ],
             [
              0.1111111111111111,
              "#46039f"
             ],
             [
              0.2222222222222222,
              "#7201a8"
             ],
             [
              0.3333333333333333,
              "#9c179e"
             ],
             [
              0.4444444444444444,
              "#bd3786"
             ],
             [
              0.5555555555555556,
              "#d8576b"
             ],
             [
              0.6666666666666666,
              "#ed7953"
             ],
             [
              0.7777777777777778,
              "#fb9f3a"
             ],
             [
              0.8888888888888888,
              "#fdca26"
             ],
             [
              1,
              "#f0f921"
             ]
            ],
            "type": "heatmap"
           }
          ],
          "histogram": [
           {
            "marker": {
             "pattern": {
              "fillmode": "overlay",
              "size": 10,
              "solidity": 0.2
             }
            },
            "type": "histogram"
           }
          ],
          "histogram2d": [
           {
            "colorbar": {
             "outlinewidth": 0,
             "ticks": ""
            },
            "colorscale": [
             [
              0,
              "#0d0887"
             ],
             [
              0.1111111111111111,
              "#46039f"
             ],
             [
              0.2222222222222222,
              "#7201a8"
             ],
             [
              0.3333333333333333,
              "#9c179e"
             ],
             [
              0.4444444444444444,
              "#bd3786"
             ],
             [
              0.5555555555555556,
              "#d8576b"
             ],
             [
              0.6666666666666666,
              "#ed7953"
             ],
             [
              0.7777777777777778,
              "#fb9f3a"
             ],
             [
              0.8888888888888888,
              "#fdca26"
             ],
             [
              1,
              "#f0f921"
             ]
            ],
            "type": "histogram2d"
           }
          ],
          "histogram2dcontour": [
           {
            "colorbar": {
             "outlinewidth": 0,
             "ticks": ""
            },
            "colorscale": [
             [
              0,
              "#0d0887"
             ],
             [
              0.1111111111111111,
              "#46039f"
             ],
             [
              0.2222222222222222,
              "#7201a8"
             ],
             [
              0.3333333333333333,
              "#9c179e"
             ],
             [
              0.4444444444444444,
              "#bd3786"
             ],
             [
              0.5555555555555556,
              "#d8576b"
             ],
             [
              0.6666666666666666,
              "#ed7953"
             ],
             [
              0.7777777777777778,
              "#fb9f3a"
             ],
             [
              0.8888888888888888,
              "#fdca26"
             ],
             [
              1,
              "#f0f921"
             ]
            ],
            "type": "histogram2dcontour"
           }
          ],
          "mesh3d": [
           {
            "colorbar": {
             "outlinewidth": 0,
             "ticks": ""
            },
            "type": "mesh3d"
           }
          ],
          "parcoords": [
           {
            "line": {
             "colorbar": {
              "outlinewidth": 0,
              "ticks": ""
             }
            },
            "type": "parcoords"
           }
          ],
          "pie": [
           {
            "automargin": true,
            "type": "pie"
           }
          ],
          "scatter": [
           {
            "fillpattern": {
             "fillmode": "overlay",
             "size": 10,
             "solidity": 0.2
            },
            "type": "scatter"
           }
          ],
          "scatter3d": [
           {
            "line": {
             "colorbar": {
              "outlinewidth": 0,
              "ticks": ""
             }
            },
            "marker": {
             "colorbar": {
              "outlinewidth": 0,
              "ticks": ""
             }
            },
            "type": "scatter3d"
           }
          ],
          "scattercarpet": [
           {
            "marker": {
             "colorbar": {
              "outlinewidth": 0,
              "ticks": ""
             }
            },
            "type": "scattercarpet"
           }
          ],
          "scattergeo": [
           {
            "marker": {
             "colorbar": {
              "outlinewidth": 0,
              "ticks": ""
             }
            },
            "type": "scattergeo"
           }
          ],
          "scattergl": [
           {
            "marker": {
             "colorbar": {
              "outlinewidth": 0,
              "ticks": ""
             }
            },
            "type": "scattergl"
           }
          ],
          "scattermap": [
           {
            "marker": {
             "colorbar": {
              "outlinewidth": 0,
              "ticks": ""
             }
            },
            "type": "scattermap"
           }
          ],
          "scattermapbox": [
           {
            "marker": {
             "colorbar": {
              "outlinewidth": 0,
              "ticks": ""
             }
            },
            "type": "scattermapbox"
           }
          ],
          "scatterpolar": [
           {
            "marker": {
             "colorbar": {
              "outlinewidth": 0,
              "ticks": ""
             }
            },
            "type": "scatterpolar"
           }
          ],
          "scatterpolargl": [
           {
            "marker": {
             "colorbar": {
              "outlinewidth": 0,
              "ticks": ""
             }
            },
            "type": "scatterpolargl"
           }
          ],
          "scatterternary": [
           {
            "marker": {
             "colorbar": {
              "outlinewidth": 0,
              "ticks": ""
             }
            },
            "type": "scatterternary"
           }
          ],
          "surface": [
           {
            "colorbar": {
             "outlinewidth": 0,
             "ticks": ""
            },
            "colorscale": [
             [
              0,
              "#0d0887"
             ],
             [
              0.1111111111111111,
              "#46039f"
             ],
             [
              0.2222222222222222,
              "#7201a8"
             ],
             [
              0.3333333333333333,
              "#9c179e"
             ],
             [
              0.4444444444444444,
              "#bd3786"
             ],
             [
              0.5555555555555556,
              "#d8576b"
             ],
             [
              0.6666666666666666,
              "#ed7953"
             ],
             [
              0.7777777777777778,
              "#fb9f3a"
             ],
             [
              0.8888888888888888,
              "#fdca26"
             ],
             [
              1,
              "#f0f921"
             ]
            ],
            "type": "surface"
           }
          ],
          "table": [
           {
            "cells": {
             "fill": {
              "color": "#EBF0F8"
             },
             "line": {
              "color": "white"
             }
            },
            "header": {
             "fill": {
              "color": "#C8D4E3"
             },
             "line": {
              "color": "white"
             }
            },
            "type": "table"
           }
          ]
         },
         "layout": {
          "annotationdefaults": {
           "arrowcolor": "#2a3f5f",
           "arrowhead": 0,
           "arrowwidth": 1
          },
          "autotypenumbers": "strict",
          "coloraxis": {
           "colorbar": {
            "outlinewidth": 0,
            "ticks": ""
           }
          },
          "colorscale": {
           "diverging": [
            [
             0,
             "#8e0152"
            ],
            [
             0.1,
             "#c51b7d"
            ],
            [
             0.2,
             "#de77ae"
            ],
            [
             0.3,
             "#f1b6da"
            ],
            [
             0.4,
             "#fde0ef"
            ],
            [
             0.5,
             "#f7f7f7"
            ],
            [
             0.6,
             "#e6f5d0"
            ],
            [
             0.7,
             "#b8e186"
            ],
            [
             0.8,
             "#7fbc41"
            ],
            [
             0.9,
             "#4d9221"
            ],
            [
             1,
             "#276419"
            ]
           ],
           "sequential": [
            [
             0,
             "#0d0887"
            ],
            [
             0.1111111111111111,
             "#46039f"
            ],
            [
             0.2222222222222222,
             "#7201a8"
            ],
            [
             0.3333333333333333,
             "#9c179e"
            ],
            [
             0.4444444444444444,
             "#bd3786"
            ],
            [
             0.5555555555555556,
             "#d8576b"
            ],
            [
             0.6666666666666666,
             "#ed7953"
            ],
            [
             0.7777777777777778,
             "#fb9f3a"
            ],
            [
             0.8888888888888888,
             "#fdca26"
            ],
            [
             1,
             "#f0f921"
            ]
           ],
           "sequentialminus": [
            [
             0,
             "#0d0887"
            ],
            [
             0.1111111111111111,
             "#46039f"
            ],
            [
             0.2222222222222222,
             "#7201a8"
            ],
            [
             0.3333333333333333,
             "#9c179e"
            ],
            [
             0.4444444444444444,
             "#bd3786"
            ],
            [
             0.5555555555555556,
             "#d8576b"
            ],
            [
             0.6666666666666666,
             "#ed7953"
            ],
            [
             0.7777777777777778,
             "#fb9f3a"
            ],
            [
             0.8888888888888888,
             "#fdca26"
            ],
            [
             1,
             "#f0f921"
            ]
           ]
          },
          "colorway": [
           "#636efa",
           "#EF553B",
           "#00cc96",
           "#ab63fa",
           "#FFA15A",
           "#19d3f3",
           "#FF6692",
           "#B6E880",
           "#FF97FF",
           "#FECB52"
          ],
          "font": {
           "color": "#2a3f5f"
          },
          "geo": {
           "bgcolor": "white",
           "lakecolor": "white",
           "landcolor": "#E5ECF6",
           "showlakes": true,
           "showland": true,
           "subunitcolor": "white"
          },
          "hoverlabel": {
           "align": "left"
          },
          "hovermode": "closest",
          "mapbox": {
           "style": "light"
          },
          "paper_bgcolor": "white",
          "plot_bgcolor": "#E5ECF6",
          "polar": {
           "angularaxis": {
            "gridcolor": "white",
            "linecolor": "white",
            "ticks": ""
           },
           "bgcolor": "#E5ECF6",
           "radialaxis": {
            "gridcolor": "white",
            "linecolor": "white",
            "ticks": ""
           }
          },
          "scene": {
           "xaxis": {
            "backgroundcolor": "#E5ECF6",
            "gridcolor": "white",
            "gridwidth": 2,
            "linecolor": "white",
            "showbackground": true,
            "ticks": "",
            "zerolinecolor": "white"
           },
           "yaxis": {
            "backgroundcolor": "#E5ECF6",
            "gridcolor": "white",
            "gridwidth": 2,
            "linecolor": "white",
            "showbackground": true,
            "ticks": "",
            "zerolinecolor": "white"
           },
           "zaxis": {
            "backgroundcolor": "#E5ECF6",
            "gridcolor": "white",
            "gridwidth": 2,
            "linecolor": "white",
            "showbackground": true,
            "ticks": "",
            "zerolinecolor": "white"
           }
          },
          "shapedefaults": {
           "line": {
            "color": "#2a3f5f"
           }
          },
          "ternary": {
           "aaxis": {
            "gridcolor": "white",
            "linecolor": "white",
            "ticks": ""
           },
           "baxis": {
            "gridcolor": "white",
            "linecolor": "white",
            "ticks": ""
           },
           "bgcolor": "#E5ECF6",
           "caxis": {
            "gridcolor": "white",
            "linecolor": "white",
            "ticks": ""
           }
          },
          "title": {
           "x": 0.05
          },
          "xaxis": {
           "automargin": true,
           "gridcolor": "white",
           "linecolor": "white",
           "ticks": "",
           "title": {
            "standoff": 15
           },
           "zerolinecolor": "white",
           "zerolinewidth": 2
          },
          "yaxis": {
           "automargin": true,
           "gridcolor": "white",
           "linecolor": "white",
           "ticks": "",
           "title": {
            "standoff": 15
           },
           "zerolinecolor": "white",
           "zerolinewidth": 2
          }
         }
        },
        "width": 1400
       }
      }
     },
     "metadata": {},
     "output_type": "display_data"
    }
   ],
   "source": [
    "fig = go.Figure(layout=dict(barmode='stack'))\n",
    "\n",
    "for row, nr in zip(chunked_types, range(1, len(chunked_types))):\n",
    "    item = dict(Counter(row))\n",
    "    bar_title = f\"Wörter 1 bis 100\" if nr == 1 else f\"Wörter {nr * 100} bis {(nr * 100) +100}\"\n",
    "    for key, val in item.items():\n",
    "        color, ref = key.split(',')\n",
    "        fig.add_trace(go.Bar(\n",
    "            name=(\"https://orgelpredigt.ur.de/\"+ str(ref).strip()) if is_id(ref) else str(key)[:-1].strip(), \n",
    "            x=[bar_title], \n",
    "            y=[val],\n",
    "            marker_color=color_map.get(str(color).strip(), 'gray')\n",
    "            ))\n",
    "\n",
    "fig.update_layout(barmode='stack',\n",
    "                  width=1400,\n",
    "                  height=500)\n",
    "\n",
    "fig.show()"
   ]
  },
  {
   "cell_type": "code",
   "execution_count": 48,
   "id": "ba4e5236",
   "metadata": {},
   "outputs": [],
   "source": [
    "def create_stacked_chart(sermon):\n",
    "\n",
    "    overhang = len(sermon.words) % 100 \n",
    "    chunked_types=[]\n",
    "    for i in range(0,len(sermon.words),100):\n",
    "        types = [\"text\" if isinstance(x, float) else x for x in sermon.word_types[i:i+100]]\n",
    "        reference = [\" \".join(ref) for ref in sermon.reference[i:i+100]]\n",
    "        concat = [\",\".join(zipped) for zipped in list(zip(types, reference))]\n",
    "        chunked_types.append(concat)\n",
    "\n",
    "    last_types = [\"\" if isinstance(x, float) else x for x in sermon.word_types[-overhang:]]\n",
    "    last_refs = [\" \".join(ref) for ref in sermon.reference[-overhang:]]\n",
    "    last_concat = [\",\".join(zipped) for zipped in list(zip(last_types, last_refs))]\n",
    "    chunked_types.append(last_concat)\n",
    "\n",
    "    quote_distribution_chunked = go.Figure(layout=dict(barmode='stack'))\n",
    "\n",
    "    for row, nr in zip(chunked_types, range(1, len(chunked_types))):\n",
    "        item = dict(Counter(row))\n",
    "        bar_title = f\"Wörter 1 bis 100\" if nr == 1 else f\"Wörter {nr * 100} bis {(nr * 100) +100}\"\n",
    "        for key, val in item.items():\n",
    "            colors, ref = key.split(',')\n",
    "            colors = colors.strip().split(\" \")\n",
    "            if len(colors) > 1:\n",
    "                color = colors[1] if is_id(colors[1]) else colors[0]\n",
    "            else:\n",
    "                color = colors[0]\n",
    "            name = f'{str(ref).strip()}' if is_id(ref) else str(key).replace(',', '').strip()\n",
    "            url=f'https://orgelpredigt.ur.de/{str(ref).strip()}' if is_id(ref) else \"\"\n",
    "            quote_distribution_chunked.add_trace(go.Bar(\n",
    "                name=name, \n",
    "                x=[bar_title], \n",
    "                y=[val],\n",
    "                hovertemplate=f'<b>{name}</b><br>Value: {val} Words<br>Link: <a href=\"{url}\">{ref}</a><extra></extra>',\n",
    "                marker_color=color_map.get(str(color).strip(), 'gray')\n",
    "                ))\n",
    "\n",
    "    quote_distribution_chunked.update_layout(barmode='stack',\n",
    "                                             width=1500,\n",
    "                                             height=500)\n",
    "    \n",
    "    return quote_distribution_chunked"
   ]
  },
  {
   "cell_type": "code",
   "execution_count": 49,
   "id": "7a50d412",
   "metadata": {},
   "outputs": [
    {
     "data": {
      "application/vnd.plotly.v1+json": {
       "config": {
        "plotlyServerURL": "https://plot.ly"
       },
       "data": [
        {
         "hovertemplate": "<b>text</b><br>Value: 100 Words<br>Link: <a href=\"\"></a><extra></extra>",
         "marker": {
          "color": "rgb(237, 217, 163)"
         },
         "name": "text",
         "type": "bar",
         "x": [
          "Wörter 1 bis 100"
         ],
         "y": [
          100
         ]
        },
        {
         "hovertemplate": "<b>text</b><br>Value: 100 Words<br>Link: <a href=\"\"></a><extra></extra>",
         "marker": {
          "color": "rgb(237, 217, 163)"
         },
         "name": "text",
         "type": "bar",
         "x": [
          "Wörter 200 bis 300"
         ],
         "y": [
          100
         ]
        },
        {
         "hovertemplate": "<b>text</b><br>Value: 38 Words<br>Link: <a href=\"\"></a><extra></extra>",
         "marker": {
          "color": "rgb(237, 217, 163)"
         },
         "name": "text",
         "type": "bar",
         "x": [
          "Wörter 300 bis 400"
         ],
         "y": [
          38
         ]
        },
        {
         "hovertemplate": "<b>bibelWeish_11-21</b><br>Value: 8 Words<br>Link: <a href=\"\">Weish_11-21</a><extra></extra>",
         "marker": {
          "color": "rgb(246, 169, 122)"
         },
         "name": "bibelWeish_11-21",
         "type": "bar",
         "x": [
          "Wörter 300 bis 400"
         ],
         "y": [
          8
         ]
        },
        {
         "hovertemplate": "<b>bibelPs_111-3</b><br>Value: 8 Words<br>Link: <a href=\"\">Ps_111-3</a><extra></extra>",
         "marker": {
          "color": "rgb(246, 169, 122)"
         },
         "name": "bibelPs_111-3",
         "type": "bar",
         "x": [
          "Wörter 300 bis 400"
         ],
         "y": [
          8
         ]
        },
        {
         "hovertemplate": "<b>bibelPs_150</b><br>Value: 46 Words<br>Link: <a href=\"\">Ps_150</a><extra></extra>",
         "marker": {
          "color": "rgb(246, 169, 122)"
         },
         "name": "bibelPs_150",
         "type": "bar",
         "x": [
          "Wörter 300 bis 400"
         ],
         "y": [
          46
         ]
        },
        {
         "hovertemplate": "<b>bibelPs_150</b><br>Value: 18 Words<br>Link: <a href=\"\">Ps_150</a><extra></extra>",
         "marker": {
          "color": "rgb(246, 169, 122)"
         },
         "name": "bibelPs_150",
         "type": "bar",
         "x": [
          "Wörter 400 bis 500"
         ],
         "y": [
          18
         ]
        },
        {
         "hovertemplate": "<b>text</b><br>Value: 82 Words<br>Link: <a href=\"\"></a><extra></extra>",
         "marker": {
          "color": "rgb(237, 217, 163)"
         },
         "name": "text",
         "type": "bar",
         "x": [
          "Wörter 400 bis 500"
         ],
         "y": [
          82
         ]
        },
        {
         "hovertemplate": "<b>text</b><br>Value: 100 Words<br>Link: <a href=\"\"></a><extra></extra>",
         "marker": {
          "color": "rgb(237, 217, 163)"
         },
         "name": "text",
         "type": "bar",
         "x": [
          "Wörter 500 bis 600"
         ],
         "y": [
          100
         ]
        },
        {
         "hovertemplate": "<b>text</b><br>Value: 100 Words<br>Link: <a href=\"\"></a><extra></extra>",
         "marker": {
          "color": "rgb(237, 217, 163)"
         },
         "name": "text",
         "type": "bar",
         "x": [
          "Wörter 600 bis 700"
         ],
         "y": [
          100
         ]
        },
        {
         "hovertemplate": "<b>text</b><br>Value: 60 Words<br>Link: <a href=\"\"></a><extra></extra>",
         "marker": {
          "color": "rgb(237, 217, 163)"
         },
         "name": "text",
         "type": "bar",
         "x": [
          "Wörter 700 bis 800"
         ],
         "y": [
          60
         ]
        },
        {
         "hovertemplate": "<b>bibelKol_3-16</b><br>Value: 31 Words<br>Link: <a href=\"\">Kol_3-16</a><extra></extra>",
         "marker": {
          "color": "rgb(246, 169, 122)"
         },
         "name": "bibelKol_3-16",
         "type": "bar",
         "x": [
          "Wörter 700 bis 800"
         ],
         "y": [
          31
         ]
        },
        {
         "hovertemplate": "<b>bibelEph_5-18.19</b><br>Value: 9 Words<br>Link: <a href=\"\">Eph_5-18.19</a><extra></extra>",
         "marker": {
          "color": "rgb(246, 169, 122)"
         },
         "name": "bibelEph_5-18.19",
         "type": "bar",
         "x": [
          "Wörter 700 bis 800"
         ],
         "y": [
          9
         ]
        },
        {
         "hovertemplate": "<b>bibelEph_5-18.19</b><br>Value: 13 Words<br>Link: <a href=\"\">Eph_5-18.19</a><extra></extra>",
         "marker": {
          "color": "rgb(246, 169, 122)"
         },
         "name": "bibelEph_5-18.19",
         "type": "bar",
         "x": [
          "Wörter 800 bis 900"
         ],
         "y": [
          13
         ]
        },
        {
         "hovertemplate": "<b>text</b><br>Value: 40 Words<br>Link: <a href=\"\"></a><extra></extra>",
         "marker": {
          "color": "rgb(237, 217, 163)"
         },
         "name": "text",
         "type": "bar",
         "x": [
          "Wörter 800 bis 900"
         ],
         "y": [
          40
         ]
        },
        {
         "hovertemplate": "<b>bibelJak_5-13</b><br>Value: 7 Words<br>Link: <a href=\"\">Jak_5-13</a><extra></extra>",
         "marker": {
          "color": "rgb(246, 169, 122)"
         },
         "name": "bibelJak_5-13",
         "type": "bar",
         "x": [
          "Wörter 800 bis 900"
         ],
         "y": [
          7
         ]
        },
        {
         "hovertemplate": "<b>bibel1Sam_16-23</b><br>Value: 33 Words<br>Link: <a href=\"\">1Sam_16-23</a><extra></extra>",
         "marker": {
          "color": "rgb(246, 169, 122)"
         },
         "name": "bibel1Sam_16-23",
         "type": "bar",
         "x": [
          "Wörter 800 bis 900"
         ],
         "y": [
          33
         ]
        },
        {
         "hovertemplate": "<b>bibelPs_4-1</b><br>Value: 6 Words<br>Link: <a href=\"\">Ps_4-1</a><extra></extra>",
         "marker": {
          "color": "rgb(246, 169, 122)"
         },
         "name": "bibelPs_4-1",
         "type": "bar",
         "x": [
          "Wörter 800 bis 900"
         ],
         "y": [
          6
         ]
        },
        {
         "hovertemplate": "<b>bibelPs_6-1</b><br>Value: 1 Words<br>Link: <a href=\"\">Ps_6-1</a><extra></extra>",
         "marker": {
          "color": "rgb(246, 169, 122)"
         },
         "name": "bibelPs_6-1",
         "type": "bar",
         "x": [
          "Wörter 800 bis 900"
         ],
         "y": [
          1
         ]
        },
        {
         "hovertemplate": "<b>text</b><br>Value: 28 Words<br>Link: <a href=\"\"></a><extra></extra>",
         "marker": {
          "color": "rgb(237, 217, 163)"
         },
         "name": "text",
         "type": "bar",
         "x": [
          "Wörter 900 bis 1000"
         ],
         "y": [
          28
         ]
        },
        {
         "hovertemplate": "<b>bibelPs_12-1</b><br>Value: 7 Words<br>Link: <a href=\"\">Ps_12-1</a><extra></extra>",
         "marker": {
          "color": "rgb(246, 169, 122)"
         },
         "name": "bibelPs_12-1",
         "type": "bar",
         "x": [
          "Wörter 900 bis 1000"
         ],
         "y": [
          7
         ]
        },
        {
         "hovertemplate": "<b>bibel2Sam_6-4.5</b><br>Value: 40 Words<br>Link: <a href=\"\">2Sam_6-4.5</a><extra></extra>",
         "marker": {
          "color": "rgb(246, 169, 122)"
         },
         "name": "bibel2Sam_6-4.5",
         "type": "bar",
         "x": [
          "Wörter 900 bis 1000"
         ],
         "y": [
          40
         ]
        },
        {
         "hovertemplate": "<b>bibel2Chr_7-5</b><br>Value: 25 Words<br>Link: <a href=\"\">2Chr_7-5</a><extra></extra>",
         "marker": {
          "color": "rgb(246, 169, 122)"
         },
         "name": "bibel2Chr_7-5",
         "type": "bar",
         "x": [
          "Wörter 900 bis 1000"
         ],
         "y": [
          25
         ]
        },
        {
         "hovertemplate": "<b>bibel2Chr_7-5</b><br>Value: 4 Words<br>Link: <a href=\"\">2Chr_7-5</a><extra></extra>",
         "marker": {
          "color": "rgb(246, 169, 122)"
         },
         "name": "bibel2Chr_7-5",
         "type": "bar",
         "x": [
          "Wörter 1000 bis 1100"
         ],
         "y": [
          4
         ]
        },
        {
         "hovertemplate": "<b>text</b><br>Value: 65 Words<br>Link: <a href=\"\"></a><extra></extra>",
         "marker": {
          "color": "rgb(237, 217, 163)"
         },
         "name": "text",
         "type": "bar",
         "x": [
          "Wörter 1000 bis 1100"
         ],
         "y": [
          65
         ]
        },
        {
         "hovertemplate": "<b>bibel2Chr_20-28</b><br>Value: 12 Words<br>Link: <a href=\"\">2Chr_20-28</a><extra></extra>",
         "marker": {
          "color": "rgb(246, 169, 122)"
         },
         "name": "bibel2Chr_20-28",
         "type": "bar",
         "x": [
          "Wörter 1000 bis 1100"
         ],
         "y": [
          12
         ]
        },
        {
         "hovertemplate": "<b>bibelNeh_12-27</b><br>Value: 15 Words<br>Link: <a href=\"\">Neh_12-27</a><extra></extra>",
         "marker": {
          "color": "rgb(246, 169, 122)"
         },
         "name": "bibelNeh_12-27",
         "type": "bar",
         "x": [
          "Wörter 1000 bis 1100"
         ],
         "y": [
          15
         ]
        },
        {
         "hovertemplate": "<b>bibel2Kön_3-15</b><br>Value: 4 Words<br>Link: <a href=\"\">2Kön_3-15</a><extra></extra>",
         "marker": {
          "color": "rgb(246, 169, 122)"
         },
         "name": "bibel2Kön_3-15",
         "type": "bar",
         "x": [
          "Wörter 1000 bis 1100"
         ],
         "y": [
          4
         ]
        },
        {
         "hovertemplate": "<b>bibel2Kön_3-15</b><br>Value: 11 Words<br>Link: <a href=\"\">2Kön_3-15</a><extra></extra>",
         "marker": {
          "color": "rgb(246, 169, 122)"
         },
         "name": "bibel2Kön_3-15",
         "type": "bar",
         "x": [
          "Wörter 1100 bis 1200"
         ],
         "y": [
          11
         ]
        },
        {
         "hovertemplate": "<b>text</b><br>Value: 89 Words<br>Link: <a href=\"\"></a><extra></extra>",
         "marker": {
          "color": "rgb(237, 217, 163)"
         },
         "name": "text",
         "type": "bar",
         "x": [
          "Wörter 1100 bis 1200"
         ],
         "y": [
          89
         ]
        },
        {
         "hovertemplate": "<b>text</b><br>Value: 78 Words<br>Link: <a href=\"\"></a><extra></extra>",
         "marker": {
          "color": "rgb(237, 217, 163)"
         },
         "name": "text",
         "type": "bar",
         "x": [
          "Wörter 1200 bis 1300"
         ],
         "y": [
          78
         ]
        },
        {
         "hovertemplate": "<b>E090560</b><br>Value: 22 Words<br>Link: <a href=\"https://orgelpredigt.ur.de/E090560\">E090560</a><extra></extra>",
         "marker": {
          "color": "rgb(234, 79, 136)"
         },
         "name": "E090560",
         "type": "bar",
         "x": [
          "Wörter 1200 bis 1300"
         ],
         "y": [
          22
         ]
        },
        {
         "hovertemplate": "<b>text</b><br>Value: 100 Words<br>Link: <a href=\"\"></a><extra></extra>",
         "marker": {
          "color": "rgb(237, 217, 163)"
         },
         "name": "text",
         "type": "bar",
         "x": [
          "Wörter 1300 bis 1400"
         ],
         "y": [
          100
         ]
        },
        {
         "hovertemplate": "<b>text</b><br>Value: 56 Words<br>Link: <a href=\"\"></a><extra></extra>",
         "marker": {
          "color": "rgb(237, 217, 163)"
         },
         "name": "text",
         "type": "bar",
         "x": [
          "Wörter 1400 bis 1500"
         ],
         "y": [
          56
         ]
        },
        {
         "hovertemplate": "<b>E080425</b><br>Value: 44 Words<br>Link: <a href=\"https://orgelpredigt.ur.de/E080425\">E080425</a><extra></extra>",
         "marker": {
          "color": "rgb(250, 120, 118)"
         },
         "name": "E080425",
         "type": "bar",
         "x": [
          "Wörter 1400 bis 1500"
         ],
         "y": [
          44
         ]
        },
        {
         "hovertemplate": "<b>E080425</b><br>Value: 22 Words<br>Link: <a href=\"https://orgelpredigt.ur.de/E080425\">E080425</a><extra></extra>",
         "marker": {
          "color": "rgb(250, 120, 118)"
         },
         "name": "E080425",
         "type": "bar",
         "x": [
          "Wörter 1500 bis 1600"
         ],
         "y": [
          22
         ]
        },
        {
         "hovertemplate": "<b>text</b><br>Value: 40 Words<br>Link: <a href=\"\"></a><extra></extra>",
         "marker": {
          "color": "rgb(237, 217, 163)"
         },
         "name": "text",
         "type": "bar",
         "x": [
          "Wörter 1500 bis 1600"
         ],
         "y": [
          40
         ]
        },
        {
         "hovertemplate": "<b>E080426</b><br>Value: 38 Words<br>Link: <a href=\"https://orgelpredigt.ur.de/E080426\">E080426</a><extra></extra>",
         "marker": {
          "color": "rgb(250, 120, 118)"
         },
         "name": "E080426",
         "type": "bar",
         "x": [
          "Wörter 1500 bis 1600"
         ],
         "y": [
          38
         ]
        },
        {
         "hovertemplate": "<b>text</b><br>Value: 94 Words<br>Link: <a href=\"\"></a><extra></extra>",
         "marker": {
          "color": "rgb(237, 217, 163)"
         },
         "name": "text",
         "type": "bar",
         "x": [
          "Wörter 1600 bis 1700"
         ],
         "y": [
          94
         ]
        },
        {
         "hovertemplate": "<b>E100087</b><br>Value: 6 Words<br>Link: <a href=\"https://orgelpredigt.ur.de/E100087\">E100087</a><extra></extra>",
         "marker": {
          "color": "rgb(192, 54, 157)"
         },
         "name": "E100087",
         "type": "bar",
         "x": [
          "Wörter 1600 bis 1700"
         ],
         "y": [
          6
         ]
        },
        {
         "hovertemplate": "<b>text</b><br>Value: 44 Words<br>Link: <a href=\"\"></a><extra></extra>",
         "marker": {
          "color": "rgb(237, 217, 163)"
         },
         "name": "text",
         "type": "bar",
         "x": [
          "Wörter 1700 bis 1800"
         ],
         "y": [
          44
         ]
        },
        {
         "hovertemplate": "<b>bibelMt_13-34.35</b><br>Value: 36 Words<br>Link: <a href=\"\">Mt_13-34.35</a><extra></extra>",
         "marker": {
          "color": "rgb(246, 169, 122)"
         },
         "name": "bibelMt_13-34.35",
         "type": "bar",
         "x": [
          "Wörter 1700 bis 1800"
         ],
         "y": [
          36
         ]
        },
        {
         "hovertemplate": "<b>bibelMt_13-34.35 Ps_78-2</b><br>Value: 4 Words<br>Link: <a href=\"\">Mt_13-34.35 Ps_78-2</a><extra></extra>",
         "marker": {
          "color": "rgb(246, 169, 122)"
         },
         "name": "bibelMt_13-34.35 Ps_78-2",
         "type": "bar",
         "x": [
          "Wörter 1700 bis 1800"
         ],
         "y": [
          4
         ]
        },
        {
         "hovertemplate": "<b>textMt_13-34.35</b><br>Value: 16 Words<br>Link: <a href=\"\">Mt_13-34.35</a><extra></extra>",
         "marker": {
          "color": "rgb(237, 217, 163)"
         },
         "name": "textMt_13-34.35",
         "type": "bar",
         "x": [
          "Wörter 1700 bis 1800"
         ],
         "y": [
          16
         ]
        },
        {
         "hovertemplate": "<b>text</b><br>Value: 75 Words<br>Link: <a href=\"\"></a><extra></extra>",
         "marker": {
          "color": "rgb(237, 217, 163)"
         },
         "name": "text",
         "type": "bar",
         "x": [
          "Wörter 1800 bis 1900"
         ],
         "y": [
          75
         ]
        },
        {
         "hovertemplate": "<b>bibelLk_8-4.5.6.7.8.9.10.11.12.13.14.15</b><br>Value: 15 Words<br>Link: <a href=\"\">Lk_8-4.5.6.7.8.9.10.11.12.13.14.15</a><extra></extra>",
         "marker": {
          "color": "rgb(246, 169, 122)"
         },
         "name": "bibelLk_8-4.5.6.7.8.9.10.11.12.13.14.15",
         "type": "bar",
         "x": [
          "Wörter 1800 bis 1900"
         ],
         "y": [
          15
         ]
        },
        {
         "hovertemplate": "<b>bibelLk_8-10</b><br>Value: 10 Words<br>Link: <a href=\"\">Lk_8-10</a><extra></extra>",
         "marker": {
          "color": "rgb(246, 169, 122)"
         },
         "name": "bibelLk_8-10",
         "type": "bar",
         "x": [
          "Wörter 1800 bis 1900"
         ],
         "y": [
          10
         ]
        },
        {
         "hovertemplate": "<b>text</b><br>Value: 85 Words<br>Link: <a href=\"\"></a><extra></extra>",
         "marker": {
          "color": "rgb(237, 217, 163)"
         },
         "name": "text",
         "type": "bar",
         "x": [
          "Wörter 1900 bis 2000"
         ],
         "y": [
          85
         ]
        },
        {
         "hovertemplate": "<b>bibelApg_13-34</b><br>Value: 3 Words<br>Link: <a href=\"\">Apg_13-34</a><extra></extra>",
         "marker": {
          "color": "rgb(246, 169, 122)"
         },
         "name": "bibelApg_13-34",
         "type": "bar",
         "x": [
          "Wörter 1900 bis 2000"
         ],
         "y": [
          3
         ]
        },
        {
         "hovertemplate": "<b>bibelLk_8-11.12</b><br>Value: 12 Words<br>Link: <a href=\"\">Lk_8-11.12</a><extra></extra>",
         "marker": {
          "color": "rgb(246, 169, 122)"
         },
         "name": "bibelLk_8-11.12",
         "type": "bar",
         "x": [
          "Wörter 1900 bis 2000"
         ],
         "y": [
          12
         ]
        },
        {
         "hovertemplate": "<b>bibelLk_8-11.12</b><br>Value: 4 Words<br>Link: <a href=\"\">Lk_8-11.12</a><extra></extra>",
         "marker": {
          "color": "rgb(246, 169, 122)"
         },
         "name": "bibelLk_8-11.12",
         "type": "bar",
         "x": [
          "Wörter 2000 bis 2100"
         ],
         "y": [
          4
         ]
        },
        {
         "hovertemplate": "<b>text</b><br>Value: 96 Words<br>Link: <a href=\"\"></a><extra></extra>",
         "marker": {
          "color": "rgb(237, 217, 163)"
         },
         "name": "text",
         "type": "bar",
         "x": [
          "Wörter 2000 bis 2100"
         ],
         "y": [
          96
         ]
        },
        {
         "hovertemplate": "<b>text</b><br>Value: 86 Words<br>Link: <a href=\"\"></a><extra></extra>",
         "marker": {
          "color": "rgb(237, 217, 163)"
         },
         "name": "text",
         "type": "bar",
         "x": [
          "Wörter 2100 bis 2200"
         ],
         "y": [
          86
         ]
        },
        {
         "hovertemplate": "<b>bibel2Tim_4-2</b><br>Value: 4 Words<br>Link: <a href=\"\">2Tim_4-2</a><extra></extra>",
         "marker": {
          "color": "rgb(246, 169, 122)"
         },
         "name": "bibel2Tim_4-2",
         "type": "bar",
         "x": [
          "Wörter 2100 bis 2200"
         ],
         "y": [
          4
         ]
        },
        {
         "hovertemplate": "<b>bibel1Kor_3-9</b><br>Value: 2 Words<br>Link: <a href=\"\">1Kor_3-9</a><extra></extra>",
         "marker": {
          "color": "rgb(246, 169, 122)"
         },
         "name": "bibel1Kor_3-9",
         "type": "bar",
         "x": [
          "Wörter 2100 bis 2200"
         ],
         "y": [
          2
         ]
        },
        {
         "hovertemplate": "<b>bibelEph_1-22</b><br>Value: 5 Words<br>Link: <a href=\"\">Eph_1-22</a><extra></extra>",
         "marker": {
          "color": "rgb(246, 169, 122)"
         },
         "name": "bibelEph_1-22",
         "type": "bar",
         "x": [
          "Wörter 2100 bis 2200"
         ],
         "y": [
          5
         ]
        },
        {
         "hovertemplate": "<b>bibelJoh_15-5</b><br>Value: 3 Words<br>Link: <a href=\"\">Joh_15-5</a><extra></extra>",
         "marker": {
          "color": "rgb(246, 169, 122)"
         },
         "name": "bibelJoh_15-5",
         "type": "bar",
         "x": [
          "Wörter 2100 bis 2200"
         ],
         "y": [
          3
         ]
        },
        {
         "hovertemplate": "<b>text</b><br>Value: 70 Words<br>Link: <a href=\"\"></a><extra></extra>",
         "marker": {
          "color": "rgb(237, 217, 163)"
         },
         "name": "text",
         "type": "bar",
         "x": [
          "Wörter 2200 bis 2300"
         ],
         "y": [
          70
         ]
        },
        {
         "hovertemplate": "<b>bibel1Kor_3-6</b><br>Value: 6 Words<br>Link: <a href=\"\">1Kor_3-6</a><extra></extra>",
         "marker": {
          "color": "rgb(246, 169, 122)"
         },
         "name": "bibel1Kor_3-6",
         "type": "bar",
         "x": [
          "Wörter 2200 bis 2300"
         ],
         "y": [
          6
         ]
        },
        {
         "hovertemplate": "<b>bibel2Petr_1-21</b><br>Value: 7 Words<br>Link: <a href=\"\">2Petr_1-21</a><extra></extra>",
         "marker": {
          "color": "rgb(246, 169, 122)"
         },
         "name": "bibel2Petr_1-21",
         "type": "bar",
         "x": [
          "Wörter 2200 bis 2300"
         ],
         "y": [
          7
         ]
        },
        {
         "hovertemplate": "<b>bibelEph_2-20.21</b><br>Value: 17 Words<br>Link: <a href=\"\">Eph_2-20.21</a><extra></extra>",
         "marker": {
          "color": "rgb(246, 169, 122)"
         },
         "name": "bibelEph_2-20.21",
         "type": "bar",
         "x": [
          "Wörter 2200 bis 2300"
         ],
         "y": [
          17
         ]
        },
        {
         "hovertemplate": "<b>bibelEph_2-20.21</b><br>Value: 15 Words<br>Link: <a href=\"\">Eph_2-20.21</a><extra></extra>",
         "marker": {
          "color": "rgb(246, 169, 122)"
         },
         "name": "bibelEph_2-20.21",
         "type": "bar",
         "x": [
          "Wörter 2300 bis 2400"
         ],
         "y": [
          15
         ]
        },
        {
         "hovertemplate": "<b>text</b><br>Value: 62 Words<br>Link: <a href=\"\"></a><extra></extra>",
         "marker": {
          "color": "rgb(237, 217, 163)"
         },
         "name": "text",
         "type": "bar",
         "x": [
          "Wörter 2300 bis 2400"
         ],
         "y": [
          62
         ]
        },
        {
         "hovertemplate": "<b>bibel1Kor_3-9</b><br>Value: 2 Words<br>Link: <a href=\"\">1Kor_3-9</a><extra></extra>",
         "marker": {
          "color": "rgb(246, 169, 122)"
         },
         "name": "bibel1Kor_3-9",
         "type": "bar",
         "x": [
          "Wörter 2300 bis 2400"
         ],
         "y": [
          2
         ]
        },
        {
         "hovertemplate": "<b>bibelSir_35-21</b><br>Value: 18 Words<br>Link: <a href=\"\">Sir_35-21</a><extra></extra>",
         "marker": {
          "color": "rgb(246, 169, 122)"
         },
         "name": "bibelSir_35-21",
         "type": "bar",
         "x": [
          "Wörter 2300 bis 2400"
         ],
         "y": [
          18
         ]
        },
        {
         "hovertemplate": "<b>bibelPs_2-9</b><br>Value: 3 Words<br>Link: <a href=\"\">Ps_2-9</a><extra></extra>",
         "marker": {
          "color": "rgb(246, 169, 122)"
         },
         "name": "bibelPs_2-9",
         "type": "bar",
         "x": [
          "Wörter 2300 bis 2400"
         ],
         "y": [
          3
         ]
        },
        {
         "hovertemplate": "<b>text</b><br>Value: 49 Words<br>Link: <a href=\"\"></a><extra></extra>",
         "marker": {
          "color": "rgb(237, 217, 163)"
         },
         "name": "text",
         "type": "bar",
         "x": [
          "Wörter 2400 bis 2500"
         ],
         "y": [
          49
         ]
        },
        {
         "hovertemplate": "<b>bibelPs_23-4</b><br>Value: 3 Words<br>Link: <a href=\"\">Ps_23-4</a><extra></extra>",
         "marker": {
          "color": "rgb(246, 169, 122)"
         },
         "name": "bibelPs_23-4",
         "type": "bar",
         "x": [
          "Wörter 2400 bis 2500"
         ],
         "y": [
          3
         ]
        },
        {
         "hovertemplate": "<b>bibelSach_11-7</b><br>Value: 3 Words<br>Link: <a href=\"\">Sach_11-7</a><extra></extra>",
         "marker": {
          "color": "rgb(246, 169, 122)"
         },
         "name": "bibelSach_11-7",
         "type": "bar",
         "x": [
          "Wörter 2400 bis 2500"
         ],
         "y": [
          3
         ]
        },
        {
         "hovertemplate": "<b>bibelMt_16-18</b><br>Value: 8 Words<br>Link: <a href=\"\">Mt_16-18</a><extra></extra>",
         "marker": {
          "color": "rgb(246, 169, 122)"
         },
         "name": "bibelMt_16-18",
         "type": "bar",
         "x": [
          "Wörter 2400 bis 2500"
         ],
         "y": [
          8
         ]
        },
        {
         "hovertemplate": "<b>bibelJes_40-8</b><br>Value: 3 Words<br>Link: <a href=\"\">Jes_40-8</a><extra></extra>",
         "marker": {
          "color": "rgb(246, 169, 122)"
         },
         "name": "bibelJes_40-8",
         "type": "bar",
         "x": [
          "Wörter 2400 bis 2500"
         ],
         "y": [
          3
         ]
        },
        {
         "hovertemplate": "<b>bibelRöm_8-38.39</b><br>Value: 34 Words<br>Link: <a href=\"\">Röm_8-38.39</a><extra></extra>",
         "marker": {
          "color": "rgb(246, 169, 122)"
         },
         "name": "bibelRöm_8-38.39",
         "type": "bar",
         "x": [
          "Wörter 2400 bis 2500"
         ],
         "y": [
          34
         ]
        },
        {
         "hovertemplate": "<b>text</b><br>Value: 100 Words<br>Link: <a href=\"\"></a><extra></extra>",
         "marker": {
          "color": "rgb(237, 217, 163)"
         },
         "name": "text",
         "type": "bar",
         "x": [
          "Wörter 2500 bis 2600"
         ],
         "y": [
          100
         ]
        },
        {
         "hovertemplate": "<b>text</b><br>Value: 81 Words<br>Link: <a href=\"\"></a><extra></extra>",
         "marker": {
          "color": "rgb(237, 217, 163)"
         },
         "name": "text",
         "type": "bar",
         "x": [
          "Wörter 2600 bis 2700"
         ],
         "y": [
          81
         ]
        },
        {
         "hovertemplate": "<b>bibelJes_49-23</b><br>Value: 3 Words<br>Link: <a href=\"\">Jes_49-23</a><extra></extra>",
         "marker": {
          "color": "rgb(246, 169, 122)"
         },
         "name": "bibelJes_49-23",
         "type": "bar",
         "x": [
          "Wörter 2600 bis 2700"
         ],
         "y": [
          3
         ]
        },
        {
         "hovertemplate": "<b>bibelMt_4-8.9</b><br>Value: 16 Words<br>Link: <a href=\"\">Mt_4-8.9</a><extra></extra>",
         "marker": {
          "color": "rgb(246, 169, 122)"
         },
         "name": "bibelMt_4-8.9",
         "type": "bar",
         "x": [
          "Wörter 2600 bis 2700"
         ],
         "y": [
          16
         ]
        },
        {
         "hovertemplate": "<b>bibelMt_4-8.9</b><br>Value: 10 Words<br>Link: <a href=\"\">Mt_4-8.9</a><extra></extra>",
         "marker": {
          "color": "rgb(246, 169, 122)"
         },
         "name": "bibelMt_4-8.9",
         "type": "bar",
         "x": [
          "Wörter 2700 bis 2800"
         ],
         "y": [
          10
         ]
        },
        {
         "hovertemplate": "<b>text</b><br>Value: 68 Words<br>Link: <a href=\"\"></a><extra></extra>",
         "marker": {
          "color": "rgb(237, 217, 163)"
         },
         "name": "text",
         "type": "bar",
         "x": [
          "Wörter 2700 bis 2800"
         ],
         "y": [
          68
         ]
        },
        {
         "hovertemplate": "<b>bibelSpr_18-10</b><br>Value: 18 Words<br>Link: <a href=\"\">Spr_18-10</a><extra></extra>",
         "marker": {
          "color": "rgb(246, 169, 122)"
         },
         "name": "bibelSpr_18-10",
         "type": "bar",
         "x": [
          "Wörter 2700 bis 2800"
         ],
         "y": [
          18
         ]
        },
        {
         "hovertemplate": "<b>E100039</b><br>Value: 4 Words<br>Link: <a href=\"https://orgelpredigt.ur.de/E100039\">E100039</a><extra></extra>",
         "marker": {
          "color": "rgb(192, 54, 157)"
         },
         "name": "E100039",
         "type": "bar",
         "x": [
          "Wörter 2700 bis 2800"
         ],
         "y": [
          4
         ]
        },
        {
         "hovertemplate": "<b>text</b><br>Value: 84 Words<br>Link: <a href=\"\"></a><extra></extra>",
         "marker": {
          "color": "rgb(237, 217, 163)"
         },
         "name": "text",
         "type": "bar",
         "x": [
          "Wörter 2800 bis 2900"
         ],
         "y": [
          84
         ]
        },
        {
         "hovertemplate": "<b>bibel2Petr_1-19</b><br>Value: 16 Words<br>Link: <a href=\"\">2Petr_1-19</a><extra></extra>",
         "marker": {
          "color": "rgb(246, 169, 122)"
         },
         "name": "bibel2Petr_1-19",
         "type": "bar",
         "x": [
          "Wörter 2800 bis 2900"
         ],
         "y": [
          16
         ]
        },
        {
         "hovertemplate": "<b>text</b><br>Value: 83 Words<br>Link: <a href=\"\"></a><extra></extra>",
         "marker": {
          "color": "rgb(237, 217, 163)"
         },
         "name": "text",
         "type": "bar",
         "x": [
          "Wörter 2900 bis 3000"
         ],
         "y": [
          83
         ]
        },
        {
         "hovertemplate": "<b>E100081</b><br>Value: 17 Words<br>Link: <a href=\"https://orgelpredigt.ur.de/E100081\">E100081</a><extra></extra>",
         "marker": {
          "color": "rgb(192, 54, 157)"
         },
         "name": "E100081",
         "type": "bar",
         "x": [
          "Wörter 2900 bis 3000"
         ],
         "y": [
          17
         ]
        },
        {
         "hovertemplate": "<b>E100081</b><br>Value: 13 Words<br>Link: <a href=\"https://orgelpredigt.ur.de/E100081\">E100081</a><extra></extra>",
         "marker": {
          "color": "rgb(192, 54, 157)"
         },
         "name": "E100081",
         "type": "bar",
         "x": [
          "Wörter 3000 bis 3100"
         ],
         "y": [
          13
         ]
        },
        {
         "hovertemplate": "<b>text</b><br>Value: 21 Words<br>Link: <a href=\"\"></a><extra></extra>",
         "marker": {
          "color": "rgb(237, 217, 163)"
         },
         "name": "text",
         "type": "bar",
         "x": [
          "Wörter 3000 bis 3100"
         ],
         "y": [
          21
         ]
        },
        {
         "hovertemplate": "<b>E100082</b><br>Value: 19 Words<br>Link: <a href=\"https://orgelpredigt.ur.de/E100082\">E100082</a><extra></extra>",
         "marker": {
          "color": "rgb(192, 54, 157)"
         },
         "name": "E100082",
         "type": "bar",
         "x": [
          "Wörter 3000 bis 3100"
         ],
         "y": [
          19
         ]
        },
        {
         "hovertemplate": "<b>bibelPs_91-4.11.12.14</b><br>Value: 47 Words<br>Link: <a href=\"\">Ps_91-4.11.12.14</a><extra></extra>",
         "marker": {
          "color": "rgb(246, 169, 122)"
         },
         "name": "bibelPs_91-4.11.12.14",
         "type": "bar",
         "x": [
          "Wörter 3000 bis 3100"
         ],
         "y": [
          47
         ]
        },
        {
         "hovertemplate": "<b>text</b><br>Value: 100 Words<br>Link: <a href=\"\"></a><extra></extra>",
         "marker": {
          "color": "rgb(237, 217, 163)"
         },
         "name": "text",
         "type": "bar",
         "x": [
          "Wörter 3100 bis 3200"
         ],
         "y": [
          100
         ]
        },
        {
         "hovertemplate": "<b>text</b><br>Value: 70 Words<br>Link: <a href=\"\"></a><extra></extra>",
         "marker": {
          "color": "rgb(237, 217, 163)"
         },
         "name": "text",
         "type": "bar",
         "x": [
          "Wörter 3200 bis 3300"
         ],
         "y": [
          70
         ]
        },
        {
         "hovertemplate": "<b>bibelPs_49-9</b><br>Value: 3 Words<br>Link: <a href=\"\">Ps_49-9</a><extra></extra>",
         "marker": {
          "color": "rgb(246, 169, 122)"
         },
         "name": "bibelPs_49-9",
         "type": "bar",
         "x": [
          "Wörter 3200 bis 3300"
         ],
         "y": [
          3
         ]
        },
        {
         "hovertemplate": "<b>bibel1Petr_1-18.19</b><br>Value: 24 Words<br>Link: <a href=\"\">1Petr_1-18.19</a><extra></extra>",
         "marker": {
          "color": "rgb(246, 169, 122)"
         },
         "name": "bibel1Petr_1-18.19",
         "type": "bar",
         "x": [
          "Wörter 3200 bis 3300"
         ],
         "y": [
          24
         ]
        },
        {
         "hovertemplate": "<b>E080427</b><br>Value: 3 Words<br>Link: <a href=\"https://orgelpredigt.ur.de/E080427\">E080427</a><extra></extra>",
         "marker": {
          "color": "rgb(250, 120, 118)"
         },
         "name": "E080427",
         "type": "bar",
         "x": [
          "Wörter 3200 bis 3300"
         ],
         "y": [
          3
         ]
        },
        {
         "hovertemplate": "<b>E080427</b><br>Value: 40 Words<br>Link: <a href=\"https://orgelpredigt.ur.de/E080427\">E080427</a><extra></extra>",
         "marker": {
          "color": "rgb(250, 120, 118)"
         },
         "name": "E080427",
         "type": "bar",
         "x": [
          "Wörter 3300 bis 3400"
         ],
         "y": [
          40
         ]
        },
        {
         "hovertemplate": "<b>text</b><br>Value: 26 Words<br>Link: <a href=\"\"></a><extra></extra>",
         "marker": {
          "color": "rgb(237, 217, 163)"
         },
         "name": "text",
         "type": "bar",
         "x": [
          "Wörter 3300 bis 3400"
         ],
         "y": [
          26
         ]
        },
        {
         "hovertemplate": "<b>bibelApg_20-28</b><br>Value: 34 Words<br>Link: <a href=\"\">Apg_20-28</a><extra></extra>",
         "marker": {
          "color": "rgb(246, 169, 122)"
         },
         "name": "bibelApg_20-28",
         "type": "bar",
         "x": [
          "Wörter 3300 bis 3400"
         ],
         "y": [
          34
         ]
        },
        {
         "hovertemplate": "<b>text</b><br>Value: 97 Words<br>Link: <a href=\"\"></a><extra></extra>",
         "marker": {
          "color": "rgb(237, 217, 163)"
         },
         "name": "text",
         "type": "bar",
         "x": [
          "Wörter 3400 bis 3500"
         ],
         "y": [
          97
         ]
        },
        {
         "hovertemplate": "<b>E080427</b><br>Value: 3 Words<br>Link: <a href=\"https://orgelpredigt.ur.de/E080427\">E080427</a><extra></extra>",
         "marker": {
          "color": "rgb(250, 120, 118)"
         },
         "name": "E080427",
         "type": "bar",
         "x": [
          "Wörter 3400 bis 3500"
         ],
         "y": [
          3
         ]
        },
        {
         "hovertemplate": "<b>text</b><br>Value: 69 Words<br>Link: <a href=\"\"></a><extra></extra>",
         "marker": {
          "color": "rgb(237, 217, 163)"
         },
         "name": "text",
         "type": "bar",
         "x": [
          "Wörter 3500 bis 3600"
         ],
         "y": [
          69
         ]
        },
        {
         "hovertemplate": "<b>bibelSir_25-14</b><br>Value: 6 Words<br>Link: <a href=\"\">Sir_25-14</a><extra></extra>",
         "marker": {
          "color": "rgb(246, 169, 122)"
         },
         "name": "bibelSir_25-14",
         "type": "bar",
         "x": [
          "Wörter 3500 bis 3600"
         ],
         "y": [
          6
         ]
        },
        {
         "hovertemplate": "<b>bibelPs_111-10</b><br>Value: 5 Words<br>Link: <a href=\"\">Ps_111-10</a><extra></extra>",
         "marker": {
          "color": "rgb(246, 169, 122)"
         },
         "name": "bibelPs_111-10",
         "type": "bar",
         "x": [
          "Wörter 3500 bis 3600"
         ],
         "y": [
          5
         ]
        },
        {
         "hovertemplate": "<b>bibelSir_1-16</b><br>Value: 3 Words<br>Link: <a href=\"\">Sir_1-16</a><extra></extra>",
         "marker": {
          "color": "rgb(246, 169, 122)"
         },
         "name": "bibelSir_1-16",
         "type": "bar",
         "x": [
          "Wörter 3500 bis 3600"
         ],
         "y": [
          3
         ]
        },
        {
         "hovertemplate": "<b>bibel1Tim_4-8</b><br>Value: 17 Words<br>Link: <a href=\"\">1Tim_4-8</a><extra></extra>",
         "marker": {
          "color": "rgb(246, 169, 122)"
         },
         "name": "bibel1Tim_4-8",
         "type": "bar",
         "x": [
          "Wörter 3500 bis 3600"
         ],
         "y": [
          17
         ]
        },
        {
         "hovertemplate": "<b>text</b><br>Value: 100 Words<br>Link: <a href=\"\"></a><extra></extra>",
         "marker": {
          "color": "rgb(237, 217, 163)"
         },
         "name": "text",
         "type": "bar",
         "x": [
          "Wörter 3600 bis 3700"
         ],
         "y": [
          100
         ]
        },
        {
         "hovertemplate": "<b>text</b><br>Value: 34 Words<br>Link: <a href=\"\"></a><extra></extra>",
         "marker": {
          "color": "rgb(237, 217, 163)"
         },
         "name": "text",
         "type": "bar",
         "x": [
          "Wörter 3700 bis 3800"
         ],
         "y": [
          34
         ]
        },
        {
         "hovertemplate": "<b>bibel1Kor_14-33.34.40</b><br>Value: 23 Words<br>Link: <a href=\"\">1Kor_14-33.34.40</a><extra></extra>",
         "marker": {
          "color": "rgb(246, 169, 122)"
         },
         "name": "bibel1Kor_14-33.34.40",
         "type": "bar",
         "x": [
          "Wörter 3700 bis 3800"
         ],
         "y": [
          23
         ]
        },
        {
         "hovertemplate": "<b>bibelPs_133-1.2</b><br>Value: 18 Words<br>Link: <a href=\"\">Ps_133-1.2</a><extra></extra>",
         "marker": {
          "color": "rgb(246, 169, 122)"
         },
         "name": "bibelPs_133-1.2",
         "type": "bar",
         "x": [
          "Wörter 3700 bis 3800"
         ],
         "y": [
          18
         ]
        },
        {
         "hovertemplate": "<b>bibelSir_25-1.2</b><br>Value: 25 Words<br>Link: <a href=\"\">Sir_25-1.2</a><extra></extra>",
         "marker": {
          "color": "rgb(246, 169, 122)"
         },
         "name": "bibelSir_25-1.2",
         "type": "bar",
         "x": [
          "Wörter 3700 bis 3800"
         ],
         "y": [
          25
         ]
        },
        {
         "hovertemplate": "<b>bibelSir_25-1.2</b><br>Value: 4 Words<br>Link: <a href=\"\">Sir_25-1.2</a><extra></extra>",
         "marker": {
          "color": "rgb(246, 169, 122)"
         },
         "name": "bibelSir_25-1.2",
         "type": "bar",
         "x": [
          "Wörter 3800 bis 3900"
         ],
         "y": [
          4
         ]
        },
        {
         "hovertemplate": "<b>text</b><br>Value: 86 Words<br>Link: <a href=\"\"></a><extra></extra>",
         "marker": {
          "color": "rgb(237, 217, 163)"
         },
         "name": "text",
         "type": "bar",
         "x": [
          "Wörter 3800 bis 3900"
         ],
         "y": [
          86
         ]
        },
        {
         "hovertemplate": "<b>bibelPs_150-5</b><br>Value: 10 Words<br>Link: <a href=\"\">Ps_150-5</a><extra></extra>",
         "marker": {
          "color": "rgb(246, 169, 122)"
         },
         "name": "bibelPs_150-5",
         "type": "bar",
         "x": [
          "Wörter 3800 bis 3900"
         ],
         "y": [
          10
         ]
        },
        {
         "hovertemplate": "<b>text</b><br>Value: 80 Words<br>Link: <a href=\"\"></a><extra></extra>",
         "marker": {
          "color": "rgb(237, 217, 163)"
         },
         "name": "text",
         "type": "bar",
         "x": [
          "Wörter 3900 bis 4000"
         ],
         "y": [
          80
         ]
        },
        {
         "hovertemplate": "<b>bibelMt_13-24.25.26.27.28.29.30</b><br>Value: 5 Words<br>Link: <a href=\"\">Mt_13-24.25.26.27.28.29.30</a><extra></extra>",
         "marker": {
          "color": "rgb(246, 169, 122)"
         },
         "name": "bibelMt_13-24.25.26.27.28.29.30",
         "type": "bar",
         "x": [
          "Wörter 3900 bis 4000"
         ],
         "y": [
          5
         ]
        },
        {
         "hovertemplate": "<b>bibelMt_13-47.48</b><br>Value: 15 Words<br>Link: <a href=\"\">Mt_13-47.48</a><extra></extra>",
         "marker": {
          "color": "rgb(246, 169, 122)"
         },
         "name": "bibelMt_13-47.48",
         "type": "bar",
         "x": [
          "Wörter 3900 bis 4000"
         ],
         "y": [
          15
         ]
        },
        {
         "hovertemplate": "<b>bibelMt_13-47.48</b><br>Value: 2 Words<br>Link: <a href=\"\">Mt_13-47.48</a><extra></extra>",
         "marker": {
          "color": "rgb(246, 169, 122)"
         },
         "name": "bibelMt_13-47.48",
         "type": "bar",
         "x": [
          "Wörter 4000 bis 4100"
         ],
         "y": [
          2
         ]
        },
        {
         "hovertemplate": "<b>text</b><br>Value: 96 Words<br>Link: <a href=\"\"></a><extra></extra>",
         "marker": {
          "color": "rgb(237, 217, 163)"
         },
         "name": "text",
         "type": "bar",
         "x": [
          "Wörter 4000 bis 4100"
         ],
         "y": [
          96
         ]
        },
        {
         "hovertemplate": "<b>bibelLk_8-4.5.6.7.8.9.10.11.12.13.14.15</b><br>Value: 2 Words<br>Link: <a href=\"\">Lk_8-4.5.6.7.8.9.10.11.12.13.14.15</a><extra></extra>",
         "marker": {
          "color": "rgb(246, 169, 122)"
         },
         "name": "bibelLk_8-4.5.6.7.8.9.10.11.12.13.14.15",
         "type": "bar",
         "x": [
          "Wörter 4000 bis 4100"
         ],
         "y": [
          2
         ]
        },
        {
         "hovertemplate": "<b>text</b><br>Value: 93 Words<br>Link: <a href=\"\"></a><extra></extra>",
         "marker": {
          "color": "rgb(237, 217, 163)"
         },
         "name": "text",
         "type": "bar",
         "x": [
          "Wörter 4100 bis 4200"
         ],
         "y": [
          93
         ]
        },
        {
         "hovertemplate": "<b>bibelJak_1-23</b><br>Value: 7 Words<br>Link: <a href=\"\">Jak_1-23</a><extra></extra>",
         "marker": {
          "color": "rgb(246, 169, 122)"
         },
         "name": "bibelJak_1-23",
         "type": "bar",
         "x": [
          "Wörter 4100 bis 4200"
         ],
         "y": [
          7
         ]
        },
        {
         "hovertemplate": "<b>bibelJak_1-23</b><br>Value: 1 Words<br>Link: <a href=\"\">Jak_1-23</a><extra></extra>",
         "marker": {
          "color": "rgb(246, 169, 122)"
         },
         "name": "bibelJak_1-23",
         "type": "bar",
         "x": [
          "Wörter 4200 bis 4300"
         ],
         "y": [
          1
         ]
        },
        {
         "hovertemplate": "<b>text</b><br>Value: 99 Words<br>Link: <a href=\"\"></a><extra></extra>",
         "marker": {
          "color": "rgb(237, 217, 163)"
         },
         "name": "text",
         "type": "bar",
         "x": [
          "Wörter 4200 bis 4300"
         ],
         "y": [
          99
         ]
        },
        {
         "hovertemplate": "<b>text</b><br>Value: 47 Words<br>Link: <a href=\"\"></a><extra></extra>",
         "marker": {
          "color": "rgb(237, 217, 163)"
         },
         "name": "text",
         "type": "bar",
         "x": [
          "Wörter 4300 bis 4400"
         ],
         "y": [
          47
         ]
        },
        {
         "hovertemplate": "<b>bibelLk_18-13</b><br>Value: 13 Words<br>Link: <a href=\"\">Lk_18-13</a><extra></extra>",
         "marker": {
          "color": "rgb(246, 169, 122)"
         },
         "name": "bibelLk_18-13",
         "type": "bar",
         "x": [
          "Wörter 4300 bis 4400"
         ],
         "y": [
          13
         ]
        },
        {
         "hovertemplate": "<b>bibelJon_3-6</b><br>Value: 18 Words<br>Link: <a href=\"\">Jon_3-6</a><extra></extra>",
         "marker": {
          "color": "rgb(246, 169, 122)"
         },
         "name": "bibelJon_3-6",
         "type": "bar",
         "x": [
          "Wörter 4300 bis 4400"
         ],
         "y": [
          18
         ]
        },
        {
         "hovertemplate": "<b>bibelMt_6-6</b><br>Value: 14 Words<br>Link: <a href=\"\">Mt_6-6</a><extra></extra>",
         "marker": {
          "color": "rgb(246, 169, 122)"
         },
         "name": "bibelMt_6-6",
         "type": "bar",
         "x": [
          "Wörter 4300 bis 4400"
         ],
         "y": [
          14
         ]
        },
        {
         "hovertemplate": "<b>bibelPs_6</b><br>Value: 6 Words<br>Link: <a href=\"\">Ps_6</a><extra></extra>",
         "marker": {
          "color": "rgb(246, 169, 122)"
         },
         "name": "bibelPs_6",
         "type": "bar",
         "x": [
          "Wörter 4300 bis 4400"
         ],
         "y": [
          6
         ]
        },
        {
         "hovertemplate": "<b>bibelPs_143</b><br>Value: 2 Words<br>Link: <a href=\"\">Ps_143</a><extra></extra>",
         "marker": {
          "color": "rgb(246, 169, 122)"
         },
         "name": "bibelPs_143",
         "type": "bar",
         "x": [
          "Wörter 4300 bis 4400"
         ],
         "y": [
          2
         ]
        },
        {
         "hovertemplate": "<b>bibelPs_143</b><br>Value: 2 Words<br>Link: <a href=\"\">Ps_143</a><extra></extra>",
         "marker": {
          "color": "rgb(246, 169, 122)"
         },
         "name": "bibelPs_143",
         "type": "bar",
         "x": [
          "Wörter 4400 bis 4500"
         ],
         "y": [
          2
         ]
        },
        {
         "hovertemplate": "<b>text</b><br>Value: 76 Words<br>Link: <a href=\"\"></a><extra></extra>",
         "marker": {
          "color": "rgb(237, 217, 163)"
         },
         "name": "text",
         "type": "bar",
         "x": [
          "Wörter 4400 bis 4500"
         ],
         "y": [
          76
         ]
        },
        {
         "hovertemplate": "<b>bibelPs_32-1.2</b><br>Value: 21 Words<br>Link: <a href=\"\">Ps_32-1.2</a><extra></extra>",
         "marker": {
          "color": "rgb(246, 169, 122)"
         },
         "name": "bibelPs_32-1.2",
         "type": "bar",
         "x": [
          "Wörter 4400 bis 4500"
         ],
         "y": [
          21
         ]
        },
        {
         "hovertemplate": "<b>bibel2Kor_5-10</b><br>Value: 1 Words<br>Link: <a href=\"\">2Kor_5-10</a><extra></extra>",
         "marker": {
          "color": "rgb(246, 169, 122)"
         },
         "name": "bibel2Kor_5-10",
         "type": "bar",
         "x": [
          "Wörter 4400 bis 4500"
         ],
         "y": [
          1
         ]
        },
        {
         "hovertemplate": "<b>bibel2Kor_5-10</b><br>Value: 3 Words<br>Link: <a href=\"\">2Kor_5-10</a><extra></extra>",
         "marker": {
          "color": "rgb(246, 169, 122)"
         },
         "name": "bibel2Kor_5-10",
         "type": "bar",
         "x": [
          "Wörter 4500 bis 4600"
         ],
         "y": [
          3
         ]
        },
        {
         "hovertemplate": "<b>text</b><br>Value: 58 Words<br>Link: <a href=\"\"></a><extra></extra>",
         "marker": {
          "color": "rgb(237, 217, 163)"
         },
         "name": "text",
         "type": "bar",
         "x": [
          "Wörter 4500 bis 4600"
         ],
         "y": [
          58
         ]
        },
        {
         "hovertemplate": "<b>bibelOffb_6-16.17</b><br>Value: 39 Words<br>Link: <a href=\"\">Offb_6-16.17</a><extra></extra>",
         "marker": {
          "color": "rgb(246, 169, 122)"
         },
         "name": "bibelOffb_6-16.17",
         "type": "bar",
         "x": [
          "Wörter 4500 bis 4600"
         ],
         "y": [
          39
         ]
        },
        {
         "hovertemplate": "<b>text</b><br>Value: 100 Words<br>Link: <a href=\"\"></a><extra></extra>",
         "marker": {
          "color": "rgb(237, 217, 163)"
         },
         "name": "text",
         "type": "bar",
         "x": [
          "Wörter 4600 bis 4700"
         ],
         "y": [
          100
         ]
        },
        {
         "hovertemplate": "<b>text</b><br>Value: 78 Words<br>Link: <a href=\"\"></a><extra></extra>",
         "marker": {
          "color": "rgb(237, 217, 163)"
         },
         "name": "text",
         "type": "bar",
         "x": [
          "Wörter 4700 bis 4800"
         ],
         "y": [
          78
         ]
        },
        {
         "hovertemplate": "<b>bibel1Joh_4-20.21</b><br>Value: 5 Words<br>Link: <a href=\"\">1Joh_4-20.21</a><extra></extra>",
         "marker": {
          "color": "rgb(246, 169, 122)"
         },
         "name": "bibel1Joh_4-20.21",
         "type": "bar",
         "x": [
          "Wörter 4700 bis 4800"
         ],
         "y": [
          5
         ]
        },
        {
         "hovertemplate": "<b>bibelPs_42-8</b><br>Value: 17 Words<br>Link: <a href=\"\">Ps_42-8</a><extra></extra>",
         "marker": {
          "color": "rgb(246, 169, 122)"
         },
         "name": "bibelPs_42-8",
         "type": "bar",
         "x": [
          "Wörter 4700 bis 4800"
         ],
         "y": [
          17
         ]
        },
        {
         "hovertemplate": "<b>text</b><br>Value: 82 Words<br>Link: <a href=\"\"></a><extra></extra>",
         "marker": {
          "color": "rgb(237, 217, 163)"
         },
         "name": "text",
         "type": "bar",
         "x": [
          "Wörter 4800 bis 4900"
         ],
         "y": [
          82
         ]
        },
        {
         "hovertemplate": "<b>bibelPs_130</b><br>Value: 7 Words<br>Link: <a href=\"\">Ps_130</a><extra></extra>",
         "marker": {
          "color": "rgb(246, 169, 122)"
         },
         "name": "bibelPs_130",
         "type": "bar",
         "x": [
          "Wörter 4800 bis 4900"
         ],
         "y": [
          7
         ]
        },
        {
         "hovertemplate": "<b>E100003</b><br>Value: 11 Words<br>Link: <a href=\"https://orgelpredigt.ur.de/E100003\">E100003</a><extra></extra>",
         "marker": {
          "color": "rgb(192, 54, 157)"
         },
         "name": "E100003",
         "type": "bar",
         "x": [
          "Wörter 4800 bis 4900"
         ],
         "y": [
          11
         ]
        },
        {
         "hovertemplate": "<b>text</b><br>Value: 85 Words<br>Link: <a href=\"\"></a><extra></extra>",
         "marker": {
          "color": "rgb(237, 217, 163)"
         },
         "name": "text",
         "type": "bar",
         "x": [
          "Wörter 4900 bis 5000"
         ],
         "y": [
          85
         ]
        },
        {
         "hovertemplate": "<b>bibel1Petr_2-9</b><br>Value: 15 Words<br>Link: <a href=\"\">1Petr_2-9</a><extra></extra>",
         "marker": {
          "color": "rgb(246, 169, 122)"
         },
         "name": "bibel1Petr_2-9",
         "type": "bar",
         "x": [
          "Wörter 4900 bis 5000"
         ],
         "y": [
          15
         ]
        },
        {
         "hovertemplate": "<b>bibelPs_95-8</b><br>Value: 11 Words<br>Link: <a href=\"\">Ps_95-8</a><extra></extra>",
         "marker": {
          "color": "rgb(246, 169, 122)"
         },
         "name": "bibelPs_95-8",
         "type": "bar",
         "x": [
          "Wörter 5000 bis 5100"
         ],
         "y": [
          11
         ]
        },
        {
         "hovertemplate": "<b>text</b><br>Value: 80 Words<br>Link: <a href=\"\"></a><extra></extra>",
         "marker": {
          "color": "rgb(237, 217, 163)"
         },
         "name": "text",
         "type": "bar",
         "x": [
          "Wörter 5000 bis 5100"
         ],
         "y": [
          80
         ]
        },
        {
         "hovertemplate": "<b>bibelMt_22-30</b><br>Value: 6 Words<br>Link: <a href=\"\">Mt_22-30</a><extra></extra>",
         "marker": {
          "color": "rgb(246, 169, 122)"
         },
         "name": "bibelMt_22-30",
         "type": "bar",
         "x": [
          "Wörter 5000 bis 5100"
         ],
         "y": [
          6
         ]
        },
        {
         "hovertemplate": "<b>bibelOffb_5-10</b><br>Value: 3 Words<br>Link: <a href=\"\">Offb_5-10</a><extra></extra>",
         "marker": {
          "color": "rgb(246, 169, 122)"
         },
         "name": "bibelOffb_5-10",
         "type": "bar",
         "x": [
          "Wörter 5000 bis 5100"
         ],
         "y": [
          3
         ]
        },
        {
         "hovertemplate": "<b>text</b><br>Value: 12 Words<br>Link: <a href=\"\"></a><extra></extra>",
         "marker": {
          "color": "rgb(237, 217, 163)"
         },
         "name": "text",
         "type": "bar",
         "x": [
          "Wörter 5100 bis 5200"
         ],
         "y": [
          12
         ]
        },
        {
         "hovertemplate": "<b>bibel1Thess_4-16.17.18</b><br>Value: 69 Words<br>Link: <a href=\"\">1Thess_4-16.17.18</a><extra></extra>",
         "marker": {
          "color": "rgb(246, 169, 122)"
         },
         "name": "bibel1Thess_4-16.17.18",
         "type": "bar",
         "x": [
          "Wörter 5100 bis 5200"
         ],
         "y": [
          69
         ]
        },
        {
         "hovertemplate": "<b>bibelMt_24-30.31</b><br>Value: 19 Words<br>Link: <a href=\"\">Mt_24-30.31</a><extra></extra>",
         "marker": {
          "color": "rgb(246, 169, 122)"
         },
         "name": "bibelMt_24-30.31",
         "type": "bar",
         "x": [
          "Wörter 5100 bis 5200"
         ],
         "y": [
          19
         ]
        },
        {
         "hovertemplate": "<b>bibelMt_24-30.31</b><br>Value: 5 Words<br>Link: <a href=\"\">Mt_24-30.31</a><extra></extra>",
         "marker": {
          "color": "rgb(246, 169, 122)"
         },
         "name": "bibelMt_24-30.31",
         "type": "bar",
         "x": [
          "Wörter 5200 bis 5300"
         ],
         "y": [
          5
         ]
        },
        {
         "hovertemplate": "<b>text</b><br>Value: 60 Words<br>Link: <a href=\"\"></a><extra></extra>",
         "marker": {
          "color": "rgb(237, 217, 163)"
         },
         "name": "text",
         "type": "bar",
         "x": [
          "Wörter 5200 bis 5300"
         ],
         "y": [
          60
         ]
        },
        {
         "hovertemplate": "<b>E100086</b><br>Value: 14 Words<br>Link: <a href=\"https://orgelpredigt.ur.de/E100086\">E100086</a><extra></extra>",
         "marker": {
          "color": "rgb(192, 54, 157)"
         },
         "name": "E100086",
         "type": "bar",
         "x": [
          "Wörter 5200 bis 5300"
         ],
         "y": [
          14
         ]
        },
        {
         "hovertemplate": "<b>bibelSir_7-40</b><br>Value: 21 Words<br>Link: <a href=\"\">Sir_7-40</a><extra></extra>",
         "marker": {
          "color": "rgb(246, 169, 122)"
         },
         "name": "bibelSir_7-40",
         "type": "bar",
         "x": [
          "Wörter 5200 bis 5300"
         ],
         "y": [
          21
         ]
        },
        {
         "hovertemplate": "<b>text</b><br>Value: 45 Words<br>Link: <a href=\"\"></a><extra></extra>",
         "marker": {
          "color": "rgb(237, 217, 163)"
         },
         "name": "text",
         "type": "bar",
         "x": [
          "Wörter 5300 bis 5400"
         ],
         "y": [
          45
         ]
        },
        {
         "hovertemplate": "<b>bibelEz_33-7</b><br>Value: 3 Words<br>Link: <a href=\"\">Ez_33-7</a><extra></extra>",
         "marker": {
          "color": "rgb(246, 169, 122)"
         },
         "name": "bibelEz_33-7",
         "type": "bar",
         "x": [
          "Wörter 5300 bis 5400"
         ],
         "y": [
          3
         ]
        },
        {
         "hovertemplate": "<b>bibelEz_3-17</b><br>Value: 25 Words<br>Link: <a href=\"\">Ez_3-17</a><extra></extra>",
         "marker": {
          "color": "rgb(246, 169, 122)"
         },
         "name": "bibelEz_3-17",
         "type": "bar",
         "x": [
          "Wörter 5300 bis 5400"
         ],
         "y": [
          25
         ]
        },
        {
         "hovertemplate": "<b>bibelHebr_13-17</b><br>Value: 27 Words<br>Link: <a href=\"\">Hebr_13-17</a><extra></extra>",
         "marker": {
          "color": "rgb(246, 169, 122)"
         },
         "name": "bibelHebr_13-17",
         "type": "bar",
         "x": [
          "Wörter 5300 bis 5400"
         ],
         "y": [
          27
         ]
        },
        {
         "hovertemplate": "<b>bibelHebr_13-17</b><br>Value: 10 Words<br>Link: <a href=\"\">Hebr_13-17</a><extra></extra>",
         "marker": {
          "color": "rgb(246, 169, 122)"
         },
         "name": "bibelHebr_13-17",
         "type": "bar",
         "x": [
          "Wörter 5400 bis 5500"
         ],
         "y": [
          10
         ]
        },
        {
         "hovertemplate": "<b>text</b><br>Value: 63 Words<br>Link: <a href=\"\"></a><extra></extra>",
         "marker": {
          "color": "rgb(237, 217, 163)"
         },
         "name": "text",
         "type": "bar",
         "x": [
          "Wörter 5400 bis 5500"
         ],
         "y": [
          63
         ]
        },
        {
         "hovertemplate": "<b>bibelOffb_1</b><br>Value: 1 Words<br>Link: <a href=\"\">Offb_1</a><extra></extra>",
         "marker": {
          "color": "rgb(246, 169, 122)"
         },
         "name": "bibelOffb_1",
         "type": "bar",
         "x": [
          "Wörter 5400 bis 5500"
         ],
         "y": [
          1
         ]
        },
        {
         "hovertemplate": "<b>bibelOffb_2</b><br>Value: 1 Words<br>Link: <a href=\"\">Offb_2</a><extra></extra>",
         "marker": {
          "color": "rgb(246, 169, 122)"
         },
         "name": "bibelOffb_2",
         "type": "bar",
         "x": [
          "Wörter 5400 bis 5500"
         ],
         "y": [
          1
         ]
        },
        {
         "hovertemplate": "<b>bibelOffb_8</b><br>Value: 1 Words<br>Link: <a href=\"\">Offb_8</a><extra></extra>",
         "marker": {
          "color": "rgb(246, 169, 122)"
         },
         "name": "bibelOffb_8",
         "type": "bar",
         "x": [
          "Wörter 5400 bis 5500"
         ],
         "y": [
          1
         ]
        },
        {
         "hovertemplate": "<b>bibelOffb_9</b><br>Value: 1 Words<br>Link: <a href=\"\">Offb_9</a><extra></extra>",
         "marker": {
          "color": "rgb(246, 169, 122)"
         },
         "name": "bibelOffb_9",
         "type": "bar",
         "x": [
          "Wörter 5400 bis 5500"
         ],
         "y": [
          1
         ]
        },
        {
         "hovertemplate": "<b>bibelDan_12-3</b><br>Value: 23 Words<br>Link: <a href=\"\">Dan_12-3</a><extra></extra>",
         "marker": {
          "color": "rgb(246, 169, 122)"
         },
         "name": "bibelDan_12-3",
         "type": "bar",
         "x": [
          "Wörter 5400 bis 5500"
         ],
         "y": [
          23
         ]
        },
        {
         "hovertemplate": "<b>text</b><br>Value: 74 Words<br>Link: <a href=\"\"></a><extra></extra>",
         "marker": {
          "color": "rgb(237, 217, 163)"
         },
         "name": "text",
         "type": "bar",
         "x": [
          "Wörter 5500 bis 5600"
         ],
         "y": [
          74
         ]
        },
        {
         "hovertemplate": "<b>bibelMt_5-16</b><br>Value: 19 Words<br>Link: <a href=\"\">Mt_5-16</a><extra></extra>",
         "marker": {
          "color": "rgb(246, 169, 122)"
         },
         "name": "bibelMt_5-16",
         "type": "bar",
         "x": [
          "Wörter 5500 bis 5600"
         ],
         "y": [
          19
         ]
        },
        {
         "hovertemplate": "<b>bibelPs_119-72</b><br>Value: 7 Words<br>Link: <a href=\"\">Ps_119-72</a><extra></extra>",
         "marker": {
          "color": "rgb(246, 169, 122)"
         },
         "name": "bibelPs_119-72",
         "type": "bar",
         "x": [
          "Wörter 5500 bis 5600"
         ],
         "y": [
          7
         ]
        },
        {
         "hovertemplate": "<b>text</b><br>Value: 86 Words<br>Link: <a href=\"\"></a><extra></extra>",
         "marker": {
          "color": "rgb(237, 217, 163)"
         },
         "name": "text",
         "type": "bar",
         "x": [
          "Wörter 5600 bis 5700"
         ],
         "y": [
          86
         ]
        },
        {
         "hovertemplate": "<b>bibelMt_14-4</b><br>Value: 10 Words<br>Link: <a href=\"\">Mt_14-4</a><extra></extra>",
         "marker": {
          "color": "rgb(246, 169, 122)"
         },
         "name": "bibelMt_14-4",
         "type": "bar",
         "x": [
          "Wörter 5600 bis 5700"
         ],
         "y": [
          10
         ]
        },
        {
         "hovertemplate": "<b>bibelPs_2-11</b><br>Value: 4 Words<br>Link: <a href=\"\">Ps_2-11</a><extra></extra>",
         "marker": {
          "color": "rgb(246, 169, 122)"
         },
         "name": "bibelPs_2-11",
         "type": "bar",
         "x": [
          "Wörter 5600 bis 5700"
         ],
         "y": [
          4
         ]
        },
        {
         "hovertemplate": "<b>bibelPs_2-11</b><br>Value: 6 Words<br>Link: <a href=\"\">Ps_2-11</a><extra></extra>",
         "marker": {
          "color": "rgb(246, 169, 122)"
         },
         "name": "bibelPs_2-11",
         "type": "bar",
         "x": [
          "Wörter 5700 bis 5800"
         ],
         "y": [
          6
         ]
        },
        {
         "hovertemplate": "<b>text</b><br>Value: 78 Words<br>Link: <a href=\"\"></a><extra></extra>",
         "marker": {
          "color": "rgb(237, 217, 163)"
         },
         "name": "text",
         "type": "bar",
         "x": [
          "Wörter 5700 bis 5800"
         ],
         "y": [
          78
         ]
        },
        {
         "hovertemplate": "<b>bibelPhil_2-12</b><br>Value: 9 Words<br>Link: <a href=\"\">Phil_2-12</a><extra></extra>",
         "marker": {
          "color": "rgb(246, 169, 122)"
         },
         "name": "bibelPhil_2-12",
         "type": "bar",
         "x": [
          "Wörter 5700 bis 5800"
         ],
         "y": [
          9
         ]
        },
        {
         "hovertemplate": "<b>E100068</b><br>Value: 7 Words<br>Link: <a href=\"https://orgelpredigt.ur.de/E100068\">E100068</a><extra></extra>",
         "marker": {
          "color": "rgb(192, 54, 157)"
         },
         "name": "E100068",
         "type": "bar",
         "x": [
          "Wörter 5700 bis 5800"
         ],
         "y": [
          7
         ]
        },
        {
         "hovertemplate": "<b>text</b><br>Value: 80 Words<br>Link: <a href=\"\"></a><extra></extra>",
         "marker": {
          "color": "rgb(237, 217, 163)"
         },
         "name": "text",
         "type": "bar",
         "x": [
          "Wörter 5800 bis 5900"
         ],
         "y": [
          80
         ]
        },
        {
         "hovertemplate": "<b>bibelEx_5</b><br>Value: 2 Words<br>Link: <a href=\"\">Ex_5</a><extra></extra>",
         "marker": {
          "color": "rgb(246, 169, 122)"
         },
         "name": "bibelEx_5",
         "type": "bar",
         "x": [
          "Wörter 5800 bis 5900"
         ],
         "y": [
          2
         ]
        },
        {
         "hovertemplate": "<b>bibelEz_14-13.14.15.16.17.18.19.20.21.22.23</b><br>Value: 4 Words<br>Link: <a href=\"\">Ez_14-13.14.15.16.17.18.19.20.21.22.23</a><extra></extra>",
         "marker": {
          "color": "rgb(246, 169, 122)"
         },
         "name": "bibelEz_14-13.14.15.16.17.18.19.20.21.22.23",
         "type": "bar",
         "x": [
          "Wörter 5800 bis 5900"
         ],
         "y": [
          4
         ]
        },
        {
         "hovertemplate": "<b>bibelJer_15-3</b><br>Value: 3 Words<br>Link: <a href=\"\">Jer_15-3</a><extra></extra>",
         "marker": {
          "color": "rgb(246, 169, 122)"
         },
         "name": "bibelJer_15-3",
         "type": "bar",
         "x": [
          "Wörter 5800 bis 5900"
         ],
         "y": [
          3
         ]
        },
        {
         "hovertemplate": "<b>bibel2Tim_3-12</b><br>Value: 11 Words<br>Link: <a href=\"\">2Tim_3-12</a><extra></extra>",
         "marker": {
          "color": "rgb(246, 169, 122)"
         },
         "name": "bibel2Tim_3-12",
         "type": "bar",
         "x": [
          "Wörter 5800 bis 5900"
         ],
         "y": [
          11
         ]
        },
        {
         "hovertemplate": "<b>text</b><br>Value: 52 Words<br>Link: <a href=\"\"></a><extra></extra>",
         "marker": {
          "color": "rgb(237, 217, 163)"
         },
         "name": "text",
         "type": "bar",
         "x": [
          "Wörter 5900 bis 6000"
         ],
         "y": [
          52
         ]
        },
        {
         "hovertemplate": "<b>bibelApg_14-22</b><br>Value: 11 Words<br>Link: <a href=\"\">Apg_14-22</a><extra></extra>",
         "marker": {
          "color": "rgb(246, 169, 122)"
         },
         "name": "bibelApg_14-22",
         "type": "bar",
         "x": [
          "Wörter 5900 bis 6000"
         ],
         "y": [
          11
         ]
        },
        {
         "hovertemplate": "<b>bibelPs_71-20</b><br>Value: 8 Words<br>Link: <a href=\"\">Ps_71-20</a><extra></extra>",
         "marker": {
          "color": "rgb(246, 169, 122)"
         },
         "name": "bibelPs_71-20",
         "type": "bar",
         "x": [
          "Wörter 5900 bis 6000"
         ],
         "y": [
          8
         ]
        },
        {
         "hovertemplate": "<b>bibelHebr_10-36</b><br>Value: 18 Words<br>Link: <a href=\"\">Hebr_10-36</a><extra></extra>",
         "marker": {
          "color": "rgb(246, 169, 122)"
         },
         "name": "bibelHebr_10-36",
         "type": "bar",
         "x": [
          "Wörter 5900 bis 6000"
         ],
         "y": [
          18
         ]
        },
        {
         "hovertemplate": "<b>bibelLk_8-15</b><br>Value: 4 Words<br>Link: <a href=\"\">Lk_8-15</a><extra></extra>",
         "marker": {
          "color": "rgb(246, 169, 122)"
         },
         "name": "bibelLk_8-15",
         "type": "bar",
         "x": [
          "Wörter 5900 bis 6000"
         ],
         "y": [
          4
         ]
        },
        {
         "hovertemplate": "<b>bibelRöm_12-12</b><br>Value: 7 Words<br>Link: <a href=\"\">Röm_12-12</a><extra></extra>",
         "marker": {
          "color": "rgb(246, 169, 122)"
         },
         "name": "bibelRöm_12-12",
         "type": "bar",
         "x": [
          "Wörter 5900 bis 6000"
         ],
         "y": [
          7
         ]
        },
        {
         "hovertemplate": "<b>text</b><br>Value: 97 Words<br>Link: <a href=\"\"></a><extra></extra>",
         "marker": {
          "color": "rgb(237, 217, 163)"
         },
         "name": "text",
         "type": "bar",
         "x": [
          "Wörter 6000 bis 6100"
         ],
         "y": [
          97
         ]
        },
        {
         "hovertemplate": "<b>bibelPs_73-4</b><br>Value: 3 Words<br>Link: <a href=\"\">Ps_73-4</a><extra></extra>",
         "marker": {
          "color": "rgb(246, 169, 122)"
         },
         "name": "bibelPs_73-4",
         "type": "bar",
         "x": [
          "Wörter 6000 bis 6100"
         ],
         "y": [
          3
         ]
        },
        {
         "hovertemplate": "<b>text</b><br>Value: 75 Words<br>Link: <a href=\"\"></a><extra></extra>",
         "marker": {
          "color": "rgb(237, 217, 163)"
         },
         "name": "text",
         "type": "bar",
         "x": [
          "Wörter 6100 bis 6200"
         ],
         "y": [
          75
         ]
        },
        {
         "hovertemplate": "<b>bibelPs_13-2</b><br>Value: 5 Words<br>Link: <a href=\"\">Ps_13-2</a><extra></extra>",
         "marker": {
          "color": "rgb(246, 169, 122)"
         },
         "name": "bibelPs_13-2",
         "type": "bar",
         "x": [
          "Wörter 6100 bis 6200"
         ],
         "y": [
          5
         ]
        },
        {
         "hovertemplate": "<b>bibelPs_42-2</b><br>Value: 14 Words<br>Link: <a href=\"\">Ps_42-2</a><extra></extra>",
         "marker": {
          "color": "rgb(246, 169, 122)"
         },
         "name": "bibelPs_42-2",
         "type": "bar",
         "x": [
          "Wörter 6100 bis 6200"
         ],
         "y": [
          14
         ]
        },
        {
         "hovertemplate": "<b>bibelApg_2-2</b><br>Value: 3 Words<br>Link: <a href=\"\">Apg_2-2</a><extra></extra>",
         "marker": {
          "color": "rgb(246, 169, 122)"
         },
         "name": "bibelApg_2-2",
         "type": "bar",
         "x": [
          "Wörter 6100 bis 6200"
         ],
         "y": [
          3
         ]
        },
        {
         "hovertemplate": "<b>bibelJoh_3-8</b><br>Value: 3 Words<br>Link: <a href=\"\">Joh_3-8</a><extra></extra>",
         "marker": {
          "color": "rgb(246, 169, 122)"
         },
         "name": "bibelJoh_3-8",
         "type": "bar",
         "x": [
          "Wörter 6100 bis 6200"
         ],
         "y": [
          3
         ]
        },
        {
         "hovertemplate": "<b>text</b><br>Value: 56 Words<br>Link: <a href=\"\"></a><extra></extra>",
         "marker": {
          "color": "rgb(237, 217, 163)"
         },
         "name": "text",
         "type": "bar",
         "x": [
          "Wörter 6200 bis 6300"
         ],
         "y": [
          56
         ]
        },
        {
         "hovertemplate": "<b>E100083</b><br>Value: 7 Words<br>Link: <a href=\"https://orgelpredigt.ur.de/E100083\">E100083</a><extra></extra>",
         "marker": {
          "color": "rgb(192, 54, 157)"
         },
         "name": "E100083",
         "type": "bar",
         "x": [
          "Wörter 6200 bis 6300"
         ],
         "y": [
          7
         ]
        },
        {
         "hovertemplate": "<b>bibelRöm_8-14</b><br>Value: 10 Words<br>Link: <a href=\"\">Röm_8-14</a><extra></extra>",
         "marker": {
          "color": "rgb(246, 169, 122)"
         },
         "name": "bibelRöm_8-14",
         "type": "bar",
         "x": [
          "Wörter 6200 bis 6300"
         ],
         "y": [
          10
         ]
        },
        {
         "hovertemplate": "<b>E080427</b><br>Value: 27 Words<br>Link: <a href=\"https://orgelpredigt.ur.de/E080427\">E080427</a><extra></extra>",
         "marker": {
          "color": "rgb(250, 120, 118)"
         },
         "name": "E080427",
         "type": "bar",
         "x": [
          "Wörter 6200 bis 6300"
         ],
         "y": [
          27
         ]
        },
        {
         "hovertemplate": "<b>text</b><br>Value: 75 Words<br>Link: <a href=\"\"></a><extra></extra>",
         "marker": {
          "color": "rgb(237, 217, 163)"
         },
         "name": "text",
         "type": "bar",
         "x": [
          "Wörter 6300 bis 6400"
         ],
         "y": [
          75
         ]
        },
        {
         "hovertemplate": "<b>bibelPs_119-92</b><br>Value: 12 Words<br>Link: <a href=\"\">Ps_119-92</a><extra></extra>",
         "marker": {
          "color": "rgb(246, 169, 122)"
         },
         "name": "bibelPs_119-92",
         "type": "bar",
         "x": [
          "Wörter 6300 bis 6400"
         ],
         "y": [
          12
         ]
        },
        {
         "hovertemplate": "<b>bibelRöm_8-16</b><br>Value: 11 Words<br>Link: <a href=\"\">Röm_8-16</a><extra></extra>",
         "marker": {
          "color": "rgb(246, 169, 122)"
         },
         "name": "bibelRöm_8-16",
         "type": "bar",
         "x": [
          "Wörter 6300 bis 6400"
         ],
         "y": [
          11
         ]
        },
        {
         "hovertemplate": "<b>bibelPs_51-12</b><br>Value: 2 Words<br>Link: <a href=\"\">Ps_51-12</a><extra></extra>",
         "marker": {
          "color": "rgb(246, 169, 122)"
         },
         "name": "bibelPs_51-12",
         "type": "bar",
         "x": [
          "Wörter 6300 bis 6400"
         ],
         "y": [
          2
         ]
        },
        {
         "hovertemplate": "<b>bibelPs_51-12</b><br>Value: 1 Words<br>Link: <a href=\"\">Ps_51-12</a><extra></extra>",
         "marker": {
          "color": "rgb(246, 169, 122)"
         },
         "name": "bibelPs_51-12",
         "type": "bar",
         "x": [
          "Wörter 6400 bis 6500"
         ],
         "y": [
          1
         ]
        },
        {
         "hovertemplate": "<b>text</b><br>Value: 64 Words<br>Link: <a href=\"\"></a><extra></extra>",
         "marker": {
          "color": "rgb(237, 217, 163)"
         },
         "name": "text",
         "type": "bar",
         "x": [
          "Wörter 6400 bis 6500"
         ],
         "y": [
          64
         ]
        },
        {
         "hovertemplate": "<b>bibelPs_51-14</b><br>Value: 2 Words<br>Link: <a href=\"\">Ps_51-14</a><extra></extra>",
         "marker": {
          "color": "rgb(246, 169, 122)"
         },
         "name": "bibelPs_51-14",
         "type": "bar",
         "x": [
          "Wörter 6400 bis 6500"
         ],
         "y": [
          2
         ]
        },
        {
         "hovertemplate": "<b>bibelRöm_10.17</b><br>Value: 14 Words<br>Link: <a href=\"\">Röm_10.17</a><extra></extra>",
         "marker": {
          "color": "rgb(246, 169, 122)"
         },
         "name": "bibelRöm_10.17",
         "type": "bar",
         "x": [
          "Wörter 6400 bis 6500"
         ],
         "y": [
          14
         ]
        },
        {
         "hovertemplate": "<b>E100084</b><br>Value: 19 Words<br>Link: <a href=\"https://orgelpredigt.ur.de/E100084\">E100084</a><extra></extra>",
         "marker": {
          "color": "rgb(192, 54, 157)"
         },
         "name": "E100084",
         "type": "bar",
         "x": [
          "Wörter 6400 bis 6500"
         ],
         "y": [
          19
         ]
        },
        {
         "hovertemplate": "<b>E100084</b><br>Value: 17 Words<br>Link: <a href=\"https://orgelpredigt.ur.de/E100084\">E100084</a><extra></extra>",
         "marker": {
          "color": "rgb(192, 54, 157)"
         },
         "name": "E100084",
         "type": "bar",
         "x": [
          "Wörter 6500 bis 6600"
         ],
         "y": [
          17
         ]
        },
        {
         "hovertemplate": "<b>text</b><br>Value: 66 Words<br>Link: <a href=\"\"></a><extra></extra>",
         "marker": {
          "color": "rgb(237, 217, 163)"
         },
         "name": "text",
         "type": "bar",
         "x": [
          "Wörter 6500 bis 6600"
         ],
         "y": [
          66
         ]
        },
        {
         "hovertemplate": "<b>bibelRöm_10-10</b><br>Value: 6 Words<br>Link: <a href=\"\">Röm_10-10</a><extra></extra>",
         "marker": {
          "color": "rgb(246, 169, 122)"
         },
         "name": "bibelRöm_10-10",
         "type": "bar",
         "x": [
          "Wörter 6500 bis 6600"
         ],
         "y": [
          6
         ]
        },
        {
         "hovertemplate": "<b>E100013</b><br>Value: 11 Words<br>Link: <a href=\"https://orgelpredigt.ur.de/E100013\">E100013</a><extra></extra>",
         "marker": {
          "color": "rgb(192, 54, 157)"
         },
         "name": "E100013",
         "type": "bar",
         "x": [
          "Wörter 6500 bis 6600"
         ],
         "y": [
          11
         ]
        },
        {
         "hovertemplate": "<b>E100013</b><br>Value: 37 Words<br>Link: <a href=\"https://orgelpredigt.ur.de/E100013\">E100013</a><extra></extra>",
         "marker": {
          "color": "rgb(192, 54, 157)"
         },
         "name": "E100013",
         "type": "bar",
         "x": [
          "Wörter 6600 bis 6700"
         ],
         "y": [
          37
         ]
        },
        {
         "hovertemplate": "<b>E100084</b><br>Value: 19 Words<br>Link: <a href=\"https://orgelpredigt.ur.de/E100084\">E100084</a><extra></extra>",
         "marker": {
          "color": "rgb(192, 54, 157)"
         },
         "name": "E100084",
         "type": "bar",
         "x": [
          "Wörter 6600 bis 6700"
         ],
         "y": [
          19
         ]
        },
        {
         "hovertemplate": "<b>text</b><br>Value: 44 Words<br>Link: <a href=\"\"></a><extra></extra>",
         "marker": {
          "color": "rgb(237, 217, 163)"
         },
         "name": "text",
         "type": "bar",
         "x": [
          "Wörter 6600 bis 6700"
         ],
         "y": [
          44
         ]
        },
        {
         "hovertemplate": "<b>text</b><br>Value: 79 Words<br>Link: <a href=\"\"></a><extra></extra>",
         "marker": {
          "color": "rgb(237, 217, 163)"
         },
         "name": "text",
         "type": "bar",
         "x": [
          "Wörter 6700 bis 6800"
         ],
         "y": [
          79
         ]
        },
        {
         "hovertemplate": "<b>bibelHebr_11-6</b><br>Value: 6 Words<br>Link: <a href=\"\">Hebr_11-6</a><extra></extra>",
         "marker": {
          "color": "rgb(246, 169, 122)"
         },
         "name": "bibelHebr_11-6",
         "type": "bar",
         "x": [
          "Wörter 6700 bis 6800"
         ],
         "y": [
          6
         ]
        },
        {
         "hovertemplate": "<b>bibelJer_5-3</b><br>Value: 5 Words<br>Link: <a href=\"\">Jer_5-3</a><extra></extra>",
         "marker": {
          "color": "rgb(246, 169, 122)"
         },
         "name": "bibelJer_5-3",
         "type": "bar",
         "x": [
          "Wörter 6700 bis 6800"
         ],
         "y": [
          5
         ]
        },
        {
         "hovertemplate": "<b>bibelMk_16-16</b><br>Value: 10 Words<br>Link: <a href=\"\">Mk_16-16</a><extra></extra>",
         "marker": {
          "color": "rgb(246, 169, 122)"
         },
         "name": "bibelMk_16-16",
         "type": "bar",
         "x": [
          "Wörter 6700 bis 6800"
         ],
         "y": [
          10
         ]
        },
        {
         "hovertemplate": "<b>text</b><br>Value: 21 Words<br>Link: <a href=\"\"></a><extra></extra>",
         "marker": {
          "color": "rgb(237, 217, 163)"
         },
         "name": "text",
         "type": "bar",
         "x": [
          "Wörter 6800 bis 6900"
         ],
         "y": [
          21
         ]
        },
        {
         "hovertemplate": "<b>E090778</b><br>Value: 69 Words<br>Link: <a href=\"https://orgelpredigt.ur.de/E090778\">E090778</a><extra></extra>",
         "marker": {
          "color": "rgb(234, 79, 136)"
         },
         "name": "E090778",
         "type": "bar",
         "x": [
          "Wörter 6800 bis 6900"
         ],
         "y": [
          69
         ]
        },
        {
         "hovertemplate": "<b>E090778 Joh_20-29</b><br>Value: 10 Words<br>Link: <a href=\"https://orgelpredigt.ur.de/E090778 Joh_20-29\">E090778 Joh_20-29</a><extra></extra>",
         "marker": {
          "color": "rgb(246, 169, 122)"
         },
         "name": "E090778 Joh_20-29",
         "type": "bar",
         "x": [
          "Wörter 6800 bis 6900"
         ],
         "y": [
          10
         ]
        },
        {
         "hovertemplate": "<b>E090778</b><br>Value: 76 Words<br>Link: <a href=\"https://orgelpredigt.ur.de/E090778\">E090778</a><extra></extra>",
         "marker": {
          "color": "rgb(234, 79, 136)"
         },
         "name": "E090778",
         "type": "bar",
         "x": [
          "Wörter 6900 bis 7000"
         ],
         "y": [
          76
         ]
        },
        {
         "hovertemplate": "<b>E090778 1Kor_13-12</b><br>Value: 4 Words<br>Link: <a href=\"https://orgelpredigt.ur.de/E090778 1Kor_13-12\">E090778 1Kor_13-12</a><extra></extra>",
         "marker": {
          "color": "rgb(246, 169, 122)"
         },
         "name": "E090778 1Kor_13-12",
         "type": "bar",
         "x": [
          "Wörter 6900 bis 7000"
         ],
         "y": [
          4
         ]
        },
        {
         "hovertemplate": "<b>E090778 1Petr_2-21</b><br>Value: 16 Words<br>Link: <a href=\"https://orgelpredigt.ur.de/E090778 1Petr_2-21\">E090778 1Petr_2-21</a><extra></extra>",
         "marker": {
          "color": "rgb(246, 169, 122)"
         },
         "name": "E090778 1Petr_2-21",
         "type": "bar",
         "x": [
          "Wörter 6900 bis 7000"
         ],
         "y": [
          16
         ]
        },
        {
         "hovertemplate": "<b>E090778 Jak_2-14</b><br>Value: 4 Words<br>Link: <a href=\"https://orgelpredigt.ur.de/E090778 Jak_2-14\">E090778 Jak_2-14</a><extra></extra>",
         "marker": {
          "color": "rgb(246, 169, 122)"
         },
         "name": "E090778 Jak_2-14",
         "type": "bar",
         "x": [
          "Wörter 6900 bis 7000"
         ],
         "y": [
          4
         ]
        },
        {
         "hovertemplate": "<b>E090778</b><br>Value: 80 Words<br>Link: <a href=\"https://orgelpredigt.ur.de/E090778\">E090778</a><extra></extra>",
         "marker": {
          "color": "rgb(234, 79, 136)"
         },
         "name": "E090778",
         "type": "bar",
         "x": [
          "Wörter 7000 bis 7100"
         ],
         "y": [
          80
         ]
        },
        {
         "hovertemplate": "<b>E090778 Gal_5-22</b><br>Value: 15 Words<br>Link: <a href=\"https://orgelpredigt.ur.de/E090778 Gal_5-22\">E090778 Gal_5-22</a><extra></extra>",
         "marker": {
          "color": "rgb(246, 169, 122)"
         },
         "name": "E090778 Gal_5-22",
         "type": "bar",
         "x": [
          "Wörter 7000 bis 7100"
         ],
         "y": [
          15
         ]
        },
        {
         "hovertemplate": "<b>E090778 Eph_4-1</b><br>Value: 5 Words<br>Link: <a href=\"https://orgelpredigt.ur.de/E090778 Eph_4-1\">E090778 Eph_4-1</a><extra></extra>",
         "marker": {
          "color": "rgb(246, 169, 122)"
         },
         "name": "E090778 Eph_4-1",
         "type": "bar",
         "x": [
          "Wörter 7000 bis 7100"
         ],
         "y": [
          5
         ]
        },
        {
         "hovertemplate": "<b>E090778</b><br>Value: 100 Words<br>Link: <a href=\"https://orgelpredigt.ur.de/E090778\">E090778</a><extra></extra>",
         "marker": {
          "color": "rgb(234, 79, 136)"
         },
         "name": "E090778",
         "type": "bar",
         "x": [
          "Wörter 7100 bis 7200"
         ],
         "y": [
          100
         ]
        },
        {
         "hovertemplate": "<b>E090778</b><br>Value: 100 Words<br>Link: <a href=\"https://orgelpredigt.ur.de/E090778\">E090778</a><extra></extra>",
         "marker": {
          "color": "rgb(234, 79, 136)"
         },
         "name": "E090778",
         "type": "bar",
         "x": [
          "Wörter 7200 bis 7300"
         ],
         "y": [
          100
         ]
        },
        {
         "hovertemplate": "<b>E090778</b><br>Value: 100 Words<br>Link: <a href=\"https://orgelpredigt.ur.de/E090778\">E090778</a><extra></extra>",
         "marker": {
          "color": "rgb(234, 79, 136)"
         },
         "name": "E090778",
         "type": "bar",
         "x": [
          "Wörter 7300 bis 7400"
         ],
         "y": [
          100
         ]
        },
        {
         "hovertemplate": "<b>E090778</b><br>Value: 87 Words<br>Link: <a href=\"https://orgelpredigt.ur.de/E090778\">E090778</a><extra></extra>",
         "marker": {
          "color": "rgb(234, 79, 136)"
         },
         "name": "E090778",
         "type": "bar",
         "x": [
          "Wörter 7400 bis 7500"
         ],
         "y": [
          87
         ]
        },
        {
         "hovertemplate": "<b>E090778 Mt_10-42</b><br>Value: 13 Words<br>Link: <a href=\"https://orgelpredigt.ur.de/E090778 Mt_10-42\">E090778 Mt_10-42</a><extra></extra>",
         "marker": {
          "color": "rgb(246, 169, 122)"
         },
         "name": "E090778 Mt_10-42",
         "type": "bar",
         "x": [
          "Wörter 7400 bis 7500"
         ],
         "y": [
          13
         ]
        },
        {
         "hovertemplate": "<b>E090778</b><br>Value: 74 Words<br>Link: <a href=\"https://orgelpredigt.ur.de/E090778\">E090778</a><extra></extra>",
         "marker": {
          "color": "rgb(234, 79, 136)"
         },
         "name": "E090778",
         "type": "bar",
         "x": [
          "Wörter 7500 bis 7600"
         ],
         "y": [
          74
         ]
        },
        {
         "hovertemplate": "<b>E090778 Ps_50-15</b><br>Value: 14 Words<br>Link: <a href=\"https://orgelpredigt.ur.de/E090778 Ps_50-15\">E090778 Ps_50-15</a><extra></extra>",
         "marker": {
          "color": "rgb(246, 169, 122)"
         },
         "name": "E090778 Ps_50-15",
         "type": "bar",
         "x": [
          "Wörter 7500 bis 7600"
         ],
         "y": [
          14
         ]
        },
        {
         "hovertemplate": "<b>E090778 Ps_51-14</b><br>Value: 7 Words<br>Link: <a href=\"https://orgelpredigt.ur.de/E090778 Ps_51-14\">E090778 Ps_51-14</a><extra></extra>",
         "marker": {
          "color": "rgb(246, 169, 122)"
         },
         "name": "E090778 Ps_51-14",
         "type": "bar",
         "x": [
          "Wörter 7500 bis 7600"
         ],
         "y": [
          7
         ]
        },
        {
         "hovertemplate": "<b>E090778 E100085</b><br>Value: 5 Words<br>Link: <a href=\"https://orgelpredigt.ur.de/E090778 E100085\">E090778 E100085</a><extra></extra>",
         "marker": {
          "color": "rgb(192, 54, 157)"
         },
         "name": "E090778 E100085",
         "type": "bar",
         "x": [
          "Wörter 7500 bis 7600"
         ],
         "y": [
          5
         ]
        },
        {
         "hovertemplate": "<b>E090778 E100085</b><br>Value: 27 Words<br>Link: <a href=\"https://orgelpredigt.ur.de/E090778 E100085\">E090778 E100085</a><extra></extra>",
         "marker": {
          "color": "rgb(192, 54, 157)"
         },
         "name": "E090778 E100085",
         "type": "bar",
         "x": [
          "Wörter 7600 bis 7700"
         ],
         "y": [
          27
         ]
        },
        {
         "hovertemplate": "<b>E090778</b><br>Value: 73 Words<br>Link: <a href=\"https://orgelpredigt.ur.de/E090778\">E090778</a><extra></extra>",
         "marker": {
          "color": "rgb(234, 79, 136)"
         },
         "name": "E090778",
         "type": "bar",
         "x": [
          "Wörter 7600 bis 7700"
         ],
         "y": [
          73
         ]
        },
        {
         "hovertemplate": "<b>E090778</b><br>Value: 100 Words<br>Link: <a href=\"https://orgelpredigt.ur.de/E090778\">E090778</a><extra></extra>",
         "marker": {
          "color": "rgb(234, 79, 136)"
         },
         "name": "E090778",
         "type": "bar",
         "x": [
          "Wörter 7700 bis 7800"
         ],
         "y": [
          100
         ]
        },
        {
         "hovertemplate": "<b>E090778</b><br>Value: 100 Words<br>Link: <a href=\"https://orgelpredigt.ur.de/E090778\">E090778</a><extra></extra>",
         "marker": {
          "color": "rgb(234, 79, 136)"
         },
         "name": "E090778",
         "type": "bar",
         "x": [
          "Wörter 7800 bis 7900"
         ],
         "y": [
          100
         ]
        },
        {
         "hovertemplate": "<b>E090778</b><br>Value: 100 Words<br>Link: <a href=\"https://orgelpredigt.ur.de/E090778\">E090778</a><extra></extra>",
         "marker": {
          "color": "rgb(234, 79, 136)"
         },
         "name": "E090778",
         "type": "bar",
         "x": [
          "Wörter 7900 bis 8000"
         ],
         "y": [
          100
         ]
        },
        {
         "hovertemplate": "<b>E090778</b><br>Value: 53 Words<br>Link: <a href=\"https://orgelpredigt.ur.de/E090778\">E090778</a><extra></extra>",
         "marker": {
          "color": "rgb(234, 79, 136)"
         },
         "name": "E090778",
         "type": "bar",
         "x": [
          "Wörter 8000 bis 8100"
         ],
         "y": [
          53
         ]
        },
        {
         "hovertemplate": "<b>E090778 E100013</b><br>Value: 47 Words<br>Link: <a href=\"https://orgelpredigt.ur.de/E090778 E100013\">E090778 E100013</a><extra></extra>",
         "marker": {
          "color": "rgb(192, 54, 157)"
         },
         "name": "E090778 E100013",
         "type": "bar",
         "x": [
          "Wörter 8000 bis 8100"
         ],
         "y": [
          47
         ]
        },
        {
         "hovertemplate": "<b>E090778</b><br>Value: 22 Words<br>Link: <a href=\"https://orgelpredigt.ur.de/E090778\">E090778</a><extra></extra>",
         "marker": {
          "color": "rgb(234, 79, 136)"
         },
         "name": "E090778",
         "type": "bar",
         "x": [
          "Wörter 8100 bis 8200"
         ],
         "y": [
          22
         ]
        },
        {
         "hovertemplate": "<b>E090778 E100038</b><br>Value: 7 Words<br>Link: <a href=\"https://orgelpredigt.ur.de/E090778 E100038\">E090778 E100038</a><extra></extra>",
         "marker": {
          "color": "rgb(192, 54, 157)"
         },
         "name": "E090778 E100038",
         "type": "bar",
         "x": [
          "Wörter 8100 bis 8200"
         ],
         "y": [
          7
         ]
        },
        {
         "hovertemplate": "<b>text</b><br>Value: 2 Words<br>Link: <a href=\"\"></a><extra></extra>",
         "marker": {
          "color": "rgb(237, 217, 163)"
         },
         "name": "text",
         "type": "bar",
         "x": [
          "Wörter 8100 bis 8200"
         ],
         "y": [
          2
         ]
        }
       ],
       "layout": {
        "barmode": "stack",
        "height": 500,
        "template": {
         "data": {
          "bar": [
           {
            "error_x": {
             "color": "#2a3f5f"
            },
            "error_y": {
             "color": "#2a3f5f"
            },
            "marker": {
             "line": {
              "color": "#E5ECF6",
              "width": 0.5
             },
             "pattern": {
              "fillmode": "overlay",
              "size": 10,
              "solidity": 0.2
             }
            },
            "type": "bar"
           }
          ],
          "barpolar": [
           {
            "marker": {
             "line": {
              "color": "#E5ECF6",
              "width": 0.5
             },
             "pattern": {
              "fillmode": "overlay",
              "size": 10,
              "solidity": 0.2
             }
            },
            "type": "barpolar"
           }
          ],
          "carpet": [
           {
            "aaxis": {
             "endlinecolor": "#2a3f5f",
             "gridcolor": "white",
             "linecolor": "white",
             "minorgridcolor": "white",
             "startlinecolor": "#2a3f5f"
            },
            "baxis": {
             "endlinecolor": "#2a3f5f",
             "gridcolor": "white",
             "linecolor": "white",
             "minorgridcolor": "white",
             "startlinecolor": "#2a3f5f"
            },
            "type": "carpet"
           }
          ],
          "choropleth": [
           {
            "colorbar": {
             "outlinewidth": 0,
             "ticks": ""
            },
            "type": "choropleth"
           }
          ],
          "contour": [
           {
            "colorbar": {
             "outlinewidth": 0,
             "ticks": ""
            },
            "colorscale": [
             [
              0,
              "#0d0887"
             ],
             [
              0.1111111111111111,
              "#46039f"
             ],
             [
              0.2222222222222222,
              "#7201a8"
             ],
             [
              0.3333333333333333,
              "#9c179e"
             ],
             [
              0.4444444444444444,
              "#bd3786"
             ],
             [
              0.5555555555555556,
              "#d8576b"
             ],
             [
              0.6666666666666666,
              "#ed7953"
             ],
             [
              0.7777777777777778,
              "#fb9f3a"
             ],
             [
              0.8888888888888888,
              "#fdca26"
             ],
             [
              1,
              "#f0f921"
             ]
            ],
            "type": "contour"
           }
          ],
          "contourcarpet": [
           {
            "colorbar": {
             "outlinewidth": 0,
             "ticks": ""
            },
            "type": "contourcarpet"
           }
          ],
          "heatmap": [
           {
            "colorbar": {
             "outlinewidth": 0,
             "ticks": ""
            },
            "colorscale": [
             [
              0,
              "#0d0887"
             ],
             [
              0.1111111111111111,
              "#46039f"
             ],
             [
              0.2222222222222222,
              "#7201a8"
             ],
             [
              0.3333333333333333,
              "#9c179e"
             ],
             [
              0.4444444444444444,
              "#bd3786"
             ],
             [
              0.5555555555555556,
              "#d8576b"
             ],
             [
              0.6666666666666666,
              "#ed7953"
             ],
             [
              0.7777777777777778,
              "#fb9f3a"
             ],
             [
              0.8888888888888888,
              "#fdca26"
             ],
             [
              1,
              "#f0f921"
             ]
            ],
            "type": "heatmap"
           }
          ],
          "histogram": [
           {
            "marker": {
             "pattern": {
              "fillmode": "overlay",
              "size": 10,
              "solidity": 0.2
             }
            },
            "type": "histogram"
           }
          ],
          "histogram2d": [
           {
            "colorbar": {
             "outlinewidth": 0,
             "ticks": ""
            },
            "colorscale": [
             [
              0,
              "#0d0887"
             ],
             [
              0.1111111111111111,
              "#46039f"
             ],
             [
              0.2222222222222222,
              "#7201a8"
             ],
             [
              0.3333333333333333,
              "#9c179e"
             ],
             [
              0.4444444444444444,
              "#bd3786"
             ],
             [
              0.5555555555555556,
              "#d8576b"
             ],
             [
              0.6666666666666666,
              "#ed7953"
             ],
             [
              0.7777777777777778,
              "#fb9f3a"
             ],
             [
              0.8888888888888888,
              "#fdca26"
             ],
             [
              1,
              "#f0f921"
             ]
            ],
            "type": "histogram2d"
           }
          ],
          "histogram2dcontour": [
           {
            "colorbar": {
             "outlinewidth": 0,
             "ticks": ""
            },
            "colorscale": [
             [
              0,
              "#0d0887"
             ],
             [
              0.1111111111111111,
              "#46039f"
             ],
             [
              0.2222222222222222,
              "#7201a8"
             ],
             [
              0.3333333333333333,
              "#9c179e"
             ],
             [
              0.4444444444444444,
              "#bd3786"
             ],
             [
              0.5555555555555556,
              "#d8576b"
             ],
             [
              0.6666666666666666,
              "#ed7953"
             ],
             [
              0.7777777777777778,
              "#fb9f3a"
             ],
             [
              0.8888888888888888,
              "#fdca26"
             ],
             [
              1,
              "#f0f921"
             ]
            ],
            "type": "histogram2dcontour"
           }
          ],
          "mesh3d": [
           {
            "colorbar": {
             "outlinewidth": 0,
             "ticks": ""
            },
            "type": "mesh3d"
           }
          ],
          "parcoords": [
           {
            "line": {
             "colorbar": {
              "outlinewidth": 0,
              "ticks": ""
             }
            },
            "type": "parcoords"
           }
          ],
          "pie": [
           {
            "automargin": true,
            "type": "pie"
           }
          ],
          "scatter": [
           {
            "fillpattern": {
             "fillmode": "overlay",
             "size": 10,
             "solidity": 0.2
            },
            "type": "scatter"
           }
          ],
          "scatter3d": [
           {
            "line": {
             "colorbar": {
              "outlinewidth": 0,
              "ticks": ""
             }
            },
            "marker": {
             "colorbar": {
              "outlinewidth": 0,
              "ticks": ""
             }
            },
            "type": "scatter3d"
           }
          ],
          "scattercarpet": [
           {
            "marker": {
             "colorbar": {
              "outlinewidth": 0,
              "ticks": ""
             }
            },
            "type": "scattercarpet"
           }
          ],
          "scattergeo": [
           {
            "marker": {
             "colorbar": {
              "outlinewidth": 0,
              "ticks": ""
             }
            },
            "type": "scattergeo"
           }
          ],
          "scattergl": [
           {
            "marker": {
             "colorbar": {
              "outlinewidth": 0,
              "ticks": ""
             }
            },
            "type": "scattergl"
           }
          ],
          "scattermap": [
           {
            "marker": {
             "colorbar": {
              "outlinewidth": 0,
              "ticks": ""
             }
            },
            "type": "scattermap"
           }
          ],
          "scattermapbox": [
           {
            "marker": {
             "colorbar": {
              "outlinewidth": 0,
              "ticks": ""
             }
            },
            "type": "scattermapbox"
           }
          ],
          "scatterpolar": [
           {
            "marker": {
             "colorbar": {
              "outlinewidth": 0,
              "ticks": ""
             }
            },
            "type": "scatterpolar"
           }
          ],
          "scatterpolargl": [
           {
            "marker": {
             "colorbar": {
              "outlinewidth": 0,
              "ticks": ""
             }
            },
            "type": "scatterpolargl"
           }
          ],
          "scatterternary": [
           {
            "marker": {
             "colorbar": {
              "outlinewidth": 0,
              "ticks": ""
             }
            },
            "type": "scatterternary"
           }
          ],
          "surface": [
           {
            "colorbar": {
             "outlinewidth": 0,
             "ticks": ""
            },
            "colorscale": [
             [
              0,
              "#0d0887"
             ],
             [
              0.1111111111111111,
              "#46039f"
             ],
             [
              0.2222222222222222,
              "#7201a8"
             ],
             [
              0.3333333333333333,
              "#9c179e"
             ],
             [
              0.4444444444444444,
              "#bd3786"
             ],
             [
              0.5555555555555556,
              "#d8576b"
             ],
             [
              0.6666666666666666,
              "#ed7953"
             ],
             [
              0.7777777777777778,
              "#fb9f3a"
             ],
             [
              0.8888888888888888,
              "#fdca26"
             ],
             [
              1,
              "#f0f921"
             ]
            ],
            "type": "surface"
           }
          ],
          "table": [
           {
            "cells": {
             "fill": {
              "color": "#EBF0F8"
             },
             "line": {
              "color": "white"
             }
            },
            "header": {
             "fill": {
              "color": "#C8D4E3"
             },
             "line": {
              "color": "white"
             }
            },
            "type": "table"
           }
          ]
         },
         "layout": {
          "annotationdefaults": {
           "arrowcolor": "#2a3f5f",
           "arrowhead": 0,
           "arrowwidth": 1
          },
          "autotypenumbers": "strict",
          "coloraxis": {
           "colorbar": {
            "outlinewidth": 0,
            "ticks": ""
           }
          },
          "colorscale": {
           "diverging": [
            [
             0,
             "#8e0152"
            ],
            [
             0.1,
             "#c51b7d"
            ],
            [
             0.2,
             "#de77ae"
            ],
            [
             0.3,
             "#f1b6da"
            ],
            [
             0.4,
             "#fde0ef"
            ],
            [
             0.5,
             "#f7f7f7"
            ],
            [
             0.6,
             "#e6f5d0"
            ],
            [
             0.7,
             "#b8e186"
            ],
            [
             0.8,
             "#7fbc41"
            ],
            [
             0.9,
             "#4d9221"
            ],
            [
             1,
             "#276419"
            ]
           ],
           "sequential": [
            [
             0,
             "#0d0887"
            ],
            [
             0.1111111111111111,
             "#46039f"
            ],
            [
             0.2222222222222222,
             "#7201a8"
            ],
            [
             0.3333333333333333,
             "#9c179e"
            ],
            [
             0.4444444444444444,
             "#bd3786"
            ],
            [
             0.5555555555555556,
             "#d8576b"
            ],
            [
             0.6666666666666666,
             "#ed7953"
            ],
            [
             0.7777777777777778,
             "#fb9f3a"
            ],
            [
             0.8888888888888888,
             "#fdca26"
            ],
            [
             1,
             "#f0f921"
            ]
           ],
           "sequentialminus": [
            [
             0,
             "#0d0887"
            ],
            [
             0.1111111111111111,
             "#46039f"
            ],
            [
             0.2222222222222222,
             "#7201a8"
            ],
            [
             0.3333333333333333,
             "#9c179e"
            ],
            [
             0.4444444444444444,
             "#bd3786"
            ],
            [
             0.5555555555555556,
             "#d8576b"
            ],
            [
             0.6666666666666666,
             "#ed7953"
            ],
            [
             0.7777777777777778,
             "#fb9f3a"
            ],
            [
             0.8888888888888888,
             "#fdca26"
            ],
            [
             1,
             "#f0f921"
            ]
           ]
          },
          "colorway": [
           "#636efa",
           "#EF553B",
           "#00cc96",
           "#ab63fa",
           "#FFA15A",
           "#19d3f3",
           "#FF6692",
           "#B6E880",
           "#FF97FF",
           "#FECB52"
          ],
          "font": {
           "color": "#2a3f5f"
          },
          "geo": {
           "bgcolor": "white",
           "lakecolor": "white",
           "landcolor": "#E5ECF6",
           "showlakes": true,
           "showland": true,
           "subunitcolor": "white"
          },
          "hoverlabel": {
           "align": "left"
          },
          "hovermode": "closest",
          "mapbox": {
           "style": "light"
          },
          "paper_bgcolor": "white",
          "plot_bgcolor": "#E5ECF6",
          "polar": {
           "angularaxis": {
            "gridcolor": "white",
            "linecolor": "white",
            "ticks": ""
           },
           "bgcolor": "#E5ECF6",
           "radialaxis": {
            "gridcolor": "white",
            "linecolor": "white",
            "ticks": ""
           }
          },
          "scene": {
           "xaxis": {
            "backgroundcolor": "#E5ECF6",
            "gridcolor": "white",
            "gridwidth": 2,
            "linecolor": "white",
            "showbackground": true,
            "ticks": "",
            "zerolinecolor": "white"
           },
           "yaxis": {
            "backgroundcolor": "#E5ECF6",
            "gridcolor": "white",
            "gridwidth": 2,
            "linecolor": "white",
            "showbackground": true,
            "ticks": "",
            "zerolinecolor": "white"
           },
           "zaxis": {
            "backgroundcolor": "#E5ECF6",
            "gridcolor": "white",
            "gridwidth": 2,
            "linecolor": "white",
            "showbackground": true,
            "ticks": "",
            "zerolinecolor": "white"
           }
          },
          "shapedefaults": {
           "line": {
            "color": "#2a3f5f"
           }
          },
          "ternary": {
           "aaxis": {
            "gridcolor": "white",
            "linecolor": "white",
            "ticks": ""
           },
           "baxis": {
            "gridcolor": "white",
            "linecolor": "white",
            "ticks": ""
           },
           "bgcolor": "#E5ECF6",
           "caxis": {
            "gridcolor": "white",
            "linecolor": "white",
            "ticks": ""
           }
          },
          "title": {
           "x": 0.05
          },
          "xaxis": {
           "automargin": true,
           "gridcolor": "white",
           "linecolor": "white",
           "ticks": "",
           "title": {
            "standoff": 15
           },
           "zerolinecolor": "white",
           "zerolinewidth": 2
          },
          "yaxis": {
           "automargin": true,
           "gridcolor": "white",
           "linecolor": "white",
           "ticks": "",
           "title": {
            "standoff": 15
           },
           "zerolinecolor": "white",
           "zerolinewidth": 2
          }
         }
        },
        "width": 1500
       }
      }
     },
     "metadata": {},
     "output_type": "display_data"
    }
   ],
   "source": [
    "x = create_stacked_chart(sermon)\n",
    "x"
   ]
  },
  {
   "cell_type": "code",
   "execution_count": 50,
   "id": "f8d486a5",
   "metadata": {},
   "outputs": [
    {
     "data": {
      "application/vnd.plotly.v1+json": {
       "config": {
        "plotlyServerURL": "https://plot.ly"
       },
       "data": [
        {
         "marker": {
          "color": "rgb(237, 217, 163)"
         },
         "name": "text",
         "type": "bar",
         "x": [
          "Wörter 1 bis 100"
         ],
         "y": [
          100
         ]
        },
        {
         "marker": {
          "color": "rgb(237, 217, 163)"
         },
         "name": "text",
         "type": "bar",
         "x": [
          "Wörter 200 bis 300"
         ],
         "y": [
          100
         ]
        },
        {
         "marker": {
          "color": "rgb(237, 217, 163)"
         },
         "name": "text",
         "type": "bar",
         "x": [
          "Wörter 300 bis 400"
         ],
         "y": [
          38
         ]
        },
        {
         "marker": {
          "color": "rgb(246, 169, 122)"
         },
         "name": "bibel,Weish_11-2",
         "type": "bar",
         "x": [
          "Wörter 300 bis 400"
         ],
         "y": [
          8
         ]
        },
        {
         "marker": {
          "color": "rgb(246, 169, 122)"
         },
         "name": "bibel,Ps_111-",
         "type": "bar",
         "x": [
          "Wörter 300 bis 400"
         ],
         "y": [
          8
         ]
        },
        {
         "marker": {
          "color": "rgb(246, 169, 122)"
         },
         "name": "bibel,Ps_15",
         "type": "bar",
         "x": [
          "Wörter 300 bis 400"
         ],
         "y": [
          46
         ]
        },
        {
         "marker": {
          "color": "rgb(246, 169, 122)"
         },
         "name": "bibel,Ps_15",
         "type": "bar",
         "x": [
          "Wörter 400 bis 500"
         ],
         "y": [
          18
         ]
        },
        {
         "marker": {
          "color": "rgb(237, 217, 163)"
         },
         "name": "text",
         "type": "bar",
         "x": [
          "Wörter 400 bis 500"
         ],
         "y": [
          82
         ]
        },
        {
         "marker": {
          "color": "rgb(237, 217, 163)"
         },
         "name": "text",
         "type": "bar",
         "x": [
          "Wörter 500 bis 600"
         ],
         "y": [
          100
         ]
        },
        {
         "marker": {
          "color": "rgb(237, 217, 163)"
         },
         "name": "text",
         "type": "bar",
         "x": [
          "Wörter 600 bis 700"
         ],
         "y": [
          100
         ]
        },
        {
         "marker": {
          "color": "rgb(237, 217, 163)"
         },
         "name": "text",
         "type": "bar",
         "x": [
          "Wörter 700 bis 800"
         ],
         "y": [
          60
         ]
        },
        {
         "marker": {
          "color": "rgb(246, 169, 122)"
         },
         "name": "bibel,Kol_3-1",
         "type": "bar",
         "x": [
          "Wörter 700 bis 800"
         ],
         "y": [
          31
         ]
        },
        {
         "marker": {
          "color": "rgb(246, 169, 122)"
         },
         "name": "bibel,Eph_5-18.1",
         "type": "bar",
         "x": [
          "Wörter 700 bis 800"
         ],
         "y": [
          9
         ]
        },
        {
         "marker": {
          "color": "rgb(246, 169, 122)"
         },
         "name": "bibel,Eph_5-18.1",
         "type": "bar",
         "x": [
          "Wörter 800 bis 900"
         ],
         "y": [
          13
         ]
        },
        {
         "marker": {
          "color": "rgb(237, 217, 163)"
         },
         "name": "text",
         "type": "bar",
         "x": [
          "Wörter 800 bis 900"
         ],
         "y": [
          40
         ]
        },
        {
         "marker": {
          "color": "rgb(246, 169, 122)"
         },
         "name": "bibel,Jak_5-1",
         "type": "bar",
         "x": [
          "Wörter 800 bis 900"
         ],
         "y": [
          7
         ]
        },
        {
         "marker": {
          "color": "rgb(246, 169, 122)"
         },
         "name": "bibel,1Sam_16-2",
         "type": "bar",
         "x": [
          "Wörter 800 bis 900"
         ],
         "y": [
          33
         ]
        },
        {
         "marker": {
          "color": "rgb(246, 169, 122)"
         },
         "name": "bibel,Ps_4-",
         "type": "bar",
         "x": [
          "Wörter 800 bis 900"
         ],
         "y": [
          6
         ]
        },
        {
         "marker": {
          "color": "rgb(246, 169, 122)"
         },
         "name": "bibel,Ps_6-",
         "type": "bar",
         "x": [
          "Wörter 800 bis 900"
         ],
         "y": [
          1
         ]
        },
        {
         "marker": {
          "color": "rgb(237, 217, 163)"
         },
         "name": "text",
         "type": "bar",
         "x": [
          "Wörter 900 bis 1000"
         ],
         "y": [
          28
         ]
        },
        {
         "marker": {
          "color": "rgb(246, 169, 122)"
         },
         "name": "bibel,Ps_12-",
         "type": "bar",
         "x": [
          "Wörter 900 bis 1000"
         ],
         "y": [
          7
         ]
        },
        {
         "marker": {
          "color": "rgb(246, 169, 122)"
         },
         "name": "bibel,2Sam_6-4.",
         "type": "bar",
         "x": [
          "Wörter 900 bis 1000"
         ],
         "y": [
          40
         ]
        },
        {
         "marker": {
          "color": "rgb(246, 169, 122)"
         },
         "name": "bibel,2Chr_7-",
         "type": "bar",
         "x": [
          "Wörter 900 bis 1000"
         ],
         "y": [
          25
         ]
        },
        {
         "marker": {
          "color": "rgb(246, 169, 122)"
         },
         "name": "bibel,2Chr_7-",
         "type": "bar",
         "x": [
          "Wörter 1000 bis 1100"
         ],
         "y": [
          4
         ]
        },
        {
         "marker": {
          "color": "rgb(237, 217, 163)"
         },
         "name": "text",
         "type": "bar",
         "x": [
          "Wörter 1000 bis 1100"
         ],
         "y": [
          65
         ]
        },
        {
         "marker": {
          "color": "rgb(246, 169, 122)"
         },
         "name": "bibel,2Chr_20-2",
         "type": "bar",
         "x": [
          "Wörter 1000 bis 1100"
         ],
         "y": [
          12
         ]
        },
        {
         "marker": {
          "color": "rgb(246, 169, 122)"
         },
         "name": "bibel,Neh_12-2",
         "type": "bar",
         "x": [
          "Wörter 1000 bis 1100"
         ],
         "y": [
          15
         ]
        },
        {
         "marker": {
          "color": "rgb(246, 169, 122)"
         },
         "name": "bibel,2Kön_3-1",
         "type": "bar",
         "x": [
          "Wörter 1000 bis 1100"
         ],
         "y": [
          4
         ]
        },
        {
         "marker": {
          "color": "rgb(246, 169, 122)"
         },
         "name": "bibel,2Kön_3-1",
         "type": "bar",
         "x": [
          "Wörter 1100 bis 1200"
         ],
         "y": [
          11
         ]
        },
        {
         "marker": {
          "color": "rgb(237, 217, 163)"
         },
         "name": "text",
         "type": "bar",
         "x": [
          "Wörter 1100 bis 1200"
         ],
         "y": [
          89
         ]
        },
        {
         "marker": {
          "color": "rgb(237, 217, 163)"
         },
         "name": "text",
         "type": "bar",
         "x": [
          "Wörter 1200 bis 1300"
         ],
         "y": [
          78
         ]
        },
        {
         "marker": {
          "color": "rgb(234, 79, 136)"
         },
         "name": "https://orgelpredigt.ur.de/E090560",
         "type": "bar",
         "x": [
          "Wörter 1200 bis 1300"
         ],
         "y": [
          22
         ]
        },
        {
         "marker": {
          "color": "rgb(237, 217, 163)"
         },
         "name": "text",
         "type": "bar",
         "x": [
          "Wörter 1300 bis 1400"
         ],
         "y": [
          100
         ]
        },
        {
         "marker": {
          "color": "rgb(237, 217, 163)"
         },
         "name": "text",
         "type": "bar",
         "x": [
          "Wörter 1400 bis 1500"
         ],
         "y": [
          56
         ]
        },
        {
         "marker": {
          "color": "rgb(250, 120, 118)"
         },
         "name": "https://orgelpredigt.ur.de/E080425",
         "type": "bar",
         "x": [
          "Wörter 1400 bis 1500"
         ],
         "y": [
          44
         ]
        },
        {
         "marker": {
          "color": "rgb(250, 120, 118)"
         },
         "name": "https://orgelpredigt.ur.de/E080425",
         "type": "bar",
         "x": [
          "Wörter 1500 bis 1600"
         ],
         "y": [
          22
         ]
        },
        {
         "marker": {
          "color": "rgb(237, 217, 163)"
         },
         "name": "text",
         "type": "bar",
         "x": [
          "Wörter 1500 bis 1600"
         ],
         "y": [
          40
         ]
        },
        {
         "marker": {
          "color": "rgb(250, 120, 118)"
         },
         "name": "https://orgelpredigt.ur.de/E080426",
         "type": "bar",
         "x": [
          "Wörter 1500 bis 1600"
         ],
         "y": [
          38
         ]
        },
        {
         "marker": {
          "color": "rgb(237, 217, 163)"
         },
         "name": "text",
         "type": "bar",
         "x": [
          "Wörter 1600 bis 1700"
         ],
         "y": [
          94
         ]
        },
        {
         "marker": {
          "color": "rgb(192, 54, 157)"
         },
         "name": "https://orgelpredigt.ur.de/E100087",
         "type": "bar",
         "x": [
          "Wörter 1600 bis 1700"
         ],
         "y": [
          6
         ]
        },
        {
         "marker": {
          "color": "rgb(237, 217, 163)"
         },
         "name": "text",
         "type": "bar",
         "x": [
          "Wörter 1700 bis 1800"
         ],
         "y": [
          44
         ]
        },
        {
         "marker": {
          "color": "rgb(246, 169, 122)"
         },
         "name": "bibel,Mt_13-34.3",
         "type": "bar",
         "x": [
          "Wörter 1700 bis 1800"
         ],
         "y": [
          36
         ]
        },
        {
         "marker": {
          "color": "rgb(246, 169, 122)"
         },
         "name": "bibel,Mt_13-34.35 Ps_78-",
         "type": "bar",
         "x": [
          "Wörter 1700 bis 1800"
         ],
         "y": [
          4
         ]
        },
        {
         "marker": {
          "color": "rgb(237, 217, 163)"
         },
         "name": "text,Mt_13-34.3",
         "type": "bar",
         "x": [
          "Wörter 1700 bis 1800"
         ],
         "y": [
          16
         ]
        },
        {
         "marker": {
          "color": "rgb(237, 217, 163)"
         },
         "name": "text",
         "type": "bar",
         "x": [
          "Wörter 1800 bis 1900"
         ],
         "y": [
          75
         ]
        },
        {
         "marker": {
          "color": "rgb(246, 169, 122)"
         },
         "name": "bibel,Lk_8-4.5.6.7.8.9.10.11.12.13.14.1",
         "type": "bar",
         "x": [
          "Wörter 1800 bis 1900"
         ],
         "y": [
          15
         ]
        },
        {
         "marker": {
          "color": "rgb(246, 169, 122)"
         },
         "name": "bibel,Lk_8-1",
         "type": "bar",
         "x": [
          "Wörter 1800 bis 1900"
         ],
         "y": [
          10
         ]
        },
        {
         "marker": {
          "color": "rgb(237, 217, 163)"
         },
         "name": "text",
         "type": "bar",
         "x": [
          "Wörter 1900 bis 2000"
         ],
         "y": [
          85
         ]
        },
        {
         "marker": {
          "color": "rgb(246, 169, 122)"
         },
         "name": "bibel,Apg_13-3",
         "type": "bar",
         "x": [
          "Wörter 1900 bis 2000"
         ],
         "y": [
          3
         ]
        },
        {
         "marker": {
          "color": "rgb(246, 169, 122)"
         },
         "name": "bibel,Lk_8-11.1",
         "type": "bar",
         "x": [
          "Wörter 1900 bis 2000"
         ],
         "y": [
          12
         ]
        },
        {
         "marker": {
          "color": "rgb(246, 169, 122)"
         },
         "name": "bibel,Lk_8-11.1",
         "type": "bar",
         "x": [
          "Wörter 2000 bis 2100"
         ],
         "y": [
          4
         ]
        },
        {
         "marker": {
          "color": "rgb(237, 217, 163)"
         },
         "name": "text",
         "type": "bar",
         "x": [
          "Wörter 2000 bis 2100"
         ],
         "y": [
          96
         ]
        },
        {
         "marker": {
          "color": "rgb(237, 217, 163)"
         },
         "name": "text",
         "type": "bar",
         "x": [
          "Wörter 2100 bis 2200"
         ],
         "y": [
          86
         ]
        },
        {
         "marker": {
          "color": "rgb(246, 169, 122)"
         },
         "name": "bibel,2Tim_4-",
         "type": "bar",
         "x": [
          "Wörter 2100 bis 2200"
         ],
         "y": [
          4
         ]
        },
        {
         "marker": {
          "color": "rgb(246, 169, 122)"
         },
         "name": "bibel,1Kor_3-",
         "type": "bar",
         "x": [
          "Wörter 2100 bis 2200"
         ],
         "y": [
          2
         ]
        },
        {
         "marker": {
          "color": "rgb(246, 169, 122)"
         },
         "name": "bibel,Eph_1-2",
         "type": "bar",
         "x": [
          "Wörter 2100 bis 2200"
         ],
         "y": [
          5
         ]
        },
        {
         "marker": {
          "color": "rgb(246, 169, 122)"
         },
         "name": "bibel,Joh_15-",
         "type": "bar",
         "x": [
          "Wörter 2100 bis 2200"
         ],
         "y": [
          3
         ]
        },
        {
         "marker": {
          "color": "rgb(237, 217, 163)"
         },
         "name": "text",
         "type": "bar",
         "x": [
          "Wörter 2200 bis 2300"
         ],
         "y": [
          70
         ]
        },
        {
         "marker": {
          "color": "rgb(246, 169, 122)"
         },
         "name": "bibel,1Kor_3-",
         "type": "bar",
         "x": [
          "Wörter 2200 bis 2300"
         ],
         "y": [
          6
         ]
        },
        {
         "marker": {
          "color": "rgb(246, 169, 122)"
         },
         "name": "bibel,2Petr_1-2",
         "type": "bar",
         "x": [
          "Wörter 2200 bis 2300"
         ],
         "y": [
          7
         ]
        },
        {
         "marker": {
          "color": "rgb(246, 169, 122)"
         },
         "name": "bibel,Eph_2-20.2",
         "type": "bar",
         "x": [
          "Wörter 2200 bis 2300"
         ],
         "y": [
          17
         ]
        },
        {
         "marker": {
          "color": "rgb(246, 169, 122)"
         },
         "name": "bibel,Eph_2-20.2",
         "type": "bar",
         "x": [
          "Wörter 2300 bis 2400"
         ],
         "y": [
          15
         ]
        },
        {
         "marker": {
          "color": "rgb(237, 217, 163)"
         },
         "name": "text",
         "type": "bar",
         "x": [
          "Wörter 2300 bis 2400"
         ],
         "y": [
          62
         ]
        },
        {
         "marker": {
          "color": "rgb(246, 169, 122)"
         },
         "name": "bibel,1Kor_3-",
         "type": "bar",
         "x": [
          "Wörter 2300 bis 2400"
         ],
         "y": [
          2
         ]
        },
        {
         "marker": {
          "color": "rgb(246, 169, 122)"
         },
         "name": "bibel,Sir_35-2",
         "type": "bar",
         "x": [
          "Wörter 2300 bis 2400"
         ],
         "y": [
          18
         ]
        },
        {
         "marker": {
          "color": "rgb(246, 169, 122)"
         },
         "name": "bibel,Ps_2-",
         "type": "bar",
         "x": [
          "Wörter 2300 bis 2400"
         ],
         "y": [
          3
         ]
        },
        {
         "marker": {
          "color": "rgb(237, 217, 163)"
         },
         "name": "text",
         "type": "bar",
         "x": [
          "Wörter 2400 bis 2500"
         ],
         "y": [
          49
         ]
        },
        {
         "marker": {
          "color": "rgb(246, 169, 122)"
         },
         "name": "bibel,Ps_23-",
         "type": "bar",
         "x": [
          "Wörter 2400 bis 2500"
         ],
         "y": [
          3
         ]
        },
        {
         "marker": {
          "color": "rgb(246, 169, 122)"
         },
         "name": "bibel,Sach_11-",
         "type": "bar",
         "x": [
          "Wörter 2400 bis 2500"
         ],
         "y": [
          3
         ]
        },
        {
         "marker": {
          "color": "rgb(246, 169, 122)"
         },
         "name": "bibel,Mt_16-1",
         "type": "bar",
         "x": [
          "Wörter 2400 bis 2500"
         ],
         "y": [
          8
         ]
        },
        {
         "marker": {
          "color": "rgb(246, 169, 122)"
         },
         "name": "bibel,Jes_40-",
         "type": "bar",
         "x": [
          "Wörter 2400 bis 2500"
         ],
         "y": [
          3
         ]
        },
        {
         "marker": {
          "color": "rgb(246, 169, 122)"
         },
         "name": "bibel,Röm_8-38.3",
         "type": "bar",
         "x": [
          "Wörter 2400 bis 2500"
         ],
         "y": [
          34
         ]
        },
        {
         "marker": {
          "color": "rgb(237, 217, 163)"
         },
         "name": "text",
         "type": "bar",
         "x": [
          "Wörter 2500 bis 2600"
         ],
         "y": [
          100
         ]
        },
        {
         "marker": {
          "color": "rgb(237, 217, 163)"
         },
         "name": "text",
         "type": "bar",
         "x": [
          "Wörter 2600 bis 2700"
         ],
         "y": [
          81
         ]
        },
        {
         "marker": {
          "color": "rgb(246, 169, 122)"
         },
         "name": "bibel,Jes_49-2",
         "type": "bar",
         "x": [
          "Wörter 2600 bis 2700"
         ],
         "y": [
          3
         ]
        },
        {
         "marker": {
          "color": "rgb(246, 169, 122)"
         },
         "name": "bibel,Mt_4-8.",
         "type": "bar",
         "x": [
          "Wörter 2600 bis 2700"
         ],
         "y": [
          16
         ]
        },
        {
         "marker": {
          "color": "rgb(246, 169, 122)"
         },
         "name": "bibel,Mt_4-8.",
         "type": "bar",
         "x": [
          "Wörter 2700 bis 2800"
         ],
         "y": [
          10
         ]
        },
        {
         "marker": {
          "color": "rgb(237, 217, 163)"
         },
         "name": "text",
         "type": "bar",
         "x": [
          "Wörter 2700 bis 2800"
         ],
         "y": [
          68
         ]
        },
        {
         "marker": {
          "color": "rgb(246, 169, 122)"
         },
         "name": "bibel,Spr_18-1",
         "type": "bar",
         "x": [
          "Wörter 2700 bis 2800"
         ],
         "y": [
          18
         ]
        },
        {
         "marker": {
          "color": "rgb(192, 54, 157)"
         },
         "name": "https://orgelpredigt.ur.de/E100039",
         "type": "bar",
         "x": [
          "Wörter 2700 bis 2800"
         ],
         "y": [
          4
         ]
        },
        {
         "marker": {
          "color": "rgb(237, 217, 163)"
         },
         "name": "text",
         "type": "bar",
         "x": [
          "Wörter 2800 bis 2900"
         ],
         "y": [
          84
         ]
        },
        {
         "marker": {
          "color": "rgb(246, 169, 122)"
         },
         "name": "bibel,2Petr_1-1",
         "type": "bar",
         "x": [
          "Wörter 2800 bis 2900"
         ],
         "y": [
          16
         ]
        },
        {
         "marker": {
          "color": "rgb(237, 217, 163)"
         },
         "name": "text",
         "type": "bar",
         "x": [
          "Wörter 2900 bis 3000"
         ],
         "y": [
          83
         ]
        },
        {
         "marker": {
          "color": "rgb(192, 54, 157)"
         },
         "name": "https://orgelpredigt.ur.de/E100081",
         "type": "bar",
         "x": [
          "Wörter 2900 bis 3000"
         ],
         "y": [
          17
         ]
        },
        {
         "marker": {
          "color": "rgb(192, 54, 157)"
         },
         "name": "https://orgelpredigt.ur.de/E100081",
         "type": "bar",
         "x": [
          "Wörter 3000 bis 3100"
         ],
         "y": [
          13
         ]
        },
        {
         "marker": {
          "color": "rgb(237, 217, 163)"
         },
         "name": "text",
         "type": "bar",
         "x": [
          "Wörter 3000 bis 3100"
         ],
         "y": [
          21
         ]
        },
        {
         "marker": {
          "color": "rgb(192, 54, 157)"
         },
         "name": "https://orgelpredigt.ur.de/E100082",
         "type": "bar",
         "x": [
          "Wörter 3000 bis 3100"
         ],
         "y": [
          19
         ]
        },
        {
         "marker": {
          "color": "rgb(246, 169, 122)"
         },
         "name": "bibel,Ps_91-4.11.12.1",
         "type": "bar",
         "x": [
          "Wörter 3000 bis 3100"
         ],
         "y": [
          47
         ]
        },
        {
         "marker": {
          "color": "rgb(237, 217, 163)"
         },
         "name": "text",
         "type": "bar",
         "x": [
          "Wörter 3100 bis 3200"
         ],
         "y": [
          100
         ]
        },
        {
         "marker": {
          "color": "rgb(237, 217, 163)"
         },
         "name": "text",
         "type": "bar",
         "x": [
          "Wörter 3200 bis 3300"
         ],
         "y": [
          70
         ]
        },
        {
         "marker": {
          "color": "rgb(246, 169, 122)"
         },
         "name": "bibel,Ps_49-",
         "type": "bar",
         "x": [
          "Wörter 3200 bis 3300"
         ],
         "y": [
          3
         ]
        },
        {
         "marker": {
          "color": "rgb(246, 169, 122)"
         },
         "name": "bibel,1Petr_1-18.1",
         "type": "bar",
         "x": [
          "Wörter 3200 bis 3300"
         ],
         "y": [
          24
         ]
        },
        {
         "marker": {
          "color": "rgb(250, 120, 118)"
         },
         "name": "https://orgelpredigt.ur.de/E080427",
         "type": "bar",
         "x": [
          "Wörter 3200 bis 3300"
         ],
         "y": [
          3
         ]
        },
        {
         "marker": {
          "color": "rgb(250, 120, 118)"
         },
         "name": "https://orgelpredigt.ur.de/E080427",
         "type": "bar",
         "x": [
          "Wörter 3300 bis 3400"
         ],
         "y": [
          40
         ]
        },
        {
         "marker": {
          "color": "rgb(237, 217, 163)"
         },
         "name": "text",
         "type": "bar",
         "x": [
          "Wörter 3300 bis 3400"
         ],
         "y": [
          26
         ]
        },
        {
         "marker": {
          "color": "rgb(246, 169, 122)"
         },
         "name": "bibel,Apg_20-2",
         "type": "bar",
         "x": [
          "Wörter 3300 bis 3400"
         ],
         "y": [
          34
         ]
        },
        {
         "marker": {
          "color": "rgb(237, 217, 163)"
         },
         "name": "text",
         "type": "bar",
         "x": [
          "Wörter 3400 bis 3500"
         ],
         "y": [
          97
         ]
        },
        {
         "marker": {
          "color": "rgb(250, 120, 118)"
         },
         "name": "https://orgelpredigt.ur.de/E080427",
         "type": "bar",
         "x": [
          "Wörter 3400 bis 3500"
         ],
         "y": [
          3
         ]
        },
        {
         "marker": {
          "color": "rgb(237, 217, 163)"
         },
         "name": "text",
         "type": "bar",
         "x": [
          "Wörter 3500 bis 3600"
         ],
         "y": [
          69
         ]
        },
        {
         "marker": {
          "color": "rgb(246, 169, 122)"
         },
         "name": "bibel,Sir_25-1",
         "type": "bar",
         "x": [
          "Wörter 3500 bis 3600"
         ],
         "y": [
          6
         ]
        },
        {
         "marker": {
          "color": "rgb(246, 169, 122)"
         },
         "name": "bibel,Ps_111-1",
         "type": "bar",
         "x": [
          "Wörter 3500 bis 3600"
         ],
         "y": [
          5
         ]
        },
        {
         "marker": {
          "color": "rgb(246, 169, 122)"
         },
         "name": "bibel,Sir_1-1",
         "type": "bar",
         "x": [
          "Wörter 3500 bis 3600"
         ],
         "y": [
          3
         ]
        },
        {
         "marker": {
          "color": "rgb(246, 169, 122)"
         },
         "name": "bibel,1Tim_4-",
         "type": "bar",
         "x": [
          "Wörter 3500 bis 3600"
         ],
         "y": [
          17
         ]
        },
        {
         "marker": {
          "color": "rgb(237, 217, 163)"
         },
         "name": "text",
         "type": "bar",
         "x": [
          "Wörter 3600 bis 3700"
         ],
         "y": [
          100
         ]
        },
        {
         "marker": {
          "color": "rgb(237, 217, 163)"
         },
         "name": "text",
         "type": "bar",
         "x": [
          "Wörter 3700 bis 3800"
         ],
         "y": [
          34
         ]
        },
        {
         "marker": {
          "color": "rgb(246, 169, 122)"
         },
         "name": "bibel,1Kor_14-33.34.4",
         "type": "bar",
         "x": [
          "Wörter 3700 bis 3800"
         ],
         "y": [
          23
         ]
        },
        {
         "marker": {
          "color": "rgb(246, 169, 122)"
         },
         "name": "bibel,Ps_133-1.",
         "type": "bar",
         "x": [
          "Wörter 3700 bis 3800"
         ],
         "y": [
          18
         ]
        },
        {
         "marker": {
          "color": "rgb(246, 169, 122)"
         },
         "name": "bibel,Sir_25-1.",
         "type": "bar",
         "x": [
          "Wörter 3700 bis 3800"
         ],
         "y": [
          25
         ]
        },
        {
         "marker": {
          "color": "rgb(246, 169, 122)"
         },
         "name": "bibel,Sir_25-1.",
         "type": "bar",
         "x": [
          "Wörter 3800 bis 3900"
         ],
         "y": [
          4
         ]
        },
        {
         "marker": {
          "color": "rgb(237, 217, 163)"
         },
         "name": "text",
         "type": "bar",
         "x": [
          "Wörter 3800 bis 3900"
         ],
         "y": [
          86
         ]
        },
        {
         "marker": {
          "color": "rgb(246, 169, 122)"
         },
         "name": "bibel,Ps_150-",
         "type": "bar",
         "x": [
          "Wörter 3800 bis 3900"
         ],
         "y": [
          10
         ]
        },
        {
         "marker": {
          "color": "rgb(237, 217, 163)"
         },
         "name": "text",
         "type": "bar",
         "x": [
          "Wörter 3900 bis 4000"
         ],
         "y": [
          80
         ]
        },
        {
         "marker": {
          "color": "rgb(246, 169, 122)"
         },
         "name": "bibel,Mt_13-24.25.26.27.28.29.3",
         "type": "bar",
         "x": [
          "Wörter 3900 bis 4000"
         ],
         "y": [
          5
         ]
        },
        {
         "marker": {
          "color": "rgb(246, 169, 122)"
         },
         "name": "bibel,Mt_13-47.4",
         "type": "bar",
         "x": [
          "Wörter 3900 bis 4000"
         ],
         "y": [
          15
         ]
        },
        {
         "marker": {
          "color": "rgb(246, 169, 122)"
         },
         "name": "bibel,Mt_13-47.4",
         "type": "bar",
         "x": [
          "Wörter 4000 bis 4100"
         ],
         "y": [
          2
         ]
        },
        {
         "marker": {
          "color": "rgb(237, 217, 163)"
         },
         "name": "text",
         "type": "bar",
         "x": [
          "Wörter 4000 bis 4100"
         ],
         "y": [
          96
         ]
        },
        {
         "marker": {
          "color": "rgb(246, 169, 122)"
         },
         "name": "bibel,Lk_8-4.5.6.7.8.9.10.11.12.13.14.1",
         "type": "bar",
         "x": [
          "Wörter 4000 bis 4100"
         ],
         "y": [
          2
         ]
        },
        {
         "marker": {
          "color": "rgb(237, 217, 163)"
         },
         "name": "text",
         "type": "bar",
         "x": [
          "Wörter 4100 bis 4200"
         ],
         "y": [
          93
         ]
        },
        {
         "marker": {
          "color": "rgb(246, 169, 122)"
         },
         "name": "bibel,Jak_1-2",
         "type": "bar",
         "x": [
          "Wörter 4100 bis 4200"
         ],
         "y": [
          7
         ]
        },
        {
         "marker": {
          "color": "rgb(246, 169, 122)"
         },
         "name": "bibel,Jak_1-2",
         "type": "bar",
         "x": [
          "Wörter 4200 bis 4300"
         ],
         "y": [
          1
         ]
        },
        {
         "marker": {
          "color": "rgb(237, 217, 163)"
         },
         "name": "text",
         "type": "bar",
         "x": [
          "Wörter 4200 bis 4300"
         ],
         "y": [
          99
         ]
        },
        {
         "marker": {
          "color": "rgb(237, 217, 163)"
         },
         "name": "text",
         "type": "bar",
         "x": [
          "Wörter 4300 bis 4400"
         ],
         "y": [
          47
         ]
        },
        {
         "marker": {
          "color": "rgb(246, 169, 122)"
         },
         "name": "bibel,Lk_18-1",
         "type": "bar",
         "x": [
          "Wörter 4300 bis 4400"
         ],
         "y": [
          13
         ]
        },
        {
         "marker": {
          "color": "rgb(246, 169, 122)"
         },
         "name": "bibel,Jon_3-",
         "type": "bar",
         "x": [
          "Wörter 4300 bis 4400"
         ],
         "y": [
          18
         ]
        },
        {
         "marker": {
          "color": "rgb(246, 169, 122)"
         },
         "name": "bibel,Mt_6-",
         "type": "bar",
         "x": [
          "Wörter 4300 bis 4400"
         ],
         "y": [
          14
         ]
        },
        {
         "marker": {
          "color": "rgb(246, 169, 122)"
         },
         "name": "bibel,Ps_",
         "type": "bar",
         "x": [
          "Wörter 4300 bis 4400"
         ],
         "y": [
          6
         ]
        },
        {
         "marker": {
          "color": "rgb(246, 169, 122)"
         },
         "name": "bibel,Ps_14",
         "type": "bar",
         "x": [
          "Wörter 4300 bis 4400"
         ],
         "y": [
          2
         ]
        },
        {
         "marker": {
          "color": "rgb(246, 169, 122)"
         },
         "name": "bibel,Ps_14",
         "type": "bar",
         "x": [
          "Wörter 4400 bis 4500"
         ],
         "y": [
          2
         ]
        },
        {
         "marker": {
          "color": "rgb(237, 217, 163)"
         },
         "name": "text",
         "type": "bar",
         "x": [
          "Wörter 4400 bis 4500"
         ],
         "y": [
          76
         ]
        },
        {
         "marker": {
          "color": "rgb(246, 169, 122)"
         },
         "name": "bibel,Ps_32-1.",
         "type": "bar",
         "x": [
          "Wörter 4400 bis 4500"
         ],
         "y": [
          21
         ]
        },
        {
         "marker": {
          "color": "rgb(246, 169, 122)"
         },
         "name": "bibel,2Kor_5-1",
         "type": "bar",
         "x": [
          "Wörter 4400 bis 4500"
         ],
         "y": [
          1
         ]
        },
        {
         "marker": {
          "color": "rgb(246, 169, 122)"
         },
         "name": "bibel,2Kor_5-1",
         "type": "bar",
         "x": [
          "Wörter 4500 bis 4600"
         ],
         "y": [
          3
         ]
        },
        {
         "marker": {
          "color": "rgb(237, 217, 163)"
         },
         "name": "text",
         "type": "bar",
         "x": [
          "Wörter 4500 bis 4600"
         ],
         "y": [
          58
         ]
        },
        {
         "marker": {
          "color": "rgb(246, 169, 122)"
         },
         "name": "bibel,Offb_6-16.1",
         "type": "bar",
         "x": [
          "Wörter 4500 bis 4600"
         ],
         "y": [
          39
         ]
        },
        {
         "marker": {
          "color": "rgb(237, 217, 163)"
         },
         "name": "text",
         "type": "bar",
         "x": [
          "Wörter 4600 bis 4700"
         ],
         "y": [
          100
         ]
        },
        {
         "marker": {
          "color": "rgb(237, 217, 163)"
         },
         "name": "text",
         "type": "bar",
         "x": [
          "Wörter 4700 bis 4800"
         ],
         "y": [
          78
         ]
        },
        {
         "marker": {
          "color": "rgb(246, 169, 122)"
         },
         "name": "bibel,1Joh_4-20.2",
         "type": "bar",
         "x": [
          "Wörter 4700 bis 4800"
         ],
         "y": [
          5
         ]
        },
        {
         "marker": {
          "color": "rgb(246, 169, 122)"
         },
         "name": "bibel,Ps_42-",
         "type": "bar",
         "x": [
          "Wörter 4700 bis 4800"
         ],
         "y": [
          17
         ]
        },
        {
         "marker": {
          "color": "rgb(237, 217, 163)"
         },
         "name": "text",
         "type": "bar",
         "x": [
          "Wörter 4800 bis 4900"
         ],
         "y": [
          82
         ]
        },
        {
         "marker": {
          "color": "rgb(246, 169, 122)"
         },
         "name": "bibel,Ps_13",
         "type": "bar",
         "x": [
          "Wörter 4800 bis 4900"
         ],
         "y": [
          7
         ]
        },
        {
         "marker": {
          "color": "rgb(192, 54, 157)"
         },
         "name": "https://orgelpredigt.ur.de/E100003",
         "type": "bar",
         "x": [
          "Wörter 4800 bis 4900"
         ],
         "y": [
          11
         ]
        },
        {
         "marker": {
          "color": "rgb(237, 217, 163)"
         },
         "name": "text",
         "type": "bar",
         "x": [
          "Wörter 4900 bis 5000"
         ],
         "y": [
          85
         ]
        },
        {
         "marker": {
          "color": "rgb(246, 169, 122)"
         },
         "name": "bibel,1Petr_2-",
         "type": "bar",
         "x": [
          "Wörter 4900 bis 5000"
         ],
         "y": [
          15
         ]
        },
        {
         "marker": {
          "color": "rgb(246, 169, 122)"
         },
         "name": "bibel,Ps_95-",
         "type": "bar",
         "x": [
          "Wörter 5000 bis 5100"
         ],
         "y": [
          11
         ]
        },
        {
         "marker": {
          "color": "rgb(237, 217, 163)"
         },
         "name": "text",
         "type": "bar",
         "x": [
          "Wörter 5000 bis 5100"
         ],
         "y": [
          80
         ]
        },
        {
         "marker": {
          "color": "rgb(246, 169, 122)"
         },
         "name": "bibel,Mt_22-3",
         "type": "bar",
         "x": [
          "Wörter 5000 bis 5100"
         ],
         "y": [
          6
         ]
        },
        {
         "marker": {
          "color": "rgb(246, 169, 122)"
         },
         "name": "bibel,Offb_5-1",
         "type": "bar",
         "x": [
          "Wörter 5000 bis 5100"
         ],
         "y": [
          3
         ]
        },
        {
         "marker": {
          "color": "rgb(237, 217, 163)"
         },
         "name": "text",
         "type": "bar",
         "x": [
          "Wörter 5100 bis 5200"
         ],
         "y": [
          12
         ]
        },
        {
         "marker": {
          "color": "rgb(246, 169, 122)"
         },
         "name": "bibel,1Thess_4-16.17.1",
         "type": "bar",
         "x": [
          "Wörter 5100 bis 5200"
         ],
         "y": [
          69
         ]
        },
        {
         "marker": {
          "color": "rgb(246, 169, 122)"
         },
         "name": "bibel,Mt_24-30.3",
         "type": "bar",
         "x": [
          "Wörter 5100 bis 5200"
         ],
         "y": [
          19
         ]
        },
        {
         "marker": {
          "color": "rgb(246, 169, 122)"
         },
         "name": "bibel,Mt_24-30.3",
         "type": "bar",
         "x": [
          "Wörter 5200 bis 5300"
         ],
         "y": [
          5
         ]
        },
        {
         "marker": {
          "color": "rgb(237, 217, 163)"
         },
         "name": "text",
         "type": "bar",
         "x": [
          "Wörter 5200 bis 5300"
         ],
         "y": [
          60
         ]
        },
        {
         "marker": {
          "color": "rgb(192, 54, 157)"
         },
         "name": "https://orgelpredigt.ur.de/E100086",
         "type": "bar",
         "x": [
          "Wörter 5200 bis 5300"
         ],
         "y": [
          14
         ]
        },
        {
         "marker": {
          "color": "rgb(246, 169, 122)"
         },
         "name": "bibel,Sir_7-4",
         "type": "bar",
         "x": [
          "Wörter 5200 bis 5300"
         ],
         "y": [
          21
         ]
        },
        {
         "marker": {
          "color": "rgb(237, 217, 163)"
         },
         "name": "text",
         "type": "bar",
         "x": [
          "Wörter 5300 bis 5400"
         ],
         "y": [
          45
         ]
        },
        {
         "marker": {
          "color": "rgb(246, 169, 122)"
         },
         "name": "bibel,Ez_33-",
         "type": "bar",
         "x": [
          "Wörter 5300 bis 5400"
         ],
         "y": [
          3
         ]
        },
        {
         "marker": {
          "color": "rgb(246, 169, 122)"
         },
         "name": "bibel,Ez_3-1",
         "type": "bar",
         "x": [
          "Wörter 5300 bis 5400"
         ],
         "y": [
          25
         ]
        },
        {
         "marker": {
          "color": "rgb(246, 169, 122)"
         },
         "name": "bibel,Hebr_13-1",
         "type": "bar",
         "x": [
          "Wörter 5300 bis 5400"
         ],
         "y": [
          27
         ]
        },
        {
         "marker": {
          "color": "rgb(246, 169, 122)"
         },
         "name": "bibel,Hebr_13-1",
         "type": "bar",
         "x": [
          "Wörter 5400 bis 5500"
         ],
         "y": [
          10
         ]
        },
        {
         "marker": {
          "color": "rgb(237, 217, 163)"
         },
         "name": "text",
         "type": "bar",
         "x": [
          "Wörter 5400 bis 5500"
         ],
         "y": [
          63
         ]
        },
        {
         "marker": {
          "color": "rgb(246, 169, 122)"
         },
         "name": "bibel,Offb_",
         "type": "bar",
         "x": [
          "Wörter 5400 bis 5500"
         ],
         "y": [
          1
         ]
        },
        {
         "marker": {
          "color": "rgb(246, 169, 122)"
         },
         "name": "bibel,Offb_",
         "type": "bar",
         "x": [
          "Wörter 5400 bis 5500"
         ],
         "y": [
          1
         ]
        },
        {
         "marker": {
          "color": "rgb(246, 169, 122)"
         },
         "name": "bibel,Offb_",
         "type": "bar",
         "x": [
          "Wörter 5400 bis 5500"
         ],
         "y": [
          1
         ]
        },
        {
         "marker": {
          "color": "rgb(246, 169, 122)"
         },
         "name": "bibel,Offb_",
         "type": "bar",
         "x": [
          "Wörter 5400 bis 5500"
         ],
         "y": [
          1
         ]
        },
        {
         "marker": {
          "color": "rgb(246, 169, 122)"
         },
         "name": "bibel,Dan_12-",
         "type": "bar",
         "x": [
          "Wörter 5400 bis 5500"
         ],
         "y": [
          23
         ]
        },
        {
         "marker": {
          "color": "rgb(237, 217, 163)"
         },
         "name": "text",
         "type": "bar",
         "x": [
          "Wörter 5500 bis 5600"
         ],
         "y": [
          74
         ]
        },
        {
         "marker": {
          "color": "rgb(246, 169, 122)"
         },
         "name": "bibel,Mt_5-1",
         "type": "bar",
         "x": [
          "Wörter 5500 bis 5600"
         ],
         "y": [
          19
         ]
        },
        {
         "marker": {
          "color": "rgb(246, 169, 122)"
         },
         "name": "bibel,Ps_119-7",
         "type": "bar",
         "x": [
          "Wörter 5500 bis 5600"
         ],
         "y": [
          7
         ]
        },
        {
         "marker": {
          "color": "rgb(237, 217, 163)"
         },
         "name": "text",
         "type": "bar",
         "x": [
          "Wörter 5600 bis 5700"
         ],
         "y": [
          86
         ]
        },
        {
         "marker": {
          "color": "rgb(246, 169, 122)"
         },
         "name": "bibel,Mt_14-",
         "type": "bar",
         "x": [
          "Wörter 5600 bis 5700"
         ],
         "y": [
          10
         ]
        },
        {
         "marker": {
          "color": "rgb(246, 169, 122)"
         },
         "name": "bibel,Ps_2-1",
         "type": "bar",
         "x": [
          "Wörter 5600 bis 5700"
         ],
         "y": [
          4
         ]
        },
        {
         "marker": {
          "color": "rgb(246, 169, 122)"
         },
         "name": "bibel,Ps_2-1",
         "type": "bar",
         "x": [
          "Wörter 5700 bis 5800"
         ],
         "y": [
          6
         ]
        },
        {
         "marker": {
          "color": "rgb(237, 217, 163)"
         },
         "name": "text",
         "type": "bar",
         "x": [
          "Wörter 5700 bis 5800"
         ],
         "y": [
          78
         ]
        },
        {
         "marker": {
          "color": "rgb(246, 169, 122)"
         },
         "name": "bibel,Phil_2-1",
         "type": "bar",
         "x": [
          "Wörter 5700 bis 5800"
         ],
         "y": [
          9
         ]
        },
        {
         "marker": {
          "color": "rgb(192, 54, 157)"
         },
         "name": "https://orgelpredigt.ur.de/E100068",
         "type": "bar",
         "x": [
          "Wörter 5700 bis 5800"
         ],
         "y": [
          7
         ]
        },
        {
         "marker": {
          "color": "rgb(237, 217, 163)"
         },
         "name": "text",
         "type": "bar",
         "x": [
          "Wörter 5800 bis 5900"
         ],
         "y": [
          80
         ]
        },
        {
         "marker": {
          "color": "rgb(246, 169, 122)"
         },
         "name": "bibel,Ex_",
         "type": "bar",
         "x": [
          "Wörter 5800 bis 5900"
         ],
         "y": [
          2
         ]
        },
        {
         "marker": {
          "color": "rgb(246, 169, 122)"
         },
         "name": "bibel,Ez_14-13.14.15.16.17.18.19.20.21.22.2",
         "type": "bar",
         "x": [
          "Wörter 5800 bis 5900"
         ],
         "y": [
          4
         ]
        },
        {
         "marker": {
          "color": "rgb(246, 169, 122)"
         },
         "name": "bibel,Jer_15-",
         "type": "bar",
         "x": [
          "Wörter 5800 bis 5900"
         ],
         "y": [
          3
         ]
        },
        {
         "marker": {
          "color": "rgb(246, 169, 122)"
         },
         "name": "bibel,2Tim_3-1",
         "type": "bar",
         "x": [
          "Wörter 5800 bis 5900"
         ],
         "y": [
          11
         ]
        },
        {
         "marker": {
          "color": "rgb(237, 217, 163)"
         },
         "name": "text",
         "type": "bar",
         "x": [
          "Wörter 5900 bis 6000"
         ],
         "y": [
          52
         ]
        },
        {
         "marker": {
          "color": "rgb(246, 169, 122)"
         },
         "name": "bibel,Apg_14-2",
         "type": "bar",
         "x": [
          "Wörter 5900 bis 6000"
         ],
         "y": [
          11
         ]
        },
        {
         "marker": {
          "color": "rgb(246, 169, 122)"
         },
         "name": "bibel,Ps_71-2",
         "type": "bar",
         "x": [
          "Wörter 5900 bis 6000"
         ],
         "y": [
          8
         ]
        },
        {
         "marker": {
          "color": "rgb(246, 169, 122)"
         },
         "name": "bibel,Hebr_10-3",
         "type": "bar",
         "x": [
          "Wörter 5900 bis 6000"
         ],
         "y": [
          18
         ]
        },
        {
         "marker": {
          "color": "rgb(246, 169, 122)"
         },
         "name": "bibel,Lk_8-1",
         "type": "bar",
         "x": [
          "Wörter 5900 bis 6000"
         ],
         "y": [
          4
         ]
        },
        {
         "marker": {
          "color": "rgb(246, 169, 122)"
         },
         "name": "bibel,Röm_12-1",
         "type": "bar",
         "x": [
          "Wörter 5900 bis 6000"
         ],
         "y": [
          7
         ]
        },
        {
         "marker": {
          "color": "rgb(237, 217, 163)"
         },
         "name": "text",
         "type": "bar",
         "x": [
          "Wörter 6000 bis 6100"
         ],
         "y": [
          97
         ]
        },
        {
         "marker": {
          "color": "rgb(246, 169, 122)"
         },
         "name": "bibel,Ps_73-",
         "type": "bar",
         "x": [
          "Wörter 6000 bis 6100"
         ],
         "y": [
          3
         ]
        },
        {
         "marker": {
          "color": "rgb(237, 217, 163)"
         },
         "name": "text",
         "type": "bar",
         "x": [
          "Wörter 6100 bis 6200"
         ],
         "y": [
          75
         ]
        },
        {
         "marker": {
          "color": "rgb(246, 169, 122)"
         },
         "name": "bibel,Ps_13-",
         "type": "bar",
         "x": [
          "Wörter 6100 bis 6200"
         ],
         "y": [
          5
         ]
        },
        {
         "marker": {
          "color": "rgb(246, 169, 122)"
         },
         "name": "bibel,Ps_42-",
         "type": "bar",
         "x": [
          "Wörter 6100 bis 6200"
         ],
         "y": [
          14
         ]
        },
        {
         "marker": {
          "color": "rgb(246, 169, 122)"
         },
         "name": "bibel,Apg_2-",
         "type": "bar",
         "x": [
          "Wörter 6100 bis 6200"
         ],
         "y": [
          3
         ]
        },
        {
         "marker": {
          "color": "rgb(246, 169, 122)"
         },
         "name": "bibel,Joh_3-",
         "type": "bar",
         "x": [
          "Wörter 6100 bis 6200"
         ],
         "y": [
          3
         ]
        },
        {
         "marker": {
          "color": "rgb(237, 217, 163)"
         },
         "name": "text",
         "type": "bar",
         "x": [
          "Wörter 6200 bis 6300"
         ],
         "y": [
          56
         ]
        },
        {
         "marker": {
          "color": "rgb(192, 54, 157)"
         },
         "name": "https://orgelpredigt.ur.de/E100083",
         "type": "bar",
         "x": [
          "Wörter 6200 bis 6300"
         ],
         "y": [
          7
         ]
        },
        {
         "marker": {
          "color": "rgb(246, 169, 122)"
         },
         "name": "bibel,Röm_8-1",
         "type": "bar",
         "x": [
          "Wörter 6200 bis 6300"
         ],
         "y": [
          10
         ]
        },
        {
         "marker": {
          "color": "rgb(250, 120, 118)"
         },
         "name": "https://orgelpredigt.ur.de/E080427",
         "type": "bar",
         "x": [
          "Wörter 6200 bis 6300"
         ],
         "y": [
          27
         ]
        },
        {
         "marker": {
          "color": "rgb(237, 217, 163)"
         },
         "name": "text",
         "type": "bar",
         "x": [
          "Wörter 6300 bis 6400"
         ],
         "y": [
          75
         ]
        },
        {
         "marker": {
          "color": "rgb(246, 169, 122)"
         },
         "name": "bibel,Ps_119-9",
         "type": "bar",
         "x": [
          "Wörter 6300 bis 6400"
         ],
         "y": [
          12
         ]
        },
        {
         "marker": {
          "color": "rgb(246, 169, 122)"
         },
         "name": "bibel,Röm_8-1",
         "type": "bar",
         "x": [
          "Wörter 6300 bis 6400"
         ],
         "y": [
          11
         ]
        },
        {
         "marker": {
          "color": "rgb(246, 169, 122)"
         },
         "name": "bibel,Ps_51-1",
         "type": "bar",
         "x": [
          "Wörter 6300 bis 6400"
         ],
         "y": [
          2
         ]
        },
        {
         "marker": {
          "color": "rgb(246, 169, 122)"
         },
         "name": "bibel,Ps_51-1",
         "type": "bar",
         "x": [
          "Wörter 6400 bis 6500"
         ],
         "y": [
          1
         ]
        },
        {
         "marker": {
          "color": "rgb(237, 217, 163)"
         },
         "name": "text",
         "type": "bar",
         "x": [
          "Wörter 6400 bis 6500"
         ],
         "y": [
          64
         ]
        },
        {
         "marker": {
          "color": "rgb(246, 169, 122)"
         },
         "name": "bibel,Ps_51-1",
         "type": "bar",
         "x": [
          "Wörter 6400 bis 6500"
         ],
         "y": [
          2
         ]
        },
        {
         "marker": {
          "color": "rgb(246, 169, 122)"
         },
         "name": "bibel,Röm_10.1",
         "type": "bar",
         "x": [
          "Wörter 6400 bis 6500"
         ],
         "y": [
          14
         ]
        },
        {
         "marker": {
          "color": "rgb(192, 54, 157)"
         },
         "name": "https://orgelpredigt.ur.de/E100084",
         "type": "bar",
         "x": [
          "Wörter 6400 bis 6500"
         ],
         "y": [
          19
         ]
        },
        {
         "marker": {
          "color": "rgb(192, 54, 157)"
         },
         "name": "https://orgelpredigt.ur.de/E100084",
         "type": "bar",
         "x": [
          "Wörter 6500 bis 6600"
         ],
         "y": [
          17
         ]
        },
        {
         "marker": {
          "color": "rgb(237, 217, 163)"
         },
         "name": "text",
         "type": "bar",
         "x": [
          "Wörter 6500 bis 6600"
         ],
         "y": [
          66
         ]
        },
        {
         "marker": {
          "color": "rgb(246, 169, 122)"
         },
         "name": "bibel,Röm_10-1",
         "type": "bar",
         "x": [
          "Wörter 6500 bis 6600"
         ],
         "y": [
          6
         ]
        },
        {
         "marker": {
          "color": "rgb(192, 54, 157)"
         },
         "name": "https://orgelpredigt.ur.de/E100013",
         "type": "bar",
         "x": [
          "Wörter 6500 bis 6600"
         ],
         "y": [
          11
         ]
        },
        {
         "marker": {
          "color": "rgb(192, 54, 157)"
         },
         "name": "https://orgelpredigt.ur.de/E100013",
         "type": "bar",
         "x": [
          "Wörter 6600 bis 6700"
         ],
         "y": [
          37
         ]
        },
        {
         "marker": {
          "color": "rgb(192, 54, 157)"
         },
         "name": "https://orgelpredigt.ur.de/E100084",
         "type": "bar",
         "x": [
          "Wörter 6600 bis 6700"
         ],
         "y": [
          19
         ]
        },
        {
         "marker": {
          "color": "rgb(237, 217, 163)"
         },
         "name": "text",
         "type": "bar",
         "x": [
          "Wörter 6600 bis 6700"
         ],
         "y": [
          44
         ]
        },
        {
         "marker": {
          "color": "rgb(237, 217, 163)"
         },
         "name": "text",
         "type": "bar",
         "x": [
          "Wörter 6700 bis 6800"
         ],
         "y": [
          79
         ]
        },
        {
         "marker": {
          "color": "rgb(246, 169, 122)"
         },
         "name": "bibel,Hebr_11-",
         "type": "bar",
         "x": [
          "Wörter 6700 bis 6800"
         ],
         "y": [
          6
         ]
        },
        {
         "marker": {
          "color": "rgb(246, 169, 122)"
         },
         "name": "bibel,Jer_5-",
         "type": "bar",
         "x": [
          "Wörter 6700 bis 6800"
         ],
         "y": [
          5
         ]
        },
        {
         "marker": {
          "color": "rgb(246, 169, 122)"
         },
         "name": "bibel,Mk_16-1",
         "type": "bar",
         "x": [
          "Wörter 6700 bis 6800"
         ],
         "y": [
          10
         ]
        },
        {
         "marker": {
          "color": "rgb(237, 217, 163)"
         },
         "name": "text",
         "type": "bar",
         "x": [
          "Wörter 6800 bis 6900"
         ],
         "y": [
          21
         ]
        },
        {
         "marker": {
          "color": "rgb(234, 79, 136)"
         },
         "name": "https://orgelpredigt.ur.de/E090778",
         "type": "bar",
         "x": [
          "Wörter 6800 bis 6900"
         ],
         "y": [
          69
         ]
        },
        {
         "marker": {
          "color": "gray"
         },
         "name": "https://orgelpredigt.ur.de/E090778 Joh_20-29",
         "type": "bar",
         "x": [
          "Wörter 6800 bis 6900"
         ],
         "y": [
          10
         ]
        },
        {
         "marker": {
          "color": "rgb(234, 79, 136)"
         },
         "name": "https://orgelpredigt.ur.de/E090778",
         "type": "bar",
         "x": [
          "Wörter 6900 bis 7000"
         ],
         "y": [
          76
         ]
        },
        {
         "marker": {
          "color": "gray"
         },
         "name": "https://orgelpredigt.ur.de/E090778 1Kor_13-12",
         "type": "bar",
         "x": [
          "Wörter 6900 bis 7000"
         ],
         "y": [
          4
         ]
        },
        {
         "marker": {
          "color": "gray"
         },
         "name": "https://orgelpredigt.ur.de/E090778 1Petr_2-21",
         "type": "bar",
         "x": [
          "Wörter 6900 bis 7000"
         ],
         "y": [
          16
         ]
        },
        {
         "marker": {
          "color": "gray"
         },
         "name": "https://orgelpredigt.ur.de/E090778 Jak_2-14",
         "type": "bar",
         "x": [
          "Wörter 6900 bis 7000"
         ],
         "y": [
          4
         ]
        },
        {
         "marker": {
          "color": "rgb(234, 79, 136)"
         },
         "name": "https://orgelpredigt.ur.de/E090778",
         "type": "bar",
         "x": [
          "Wörter 7000 bis 7100"
         ],
         "y": [
          80
         ]
        },
        {
         "marker": {
          "color": "gray"
         },
         "name": "https://orgelpredigt.ur.de/E090778 Gal_5-22",
         "type": "bar",
         "x": [
          "Wörter 7000 bis 7100"
         ],
         "y": [
          15
         ]
        },
        {
         "marker": {
          "color": "gray"
         },
         "name": "https://orgelpredigt.ur.de/E090778 Eph_4-1",
         "type": "bar",
         "x": [
          "Wörter 7000 bis 7100"
         ],
         "y": [
          5
         ]
        },
        {
         "marker": {
          "color": "rgb(234, 79, 136)"
         },
         "name": "https://orgelpredigt.ur.de/E090778",
         "type": "bar",
         "x": [
          "Wörter 7100 bis 7200"
         ],
         "y": [
          100
         ]
        },
        {
         "marker": {
          "color": "rgb(234, 79, 136)"
         },
         "name": "https://orgelpredigt.ur.de/E090778",
         "type": "bar",
         "x": [
          "Wörter 7200 bis 7300"
         ],
         "y": [
          100
         ]
        },
        {
         "marker": {
          "color": "rgb(234, 79, 136)"
         },
         "name": "https://orgelpredigt.ur.de/E090778",
         "type": "bar",
         "x": [
          "Wörter 7300 bis 7400"
         ],
         "y": [
          100
         ]
        },
        {
         "marker": {
          "color": "rgb(234, 79, 136)"
         },
         "name": "https://orgelpredigt.ur.de/E090778",
         "type": "bar",
         "x": [
          "Wörter 7400 bis 7500"
         ],
         "y": [
          87
         ]
        },
        {
         "marker": {
          "color": "gray"
         },
         "name": "https://orgelpredigt.ur.de/E090778 Mt_10-42",
         "type": "bar",
         "x": [
          "Wörter 7400 bis 7500"
         ],
         "y": [
          13
         ]
        },
        {
         "marker": {
          "color": "rgb(234, 79, 136)"
         },
         "name": "https://orgelpredigt.ur.de/E090778",
         "type": "bar",
         "x": [
          "Wörter 7500 bis 7600"
         ],
         "y": [
          74
         ]
        },
        {
         "marker": {
          "color": "gray"
         },
         "name": "https://orgelpredigt.ur.de/E090778 Ps_50-15",
         "type": "bar",
         "x": [
          "Wörter 7500 bis 7600"
         ],
         "y": [
          14
         ]
        },
        {
         "marker": {
          "color": "gray"
         },
         "name": "https://orgelpredigt.ur.de/E090778 Ps_51-14",
         "type": "bar",
         "x": [
          "Wörter 7500 bis 7600"
         ],
         "y": [
          7
         ]
        },
        {
         "marker": {
          "color": "gray"
         },
         "name": "https://orgelpredigt.ur.de/E090778 E100085",
         "type": "bar",
         "x": [
          "Wörter 7500 bis 7600"
         ],
         "y": [
          5
         ]
        },
        {
         "marker": {
          "color": "gray"
         },
         "name": "https://orgelpredigt.ur.de/E090778 E100085",
         "type": "bar",
         "x": [
          "Wörter 7600 bis 7700"
         ],
         "y": [
          27
         ]
        },
        {
         "marker": {
          "color": "rgb(234, 79, 136)"
         },
         "name": "https://orgelpredigt.ur.de/E090778",
         "type": "bar",
         "x": [
          "Wörter 7600 bis 7700"
         ],
         "y": [
          73
         ]
        },
        {
         "marker": {
          "color": "rgb(234, 79, 136)"
         },
         "name": "https://orgelpredigt.ur.de/E090778",
         "type": "bar",
         "x": [
          "Wörter 7700 bis 7800"
         ],
         "y": [
          100
         ]
        },
        {
         "marker": {
          "color": "rgb(234, 79, 136)"
         },
         "name": "https://orgelpredigt.ur.de/E090778",
         "type": "bar",
         "x": [
          "Wörter 7800 bis 7900"
         ],
         "y": [
          100
         ]
        },
        {
         "marker": {
          "color": "rgb(234, 79, 136)"
         },
         "name": "https://orgelpredigt.ur.de/E090778",
         "type": "bar",
         "x": [
          "Wörter 7900 bis 8000"
         ],
         "y": [
          100
         ]
        },
        {
         "marker": {
          "color": "rgb(234, 79, 136)"
         },
         "name": "https://orgelpredigt.ur.de/E090778",
         "type": "bar",
         "x": [
          "Wörter 8000 bis 8100"
         ],
         "y": [
          53
         ]
        },
        {
         "marker": {
          "color": "gray"
         },
         "name": "https://orgelpredigt.ur.de/E090778 E100013",
         "type": "bar",
         "x": [
          "Wörter 8000 bis 8100"
         ],
         "y": [
          47
         ]
        },
        {
         "marker": {
          "color": "rgb(234, 79, 136)"
         },
         "name": "https://orgelpredigt.ur.de/E090778",
         "type": "bar",
         "x": [
          "Wörter 8100 bis 8200"
         ],
         "y": [
          22
         ]
        },
        {
         "marker": {
          "color": "gray"
         },
         "name": "https://orgelpredigt.ur.de/E090778 E100038",
         "type": "bar",
         "x": [
          "Wörter 8100 bis 8200"
         ],
         "y": [
          7
         ]
        },
        {
         "marker": {
          "color": "rgb(237, 217, 163)"
         },
         "name": "text",
         "type": "bar",
         "x": [
          "Wörter 8100 bis 8200"
         ],
         "y": [
          2
         ]
        }
       ],
       "layout": {
        "barmode": "stack",
        "height": 500,
        "template": {
         "data": {
          "bar": [
           {
            "error_x": {
             "color": "#2a3f5f"
            },
            "error_y": {
             "color": "#2a3f5f"
            },
            "marker": {
             "line": {
              "color": "#E5ECF6",
              "width": 0.5
             },
             "pattern": {
              "fillmode": "overlay",
              "size": 10,
              "solidity": 0.2
             }
            },
            "type": "bar"
           }
          ],
          "barpolar": [
           {
            "marker": {
             "line": {
              "color": "#E5ECF6",
              "width": 0.5
             },
             "pattern": {
              "fillmode": "overlay",
              "size": 10,
              "solidity": 0.2
             }
            },
            "type": "barpolar"
           }
          ],
          "carpet": [
           {
            "aaxis": {
             "endlinecolor": "#2a3f5f",
             "gridcolor": "white",
             "linecolor": "white",
             "minorgridcolor": "white",
             "startlinecolor": "#2a3f5f"
            },
            "baxis": {
             "endlinecolor": "#2a3f5f",
             "gridcolor": "white",
             "linecolor": "white",
             "minorgridcolor": "white",
             "startlinecolor": "#2a3f5f"
            },
            "type": "carpet"
           }
          ],
          "choropleth": [
           {
            "colorbar": {
             "outlinewidth": 0,
             "ticks": ""
            },
            "type": "choropleth"
           }
          ],
          "contour": [
           {
            "colorbar": {
             "outlinewidth": 0,
             "ticks": ""
            },
            "colorscale": [
             [
              0,
              "#0d0887"
             ],
             [
              0.1111111111111111,
              "#46039f"
             ],
             [
              0.2222222222222222,
              "#7201a8"
             ],
             [
              0.3333333333333333,
              "#9c179e"
             ],
             [
              0.4444444444444444,
              "#bd3786"
             ],
             [
              0.5555555555555556,
              "#d8576b"
             ],
             [
              0.6666666666666666,
              "#ed7953"
             ],
             [
              0.7777777777777778,
              "#fb9f3a"
             ],
             [
              0.8888888888888888,
              "#fdca26"
             ],
             [
              1,
              "#f0f921"
             ]
            ],
            "type": "contour"
           }
          ],
          "contourcarpet": [
           {
            "colorbar": {
             "outlinewidth": 0,
             "ticks": ""
            },
            "type": "contourcarpet"
           }
          ],
          "heatmap": [
           {
            "colorbar": {
             "outlinewidth": 0,
             "ticks": ""
            },
            "colorscale": [
             [
              0,
              "#0d0887"
             ],
             [
              0.1111111111111111,
              "#46039f"
             ],
             [
              0.2222222222222222,
              "#7201a8"
             ],
             [
              0.3333333333333333,
              "#9c179e"
             ],
             [
              0.4444444444444444,
              "#bd3786"
             ],
             [
              0.5555555555555556,
              "#d8576b"
             ],
             [
              0.6666666666666666,
              "#ed7953"
             ],
             [
              0.7777777777777778,
              "#fb9f3a"
             ],
             [
              0.8888888888888888,
              "#fdca26"
             ],
             [
              1,
              "#f0f921"
             ]
            ],
            "type": "heatmap"
           }
          ],
          "histogram": [
           {
            "marker": {
             "pattern": {
              "fillmode": "overlay",
              "size": 10,
              "solidity": 0.2
             }
            },
            "type": "histogram"
           }
          ],
          "histogram2d": [
           {
            "colorbar": {
             "outlinewidth": 0,
             "ticks": ""
            },
            "colorscale": [
             [
              0,
              "#0d0887"
             ],
             [
              0.1111111111111111,
              "#46039f"
             ],
             [
              0.2222222222222222,
              "#7201a8"
             ],
             [
              0.3333333333333333,
              "#9c179e"
             ],
             [
              0.4444444444444444,
              "#bd3786"
             ],
             [
              0.5555555555555556,
              "#d8576b"
             ],
             [
              0.6666666666666666,
              "#ed7953"
             ],
             [
              0.7777777777777778,
              "#fb9f3a"
             ],
             [
              0.8888888888888888,
              "#fdca26"
             ],
             [
              1,
              "#f0f921"
             ]
            ],
            "type": "histogram2d"
           }
          ],
          "histogram2dcontour": [
           {
            "colorbar": {
             "outlinewidth": 0,
             "ticks": ""
            },
            "colorscale": [
             [
              0,
              "#0d0887"
             ],
             [
              0.1111111111111111,
              "#46039f"
             ],
             [
              0.2222222222222222,
              "#7201a8"
             ],
             [
              0.3333333333333333,
              "#9c179e"
             ],
             [
              0.4444444444444444,
              "#bd3786"
             ],
             [
              0.5555555555555556,
              "#d8576b"
             ],
             [
              0.6666666666666666,
              "#ed7953"
             ],
             [
              0.7777777777777778,
              "#fb9f3a"
             ],
             [
              0.8888888888888888,
              "#fdca26"
             ],
             [
              1,
              "#f0f921"
             ]
            ],
            "type": "histogram2dcontour"
           }
          ],
          "mesh3d": [
           {
            "colorbar": {
             "outlinewidth": 0,
             "ticks": ""
            },
            "type": "mesh3d"
           }
          ],
          "parcoords": [
           {
            "line": {
             "colorbar": {
              "outlinewidth": 0,
              "ticks": ""
             }
            },
            "type": "parcoords"
           }
          ],
          "pie": [
           {
            "automargin": true,
            "type": "pie"
           }
          ],
          "scatter": [
           {
            "fillpattern": {
             "fillmode": "overlay",
             "size": 10,
             "solidity": 0.2
            },
            "type": "scatter"
           }
          ],
          "scatter3d": [
           {
            "line": {
             "colorbar": {
              "outlinewidth": 0,
              "ticks": ""
             }
            },
            "marker": {
             "colorbar": {
              "outlinewidth": 0,
              "ticks": ""
             }
            },
            "type": "scatter3d"
           }
          ],
          "scattercarpet": [
           {
            "marker": {
             "colorbar": {
              "outlinewidth": 0,
              "ticks": ""
             }
            },
            "type": "scattercarpet"
           }
          ],
          "scattergeo": [
           {
            "marker": {
             "colorbar": {
              "outlinewidth": 0,
              "ticks": ""
             }
            },
            "type": "scattergeo"
           }
          ],
          "scattergl": [
           {
            "marker": {
             "colorbar": {
              "outlinewidth": 0,
              "ticks": ""
             }
            },
            "type": "scattergl"
           }
          ],
          "scattermap": [
           {
            "marker": {
             "colorbar": {
              "outlinewidth": 0,
              "ticks": ""
             }
            },
            "type": "scattermap"
           }
          ],
          "scattermapbox": [
           {
            "marker": {
             "colorbar": {
              "outlinewidth": 0,
              "ticks": ""
             }
            },
            "type": "scattermapbox"
           }
          ],
          "scatterpolar": [
           {
            "marker": {
             "colorbar": {
              "outlinewidth": 0,
              "ticks": ""
             }
            },
            "type": "scatterpolar"
           }
          ],
          "scatterpolargl": [
           {
            "marker": {
             "colorbar": {
              "outlinewidth": 0,
              "ticks": ""
             }
            },
            "type": "scatterpolargl"
           }
          ],
          "scatterternary": [
           {
            "marker": {
             "colorbar": {
              "outlinewidth": 0,
              "ticks": ""
             }
            },
            "type": "scatterternary"
           }
          ],
          "surface": [
           {
            "colorbar": {
             "outlinewidth": 0,
             "ticks": ""
            },
            "colorscale": [
             [
              0,
              "#0d0887"
             ],
             [
              0.1111111111111111,
              "#46039f"
             ],
             [
              0.2222222222222222,
              "#7201a8"
             ],
             [
              0.3333333333333333,
              "#9c179e"
             ],
             [
              0.4444444444444444,
              "#bd3786"
             ],
             [
              0.5555555555555556,
              "#d8576b"
             ],
             [
              0.6666666666666666,
              "#ed7953"
             ],
             [
              0.7777777777777778,
              "#fb9f3a"
             ],
             [
              0.8888888888888888,
              "#fdca26"
             ],
             [
              1,
              "#f0f921"
             ]
            ],
            "type": "surface"
           }
          ],
          "table": [
           {
            "cells": {
             "fill": {
              "color": "#EBF0F8"
             },
             "line": {
              "color": "white"
             }
            },
            "header": {
             "fill": {
              "color": "#C8D4E3"
             },
             "line": {
              "color": "white"
             }
            },
            "type": "table"
           }
          ]
         },
         "layout": {
          "annotationdefaults": {
           "arrowcolor": "#2a3f5f",
           "arrowhead": 0,
           "arrowwidth": 1
          },
          "autotypenumbers": "strict",
          "coloraxis": {
           "colorbar": {
            "outlinewidth": 0,
            "ticks": ""
           }
          },
          "colorscale": {
           "diverging": [
            [
             0,
             "#8e0152"
            ],
            [
             0.1,
             "#c51b7d"
            ],
            [
             0.2,
             "#de77ae"
            ],
            [
             0.3,
             "#f1b6da"
            ],
            [
             0.4,
             "#fde0ef"
            ],
            [
             0.5,
             "#f7f7f7"
            ],
            [
             0.6,
             "#e6f5d0"
            ],
            [
             0.7,
             "#b8e186"
            ],
            [
             0.8,
             "#7fbc41"
            ],
            [
             0.9,
             "#4d9221"
            ],
            [
             1,
             "#276419"
            ]
           ],
           "sequential": [
            [
             0,
             "#0d0887"
            ],
            [
             0.1111111111111111,
             "#46039f"
            ],
            [
             0.2222222222222222,
             "#7201a8"
            ],
            [
             0.3333333333333333,
             "#9c179e"
            ],
            [
             0.4444444444444444,
             "#bd3786"
            ],
            [
             0.5555555555555556,
             "#d8576b"
            ],
            [
             0.6666666666666666,
             "#ed7953"
            ],
            [
             0.7777777777777778,
             "#fb9f3a"
            ],
            [
             0.8888888888888888,
             "#fdca26"
            ],
            [
             1,
             "#f0f921"
            ]
           ],
           "sequentialminus": [
            [
             0,
             "#0d0887"
            ],
            [
             0.1111111111111111,
             "#46039f"
            ],
            [
             0.2222222222222222,
             "#7201a8"
            ],
            [
             0.3333333333333333,
             "#9c179e"
            ],
            [
             0.4444444444444444,
             "#bd3786"
            ],
            [
             0.5555555555555556,
             "#d8576b"
            ],
            [
             0.6666666666666666,
             "#ed7953"
            ],
            [
             0.7777777777777778,
             "#fb9f3a"
            ],
            [
             0.8888888888888888,
             "#fdca26"
            ],
            [
             1,
             "#f0f921"
            ]
           ]
          },
          "colorway": [
           "#636efa",
           "#EF553B",
           "#00cc96",
           "#ab63fa",
           "#FFA15A",
           "#19d3f3",
           "#FF6692",
           "#B6E880",
           "#FF97FF",
           "#FECB52"
          ],
          "font": {
           "color": "#2a3f5f"
          },
          "geo": {
           "bgcolor": "white",
           "lakecolor": "white",
           "landcolor": "#E5ECF6",
           "showlakes": true,
           "showland": true,
           "subunitcolor": "white"
          },
          "hoverlabel": {
           "align": "left"
          },
          "hovermode": "closest",
          "mapbox": {
           "style": "light"
          },
          "paper_bgcolor": "white",
          "plot_bgcolor": "#E5ECF6",
          "polar": {
           "angularaxis": {
            "gridcolor": "white",
            "linecolor": "white",
            "ticks": ""
           },
           "bgcolor": "#E5ECF6",
           "radialaxis": {
            "gridcolor": "white",
            "linecolor": "white",
            "ticks": ""
           }
          },
          "scene": {
           "xaxis": {
            "backgroundcolor": "#E5ECF6",
            "gridcolor": "white",
            "gridwidth": 2,
            "linecolor": "white",
            "showbackground": true,
            "ticks": "",
            "zerolinecolor": "white"
           },
           "yaxis": {
            "backgroundcolor": "#E5ECF6",
            "gridcolor": "white",
            "gridwidth": 2,
            "linecolor": "white",
            "showbackground": true,
            "ticks": "",
            "zerolinecolor": "white"
           },
           "zaxis": {
            "backgroundcolor": "#E5ECF6",
            "gridcolor": "white",
            "gridwidth": 2,
            "linecolor": "white",
            "showbackground": true,
            "ticks": "",
            "zerolinecolor": "white"
           }
          },
          "shapedefaults": {
           "line": {
            "color": "#2a3f5f"
           }
          },
          "ternary": {
           "aaxis": {
            "gridcolor": "white",
            "linecolor": "white",
            "ticks": ""
           },
           "baxis": {
            "gridcolor": "white",
            "linecolor": "white",
            "ticks": ""
           },
           "bgcolor": "#E5ECF6",
           "caxis": {
            "gridcolor": "white",
            "linecolor": "white",
            "ticks": ""
           }
          },
          "title": {
           "x": 0.05
          },
          "xaxis": {
           "automargin": true,
           "gridcolor": "white",
           "linecolor": "white",
           "ticks": "",
           "title": {
            "standoff": 15
           },
           "zerolinecolor": "white",
           "zerolinewidth": 2
          },
          "yaxis": {
           "automargin": true,
           "gridcolor": "white",
           "linecolor": "white",
           "ticks": "",
           "title": {
            "standoff": 15
           },
           "zerolinecolor": "white",
           "zerolinewidth": 2
          }
         }
        },
        "width": 1400
       }
      }
     },
     "metadata": {},
     "output_type": "display_data"
    }
   ],
   "source": [
    "fig.update_layout(barmode='stack')\n",
    "\n",
    "fig.show()"
   ]
  },
  {
   "cell_type": "code",
   "execution_count": 51,
   "id": "13275b5e",
   "metadata": {},
   "outputs": [
    {
     "name": "stdout",
     "output_type": "stream",
     "text": [
      "[('E000001', 'Christliche Predigt (Tübingen 1602)', '1602'), ('E000002', 'Musica instrumentalis (Meißen 1605)', '1605'), ('E000003', 'Vlmische Orgel Predigt (Ulm 1624)', '1624'), ('E000004', 'Vlmische Orgel Predigt (Ulm / Frankfurt a. M. 1625)', '1625'), ('E000005', 'Kirchweih= oder Orgel=Predigt (Leipzig 1632)', '1632'), ('E000006', 'Eine Predigt bey der Einweihung der neuerbauten Orgel (Magdeburg 1798)', '1798'), ('E000007', 'Predigt bey der feyerlichen Einweihung der neuen Orgel (Magdeburg 1798)', '1798'), ('E000008', 'Predigt Bey der Einweihung einer Orgel (Leipzig 1797)', '1797'), ('E000009', 'Predigt bey Einweyhung der Orgel (s.l. 1795)', '1795'), ('E000010', 'Ermunterung den öffentlichen Gottesdienst in Ehren zu halten (Frankfurt an der Oder s.a.)', '1789 [s.a.]'), ('E000011', 'Die grossen Vortheile eines wohlgeordneten Kirchengesangs', '1785'), ('E000012', 'Predigt bey der Einweihung der neuerbaueten Orgel (Halle 1784)', '1784'), ('E000013', 'Predigt bey Einweihung einer neuen Orgel (Altenburg 1782)', '1782'), ('E000014', 'Gast-Predigt (Ulm 1781)', '1781'), ('E000015', 'Rede und Predigt bey Einweihung der neuen Orgel (Stockholm 1781)', '1781'), ('E000016', 'Der Dienst der Orgeln (Jena 1778)', '1778'), ('E000017', 'Einweihungspredigt (Berlin 1775)', '1775'), ('E000018', 'Die vortrefliche Nachtmusik (Arnstadt 1774)', '1774'), ('E000019', '[Orgelpredigt] (Stettin 1772)', '1772'), ('E000020', 'Predigt am Feste der Heimsuchung Mariae (Rostock 1770)', '1770'), ('E000021', 'Das heilige und fröliche Aufsehen (Tübingen 1767)', '1767'), ('E000022', 'Zeugniße des Friedens und der Freude (Freiberg 1767)', '1767'), ('E000023', 'Der rechte Gebrauch der Orgeln (Altenburg 1766)', '1766'), ('E000024', 'Die heiligen Verrichtungen in dem Hause des Herrn (Eisenach 1765)', '1765'), ('E000025', '[Orgelpredigt]', '1763 [s.a.]'), ('E000026', '[Orgelpredigt]', '1763 [s.a.]'), ('E000027', 'Der Christen gerechte Freude (Breslau 1761)', '1761'), ('E000028', 'Von der weisen und treuen Hand Gottes (Danzig 1761)', '1761'), ('E000029', 'Christliche Predigt (Tübingen 1606)', '1606'), ('E000030', 'Elogium Organi Musici (Altenburg 1610)', '1610'), ('E000031', 'Musica Christiana (Leipzig 1615)', '1615'), ('E000032', '[Orgelpredigt] (Breslau 1756)', '1756'), ('E000033', 'Heiligung der Herzen (Königsberg 1755)', '1755'), ('E000034', 'Lob= und Danck=Predigt (Berlin 1753)', '1753'), ('E000035', 'Musicalische Orgel= Lob= und Ehren=Predigt (s.l. 1751)', '1751'), ('E000036', 'Die heilige Sabbaths-Lust an dem Herrn (Danzig 1749)', '1749'), ('E000037', 'Christliche Predigt (Straßburg 1749)', '1749'), ('E000038', 'Den rechtmäßigen Gebrauch der Music (Königsberg 1747)', '1747'), ('E000039', 'Winnedisches Reminiscere (Stuttgart 1740)', '1740'), ('E000040', 'Die sich über das Gute Freuende Heiligen (Pirna 1740)', '1740'), ('E000041', 'Die Billige Orgel-Freude (Danzig 1739)', '1739'), ('E000042', 'Das Neue Lied (Freiberg 1735)', '1735'), ('E000043', 'Die Dem Herrn von neuem geweyhte Heilige Wohnung (Esslingen 1733)', '1733'), ('E000044', 'Das Lust-Spiel der ewigen Weisheit (Stettin 1731)', '1731'), ('E000045', 'Hymnosophia sacra (Billwerder 1728)', '1728'), ('E000046', 'Die edle und wohlgeordnete Music der Gläubigen (Halle 1727)', '1727'), ('E000047', 'Die edle und wohlgeordnete Music der Gläubigen (Halle 1735)', '1735'), ('E000048', 'Die verstimmte Zwölff Grösseste Pfeiffen (Tübingen s.a.)', '1726 [s.a.]'), ('E000049', 'Die verstimmte Zwölff Grösseste Pfeiffen (Tübingen 1740)', '1740'), ('E000050', 'Erfreuliche Weihnachten (Halle 1722)', '1722'), ('E000051', 'Die Kneiphöffsche laute Orgel=Stimme (Königsberg 1721)', '1721'), ('E000052', 'Ein wolgerührtes Orgel=Werck (Königsberg 1721)', '1721'), ('E000053', 'Vivum Dei Organum (Schneeberg s.a.)', '1720 [s.a.]'), ('E000054', 'Des Gott=ergebenen Davids Freygebiges Anbieten (Lübeck 1718)', '1718'), ('E000055', 'Davids Vermahnung (Dresden 1711)', '1711'), ('E000056', 'Orgel Weih-Predigt (Ansbach 1709)', '1709'), ('E000057', 'Das rein-gestimmte Orgel-Werk unsers Herzens (Nürnberg s.a.)', '1709 [s.a.]'), ('E000058', 'Christliche Orgel-Predigt (Danzig s.a.)', '1704 [s.a.]'), ('E000059', 'Einweihungs-Predigt (Görlitz 1704)', '1704'), ('E000060', 'Die Christliche Harmonie (Jena 1700)', '1700'), ('E000061', 'Einweihungs-Predigt (Berlin 1730)', '1730'), ('E000062', 'Desiderivm Cvltvs Pvblici Davidicvm (Altdorf 1700)', '1700'), ('E000063', 'Schuldiges Lob Gottes (Nürnberg 1696)', '1696'), ('E000065', 'Eine Christliche Orgel=Predigt (Danzig 1695)', '1695'), ('E000066', 'Organon Spirituale (Gotha 1690)', '1690'), ('E000067', 'Organo-Praxis Mystica (Görlitz 1689)', '1689'), ('E000068', 'Das dem Allmächtigen abzustattende Lob (Altenburg s.a.)', '1687 [s.a.]'), ('E000069', 'Organum Mysticum (Dresden 1686)', '1686'), ('E000070', 'Cithara Theologica (Schleusingen 1683)', '1683'), ('E000071', 'Engel-Schall der Kirchen (Gotha 1682)', '1682'), ('E000072', 'Gott und Gnug (Meißen 1681)', '1681'), ('E000073', 'Geistlich= und Gott wohlgefälliges Lob- und Danck-Opffer (Bayreuth 1680)', '1680'), ('E000074', 'Glaubiger Kinder Gottes Gott=gefällige Music (Augsburg 1721)', '1721'), ('E000075', 'Das Lieblich=klingende Orgeln und Saiten=Spiel (Coburg 1676)', '1676'), ('E000076', 'Einweyhungs=Predigt (Wittenberg 1675)', '1675'), ('E000077', 'Trifolium Inaugurationis (Wittenberg 1675)', '1675'), ('E000078', 'Das fröliche Halleluja (Wittenberg 1675)', '1675'), ('E000079', 'Denck- und Danck-Säule (Rothenburg ob der Tauber [1673])', '1673 [s.a.]'), ('E000080', 'Orgel=Predigt (Gießen 1678)', '1678'), ('E000081', 'Orgel Predigt (Hermannstadt 1673)', '1673'), ('E000082', 'Geistliches Orgelwerk (Erfurt 1672)', '1672'), ('E000083', 'Das Gott=Lob=Schallende Hosianna (Leipzig 1671)', '1671'), ('E000084', 'Organographia', '1669'), ('E000085', 'Das fröliche Hallelujah (Halle 1667)', '1667'), ('E000086', 'Orgel=Predigt (Arnstadt 1666)', '1666'), ('E000087', 'Denck= und Danck=Seule (Jena 1665)', '1665'), ('E000088', 'Christliche Orgel=Predigt (Jena 1665)', '1665'), ('E000089', 'Encoenia HierOrganica (Halle 1664)', '1664'), ('E000090', 'Organolustria Evangelico-Stambachiana (Hof 1660)', '1660'), ('E000091', 'Stolpenische Ehren-Crone (Dresden 1652)', '1652'), ('E000092', 'Organologismos (Dresden 1651)', '1651'), ('E000093', 'Organorum Et Nundinarum Consecratio (Hof 1651)', '1651'), ('E000094', 'Des Friedens=Tempels Edler Bau (Dresden 1650)', '1650'), ('E000095', 'Längst=gewüntzschte Mittweidische Orgel=Freude (Dresden 1648)', '1648'), ('E000096', 'Kostbare Bosische Orgel (Zwickau 1647)', '1647'), ('E000097', 'Kostbare Bosische Orgel (Dresden / Leipzig 1732)', '1732'), ('E000098', 'Musica ecclesiastica (Stettin 1628)', '1628'), ('E000099', 'Corona Templi (Nürnberg 1621)', '1621'), ('E000100', 'Kirchweih= oder Orgel=Predigt (Frankfurt a. M. / Leipzig 1669)', '1669'), ('E000101', 'Music-Büchlein (Lüneburg 1631)', '1631'), ('E000102', 'Organi Laudes (Eisenberg 1702)', '1702'), ('E000103', '[Orgelpredigt] (Ulm 1758)', '1758'), ('E000104', 'Evangelischer Christen Gott-gefällige Kirch-Weyhung (Dresden 1711)', '1711'), ('E000105', 'Weyhungsrede für die neugebauete Orgel (Frankfurt a. Main 1798)', '1798'), ('E000106', 'Die andere Predigt (Coburg 1676)', '1676'), ('E000107', 'Music-Büchleins Ander Theil (Lüneburg 1631)', '1631'), ('E000108', 'Organi Laudes (Plauen 1685)', '1685'), ('E000109', 'Stimme des Predigers (1737)', '1737'), ('E000110', 'Die edle und wohlgeordnete Music der Gläubigen (Berlin 1726)', '1726')]\n"
     ]
    }
   ],
   "source": [
    "cursor.execute(f\"SELECT e00id, e00kurztitel, e00jahr FROM e00_orgelpredigten\")\n",
    "results = cursor.fetchall()\n",
    "print(results)"
   ]
  },
  {
   "cell_type": "code",
   "execution_count": 52,
   "id": "e3c9fb61",
   "metadata": {},
   "outputs": [],
   "source": [
    "predigten_übersicht = {}\n",
    "for i in results:\n",
    "    a = {}\n",
    "    a[\"title\"] = i[1]\n",
    "    a[\"year\"] = i[2]\n",
    "    predigten_übersicht[i[0]] = a"
   ]
  },
  {
   "cell_type": "code",
   "execution_count": 53,
   "id": "51c5803c",
   "metadata": {},
   "outputs": [],
   "source": [
    "path = 'sermon_tables/'\n",
    "files = [file[:-4] for file in os.listdir(path)]"
   ]
  },
  {
   "cell_type": "code",
   "execution_count": 54,
   "id": "645a35db",
   "metadata": {},
   "outputs": [
    {
     "data": {
      "text/plain": [
       "['E000020',\n",
       " 'E000075',\n",
       " 'E000003',\n",
       " 'E000083',\n",
       " 'E000069',\n",
       " 'E000024',\n",
       " 'E000046',\n",
       " 'E000038',\n",
       " 'E000061',\n",
       " 'E000015',\n",
       " 'E000098',\n",
       " 'E000035',\n",
       " 'E000055',\n",
       " 'E000045',\n",
       " 'E000021',\n",
       " 'E000072',\n",
       " 'E000086',\n",
       " 'E000016',\n",
       " 'E000085',\n",
       " 'E000009',\n",
       " 'E000082',\n",
       " 'E000051',\n",
       " 'E000039',\n",
       " 'E000096',\n",
       " 'E000036',\n",
       " 'E000099',\n",
       " 'E000073',\n",
       " 'E000027',\n",
       " 'E000060',\n",
       " 'E000002',\n",
       " 'E000109',\n",
       " 'E000089',\n",
       " 'E000074',\n",
       " 'E000058',\n",
       " 'E000053',\n",
       " 'E000070',\n",
       " 'E000042',\n",
       " 'E000091',\n",
       " 'E000057',\n",
       " 'E000104',\n",
       " 'E000078',\n",
       " 'E000001',\n",
       " 'E000037',\n",
       " 'E000007',\n",
       " 'E000108',\n",
       " 'E000030',\n",
       " 'E000068',\n",
       " 'E000008',\n",
       " 'E000034',\n",
       " 'E000090',\n",
       " 'E000014',\n",
       " 'E000067',\n",
       " 'E000059',\n",
       " 'E000095',\n",
       " 'E000041',\n",
       " 'E000092',\n",
       " 'E000052',\n",
       " 'E000063',\n",
       " 'E000056',\n",
       " 'E000048',\n",
       " 'E000029',\n",
       " 'E000065',\n",
       " 'E000106',\n",
       " 'E000023',\n",
       " 'E000079']"
      ]
     },
     "execution_count": 54,
     "metadata": {},
     "output_type": "execute_result"
    }
   ],
   "source": [
    "files"
   ]
  },
  {
   "cell_type": "code",
   "execution_count": 55,
   "id": "544e9a31",
   "metadata": {},
   "outputs": [],
   "source": [
    "for i in files:\n",
    "    if i not in predigten_übersicht:\n",
    "        print(i)\n",
    "        del predigten_übersicht[i]"
   ]
  },
  {
   "cell_type": "code",
   "execution_count": 56,
   "id": "ff6bf6b6",
   "metadata": {},
   "outputs": [
    {
     "name": "stdout",
     "output_type": "stream",
     "text": [
      "{'E000001': {'title': 'Christliche Predigt (Tübingen 1602)', 'year': '1602'}, 'E000002': {'title': 'Musica instrumentalis (Meißen 1605)', 'year': '1605'}, 'E000003': {'title': 'Vlmische Orgel Predigt (Ulm 1624)', 'year': '1624'}, 'E000004': {'title': 'Vlmische Orgel Predigt (Ulm / Frankfurt a. M. 1625)', 'year': '1625'}, 'E000005': {'title': 'Kirchweih= oder Orgel=Predigt (Leipzig 1632)', 'year': '1632'}, 'E000006': {'title': 'Eine Predigt bey der Einweihung der neuerbauten Orgel (Magdeburg 1798)', 'year': '1798'}, 'E000007': {'title': 'Predigt bey der feyerlichen Einweihung der neuen Orgel (Magdeburg 1798)', 'year': '1798'}, 'E000008': {'title': 'Predigt Bey der Einweihung einer Orgel (Leipzig 1797)', 'year': '1797'}, 'E000009': {'title': 'Predigt bey Einweyhung der Orgel (s.l. 1795)', 'year': '1795'}, 'E000010': {'title': 'Ermunterung den öffentlichen Gottesdienst in Ehren zu halten (Frankfurt an der Oder s.a.)', 'year': '1789 [s.a.]'}, 'E000011': {'title': 'Die grossen Vortheile eines wohlgeordneten Kirchengesangs', 'year': '1785'}, 'E000012': {'title': 'Predigt bey der Einweihung der neuerbaueten Orgel (Halle 1784)', 'year': '1784'}, 'E000013': {'title': 'Predigt bey Einweihung einer neuen Orgel (Altenburg 1782)', 'year': '1782'}, 'E000014': {'title': 'Gast-Predigt (Ulm 1781)', 'year': '1781'}, 'E000015': {'title': 'Rede und Predigt bey Einweihung der neuen Orgel (Stockholm 1781)', 'year': '1781'}, 'E000016': {'title': 'Der Dienst der Orgeln (Jena 1778)', 'year': '1778'}, 'E000017': {'title': 'Einweihungspredigt (Berlin 1775)', 'year': '1775'}, 'E000018': {'title': 'Die vortrefliche Nachtmusik (Arnstadt 1774)', 'year': '1774'}, 'E000019': {'title': '[Orgelpredigt] (Stettin 1772)', 'year': '1772'}, 'E000020': {'title': 'Predigt am Feste der Heimsuchung Mariae (Rostock 1770)', 'year': '1770'}, 'E000021': {'title': 'Das heilige und fröliche Aufsehen (Tübingen 1767)', 'year': '1767'}, 'E000022': {'title': 'Zeugniße des Friedens und der Freude (Freiberg 1767)', 'year': '1767'}, 'E000023': {'title': 'Der rechte Gebrauch der Orgeln (Altenburg 1766)', 'year': '1766'}, 'E000024': {'title': 'Die heiligen Verrichtungen in dem Hause des Herrn (Eisenach 1765)', 'year': '1765'}, 'E000025': {'title': '[Orgelpredigt]', 'year': '1763 [s.a.]'}, 'E000026': {'title': '[Orgelpredigt]', 'year': '1763 [s.a.]'}, 'E000027': {'title': 'Der Christen gerechte Freude (Breslau 1761)', 'year': '1761'}, 'E000028': {'title': 'Von der weisen und treuen Hand Gottes (Danzig 1761)', 'year': '1761'}, 'E000029': {'title': 'Christliche Predigt (Tübingen 1606)', 'year': '1606'}, 'E000030': {'title': 'Elogium Organi Musici (Altenburg 1610)', 'year': '1610'}, 'E000031': {'title': 'Musica Christiana (Leipzig 1615)', 'year': '1615'}, 'E000032': {'title': '[Orgelpredigt] (Breslau 1756)', 'year': '1756'}, 'E000033': {'title': 'Heiligung der Herzen (Königsberg 1755)', 'year': '1755'}, 'E000034': {'title': 'Lob= und Danck=Predigt (Berlin 1753)', 'year': '1753'}, 'E000035': {'title': 'Musicalische Orgel= Lob= und Ehren=Predigt (s.l. 1751)', 'year': '1751'}, 'E000036': {'title': 'Die heilige Sabbaths-Lust an dem Herrn (Danzig 1749)', 'year': '1749'}, 'E000037': {'title': 'Christliche Predigt (Straßburg 1749)', 'year': '1749'}, 'E000038': {'title': 'Den rechtmäßigen Gebrauch der Music (Königsberg 1747)', 'year': '1747'}, 'E000039': {'title': 'Winnedisches Reminiscere (Stuttgart 1740)', 'year': '1740'}, 'E000040': {'title': 'Die sich über das Gute Freuende Heiligen (Pirna 1740)', 'year': '1740'}, 'E000041': {'title': 'Die Billige Orgel-Freude (Danzig 1739)', 'year': '1739'}, 'E000042': {'title': 'Das Neue Lied (Freiberg 1735)', 'year': '1735'}, 'E000043': {'title': 'Die Dem Herrn von neuem geweyhte Heilige Wohnung (Esslingen 1733)', 'year': '1733'}, 'E000044': {'title': 'Das Lust-Spiel der ewigen Weisheit (Stettin 1731)', 'year': '1731'}, 'E000045': {'title': 'Hymnosophia sacra (Billwerder 1728)', 'year': '1728'}, 'E000046': {'title': 'Die edle und wohlgeordnete Music der Gläubigen (Halle 1727)', 'year': '1727'}, 'E000047': {'title': 'Die edle und wohlgeordnete Music der Gläubigen (Halle 1735)', 'year': '1735'}, 'E000048': {'title': 'Die verstimmte Zwölff Grösseste Pfeiffen (Tübingen s.a.)', 'year': '1726 [s.a.]'}, 'E000049': {'title': 'Die verstimmte Zwölff Grösseste Pfeiffen (Tübingen 1740)', 'year': '1740'}, 'E000050': {'title': 'Erfreuliche Weihnachten (Halle 1722)', 'year': '1722'}, 'E000051': {'title': 'Die Kneiphöffsche laute Orgel=Stimme (Königsberg 1721)', 'year': '1721'}, 'E000052': {'title': 'Ein wolgerührtes Orgel=Werck (Königsberg 1721)', 'year': '1721'}, 'E000053': {'title': 'Vivum Dei Organum (Schneeberg s.a.)', 'year': '1720 [s.a.]'}, 'E000054': {'title': 'Des Gott=ergebenen Davids Freygebiges Anbieten (Lübeck 1718)', 'year': '1718'}, 'E000055': {'title': 'Davids Vermahnung (Dresden 1711)', 'year': '1711'}, 'E000056': {'title': 'Orgel Weih-Predigt (Ansbach 1709)', 'year': '1709'}, 'E000057': {'title': 'Das rein-gestimmte Orgel-Werk unsers Herzens (Nürnberg s.a.)', 'year': '1709 [s.a.]'}, 'E000058': {'title': 'Christliche Orgel-Predigt (Danzig s.a.)', 'year': '1704 [s.a.]'}, 'E000059': {'title': 'Einweihungs-Predigt (Görlitz 1704)', 'year': '1704'}, 'E000060': {'title': 'Die Christliche Harmonie (Jena 1700)', 'year': '1700'}, 'E000061': {'title': 'Einweihungs-Predigt (Berlin 1730)', 'year': '1730'}, 'E000062': {'title': 'Desiderivm Cvltvs Pvblici Davidicvm (Altdorf 1700)', 'year': '1700'}, 'E000063': {'title': 'Schuldiges Lob Gottes (Nürnberg 1696)', 'year': '1696'}, 'E000065': {'title': 'Eine Christliche Orgel=Predigt (Danzig 1695)', 'year': '1695'}, 'E000066': {'title': 'Organon Spirituale (Gotha 1690)', 'year': '1690'}, 'E000067': {'title': 'Organo-Praxis Mystica (Görlitz 1689)', 'year': '1689'}, 'E000068': {'title': 'Das dem Allmächtigen abzustattende Lob (Altenburg s.a.)', 'year': '1687 [s.a.]'}, 'E000069': {'title': 'Organum Mysticum (Dresden 1686)', 'year': '1686'}, 'E000070': {'title': 'Cithara Theologica (Schleusingen 1683)', 'year': '1683'}, 'E000071': {'title': 'Engel-Schall der Kirchen (Gotha 1682)', 'year': '1682'}, 'E000072': {'title': 'Gott und Gnug (Meißen 1681)', 'year': '1681'}, 'E000073': {'title': 'Geistlich= und Gott wohlgefälliges Lob- und Danck-Opffer (Bayreuth 1680)', 'year': '1680'}, 'E000074': {'title': 'Glaubiger Kinder Gottes Gott=gefällige Music (Augsburg 1721)', 'year': '1721'}, 'E000075': {'title': 'Das Lieblich=klingende Orgeln und Saiten=Spiel (Coburg 1676)', 'year': '1676'}, 'E000076': {'title': 'Einweyhungs=Predigt (Wittenberg 1675)', 'year': '1675'}, 'E000077': {'title': 'Trifolium Inaugurationis (Wittenberg 1675)', 'year': '1675'}, 'E000078': {'title': 'Das fröliche Halleluja (Wittenberg 1675)', 'year': '1675'}, 'E000079': {'title': 'Denck- und Danck-Säule (Rothenburg ob der Tauber [1673])', 'year': '1673 [s.a.]'}, 'E000080': {'title': 'Orgel=Predigt (Gießen 1678)', 'year': '1678'}, 'E000081': {'title': 'Orgel Predigt (Hermannstadt 1673)', 'year': '1673'}, 'E000082': {'title': 'Geistliches Orgelwerk (Erfurt 1672)', 'year': '1672'}, 'E000083': {'title': 'Das Gott=Lob=Schallende Hosianna (Leipzig 1671)', 'year': '1671'}, 'E000084': {'title': 'Organographia', 'year': '1669'}, 'E000085': {'title': 'Das fröliche Hallelujah (Halle 1667)', 'year': '1667'}, 'E000086': {'title': 'Orgel=Predigt (Arnstadt 1666)', 'year': '1666'}, 'E000087': {'title': 'Denck= und Danck=Seule (Jena 1665)', 'year': '1665'}, 'E000088': {'title': 'Christliche Orgel=Predigt (Jena 1665)', 'year': '1665'}, 'E000089': {'title': 'Encoenia HierOrganica (Halle 1664)', 'year': '1664'}, 'E000090': {'title': 'Organolustria Evangelico-Stambachiana (Hof 1660)', 'year': '1660'}, 'E000091': {'title': 'Stolpenische Ehren-Crone (Dresden 1652)', 'year': '1652'}, 'E000092': {'title': 'Organologismos (Dresden 1651)', 'year': '1651'}, 'E000093': {'title': 'Organorum Et Nundinarum Consecratio (Hof 1651)', 'year': '1651'}, 'E000094': {'title': 'Des Friedens=Tempels Edler Bau (Dresden 1650)', 'year': '1650'}, 'E000095': {'title': 'Längst=gewüntzschte Mittweidische Orgel=Freude (Dresden 1648)', 'year': '1648'}, 'E000096': {'title': 'Kostbare Bosische Orgel (Zwickau 1647)', 'year': '1647'}, 'E000097': {'title': 'Kostbare Bosische Orgel (Dresden / Leipzig 1732)', 'year': '1732'}, 'E000098': {'title': 'Musica ecclesiastica (Stettin 1628)', 'year': '1628'}, 'E000099': {'title': 'Corona Templi (Nürnberg 1621)', 'year': '1621'}, 'E000100': {'title': 'Kirchweih= oder Orgel=Predigt (Frankfurt a. M. / Leipzig 1669)', 'year': '1669'}, 'E000101': {'title': 'Music-Büchlein (Lüneburg 1631)', 'year': '1631'}, 'E000102': {'title': 'Organi Laudes (Eisenberg 1702)', 'year': '1702'}, 'E000103': {'title': '[Orgelpredigt] (Ulm 1758)', 'year': '1758'}, 'E000104': {'title': 'Evangelischer Christen Gott-gefällige Kirch-Weyhung (Dresden 1711)', 'year': '1711'}, 'E000105': {'title': 'Weyhungsrede für die neugebauete Orgel (Frankfurt a. Main 1798)', 'year': '1798'}, 'E000106': {'title': 'Die andere Predigt (Coburg 1676)', 'year': '1676'}, 'E000107': {'title': 'Music-Büchleins Ander Theil (Lüneburg 1631)', 'year': '1631'}, 'E000108': {'title': 'Organi Laudes (Plauen 1685)', 'year': '1685'}, 'E000109': {'title': 'Stimme des Predigers (1737)', 'year': '1737'}, 'E000110': {'title': 'Die edle und wohlgeordnete Music der Gläubigen (Berlin 1726)', 'year': '1726'}}\n"
     ]
    }
   ],
   "source": [
    "print(predigten_übersicht)"
   ]
  },
  {
   "cell_type": "code",
   "execution_count": 57,
   "id": "0df89aef",
   "metadata": {},
   "outputs": [],
   "source": [
    "predigten_übersicht = {k: v for k, v in predigten_übersicht.items() if k in files}"
   ]
  },
  {
   "cell_type": "code",
   "execution_count": 58,
   "id": "a6677dce",
   "metadata": {},
   "outputs": [],
   "source": [
    "with open(\"predigten_übersicht.json\", \"w\") as file: \n",
    "    json.dump(predigten_übersicht, file, ensure_ascii=False, indent=2)"
   ]
  },
  {
   "cell_type": "code",
   "execution_count": 59,
   "id": "7b619c98",
   "metadata": {},
   "outputs": [],
   "source": [
    "with open(\"predigten_übersicht.json\", \"r\", encoding=\"utf-8\") as file: \n",
    "    data = json.load(file)"
   ]
  },
  {
   "cell_type": "code",
   "execution_count": 60,
   "id": "a01109a1",
   "metadata": {},
   "outputs": [
    {
     "data": {
      "text/plain": [
       "'1602'"
      ]
     },
     "execution_count": 60,
     "metadata": {},
     "output_type": "execute_result"
    }
   ],
   "source": [
    "data['E000001']['year']"
   ]
  },
  {
   "cell_type": "code",
   "execution_count": 61,
   "id": "502e1168",
   "metadata": {},
   "outputs": [
    {
     "name": "stdout",
     "output_type": "stream",
     "text": [
      "[['E000001', 'Christliche Predigt (Tübingen 1602)', 1602], ['E000002', 'Musica instrumentalis (Meißen 1605)', 1605], ['E000029', 'Christliche Predigt (Tübingen 1606)', 1606], ['E000030', 'Elogium Organi Musici (Altenburg 1610)', 1610], ['E000099', 'Corona Templi (Nürnberg 1621)', 1621], ['E000003', 'Vlmische Orgel Predigt (Ulm 1624)', 1624], ['E000098', 'Musica ecclesiastica (Stettin 1628)', 1628], ['E000096', 'Kostbare Bosische Orgel (Zwickau 1647)', 1647], ['E000095', 'Längst=gewüntzschte Mittweidische Orgel=Freude (Dresden 1648)', 1648], ['E000092', 'Organologismos (Dresden 1651)', 1651], ['E000091', 'Stolpenische Ehren-Crone (Dresden 1652)', 1652], ['E000090', 'Organolustria Evangelico-Stambachiana (Hof 1660)', 1660], ['E000089', 'Encoenia HierOrganica (Halle 1664)', 1664], ['E000086', 'Orgel=Predigt (Arnstadt 1666)', 1666], ['E000085', 'Das fröliche Hallelujah (Halle 1667)', 1667], ['E000083', 'Das Gott=Lob=Schallende Hosianna (Leipzig 1671)', 1671], ['E000082', 'Geistliches Orgelwerk (Erfurt 1672)', 1672], ['E000079', 'Denck- und Danck-Säule (Rothenburg ob der Tauber [1673])', 1673], ['E000078', 'Das fröliche Halleluja (Wittenberg 1675)', 1675], ['E000075', 'Das Lieblich=klingende Orgeln und Saiten=Spiel (Coburg 1676)', 1676], ['E000106', 'Die andere Predigt (Coburg 1676)', 1676], ['E000073', 'Geistlich= und Gott wohlgefälliges Lob- und Danck-Opffer (Bayreuth 1680)', 1680], ['E000072', 'Gott und Gnug (Meißen 1681)', 1681], ['E000070', 'Cithara Theologica (Schleusingen 1683)', 1683], ['E000108', 'Organi Laudes (Plauen 1685)', 1685], ['E000069', 'Organum Mysticum (Dresden 1686)', 1686], ['E000068', 'Das dem Allmächtigen abzustattende Lob (Altenburg s.a.)', 1687], ['E000067', 'Organo-Praxis Mystica (Görlitz 1689)', 1689], ['E000065', 'Eine Christliche Orgel=Predigt (Danzig 1695)', 1695], ['E000063', 'Schuldiges Lob Gottes (Nürnberg 1696)', 1696], ['E000060', 'Die Christliche Harmonie (Jena 1700)', 1700], ['E000058', 'Christliche Orgel-Predigt (Danzig s.a.)', 1704], ['E000059', 'Einweihungs-Predigt (Görlitz 1704)', 1704], ['E000056', 'Orgel Weih-Predigt (Ansbach 1709)', 1709], ['E000057', 'Das rein-gestimmte Orgel-Werk unsers Herzens (Nürnberg s.a.)', 1709], ['E000055', 'Davids Vermahnung (Dresden 1711)', 1711], ['E000104', 'Evangelischer Christen Gott-gefällige Kirch-Weyhung (Dresden 1711)', 1711], ['E000053', 'Vivum Dei Organum (Schneeberg s.a.)', 1720], ['E000051', 'Die Kneiphöffsche laute Orgel=Stimme (Königsberg 1721)', 1721], ['E000052', 'Ein wolgerührtes Orgel=Werck (Königsberg 1721)', 1721], ['E000074', 'Glaubiger Kinder Gottes Gott=gefällige Music (Augsburg 1721)', 1721], ['E000048', 'Die verstimmte Zwölff Grösseste Pfeiffen (Tübingen s.a.)', 1726], ['E000046', 'Die edle und wohlgeordnete Music der Gläubigen (Halle 1727)', 1727], ['E000045', 'Hymnosophia sacra (Billwerder 1728)', 1728], ['E000061', 'Einweihungs-Predigt (Berlin 1730)', 1730], ['E000042', 'Das Neue Lied (Freiberg 1735)', 1735], ['E000109', 'Stimme des Predigers (1737)', 1737], ['E000041', 'Die Billige Orgel-Freude (Danzig 1739)', 1739], ['E000039', 'Winnedisches Reminiscere (Stuttgart 1740)', 1740], ['E000038', 'Den rechtmäßigen Gebrauch der Music (Königsberg 1747)', 1747], ['E000036', 'Die heilige Sabbaths-Lust an dem Herrn (Danzig 1749)', 1749], ['E000037', 'Christliche Predigt (Straßburg 1749)', 1749], ['E000035', 'Musicalische Orgel= Lob= und Ehren=Predigt (s.l. 1751)', 1751], ['E000034', 'Lob= und Danck=Predigt (Berlin 1753)', 1753], ['E000027', 'Der Christen gerechte Freude (Breslau 1761)', 1761], ['E000024', 'Die heiligen Verrichtungen in dem Hause des Herrn (Eisenach 1765)', 1765], ['E000023', 'Der rechte Gebrauch der Orgeln (Altenburg 1766)', 1766], ['E000021', 'Das heilige und fröliche Aufsehen (Tübingen 1767)', 1767], ['E000020', 'Predigt am Feste der Heimsuchung Mariae (Rostock 1770)', 1770], ['E000016', 'Der Dienst der Orgeln (Jena 1778)', 1778], ['E000014', 'Gast-Predigt (Ulm 1781)', 1781], ['E000015', 'Rede und Predigt bey Einweihung der neuen Orgel (Stockholm 1781)', 1781], ['E000009', 'Predigt bey Einweyhung der Orgel (s.l. 1795)', 1795], ['E000008', 'Predigt Bey der Einweihung einer Orgel (Leipzig 1797)', 1797], ['E000007', 'Predigt bey der feyerlichen Einweihung der neuen Orgel (Magdeburg 1798)', 1798]]\n"
     ]
    }
   ],
   "source": [
    "# Ensure all entries have a 'year' key\n",
    "cleaned = {k: v for k, v in data.items() if 'year' in v}\n",
    "\n",
    "year_finder = re.compile(r'[0-9]{4}')\n",
    "\n",
    "for k, v in data.items():\n",
    "    year = re.findall(year_finder, v['year'])[0]\n",
    "    if year:\n",
    "        v['year'] = year\n",
    "    else:\n",
    "        v['year'] = '[s.a.]'\n",
    "\n",
    "# Convert to nested list and sort by year\n",
    "relevant_sermons = sorted(\n",
    "    [[key, value['title'], int(value['year'])] for key, value in cleaned.items()],\n",
    "    key=lambda x: x[2]\n",
    ")\n",
    "\n",
    "print(relevant_sermons)\n"
   ]
  },
  {
   "cell_type": "code",
   "execution_count": 62,
   "id": "1fa75e3e",
   "metadata": {},
   "outputs": [
    {
     "name": "stdout",
     "output_type": "stream",
     "text": [
      "E000001\n"
     ]
    }
   ],
   "source": [
    "x = \"Christliche Predigt (Tübingen 1602) -- E000001\"\n",
    "print(x[-7:])"
   ]
  },
  {
   "cell_type": "code",
   "execution_count": 63,
   "id": "5daf8f5c",
   "metadata": {},
   "outputs": [
    {
     "data": {
      "text/plain": [
       "['Weish_11-21',\n",
       " 'Weish_11-21',\n",
       " 'Weish_11-21',\n",
       " 'Weish_11-21',\n",
       " 'Weish_11-21',\n",
       " 'Weish_11-21',\n",
       " 'Weish_11-21',\n",
       " 'Weish_11-21',\n",
       " 'Ps_111-3',\n",
       " 'Ps_111-3',\n",
       " 'Ps_111-3',\n",
       " 'Ps_111-3',\n",
       " 'Ps_111-3',\n",
       " 'Ps_111-3',\n",
       " 'Ps_111-3',\n",
       " 'Ps_111-3',\n",
       " 'Ps_150',\n",
       " 'Ps_150',\n",
       " 'Ps_150',\n",
       " 'Ps_150',\n",
       " 'Ps_150',\n",
       " 'Ps_150',\n",
       " 'Ps_150',\n",
       " 'Ps_150',\n",
       " 'Ps_150',\n",
       " 'Ps_150',\n",
       " 'Ps_150',\n",
       " 'Ps_150',\n",
       " 'Ps_150',\n",
       " 'Ps_150',\n",
       " 'Ps_150',\n",
       " 'Ps_150',\n",
       " 'Ps_150',\n",
       " 'Ps_150',\n",
       " 'Ps_150',\n",
       " 'Ps_150',\n",
       " 'Ps_150',\n",
       " 'Ps_150',\n",
       " 'Ps_150',\n",
       " 'Ps_150',\n",
       " 'Ps_150',\n",
       " 'Ps_150',\n",
       " 'Ps_150',\n",
       " 'Ps_150',\n",
       " 'Ps_150',\n",
       " 'Ps_150',\n",
       " 'Ps_150',\n",
       " 'Ps_150',\n",
       " 'Ps_150',\n",
       " 'Ps_150',\n",
       " 'Ps_150',\n",
       " 'Ps_150',\n",
       " 'Ps_150',\n",
       " 'Ps_150',\n",
       " 'Ps_150',\n",
       " 'Ps_150',\n",
       " 'Ps_150',\n",
       " 'Ps_150',\n",
       " 'Ps_150',\n",
       " 'Ps_150',\n",
       " 'Ps_150',\n",
       " 'Ps_150',\n",
       " 'Ps_150',\n",
       " 'Ps_150',\n",
       " 'Ps_150',\n",
       " 'Ps_150',\n",
       " 'Ps_150',\n",
       " 'Ps_150',\n",
       " 'Ps_150',\n",
       " 'Ps_150',\n",
       " 'Ps_150',\n",
       " 'Ps_150',\n",
       " 'Ps_150',\n",
       " 'Ps_150',\n",
       " 'Ps_150',\n",
       " 'Ps_150',\n",
       " 'Ps_150',\n",
       " 'Ps_150',\n",
       " 'Ps_150',\n",
       " 'Ps_150',\n",
       " 'Kol_3-16',\n",
       " 'Kol_3-16',\n",
       " 'Kol_3-16',\n",
       " 'Kol_3-16',\n",
       " 'Kol_3-16',\n",
       " 'Kol_3-16',\n",
       " 'Kol_3-16',\n",
       " 'Kol_3-16',\n",
       " 'Kol_3-16',\n",
       " 'Kol_3-16',\n",
       " 'Kol_3-16',\n",
       " 'Kol_3-16',\n",
       " 'Kol_3-16',\n",
       " 'Kol_3-16',\n",
       " 'Kol_3-16',\n",
       " 'Kol_3-16',\n",
       " 'Kol_3-16',\n",
       " 'Kol_3-16',\n",
       " 'Kol_3-16',\n",
       " 'Kol_3-16',\n",
       " 'Kol_3-16',\n",
       " 'Kol_3-16',\n",
       " 'Kol_3-16',\n",
       " 'Kol_3-16',\n",
       " 'Kol_3-16',\n",
       " 'Kol_3-16',\n",
       " 'Kol_3-16',\n",
       " 'Kol_3-16',\n",
       " 'Kol_3-16',\n",
       " 'Kol_3-16',\n",
       " 'Kol_3-16',\n",
       " 'Eph_5-18.19',\n",
       " 'Eph_5-18.19',\n",
       " 'Eph_5-18.19',\n",
       " 'Eph_5-18.19',\n",
       " 'Eph_5-18.19',\n",
       " 'Eph_5-18.19',\n",
       " 'Eph_5-18.19',\n",
       " 'Eph_5-18.19',\n",
       " 'Eph_5-18.19',\n",
       " 'Eph_5-18.19',\n",
       " 'Eph_5-18.19',\n",
       " 'Eph_5-18.19',\n",
       " 'Eph_5-18.19',\n",
       " 'Eph_5-18.19',\n",
       " 'Eph_5-18.19',\n",
       " 'Eph_5-18.19',\n",
       " 'Eph_5-18.19',\n",
       " 'Eph_5-18.19',\n",
       " 'Eph_5-18.19',\n",
       " 'Eph_5-18.19',\n",
       " 'Eph_5-18.19',\n",
       " 'Eph_5-18.19',\n",
       " 'Jak_5-13',\n",
       " 'Jak_5-13',\n",
       " 'Jak_5-13',\n",
       " 'Jak_5-13',\n",
       " 'Jak_5-13',\n",
       " 'Jak_5-13',\n",
       " 'Jak_5-13',\n",
       " '1Sam_16-23',\n",
       " '1Sam_16-23',\n",
       " '1Sam_16-23',\n",
       " '1Sam_16-23',\n",
       " '1Sam_16-23',\n",
       " '1Sam_16-23',\n",
       " '1Sam_16-23',\n",
       " '1Sam_16-23',\n",
       " '1Sam_16-23',\n",
       " '1Sam_16-23',\n",
       " '1Sam_16-23',\n",
       " '1Sam_16-23',\n",
       " '1Sam_16-23',\n",
       " '1Sam_16-23',\n",
       " '1Sam_16-23',\n",
       " '1Sam_16-23',\n",
       " '1Sam_16-23',\n",
       " '1Sam_16-23',\n",
       " '1Sam_16-23',\n",
       " '1Sam_16-23',\n",
       " '1Sam_16-23',\n",
       " '1Sam_16-23',\n",
       " '1Sam_16-23',\n",
       " '1Sam_16-23',\n",
       " '1Sam_16-23',\n",
       " '1Sam_16-23',\n",
       " '1Sam_16-23',\n",
       " '1Sam_16-23',\n",
       " '1Sam_16-23',\n",
       " '1Sam_16-23',\n",
       " '1Sam_16-23',\n",
       " '1Sam_16-23',\n",
       " '1Sam_16-23',\n",
       " 'Ps_4-1',\n",
       " 'Ps_4-1',\n",
       " 'Ps_4-1',\n",
       " 'Ps_4-1',\n",
       " 'Ps_4-1',\n",
       " 'Ps_4-1',\n",
       " 'Ps_6-1',\n",
       " 'Ps_12-1',\n",
       " 'Ps_12-1',\n",
       " 'Ps_12-1',\n",
       " 'Ps_12-1',\n",
       " 'Ps_12-1',\n",
       " 'Ps_12-1',\n",
       " 'Ps_12-1',\n",
       " '2Sam_6-4.5',\n",
       " '2Sam_6-4.5',\n",
       " '2Sam_6-4.5',\n",
       " '2Sam_6-4.5',\n",
       " '2Sam_6-4.5',\n",
       " '2Sam_6-4.5',\n",
       " '2Sam_6-4.5',\n",
       " '2Sam_6-4.5',\n",
       " '2Sam_6-4.5',\n",
       " '2Sam_6-4.5',\n",
       " '2Sam_6-4.5',\n",
       " '2Sam_6-4.5',\n",
       " '2Sam_6-4.5',\n",
       " '2Sam_6-4.5',\n",
       " '2Sam_6-4.5',\n",
       " '2Sam_6-4.5',\n",
       " '2Sam_6-4.5',\n",
       " '2Sam_6-4.5',\n",
       " '2Sam_6-4.5',\n",
       " '2Sam_6-4.5',\n",
       " '2Sam_6-4.5',\n",
       " '2Sam_6-4.5',\n",
       " '2Sam_6-4.5',\n",
       " '2Sam_6-4.5',\n",
       " '2Sam_6-4.5',\n",
       " '2Sam_6-4.5',\n",
       " '2Sam_6-4.5',\n",
       " '2Sam_6-4.5',\n",
       " '2Sam_6-4.5',\n",
       " '2Sam_6-4.5',\n",
       " '2Sam_6-4.5',\n",
       " '2Sam_6-4.5',\n",
       " '2Sam_6-4.5',\n",
       " '2Sam_6-4.5',\n",
       " '2Sam_6-4.5',\n",
       " '2Sam_6-4.5',\n",
       " '2Sam_6-4.5',\n",
       " '2Sam_6-4.5',\n",
       " '2Sam_6-4.5',\n",
       " '2Sam_6-4.5',\n",
       " '2Chr_7-5',\n",
       " '2Chr_7-5',\n",
       " '2Chr_7-5',\n",
       " '2Chr_7-5',\n",
       " '2Chr_7-5',\n",
       " '2Chr_7-5',\n",
       " '2Chr_7-5',\n",
       " '2Chr_7-5',\n",
       " '2Chr_7-5',\n",
       " '2Chr_7-5',\n",
       " '2Chr_7-5',\n",
       " '2Chr_7-5',\n",
       " '2Chr_7-5',\n",
       " '2Chr_7-5',\n",
       " '2Chr_7-5',\n",
       " '2Chr_7-5',\n",
       " '2Chr_7-5',\n",
       " '2Chr_7-5',\n",
       " '2Chr_7-5',\n",
       " '2Chr_7-5',\n",
       " '2Chr_7-5',\n",
       " '2Chr_7-5',\n",
       " '2Chr_7-5',\n",
       " '2Chr_7-5',\n",
       " '2Chr_7-5',\n",
       " '2Chr_7-5',\n",
       " '2Chr_7-5',\n",
       " '2Chr_7-5',\n",
       " '2Chr_7-5',\n",
       " '2Chr_20-28',\n",
       " '2Chr_20-28',\n",
       " '2Chr_20-28',\n",
       " '2Chr_20-28',\n",
       " '2Chr_20-28',\n",
       " '2Chr_20-28',\n",
       " '2Chr_20-28',\n",
       " '2Chr_20-28',\n",
       " '2Chr_20-28',\n",
       " '2Chr_20-28',\n",
       " '2Chr_20-28',\n",
       " '2Chr_20-28',\n",
       " 'Neh_12-27',\n",
       " 'Neh_12-27',\n",
       " 'Neh_12-27',\n",
       " 'Neh_12-27',\n",
       " 'Neh_12-27',\n",
       " 'Neh_12-27',\n",
       " 'Neh_12-27',\n",
       " 'Neh_12-27',\n",
       " 'Neh_12-27',\n",
       " 'Neh_12-27',\n",
       " 'Neh_12-27',\n",
       " 'Neh_12-27',\n",
       " 'Neh_12-27',\n",
       " 'Neh_12-27',\n",
       " 'Neh_12-27',\n",
       " '2Kön_3-15',\n",
       " '2Kön_3-15',\n",
       " '2Kön_3-15',\n",
       " '2Kön_3-15',\n",
       " '2Kön_3-15',\n",
       " '2Kön_3-15',\n",
       " '2Kön_3-15',\n",
       " '2Kön_3-15',\n",
       " '2Kön_3-15',\n",
       " '2Kön_3-15',\n",
       " '2Kön_3-15',\n",
       " '2Kön_3-15',\n",
       " '2Kön_3-15',\n",
       " '2Kön_3-15',\n",
       " '2Kön_3-15',\n",
       " 'E090560',\n",
       " 'E090560',\n",
       " 'E090560',\n",
       " 'E090560',\n",
       " 'E090560',\n",
       " 'E090560',\n",
       " 'E090560',\n",
       " 'E090560',\n",
       " 'E090560',\n",
       " 'E090560',\n",
       " 'E090560',\n",
       " 'E090560',\n",
       " 'E090560',\n",
       " 'E090560',\n",
       " 'E090560',\n",
       " 'E090560',\n",
       " 'E090560',\n",
       " 'E090560',\n",
       " 'E090560',\n",
       " 'E090560',\n",
       " 'E090560',\n",
       " 'E090560',\n",
       " 'E080425',\n",
       " 'E080425',\n",
       " 'E080425',\n",
       " 'E080425',\n",
       " 'E080425',\n",
       " 'E080425',\n",
       " 'E080425',\n",
       " 'E080425',\n",
       " 'E080425',\n",
       " 'E080425',\n",
       " 'E080425',\n",
       " 'E080425',\n",
       " 'E080425',\n",
       " 'E080425',\n",
       " 'E080425',\n",
       " 'E080425',\n",
       " 'E080425',\n",
       " 'E080425',\n",
       " 'E080425',\n",
       " 'E080425',\n",
       " 'E080425',\n",
       " 'E080425',\n",
       " 'E080425',\n",
       " 'E080425',\n",
       " 'E080425',\n",
       " 'E080425',\n",
       " 'E080425',\n",
       " 'E080425',\n",
       " 'E080425',\n",
       " 'E080425',\n",
       " 'E080425',\n",
       " 'E080425',\n",
       " 'E080425',\n",
       " 'E080425',\n",
       " 'E080425',\n",
       " 'E080425',\n",
       " 'E080425',\n",
       " 'E080425',\n",
       " 'E080425',\n",
       " 'E080425',\n",
       " 'E080425',\n",
       " 'E080425',\n",
       " 'E080425',\n",
       " 'E080425',\n",
       " 'E080425',\n",
       " 'E080425',\n",
       " 'E080425',\n",
       " 'E080425',\n",
       " 'E080425',\n",
       " 'E080425',\n",
       " 'E080425',\n",
       " 'E080425',\n",
       " 'E080425',\n",
       " 'E080425',\n",
       " 'E080425',\n",
       " 'E080425',\n",
       " 'E080425',\n",
       " 'E080425',\n",
       " 'E080425',\n",
       " 'E080425',\n",
       " 'E080425',\n",
       " 'E080425',\n",
       " 'E080425',\n",
       " 'E080425',\n",
       " 'E080425',\n",
       " 'E080425',\n",
       " 'E080426',\n",
       " 'E080426',\n",
       " 'E080426',\n",
       " 'E080426',\n",
       " 'E080426',\n",
       " 'E080426',\n",
       " 'E080426',\n",
       " 'E080426',\n",
       " 'E080426',\n",
       " 'E080426',\n",
       " 'E080426',\n",
       " 'E080426',\n",
       " 'E080426',\n",
       " 'E080426',\n",
       " 'E080426',\n",
       " 'E080426',\n",
       " 'E080426',\n",
       " 'E080426',\n",
       " 'E080426',\n",
       " 'E080426',\n",
       " 'E080426',\n",
       " 'E080426',\n",
       " 'E080426',\n",
       " 'E080426',\n",
       " 'E080426',\n",
       " 'E080426',\n",
       " 'E080426',\n",
       " 'E080426',\n",
       " 'E080426',\n",
       " 'E080426',\n",
       " 'E080426',\n",
       " 'E080426',\n",
       " 'E080426',\n",
       " 'E080426',\n",
       " 'E080426',\n",
       " 'E080426',\n",
       " 'E080426',\n",
       " 'E080426',\n",
       " 'E100087',\n",
       " 'E100087',\n",
       " 'E100087',\n",
       " 'E100087',\n",
       " 'E100087',\n",
       " 'E100087',\n",
       " 'Mt_13-34.35',\n",
       " 'Mt_13-34.35',\n",
       " 'Mt_13-34.35',\n",
       " 'Mt_13-34.35',\n",
       " 'Mt_13-34.35',\n",
       " 'Mt_13-34.35',\n",
       " 'Mt_13-34.35',\n",
       " 'Mt_13-34.35',\n",
       " 'Mt_13-34.35',\n",
       " 'Mt_13-34.35',\n",
       " 'Mt_13-34.35',\n",
       " 'Mt_13-34.35',\n",
       " 'Mt_13-34.35',\n",
       " 'Mt_13-34.35',\n",
       " 'Mt_13-34.35',\n",
       " 'Mt_13-34.35',\n",
       " 'Mt_13-34.35',\n",
       " 'Mt_13-34.35',\n",
       " 'Mt_13-34.35',\n",
       " 'Mt_13-34.35',\n",
       " 'Mt_13-34.35',\n",
       " 'Mt_13-34.35',\n",
       " 'Mt_13-34.35',\n",
       " 'Mt_13-34.35',\n",
       " 'Mt_13-34.35',\n",
       " 'Mt_13-34.35',\n",
       " 'Mt_13-34.35',\n",
       " 'Mt_13-34.35',\n",
       " 'Mt_13-34.35',\n",
       " 'Mt_13-34.35',\n",
       " 'Mt_13-34.35',\n",
       " 'Mt_13-34.35',\n",
       " 'Mt_13-34.35',\n",
       " 'Mt_13-34.35',\n",
       " 'Mt_13-34.35',\n",
       " 'Mt_13-34.35',\n",
       " 'Mt_13-34.35',\n",
       " 'Ps_78-2',\n",
       " 'Mt_13-34.35',\n",
       " 'Ps_78-2',\n",
       " 'Mt_13-34.35',\n",
       " 'Ps_78-2',\n",
       " 'Mt_13-34.35',\n",
       " 'Ps_78-2',\n",
       " 'Mt_13-34.35',\n",
       " 'Mt_13-34.35',\n",
       " 'Mt_13-34.35',\n",
       " 'Mt_13-34.35',\n",
       " 'Mt_13-34.35',\n",
       " 'Mt_13-34.35',\n",
       " 'Mt_13-34.35',\n",
       " 'Mt_13-34.35',\n",
       " 'Mt_13-34.35',\n",
       " 'Mt_13-34.35',\n",
       " 'Mt_13-34.35',\n",
       " 'Mt_13-34.35',\n",
       " 'Mt_13-34.35',\n",
       " 'Mt_13-34.35',\n",
       " 'Mt_13-34.35',\n",
       " 'Mt_13-34.35',\n",
       " 'Lk_8-4.5.6.7.8.9.10.11.12.13.14.15',\n",
       " 'Lk_8-4.5.6.7.8.9.10.11.12.13.14.15',\n",
       " 'Lk_8-4.5.6.7.8.9.10.11.12.13.14.15',\n",
       " 'Lk_8-4.5.6.7.8.9.10.11.12.13.14.15',\n",
       " 'Lk_8-4.5.6.7.8.9.10.11.12.13.14.15',\n",
       " 'Lk_8-4.5.6.7.8.9.10.11.12.13.14.15',\n",
       " 'Lk_8-4.5.6.7.8.9.10.11.12.13.14.15',\n",
       " 'Lk_8-4.5.6.7.8.9.10.11.12.13.14.15',\n",
       " 'Lk_8-4.5.6.7.8.9.10.11.12.13.14.15',\n",
       " 'Lk_8-4.5.6.7.8.9.10.11.12.13.14.15',\n",
       " 'Lk_8-4.5.6.7.8.9.10.11.12.13.14.15',\n",
       " 'Lk_8-4.5.6.7.8.9.10.11.12.13.14.15',\n",
       " 'Lk_8-4.5.6.7.8.9.10.11.12.13.14.15',\n",
       " 'Lk_8-4.5.6.7.8.9.10.11.12.13.14.15',\n",
       " 'Lk_8-4.5.6.7.8.9.10.11.12.13.14.15',\n",
       " 'Lk_8-10',\n",
       " 'Lk_8-10',\n",
       " 'Lk_8-10',\n",
       " 'Lk_8-10',\n",
       " 'Lk_8-10',\n",
       " 'Lk_8-10',\n",
       " 'Lk_8-10',\n",
       " 'Lk_8-10',\n",
       " 'Lk_8-10',\n",
       " 'Lk_8-10',\n",
       " 'Apg_13-34',\n",
       " 'Apg_13-34',\n",
       " 'Apg_13-34',\n",
       " 'Lk_8-11.12',\n",
       " 'Lk_8-11.12',\n",
       " 'Lk_8-11.12',\n",
       " 'Lk_8-11.12',\n",
       " 'Lk_8-11.12',\n",
       " 'Lk_8-11.12',\n",
       " 'Lk_8-11.12',\n",
       " 'Lk_8-11.12',\n",
       " 'Lk_8-11.12',\n",
       " 'Lk_8-11.12',\n",
       " 'Lk_8-11.12',\n",
       " 'Lk_8-11.12',\n",
       " 'Lk_8-11.12',\n",
       " 'Lk_8-11.12',\n",
       " 'Lk_8-11.12',\n",
       " 'Lk_8-11.12',\n",
       " '2Tim_4-2',\n",
       " '2Tim_4-2',\n",
       " '2Tim_4-2',\n",
       " '2Tim_4-2',\n",
       " '1Kor_3-9',\n",
       " '1Kor_3-9',\n",
       " 'Eph_1-22',\n",
       " 'Eph_1-22',\n",
       " 'Eph_1-22',\n",
       " 'Eph_1-22',\n",
       " 'Eph_1-22',\n",
       " 'Joh_15-5',\n",
       " 'Joh_15-5',\n",
       " 'Joh_15-5',\n",
       " '1Kor_3-6',\n",
       " '1Kor_3-6',\n",
       " '1Kor_3-6',\n",
       " '1Kor_3-6',\n",
       " '1Kor_3-6',\n",
       " '1Kor_3-6',\n",
       " '2Petr_1-21',\n",
       " '2Petr_1-21',\n",
       " '2Petr_1-21',\n",
       " '2Petr_1-21',\n",
       " '2Petr_1-21',\n",
       " '2Petr_1-21',\n",
       " '2Petr_1-21',\n",
       " 'Eph_2-20.21',\n",
       " 'Eph_2-20.21',\n",
       " 'Eph_2-20.21',\n",
       " 'Eph_2-20.21',\n",
       " 'Eph_2-20.21',\n",
       " 'Eph_2-20.21',\n",
       " 'Eph_2-20.21',\n",
       " 'Eph_2-20.21',\n",
       " 'Eph_2-20.21',\n",
       " 'Eph_2-20.21',\n",
       " 'Eph_2-20.21',\n",
       " 'Eph_2-20.21',\n",
       " 'Eph_2-20.21',\n",
       " 'Eph_2-20.21',\n",
       " 'Eph_2-20.21',\n",
       " 'Eph_2-20.21',\n",
       " 'Eph_2-20.21',\n",
       " 'Eph_2-20.21',\n",
       " 'Eph_2-20.21',\n",
       " 'Eph_2-20.21',\n",
       " 'Eph_2-20.21',\n",
       " 'Eph_2-20.21',\n",
       " 'Eph_2-20.21',\n",
       " 'Eph_2-20.21',\n",
       " 'Eph_2-20.21',\n",
       " 'Eph_2-20.21',\n",
       " 'Eph_2-20.21',\n",
       " 'Eph_2-20.21',\n",
       " 'Eph_2-20.21',\n",
       " 'Eph_2-20.21',\n",
       " 'Eph_2-20.21',\n",
       " 'Eph_2-20.21',\n",
       " '1Kor_3-9',\n",
       " '1Kor_3-9',\n",
       " 'Sir_35-21',\n",
       " 'Sir_35-21',\n",
       " 'Sir_35-21',\n",
       " 'Sir_35-21',\n",
       " 'Sir_35-21',\n",
       " 'Sir_35-21',\n",
       " 'Sir_35-21',\n",
       " 'Sir_35-21',\n",
       " 'Sir_35-21',\n",
       " 'Sir_35-21',\n",
       " 'Sir_35-21',\n",
       " 'Sir_35-21',\n",
       " 'Sir_35-21',\n",
       " 'Sir_35-21',\n",
       " 'Sir_35-21',\n",
       " 'Sir_35-21',\n",
       " 'Sir_35-21',\n",
       " 'Sir_35-21',\n",
       " 'Ps_2-9',\n",
       " 'Ps_2-9',\n",
       " 'Ps_2-9',\n",
       " 'Ps_23-4',\n",
       " 'Ps_23-4',\n",
       " 'Ps_23-4',\n",
       " 'Sach_11-7',\n",
       " 'Sach_11-7',\n",
       " 'Sach_11-7',\n",
       " 'Mt_16-18',\n",
       " 'Mt_16-18',\n",
       " 'Mt_16-18',\n",
       " 'Mt_16-18',\n",
       " 'Mt_16-18',\n",
       " 'Mt_16-18',\n",
       " 'Mt_16-18',\n",
       " 'Mt_16-18',\n",
       " 'Jes_40-8',\n",
       " 'Jes_40-8',\n",
       " 'Jes_40-8',\n",
       " 'Röm_8-38.39',\n",
       " 'Röm_8-38.39',\n",
       " 'Röm_8-38.39',\n",
       " 'Röm_8-38.39',\n",
       " 'Röm_8-38.39',\n",
       " 'Röm_8-38.39',\n",
       " 'Röm_8-38.39',\n",
       " 'Röm_8-38.39',\n",
       " 'Röm_8-38.39',\n",
       " 'Röm_8-38.39',\n",
       " 'Röm_8-38.39',\n",
       " 'Röm_8-38.39',\n",
       " 'Röm_8-38.39',\n",
       " 'Röm_8-38.39',\n",
       " 'Röm_8-38.39',\n",
       " 'Röm_8-38.39',\n",
       " 'Röm_8-38.39',\n",
       " 'Röm_8-38.39',\n",
       " 'Röm_8-38.39',\n",
       " 'Röm_8-38.39',\n",
       " 'Röm_8-38.39',\n",
       " 'Röm_8-38.39',\n",
       " 'Röm_8-38.39',\n",
       " 'Röm_8-38.39',\n",
       " 'Röm_8-38.39',\n",
       " 'Röm_8-38.39',\n",
       " 'Röm_8-38.39',\n",
       " 'Röm_8-38.39',\n",
       " 'Röm_8-38.39',\n",
       " 'Röm_8-38.39',\n",
       " 'Röm_8-38.39',\n",
       " 'Röm_8-38.39',\n",
       " 'Röm_8-38.39',\n",
       " 'Röm_8-38.39',\n",
       " 'Jes_49-23',\n",
       " 'Jes_49-23',\n",
       " 'Jes_49-23',\n",
       " 'Mt_4-8.9',\n",
       " 'Mt_4-8.9',\n",
       " 'Mt_4-8.9',\n",
       " 'Mt_4-8.9',\n",
       " 'Mt_4-8.9',\n",
       " 'Mt_4-8.9',\n",
       " 'Mt_4-8.9',\n",
       " 'Mt_4-8.9',\n",
       " 'Mt_4-8.9',\n",
       " 'Mt_4-8.9',\n",
       " 'Mt_4-8.9',\n",
       " 'Mt_4-8.9',\n",
       " 'Mt_4-8.9',\n",
       " 'Mt_4-8.9',\n",
       " 'Mt_4-8.9',\n",
       " 'Mt_4-8.9',\n",
       " 'Mt_4-8.9',\n",
       " 'Mt_4-8.9',\n",
       " 'Mt_4-8.9',\n",
       " 'Mt_4-8.9',\n",
       " 'Mt_4-8.9',\n",
       " 'Mt_4-8.9',\n",
       " 'Mt_4-8.9',\n",
       " 'Mt_4-8.9',\n",
       " 'Mt_4-8.9',\n",
       " 'Mt_4-8.9',\n",
       " 'Spr_18-10',\n",
       " 'Spr_18-10',\n",
       " 'Spr_18-10',\n",
       " 'Spr_18-10',\n",
       " 'Spr_18-10',\n",
       " 'Spr_18-10',\n",
       " 'Spr_18-10',\n",
       " 'Spr_18-10',\n",
       " 'Spr_18-10',\n",
       " 'Spr_18-10',\n",
       " 'Spr_18-10',\n",
       " 'Spr_18-10',\n",
       " 'Spr_18-10',\n",
       " 'Spr_18-10',\n",
       " 'Spr_18-10',\n",
       " 'Spr_18-10',\n",
       " 'Spr_18-10',\n",
       " 'Spr_18-10',\n",
       " 'E100039',\n",
       " 'E100039',\n",
       " 'E100039',\n",
       " 'E100039',\n",
       " '2Petr_1-19',\n",
       " '2Petr_1-19',\n",
       " '2Petr_1-19',\n",
       " '2Petr_1-19',\n",
       " '2Petr_1-19',\n",
       " '2Petr_1-19',\n",
       " '2Petr_1-19',\n",
       " '2Petr_1-19',\n",
       " '2Petr_1-19',\n",
       " '2Petr_1-19',\n",
       " '2Petr_1-19',\n",
       " '2Petr_1-19',\n",
       " '2Petr_1-19',\n",
       " '2Petr_1-19',\n",
       " '2Petr_1-19',\n",
       " '2Petr_1-19',\n",
       " 'E100081',\n",
       " 'E100081',\n",
       " 'E100081',\n",
       " 'E100081',\n",
       " 'E100081',\n",
       " 'E100081',\n",
       " 'E100081',\n",
       " 'E100081',\n",
       " 'E100081',\n",
       " 'E100081',\n",
       " 'E100081',\n",
       " 'E100081',\n",
       " 'E100081',\n",
       " 'E100081',\n",
       " 'E100081',\n",
       " 'E100081',\n",
       " 'E100081',\n",
       " 'E100081',\n",
       " 'E100081',\n",
       " 'E100081',\n",
       " 'E100081',\n",
       " 'E100081',\n",
       " 'E100081',\n",
       " 'E100081',\n",
       " 'E100081',\n",
       " 'E100081',\n",
       " 'E100081',\n",
       " 'E100081',\n",
       " 'E100081',\n",
       " 'E100081',\n",
       " 'E100082',\n",
       " 'E100082',\n",
       " 'E100082',\n",
       " 'E100082',\n",
       " 'E100082',\n",
       " 'E100082',\n",
       " 'E100082',\n",
       " 'E100082',\n",
       " 'E100082',\n",
       " 'E100082',\n",
       " 'E100082',\n",
       " 'E100082',\n",
       " 'E100082',\n",
       " 'E100082',\n",
       " 'E100082',\n",
       " 'E100082',\n",
       " 'E100082',\n",
       " 'E100082',\n",
       " 'E100082',\n",
       " 'Ps_91-4.11.12.14',\n",
       " 'Ps_91-4.11.12.14',\n",
       " 'Ps_91-4.11.12.14',\n",
       " 'Ps_91-4.11.12.14',\n",
       " 'Ps_91-4.11.12.14',\n",
       " 'Ps_91-4.11.12.14',\n",
       " 'Ps_91-4.11.12.14',\n",
       " 'Ps_91-4.11.12.14',\n",
       " 'Ps_91-4.11.12.14',\n",
       " 'Ps_91-4.11.12.14',\n",
       " 'Ps_91-4.11.12.14',\n",
       " 'Ps_91-4.11.12.14',\n",
       " 'Ps_91-4.11.12.14',\n",
       " 'Ps_91-4.11.12.14',\n",
       " 'Ps_91-4.11.12.14',\n",
       " 'Ps_91-4.11.12.14',\n",
       " 'Ps_91-4.11.12.14',\n",
       " 'Ps_91-4.11.12.14',\n",
       " 'Ps_91-4.11.12.14',\n",
       " 'Ps_91-4.11.12.14',\n",
       " 'Ps_91-4.11.12.14',\n",
       " 'Ps_91-4.11.12.14',\n",
       " 'Ps_91-4.11.12.14',\n",
       " 'Ps_91-4.11.12.14',\n",
       " 'Ps_91-4.11.12.14',\n",
       " 'Ps_91-4.11.12.14',\n",
       " 'Ps_91-4.11.12.14',\n",
       " 'Ps_91-4.11.12.14',\n",
       " 'Ps_91-4.11.12.14',\n",
       " 'Ps_91-4.11.12.14',\n",
       " 'Ps_91-4.11.12.14',\n",
       " 'Ps_91-4.11.12.14',\n",
       " 'Ps_91-4.11.12.14',\n",
       " 'Ps_91-4.11.12.14',\n",
       " 'Ps_91-4.11.12.14',\n",
       " 'Ps_91-4.11.12.14',\n",
       " 'Ps_91-4.11.12.14',\n",
       " 'Ps_91-4.11.12.14',\n",
       " 'Ps_91-4.11.12.14',\n",
       " 'Ps_91-4.11.12.14',\n",
       " 'Ps_91-4.11.12.14',\n",
       " 'Ps_91-4.11.12.14',\n",
       " 'Ps_91-4.11.12.14',\n",
       " 'Ps_91-4.11.12.14',\n",
       " 'Ps_91-4.11.12.14',\n",
       " 'Ps_91-4.11.12.14',\n",
       " 'Ps_91-4.11.12.14',\n",
       " 'Ps_49-9',\n",
       " 'Ps_49-9',\n",
       " 'Ps_49-9',\n",
       " '1Petr_1-18.19',\n",
       " '1Petr_1-18.19',\n",
       " '1Petr_1-18.19',\n",
       " '1Petr_1-18.19',\n",
       " '1Petr_1-18.19',\n",
       " '1Petr_1-18.19',\n",
       " '1Petr_1-18.19',\n",
       " '1Petr_1-18.19',\n",
       " '1Petr_1-18.19',\n",
       " '1Petr_1-18.19',\n",
       " '1Petr_1-18.19',\n",
       " '1Petr_1-18.19',\n",
       " '1Petr_1-18.19',\n",
       " '1Petr_1-18.19',\n",
       " '1Petr_1-18.19',\n",
       " '1Petr_1-18.19',\n",
       " '1Petr_1-18.19',\n",
       " '1Petr_1-18.19',\n",
       " '1Petr_1-18.19',\n",
       " '1Petr_1-18.19',\n",
       " '1Petr_1-18.19',\n",
       " '1Petr_1-18.19',\n",
       " '1Petr_1-18.19',\n",
       " '1Petr_1-18.19',\n",
       " 'E080427',\n",
       " 'E080427',\n",
       " 'E080427',\n",
       " 'E080427',\n",
       " 'E080427',\n",
       " 'E080427',\n",
       " 'E080427',\n",
       " 'E080427',\n",
       " 'E080427',\n",
       " 'E080427',\n",
       " 'E080427',\n",
       " 'E080427',\n",
       " 'E080427',\n",
       " 'E080427',\n",
       " 'E080427',\n",
       " 'E080427',\n",
       " 'E080427',\n",
       " 'E080427',\n",
       " 'E080427',\n",
       " 'E080427',\n",
       " 'E080427',\n",
       " 'E080427',\n",
       " 'E080427',\n",
       " 'E080427',\n",
       " 'E080427',\n",
       " 'E080427',\n",
       " 'E080427',\n",
       " 'E080427',\n",
       " 'E080427',\n",
       " 'E080427',\n",
       " 'E080427',\n",
       " 'E080427',\n",
       " 'E080427',\n",
       " 'E080427',\n",
       " 'E080427',\n",
       " 'E080427',\n",
       " 'E080427',\n",
       " 'E080427',\n",
       " 'E080427',\n",
       " 'E080427',\n",
       " 'E080427',\n",
       " 'E080427',\n",
       " 'E080427',\n",
       " 'Apg_20-28',\n",
       " 'Apg_20-28',\n",
       " 'Apg_20-28',\n",
       " 'Apg_20-28',\n",
       " 'Apg_20-28',\n",
       " 'Apg_20-28',\n",
       " 'Apg_20-28',\n",
       " 'Apg_20-28',\n",
       " 'Apg_20-28',\n",
       " 'Apg_20-28',\n",
       " 'Apg_20-28',\n",
       " 'Apg_20-28',\n",
       " 'Apg_20-28',\n",
       " 'Apg_20-28',\n",
       " 'Apg_20-28',\n",
       " 'Apg_20-28',\n",
       " 'Apg_20-28',\n",
       " 'Apg_20-28',\n",
       " 'Apg_20-28',\n",
       " 'Apg_20-28',\n",
       " 'Apg_20-28',\n",
       " 'Apg_20-28',\n",
       " 'Apg_20-28',\n",
       " 'Apg_20-28',\n",
       " 'Apg_20-28',\n",
       " 'Apg_20-28',\n",
       " 'Apg_20-28',\n",
       " 'Apg_20-28',\n",
       " 'Apg_20-28',\n",
       " 'Apg_20-28',\n",
       " 'Apg_20-28',\n",
       " 'Apg_20-28',\n",
       " 'Apg_20-28',\n",
       " 'Apg_20-28',\n",
       " 'E080427',\n",
       " 'E080427',\n",
       " 'E080427',\n",
       " 'Sir_25-14',\n",
       " 'Sir_25-14',\n",
       " 'Sir_25-14',\n",
       " 'Sir_25-14',\n",
       " 'Sir_25-14',\n",
       " 'Sir_25-14',\n",
       " 'Ps_111-10',\n",
       " 'Ps_111-10',\n",
       " 'Ps_111-10',\n",
       " 'Ps_111-10',\n",
       " 'Ps_111-10',\n",
       " 'Sir_1-16',\n",
       " 'Sir_1-16',\n",
       " 'Sir_1-16',\n",
       " '1Tim_4-8',\n",
       " '1Tim_4-8',\n",
       " '1Tim_4-8',\n",
       " '1Tim_4-8',\n",
       " '1Tim_4-8',\n",
       " '1Tim_4-8',\n",
       " '1Tim_4-8',\n",
       " '1Tim_4-8',\n",
       " '1Tim_4-8',\n",
       " '1Tim_4-8',\n",
       " '1Tim_4-8',\n",
       " '1Tim_4-8',\n",
       " '1Tim_4-8',\n",
       " '1Tim_4-8',\n",
       " '1Tim_4-8',\n",
       " '1Tim_4-8',\n",
       " '1Tim_4-8',\n",
       " '1Kor_14-33.34.40',\n",
       " '1Kor_14-33.34.40',\n",
       " '1Kor_14-33.34.40',\n",
       " '1Kor_14-33.34.40',\n",
       " '1Kor_14-33.34.40',\n",
       " '1Kor_14-33.34.40',\n",
       " '1Kor_14-33.34.40',\n",
       " '1Kor_14-33.34.40',\n",
       " '1Kor_14-33.34.40',\n",
       " '1Kor_14-33.34.40',\n",
       " '1Kor_14-33.34.40',\n",
       " '1Kor_14-33.34.40',\n",
       " '1Kor_14-33.34.40',\n",
       " '1Kor_14-33.34.40',\n",
       " '1Kor_14-33.34.40',\n",
       " '1Kor_14-33.34.40',\n",
       " '1Kor_14-33.34.40',\n",
       " '1Kor_14-33.34.40',\n",
       " '1Kor_14-33.34.40',\n",
       " '1Kor_14-33.34.40',\n",
       " '1Kor_14-33.34.40',\n",
       " '1Kor_14-33.34.40',\n",
       " '1Kor_14-33.34.40',\n",
       " 'Ps_133-1.2',\n",
       " 'Ps_133-1.2',\n",
       " 'Ps_133-1.2',\n",
       " 'Ps_133-1.2',\n",
       " 'Ps_133-1.2',\n",
       " 'Ps_133-1.2',\n",
       " 'Ps_133-1.2',\n",
       " 'Ps_133-1.2',\n",
       " 'Ps_133-1.2',\n",
       " ...]"
      ]
     },
     "execution_count": 63,
     "metadata": {},
     "output_type": "execute_result"
    }
   ],
   "source": [
    "sermon.reference\n",
    "reference = [x for xs in sermon.reference for x in xs]\n",
    "reference\n"
   ]
  },
  {
   "cell_type": "code",
   "execution_count": 64,
   "id": "d0054e51",
   "metadata": {},
   "outputs": [
    {
     "name": "stdout",
     "output_type": "stream",
     "text": [
      "1Kor_14-33.34.40\n",
      "Lk_18-13\n",
      "E100082\n",
      "2Petr_1-21\n",
      "Ex_5\n",
      "Mt_22-30\n",
      "Kol_3-16\n",
      "Joh_20-29\n",
      "E100086\n",
      "Ps_12-1\n",
      "Mt_10-42\n",
      "Gal_5-22\n",
      "Sir_35-21\n",
      "Ps_111-3\n",
      "E100085\n",
      "Ps_51-12\n",
      "Weish_11-21\n",
      "Mt_14-4\n",
      "Lk_8-15\n",
      "Röm_10-10\n",
      "Sach_11-7\n",
      "1Tim_4-8\n",
      "E100038\n",
      "Röm_8-38.39\n",
      "Eph_2-20.21\n",
      "Ps_73-4\n",
      "Mt_13-34.35\n",
      "Ps_2-9\n",
      "Ps_78-2\n",
      "Offb_2\n",
      "Joh_15-5\n",
      "Ez_3-17\n",
      "Eph_5-18.19\n",
      "Mk_16-16\n",
      "1Kor_3-9\n",
      "Apg_2-2\n",
      "Mt_13-24.25.26.27.28.29.30\n",
      "Ps_13-2\n",
      "Mt_5-16\n",
      "Spr_18-10\n",
      "Ps_150-5\n",
      "Offb_9\n",
      "Ps_32-1.2\n",
      "Ps_150\n",
      "Ps_95-8\n",
      "Ps_4-1\n",
      "2Tim_3-12\n",
      "2Chr_20-28\n",
      "E100013\n",
      "Jer_5-3\n",
      "Röm_8-16\n",
      "1Petr_2-9\n",
      "Ps_6\n",
      "Ps_42-2\n",
      "E100068\n",
      "Ps_49-9\n",
      "Hebr_10-36\n",
      "Ps_51-14\n",
      "Ps_50-15\n",
      "Jak_2-14\n",
      "Mt_24-30.31\n",
      "E090560\n",
      "Mt_16-18\n",
      "Ps_6-1\n",
      "Röm_8-14\n",
      "Joh_3-8\n",
      "Ps_91-4.11.12.14\n",
      "Mt_4-8.9\n",
      "E100039\n",
      "Hebr_13-17\n",
      "E080427\n",
      "1Sam_16-23\n",
      "Ps_143\n",
      "Röm_10.17\n",
      "Eph_1-22\n",
      "Offb_1\n",
      "Dan_12-3\n",
      "Sir_25-1.2\n",
      "E080425\n",
      "E100083\n",
      "Sir_1-16\n",
      "1Kor_3-6\n",
      "Offb_6-16.17\n",
      "Jer_15-3\n",
      "Mt_6-6\n",
      "Ps_111-10\n",
      "Ps_133-1.2\n",
      "Apg_13-34\n",
      "Jes_40-8\n",
      "E090778\n",
      "1Joh_4-20.21\n",
      "2Kön_3-15\n",
      "Jak_1-23\n",
      "E100003\n",
      "Ps_119-92\n",
      "E100081\n",
      "Sir_25-14\n",
      "Ps_42-8\n",
      "Röm_12-12\n",
      "1Thess_4-16.17.18\n",
      "Neh_12-27\n",
      "1Petr_1-18.19\n",
      "Sir_7-40\n",
      "Apg_20-28\n",
      "Ps_119-72\n",
      "1Petr_2-21\n",
      "2Tim_4-2\n",
      "Ps_23-4\n",
      "Offb_5-10\n",
      "2Sam_6-4.5\n",
      "Jak_5-13\n",
      "Apg_14-22\n",
      "E100087\n",
      "E100084\n",
      "Ez_14-13.14.15.16.17.18.19.20.21.22.23\n",
      "Phil_2-12\n",
      "Ez_33-7\n",
      "2Chr_7-5\n",
      "2Kor_5-10\n",
      "Jes_49-23\n",
      "Ps_2-11\n",
      "Hebr_11-6\n",
      "2Petr_1-19\n",
      "E080426\n",
      "Eph_4-1\n",
      "1Kor_13-12\n",
      "Jon_3-6\n",
      "Lk_8-4.5.6.7.8.9.10.11.12.13.14.15\n",
      "Ps_71-20\n",
      "Mt_13-47.48\n",
      "Ps_130\n",
      "Offb_8\n",
      "Lk_8-11.12\n",
      "Lk_8-10\n"
     ]
    }
   ],
   "source": [
    "unique_refs = set(reference)\n",
    "for i in unique_refs:\n",
    "    print(i)"
   ]
  },
  {
   "cell_type": "code",
   "execution_count": 65,
   "id": "33a62b77",
   "metadata": {},
   "outputs": [
    {
     "name": "stdout",
     "output_type": "stream",
     "text": [
      "Augustinus, Aurelius ; Thimme, Wilhelm (Übers.): Confessiones. Bekenntnisse (Düsseldorf ; Zürich: 2004)\n",
      "Luther, Martin: Enchiridion (Frankfurt an der Oder: 1601)\n",
      "Polus, Timotheus: Neu-Vermehrter Lustiger Schawplatz (Lübeck ; Ratzeburg: 1664)\n",
      "Plautus, M. Accius: Marci Accii Plauti Comoediae (London: 1874)\n",
      "Sachs, Michael: Alphabetum historicvm (Leipzig: 1617)\n"
     ]
    }
   ],
   "source": [
    "for x in sermon.literaturzitate:\n",
    "    print(str(x[\"item\"]))"
   ]
  }
 ],
 "metadata": {
  "kernelspec": {
   "display_name": "ma_orgelpredigt",
   "language": "python",
   "name": "python3"
  },
  "language_info": {
   "codemirror_mode": {
    "name": "ipython",
    "version": 3
   },
   "file_extension": ".py",
   "mimetype": "text/x-python",
   "name": "python",
   "nbconvert_exporter": "python",
   "pygments_lexer": "ipython3",
   "version": "3.12.11"
  }
 },
 "nbformat": 4,
 "nbformat_minor": 5
}
