{
 "cells": [
  {
   "cell_type": "code",
   "execution_count": 12,
   "id": "4077ec47",
   "metadata": {},
   "outputs": [],
   "source": [
    "import pandas as pd\n",
    "import seaborn as sns\n",
    "import matplotlib.pyplot as plt\n",
    "import db_connection\n",
    "import ast\n",
    "import re\n",
    "\n",
    "from mysql.connector import Error\n",
    "from orgelpredigt_analysis import Sermon\n",
    "\n",
    "import folium"
   ]
  },
  {
   "cell_type": "code",
   "execution_count": 2,
   "id": "c272cac7",
   "metadata": {},
   "outputs": [],
   "source": [
    "id = \"E000007\""
   ]
  },
  {
   "cell_type": "code",
   "execution_count": 3,
   "id": "ca32b019",
   "metadata": {},
   "outputs": [],
   "source": [
    "cursor, connection = db_connection.get_connection()"
   ]
  },
  {
   "cell_type": "code",
   "execution_count": null,
   "id": "262fe04f",
   "metadata": {},
   "outputs": [
    {
     "name": "stdout",
     "output_type": "stream",
     "text": [
      "[('E100134', 'Anton, Christoph ; Hintze, Jacob', 'Alle Menschen müssen sterben', '', 'Albinus, Johann Georg ; Rosenmüller, Johann', 'Kirchenlied', '')]\n",
      "[]\n",
      "[]\n",
      "Query executed for E100194, but no data found.\n",
      "[('E100033', 'Anonym', 'Ach Gott wie manches Herzeleid', '', 'Moller, Martin', 'Kirchenlied', '')]\n",
      "[]\n"
     ]
    }
   ],
   "source": [
    "for i in [\"E100134\", \"E100194\", \"E100033\"]:\n",
    "    try:\n",
    "        cursor.execute(f\"SELECT e10id, e10komponist, e10werk, e10kurztitel, e10textdichter, e10gattung, e10besetzung FROM e10_musikwerke WHERE e10id = '{i}'\")\n",
    "        column_names = [col[0] for col in cursor.description]\n",
    "        results = cursor.fetchall()\n",
    "        print(results)\n",
    "        if results:\n",
    "            data = [dict(zip(column_names, row))  \n",
    "                for row in cursor.fetchall()]\n",
    "            print(data)\n",
    "        else:\n",
    "            print(f\"Query executed for {i}, but no data found.\")\n",
    "    except Error as e:\n",
    "        print(f\"Database error occurred for {i}:\", e)\n",
    "    except Exception as e:\n",
    "        print(f\"Unexpected error for {i}:\", e)\n",
    "\n"
   ]
  },
  {
   "cell_type": "code",
   "execution_count": 6,
   "id": "b8dcb4d6",
   "metadata": {},
   "outputs": [
    {
     "name": "stdout",
     "output_type": "stream",
     "text": [
      "Unexpected error for E100134: list index out of range\n",
      "Query executed for E100194, but no data found.\n",
      "Unexpected error for E100033: list index out of range\n"
     ]
    }
   ],
   "source": [
    "sermon = Sermon(id)"
   ]
  },
  {
   "cell_type": "code",
   "execution_count": 4,
   "id": "d2b60044",
   "metadata": {},
   "outputs": [],
   "source": [
    "cursor, connection = db_connection.get_connection()"
   ]
  },
  {
   "cell_type": "code",
   "execution_count": 5,
   "id": "e7c99992",
   "metadata": {},
   "outputs": [],
   "source": [
    "def is_id(value):\n",
    "    pattern = re.compile(r'E[01][0-9]{5}')\n",
    "    if re.match(pattern, value):\n",
    "        return True\n",
    "    else:\n",
    "        return False"
   ]
  },
  {
   "cell_type": "code",
   "execution_count": 6,
   "id": "3d875a47",
   "metadata": {},
   "outputs": [],
   "source": [
    "def parse_coords(coord_str):\n",
    "    try:\n",
    "        if not coord_str:\n",
    "            return None\n",
    "        parts = coord_str.split(';')\n",
    "        if len(parts) != 2:\n",
    "            return None\n",
    "        lon_str = parts[0].strip()\n",
    "        lat_str = parts[1].strip()\n",
    "        if lon_str[0] != 'E' or lat_str[0] != 'N':\n",
    "            return None\n",
    "        lon = float(lon_str[1:])\n",
    "        lat = float(lat_str[1:])\n",
    "        return lat, lon\n",
    "    except:\n",
    "        return None"
   ]
  },
  {
   "cell_type": "code",
   "execution_count": 7,
   "id": "b125e8e0",
   "metadata": {},
   "outputs": [
    {
     "data": {
      "text/plain": [
       "'Meder'"
      ]
     },
     "execution_count": 7,
     "metadata": {},
     "output_type": "execute_result"
    }
   ],
   "source": [
    "str(sermon.verleger)"
   ]
  },
  {
   "cell_type": "code",
   "execution_count": 8,
   "id": "66e995f2",
   "metadata": {},
   "outputs": [
    {
     "name": "stderr",
     "output_type": "stream",
     "text": [
      "2025-06-21 13:47:06.858 WARNING streamlit.runtime.scriptrunner_utils.script_run_context: Thread 'MainThread': missing ScriptRunContext! This warning can be ignored when running in bare mode.\n"
     ]
    }
   ],
   "source": [
    "import streamlit as st\n",
    "from streamlit_folium import st_folium"
   ]
  },
  {
   "cell_type": "code",
   "execution_count": 9,
   "id": "13eea059",
   "metadata": {},
   "outputs": [],
   "source": [
    "author_network = sermon.autor.get_personal_network()"
   ]
  },
  {
   "cell_type": "code",
   "execution_count": 10,
   "id": "5791bf69",
   "metadata": {},
   "outputs": [],
   "source": [
    "sermon_locations = {\n",
    "    sermon.einweihungsort.name : sermon.einweihungsort.koordinaten,\n",
    "    sermon.verlagsort.name : sermon.verlagsort.koordinaten\n",
    "}"
   ]
  },
  {
   "cell_type": "code",
   "execution_count": 11,
   "id": "a598671c",
   "metadata": {},
   "outputs": [],
   "source": [
    "# create folium Map\n",
    "map = folium.Map(location=[50.8, 8.7], zoom_start=10)"
   ]
  },
  {
   "cell_type": "code",
   "execution_count": null,
   "id": "7db12c07",
   "metadata": {},
   "outputs": [],
   "source": [
    "# Add markers\n",
    "for place, coord_str in author_network.items():\n",
    "    coords = parse_coords(coord_str)\n",
    "    if coords:\n",
    "        folium.Marker(location=coords, popup=place, icon=folium.Icon(color='blue', icon='glyphicon-user')).add_to(map)\n",
    "\n",
    "for place, coord_str in sermon_locations.items():\n",
    "    coords = parse_coords(coord_str)\n",
    "    if coords:\n",
    "        folium.Marker(location=coords, popup=place, icon=folium.Icon(color='red', icon='glyphicon-book')).add_to(map)\n",
    "\n",
    "map"
   ]
  },
  {
   "cell_type": "code",
   "execution_count": 5,
   "id": "0d7bb0c6",
   "metadata": {},
   "outputs": [],
   "source": [
    "import plotly.express as px\n",
    "import math\n",
    "import pandas"
   ]
  },
  {
   "cell_type": "code",
   "execution_count": 15,
   "id": "b2f5a0d3",
   "metadata": {},
   "outputs": [
    {
     "data": {
      "text/plain": [
       "[' bibel', ' quelle', ' bibel quelle', ' quelle literatur', ' literatur', nan]"
      ]
     },
     "execution_count": 15,
     "metadata": {},
     "output_type": "execute_result"
    }
   ],
   "source": [
    "labels"
   ]
  },
  {
   "cell_type": "code",
   "execution_count": 7,
   "id": "cac89788",
   "metadata": {},
   "outputs": [
    {
     "ename": "NameError",
     "evalue": "name 'pandas' is not defined",
     "output_type": "error",
     "traceback": [
      "\u001b[31m---------------------------------------------------------------------------\u001b[39m",
      "\u001b[31mNameError\u001b[39m                                 Traceback (most recent call last)",
      "\u001b[36mCell\u001b[39m\u001b[36m \u001b[39m\u001b[32mIn[7]\u001b[39m\u001b[32m, line 6\u001b[39m\n\u001b[32m      4\u001b[39m data = []\n\u001b[32m      5\u001b[39m \u001b[38;5;28;01mfor\u001b[39;00m label, number \u001b[38;5;129;01min\u001b[39;00m occurrences.items():\n\u001b[32m----> \u001b[39m\u001b[32m6\u001b[39m     \u001b[38;5;28;01mif\u001b[39;00m \u001b[43mpandas\u001b[49m.isnull(label):\n\u001b[32m      7\u001b[39m     \u001b[38;5;66;03m#if math.isnan(int(label)):\u001b[39;00m\n\u001b[32m      8\u001b[39m         labels.append(\u001b[33m\"\u001b[39m\u001b[33mtext\u001b[39m\u001b[33m\"\u001b[39m)\n\u001b[32m      9\u001b[39m     \u001b[38;5;28;01melse\u001b[39;00m:\n",
      "\u001b[31mNameError\u001b[39m: name 'pandas' is not defined"
     ]
    }
   ],
   "source": [
    "occurrences = {i:sermon.word_types.count(i) for i in set(sermon.word_types)}\n",
    "\n",
    "labels = []\n",
    "data = []\n",
    "for label, number in occurrences.items():\n",
    "    if pandas.isnull(label):\n",
    "    #if math.isnan(int(label)):\n",
    "        labels.append(\"text\")\n",
    "    else:\n",
    "        labels.append(label.strip())\n",
    "    data.append(number)\n",
    "\n",
    "fig = px.pie(values=data, names=labels, title='My Pie Chart')\n",
    "fig.show()"
   ]
  },
  {
   "cell_type": "code",
   "execution_count": 7,
   "id": "1d771e26",
   "metadata": {},
   "outputs": [
    {
     "data": {
      "text/plain": [
       "['Ps_150-1.2.3.4.5.6',\n",
       " 'Ps_150-1.2.3.4.5.6',\n",
       " 'Ps_150-1.2.3.4.5.6',\n",
       " 'Ps_150-1.2.3.4.5.6',\n",
       " 'Ps_150-1.2.3.4.5.6',\n",
       " 'Ps_150-1.2.3.4.5.6',\n",
       " 'Ps_150-1.2.3.4.5.6',\n",
       " 'Ps_150-1.2.3.4.5.6',\n",
       " 'Ps_150-1.2.3.4.5.6',\n",
       " 'Ps_150-1.2.3.4.5.6',\n",
       " 'Ps_150-1.2.3.4.5.6',\n",
       " 'Ps_150-1.2.3.4.5.6',\n",
       " 'Ps_150-1.2.3.4.5.6',\n",
       " 'Ps_150-1.2.3.4.5.6',\n",
       " 'Ps_150-1.2.3.4.5.6',\n",
       " 'Ps_150-1.2.3.4.5.6',\n",
       " 'Ps_150-1.2.3.4.5.6',\n",
       " 'Ps_150-1.2.3.4.5.6',\n",
       " 'Ps_150-1.2.3.4.5.6',\n",
       " 'Ps_150-1.2.3.4.5.6',\n",
       " 'Ps_150-1.2.3.4.5.6',\n",
       " 'Ps_150-1.2.3.4.5.6',\n",
       " 'Ps_150-1.2.3.4.5.6',\n",
       " 'Ps_150-1.2.3.4.5.6',\n",
       " 'Ps_150-1.2.3.4.5.6',\n",
       " 'Ps_150-1.2.3.4.5.6',\n",
       " 'Ps_150-1.2.3.4.5.6',\n",
       " 'Ps_150-1.2.3.4.5.6',\n",
       " 'Ps_150-1.2.3.4.5.6',\n",
       " 'Ps_150-1.2.3.4.5.6',\n",
       " 'Ps_150-1.2.3.4.5.6',\n",
       " 'Ps_150-1.2.3.4.5.6',\n",
       " 'Ps_150-1.2.3.4.5.6',\n",
       " 'Ps_150-1.2.3.4.5.6',\n",
       " 'Ps_150-1.2.3.4.5.6',\n",
       " 'Ps_150-1.2.3.4.5.6',\n",
       " 'Ps_150-1.2.3.4.5.6',\n",
       " 'Ps_150-1.2.3.4.5.6',\n",
       " 'Ps_150-1.2.3.4.5.6',\n",
       " 'Ps_150-1.2.3.4.5.6',\n",
       " 'Ps_150-1.2.3.4.5.6',\n",
       " 'Ps_150-1.2.3.4.5.6',\n",
       " 'Ps_150-1.2.3.4.5.6',\n",
       " 'Ps_150-1.2.3.4.5.6',\n",
       " 'Ps_150-1.2.3.4.5.6',\n",
       " 'Ps_150-1.2.3.4.5.6',\n",
       " 'Ps_150-1.2.3.4.5.6',\n",
       " 'Ps_150-1.2.3.4.5.6',\n",
       " 'Ps_150-1.2.3.4.5.6',\n",
       " 'Ps_150-1.2.3.4.5.6',\n",
       " 'Ps_150-1.2.3.4.5.6',\n",
       " 'Ps_150-1.2.3.4.5.6',\n",
       " 'Ps_150-1.2.3.4.5.6',\n",
       " 'Ps_150-1.2.3.4.5.6',\n",
       " 'Ps_150-1.2.3.4.5.6',\n",
       " 'Ps_150-1.2.3.4.5.6',\n",
       " 'Ps_150-1.2.3.4.5.6',\n",
       " 'Ps_150-1.2.3.4.5.6',\n",
       " 'Ps_150-1.2.3.4.5.6',\n",
       " 'Ps_150-1.2.3.4.5.6',\n",
       " 'Ps_150-1.2.3.4.5.6',\n",
       " 'Ps_150-1.2.3.4.5.6',\n",
       " 'Ps_150-1.2.3.4.5.6',\n",
       " 'Ps_150-1.2.3.4.5.6',\n",
       " 'Ps_150-1.2.3.4.5.6',\n",
       " 'Ps_150-1.2.3.4.5.6',\n",
       " 'Ps_150-1.2.3.4.5.6',\n",
       " 'Ps_150-1.2.3.4.5.6',\n",
       " 'Ps_150-1.2.3.4.5.6',\n",
       " 'E080508',\n",
       " 'E080508',\n",
       " 'E080508',\n",
       " 'Dtn_6-4',\n",
       " 'Dtn_6-4',\n",
       " 'Dtn_6-4',\n",
       " 'Dtn_6-4',\n",
       " 'Dtn_6-4',\n",
       " 'Dtn_6-4',\n",
       " 'Dtn_6-4',\n",
       " 'Dtn_6-4',\n",
       " 'Dtn_10-17',\n",
       " 'Dtn_10-17',\n",
       " 'Dtn_10-17',\n",
       " 'Dtn_10-17',\n",
       " 'Dtn_10-17',\n",
       " 'Dtn_10-17',\n",
       " 'Dtn_10-17',\n",
       " 'Dtn_10-17',\n",
       " 'Dtn_4-35',\n",
       " 'Dtn_4-35',\n",
       " 'Ps_89-9',\n",
       " 'Ps_89-9',\n",
       " 'Ps_89-9',\n",
       " 'Ps_89-9',\n",
       " 'Ps_89-9',\n",
       " 'Ps_89-9',\n",
       " 'Ps_89-9',\n",
       " 'Ps_89-9',\n",
       " 'Ps_89-9',\n",
       " 'Ps_81-2',\n",
       " 'Ps_81-2',\n",
       " 'Ps_81-2',\n",
       " 'Ps_81-2',\n",
       " 'Ps_81-2',\n",
       " 'Ps_150-1.2',\n",
       " 'Ps_150-1.2',\n",
       " 'Ps_150-1.2',\n",
       " 'Ps_150-1.2',\n",
       " 'Ps_150-1.2',\n",
       " 'Ps_150-1.2',\n",
       " 'Ps_150-1.2',\n",
       " 'Ps_150-1.2',\n",
       " 'Ps_150-1.2',\n",
       " 'Ps_150-1.2',\n",
       " 'Ps_150-1.2',\n",
       " 'Ps_150-1.2',\n",
       " 'Ps_150-2',\n",
       " 'Ps_150-2',\n",
       " 'Ps_150-2',\n",
       " 'Ps_150-2',\n",
       " 'Ps_150-2',\n",
       " 'Ps_150-2',\n",
       " 'Ps_150-3.4.5',\n",
       " 'Ps_150-3.4.5',\n",
       " 'Ps_150-3.4.5',\n",
       " 'Ps_150-3.4.5',\n",
       " 'Ps_150-3.4.5',\n",
       " 'Ps_150-3.4.5',\n",
       " 'Ps_150-3.4.5',\n",
       " 'Ps_150-3.4.5',\n",
       " 'Ps_150-3.4.5',\n",
       " 'Ps_150-3.4.5',\n",
       " 'Ps_150-3.4.5',\n",
       " 'Ps_150-3.4.5',\n",
       " 'Ps_150-3.4.5',\n",
       " 'Ps_150-3.4.5',\n",
       " 'Ps_150-3.4.5',\n",
       " 'Ps_150-3.4.5',\n",
       " 'Ps_150-3.4.5',\n",
       " 'Ps_150-3.4.5',\n",
       " 'Ps_150-3.4.5',\n",
       " 'Ps_150-3.4.5',\n",
       " 'Ps_150-3.4.5',\n",
       " 'Ps_150-3.4.5',\n",
       " 'Ps_150-3.4.5',\n",
       " 'Ps_150-3.4.5',\n",
       " 'Ps_150-3.4.5',\n",
       " 'Ps_150-3.4.5',\n",
       " 'Ps_150-3.4.5',\n",
       " 'Ps_150-3.4.5',\n",
       " 'Ps_150-3.4.5',\n",
       " 'Ps_150-3.4.5',\n",
       " 'Ps_150-3.4.5',\n",
       " 'Ps_150-3.4.5',\n",
       " 'E080222',\n",
       " 'E080222',\n",
       " 'E080222',\n",
       " 'E080222',\n",
       " 'E080222',\n",
       " 'E080222',\n",
       " 'E080222',\n",
       " 'E080222',\n",
       " 'E080222',\n",
       " 'E080222',\n",
       " 'E080222',\n",
       " 'E080222',\n",
       " 'E080222',\n",
       " 'E080222',\n",
       " 'E080222',\n",
       " 'E080222',\n",
       " 'E080222',\n",
       " 'E080222',\n",
       " 'E080222',\n",
       " 'E080222',\n",
       " 'E080222',\n",
       " 'E080222',\n",
       " 'E080222',\n",
       " 'E080222',\n",
       " 'E080222',\n",
       " 'E080222',\n",
       " 'E080222',\n",
       " 'E080222',\n",
       " 'E080222',\n",
       " 'E080222',\n",
       " 'E080222',\n",
       " 'E080222',\n",
       " 'E080222',\n",
       " 'E080222',\n",
       " 'E080222',\n",
       " 'E080222',\n",
       " 'E080222',\n",
       " 'E080222',\n",
       " 'E080222',\n",
       " 'E080222',\n",
       " 'E080222',\n",
       " 'E080222',\n",
       " 'E080222',\n",
       " 'E080222',\n",
       " 'E080222',\n",
       " 'E080222',\n",
       " 'E080222',\n",
       " 'E080222',\n",
       " 'Ps_150-1',\n",
       " 'Ps_150-1',\n",
       " 'Ps_150-1',\n",
       " 'Ps_150-1',\n",
       " 'Ps_150-1',\n",
       " 'Ps_150-1',\n",
       " 'Ex_20-24',\n",
       " 'Ex_20-24',\n",
       " 'Ex_20-24',\n",
       " 'Ex_20-24',\n",
       " 'Ex_20-24',\n",
       " 'Ex_20-24',\n",
       " 'Ex_20-24',\n",
       " 'Ps_150-6',\n",
       " 'Ps_150-6',\n",
       " 'Ps_150-6',\n",
       " 'Ps_150-6',\n",
       " 'Ps_150-6',\n",
       " 'Ps_150-6',\n",
       " 'Ps_150-6',\n",
       " 'E080512',\n",
       " 'E080512',\n",
       " 'E080512',\n",
       " 'E080512',\n",
       " 'E080512',\n",
       " 'E080512',\n",
       " 'E080512',\n",
       " 'E080512',\n",
       " 'E080512',\n",
       " 'E080512',\n",
       " 'E080512',\n",
       " 'E080512',\n",
       " 'E080512',\n",
       " 'E080512',\n",
       " 'E080512',\n",
       " 'E080512',\n",
       " 'E080512',\n",
       " 'E080512',\n",
       " 'E080512',\n",
       " 'E080512',\n",
       " 'E090810',\n",
       " 'E080512',\n",
       " 'E090810',\n",
       " 'E080512',\n",
       " 'E090810',\n",
       " 'E080512',\n",
       " 'E090810',\n",
       " 'E080512',\n",
       " 'E080512',\n",
       " 'E080512',\n",
       " 'E080512',\n",
       " 'E080512',\n",
       " 'E090810',\n",
       " 'E080512',\n",
       " 'E090810',\n",
       " 'E080512',\n",
       " 'E090810',\n",
       " 'E080512',\n",
       " 'E090810',\n",
       " 'E080512',\n",
       " 'E090810',\n",
       " 'E080512',\n",
       " 'E090810',\n",
       " 'E080512',\n",
       " 'E090810',\n",
       " 'E080512',\n",
       " 'E090810',\n",
       " 'E080512',\n",
       " 'E080512',\n",
       " 'E080512',\n",
       " 'E080512',\n",
       " 'E080512',\n",
       " 'E080512',\n",
       " 'E080512',\n",
       " 'E080512',\n",
       " 'E080512',\n",
       " 'E080512',\n",
       " 'E080512',\n",
       " 'E080512',\n",
       " 'E080512',\n",
       " 'E080512',\n",
       " 'E080512',\n",
       " 'E080512',\n",
       " 'E080512',\n",
       " 'E080512',\n",
       " 'E080512',\n",
       " 'E080512',\n",
       " 'E080512',\n",
       " 'E080512',\n",
       " 'E080512',\n",
       " 'E080512',\n",
       " 'E080512',\n",
       " 'E080512',\n",
       " 'E080512',\n",
       " 'E080512',\n",
       " 'E080512',\n",
       " 'E080512',\n",
       " 'E080512',\n",
       " 'E080512',\n",
       " 'E080512',\n",
       " 'E080512',\n",
       " 'E080512',\n",
       " 'E080512',\n",
       " 'E080512',\n",
       " 'E080512',\n",
       " 'E080512',\n",
       " 'E080512',\n",
       " 'E080512',\n",
       " 'E080512',\n",
       " 'E080512',\n",
       " 'E080512',\n",
       " 'E080512',\n",
       " 'E080512',\n",
       " 'E080512',\n",
       " 'E080512',\n",
       " 'E080512',\n",
       " 'E080512',\n",
       " 'E080512',\n",
       " 'E080512',\n",
       " 'E080512',\n",
       " 'E080512',\n",
       " 'E080512',\n",
       " 'E080512',\n",
       " 'E080512',\n",
       " 'E080512',\n",
       " 'E080512',\n",
       " 'E080512',\n",
       " 'Gen_4-21',\n",
       " 'Gen_4-21',\n",
       " 'E080512',\n",
       " 'E080512',\n",
       " 'E080512',\n",
       " 'E080512',\n",
       " 'E080512',\n",
       " 'E080512',\n",
       " 'E080512',\n",
       " 'E080512',\n",
       " 'E080512',\n",
       " 'E080512',\n",
       " 'E080512',\n",
       " 'E080512',\n",
       " 'E080512',\n",
       " 'E080512',\n",
       " 'E080512',\n",
       " 'E080512',\n",
       " 'E080512',\n",
       " 'E080512',\n",
       " 'E080512',\n",
       " 'E080512',\n",
       " 'E080512',\n",
       " 'E080512',\n",
       " 'E080512',\n",
       " 'E080512',\n",
       " 'E080512',\n",
       " 'E080512',\n",
       " 'E080512',\n",
       " 'E080512',\n",
       " 'E080512',\n",
       " 'E080512',\n",
       " 'E080512',\n",
       " 'E080512',\n",
       " 'E080512',\n",
       " 'E080512',\n",
       " 'E080512',\n",
       " 'E080512',\n",
       " 'E080512',\n",
       " 'E080512',\n",
       " 'E080512',\n",
       " 'E080512',\n",
       " 'E080512',\n",
       " 'E080512',\n",
       " 'E080512',\n",
       " 'E080512',\n",
       " 'E080512',\n",
       " 'E080512',\n",
       " 'E080512',\n",
       " 'E080512',\n",
       " 'E080512',\n",
       " 'E080512',\n",
       " 'E080512',\n",
       " 'E080512',\n",
       " 'E080512',\n",
       " 'E080512',\n",
       " 'E080512',\n",
       " 'E080512',\n",
       " 'E080512',\n",
       " 'E080512',\n",
       " 'E080512',\n",
       " 'E080512',\n",
       " 'Ex_15-20',\n",
       " 'Ex_15-20',\n",
       " 'Ex_15-20',\n",
       " 'Ex_15-20',\n",
       " 'Num_10-10',\n",
       " 'Num_10-10',\n",
       " 'Num_10-10',\n",
       " 'Num_10-10',\n",
       " 'Num_10-10',\n",
       " 'Num_10-10',\n",
       " 'Num_10-10',\n",
       " 'Num_10-10',\n",
       " 'Num_10-10',\n",
       " 'Num_10-10',\n",
       " 'Num_10-10',\n",
       " 'Num_10-10',\n",
       " 'Num_10-10',\n",
       " 'Num_10-10',\n",
       " 'Num_10-10',\n",
       " 'Num_10-10',\n",
       " 'Num_10-10',\n",
       " 'Ps_81-3.4.5',\n",
       " 'Ps_81-3.4.5',\n",
       " 'Ps_81-3.4.5',\n",
       " 'Ps_81-3.4.5',\n",
       " 'Ps_81-3.4.5',\n",
       " 'Ps_81-3.4.5',\n",
       " 'Ps_81-3.4.5',\n",
       " 'Ps_81-3.4.5',\n",
       " 'Ps_81-3.4.5',\n",
       " 'Ps_81-3.4.5',\n",
       " 'Ps_81-3.4.5',\n",
       " 'Ps_81-3.4.5',\n",
       " 'Ps_81-3.4.5',\n",
       " 'Ps_81-3.4.5',\n",
       " 'Ps_81-3.4.5',\n",
       " 'Ps_81-3.4.5',\n",
       " 'Ps_81-3.4.5',\n",
       " 'Ps_81-3.4.5',\n",
       " 'Ps_81-3.4.5',\n",
       " 'Ps_81-3.4.5',\n",
       " 'Ps_81-5',\n",
       " 'Ps_81-5',\n",
       " 'Ps_81-5',\n",
       " 'Ps_81-5',\n",
       " '2Sam_6-15',\n",
       " '2Sam_6-15',\n",
       " '2Sam_6-15',\n",
       " '2Sam_6-15',\n",
       " '1Chr_24-5',\n",
       " '1Chr_24-5',\n",
       " '1Chr_24-5',\n",
       " '1Chr_24-5',\n",
       " '1Chr_26.1',\n",
       " '1Chr_26.1',\n",
       " '1Chr_26.1',\n",
       " '1Chr_26-1.7',\n",
       " '1Chr_26-1.7',\n",
       " '1Chr_26-1.7',\n",
       " '1Chr_26-1.7',\n",
       " '1Chr_26-1.7',\n",
       " 'E080282',\n",
       " 'E080282',\n",
       " 'E080282',\n",
       " 'E080282',\n",
       " 'E080282',\n",
       " 'E080282',\n",
       " 'E080282',\n",
       " 'E080282',\n",
       " 'E080282',\n",
       " 'E080282',\n",
       " 'E080282',\n",
       " 'E080282',\n",
       " 'E080282',\n",
       " 'E080282',\n",
       " 'E080282',\n",
       " 'E080282',\n",
       " 'E080282',\n",
       " 'E080282',\n",
       " '1Chr_26-7',\n",
       " '1Chr_26-7',\n",
       " '1Chr_26-7',\n",
       " '1Chr_26-7',\n",
       " 'Ps_150',\n",
       " 'Ps_33',\n",
       " 'Ps_81',\n",
       " 'Ps_96',\n",
       " 'Ps_98',\n",
       " 'Ps_149',\n",
       " 'Ps_149',\n",
       " '2Chr_5-12',\n",
       " '2Chr_5-12',\n",
       " '2Chr_5-12',\n",
       " '2Chr_5-12',\n",
       " '2Chr_5-12',\n",
       " '2Chr_5-12',\n",
       " '2Chr_5-12',\n",
       " '2Chr_5-12',\n",
       " '2Chr_5-12',\n",
       " '2Chr_5-12',\n",
       " '2Chr_5-12',\n",
       " '2Chr_5-12',\n",
       " '2Chr_5-12',\n",
       " '2Chr_5-12',\n",
       " '2Chr_5-12',\n",
       " '2Chr_5-12',\n",
       " '2Chr_5-12',\n",
       " '2Chr_5-12',\n",
       " '2Chr_5-12',\n",
       " '2Chr_7-6',\n",
       " '2Chr_7-6',\n",
       " '2Chr_7-6',\n",
       " '2Chr_7-6',\n",
       " '2Chr_8-14',\n",
       " '2Chr_8-14',\n",
       " '2Chr_8-14',\n",
       " '2Chr_8-14',\n",
       " 'E080222',\n",
       " 'E080222',\n",
       " 'E080222',\n",
       " 'E080222',\n",
       " 'E080222',\n",
       " 'E080222',\n",
       " 'E080222',\n",
       " 'E080222',\n",
       " 'E080222',\n",
       " 'E080222',\n",
       " 'E080222',\n",
       " 'E080222',\n",
       " 'E080222',\n",
       " 'E080222',\n",
       " 'E080222',\n",
       " 'E080222',\n",
       " 'E080222',\n",
       " 'Esra_2-41',\n",
       " 'E080222',\n",
       " 'Esra_2-41',\n",
       " 'E080222',\n",
       " 'Esra_2-41',\n",
       " 'E080222',\n",
       " 'E080222',\n",
       " 'E080222',\n",
       " 'Esra_2-65',\n",
       " 'E080222',\n",
       " 'Esra_2-65',\n",
       " 'E080222',\n",
       " 'E080222',\n",
       " 'E080222',\n",
       " 'E080222',\n",
       " 'E080222',\n",
       " 'E080222',\n",
       " 'E080222',\n",
       " 'E080222',\n",
       " 'E080222',\n",
       " 'E080222',\n",
       " 'E080222',\n",
       " 'E080222',\n",
       " 'E080222',\n",
       " 'E080222',\n",
       " 'E080222',\n",
       " 'E080222',\n",
       " 'E080222',\n",
       " 'E080222',\n",
       " 'E080222',\n",
       " 'E080222',\n",
       " 'Ps_81-5',\n",
       " 'Ps_81-5',\n",
       " 'Ps_81-5',\n",
       " 'Ps_81-5',\n",
       " 'Ps_81-5',\n",
       " 'Ps_81-5',\n",
       " 'Ps_81-5',\n",
       " 'Ps_81-5',\n",
       " 'Ps_81-5',\n",
       " 'Ps_81-5',\n",
       " 'Ps_81-5',\n",
       " 'Ps_81-5',\n",
       " '1Kor_14-40',\n",
       " '1Kor_14-40',\n",
       " '1Kor_14-40',\n",
       " '1Kor_14-40',\n",
       " 'E080378',\n",
       " 'E080378',\n",
       " 'E080378',\n",
       " 'E080378',\n",
       " 'E080378',\n",
       " 'E080378',\n",
       " 'E080378',\n",
       " 'E080378',\n",
       " 'E080378',\n",
       " 'E080378',\n",
       " 'E080378',\n",
       " 'E080378',\n",
       " 'E080378',\n",
       " 'E080378',\n",
       " 'E080378',\n",
       " 'E080378',\n",
       " 'E080378',\n",
       " 'E080378',\n",
       " 'E080378',\n",
       " 'E080378',\n",
       " 'E080378',\n",
       " 'E080378',\n",
       " 'E080378',\n",
       " 'E080378',\n",
       " 'E080378',\n",
       " 'E080378',\n",
       " 'E080378',\n",
       " 'E080378',\n",
       " 'E080378',\n",
       " 'E080518',\n",
       " 'E090600',\n",
       " 'E090600',\n",
       " 'E080378',\n",
       " 'E080378',\n",
       " 'E080378',\n",
       " 'E080378',\n",
       " 'E080378',\n",
       " 'E080378',\n",
       " 'E080378',\n",
       " 'E080378',\n",
       " 'E080378',\n",
       " 'E080378',\n",
       " 'E080378',\n",
       " 'E080378',\n",
       " 'E080378',\n",
       " 'E080378',\n",
       " 'E080378',\n",
       " 'E080378',\n",
       " 'E080378',\n",
       " 'E080378',\n",
       " 'E080378',\n",
       " 'E080378',\n",
       " 'E080378',\n",
       " 'E080378',\n",
       " 'E080378',\n",
       " 'E080378',\n",
       " 'E080378',\n",
       " 'E080378',\n",
       " 'E080378',\n",
       " 'E080378',\n",
       " 'E080378',\n",
       " 'E080378',\n",
       " 'E080378',\n",
       " 'E080378',\n",
       " 'E080378',\n",
       " 'E080378',\n",
       " 'E080378',\n",
       " 'E080378',\n",
       " 'E080517',\n",
       " 'E080517',\n",
       " 'E080517',\n",
       " 'E080517',\n",
       " 'E080517',\n",
       " 'E080517',\n",
       " 'E080517',\n",
       " 'E080517',\n",
       " 'E080517',\n",
       " 'E080517',\n",
       " 'E080517',\n",
       " 'E080517',\n",
       " 'E080517',\n",
       " 'E080517',\n",
       " 'E080517',\n",
       " 'E080517',\n",
       " 'E080517',\n",
       " 'E080517',\n",
       " 'E080517',\n",
       " 'E080517',\n",
       " 'E080517',\n",
       " 'E080517',\n",
       " 'E080517',\n",
       " 'E080378',\n",
       " 'E080378',\n",
       " 'E080378',\n",
       " 'E080378',\n",
       " 'E080378',\n",
       " 'E080378',\n",
       " 'E080378',\n",
       " 'E080378',\n",
       " 'E080378',\n",
       " 'E080378',\n",
       " 'E080378',\n",
       " 'E080378',\n",
       " 'E080378',\n",
       " 'E080378',\n",
       " 'E080378',\n",
       " 'E080378',\n",
       " 'E080378',\n",
       " 'E080522',\n",
       " 'E080522',\n",
       " 'E080522',\n",
       " 'E080522',\n",
       " 'E080522',\n",
       " 'E080522',\n",
       " 'E080522',\n",
       " 'E080522',\n",
       " 'E080522',\n",
       " 'E080522',\n",
       " 'E080522',\n",
       " 'E080522',\n",
       " 'E080522',\n",
       " 'E080522',\n",
       " 'E080522',\n",
       " 'E080522',\n",
       " 'E080522',\n",
       " 'E080522',\n",
       " 'E080522',\n",
       " 'E080522',\n",
       " 'E080522',\n",
       " 'E080522',\n",
       " 'E080522',\n",
       " 'E080522',\n",
       " 'E080522',\n",
       " 'E080522',\n",
       " 'E080522',\n",
       " 'E080522',\n",
       " 'E080522',\n",
       " 'E080522',\n",
       " '2Kön_3-15',\n",
       " '2Kön_3-15',\n",
       " '2Kön_3-15',\n",
       " '2Kön_3-15',\n",
       " '2Kön_3-15',\n",
       " '2Kön_3-15',\n",
       " '2Kön_3-15',\n",
       " '2Kön_3-15',\n",
       " '2Kön_3-15',\n",
       " '2Kön_3-15',\n",
       " '2Kön_3-15',\n",
       " '2Kön_3-15',\n",
       " '2Kön_3-15',\n",
       " '2Kön_3-15',\n",
       " '2Kön_3-15',\n",
       " '2Kön_3-15',\n",
       " '2Kön_3-15',\n",
       " '2Kön_3-15',\n",
       " '2Kön_3-15',\n",
       " '2Kön_3-15',\n",
       " 'Ps_57-9',\n",
       " 'Ps_57-9',\n",
       " 'Ps_57-9',\n",
       " 'Ps_57-9',\n",
       " 'Ps_57-9',\n",
       " '2Sam_6-5',\n",
       " '2Sam_6-5',\n",
       " '2Sam_6-5',\n",
       " '2Sam_6-5',\n",
       " 'Ps_150',\n",
       " 'Ps_81',\n",
       " 'Ps_81',\n",
       " '1Sam_16-23',\n",
       " '1Sam_16-23',\n",
       " '1Sam_16-23',\n",
       " '1Sam_16-23',\n",
       " '1Sam_16-23',\n",
       " '1Sam_16-23',\n",
       " '1Sam_16-23',\n",
       " '1Sam_16-23',\n",
       " '1Sam_16-23',\n",
       " '1Sam_16-23',\n",
       " '1Sam_16-23',\n",
       " '1Sam_16-23',\n",
       " '1Sam_16-23',\n",
       " '1Sam_16-23',\n",
       " '1Sam_16-23',\n",
       " '1Sam_16-23',\n",
       " '1Sam_16-23',\n",
       " '1Sam_16-23',\n",
       " '1Sam_16-23',\n",
       " '1Sam_16-23',\n",
       " '1Sam_16-23',\n",
       " '1Sam_16-23',\n",
       " '1Sam_16-23',\n",
       " '1Sam_16-23',\n",
       " '1Sam_16-23',\n",
       " '1Sam_16-23',\n",
       " '1Sam_16-23',\n",
       " '1Sam_16-23',\n",
       " '1Sam_16-23',\n",
       " '1Sam_16-23',\n",
       " '1Sam_16-23',\n",
       " '1Sam_16-23',\n",
       " 'E080378',\n",
       " 'E080378',\n",
       " 'E080378',\n",
       " 'E080378',\n",
       " 'E080378',\n",
       " 'E080378',\n",
       " 'E080378',\n",
       " 'E080378',\n",
       " 'E080378',\n",
       " 'E080378',\n",
       " 'E080378',\n",
       " 'E080378',\n",
       " 'E080378',\n",
       " 'E080378',\n",
       " 'E080378',\n",
       " 'E080378',\n",
       " 'E080378',\n",
       " 'E080378',\n",
       " 'E080378',\n",
       " 'E080378',\n",
       " 'E080378',\n",
       " 'E080378',\n",
       " 'E080378',\n",
       " 'E080378',\n",
       " 'E080378',\n",
       " 'E080378',\n",
       " 'E080378',\n",
       " 'E080378',\n",
       " 'E080378',\n",
       " 'E080378',\n",
       " 'E080378',\n",
       " 'E080378',\n",
       " 'E080378',\n",
       " 'E080378',\n",
       " 'E080378',\n",
       " 'E080378',\n",
       " 'E080378',\n",
       " 'E080378',\n",
       " 'E080378',\n",
       " 'E080378',\n",
       " 'E080378',\n",
       " 'E080378',\n",
       " 'E080378',\n",
       " 'E080378',\n",
       " 'E080378',\n",
       " 'E080378',\n",
       " 'E080378',\n",
       " 'E080378',\n",
       " 'E080378',\n",
       " 'E080378',\n",
       " 'E080183',\n",
       " 'E080183',\n",
       " 'E080183',\n",
       " 'E080183',\n",
       " 'E080183',\n",
       " 'E080183',\n",
       " 'E080183',\n",
       " 'E080183',\n",
       " 'E080183',\n",
       " 'E080183',\n",
       " 'E080183',\n",
       " 'E080183',\n",
       " 'E080183',\n",
       " 'E080183',\n",
       " 'E080183',\n",
       " 'E080380',\n",
       " 'E080380',\n",
       " 'E080380',\n",
       " 'E080380',\n",
       " 'E080380',\n",
       " 'E080380',\n",
       " 'E080380',\n",
       " 'E080380',\n",
       " 'E080380',\n",
       " 'E080523',\n",
       " 'E080523',\n",
       " 'E080523',\n",
       " 'E080523',\n",
       " 'E080523',\n",
       " 'E080523',\n",
       " 'E080523',\n",
       " 'E080523',\n",
       " 'E080523',\n",
       " 'E080523',\n",
       " 'E080523',\n",
       " 'E080523',\n",
       " 'E080523',\n",
       " 'E080523',\n",
       " 'E080523',\n",
       " 'E080523',\n",
       " 'E080523',\n",
       " 'E080523',\n",
       " 'E080523',\n",
       " 'E080523',\n",
       " 'E080523',\n",
       " 'E080523',\n",
       " 'E080523',\n",
       " 'E080523',\n",
       " 'E080523',\n",
       " 'E080523',\n",
       " 'E080523',\n",
       " 'E080523',\n",
       " 'E080523',\n",
       " 'E080523',\n",
       " 'E080523',\n",
       " 'E080523',\n",
       " 'E080523',\n",
       " 'E080523',\n",
       " 'E080523',\n",
       " 'E080523',\n",
       " 'E080523',\n",
       " 'E080523',\n",
       " 'E080523',\n",
       " 'E080523',\n",
       " 'E080523',\n",
       " 'E080523',\n",
       " 'E080523',\n",
       " 'E080523',\n",
       " 'E080523',\n",
       " 'E080523',\n",
       " 'E080523',\n",
       " 'E080523',\n",
       " 'E080523',\n",
       " 'E080523',\n",
       " 'E080523',\n",
       " 'E080523',\n",
       " 'E080523',\n",
       " 'E080523',\n",
       " 'E080523',\n",
       " 'E080523',\n",
       " 'E080523',\n",
       " 'E080523',\n",
       " 'E080523',\n",
       " 'E080523',\n",
       " 'E080523',\n",
       " 'E080523',\n",
       " 'E080523',\n",
       " 'E080523',\n",
       " 'E080523',\n",
       " 'E080222',\n",
       " 'E080222',\n",
       " 'E080222',\n",
       " 'E080222',\n",
       " 'E080222',\n",
       " 'E080222',\n",
       " 'E080222',\n",
       " 'E080222',\n",
       " 'E080222',\n",
       " 'E080222',\n",
       " 'E080222',\n",
       " 'E080222',\n",
       " 'E080222',\n",
       " 'E080222',\n",
       " 'E080222',\n",
       " 'E080222',\n",
       " 'E080222',\n",
       " 'E080222',\n",
       " 'E080222',\n",
       " 'E080223',\n",
       " 'E080223',\n",
       " 'E080223',\n",
       " 'E080223',\n",
       " 'E080223',\n",
       " 'E080223',\n",
       " 'E080223',\n",
       " 'E080223',\n",
       " 'E080223',\n",
       " 'E080223',\n",
       " 'E080223',\n",
       " 'E080223',\n",
       " 'E080223',\n",
       " 'E080223',\n",
       " 'E080223',\n",
       " 'E080223',\n",
       " 'E080223',\n",
       " 'E080223',\n",
       " 'E080223',\n",
       " 'E080223',\n",
       " 'E080223',\n",
       " 'E080223',\n",
       " 'E080223',\n",
       " 'E080223',\n",
       " 'E080223',\n",
       " 'E080223',\n",
       " 'E080223',\n",
       " 'E080223',\n",
       " 'E080223',\n",
       " 'E080223',\n",
       " 'E080223',\n",
       " 'E080223',\n",
       " 'E080223',\n",
       " 'E080223',\n",
       " 'E080223',\n",
       " 'E080223',\n",
       " 'E080223',\n",
       " 'E080223',\n",
       " 'E080223',\n",
       " 'E080223',\n",
       " 'E080223',\n",
       " 'E080223',\n",
       " 'E080223',\n",
       " 'E080223',\n",
       " 'E080223',\n",
       " 'E080223',\n",
       " 'E080223',\n",
       " 'E080223',\n",
       " 'E080223',\n",
       " 'E080223',\n",
       " 'E080223',\n",
       " 'E080223',\n",
       " 'E080223',\n",
       " 'E080223',\n",
       " 'E080223',\n",
       " 'E080223',\n",
       " 'E080223',\n",
       " 'E080223',\n",
       " 'E080223',\n",
       " 'E080512',\n",
       " 'E080512',\n",
       " 'E080512',\n",
       " 'E080512',\n",
       " 'E080512',\n",
       " 'E080512',\n",
       " 'E080512',\n",
       " 'E080512',\n",
       " 'E080512',\n",
       " ...]"
      ]
     },
     "execution_count": 7,
     "metadata": {},
     "output_type": "execute_result"
    }
   ],
   "source": [
    "all_refs = sum(sermon.reference, [])\n",
    "all_refs"
   ]
  },
  {
   "cell_type": "code",
   "execution_count": 8,
   "id": "8e2b716a",
   "metadata": {},
   "outputs": [
    {
     "data": {
      "text/plain": [
       "10844"
      ]
     },
     "execution_count": 8,
     "metadata": {},
     "output_type": "execute_result"
    }
   ],
   "source": [
    "len(sermon.words)"
   ]
  },
  {
   "cell_type": "code",
   "execution_count": 9,
   "id": "c155cd44",
   "metadata": {},
   "outputs": [
    {
     "name": "stdout",
     "output_type": "stream",
     "text": [
      "Praetorius, Michael: Syntagmatis Musici Michaelis Praetorii C. Tomus Secundus De Organographia (Wolfenbüttel: 1619) 149\n",
      "Hilarius [Pictaviensis] ; Gillot, Jean: Sancti Hilarii Pictavorvm Episcopi, quotquot extant Opera (Köln: 1617) 65\n",
      "Zwinger, Theodor: Theatrvm Hvmanae Vitae Theodori Zuingeri Bas[isliensis] Tertiatione (Basel: [1586]) 412\n",
      "Plutarch ; Xylander, Wilhelm (Hrsg.): Plutarchi Chaeronensis Moralia, Quae Usurpantur (Frankfurt: 1619) 4\n",
      "Apollonius, Rhodius: ΑΠΟΛΛΩΝΙΟΥ ΤΟΥ ΡΟΔΙΟΥ ΑΡΓΟΝΑΥΤΙΚΑ (Frankfurt am Main: 1546) 1\n",
      "Justinus Martyr: Divi Ivstini, Philosophi Ac Martyris Opera (Basel: 1555) 15\n",
      "Flavius Josephus ; Gelen, Sigmund (Hrsg.) ; Erasmus, Desiderius (Hrsg.): Flavii Iosephi Antiqvitatvm Ivdaicarvm Libri XX (Basel: 1559) 18\n",
      "Praetorius, Michael: Syntagmatis Musici Michaelis Praetorii C. Tomus Primus (Wittenberg: 1615) 232\n",
      "Zwinger, Theodor: Theatrvm Hvmanae Vitae Theodori Zuingeri Bas[isliensis] Tertiatione (Basel: [1586]) 30\n",
      "Universität Wittenberg: Notwendige Antwort/ Auff die im Fürstenthumb Anhalt ohnlangsten außgesprengete hefftige Schrifft (Halle: 1597) 160\n",
      "Calvisius, Seth: Exercitationes Musicae Duae (Leipzig: 1600) 212\n",
      "Universität Wittenberg: Notwendige Antwort/ Auff die im Fürstenthumb Anhalt ohnlangsten außgesprengete hefftige Schrifft (Halle: 1597) 160\n",
      "Universität Wittenberg: Notwendige Antwort/ Auff die im Fürstenthumb Anhalt ohnlangsten außgesprengete hefftige Schrifft (Halle: 1597) 160\n",
      "Giraldi, Giglio Gregorio: Gyraldi Ferrariensis operum quae extant omnium (Basel: 1580) 77\n",
      "Vitruvius ; Rode, August (Hrsg.): Marci Vitruvii Pollionis De architectura libri decem (Berlin: 1800) 1\n",
      "Theodoretus: Beati Theodoreti Episcopi Cyrensis [...] opera omnia, quae ad hunc diem Latine versa sparsim extiterunt (Köln: 1617) 37\n",
      "Horatius Flaccus, Quintus ; Färber, Hans (Übersetzer): Sämtliche Werke (München ; Zürich: 1982) 2\n",
      "Augustinus, Aurelius ; Thimme, Wilhelm (Übers.): Confessiones. Bekenntnisse (Düsseldorf ; Zürich: 2004) 2\n",
      "Basilius Caesariensis: Divi Basilii Magni Archiepiscopi Caesareae Cappadociae Omnia, qvae ad nos extant Opera (Basel: 1566) 9\n",
      "Prediger im Fürstenthumb Anhalt: Erinnerungs Schrifft etlicher vom Adel vnd Stedten An den Durchleuchtigen Hochgebornen Fuersten vnd Herrn Herrn Johann Georgen Fuersten zu Anhalt Graffen zu Ascanien HErrn zu Zerbst vnd Bernburg etc. (Zerbst: 1596) 10\n",
      "Cicero, Marcus Tullius ; Nickel, Rainer (Hrsg.): De legibus. Paradoxa stoicorum (München ; Zürich: 1994) 6\n",
      "Universität Wittenberg: Notwendige Antwort/ Auff die im Fürstenthumb Anhalt ohnlangsten außgesprengete hefftige Schrifft (Halle: 1597) 160\n",
      "Schweigger, Salomon: Ein newe Reyßbeschreibung auß Teutschland Nach Constantinopel und Jerusalem (Nürnberg: 1608) 2\n",
      "Erasmus, Desiderius ; Manuzio, Paolo (Hrsg.): Adagia quaecumque ad hanc diem exierunt (Venedig: 1591) 50\n",
      "Dieterich, Conrad: Vlmische Glocken Predigt (Ulm: 1625) 3\n",
      "Praetorius, Michael: Syntagmatis Musici Michaelis Praetorii C. Tomus Primus (Wittenberg: 1615) 232\n",
      "Calvisius, Seth: Exercitationes Musicae Duae (Leipzig: 1600) 212\n",
      "Praetorius, Michael: Syntagmatis Musici Michaelis Praetorii C. Tomus Primus (Wittenberg: 1615) 232\n",
      "Universität Wittenberg: Notwendige Antwort/ Auff die im Fürstenthumb Anhalt ohnlangsten außgesprengete hefftige Schrifft (Halle: 1597) 160\n"
     ]
    }
   ],
   "source": [
    "for quelle in sermon.literaturzitate:\n",
    "    print(str(quelle[\"item\"]), quelle[\"word_share\"])"
   ]
  },
  {
   "cell_type": "code",
   "execution_count": 10,
   "id": "0f01386f",
   "metadata": {},
   "outputs": [
    {
     "data": {
      "image/png": "[encoded data removed]",
      "text/plain": [
       "<Figure size 640x480 with 1 Axes>"
      ]
     },
     "metadata": {},
     "output_type": "display_data"
    }
   ],
   "source": [
    "# plotting data on chart\n",
    "occurrences = {i:sermon.word_types.count(i) for i in set(sermon.word_types)}\n",
    "\n",
    "labels = []\n",
    "data = []\n",
    "for label, number in occurrences.items():\n",
    "    labels.append(label)\n",
    "    data.append(number)\n",
    "\n",
    "colors = sns.color_palette('pastel')\n",
    "\n",
    "fig, ax = plt.subplots()\n",
    "\n",
    "wedges, texts, autotexts = ax.pie(\n",
    "    data,\n",
    "    labels=labels,\n",
    "    colors=colors,\n",
    "    startangle=90,\n",
    "    autopct='%.0f%%',\n",
    "    wedgeprops=dict(width=0.5)\n",
    ")\n",
    "\n",
    "ax.legend(wedges, labels, title=\"Classes\", loc=\"center left\", bbox_to_anchor=(1, 0, 0.5, 1))\n",
    "plt.show()\n"
   ]
  },
  {
   "cell_type": "code",
   "execution_count": 250,
   "id": "6fa6f74d",
   "metadata": {},
   "outputs": [],
   "source": [
    "from pprint import pprint"
   ]
  },
  {
   "cell_type": "code",
   "execution_count": 25,
   "id": "91f2c149",
   "metadata": {},
   "outputs": [],
   "source": [
    "def generate_quotation_text(words, labels, references):\n",
    "    text = '<!DOCTYPE html>\\n<html lang=\"en\">\\n<head>\\n<meta charset=\"UTF-8\">\\n<meta name=\"viewport\" content=\"width=device-width, initial-scale=1.0\">\\n<title>HTML 5 Boilerplate</title><link rel=\"stylesheet\" href=\"style.css\"></head><body><p>'\n",
    "    for word, label, ref in zip(words, labels, str(references)):\n",
    "        text += f'<span class=\"{label}\" ref=\"{ref}\">{word}</span> '\n",
    "    text += '</p></body></html>'\n",
    "    return text"
   ]
  },
  {
   "cell_type": "code",
   "execution_count": 266,
   "id": "53386349",
   "metadata": {},
   "outputs": [],
   "source": [
    "with open(f'{id}_text_quotes.html', 'w') as f:\n",
    "    f.write(generate_quotation_text(sermon.words, sermon.word_types, sermon.reference))"
   ]
  },
  {
   "cell_type": "code",
   "execution_count": 240,
   "id": "6d31be87",
   "metadata": {},
   "outputs": [
    {
     "name": "stdout",
     "output_type": "stream",
     "text": [
      "[range(10, 20),\n",
      " range(20, 30),\n",
      " range(30, 40),\n",
      " range(40, 50),\n",
      " range(50, 60),\n",
      " range(60, 70),\n",
      " range(70, 75)]\n"
     ]
    }
   ],
   "source": [
    "labels = sermon.word_types\n",
    "\n",
    "def chunks(lst, n):\n",
    "    \"\"\"Yield successive n-sized chunks from lst.\"\"\"\n",
    "    for i in range(0, len(lst), n):\n",
    "        yield lst[i:i + n]\n",
    "\n",
    "pprint.pprint(list(chunks(range(10, 75), 10)))\n"
   ]
  },
  {
   "cell_type": "code",
   "execution_count": 26,
   "id": "e1ba2f62",
   "metadata": {},
   "outputs": [
    {
     "name": "stderr",
     "output_type": "stream",
     "text": [
      "2025-06-21 12:38:56.072 Thread 'MainThread': missing ScriptRunContext! This warning can be ignored when running in bare mode.\n",
      "2025-06-21 12:38:56.072 Thread 'MainThread': missing ScriptRunContext! This warning can be ignored when running in bare mode.\n",
      "2025-06-21 12:38:56.073 Thread 'MainThread': missing ScriptRunContext! This warning can be ignored when running in bare mode.\n"
     ]
    },
    {
     "data": {
      "text/plain": [
       "DeltaGenerator()"
      ]
     },
     "execution_count": 26,
     "metadata": {},
     "output_type": "execute_result"
    }
   ],
   "source": [
    "st.title(\"My Data Analysis App\")\n"
   ]
  },
  {
   "cell_type": "code",
   "execution_count": 27,
   "id": "00b8d44f",
   "metadata": {},
   "outputs": [
    {
     "name": "stderr",
     "output_type": "stream",
     "text": [
      "2025-06-21 12:39:21.580 Thread 'MainThread': missing ScriptRunContext! This warning can be ignored when running in bare mode.\n",
      "2025-06-21 12:39:21.581 Thread 'MainThread': missing ScriptRunContext! This warning can be ignored when running in bare mode.\n",
      "2025-06-21 12:39:21.582 Thread 'MainThread': missing ScriptRunContext! This warning can be ignored when running in bare mode.\n",
      "2025-06-21 12:39:21.582 Thread 'MainThread': missing ScriptRunContext! This warning can be ignored when running in bare mode.\n",
      "2025-06-21 12:39:21.582 Thread 'MainThread': missing ScriptRunContext! This warning can be ignored when running in bare mode.\n"
     ]
    }
   ],
   "source": [
    "st_data = st_folium(map, width=700)"
   ]
  },
  {
   "cell_type": "code",
   "execution_count": null,
   "id": "766557e2",
   "metadata": {},
   "outputs": [
    {
     "data": {
      "application/vnd.plotly.v1+json": {
       "config": {
        "plotlyServerURL": "https://plot.ly"
       },
       "data": [
        {
         "domain": {
          "x": [
           0,
           1
          ],
          "y": [
           0,
           1
          ]
         },
         "hovertemplate": "label=%{label}<br>value=%{value}<extra></extra>",
         "labels": [
          "Praetorius, Michael: Syntagmatis Musici Michaelis Praetorii C. Tomus Secundus De Organographia (Wolfenbüttel: 1619)",
          "Hilarius [Pictaviensis] ; Gillot, Jean: Sancti Hilarii Pictavorvm Episcopi, quotquot extant Opera (Köln: 1617)",
          "Zwinger, Theodor: Theatrvm Hvmanae Vitae Theodori Zuingeri Bas[isliensis] Tertiatione (Basel: [1586])",
          "Plutarch ; Xylander, Wilhelm (Hrsg.): Plutarchi Chaeronensis Moralia, Quae Usurpantur (Frankfurt: 1619)",
          "Apollonius, Rhodius: ΑΠΟΛΛΩΝΙΟΥ ΤΟΥ ΡΟΔΙΟΥ ΑΡΓΟΝΑΥΤΙΚΑ (Frankfurt am Main: 1546)",
          "Justinus Martyr: Divi Ivstini, Philosophi Ac Martyris Opera (Basel: 1555)",
          "Flavius Josephus ; Gelen, Sigmund (Hrsg.) ; Erasmus, Desiderius (Hrsg.): Flavii Iosephi Antiqvitatvm Ivdaicarvm Libri XX (Basel: 1559)",
          "Praetorius, Michael: Syntagmatis Musici Michaelis Praetorii C. Tomus Primus (Wittenberg: 1615)",
          "Zwinger, Theodor: Theatrvm Hvmanae Vitae Theodori Zuingeri Bas[isliensis] Tertiatione (Basel: [1586])",
          "Universität Wittenberg: Notwendige Antwort/ Auff die im Fürstenthumb Anhalt ohnlangsten außgesprengete hefftige Schrifft (Halle: 1597)",
          "Calvisius, Seth: Exercitationes Musicae Duae (Leipzig: 1600)",
          "Universität Wittenberg: Notwendige Antwort/ Auff die im Fürstenthumb Anhalt ohnlangsten außgesprengete hefftige Schrifft (Halle: 1597)",
          "Universität Wittenberg: Notwendige Antwort/ Auff die im Fürstenthumb Anhalt ohnlangsten außgesprengete hefftige Schrifft (Halle: 1597)",
          "Giraldi, Giglio Gregorio: Gyraldi Ferrariensis operum quae extant omnium (Basel: 1580)",
          "Vitruvius ; Rode, August (Hrsg.): Marci Vitruvii Pollionis De architectura libri decem (Berlin: 1800)",
          "Theodoretus: Beati Theodoreti Episcopi Cyrensis [...] opera omnia, quae ad hunc diem Latine versa sparsim extiterunt (Köln: 1617)",
          "Horatius Flaccus, Quintus ; Färber, Hans (Übersetzer): Sämtliche Werke (München ; Zürich: 1982)",
          "Augustinus, Aurelius ; Thimme, Wilhelm (Übers.): Confessiones. Bekenntnisse (Düsseldorf ; Zürich: 2004)",
          "Basilius Caesariensis: Divi Basilii Magni Archiepiscopi Caesareae Cappadociae Omnia, qvae ad nos extant Opera (Basel: 1566)",
          "Prediger im Fürstenthumb Anhalt: Erinnerungs Schrifft etlicher vom Adel vnd Stedten An den Durchleuchtigen Hochgebornen Fuersten vnd Herrn Herrn Johann Georgen Fuersten zu Anhalt Graffen zu Ascanien HErrn zu Zerbst vnd Bernburg etc. (Zerbst: 1596)",
          "Cicero, Marcus Tullius ; Nickel, Rainer (Hrsg.): De legibus. Paradoxa stoicorum (München ; Zürich: 1994)",
          "Universität Wittenberg: Notwendige Antwort/ Auff die im Fürstenthumb Anhalt ohnlangsten außgesprengete hefftige Schrifft (Halle: 1597)",
          "Schweigger, Salomon: Ein newe Reyßbeschreibung auß Teutschland Nach Constantinopel und Jerusalem (Nürnberg: 1608)",
          "Erasmus, Desiderius ; Manuzio, Paolo (Hrsg.): Adagia quaecumque ad hanc diem exierunt (Venedig: 1591)",
          "Dieterich, Conrad: Vlmische Glocken Predigt (Ulm: 1625)",
          "Praetorius, Michael: Syntagmatis Musici Michaelis Praetorii C. Tomus Primus (Wittenberg: 1615)",
          "Calvisius, Seth: Exercitationes Musicae Duae (Leipzig: 1600)",
          "Praetorius, Michael: Syntagmatis Musici Michaelis Praetorii C. Tomus Primus (Wittenberg: 1615)",
          "Universität Wittenberg: Notwendige Antwort/ Auff die im Fürstenthumb Anhalt ohnlangsten außgesprengete hefftige Schrifft (Halle: 1597)"
         ],
         "legendgroup": "",
         "name": "",
         "showlegend": true,
         "text": [
          "",
          "",
          "",
          "",
          "",
          "",
          "",
          "",
          "",
          "",
          "",
          "",
          "",
          "",
          "",
          "",
          "",
          "",
          "",
          "",
          "",
          "",
          "",
          "",
          "",
          "",
          "",
          "",
          ""
         ],
         "textinfo": "text+percent",
         "textposition": "outside",
         "type": "pie",
         "values": {
          "bdata": "lQBBAJwBBAABAA8AEgDoAB4AoADUAKAAoABNAAEAJQACAAIACQAKAAYAoAACADIAAwDoANQA6ACgAA==",
          "dtype": "i2"
         }
        }
       ],
       "layout": {
        "height": 700,
        "legend": {
         "orientation": "h",
         "tracegroupgap": 0,
         "y": -0.1
        },
        "margin": {
         "b": 50,
         "l": 50,
         "r": 50,
         "t": 80
        },
        "template": {
         "data": {
          "bar": [
           {
            "error_x": {
             "color": "#2a3f5f"
            },
            "error_y": {
             "color": "#2a3f5f"
            },
            "marker": {
             "line": {
              "color": "#E5ECF6",
              "width": 0.5
             },
             "pattern": {
              "fillmode": "overlay",
              "size": 10,
              "solidity": 0.2
             }
            },
            "type": "bar"
           }
          ],
          "barpolar": [
           {
            "marker": {
             "line": {
              "color": "#E5ECF6",
              "width": 0.5
             },
             "pattern": {
              "fillmode": "overlay",
              "size": 10,
              "solidity": 0.2
             }
            },
            "type": "barpolar"
           }
          ],
          "carpet": [
           {
            "aaxis": {
             "endlinecolor": "#2a3f5f",
             "gridcolor": "white",
             "linecolor": "white",
             "minorgridcolor": "white",
             "startlinecolor": "#2a3f5f"
            },
            "baxis": {
             "endlinecolor": "#2a3f5f",
             "gridcolor": "white",
             "linecolor": "white",
             "minorgridcolor": "white",
             "startlinecolor": "#2a3f5f"
            },
            "type": "carpet"
           }
          ],
          "choropleth": [
           {
            "colorbar": {
             "outlinewidth": 0,
             "ticks": ""
            },
            "type": "choropleth"
           }
          ],
          "contour": [
           {
            "colorbar": {
             "outlinewidth": 0,
             "ticks": ""
            },
            "colorscale": [
             [
              0,
              "#0d0887"
             ],
             [
              0.1111111111111111,
              "#46039f"
             ],
             [
              0.2222222222222222,
              "#7201a8"
             ],
             [
              0.3333333333333333,
              "#9c179e"
             ],
             [
              0.4444444444444444,
              "#bd3786"
             ],
             [
              0.5555555555555556,
              "#d8576b"
             ],
             [
              0.6666666666666666,
              "#ed7953"
             ],
             [
              0.7777777777777778,
              "#fb9f3a"
             ],
             [
              0.8888888888888888,
              "#fdca26"
             ],
             [
              1,
              "#f0f921"
             ]
            ],
            "type": "contour"
           }
          ],
          "contourcarpet": [
           {
            "colorbar": {
             "outlinewidth": 0,
             "ticks": ""
            },
            "type": "contourcarpet"
           }
          ],
          "heatmap": [
           {
            "colorbar": {
             "outlinewidth": 0,
             "ticks": ""
            },
            "colorscale": [
             [
              0,
              "#0d0887"
             ],
             [
              0.1111111111111111,
              "#46039f"
             ],
             [
              0.2222222222222222,
              "#7201a8"
             ],
             [
              0.3333333333333333,
              "#9c179e"
             ],
             [
              0.4444444444444444,
              "#bd3786"
             ],
             [
              0.5555555555555556,
              "#d8576b"
             ],
             [
              0.6666666666666666,
              "#ed7953"
             ],
             [
              0.7777777777777778,
              "#fb9f3a"
             ],
             [
              0.8888888888888888,
              "#fdca26"
             ],
             [
              1,
              "#f0f921"
             ]
            ],
            "type": "heatmap"
           }
          ],
          "histogram": [
           {
            "marker": {
             "pattern": {
              "fillmode": "overlay",
              "size": 10,
              "solidity": 0.2
             }
            },
            "type": "histogram"
           }
          ],
          "histogram2d": [
           {
            "colorbar": {
             "outlinewidth": 0,
             "ticks": ""
            },
            "colorscale": [
             [
              0,
              "#0d0887"
             ],
             [
              0.1111111111111111,
              "#46039f"
             ],
             [
              0.2222222222222222,
              "#7201a8"
             ],
             [
              0.3333333333333333,
              "#9c179e"
             ],
             [
              0.4444444444444444,
              "#bd3786"
             ],
             [
              0.5555555555555556,
              "#d8576b"
             ],
             [
              0.6666666666666666,
              "#ed7953"
             ],
             [
              0.7777777777777778,
              "#fb9f3a"
             ],
             [
              0.8888888888888888,
              "#fdca26"
             ],
             [
              1,
              "#f0f921"
             ]
            ],
            "type": "histogram2d"
           }
          ],
          "histogram2dcontour": [
           {
            "colorbar": {
             "outlinewidth": 0,
             "ticks": ""
            },
            "colorscale": [
             [
              0,
              "#0d0887"
             ],
             [
              0.1111111111111111,
              "#46039f"
             ],
             [
              0.2222222222222222,
              "#7201a8"
             ],
             [
              0.3333333333333333,
              "#9c179e"
             ],
             [
              0.4444444444444444,
              "#bd3786"
             ],
             [
              0.5555555555555556,
              "#d8576b"
             ],
             [
              0.6666666666666666,
              "#ed7953"
             ],
             [
              0.7777777777777778,
              "#fb9f3a"
             ],
             [
              0.8888888888888888,
              "#fdca26"
             ],
             [
              1,
              "#f0f921"
             ]
            ],
            "type": "histogram2dcontour"
           }
          ],
          "mesh3d": [
           {
            "colorbar": {
             "outlinewidth": 0,
             "ticks": ""
            },
            "type": "mesh3d"
           }
          ],
          "parcoords": [
           {
            "line": {
             "colorbar": {
              "outlinewidth": 0,
              "ticks": ""
             }
            },
            "type": "parcoords"
           }
          ],
          "pie": [
           {
            "automargin": true,
            "type": "pie"
           }
          ],
          "scatter": [
           {
            "fillpattern": {
             "fillmode": "overlay",
             "size": 10,
             "solidity": 0.2
            },
            "type": "scatter"
           }
          ],
          "scatter3d": [
           {
            "line": {
             "colorbar": {
              "outlinewidth": 0,
              "ticks": ""
             }
            },
            "marker": {
             "colorbar": {
              "outlinewidth": 0,
              "ticks": ""
             }
            },
            "type": "scatter3d"
           }
          ],
          "scattercarpet": [
           {
            "marker": {
             "colorbar": {
              "outlinewidth": 0,
              "ticks": ""
             }
            },
            "type": "scattercarpet"
           }
          ],
          "scattergeo": [
           {
            "marker": {
             "colorbar": {
              "outlinewidth": 0,
              "ticks": ""
             }
            },
            "type": "scattergeo"
           }
          ],
          "scattergl": [
           {
            "marker": {
             "colorbar": {
              "outlinewidth": 0,
              "ticks": ""
             }
            },
            "type": "scattergl"
           }
          ],
          "scattermap": [
           {
            "marker": {
             "colorbar": {
              "outlinewidth": 0,
              "ticks": ""
             }
            },
            "type": "scattermap"
           }
          ],
          "scattermapbox": [
           {
            "marker": {
             "colorbar": {
              "outlinewidth": 0,
              "ticks": ""
             }
            },
            "type": "scattermapbox"
           }
          ],
          "scatterpolar": [
           {
            "marker": {
             "colorbar": {
              "outlinewidth": 0,
              "ticks": ""
             }
            },
            "type": "scatterpolar"
           }
          ],
          "scatterpolargl": [
           {
            "marker": {
             "colorbar": {
              "outlinewidth": 0,
              "ticks": ""
             }
            },
            "type": "scatterpolargl"
           }
          ],
          "scatterternary": [
           {
            "marker": {
             "colorbar": {
              "outlinewidth": 0,
              "ticks": ""
             }
            },
            "type": "scatterternary"
           }
          ],
          "surface": [
           {
            "colorbar": {
             "outlinewidth": 0,
             "ticks": ""
            },
            "colorscale": [
             [
              0,
              "#0d0887"
             ],
             [
              0.1111111111111111,
              "#46039f"
             ],
             [
              0.2222222222222222,
              "#7201a8"
             ],
             [
              0.3333333333333333,
              "#9c179e"
             ],
             [
              0.4444444444444444,
              "#bd3786"
             ],
             [
              0.5555555555555556,
              "#d8576b"
             ],
             [
              0.6666666666666666,
              "#ed7953"
             ],
             [
              0.7777777777777778,
              "#fb9f3a"
             ],
             [
              0.8888888888888888,
              "#fdca26"
             ],
             [
              1,
              "#f0f921"
             ]
            ],
            "type": "surface"
           }
          ],
          "table": [
           {
            "cells": {
             "fill": {
              "color": "#EBF0F8"
             },
             "line": {
              "color": "white"
             }
            },
            "header": {
             "fill": {
              "color": "#C8D4E3"
             },
             "line": {
              "color": "white"
             }
            },
            "type": "table"
           }
          ]
         },
         "layout": {
          "annotationdefaults": {
           "arrowcolor": "#2a3f5f",
           "arrowhead": 0,
           "arrowwidth": 1
          },
          "autotypenumbers": "strict",
          "coloraxis": {
           "colorbar": {
            "outlinewidth": 0,
            "ticks": ""
           }
          },
          "colorscale": {
           "diverging": [
            [
             0,
             "#8e0152"
            ],
            [
             0.1,
             "#c51b7d"
            ],
            [
             0.2,
             "#de77ae"
            ],
            [
             0.3,
             "#f1b6da"
            ],
            [
             0.4,
             "#fde0ef"
            ],
            [
             0.5,
             "#f7f7f7"
            ],
            [
             0.6,
             "#e6f5d0"
            ],
            [
             0.7,
             "#b8e186"
            ],
            [
             0.8,
             "#7fbc41"
            ],
            [
             0.9,
             "#4d9221"
            ],
            [
             1,
             "#276419"
            ]
           ],
           "sequential": [
            [
             0,
             "#0d0887"
            ],
            [
             0.1111111111111111,
             "#46039f"
            ],
            [
             0.2222222222222222,
             "#7201a8"
            ],
            [
             0.3333333333333333,
             "#9c179e"
            ],
            [
             0.4444444444444444,
             "#bd3786"
            ],
            [
             0.5555555555555556,
             "#d8576b"
            ],
            [
             0.6666666666666666,
             "#ed7953"
            ],
            [
             0.7777777777777778,
             "#fb9f3a"
            ],
            [
             0.8888888888888888,
             "#fdca26"
            ],
            [
             1,
             "#f0f921"
            ]
           ],
           "sequentialminus": [
            [
             0,
             "#0d0887"
            ],
            [
             0.1111111111111111,
             "#46039f"
            ],
            [
             0.2222222222222222,
             "#7201a8"
            ],
            [
             0.3333333333333333,
             "#9c179e"
            ],
            [
             0.4444444444444444,
             "#bd3786"
            ],
            [
             0.5555555555555556,
             "#d8576b"
            ],
            [
             0.6666666666666666,
             "#ed7953"
            ],
            [
             0.7777777777777778,
             "#fb9f3a"
            ],
            [
             0.8888888888888888,
             "#fdca26"
            ],
            [
             1,
             "#f0f921"
            ]
           ]
          },
          "colorway": [
           "#636efa",
           "#EF553B",
           "#00cc96",
           "#ab63fa",
           "#FFA15A",
           "#19d3f3",
           "#FF6692",
           "#B6E880",
           "#FF97FF",
           "#FECB52"
          ],
          "font": {
           "color": "#2a3f5f"
          },
          "geo": {
           "bgcolor": "white",
           "lakecolor": "white",
           "landcolor": "#E5ECF6",
           "showlakes": true,
           "showland": true,
           "subunitcolor": "white"
          },
          "hoverlabel": {
           "align": "left"
          },
          "hovermode": "closest",
          "mapbox": {
           "style": "light"
          },
          "paper_bgcolor": "white",
          "plot_bgcolor": "#E5ECF6",
          "polar": {
           "angularaxis": {
            "gridcolor": "white",
            "linecolor": "white",
            "ticks": ""
           },
           "bgcolor": "#E5ECF6",
           "radialaxis": {
            "gridcolor": "white",
            "linecolor": "white",
            "ticks": ""
           }
          },
          "scene": {
           "xaxis": {
            "backgroundcolor": "#E5ECF6",
            "gridcolor": "white",
            "gridwidth": 2,
            "linecolor": "white",
            "showbackground": true,
            "ticks": "",
            "zerolinecolor": "white"
           },
           "yaxis": {
            "backgroundcolor": "#E5ECF6",
            "gridcolor": "white",
            "gridwidth": 2,
            "linecolor": "white",
            "showbackground": true,
            "ticks": "",
            "zerolinecolor": "white"
           },
           "zaxis": {
            "backgroundcolor": "#E5ECF6",
            "gridcolor": "white",
            "gridwidth": 2,
            "linecolor": "white",
            "showbackground": true,
            "ticks": "",
            "zerolinecolor": "white"
           }
          },
          "shapedefaults": {
           "line": {
            "color": "#2a3f5f"
           }
          },
          "ternary": {
           "aaxis": {
            "gridcolor": "white",
            "linecolor": "white",
            "ticks": ""
           },
           "baxis": {
            "gridcolor": "white",
            "linecolor": "white",
            "ticks": ""
           },
           "bgcolor": "#E5ECF6",
           "caxis": {
            "gridcolor": "white",
            "linecolor": "white",
            "ticks": ""
           }
          },
          "title": {
           "x": 0.05
          },
          "xaxis": {
           "automargin": true,
           "gridcolor": "white",
           "linecolor": "white",
           "ticks": "",
           "title": {
            "standoff": 15
           },
           "zerolinecolor": "white",
           "zerolinewidth": 2
          },
          "yaxis": {
           "automargin": true,
           "gridcolor": "white",
           "linecolor": "white",
           "ticks": "",
           "title": {
            "standoff": 15
           },
           "zerolinecolor": "white",
           "zerolinewidth": 2
          }
         }
        },
        "title": {
         "text": "Verwendete Zitate",
         "x": 0.5
        },
        "width": 700
       }
      }
     },
     "metadata": {},
     "output_type": "display_data"
    }
   ],
   "source": [
    "literaturliste = \"\"\n",
    "lit_labels = []\n",
    "lit_data = []\n",
    "for quelle in sermon.literaturzitate:\n",
    "    literaturliste += f\"**Werk:** {str(quelle[\"item\"])} **Anteil am Gesamttext:** {quelle[\"word_share\"]/len(sermon.words)}\\n\\n\"\n",
    "    lit_labels.append(str(quelle[\"item\"]))\n",
    "    lit_data.append(quelle[\"word_share\"])\n",
    "\n",
    "custom_labels = [\n",
    "    f\"{label}: {value / len(sermon.words) * 100:.1f}%\" if (value / len(sermon.words) * 100) > 5 else ''\n",
    "    for label, value in zip(lit_labels, lit_data)\n",
    "]\n",
    "\n",
    "fig2 = px.pie(values=lit_data, names=lit_labels, title='Verwendete Zitate')\n",
    "\n",
    "\n",
    "\n",
    "fig2.update_layout(\n",
    "    width=700,\n",
    "    height=700,\n",
    "    margin=dict(t=80, b=50, l=50, r=50),\n",
    "    title_x=0.5,  # Center title\n",
    "    legend=dict(\n",
    "        orientation=\"h\",  # horizontal legend\n",
    "        y=-0.1  # push legend below chart\n",
    "    )\n",
    ")\n",
    "\n",
    "fig2.show()"
   ]
  }
 ],
 "metadata": {
  "kernelspec": {
   "display_name": "ma_orgelpredigt",
   "language": "python",
   "name": "python3"
  },
  "language_info": {
   "codemirror_mode": {
    "name": "ipython",
    "version": 3
   },
   "file_extension": ".py",
   "mimetype": "text/x-python",
   "name": "python",
   "nbconvert_exporter": "python",
   "pygments_lexer": "ipython3",
   "version": "3.12.11"
  }
 },
 "nbformat": 4,
 "nbformat_minor": 5
}
